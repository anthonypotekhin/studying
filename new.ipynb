{
 "cells": [
  {
   "cell_type": "code",
   "execution_count": 3,
   "metadata": {},
   "outputs": [
    {
     "ename": "TypeError",
     "evalue": "map() takes 0 positional arguments but 4 were given",
     "output_type": "error",
     "traceback": [
      "\u001b[0;31m---------------------------------------------------------------------------\u001b[0m",
      "\u001b[0;31mTypeError\u001b[0m                                 Traceback (most recent call last)",
      "Cell \u001b[0;32mIn [3], line 8\u001b[0m\n\u001b[1;32m      5\u001b[0m \u001b[39mdef\u001b[39;00m \u001b[39mplus\u001b[39m(a, b, c):\n\u001b[1;32m      6\u001b[0m     \u001b[39mreturn\u001b[39;00m a \u001b[39m+\u001b[39m b \u001b[39m+\u001b[39m c\n\u001b[0;32m----> 8\u001b[0m x \u001b[39m=\u001b[39m \u001b[39mmap\u001b[39;49m(plus, [\u001b[39m1\u001b[39;49m, \u001b[39m2\u001b[39;49m], [\u001b[39m1\u001b[39;49m, \u001b[39m2\u001b[39;49m], [\u001b[39m1\u001b[39;49m, \u001b[39m2\u001b[39;49m] )\n\u001b[1;32m      9\u001b[0m \u001b[39mprint\u001b[39m(\u001b[39mlist\u001b[39m(x))\n",
      "\u001b[0;31mTypeError\u001b[0m: map() takes 0 positional arguments but 4 were given"
     ]
    }
   ],
   "source": [
    "def map():\n",
    "    print(1)\n",
    "    return\n",
    "\n",
    "def plus(a, b, c):\n",
    "    return a + b + c\n",
    "\n",
    "x = map(plus, [1, 2], [1, 2], [1, 2] )\n",
    "print(list(x))\n",
    "\n"
   ]
  },
  {
   "cell_type": "code",
   "execution_count": null,
   "metadata": {},
   "outputs": [],
   "source": []
  }
 ],
 "metadata": {
  "kernelspec": {
   "display_name": "Python 3",
   "language": "python",
   "name": "python3"
  },
  "language_info": {
   "codemirror_mode": {
    "name": "ipython",
    "version": 3
   },
   "file_extension": ".py",
   "mimetype": "text/x-python",
   "name": "python",
   "nbconvert_exporter": "python",
   "pygments_lexer": "ipython3",
   "version": "3.10.7"
  },
  "orig_nbformat": 4,
  "vscode": {
   "interpreter": {
    "hash": "aee8b7b246df8f9039afb4144a1f6fd8d2ca17a180786b69acc140d282b71a49"
   }
  }
 },
 "nbformat": 4,
 "nbformat_minor": 2
}
