{
 "cells": [
  {
   "cell_type": "code",
   "execution_count": 1,
   "id": "6836f753",
   "metadata": {},
   "outputs": [
    {
     "name": "stdout",
     "output_type": "stream",
     "text": [
      "введите а\n",
      " введите b\n",
      " введите с\n",
      "Решение а+b*с\n",
      "7\n"
     ]
    }
   ],
   "source": [
    "print('введите а')\n",
    "a=int(input())\n",
    "print(' введите b')\n",
    "b=int(input())\n",
    "print(' введите с')\n",
    "c=int(input())\n",
    "T=(a+b*int(c))\n",
    "print('Решение а+b*с')\n",
    "print(T)"
   ]
  },
  {
   "cell_type": "code",
   "execution_count": 3,
   "id": "1f74f398",
   "metadata": {},
   "outputs": [
    {
     "name": "stdout",
     "output_type": "stream",
     "text": [
      " Задача: k школьников делят n яблок поровну, неделящийся остаток остается в корзинке\n",
      "введите n\n",
      "20000\n",
      "введите k\n",
      "142\n",
      " Получится\n",
      "140\n",
      "каждому, а\n",
      "120\n",
      "останется в корзинке\n"
     ]
    }
   ],
   "source": [
    "print(' Задача: k школьников делят n яблок поровну, неделящийся остаток остается в корзинке')\n",
    "print('введите n')\n",
    "n=int(input())\n",
    "print('введите k')\n",
    "k=int(input())\n",
    "print(' Получится') \n",
    "print(n//k)\n",
    "print('каждому, а')\n",
    "print(n%k)\n",
    "print('останется в корзинке')"
   ]
  },
  {
   "cell_type": "code",
   "execution_count": 4,
   "id": "acf3bb22",
   "metadata": {},
   "outputs": [
    {
     "name": "stdout",
     "output_type": "stream",
     "text": [
      " Задача: Выяснить, сколько покажут часы с начала суток спустя определенное количество минут N\n",
      "введите N\n",
      "148\n",
      "2 : 28\n"
     ]
    }
   ],
   "source": [
    "print(' Задача: Выяснить, сколько покажут часы с начала суток спустя определенное количество минут N')\n",
    "print('введите N')\n",
    "N=int(input())\n",
    "H=N//60\n",
    "M=N%60\n",
    "print((H),(':'),(M))"
   ]
  },
  {
   "cell_type": "code",
   "execution_count": 3,
   "id": "515cc189",
   "metadata": {},
   "outputs": [
    {
     "name": "stdout",
     "output_type": "stream",
     "text": [
      " Задача: Выяснить, сколько покажут часы с начала суток спустя определенное количество минут N\n",
      "введите N\n",
      "1111\n",
      "18 : 31\n"
     ]
    }
   ],
   "source": [
    "print(' Задача: Выяснить, сколько покажут часы с начала суток спустя определенное количество минут N')\n",
    "print('введите N')\n",
    "N=int(input())\n",
    "t=N//60\n",
    "if t<24: H=t\n",
    "else: H=t-24\n",
    "M=N%60\n",
    "print(H,':',M)"
   ]
  },
  {
   "cell_type": "code",
   "execution_count": 54,
   "id": "c903472d",
   "metadata": {},
   "outputs": [
    {
     "name": "stdout",
     "output_type": "stream",
     "text": [
      "Dima\n",
      "Hello,Dima!\n"
     ]
    }
   ],
   "source": [
    "name = input()\n",
    "print('Hello,' + name + '!')"
   ]
  },
  {
   "cell_type": "code",
   "execution_count": 11,
   "id": "c354e2a8",
   "metadata": {},
   "outputs": [
    {
     "name": "stdout",
     "output_type": "stream",
     "text": [
      "Напишите программу, которая считывает целое число и выводит следующее и предыдущее.\n",
      " введите а\n",
      "0\n",
      "The next number for the number 0 is 1\n",
      "The previous number for the number 0 is -1\n"
     ]
    }
   ],
   "source": [
    "print('Напишите программу, которая считывает целое число и выводит следующее и предыдущее.')\n",
    "print(' введите а')\n",
    "a=int(input())\n",
    "b=(a+1)\n",
    "c=(a-1)\n",
    "print('The next number for the number',int(a),'is',int(b))\n",
    "print('The previous number for the number',int(a),'is',int(c))"
   ]
  },
  {
   "cell_type": "code",
   "execution_count": 28,
   "id": "55012a77",
   "metadata": {},
   "outputs": [
    {
     "name": "stdout",
     "output_type": "stream",
     "text": [
      " задача: В школе решили набрать три новых математических класса. Так как занятия по математике у них проходят в одно и то же время, было решено выделить кабинет для каждого класса и купить в них новые парты. За каждой партой может сидеть не больше двух учеников. Известно количество учащихся в каждом из трёх классов. Сколько всего нужно закупить парт чтобы их хватило на всех учеников? Программа получает на вход три натуральных числа: количество учащихся в каждом из трех классов.\n",
      " введите кол-во учеников в 1 классе\n",
      "13\n",
      " введите кол-во учеников в 2 классе\n",
      "12\n",
      " введите кол-во учеников в 3 классе\n",
      "16\n",
      " Необходимо 21  парт(ы)\n"
     ]
    }
   ],
   "source": [
    "print(' задача: В школе решили набрать три новых математических класса. Так как занятия по математике у них проходят в одно и то же время, было решено выделить кабинет для каждого класса и купить в них новые парты. За каждой партой может сидеть не больше двух учеников. Известно количество учащихся в каждом из трёх классов. Сколько всего нужно закупить парт чтобы их хватило на всех учеников? Программа получает на вход три натуральных числа: количество учащихся в каждом из трех классов.')\n",
    "print(' введите кол-во учеников в 1 классе')\n",
    "a=int(input())\n",
    "print(' введите кол-во учеников в 2 классе')\n",
    "b=int(input())\n",
    "print(' введите кол-во учеников в 3 классе')\n",
    "c=int(input())\n",
    "t=(a+b+c)%2\n",
    "if t==0: v=(a+b+c)//2\n",
    "else: v=1+(a+b+c)//2\n",
    "print(' Необходимо',v, ' парт(ы)')"
   ]
  },
  {
   "cell_type": "code",
   "execution_count": 30,
   "id": "1eb42bf3",
   "metadata": {},
   "outputs": [
    {
     "name": "stdout",
     "output_type": "stream",
     "text": [
      " Даны два целых числа. Выведите значение наименьшего из них.\n",
      " введите А\n",
      "-12384\n",
      " введите B\n",
      "0\n",
      "-12384\n"
     ]
    }
   ],
   "source": [
    "print(' Даны два целых числа. Выведите значение наименьшего из них.')\n",
    "print(' введите А')\n",
    "A=int(input())\n",
    "print(' введите B')\n",
    "B=int(input())\n",
    "if A>B: print(B)\n",
    "else: print(A)"
   ]
  },
  {
   "cell_type": "code",
   "execution_count": 35,
   "id": "550fd929",
   "metadata": {},
   "outputs": [
    {
     "name": "stdout",
     "output_type": "stream",
     "text": [
      "Для данного числа x выведите значение \n",
      "0\n",
      "0\n"
     ]
    }
   ],
   "source": [
    "print('Для данного числа x выведите значение ')\n",
    "x=int(input())\n",
    "if x>0: print(1)\n",
    "elif x<0: print(-1)\n",
    "else: print(0)"
   ]
  },
  {
   "cell_type": "code",
   "execution_count": 63,
   "id": "96d20c15",
   "metadata": {},
   "outputs": [
    {
     "name": "stdout",
     "output_type": "stream",
     "text": [
      "Заданы две клетки шахматной доски. Если они покрашены в один цвет, то выведите слово YES, а если в разные цвета — то NO. Программа получает на вход четыре числа от 1 до 8 каждое, задающие номер столбца и номер строки сначала для первой клетки, потом для второй клетки.\n",
      " задайте строку для первой клетки\n",
      "1\n",
      " задайте столбец для первой клетки\n",
      "3\n",
      " задайте строку для второй клетки\n",
      "7\n",
      " задайте столбец для второй клетки\n",
      "5\n",
      "YES\n"
     ]
    }
   ],
   "source": [
    "print('Заданы две клетки шахматной доски. Если они покрашены в один цвет, то выведите слово YES, а если в разные цвета — то NO. Программа получает на вход четыре числа от 1 до 8 каждое, задающие номер столбца и номер строки сначала для первой клетки, потом для второй клетки.')\n",
    "print(' задайте строку для первой клетки')\n",
    "a=int(input())\n",
    "print(' задайте столбец для первой клетки')\n",
    "b=int(input())\n",
    "print(' задайте строку для второй клетки')\n",
    "c=int(input())\n",
    "print(' задайте столбец для второй клетки')\n",
    "d=int(input())\n",
    "if a%2==0 and b%2==1: t=1 # клетка 1 белая\n",
    "elif a%2==0 and b%2==0: t=2 # клетка 1 черная\n",
    "elif a%2==1 and b%2==1: t=2 # клетка 1 черная\n",
    "else: t=1 # клетка 1 белая\n",
    "if c%2==0 and d%2==1: p=1 # клетка 1 белая\n",
    "elif c%2==0 and d%2==0: p=2 # клетка 1 черная\n",
    "elif c%2==1 and d%2==1: p=2 # клетка 1 черная\n",
    "else: p=1 # клетка 1 белая \n",
    "if t==p: print('YES')\n",
    "else: print('NO')\n",
    "    \n",
    "    \n",
    "    \n",
    "    "
   ]
  },
  {
   "cell_type": "code",
   "execution_count": 68,
   "id": "47f6c2ca",
   "metadata": {},
   "outputs": [
    {
     "name": "stdout",
     "output_type": "stream",
     "text": [
      "Даны три целых числа. Выведите значение наименьшего из них.\n",
      " первое число\n",
      "342343\n",
      " задайте второе число\n",
      "345453\n",
      " задайте третье число\n",
      "453\n",
      "453\n"
     ]
    }
   ],
   "source": [
    "print('Даны три целых числа. Выведите значение наименьшего из них.')\n",
    "print(' первое число')\n",
    "a=int(input())\n",
    "print(' задайте второе число')\n",
    "b=int(input())\n",
    "print(' задайте третье число')\n",
    "c=int(input())\n",
    "if a<b<c or a<c<b: print(a)\n",
    "elif b<a<c or b<c<a: print(b)\n",
    "else: print(c)"
   ]
  },
  {
   "cell_type": "code",
   "execution_count": 75,
   "id": "013bdcb7",
   "metadata": {},
   "outputs": [
    {
     "name": "stdout",
     "output_type": "stream",
     "text": [
      "Даны три целых числа. Определите, сколько среди них совпадающих. Программа должна вывести одно из чисел: 3 (если все совпадают), 2 (если два совпадает) или 0 (если все числа различны).\n",
      "12\n",
      " задайте второе число\n",
      "12\n",
      " задайте третье число\n",
      "12\n",
      "3\n"
     ]
    }
   ],
   "source": [
    "print('Даны три целых числа. Определите, сколько среди них совпадающих. Программа должна вывести одно из чисел: 3 (если все совпадают), 2 (если два совпадает) или 0 (если все числа различны).')\n",
    "a=int(input())\n",
    "print(' задайте второе число')\n",
    "b=int(input())\n",
    "print(' задайте третье число')\n",
    "c=int(input())\n",
    "if a==b==c: print(3)\n",
    "elif a==b or b==c or a==c : print(2)\n",
    "else: print(0)"
   ]
  },
  {
   "cell_type": "code",
   "execution_count": 79,
   "id": "2380c7ed",
   "metadata": {},
   "outputs": [
    {
     "name": "stdout",
     "output_type": "stream",
     "text": [
      "Шахматная ладья ходит по горизонтали или вертикали. Даны две различные клетки шахматной доски, определите, может ли ладья попасть с первой клетки на вторую одним ходом. Программа получает на вход четыре числа от 1 до 8 каждое, задающие номер столбца и номер строки сначала для первой клетки, потом для второй клетки. Программа должна вывести YES, если из первой клетки ходом ладьи можно попасть во вторую или NO в противном случае.\n",
      " задайте строку для положения ладьи\n",
      "1\n",
      " задайте столбец для положения ладьи\n",
      "6\n",
      " задайте строку для второй клетки\n",
      "3\n",
      " задайте столбец для второй клетки\n",
      "6\n",
      "YES\n"
     ]
    }
   ],
   "source": [
    "print('Шахматная ладья ходит по горизонтали или вертикали. Даны две различные клетки шахматной доски, определите, может ли ладья попасть с первой клетки на вторую одним ходом. Программа получает на вход четыре числа от 1 до 8 каждое, задающие номер столбца и номер строки сначала для первой клетки, потом для второй клетки. Программа должна вывести YES, если из первой клетки ходом ладьи можно попасть во вторую или NO в противном случае.')\n",
    "print(' задайте строку для положения ладьи')\n",
    "a=int(input())\n",
    "print(' задайте столбец для положения ладьи')\n",
    "b=int(input())\n",
    "print(' задайте строку для второй клетки')\n",
    "c=int(input())\n",
    "print(' задайте столбец для второй клетки')\n",
    "d=int(input())\n",
    "if a==c  or b==d: print('YES')\n",
    "else: print('NO')"
   ]
  },
  {
   "cell_type": "code",
   "execution_count": 90,
   "id": "67ca94f7",
   "metadata": {},
   "outputs": [
    {
     "name": "stdout",
     "output_type": "stream",
     "text": [
      "Шахматный конь ходит буквой “Г” — на две клетки по вертикали в любом направлении и на одну клетку по горизонтали, или наоборот. Даны две различные клетки шахматной доски, определите, может ли конь попасть с первой клетки на вторую одним ходом.\n",
      " задайте строку для положения коня\n",
      "7\n",
      " задайте столбец для положения коня\n",
      "7\n",
      " задайте строку для второй клетки\n",
      "8\n",
      " задайте столбец для второй клетки\n",
      "5\n",
      "YES\n"
     ]
    }
   ],
   "source": [
    "print('Шахматный конь ходит буквой “Г” — на две клетки по вертикали в любом направлении и на одну клетку по горизонтали, или наоборот. Даны две различные клетки шахматной доски, определите, может ли конь попасть с первой клетки на вторую одним ходом.')\n",
    "print(' задайте строку для положения коня')\n",
    "a=int(input())\n",
    "print(' задайте столбец для положения коня')\n",
    "b=int(input())\n",
    "print(' задайте строку для второй клетки')\n",
    "c=int(input())\n",
    "print(' задайте столбец для второй клетки')\n",
    "d=int(input())\n",
    "if a<c and b<d:\n",
    "    if ((c==a+2 and d==b+1) or (c==a+1 and d==b+2)): print('YES')\n",
    "    else: print('NO')\n",
    "elif a>c and b<d:\n",
    "    if c==a-2 and d==b+1 or c==a-1 and d==b+2: print('YES')\n",
    "    else: print('NO')\n",
    "elif a<c and b>d:\n",
    "    if c==a+2 and d==b-1 or c==a+1 and d==b-2: print('YES')\n",
    "    else: print('NO')\n",
    "else:\n",
    "    if c==a-2 and d==b-1 or c==a-1 and d==b-2: print('YES')\n",
    "    else: print('NO')\n",
    "\n"
   ]
  },
  {
   "cell_type": "code",
   "execution_count": 1,
   "id": "f183981c",
   "metadata": {},
   "outputs": [
    {
     "ename": "FileNotFoundError",
     "evalue": "[Errno 2] No such file or directory: 'polomki.csv'",
     "output_type": "error",
     "traceback": [
      "\u001b[0;31m---------------------------------------------------------------------------\u001b[0m",
      "\u001b[0;31mFileNotFoundError\u001b[0m                         Traceback (most recent call last)",
      "Cell \u001b[0;32mIn [1], line 6\u001b[0m\n\u001b[1;32m      3\u001b[0m pandas\u001b[38;5;241m.\u001b[39mset_option(\u001b[38;5;124m'\u001b[39m\u001b[38;5;124mdisplay.max_columns\u001b[39m\u001b[38;5;124m'\u001b[39m, \u001b[38;5;28;01mNone\u001b[39;00m)\n\u001b[1;32m      4\u001b[0m pandas\u001b[38;5;241m.\u001b[39mset_option(\u001b[38;5;124m'\u001b[39m\u001b[38;5;124mdisplay.max_rows\u001b[39m\u001b[38;5;124m'\u001b[39m, \u001b[38;5;28;01mNone\u001b[39;00m)\n\u001b[0;32m----> 6\u001b[0m data \u001b[38;5;241m=\u001b[39m \u001b[43mpandas\u001b[49m\u001b[38;5;241;43m.\u001b[39;49m\u001b[43mread_csv\u001b[49m\u001b[43m(\u001b[49m\u001b[38;5;124;43m'\u001b[39;49m\u001b[38;5;124;43mpolomki.csv\u001b[39;49m\u001b[38;5;124;43m'\u001b[39;49m\u001b[43m,\u001b[49m\u001b[43m \u001b[49m\u001b[43mindex_col\u001b[49m\u001b[38;5;241;43m=\u001b[39;49m\u001b[38;5;124;43m'\u001b[39;49m\u001b[38;5;124;43mМагазин\u001b[39;49m\u001b[38;5;124;43m'\u001b[39;49m\u001b[43m)\u001b[49m\n\u001b[1;32m      7\u001b[0m \u001b[38;5;28mprint\u001b[39m(data)\n",
      "File \u001b[0;32m/Library/Frameworks/Python.framework/Versions/3.10/lib/python3.10/site-packages/pandas/util/_decorators.py:211\u001b[0m, in \u001b[0;36mdeprecate_kwarg.<locals>._deprecate_kwarg.<locals>.wrapper\u001b[0;34m(*args, **kwargs)\u001b[0m\n\u001b[1;32m    209\u001b[0m     \u001b[38;5;28;01melse\u001b[39;00m:\n\u001b[1;32m    210\u001b[0m         kwargs[new_arg_name] \u001b[38;5;241m=\u001b[39m new_arg_value\n\u001b[0;32m--> 211\u001b[0m \u001b[38;5;28;01mreturn\u001b[39;00m \u001b[43mfunc\u001b[49m\u001b[43m(\u001b[49m\u001b[38;5;241;43m*\u001b[39;49m\u001b[43margs\u001b[49m\u001b[43m,\u001b[49m\u001b[43m \u001b[49m\u001b[38;5;241;43m*\u001b[39;49m\u001b[38;5;241;43m*\u001b[39;49m\u001b[43mkwargs\u001b[49m\u001b[43m)\u001b[49m\n",
      "File \u001b[0;32m/Library/Frameworks/Python.framework/Versions/3.10/lib/python3.10/site-packages/pandas/util/_decorators.py:317\u001b[0m, in \u001b[0;36mdeprecate_nonkeyword_arguments.<locals>.decorate.<locals>.wrapper\u001b[0;34m(*args, **kwargs)\u001b[0m\n\u001b[1;32m    311\u001b[0m \u001b[38;5;28;01mif\u001b[39;00m \u001b[38;5;28mlen\u001b[39m(args) \u001b[38;5;241m>\u001b[39m num_allow_args:\n\u001b[1;32m    312\u001b[0m     warnings\u001b[38;5;241m.\u001b[39mwarn(\n\u001b[1;32m    313\u001b[0m         msg\u001b[38;5;241m.\u001b[39mformat(arguments\u001b[38;5;241m=\u001b[39marguments),\n\u001b[1;32m    314\u001b[0m         \u001b[38;5;167;01mFutureWarning\u001b[39;00m,\n\u001b[1;32m    315\u001b[0m         stacklevel\u001b[38;5;241m=\u001b[39mfind_stack_level(inspect\u001b[38;5;241m.\u001b[39mcurrentframe()),\n\u001b[1;32m    316\u001b[0m     )\n\u001b[0;32m--> 317\u001b[0m \u001b[38;5;28;01mreturn\u001b[39;00m \u001b[43mfunc\u001b[49m\u001b[43m(\u001b[49m\u001b[38;5;241;43m*\u001b[39;49m\u001b[43margs\u001b[49m\u001b[43m,\u001b[49m\u001b[43m \u001b[49m\u001b[38;5;241;43m*\u001b[39;49m\u001b[38;5;241;43m*\u001b[39;49m\u001b[43mkwargs\u001b[49m\u001b[43m)\u001b[49m\n",
      "File \u001b[0;32m/Library/Frameworks/Python.framework/Versions/3.10/lib/python3.10/site-packages/pandas/io/parsers/readers.py:950\u001b[0m, in \u001b[0;36mread_csv\u001b[0;34m(filepath_or_buffer, sep, delimiter, header, names, index_col, usecols, squeeze, prefix, mangle_dupe_cols, dtype, engine, converters, true_values, false_values, skipinitialspace, skiprows, skipfooter, nrows, na_values, keep_default_na, na_filter, verbose, skip_blank_lines, parse_dates, infer_datetime_format, keep_date_col, date_parser, dayfirst, cache_dates, iterator, chunksize, compression, thousands, decimal, lineterminator, quotechar, quoting, doublequote, escapechar, comment, encoding, encoding_errors, dialect, error_bad_lines, warn_bad_lines, on_bad_lines, delim_whitespace, low_memory, memory_map, float_precision, storage_options)\u001b[0m\n\u001b[1;32m    935\u001b[0m kwds_defaults \u001b[38;5;241m=\u001b[39m _refine_defaults_read(\n\u001b[1;32m    936\u001b[0m     dialect,\n\u001b[1;32m    937\u001b[0m     delimiter,\n\u001b[0;32m   (...)\u001b[0m\n\u001b[1;32m    946\u001b[0m     defaults\u001b[38;5;241m=\u001b[39m{\u001b[38;5;124m\"\u001b[39m\u001b[38;5;124mdelimiter\u001b[39m\u001b[38;5;124m\"\u001b[39m: \u001b[38;5;124m\"\u001b[39m\u001b[38;5;124m,\u001b[39m\u001b[38;5;124m\"\u001b[39m},\n\u001b[1;32m    947\u001b[0m )\n\u001b[1;32m    948\u001b[0m kwds\u001b[38;5;241m.\u001b[39mupdate(kwds_defaults)\n\u001b[0;32m--> 950\u001b[0m \u001b[38;5;28;01mreturn\u001b[39;00m \u001b[43m_read\u001b[49m\u001b[43m(\u001b[49m\u001b[43mfilepath_or_buffer\u001b[49m\u001b[43m,\u001b[49m\u001b[43m \u001b[49m\u001b[43mkwds\u001b[49m\u001b[43m)\u001b[49m\n",
      "File \u001b[0;32m/Library/Frameworks/Python.framework/Versions/3.10/lib/python3.10/site-packages/pandas/io/parsers/readers.py:605\u001b[0m, in \u001b[0;36m_read\u001b[0;34m(filepath_or_buffer, kwds)\u001b[0m\n\u001b[1;32m    602\u001b[0m _validate_names(kwds\u001b[38;5;241m.\u001b[39mget(\u001b[38;5;124m\"\u001b[39m\u001b[38;5;124mnames\u001b[39m\u001b[38;5;124m\"\u001b[39m, \u001b[38;5;28;01mNone\u001b[39;00m))\n\u001b[1;32m    604\u001b[0m \u001b[38;5;66;03m# Create the parser.\u001b[39;00m\n\u001b[0;32m--> 605\u001b[0m parser \u001b[38;5;241m=\u001b[39m \u001b[43mTextFileReader\u001b[49m\u001b[43m(\u001b[49m\u001b[43mfilepath_or_buffer\u001b[49m\u001b[43m,\u001b[49m\u001b[43m \u001b[49m\u001b[38;5;241;43m*\u001b[39;49m\u001b[38;5;241;43m*\u001b[39;49m\u001b[43mkwds\u001b[49m\u001b[43m)\u001b[49m\n\u001b[1;32m    607\u001b[0m \u001b[38;5;28;01mif\u001b[39;00m chunksize \u001b[38;5;129;01mor\u001b[39;00m iterator:\n\u001b[1;32m    608\u001b[0m     \u001b[38;5;28;01mreturn\u001b[39;00m parser\n",
      "File \u001b[0;32m/Library/Frameworks/Python.framework/Versions/3.10/lib/python3.10/site-packages/pandas/io/parsers/readers.py:1442\u001b[0m, in \u001b[0;36mTextFileReader.__init__\u001b[0;34m(self, f, engine, **kwds)\u001b[0m\n\u001b[1;32m   1439\u001b[0m     \u001b[38;5;28mself\u001b[39m\u001b[38;5;241m.\u001b[39moptions[\u001b[38;5;124m\"\u001b[39m\u001b[38;5;124mhas_index_names\u001b[39m\u001b[38;5;124m\"\u001b[39m] \u001b[38;5;241m=\u001b[39m kwds[\u001b[38;5;124m\"\u001b[39m\u001b[38;5;124mhas_index_names\u001b[39m\u001b[38;5;124m\"\u001b[39m]\n\u001b[1;32m   1441\u001b[0m \u001b[38;5;28mself\u001b[39m\u001b[38;5;241m.\u001b[39mhandles: IOHandles \u001b[38;5;241m|\u001b[39m \u001b[38;5;28;01mNone\u001b[39;00m \u001b[38;5;241m=\u001b[39m \u001b[38;5;28;01mNone\u001b[39;00m\n\u001b[0;32m-> 1442\u001b[0m \u001b[38;5;28mself\u001b[39m\u001b[38;5;241m.\u001b[39m_engine \u001b[38;5;241m=\u001b[39m \u001b[38;5;28;43mself\u001b[39;49m\u001b[38;5;241;43m.\u001b[39;49m\u001b[43m_make_engine\u001b[49m\u001b[43m(\u001b[49m\u001b[43mf\u001b[49m\u001b[43m,\u001b[49m\u001b[43m \u001b[49m\u001b[38;5;28;43mself\u001b[39;49m\u001b[38;5;241;43m.\u001b[39;49m\u001b[43mengine\u001b[49m\u001b[43m)\u001b[49m\n",
      "File \u001b[0;32m/Library/Frameworks/Python.framework/Versions/3.10/lib/python3.10/site-packages/pandas/io/parsers/readers.py:1729\u001b[0m, in \u001b[0;36mTextFileReader._make_engine\u001b[0;34m(self, f, engine)\u001b[0m\n\u001b[1;32m   1727\u001b[0m     is_text \u001b[38;5;241m=\u001b[39m \u001b[38;5;28;01mFalse\u001b[39;00m\n\u001b[1;32m   1728\u001b[0m     mode \u001b[38;5;241m=\u001b[39m \u001b[38;5;124m\"\u001b[39m\u001b[38;5;124mrb\u001b[39m\u001b[38;5;124m\"\u001b[39m\n\u001b[0;32m-> 1729\u001b[0m \u001b[38;5;28mself\u001b[39m\u001b[38;5;241m.\u001b[39mhandles \u001b[38;5;241m=\u001b[39m \u001b[43mget_handle\u001b[49m\u001b[43m(\u001b[49m\n\u001b[1;32m   1730\u001b[0m \u001b[43m    \u001b[49m\u001b[43mf\u001b[49m\u001b[43m,\u001b[49m\n\u001b[1;32m   1731\u001b[0m \u001b[43m    \u001b[49m\u001b[43mmode\u001b[49m\u001b[43m,\u001b[49m\n\u001b[1;32m   1732\u001b[0m \u001b[43m    \u001b[49m\u001b[43mencoding\u001b[49m\u001b[38;5;241;43m=\u001b[39;49m\u001b[38;5;28;43mself\u001b[39;49m\u001b[38;5;241;43m.\u001b[39;49m\u001b[43moptions\u001b[49m\u001b[38;5;241;43m.\u001b[39;49m\u001b[43mget\u001b[49m\u001b[43m(\u001b[49m\u001b[38;5;124;43m\"\u001b[39;49m\u001b[38;5;124;43mencoding\u001b[39;49m\u001b[38;5;124;43m\"\u001b[39;49m\u001b[43m,\u001b[49m\u001b[43m \u001b[49m\u001b[38;5;28;43;01mNone\u001b[39;49;00m\u001b[43m)\u001b[49m\u001b[43m,\u001b[49m\n\u001b[1;32m   1733\u001b[0m \u001b[43m    \u001b[49m\u001b[43mcompression\u001b[49m\u001b[38;5;241;43m=\u001b[39;49m\u001b[38;5;28;43mself\u001b[39;49m\u001b[38;5;241;43m.\u001b[39;49m\u001b[43moptions\u001b[49m\u001b[38;5;241;43m.\u001b[39;49m\u001b[43mget\u001b[49m\u001b[43m(\u001b[49m\u001b[38;5;124;43m\"\u001b[39;49m\u001b[38;5;124;43mcompression\u001b[39;49m\u001b[38;5;124;43m\"\u001b[39;49m\u001b[43m,\u001b[49m\u001b[43m \u001b[49m\u001b[38;5;28;43;01mNone\u001b[39;49;00m\u001b[43m)\u001b[49m\u001b[43m,\u001b[49m\n\u001b[1;32m   1734\u001b[0m \u001b[43m    \u001b[49m\u001b[43mmemory_map\u001b[49m\u001b[38;5;241;43m=\u001b[39;49m\u001b[38;5;28;43mself\u001b[39;49m\u001b[38;5;241;43m.\u001b[39;49m\u001b[43moptions\u001b[49m\u001b[38;5;241;43m.\u001b[39;49m\u001b[43mget\u001b[49m\u001b[43m(\u001b[49m\u001b[38;5;124;43m\"\u001b[39;49m\u001b[38;5;124;43mmemory_map\u001b[39;49m\u001b[38;5;124;43m\"\u001b[39;49m\u001b[43m,\u001b[49m\u001b[43m \u001b[49m\u001b[38;5;28;43;01mFalse\u001b[39;49;00m\u001b[43m)\u001b[49m\u001b[43m,\u001b[49m\n\u001b[1;32m   1735\u001b[0m \u001b[43m    \u001b[49m\u001b[43mis_text\u001b[49m\u001b[38;5;241;43m=\u001b[39;49m\u001b[43mis_text\u001b[49m\u001b[43m,\u001b[49m\n\u001b[1;32m   1736\u001b[0m \u001b[43m    \u001b[49m\u001b[43merrors\u001b[49m\u001b[38;5;241;43m=\u001b[39;49m\u001b[38;5;28;43mself\u001b[39;49m\u001b[38;5;241;43m.\u001b[39;49m\u001b[43moptions\u001b[49m\u001b[38;5;241;43m.\u001b[39;49m\u001b[43mget\u001b[49m\u001b[43m(\u001b[49m\u001b[38;5;124;43m\"\u001b[39;49m\u001b[38;5;124;43mencoding_errors\u001b[39;49m\u001b[38;5;124;43m\"\u001b[39;49m\u001b[43m,\u001b[49m\u001b[43m \u001b[49m\u001b[38;5;124;43m\"\u001b[39;49m\u001b[38;5;124;43mstrict\u001b[39;49m\u001b[38;5;124;43m\"\u001b[39;49m\u001b[43m)\u001b[49m\u001b[43m,\u001b[49m\n\u001b[1;32m   1737\u001b[0m \u001b[43m    \u001b[49m\u001b[43mstorage_options\u001b[49m\u001b[38;5;241;43m=\u001b[39;49m\u001b[38;5;28;43mself\u001b[39;49m\u001b[38;5;241;43m.\u001b[39;49m\u001b[43moptions\u001b[49m\u001b[38;5;241;43m.\u001b[39;49m\u001b[43mget\u001b[49m\u001b[43m(\u001b[49m\u001b[38;5;124;43m\"\u001b[39;49m\u001b[38;5;124;43mstorage_options\u001b[39;49m\u001b[38;5;124;43m\"\u001b[39;49m\u001b[43m,\u001b[49m\u001b[43m \u001b[49m\u001b[38;5;28;43;01mNone\u001b[39;49;00m\u001b[43m)\u001b[49m\u001b[43m,\u001b[49m\n\u001b[1;32m   1738\u001b[0m \u001b[43m\u001b[49m\u001b[43m)\u001b[49m\n\u001b[1;32m   1739\u001b[0m \u001b[38;5;28;01massert\u001b[39;00m \u001b[38;5;28mself\u001b[39m\u001b[38;5;241m.\u001b[39mhandles \u001b[38;5;129;01mis\u001b[39;00m \u001b[38;5;129;01mnot\u001b[39;00m \u001b[38;5;28;01mNone\u001b[39;00m\n\u001b[1;32m   1740\u001b[0m f \u001b[38;5;241m=\u001b[39m \u001b[38;5;28mself\u001b[39m\u001b[38;5;241m.\u001b[39mhandles\u001b[38;5;241m.\u001b[39mhandle\n",
      "File \u001b[0;32m/Library/Frameworks/Python.framework/Versions/3.10/lib/python3.10/site-packages/pandas/io/common.py:857\u001b[0m, in \u001b[0;36mget_handle\u001b[0;34m(path_or_buf, mode, encoding, compression, memory_map, is_text, errors, storage_options)\u001b[0m\n\u001b[1;32m    852\u001b[0m \u001b[38;5;28;01melif\u001b[39;00m \u001b[38;5;28misinstance\u001b[39m(handle, \u001b[38;5;28mstr\u001b[39m):\n\u001b[1;32m    853\u001b[0m     \u001b[38;5;66;03m# Check whether the filename is to be opened in binary mode.\u001b[39;00m\n\u001b[1;32m    854\u001b[0m     \u001b[38;5;66;03m# Binary mode does not support 'encoding' and 'newline'.\u001b[39;00m\n\u001b[1;32m    855\u001b[0m     \u001b[38;5;28;01mif\u001b[39;00m ioargs\u001b[38;5;241m.\u001b[39mencoding \u001b[38;5;129;01mand\u001b[39;00m \u001b[38;5;124m\"\u001b[39m\u001b[38;5;124mb\u001b[39m\u001b[38;5;124m\"\u001b[39m \u001b[38;5;129;01mnot\u001b[39;00m \u001b[38;5;129;01min\u001b[39;00m ioargs\u001b[38;5;241m.\u001b[39mmode:\n\u001b[1;32m    856\u001b[0m         \u001b[38;5;66;03m# Encoding\u001b[39;00m\n\u001b[0;32m--> 857\u001b[0m         handle \u001b[38;5;241m=\u001b[39m \u001b[38;5;28;43mopen\u001b[39;49m\u001b[43m(\u001b[49m\n\u001b[1;32m    858\u001b[0m \u001b[43m            \u001b[49m\u001b[43mhandle\u001b[49m\u001b[43m,\u001b[49m\n\u001b[1;32m    859\u001b[0m \u001b[43m            \u001b[49m\u001b[43mioargs\u001b[49m\u001b[38;5;241;43m.\u001b[39;49m\u001b[43mmode\u001b[49m\u001b[43m,\u001b[49m\n\u001b[1;32m    860\u001b[0m \u001b[43m            \u001b[49m\u001b[43mencoding\u001b[49m\u001b[38;5;241;43m=\u001b[39;49m\u001b[43mioargs\u001b[49m\u001b[38;5;241;43m.\u001b[39;49m\u001b[43mencoding\u001b[49m\u001b[43m,\u001b[49m\n\u001b[1;32m    861\u001b[0m \u001b[43m            \u001b[49m\u001b[43merrors\u001b[49m\u001b[38;5;241;43m=\u001b[39;49m\u001b[43merrors\u001b[49m\u001b[43m,\u001b[49m\n\u001b[1;32m    862\u001b[0m \u001b[43m            \u001b[49m\u001b[43mnewline\u001b[49m\u001b[38;5;241;43m=\u001b[39;49m\u001b[38;5;124;43m\"\u001b[39;49m\u001b[38;5;124;43m\"\u001b[39;49m\u001b[43m,\u001b[49m\n\u001b[1;32m    863\u001b[0m \u001b[43m        \u001b[49m\u001b[43m)\u001b[49m\n\u001b[1;32m    864\u001b[0m     \u001b[38;5;28;01melse\u001b[39;00m:\n\u001b[1;32m    865\u001b[0m         \u001b[38;5;66;03m# Binary mode\u001b[39;00m\n\u001b[1;32m    866\u001b[0m         handle \u001b[38;5;241m=\u001b[39m \u001b[38;5;28mopen\u001b[39m(handle, ioargs\u001b[38;5;241m.\u001b[39mmode)\n",
      "\u001b[0;31mFileNotFoundError\u001b[0m: [Errno 2] No such file or directory: 'polomki.csv'"
     ]
    }
   ],
   "source": [
    "import pandas genetherapy.csv\n",
    "\n",
    "pandas.set_option('display.max_columns', None)\n",
    "pandas.set_option('display.max_rows', None)\n",
    "\n",
    "data = pandas.read_csv('polomki.csv', index_col='Магазин')\n",
    "print(data)"
   ]
  },
  {
   "cell_type": "code",
   "execution_count": 33,
   "id": "581e1974",
   "metadata": {},
   "outputs": [
    {
     "name": "stdout",
     "output_type": "stream",
     "text": [
      " тестовая программа для подключения библиотеки math\n",
      "5\n",
      "5\n",
      "4\n",
      "-2\n",
      "0\n",
      "-1\n",
      "0\n",
      "1.0\n",
      "2\n",
      "-3\n"
     ]
    }
   ],
   "source": [
    "print(' тестовая программа для подключения библиотеки math') \n",
    "import math\n",
    "x = math.ceil(4.2) # округляет вверх - то есть в БОЛЬШУЮ сторону\n",
    "y = math.ceil(4.8)\n",
    "z= math.ceil(3.1)\n",
    "r= math.ceil(-2.6)\n",
    "h = round(0.4) # округляет до ближайшего целого\n",
    "q= round(-1.4)\n",
    "f = round(0.5) # окргуляет для ближайшего ЧЕТНОГО целого\n",
    "d = round(1.0005,1) # округляет до ближайшего числа с точностью знаков после запятой\n",
    "e= math.floor(2.23) # округляет в МЕНЬШУЮ сторону\n",
    "n= math.floor(-2.23)\n",
    "print(x)\n",
    "print(y)\n",
    "print(z) \n",
    "print(r)\n",
    "print(h) \n",
    "print(q)\n",
    "print(f) \n",
    "print(d)\n",
    "print(e)\n",
    "print(n)"
   ]
  },
  {
   "cell_type": "code",
   "execution_count": 7,
   "id": "73b6ede7",
   "metadata": {},
   "outputs": [
    {
     "name": "stdout",
     "output_type": "stream",
     "text": [
      " тестовая программа для подключения библиотеки math\n",
      "5\n",
      "5\n",
      "-2\n",
      "4\n"
     ]
    }
   ],
   "source": [
    "print(' тестовая программа для подключения библиотеки math') \n",
    "from math import ceil # дергаешь только конкретную функцию из библиотеки\n",
    "x = ceil(4.2) # округляет вверх - то есть в большую сторону\n",
    "y = ceil(4.8)\n",
    "z= ceil(3.1)\n",
    "r= ceil(-2.2)\n",
    "print(x)\n",
    "print(y)\n",
    "print(z) \n",
    "print(r)"
   ]
  },
  {
   "cell_type": "code",
   "execution_count": 22,
   "id": "5c97838d",
   "metadata": {},
   "outputs": [
    {
     "name": "stdout",
     "output_type": "stream",
     "text": [
      "Дано натуральное число. Выведите его последнюю цифру.\n",
      " Введите число\n",
      "123\n",
      "3\n"
     ]
    }
   ],
   "source": [
    "print('Дано натуральное число. Выведите его последнюю цифру.')\n",
    "print(' Введите число')\n",
    "a=int(input())\n",
    "b=a%10\n",
    "print(b) "
   ]
  },
  {
   "cell_type": "code",
   "execution_count": 29,
   "id": "7f65e591",
   "metadata": {},
   "outputs": [
    {
     "name": "stdout",
     "output_type": "stream",
     "text": [
      "Длина Московской кольцевой автомобильной дороги —109 километров. Байкер Вася стартует с нулевого километра МКАД и едет со скоростью v километров в час. На какой отметке он остановится через t часов?Программа получает на вход значение v и t. Если v>0, то Вася движется в положительном направлении по МКАД, если же значение v<0, то в отрицательном.Программа должна вывести целое число от 0 до 108 — номер отметки, на которой остановится Вася.\n",
      " введите V\n",
      "-100\n",
      " введите t\n",
      "10\n",
      "19\n"
     ]
    }
   ],
   "source": [
    "print('Длина Московской кольцевой автомобильной дороги —109 километров. Байкер Вася стартует с нулевого километра МКАД и едет со скоростью v километров в час. На какой отметке он остановится через t часов?Программа получает на вход значение v и t. Если v>0, то Вася движется в положительном направлении по МКАД, если же значение v<0, то в отрицательном.Программа должна вывести целое число от 0 до 108 — номер отметки, на которой остановится Вася.')\n",
    "print(' введите V')\n",
    "v=int(input())\n",
    "print(' введите t')\n",
    "t=int(input())\n",
    "p=abs(v)\n",
    "if p*t>=109: s=p*t-(p*t//109)*109\n",
    "else: s=p*t\n",
    "print(s)"
   ]
  },
  {
   "cell_type": "code",
   "execution_count": 43,
   "id": "c070b6cf",
   "metadata": {},
   "outputs": [
    {
     "name": "stdout",
     "output_type": "stream",
     "text": [
      "Дано положительное действительное число X. Выведите его дробную часть.\n",
      " введите число\n",
      "-1.343898\n",
      "-0.34389800000000004\n"
     ]
    }
   ],
   "source": [
    "print('Дано положительное действительное число X. Выведите его дробную часть.')\n",
    "print(' введите число')\n",
    "import math\n",
    "a=float(input())\n",
    "if a>=0: b=a-math.floor(a)\n",
    "else: b=a-math.ceil(a)\n",
    "print(b)"
   ]
  },
  {
   "cell_type": "code",
   "execution_count": 44,
   "id": "93d073be",
   "metadata": {},
   "outputs": [
    {
     "name": "stdout",
     "output_type": "stream",
     "text": [
      "Дано положительное действительное число X. Выведите его дробную часть.\n",
      " введите число\n",
      "1.2343234\n",
      "0.23432340000000007\n"
     ]
    }
   ],
   "source": [
    "print('Дано положительное действительное число X. Выведите его дробную часть.')\n",
    "print(' введите число')\n",
    "import math\n",
    "a=float(input())\n",
    "b=a-int(a)\n",
    "print(b)"
   ]
  },
  {
   "cell_type": "code",
   "execution_count": 39,
   "id": "ad21ba40",
   "metadata": {},
   "outputs": [
    {
     "name": "stdout",
     "output_type": "stream",
     "text": [
      "Дано положительное действительное число X. Выведите его первую цифру после десятичной точки.\n",
      " введите x\n",
      "2.8395\n",
      "8\n"
     ]
    }
   ],
   "source": [
    "print('Дано положительное действительное число X. Выведите его первую цифру после десятичной точки.')\n",
    "print(' введите x')\n",
    "import math\n",
    "x=float(input())\n",
    "y=int((x*10)%10)\n",
    "print(y)"
   ]
  },
  {
   "cell_type": "code",
   "execution_count": 16,
   "id": "72f0672e",
   "metadata": {},
   "outputs": [
    {
     "name": "stdout",
     "output_type": "stream",
     "text": [
      " рассчитать среднее квадратическое отклонение\n",
      "15\n",
      "10\n",
      "13\n",
      "7\n",
      "28\n",
      "31\n",
      "20\n",
      "32\n",
      "9.783367810436532\n"
     ]
    }
   ],
   "source": [
    "print(' рассчитать среднее квадратическое отклонение')\n",
    "import math\n",
    "x=int(input())\n",
    "y=int(input())\n",
    "z=int(input())\n",
    "a=int(input())\n",
    "b=int(input())\n",
    "c=int(input())\n",
    "d=int(input())\n",
    "f=int(input())\n",
    "H=(a+b+c+d+f+x+y+z)/8\n",
    "T=((a-H)**2+(b-H)**2+(c-H)**2+(d-H)**2+(f-H)**2+(x-H)**2+(y-H)**2+(z-H)**2)/7\n",
    "S=math.sqrt(T)\n",
    "print(S)\n",
    "\n"
   ]
  },
  {
   "cell_type": "code",
   "execution_count": 19,
   "id": "0fca9ea2",
   "metadata": {},
   "outputs": [
    {
     "name": "stdout",
     "output_type": "stream",
     "text": [
      "101.93555387036038\n"
     ]
    }
   ],
   "source": [
    "# альтернативное ОХУЕННОЕ решение задачи выше\n",
    "import statistics\n",
    "import math\n",
    "\n",
    "data1= [1,3,2,4,5,7,1,8]\n",
    "x=math.sqrt(statistics.variance(data1))\n",
    "\n",
    "data2= [100,300,250,400,230,280,320,112]\n",
    "y=math.sqrt(statistics.variance(data2))\n",
    "\n",
    "data3=[15,10,13,7,28,31,20,32]\n",
    "z=math.sqrt(statistics.variance(data3))\n",
    "\n",
    "if x<y<z or y<x<z: print(z)\n",
    "elif z<y<x or y<z<x: print(x)\n",
    "else: print(y)"
   ]
  },
  {
   "cell_type": "code",
   "execution_count": null,
   "id": "5f609390",
   "metadata": {},
   "outputs": [],
   "source": []
  },
  {
   "cell_type": "code",
   "execution_count": 20,
   "id": "cdf4d5f3",
   "metadata": {},
   "outputs": [
    {
     "name": "stdout",
     "output_type": "stream",
     "text": [
      "3.1622776601683795\n"
     ]
    }
   ],
   "source": [
    "import statistics\n",
    "import math\n",
    "\n",
    "data1= [1,5, 2, 7, 1, 9, 3, 8, 5, 9]\n",
    "x=math.sqrt(statistics.variance(data1))\n",
    "print(x)"
   ]
  },
  {
   "cell_type": "code",
   "execution_count": 50,
   "id": "677b3f83",
   "metadata": {},
   "outputs": [
    {
     "name": "stdout",
     "output_type": "stream",
     "text": [
      "В некоторой школе занятия начинаются в 9:00. Продолжительность урока — 45 минут, после 1-го, 3-го, 5-го и т.д. уроков перемена 5 минут, а после 2-го, 4-го, 6-го и т.д. — 15 минут.Дан номер урока (число от 1 до 10). Определите, когда заканчивается указанный урок.Выведите два целых числа: время окончания урока в часах и минутах.\n",
      " введите номер урока\n",
      "7\n",
      "15 : 15\n"
     ]
    }
   ],
   "source": [
    "print('В некоторой школе занятия начинаются в 9:00. Продолжительность урока — 45 минут, после 1-го, 3-го, 5-го и т.д. уроков перемена 5 минут, а после 2-го, 4-го, 6-го и т.д. — 15 минут.Дан номер урока (число от 1 до 10). Определите, когда заканчивается указанный урок.Выведите два целых числа: время окончания урока в часах и минутах.')\n",
    "print(' введите номер урока')\n",
    "x=int(input())\n",
    "from math import ceil\n",
    "from math import floor\n",
    "T=floor(x/2)*50+(ceil(x/2)-1)*60+45\n",
    "h=9+T//60\n",
    "m=T%60\n",
    "if m//10>0: print(h,':',m)\n",
    "else: print(h,':0',m)"
   ]
  },
  {
   "cell_type": "code",
   "execution_count": 51,
   "id": "f4c879f7",
   "metadata": {},
   "outputs": [
    {
     "name": "stdout",
     "output_type": "stream",
     "text": [
      "За день машина проезжает n километров. Сколько дней нужно, чтобы проехать маршрут длиной m километров? Программа получает на вход числа n и m.\n",
      "1000\n",
      "237913\n",
      "238\n"
     ]
    }
   ],
   "source": [
    "print('За день машина проезжает n километров. Сколько дней нужно, чтобы проехать маршрут длиной m километров? Программа получает на вход числа n и m.')\n",
    "n=float(input())\n",
    "m=int(input())\n",
    "from math import ceil\n",
    "d=ceil(m/n)\n",
    "print(d)"
   ]
  },
  {
   "cell_type": "code",
   "execution_count": 52,
   "id": "8e4516a6",
   "metadata": {},
   "outputs": [
    {
     "name": "stdout",
     "output_type": "stream",
     "text": [
      "Пирожок в столовой стоит a рублей и b копеек. Определите, сколько рублей и копеек нужно заплатить за n пирожков. Программа получает на вход три числа: a, b, n, и должна вывести два числа: стоимость покупки в рублях и копейках.\n",
      "10\n",
      "63\n",
      "5\n",
      "53 руб. 15 коп.\n"
     ]
    }
   ],
   "source": [
    "print('Пирожок в столовой стоит a рублей и b копеек. Определите, сколько рублей и копеек нужно заплатить за n пирожков. Программа получает на вход три числа: a, b, n, и должна вывести два числа: стоимость покупки в рублях и копейках.')\n",
    "a=int(input())\n",
    "b=int(input())\n",
    "n=int(input())\n",
    "x=100*a+b\n",
    "m=n*x\n",
    "r=m//100\n",
    "k=m%100\n",
    "print(r,'руб.',k, 'коп.')"
   ]
  },
  {
   "cell_type": "code",
   "execution_count": 53,
   "id": "f99e0088",
   "metadata": {},
   "outputs": [
    {
     "name": "stdout",
     "output_type": "stream",
     "text": [
      "Даны значения двух моментов времени, принадлежащих одним и тем же суткам: часы, минуты и секунды для каждого из моментов времени. Известно, что второй момент времени наступил не раньше первого. Определите, сколько секунд прошло между двумя моментами времени.Программа на вход получает три целых числа: часы, минуты, секунды, задающие первый момент времени и три целых числа, задающих второй момент времени.Выведите число секунд между этими моментами времени.\n",
      " введите точное время 1 события\n",
      "12\n",
      "32\n",
      "45\n",
      " введите точное время 2 события\n",
      "15\n",
      "10\n",
      "00\n",
      "9435\n"
     ]
    }
   ],
   "source": [
    "print('Даны значения двух моментов времени, принадлежащих одним и тем же суткам: часы, минуты и секунды для каждого из моментов времени. Известно, что второй момент времени наступил не раньше первого. Определите, сколько секунд прошло между двумя моментами времени.Программа на вход получает три целых числа: часы, минуты, секунды, задающие первый момент времени и три целых числа, задающих второй момент времени.Выведите число секунд между этими моментами времени.')\n",
    "print(' введите точное время 1 события:часы, минуты,секунды')\n",
    "a=int(input())\n",
    "b=int(input())\n",
    "c=int(input())\n",
    "print(' введите точное время 2 события:часы, минуты,секунды')\n",
    "e=int(input())\n",
    "d=int(input())\n",
    "f=int(input())\n",
    "N=3600*a+60*b+c\n",
    "M=3600*e+60*d+f\n",
    "R=M-N\n",
    "print(R)"
   ]
  },
  {
   "cell_type": "code",
   "execution_count": 58,
   "id": "74e8d23a",
   "metadata": {},
   "outputs": [
    {
     "name": "stdout",
     "output_type": "stream",
     "text": [
      "Улитка ползет по вертикальному шесту высотой h метров, поднимаясь за день на a метров, а за ночь спускаясь на b метров. На какой день улитка доползет до вершины шеста?Программа получает на вход натуральные числа h, a, b.Программа должна вывести одно натуральное число. Гарантируется, что a>b.\n",
      " введите высоту шеста\n",
      "10.4\n",
      " введите насколько улитка поднимается за день\n",
      "3.5\n",
      " введите насколько улитка сползает за ночь\n",
      "1.8\n",
      " улитка доползла до верха за 6  дней\n"
     ]
    }
   ],
   "source": [
    "print('Улитка ползет по вертикальному шесту высотой h метров, поднимаясь за день на a метров, а за ночь спускаясь на b метров. На какой день улитка доползет до вершины шеста?Программа получает на вход натуральные числа h, a, b.Программа должна вывести одно натуральное число. Гарантируется, что a>b.')\n",
    "print(' введите высоту шеста')\n",
    "h=float(input())\n",
    "print(' введите насколько улитка поднимается за день')\n",
    "a=float(input())\n",
    "print(' введите насколько улитка сползает за ночь')\n",
    "b=float(input())\n",
    "from math import ceil\n",
    "if a>b: \n",
    "    n=ceil((h-a)/(a-b)+1)\n",
    "    print(' улитка доползла до верха за', n, ' дней')\n",
    "else: print(' улитка никогда не залезет, если будет спускаться за ночь ниже, чем поднимается за день)))')"
   ]
  },
  {
   "cell_type": "code",
   "execution_count": 75,
   "id": "69b68310",
   "metadata": {},
   "outputs": [
    {
     "name": "stdout",
     "output_type": "stream",
     "text": [
      " Генотерапия позволяет корректировать работу деффектного гена, отвечающего за развитие заболевания. Требуется проверить эффективность 4 видов терапии\n",
      "    expr Therapy\n",
      "0    100       A\n",
      "1     96       A\n",
      "2    101       A\n",
      "3     95       A\n",
      "4    103       A\n",
      "5     99       A\n",
      "6     97       A\n",
      "7     96       A\n",
      "8     98       A\n",
      "9    106       A\n",
      "10   106       A\n",
      "11   104       A\n",
      "12    95       A\n",
      "13    95       A\n",
      "14   105       A\n",
      "15   100       B\n",
      "16   100       B\n",
      "17    95       B\n",
      "18    84       B\n",
      "19   101       B\n",
      "20   101       B\n",
      "21    95       B\n",
      "22   106       B\n",
      "23   105       B\n",
      "24    97       B\n",
      "25   103       B\n",
      "26    94       B\n",
      "27    94       B\n",
      "28   100       B\n",
      "29   107       B\n",
      "30    91       C\n",
      "31    96       C\n",
      "32    94       C\n",
      "33    96       C\n",
      "34    91       C\n",
      "35    85       C\n",
      "36    98       C\n",
      "37    93       C\n",
      "38   100       C\n",
      "39    85       C\n",
      "40   101       C\n",
      "41   101       C\n",
      "42    90       C\n",
      "43    98       C\n",
      "44    97       C\n",
      "45    92       D\n",
      "46    85       D\n",
      "47    95       D\n",
      "48    89       D\n",
      "49    91       D\n",
      "50    91       D\n",
      "51    99       D\n",
      "52    94       D\n",
      "53    97       D\n",
      "54    94       D\n",
      "55    87       D\n",
      "56    93       D\n",
      "57    96       D\n",
      "58    92       D\n",
      "59    90       D\n"
     ]
    }
   ],
   "source": [
    "print(' Генотерапия позволяет корректировать работу деффектного гена, отвечающего за развитие заболевания. Требуется проверить эффективность 4 видов терапии')\n",
    "import pandas as pd\n",
    "\n",
    "pandas.set_option('display.max_columns', None)\n",
    "pandas.set_option('display.max_rows', None)\n",
    "\n",
    "data = pandas.read_csv('genetherapy.csv')\n",
    "print(data)"
   ]
  },
  {
   "cell_type": "code",
   "execution_count": 40,
   "id": "3a6f4d04",
   "metadata": {},
   "outputs": [
    {
     "data": {
      "text/plain": [
       "F_onewayResult(statistic=8.03730248114399, pvalue=0.00015249722895229536)"
      ]
     },
     "execution_count": 40,
     "metadata": {},
     "output_type": "execute_result"
    }
   ],
   "source": [
    "import pandas as pd\n",
    "import scipy.stats as stats\n",
    "URL = 'https://stepik.org/media/attachments/lesson/8083/genetherapy.csv' # как открыть таблицу тупо из ссылки, не скачивая ее\n",
    "data = pd.read_csv(URL)\n",
    "A = data[data[\"Therapy\"] == \"A\"][\"expr\"]\n",
    "B = data[data[\"Therapy\"] == \"B\"][\"expr\"]\n",
    "C = data[data[\"Therapy\"] == \"C\"][\"expr\"]\n",
    "D = data[data[\"Therapy\"] == \"D\"][\"expr\"]\n",
    "stats.f_oneway(A, B, C, D)"
   ]
  },
  {
   "cell_type": "code",
   "execution_count": 3,
   "id": "32ff8b8b",
   "metadata": {},
   "outputs": [
    {
     "name": "stdout",
     "output_type": "stream",
     "text": [
      "    expr Therapy\n",
      "0    100       A\n",
      "1     96       A\n",
      "2    101       A\n",
      "3     95       A\n",
      "4    103       A\n",
      "5     99       A\n",
      "6     97       A\n",
      "7     96       A\n",
      "8     98       A\n",
      "9    106       A\n",
      "10   106       A\n",
      "11   104       A\n",
      "12    95       A\n",
      "13    95       A\n",
      "14   105       A\n",
      "15   100       B\n",
      "16   100       B\n",
      "17    95       B\n",
      "18    84       B\n",
      "19   101       B\n",
      "20   101       B\n",
      "21    95       B\n",
      "22   106       B\n",
      "23   105       B\n",
      "24    97       B\n",
      "25   103       B\n",
      "26    94       B\n",
      "27    94       B\n",
      "28   100       B\n",
      "29   107       B\n",
      "30    91       C\n",
      "31    96       C\n",
      "32    94       C\n",
      "33    96       C\n",
      "34    91       C\n",
      "35    85       C\n",
      "36    98       C\n",
      "37    93       C\n",
      "38   100       C\n",
      "39    85       C\n",
      "40   101       C\n",
      "41   101       C\n",
      "42    90       C\n",
      "43    98       C\n",
      "44    97       C\n",
      "45    92       D\n",
      "46    85       D\n",
      "47    95       D\n",
      "48    89       D\n",
      "49    91       D\n",
      "50    91       D\n",
      "51    99       D\n",
      "52    94       D\n",
      "53    97       D\n",
      "54    94       D\n",
      "55    87       D\n",
      "56    93       D\n",
      "57    96       D\n",
      "58    92       D\n",
      "59    90       D\n",
      "0     100\n",
      "1      96\n",
      "2     101\n",
      "3      95\n",
      "4     103\n",
      "5      99\n",
      "6      97\n",
      "7      96\n",
      "8      98\n",
      "9     106\n",
      "10    106\n",
      "11    104\n",
      "12     95\n",
      "13     95\n",
      "14    105\n",
      "Name: expr, dtype: int64\n"
     ]
    },
    {
     "data": {
      "text/plain": [
       "F_onewayResult(statistic=8.03730248114399, pvalue=0.00015249722895229536)"
      ]
     },
     "execution_count": 3,
     "metadata": {},
     "output_type": "execute_result"
    }
   ],
   "source": [
    "import pandas as pd\n",
    "import scipy.stats as stats\n",
    "data = pd.read_csv('genetherapy.csv') # а это, если уже скачал (или если необходимо скачать таблицу)\n",
    "A = data[data[\"Therapy\"] == \"A\"][\"expr\"]\n",
    "B = data[data[\"Therapy\"] == \"B\"][\"expr\"]\n",
    "C = data[data[\"Therapy\"] == \"C\"][\"expr\"]\n",
    "D = data[data[\"Therapy\"] == \"D\"][\"expr\"]\n",
    "\n",
    "print(data)\n",
    "print(A)\n",
    "stats.f_oneway(A, B, C, D)"
   ]
  },
  {
   "cell_type": "code",
   "execution_count": 13,
   "id": "c1fe3870",
   "metadata": {},
   "outputs": [
    {
     "data": {
      "text/plain": [
       "F_onewayResult(statistic=8.03730248114399, pvalue=0.00015249722895229536)"
      ]
     },
     "execution_count": 13,
     "metadata": {},
     "output_type": "execute_result"
    }
   ],
   "source": [
    "URL = 'https://stepik.org/media/attachments/lesson/8083/genetherapy.csv'\n",
    "data = pd.read_csv(URL)\n",
    "samples=[list(frame) for group,frame in data.groupby('Therapy')['expr']] # другой метод пролистать таблицу\n",
    "stats.f_oneway(*samples)"
   ]
  },
  {
   "cell_type": "code",
   "execution_count": null,
   "id": "d354a7a2",
   "metadata": {},
   "outputs": [],
   "source": []
  },
  {
   "cell_type": "code",
   "execution_count": 19,
   "id": "3f070002",
   "metadata": {},
   "outputs": [
    {
     "name": "stdout",
     "output_type": "stream",
     "text": [
      "102\n"
     ]
    }
   ],
   "source": [
    "from statistics import mean # программа, вычисляющая total sum sqares для набора данных Х\n",
    "\n",
    "x = ([3, 1, 3, 1, 3, 13])\n",
    "\n",
    "def tss(a):\n",
    "    total = 0\n",
    "    for i in a:\n",
    "        total = total + ((i-mean(a))**2)\n",
    "    return total\n",
    "print(tss(x))"
   ]
  },
  {
   "cell_type": "code",
   "execution_count": 34,
   "id": "79166d44",
   "metadata": {},
   "outputs": [
    {
     "name": "stdout",
     "output_type": "stream",
     "text": [
      "8.233223322332234\n"
     ]
    }
   ],
   "source": [
    "from statistics import mean\n",
    "x= [99.7, 98.8, 94.4, 92.3]\n",
    "\n",
    "def ts(a):\n",
    "    total = 0\n",
    "    for i in a:\n",
    "        total = total + ((i-mean(a))**2)\n",
    "    return total\n",
    "b=15*ts(x)\n",
    "d=b/3\n",
    "f=d/22.725\n",
    "print(f)\n"
   ]
  },
  {
   "cell_type": "code",
   "execution_count": null,
   "id": "f58aa63d",
   "metadata": {},
   "outputs": [],
   "source": []
  }
 ],
 "metadata": {
  "kernelspec": {
   "display_name": "Python 3",
   "language": "python",
   "name": "python3"
  },
  "language_info": {
   "codemirror_mode": {
    "name": "ipython",
    "version": 3
   },
   "file_extension": ".py",
   "mimetype": "text/x-python",
   "name": "python",
   "nbconvert_exporter": "python",
   "pygments_lexer": "ipython3",
   "version": "3.10.7 (v3.10.7:6cc6b13308, Sep  5 2022, 14:02:52) [Clang 13.0.0 (clang-1300.0.29.30)]"
  },
  "vscode": {
   "interpreter": {
    "hash": "aee8b7b246df8f9039afb4144a1f6fd8d2ca17a180786b69acc140d282b71a49"
   }
  }
 },
 "nbformat": 4,
 "nbformat_minor": 5
}
