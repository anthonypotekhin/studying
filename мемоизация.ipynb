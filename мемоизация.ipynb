{
 "cells": [
  {
   "attachments": {},
   "cell_type": "markdown",
   "metadata": {},
   "source": [
    "### Мемоизация\n",
    "\n",
    "Чтобы сделать это хоть сколько-нибудь эффективным, нужно избежать слишком большого числа пересчетов оставшейся части слова. \n",
    "\n",
    "Это можно сделать или с помощью динамического программирования или с помощью мемоизации aka кэширования"
   ]
  },
  {
   "attachments": {},
   "cell_type": "markdown",
   "metadata": {},
   "source": [
    "Пример того, как быстро работает код в случае рекурсивного подхода к расчету некоторой величины"
   ]
  },
  {
   "attachments": {},
   "cell_type": "markdown",
   "metadata": {},
   "source": [
    "Иллюстрацию того, что мемоизация - суперполезная штука, можно произвести на примере расчета чисел Фибоначчи."
   ]
  },
  {
   "cell_type": "code",
   "execution_count": 2,
   "metadata": {},
   "outputs": [],
   "source": [
    "def memo(f):\n",
    "    \"Запомнить результаты исполнения функции f, чьи аргументы args должны быть хешируемыми.\"\n",
    "    cache = {}\n",
    "    def fmemo(*args):\n",
    "        if args not in cache:\n",
    "            cache[args] = f(*args)\n",
    "        return cache[args]\n",
    "    fmemo.cache = cache\n",
    "    return fmemo"
   ]
  },
  {
   "attachments": {},
   "cell_type": "markdown",
   "metadata": {},
   "source": [
    "расчет некоторого числа фиббоначчи с применением мемоизации"
   ]
  },
  {
   "cell_type": "code",
   "execution_count": 3,
   "metadata": {},
   "outputs": [
    {
     "name": "stdout",
     "output_type": "stream",
     "text": [
      "fib(40) = 102334155\n",
      "0.0020231620292179286\n"
     ]
    }
   ],
   "source": [
    "import time\n",
    "@memo\n",
    "def fib(n):\n",
    "    if n < 2:\n",
    "        return n\n",
    "    return fib(n-2) + fib(n-1)\n",
    "\n",
    "# Какое число мы хотим посчитать\n",
    "x = 40\n",
    "\n",
    "t1 = time.perf_counter()\n",
    "print(f'fib({x}) =', fib(x))\n",
    "print(time.perf_counter() - t1)"
   ]
  },
  {
   "attachments": {},
   "cell_type": "markdown",
   "metadata": {},
   "source": [
    "**без мемоизации(кеширования)**"
   ]
  },
  {
   "cell_type": "code",
   "execution_count": 4,
   "metadata": {},
   "outputs": [
    {
     "name": "stdout",
     "output_type": "stream",
     "text": [
      "fib(40) = 102334155\n",
      "56.24106870099786\n"
     ]
    }
   ],
   "source": [
    "import time\n",
    "\n",
    "def fib(n):\n",
    "    if n < 2:\n",
    "        return n\n",
    "    return fib(n-2) + fib(n-1)\n",
    "\n",
    "# Какое число мы хотим посчитать\n",
    "x = 40\n",
    "\n",
    "t1 = time.perf_counter()\n",
    "print(f'fib({x}) =', fib(x))\n",
    "print(time.perf_counter() - t1)"
   ]
  },
  {
   "attachments": {},
   "cell_type": "markdown",
   "metadata": {},
   "source": [
    "#### разница во времени расчетов отличается колоссально!\n",
    "\n",
    "все дело в том, что во втором случае рекурсивный метод расчета числа вынуждает алгоритм повторять снова и снова расчет некоторых чисел, которые уже были посчитаны ранее\n",
    "\n",
    "а если кэшировать результаты рекурсивных расчетов, то мы уже будем помнить те числа последовательности, которые уже считали в одну из итераций"
   ]
  },
  {
   "cell_type": "code",
   "execution_count": 5,
   "metadata": {},
   "outputs": [
    {
     "data": {
      "text/plain": [
       "102334155"
      ]
     },
     "execution_count": 5,
     "metadata": {},
     "output_type": "execute_result"
    }
   ],
   "source": [
    "# еще один способ применить мемоизацию для поиска числа фибоначчи\n",
    "\n",
    "def fib(n):\n",
    "    cache = {1: 1, 2: 1}            # создаем кеш, куда будем складывать уже вычисленные числа фибоначчи\n",
    "    def fib_rec(n):\n",
    "        result = cache.get(n)       # если искомое число уже в кэше, то функция сразу вернет его\n",
    "        if result is None:          # а если get словаря вернет None (по умолчанию), то запускается расчет\n",
    "            result = fib_rec(n - 2) + fib_rec(n - 1)\n",
    "            cache[n] = result       # и в словарь кэша добавляется новый элемент\n",
    "        return result\n",
    "    return fib_rec(n)\n",
    "\n",
    "fib(40)"
   ]
  },
  {
   "cell_type": "code",
   "execution_count": 1,
   "metadata": {},
   "outputs": [
    {
     "name": "stdout",
     "output_type": "stream",
     "text": [
      "Числом Фибоначчи номер 1 является 1\n",
      "Числом Фибоначчи номер 2 является 1\n",
      "Числом Фибоначчи номер 3 является 2\n",
      "Числом Фибоначчи номер 4 является 3\n",
      "Числом Фибоначчи номер 5 является 5\n",
      "Числом Фибоначчи номер 6 является 8\n",
      "Числом Фибоначчи номер 7 является 13\n",
      "Числом Фибоначчи номер 8 является 21\n",
      "Числом Фибоначчи номер 9 является 34\n",
      "Числом Фибоначчи номер 10 является 55\n",
      "Числом Фибоначчи номер 11 является 89\n",
      "Числом Фибоначчи номер 12 является 144\n",
      "Числом Фибоначчи номер 13 является 233\n",
      "Числом Фибоначчи номер 14 является 377\n",
      "Числом Фибоначчи номер 15 является 610\n",
      "Числом Фибоначчи номер 16 является 987\n",
      "Числом Фибоначчи номер 17 является 1597\n",
      "Числом Фибоначчи номер 18 является 2584\n",
      "Числом Фибоначчи номер 19 является 4181\n",
      "Числом Фибоначчи номер 20 является 6765\n",
      "Числом Фибоначчи номер 21 является 10946\n",
      "Числом Фибоначчи номер 22 является 17711\n",
      "Числом Фибоначчи номер 23 является 28657\n",
      "Числом Фибоначчи номер 24 является 46368\n",
      "Числом Фибоначчи номер 25 является 75025\n",
      "Числом Фибоначчи номер 26 является 121393\n",
      "Числом Фибоначчи номер 27 является 196418\n",
      "Числом Фибоначчи номер 28 является 317811\n",
      "Числом Фибоначчи номер 29 является 514229\n",
      "Числом Фибоначчи номер 30 является 832040\n",
      "Числом Фибоначчи номер 31 является 1346269\n",
      "Числом Фибоначчи номер 32 является 2178309\n",
      "Числом Фибоначчи номер 33 является 3524578\n",
      "Числом Фибоначчи номер 34 является 5702887\n",
      "Числом Фибоначчи номер 35 является 9227465\n",
      "Числом Фибоначчи номер 36 является 14930352\n",
      "Числом Фибоначчи номер 37 является 24157817\n",
      "Числом Фибоначчи номер 38 является 39088169\n",
      "Числом Фибоначчи номер 39 является 63245986\n",
      "Числом Фибоначчи номер 40 является 102334155\n",
      "Числом Фибоначчи номер 41 является 165580141\n",
      "Числом Фибоначчи номер 42 является 267914296\n",
      "Числом Фибоначчи номер 43 является 433494437\n",
      "Числом Фибоначчи номер 44 является 701408733\n",
      "Числом Фибоначчи номер 45 является 1134903170\n",
      "Числом Фибоначчи номер 46 является 1836311903\n",
      "Числом Фибоначчи номер 47 является 2971215073\n",
      "Числом Фибоначчи номер 48 является 4807526976\n",
      "Числом Фибоначчи номер 49 является 7778742049\n",
      "Числом Фибоначчи номер 50 является 12586269025\n",
      "Числом Фибоначчи номер 51 является 20365011074\n",
      "Числом Фибоначчи номер 52 является 32951280099\n",
      "Числом Фибоначчи номер 53 является 53316291173\n",
      "Числом Фибоначчи номер 54 является 86267571272\n",
      "Числом Фибоначчи номер 55 является 139583862445\n",
      "Числом Фибоначчи номер 56 является 225851433717\n",
      "Числом Фибоначчи номер 57 является 365435296162\n",
      "Числом Фибоначчи номер 58 является 591286729879\n",
      "Числом Фибоначчи номер 59 является 956722026041\n",
      "Числом Фибоначчи номер 60 является 1548008755920\n",
      "Числом Фибоначчи номер 61 является 2504730781961\n",
      "Числом Фибоначчи номер 62 является 4052739537881\n",
      "Числом Фибоначчи номер 63 является 6557470319842\n",
      "Числом Фибоначчи номер 64 является 10610209857723\n",
      "Числом Фибоначчи номер 65 является 17167680177565\n",
      "Числом Фибоначчи номер 66 является 27777890035288\n",
      "Числом Фибоначчи номер 67 является 44945570212853\n",
      "Числом Фибоначчи номер 68 является 72723460248141\n",
      "Числом Фибоначчи номер 69 является 117669030460994\n",
      "Числом Фибоначчи номер 70 является 190392490709135\n",
      "Числом Фибоначчи номер 71 является 308061521170129\n",
      "Числом Фибоначчи номер 72 является 498454011879264\n",
      "Числом Фибоначчи номер 73 является 806515533049393\n",
      "Числом Фибоначчи номер 74 является 1304969544928657\n",
      "Числом Фибоначчи номер 75 является 2111485077978050\n",
      "Числом Фибоначчи номер 76 является 3416454622906707\n",
      "Числом Фибоначчи номер 77 является 5527939700884757\n",
      "Числом Фибоначчи номер 78 является 8944394323791464\n",
      "Числом Фибоначчи номер 79 является 14472334024676221\n",
      "Числом Фибоначчи номер 80 является 23416728348467685\n",
      "Числом Фибоначчи номер 81 является 37889062373143906\n",
      "Числом Фибоначчи номер 82 является 61305790721611591\n",
      "Числом Фибоначчи номер 83 является 99194853094755497\n",
      "Числом Фибоначчи номер 84 является 160500643816367088\n",
      "Числом Фибоначчи номер 85 является 259695496911122585\n",
      "Числом Фибоначчи номер 86 является 420196140727489673\n",
      "Числом Фибоначчи номер 87 является 679891637638612258\n",
      "Числом Фибоначчи номер 88 является 1100087778366101931\n",
      "Числом Фибоначчи номер 89 является 1779979416004714189\n",
      "Числом Фибоначчи номер 90 является 2880067194370816120\n",
      "Числом Фибоначчи номер 91 является 4660046610375530309\n",
      "Числом Фибоначчи номер 92 является 7540113804746346429\n",
      "Числом Фибоначчи номер 93 является 12200160415121876738\n",
      "Числом Фибоначчи номер 94 является 19740274219868223167\n",
      "Числом Фибоначчи номер 95 является 31940434634990099905\n",
      "Числом Фибоначчи номер 96 является 51680708854858323072\n",
      "Числом Фибоначчи номер 97 является 83621143489848422977\n",
      "Числом Фибоначчи номер 98 является 135301852344706746049\n",
      "Числом Фибоначчи номер 99 является 218922995834555169026\n",
      "Числом Фибоначчи номер 100 является 354224848179261915075\n"
     ]
    }
   ],
   "source": [
    "# фисло фибоначчи с использованием рекурсии анонимных функций (lambda)\n",
    "\n",
    "cache = {1: 1, 2: 1}\n",
    "\n",
    "fib = lambda x, cache: cache[x] if x in cache else cache.setdefault(x, fib(x - 1, cache) + fib(x - 2, cache))\n",
    "\n",
    "for i in range(1, 101):\n",
    "    print(f'Числом Фибоначчи номер {i} является {fib(i, cache)}')"
   ]
  },
  {
   "cell_type": "code",
   "execution_count": 4,
   "metadata": {},
   "outputs": [
    {
     "data": {
      "text/plain": [
       "83621143489848422977"
      ]
     },
     "execution_count": 4,
     "metadata": {},
     "output_type": "execute_result"
    }
   ],
   "source": [
    "# использование мемоизации для анонимных функций (кэширование)\n",
    "from functools import lru_cache\n",
    "fib = lru_cache()(lambda n: 1 if n<=2 else fib(n-1) + fib(n-2))\n",
    "\n",
    "fib(97)"
   ]
  },
  {
   "attachments": {},
   "cell_type": "markdown",
   "metadata": {},
   "source": [
    "### Beegeek\n",
    "https://stepik.org/lesson/751476/step/12?unit=753330\n",
    "\n",
    "Кэширование – это способ оптимизации хранения данных, при котором операции с данными производятся эффективнее.\n",
    "\n",
    "Мемоизация — это разновидность кэширования. Обычно под кэшированием понимают довольно широкий набор способов сохранения чего-либо для последующего использования. Мемоизация же означает кэширование возвращаемых значений функций.\n",
    "\n",
    "Примечание: нужно быть осторожным с мемоизацией функций, которые принимают **ИЗМЕНЯЕМЫЕ** типы данных в качестве аргументов. Встроенный декоратор lru_cache **не позволяет работать с нехэшируемыми объектами**, так как за кулисами использует словарь.\n",
    "\n",
    "Примечание . Все алгоритмы кэширования доступны в модуле cachetools по https://github.com/tkem/cachetools/."
   ]
  },
  {
   "cell_type": "code",
   "execution_count": null,
   "metadata": {},
   "outputs": [],
   "source": [
    "# шаблон декоратора, мемоизирующего любую функцию\n",
    "\n",
    "import functools\n",
    "\n",
    "def cached(func):\n",
    "    cache = {}\n",
    "\n",
    "    @functools.wraps(func)\n",
    "    def wrapper(*args, **kwargs):\n",
    "        key = args + tuple(kwargs.items())\n",
    "        result = cache.get(key)\n",
    "        if result is None:\n",
    "            result = func(*args, **kwargs)\n",
    "            cache[key] = result\n",
    "        return result\n",
    "    return wrapper"
   ]
  },
  {
   "attachments": {
    "image.png": {
     "image/png": "[encoded data removed]"
    }
   },
   "cell_type": "markdown",
   "metadata": {},
   "source": [
    "В этой простой реализации мемоизации есть очевидная проблема: содержимое словаря cache будет неограниченно расти при каждом вызове декорируемой функции с новыми аргументами.\n",
    "\n",
    "Для решения такого рода проблемы существуют различные стратегии кэширования.\n",
    "\n",
    "![image.png](attachment:image.png)"
   ]
  },
  {
   "attachments": {},
   "cell_type": "markdown",
   "metadata": {},
   "source": [
    "Стратегия LRU предполагает: чем позже использовался объект, тем больше вероятность, что он понадобится в будущем. Алгоритм сохраняет такой объект в кэше в течение максимально длительного времени. Кэш, реализованный посредством стратегии LRU, упорядочивает элементы в порядке их использования. Каждый раз, когда мы обращаемся к записи, алгоритм LRU перемещает ее в верхнюю часть кэша. Таким образом, алгоритм может быстро определить запись, которая дольше всех не использовалась, проверив конец списка."
   ]
  },
  {
   "attachments": {},
   "cell_type": "markdown",
   "metadata": {},
   "source": [
    "### Декоратор lru_cache\n",
    "если использовалась давно - нахрен ее из кэша\n",
    "\n",
    "В модуле functools уже реализован декоратор lru_cache, дающий возможность кэшировать результат вычисления функции, используя стратегию Least Recently Used. Это простой, но мощный метод, который позволяет использовать в коде возможности кэширования."
   ]
  },
  {
   "cell_type": "code",
   "execution_count": 3,
   "metadata": {},
   "outputs": [],
   "source": [
    "from functools import lru_cache\n",
    "\n",
    "@lru_cache          # начиная с 3.8 version можно не ставить скобки в случае отсутствия аргументов у декоратора кэширования\n",
    "def fibonacci(n):\n",
    "    if n <= 2:\n",
    "        return 1\n",
    "    else:\n",
    "        return fibonacci(n - 1) + fibonacci(n - 2)\n",
    "    \n"
   ]
  },
  {
   "cell_type": "code",
   "execution_count": 4,
   "metadata": {},
   "outputs": [
    {
     "data": {
      "text/plain": [
       "102334155"
      ]
     },
     "execution_count": 4,
     "metadata": {},
     "output_type": "execute_result"
    }
   ],
   "source": [
    "fibonacci(40)"
   ]
  },
  {
   "attachments": {},
   "cell_type": "markdown",
   "metadata": {},
   "source": [
    "Аргументы декоратора кэширования lru-cache\n",
    "1) maxsize - по умолчанию 128 (если None - будет расти без ограничений) - для размера кэша\n",
    "2) typed - булево значение, указывается для понимания как рассматривать объекты для кэширования\n",
    "\n",
    "Если для typed задано значение True, то аргументы функций разных типов будут кэшироваться отдельно. Например, f(3) и f(3.0) будут рассматриваться как отдельные вызовы с разными результатами. Если для typed задано значение False, то вызовы будут рассматриваться как одинаковые."
   ]
  },
  {
   "cell_type": "code",
   "execution_count": 6,
   "metadata": {},
   "outputs": [
    {
     "name": "stdout",
     "output_type": "stream",
     "text": [
      "beegeek 4\n",
      "beegeek 5.0\n",
      "beegeek 4\n"
     ]
    }
   ],
   "source": [
    "from functools import lru_cache\n",
    "\n",
    "@lru_cache(typed=False)\n",
    "def concat(text, num):\n",
    "    return text + ' ' + str(num)\n",
    "\n",
    "print(concat('beegeek', 4))\n",
    "print(concat('beegeek', 5.0))\n",
    "print(concat('beegeek', 4.0))   # возьмет значение из кэша , рассчитанное выше"
   ]
  },
  {
   "cell_type": "code",
   "execution_count": 7,
   "metadata": {},
   "outputs": [
    {
     "name": "stdout",
     "output_type": "stream",
     "text": [
      "beegeek 4\n",
      "beegeek 5.0\n",
      "beegeek 4.0\n"
     ]
    }
   ],
   "source": [
    "from functools import lru_cache\n",
    "\n",
    "@lru_cache(typed=True)\n",
    "def concat(text, num):\n",
    "    return text + ' ' + str(num)\n",
    "\n",
    "print(concat('beegeek', 4))\n",
    "print(concat('beegeek', 5.0))\n",
    "print(concat('beegeek', 4.0))       # закэшируется каждый результат вызова функции"
   ]
  },
  {
   "cell_type": "code",
   "execution_count": 9,
   "metadata": {},
   "outputs": [
    {
     "name": "stdout",
     "output_type": "stream",
     "text": [
      "beegeek 1\n",
      "beegeek 1\n",
      "beegeek 1\n",
      "beegeek 4.0\n",
      "beegeek 5\n",
      "CacheInfo(hits=2, misses=3, maxsize=128, currsize=3)\n",
      "CacheInfo(hits=0, misses=0, maxsize=128, currsize=0)\n"
     ]
    }
   ],
   "source": [
    "from functools import lru_cache\n",
    "\n",
    "@lru_cache(typed=False)\n",
    "def concat(text, num):\n",
    "    return text + ' ' + str(num)\n",
    "\n",
    "print(concat('beegeek', 1))\n",
    "print(concat('beegeek', 1.0))\n",
    "print(concat('beegeek', True))\n",
    "print(concat('beegeek', 4.0))\n",
    "print(concat('beegeek', 5))\n",
    "\n",
    "print(concat.cache_info())  # вернет информацию о состоянии кэша\n",
    "# количество взятых из кэша элементов при каждом новом вызове функции \n",
    "# количество вычисленных значений, а не взятых из кэша \n",
    "# размер кэша \n",
    "# текущая заполненность кэша\n",
    "\n",
    "concat.cache_clear()            # очищает кэш\n",
    "print(concat.cache_info())\n",
    "\n"
   ]
  },
  {
   "cell_type": "code",
   "execution_count": 12,
   "metadata": {},
   "outputs": [
    {
     "name": "stdout",
     "output_type": "stream",
     "text": [
      "2 3 4 5 "
     ]
    },
    {
     "data": {
      "text/plain": [
       "CacheInfo(hits=4, misses=4, maxsize=128, currsize=4)"
      ]
     },
     "execution_count": 12,
     "metadata": {},
     "output_type": "execute_result"
    }
   ],
   "source": [
    "# вот тут наглядно о работе кода кэша https://stepik.org/lesson/751476/step/19?discussion=6338581&unit=753330\n",
    "\n",
    "from functools import lru_cache\n",
    "\n",
    "@lru_cache()\n",
    "def add_one(number):\n",
    "    print(number + 1, end=' ')\n",
    "    \n",
    "numbers = [1, 2, 3, 1, 3, 4, 4, 1]\n",
    "\n",
    "for i in numbers:\n",
    "    add_one(i)\n",
    "\n",
    "add_one.cache_info()"
   ]
  },
  {
   "cell_type": "code",
   "execution_count": 13,
   "metadata": {},
   "outputs": [
    {
     "name": "stdout",
     "output_type": "stream",
     "text": [
      "2 3 4 2 4 5 5 2 "
     ]
    }
   ],
   "source": [
    "def add_one(number):\n",
    "    print(number + 1, end=' ')\n",
    "    \n",
    "numbers = [1, 2, 3, 1, 3, 4, 4, 1]\n",
    "\n",
    "for i in numbers:\n",
    "    add_one(i)"
   ]
  },
  {
   "attachments": {},
   "cell_type": "markdown",
   "metadata": {},
   "source": [
    "### Задачи на мемоизацию"
   ]
  },
  {
   "attachments": {},
   "cell_type": "markdown",
   "metadata": {},
   "source": [
    "        Дима решил выучить английский алфавит, и чтобы изучение шло быстрее, он придумал упражнение: он берет произвольное английское слово и расставляет в нем все буквы в лексикографическом порядке. Иногда Дима берет слова повторно, так как не помнит, брал ли их раньше.\n",
    "\n",
    "        Напишите программу, которая принимает на вход произвольное количество английских слов и в каждом расставляет буквы в лексикографическом порядке."
   ]
  },
  {
   "cell_type": "code",
   "execution_count": null,
   "metadata": {},
   "outputs": [],
   "source": [
    "from functools import lru_cache\n",
    "from sys import stdin\n",
    "\n",
    "@lru_cache\n",
    "def sorted_words(word):\n",
    "    return ''.join(sorted(word))\n",
    "\n",
    "print(*[sorted_words(word.strip()) for word in stdin.readlines()], sep='\\n')"
   ]
  },
  {
   "attachments": {},
   "cell_type": "markdown",
   "metadata": {},
   "source": [
    "        Дима любит учиться, но не любит получать низкие оценки, больше всего его огорчают двойки. Поэтому, когда Дима добирается до квартиры по лестнице, он поднимается исключительно на одну, три или четыре ступени, но не на две.\n",
    "\n",
    "        Реализуйте функцию ways(), которая принимает один аргумент:\n",
    "\n",
    "        n — натуральное число (n≤ 100)\n",
    "        Функция должна возвращать единственное число — количество способов, которыми можно забраться на n-ую ступень. Путь начинается с первой ступени, подниматься можно исключительно на одну, три или четыре ступени."
   ]
  },
  {
   "cell_type": "code",
   "execution_count": 1,
   "metadata": {},
   "outputs": [
    {
     "name": "stdout",
     "output_type": "stream",
     "text": [
      "Время выполнения ways_rec: 0.001 сек.\n",
      "100887593057066418230392292155377327989230367617830561023371358463025154196882692957626260961048402217375\n",
      "\n",
      "Время выполнения ways_din: 0.0002 сек.\n",
      "100887593057066418230392292155377327989230367617830561023371358463025154196882692957626260961048402217375\n"
     ]
    }
   ],
   "source": [
    "import functools, time \n",
    "\n",
    "# декоратор подсчета времени работы функции\n",
    "def timer(func):\n",
    "    @functools.wraps(func)\n",
    "    def wrapper(*args, **kwargs):\n",
    "        start = time.perf_counter()\n",
    "        val = func(*args, **kwargs)\n",
    "        end = time.perf_counter()\n",
    "        work_time = end - start\n",
    "        print(f'Время выполнения {func.__name__}: {round(work_time, 4)} сек.')\n",
    "        return val\n",
    "    return wrapper\n",
    "\n",
    "@timer\n",
    "def ways_rec(n):\n",
    "    \"\"\" рекурсивная функция, которая считает количество вариантов попасть на n ступеньку , \n",
    "    имея возможность шагать на 1, 3 и 4 ступеньки за раз\"\"\"\n",
    "    cache = {0:1, 1:1, 2:1, 3:1, 4:2}\n",
    "    def temp(n):\n",
    "        result = cache.get(n)\n",
    "        if result is None:\n",
    "            result = temp(n-1) + temp(n-3) + temp(n-4)\n",
    "            cache[n] = result\n",
    "        return result\n",
    "    return temp(n)\n",
    "\n",
    "\n",
    "\n",
    "@timer\n",
    "def ways_din(n):\n",
    "    \"\"\" функция динамического программирования, которая считает количество вариантов попасть на n ступеньку , \n",
    "    имея возможность шагать на 1, 3 и 4 ступеньки за раз \"\"\"\n",
    "    if n < 5: return (1,1,1,1,2)[n]\n",
    "    \n",
    "    else:\n",
    "        dp = [0] * (n+1)\n",
    "        dp[0] = dp[1] = dp[2] =dp[3] = 1\n",
    "        dp[4] = 2\n",
    "        \n",
    "        for i in range(5, n+1):\n",
    "            dp[i] = dp[i-1] + dp[i-3] + dp[i-4]\n",
    "        return dp[n]\n",
    "\n",
    "\n",
    "print(ways_rec(500))\n",
    "print()\n",
    "\n",
    "\n",
    "print(ways_din(500))"
   ]
  },
  {
   "cell_type": "code",
   "execution_count": 2,
   "metadata": {},
   "outputs": [
    {
     "name": "stdout",
     "output_type": "stream",
     "text": [
      "Время выполнения ways_din: 0.0 сек.\n",
      "1\n"
     ]
    }
   ],
   "source": [
    "print(ways_din(1))"
   ]
  },
  {
   "cell_type": "code",
   "execution_count": null,
   "metadata": {},
   "outputs": [],
   "source": []
  }
 ],
 "metadata": {
  "kernelspec": {
   "display_name": "Python 3",
   "language": "python",
   "name": "python3"
  },
  "language_info": {
   "codemirror_mode": {
    "name": "ipython",
    "version": 3
   },
   "file_extension": ".py",
   "mimetype": "text/x-python",
   "name": "python",
   "nbconvert_exporter": "python",
   "pygments_lexer": "ipython3",
   "version": "3.11.3"
  },
  "orig_nbformat": 4,
  "vscode": {
   "interpreter": {
    "hash": "aee8b7b246df8f9039afb4144a1f6fd8d2ca17a180786b69acc140d282b71a49"
   }
  }
 },
 "nbformat": 4,
 "nbformat_minor": 2
}
