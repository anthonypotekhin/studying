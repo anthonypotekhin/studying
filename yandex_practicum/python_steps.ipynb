{
 "cells": [
  {
   "cell_type": "code",
   "execution_count": 1,
   "metadata": {},
   "outputs": [
    {
     "name": "stdout",
     "output_type": "stream",
     "text": [
      "[1972, 'драма, криминал']\n"
     ]
    }
   ],
   "source": [
    "second_row = ['Крёстный отец', 'США', 1972, 'драма, криминал', 175, 8.730]\n",
    "movie_slice = second_row[2:-2]\n",
    "print(movie_slice)"
   ]
  },
  {
   "cell_type": "code",
   "execution_count": 2,
   "metadata": {},
   "outputs": [
    {
     "name": "stdout",
     "output_type": "stream",
     "text": [
      "['Сталкер', 'СССР', 1979, 'фантастика, драма, детектив', 163, 8.083]\n"
     ]
    }
   ],
   "source": [
    "stalker_info = ['Сталкер', 'СССР', 1979]\n",
    "stalker_info.extend(['фантастика, драма, детектив'])\n",
    "stalker_info.extend([163])\n",
    "stalker_info.extend([8.083])\n",
    "print(stalker_info)"
   ]
  },
  {
   "cell_type": "code",
   "execution_count": 2,
   "metadata": {},
   "outputs": [
    {
     "data": {
      "text/plain": [
       "276"
      ]
     },
     "execution_count": 2,
     "metadata": {},
     "output_type": "execute_result"
    }
   ],
   "source": [
    "from statistics import mean\n",
    "mean([254, 237, 337])"
   ]
  },
  {
   "cell_type": "code",
   "execution_count": null,
   "metadata": {},
   "outputs": [],
   "source": []
  }
 ],
 "metadata": {
  "kernelspec": {
   "display_name": "Python 3",
   "language": "python",
   "name": "python3"
  },
  "language_info": {
   "codemirror_mode": {
    "name": "ipython",
    "version": 3
   },
   "file_extension": ".py",
   "mimetype": "text/x-python",
   "name": "python",
   "nbconvert_exporter": "python",
   "pygments_lexer": "ipython3",
   "version": "3.10.7"
  },
  "orig_nbformat": 4
 },
 "nbformat": 4,
 "nbformat_minor": 2
}
