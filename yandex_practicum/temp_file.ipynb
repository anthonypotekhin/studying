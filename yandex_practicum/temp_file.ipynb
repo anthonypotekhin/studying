{
 "cells": [
  {
   "cell_type": "code",
   "execution_count": null,
   "metadata": {},
   "outputs": [],
   "source": [
    "import pandas as pd\n",
    "import seaborn as sns\n",
    "import matplotlib.pyplot as plt\n",
    "\n",
    "# Вычисляем корреляцию\n",
    "correlation_matrix = data_price_corr.corr()\n",
    "\n",
    "# Строим тепловую карту\n",
    "plt.figure(figsize=(8, 6))\n",
    "sns.heatmap(correlation_matrix[['last_price']], annot=True, cmap='coolwarm', vmin=-1, vmax=1)\n",
    "plt.title('Корреляция между Ценой и другими параметрами')\n",
    "plt.show()"
   ]
  },
  {
   "cell_type": "markdown",
   "metadata": {},
   "source": [
    "<font color='red'>\n",
    "\n",
    "Вывод: \n",
    "\n",
    "1) цена сильнее всего зависит от площади (общей, жилой, кухни) и числа комнат - но это и так понятно, все эти величины коррелируют и между собой, потому что взаимозависимы.\n",
    "\n",
    "2) и не зависит от того, когда квартира выставляется (ни день, ни месяц, ни год не влияют) - тоже ничего удивительного\n",
    "\n",
    "</font>"
   ]
  },
  {
   "cell_type": "markdown",
   "metadata": {},
   "source": [
    "        14. Посчитаем среднюю цену одного квадратного метра в 10 населённых пунктах с наибольшим числом объявлений — построим сводную таблицу с количеством объявлений и средней ценой квадратного метра для этих населенных пунктов. Выделим населённые пункты с самой высокой и низкой стоимостью квадратного метра."
   ]
  },
  {
   "cell_type": "code",
   "execution_count": null,
   "metadata": {},
   "outputs": [],
   "source": []
  }
 ],
 "metadata": {
  "language_info": {
   "name": "python"
  }
 },
 "nbformat": 4,
 "nbformat_minor": 2
}
