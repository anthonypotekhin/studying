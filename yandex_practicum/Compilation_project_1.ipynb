{
 "cells": [
  {
   "cell_type": "markdown",
   "metadata": {},
   "source": [
    "### Сборный проект №1\n",
    "[ссылка на практикум](https://practicum.yandex.ru/learn/data-scientist/courses/05fc6f4e-775b-43b8-b9d3-6eb470e1a00a/sprints/176021/topics/2bb8744d-a0e9-4da9-9cfc-8a23a90a39b1/lessons/48a04d31-755b-4ca1-a953-1a9bd1b3169e/)"
   ]
  },
  {
   "cell_type": "markdown",
   "metadata": {},
   "source": [
    "#### Описание проекта\n"
   ]
  },
  {
   "cell_type": "markdown",
   "metadata": {},
   "source": [
    "Вы работаете в интернет-магазине «Стримчик», который продаёт по всему миру компьютерные игры. Из открытых источников доступны исторические данные о продажах игр, оценки пользователей и экспертов, жанры и платформы (например, Xbox или PlayStation). Вам нужно выявить определяющие успешность игры закономерности. Это позволит сделать ставку на потенциально популярный продукт и спланировать рекламные кампании.\n",
    "\n",
    "Перед вами данные до 2016 года. Представим, что сейчас декабрь 2016 г., и вы планируете кампанию на 2017-й. Нужно отработать принцип работы с данными. Неважно, прогнозируете ли вы продажи на 2017 год по данным 2016-го или же 2027-й — по данным 2026 года.\n",
    "\n",
    "В наборе данных попадается аббревиатура ESRB (Entertainment Software Rating Board) — это ассоциация, определяющая возрастной рейтинг компьютерных игр. ESRB оценивает игровой контент и присваивает ему подходящую возрастную категорию, например, «Для взрослых», «Для детей младшего возраста» или «Для подростков»."
   ]
  },
  {
   "cell_type": "markdown",
   "metadata": {},
   "source": [
    "#### Шаг 1. Открыть данные, изучить информацию"
   ]
  },
  {
   "cell_type": "code",
   "execution_count": 2,
   "metadata": {},
   "outputs": [],
   "source": [
    "import pandas as pd"
   ]
  },
  {
   "cell_type": "code",
   "execution_count": 3,
   "metadata": {},
   "outputs": [
    {
     "data": {
      "text/plain": [
       "\"\\ndataset_link = '/datasets/games.csv'\\n\\n\""
      ]
     },
     "execution_count": 3,
     "metadata": {},
     "output_type": "execute_result"
    }
   ],
   "source": [
    "# раскомментировать строку с путем до файла для ревьюера\n",
    "\"\"\"\n",
    "dataset_link = '/datasets/games.csv'\n",
    "\n",
    "\"\"\""
   ]
  },
  {
   "cell_type": "code",
   "execution_count": 4,
   "metadata": {},
   "outputs": [],
   "source": [
    "# закомментировать строку с путем до файла( на моем диске)\n",
    "\n",
    "dataset_link = '/Users/tony_builder/Documents/GitHub/studying/yandex_practicum/data/games.csv'\n"
   ]
  },
  {
   "cell_type": "code",
   "execution_count": 5,
   "metadata": {},
   "outputs": [
    {
     "data": {
      "text/html": [
       "<div>\n",
       "<style scoped>\n",
       "    .dataframe tbody tr th:only-of-type {\n",
       "        vertical-align: middle;\n",
       "    }\n",
       "\n",
       "    .dataframe tbody tr th {\n",
       "        vertical-align: top;\n",
       "    }\n",
       "\n",
       "    .dataframe thead th {\n",
       "        text-align: right;\n",
       "    }\n",
       "</style>\n",
       "<table border=\"1\" class=\"dataframe\">\n",
       "  <thead>\n",
       "    <tr style=\"text-align: right;\">\n",
       "      <th></th>\n",
       "      <th>Name</th>\n",
       "      <th>Platform</th>\n",
       "      <th>Year_of_Release</th>\n",
       "      <th>Genre</th>\n",
       "      <th>NA_sales</th>\n",
       "      <th>EU_sales</th>\n",
       "      <th>JP_sales</th>\n",
       "      <th>Other_sales</th>\n",
       "      <th>Critic_Score</th>\n",
       "      <th>User_Score</th>\n",
       "      <th>Rating</th>\n",
       "    </tr>\n",
       "  </thead>\n",
       "  <tbody>\n",
       "    <tr>\n",
       "      <th>0</th>\n",
       "      <td>Wii Sports</td>\n",
       "      <td>Wii</td>\n",
       "      <td>2006.0</td>\n",
       "      <td>Sports</td>\n",
       "      <td>41.36</td>\n",
       "      <td>28.96</td>\n",
       "      <td>3.77</td>\n",
       "      <td>8.45</td>\n",
       "      <td>76.0</td>\n",
       "      <td>8</td>\n",
       "      <td>E</td>\n",
       "    </tr>\n",
       "    <tr>\n",
       "      <th>1</th>\n",
       "      <td>Super Mario Bros.</td>\n",
       "      <td>NES</td>\n",
       "      <td>1985.0</td>\n",
       "      <td>Platform</td>\n",
       "      <td>29.08</td>\n",
       "      <td>3.58</td>\n",
       "      <td>6.81</td>\n",
       "      <td>0.77</td>\n",
       "      <td>NaN</td>\n",
       "      <td>NaN</td>\n",
       "      <td>NaN</td>\n",
       "    </tr>\n",
       "    <tr>\n",
       "      <th>2</th>\n",
       "      <td>Mario Kart Wii</td>\n",
       "      <td>Wii</td>\n",
       "      <td>2008.0</td>\n",
       "      <td>Racing</td>\n",
       "      <td>15.68</td>\n",
       "      <td>12.76</td>\n",
       "      <td>3.79</td>\n",
       "      <td>3.29</td>\n",
       "      <td>82.0</td>\n",
       "      <td>8.3</td>\n",
       "      <td>E</td>\n",
       "    </tr>\n",
       "    <tr>\n",
       "      <th>3</th>\n",
       "      <td>Wii Sports Resort</td>\n",
       "      <td>Wii</td>\n",
       "      <td>2009.0</td>\n",
       "      <td>Sports</td>\n",
       "      <td>15.61</td>\n",
       "      <td>10.93</td>\n",
       "      <td>3.28</td>\n",
       "      <td>2.95</td>\n",
       "      <td>80.0</td>\n",
       "      <td>8</td>\n",
       "      <td>E</td>\n",
       "    </tr>\n",
       "    <tr>\n",
       "      <th>4</th>\n",
       "      <td>Pokemon Red/Pokemon Blue</td>\n",
       "      <td>GB</td>\n",
       "      <td>1996.0</td>\n",
       "      <td>Role-Playing</td>\n",
       "      <td>11.27</td>\n",
       "      <td>8.89</td>\n",
       "      <td>10.22</td>\n",
       "      <td>1.00</td>\n",
       "      <td>NaN</td>\n",
       "      <td>NaN</td>\n",
       "      <td>NaN</td>\n",
       "    </tr>\n",
       "  </tbody>\n",
       "</table>\n",
       "</div>"
      ],
      "text/plain": [
       "                       Name Platform  Year_of_Release         Genre  NA_sales  \\\n",
       "0                Wii Sports      Wii           2006.0        Sports     41.36   \n",
       "1         Super Mario Bros.      NES           1985.0      Platform     29.08   \n",
       "2            Mario Kart Wii      Wii           2008.0        Racing     15.68   \n",
       "3         Wii Sports Resort      Wii           2009.0        Sports     15.61   \n",
       "4  Pokemon Red/Pokemon Blue       GB           1996.0  Role-Playing     11.27   \n",
       "\n",
       "   EU_sales  JP_sales  Other_sales  Critic_Score User_Score Rating  \n",
       "0     28.96      3.77         8.45          76.0          8      E  \n",
       "1      3.58      6.81         0.77           NaN        NaN    NaN  \n",
       "2     12.76      3.79         3.29          82.0        8.3      E  \n",
       "3     10.93      3.28         2.95          80.0          8      E  \n",
       "4      8.89     10.22         1.00           NaN        NaN    NaN  "
      ]
     },
     "execution_count": 5,
     "metadata": {},
     "output_type": "execute_result"
    }
   ],
   "source": [
    "data = pd.read_csv(dataset_link)\n",
    "data.head()"
   ]
  },
  {
   "cell_type": "code",
   "execution_count": 6,
   "metadata": {},
   "outputs": [
    {
     "data": {
      "text/plain": [
       "(16715, 11)"
      ]
     },
     "execution_count": 6,
     "metadata": {},
     "output_type": "execute_result"
    }
   ],
   "source": [
    "data.shape"
   ]
  },
  {
   "cell_type": "code",
   "execution_count": 7,
   "metadata": {},
   "outputs": [
    {
     "name": "stdout",
     "output_type": "stream",
     "text": [
      "<class 'pandas.core.frame.DataFrame'>\n",
      "RangeIndex: 16715 entries, 0 to 16714\n",
      "Data columns (total 11 columns):\n",
      " #   Column           Non-Null Count  Dtype  \n",
      "---  ------           --------------  -----  \n",
      " 0   Name             16713 non-null  object \n",
      " 1   Platform         16715 non-null  object \n",
      " 2   Year_of_Release  16446 non-null  float64\n",
      " 3   Genre            16713 non-null  object \n",
      " 4   NA_sales         16715 non-null  float64\n",
      " 5   EU_sales         16715 non-null  float64\n",
      " 6   JP_sales         16715 non-null  float64\n",
      " 7   Other_sales      16715 non-null  float64\n",
      " 8   Critic_Score     8137 non-null   float64\n",
      " 9   User_Score       10014 non-null  object \n",
      " 10  Rating           9949 non-null   object \n",
      "dtypes: float64(6), object(5)\n",
      "memory usage: 1.4+ MB\n"
     ]
    }
   ],
   "source": [
    "data.info()"
   ]
  },
  {
   "cell_type": "markdown",
   "metadata": {},
   "source": [
    "<font color='red'>**Вывод по шагу 1:**</font>\n",
    "\n",
    "- 16715 строк, 11 столбцов\n",
    "- есть пустые значения \n",
    "- названия столбцов нужно привести в соответствие\n",
    "\n",
    "<font color='green'>**Итог:**</font> данные требуют предобработки"
   ]
  },
  {
   "cell_type": "markdown",
   "metadata": {},
   "source": [
    "#### Шаг 2. Подготовка данных для анализа"
   ]
  },
  {
   "cell_type": "markdown",
   "metadata": {},
   "source": [
    "##### 2.1. Сначала приведем все имена столбцов к нижнему регистру"
   ]
  },
  {
   "cell_type": "code",
   "execution_count": 8,
   "metadata": {},
   "outputs": [],
   "source": [
    "for col in data.columns:\n",
    "    data = data.rename(columns={col: col.lower()})"
   ]
  },
  {
   "cell_type": "code",
   "execution_count": 9,
   "metadata": {},
   "outputs": [
    {
     "data": {
      "text/plain": [
       "Index(['name', 'platform', 'year_of_release', 'genre', 'na_sales', 'eu_sales',\n",
       "       'jp_sales', 'other_sales', 'critic_score', 'user_score', 'rating'],\n",
       "      dtype='object')"
      ]
     },
     "execution_count": 9,
     "metadata": {},
     "output_type": "execute_result"
    }
   ],
   "source": [
    "data.columns"
   ]
  },
  {
   "cell_type": "markdown",
   "metadata": {},
   "source": [
    "Выше видим, что все сработало. Но тут мало столбцов, а так можно проверить, что все столбцы теперь в нижнем регистре: \n",
    "\n",
    "- возьмем итератор, в котором заменим все названия столбца на булево значение (проверка на то, что название столбца в нижнем регистре)\n",
    "- посчитаем сумму итератора (должны быть все единички)\n",
    "- вычтем число столбцов = 11\n",
    "\n",
    "Должно получиться 0"
   ]
  },
  {
   "cell_type": "code",
   "execution_count": 10,
   "metadata": {},
   "outputs": [
    {
     "data": {
      "text/plain": [
       "0"
      ]
     },
     "execution_count": 10,
     "metadata": {},
     "output_type": "execute_result"
    }
   ],
   "source": [
    "sum((col.islower() for col in data.columns)) - 11"
   ]
  },
  {
   "cell_type": "markdown",
   "metadata": {},
   "source": [
    "##### 2.2. Теперь поработаем с пропусками"
   ]
  },
  {
   "cell_type": "markdown",
   "metadata": {},
   "source": [
    "###### 2.2.1 в столбце name "
   ]
  },
  {
   "cell_type": "code",
   "execution_count": 11,
   "metadata": {},
   "outputs": [
    {
     "data": {
      "text/html": [
       "<div>\n",
       "<style scoped>\n",
       "    .dataframe tbody tr th:only-of-type {\n",
       "        vertical-align: middle;\n",
       "    }\n",
       "\n",
       "    .dataframe tbody tr th {\n",
       "        vertical-align: top;\n",
       "    }\n",
       "\n",
       "    .dataframe thead th {\n",
       "        text-align: right;\n",
       "    }\n",
       "</style>\n",
       "<table border=\"1\" class=\"dataframe\">\n",
       "  <thead>\n",
       "    <tr style=\"text-align: right;\">\n",
       "      <th></th>\n",
       "      <th>name</th>\n",
       "      <th>platform</th>\n",
       "      <th>year_of_release</th>\n",
       "      <th>genre</th>\n",
       "      <th>na_sales</th>\n",
       "      <th>eu_sales</th>\n",
       "      <th>jp_sales</th>\n",
       "      <th>other_sales</th>\n",
       "      <th>critic_score</th>\n",
       "      <th>user_score</th>\n",
       "      <th>rating</th>\n",
       "    </tr>\n",
       "  </thead>\n",
       "  <tbody>\n",
       "    <tr>\n",
       "      <th>659</th>\n",
       "      <td>NaN</td>\n",
       "      <td>GEN</td>\n",
       "      <td>1993.0</td>\n",
       "      <td>NaN</td>\n",
       "      <td>1.78</td>\n",
       "      <td>0.53</td>\n",
       "      <td>0.00</td>\n",
       "      <td>0.08</td>\n",
       "      <td>NaN</td>\n",
       "      <td>NaN</td>\n",
       "      <td>NaN</td>\n",
       "    </tr>\n",
       "    <tr>\n",
       "      <th>14244</th>\n",
       "      <td>NaN</td>\n",
       "      <td>GEN</td>\n",
       "      <td>1993.0</td>\n",
       "      <td>NaN</td>\n",
       "      <td>0.00</td>\n",
       "      <td>0.00</td>\n",
       "      <td>0.03</td>\n",
       "      <td>0.00</td>\n",
       "      <td>NaN</td>\n",
       "      <td>NaN</td>\n",
       "      <td>NaN</td>\n",
       "    </tr>\n",
       "  </tbody>\n",
       "</table>\n",
       "</div>"
      ],
      "text/plain": [
       "      name platform  year_of_release genre  na_sales  eu_sales  jp_sales  \\\n",
       "659    NaN      GEN           1993.0   NaN      1.78      0.53      0.00   \n",
       "14244  NaN      GEN           1993.0   NaN      0.00      0.00      0.03   \n",
       "\n",
       "       other_sales  critic_score user_score rating  \n",
       "659           0.08           NaN        NaN    NaN  \n",
       "14244         0.00           NaN        NaN    NaN  "
      ]
     },
     "execution_count": 11,
     "metadata": {},
     "output_type": "execute_result"
    }
   ],
   "source": [
    "data[data.name.isna()]"
   ]
  },
  {
   "cell_type": "markdown",
   "metadata": {},
   "source": [
    "всего два значения, причем второе не вызывает никаких сомнений - удалить без жалости.\n",
    "\n",
    "а что со вторым? по нему могут быть интересны только продажи по году (1993) и по платформе (GEN) - именно на эти параметры могут повлиять суммы продаж при построении сводных. Посмотрим на них внимательно\n"
   ]
  },
  {
   "cell_type": "code",
   "execution_count": 12,
   "metadata": {},
   "outputs": [
    {
     "data": {
      "text/html": [
       "<div>\n",
       "<style scoped>\n",
       "    .dataframe tbody tr th:only-of-type {\n",
       "        vertical-align: middle;\n",
       "    }\n",
       "\n",
       "    .dataframe tbody tr th {\n",
       "        vertical-align: top;\n",
       "    }\n",
       "\n",
       "    .dataframe thead th {\n",
       "        text-align: right;\n",
       "    }\n",
       "</style>\n",
       "<table border=\"1\" class=\"dataframe\">\n",
       "  <thead>\n",
       "    <tr style=\"text-align: right;\">\n",
       "      <th></th>\n",
       "      <th>na_sales</th>\n",
       "      <th>eu_sales</th>\n",
       "      <th>other_sales</th>\n",
       "    </tr>\n",
       "    <tr>\n",
       "      <th>year_of_release</th>\n",
       "      <th></th>\n",
       "      <th></th>\n",
       "      <th></th>\n",
       "    </tr>\n",
       "  </thead>\n",
       "  <tbody>\n",
       "    <tr>\n",
       "      <th>1993.0</th>\n",
       "      <td>16.9</td>\n",
       "      <td>5.18</td>\n",
       "      <td>0.97</td>\n",
       "    </tr>\n",
       "  </tbody>\n",
       "</table>\n",
       "</div>"
      ],
      "text/plain": [
       "                 na_sales  eu_sales  other_sales\n",
       "year_of_release                                 \n",
       "1993.0               16.9      5.18         0.97"
      ]
     },
     "execution_count": 12,
     "metadata": {},
     "output_type": "execute_result"
    }
   ],
   "source": [
    "data.groupby('year_of_release').\\\n",
    "    agg({'na_sales': 'sum', 'eu_sales': 'sum', 'other_sales': 'sum'}).\\\n",
    "    query('year_of_release == 1993.0')"
   ]
  },
  {
   "cell_type": "markdown",
   "metadata": {},
   "source": [
    "ну вообще-то продажи безымянной игры по регионам составляют аж 10% от общих продаж по году.\n",
    "\n",
    "пренебрегать такими данными нельзя."
   ]
  },
  {
   "cell_type": "code",
   "execution_count": 13,
   "metadata": {},
   "outputs": [],
   "source": [
    "# убираем только вторую строку\n",
    "data.drop(index=14244, inplace=True)"
   ]
  },
  {
   "cell_type": "markdown",
   "metadata": {},
   "source": [
    "Заменим значение nan на unknown "
   ]
  },
  {
   "cell_type": "code",
   "execution_count": 14,
   "metadata": {},
   "outputs": [],
   "source": [
    "data.name.fillna('unknown', inplace=True)"
   ]
  },
  {
   "cell_type": "code",
   "execution_count": 15,
   "metadata": {},
   "outputs": [
    {
     "data": {
      "text/html": [
       "<div>\n",
       "<style scoped>\n",
       "    .dataframe tbody tr th:only-of-type {\n",
       "        vertical-align: middle;\n",
       "    }\n",
       "\n",
       "    .dataframe tbody tr th {\n",
       "        vertical-align: top;\n",
       "    }\n",
       "\n",
       "    .dataframe thead th {\n",
       "        text-align: right;\n",
       "    }\n",
       "</style>\n",
       "<table border=\"1\" class=\"dataframe\">\n",
       "  <thead>\n",
       "    <tr style=\"text-align: right;\">\n",
       "      <th></th>\n",
       "      <th>name</th>\n",
       "      <th>platform</th>\n",
       "      <th>year_of_release</th>\n",
       "      <th>genre</th>\n",
       "      <th>na_sales</th>\n",
       "      <th>eu_sales</th>\n",
       "      <th>jp_sales</th>\n",
       "      <th>other_sales</th>\n",
       "      <th>critic_score</th>\n",
       "      <th>user_score</th>\n",
       "      <th>rating</th>\n",
       "    </tr>\n",
       "  </thead>\n",
       "  <tbody>\n",
       "  </tbody>\n",
       "</table>\n",
       "</div>"
      ],
      "text/plain": [
       "Empty DataFrame\n",
       "Columns: [name, platform, year_of_release, genre, na_sales, eu_sales, jp_sales, other_sales, critic_score, user_score, rating]\n",
       "Index: []"
      ]
     },
     "execution_count": 15,
     "metadata": {},
     "output_type": "execute_result"
    }
   ],
   "source": [
    "data[data.name.isna()]"
   ]
  },
  {
   "cell_type": "markdown",
   "metadata": {},
   "source": [
    "Неплохо бы поменять тип столбца год выпуска на целочисленное значение, но там 269 пустых значений с типом float.\n",
    "\n",
    "посмотрим что это значения"
   ]
  },
  {
   "cell_type": "markdown",
   "metadata": {},
   "source": [
    "###### 2.2.2. пропуски в столбце год выпуска"
   ]
  },
  {
   "cell_type": "code",
   "execution_count": 16,
   "metadata": {},
   "outputs": [
    {
     "data": {
      "text/html": [
       "<div>\n",
       "<style scoped>\n",
       "    .dataframe tbody tr th:only-of-type {\n",
       "        vertical-align: middle;\n",
       "    }\n",
       "\n",
       "    .dataframe tbody tr th {\n",
       "        vertical-align: top;\n",
       "    }\n",
       "\n",
       "    .dataframe thead th {\n",
       "        text-align: right;\n",
       "    }\n",
       "</style>\n",
       "<table border=\"1\" class=\"dataframe\">\n",
       "  <thead>\n",
       "    <tr style=\"text-align: right;\">\n",
       "      <th></th>\n",
       "      <th>name</th>\n",
       "      <th>platform</th>\n",
       "      <th>year_of_release</th>\n",
       "      <th>genre</th>\n",
       "      <th>na_sales</th>\n",
       "      <th>eu_sales</th>\n",
       "      <th>jp_sales</th>\n",
       "      <th>other_sales</th>\n",
       "      <th>critic_score</th>\n",
       "      <th>user_score</th>\n",
       "      <th>rating</th>\n",
       "    </tr>\n",
       "  </thead>\n",
       "  <tbody>\n",
       "    <tr>\n",
       "      <th>183</th>\n",
       "      <td>Madden NFL 2004</td>\n",
       "      <td>PS2</td>\n",
       "      <td>NaN</td>\n",
       "      <td>Sports</td>\n",
       "      <td>4.26</td>\n",
       "      <td>0.26</td>\n",
       "      <td>0.01</td>\n",
       "      <td>0.71</td>\n",
       "      <td>94.0</td>\n",
       "      <td>8.5</td>\n",
       "      <td>E</td>\n",
       "    </tr>\n",
       "    <tr>\n",
       "      <th>377</th>\n",
       "      <td>FIFA Soccer 2004</td>\n",
       "      <td>PS2</td>\n",
       "      <td>NaN</td>\n",
       "      <td>Sports</td>\n",
       "      <td>0.59</td>\n",
       "      <td>2.36</td>\n",
       "      <td>0.04</td>\n",
       "      <td>0.51</td>\n",
       "      <td>84.0</td>\n",
       "      <td>6.4</td>\n",
       "      <td>E</td>\n",
       "    </tr>\n",
       "    <tr>\n",
       "      <th>456</th>\n",
       "      <td>LEGO Batman: The Videogame</td>\n",
       "      <td>Wii</td>\n",
       "      <td>NaN</td>\n",
       "      <td>Action</td>\n",
       "      <td>1.80</td>\n",
       "      <td>0.97</td>\n",
       "      <td>0.00</td>\n",
       "      <td>0.29</td>\n",
       "      <td>74.0</td>\n",
       "      <td>7.9</td>\n",
       "      <td>E10+</td>\n",
       "    </tr>\n",
       "    <tr>\n",
       "      <th>475</th>\n",
       "      <td>wwe Smackdown vs. Raw 2006</td>\n",
       "      <td>PS2</td>\n",
       "      <td>NaN</td>\n",
       "      <td>Fighting</td>\n",
       "      <td>1.57</td>\n",
       "      <td>1.02</td>\n",
       "      <td>0.00</td>\n",
       "      <td>0.41</td>\n",
       "      <td>NaN</td>\n",
       "      <td>NaN</td>\n",
       "      <td>NaN</td>\n",
       "    </tr>\n",
       "    <tr>\n",
       "      <th>609</th>\n",
       "      <td>Space Invaders</td>\n",
       "      <td>2600</td>\n",
       "      <td>NaN</td>\n",
       "      <td>Shooter</td>\n",
       "      <td>2.36</td>\n",
       "      <td>0.14</td>\n",
       "      <td>0.00</td>\n",
       "      <td>0.03</td>\n",
       "      <td>NaN</td>\n",
       "      <td>NaN</td>\n",
       "      <td>NaN</td>\n",
       "    </tr>\n",
       "    <tr>\n",
       "      <th>...</th>\n",
       "      <td>...</td>\n",
       "      <td>...</td>\n",
       "      <td>...</td>\n",
       "      <td>...</td>\n",
       "      <td>...</td>\n",
       "      <td>...</td>\n",
       "      <td>...</td>\n",
       "      <td>...</td>\n",
       "      <td>...</td>\n",
       "      <td>...</td>\n",
       "      <td>...</td>\n",
       "    </tr>\n",
       "    <tr>\n",
       "      <th>16373</th>\n",
       "      <td>PDC World Championship Darts 2008</td>\n",
       "      <td>PSP</td>\n",
       "      <td>NaN</td>\n",
       "      <td>Sports</td>\n",
       "      <td>0.01</td>\n",
       "      <td>0.00</td>\n",
       "      <td>0.00</td>\n",
       "      <td>0.00</td>\n",
       "      <td>43.0</td>\n",
       "      <td>tbd</td>\n",
       "      <td>E10+</td>\n",
       "    </tr>\n",
       "    <tr>\n",
       "      <th>16405</th>\n",
       "      <td>Freaky Flyers</td>\n",
       "      <td>GC</td>\n",
       "      <td>NaN</td>\n",
       "      <td>Racing</td>\n",
       "      <td>0.01</td>\n",
       "      <td>0.00</td>\n",
       "      <td>0.00</td>\n",
       "      <td>0.00</td>\n",
       "      <td>69.0</td>\n",
       "      <td>6.5</td>\n",
       "      <td>T</td>\n",
       "    </tr>\n",
       "    <tr>\n",
       "      <th>16448</th>\n",
       "      <td>Inversion</td>\n",
       "      <td>PC</td>\n",
       "      <td>NaN</td>\n",
       "      <td>Shooter</td>\n",
       "      <td>0.01</td>\n",
       "      <td>0.00</td>\n",
       "      <td>0.00</td>\n",
       "      <td>0.00</td>\n",
       "      <td>59.0</td>\n",
       "      <td>6.7</td>\n",
       "      <td>M</td>\n",
       "    </tr>\n",
       "    <tr>\n",
       "      <th>16458</th>\n",
       "      <td>Hakuouki: Shinsengumi Kitan</td>\n",
       "      <td>PS3</td>\n",
       "      <td>NaN</td>\n",
       "      <td>Adventure</td>\n",
       "      <td>0.01</td>\n",
       "      <td>0.00</td>\n",
       "      <td>0.00</td>\n",
       "      <td>0.00</td>\n",
       "      <td>NaN</td>\n",
       "      <td>NaN</td>\n",
       "      <td>NaN</td>\n",
       "    </tr>\n",
       "    <tr>\n",
       "      <th>16522</th>\n",
       "      <td>Virtua Quest</td>\n",
       "      <td>GC</td>\n",
       "      <td>NaN</td>\n",
       "      <td>Role-Playing</td>\n",
       "      <td>0.01</td>\n",
       "      <td>0.00</td>\n",
       "      <td>0.00</td>\n",
       "      <td>0.00</td>\n",
       "      <td>55.0</td>\n",
       "      <td>5.5</td>\n",
       "      <td>T</td>\n",
       "    </tr>\n",
       "  </tbody>\n",
       "</table>\n",
       "<p>269 rows × 11 columns</p>\n",
       "</div>"
      ],
      "text/plain": [
       "                                    name platform  year_of_release  \\\n",
       "183                      Madden NFL 2004      PS2              NaN   \n",
       "377                     FIFA Soccer 2004      PS2              NaN   \n",
       "456           LEGO Batman: The Videogame      Wii              NaN   \n",
       "475           wwe Smackdown vs. Raw 2006      PS2              NaN   \n",
       "609                       Space Invaders     2600              NaN   \n",
       "...                                  ...      ...              ...   \n",
       "16373  PDC World Championship Darts 2008      PSP              NaN   \n",
       "16405                      Freaky Flyers       GC              NaN   \n",
       "16448                          Inversion       PC              NaN   \n",
       "16458        Hakuouki: Shinsengumi Kitan      PS3              NaN   \n",
       "16522                       Virtua Quest       GC              NaN   \n",
       "\n",
       "              genre  na_sales  eu_sales  jp_sales  other_sales  critic_score  \\\n",
       "183          Sports      4.26      0.26      0.01         0.71          94.0   \n",
       "377          Sports      0.59      2.36      0.04         0.51          84.0   \n",
       "456          Action      1.80      0.97      0.00         0.29          74.0   \n",
       "475        Fighting      1.57      1.02      0.00         0.41           NaN   \n",
       "609         Shooter      2.36      0.14      0.00         0.03           NaN   \n",
       "...             ...       ...       ...       ...          ...           ...   \n",
       "16373        Sports      0.01      0.00      0.00         0.00          43.0   \n",
       "16405        Racing      0.01      0.00      0.00         0.00          69.0   \n",
       "16448       Shooter      0.01      0.00      0.00         0.00          59.0   \n",
       "16458     Adventure      0.01      0.00      0.00         0.00           NaN   \n",
       "16522  Role-Playing      0.01      0.00      0.00         0.00          55.0   \n",
       "\n",
       "      user_score rating  \n",
       "183          8.5      E  \n",
       "377          6.4      E  \n",
       "456          7.9   E10+  \n",
       "475          NaN    NaN  \n",
       "609          NaN    NaN  \n",
       "...          ...    ...  \n",
       "16373        tbd   E10+  \n",
       "16405        6.5      T  \n",
       "16448        6.7      M  \n",
       "16458        NaN    NaN  \n",
       "16522        5.5      T  \n",
       "\n",
       "[269 rows x 11 columns]"
      ]
     },
     "execution_count": 16,
     "metadata": {},
     "output_type": "execute_result"
    }
   ],
   "source": [
    "data[data.year_of_release.isna()]"
   ]
  },
  {
   "cell_type": "markdown",
   "metadata": {},
   "source": [
    "Интересно: в названии игр встречается упоминание о годе. Может отсюда можно почерпнуть информацию для пустых значений по году?\n",
    "\n",
    "Проверим это:\n",
    "- сделаем срез по всем играм, у которых указан год в имени\n",
    "- оставим только те, у которых значение в столбце год выпуска не пустое\n",
    "- если они совпадают  - можно сделать вывод, что это применимо и к остальным играм"
   ]
  },
  {
   "cell_type": "code",
   "execution_count": 17,
   "metadata": {},
   "outputs": [],
   "source": [
    "import re\n",
    "import numpy as np"
   ]
  },
  {
   "cell_type": "code",
   "execution_count": 18,
   "metadata": {},
   "outputs": [
    {
     "name": "stdout",
     "output_type": "stream",
     "text": [
      "2004\n"
     ]
    }
   ],
   "source": [
    "regex = r\"[0-9]{4}\"\n",
    "\n",
    "print(re.search(regex, 'FIFA Soccer 2004').group())"
   ]
  },
  {
   "cell_type": "code",
   "execution_count": 19,
   "metadata": {},
   "outputs": [],
   "source": [
    "def find_year_in_name(string):\n",
    "    regex = r\"[0-9]{4}\"\n",
    "    match = re.search(regex, str(string))\n",
    "    return match.group() if match else None"
   ]
  },
  {
   "cell_type": "code",
   "execution_count": 20,
   "metadata": {},
   "outputs": [],
   "source": [
    "data['year_in_name'] = data.name.apply(find_year_in_name)"
   ]
  },
  {
   "cell_type": "code",
   "execution_count": 21,
   "metadata": {},
   "outputs": [
    {
     "data": {
      "text/html": [
       "<div>\n",
       "<style scoped>\n",
       "    .dataframe tbody tr th:only-of-type {\n",
       "        vertical-align: middle;\n",
       "    }\n",
       "\n",
       "    .dataframe tbody tr th {\n",
       "        vertical-align: top;\n",
       "    }\n",
       "\n",
       "    .dataframe thead th {\n",
       "        text-align: right;\n",
       "    }\n",
       "</style>\n",
       "<table border=\"1\" class=\"dataframe\">\n",
       "  <thead>\n",
       "    <tr style=\"text-align: right;\">\n",
       "      <th></th>\n",
       "      <th>name</th>\n",
       "      <th>platform</th>\n",
       "      <th>year_of_release</th>\n",
       "      <th>genre</th>\n",
       "      <th>na_sales</th>\n",
       "      <th>eu_sales</th>\n",
       "      <th>jp_sales</th>\n",
       "      <th>other_sales</th>\n",
       "      <th>critic_score</th>\n",
       "      <th>user_score</th>\n",
       "      <th>rating</th>\n",
       "      <th>year_in_name</th>\n",
       "    </tr>\n",
       "  </thead>\n",
       "  <tbody>\n",
       "    <tr>\n",
       "      <th>87</th>\n",
       "      <td>Star Wars Battlefront (2015)</td>\n",
       "      <td>PS4</td>\n",
       "      <td>2015.0</td>\n",
       "      <td>Shooter</td>\n",
       "      <td>2.99</td>\n",
       "      <td>3.49</td>\n",
       "      <td>0.22</td>\n",
       "      <td>1.28</td>\n",
       "      <td>NaN</td>\n",
       "      <td>NaN</td>\n",
       "      <td>NaN</td>\n",
       "      <td>2015</td>\n",
       "    </tr>\n",
       "    <tr>\n",
       "      <th>183</th>\n",
       "      <td>Madden NFL 2004</td>\n",
       "      <td>PS2</td>\n",
       "      <td>NaN</td>\n",
       "      <td>Sports</td>\n",
       "      <td>4.26</td>\n",
       "      <td>0.26</td>\n",
       "      <td>0.01</td>\n",
       "      <td>0.71</td>\n",
       "      <td>94.0</td>\n",
       "      <td>8.5</td>\n",
       "      <td>E</td>\n",
       "      <td>2004</td>\n",
       "    </tr>\n",
       "    <tr>\n",
       "      <th>206</th>\n",
       "      <td>Warzone 2100</td>\n",
       "      <td>PS</td>\n",
       "      <td>1999.0</td>\n",
       "      <td>Strategy</td>\n",
       "      <td>2.79</td>\n",
       "      <td>1.89</td>\n",
       "      <td>0.00</td>\n",
       "      <td>0.33</td>\n",
       "      <td>NaN</td>\n",
       "      <td>NaN</td>\n",
       "      <td>NaN</td>\n",
       "      <td>2100</td>\n",
       "    </tr>\n",
       "    <tr>\n",
       "      <th>238</th>\n",
       "      <td>Madden NFL 2005</td>\n",
       "      <td>PS2</td>\n",
       "      <td>2004.0</td>\n",
       "      <td>Sports</td>\n",
       "      <td>4.18</td>\n",
       "      <td>0.26</td>\n",
       "      <td>0.01</td>\n",
       "      <td>0.08</td>\n",
       "      <td>91.0</td>\n",
       "      <td>7.9</td>\n",
       "      <td>E</td>\n",
       "      <td>2005</td>\n",
       "    </tr>\n",
       "    <tr>\n",
       "      <th>250</th>\n",
       "      <td>Winning Eleven: Pro Evolution Soccer 2007</td>\n",
       "      <td>PS2</td>\n",
       "      <td>2006.0</td>\n",
       "      <td>Sports</td>\n",
       "      <td>0.10</td>\n",
       "      <td>2.39</td>\n",
       "      <td>1.05</td>\n",
       "      <td>0.86</td>\n",
       "      <td>86.0</td>\n",
       "      <td>8.9</td>\n",
       "      <td>E</td>\n",
       "      <td>2007</td>\n",
       "    </tr>\n",
       "    <tr>\n",
       "      <th>...</th>\n",
       "      <td>...</td>\n",
       "      <td>...</td>\n",
       "      <td>...</td>\n",
       "      <td>...</td>\n",
       "      <td>...</td>\n",
       "      <td>...</td>\n",
       "      <td>...</td>\n",
       "      <td>...</td>\n",
       "      <td>...</td>\n",
       "      <td>...</td>\n",
       "      <td>...</td>\n",
       "      <td>...</td>\n",
       "    </tr>\n",
       "    <tr>\n",
       "      <th>16676</th>\n",
       "      <td>G1 Jockey 4 2008</td>\n",
       "      <td>PS3</td>\n",
       "      <td>2008.0</td>\n",
       "      <td>Sports</td>\n",
       "      <td>0.00</td>\n",
       "      <td>0.00</td>\n",
       "      <td>0.00</td>\n",
       "      <td>0.00</td>\n",
       "      <td>NaN</td>\n",
       "      <td>NaN</td>\n",
       "      <td>NaN</td>\n",
       "      <td>2008</td>\n",
       "    </tr>\n",
       "    <tr>\n",
       "      <th>16697</th>\n",
       "      <td>Bust-A-Move 3000</td>\n",
       "      <td>GC</td>\n",
       "      <td>2003.0</td>\n",
       "      <td>Puzzle</td>\n",
       "      <td>0.01</td>\n",
       "      <td>0.00</td>\n",
       "      <td>0.00</td>\n",
       "      <td>0.00</td>\n",
       "      <td>53.0</td>\n",
       "      <td>tbd</td>\n",
       "      <td>E</td>\n",
       "      <td>3000</td>\n",
       "    </tr>\n",
       "    <tr>\n",
       "      <th>16709</th>\n",
       "      <td>SCORE International Baja 1000: The Official Game</td>\n",
       "      <td>PS2</td>\n",
       "      <td>2008.0</td>\n",
       "      <td>Racing</td>\n",
       "      <td>0.00</td>\n",
       "      <td>0.00</td>\n",
       "      <td>0.00</td>\n",
       "      <td>0.00</td>\n",
       "      <td>NaN</td>\n",
       "      <td>NaN</td>\n",
       "      <td>NaN</td>\n",
       "      <td>1000</td>\n",
       "    </tr>\n",
       "    <tr>\n",
       "      <th>16711</th>\n",
       "      <td>LMA Manager 2007</td>\n",
       "      <td>X360</td>\n",
       "      <td>2006.0</td>\n",
       "      <td>Sports</td>\n",
       "      <td>0.00</td>\n",
       "      <td>0.01</td>\n",
       "      <td>0.00</td>\n",
       "      <td>0.00</td>\n",
       "      <td>NaN</td>\n",
       "      <td>NaN</td>\n",
       "      <td>NaN</td>\n",
       "      <td>2007</td>\n",
       "    </tr>\n",
       "    <tr>\n",
       "      <th>16714</th>\n",
       "      <td>Winning Post 8 2016</td>\n",
       "      <td>PSV</td>\n",
       "      <td>2016.0</td>\n",
       "      <td>Simulation</td>\n",
       "      <td>0.00</td>\n",
       "      <td>0.00</td>\n",
       "      <td>0.01</td>\n",
       "      <td>0.00</td>\n",
       "      <td>NaN</td>\n",
       "      <td>NaN</td>\n",
       "      <td>NaN</td>\n",
       "      <td>2016</td>\n",
       "    </tr>\n",
       "  </tbody>\n",
       "</table>\n",
       "<p>898 rows × 12 columns</p>\n",
       "</div>"
      ],
      "text/plain": [
       "                                                   name platform  \\\n",
       "87                         Star Wars Battlefront (2015)      PS4   \n",
       "183                                     Madden NFL 2004      PS2   \n",
       "206                                        Warzone 2100       PS   \n",
       "238                                     Madden NFL 2005      PS2   \n",
       "250           Winning Eleven: Pro Evolution Soccer 2007      PS2   \n",
       "...                                                 ...      ...   \n",
       "16676                                  G1 Jockey 4 2008      PS3   \n",
       "16697                                  Bust-A-Move 3000       GC   \n",
       "16709  SCORE International Baja 1000: The Official Game      PS2   \n",
       "16711                                  LMA Manager 2007     X360   \n",
       "16714                               Winning Post 8 2016      PSV   \n",
       "\n",
       "       year_of_release       genre  na_sales  eu_sales  jp_sales  other_sales  \\\n",
       "87              2015.0     Shooter      2.99      3.49      0.22         1.28   \n",
       "183                NaN      Sports      4.26      0.26      0.01         0.71   \n",
       "206             1999.0    Strategy      2.79      1.89      0.00         0.33   \n",
       "238             2004.0      Sports      4.18      0.26      0.01         0.08   \n",
       "250             2006.0      Sports      0.10      2.39      1.05         0.86   \n",
       "...                ...         ...       ...       ...       ...          ...   \n",
       "16676           2008.0      Sports      0.00      0.00      0.00         0.00   \n",
       "16697           2003.0      Puzzle      0.01      0.00      0.00         0.00   \n",
       "16709           2008.0      Racing      0.00      0.00      0.00         0.00   \n",
       "16711           2006.0      Sports      0.00      0.01      0.00         0.00   \n",
       "16714           2016.0  Simulation      0.00      0.00      0.01         0.00   \n",
       "\n",
       "       critic_score user_score rating year_in_name  \n",
       "87              NaN        NaN    NaN         2015  \n",
       "183            94.0        8.5      E         2004  \n",
       "206             NaN        NaN    NaN         2100  \n",
       "238            91.0        7.9      E         2005  \n",
       "250            86.0        8.9      E         2007  \n",
       "...             ...        ...    ...          ...  \n",
       "16676           NaN        NaN    NaN         2008  \n",
       "16697          53.0        tbd      E         3000  \n",
       "16709           NaN        NaN    NaN         1000  \n",
       "16711           NaN        NaN    NaN         2007  \n",
       "16714           NaN        NaN    NaN         2016  \n",
       "\n",
       "[898 rows x 12 columns]"
      ]
     },
     "execution_count": 21,
     "metadata": {},
     "output_type": "execute_result"
    }
   ],
   "source": [
    "data[~data.year_in_name.isna()]"
   ]
  },
  {
   "cell_type": "markdown",
   "metadata": {},
   "source": [
    "Бегло пройдясь сходу видны и явные ошибки такого метода - например, в названии игры \"SCORE International Baja 1000: The Official Game\" есть цифра 1000, но разумеется это не может быть годом.\n",
    "\n",
    "вывод - нужно немного доработать функцию find_year_in_name"
   ]
  },
  {
   "cell_type": "code",
   "execution_count": 22,
   "metadata": {},
   "outputs": [
    {
     "data": {
      "text/plain": [
       "[1980.0,\n",
       " 1981.0,\n",
       " 1982.0,\n",
       " 1983.0,\n",
       " 1984.0,\n",
       " 1985.0,\n",
       " 1986.0,\n",
       " 1987.0,\n",
       " 1988.0,\n",
       " 1989.0,\n",
       " 1990.0,\n",
       " 1991.0,\n",
       " 1992.0,\n",
       " 1993.0,\n",
       " 1994.0,\n",
       " 1995.0,\n",
       " 1996.0,\n",
       " 1997.0,\n",
       " 1998.0,\n",
       " 1999.0,\n",
       " 2000.0,\n",
       " 2001.0,\n",
       " 2002.0,\n",
       " 2003.0,\n",
       " 2004.0,\n",
       " 2005.0,\n",
       " 2006.0,\n",
       " 2007.0,\n",
       " 2008.0,\n",
       " 2009.0,\n",
       " 2010.0,\n",
       " 2011.0,\n",
       " 2012.0,\n",
       " 2013.0,\n",
       " 2014.0,\n",
       " 2015.0,\n",
       " 2016.0,\n",
       " nan]"
      ]
     },
     "execution_count": 22,
     "metadata": {},
     "output_type": "execute_result"
    }
   ],
   "source": [
    "# посмотрим весь дипазон годов выпуска игр\n",
    "sorted(data.year_of_release.unique())"
   ]
  },
  {
   "cell_type": "code",
   "execution_count": 23,
   "metadata": {},
   "outputs": [],
   "source": [
    "def find_year_in_name_2(string):\n",
    "    regex = r\"[0-9]{4}\"\n",
    "    match = re.search(regex, str(string))\n",
    "    if match:\n",
    "        res = int(match.group())\n",
    "        if 1980<=res <= 2016  : return res\n",
    "\n",
    "    else: return None"
   ]
  },
  {
   "cell_type": "code",
   "execution_count": 24,
   "metadata": {},
   "outputs": [],
   "source": [
    "data.drop(columns= 'year_in_name', inplace=True)"
   ]
  },
  {
   "cell_type": "code",
   "execution_count": 25,
   "metadata": {},
   "outputs": [],
   "source": [
    "data['year_in_name'] = data.name.apply(find_year_in_name_2)"
   ]
  },
  {
   "cell_type": "code",
   "execution_count": 26,
   "metadata": {},
   "outputs": [
    {
     "data": {
      "text/html": [
       "<div>\n",
       "<style scoped>\n",
       "    .dataframe tbody tr th:only-of-type {\n",
       "        vertical-align: middle;\n",
       "    }\n",
       "\n",
       "    .dataframe tbody tr th {\n",
       "        vertical-align: top;\n",
       "    }\n",
       "\n",
       "    .dataframe thead th {\n",
       "        text-align: right;\n",
       "    }\n",
       "</style>\n",
       "<table border=\"1\" class=\"dataframe\">\n",
       "  <thead>\n",
       "    <tr style=\"text-align: right;\">\n",
       "      <th></th>\n",
       "      <th>name</th>\n",
       "      <th>platform</th>\n",
       "      <th>year_of_release</th>\n",
       "      <th>genre</th>\n",
       "      <th>na_sales</th>\n",
       "      <th>eu_sales</th>\n",
       "      <th>jp_sales</th>\n",
       "      <th>other_sales</th>\n",
       "      <th>critic_score</th>\n",
       "      <th>user_score</th>\n",
       "      <th>rating</th>\n",
       "      <th>year_in_name</th>\n",
       "    </tr>\n",
       "  </thead>\n",
       "  <tbody>\n",
       "    <tr>\n",
       "      <th>87</th>\n",
       "      <td>Star Wars Battlefront (2015)</td>\n",
       "      <td>PS4</td>\n",
       "      <td>2015.0</td>\n",
       "      <td>Shooter</td>\n",
       "      <td>2.99</td>\n",
       "      <td>3.49</td>\n",
       "      <td>0.22</td>\n",
       "      <td>1.28</td>\n",
       "      <td>NaN</td>\n",
       "      <td>NaN</td>\n",
       "      <td>NaN</td>\n",
       "      <td>2015.0</td>\n",
       "    </tr>\n",
       "    <tr>\n",
       "      <th>183</th>\n",
       "      <td>Madden NFL 2004</td>\n",
       "      <td>PS2</td>\n",
       "      <td>NaN</td>\n",
       "      <td>Sports</td>\n",
       "      <td>4.26</td>\n",
       "      <td>0.26</td>\n",
       "      <td>0.01</td>\n",
       "      <td>0.71</td>\n",
       "      <td>94.0</td>\n",
       "      <td>8.5</td>\n",
       "      <td>E</td>\n",
       "      <td>2004.0</td>\n",
       "    </tr>\n",
       "    <tr>\n",
       "      <th>238</th>\n",
       "      <td>Madden NFL 2005</td>\n",
       "      <td>PS2</td>\n",
       "      <td>2004.0</td>\n",
       "      <td>Sports</td>\n",
       "      <td>4.18</td>\n",
       "      <td>0.26</td>\n",
       "      <td>0.01</td>\n",
       "      <td>0.08</td>\n",
       "      <td>91.0</td>\n",
       "      <td>7.9</td>\n",
       "      <td>E</td>\n",
       "      <td>2005.0</td>\n",
       "    </tr>\n",
       "    <tr>\n",
       "      <th>250</th>\n",
       "      <td>Winning Eleven: Pro Evolution Soccer 2007</td>\n",
       "      <td>PS2</td>\n",
       "      <td>2006.0</td>\n",
       "      <td>Sports</td>\n",
       "      <td>0.10</td>\n",
       "      <td>2.39</td>\n",
       "      <td>1.05</td>\n",
       "      <td>0.86</td>\n",
       "      <td>86.0</td>\n",
       "      <td>8.9</td>\n",
       "      <td>E</td>\n",
       "      <td>2007.0</td>\n",
       "    </tr>\n",
       "    <tr>\n",
       "      <th>283</th>\n",
       "      <td>Madden NFL 2003</td>\n",
       "      <td>PS2</td>\n",
       "      <td>2002.0</td>\n",
       "      <td>Sports</td>\n",
       "      <td>3.36</td>\n",
       "      <td>0.21</td>\n",
       "      <td>0.01</td>\n",
       "      <td>0.56</td>\n",
       "      <td>95.0</td>\n",
       "      <td>7.7</td>\n",
       "      <td>E</td>\n",
       "      <td>2003.0</td>\n",
       "    </tr>\n",
       "    <tr>\n",
       "      <th>...</th>\n",
       "      <td>...</td>\n",
       "      <td>...</td>\n",
       "      <td>...</td>\n",
       "      <td>...</td>\n",
       "      <td>...</td>\n",
       "      <td>...</td>\n",
       "      <td>...</td>\n",
       "      <td>...</td>\n",
       "      <td>...</td>\n",
       "      <td>...</td>\n",
       "      <td>...</td>\n",
       "      <td>...</td>\n",
       "    </tr>\n",
       "    <tr>\n",
       "      <th>16638</th>\n",
       "      <td>Tour de France 2014</td>\n",
       "      <td>PS3</td>\n",
       "      <td>2014.0</td>\n",
       "      <td>Sports</td>\n",
       "      <td>0.00</td>\n",
       "      <td>0.01</td>\n",
       "      <td>0.00</td>\n",
       "      <td>0.00</td>\n",
       "      <td>NaN</td>\n",
       "      <td>tbd</td>\n",
       "      <td>E</td>\n",
       "      <td>2014.0</td>\n",
       "    </tr>\n",
       "    <tr>\n",
       "      <th>16658</th>\n",
       "      <td>Driving Simulator 2011</td>\n",
       "      <td>PC</td>\n",
       "      <td>2011.0</td>\n",
       "      <td>Racing</td>\n",
       "      <td>0.00</td>\n",
       "      <td>0.01</td>\n",
       "      <td>0.00</td>\n",
       "      <td>0.00</td>\n",
       "      <td>NaN</td>\n",
       "      <td>NaN</td>\n",
       "      <td>NaN</td>\n",
       "      <td>2011.0</td>\n",
       "    </tr>\n",
       "    <tr>\n",
       "      <th>16676</th>\n",
       "      <td>G1 Jockey 4 2008</td>\n",
       "      <td>PS3</td>\n",
       "      <td>2008.0</td>\n",
       "      <td>Sports</td>\n",
       "      <td>0.00</td>\n",
       "      <td>0.00</td>\n",
       "      <td>0.00</td>\n",
       "      <td>0.00</td>\n",
       "      <td>NaN</td>\n",
       "      <td>NaN</td>\n",
       "      <td>NaN</td>\n",
       "      <td>2008.0</td>\n",
       "    </tr>\n",
       "    <tr>\n",
       "      <th>16711</th>\n",
       "      <td>LMA Manager 2007</td>\n",
       "      <td>X360</td>\n",
       "      <td>2006.0</td>\n",
       "      <td>Sports</td>\n",
       "      <td>0.00</td>\n",
       "      <td>0.01</td>\n",
       "      <td>0.00</td>\n",
       "      <td>0.00</td>\n",
       "      <td>NaN</td>\n",
       "      <td>NaN</td>\n",
       "      <td>NaN</td>\n",
       "      <td>2007.0</td>\n",
       "    </tr>\n",
       "    <tr>\n",
       "      <th>16714</th>\n",
       "      <td>Winning Post 8 2016</td>\n",
       "      <td>PSV</td>\n",
       "      <td>2016.0</td>\n",
       "      <td>Simulation</td>\n",
       "      <td>0.00</td>\n",
       "      <td>0.00</td>\n",
       "      <td>0.01</td>\n",
       "      <td>0.00</td>\n",
       "      <td>NaN</td>\n",
       "      <td>NaN</td>\n",
       "      <td>NaN</td>\n",
       "      <td>2016.0</td>\n",
       "    </tr>\n",
       "  </tbody>\n",
       "</table>\n",
       "<p>832 rows × 12 columns</p>\n",
       "</div>"
      ],
      "text/plain": [
       "                                            name platform  year_of_release  \\\n",
       "87                  Star Wars Battlefront (2015)      PS4           2015.0   \n",
       "183                              Madden NFL 2004      PS2              NaN   \n",
       "238                              Madden NFL 2005      PS2           2004.0   \n",
       "250    Winning Eleven: Pro Evolution Soccer 2007      PS2           2006.0   \n",
       "283                              Madden NFL 2003      PS2           2002.0   \n",
       "...                                          ...      ...              ...   \n",
       "16638                        Tour de France 2014      PS3           2014.0   \n",
       "16658                     Driving Simulator 2011       PC           2011.0   \n",
       "16676                           G1 Jockey 4 2008      PS3           2008.0   \n",
       "16711                           LMA Manager 2007     X360           2006.0   \n",
       "16714                        Winning Post 8 2016      PSV           2016.0   \n",
       "\n",
       "            genre  na_sales  eu_sales  jp_sales  other_sales  critic_score  \\\n",
       "87        Shooter      2.99      3.49      0.22         1.28           NaN   \n",
       "183        Sports      4.26      0.26      0.01         0.71          94.0   \n",
       "238        Sports      4.18      0.26      0.01         0.08          91.0   \n",
       "250        Sports      0.10      2.39      1.05         0.86          86.0   \n",
       "283        Sports      3.36      0.21      0.01         0.56          95.0   \n",
       "...           ...       ...       ...       ...          ...           ...   \n",
       "16638      Sports      0.00      0.01      0.00         0.00           NaN   \n",
       "16658      Racing      0.00      0.01      0.00         0.00           NaN   \n",
       "16676      Sports      0.00      0.00      0.00         0.00           NaN   \n",
       "16711      Sports      0.00      0.01      0.00         0.00           NaN   \n",
       "16714  Simulation      0.00      0.00      0.01         0.00           NaN   \n",
       "\n",
       "      user_score rating  year_in_name  \n",
       "87           NaN    NaN        2015.0  \n",
       "183          8.5      E        2004.0  \n",
       "238          7.9      E        2005.0  \n",
       "250          8.9      E        2007.0  \n",
       "283          7.7      E        2003.0  \n",
       "...          ...    ...           ...  \n",
       "16638        tbd      E        2014.0  \n",
       "16658        NaN    NaN        2011.0  \n",
       "16676        NaN    NaN        2008.0  \n",
       "16711        NaN    NaN        2007.0  \n",
       "16714        NaN    NaN        2016.0  \n",
       "\n",
       "[832 rows x 12 columns]"
      ]
     },
     "execution_count": 26,
     "metadata": {},
     "output_type": "execute_result"
    }
   ],
   "source": [
    "data[~data.year_in_name.isna()]"
   ]
  },
  {
   "cell_type": "markdown",
   "metadata": {},
   "source": [
    "Выберем только те строки, у которых в обоих столбца по годам нет пустых значений"
   ]
  },
  {
   "cell_type": "code",
   "execution_count": 27,
   "metadata": {},
   "outputs": [
    {
     "data": {
      "text/html": [
       "<div>\n",
       "<style scoped>\n",
       "    .dataframe tbody tr th:only-of-type {\n",
       "        vertical-align: middle;\n",
       "    }\n",
       "\n",
       "    .dataframe tbody tr th {\n",
       "        vertical-align: top;\n",
       "    }\n",
       "\n",
       "    .dataframe thead th {\n",
       "        text-align: right;\n",
       "    }\n",
       "</style>\n",
       "<table border=\"1\" class=\"dataframe\">\n",
       "  <thead>\n",
       "    <tr style=\"text-align: right;\">\n",
       "      <th></th>\n",
       "      <th>name</th>\n",
       "      <th>platform</th>\n",
       "      <th>year_of_release</th>\n",
       "      <th>genre</th>\n",
       "      <th>na_sales</th>\n",
       "      <th>eu_sales</th>\n",
       "      <th>jp_sales</th>\n",
       "      <th>other_sales</th>\n",
       "      <th>critic_score</th>\n",
       "      <th>user_score</th>\n",
       "      <th>rating</th>\n",
       "      <th>year_in_name</th>\n",
       "    </tr>\n",
       "  </thead>\n",
       "  <tbody>\n",
       "    <tr>\n",
       "      <th>87</th>\n",
       "      <td>Star Wars Battlefront (2015)</td>\n",
       "      <td>PS4</td>\n",
       "      <td>2015.0</td>\n",
       "      <td>Shooter</td>\n",
       "      <td>2.99</td>\n",
       "      <td>3.49</td>\n",
       "      <td>0.22</td>\n",
       "      <td>1.28</td>\n",
       "      <td>NaN</td>\n",
       "      <td>NaN</td>\n",
       "      <td>NaN</td>\n",
       "      <td>2015.0</td>\n",
       "    </tr>\n",
       "    <tr>\n",
       "      <th>238</th>\n",
       "      <td>Madden NFL 2005</td>\n",
       "      <td>PS2</td>\n",
       "      <td>2004.0</td>\n",
       "      <td>Sports</td>\n",
       "      <td>4.18</td>\n",
       "      <td>0.26</td>\n",
       "      <td>0.01</td>\n",
       "      <td>0.08</td>\n",
       "      <td>91.0</td>\n",
       "      <td>7.9</td>\n",
       "      <td>E</td>\n",
       "      <td>2005.0</td>\n",
       "    </tr>\n",
       "    <tr>\n",
       "      <th>250</th>\n",
       "      <td>Winning Eleven: Pro Evolution Soccer 2007</td>\n",
       "      <td>PS2</td>\n",
       "      <td>2006.0</td>\n",
       "      <td>Sports</td>\n",
       "      <td>0.10</td>\n",
       "      <td>2.39</td>\n",
       "      <td>1.05</td>\n",
       "      <td>0.86</td>\n",
       "      <td>86.0</td>\n",
       "      <td>8.9</td>\n",
       "      <td>E</td>\n",
       "      <td>2007.0</td>\n",
       "    </tr>\n",
       "    <tr>\n",
       "      <th>283</th>\n",
       "      <td>Madden NFL 2003</td>\n",
       "      <td>PS2</td>\n",
       "      <td>2002.0</td>\n",
       "      <td>Sports</td>\n",
       "      <td>3.36</td>\n",
       "      <td>0.21</td>\n",
       "      <td>0.01</td>\n",
       "      <td>0.56</td>\n",
       "      <td>95.0</td>\n",
       "      <td>7.7</td>\n",
       "      <td>E</td>\n",
       "      <td>2003.0</td>\n",
       "    </tr>\n",
       "    <tr>\n",
       "      <th>333</th>\n",
       "      <td>Mario &amp; Sonic at the London 2012 Olympic Games</td>\n",
       "      <td>Wii</td>\n",
       "      <td>2011.0</td>\n",
       "      <td>Sports</td>\n",
       "      <td>1.12</td>\n",
       "      <td>1.87</td>\n",
       "      <td>0.27</td>\n",
       "      <td>0.45</td>\n",
       "      <td>NaN</td>\n",
       "      <td>NaN</td>\n",
       "      <td>NaN</td>\n",
       "      <td>2012.0</td>\n",
       "    </tr>\n",
       "    <tr>\n",
       "      <th>...</th>\n",
       "      <td>...</td>\n",
       "      <td>...</td>\n",
       "      <td>...</td>\n",
       "      <td>...</td>\n",
       "      <td>...</td>\n",
       "      <td>...</td>\n",
       "      <td>...</td>\n",
       "      <td>...</td>\n",
       "      <td>...</td>\n",
       "      <td>...</td>\n",
       "      <td>...</td>\n",
       "      <td>...</td>\n",
       "    </tr>\n",
       "    <tr>\n",
       "      <th>16638</th>\n",
       "      <td>Tour de France 2014</td>\n",
       "      <td>PS3</td>\n",
       "      <td>2014.0</td>\n",
       "      <td>Sports</td>\n",
       "      <td>0.00</td>\n",
       "      <td>0.01</td>\n",
       "      <td>0.00</td>\n",
       "      <td>0.00</td>\n",
       "      <td>NaN</td>\n",
       "      <td>tbd</td>\n",
       "      <td>E</td>\n",
       "      <td>2014.0</td>\n",
       "    </tr>\n",
       "    <tr>\n",
       "      <th>16658</th>\n",
       "      <td>Driving Simulator 2011</td>\n",
       "      <td>PC</td>\n",
       "      <td>2011.0</td>\n",
       "      <td>Racing</td>\n",
       "      <td>0.00</td>\n",
       "      <td>0.01</td>\n",
       "      <td>0.00</td>\n",
       "      <td>0.00</td>\n",
       "      <td>NaN</td>\n",
       "      <td>NaN</td>\n",
       "      <td>NaN</td>\n",
       "      <td>2011.0</td>\n",
       "    </tr>\n",
       "    <tr>\n",
       "      <th>16676</th>\n",
       "      <td>G1 Jockey 4 2008</td>\n",
       "      <td>PS3</td>\n",
       "      <td>2008.0</td>\n",
       "      <td>Sports</td>\n",
       "      <td>0.00</td>\n",
       "      <td>0.00</td>\n",
       "      <td>0.00</td>\n",
       "      <td>0.00</td>\n",
       "      <td>NaN</td>\n",
       "      <td>NaN</td>\n",
       "      <td>NaN</td>\n",
       "      <td>2008.0</td>\n",
       "    </tr>\n",
       "    <tr>\n",
       "      <th>16711</th>\n",
       "      <td>LMA Manager 2007</td>\n",
       "      <td>X360</td>\n",
       "      <td>2006.0</td>\n",
       "      <td>Sports</td>\n",
       "      <td>0.00</td>\n",
       "      <td>0.01</td>\n",
       "      <td>0.00</td>\n",
       "      <td>0.00</td>\n",
       "      <td>NaN</td>\n",
       "      <td>NaN</td>\n",
       "      <td>NaN</td>\n",
       "      <td>2007.0</td>\n",
       "    </tr>\n",
       "    <tr>\n",
       "      <th>16714</th>\n",
       "      <td>Winning Post 8 2016</td>\n",
       "      <td>PSV</td>\n",
       "      <td>2016.0</td>\n",
       "      <td>Simulation</td>\n",
       "      <td>0.00</td>\n",
       "      <td>0.00</td>\n",
       "      <td>0.01</td>\n",
       "      <td>0.00</td>\n",
       "      <td>NaN</td>\n",
       "      <td>NaN</td>\n",
       "      <td>NaN</td>\n",
       "      <td>2016.0</td>\n",
       "    </tr>\n",
       "  </tbody>\n",
       "</table>\n",
       "<p>815 rows × 12 columns</p>\n",
       "</div>"
      ],
      "text/plain": [
       "                                                 name platform  \\\n",
       "87                       Star Wars Battlefront (2015)      PS4   \n",
       "238                                   Madden NFL 2005      PS2   \n",
       "250         Winning Eleven: Pro Evolution Soccer 2007      PS2   \n",
       "283                                   Madden NFL 2003      PS2   \n",
       "333    Mario & Sonic at the London 2012 Olympic Games      Wii   \n",
       "...                                               ...      ...   \n",
       "16638                             Tour de France 2014      PS3   \n",
       "16658                          Driving Simulator 2011       PC   \n",
       "16676                                G1 Jockey 4 2008      PS3   \n",
       "16711                                LMA Manager 2007     X360   \n",
       "16714                             Winning Post 8 2016      PSV   \n",
       "\n",
       "       year_of_release       genre  na_sales  eu_sales  jp_sales  other_sales  \\\n",
       "87              2015.0     Shooter      2.99      3.49      0.22         1.28   \n",
       "238             2004.0      Sports      4.18      0.26      0.01         0.08   \n",
       "250             2006.0      Sports      0.10      2.39      1.05         0.86   \n",
       "283             2002.0      Sports      3.36      0.21      0.01         0.56   \n",
       "333             2011.0      Sports      1.12      1.87      0.27         0.45   \n",
       "...                ...         ...       ...       ...       ...          ...   \n",
       "16638           2014.0      Sports      0.00      0.01      0.00         0.00   \n",
       "16658           2011.0      Racing      0.00      0.01      0.00         0.00   \n",
       "16676           2008.0      Sports      0.00      0.00      0.00         0.00   \n",
       "16711           2006.0      Sports      0.00      0.01      0.00         0.00   \n",
       "16714           2016.0  Simulation      0.00      0.00      0.01         0.00   \n",
       "\n",
       "       critic_score user_score rating  year_in_name  \n",
       "87              NaN        NaN    NaN        2015.0  \n",
       "238            91.0        7.9      E        2005.0  \n",
       "250            86.0        8.9      E        2007.0  \n",
       "283            95.0        7.7      E        2003.0  \n",
       "333             NaN        NaN    NaN        2012.0  \n",
       "...             ...        ...    ...           ...  \n",
       "16638           NaN        tbd      E        2014.0  \n",
       "16658           NaN        NaN    NaN        2011.0  \n",
       "16676           NaN        NaN    NaN        2008.0  \n",
       "16711           NaN        NaN    NaN        2007.0  \n",
       "16714           NaN        NaN    NaN        2016.0  \n",
       "\n",
       "[815 rows x 12 columns]"
      ]
     },
     "execution_count": 27,
     "metadata": {},
     "output_type": "execute_result"
    }
   ],
   "source": [
    "data[(~data.year_of_release.isna()) & (~data.year_in_name.isna())]"
   ]
  },
  {
   "cell_type": "markdown",
   "metadata": {},
   "source": [
    "Очень похоже на то, что игра выпущена либо в тот же год, либо на следующий"
   ]
  },
  {
   "cell_type": "code",
   "execution_count": 28,
   "metadata": {},
   "outputs": [
    {
     "data": {
      "text/html": [
       "<div>\n",
       "<style scoped>\n",
       "    .dataframe tbody tr th:only-of-type {\n",
       "        vertical-align: middle;\n",
       "    }\n",
       "\n",
       "    .dataframe tbody tr th {\n",
       "        vertical-align: top;\n",
       "    }\n",
       "\n",
       "    .dataframe thead th {\n",
       "        text-align: right;\n",
       "    }\n",
       "</style>\n",
       "<table border=\"1\" class=\"dataframe\">\n",
       "  <thead>\n",
       "    <tr style=\"text-align: right;\">\n",
       "      <th></th>\n",
       "      <th>name</th>\n",
       "      <th>year_of_release</th>\n",
       "      <th>year_in_name</th>\n",
       "      <th>check_year</th>\n",
       "    </tr>\n",
       "  </thead>\n",
       "  <tbody>\n",
       "    <tr>\n",
       "      <th>87</th>\n",
       "      <td>Star Wars Battlefront (2015)</td>\n",
       "      <td>2015.0</td>\n",
       "      <td>2015.0</td>\n",
       "      <td>True</td>\n",
       "    </tr>\n",
       "    <tr>\n",
       "      <th>238</th>\n",
       "      <td>Madden NFL 2005</td>\n",
       "      <td>2004.0</td>\n",
       "      <td>2005.0</td>\n",
       "      <td>True</td>\n",
       "    </tr>\n",
       "    <tr>\n",
       "      <th>250</th>\n",
       "      <td>Winning Eleven: Pro Evolution Soccer 2007</td>\n",
       "      <td>2006.0</td>\n",
       "      <td>2007.0</td>\n",
       "      <td>True</td>\n",
       "    </tr>\n",
       "    <tr>\n",
       "      <th>283</th>\n",
       "      <td>Madden NFL 2003</td>\n",
       "      <td>2002.0</td>\n",
       "      <td>2003.0</td>\n",
       "      <td>True</td>\n",
       "    </tr>\n",
       "    <tr>\n",
       "      <th>333</th>\n",
       "      <td>Mario &amp; Sonic at the London 2012 Olympic Games</td>\n",
       "      <td>2011.0</td>\n",
       "      <td>2012.0</td>\n",
       "      <td>True</td>\n",
       "    </tr>\n",
       "  </tbody>\n",
       "</table>\n",
       "</div>"
      ],
      "text/plain": [
       "                                               name  year_of_release  \\\n",
       "87                     Star Wars Battlefront (2015)           2015.0   \n",
       "238                                 Madden NFL 2005           2004.0   \n",
       "250       Winning Eleven: Pro Evolution Soccer 2007           2006.0   \n",
       "283                                 Madden NFL 2003           2002.0   \n",
       "333  Mario & Sonic at the London 2012 Olympic Games           2011.0   \n",
       "\n",
       "     year_in_name  check_year  \n",
       "87         2015.0        True  \n",
       "238        2005.0        True  \n",
       "250        2007.0        True  \n",
       "283        2003.0        True  \n",
       "333        2012.0        True  "
      ]
     },
     "execution_count": 28,
     "metadata": {},
     "output_type": "execute_result"
    }
   ],
   "source": [
    "temp_df =  data[(~data.year_of_release.isna()) & (~data.year_in_name.isna())]\\\n",
    "            [['name', 'year_of_release', 'year_in_name']]\n",
    "\n",
    "temp_df['check_year'] = abs(temp_df.year_of_release - temp_df.year_in_name) <=1\n",
    "temp_df.head()"
   ]
  },
  {
   "cell_type": "code",
   "execution_count": 29,
   "metadata": {},
   "outputs": [
    {
     "data": {
      "text/plain": [
       "(815, 4)"
      ]
     },
     "execution_count": 29,
     "metadata": {},
     "output_type": "execute_result"
    }
   ],
   "source": [
    "temp_df.shape"
   ]
  },
  {
   "cell_type": "code",
   "execution_count": 30,
   "metadata": {},
   "outputs": [
    {
     "data": {
      "text/plain": [
       "784"
      ]
     },
     "execution_count": 30,
     "metadata": {},
     "output_type": "execute_result"
    }
   ],
   "source": [
    "temp_df.check_year.sum()"
   ]
  },
  {
   "cell_type": "markdown",
   "metadata": {},
   "source": [
    "Так, получается, что 31 строка не следует логике, что игра выпускается либо в этот же год, что указан в названии, либо на следующий.\n",
    "\n",
    "Посмотрим что это за значения"
   ]
  },
  {
   "cell_type": "code",
   "execution_count": 31,
   "metadata": {},
   "outputs": [
    {
     "data": {
      "text/html": [
       "<div>\n",
       "<style scoped>\n",
       "    .dataframe tbody tr th:only-of-type {\n",
       "        vertical-align: middle;\n",
       "    }\n",
       "\n",
       "    .dataframe tbody tr th {\n",
       "        vertical-align: top;\n",
       "    }\n",
       "\n",
       "    .dataframe thead th {\n",
       "        text-align: right;\n",
       "    }\n",
       "</style>\n",
       "<table border=\"1\" class=\"dataframe\">\n",
       "  <thead>\n",
       "    <tr style=\"text-align: right;\">\n",
       "      <th></th>\n",
       "      <th>name</th>\n",
       "      <th>year_of_release</th>\n",
       "      <th>year_in_name</th>\n",
       "      <th>check_year</th>\n",
       "    </tr>\n",
       "  </thead>\n",
       "  <tbody>\n",
       "    <tr>\n",
       "      <th>769</th>\n",
       "      <td>SimCity 2000</td>\n",
       "      <td>1992.0</td>\n",
       "      <td>2000.0</td>\n",
       "      <td>False</td>\n",
       "    </tr>\n",
       "    <tr>\n",
       "      <th>926</th>\n",
       "      <td>FIFA 2000</td>\n",
       "      <td>1998.0</td>\n",
       "      <td>2000.0</td>\n",
       "      <td>False</td>\n",
       "    </tr>\n",
       "    <tr>\n",
       "      <th>1004</th>\n",
       "      <td>Madden NFL 2000</td>\n",
       "      <td>1998.0</td>\n",
       "      <td>2000.0</td>\n",
       "      <td>False</td>\n",
       "    </tr>\n",
       "    <tr>\n",
       "      <th>1237</th>\n",
       "      <td>NBA Live 2000</td>\n",
       "      <td>1998.0</td>\n",
       "      <td>2000.0</td>\n",
       "      <td>False</td>\n",
       "    </tr>\n",
       "    <tr>\n",
       "      <th>1646</th>\n",
       "      <td>SimCity 2000</td>\n",
       "      <td>1996.0</td>\n",
       "      <td>2000.0</td>\n",
       "      <td>False</td>\n",
       "    </tr>\n",
       "    <tr>\n",
       "      <th>1891</th>\n",
       "      <td>NFL Blitz 2000</td>\n",
       "      <td>1998.0</td>\n",
       "      <td>2000.0</td>\n",
       "      <td>False</td>\n",
       "    </tr>\n",
       "    <tr>\n",
       "      <th>2076</th>\n",
       "      <td>NFL Fever 2002</td>\n",
       "      <td>2000.0</td>\n",
       "      <td>2002.0</td>\n",
       "      <td>False</td>\n",
       "    </tr>\n",
       "    <tr>\n",
       "      <th>2395</th>\n",
       "      <td>NHL 2000</td>\n",
       "      <td>1998.0</td>\n",
       "      <td>2000.0</td>\n",
       "      <td>False</td>\n",
       "    </tr>\n",
       "    <tr>\n",
       "      <th>3042</th>\n",
       "      <td>Tiger Woods PGA Tour 2000</td>\n",
       "      <td>1998.0</td>\n",
       "      <td>2000.0</td>\n",
       "      <td>False</td>\n",
       "    </tr>\n",
       "    <tr>\n",
       "      <th>4066</th>\n",
       "      <td>SimCity 2000</td>\n",
       "      <td>1995.0</td>\n",
       "      <td>2000.0</td>\n",
       "      <td>False</td>\n",
       "    </tr>\n",
       "    <tr>\n",
       "      <th>5024</th>\n",
       "      <td>Rogue Trip: Vacation 2012</td>\n",
       "      <td>1998.0</td>\n",
       "      <td>2012.0</td>\n",
       "      <td>False</td>\n",
       "    </tr>\n",
       "    <tr>\n",
       "      <th>5792</th>\n",
       "      <td>NHL FaceOff 2000</td>\n",
       "      <td>1998.0</td>\n",
       "      <td>2000.0</td>\n",
       "      <td>False</td>\n",
       "    </tr>\n",
       "    <tr>\n",
       "      <th>6219</th>\n",
       "      <td>SimCity 2000</td>\n",
       "      <td>1994.0</td>\n",
       "      <td>2000.0</td>\n",
       "      <td>False</td>\n",
       "    </tr>\n",
       "    <tr>\n",
       "      <th>7221</th>\n",
       "      <td>NHL Championship 2000</td>\n",
       "      <td>1998.0</td>\n",
       "      <td>2000.0</td>\n",
       "      <td>False</td>\n",
       "    </tr>\n",
       "    <tr>\n",
       "      <th>7450</th>\n",
       "      <td>ESPN Winter X Games: Snowboarding 2002</td>\n",
       "      <td>2000.0</td>\n",
       "      <td>2002.0</td>\n",
       "      <td>False</td>\n",
       "    </tr>\n",
       "    <tr>\n",
       "      <th>8376</th>\n",
       "      <td>World Tour Soccer 2006</td>\n",
       "      <td>2004.0</td>\n",
       "      <td>2006.0</td>\n",
       "      <td>False</td>\n",
       "    </tr>\n",
       "    <tr>\n",
       "      <th>10197</th>\n",
       "      <td>The King of Fighters 2000/2001</td>\n",
       "      <td>2003.0</td>\n",
       "      <td>2000.0</td>\n",
       "      <td>False</td>\n",
       "    </tr>\n",
       "    <tr>\n",
       "      <th>10408</th>\n",
       "      <td>SimCity 2000</td>\n",
       "      <td>2003.0</td>\n",
       "      <td>2000.0</td>\n",
       "      <td>False</td>\n",
       "    </tr>\n",
       "    <tr>\n",
       "      <th>11865</th>\n",
       "      <td>Emergency 2012</td>\n",
       "      <td>2010.0</td>\n",
       "      <td>2012.0</td>\n",
       "      <td>False</td>\n",
       "    </tr>\n",
       "    <tr>\n",
       "      <th>12300</th>\n",
       "      <td>ESPN Winter X-Games: Snowboarding 2002</td>\n",
       "      <td>2000.0</td>\n",
       "      <td>2002.0</td>\n",
       "      <td>False</td>\n",
       "    </tr>\n",
       "    <tr>\n",
       "      <th>12649</th>\n",
       "      <td>Backyard Skateboarding 2006</td>\n",
       "      <td>2004.0</td>\n",
       "      <td>2006.0</td>\n",
       "      <td>False</td>\n",
       "    </tr>\n",
       "    <tr>\n",
       "      <th>13497</th>\n",
       "      <td>The King of Fighters 2002: Unlimited Match</td>\n",
       "      <td>2009.0</td>\n",
       "      <td>2002.0</td>\n",
       "      <td>False</td>\n",
       "    </tr>\n",
       "    <tr>\n",
       "      <th>13557</th>\n",
       "      <td>The King of Fighters 2000</td>\n",
       "      <td>2002.0</td>\n",
       "      <td>2000.0</td>\n",
       "      <td>False</td>\n",
       "    </tr>\n",
       "    <tr>\n",
       "      <th>14561</th>\n",
       "      <td>Big Mountain 2000</td>\n",
       "      <td>1998.0</td>\n",
       "      <td>2000.0</td>\n",
       "      <td>False</td>\n",
       "    </tr>\n",
       "    <tr>\n",
       "      <th>15864</th>\n",
       "      <td>Rocksmith 2014 Edition Remastered</td>\n",
       "      <td>2016.0</td>\n",
       "      <td>2014.0</td>\n",
       "      <td>False</td>\n",
       "    </tr>\n",
       "    <tr>\n",
       "      <th>15892</th>\n",
       "      <td>Simple 2000 Series Vol. 105: The Maid Fuku to ...</td>\n",
       "      <td>2006.0</td>\n",
       "      <td>2000.0</td>\n",
       "      <td>False</td>\n",
       "    </tr>\n",
       "    <tr>\n",
       "      <th>15916</th>\n",
       "      <td>Emergency 2012</td>\n",
       "      <td>2010.0</td>\n",
       "      <td>2012.0</td>\n",
       "      <td>False</td>\n",
       "    </tr>\n",
       "    <tr>\n",
       "      <th>16060</th>\n",
       "      <td>Worldwide Soccer Manager 2006</td>\n",
       "      <td>2004.0</td>\n",
       "      <td>2006.0</td>\n",
       "      <td>False</td>\n",
       "    </tr>\n",
       "    <tr>\n",
       "      <th>16182</th>\n",
       "      <td>Rocksmith 2014 Edition Remastered</td>\n",
       "      <td>2016.0</td>\n",
       "      <td>2014.0</td>\n",
       "      <td>False</td>\n",
       "    </tr>\n",
       "    <tr>\n",
       "      <th>16257</th>\n",
       "      <td>King of Fighters 2002: Unlimited Match Tougeki...</td>\n",
       "      <td>2010.0</td>\n",
       "      <td>2002.0</td>\n",
       "      <td>False</td>\n",
       "    </tr>\n",
       "    <tr>\n",
       "      <th>16291</th>\n",
       "      <td>Simple 2000 Series Vol. 120: The Saigo no Nipp...</td>\n",
       "      <td>2007.0</td>\n",
       "      <td>2000.0</td>\n",
       "      <td>False</td>\n",
       "    </tr>\n",
       "  </tbody>\n",
       "</table>\n",
       "</div>"
      ],
      "text/plain": [
       "                                                    name  year_of_release  \\\n",
       "769                                         SimCity 2000           1992.0   \n",
       "926                                            FIFA 2000           1998.0   \n",
       "1004                                     Madden NFL 2000           1998.0   \n",
       "1237                                       NBA Live 2000           1998.0   \n",
       "1646                                        SimCity 2000           1996.0   \n",
       "1891                                      NFL Blitz 2000           1998.0   \n",
       "2076                                      NFL Fever 2002           2000.0   \n",
       "2395                                            NHL 2000           1998.0   \n",
       "3042                           Tiger Woods PGA Tour 2000           1998.0   \n",
       "4066                                        SimCity 2000           1995.0   \n",
       "5024                           Rogue Trip: Vacation 2012           1998.0   \n",
       "5792                                    NHL FaceOff 2000           1998.0   \n",
       "6219                                        SimCity 2000           1994.0   \n",
       "7221                               NHL Championship 2000           1998.0   \n",
       "7450              ESPN Winter X Games: Snowboarding 2002           2000.0   \n",
       "8376                              World Tour Soccer 2006           2004.0   \n",
       "10197                     The King of Fighters 2000/2001           2003.0   \n",
       "10408                                       SimCity 2000           2003.0   \n",
       "11865                                     Emergency 2012           2010.0   \n",
       "12300             ESPN Winter X-Games: Snowboarding 2002           2000.0   \n",
       "12649                        Backyard Skateboarding 2006           2004.0   \n",
       "13497         The King of Fighters 2002: Unlimited Match           2009.0   \n",
       "13557                          The King of Fighters 2000           2002.0   \n",
       "14561                                  Big Mountain 2000           1998.0   \n",
       "15864                  Rocksmith 2014 Edition Remastered           2016.0   \n",
       "15892  Simple 2000 Series Vol. 105: The Maid Fuku to ...           2006.0   \n",
       "15916                                     Emergency 2012           2010.0   \n",
       "16060                      Worldwide Soccer Manager 2006           2004.0   \n",
       "16182                  Rocksmith 2014 Edition Remastered           2016.0   \n",
       "16257  King of Fighters 2002: Unlimited Match Tougeki...           2010.0   \n",
       "16291  Simple 2000 Series Vol. 120: The Saigo no Nipp...           2007.0   \n",
       "\n",
       "       year_in_name  check_year  \n",
       "769          2000.0       False  \n",
       "926          2000.0       False  \n",
       "1004         2000.0       False  \n",
       "1237         2000.0       False  \n",
       "1646         2000.0       False  \n",
       "1891         2000.0       False  \n",
       "2076         2002.0       False  \n",
       "2395         2000.0       False  \n",
       "3042         2000.0       False  \n",
       "4066         2000.0       False  \n",
       "5024         2012.0       False  \n",
       "5792         2000.0       False  \n",
       "6219         2000.0       False  \n",
       "7221         2000.0       False  \n",
       "7450         2002.0       False  \n",
       "8376         2006.0       False  \n",
       "10197        2000.0       False  \n",
       "10408        2000.0       False  \n",
       "11865        2012.0       False  \n",
       "12300        2002.0       False  \n",
       "12649        2006.0       False  \n",
       "13497        2002.0       False  \n",
       "13557        2000.0       False  \n",
       "14561        2000.0       False  \n",
       "15864        2014.0       False  \n",
       "15892        2000.0       False  \n",
       "15916        2012.0       False  \n",
       "16060        2006.0       False  \n",
       "16182        2014.0       False  \n",
       "16257        2002.0       False  \n",
       "16291        2000.0       False  "
      ]
     },
     "execution_count": 31,
     "metadata": {},
     "output_type": "execute_result"
    }
   ],
   "source": [
    "temp_df[~temp_df.check_year]"
   ]
  },
  {
   "cell_type": "markdown",
   "metadata": {},
   "source": [
    "Разброс может быть разным. \n",
    "посчитаем разницу в годах и построим распределение"
   ]
  },
  {
   "cell_type": "code",
   "execution_count": 32,
   "metadata": {},
   "outputs": [],
   "source": [
    "temp_df['year_diff'] = abs(temp_df.year_of_release - temp_df.year_in_name)"
   ]
  },
  {
   "cell_type": "code",
   "execution_count": 33,
   "metadata": {},
   "outputs": [
    {
     "data": {
      "image/png": "[encoded data removed]",
      "text/plain": [
       "<Figure size 640x480 with 1 Axes>"
      ]
     },
     "metadata": {},
     "output_type": "display_data"
    }
   ],
   "source": [
    "import matplotlib.pyplot as plt\n",
    "\n",
    "plt.title('Распределение разницы между годом выпуска и годом в названии игры')\n",
    "plt.ylabel('Частота')\n",
    "plt.xlabel('Разница в годах')\n",
    "temp_df.year_diff.hist(range=(0,9), bins=20)\n",
    "plt.show()\n",
    "\n",
    "\n"
   ]
  },
  {
   "cell_type": "markdown",
   "metadata": {},
   "source": [
    "Вывод: чаще всего игра выпускается на следующий год от указанного в названии игры. \n",
    "\n",
    "Заполним пустые значения годов выпуска информацией из названия игры + 1"
   ]
  },
  {
   "cell_type": "code",
   "execution_count": 34,
   "metadata": {},
   "outputs": [
    {
     "data": {
      "text/html": [
       "<div>\n",
       "<style scoped>\n",
       "    .dataframe tbody tr th:only-of-type {\n",
       "        vertical-align: middle;\n",
       "    }\n",
       "\n",
       "    .dataframe tbody tr th {\n",
       "        vertical-align: top;\n",
       "    }\n",
       "\n",
       "    .dataframe thead th {\n",
       "        text-align: right;\n",
       "    }\n",
       "</style>\n",
       "<table border=\"1\" class=\"dataframe\">\n",
       "  <thead>\n",
       "    <tr style=\"text-align: right;\">\n",
       "      <th></th>\n",
       "      <th>name</th>\n",
       "      <th>platform</th>\n",
       "      <th>year_of_release</th>\n",
       "      <th>genre</th>\n",
       "      <th>na_sales</th>\n",
       "      <th>eu_sales</th>\n",
       "      <th>jp_sales</th>\n",
       "      <th>other_sales</th>\n",
       "      <th>critic_score</th>\n",
       "      <th>user_score</th>\n",
       "      <th>rating</th>\n",
       "      <th>year_in_name</th>\n",
       "    </tr>\n",
       "  </thead>\n",
       "  <tbody>\n",
       "    <tr>\n",
       "      <th>0</th>\n",
       "      <td>Wii Sports</td>\n",
       "      <td>Wii</td>\n",
       "      <td>2006.0</td>\n",
       "      <td>Sports</td>\n",
       "      <td>41.36</td>\n",
       "      <td>28.96</td>\n",
       "      <td>3.77</td>\n",
       "      <td>8.45</td>\n",
       "      <td>76.0</td>\n",
       "      <td>8</td>\n",
       "      <td>E</td>\n",
       "      <td>NaN</td>\n",
       "    </tr>\n",
       "    <tr>\n",
       "      <th>1</th>\n",
       "      <td>Super Mario Bros.</td>\n",
       "      <td>NES</td>\n",
       "      <td>1985.0</td>\n",
       "      <td>Platform</td>\n",
       "      <td>29.08</td>\n",
       "      <td>3.58</td>\n",
       "      <td>6.81</td>\n",
       "      <td>0.77</td>\n",
       "      <td>NaN</td>\n",
       "      <td>NaN</td>\n",
       "      <td>NaN</td>\n",
       "      <td>NaN</td>\n",
       "    </tr>\n",
       "    <tr>\n",
       "      <th>2</th>\n",
       "      <td>Mario Kart Wii</td>\n",
       "      <td>Wii</td>\n",
       "      <td>2008.0</td>\n",
       "      <td>Racing</td>\n",
       "      <td>15.68</td>\n",
       "      <td>12.76</td>\n",
       "      <td>3.79</td>\n",
       "      <td>3.29</td>\n",
       "      <td>82.0</td>\n",
       "      <td>8.3</td>\n",
       "      <td>E</td>\n",
       "      <td>NaN</td>\n",
       "    </tr>\n",
       "    <tr>\n",
       "      <th>3</th>\n",
       "      <td>Wii Sports Resort</td>\n",
       "      <td>Wii</td>\n",
       "      <td>2009.0</td>\n",
       "      <td>Sports</td>\n",
       "      <td>15.61</td>\n",
       "      <td>10.93</td>\n",
       "      <td>3.28</td>\n",
       "      <td>2.95</td>\n",
       "      <td>80.0</td>\n",
       "      <td>8</td>\n",
       "      <td>E</td>\n",
       "      <td>NaN</td>\n",
       "    </tr>\n",
       "    <tr>\n",
       "      <th>4</th>\n",
       "      <td>Pokemon Red/Pokemon Blue</td>\n",
       "      <td>GB</td>\n",
       "      <td>1996.0</td>\n",
       "      <td>Role-Playing</td>\n",
       "      <td>11.27</td>\n",
       "      <td>8.89</td>\n",
       "      <td>10.22</td>\n",
       "      <td>1.00</td>\n",
       "      <td>NaN</td>\n",
       "      <td>NaN</td>\n",
       "      <td>NaN</td>\n",
       "      <td>NaN</td>\n",
       "    </tr>\n",
       "  </tbody>\n",
       "</table>\n",
       "</div>"
      ],
      "text/plain": [
       "                       name platform  year_of_release         genre  na_sales  \\\n",
       "0                Wii Sports      Wii           2006.0        Sports     41.36   \n",
       "1         Super Mario Bros.      NES           1985.0      Platform     29.08   \n",
       "2            Mario Kart Wii      Wii           2008.0        Racing     15.68   \n",
       "3         Wii Sports Resort      Wii           2009.0        Sports     15.61   \n",
       "4  Pokemon Red/Pokemon Blue       GB           1996.0  Role-Playing     11.27   \n",
       "\n",
       "   eu_sales  jp_sales  other_sales  critic_score user_score rating  \\\n",
       "0     28.96      3.77         8.45          76.0          8      E   \n",
       "1      3.58      6.81         0.77           NaN        NaN    NaN   \n",
       "2     12.76      3.79         3.29          82.0        8.3      E   \n",
       "3     10.93      3.28         2.95          80.0          8      E   \n",
       "4      8.89     10.22         1.00           NaN        NaN    NaN   \n",
       "\n",
       "   year_in_name  \n",
       "0           NaN  \n",
       "1           NaN  \n",
       "2           NaN  \n",
       "3           NaN  \n",
       "4           NaN  "
      ]
     },
     "execution_count": 34,
     "metadata": {},
     "output_type": "execute_result"
    }
   ],
   "source": [
    "data.head()"
   ]
  },
  {
   "cell_type": "code",
   "execution_count": 35,
   "metadata": {},
   "outputs": [
    {
     "data": {
      "text/plain": [
       "269"
      ]
     },
     "execution_count": 35,
     "metadata": {},
     "output_type": "execute_result"
    }
   ],
   "source": [
    "data.year_of_release.isna().sum()"
   ]
  },
  {
   "cell_type": "code",
   "execution_count": 36,
   "metadata": {},
   "outputs": [
    {
     "data": {
      "text/plain": [
       "array([  nan, 2015., 2004., 2005., 2007., 2003., 2012., 2008., 2014.,\n",
       "       2002., 2006., 2009., 2013., 2011., 2010., 2000., 2001., 2016.,\n",
       "       1999., 1996.])"
      ]
     },
     "execution_count": 36,
     "metadata": {},
     "output_type": "execute_result"
    }
   ],
   "source": [
    "data.year_in_name.unique()"
   ]
  },
  {
   "cell_type": "code",
   "execution_count": 37,
   "metadata": {},
   "outputs": [],
   "source": [
    "data.year_of_release= data.year_of_release.fillna(data.year_in_name +1)"
   ]
  },
  {
   "cell_type": "code",
   "execution_count": 38,
   "metadata": {},
   "outputs": [
    {
     "data": {
      "text/plain": [
       "252"
      ]
     },
     "execution_count": 38,
     "metadata": {},
     "output_type": "execute_result"
    }
   ],
   "source": [
    "data.year_of_release.isna().sum()"
   ]
  },
  {
   "cell_type": "markdown",
   "metadata": {},
   "source": [
    "Получается, заполнили 17 пустых значений. Осталось еще 252 пустых значения."
   ]
  },
  {
   "cell_type": "markdown",
   "metadata": {},
   "source": [
    "Вот все эти игры:"
   ]
  },
  {
   "cell_type": "code",
   "execution_count": 39,
   "metadata": {},
   "outputs": [
    {
     "data": {
      "text/plain": [
       "array(['LEGO Batman: The Videogame', 'Space Invaders', 'Rock Band',\n",
       "       \"Frogger's Adventures: Temple of the Frog\",\n",
       "       'LEGO Indiana Jones: The Original Adventures', 'Call of Duty 3',\n",
       "       'Call of Duty: Black Ops', 'Triple Play 99', 'Adventure', 'Combat',\n",
       "       'LEGO Harry Potter: Years 5-7', 'Hitman 2: Silent Assassin',\n",
       "       'Legacy of Kain: Soul Reaver', 'Donkey Kong Land III',\n",
       "       'Air-Sea Battle', 'Suikoden III', 'Wheel of Fortune', 'Yakuza 4',\n",
       "       'Namco Museum', 'Rhythm Heaven',\n",
       "       'The Lord of the Rings: War in the North', 'Madden NFL 07',\n",
       "       'MLB SlugFest 20-03', 'Shaun White Snowboarding',\n",
       "       'WarioWare: Twisted!', 'Madden NFL 11', 'Test Drive Unlimited 2',\n",
       "       'The Chronicles of Narnia: The Lion, The Witch and The Wardrobe',\n",
       "       'Monster Hunter 2', 'Metal Gear Solid 2: Substance',\n",
       "       'Advance Wars: Days of Ruin', 'The Golden Compass',\n",
       "       'Madden NFL 06', 'NASCAR: Dirt to Daytona',\n",
       "       'Def Jam: Fight for NY', 'NBA Street Vol. 2', 'Fishing Derby',\n",
       "       'Wet', 'Sonic the Hedgehog', 'Karate', 'Tiger Woods PGA Tour 07',\n",
       "       'Circus Atari',\n",
       "       'The Chronicles of Riddick: Escape from Butcher Bay',\n",
       "       \"Maze Craze: A Game of Cops 'n Robbers\", 'Silent Hill: Homecoming',\n",
       "       'Super Breakout', \"Robert Ludlum's The Bourne Conspiracy\",\n",
       "       'NHL Slapshot', 'TERA', 'Harvest Moon: Save the Homeland',\n",
       "       'Hangman', \"Cubix Robots for Everyone: Clash 'n' Bash\",\n",
       "       'Dragon Ball Z: Budokai Tenkaichi 2 (JP sales)', 'Tropico 4',\n",
       "       'Bejeweled 3', 'Custom Robo', 'Final Fantasy XI', 'Singularity',\n",
       "       'Dragster', 'Star Wars Jedi Knight II: Jedi Outcast',\n",
       "       'Slot Machine', 'The Dukes of Hazzard II: Daisy Dukes It Out',\n",
       "       'Harvest Moon: The Tale of Two Towns', 'Shrek the Third',\n",
       "       'Nicktoons: Battle for Volcano Island', 'Haven: Call of the King',\n",
       "       'Unreal Championship 2: The Liandri Conflict', 'Pac-Man Fever',\n",
       "       'The Legend of Zelda: The Minish Cap(weekly JP sales)', 'Indy 500',\n",
       "       'Disgaea 3: Absence of Detention', 'Flag Capture', 'Gun',\n",
       "       'Rock Revolution', 'College Hoops 2K6',\n",
       "       'Jonah Lomu Rugby Challenge', 'Mega Man X Collection',\n",
       "       'BioShock 2', 'Danganronpa: Trigger Happy Havoc', 'Jet X20',\n",
       "       \"Tony Hawk's Downhill Jam\", 'Tribes: Aerial Assault',\n",
       "       'Big Beach Sports 2', 'Yu Yu Hakusho: Dark Tournament',\n",
       "       'Ghostbusters II', 'Breakaway IV', 'Robotech: Battlecry',\n",
       "       'Move Fitness', 'Valkyria Chronicles III: Unrecorded Chronicles',\n",
       "       'DanceDanceRevolution II', 'WRC: FIA World Rally Championship',\n",
       "       'Famista 64', 'Dead Space 3', 'Pet Zombies', 'Star Trek: Legacy',\n",
       "       'Backbreaker', 'Twisted Metal: Small Brawl', 'Otomedius Excellent',\n",
       "       'NBA Starting Five', 'Teen Titans', 'Trauma Team',\n",
       "       \"James Cameron's Dark Angel\", 'Sword of the Samurai',\n",
       "       'Splatterhouse', 'Alone in the Dark: The New Nightmare',\n",
       "       'Vegas Party', 'Jurassic Park: The Game', 'Home Run',\n",
       "       'eJay Clubworld', 'Our House Party!', 'WCW Backstage Assault',\n",
       "       \"Disney's Cinderella: Magical Dreams\", 'Transworld Surf',\n",
       "       'Street Fighter IV', 'Nintendo Puzzle Collection',\n",
       "       'Charm Girls Club: My Fashion Mall', 'Record of Agarest War Zero',\n",
       "       'Rocksmith',\n",
       "       'Super Robot Wars OG Saga: Masou Kishin II - Revelation of Evil God',\n",
       "       'Saru! Get You! Million Monkeys', 'Street Hoops',\n",
       "       'Godzilla: Destroy All Monsters Melee',\n",
       "       'The Daring Game for Girls', 'Major League Baseball 2K6',\n",
       "       'Star Trek: Conquest', 'GiFTPiA', 'Happy Feet Two',\n",
       "       \"Disney's Chicken Little: Ace In Action\",\n",
       "       'Atsumare! Power Pro Kun no DS Koushien',\n",
       "       'My Healthy Cooking Coach', 'Luminous Arc 2 (JP sales)',\n",
       "       'Egg Monster Hero', 'Demon Chaos', 'Samurai Shodown Anthology',\n",
       "       'Action Man-Operation Extreme', 'Super Puzzle Fighter II',\n",
       "       'Charm Girls Club: My Fashion Show', 'Face Racers: Photo Finish',\n",
       "       'Zero: Tsukihami no Kamen', 'The Hidden', 'Get Fit with Mel B',\n",
       "       'Mega Man Battle Network: Operation Shooting Star',\n",
       "       'Smashing Drive', 'Port Royale 3', 'Dream Trigger 3D',\n",
       "       'Dead Island: Riptide', 'Yoostar on MTV', 'Tornado',\n",
       "       \"McFarlane's Evil Prophecy\", 'Drake of the 99 Dragons',\n",
       "       'Build-A-Bear Workshop: Friendship Valley', 'Rayman Arena',\n",
       "       'National Geographic Challenge!', 'Alex Rider: Stormbreaker',\n",
       "       'Chou Soujuu Mecha MG',\n",
       "       'Prinny: Can I Really Be The Hero? (US sales)',\n",
       "       'Combat Elite: WWII Paratroopers', \"Flip's Twisted World\",\n",
       "       'Mobile Ops: The One Year War',\n",
       "       \"Tom Clancy's Rainbow Six: Critical Hour\",\n",
       "       'Jewel Link Chronicles: Mountains of Madness',\n",
       "       'Captain America: Super Soldier', 'Mountain Bike Adrenaline',\n",
       "       'Drill Dozer', 'GRID', 'Reader Rabbit 2nd Grade',\n",
       "       'Monster Hunter Frontier Online', 'RollerCoaster Tycoon',\n",
       "       'Battle vs. Chess',\n",
       "       'The History Channel: Great Battles - Medieval',\n",
       "       'Clockwork Empires', 'B.L.U.E.: Legend of Water', 'NHL Hitz Pro',\n",
       "       \"Luxor: Pharaoh's Challenge\", 'Half-Minute Hero 2', 'Housekeeping',\n",
       "       'Major League Baseball 2K8', 'Sabre Wulf', 'Swords',\n",
       "       'Beyond the Labyrinth', 'Bikkuriman Daijiten',\n",
       "       'Majesty 2: The Fantasy Kingdom Sim',\n",
       "       'Fullmetal Alchemist: Brotherhood',\n",
       "       'Samurai Spirits: Tenkaichi Kenkakuden', 'World of Tanks',\n",
       "       'Tom and Jerry in War of the Whiskers', 'Super Duper Sumos',\n",
       "       'The King of Fighters: Maximum Impact - Maniax',\n",
       "       'Combat Wings: The Great Battles of WWII', 'Tube Slider',\n",
       "       'Umineko no Naku Koro ni San: Shinjitsu to Gensou no Yasoukyoku',\n",
       "       'Payout Poker & Casino', 'Wii de Asobu: Metroid Prime',\n",
       "       'Legacy of Ys: Books I & II', 'Saint', 'Steal Princess',\n",
       "       'Mario Tennis', 'Runaway: A Twist of Fate',\n",
       "       \"Yu-Gi-Oh! 5D's Wheelie Breakers (JP sales)\",\n",
       "       \"Cabela's Alaskan Adventure\",\n",
       "       'Writing and Speaking Beautiful Japanese DS', 'Virtua Quest',\n",
       "       \"Shonen Jump's Yu-Gi-Oh! GX Card Almanac\", 'Without Warning',\n",
       "       'Dinotopia: The Sunstone Odyssey', 'Jet Impulse', 'Dream Dancer',\n",
       "       \"Dance! It's Your Stage\", 'Ferrari: The Race Experience',\n",
       "       'Aquaman: Battle for Atlantis', 'Homeworld Remastered Collection',\n",
       "       'Shorts', 'AKB1/48: Idol to Guam de Koishitara...',\n",
       "       'Brothers in Arms: Furious 4', 'Agarest Senki: Re-appearance',\n",
       "       'Freaky Flyers', 'Inversion', 'Hakuouki: Shinsengumi Kitan'],\n",
       "      dtype=object)"
      ]
     },
     "execution_count": 39,
     "metadata": {},
     "output_type": "execute_result"
    }
   ],
   "source": [
    "data[data.year_of_release.isna()].name.unique()"
   ]
  },
  {
   "cell_type": "markdown",
   "metadata": {},
   "source": [
    "Тут два варианта:\n",
    "\n",
    "1) запросить годы выпуска каждой игры (либо нагуглить самостоятельно)\n",
    "2) либо заменить все пустые значения по году на условное значение, по которому будет удобно группировать при необходимости. 0 вполне подойдет - это позволит заодно привести значения в столбце к целочисленному значению. \n",
    "\n",
    "Но для себя помним, что ноль означает \"Отсутствие информации о годе выпуска\""
   ]
  },
  {
   "cell_type": "code",
   "execution_count": 40,
   "metadata": {},
   "outputs": [],
   "source": [
    "data.year_of_release= data.year_of_release.fillna(0).astype('int')"
   ]
  },
  {
   "cell_type": "code",
   "execution_count": 41,
   "metadata": {},
   "outputs": [
    {
     "data": {
      "text/plain": [
       "0"
      ]
     },
     "execution_count": 41,
     "metadata": {},
     "output_type": "execute_result"
    }
   ],
   "source": [
    "data.year_of_release.isna().sum()"
   ]
  },
  {
   "cell_type": "markdown",
   "metadata": {},
   "source": [
    "избавимся от вспомогательного столбца year_in_name"
   ]
  },
  {
   "cell_type": "code",
   "execution_count": 42,
   "metadata": {},
   "outputs": [],
   "source": [
    "data.drop(columns= 'year_in_name', inplace=True)"
   ]
  },
  {
   "cell_type": "code",
   "execution_count": 43,
   "metadata": {},
   "outputs": [
    {
     "data": {
      "text/html": [
       "<div>\n",
       "<style scoped>\n",
       "    .dataframe tbody tr th:only-of-type {\n",
       "        vertical-align: middle;\n",
       "    }\n",
       "\n",
       "    .dataframe tbody tr th {\n",
       "        vertical-align: top;\n",
       "    }\n",
       "\n",
       "    .dataframe thead th {\n",
       "        text-align: right;\n",
       "    }\n",
       "</style>\n",
       "<table border=\"1\" class=\"dataframe\">\n",
       "  <thead>\n",
       "    <tr style=\"text-align: right;\">\n",
       "      <th></th>\n",
       "      <th>name</th>\n",
       "      <th>platform</th>\n",
       "      <th>year_of_release</th>\n",
       "      <th>genre</th>\n",
       "      <th>na_sales</th>\n",
       "      <th>eu_sales</th>\n",
       "      <th>jp_sales</th>\n",
       "      <th>other_sales</th>\n",
       "      <th>critic_score</th>\n",
       "      <th>user_score</th>\n",
       "      <th>rating</th>\n",
       "    </tr>\n",
       "  </thead>\n",
       "  <tbody>\n",
       "    <tr>\n",
       "      <th>0</th>\n",
       "      <td>Wii Sports</td>\n",
       "      <td>Wii</td>\n",
       "      <td>2006</td>\n",
       "      <td>Sports</td>\n",
       "      <td>41.36</td>\n",
       "      <td>28.96</td>\n",
       "      <td>3.77</td>\n",
       "      <td>8.45</td>\n",
       "      <td>76.0</td>\n",
       "      <td>8</td>\n",
       "      <td>E</td>\n",
       "    </tr>\n",
       "    <tr>\n",
       "      <th>1</th>\n",
       "      <td>Super Mario Bros.</td>\n",
       "      <td>NES</td>\n",
       "      <td>1985</td>\n",
       "      <td>Platform</td>\n",
       "      <td>29.08</td>\n",
       "      <td>3.58</td>\n",
       "      <td>6.81</td>\n",
       "      <td>0.77</td>\n",
       "      <td>NaN</td>\n",
       "      <td>NaN</td>\n",
       "      <td>NaN</td>\n",
       "    </tr>\n",
       "    <tr>\n",
       "      <th>2</th>\n",
       "      <td>Mario Kart Wii</td>\n",
       "      <td>Wii</td>\n",
       "      <td>2008</td>\n",
       "      <td>Racing</td>\n",
       "      <td>15.68</td>\n",
       "      <td>12.76</td>\n",
       "      <td>3.79</td>\n",
       "      <td>3.29</td>\n",
       "      <td>82.0</td>\n",
       "      <td>8.3</td>\n",
       "      <td>E</td>\n",
       "    </tr>\n",
       "    <tr>\n",
       "      <th>3</th>\n",
       "      <td>Wii Sports Resort</td>\n",
       "      <td>Wii</td>\n",
       "      <td>2009</td>\n",
       "      <td>Sports</td>\n",
       "      <td>15.61</td>\n",
       "      <td>10.93</td>\n",
       "      <td>3.28</td>\n",
       "      <td>2.95</td>\n",
       "      <td>80.0</td>\n",
       "      <td>8</td>\n",
       "      <td>E</td>\n",
       "    </tr>\n",
       "    <tr>\n",
       "      <th>4</th>\n",
       "      <td>Pokemon Red/Pokemon Blue</td>\n",
       "      <td>GB</td>\n",
       "      <td>1996</td>\n",
       "      <td>Role-Playing</td>\n",
       "      <td>11.27</td>\n",
       "      <td>8.89</td>\n",
       "      <td>10.22</td>\n",
       "      <td>1.00</td>\n",
       "      <td>NaN</td>\n",
       "      <td>NaN</td>\n",
       "      <td>NaN</td>\n",
       "    </tr>\n",
       "  </tbody>\n",
       "</table>\n",
       "</div>"
      ],
      "text/plain": [
       "                       name platform  year_of_release         genre  na_sales  \\\n",
       "0                Wii Sports      Wii             2006        Sports     41.36   \n",
       "1         Super Mario Bros.      NES             1985      Platform     29.08   \n",
       "2            Mario Kart Wii      Wii             2008        Racing     15.68   \n",
       "3         Wii Sports Resort      Wii             2009        Sports     15.61   \n",
       "4  Pokemon Red/Pokemon Blue       GB             1996  Role-Playing     11.27   \n",
       "\n",
       "   eu_sales  jp_sales  other_sales  critic_score user_score rating  \n",
       "0     28.96      3.77         8.45          76.0          8      E  \n",
       "1      3.58      6.81         0.77           NaN        NaN    NaN  \n",
       "2     12.76      3.79         3.29          82.0        8.3      E  \n",
       "3     10.93      3.28         2.95          80.0          8      E  \n",
       "4      8.89     10.22         1.00           NaN        NaN    NaN  "
      ]
     },
     "execution_count": 43,
     "metadata": {},
     "output_type": "execute_result"
    }
   ],
   "source": [
    "data.head()"
   ]
  },
  {
   "cell_type": "code",
   "execution_count": 44,
   "metadata": {},
   "outputs": [
    {
     "data": {
      "text/plain": [
       "2008    1428\n",
       "2009    1428\n",
       "2010    1256\n",
       "2007    1199\n",
       "2011    1136\n",
       "2006    1008\n",
       "2005     941\n",
       "2002     829\n",
       "2003     776\n",
       "2004     766\n",
       "2012     654\n",
       "2015     606\n",
       "2014     582\n",
       "2013     544\n",
       "2016     502\n",
       "2001     482\n",
       "1998     379\n",
       "2000     350\n",
       "1999     338\n",
       "1997     289\n",
       "1996     263\n",
       "0        252\n",
       "1995     219\n",
       "1994     121\n",
       "1993      61\n",
       "1981      46\n",
       "1992      43\n",
       "1991      41\n",
       "1982      36\n",
       "1986      21\n",
       "1989      17\n",
       "1983      17\n",
       "1990      16\n",
       "1987      16\n",
       "1988      15\n",
       "1985      14\n",
       "1984      14\n",
       "1980       9\n",
       "Name: year_of_release, dtype: int64"
      ]
     },
     "execution_count": 44,
     "metadata": {},
     "output_type": "execute_result"
    }
   ],
   "source": [
    "data.year_of_release.value_counts()"
   ]
  },
  {
   "cell_type": "markdown",
   "metadata": {},
   "source": [
    "###### 2.2.3 Пропуски в столбце Жанр"
   ]
  },
  {
   "cell_type": "code",
   "execution_count": 45,
   "metadata": {},
   "outputs": [
    {
     "data": {
      "text/html": [
       "<div>\n",
       "<style scoped>\n",
       "    .dataframe tbody tr th:only-of-type {\n",
       "        vertical-align: middle;\n",
       "    }\n",
       "\n",
       "    .dataframe tbody tr th {\n",
       "        vertical-align: top;\n",
       "    }\n",
       "\n",
       "    .dataframe thead th {\n",
       "        text-align: right;\n",
       "    }\n",
       "</style>\n",
       "<table border=\"1\" class=\"dataframe\">\n",
       "  <thead>\n",
       "    <tr style=\"text-align: right;\">\n",
       "      <th></th>\n",
       "      <th>name</th>\n",
       "      <th>platform</th>\n",
       "      <th>year_of_release</th>\n",
       "      <th>genre</th>\n",
       "      <th>na_sales</th>\n",
       "      <th>eu_sales</th>\n",
       "      <th>jp_sales</th>\n",
       "      <th>other_sales</th>\n",
       "      <th>critic_score</th>\n",
       "      <th>user_score</th>\n",
       "      <th>rating</th>\n",
       "    </tr>\n",
       "  </thead>\n",
       "  <tbody>\n",
       "    <tr>\n",
       "      <th>659</th>\n",
       "      <td>unknown</td>\n",
       "      <td>GEN</td>\n",
       "      <td>1993</td>\n",
       "      <td>NaN</td>\n",
       "      <td>1.78</td>\n",
       "      <td>0.53</td>\n",
       "      <td>0.0</td>\n",
       "      <td>0.08</td>\n",
       "      <td>NaN</td>\n",
       "      <td>NaN</td>\n",
       "      <td>NaN</td>\n",
       "    </tr>\n",
       "  </tbody>\n",
       "</table>\n",
       "</div>"
      ],
      "text/plain": [
       "        name platform  year_of_release genre  na_sales  eu_sales  jp_sales  \\\n",
       "659  unknown      GEN             1993   NaN      1.78      0.53       0.0   \n",
       "\n",
       "     other_sales  critic_score user_score rating  \n",
       "659         0.08           NaN        NaN    NaN  "
      ]
     },
     "execution_count": 45,
     "metadata": {},
     "output_type": "execute_result"
    }
   ],
   "source": [
    "data[data.genre.isna()]"
   ]
  },
  {
   "cell_type": "markdown",
   "metadata": {},
   "source": [
    "Это уже знакомая нам строка с неизвестным названием игры. Заменим на unknown "
   ]
  },
  {
   "cell_type": "code",
   "execution_count": 46,
   "metadata": {},
   "outputs": [],
   "source": [
    "data.genre.fillna('unknown', inplace=True)"
   ]
  },
  {
   "cell_type": "markdown",
   "metadata": {},
   "source": [
    "###### 2.2.4. Пропуски в столбце Оценка критиков"
   ]
  },
  {
   "cell_type": "markdown",
   "metadata": {},
   "source": [
    "Посмотрим на гистограмму"
   ]
  },
  {
   "cell_type": "code",
   "execution_count": 47,
   "metadata": {},
   "outputs": [
    {
     "data": {
      "image/png": "[encoded data removed]",
      "text/plain": [
       "<Figure size 640x480 with 1 Axes>"
      ]
     },
     "metadata": {},
     "output_type": "display_data"
    }
   ],
   "source": [
    "\n",
    "plt.title('Распределение частоты оценок критиков')\n",
    "plt.ylabel('Частота')\n",
    "plt.xlabel('Оценка критиков')\n",
    "data.critic_score.hist(bins=20)\n",
    "\n",
    "plt.show()"
   ]
  },
  {
   "cell_type": "markdown",
   "metadata": {},
   "source": [
    "На гистограмме оценок критиков ничего необычного нет. Распределение похоже на нормальное со смещением. Среднее лежит где-то в диапазоне от 60 до 80"
   ]
  },
  {
   "cell_type": "code",
   "execution_count": 48,
   "metadata": {},
   "outputs": [
    {
     "data": {
      "text/plain": [
       "count    8137.000000\n",
       "mean       68.967679\n",
       "std        13.938165\n",
       "min        13.000000\n",
       "25%        60.000000\n",
       "50%        71.000000\n",
       "75%        79.000000\n",
       "max        98.000000\n",
       "Name: critic_score, dtype: float64"
      ]
     },
     "execution_count": 48,
     "metadata": {},
     "output_type": "execute_result"
    }
   ],
   "source": [
    "data.critic_score.describe()"
   ]
  },
  {
   "cell_type": "code",
   "execution_count": 49,
   "metadata": {},
   "outputs": [
    {
     "data": {
      "text/plain": [
       "71.0"
      ]
     },
     "execution_count": 49,
     "metadata": {},
     "output_type": "execute_result"
    }
   ],
   "source": [
    "data.critic_score.median()"
   ]
  },
  {
   "cell_type": "markdown",
   "metadata": {},
   "source": [
    "Медиана и среднее практически одинаковы. \n",
    "\n",
    "Теоретически, можно бы уже заполнить пустые значения - медианным. \n",
    "\n"
   ]
  },
  {
   "cell_type": "markdown",
   "metadata": {},
   "source": [
    "Но все же возможно есть зависимость между оценкой критиков и годом выпуска,  или жанром игры,  или суммарными продажами, или платформой, на которой выпускается игра"
   ]
  },
  {
   "cell_type": "markdown",
   "metadata": {},
   "source": [
    "Добавим столбец суммарных продаж"
   ]
  },
  {
   "cell_type": "code",
   "execution_count": 50,
   "metadata": {},
   "outputs": [],
   "source": [
    "data['total_sales'] = data.na_sales+ data.eu_sales + data.jp_sales + data.other_sales"
   ]
  },
  {
   "cell_type": "markdown",
   "metadata": {},
   "source": [
    "Добавим столбец жанров, переведенных в числовые значения (для поиска корреляции)"
   ]
  },
  {
   "cell_type": "code",
   "execution_count": 51,
   "metadata": {},
   "outputs": [
    {
     "data": {
      "text/plain": [
       "array(['Sports', 'Platform', 'Racing', 'Role-Playing', 'Puzzle', 'Misc',\n",
       "       'Shooter', 'Simulation', 'Action', 'Fighting', 'Adventure',\n",
       "       'Strategy', 'unknown'], dtype=object)"
      ]
     },
     "execution_count": 51,
     "metadata": {},
     "output_type": "execute_result"
    }
   ],
   "source": [
    "data.genre.unique()"
   ]
  },
  {
   "cell_type": "code",
   "execution_count": 52,
   "metadata": {},
   "outputs": [],
   "source": [
    "# создадим промежуточный словарь\n",
    "genre_dict = {x:y for x,y in zip(data.genre.unique(), range(0,13))}"
   ]
  },
  {
   "cell_type": "code",
   "execution_count": 53,
   "metadata": {},
   "outputs": [
    {
     "data": {
      "text/plain": [
       "{'Sports': 0,\n",
       " 'Platform': 1,\n",
       " 'Racing': 2,\n",
       " 'Role-Playing': 3,\n",
       " 'Puzzle': 4,\n",
       " 'Misc': 5,\n",
       " 'Shooter': 6,\n",
       " 'Simulation': 7,\n",
       " 'Action': 8,\n",
       " 'Fighting': 9,\n",
       " 'Adventure': 10,\n",
       " 'Strategy': 11,\n",
       " 'unknown': 12}"
      ]
     },
     "execution_count": 53,
     "metadata": {},
     "output_type": "execute_result"
    }
   ],
   "source": [
    "genre_dict"
   ]
  },
  {
   "cell_type": "code",
   "execution_count": 54,
   "metadata": {},
   "outputs": [],
   "source": [
    "data['genre_id'] = data.genre.apply(lambda x: genre_dict[x])"
   ]
  },
  {
   "cell_type": "code",
   "execution_count": 55,
   "metadata": {},
   "outputs": [
    {
     "data": {
      "text/html": [
       "<div>\n",
       "<style scoped>\n",
       "    .dataframe tbody tr th:only-of-type {\n",
       "        vertical-align: middle;\n",
       "    }\n",
       "\n",
       "    .dataframe tbody tr th {\n",
       "        vertical-align: top;\n",
       "    }\n",
       "\n",
       "    .dataframe thead th {\n",
       "        text-align: right;\n",
       "    }\n",
       "</style>\n",
       "<table border=\"1\" class=\"dataframe\">\n",
       "  <thead>\n",
       "    <tr style=\"text-align: right;\">\n",
       "      <th></th>\n",
       "      <th>name</th>\n",
       "      <th>platform</th>\n",
       "      <th>year_of_release</th>\n",
       "      <th>genre</th>\n",
       "      <th>na_sales</th>\n",
       "      <th>eu_sales</th>\n",
       "      <th>jp_sales</th>\n",
       "      <th>other_sales</th>\n",
       "      <th>critic_score</th>\n",
       "      <th>user_score</th>\n",
       "      <th>rating</th>\n",
       "      <th>total_sales</th>\n",
       "      <th>genre_id</th>\n",
       "    </tr>\n",
       "  </thead>\n",
       "  <tbody>\n",
       "    <tr>\n",
       "      <th>0</th>\n",
       "      <td>Wii Sports</td>\n",
       "      <td>Wii</td>\n",
       "      <td>2006</td>\n",
       "      <td>Sports</td>\n",
       "      <td>41.36</td>\n",
       "      <td>28.96</td>\n",
       "      <td>3.77</td>\n",
       "      <td>8.45</td>\n",
       "      <td>76.0</td>\n",
       "      <td>8</td>\n",
       "      <td>E</td>\n",
       "      <td>82.54</td>\n",
       "      <td>0</td>\n",
       "    </tr>\n",
       "    <tr>\n",
       "      <th>1</th>\n",
       "      <td>Super Mario Bros.</td>\n",
       "      <td>NES</td>\n",
       "      <td>1985</td>\n",
       "      <td>Platform</td>\n",
       "      <td>29.08</td>\n",
       "      <td>3.58</td>\n",
       "      <td>6.81</td>\n",
       "      <td>0.77</td>\n",
       "      <td>NaN</td>\n",
       "      <td>NaN</td>\n",
       "      <td>NaN</td>\n",
       "      <td>40.24</td>\n",
       "      <td>1</td>\n",
       "    </tr>\n",
       "    <tr>\n",
       "      <th>2</th>\n",
       "      <td>Mario Kart Wii</td>\n",
       "      <td>Wii</td>\n",
       "      <td>2008</td>\n",
       "      <td>Racing</td>\n",
       "      <td>15.68</td>\n",
       "      <td>12.76</td>\n",
       "      <td>3.79</td>\n",
       "      <td>3.29</td>\n",
       "      <td>82.0</td>\n",
       "      <td>8.3</td>\n",
       "      <td>E</td>\n",
       "      <td>35.52</td>\n",
       "      <td>2</td>\n",
       "    </tr>\n",
       "    <tr>\n",
       "      <th>3</th>\n",
       "      <td>Wii Sports Resort</td>\n",
       "      <td>Wii</td>\n",
       "      <td>2009</td>\n",
       "      <td>Sports</td>\n",
       "      <td>15.61</td>\n",
       "      <td>10.93</td>\n",
       "      <td>3.28</td>\n",
       "      <td>2.95</td>\n",
       "      <td>80.0</td>\n",
       "      <td>8</td>\n",
       "      <td>E</td>\n",
       "      <td>32.77</td>\n",
       "      <td>0</td>\n",
       "    </tr>\n",
       "    <tr>\n",
       "      <th>4</th>\n",
       "      <td>Pokemon Red/Pokemon Blue</td>\n",
       "      <td>GB</td>\n",
       "      <td>1996</td>\n",
       "      <td>Role-Playing</td>\n",
       "      <td>11.27</td>\n",
       "      <td>8.89</td>\n",
       "      <td>10.22</td>\n",
       "      <td>1.00</td>\n",
       "      <td>NaN</td>\n",
       "      <td>NaN</td>\n",
       "      <td>NaN</td>\n",
       "      <td>31.38</td>\n",
       "      <td>3</td>\n",
       "    </tr>\n",
       "  </tbody>\n",
       "</table>\n",
       "</div>"
      ],
      "text/plain": [
       "                       name platform  year_of_release         genre  na_sales  \\\n",
       "0                Wii Sports      Wii             2006        Sports     41.36   \n",
       "1         Super Mario Bros.      NES             1985      Platform     29.08   \n",
       "2            Mario Kart Wii      Wii             2008        Racing     15.68   \n",
       "3         Wii Sports Resort      Wii             2009        Sports     15.61   \n",
       "4  Pokemon Red/Pokemon Blue       GB             1996  Role-Playing     11.27   \n",
       "\n",
       "   eu_sales  jp_sales  other_sales  critic_score user_score rating  \\\n",
       "0     28.96      3.77         8.45          76.0          8      E   \n",
       "1      3.58      6.81         0.77           NaN        NaN    NaN   \n",
       "2     12.76      3.79         3.29          82.0        8.3      E   \n",
       "3     10.93      3.28         2.95          80.0          8      E   \n",
       "4      8.89     10.22         1.00           NaN        NaN    NaN   \n",
       "\n",
       "   total_sales  genre_id  \n",
       "0        82.54         0  \n",
       "1        40.24         1  \n",
       "2        35.52         2  \n",
       "3        32.77         0  \n",
       "4        31.38         3  "
      ]
     },
     "execution_count": 55,
     "metadata": {},
     "output_type": "execute_result"
    }
   ],
   "source": [
    "data.head()"
   ]
  },
  {
   "cell_type": "markdown",
   "metadata": {},
   "source": [
    "проделаем то же самое для столбцов в названии платформы"
   ]
  },
  {
   "cell_type": "code",
   "execution_count": 56,
   "metadata": {},
   "outputs": [
    {
     "data": {
      "text/plain": [
       "array(['Wii', 'NES', 'GB', 'DS', 'X360', 'PS3', 'PS2', 'SNES', 'GBA',\n",
       "       'PS4', '3DS', 'N64', 'PS', 'XB', 'PC', '2600', 'PSP', 'XOne',\n",
       "       'WiiU', 'GC', 'GEN', 'DC', 'PSV', 'SAT', 'SCD', 'WS', 'NG', 'TG16',\n",
       "       '3DO', 'GG', 'PCFX'], dtype=object)"
      ]
     },
     "execution_count": 56,
     "metadata": {},
     "output_type": "execute_result"
    }
   ],
   "source": [
    "data.platform.unique()"
   ]
  },
  {
   "cell_type": "code",
   "execution_count": 57,
   "metadata": {},
   "outputs": [],
   "source": [
    "# создадим вспомогательный словарь\n",
    "platform_dict = {x:y for x,y in zip(data.platform.unique(), range(0,31))}"
   ]
  },
  {
   "cell_type": "code",
   "execution_count": 58,
   "metadata": {},
   "outputs": [],
   "source": [
    "data['platform_id'] = data.platform.apply(lambda x: platform_dict[x])"
   ]
  },
  {
   "cell_type": "code",
   "execution_count": 59,
   "metadata": {},
   "outputs": [
    {
     "data": {
      "text/html": [
       "<div>\n",
       "<style scoped>\n",
       "    .dataframe tbody tr th:only-of-type {\n",
       "        vertical-align: middle;\n",
       "    }\n",
       "\n",
       "    .dataframe tbody tr th {\n",
       "        vertical-align: top;\n",
       "    }\n",
       "\n",
       "    .dataframe thead th {\n",
       "        text-align: right;\n",
       "    }\n",
       "</style>\n",
       "<table border=\"1\" class=\"dataframe\">\n",
       "  <thead>\n",
       "    <tr style=\"text-align: right;\">\n",
       "      <th></th>\n",
       "      <th>name</th>\n",
       "      <th>platform</th>\n",
       "      <th>year_of_release</th>\n",
       "      <th>genre</th>\n",
       "      <th>na_sales</th>\n",
       "      <th>eu_sales</th>\n",
       "      <th>jp_sales</th>\n",
       "      <th>other_sales</th>\n",
       "      <th>critic_score</th>\n",
       "      <th>user_score</th>\n",
       "      <th>rating</th>\n",
       "      <th>total_sales</th>\n",
       "      <th>genre_id</th>\n",
       "      <th>platform_id</th>\n",
       "    </tr>\n",
       "  </thead>\n",
       "  <tbody>\n",
       "    <tr>\n",
       "      <th>0</th>\n",
       "      <td>Wii Sports</td>\n",
       "      <td>Wii</td>\n",
       "      <td>2006</td>\n",
       "      <td>Sports</td>\n",
       "      <td>41.36</td>\n",
       "      <td>28.96</td>\n",
       "      <td>3.77</td>\n",
       "      <td>8.45</td>\n",
       "      <td>76.0</td>\n",
       "      <td>8</td>\n",
       "      <td>E</td>\n",
       "      <td>82.54</td>\n",
       "      <td>0</td>\n",
       "      <td>0</td>\n",
       "    </tr>\n",
       "    <tr>\n",
       "      <th>1</th>\n",
       "      <td>Super Mario Bros.</td>\n",
       "      <td>NES</td>\n",
       "      <td>1985</td>\n",
       "      <td>Platform</td>\n",
       "      <td>29.08</td>\n",
       "      <td>3.58</td>\n",
       "      <td>6.81</td>\n",
       "      <td>0.77</td>\n",
       "      <td>NaN</td>\n",
       "      <td>NaN</td>\n",
       "      <td>NaN</td>\n",
       "      <td>40.24</td>\n",
       "      <td>1</td>\n",
       "      <td>1</td>\n",
       "    </tr>\n",
       "    <tr>\n",
       "      <th>2</th>\n",
       "      <td>Mario Kart Wii</td>\n",
       "      <td>Wii</td>\n",
       "      <td>2008</td>\n",
       "      <td>Racing</td>\n",
       "      <td>15.68</td>\n",
       "      <td>12.76</td>\n",
       "      <td>3.79</td>\n",
       "      <td>3.29</td>\n",
       "      <td>82.0</td>\n",
       "      <td>8.3</td>\n",
       "      <td>E</td>\n",
       "      <td>35.52</td>\n",
       "      <td>2</td>\n",
       "      <td>0</td>\n",
       "    </tr>\n",
       "    <tr>\n",
       "      <th>3</th>\n",
       "      <td>Wii Sports Resort</td>\n",
       "      <td>Wii</td>\n",
       "      <td>2009</td>\n",
       "      <td>Sports</td>\n",
       "      <td>15.61</td>\n",
       "      <td>10.93</td>\n",
       "      <td>3.28</td>\n",
       "      <td>2.95</td>\n",
       "      <td>80.0</td>\n",
       "      <td>8</td>\n",
       "      <td>E</td>\n",
       "      <td>32.77</td>\n",
       "      <td>0</td>\n",
       "      <td>0</td>\n",
       "    </tr>\n",
       "    <tr>\n",
       "      <th>4</th>\n",
       "      <td>Pokemon Red/Pokemon Blue</td>\n",
       "      <td>GB</td>\n",
       "      <td>1996</td>\n",
       "      <td>Role-Playing</td>\n",
       "      <td>11.27</td>\n",
       "      <td>8.89</td>\n",
       "      <td>10.22</td>\n",
       "      <td>1.00</td>\n",
       "      <td>NaN</td>\n",
       "      <td>NaN</td>\n",
       "      <td>NaN</td>\n",
       "      <td>31.38</td>\n",
       "      <td>3</td>\n",
       "      <td>2</td>\n",
       "    </tr>\n",
       "  </tbody>\n",
       "</table>\n",
       "</div>"
      ],
      "text/plain": [
       "                       name platform  year_of_release         genre  na_sales  \\\n",
       "0                Wii Sports      Wii             2006        Sports     41.36   \n",
       "1         Super Mario Bros.      NES             1985      Platform     29.08   \n",
       "2            Mario Kart Wii      Wii             2008        Racing     15.68   \n",
       "3         Wii Sports Resort      Wii             2009        Sports     15.61   \n",
       "4  Pokemon Red/Pokemon Blue       GB             1996  Role-Playing     11.27   \n",
       "\n",
       "   eu_sales  jp_sales  other_sales  critic_score user_score rating  \\\n",
       "0     28.96      3.77         8.45          76.0          8      E   \n",
       "1      3.58      6.81         0.77           NaN        NaN    NaN   \n",
       "2     12.76      3.79         3.29          82.0        8.3      E   \n",
       "3     10.93      3.28         2.95          80.0          8      E   \n",
       "4      8.89     10.22         1.00           NaN        NaN    NaN   \n",
       "\n",
       "   total_sales  genre_id  platform_id  \n",
       "0        82.54         0            0  \n",
       "1        40.24         1            1  \n",
       "2        35.52         2            0  \n",
       "3        32.77         0            0  \n",
       "4        31.38         3            2  "
      ]
     },
     "execution_count": 59,
     "metadata": {},
     "output_type": "execute_result"
    }
   ],
   "source": [
    "data.head()"
   ]
  },
  {
   "cell_type": "markdown",
   "metadata": {},
   "source": [
    "Строим матрицу корреляции"
   ]
  },
  {
   "cell_type": "code",
   "execution_count": 60,
   "metadata": {},
   "outputs": [
    {
     "data": {
      "text/html": [
       "<div>\n",
       "<style scoped>\n",
       "    .dataframe tbody tr th:only-of-type {\n",
       "        vertical-align: middle;\n",
       "    }\n",
       "\n",
       "    .dataframe tbody tr th {\n",
       "        vertical-align: top;\n",
       "    }\n",
       "\n",
       "    .dataframe thead th {\n",
       "        text-align: right;\n",
       "    }\n",
       "</style>\n",
       "<table border=\"1\" class=\"dataframe\">\n",
       "  <thead>\n",
       "    <tr style=\"text-align: right;\">\n",
       "      <th></th>\n",
       "      <th>critic_score</th>\n",
       "      <th>platform_id</th>\n",
       "      <th>year_of_release</th>\n",
       "      <th>genre_id</th>\n",
       "      <th>total_sales</th>\n",
       "    </tr>\n",
       "  </thead>\n",
       "  <tbody>\n",
       "    <tr>\n",
       "      <th>critic_score</th>\n",
       "      <td>1.000000</td>\n",
       "      <td>0.144613</td>\n",
       "      <td>0.019249</td>\n",
       "      <td>-0.081422</td>\n",
       "      <td>0.245507</td>\n",
       "    </tr>\n",
       "    <tr>\n",
       "      <th>platform_id</th>\n",
       "      <td>0.144613</td>\n",
       "      <td>1.000000</td>\n",
       "      <td>0.014709</td>\n",
       "      <td>0.059467</td>\n",
       "      <td>-0.087669</td>\n",
       "    </tr>\n",
       "    <tr>\n",
       "      <th>year_of_release</th>\n",
       "      <td>0.019249</td>\n",
       "      <td>0.014709</td>\n",
       "      <td>1.000000</td>\n",
       "      <td>-0.001563</td>\n",
       "      <td>0.014615</td>\n",
       "    </tr>\n",
       "    <tr>\n",
       "      <th>genre_id</th>\n",
       "      <td>-0.081422</td>\n",
       "      <td>0.059467</td>\n",
       "      <td>-0.001563</td>\n",
       "      <td>1.000000</td>\n",
       "      <td>-0.063309</td>\n",
       "    </tr>\n",
       "    <tr>\n",
       "      <th>total_sales</th>\n",
       "      <td>0.245507</td>\n",
       "      <td>-0.087669</td>\n",
       "      <td>0.014615</td>\n",
       "      <td>-0.063309</td>\n",
       "      <td>1.000000</td>\n",
       "    </tr>\n",
       "  </tbody>\n",
       "</table>\n",
       "</div>"
      ],
      "text/plain": [
       "                 critic_score  platform_id  year_of_release  genre_id  \\\n",
       "critic_score         1.000000     0.144613         0.019249 -0.081422   \n",
       "platform_id          0.144613     1.000000         0.014709  0.059467   \n",
       "year_of_release      0.019249     0.014709         1.000000 -0.001563   \n",
       "genre_id            -0.081422     0.059467        -0.001563  1.000000   \n",
       "total_sales          0.245507    -0.087669         0.014615 -0.063309   \n",
       "\n",
       "                 total_sales  \n",
       "critic_score        0.245507  \n",
       "platform_id        -0.087669  \n",
       "year_of_release     0.014615  \n",
       "genre_id           -0.063309  \n",
       "total_sales         1.000000  "
      ]
     },
     "execution_count": 60,
     "metadata": {},
     "output_type": "execute_result"
    }
   ],
   "source": [
    "data[['critic_score', 'platform_id', 'year_of_release', 'genre_id', 'total_sales']].corr()"
   ]
  },
  {
   "cell_type": "markdown",
   "metadata": {},
   "source": [
    "Вывод - оценка критиков немного зависит от платформы и суммарных продаж и не зависит от года выпуска и жанра."
   ]
  },
  {
   "cell_type": "markdown",
   "metadata": {},
   "source": [
    "Тогда план такой:\n",
    "\n",
    "- сгруппировать игры по суммарным продажам и платформе\n",
    "- посчитать медианное значение оценки критиков\n",
    "- заменить пустые значения оценок критиков точечно - с учетом жанра и суммарных продаж"
   ]
  },
  {
   "cell_type": "code",
   "execution_count": 61,
   "metadata": {},
   "outputs": [
    {
     "data": {
      "text/html": [
       "<div>\n",
       "<style scoped>\n",
       "    .dataframe tbody tr th:only-of-type {\n",
       "        vertical-align: middle;\n",
       "    }\n",
       "\n",
       "    .dataframe tbody tr th {\n",
       "        vertical-align: top;\n",
       "    }\n",
       "\n",
       "    .dataframe thead th {\n",
       "        text-align: right;\n",
       "    }\n",
       "</style>\n",
       "<table border=\"1\" class=\"dataframe\">\n",
       "  <thead>\n",
       "    <tr style=\"text-align: right;\">\n",
       "      <th></th>\n",
       "      <th>total_sales</th>\n",
       "      <th>platform</th>\n",
       "      <th>med_cr_score</th>\n",
       "    </tr>\n",
       "  </thead>\n",
       "  <tbody>\n",
       "    <tr>\n",
       "      <th>0</th>\n",
       "      <td>0.00</td>\n",
       "      <td>PS2</td>\n",
       "      <td>NaN</td>\n",
       "    </tr>\n",
       "    <tr>\n",
       "      <th>1</th>\n",
       "      <td>0.00</td>\n",
       "      <td>PS3</td>\n",
       "      <td>NaN</td>\n",
       "    </tr>\n",
       "    <tr>\n",
       "      <th>2</th>\n",
       "      <td>0.01</td>\n",
       "      <td>3DS</td>\n",
       "      <td>77.0</td>\n",
       "    </tr>\n",
       "    <tr>\n",
       "      <th>3</th>\n",
       "      <td>0.01</td>\n",
       "      <td>DS</td>\n",
       "      <td>55.0</td>\n",
       "    </tr>\n",
       "    <tr>\n",
       "      <th>4</th>\n",
       "      <td>0.01</td>\n",
       "      <td>GBA</td>\n",
       "      <td>67.0</td>\n",
       "    </tr>\n",
       "    <tr>\n",
       "      <th>...</th>\n",
       "      <td>...</td>\n",
       "      <td>...</td>\n",
       "      <td>...</td>\n",
       "    </tr>\n",
       "    <tr>\n",
       "      <th>3967</th>\n",
       "      <td>31.38</td>\n",
       "      <td>GB</td>\n",
       "      <td>NaN</td>\n",
       "    </tr>\n",
       "    <tr>\n",
       "      <th>3968</th>\n",
       "      <td>32.77</td>\n",
       "      <td>Wii</td>\n",
       "      <td>80.0</td>\n",
       "    </tr>\n",
       "    <tr>\n",
       "      <th>3969</th>\n",
       "      <td>35.52</td>\n",
       "      <td>Wii</td>\n",
       "      <td>82.0</td>\n",
       "    </tr>\n",
       "    <tr>\n",
       "      <th>3970</th>\n",
       "      <td>40.24</td>\n",
       "      <td>NES</td>\n",
       "      <td>NaN</td>\n",
       "    </tr>\n",
       "    <tr>\n",
       "      <th>3971</th>\n",
       "      <td>82.54</td>\n",
       "      <td>Wii</td>\n",
       "      <td>76.0</td>\n",
       "    </tr>\n",
       "  </tbody>\n",
       "</table>\n",
       "<p>3972 rows × 3 columns</p>\n",
       "</div>"
      ],
      "text/plain": [
       "      total_sales platform  med_cr_score\n",
       "0            0.00      PS2           NaN\n",
       "1            0.00      PS3           NaN\n",
       "2            0.01      3DS          77.0\n",
       "3            0.01       DS          55.0\n",
       "4            0.01      GBA          67.0\n",
       "...           ...      ...           ...\n",
       "3967        31.38       GB           NaN\n",
       "3968        32.77      Wii          80.0\n",
       "3969        35.52      Wii          82.0\n",
       "3970        40.24      NES           NaN\n",
       "3971        82.54      Wii          76.0\n",
       "\n",
       "[3972 rows x 3 columns]"
      ]
     },
     "execution_count": 61,
     "metadata": {},
     "output_type": "execute_result"
    }
   ],
   "source": [
    "data.groupby(['total_sales', 'platform']).agg({'critic_score':'median'}).\\\n",
    "    reset_index().rename(columns={'critic_score': 'med_cr_score'})"
   ]
  },
  {
   "cell_type": "markdown",
   "metadata": {},
   "source": [
    "добавим столбец полученных медианных значений в основную таблицу данных"
   ]
  },
  {
   "cell_type": "code",
   "execution_count": 62,
   "metadata": {},
   "outputs": [],
   "source": [
    "data =  data.merge(data.groupby(['total_sales', 'platform']).agg({'critic_score':'median'}).\\\n",
    "                reset_index().rename(columns={'critic_score': 'med_cr_score'}),\n",
    "                on=['total_sales', 'platform'],\n",
    "                how='left')"
   ]
  },
  {
   "cell_type": "markdown",
   "metadata": {},
   "source": [
    "заполним пропуски в столбце оценка критиков"
   ]
  },
  {
   "cell_type": "code",
   "execution_count": 63,
   "metadata": {},
   "outputs": [],
   "source": [
    "data.critic_score.fillna(data.med_cr_score, inplace=True)"
   ]
  },
  {
   "cell_type": "code",
   "execution_count": 64,
   "metadata": {},
   "outputs": [
    {
     "data": {
      "text/plain": [
       "2014"
      ]
     },
     "execution_count": 64,
     "metadata": {},
     "output_type": "execute_result"
    }
   ],
   "source": [
    "data.critic_score.isna().sum()"
   ]
  },
  {
   "cell_type": "markdown",
   "metadata": {},
   "source": [
    "получается, заполнили около 6000 пустых значений , но все равно осталось около 2000.\n",
    "\n",
    "Очевидно, что оставшиеся пустые значения даже при группировке по конкретному жанру и конкретной суммарной выручке не имели вообще никаких значений оценок критиков"
   ]
  },
  {
   "cell_type": "markdown",
   "metadata": {},
   "source": [
    "Посмотрим еще раз на рапределение, среднее и медиану"
   ]
  },
  {
   "cell_type": "code",
   "execution_count": 65,
   "metadata": {},
   "outputs": [
    {
     "data": {
      "image/png": "[encoded data removed]",
      "text/plain": [
       "<Figure size 640x480 with 1 Axes>"
      ]
     },
     "metadata": {},
     "output_type": "display_data"
    }
   ],
   "source": [
    "plt.title('Распределение частоты оценок критиков')\n",
    "plt.ylabel('Частота')\n",
    "plt.xlabel('Оценка критиков')\n",
    "data.critic_score.hist(bins=20)\n",
    "\n",
    "plt.show()"
   ]
  },
  {
   "cell_type": "code",
   "execution_count": 66,
   "metadata": {},
   "outputs": [
    {
     "data": {
      "text/plain": [
       "count    14700.000000\n",
       "mean        66.879252\n",
       "std         12.037493\n",
       "min         13.000000\n",
       "25%         60.000000\n",
       "50%         67.000000\n",
       "75%         75.000000\n",
       "max         98.000000\n",
       "Name: critic_score, dtype: float64"
      ]
     },
     "execution_count": 66,
     "metadata": {},
     "output_type": "execute_result"
    }
   ],
   "source": [
    "data.critic_score.describe()"
   ]
  },
  {
   "cell_type": "code",
   "execution_count": 67,
   "metadata": {},
   "outputs": [
    {
     "data": {
      "text/plain": [
       "67.0"
      ]
     },
     "execution_count": 67,
     "metadata": {},
     "output_type": "execute_result"
    }
   ],
   "source": [
    "data.critic_score.median()"
   ]
  },
  {
   "cell_type": "markdown",
   "metadata": {},
   "source": [
    "значения среднего и медианы стали еще ближе. заполним оставшиеся пустые значения медианой"
   ]
  },
  {
   "cell_type": "code",
   "execution_count": 68,
   "metadata": {},
   "outputs": [],
   "source": [
    "data.critic_score.fillna(67, inplace=True)"
   ]
  },
  {
   "cell_type": "code",
   "execution_count": 69,
   "metadata": {},
   "outputs": [
    {
     "data": {
      "text/plain": [
       "0"
      ]
     },
     "execution_count": 69,
     "metadata": {},
     "output_type": "execute_result"
    }
   ],
   "source": [
    "data.critic_score.isna().sum()"
   ]
  },
  {
   "cell_type": "markdown",
   "metadata": {},
   "source": [
    "###### 2.2.5. Пропуски в столбце оценка пользователей"
   ]
  },
  {
   "cell_type": "code",
   "execution_count": 70,
   "metadata": {},
   "outputs": [
    {
     "data": {
      "image/png": "[encoded data removed]",
      "text/plain": [
       "<Figure size 1500x900 with 1 Axes>"
      ]
     },
     "metadata": {},
     "output_type": "display_data"
    }
   ],
   "source": [
    "plt.title('Распределение частоты оценок пользователей')\n",
    "plt.ylabel('Частота')\n",
    "plt.xlabel('Оценка пользователей')\n",
    "data.user_score.hist(bins=20, xrot=90, figsize=(15,9))\n",
    "\n",
    "plt.show()"
   ]
  },
  {
   "cell_type": "markdown",
   "metadata": {},
   "source": [
    "распределение совсем непохоже на нормальное, более того - является дискретным.\n"
   ]
  },
  {
   "cell_type": "code",
   "execution_count": 77,
   "metadata": {},
   "outputs": [
    {
     "data": {
      "image/png": "[encoded data removed]",
      "text/plain": [
       "<Figure size 1500x500 with 1 Axes>"
      ]
     },
     "metadata": {},
     "output_type": "display_data"
    }
   ],
   "source": [
    "data.user_score.value_counts()\\\n",
    "    .plot(kind='bar', figsize=(15,5), title = 'Распределение оценок пользователей')\n",
    "\n",
    "plt.ylabel('Частота')\n",
    "plt.xlabel('Оценка пользователей')\n",
    "\n",
    "plt.show()"
   ]
  },
  {
   "cell_type": "markdown",
   "metadata": {},
   "source": [
    "Так, на графике видим:\n",
    "1)  присутствует непонятная оценка \"tbd\" - самое популярное значение\n",
    "2) далее самая популярная оценка в районе 7.5 - 8.5 (точнее 7.8)\n"
   ]
  },
  {
   "cell_type": "markdown",
   "metadata": {},
   "source": [
    "        Tbd – это аббревиатура от английской фразы «To be determined», что в переводе означает «будет определено». То есть, когда игра имеет рейтинг Tbd, это означает, что ее рейтинг еще не был определен официальными ресурсами или критиками. Этот рейтинг указывает на то, что игра новая или еще не получила достаточное количество оценок, чтобы определить ее качество и уровень интересности."
   ]
  },
  {
   "cell_type": "code",
   "execution_count": 78,
   "metadata": {},
   "outputs": [
    {
     "data": {
      "text/plain": [
       "2424"
      ]
     },
     "execution_count": 78,
     "metadata": {},
     "output_type": "execute_result"
    }
   ],
   "source": [
    "data[data.user_score == 'tbd'].shape[0]"
   ]
  },
  {
   "cell_type": "code",
   "execution_count": 79,
   "metadata": {},
   "outputs": [
    {
     "data": {
      "text/plain": [
       "6700"
      ]
     },
     "execution_count": 79,
     "metadata": {},
     "output_type": "execute_result"
    }
   ],
   "source": [
    "data.user_score.isna().sum()"
   ]
  },
  {
   "cell_type": "markdown",
   "metadata": {},
   "source": [
    "Это значит, что помимо 6700 игр с  пустыми значениями в оценках пользователей присутствуют еще и 2424 игры, которым невозможно присвоить оценку, т.к игра новая или критической массы оценок пока недостаточно."
   ]
  },
  {
   "cell_type": "code",
   "execution_count": 81,
   "metadata": {},
   "outputs": [
    {
     "data": {
      "text/plain": [
       "array([2010, 2005, 2011,    0, 2009, 2004, 1999, 2001, 2008, 2007, 2003,\n",
       "       2000, 2006, 2002, 2015, 2014, 2012, 2013, 2016, 1997])"
      ]
     },
     "execution_count": 81,
     "metadata": {},
     "output_type": "execute_result"
    }
   ],
   "source": [
    "data[data.user_score == 'tbd'].year_of_release.unique()\n"
   ]
  },
  {
   "cell_type": "markdown",
   "metadata": {},
   "source": [
    "Годы выпуска у этих игр самые разные. Многие игры новыми точно не назовешь. "
   ]
  },
  {
   "cell_type": "markdown",
   "metadata": {},
   "source": [
    "Посмотрим, какие игры считать новыми - выведем максимальный год, имеющийся в наличии в данных"
   ]
  },
  {
   "cell_type": "code",
   "execution_count": 82,
   "metadata": {},
   "outputs": [
    {
     "data": {
      "text/plain": [
       "2016"
      ]
     },
     "execution_count": 82,
     "metadata": {},
     "output_type": "execute_result"
    }
   ],
   "source": [
    "data.year_of_release.max()"
   ]
  },
  {
   "cell_type": "markdown",
   "metadata": {},
   "source": [
    "Что ж, будем считать, что у игр 2016 года оценка вполне могла не сформироваться - заполним пустые значения столбца Оценка пользователя для 2016 года - значением 'tbd'"
   ]
  },
  {
   "cell_type": "code",
   "execution_count": 86,
   "metadata": {},
   "outputs": [],
   "source": [
    "data.loc[(data.year_of_release==2016) & (data.user_score.isna()), \n",
    "         'user_score'] = 'tbd'"
   ]
  },
  {
   "cell_type": "code",
   "execution_count": 87,
   "metadata": {},
   "outputs": [
    {
     "data": {
      "text/plain": [
       "6494"
      ]
     },
     "execution_count": 87,
     "metadata": {},
     "output_type": "execute_result"
    }
   ],
   "source": [
    "data.user_score.isna().sum()"
   ]
  },
  {
   "cell_type": "markdown",
   "metadata": {},
   "source": [
    "206 пустых значений заполнили."
   ]
  },
  {
   "cell_type": "markdown",
   "metadata": {},
   "source": [
    "остальные пустые значения могут быть в равной степени:\n",
    "\n",
    "- пропущенными случайно при заполнении\n",
    "- не иметь оценки в принципе (tbd)\n",
    "\n",
    "Посмотрим как коррелирует оценка пользователей с годом выпуска, суммарными продажами, жанром, платформой и конечно оценкой критиков.\n",
    "\n",
    "Причем сразу исключим из корреляции tbd значения "
   ]
  },
  {
   "cell_type": "code",
   "execution_count": 93,
   "metadata": {},
   "outputs": [
    {
     "data": {
      "text/plain": [
       "array(['8', nan, '8.3', '8.5', '6.6', '8.4', '8.6', '7.7', '6.3', '7.4',\n",
       "       '8.2', '9', '7.9', '8.1', '8.7', '7.1', '3.4', '5.3', '4.8', '3.2',\n",
       "       '8.9', '6.4', '7.8', '7.5', '2.6', '7.2', '9.2', '7', '7.3', '4.3',\n",
       "       '7.6', '5.7', '5', '9.1', '6.5', '8.8', '6.9', '9.4', '6.8', '6.1',\n",
       "       '6.7', '5.4', '4', '4.9', '4.5', '9.3', '6.2', '4.2', '6', '3.7',\n",
       "       '4.1', '5.8', '5.6', '5.5', '4.4', '4.6', '5.9', '3.9', '3.1',\n",
       "       '2.9', '5.2', '3.3', '4.7', '5.1', '3.5', '2.5', '1.9', '3', '2.7',\n",
       "       '2.2', '2', '9.5', '2.1', '3.6', '2.8', '1.8', '3.8', '0', '1.6',\n",
       "       '9.6', '2.4', '1.7', '1.1', '0.3', '1.5', '0.7', '1.2', '2.3',\n",
       "       '0.5', '1.3', '0.2', '0.6', '1.4', '0.9', '1', '9.7'], dtype=object)"
      ]
     },
     "execution_count": 93,
     "metadata": {},
     "output_type": "execute_result"
    }
   ],
   "source": [
    "data.query('user_score !=\"tbd\"').user_score.unique()"
   ]
  },
  {
   "cell_type": "code",
   "execution_count": 95,
   "metadata": {},
   "outputs": [],
   "source": [
    "temp_df_user_score = data.query('user_score !=\"tbd\"')"
   ]
  },
  {
   "cell_type": "code",
   "execution_count": 100,
   "metadata": {},
   "outputs": [
    {
     "data": {
      "text/plain": [
       "0        8.0\n",
       "1        NaN\n",
       "2        8.3\n",
       "3        8.0\n",
       "4        NaN\n",
       "        ... \n",
       "16706    NaN\n",
       "16707    NaN\n",
       "16708    NaN\n",
       "16710    NaN\n",
       "16712    NaN\n",
       "Name: user_score, Length: 14084, dtype: float64"
      ]
     },
     "execution_count": 100,
     "metadata": {},
     "output_type": "execute_result"
    }
   ],
   "source": [
    "temp_df_user_score.user_score.astype('float')"
   ]
  },
  {
   "cell_type": "code",
   "execution_count": 102,
   "metadata": {},
   "outputs": [
    {
     "data": {
      "text/html": [
       "<div>\n",
       "<style scoped>\n",
       "    .dataframe tbody tr th:only-of-type {\n",
       "        vertical-align: middle;\n",
       "    }\n",
       "\n",
       "    .dataframe tbody tr th {\n",
       "        vertical-align: top;\n",
       "    }\n",
       "\n",
       "    .dataframe thead th {\n",
       "        text-align: right;\n",
       "    }\n",
       "</style>\n",
       "<table border=\"1\" class=\"dataframe\">\n",
       "  <thead>\n",
       "    <tr style=\"text-align: right;\">\n",
       "      <th></th>\n",
       "      <th>user_score</th>\n",
       "      <th>critic_score</th>\n",
       "      <th>platform_id</th>\n",
       "      <th>year_of_release</th>\n",
       "      <th>genre_id</th>\n",
       "      <th>total_sales</th>\n",
       "    </tr>\n",
       "  </thead>\n",
       "  <tbody>\n",
       "    <tr>\n",
       "      <th>user_score</th>\n",
       "      <td>1.000000</td>\n",
       "      <td>0.544623</td>\n",
       "      <td>0.097038</td>\n",
       "      <td>0.010058</td>\n",
       "      <td>0.004775</td>\n",
       "      <td>0.088179</td>\n",
       "    </tr>\n",
       "    <tr>\n",
       "      <th>critic_score</th>\n",
       "      <td>0.544623</td>\n",
       "      <td>1.000000</td>\n",
       "      <td>0.141207</td>\n",
       "      <td>0.016711</td>\n",
       "      <td>-0.083950</td>\n",
       "      <td>0.214826</td>\n",
       "    </tr>\n",
       "    <tr>\n",
       "      <th>platform_id</th>\n",
       "      <td>0.097038</td>\n",
       "      <td>0.141207</td>\n",
       "      <td>1.000000</td>\n",
       "      <td>0.015853</td>\n",
       "      <td>0.063229</td>\n",
       "      <td>-0.108866</td>\n",
       "    </tr>\n",
       "    <tr>\n",
       "      <th>year_of_release</th>\n",
       "      <td>0.010058</td>\n",
       "      <td>0.016711</td>\n",
       "      <td>0.015853</td>\n",
       "      <td>1.000000</td>\n",
       "      <td>-0.001399</td>\n",
       "      <td>0.015951</td>\n",
       "    </tr>\n",
       "    <tr>\n",
       "      <th>genre_id</th>\n",
       "      <td>0.004775</td>\n",
       "      <td>-0.083950</td>\n",
       "      <td>0.063229</td>\n",
       "      <td>-0.001399</td>\n",
       "      <td>1.000000</td>\n",
       "      <td>-0.073525</td>\n",
       "    </tr>\n",
       "    <tr>\n",
       "      <th>total_sales</th>\n",
       "      <td>0.088179</td>\n",
       "      <td>0.214826</td>\n",
       "      <td>-0.108866</td>\n",
       "      <td>0.015951</td>\n",
       "      <td>-0.073525</td>\n",
       "      <td>1.000000</td>\n",
       "    </tr>\n",
       "  </tbody>\n",
       "</table>\n",
       "</div>"
      ],
      "text/plain": [
       "                 user_score  critic_score  platform_id  year_of_release  \\\n",
       "user_score         1.000000      0.544623     0.097038         0.010058   \n",
       "critic_score       0.544623      1.000000     0.141207         0.016711   \n",
       "platform_id        0.097038      0.141207     1.000000         0.015853   \n",
       "year_of_release    0.010058      0.016711     0.015853         1.000000   \n",
       "genre_id           0.004775     -0.083950     0.063229        -0.001399   \n",
       "total_sales        0.088179      0.214826    -0.108866         0.015951   \n",
       "\n",
       "                 genre_id  total_sales  \n",
       "user_score       0.004775     0.088179  \n",
       "critic_score    -0.083950     0.214826  \n",
       "platform_id      0.063229    -0.108866  \n",
       "year_of_release -0.001399     0.015951  \n",
       "genre_id         1.000000    -0.073525  \n",
       "total_sales     -0.073525     1.000000  "
      ]
     },
     "execution_count": 102,
     "metadata": {},
     "output_type": "execute_result"
    }
   ],
   "source": [
    "temp_df_user_score[['user_score','critic_score', 'platform_id', 'year_of_release', 'genre_id', 'total_sales']].corr()"
   ]
  },
  {
   "cell_type": "markdown",
   "metadata": {},
   "source": [
    "Вполне ожидаемый результат - оценка пользователей неплохо коррелирует с оценкой критиков"
   ]
  },
  {
   "cell_type": "markdown",
   "metadata": {},
   "source": [
    "\n",
    "Так, можно предполагать, что непустые оценки пользователей, связанные с оценкой критиков можно применить для заполнения пустых оценок пользователей при соответствующих значениях оценки критиков.\n",
    "\n",
    "Однако, оценка пользователей является дискретной величиной, поэтому риск промахнуться с заполнением оценки может быть слишком высоким."
   ]
  },
  {
   "cell_type": "code",
   "execution_count": 105,
   "metadata": {},
   "outputs": [
    {
     "data": {
      "text/plain": [
       "6494"
      ]
     },
     "execution_count": 105,
     "metadata": {},
     "output_type": "execute_result"
    }
   ],
   "source": [
    "data.user_score.isna().sum()"
   ]
  },
  {
   "cell_type": "markdown",
   "metadata": {},
   "source": [
    "Выводы:\n",
    "1) заменять пропуски в оценках пользователей не будем, потому что:\n",
    "- величина дискретная\n",
    "- имеет подавляющее число оценок =  'tbd', что буквально означает \"нет оценки\"\n",
    "- сликшом высок риск ошибиться при заполнении оценки через корреляцию\n",
    "\n",
    "2) 206 пустых значений **новых** игр заменили на значение tbd (нет оценки)"
   ]
  },
  {
   "cell_type": "markdown",
   "metadata": {},
   "source": [
    "###### 2.2.6. Пропуски в столбце рейтинг"
   ]
  },
  {
   "cell_type": "code",
   "execution_count": 107,
   "metadata": {},
   "outputs": [
    {
     "data": {
      "image/png": "[encoded data removed]",
      "text/plain": [
       "<Figure size 1500x900 with 1 Axes>"
      ]
     },
     "metadata": {},
     "output_type": "display_data"
    }
   ],
   "source": [
    "plt.title('Распределение частоты рейтинга')\n",
    "plt.ylabel('Частота')\n",
    "plt.xlabel('Рейтинг')\n",
    "data.rating.hist(bins=20, figsize=(15,9))\n",
    "\n",
    "plt.show()"
   ]
  },
  {
   "cell_type": "markdown",
   "metadata": {},
   "source": [
    "Что ж, очевидно, что значимой частотой обладают четыре типа рейтинга: Е, М, Т, Е10+"
   ]
  },
  {
   "cell_type": "markdown",
   "metadata": {},
   "source": [
    "Посмотрим на числовые значения частот рейтингов:"
   ]
  },
  {
   "cell_type": "code",
   "execution_count": 115,
   "metadata": {},
   "outputs": [
    {
     "data": {
      "text/plain": [
       "NaN     6765\n",
       "E       3990\n",
       "T       2961\n",
       "M       1563\n",
       "E10+    1420\n",
       "EC         8\n",
       "K-A        3\n",
       "RP         3\n",
       "AO         1\n",
       "Name: rating, dtype: int64"
      ]
     },
     "execution_count": 115,
     "metadata": {},
     "output_type": "execute_result"
    }
   ],
   "source": [
    "data.rating.value_counts(dropna=False)"
   ]
  },
  {
   "cell_type": "code",
   "execution_count": 116,
   "metadata": {},
   "outputs": [
    {
     "data": {
      "image/png": "[encoded data removed]",
      "text/plain": [
       "<Figure size 640x480 with 1 Axes>"
      ]
     },
     "metadata": {},
     "output_type": "display_data"
    }
   ],
   "source": [
    "data.rating.value_counts(dropna=False).plot(kind='bar')\n",
    "plt.title('Диаграмма распределения значений рейтинга')\n",
    "plt.xlabel('Рейтинг')\n",
    "plt.ylabel('Частота')\n",
    "plt.show()"
   ]
  },
  {
   "cell_type": "markdown",
   "metadata": {},
   "source": [
    "Получается, 9949 непустых значений и 6765 пустых.\n",
    "\n",
    "Причем, вероятность того, что первое попавшееся пустое значение рейтинга будет одним из Е, Т, М, Е10+ , равно (3990+2961+1563+1420) / (3990+2961+1563+1420+8+3+3+1) = 99.8%"
   ]
  },
  {
   "cell_type": "markdown",
   "metadata": {},
   "source": [
    "Значит, стоит ориентироваться именно на эти 4 значения при заполнении пустых значений рейтингов"
   ]
  },
  {
   "cell_type": "markdown",
   "metadata": {},
   "source": [
    "Посмотрим, с чем коррелирует рейтинг. Для этого снова создадим вспомогательный словарь, потом вспомогательный столбец, потом посмотрим на корреляцию"
   ]
  },
  {
   "cell_type": "code",
   "execution_count": 122,
   "metadata": {},
   "outputs": [
    {
     "data": {
      "text/plain": [
       "array(['E', nan, 'M', 'T', 'E10+', 'K-A', 'AO', 'EC', 'RP'], dtype=object)"
      ]
     },
     "execution_count": 122,
     "metadata": {},
     "output_type": "execute_result"
    }
   ],
   "source": [
    "data.rating.unique()"
   ]
  },
  {
   "cell_type": "code",
   "execution_count": 119,
   "metadata": {},
   "outputs": [],
   "source": [
    "# создадим вспомогательный словарь\n",
    "rating_dict = {x:y for x,y in zip(data.rating.unique(), range(0,9))}\n",
    "\n",
    "# создаем вспомогательный столбец\n",
    "data['rating_id'] = data.rating.apply(lambda x: rating_dict[x])\n"
   ]
  },
  {
   "cell_type": "code",
   "execution_count": 121,
   "metadata": {},
   "outputs": [
    {
     "data": {
      "text/html": [
       "<div>\n",
       "<style scoped>\n",
       "    .dataframe tbody tr th:only-of-type {\n",
       "        vertical-align: middle;\n",
       "    }\n",
       "\n",
       "    .dataframe tbody tr th {\n",
       "        vertical-align: top;\n",
       "    }\n",
       "\n",
       "    .dataframe thead th {\n",
       "        text-align: right;\n",
       "    }\n",
       "</style>\n",
       "<table border=\"1\" class=\"dataframe\">\n",
       "  <thead>\n",
       "    <tr style=\"text-align: right;\">\n",
       "      <th></th>\n",
       "      <th>rating_id</th>\n",
       "      <th>critic_score</th>\n",
       "      <th>platform_id</th>\n",
       "      <th>year_of_release</th>\n",
       "      <th>genre_id</th>\n",
       "      <th>total_sales</th>\n",
       "    </tr>\n",
       "  </thead>\n",
       "  <tbody>\n",
       "    <tr>\n",
       "      <th>rating_id</th>\n",
       "      <td>1.000000</td>\n",
       "      <td>0.050445</td>\n",
       "      <td>0.007921</td>\n",
       "      <td>-0.016478</td>\n",
       "      <td>0.219728</td>\n",
       "      <td>-0.004640</td>\n",
       "    </tr>\n",
       "    <tr>\n",
       "      <th>critic_score</th>\n",
       "      <td>0.050445</td>\n",
       "      <td>1.000000</td>\n",
       "      <td>0.173018</td>\n",
       "      <td>0.020163</td>\n",
       "      <td>-0.061894</td>\n",
       "      <td>0.218622</td>\n",
       "    </tr>\n",
       "    <tr>\n",
       "      <th>platform_id</th>\n",
       "      <td>0.007921</td>\n",
       "      <td>0.173018</td>\n",
       "      <td>1.000000</td>\n",
       "      <td>0.014709</td>\n",
       "      <td>0.059467</td>\n",
       "      <td>-0.087669</td>\n",
       "    </tr>\n",
       "    <tr>\n",
       "      <th>year_of_release</th>\n",
       "      <td>-0.016478</td>\n",
       "      <td>0.020163</td>\n",
       "      <td>0.014709</td>\n",
       "      <td>1.000000</td>\n",
       "      <td>-0.001563</td>\n",
       "      <td>0.014615</td>\n",
       "    </tr>\n",
       "    <tr>\n",
       "      <th>genre_id</th>\n",
       "      <td>0.219728</td>\n",
       "      <td>-0.061894</td>\n",
       "      <td>0.059467</td>\n",
       "      <td>-0.001563</td>\n",
       "      <td>1.000000</td>\n",
       "      <td>-0.063309</td>\n",
       "    </tr>\n",
       "    <tr>\n",
       "      <th>total_sales</th>\n",
       "      <td>-0.004640</td>\n",
       "      <td>0.218622</td>\n",
       "      <td>-0.087669</td>\n",
       "      <td>0.014615</td>\n",
       "      <td>-0.063309</td>\n",
       "      <td>1.000000</td>\n",
       "    </tr>\n",
       "  </tbody>\n",
       "</table>\n",
       "</div>"
      ],
      "text/plain": [
       "                 rating_id  critic_score  platform_id  year_of_release  \\\n",
       "rating_id         1.000000      0.050445     0.007921        -0.016478   \n",
       "critic_score      0.050445      1.000000     0.173018         0.020163   \n",
       "platform_id       0.007921      0.173018     1.000000         0.014709   \n",
       "year_of_release  -0.016478      0.020163     0.014709         1.000000   \n",
       "genre_id          0.219728     -0.061894     0.059467        -0.001563   \n",
       "total_sales      -0.004640      0.218622    -0.087669         0.014615   \n",
       "\n",
       "                 genre_id  total_sales  \n",
       "rating_id        0.219728    -0.004640  \n",
       "critic_score    -0.061894     0.218622  \n",
       "platform_id      0.059467    -0.087669  \n",
       "year_of_release -0.001563     0.014615  \n",
       "genre_id         1.000000    -0.063309  \n",
       "total_sales     -0.063309     1.000000  "
      ]
     },
     "execution_count": 121,
     "metadata": {},
     "output_type": "execute_result"
    }
   ],
   "source": [
    "data[['rating_id' ,'critic_score', 'platform_id', 'year_of_release', 'genre_id', 'total_sales']].corr()"
   ]
  },
  {
   "cell_type": "markdown",
   "metadata": {},
   "source": [
    "Да уж, рейтинг практически никак не связан ни с оценкой критиков, ни с платформой, годом выпуска или продажами. Зато хоть сколько-нибудь значимо связан с жанром.\n",
    "\n",
    "Попробуем отсечь пустые значения и непопулярные значения рейтинга и посмотреть еще раз"
   ]
  },
  {
   "cell_type": "code",
   "execution_count": 124,
   "metadata": {},
   "outputs": [
    {
     "data": {
      "text/html": [
       "<div>\n",
       "<style scoped>\n",
       "    .dataframe tbody tr th:only-of-type {\n",
       "        vertical-align: middle;\n",
       "    }\n",
       "\n",
       "    .dataframe tbody tr th {\n",
       "        vertical-align: top;\n",
       "    }\n",
       "\n",
       "    .dataframe thead th {\n",
       "        text-align: right;\n",
       "    }\n",
       "</style>\n",
       "<table border=\"1\" class=\"dataframe\">\n",
       "  <thead>\n",
       "    <tr style=\"text-align: right;\">\n",
       "      <th></th>\n",
       "      <th>rating_id</th>\n",
       "      <th>critic_score</th>\n",
       "      <th>platform_id</th>\n",
       "      <th>year_of_release</th>\n",
       "      <th>genre_id</th>\n",
       "      <th>total_sales</th>\n",
       "    </tr>\n",
       "  </thead>\n",
       "  <tbody>\n",
       "    <tr>\n",
       "      <th>rating_id</th>\n",
       "      <td>1.000000</td>\n",
       "      <td>0.016330</td>\n",
       "      <td>0.070736</td>\n",
       "      <td>-0.009972</td>\n",
       "      <td>0.340146</td>\n",
       "      <td>-0.028653</td>\n",
       "    </tr>\n",
       "    <tr>\n",
       "      <th>critic_score</th>\n",
       "      <td>0.016330</td>\n",
       "      <td>1.000000</td>\n",
       "      <td>0.192483</td>\n",
       "      <td>0.018857</td>\n",
       "      <td>-0.065408</td>\n",
       "      <td>0.254531</td>\n",
       "    </tr>\n",
       "    <tr>\n",
       "      <th>platform_id</th>\n",
       "      <td>0.070736</td>\n",
       "      <td>0.192483</td>\n",
       "      <td>1.000000</td>\n",
       "      <td>0.010231</td>\n",
       "      <td>0.003999</td>\n",
       "      <td>-0.080774</td>\n",
       "    </tr>\n",
       "    <tr>\n",
       "      <th>year_of_release</th>\n",
       "      <td>-0.009972</td>\n",
       "      <td>0.018857</td>\n",
       "      <td>0.010231</td>\n",
       "      <td>1.000000</td>\n",
       "      <td>-0.008563</td>\n",
       "      <td>0.019138</td>\n",
       "    </tr>\n",
       "    <tr>\n",
       "      <th>genre_id</th>\n",
       "      <td>0.340146</td>\n",
       "      <td>-0.065408</td>\n",
       "      <td>0.003999</td>\n",
       "      <td>-0.008563</td>\n",
       "      <td>1.000000</td>\n",
       "      <td>-0.035451</td>\n",
       "    </tr>\n",
       "    <tr>\n",
       "      <th>total_sales</th>\n",
       "      <td>-0.028653</td>\n",
       "      <td>0.254531</td>\n",
       "      <td>-0.080774</td>\n",
       "      <td>0.019138</td>\n",
       "      <td>-0.035451</td>\n",
       "      <td>1.000000</td>\n",
       "    </tr>\n",
       "  </tbody>\n",
       "</table>\n",
       "</div>"
      ],
      "text/plain": [
       "                 rating_id  critic_score  platform_id  year_of_release  \\\n",
       "rating_id         1.000000      0.016330     0.070736        -0.009972   \n",
       "critic_score      0.016330      1.000000     0.192483         0.018857   \n",
       "platform_id       0.070736      0.192483     1.000000         0.010231   \n",
       "year_of_release  -0.009972      0.018857     0.010231         1.000000   \n",
       "genre_id          0.340146     -0.065408     0.003999        -0.008563   \n",
       "total_sales      -0.028653      0.254531    -0.080774         0.019138   \n",
       "\n",
       "                 genre_id  total_sales  \n",
       "rating_id        0.340146    -0.028653  \n",
       "critic_score    -0.065408     0.254531  \n",
       "platform_id      0.003999    -0.080774  \n",
       "year_of_release -0.008563     0.019138  \n",
       "genre_id         1.000000    -0.035451  \n",
       "total_sales     -0.035451     1.000000  "
      ]
     },
     "execution_count": 124,
     "metadata": {},
     "output_type": "execute_result"
    }
   ],
   "source": [
    "data[(~data.rating.isna()) & (data.rating.isin(['E', 'M', 'T', 'E10+']))]\\\n",
    "    [['rating_id' ,'critic_score', 'platform_id', 'year_of_release', 'genre_id', 'total_sales']].corr()"
   ]
  },
  {
   "cell_type": "markdown",
   "metadata": {},
   "source": [
    "Ну, корреляция между рейтингом и жанром только усилась"
   ]
  },
  {
   "cell_type": "markdown",
   "metadata": {},
   "source": [
    "\n",
    "\n",
    "<font color='red'>Пока на подумать - может быть заменить пустые значения рейтинга пропорционально самым популярным значениям рейтингов , но с учетом корреляции по рейтингу? подумай, как реализовать</font>"
   ]
  },
  {
   "cell_type": "code",
   "execution_count": 106,
   "metadata": {},
   "outputs": [
    {
     "name": "stdout",
     "output_type": "stream",
     "text": [
      "<class 'pandas.core.frame.DataFrame'>\n",
      "Int64Index: 16714 entries, 0 to 16713\n",
      "Data columns (total 15 columns):\n",
      " #   Column           Non-Null Count  Dtype  \n",
      "---  ------           --------------  -----  \n",
      " 0   name             16714 non-null  object \n",
      " 1   platform         16714 non-null  object \n",
      " 2   year_of_release  16714 non-null  int64  \n",
      " 3   genre            16714 non-null  object \n",
      " 4   na_sales         16714 non-null  float64\n",
      " 5   eu_sales         16714 non-null  float64\n",
      " 6   jp_sales         16714 non-null  float64\n",
      " 7   other_sales      16714 non-null  float64\n",
      " 8   critic_score     16714 non-null  float64\n",
      " 9   user_score       10220 non-null  object \n",
      " 10  rating           9949 non-null   object \n",
      " 11  total_sales      16714 non-null  float64\n",
      " 12  genre_id         16714 non-null  int64  \n",
      " 13  platform_id      16714 non-null  int64  \n",
      " 14  med_cr_score     14700 non-null  float64\n",
      "dtypes: float64(7), int64(3), object(5)\n",
      "memory usage: 2.0+ MB\n"
     ]
    }
   ],
   "source": [
    "data.info()"
   ]
  },
  {
   "cell_type": "code",
   "execution_count": null,
   "metadata": {},
   "outputs": [],
   "source": []
  }
 ],
 "metadata": {
  "kernelspec": {
   "display_name": "Python 3",
   "language": "python",
   "name": "python3"
  },
  "language_info": {
   "codemirror_mode": {
    "name": "ipython",
    "version": 3
   },
   "file_extension": ".py",
   "mimetype": "text/x-python",
   "name": "python",
   "nbconvert_exporter": "python",
   "pygments_lexer": "ipython3",
   "version": "3.10.7"
  }
 },
 "nbformat": 4,
 "nbformat_minor": 2
}
