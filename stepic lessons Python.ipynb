{
 "cells": [
  {
   "cell_type": "code",
   "execution_count": 5,
   "metadata": {},
   "outputs": [
    {
     "name": "stdout",
     "output_type": "stream",
     "text": [
      "1993\n"
     ]
    }
   ],
   "source": [
    "s = '1992'\n",
    "s = int(s)\n",
    "print(s+1)\n"
   ]
  },
  {
   "cell_type": "code",
   "execution_count": 10,
   "metadata": {},
   "outputs": [
    {
     "name": "stdout",
     "output_type": "stream",
     "text": [
      "3\n",
      "4\n",
      "5\n"
     ]
    }
   ],
   "source": [
    "x=int(input())\n",
    "print(x,x+1,x+1+1, sep='\\n')\n"
   ]
  },
  {
   "cell_type": "code",
   "execution_count": 1,
   "metadata": {},
   "outputs": [
    {
     "name": "stdout",
     "output_type": "stream",
     "text": [
      "3\n",
      "0\n"
     ]
    }
   ],
   "source": [
    "print(23//7)\n",
    "print(2//5)"
   ]
  },
  {
   "cell_type": "code",
   "execution_count": 17,
   "metadata": {},
   "outputs": [
    {
     "name": "stdout",
     "output_type": "stream",
     "text": [
      "4\n"
     ]
    }
   ],
   "source": [
    "a=int(input())\n",
    "b=int(input())\n",
    "c=int(input())\n",
    "d=[a,b,c]\n",
    "\n",
    "e=0\n",
    "for i in range(0,len(d)):\n",
    "    if d[i]>0: \n",
    "        e=e+d[i]\n",
    "    else: e=e\n",
    "\n",
    "print(e)"
   ]
  },
  {
   "cell_type": "code",
   "execution_count": 31,
   "metadata": {},
   "outputs": [
    {
     "name": "stdout",
     "output_type": "stream",
     "text": [
      "5\n"
     ]
    }
   ],
   "source": [
    "# взять только положительные числа из списка (массива)\n",
    "a=int(input())\n",
    "b=int(input())\n",
    "c=int(input())\n",
    "d=[a,b,c]\n",
    "\n",
    "\n",
    "d=[a for a in d if a>0] # пробежим циклом по всем числам из списка d , возьмем только положительные\n",
    "print((sum(d)))\n"
   ]
  },
  {
   "cell_type": "code",
   "execution_count": 93,
   "metadata": {},
   "outputs": [
    {
     "name": "stdout",
     "output_type": "stream",
     "text": [
      "синий\n"
     ]
    }
   ],
   "source": [
    "# смешать два цвета\n",
    "a=(input())\n",
    "b=(input())\n",
    "\n",
    "col=[a,b]\n",
    "color=['красный','синий','желтый']\n",
    "\n",
    "# проверить есть ли элемент в заданном списке\n",
    "i=0\n",
    "while i<3:\n",
    "    if a==color[i]:\n",
    "        one= 1\n",
    "        break\n",
    "    else: \n",
    "        i+=1\n",
    "else: one = 0\n",
    "\n",
    "i=0\n",
    "while i<3:\n",
    "    if b==color[i]:\n",
    "        two = 1\n",
    "        break\n",
    "    else: \n",
    "        i+=1\n",
    "else: two = 0\n",
    "\n",
    "# проверям сами цвета\n",
    "if one == two==1: \n",
    "    if a!=b:\n",
    "        if a=='красный':\n",
    "            if b=='синий' :print('фиолетовый')\n",
    "            else: print('оранжевый')\n",
    "        elif a=='желтый':\n",
    "            if b=='красный' :print('оранжевый')\n",
    "            else: print('зеленый')    \n",
    "        else:\n",
    "            if b=='желтый' :print('зеленый')\n",
    "            else: print('фиолетовый')\n",
    "    else: print(a)\n",
    "        \n",
    "else: print('ошибка цвета')"
   ]
  },
  {
   "cell_type": "code",
   "execution_count": 94,
   "metadata": {},
   "outputs": [
    {
     "name": "stdout",
     "output_type": "stream",
     "text": [
      "фиолетовый\n"
     ]
    }
   ],
   "source": [
    "# смешение цветов в одну строчку\n",
    "print((lambda c, R, B, Y, O, P, G: Y if c == [Y, Y] else O if c == [Y, R] else G if c == [Y, B] else R if c == [R, R] else P if c == [R, B] else B if c == [B, B] else 'ошибка цвета')(sorted([input(), input()]), 'красный', 'синий', 'желтый', 'оранжевый', 'фиолетовый', 'зеленый'))"
   ]
  },
  {
   "cell_type": "code",
   "execution_count": 97,
   "metadata": {},
   "outputs": [
    {
     "name": "stdout",
     "output_type": "stream",
     "text": [
      "красный\n"
     ]
    }
   ],
   "source": [
    "# приемлемое решение по выбору цветов\n",
    "a=input()\n",
    "b=input()\n",
    "if (not (a in ('красный', 'желтый', 'синий'))) or (not (b in ('красный', 'желтый', 'синий'))) :\n",
    "    print('ошибка цвета')\n",
    "elif a=='красный' and b=='синий' or a=='синий' and b=='красный' :\n",
    "    print('фиолетовый')\n",
    "elif a=='красный' and b=='желтый' or a=='желтый' and b=='красный':\n",
    "    print('оранжевый')\n",
    "elif a=='синий' and b=='желтый' or a=='желтый' and b=='синий' :\n",
    "    print('зеленый')\n",
    "elif a==b:\n",
    "        print(a)"
   ]
  },
  {
   "cell_type": "code",
   "execution_count": 98,
   "metadata": {},
   "outputs": [
    {
     "name": "stdout",
     "output_type": "stream",
     "text": [
      "3.1415\n"
     ]
    }
   ],
   "source": [
    "\n",
    "print(\"3.1415\")"
   ]
  },
  {
   "cell_type": "code",
   "execution_count": 99,
   "metadata": {},
   "outputs": [
    {
     "name": "stdout",
     "output_type": "stream",
     "text": [
      "The world's a little blurry :) Or maybe it's my eyes!!!"
     ]
    }
   ],
   "source": [
    "print(\"The world's a little blurry\", \"Or maybe it's my eyes\", end='!!!', sep=' :) ')"
   ]
  },
  {
   "cell_type": "code",
   "execution_count": 3,
   "metadata": {},
   "outputs": [
    {
     "name": "stdout",
     "output_type": "stream",
     "text": [
      "56\n"
     ]
    }
   ],
   "source": [
    "a = 17 // (23 % 7)\n",
    "b = 34 % a * 5 - 29 % 4 * 3\n",
    "print(a * b)"
   ]
  },
  {
   "cell_type": "code",
   "execution_count": 1,
   "metadata": {},
   "outputs": [
    {
     "name": "stdout",
     "output_type": "stream",
     "text": [
      "*****************\n",
      "*               *\n",
      "*               *\n",
      "************\n"
     ]
    }
   ],
   "source": [
    "print(17*'*')\n",
    "print('*','*',sep=15*' ')\n",
    "print('*','*',sep=15*' ')\n",
    "print(17*'*')"
   ]
  },
  {
   "cell_type": "code",
   "execution_count": 11,
   "metadata": {},
   "outputs": [
    {
     "name": "stdout",
     "output_type": "stream",
     "text": [
      "ошибка ввода\n"
     ]
    }
   ],
   "source": [
    "a =int(input())\n",
    "\n",
    "black=[2,4,6,8,10,11,13,15,17,20,22,24,26,28,29,31,33,35]\n",
    "red=[1,3,5,7,9,12,14,16,18,19,21,23,25,27,30,32,34,36]\n",
    "\n",
    "# удобный способ проверки находится ли число в массиве БЕЗ цикла!\n",
    "if a in black: print('черный')\n",
    "elif a in red: print('красный')\n",
    "elif a==0: print('зеленый')\n",
    "else: print('ошибка ввода')\n",
    "\n",
    "   \n",
    "        "
   ]
  },
  {
   "cell_type": "code",
   "execution_count": 2,
   "metadata": {},
   "outputs": [
    {
     "name": "stdout",
     "output_type": "stream",
     "text": [
      "2 4\n"
     ]
    }
   ],
   "source": [
    "# найти пересечение двух множеств\n",
    "a1, b1, a2, b2 = int(input()), int(input()), int(input()), int(input()) \n",
    "if min(b1, b2) < max(a1, a2): \n",
    "    print('пустое множество')\n",
    "elif min(b1, b2) == max(a1, a2):\n",
    "    print(min(b1, b2))\n",
    "else:\n",
    "    print(max(a1, a2), min(b1, b2))"
   ]
  },
  {
   "cell_type": "code",
   "execution_count": 11,
   "metadata": {},
   "outputs": [
    {
     "name": "stdout",
     "output_type": "stream",
     "text": [
      "ты\n",
      "москварека\n"
     ]
    }
   ],
   "source": [
    "# вывести из списка самую короткую строку и самую длинную строку\n",
    "a=input()\n",
    "b=input()\n",
    "d=input()\n",
    "e=[len(a),len(b),len(d)]\n",
    "f=[a,b,d]\n",
    "minimum=[i for i in f if len(i)==min(e)]\n",
    "print(minimum[0])\n",
    "maximum=[i for i in f if len(i)==max(e)]\n",
    "print(maximum[0])"
   ]
  },
  {
   "cell_type": "code",
   "execution_count": 13,
   "metadata": {},
   "outputs": [
    {
     "name": "stdout",
     "output_type": "stream",
     "text": [
      "NO\n"
     ]
    }
   ],
   "source": [
    "from statistics import median\n",
    "a=input()\n",
    "b=input()\n",
    "d=input()\n",
    "f=[len(a),len(b),len(d)]\n",
    "e=[min(f),median(f),max(f)]\n",
    "if (e[0]-e[1])==(e[1]-e[2]): print('YES')\n",
    "else: print('NO')"
   ]
  },
  {
   "cell_type": "code",
   "execution_count": 14,
   "metadata": {},
   "outputs": [
    {
     "name": "stdout",
     "output_type": "stream",
     "text": [
      "2.8284271247461903\n"
     ]
    }
   ],
   "source": [
    "from math import *\n",
    "x1,x2,x3,x4= float(input()), float(input()), float(input()), float(input())\n",
    "P=[x1,x2]\n",
    "Q=[x3,x4]\n",
    "eDistance = dist(P, Q)\n",
    "print(eDistance)"
   ]
  },
  {
   "cell_type": "code",
   "execution_count": 23,
   "metadata": {},
   "outputs": [
    {
     "name": "stdout",
     "output_type": "stream",
     "text": [
      "среднее арифметическое =\n",
      "1.5\n",
      "среднее геометрическое =\n",
      "1.414213562373095\n",
      "среднее гармоническое =\n",
      "1.3333333333333333\n",
      "среднее квадратичное число =\n",
      "1.5811388300841898\n"
     ]
    }
   ],
   "source": [
    "# среднее арифметическое,среднее геометрическое, среднее гармоническое, среднее квадратическое числа\n",
    "\n",
    "from scipy.stats import gmean, hmean\n",
    "from statistics import mean\n",
    "a,b = float(input()), float(input())\n",
    "L=[a,b]\n",
    "L1=[i*i for i in L]\n",
    "h=sqrt((sum(L1))/len(L))\n",
    "\n",
    "print('среднее арифметическое =', mean(L), 'среднее геометрическое =', gmean(L), \n",
    "    'среднее гармоническое =',hmean(L), 'среднее квадратичное число =', h, sep='\\n')"
   ]
  },
  {
   "cell_type": "code",
   "execution_count": 24,
   "metadata": {},
   "outputs": [
    {
     "name": "stdout",
     "output_type": "stream",
     "text": [
      "1361015"
     ]
    }
   ],
   "source": [
    "total = 0\n",
    "for i in range(1, 6):\n",
    "    total += i\n",
    "    print(total, end='')"
   ]
  },
  {
   "cell_type": "code",
   "execution_count": 45,
   "metadata": {},
   "outputs": [
    {
     "name": "stdout",
     "output_type": "stream",
     "text": [
      "1 1 2 3 5 8 13 21 34 55 89 144 "
     ]
    }
   ],
   "source": [
    "# фибоначчи \n",
    "fib=[1,1]\n",
    " \n",
    "n =int(input())\n",
    "if n>1: \n",
    "    for i in range(3,n+1):\n",
    "        fib_next = fib[i-3] + fib[i-2]\n",
    "        fib.append(fib_next)\n",
    "\n",
    "    for i in range(len(fib)): print(fib[i], end=' ')\n",
    "else: print(1)"
   ]
  },
  {
   "cell_type": "code",
   "execution_count": 47,
   "metadata": {},
   "outputs": [
    {
     "name": "stdout",
     "output_type": "stream",
     "text": [
      "Сумма чисел равна 23426936\n"
     ]
    }
   ],
   "source": [
    "# цикл, который повторяется (складывает введенные числа), пока не введена команда stop\n",
    "text = input()\n",
    "total = 0\n",
    "while text != 'stop':\n",
    "    num = int(text)\n",
    "    total += num\n",
    "    text = input()\n",
    "print('Сумма введенных чисел равна', total)"
   ]
  },
  {
   "cell_type": "code",
   "execution_count": 52,
   "metadata": {},
   "outputs": [
    {
     "name": "stdout",
     "output_type": "stream",
     "text": [
      "7\n"
     ]
    }
   ],
   "source": [
    "# ведьмаку заплатите чеканной монетой\n",
    "# выведет минимальное количество монет номиналом 1,5,10,25 , которое содержится в N\n",
    "N=int(input())\n",
    "cont= N//25+N%25//10+(N%25%10)//5+(N%25%10)%5\n",
    "print(cont)"
   ]
  },
  {
   "cell_type": "code",
   "execution_count": 58,
   "metadata": {},
   "outputs": [
    {
     "name": "stdout",
     "output_type": "stream",
     "text": [
      "54321"
     ]
    }
   ],
   "source": [
    "# вывести цифры числа в прямом /обратном порядке\n",
    "a=int(input())\n",
    "spis=[]\n",
    "while a!=0:\n",
    "    spis.append(a%10) # запишем все цифры числа в последовательность\n",
    "    a=a//10\n",
    "\n",
    "# прямой порядок    \n",
    "#for i in range((len(spis)-1),-1,-1): # добавим цикл, в котором пробежим от конца к началу с шагом (-1)\n",
    "#    print(spis[i], end=' ')\n",
    "\n",
    "# обратный порядок\n",
    "for i in range(len(spis)):\n",
    "    print(spis[i], end='')"
   ]
  },
  {
   "cell_type": "code",
   "execution_count": 59,
   "metadata": {},
   "outputs": [
    {
     "name": "stdout",
     "output_type": "stream",
     "text": [
      "Максимальная цифра равна 5\n",
      "Минимальная цифра равна 1\n"
     ]
    }
   ],
   "source": [
    "# минимальная и максимальная цифра числа\n",
    "\n",
    "a=int(input())\n",
    "spis=[]\n",
    "while a!=0:\n",
    "    spis.append(a%10) # запишем все цифры числа в последовательность\n",
    "    a=a//10\n",
    "\n",
    "print('Максимальная цифра равна',max(spis))\n",
    "print('Минимальная цифра равна',min(spis))\n"
   ]
  },
  {
   "cell_type": "code",
   "execution_count": 64,
   "metadata": {},
   "outputs": [
    {
     "name": "stdout",
     "output_type": "stream",
     "text": [
      "15 5 120 3 1 6\n"
     ]
    }
   ],
   "source": [
    "# для ЧИСЛА вывести: сумму его цифр, кол-во цифр, произведение его цифр, \n",
    "# среднее его цифр, первую цифру, сумму первой и последней цифры\n",
    "\n",
    "a=int(input())\n",
    "import functools\n",
    "import statistics\n",
    "\n",
    "spis=[]\n",
    "while a!=0:\n",
    "    spis.append(a%10) # запишем все цифры числа в последовательность\n",
    "    a=a//10\n",
    "\n",
    "print(sum(spis), len(spis), functools.reduce(lambda a,b: a*b, spis),\n",
    "    mean(spis), spis[len(spis)-1], (spis[len(spis)-1]+ spis[0]))#,sep='\\n')"
   ]
  },
  {
   "cell_type": "code",
   "execution_count": 73,
   "metadata": {},
   "outputs": [
    {
     "name": "stdout",
     "output_type": "stream",
     "text": [
      "YES\n"
     ]
    }
   ],
   "source": [
    "# проверить состоит ли ЧИСЛО из одинаковых ЦИФР\n",
    "a=int(input())\n",
    "from statistics import mean\n",
    "spis=[]\n",
    "while a!=0:\n",
    "    spis.append(a%10) # запишем все цифры числа в последовательность\n",
    "    a=a//10\n",
    "\n",
    "if spis[i in spis]==mean(spis): print('YES')\n",
    "else: print('NO')"
   ]
  },
  {
   "cell_type": "code",
   "execution_count": 82,
   "metadata": {},
   "outputs": [
    {
     "name": "stdout",
     "output_type": "stream",
     "text": [
      "NO\n"
     ]
    }
   ],
   "source": [
    "# проверить состоит ли ЧИСЛО из одинаковых ЦИФР\n",
    "a=int(input())\n",
    "from statistics import mean\n",
    "spis=[]\n",
    "while a!=0:\n",
    "    spis.append(a%10) # запишем все цифры числа в последовательность\n",
    "    a=a//10\n",
    "b=0\n",
    "for i in range(0,len(spis)):\n",
    "    if mean(spis)==spis[i]: b+=1\n",
    "if b==len(spis): print('YES')\n",
    "else: print('NO')"
   ]
  },
  {
   "cell_type": "code",
   "execution_count": 84,
   "metadata": {},
   "outputs": [
    {
     "name": "stdout",
     "output_type": "stream",
     "text": [
      "YES\n"
     ]
    }
   ],
   "source": [
    "# проверить состоит ли ЧИСЛО из одинаковых ЦИФР\n",
    "num = input() # скажем, что число - это вообще-то строка\n",
    "a = max(num) # возьмем максимальное из этого набора\n",
    "b = min(num) # минимальное из этого набора\n",
    "if a == b: # ну и сравним их! если равны - значит все цифры равны\n",
    "    print('YES')\n",
    "else:\n",
    "    print('NO')"
   ]
  },
  {
   "cell_type": "code",
   "execution_count": 2,
   "metadata": {},
   "outputs": [
    {
     "name": "stdout",
     "output_type": "stream",
     "text": [
      "YES\n"
     ]
    }
   ],
   "source": [
    "# проверить, является ли последовательность цифр справа налево упорядоченной по возрастанию\n",
    "\n",
    "a=int(input())\n",
    "from statistics import mean\n",
    "spis=[]\n",
    "\n",
    "while a!=0:\n",
    "    spis.append(a%10) # запишем все цифры числа в последовательность\n",
    "    a=a//10\n",
    "\n",
    "\n",
    "b=0\n",
    "for i in range(0,len(spis)-1):\n",
    "    if spis[i+1]>=spis[i]: b+=1\n",
    "if b==len(spis)-1: print('YES')\n",
    "else: print('NO')"
   ]
  },
  {
   "cell_type": "code",
   "execution_count": 6,
   "metadata": {},
   "outputs": [
    {
     "name": "stdout",
     "output_type": "stream",
     "text": [
      "-12\n",
      "-1\n"
     ]
    }
   ],
   "source": [
    "spis=[]\n",
    "for i in range(10):\n",
    "    x=int(input())\n",
    "    if x<0:\n",
    "        spis.append(x)\n",
    "if len(spis)>0:\n",
    "    print(sum(spis),max(spis), sep='\\n')\n",
    "else: print('NO')"
   ]
  },
  {
   "cell_type": "code",
   "execution_count": 7,
   "metadata": {},
   "outputs": [
    {
     "name": "stdout",
     "output_type": "stream",
     "text": [
      "0\n"
     ]
    }
   ],
   "source": [
    "print(0%3)"
   ]
  },
  {
   "cell_type": "code",
   "execution_count": 11,
   "metadata": {},
   "outputs": [
    {
     "name": "stdout",
     "output_type": "stream",
     "text": [
      "6\n"
     ]
    }
   ],
   "source": [
    "n=int(input())\n",
    "spis=[]\n",
    "while n>0:\n",
    "    digit = n%10\n",
    "    if digit%3 ==0: spis.append(digit)\n",
    "    n = n//10\n",
    "if len(spis)>0: print(max(spis))\n",
    "else: print('NO')\n"
   ]
  },
  {
   "cell_type": "code",
   "execution_count": null,
   "metadata": {},
   "outputs": [],
   "source": [
    "# напишите программу , которая складвает числа от 1 до n\n",
    "n=int(input())\n",
    "\n",
    "for i in range(1,n+1):\n",
    "    for j in range(1,10):\n",
    "        print(i,'+',j,'=',i+j, end='\\n')\n",
    "    print()\n"
   ]
  },
  {
   "cell_type": "code",
   "execution_count": 12,
   "metadata": {},
   "outputs": [
    {
     "name": "stdout",
     "output_type": "stream",
     "text": [
      "*\n",
      "**\n",
      "***\n",
      "****\n",
      "*****\n",
      "****\n",
      "***\n",
      "**\n",
      "*\n"
     ]
    }
   ],
   "source": [
    "# программа выводит треугольник из * , основание трегольника равно n\n",
    "n=int(input())\n",
    "h=int((n+1)/2)\n",
    "\n",
    "for i in range(1,h+1):\n",
    "    print(i*'*', end='\\n')\n",
    "for i in range(h-1,0,-1):\n",
    "    print(i*'*', end='\\n')\n"
   ]
  },
  {
   "cell_type": "code",
   "execution_count": 13,
   "metadata": {},
   "outputs": [
    {
     "name": "stdout",
     "output_type": "stream",
     "text": [
      "1\n",
      "22\n",
      "333\n",
      "4444\n",
      "55555\n"
     ]
    }
   ],
   "source": [
    "# программа выводит треугольник из цифр, где каждая строка из одинаковых цифр (1,22,333,4444 ... nnnnn)\n",
    "\n",
    "n=int(input())\n",
    "for i in range(1,n+1): \n",
    "    for j in range(1,i+1):\n",
    "        print(i, end='')\n",
    "    print()\n"
   ]
  },
  {
   "cell_type": "code",
   "execution_count": 14,
   "metadata": {},
   "outputs": [
    {
     "name": "stdout",
     "output_type": "stream",
     "text": [
      "x = 1 y = 4 z = 7\n",
      "x = 2 y = 1 z = 9\n",
      "Общее количество натуральных решений = 2\n"
     ]
    }
   ],
   "source": [
    "# перебор значений для уравнения с несколькими неизвестными\n",
    "\n",
    "total = 0\n",
    "for x in range(1, 13):\n",
    "    for y in range(1, 12):\n",
    "        for z in range(1, 11):\n",
    "            if x *28 + y *30 + z * 31 == 365:\n",
    "                total += 1\n",
    "                print('x =', x, 'y =', y, 'z =', z)\n",
    "print('Общее количество натуральных решений =', total)"
   ]
  },
  {
   "cell_type": "code",
   "execution_count": 16,
   "metadata": {},
   "outputs": [
    {
     "name": "stdout",
     "output_type": "stream",
     "text": [
      "x = 1 y = 9 z = 90\n",
      "Общее количество натуральных решений = 1\n"
     ]
    }
   ],
   "source": [
    "# Имеется 100 рублей. Сколько быков, коров и телят можно купить на все эти деньги, \n",
    "#если плата за быка – 10 рублей, за корову – 5 рублей, \n",
    "#за теленка – 0.5 рубля и надо купить 100 голов скота?\n",
    "\n",
    "total = 0\n",
    "for x in range(1, 10):\n",
    "    for y in range(1, 20):\n",
    "        for z in range(1, 200):\n",
    "            if x *10 + y *5 + z * 0.5 == 100 and x+y+z==100:\n",
    "                total += 1\n",
    "                print('x =', x, 'y =', y, 'z =', z)\n",
    "print('Общее количество натуральных решений =', total)"
   ]
  },
  {
   "cell_type": "code",
   "execution_count": 20,
   "metadata": {},
   "outputs": [
    {
     "ename": "IndentationError",
     "evalue": "unexpected indent (1147772677.py, line 6)",
     "output_type": "error",
     "traceback": [
      "\u001b[0;36m  Cell \u001b[0;32mIn [20], line 6\u001b[0;36m\u001b[0m\n\u001b[0;31m    for y in range(1, 150):\u001b[0m\n\u001b[0m    ^\u001b[0m\n\u001b[0;31mIndentationError\u001b[0m\u001b[0;31m:\u001b[0m unexpected indent\n"
     ]
    }
   ],
   "source": [
    "#Гипотеза Эйлера о сумме степеней для теоремы Ферма\n",
    "# https://stepik.org/lesson/298795/step/13?unit=280622\n",
    "# решение https://habr.com/ru/post/317588/\n",
    "\n",
    "total = 0\n",
    "#for x in range(1, 150): # специально заблочил код, потому что цикл невероятно долгий\n",
    "    for y in range(1, 150):\n",
    "        for z in range(1, 150):\n",
    "            for a in range(1, 150):\n",
    "                for e in range(1, 150):\n",
    "                    if x **5 + y **5 + z ** 5 + a **5 == e** 5 :\n",
    "                        total += 1\n",
    "                        print('x =', x, 'y =', y, 'z =', z, 'a =', a,'e =', e)\n",
    "print('Общее количество натуральных решений =', total)"
   ]
  },
  {
   "cell_type": "code",
   "execution_count": 21,
   "metadata": {},
   "outputs": [
    {
     "name": "stdout",
     "output_type": "stream",
     "text": [
      "498\n"
     ]
    }
   ],
   "source": [
    "print(27+84+110+133+144)"
   ]
  },
  {
   "cell_type": "code",
   "execution_count": 40,
   "metadata": {},
   "outputs": [
    {
     "name": "stdout",
     "output_type": "stream",
     "text": [
      "1 \n",
      "2 3 \n",
      "4 5 6 \n",
      "7 8 9 10 \n",
      "11 12 13 14 15 \n"
     ]
    }
   ],
   "source": [
    "# напечатать численный треугольник\n",
    "\n",
    "n=int(input())\n",
    "a=0\n",
    "for i in range(1,n+1):\n",
    "    for j in range(1, i+1) :\n",
    "        a+=1\n",
    "        print(a, end=' ')\n",
    "        \n",
    "    \n",
    "    print()"
   ]
  },
  {
   "cell_type": "code",
   "execution_count": 71,
   "metadata": {},
   "outputs": [
    {
     "name": "stdout",
     "output_type": "stream",
     "text": [
      "1\n",
      "121\n",
      "12321\n",
      "1234321\n",
      "123454321\n",
      "12345654321\n"
     ]
    }
   ],
   "source": [
    "# еще один численный треугольник : https://stepik.org/lesson/298796/step/2?unit=280623\n",
    "\n",
    "n=int(input())\n",
    "\n",
    "for i in range(1,n+1):\n",
    "    \n",
    "    for j in range(0,i+1):\n",
    "        if j<i:\n",
    "            print(j+1, end='')\n",
    "        else:\n",
    "            for a in range(j-1,0,-1):\n",
    "                print(a,end='')\n",
    "    print() \n"
   ]
  },
  {
   "cell_type": "code",
   "execution_count": 70,
   "metadata": {},
   "outputs": [
    {
     "name": "stdout",
     "output_type": "stream",
     "text": [
      "12345654321"
     ]
    }
   ],
   "source": [
    "# вспомогательный код\n",
    "n=int(input())\n",
    "for i in range(0,n+1):\n",
    "    if i<n: print(i+1,end='')\n",
    "    else: \n",
    "        for a in range(i-1,0,-1):\n",
    "            print(a,end='')"
   ]
  },
  {
   "cell_type": "code",
   "execution_count": 85,
   "metadata": {},
   "outputs": [
    {
     "name": "stdout",
     "output_type": "stream",
     "text": [
      "672 2016\n"
     ]
    }
   ],
   "source": [
    "# найти число в диапазоне [a,b] c максимальной суммой делителей\n",
    "\n",
    "a=int(input())\n",
    "b=int(input())\n",
    "import numpy as np\n",
    "spis= np.arange(a, b+1, 1) # создаем список чисел, который будем щупать\n",
    "#print(spis)\n",
    "summ=0\n",
    "spis_summ=[] #создаем список для суммирования делителей\n",
    "\n",
    "# создали вложенные циклы для поиска всех делителей для каждого числа в списке\n",
    "for i in range(0,len(spis)):\n",
    "    for j in range(1,spis[i]+1):\n",
    "        if spis[i]%j==0:\n",
    "            summ+=j # считаем сумму всех этих делителей\n",
    "    spis_summ.append(summ) # загружаем эти суммы в список\n",
    "    summ=0\n",
    "    \n",
    "# print(spis_summ)\n",
    "\n",
    "# ищем максимальное в списке сумм и выводим само число и сумму его делителей\n",
    "for i in range(len(spis)-1,-1,-1): # принципиально начать с конца, т.к если будет два числа с одинаковой суммой делителей, то нужно вывести максимальное число, а оно явно будет в конце \n",
    "    if max(spis_summ)==spis_summ[i]:\n",
    "        print(spis[i], spis_summ[i], sep=' ')\n",
    "        break # не забудем закрыть цикл, когда нашли максимальное число(пока идем с конца)\n"
   ]
  },
  {
   "cell_type": "code",
   "execution_count": 93,
   "metadata": {},
   "outputs": [
    {
     "name": "stdout",
     "output_type": "stream",
     "text": [
      "1+\n",
      "2++\n",
      "3++\n",
      "4+++\n",
      "5++\n",
      "6++++\n",
      "7++\n",
      "8++++\n"
     ]
    }
   ],
   "source": [
    "# показать количество делителей у чисел от 1 до n\n",
    "\n",
    "n=int(input())\n",
    "tot=0 # число делителей\n",
    "total=[] # список делителей\n",
    "for i in range(1,n+1):\n",
    "    for j in range(1,i+1):\n",
    "        if i%j==0:\n",
    "            tot+=1\n",
    "    total.append(tot)\n",
    "    tot=0\n",
    "for i in range(1,n+1):\n",
    "    print(i, total[i-1]*'+', sep='')\n"
   ]
  },
  {
   "cell_type": "code",
   "execution_count": 106,
   "metadata": {},
   "outputs": [
    {
     "name": "stdout",
     "output_type": "stream",
     "text": [
      "39 3\n"
     ]
    }
   ],
   "source": [
    "n=input()\n",
    "spis=[]\n",
    "for i in range(len(n)):\n",
    "    spis.append(int(n[i]))\n",
    "a=str(sum(spis))\n",
    "print(a, a[0])"
   ]
  },
  {
   "cell_type": "code",
   "execution_count": 102,
   "metadata": {},
   "outputs": [
    {
     "name": "stdout",
     "output_type": "stream",
     "text": [
      "5\n"
     ]
    }
   ],
   "source": [
    "n=int(input())\n",
    "summ=0\n",
    "while n>0:\n",
    "    summ+=n%10\n",
    "    n=n//10\n",
    "summa=0\n",
    "while summ>0:\n",
    "    summa+=summ%10\n",
    "    summ=summ//10\n",
    "summa_2=0\n",
    "while summa>0:\n",
    "    summa_2+=summa%10\n",
    "    summa=summa//10\n",
    "print(summa_2)"
   ]
  },
  {
   "cell_type": "code",
   "execution_count": 108,
   "metadata": {},
   "outputs": [
    {
     "name": "stdout",
     "output_type": "stream",
     "text": [
      "5913\n"
     ]
    }
   ],
   "source": [
    "# сумма факториалов от 1 до n \n",
    "n = int(input())\n",
    "import numpy as np\n",
    "spis= np.arange(1, n+1, 1)\n",
    "from math import factorial\n",
    "spis= [factorial(i) for i in spis]\n",
    "print(sum(spis))\n"
   ]
  },
  {
   "cell_type": "code",
   "execution_count": 115,
   "metadata": {},
   "outputs": [
    {
     "name": "stdout",
     "output_type": "stream",
     "text": [
      "[2, 3, 5, 7]\n",
      "2\n",
      "3\n",
      "5\n",
      "7\n"
     ]
    }
   ],
   "source": [
    "# вывести все простые числа в диапазоне [a,b] (которые делятся на 1 и на само себя)\n",
    "\n",
    "a=int(input())\n",
    "b=int(input())\n",
    "import numpy as np\n",
    "spis= np.arange(a, b+1, 1) # создаем список чисел, который будем щупать\n",
    "\n",
    "spis_dif=[] #создаем список для сложных чисел\n",
    "\n",
    "# создаем цикл, в котором отберем все сложные (составные) числа\n",
    "for i in range(0,len(spis)):\n",
    "    for j in range(1,spis[i]+1):\n",
    "        if spis[i]%j==0 and j!=1 and j!=spis[i]:\n",
    "            spis_dif.append(spis[i]) # загружаем все сложные числа в список\n",
    "\n",
    "# теперь оставим в списке SPIS  только те числа, которых нет в списке сложных чисел\n",
    "# другими словами, оставить только те символы в списке, которые не содержатся в другом списке\n",
    "spis_easy= [i for i in spis if i not in spis_dif and i!=1]\n",
    "print(spis_easy)\n",
    "for i in range(len(spis_easy)):\n",
    "    print(spis_easy[i])\n"
   ]
  },
  {
   "cell_type": "code",
   "execution_count": 119,
   "metadata": {},
   "outputs": [
    {
     "name": "stdout",
     "output_type": "stream",
     "text": [
      "*******************\n",
      "*                 *\n",
      "*                 *\n",
      "*                 *\n",
      "*******************\n"
     ]
    }
   ],
   "source": [
    "n=int(input())\n",
    "for i in range(n):\n",
    "    if i==0 or i==n-1:\n",
    "        print(19*'*')\n",
    "    else: print('*',15*' ','*',)"
   ]
  },
  {
   "cell_type": "code",
   "execution_count": 144,
   "metadata": {},
   "outputs": [
    {
     "name": "stdout",
     "output_type": "stream",
     "text": [
      "01234567822232\n",
      "14\n",
      "2 5 9 21 8 2\n"
     ]
    }
   ],
   "source": [
    "# работа с цифрами числа\n",
    "\n",
    "import functools\n",
    "n=input()\n",
    "print(n)\n",
    "\n",
    "spis_3=[i for i in n if i=='3'] # сколько троек в числе\n",
    "spis_last=[i for i in n if i==n[len(n)-1]] # сколько раз встречается последняя цифра в числе\n",
    "spis_chet=[i for i in n if int(i)%2==0] # сколько четных цифр в числе\n",
    "spis_5=[int(i) for i in n if int(i)>5] # сколько цифр больше пяти\n",
    "spis_7=[int(i) for i in n if int(i)>7] # сколько цифр больше семи\n",
    "if len(spis_7)==0: seven=1\n",
    "else: seven= functools.reduce(lambda a,b: a*b, spis_7) # произведение цифр больше семи\n",
    "spis_0_5=[int(i) for i in n if int(i)==0 or int(i)==5] # сколько цифр 0 и 5 в числе\n",
    "print(len(spis_3), len(spis_last), len(spis_chet), sum((spis_5)), seven, len(spis_0_5))"
   ]
  },
  {
   "cell_type": "code",
   "execution_count": 162,
   "metadata": {},
   "outputs": [
    {
     "name": "stdout",
     "output_type": "stream",
     "text": [
      "x = 1 y = 12 z = 9 a = 10 R = 1729\n",
      "x = 1 y = 12 z = 10 a = 9 R = 1729\n",
      "x = 2 y = 16 z = 9 a = 15 R = 4104\n",
      "x = 2 y = 16 z = 15 a = 9 R = 4104\n",
      "x = 2 y = 24 z = 18 a = 20 R = 13832\n",
      "x = 2 y = 24 z = 20 a = 18 R = 13832\n",
      "x = 2 y = 34 z = 15 a = 33 R = 39312\n",
      "x = 2 y = 34 z = 33 a = 15 R = 39312\n",
      "x = 3 y = 36 z = 27 a = 30 R = 46683\n",
      "x = 3 y = 36 z = 30 a = 27 R = 46683\n",
      "x = 4 y = 32 z = 18 a = 30 R = 32832\n",
      "x = 4 y = 32 z = 30 a = 18 R = 32832\n"
     ]
    }
   ],
   "source": [
    "total = 0\n",
    "for x in range(1, 40):\n",
    "    for y in range(1, 40):\n",
    "        for z in range(1, 40):\n",
    "            if z!=x and z!=y:\n",
    "                for a in range(1,40):\n",
    "                    if a!=z:\n",
    "                        if x **3 + y **3  == z**3 + a**3 :\n",
    "                            total += 1\n",
    "                            print('x =', x, 'y =', y, 'z =', z, 'a =', a, 'R =', x**3+y**3)\n",
    "    if total>10 : break\n",
    "\n",
    "\n"
   ]
  },
  {
   "cell_type": "code",
   "execution_count": 171,
   "metadata": {},
   "outputs": [
    {
     "name": "stdout",
     "output_type": "stream",
     "text": [
      "Количество гласных букв равно  25\n",
      "Количество согласных букв равно  24\n",
      "Вдохновение – это умение приводить себя в рабочее состояние!\n",
      "['В', 'д', 'х', 'н', 'в', 'н', 'т', 'м', 'н', 'п', 'р', 'в', 'д', 'т', 'с', 'б', 'в', 'р', 'б', 'ч', 'с', 'с', 'т', 'н']\n"
     ]
    }
   ],
   "source": [
    "# посчитать количество конкретных символов в строке\n",
    "\n",
    "n=input()\n",
    "glas=['а', 'у', 'о', 'ы', 'и', 'э', 'я', 'ю', 'ё', 'е','А', 'У', 'О', 'Ы', 'И', 'Э', 'Я', 'Ю', 'Ё', 'Е']\n",
    "soglas=['б', 'в', 'г', 'д', 'ж', 'з', 'й', 'к', 'л', 'м', 'н', 'п', 'р', 'с', 'т', 'ф', 'х', \n",
    "'ц', 'ч', 'ш', 'щ','Б', 'В', 'Г', 'Д', 'Ж', 'З', 'Й', 'К', 'Л', 'М', 'Н', 'П', 'Р', 'С', 'Т', 'Ф', 'Х', 'Ц', 'Ч', 'Ш', 'Щ']\n",
    "spis_glas_n= [i for i in n if i in glas]\n",
    "spis_soglas_n= [i for i in n if i in soglas]\n",
    "print('Количество гласных букв равно ',len(spis_glas_n))\n",
    "print('Количество согласных букв равно ',len(spis_soglas_n))\n",
    "print(n)\n",
    "print(spis_soglas_n)"
   ]
  },
  {
   "cell_type": "code",
   "execution_count": 176,
   "metadata": {},
   "outputs": [
    {
     "name": "stdout",
     "output_type": "stream",
     "text": [
      "10011"
     ]
    }
   ],
   "source": [
    "# вывести двоичное число из заданного\n",
    "n=int(input())\n",
    "digit_2=[]\n",
    "while n>0:\n",
    "    digit=n%2\n",
    "    digit_2.append(digit)\n",
    "    n//=2\n",
    "digit_2.reverse() # развернуть список задом наперед, в обратном порядке\n",
    "for i in range(len(digit_2)):\n",
    "    print(digit_2[i], end='')\n"
   ]
  },
  {
   "cell_type": "code",
   "execution_count": 182,
   "metadata": {},
   "outputs": [
    {
     "name": "stdout",
     "output_type": "stream",
     "text": [
      "10011\n"
     ]
    }
   ],
   "source": [
    "# вывести двоичное число из заданного\n",
    "n = int(input())\n",
    "numb = ''\n",
    "\n",
    "while n != 0:\n",
    "   numb = str(n%2) + numb\n",
    "   n = n // 2\n",
    "print(numb)"
   ]
  },
  {
   "cell_type": "code",
   "execution_count": 183,
   "metadata": {},
   "outputs": [
    {
     "name": "stdout",
     "output_type": "stream",
     "text": [
      "10011\n"
     ]
    }
   ],
   "source": [
    "# вывести двоичное число из заданного\n",
    "n = int(input())\n",
    "s2 = bin(n)\n",
    "s2 = str(s2)\n",
    "s2 = s2[2: len(s2)]\n",
    "print (int(s2))"
   ]
  },
  {
   "cell_type": "code",
   "execution_count": null,
   "metadata": {},
   "outputs": [],
   "source": [
    "# вывести строку в обратном порядке\n",
    "\n",
    "print(s[::-1]) "
   ]
  },
  {
   "cell_type": "code",
   "execution_count": 198,
   "metadata": {},
   "outputs": [
    {
     "name": "stdout",
     "output_type": "stream",
     "text": [
      "heLLO worLD1231231\n",
      "hewor\n",
      "LLOLD\n",
      "1231231\n"
     ]
    }
   ],
   "source": [
    "s=input()\n",
    "print(s)\n",
    "\n",
    "low_s=''.join(i for i in s if i.islower()) # присоединяем в строку только те символы, которые являются буквами в НИЖНЕМ регистре\n",
    "up_s=''.join(i for i in s if i.isupper()) # присоединяем в строку только те символы, которые являются буквами в ВЕРХНЕМ регист\n",
    "digit_s=''.join(i for i in s if i.isdigit())# присоединяем в строку только те символы, которые являются ЦИФРАМИ\n",
    "print(low_s, up_s,digit_s, sep='\\n')\n"
   ]
  },
  {
   "cell_type": "code",
   "execution_count": 200,
   "metadata": {},
   "outputs": [
    {
     "name": "stdout",
     "output_type": "stream",
     "text": [
      "abcdabcd\n"
     ]
    }
   ],
   "source": [
    "s=input()\n",
    "s=s.lower()\n",
    "print('Аденин:', s.count('а'))\n",
    "print('Гуанин:', s.count('г'))\n",
    "print('Цитозин:', s.count('ц'))\n",
    "print('Тимин:', s.count('т'))"
   ]
  },
  {
   "cell_type": "code",
   "execution_count": 206,
   "metadata": {},
   "outputs": [
    {
     "name": "stdout",
     "output_type": "stream",
     "text": [
      "2\n"
     ]
    }
   ],
   "source": [
    "n=int(input())\n",
    "kol=0\n",
    "for i in range(0,n):\n",
    "    s=input()\n",
    "    s=s.lower()\n",
    "    if (s.count('11'))==3:\n",
    "        kol+=1\n",
    "print(kol)"
   ]
  },
  {
   "cell_type": "code",
   "execution_count": 204,
   "metadata": {},
   "outputs": [
    {
     "name": "stdout",
     "output_type": "stream",
     "text": [
      "2\n"
     ]
    }
   ],
   "source": [
    "# посчитать сколько чисел в строке\n",
    "s=input()\n",
    "digit_s=''.join(i for i in s if i.isdigit())\n",
    "print(len(digit_s))"
   ]
  },
  {
   "cell_type": "code",
   "execution_count": null,
   "metadata": {},
   "outputs": [],
   "source": [
    "# проверить что на конце строки стоит нужная мне последовательность\n",
    "s=input()\n",
    "if s.endswith('.com')==True or s.endswith('.ru')==True: print('YES')\n",
    "else: print('NO')\n"
   ]
  },
  {
   "cell_type": "code",
   "execution_count": 212,
   "metadata": {},
   "outputs": [
    {
     "name": "stdout",
     "output_type": "stream",
     "text": [
      "d\n"
     ]
    }
   ],
   "source": [
    "# вывести наиболее повторяющийся символ в строке\n",
    "\n",
    "count=0\n",
    "letter=''\n",
    "s=input()\n",
    "for i in range(len(s)):\n",
    "    if s.count(s[i])>=count: \n",
    "        count=s.count(s[i])\n",
    "        letter=s[i]\n",
    "print(letter)\n"
   ]
  },
  {
   "cell_type": "code",
   "execution_count": 217,
   "metadata": {},
   "outputs": [
    {
     "name": "stdout",
     "output_type": "stream",
     "text": [
      "NO\n"
     ]
    }
   ],
   "source": [
    "s=input()\n",
    "if s.find('f')!= -1:\n",
    "    if s.find('f')==s.rfind('f'): print(s.find('f'))\n",
    "    else: print(s.find('f'), s.rfind('f'))\n",
    "else: print('NO')"
   ]
  },
  {
   "cell_type": "code",
   "execution_count": 218,
   "metadata": {},
   "outputs": [
    {
     "name": "stdout",
     "output_type": "stream",
     "text": [
      "\n"
     ]
    }
   ],
   "source": [
    "s=input()\n",
    "itog=''\n",
    "for i in range(len(s)):\n",
    "    if i<s.find('h') or i>s.rfind('h'):\n",
    "        itog.join(s[i])\n",
    "print(itog)\n"
   ]
  },
  {
   "cell_type": "code",
   "execution_count": 235,
   "metadata": {},
   "outputs": [
    {
     "name": "stdout",
     "output_type": "stream",
     "text": [
      "asddfash123123hsada\n",
      "7 14\n",
      "['a', 's', 'd', 'd', 'f', 'a', 's', 's', 'a', 'd', 'a']\n",
      "['a', 's', 'd', 'd', 'f', 'a', 's', 's', 'a', 'd', 'a']\n"
     ]
    }
   ],
   "source": [
    "s=input()\n",
    "print(s)\n",
    "print(s.find('h'), s.rfind('h'))\n",
    "itog=[]\n",
    "spis=''\n",
    "for i in range(len(s)):\n",
    "    if i<s.find('h') or i>s.rfind('h'): \n",
    "        #print(s[i])\n",
    "        itog.append(s[i])\n",
    "    \n",
    "print(itog)\n",
    "\n",
    "for i in range(len(itog)): print(itog[i],end='')\n",
    "\n",
    "\n"
   ]
  },
  {
   "cell_type": "code",
   "execution_count": 222,
   "metadata": {},
   "outputs": [
    {
     "name": "stdout",
     "output_type": "stream",
     "text": [
      "123123sdfs123112 asad\n",
      "123123123112\n",
      "12\n"
     ]
    }
   ],
   "source": [
    "s=input()\n",
    "chislo=''\n",
    "digit_s=chislo.join(i for i in s if i.isdigit())\n",
    "print(s)\n",
    "print(digit_s)\n",
    "print(len(digit_s))"
   ]
  },
  {
   "cell_type": "code",
   "execution_count": null,
   "metadata": {},
   "outputs": [],
   "source": [
    "# вывести символы из таблицы Unicode по имеющимся номерам\n",
    "a=int(input())\n",
    "b=int(input())\n",
    "\n",
    "for i in range (a, b+1):\n",
    "    print(chr(i), end=' ')"
   ]
  },
  {
   "cell_type": "code",
   "execution_count": 238,
   "metadata": {},
   "outputs": [
    {
     "name": "stdout",
     "output_type": "stream",
     "text": [
      "1087 1088 1080 1074 1077 1090 44 32 1040 1085 1090 1086 1085 33 "
     ]
    },
    {
     "data": {
      "text/plain": [
       "[None,\n",
       " None,\n",
       " None,\n",
       " None,\n",
       " None,\n",
       " None,\n",
       " None,\n",
       " None,\n",
       " None,\n",
       " None,\n",
       " None,\n",
       " None,\n",
       " None,\n",
       " None]"
      ]
     },
     "execution_count": 238,
     "metadata": {},
     "output_type": "execute_result"
    }
   ],
   "source": [
    "# вывести номера символов таблицы Unicode по имеющимся символам\n",
    "s= input()\n",
    "[print(ord(i), end=' ') for i in s]"
   ]
  },
  {
   "cell_type": "code",
   "execution_count": 241,
   "metadata": {},
   "outputs": [
    {
     "name": "stdout",
     "output_type": "stream",
     "text": [
      "['р', 'с', 'й', 'г', 'ж', 'у', '-', '!', 'Б', 'о', 'у', 'п', 'о']\n"
     ]
    }
   ],
   "source": [
    "# шифр цезаря: заменить каждый символ в строке на новый со сдвигом на N шагов из таблицы unicode\n",
    "\n",
    "n=int(input())\n",
    "s=input()\n",
    "s1=[]\n",
    "for i in range (len(s)):\n",
    "    s1.append(chr(ord(s[i])+n))\n",
    "print(s1)"
   ]
  },
  {
   "cell_type": "code",
   "execution_count": 248,
   "metadata": {},
   "outputs": [
    {
     "name": "stdout",
     "output_type": "stream",
     "text": [
      "avetruetocaesar\n"
     ]
    }
   ],
   "source": [
    "n=int(input())\n",
    "s=input()\n",
    "s1=''\n",
    "for i in range (len(s)):\n",
    "    if ord(s[i])-n>=97:\n",
    "        s1+=chr(ord(s[i])-n)\n",
    "    else: s1+=chr(ord(s[i])-n+26)\n",
    "print(s1)"
   ]
  },
  {
   "cell_type": "code",
   "execution_count": 252,
   "metadata": {},
   "outputs": [
    {
     "data": {
      "text/plain": [
       "['a', 'b', 'c']"
      ]
     },
     "execution_count": 252,
     "metadata": {},
     "output_type": "execute_result"
    }
   ],
   "source": [
    "[chr(i) for i in range(97,97+int(input()))]"
   ]
  },
  {
   "cell_type": "code",
   "execution_count": 255,
   "metadata": {},
   "outputs": [
    {
     "name": "stdout",
     "output_type": "stream",
     "text": [
      "abch54321h\n"
     ]
    }
   ],
   "source": [
    "s=input()\n",
    "print(s[:s.find('h')]+s[s.rfind('h'):s.find('h'):-1]+s[s.rfind('h'):])"
   ]
  },
  {
   "cell_type": "code",
   "execution_count": 277,
   "metadata": {},
   "outputs": [
    {
     "name": "stdout",
     "output_type": "stream",
     "text": [
      "50\n",
      "5\n",
      "[5, 7, 6, 16, 14, 2, 1, 15, 1, 9, 14, 10, 2, 1, 12, 6, 5, 14, 12, 2, 8, 14, 6, 0, 0, 12, 10, 10, 11, 1, 5, 8, 10, 10, 16, 8, 0, 1, 16, 4, 5, 12, 16, 11, 4, 10, 14, 3, 6, 2]\n",
      "YES\n",
      "[6, 3, 14, 10, 4, 11, 16, 12, 5, 4, 16, 1, 0, 8, 16, 10, 10, 8, 5, 1, 11, 10, 10, 12, 0, 0, 6, 14, 8, 2, 12, 14, 5, 6, 12, 1, 2, 10, 14, 9, 1, 15, 1, 2, 14, 16, 6, 7]\n"
     ]
    }
   ],
   "source": [
    "n = [2, 6, 3, 14, 10, 4, 11, 16, 12, 5, 4, 16, 1, \n",
    "0, 8, 16, 10, 10, 8, 5, 1, 11, 10, 10, 12, 0, 0, \n",
    "6, 14, 8, 2, 12, 14, 5, 6, 12, 1, 2, 10, 14, 9, 1, 15, 1, 2, 14, 16, 6, 7, 5]\n",
    "\n",
    "print(len(n), n[-1], n[-1::-1], sep='\\n')\n",
    "\n",
    "if (i==5 or i==17 for i in n):\n",
    "        print('YES')\n",
    "print( n[1:len(n)-1])\n",
    "\n"
   ]
  },
  {
   "cell_type": "code",
   "execution_count": 281,
   "metadata": {},
   "outputs": [
    {
     "name": "stdout",
     "output_type": "stream",
     "text": [
      "50\n",
      "5\n",
      "[5, 7, 6, 16, 14, 2, 1, 15, 1, 9, 14, 10, 2, 1, 12, 6, 5, 14, 12, 2, 8, 14, 6, 0, 0, 12, 10, 10, 11, 1, 5, 8, 10, 10, 16, 8, 0, 1, 16, 4, 5, 12, 16, 11, 4, 10, 14, 3, 6, 2]\n",
      "NO\n",
      "[6, 3, 14, 10, 4, 11, 16, 12, 5, 4, 16, 1, 0, 8, 16, 10, 10, 8, 5, 1, 11, 10, 10, 12, 0, 0, 6, 14, 8, 2, 12, 14, 5, 6, 12, 1, 2, 10, 14, 9, 1, 15, 1, 2, 14, 16, 6, 7]\n"
     ]
    }
   ],
   "source": [
    "# вывести из списка: длинну списка, последний член, список в обратном порядке, ДА если в списке есть 5 и 17\n",
    "n = [2, 6, 3, 14, 10, 4, 11, 16, 12, 5, 4, 16, 1, \n",
    "0, 8, 16, 10, 10, 8, 5, 1, 11, 10, 10, 12, 0, 0, \n",
    "6, 14, 8, 2, 12, 14, 5, 6, 12, 1, 2, 10, 14, 9, 1, 15, 1, 2, 14, 16, 6, 7, 5]\n",
    "count5=0\n",
    "count17=0\n",
    "print(len(n), n[-1], n[-1::-1], sep='\\n')\n",
    "\n",
    "if (i==5 for i in n): count5+=1\n",
    "elif (i==5 for i in n): count17+=1\n",
    "if count5>0 and count17>0: print('YES')\n",
    "else: print('NO')\n",
    "print( n[1:len(n)-1])\n",
    "\n"
   ]
  },
  {
   "cell_type": "code",
   "execution_count": 280,
   "metadata": {},
   "outputs": [
    {
     "name": "stdout",
     "output_type": "stream",
     "text": [
      "NO\n"
     ]
    }
   ],
   "source": [
    "#способ проверить есть ли элемент в списке (массиве) - покороче чем в цикле\n",
    "n = [2, 6, 3, 14, 10, 4, 11, 16, 12, 5, 4, 16, 1, 0, 8, 16, 10, 10, 8, 5, 1, 11, 10, 10, 12, 0, 0, 6, 14, 8, 2, 12, 14, 5, 6, 12, 1, 2, 10, 14, 9, 1, 15, 1, 2, 14, 16, 6, 7, 5]\n",
    "print('YES' if '5' and '17' in n else 'NO')\n"
   ]
  },
  {
   "cell_type": "code",
   "execution_count": 288,
   "metadata": {},
   "outputs": [
    {
     "name": "stdout",
     "output_type": "stream",
     "text": [
      "['a', 'bb', 'ccc', 'dddd', 'eeeee', 'ffffff', 'ggggggg', 'hhhhhhhh', 'iiiiiiiii', 'jjjjjjjjjj', 'kkkkkkkkkkk', 'llllllllllll', 'mmmmmmmmmmmmm', 'nnnnnnnnnnnnnn', 'ooooooooooooooo', 'pppppppppppppppp', 'qqqqqqqqqqqqqqqqq', 'rrrrrrrrrrrrrrrrrr', 'sssssssssssssssssss', 'tttttttttttttttttttt', 'uuuuuuuuuuuuuuuuuuuuu', 'vvvvvvvvvvvvvvvvvvvvvv', 'wwwwwwwwwwwwwwwwwwwwwww', 'xxxxxxxxxxxxxxxxxxxxxxxx', 'yyyyyyyyyyyyyyyyyyyyyyyyy', 'zzzzzzzzzzzzzzzzzzzzzzzzzz']\n"
     ]
    }
   ],
   "source": [
    "spis=[]\n",
    "for i in range(1,27):\n",
    "    spis.append(i*chr(ord('a')+i-1))\n",
    "print(spis)\n",
    "\n",
    "\n",
    "\n"
   ]
  },
  {
   "cell_type": "code",
   "execution_count": 290,
   "metadata": {},
   "outputs": [
    {
     "name": "stdout",
     "output_type": "stream",
     "text": [
      "[1, 3]\n"
     ]
    }
   ],
   "source": [
    "# исключить все эементы из списка с нечетными индексами\n",
    "n=int(input())\n",
    "spis=[]\n",
    "\n",
    "for i in range(n):\n",
    "    a=int(input())\n",
    "    spis.append(a)\n",
    "print([i for i in spis if spis.index(i)%2==0])"
   ]
  },
  {
   "cell_type": "code",
   "execution_count": 292,
   "metadata": {},
   "outputs": [
    {
     "name": "stdout",
     "output_type": "stream",
     "text": [
      "['qwe', 'asd', 'zxc']\n",
      "['qwe']\n"
     ]
    },
    {
     "ename": "IndexError",
     "evalue": "list index out of range",
     "output_type": "error",
     "traceback": [
      "\u001b[0;31m---------------------------------------------------------------------------\u001b[0m",
      "\u001b[0;31mIndexError\u001b[0m                                Traceback (most recent call last)",
      "Cell \u001b[0;32mIn [292], line 16\u001b[0m\n\u001b[1;32m     14\u001b[0m     a\u001b[39m.\u001b[39mappend(spis[i])\n\u001b[1;32m     15\u001b[0m     \u001b[39mprint\u001b[39m(a)\n\u001b[0;32m---> 16\u001b[0m     spis2\u001b[39m.\u001b[39mappend(a[k])\n\u001b[1;32m     17\u001b[0m     \u001b[39m#for j in range(len(a)):\u001b[39;00m\n\u001b[1;32m     18\u001b[0m         \u001b[39m#if j==k: spis2.append(a[j])\u001b[39;00m\n\u001b[1;32m     19\u001b[0m \u001b[39mprint\u001b[39m(spis2)\n",
      "\u001b[0;31mIndexError\u001b[0m: list index out of range"
     ]
    }
   ],
   "source": [
    "n=int(input())\n",
    "spis=[]\n",
    "\n",
    "for i in range(n):\n",
    "    s=input()\n",
    "    spis.append(s)\n",
    "k=int(input())\n",
    "print(spis)\n",
    "spis2=[]\n",
    "for i in range (len(spis)):\n",
    "    \n",
    "    #a=''\n",
    "    #a=str(spis[i])\n",
    "    a.append(spis[i])\n",
    "    print(a)\n",
    "    spis2.append(a[k])\n",
    "    #for j in range(len(a)):\n",
    "        #if j==k: spis2.append(a[j])\n",
    "print(spis2)"
   ]
  },
  {
   "cell_type": "code",
   "execution_count": 296,
   "metadata": {},
   "outputs": [
    {
     "name": "stdout",
     "output_type": "stream",
     "text": [
      "wsx\n"
     ]
    }
   ],
   "source": [
    "# вывести в строку элемент с заданным k-номером  из строк, введенных рандомно n-раз\n",
    "n=int(input())\n",
    "spis=[]\n",
    "string=''\n",
    "for i in range(n):\n",
    "    s=input()\n",
    "    spis.append(s)\n",
    "k=int(input())\n",
    "for i in range(len(spis)):\n",
    "    string+=(spis[i][k])\n",
    "print(string)"
   ]
  },
  {
   "cell_type": "code",
   "execution_count": null,
   "metadata": {},
   "outputs": [],
   "source": [
    "# вывести в строку элемент с заданным k-номером  из строк, введенных рандомно n-раз\n",
    "n = int(input())\n",
    "l = [input() for _ in range(n)] # нравится рандомный набор строк - код в одну строку))\n",
    "k = int(input())\n",
    "\n",
    "print(*[s[k-1] for s in l if len(s) >= k], sep='')"
   ]
  },
  {
   "cell_type": "code",
   "execution_count": 298,
   "metadata": {},
   "outputs": [
    {
     "name": "stdout",
     "output_type": "stream",
     "text": [
      "['q', 'w', 'e', 'a', 's', 'd', 'z', 'x', 'c']\n"
     ]
    }
   ],
   "source": [
    "# вывести в список элементы  из строк (каждый по отдельности), введенных рандомно n-раз\n",
    "n = int(input())\n",
    "l = [input() for _ in range(n)] # нравится рандомный набор строк - код в одну строку))\n",
    "spis=[]\n",
    "for i in range(len(l)):\n",
    "    for j in range(len(l[i])):\n",
    "        spis.extend(l[i][j])\n",
    "\n",
    "print(spis)"
   ]
  },
  {
   "cell_type": "code",
   "execution_count": 305,
   "metadata": {},
   "outputs": [
    {
     "name": "stdout",
     "output_type": "stream",
     "text": [
      "1 6084 529 4225 9801 82609921 1156 1024 0 4489 1 121 12321\n"
     ]
    }
   ],
   "source": [
    "numbers = [1, 78, 23, -65, 99, 9089, 34, -32, 0, -67, 1, 11, 111]\n",
    "import numpy as np\n",
    "n=np.square(numbers)\n",
    "print(*n)"
   ]
  },
  {
   "cell_type": "code",
   "execution_count": 307,
   "metadata": {},
   "outputs": [
    {
     "name": "stdout",
     "output_type": "stream",
     "text": [
      "5\n",
      "7\n",
      "9\n",
      "\n",
      "36\n",
      "64\n",
      "100\n"
     ]
    }
   ],
   "source": [
    "# тут мы выводим для каждого числа в рандомном списке х2+2х+1\n",
    "n = int(input())\n",
    "l = [int(input()) for _ in range(n)] \n",
    "print(*l, sep='\\n')\n",
    "print()\n",
    "print(*[(i**2+2*i+1) for i in l], sep='\\n')"
   ]
  },
  {
   "cell_type": "code",
   "execution_count": 311,
   "metadata": {},
   "outputs": [
    {
     "name": "stdout",
     "output_type": "stream",
     "text": [
      "2\n",
      "3\n",
      "4\n"
     ]
    }
   ],
   "source": [
    "# распаковать список без максимального и минимального значения\n",
    "n = int(input())\n",
    "l = [int(input()) for _ in range(n)] \n",
    "del l[l.index(max(l))]\n",
    "del l[l.index(min(l))]\n",
    "print(*l, sep='\\n')"
   ]
  },
  {
   "cell_type": "code",
   "execution_count": 317,
   "metadata": {},
   "outputs": [
    {
     "name": "stdout",
     "output_type": "stream",
     "text": [
      "1\n",
      "2\n",
      "3\n"
     ]
    }
   ],
   "source": [
    "# распаковать список без повторяющихся строк\n",
    "n = int(input())\n",
    "l = [(input()) for _ in range(n)] \n",
    "temp=[]\n",
    "for i in l:\n",
    "    if i not in temp: temp.append(i)\n",
    "\n",
    "print(*temp, sep='\\n')\n"
   ]
  },
  {
   "cell_type": "code",
   "execution_count": 57,
   "metadata": {},
   "outputs": [
    {
     "name": "stdout",
     "output_type": "stream",
     "text": [
      "[1, 2, 3, 4, 2, 2, 2, 1, 5, 6]\n",
      "{1, 2, 3, 4, 5, 6}\n",
      "[1, 2, 3, 4, 5, 6]\n",
      "[]\n"
     ]
    }
   ],
   "source": [
    "# распаковать список без повторяющихся строк с функцией SET - list\n",
    "\n",
    "n = int(input())\n",
    "l = [int(input()) for _ in range(n)] \n",
    "print(l)\n",
    "print(set(l)) # возвращает некий набор символов из основного списка БЕЗ повторяющихся элементов\n",
    "temp = list(set(l))\n",
    "print(temp)\n",
    "print(*temp, sep='\\n')\n",
    "\n",
    "\n"
   ]
  },
  {
   "cell_type": "code",
   "execution_count": 327,
   "metadata": {},
   "outputs": [
    {
     "name": "stdout",
     "output_type": "stream",
     "text": [
      "[1, 2, 3, 4]\n"
     ]
    }
   ],
   "source": [
    "ints_list = [1, 2, 3,2,1, 4, 3, 2] \n",
    "ints_list1 = list(set(ints_list)) \n",
    "print(ints_list1)\n"
   ]
  },
  {
   "cell_type": "code",
   "execution_count": 331,
   "metadata": {},
   "outputs": [
    {
     "name": "stdout",
     "output_type": "stream",
     "text": [
      "язык родной прекрасен\n",
      "язык тебе!\n",
      "покажу тебе язык\n"
     ]
    }
   ],
   "source": [
    "# На вход программе подается натуральное число nn, затем nn строк, затем еще одна строка — поисковый запрос. \n",
    "# Напишите программу, которая выводит все введенные строки, \n",
    "# в которых встречается поисковый запрос\n",
    "n = int(input())\n",
    "l = [(input()) for _ in range(n)] \n",
    "e=l\n",
    "ggl=input().lower()\n",
    "for i in range(len(l)):\n",
    "    \n",
    "    if ggl in e[i].lower(): print(l[i])"
   ]
  },
  {
   "cell_type": "code",
   "execution_count": null,
   "metadata": {},
   "outputs": [],
   "source": [
    "# На вход программе подается натуральное число nn, затем nn строк, затем k - кол-во поисковых запросов,\n",
    "# затем  сами запросы k-раз.\n",
    "# Напишите программу, которая выводит все введенные строки, \n",
    "# в которых встречаются ВСЕ поисковые запросы\n",
    "n = int(input())\n",
    "l = [(input()) for _ in range(n)] \n",
    "k=int(input())\n",
    "ggl=[(input()).lower() for _ in range(k)] \n",
    "\n",
    "for i in range(len(l)):\n",
    "    count=0\n",
    "    for j in range(len(ggl)):\n",
    "        if ggl[j] in l[i].lower(): count+=1\n",
    "    if count==len(ggl): print(l[i])"
   ]
  },
  {
   "cell_type": "code",
   "execution_count": 334,
   "metadata": {},
   "outputs": [
    {
     "name": "stdout",
     "output_type": "stream",
     "text": [
      "-2\n",
      "-23\n",
      "0\n",
      "1\n",
      "3\n",
      "12\n"
     ]
    }
   ],
   "source": [
    "#На вход программе подается натуральное число nn, а затем nn целых чисел. Напишите программу, \n",
    "# которая сначала выводит все отрицательные числа, затем нули, а затем все положительные числа, \n",
    "# каждое на отдельной строке. Числа должны быть выведены в том же порядке, \n",
    "# в котором они были введены.\n",
    "n = int(input())\n",
    "l = [int(input()) for _ in range(n)] \n",
    "print(*[neg for neg in l if neg<0], *[zer for zer in l if zer==0],*[pos for pos in l if pos>0],sep='\\n')"
   ]
  },
  {
   "cell_type": "code",
   "execution_count": 336,
   "metadata": {},
   "outputs": [
    {
     "name": "stdout",
     "output_type": "stream",
     "text": [
      "['B', 'E', 'E', 'G', 'E', 'E', 'K']\n"
     ]
    }
   ],
   "source": [
    "s = 'BEEGEEK'\n",
    "print(list(s))"
   ]
  },
  {
   "cell_type": "code",
   "execution_count": 349,
   "metadata": {},
   "outputs": [
    {
     "name": "stdout",
     "output_type": "stream",
     "text": [
      "+\n",
      "++\n",
      "+++\n",
      "++++\n",
      "+++++\n"
     ]
    }
   ],
   "source": [
    "m=input().split()\n",
    "for i in range(len(m)): print('+'* int(m[i]), sep='\\n')\n",
    "\n",
    "\n",
    "# print('+'* int(m[i]) for i in range(len(m)), sep='\\n')"
   ]
  },
  {
   "cell_type": "code",
   "execution_count": null,
   "metadata": {},
   "outputs": [],
   "source": [
    "# для синтаксиса понимания списков: выяснить, является ли вводимая строка IP адресом (условие: \n",
    "# каждое число должно быть больше 0 и меньшее 255 включительно. )\n",
    "ip = [int(i) for i in input().split('.')] # тут создаем список из вводимых данных и переводим их целые числа\n",
    "print('ДА' if all([0 <= i <= 255 for i in ip]) else 'НЕТ') # тут выводим на печать Да или НЕТ , если ВСЕ числа в списке удовлетворяют условию"
   ]
  },
  {
   "cell_type": "code",
   "execution_count": 353,
   "metadata": {},
   "outputs": [
    {
     "name": "stdout",
     "output_type": "stream",
     "text": [
      "[1, 2, 3, 2, 1, 4, 5, 6, 3, 2, 1, 5, 12]\n",
      "8\n"
     ]
    }
   ],
   "source": [
    "# На вход программе подается строка текста, содержащая натуральные числа. Из данной строки формируется \n",
    "# список чисел. Напишите программу, которая подсчитывает, сколько в полученном списке пар элементов, \n",
    "# равных друг другу. Считается, что любые два элемента, равные друг другу образуют одну пару, которую необходимо посчитать.\n",
    "\n",
    "m=[int(i) for i in input().split()]\n",
    "count=0\n",
    "for i in range(len(m)):\n",
    "    if i+1<len(m):\n",
    "        for j in range(i+1,len(m)):\n",
    "            if m[j]==m[i]: count+=1\n",
    "print(m)\n",
    "print(count)"
   ]
  },
  {
   "cell_type": "code",
   "execution_count": 361,
   "metadata": {},
   "outputs": [
    {
     "name": "stdout",
     "output_type": "stream",
     "text": [
      "[17, 10, 11, 25, 4, 5, 6, 17, 10, 11, 4, 5, 6]\n"
     ]
    }
   ],
   "source": [
    "n = [8, 9, 10, 11]\n",
    "\n",
    "n.pop(1)\n",
    "n.insert(1,17)\n",
    "n.append(4)\n",
    "n.append(5)\n",
    "n.append(6)\n",
    "n.pop(0)\n",
    "n*=2\n",
    "n.insert(3,25)\n",
    "print(n)"
   ]
  },
  {
   "cell_type": "code",
   "execution_count": 367,
   "metadata": {},
   "outputs": [
    {
     "name": "stdout",
     "output_type": "stream",
     "text": [
      "[1, 2, 9, 3, 4, 5]\n",
      "[9, 2, 1, 3, 4, 5]\n"
     ]
    }
   ],
   "source": [
    "# поменять местами минимальный и максимальный элементы\n",
    "\n",
    "m=[int(i) for i in input().split()]\n",
    "print(m)\n",
    "minim=min(m)\n",
    "maxim=max(m)\n",
    "MIN=m.index(min(m))\n",
    "MAX=m.index(max(m))\n",
    "m.remove(min(m))\n",
    "m.remove(max(m))\n",
    "m.insert(MIN, maxim)\n",
    "m.insert(MAX, minim)\n",
    "print(m)\n"
   ]
  },
  {
   "cell_type": "code",
   "execution_count": 368,
   "metadata": {},
   "outputs": [
    {
     "name": "stdout",
     "output_type": "stream",
     "text": [
      "[1, 2, 3, 4, 5]\n",
      "5 2 3 4 1\n"
     ]
    }
   ],
   "source": [
    "# как ЛУЧШЕ менять местами минимальный и максимальный элементы в списке \n",
    "# через ПЕРЕПРИСВАИВАНИЕ индексов\n",
    "s=[int(i) for i in input().split()]\n",
    "print(s)\n",
    "mx = s.index(max(s))\n",
    "mn = s.index(min(s))\n",
    "s[mx], s[mn] = s[mn], s[mx]\n",
    "print(*s)\n"
   ]
  },
  {
   "cell_type": "code",
   "execution_count": 373,
   "metadata": {},
   "outputs": [
    {
     "name": "stdout",
     "output_type": "stream",
     "text": [
      "['print(\"Введите своё имя\")', 'if password == \"hoover\":', '     print(\"Здравствуйте, рыцарь\", name)         #долой Макнамару']\n"
     ]
    }
   ],
   "source": [
    "# удалить лишние комментарии из кода\n",
    "n = int(input()[1:]) # указали количество строк кода на входе\n",
    "\n",
    "l = [(input()) for _ in range(n)] # собрали эти строки в список \n",
    "\n",
    "for i in range(len(l)): # пробежимся циклом по списку строк\n",
    "    if '#' in l[i]: # если в i-строке есть знак # то :\n",
    "        l[i]=l[i][:l[i].index('#')].rstrip() # присваиваем это строке новое значение: делаем срез от начала строки до \n",
    "        # элемента '#' , а потом еще и убираем все пробелы\n",
    "\n",
    "print(*l, sep='\\n')"
   ]
  },
  {
   "cell_type": "code",
   "execution_count": 6,
   "metadata": {},
   "outputs": [
    {
     "name": "stdout",
     "output_type": "stream",
     "text": [
      "-847 -11 -4 0 3 34 239 343 432\n",
      "432 343 239 34 3 0 -4 -11 -847\n"
     ]
    }
   ],
   "source": [
    "s=[int(i) for i in input().split()]\n",
    "s.sort()\n",
    "print(*s)\n",
    "s.sort(reverse=True)\n",
    "print(*s)"
   ]
  },
  {
   "cell_type": "code",
   "execution_count": 7,
   "metadata": {},
   "outputs": [
    {
     "name": "stdout",
     "output_type": "stream",
     "text": [
      "['True', 'None', 'and', 'with', 'as', 'assert', 'break', 'class', 'continue', 'def', 'del', 'elif', 'else', 'except', 'finally', 'try', 'for', 'from', 'global', 'if', 'import', 'in', 'is', 'lambda', 'nonlocal', 'not', 'or', 'pass', 'raise', 'return', 'while', 'yield']\n"
     ]
    }
   ],
   "source": [
    "keywords = ['False', 'True', 'None', 'and', 'with', 'as', 'assert', \n",
    "'break', 'class', 'continue', 'def', 'del', 'elif', 'else', 'except', \n",
    "'finally', 'try', 'for', 'from', 'global', 'if', 'import', 'in', 'is', 'lambda', \n",
    "'nonlocal', 'not', 'or', 'pass', 'raise', 'return', 'while', 'yield']\n",
    "\n",
    "new_keywords = [i for i in keywords if keywords.index(i)!=0]\n",
    "\n",
    "print(new_keywords)"
   ]
  },
  {
   "cell_type": "code",
   "execution_count": 8,
   "metadata": {},
   "outputs": [
    {
     "name": "stdout",
     "output_type": "stream",
     "text": [
      "['True', 'None', 'and', 'with', 'as', 'assert', 'break', 'class', 'continue', 'def', 'del', 'elif', 'else', 'except', 'finally', 'try', 'for', 'from', 'global', 'if', 'import', 'in', 'is', 'lambda', 'nonlocal', 'not', 'or', 'pass', 'raise', 'return', 'while', 'yield']\n"
     ]
    }
   ],
   "source": [
    "keywords = ['False', 'True', 'None', 'and', 'with', 'as', 'assert', \n",
    "'break', 'class', 'continue', 'def', 'del', 'elif', 'else', 'except', \n",
    "'finally', 'try', 'for', 'from', 'global', 'if', 'import', 'in', 'is', 'lambda', \n",
    "'nonlocal', 'not', 'or', 'pass', 'raise', 'return', 'while', 'yield']\n",
    "\n",
    "new_keywords = [i for i in keywords[1:]]\n",
    "\n",
    "print(new_keywords)"
   ]
  },
  {
   "cell_type": "code",
   "execution_count": 9,
   "metadata": {},
   "outputs": [
    {
     "name": "stdout",
     "output_type": "stream",
     "text": [
      "['alse', 'rue', 'one', 'nd', 'ith', 's', 'ssert', 'reak', 'lass', 'ontinue', 'ef', 'el', 'lif', 'lse', 'xcept', 'inally', 'ry', 'or', 'rom', 'lobal', 'f', 'mport', 'n', 's', 'ambda', 'onlocal', 'ot', 'r', 'ass', 'aise', 'eturn', 'hile', 'ield']\n"
     ]
    }
   ],
   "source": [
    "keywords = ['False', 'True', 'None', 'and', 'with', 'as', 'assert', \n",
    "'break', 'class', 'continue', 'def', 'del', 'elif', 'else', 'except', \n",
    "'finally', 'try', 'for', 'from', 'global', 'if', 'import', 'in', 'is', 'lambda', \n",
    "'nonlocal', 'not', 'or', 'pass', 'raise', 'return', 'while', 'yield']\n",
    "\n",
    "new_keywords = [i[1:] for i in keywords ]\n",
    "\n",
    "print(new_keywords)"
   ]
  },
  {
   "cell_type": "code",
   "execution_count": 10,
   "metadata": {},
   "outputs": [
    {
     "name": "stdout",
     "output_type": "stream",
     "text": [
      "Отсортированный список: [-67, -3, -2, 0, 1, 6, 7, 8, 9, 12, 34, 45, 99, 1000]\n"
     ]
    }
   ],
   "source": [
    "# сортировка простыми вставками\n",
    "\n",
    "a = [1, 7, -3, 9, 0, -67, 34, 12, 45, 1000, 6,  8, -2, 99]\n",
    "n = len(a)\n",
    "\n",
    "for i in range(1, n): \n",
    "    elem = a[i]  # первый элемент из неотсортированной части списка\n",
    "    j = i\n",
    "    while j >= 1 and a[j - 1] > elem: \n",
    "        a[j] = a[j - 1]\n",
    "        j -= 1\n",
    "    a[j] = elem\n",
    "\n",
    "\n",
    "print('Отсортированный список:', a)"
   ]
  },
  {
   "cell_type": "code",
   "execution_count": 11,
   "metadata": {},
   "outputs": [
    {
     "name": "stdout",
     "output_type": "stream",
     "text": [
      "[-97, -96, -94, -94, -79, -77, -72, -72, -71, -71, -67, -67, -64, -64, -63, -62, -62, -61, -60, -58, -56, -52, -48, -47, -42, -41, -39, -36, -32, -31, -30, -26, -24, -23, -22, -21, -19, -16, -16, -14, -10, -8, -5, -3, -1, 0, 2, 2, 3, 3, 5, 9, 9, 14, 20, 22, 27, 32, 32, 35, 35, 39, 39, 41, 41, 43, 48, 53, 57, 57, 58, 59, 59, 59, 60, 60, 61, 62, 63, 63, 64, 66, 71, 72, 76, 78, 78, 80, 82, 84, 87, 87, 89, 90, 92, 92, 93, 94, 96, 98]\n"
     ]
    }
   ],
   "source": [
    "# сортировка выбором (минимального или мсксимального значения)\n",
    "\n",
    "a = [78, -32, 5, 39, 58, -5, -63, 57, 72, 9, 53, -1, 63, -97, -21, -94, -47, 57, -8, 60, -23, -72, -22, -79, 90, 96, -41, -71, -48, 84, 89, -96, 41, -16, 94, -60, -64, -39, 60, -14, -62, -19, -3, 32, 98, 14, 43, 3, -56, 71, -71, -67, 80, 27, 92, 92, -64, 0, -77, 2, -26, 41, 3, -31, 48, 39, 20, -30, 35, 32, -58, 2, 63, 64, 66, 62, 82, -62, 9, -52, 35, -61, 87, 78, 93, -42, 87, -72, -10, -36, 61, -16, 59, 59, 22, -24, -67, 76, -94, 59]\n",
    "\n",
    "n = len(a)\n",
    "b=[]\n",
    "for i in range(n):\n",
    "    b.append(min(a))\n",
    "    a.remove(min(a))\n",
    "a=b\n",
    "\n",
    "print(a)"
   ]
  },
  {
   "cell_type": "code",
   "execution_count": 17,
   "metadata": {},
   "outputs": [
    {
     "name": "stdout",
     "output_type": "stream",
     "text": [
      "[7, -75, -11, -34, 16, 70, -18, 75, 6, -79, -59, 75, 2, 48, -80, -38, 35, 87, -79, -12, -12, 87, 47, -14, -81, 8, -67, 45, 82, -24]\n",
      "Отсортированный список: [-81, -80, -79, -79, -75, -67, -59, -38, -34, -24, -18, -14, -12, -12, -11, 2, 6, 7, 8, 16, 35, 45, 47, 48, 70, 75, 75, 82, 87, 87]\n"
     ]
    }
   ],
   "source": [
    "# сортировка рандомного случайного списка чисел\n",
    "import numpy as np\n",
    "a = [i for i in np.random.randint(-100,100,30)]\n",
    "print(a)\n",
    "n = len(a)\n",
    "\n",
    "for i in range(1, n): \n",
    "    elem = a[i]  # первый элемент из неотсортированной части списка\n",
    "    j = i\n",
    "    while j >= 1 and a[j - 1] > elem: \n",
    "        a[j] = a[j - 1]\n",
    "        j -= 1\n",
    "    a[j] = elem\n",
    "\n",
    "\n",
    "print('Отсортированный список:', a)"
   ]
  },
  {
   "cell_type": "code",
   "execution_count": 22,
   "metadata": {},
   "outputs": [
    {
     "name": "stdout",
     "output_type": "stream",
     "text": [
      "1+2+3+4+5=15\n"
     ]
    }
   ],
   "source": [
    "m=input().split()\n",
    "l=[int(i) for i in m]\n",
    "\n",
    "s='+'.join(m)\n",
    "\n",
    "print(s,'=',sum(l), sep='')"
   ]
  },
  {
   "cell_type": "code",
   "execution_count": null,
   "metadata": {},
   "outputs": [],
   "source": [
    "# валидный телефонный номер\n",
    "s= input().split('-')\n",
    "for i in range(len)\n",
    "if len(s)==12:\n",
    "\n",
    "if len(s)==14:\n",
    "    if s[0]!=7: print('NO')\n",
    "    else:"
   ]
  },
  {
   "cell_type": "code",
   "execution_count": 26,
   "metadata": {},
   "outputs": [
    {
     "name": "stdout",
     "output_type": "stream",
     "text": [
      "7-123-123-6945\n",
      "<generator object <genexpr> at 0x10e4a84a0>\n"
     ]
    }
   ],
   "source": [
    "s=input()\n",
    "print(s)\n",
    "flag=True\n",
    "if (len(s)==12 and s[3]==s[7]=='-') or (len(s)==14 and s[1]==s[5]==s[9]=='-'):\n",
    "    l=s.split('-')\n",
    "    if len(l)==4 and l[0]=='7': print('YES' if i.isdigit() and len(i[1])==len(i[2])==3 else 'NO' for i in l)\n",
    "    elif len(l)==3 : print('YES' if i.isdigit() and len(i[0])==len(i[1])==3 else 'NO' for i in l)\n",
    "    else: print('NO')\n",
    "else: print('NO')\n",
    "\n"
   ]
  },
  {
   "cell_type": "code",
   "execution_count": 49,
   "metadata": {},
   "outputs": [
    {
     "name": "stdout",
     "output_type": "stream",
     "text": [
      "7-123-123-1234\n",
      "YES\n"
     ]
    }
   ],
   "source": [
    "s=input()\n",
    "print(s)\n",
    "\n",
    "if len(s)==12 and s[3]==s[7]=='-':\n",
    "    count1=0\n",
    "    l=s.split('-')\n",
    "    if len(l[0])==len(l[1])==3:\n",
    "        for i in range(len(l)):\n",
    "            if l[i].isdigit(): count1+=1\n",
    "        if count1==len(l): print('YES')\n",
    "        else: print('NO')\n",
    "    else: print('NO')\n",
    "\n",
    "\n",
    "elif len(s)==14 and s[1]==s[5]==s[9]=='-':\n",
    "    count2=0\n",
    "    l=s.split('-')\n",
    "    if len(l[1])==len(l[2])==3 and l[0]=='7':\n",
    "        for i in range(1,len(l)):\n",
    "            if l[i].isdigit(): count2+=1\n",
    "        if count2==3: print('YES')\n",
    "        else: print('NO')\n",
    "    else: print('NO')\n",
    "\n",
    "else: print('NO')"
   ]
  },
  {
   "cell_type": "code",
   "execution_count": 50,
   "metadata": {},
   "outputs": [
    {
     "name": "stdout",
     "output_type": "stream",
     "text": [
      "[3, 2, 3]\n"
     ]
    }
   ],
   "source": [
    "n=[1,2,3]\n",
    "n[0]=n[-1]\n",
    "print(n)"
   ]
  },
  {
   "cell_type": "code",
   "execution_count": 51,
   "metadata": {},
   "outputs": [
    {
     "name": "stdout",
     "output_type": "stream",
     "text": [
      "роспалпки очтипки сювки очьнки\n"
     ]
    }
   ],
   "source": [
    "l=input().split()\n",
    "print(*[i[1:]+ i[0]+'ки' for i in l])\n"
   ]
  },
  {
   "cell_type": "code",
   "execution_count": 59,
   "metadata": {},
   "outputs": [
    {
     "name": "stdout",
     "output_type": "stream",
     "text": [
      "30\n"
     ]
    }
   ],
   "source": [
    "# объявление функции\n",
    "def get_days(month):\n",
    "    if month in [1,3,5,7,8,10,12]: return '31'\n",
    "    elif month==2: return '28'\n",
    "    else: return '30'\n",
    "\n",
    "# считываем данные\n",
    "num = int(input())\n",
    "\n",
    "# вызываем функцию\n",
    "print(get_days(num))"
   ]
  },
  {
   "cell_type": "code",
   "execution_count": 66,
   "metadata": {},
   "outputs": [
    {
     "name": "stdout",
     "output_type": "stream",
     "text": [
      "3\n"
     ]
    }
   ],
   "source": [
    "m=[1,3,3,2,5,2,7]\n",
    "print(m.index(2))"
   ]
  },
  {
   "cell_type": "code",
   "execution_count": 67,
   "metadata": {},
   "outputs": [
    {
     "name": "stdout",
     "output_type": "stream",
     "text": [
      "[0, 5, 9, 13]\n"
     ]
    }
   ],
   "source": [
    "# вывести индексы заданного символа в строке \n",
    "def find_all(target, symbol):\n",
    "    return [i for i in range(len(target)) if list(target)[i]==symbol]\n",
    "\n",
    "# считываем данные\n",
    "s = input()\n",
    "char = input()\n",
    "\n",
    "# вызываем функцию\n",
    "print(find_all(s, char))"
   ]
  },
  {
   "cell_type": "code",
   "execution_count": 74,
   "metadata": {},
   "outputs": [
    {
     "name": "stdout",
     "output_type": "stream",
     "text": [
      "[-23, -12, 1, 2, 7, 12, 22, 81, 384]\n",
      "[-23, -12, 1, 2, 7, 12, 22, 81, 384]\n",
      "[384, 81, 22, 12, 7, 2, 1, -12, -23]\n"
     ]
    }
   ],
   "source": [
    "# объединить списки и отсортировать их по возрастанию\n",
    "a=[1,2,7,12,81,-23]\n",
    "b=[384,-12,22]\n",
    "s=a+b\n",
    "s.sort()\n",
    "print(s)\n",
    "# или так\n",
    "print(sorted(a+b))\n",
    "\n",
    "# а так по убыванию\n",
    "print(sorted(a+b)[-1::-1])"
   ]
  },
  {
   "cell_type": "code",
   "execution_count": null,
   "metadata": {},
   "outputs": [],
   "source": [
    "# быстрое слияние двух отсортированных списков в один отсортированный список \n",
    "# ссылка: https://stepik.org/lesson/331754/step/12?unit=315133\n",
    "\n",
    "def quick_merge(list1, list2):\n",
    "    result = []\n",
    "\n",
    "    p1 = 0  # указатель на первый элемент списка list1\n",
    "    p2 = 0  # указатель на первый элемент списка list2\n",
    "\n",
    "    while p1 < len(list1) and p2 < len(list2):  # пока не закончился хотя бы один список\n",
    "        if list1[p1] <= list2[p2]:\n",
    "            result.append(list1[p1])\n",
    "            p1 += 1\n",
    "        else:\n",
    "            result.append(list2[p2])\n",
    "            p2 += 1\n",
    "\n",
    "    if p1 < len(list1):   # прицепление остатка\n",
    "        result += list1[p1:]\n",
    "    if p2 < len(list2):\n",
    "        result += list2[p2:]\n",
    "    \n",
    "    return result\n",
    "    \n"
   ]
  },
  {
   "cell_type": "code",
   "execution_count": 86,
   "metadata": {},
   "outputs": [
    {
     "name": "stdout",
     "output_type": "stream",
     "text": [
      "1 2 3 5 9 10 12 17 143\n"
     ]
    }
   ],
   "source": [
    "# вывести список (раскрыть) в порядке возрастания , используя строки из ввода \n",
    "def quick_merge(spis):\n",
    "    result = [int(i) for i in (' '.join(spis)).split()]\n",
    "    return sorted(result)\n",
    "\n",
    "n=int(input())\n",
    "l=[input() for _ in range(n)]\n",
    "\n",
    "print(*quick_merge(l))"
   ]
  },
  {
   "cell_type": "code",
   "execution_count": 85,
   "metadata": {},
   "outputs": [
    {
     "name": "stdout",
     "output_type": "stream",
     "text": [
      "['1', '2', '3', '4', '5', '6', '7', '10', '11', '17']\n",
      "['1', '10', '11', '17', '2', '3', '4', '5', '6', '7']\n",
      "['1 2 3 4', '5 6 7', '10 11 17']\n"
     ]
    }
   ],
   "source": [
    "n=int(input())\n",
    "l=[input() for _ in range(n)]\n",
    "\n",
    "s=(' '.join(l)).split()\n",
    "print(s)\n",
    "print(sorted(s))\n",
    "\n",
    "\n",
    "print(l)"
   ]
  },
  {
   "cell_type": "code",
   "execution_count": null,
   "metadata": {},
   "outputs": [],
   "source": [
    "# проверить пароль через функцию (не менее 8 символов, хотя бы одна строчная, хотя бы одна заглавная, хотя бы одна цифра)\n",
    "\n",
    "def is_password_good(password):\n",
    "  if len(password) < 8:\n",
    "    return False\n",
    "    # проверяем: если в строке PASSWORD все символы в верхнем регистре, если все в нижнем регистре, если все буквы, если все цифры \n",
    "  if password.isupper() or password.islower() or password.isalpha() or password.isdigit():\n",
    "    return False # возвращаем False \n",
    "  \n",
    "  return True # во всех остальных случаях возвращаем True\n",
    "\n",
    "txt = input()\n",
    "print(is_password_good(txt))"
   ]
  },
  {
   "cell_type": "code",
   "execution_count": null,
   "metadata": {},
   "outputs": [],
   "source": [
    "# проверить пароль через функцию (не менее 8 символов, хотя бы одна строчная, хотя бы одна заглавная, хотя бы одна цифра)\n",
    "\n",
    "def is_password_good(password):\n",
    "    v=password.upper()\n",
    "    n=password.lower()\n",
    "    if v!=password and n!=password and len(password)>7:\n",
    "        l=list(password)\n",
    "        count=0\n",
    "        for i in range(len(l)):\n",
    "            if l[i].isdigit(): count+=1\n",
    "        if count>0: return True\n",
    "        else: return False\n",
    "    else: return False\n",
    "    \n",
    "\n",
    "txt = input()\n",
    "\n",
    "print(is_password_good(txt))"
   ]
  },
  {
   "cell_type": "code",
   "execution_count": 88,
   "metadata": {},
   "outputs": [
    {
     "name": "stdout",
     "output_type": "stream",
     "text": [
      "QWEQWE123sdfsdafa123asdgfadgjk-0-i-9-0dlksvnas\n",
      "['q', 'w', 'e', 'q', 'w', 'e', 's', 'd', 'f', 's', 'd', 'a', 'f', 'a', 'a', 's', 'd', 'g', 'f', 'a', 'd', 'g', 'j', 'k', 'i', 'd', 'l', 'k', 's', 'v', 'n', 'a', 's']\n"
     ]
    }
   ],
   "source": [
    "text=input()\n",
    "\n",
    "print(text)\n",
    "l=[i for i in list(text.lower()) if i.isalpha()]\n",
    "\n",
    "print(l)"
   ]
  },
  {
   "cell_type": "code",
   "execution_count": null,
   "metadata": {},
   "outputs": [],
   "source": [
    "# берем строку, занижаем ее как приору, превращаем в список, дергаем из него все символы, которые являются буквами.\n",
    "# а теперь осталось только проверить что список в обе стороны одинаковый (срезом)\n",
    "def is_palindrome(text):\n",
    "    l=[i for i in list(text.lower()) if i.isalpha()]\n",
    "    if l==l[-1::-1]: return True\n",
    "    else: return False\n",
    "\n",
    "txt = input()\n",
    "\n",
    "print(is_palindrome(txt))"
   ]
  },
  {
   "cell_type": "code",
   "execution_count": null,
   "metadata": {},
   "outputs": [],
   "source": [
    "def is_prime(num):\n",
    "    s=[i for i in range(1,num+1) if num%i==0]\n",
    "    if len(s)==2 : return True\n",
    "    else: return False\n",
    "    \n",
    "def is_valid_password(password):\n",
    "    l=password.split(':')\n",
    "    if len(l)==3 and l[0]==l[-1::-1] and is_prime(int(l[1])) and int(l[2])%2==0: return True\n",
    "    else: return False\n",
    "        \n",
    "\n",
    "# считываем данные\n",
    "psw = input()\n",
    "\n",
    "# вызываем функцию\n",
    "print(is_valid_password(psw))"
   ]
  },
  {
   "cell_type": "code",
   "execution_count": 91,
   "metadata": {},
   "outputs": [
    {
     "name": "stdout",
     "output_type": "stream",
     "text": [
      "12321:1231231:12:12\n",
      "['12321', '1231231', '12', '12']\n",
      "NO\n",
      "NO\n"
     ]
    }
   ],
   "source": [
    "password=input()\n",
    "l=password.split(':')\n",
    "\n",
    "print(password)\n",
    "\n",
    "print(l)\n",
    "\n",
    "print('YES' if len(l)==3 else 'NO')\n",
    "print('YES' if l[0]==l[-1::-1] else 'NO')\n",
    "\n"
   ]
  },
  {
   "cell_type": "code",
   "execution_count": null,
   "metadata": {},
   "outputs": [],
   "source": [
    "# задача на правильные скобки: смысл в том, что открытая скобка - это +1, закрытая -1\n",
    "\n",
    "def is_correct_bracket(text):\n",
    "    balance=0\n",
    "    for i in range(len(text)):\n",
    "        if text[i]=='(': balance+=1\n",
    "        else: balance-=1\n",
    "        if balance<0: return False\n",
    "    if balance==0: return True\n",
    "    else: return False\n",
    "\n",
    "# считываем данные\n",
    "txt = input()\n",
    "\n",
    "# вызываем функцию\n",
    "print(is_correct_bracket(txt))"
   ]
  },
  {
   "cell_type": "code",
   "execution_count": 104,
   "metadata": {},
   "outputs": [
    {
     "ename": "SyntaxError",
     "evalue": "invalid syntax. Perhaps you forgot a comma? (213048641.py, line 7)",
     "output_type": "error",
     "traceback": [
      "\u001b[0;36m  Cell \u001b[0;32mIn [104], line 7\u001b[0;36m\u001b[0m\n\u001b[0;31m    print(''.join(spis).lower()[])\u001b[0m\n\u001b[0m          ^\u001b[0m\n\u001b[0;31mSyntaxError\u001b[0m\u001b[0;31m:\u001b[0m invalid syntax. Perhaps you forgot a comma?\n"
     ]
    }
   ],
   "source": [
    "text=input()\n",
    "print(list(text))\n",
    "spis=list(text)\n",
    "for i in range(len(spis)):\n",
    "        if spis[i].isupper(): spis[i]='_'+spis[i]\n",
    "print(spis)\n",
    "print(''.join(spis).lower()[1:])\n",
    "\n",
    "\n",
    "# print(''.join(list(text)[1:]).lower())"
   ]
  },
  {
   "cell_type": "code",
   "execution_count": 105,
   "metadata": {},
   "outputs": [
    {
     "name": "stdout",
     "output_type": "stream",
     "text": [
      "['T', 'h', 'i', 's', 'I', 's', 'C', 'a', 'm', 'e', 'l', 'C', 'a', 's', 'e', 'd']\n",
      "['T', 'h', 'i', 's', 'I', 's', 'C', 'a', 'm', 'e', 'l', 'C', 'a', 's', 'e', 'd']\n",
      "hisiscamelcased\n"
     ]
    }
   ],
   "source": [
    "text=input()\n",
    "print(list(text))\n",
    "spis=list(text)\n",
    "for i in spis:\n",
    "        if i.isupper(): i='_'+i\n",
    "print(spis)\n",
    "print(''.join(spis).lower()[1:])"
   ]
  },
  {
   "cell_type": "code",
   "execution_count": 107,
   "metadata": {},
   "outputs": [
    {
     "name": "stdout",
     "output_type": "stream",
     "text": [
      "2 3\n"
     ]
    }
   ],
   "source": [
    "from statistics import mean\n",
    "# объявление функции\n",
    "def get_middle_point(x1, y1, x2, y2):\n",
    "    \n",
    "    return mean([x1,x2]), mean([y1,y2])\n",
    "    \n",
    "\n",
    "# считываем данные\n",
    "x_1, y_1 = int(input()), int(input())\n",
    "x_2, y_2 = int(input()), int(input())\n",
    "\n",
    "# вызываем функцию\n",
    "x, y = get_middle_point(x_1, y_1, x_2, y_2)\n",
    "print(x, y)"
   ]
  },
  {
   "cell_type": "code",
   "execution_count": 109,
   "metadata": {},
   "outputs": [
    {
     "name": "stdout",
     "output_type": "stream",
     "text": [
      "       *\n",
      "      ***\n",
      "     *****\n",
      "    *******\n",
      "   *********\n",
      "  ***********\n",
      " *************\n",
      "***************\n"
     ]
    }
   ],
   "source": [
    "star=[1,3,5,7,9,11,13,15]\n",
    "space=[7,6,5,4,3,2,1,0]\n",
    "for i in range(8):\n",
    "    print(' '*space[i]+'*'*star[i])"
   ]
  },
  {
   "cell_type": "code",
   "execution_count": 111,
   "metadata": {},
   "outputs": [
    {
     "name": "stdout",
     "output_type": "stream",
     "text": [
      "1.0\n"
     ]
    }
   ],
   "source": [
    "from math import factorial\n",
    "# объявление функции\n",
    "def compute_binom(n, k):\n",
    "    return factorial(n)/factorial(k)/factorial(n-k)\n",
    "\n",
    "# считываем данные\n",
    "n = int(input())\n",
    "k = int(input())\n",
    "\n",
    "# вызываем функцию\n",
    "print(compute_binom(n, k))\n"
   ]
  },
  {
   "cell_type": "code",
   "execution_count": 117,
   "metadata": {},
   "outputs": [
    {
     "name": "stdout",
     "output_type": "stream",
     "text": [
      "семьдесят\n"
     ]
    }
   ],
   "source": [
    "def number_to_words(num):\n",
    "    ed=['один', 'два', 'три', 'четыре', 'пять', 'шесть', 'семь', 'восемь', 'девять']\n",
    "    des=['десять','одиннадцать','двенадцать','тринадцать','четырнадцать','пятнадцать','шестнадцать','семнадцать',\n",
    "         'восемнадцать','девятнадцать']\n",
    "    sotn=['двадцать','тридцать','сорок','пятьдесят','шестьдесят','семьдесят','восемьдесят','девяносто']\n",
    "    if 1<=num<=9: return ed[num-1]\n",
    "    elif 10<=num<=19: return des[num%10]\n",
    "    elif num in [20,30,40,50,60,70,80,90] : return sotn[num//10-2]\n",
    "    else : return sotn[num//10-2] + ' ' + ed[num%10-1]\n",
    "\n",
    "\n",
    "# считываем данные\n",
    "n = int(input())\n",
    "\n",
    "# вызываем функцию\n",
    "print(number_to_words(n))"
   ]
  },
  {
   "cell_type": "code",
   "execution_count": 120,
   "metadata": {},
   "outputs": [
    {
     "name": "stdout",
     "output_type": "stream",
     "text": [
      "september\n"
     ]
    }
   ],
   "source": [
    "def get_month(language, number):\n",
    "    mes_ru=['январь','февраль','март','апрель','май','июнь','июль','август','сентябрь','октябрь','ноябрь','декабрь']\n",
    "    month_en=['january','february','march','april','may','june','july','august','september','october','november','december']\n",
    "    if language=='ru': return mes_ru[number-1]\n",
    "    else: return month_en[number-1]\n",
    "\n",
    "# считываем данные\n",
    "lan = input()\n",
    "num = int(input())\n",
    "\n",
    "# вызываем функцию\n",
    "print(get_month(lan, num))"
   ]
  },
  {
   "cell_type": "code",
   "execution_count": 126,
   "metadata": {},
   "outputs": [
    {
     "name": "stdout",
     "output_type": "stream",
     "text": [
      "4\n"
     ]
    }
   ],
   "source": [
    "s=input()\n",
    "print(int(s))\n"
   ]
  },
  {
   "cell_type": "code",
   "execution_count": 128,
   "metadata": {},
   "outputs": [
    {
     "name": "stdout",
     "output_type": "stream",
     "text": [
      "97\n",
      "['a', 'b', 'c', 'd', 'e', 'f', 'g', 'h', 'i', 'j', 'k', 'l', 'm', 'n', 'o', 'p', 'q', 'r', 's', 't', 'u', 'v', 'w', 'x', 'y', 'z']\n"
     ]
    }
   ],
   "source": [
    "print(ord('a'))\n",
    "print([chr(i) for i in range(ord('a'), ord('z')+1)])"
   ]
  },
  {
   "cell_type": "code",
   "execution_count": 136,
   "metadata": {},
   "outputs": [
    {
     "name": "stdout",
     "output_type": "stream",
     "text": [
      "True\n"
     ]
    }
   ],
   "source": [
    "def is_pangram(text):\n",
    "    #alfabeth=[chr(i) for i in range(ord('a'), ord('z')+1)]\n",
    "    text.replace(' ','')\n",
    "    new_txt= text.replace(' ','')\n",
    "    l=list(new_txt.lower())\n",
    "    spis=[]\n",
    "    for i in range(len(l)):\n",
    "        if l[i] not in spis: spis.append(l[i])\n",
    "    if len(spis)==26: return True\n",
    "    else: return False\n",
    "            \n",
    "\n",
    "# считываем данные\n",
    "text = input()\n",
    "\n",
    "# вызываем функцию\n",
    "print(is_pangram(text))"
   ]
  },
  {
   "cell_type": "code",
   "execution_count": 139,
   "metadata": {},
   "outputs": [
    {
     "name": "stdout",
     "output_type": "stream",
     "text": [
      "[21, 44, 15, 50, 60, 66, 38, 96, 68, 93]\n"
     ]
    }
   ],
   "source": [
    "# случайный рандомный random набор чисел из заданного промежутка-интервала\n",
    "from random import randint\n",
    "print([randint(1,100) for _ in range(10)]) # обрати внимание на диапазон рандома: он включителен для ОБЕИХ границ"
   ]
  },
  {
   "cell_type": "code",
   "execution_count": 140,
   "metadata": {},
   "outputs": [
    {
     "name": "stdout",
     "output_type": "stream",
     "text": [
      "16\n"
     ]
    }
   ],
   "source": [
    "# функция RANDRANGE(x,y,z) способна хранить число из заданного диапазона [x,y) БЕЗ ВЕРХНЕЙ границы  c шагом Z\n",
    "from random import randrange\n",
    "print(randrange(1,20,5)) # здесь рандом возьмет число случайным образом из списка [1,6,11,16] \n"
   ]
  },
  {
   "cell_type": "code",
   "execution_count": 144,
   "metadata": {},
   "outputs": [
    {
     "name": "stdout",
     "output_type": "stream",
     "text": [
      "0.7255223948572208\n"
     ]
    }
   ],
   "source": [
    "# функция RANDOM() вернет случайное float число (нецелое) из диапазона [0,1) БЕЗ ВЕРХНЕЙ границы \n",
    "from random import random\n",
    "print(random())"
   ]
  },
  {
   "cell_type": "code",
   "execution_count": 145,
   "metadata": {},
   "outputs": [
    {
     "name": "stdout",
     "output_type": "stream",
     "text": [
      "1.7786625806935283\n"
     ]
    }
   ],
   "source": [
    "# функция UNIFORM(x,y) аналогична random() за исключением заданного диапазона (ОБЕ границы включены)\n",
    "from random import uniform\n",
    "print(uniform(1.3,12.5))"
   ]
  },
  {
   "cell_type": "code",
   "execution_count": 148,
   "metadata": {},
   "outputs": [
    {
     "name": "stdout",
     "output_type": "stream",
     "text": [
      "[8, 12, 11, 47, 22, 95, 86, 40, 33, 78]\n"
     ]
    }
   ],
   "source": [
    "# если нужно раз за разом генерировать одну и ту же последовательность чисел, использовать нужно seed()\n",
    "from random import randint, seed\n",
    "seed(2) #здесь задается произвольное начальное значение, от которого генератор по определенной формуле выводит последовательность\n",
    "print([randint(1,100) for _ in range(10)]) # при каждом вызове программы будет выведена одна и та же последовательность"
   ]
  },
  {
   "cell_type": "code",
   "execution_count": 154,
   "metadata": {},
   "outputs": [
    {
     "name": "stdout",
     "output_type": "stream",
     "text": [
      "[40, 94, 27, 63, 66, 47, 88, 80, 10, 44]\n",
      "[80, 47, 10, 27, 88, 66, 44, 94, 63, 40]\n",
      "[10, 27, 40, 44, 47, 63, 66, 80, 88, 94]\n"
     ]
    }
   ],
   "source": [
    "# перемешать список случайным образом SHUFFLE\n",
    "from random import * # импортировали все функции\n",
    "spis=[randint(1,100) for _ in range(10)]\n",
    "\n",
    "print(spis)\n",
    "shuffle(spis)\n",
    "print(spis)\n",
    "print(sorted(spis)) # ну заодно и отсортируем по возрастанию))\n"
   ]
  },
  {
   "cell_type": "code",
   "execution_count": 157,
   "metadata": {},
   "outputs": [
    {
     "name": "stdout",
     "output_type": "stream",
     "text": [
      "6\n",
      "t\n",
      "[9, 33, 95]\n",
      "['i', 'o', 't', 'A']\n"
     ]
    }
   ],
   "source": [
    "# взять случайный элемент из строки или списка позволит choice()\n",
    "from random import * # импортировали все функции\n",
    "spis=[randint(1,100) for _ in range(10)]\n",
    "s='Anton Potekhin'\n",
    "\n",
    "print(choice(spis))\n",
    "print(choice(s))\n",
    "\n",
    "# надергать случайных элементов из строки или списка в НУЖНОМ количестве поможет sample()\n",
    "\n",
    "print(sample(spis,3)) # берем три элемента\n",
    "print(sample(s,4))  # берем четыре элемента"
   ]
  },
  {
   "cell_type": "code",
   "execution_count": 178,
   "metadata": {},
   "outputs": [
    {
     "name": "stdout",
     "output_type": "stream",
     "text": [
      "34\n",
      "Добро пожаловать в числовую угадайку\n",
      "Введите число от 1 до 100\n",
      "22\n",
      "Ваше число меньше загаданного, попробуйте еще разок\n",
      "Введите число от 1 до 100\n",
      "45\n",
      "Ваше число больше загаданного, попробуйте еще разок\n",
      "Введите число от 1 до 100\n",
      "34\n",
      "Вы угадали, поздравляем!\n",
      "Сыграем еще? Да/нет\n",
      "97\n",
      "Добро пожаловать в числовую угадайку\n",
      "Введите число от 1 до 100\n",
      "97\n",
      "Вы угадали, поздравляем!\n",
      "Сыграем еще? Да/нет\n",
      "Спасибо, что играли в числовую угадайку. Еще увидимся...\n",
      "Количество попыток \n",
      "1\n"
     ]
    }
   ],
   "source": [
    "# числовая угадайка \n",
    "# https://stepik.org/lesson/349845/step/8?unit=333700\n",
    "\n",
    "from random import * # импортировали все функции\n",
    "\n",
    "def is_valid(txt):\n",
    "    if txt.isdigit() and 0<int(txt) <101 : return True\n",
    "    else: return False\n",
    "\n",
    "def is_valid_game(answer):\n",
    "    if answer=='нет' or answer=='да' : return True\n",
    "    else: return False\n",
    "    \n",
    "\n",
    "while True:\n",
    "    num= randint(1,100)\n",
    "    print(num)\n",
    "    print('Добро пожаловать в числовую угадайку', end='\\n')\n",
    "\n",
    "    count=1\n",
    "\n",
    "\n",
    "    while True:\n",
    "        print(\"Введите число от 1 до 100\")\n",
    "        number = input()\n",
    "        print(number)\n",
    "        if is_valid(number):\n",
    "            x=int(number)\n",
    "            if x==num: \n",
    "                print('Вы угадали, поздравляем!')\n",
    "                break\n",
    "            \n",
    "            elif x> num: \n",
    "                print('Ваше число больше загаданного, попробуйте еще разок')\n",
    "                count+=1\n",
    "            elif x< num: \n",
    "                print('Ваше число меньше загаданного, попробуйте еще разок')\n",
    "                count+=1\n",
    "        else:\n",
    "            print('А может быть все-таки введем целое число от 1 до 100?')\n",
    "            print()\n",
    "        \n",
    "    print('Сыграем еще? Да/нет')\n",
    "    answer=input().lower().strip()\n",
    "    if is_valid_game(answer):\n",
    "        if answer=='нет': break\n",
    "    \n",
    "    \n",
    "print('Спасибо, что играли в числовую угадайку. Еще увидимся...', 'Количество попыток ', count, sep='\\n' )"
   ]
  },
  {
   "cell_type": "code",
   "execution_count": 4,
   "metadata": {},
   "outputs": [
    {
     "name": "stdout",
     "output_type": "stream",
     "text": [
      "Привет Мир, я магический шар, и я знаю ответ на любой твой вопрос.\n",
      "Как Вас зовут?\n",
      "Здравствуйте,  Антон\n",
      "Спроси у меня что хочешь!\n",
      "что я хочу?\n",
      "Определённо да\n",
      "Что-то еще? :-) (да/нет)\n",
      "нужно ввести да или нет\n",
      "нужно ввести да или нет\n",
      "Спроси у меня что хочешь!\n",
      "не хочу\n",
      "Определённо да\n",
      "Что-то еще? :-) (да/нет)\n",
      "нужно ввести да или нет\n",
      "нужно ввести да или нет\n",
      "Возвращайся если возникнут вопросы!\n"
     ]
    }
   ],
   "source": [
    "from random import *\n",
    "print('Привет Мир, я магический шар, и я знаю ответ на любой твой вопрос.')\n",
    "answers=['Бесспорно', 'Предрешено', 'Никаких сомнений', 'Определённо да', 'Можешь быть уверен в этом',\n",
    "            'Мне кажется - да', 'Вероятнее всего', 'Хорошие перспективы', 'Знаки говорят - да', 'Да',\n",
    "            'Пока неясно, попробуй снова позже', 'Спроси позже', 'Лучше не рассказывать',\n",
    "            'Сейчас нельзя предсказать', 'Сконцентрируйся и спроси опять', 'Даже не думай',\n",
    "            'Мой ответ - нет', 'По моим данным - нет', 'Перспективы не очень хорошие',\n",
    "            'Весьма сомнительно']\n",
    "print('Как Вас зовут?')\n",
    "name=input()\n",
    "print('Здравствуйте, ', name)\n",
    "while True:\n",
    "    print(\"Спроси у меня что хочешь!\")\n",
    "    question = input()\n",
    "    print(question)\n",
    "    answer=choice(answers)\n",
    "    print(answer)\n",
    "\n",
    "    print('Что-то еще? :-) (да/нет)')\n",
    "    while True:\n",
    "        again=input().lower().strip()\n",
    "        if again=='да' or again=='нет':break\n",
    "        else: \n",
    "            print('нужно ввести да или нет')\n",
    "            continue\n",
    "    if again== 'да': continue\n",
    "    else: break\n",
    "\n",
    "print('Возвращайся если возникнут вопросы!')\n",
    "\n",
    "\n",
    "\n",
    "    "
   ]
  },
  {
   "cell_type": "code",
   "execution_count": 28,
   "metadata": {},
   "outputs": [
    {
     "name": "stdout",
     "output_type": "stream",
     "text": [
      "Сколько паролей сгенерировать?\n",
      "5 \n",
      "\n",
      "Какой длины должен быть пароль? \n",
      "12 \n",
      "\n",
      "Включать ли цифры 0123456789?\n",
      "да \n",
      "\n",
      "Включать ли прописные буквы ABCDEFGHIJKLMNOPQRSTUVWXYZ?\n",
      "да \n",
      "\n",
      "Включать ли строчные буквы abcdefghijklmnopqrstuvwxyz?\n",
      "да \n",
      "\n",
      "Включать ли символы !#$%&*+-=?@^_?\n",
      "да \n",
      "\n",
      "Исключать ли неоднозначные символы il1Lo0O?\n",
      "да \n",
      "\n",
      "e3-EPaDh?IQT\n",
      "jC_dpDWmhQ3r\n",
      "upn#3=mZsg&%\n",
      "@AgTnm!2%bNW\n",
      "dVuDE&sfUZz2\n"
     ]
    }
   ],
   "source": [
    "# генератор случайных паролей \n",
    "# https://stepik.org/lesson/349848/step/2?unit=333703\n",
    "\n",
    "from random import *\n",
    "\n",
    "digits='0123456789'\n",
    "lowercase_letters= 'abcdefghijklmnopqrstuvwxyz'\n",
    "uppercase_letters = 'ABCDEFGHIJKLMNOPQRSTUVWXYZ'\n",
    "punctuation = '!#$%&*+-=?@^_'\n",
    "junks= 'il1Lo0O'\n",
    "chars = ''\n",
    "\n",
    "def is_valid_answer(ans):\n",
    "    if ans.lower().strip()!= 'да' or ans.lower().strip()!= 'нет': return False\n",
    "    else: return True\n",
    "\n",
    "\n",
    "print('Сколько паролей сгенерировать?')\n",
    "n= int(input())\n",
    "print(n, '\\n')\n",
    "\n",
    "print('Какой длины должен быть пароль? ' )\n",
    "l=int(input())\n",
    "print(l, '\\n')\n",
    "\n",
    "print('Включать ли цифры 0123456789?')\n",
    "dig=input()\n",
    "print(dig, '\\n')\n",
    "\n",
    "print('Включать ли прописные буквы ABCDEFGHIJKLMNOPQRSTUVWXYZ?')\n",
    "up=input()\n",
    "print(up, '\\n')\n",
    "\n",
    "print('Включать ли строчные буквы abcdefghijklmnopqrstuvwxyz?')\n",
    "low=input()\n",
    "print(low, '\\n')\n",
    "\n",
    "print('Включать ли символы !#$%&*+-=?@^_?')\n",
    "char=input()\n",
    "print(char, '\\n')\n",
    "\n",
    "print('Исключать ли неоднозначные символы il1Lo0O?')\n",
    "junk=input()\n",
    "print(junk, '\\n')\n",
    "\n",
    "if dig=='да': chars+=digits\n",
    "if up=='да': chars+=uppercase_letters\n",
    "if low== 'да': chars+=lowercase_letters\n",
    "if char== 'да': chars+=punctuation\n",
    "\n",
    "if junk== 'да': \n",
    "    txt=''\n",
    "    for i in range(len(chars)):\n",
    "        if chars[i] not in junks: txt+=chars[i]\n",
    "chars=txt\n",
    "\n",
    "def generate_password(length, chars):\n",
    "    return (sample(chars,length))\n",
    "\n",
    "for _ in range(n):\n",
    "    print(*generate_password(l,chars), sep='')\n",
    "\n"
   ]
  },
  {
   "cell_type": "code",
   "execution_count": 66,
   "metadata": {},
   "outputs": [
    {
     "name": "stdout",
     "output_type": "stream",
     "text": [
      "Блажен, кто верует, тепло ему на свете!\n",
      "Лхкрпч, фьш мпъэпь, ьпщхш пцэ чк ымпьп!\n"
     ]
    }
   ],
   "source": [
    "# Шифр цезаря со сдвигом на 10\n",
    "\n",
    "s=\"Блажен, кто верует, тепло ему на свете!\"\n",
    "s1=s.lower()\n",
    "spis_old=list(s)\n",
    "spis=list(s1)\n",
    "\n",
    "\n",
    "\n",
    "for i in range(len(spis)):\n",
    "    if spis[i].isalpha():\n",
    "        if ord(spis[i])<=ord('я')-10 : \n",
    "            spis[i]= chr(ord(spis[i])+10)\n",
    "            #spis[i]= spis1.append(chr(ord(spis[i])+10))\n",
    "        else: spis[i]= chr(ord(spis[i])+10-32)\n",
    "    \n",
    "for i in range(len(spis)): \n",
    "    if spis_old[i].isupper(): spis[i]=spis[i].upper()\n",
    "\n",
    "print(s)\n",
    "print(*spis, sep='')"
   ]
  },
  {
   "cell_type": "code",
   "execution_count": 57,
   "metadata": {},
   "outputs": [
    {
     "name": "stdout",
     "output_type": "stream",
     "text": [
      "Kf sv, fi efk kf sv, kyrk zj kyv hlvjkzfe!\n"
     ]
    }
   ],
   "source": [
    "# функция, которая проверяет язык и шифрует текст Шифром Цезаря\n",
    "\n",
    "def cezar_code(string,rot):\n",
    "    s1=string.lower()\n",
    "    spis_old=list(string)\n",
    "    spis=list(s1)\n",
    "\n",
    "    for i in range(len(spis)):\n",
    "        if spis[i].isalpha():\n",
    "            if ord('a') <= ord(spis[i]) <= ord('z'):\n",
    "                if ord(spis[i])<=ord('z')-rot : spis[i]= chr(ord(spis[i])+rot)\n",
    "                else: spis[i]= chr(ord(spis[i])+rot-26)\n",
    "            elif ord('а') <= ord(spis[i]) <= ord('я'):\n",
    "                if ord(spis[i])<=ord('я')-rot : spis[i]= chr(ord(spis[i])+rot)\n",
    "                else: spis[i]= chr(ord(spis[i])+rot-32)\n",
    "    \n",
    "    for i in range(len(spis)): \n",
    "        if spis_old[i].isupper(): spis[i]=spis[i].upper()\n",
    "    return spis\n",
    "\n",
    "s=input()\n",
    "rot=int(input())\n",
    "\n",
    "print(*(cezar_code(s,rot)), sep='')"
   ]
  },
  {
   "cell_type": "code",
   "execution_count": 17,
   "metadata": {},
   "outputs": [
    {
     "name": "stdout",
     "output_type": "stream",
     "text": [
      "Learn to walk before you run.\n"
     ]
    }
   ],
   "source": [
    "# дешифровщик Цезаря\n",
    "\n",
    "def cezar_code(string,rot):\n",
    "    s1=string.lower()\n",
    "    spis_old=list(string)\n",
    "    spis=list(s1)\n",
    "\n",
    "    for i in range(len(spis)):\n",
    "        if spis[i].isalpha():\n",
    "            if ord('a') <= ord(spis[i]) <= ord('z'):\n",
    "                if ord(spis[i])>=ord('a')+rot : spis[i]= chr(ord(spis[i])-rot)\n",
    "                else: spis[i]= chr(ord(spis[i])-rot+26)\n",
    "            elif ord('а') <= ord(spis[i]) <= ord('я'):\n",
    "                if ord(spis[i])>=ord('а')+rot : spis[i]= chr(ord(spis[i])-rot)\n",
    "                else: spis[i]= chr(ord(spis[i])-rot+32)\n",
    "    \n",
    "    for i in range(len(spis)): \n",
    "        if spis_old[i].isupper(): spis[i]=spis[i].upper()\n",
    "    return spis\n",
    "\n",
    "s=input(\"введите заданную строку\")\n",
    "rot=int(input('введите размер сдвига вправо'))\n",
    "\n",
    "print(*(cezar_code(s,rot)), sep='')"
   ]
  },
  {
   "cell_type": "code",
   "execution_count": 38,
   "metadata": {},
   "outputs": [
    {
     "name": "stdout",
     "output_type": "stream",
     "text": [
      "Лхкрпч, фьш мпъэпь, ьпщхш пцэ чк ымпьп!\n"
     ]
    }
   ],
   "source": [
    "# функция, которая проверяет язык и шифрует текст Шифром Цезаря. \n",
    "# Каждое слово шифруется сдвигом на количество шагов равное длине слова\n",
    "\n",
    "def cezar_code(string,rot):\n",
    "\n",
    "    #блок преобразования строки для работы с ней при шифровании\n",
    "    s1=string.lower()\n",
    "    spis_old=list(string)\n",
    "    spis=list(s1)\n",
    "\n",
    "\n",
    "    # блок шифрования\n",
    "    for i in range(len(spis)):\n",
    "        if spis[i].isalpha():\n",
    "            if ord('a') <= ord(spis[i]) <= ord('z'):\n",
    "                if ord(spis[i])<=ord('z')-rot : spis[i]= chr(ord(spis[i])+rot)\n",
    "                else: spis[i]= chr(ord(spis[i])+rot-26)\n",
    "            elif ord('а') <= ord(spis[i]) <= ord('я'):\n",
    "                if ord(spis[i])<=ord('я')-rot : spis[i]= chr(ord(spis[i])+rot)\n",
    "                else: spis[i]= chr(ord(spis[i])+rot-32)\n",
    "    \n",
    "    for i in range(len(spis)): \n",
    "        if spis_old[i].isupper(): spis[i]=spis[i].upper()\n",
    "    return ''.join(spis)\n",
    "\n",
    "s=input()\n",
    "rot = int(input())\n",
    "\n",
    "print((cezar_code(s,rot)))"
   ]
  },
  {
   "cell_type": "code",
   "execution_count": 26,
   "metadata": {},
   "outputs": [
    {
     "name": "stdout",
     "output_type": "stream",
     "text": [
      "Day, mice. \"Year\" is a mistake!\n",
      "['Day,', 'mice.', '\"Year\"', 'is', 'a', 'mistake!']\n",
      "['Day', 'mice', 'YearYear', '', '', 'mistake']\n"
     ]
    }
   ],
   "source": [
    "s=input()\n",
    "temp=[''.join([i.replace(j,'') for j in i if j.isalpha()==False]) for i in s.split()]\n",
    "\n",
    "print(s)\n",
    "print(s.split())\n",
    "print(temp)"
   ]
  },
  {
   "cell_type": "code",
   "execution_count": 65,
   "metadata": {},
   "outputs": [
    {
     "name": "stdout",
     "output_type": "stream",
     "text": [
      "[2, 4, 2, 6]\n",
      "oa reqi ku Veznut!\n"
     ]
    }
   ],
   "source": [
    "\n",
    "# блок функции дешифровщика\n",
    "def cezar_code(string,rot):\n",
    "\n",
    "    #подблок преобразования строки для работы с ней при шифровании\n",
    "    s1=string.lower()\n",
    "    spis_old=list(string)\n",
    "    spis=list(s1)\n",
    "\n",
    "\n",
    "    # подблок шифрования\n",
    "    for i in range(len(spis)):\n",
    "        if spis[i].isalpha():\n",
    "            if ord('a') <= ord(spis[i]) <= ord('z'):\n",
    "                if ord(spis[i])<=ord('z')-rot : spis[i]= chr(ord(spis[i])+rot)\n",
    "                else: spis[i]= chr(ord(spis[i])+rot-26)\n",
    "            elif ord('а') <= ord(spis[i]) <= ord('я'):\n",
    "                if ord(spis[i])<=ord('я')-rot : spis[i]= chr(ord(spis[i])+rot)\n",
    "                else: spis[i]= chr(ord(spis[i])+rot-32)\n",
    "    # здесь возвращаем нужный регистр списку, который совпадает с регистром изначальной строки\n",
    "    for i in range(len(spis)): \n",
    "        if spis_old[i].isupper(): spis[i]=spis[i].upper()\n",
    "    return ''.join(spis)\n",
    "\n",
    "#Основной код \n",
    "s=input()\n",
    "vrem= s.split()\n",
    "len_temp= [len(''.join([j for j in i if j.isalpha()])) for i in s.split()]\n",
    "# по шагам : \n",
    "# 1) внутри списка присоединяем к пустой строке ''.join() элементы j в каждом элементе i (строки) при условии, \n",
    "# что элемент j - это буква. (так избавляемся от лишних символов)\n",
    "# 2) При этом элементы i находятся в списке s.split(), созданный из строки s с исключенными пробелами. \n",
    "# 3) Берем длину каждого полученного элемента\n",
    "# Проще говоря, мы разорвали строку на слова, разделенные пробелами, и из этих слов удалили все, \n",
    "# что не является буквами, померили их длину и записали в список\n",
    "\n",
    "# блок замены КАЖДОЙ буквы в каждом слове исходного списка при условии, что это именно буква (а не другой символ)\n",
    "spis_itog=[]\n",
    "\n",
    "for i in range(len(vrem)):\n",
    "    string_itog=''\n",
    "    for j in range(len(vrem[i])):\n",
    "        if vrem[i][j].isalpha():  # если символ - это буква :\n",
    "            string_itog+= cezar_code(vrem[i][j], len_temp[i]) #присвоили новое значение букве, записали в новую строку\n",
    "        else: string_itog+=(vrem[i][j]) # если не буква - то просто записали в строку текущий символ\n",
    "    spis_itog.append(string_itog) # записали новую строку в список\n",
    "\n",
    "\n",
    "\n",
    "\n",
    "# print(s) \n",
    "# выводим результат\n",
    "#print(len_temp)\n",
    "print(*spis_itog)\n",
    "\n"
   ]
  },
  {
   "cell_type": "code",
   "execution_count": 56,
   "metadata": {},
   "outputs": [
    {
     "name": "stdout",
     "output_type": "stream",
     "text": [
      "reqi\n"
     ]
    }
   ],
   "source": [
    "def cezar_code(string,rot):\n",
    "\n",
    "    #подблок преобразования строки для работы с ней при шифровании\n",
    "    s1=string.lower()\n",
    "    spis_old=list(string)\n",
    "    spis=list(s1)\n",
    "\n",
    "\n",
    "    # подблок шифрования\n",
    "    for i in range(len(spis)):\n",
    "        if spis[i].isalpha():\n",
    "            if ord('a') <= ord(spis[i]) <= ord('z'):\n",
    "                if ord(spis[i])<=ord('z')-rot : spis[i]= chr(ord(spis[i])+rot)\n",
    "                else: spis[i]= chr(ord(spis[i])+rot-26)\n",
    "            elif ord('а') <= ord(spis[i]) <= ord('я'):\n",
    "                if ord(spis[i])<=ord('я')-rot : spis[i]= chr(ord(spis[i])+rot)\n",
    "                else: spis[i]= chr(ord(spis[i])+rot-32)\n",
    "    # здесь возвращаем нужный регистр списку, который совпадает с регистром изначальной строки\n",
    "    for i in range(len(spis)): \n",
    "        if spis_old[i].isupper(): spis[i]=spis[i].upper()\n",
    "    return ''.join(spis)\n",
    "\n",
    "\n",
    "print(cezar_code('name', 4))"
   ]
  },
  {
   "cell_type": "code",
   "execution_count": 66,
   "metadata": {},
   "outputs": [
    {
     "name": "stdout",
     "output_type": "stream",
     "text": [
      "63\n"
     ]
    }
   ],
   "source": [
    "spis=[2**i for i in range(6)]\n",
    "print(sum(spis))"
   ]
  },
  {
   "cell_type": "code",
   "execution_count": 67,
   "metadata": {},
   "outputs": [
    {
     "name": "stdout",
     "output_type": "stream",
     "text": [
      "6898\n"
     ]
    }
   ],
   "source": [
    "    \n",
    "print(1*16**3+10*16**2+15*16+2)\n"
   ]
  },
  {
   "cell_type": "code",
   "execution_count": 169,
   "metadata": {},
   "outputs": [
    {
     "name": "stdout",
     "output_type": "stream",
     "text": [
      "23\n"
     ]
    }
   ],
   "source": [
    "# функция перевода из десятиричной системы в любую другую систему\n",
    "\n",
    "def num_change(number,system):\n",
    "    new_number=[]\n",
    "    alphabet=[chr(i) for i in range(ord('A'), ord('Z')+1)] # создаем список алфавита, из которого будем брать буквы\n",
    "    numbers=[i for i in range(10,10+(ord('Z')+1-ord('A')))] # создаем идентичный список чисел >10, которые будем сопоставлять с буквами\n",
    "    while number >= system: # пока заданное число больше основания\n",
    "        x=number%system  # берем остаток от деления числа на основание\n",
    "        new_number.append(x) # записываем его в список\n",
    "        number//=system # меняем число на число, полученно в результате целочисленного деления, повторяем цикл\n",
    "    new_number.append(number) # как только число станет меньше основания, цикл завершится. запишем в список последнее частное от целочисленного деления\n",
    "    new_number=new_number[-1::-1] # развернем список от конца к началу\n",
    "    result=[i if i<10 else alphabet[numbers.index(i)]  for i in new_number] # вот тут самое интересное: \n",
    "    # в итоговый результат записываем только числа, который меньше 10. для чисел >=10 - меняем их на сопоставимые \n",
    "    # из списка numbers[] c учетом соответствия их в списке alphabet (используем равенство индексов в обоих списках)\n",
    "    return ''.join([str(i) for i in result])  #возвращаем строку для красивого результата \n",
    "\n",
    "# основной блок кода\n",
    "num=int(input('введите число'))\n",
    "sys=int(input('куда перевести?'))\n",
    "\n",
    "print(num_change(num,sys))\n"
   ]
  },
  {
   "cell_type": "code",
   "execution_count": 85,
   "metadata": {},
   "outputs": [
    {
     "name": "stdout",
     "output_type": "stream",
     "text": [
      "0b1111101 0o175 0x7d\n",
      "1111101 175 7D\n"
     ]
    }
   ],
   "source": [
    "# вместо этого лучше пользоваться встроенными функциями \n",
    "# bin() - двоичная , \n",
    "# oct() - восьмеричная,\n",
    "#  hex() - шестнадцатиричная\n",
    "\n",
    "x=125\n",
    "print(bin(x), oct(x), hex(x)) # выведет строки с переведенными числами с приставкой '0b'/'0o'/'0x'\n",
    "# избавимся от приставок:\n",
    "\n",
    "print(bin(x)[2:], oct(x)[2:], hex(x)[2:].upper())"
   ]
  },
  {
   "cell_type": "code",
   "execution_count": 119,
   "metadata": {},
   "outputs": [
    {
     "name": "stdout",
     "output_type": "stream",
     "text": [
      "11001\n",
      "25\n",
      "11001\n"
     ]
    }
   ],
   "source": [
    "# перевести в двоичную систему и обратно\n",
    "\n",
    "binary=input()\n",
    "print(binary)\n",
    "print(int(binary,2))\n",
    "print(bin(int(binary,2))[2:])"
   ]
  },
  {
   "cell_type": "code",
   "execution_count": 88,
   "metadata": {},
   "outputs": [
    {
     "name": "stdout",
     "output_type": "stream",
     "text": [
      "Давайте играть в угадайку слов!\n",
      "\n",
      "                   --------\n",
      "                   |      |\n",
      "                   |      \n",
      "                   |    \n",
      "                   |      \n",
      "                   |     \n",
      "                   -\n",
      "                \n",
      "_ _ _ _ _ _ _ _ \n",
      "Угадали букву\n",
      "_ А _ _ _ _ _ _ \n",
      "Не верно, осталось попыток 5\n",
      "\n",
      "                   --------\n",
      "                   |      |\n",
      "                   |      O\n",
      "                   |    \n",
      "                   |      \n",
      "                   |     \n",
      "                   -\n",
      "                \n",
      "_ А _ _ _ _ _ _ \n",
      "Не верно, осталось попыток 4\n",
      "\n",
      "                   --------\n",
      "                   |      |\n",
      "                   |      O\n",
      "                   |      |\n",
      "                   |      |\n",
      "                   |     \n",
      "                   -\n",
      "                \n",
      "_ А _ _ _ _ _ _ \n",
      "Уже было\n",
      "Не верно, осталось попыток 3\n",
      "\n",
      "                   --------\n",
      "                   |      |\n",
      "                   |      O\n",
      "                   |     \\|\n",
      "                   |      |\n",
      "                   |     \n",
      "                   -\n",
      "                \n",
      "_ А _ _ _ _ _ _ \n",
      "Уже было\n",
      "Уже было\n",
      "Угадали букву\n",
      "_ А _ _ _ _ И _ \n",
      "Угадали букву\n",
      "_ А _ _ _ _ И К \n",
      "Угадали букву\n",
      "_ А _ _ _ Н И К \n",
      "Уже было\n",
      "Уже было\n",
      "Уже было\n",
      "Уже было\n",
      "Угадали букву\n",
      "_ А _ Я _ Н И К \n",
      "Не верно, осталось попыток 2\n",
      "\n",
      "                   --------\n",
      "                   |      |\n",
      "                   |      O\n",
      "                   |     \\|/\n",
      "                   |      |\n",
      "                   |      \n",
      "                   -\n",
      "                \n",
      "_ А _ Я _ Н И К \n",
      "Уже было\n",
      "Не верно, осталось попыток 1\n",
      "\n",
      "                   --------\n",
      "                   |      |\n",
      "                   |      O\n",
      "                   |     \\|/\n",
      "                   |      |\n",
      "                   |     / \n",
      "                   -\n",
      "                \n",
      "_ А _ Я _ Н И К \n",
      "Не верно, осталось попыток 0\n",
      "\n",
      "                   --------\n",
      "                   |      |\n",
      "                   |      O\n",
      "                   |     \\|/\n",
      "                   |      |\n",
      "                   |     / \\\n",
      "                   -\n",
      "                \n",
      "_ А _ Я _ Н И К \n",
      "Вы не смогли угадать слово: ПАМЯТНИК\n"
     ]
    }
   ],
   "source": [
    "# угадайка слов (Виселица, висельник Hangman)\n",
    "\n",
    "from random import *\n",
    "\n",
    "word_list = ['год', 'человек', 'время', 'дело', 'жизнь', 'день', 'рука', 'раз', 'работа', 'слово', 'место', 'лицо',\n",
    "            'друг', 'глаз', 'вопрос', 'дом', 'сторона', 'страна', 'мир', 'случай', 'голова', 'ребенок', 'сила', 'конец',\n",
    "            'вид', 'система', 'часть', 'город', 'отношение', 'женщина', 'деньги', 'земля', 'машина', 'вода', 'отец',\n",
    "            'проблема', 'час', 'право', 'нога', 'решение', 'дверь', 'образ', 'история', 'власть', 'закон', 'война',\n",
    "            'бог', 'голос', 'тысяча', 'книга', 'возможность', 'результат', 'ночь', 'стол', 'имя', 'область', 'статья',\n",
    "            'число', 'компания', 'народ', 'жена', 'группа', 'развитие', 'процесс', 'суд', 'условие', 'средство',\n",
    "            'начало', 'свет', 'пора', 'путь', 'душа', 'уровень', 'форма', 'связь', 'минута', 'улица', 'вечер',\n",
    "            'качество', 'мысль', 'дорога', 'мать', 'действие', 'месяц', 'государство', 'язык', 'любовь', 'взгляд',\n",
    "            'мама', 'век', 'школа', 'цель', 'общество', 'деятельность', 'организация', 'президент', 'комната',\n",
    "            'порядок', 'момент', 'театр', 'письмо', 'утро', 'помощь', 'ситуация', 'роль', 'рубль', 'смысл', 'состояние',\n",
    "            'квартира', 'орган', 'внимание', 'тело', 'труд', 'сын', 'мера', 'смерть', 'рынок', 'программа', 'задача',\n",
    "            'предприятие', 'окно', 'разговор', 'правительство', 'семья', 'производство', 'информация', 'положение',\n",
    "            'центр', 'ответ', 'муж', 'автор', 'стена', 'интерес', 'федерация', 'правило', 'управление', 'мужчина',\n",
    "            'идея', 'партия', 'совет', 'счет', 'сердце', 'движение', 'вещь', 'материал', 'неделя', 'чувство', 'глава',\n",
    "            'наука', 'ряд', 'газета', 'причина', 'плечо', 'цена', 'план', 'речь', 'точка', 'основа', 'товарищ',\n",
    "            'культура', 'данные', 'мнение', 'документ', 'институт', 'ход', 'проект', 'встреча', 'директор', 'срок',\n",
    "            'палец', 'опыт', 'служба', 'судьба', 'девушка', 'очередь', 'лес', 'состав', 'член', 'количество', 'событие',\n",
    "            'объект', 'зал', 'создание', 'значение', 'период', 'шаг', 'брат', 'искусство', 'структура', 'номер',\n",
    "            'пример', 'исследование', 'гражданин', 'игра', 'начальник', 'рост', 'тема', 'принцип', 'метод', 'тип',\n",
    "            'фильм', 'край', 'гость', 'воздух', 'характер', 'борьба', 'использование', 'размер', 'образование',\n",
    "            'мальчик', 'кровь', 'район', 'небо', 'армия', 'класс', 'представитель', 'участие', 'девочка', 'политика',\n",
    "            'герой', 'картина', 'доллар', 'спина', 'территория', 'пол', 'поле', 'изменение', 'направление', 'рисунок',\n",
    "            'течение', 'церковь', 'банк', 'сцена', 'население', 'большинство', 'музыка', 'правда', 'свобода', 'память',\n",
    "            'команда', 'союз', 'врач', 'договор', 'дерево', 'факт', 'хозяин', 'природа', 'угол', 'телефон', 'позиция',\n",
    "            'двор', 'писатель', 'самолет', 'объем', 'род', 'солнце', 'вера', 'берег', 'спектакль', 'фирма', 'способ',\n",
    "            'завод', 'цвет', 'журнал', 'руководитель', 'специалист', 'оценка', 'регион', 'песня', 'процент', 'родитель',\n",
    "            'море', 'требование', 'основание', 'половина', 'роман', 'круг', 'анализ', 'стихи', 'автомобиль',\n",
    "            'экономика', 'литература', 'бумага', 'поэт', 'степень', 'господин', 'надежда', 'предмет', 'вариант',\n",
    "            'министр', 'граница', 'дух', 'модель', 'операция', 'пара', 'сон', 'название', 'ум', 'повод', 'старик',\n",
    "            'миллион', 'успех', 'счастье', 'ребята', 'кабинет', 'магазин', 'пространство', 'выход', 'удар', 'база',\n",
    "            'знание', 'текст', 'защита', 'руководство', 'площадь', 'сознание', 'возраст', 'участник', 'участок',\n",
    "            'пункт', 'линия', 'желание', 'папа', 'доктор', 'губа', 'дочь', 'среда', 'председатель', 'представление',\n",
    "            'солдат', 'художник', 'волос', 'оружие', 'соответствие', 'ветер', 'парень', 'зрение', 'генерал', 'огонь',\n",
    "            'понятие', 'строительство', 'ухо', 'грудь', 'нос', 'страх', 'услуга', 'содержание', 'радость',\n",
    "            'безопасность', 'продукт', 'комплекс', 'бизнес', 'сад', 'сотрудник', 'лето', 'курс', 'предложение', 'рот',\n",
    "            'технология', 'реформа', 'отсутствие', 'собака', 'камень', 'будущее', 'рассказ', 'контроль', 'река',\n",
    "            'продукция', 'сумма', 'техника', 'здание', 'сфера', 'необходимость', 'фонд', 'подготовка', 'лист',\n",
    "            'республика', 'хозяйство', 'воля', 'бюджет', 'снег', 'деревня', 'мужик', 'элемент', 'обстоятельство',\n",
    "            'немец', 'победа', 'источник', 'звезда', 'выбор', 'масса', 'итог', 'сестра', 'практика', 'проведение',\n",
    "            'карман', 'слава', 'кухня', 'определение', 'функция', 'войско', 'комиссия', 'применение', 'капитан',\n",
    "            'работник', 'обеспечение', 'офицер', 'фамилия', 'предел', 'выборы', 'ученый', 'бутылка', 'бой', 'теория',\n",
    "            'зона', 'отдел', 'зуб', 'разработка', 'личность', 'гора', 'товар', 'метр', 'праздник', 'влияние',\n",
    "            'читатель', 'удовольствие', 'актер', 'слеза', 'ответственность', 'учитель', 'акт', 'боль', 'множество',\n",
    "            'особенность', 'показатель', 'корабль', 'звук', 'впечатление', 'частность', 'детство', 'вывод', 'профессор',\n",
    "            'доля', 'норма', 'прошлое', 'командир', 'коридор', 'поддержка', 'рамка', 'враг', 'этап', 'черт', 'дед',\n",
    "            'собрание', 'прием', 'болезнь', 'клетка', 'кожа', 'заявление', 'попытка', 'сравнение', 'расчет', 'депутат',\n",
    "            'комитет', 'знак', 'дядя', 'учет', 'хлеб', 'чай', 'режим', 'целое', 'вирус', 'выражение', 'здоровье',\n",
    "            'зима', 'десяток', 'глубина', 'сеть', 'студент', 'секунда', 'скорость', 'поиск', 'суть', 'налог', 'ошибка',\n",
    "            'доход', 'режиссер', 'поверхность', 'ощущение', 'карта', 'клуб', 'станция', 'революция', 'колено',\n",
    "            'министерство', 'стекло', 'этаж', 'высота', 'бабушка', 'трубка', 'газ', 'мастер', 'поведение', 'столица',\n",
    "            'механизм', 'передача', 'способность', 'подход', 'энергия', 'существование', 'исполнение', 'кино',\n",
    "            'сожаление', 'заместитель', 'ресурс', 'акция', 'рождение', 'администрация', 'стоимость', 'улыбка', 'артист',\n",
    "            'сосед', 'фраза', 'фигура', 'субъект', 'реакция', 'список', 'фотография', 'журналист', 'май', 'нарушение',\n",
    "            'заседание', 'толпа', 'больница', 'существо', 'свойство', 'долг', 'поколение', 'животное', 'схема',\n",
    "            'усилие', 'отличие', 'остров', 'противник', 'волна', 'реализация', 'страница', 'формирование', 'житель',\n",
    "            'красота', 'птица', 'растение', 'тень', 'явление', 'храм', 'запах', 'водка', 'наличие', 'ужас', 'одежда',\n",
    "            'кресло', 'больной', 'поезд', 'университет', 'традиция', 'адрес', 'декабрь', 'ладонь', 'сведение', 'цветок',\n",
    "            'лидер', 'октябрь', 'занятие', 'сентябрь', 'помещение', 'январь', 'зритель', 'редакция', 'стиль', 'весна',\n",
    "            'фактор', 'август', 'известие', 'зависимость', 'охрана', 'оборудование', 'концерт', 'отделение', 'расход',\n",
    "            'выставка', 'милиция', 'переход', 'эпоха', 'запад', 'произведение', 'родина', 'собственность', 'тайна',\n",
    "            'трава', 'лагерь', 'имущество', 'кровать', 'аппарат', 'середина', 'март', 'клиент', 'дама', 'фронт',\n",
    "            'отрасль', 'стул', 'беседа', 'законодательство', 'продажа', 'повышение', 'музей', 'след', 'полковник',\n",
    "            'сомнение', 'понимание', 'апрель', 'князь', 'рыба', 'дума', 'кодекс', 'сутки', 'чудо', 'шея', 'судья',\n",
    "            'крыша', 'настроение', 'поток', 'должность', 'преступление', 'мозг', 'честь', 'пост', 'еврей', 'июнь',\n",
    "            'сотня', 'дождь', 'лестница', 'дача', 'установка', 'появление', 'получение', 'образец', 'труба', 'главное',\n",
    "            'осень', 'костюм', 'баба', 'ценность', 'обязанность', 'пьеса', 'таблица', 'вино', 'воспоминание', 'лошадь',\n",
    "            'коллега', 'организм', 'ученик', 'учреждение', 'открытие', 'том', 'черта', 'характеристика', 'выполнение',\n",
    "            'оборона', 'выступление', 'температура', 'перспектива', 'подруга', 'приказ', 'жертва', 'ресторан',\n",
    "            'километр', 'спор', 'вкус', 'признак', 'промышленность', 'американец', 'лоб', 'заключение', 'восток',\n",
    "            'исключение', 'ключ', 'постановление', 'слой', 'бок', 'июль', 'перевод', 'секретарь', 'кусок', 'слух',\n",
    "            'польза', 'звонок', 'обстановка', 'чиновник', 'соглашение', 'деталь', 'русский', 'тишина', 'зарплата',\n",
    "            'билет', 'подарок', 'тюрьма', 'ящик', 'конкурс', 'книжка', 'изучение', 'просьба', 'царь', 'публика', 'смех',\n",
    "            'сообщение', 'угроза', 'беда', 'блок', 'достижение', 'назначение', 'реклама', 'портрет', 'масло', 'стакан',\n",
    "            'урок', 'часы', 'крик', 'творчество', 'телевизор', 'инструмент', 'концепция', 'лейтенант', 'экран', 'дно',\n",
    "            'реальность', 'канал', 'мясо', 'знакомый', 'щека', 'конфликт', 'переговоры', 'запись', 'вагон', 'площадка',\n",
    "            'последствие', 'сотрудничество', 'зеркало', 'тон', 'академия', 'палата', 'потребность', 'ноябрь',\n",
    "            'увеличение', 'дурак', 'поездка', 'обед', 'потеря', 'февраль', 'мероприятие', 'парк', 'принятие',\n",
    "            'устройство', 'вещество', 'категория', 'сезон', 'гостиница', 'издание', 'объединение', 'темнота',\n",
    "            'человечество', 'колесо', 'опасность', 'разрешение', 'воздействие', 'коллектив', 'камера', 'запас',\n",
    "            'следствие', 'длина', 'крыло', 'округ', 'фон', 'кандидат', 'родственник', 'давление', 'присутствие',\n",
    "            'взаимодействие', 'доска', 'партнер', 'двигатель', 'шум', 'достоинство', 'грех', 'нож', 'полет', 'страсть',\n",
    "            'испытание', 'истина', 'оплата', 'разница', 'водитель', 'пакет', 'снижение', 'формула', 'живот', 'капитал',\n",
    "            'мост', 'новость', 'эффект', 'вход', 'губернатор', 'доклад', 'смена', 'убийство', 'эксперт', 'автобус',\n",
    "            'платье', 'кадр', 'тетя', 'общение', 'психология', 'лев', 'порог', 'проверка', 'процедура', 'рабочий',\n",
    "            'ремонт', 'обращение', 'обучение', 'ожидание', 'памятник', 'корень', 'наблюдение', 'буква',\n",
    "            'доказательство', 'признание', 'постель', 'штаб', 'владелец', 'компьютер', 'инженер', 'старуха', 'лодка',\n",
    "            'ракета', 'серия', 'шутка', 'вершина', 'выпуск', 'кулак', 'лед', 'торговля', 'нефть', 'молодежь', 'цифра',\n",
    "            'корпус', 'недостаток', 'сапог', 'сущность', 'талант', 'эффективность', 'кофе', 'полоса', 'основное',\n",
    "            'рассмотрение', 'сбор', 'штат', 'следователь', 'жилье', 'мешок', 'описание', 'куст', 'отказ', 'замок',\n",
    "            'редактор', 'дворец', 'забота', 'пиво', 'диван', 'столик', 'эксперимент', 'печать', 'кольцо', 'пистолет',\n",
    "            'воспитание', 'начальство', 'профессия', 'ворота', 'добро', 'дружба', 'покой', 'риск', 'окончание', 'дым',\n",
    "            'брак', 'величина', 'записка', 'инициатива', 'совесть', 'активность', 'кость', 'спорт', 'кредит', 'господь',\n",
    "            'майор', 'конференция', 'потолок', 'библиотека', 'помощник', 'конструкция', 'отдых', 'ручка', 'металл',\n",
    "            'молоко', 'прокурор', 'транспорт', 'поэзия', 'соединение', 'краска', 'расстояние', 'мечта', 'село', 'еда',\n",
    "            'зло', 'подразделение', 'сюжет', 'рубеж', 'сигнал', 'атмосфера', 'крест', 'вес', 'взрыв', 'контакт',\n",
    "            'сигарета', 'восторг', 'золото', 'почва', 'премия', 'король', 'подъезд', 'шанс', 'автомат', 'заказ',\n",
    "            'мальчишка', 'очки', 'миг', 'штука', 'чтение', 'поселок', 'свидетель', 'ставка', 'сумка', 'удивление',\n",
    "            'хвост', 'песок', 'поворот', 'возвращение', 'мгновение', 'статус', 'озеро', 'строй', 'параметр', 'сказка',\n",
    "            'тенденция', 'вина', 'дыхание', 'версия', 'масштаб', 'монастырь', 'хозяйка', 'дочка', 'танец',\n",
    "            'эксплуатация', 'коммунист', 'пенсия', 'приятель', 'объяснение', 'набор', 'производитель', 'пыль',\n",
    "            'философия', 'мощность', 'обязательство', 'уход', 'горло', 'кризис', 'указание', 'плата', 'яблоко',\n",
    "            'препарат', 'действительность', 'москвич', 'остаток', 'изображение', 'сделка', 'сочинение',\n",
    "            'покупатель', 'танк', 'затрата', 'строка', 'единица']\n",
    "\n",
    "def get_word():\n",
    "    return choice(word_list)\n",
    "\n",
    "def print_word(word_, list_):\n",
    "    for c in word_:\n",
    "        if c in list_:\n",
    "            print(c, end=' ')\n",
    "        else:\n",
    "            print('_', end=' ')\n",
    "    print()\n",
    "    \n",
    "\n",
    "def play(word):\n",
    "    # тело функции\n",
    "    word_completion = '_ ' * len(word)  # строка, содержащая символы _ на каждую букву задуманного слова\n",
    "    guessed = False                    # сигнальная метка\n",
    "    guessed_letters = []               # список уже названных букв\n",
    "    guessed_words = []                 # список уже названных слов\n",
    "    tries = 6                          # количество попыток\n",
    "    print('Давайте играть в угадайку слов!')\n",
    "    # print(word)\n",
    "    print(display_hangman(tries))\n",
    "    print(word_completion)\n",
    "    while True:\n",
    "        word_input = input('Введите букву или слово: ').upper()\n",
    "        # print(word_input)\n",
    "        if not word_input.isalpha():\n",
    "            print('Вы ошиблись, попробуйте ещё')\n",
    "            continue\n",
    "        if word_input in guessed_words or word_input in guessed_letters:\n",
    "            print('Уже было')\n",
    "            continue\n",
    "        if len(word_input) > 1:\n",
    "            if word_input == word:\n",
    "                print('Поздравляем, вы угадали слово! Вы победили!')\n",
    "                break\n",
    "            else:\n",
    "                guessed_words.append(word_input)\n",
    "                tries -= 1\n",
    "                print(f'Не верно, осталось попыток {tries}')\n",
    "                print(display_hangman(tries))\n",
    "                print_word(word, guessed_letters)\n",
    "                if tries == 0:\n",
    "                    print(f'Вы не смогли угадать слово: {word}')\n",
    "                    break\n",
    "                continue\n",
    "\n",
    "\n",
    "\n",
    "        if word_input in word:\n",
    "            guessed_letters.append(word_input)\n",
    "            for c in word:\n",
    "                if c not in guessed_letters:\n",
    "                    print('Угадали букву')\n",
    "                    print_word(word, guessed_letters)\n",
    "                    guessed = False\n",
    "                    break\n",
    "                guessed = True\n",
    "            if guessed:    \n",
    "                print_word(word, guessed_letters)\n",
    "                print('Поздравляем, вы угадали слово! Вы победили!')\n",
    "                break\n",
    "        else:\n",
    "            guessed_letters.append(word_input)\n",
    "            tries -= 1\n",
    "            print(f'Не верно, осталось попыток {tries}')\n",
    "            print(display_hangman(tries))\n",
    "            print_word(word, guessed_letters)\n",
    "        if tries == 0:\n",
    "            print(f'Вы не смогли угадать слово: {word}')\n",
    "            break\n",
    "            \n",
    "    \n",
    "# функция получения текущего состояния\n",
    "def display_hangman(tries):\n",
    "    stages = [  # финальное состояние: голова, торс, обе руки, обе ноги\n",
    "                '''\n",
    "                   --------\n",
    "                   |      |\n",
    "                   |      O\n",
    "                   |     \\\\|/\n",
    "                   |      |\n",
    "                   |     / \\\\\n",
    "                   -\n",
    "                ''',\n",
    "                # голова, торс, обе руки, одна нога\n",
    "                '''\n",
    "                   --------\n",
    "                   |      |\n",
    "                   |      O\n",
    "                   |     \\\\|/\n",
    "                   |      |\n",
    "                   |     / \n",
    "                   -\n",
    "                ''',\n",
    "                # голова, торс, обе руки\n",
    "                '''\n",
    "                   --------\n",
    "                   |      |\n",
    "                   |      O\n",
    "                   |     \\\\|/\n",
    "                   |      |\n",
    "                   |      \n",
    "                   -\n",
    "                ''',\n",
    "                # голова, торс и одна рука\n",
    "                '''\n",
    "                   --------\n",
    "                   |      |\n",
    "                   |      O\n",
    "                   |     \\\\|\n",
    "                   |      |\n",
    "                   |     \n",
    "                   -\n",
    "                ''',\n",
    "                # голова и торс\n",
    "                '''\n",
    "                   --------\n",
    "                   |      |\n",
    "                   |      O\n",
    "                   |      |\n",
    "                   |      |\n",
    "                   |     \n",
    "                   -\n",
    "                ''',\n",
    "                # голова\n",
    "                '''\n",
    "                   --------\n",
    "                   |      |\n",
    "                   |      O\n",
    "                   |    \n",
    "                   |      \n",
    "                   |     \n",
    "                   -\n",
    "                ''',\n",
    "                # начальное состояние\n",
    "                '''\n",
    "                   --------\n",
    "                   |      |\n",
    "                   |      \n",
    "                   |    \n",
    "                   |      \n",
    "                   |     \n",
    "                   -\n",
    "                '''\n",
    "    ]\n",
    "    return stages[tries]\n",
    "\n",
    "play(get_word().upper())    \n",
    "# print(get_word().upper())\n",
    "# print(display_hangman(5))"
   ]
  },
  {
   "cell_type": "code",
   "execution_count": null,
   "metadata": {},
   "outputs": [],
   "source": [
    "# здесь начинается Курс для продвинутых Python"
   ]
  },
  {
   "cell_type": "code",
   "execution_count": null,
   "metadata": {},
   "outputs": [],
   "source": [
    "a,b=int(input()), int(input())\n",
    "print(a+b, a-b, a*b, a/b, a//b, a%b, (a**10+b**10)**0.5, sep='\\n')"
   ]
  },
  {
   "cell_type": "code",
   "execution_count": 91,
   "metadata": {},
   "outputs": [
    {
     "name": "stdout",
     "output_type": "stream",
     "text": [
      "Недостаточная масса\n"
     ]
    }
   ],
   "source": [
    "# индекс массы тела\n",
    "\n",
    "a,b=float(input('введите массу тела')), float(input('введите рост'))\n",
    "answer=['Оптимальная масса', 'Избыточная масса', 'Недостаточная масса']\n",
    "if a/b/b<18.5: print(answer[2])\n",
    "elif a/b/b>25: print(answer[1])\n",
    "else: print(answer[0])"
   ]
  },
  {
   "cell_type": "code",
   "execution_count": 93,
   "metadata": {},
   "outputs": [
    {
     "name": "stdout",
     "output_type": "stream",
     "text": [
      "10 р. 20 коп.\n"
     ]
    }
   ],
   "source": [
    "# стоимость строки при условии , что ЛЮБОЙ символ стоит 60 коп\n",
    "\n",
    "s=input()\n",
    "\n",
    "print(len(s)*60//100, 'р.', len(s)*60%100, 'коп.')"
   ]
  },
  {
   "cell_type": "code",
   "execution_count": 97,
   "metadata": {},
   "outputs": [
    {
     "name": "stdout",
     "output_type": "stream",
     "text": [
      "Крыса\n",
      "Крыса\n"
     ]
    }
   ],
   "source": [
    "years=['Дракон','Змея','Лошадь','Овца','Обезьяна','Петух','Собака','Свинья','Крыса','Бык','Тигр','Заяц']\n",
    "\n",
    "spis = [i for i in range(2000,2012)]\n",
    "\n",
    "year=int(input())\n",
    "\n",
    "for i in range(len(years)):\n",
    "    if (spis[i]-year)%12==0: print(years[i])\n",
    "\n",
    "print(*[years[i] for i in range(len(years)) if (spis[i]-year)%12==0])"
   ]
  },
  {
   "cell_type": "code",
   "execution_count": 116,
   "metadata": {},
   "outputs": [
    {
     "name": "stdout",
     "output_type": "stream",
     "text": [
      "1000000\n",
      "1,000,000\n"
     ]
    }
   ],
   "source": [
    "# расставить запятые в большом числе (каждые три знака)\n",
    "\n",
    "number=input()\n",
    "num_spis=list(number)[-1::-1]\n",
    "for i in range(3,len(num_spis),3):\n",
    "    num_spis[i]+=','\n",
    "\n",
    "print(number)\n",
    "print(*num_spis[-1::-1],sep='')\n",
    "\n",
    "\n"
   ]
  },
  {
   "cell_type": "code",
   "execution_count": 124,
   "metadata": {},
   "outputs": [
    {
     "name": "stdout",
     "output_type": "stream",
     "text": [
      "19\n"
     ]
    }
   ],
   "source": [
    "# классическая задача иосифа флавия (кто в кругу выживет, если убивать соседа)\n",
    "# поясняющее видео: https://stepik.org/lesson/415553/step/9?unit=405082\n",
    "\n",
    "n=int(input()) # вводим число людей в кругу\n",
    "\n",
    "print(int((bin(n)[2:])[1:]+(bin(n)[2:][0]),2))\n",
    "\n",
    "# по шагам: \n",
    "# 1) переводим число n в двоичное через встроенную функцию bin(n), убираем приставку '0b' через срез [2:] \n",
    "# 2) работаем со строкой bin(n)[2:] - это по сути и есть количество всех сидящих в кругу \n",
    "# 3) вспоминаем видео: в двоичной системе достаточно переставить первый символ в конец строки - и получится искомое место победителя!! \n",
    "# 4) переставляем первый символ в конец через срезы \n",
    "# 5) переводим результат обратно в десятичную систему через int(result,2) \n",
    "# 6) печатаем результат"
   ]
  },
  {
   "cell_type": "code",
   "execution_count": 34,
   "metadata": {},
   "outputs": [
    {
     "name": "stdout",
     "output_type": "stream",
     "text": [
      "88\n"
     ]
    }
   ],
   "source": [
    "# усложненная задача Иосифа Флавия https://stepik.org/lesson/415553/step/10?unit=405082\n",
    "\n",
    "def easy_1(spis,k):\n",
    "    while len(spis)>=k:\n",
    "        temp_spis=[i for i in spis if i not in spis[k-1::k]] # временный список с удаленными пошагово элементами \n",
    "        perestan_spis=spis[spis.index(spis[k-1::k][-1])+1:] # вспомогательный список, \n",
    "    # в котором хранится \"хвост\" основного списка - элементы, идущие ПОСЛЕ ПОСЛЕДНЕГО удаленного\n",
    "    \n",
    "        temp_spis_2=[i for i in temp_spis if i not in perestan_spis] #временный список из которого УЖЕ УДАЛИЛИ \n",
    "    #лишние элементы, идущими ДО элементов из хвоста\n",
    "\n",
    "        perestan_spis.extend(temp_spis_2) # здесь мы меняем местами хвост и начало списка, \n",
    "    # чтобы дальнейшее исчисление шло именно с чисел хвоста, замыкая круг\n",
    "    \n",
    "        spis=perestan_spis  # переприсваиваем основному списку имя, чтобы повторять цикл\n",
    "        #print(spis)\n",
    "    return spis\n",
    "\n",
    "def easy_2(spis,k):\n",
    "    while len(spis)>2:\n",
    "        ind=k-(k//len(spis))*len(spis)-1  # индекс удаляемого элемента\n",
    "        if ind>=0: temp_spis=spis[ind+1:]    # концовка списка после удаляемого элемента \n",
    "        else: temp_spis=[]\n",
    "           \n",
    "        temp_spis.extend(spis[:ind]) # берем начало списка до удаляемого элемента - spis[:ind], и объединяем эти две части, меняя их местами\n",
    "        spis=temp_spis # переприсваиваем основному списку имя, чтобы повторять цикл\n",
    "        #print(spis)\n",
    "    return spis\n",
    "\n",
    "def easy_3(spis,k):\n",
    "    if k%2==0: itog=spis[0] # если удаляемый - четный - то останется в живых первый элемент списка\n",
    "    else: itog=spis[1] # если удаляемый - нечетный - то останется в живых второй элемент списка\n",
    "    return itog\n",
    "\n",
    "#основной блок задачи\n",
    "n=int(input()) # вводим число людей в кругу\n",
    "isk= int(input()) # вводим каждого исключаемого человека\n",
    "mass=[i for i in range(1,n+1)] #заполняем список сидящих в кругу\n",
    "#print(spis)\n",
    "\n",
    "# каскад условий \n",
    "if n>2: # если в списке больше двух людей\n",
    "    if len(mass)>isk: #если кол-во людей больше, чем число исключения, то прогоняем список последовательно через каждую функцию\n",
    "        spis_1=easy_1(mass,isk)\n",
    "        spis_2=easy_2(spis_1,isk)\n",
    "        result=easy_3(spis_2,isk)\n",
    "    else:  #  иначе прогоняем список только через вторую и третью функцию\n",
    "        spis_2=easy_2(mass,isk)\n",
    "        result=easy_3(spis_2,isk)\n",
    "\n",
    "else: result=easy_3(mass,isk) # наконец, если в списке всего 2 человека, то используем только третью функцию\n",
    "\n",
    "\n",
    "\n",
    "print(result)\n",
    "\n"
   ]
  },
  {
   "cell_type": "code",
   "execution_count": 36,
   "metadata": {},
   "outputs": [
    {
     "name": "stdout",
     "output_type": "stream",
     "text": [
      "[[1, 2], [3, 4], [5, 6]]\n"
     ]
    }
   ],
   "source": [
    "# вывести количество точек в каждой координатной четверти\n",
    "\n",
    "n=int(input())\n",
    "spis=[[int(i) for i in input().split()] for _ in range(n)]\n",
    "\n",
    "first=0\n",
    "second=0\n",
    "third=0\n",
    "forth=0\n",
    "\n",
    "for i in spis:\n",
    "    if i[0]>0 and i[1]>0: first+=1\n",
    "    elif i[0]<0 and i[1]>0: second+=1\n",
    "    elif i[0]<0 and i[1]<0: third+=1\n",
    "    elif i[0]>0 and i[1]<0 : forth+=1\n",
    "\n",
    "print('Первая четверть:',first)\n",
    "print('Вторая четверть:',second)\n",
    "print('Третья четверть:',third)\n",
    "print('Четвертая четверть:',forth)"
   ]
  },
  {
   "cell_type": "code",
   "execution_count": null,
   "metadata": {},
   "outputs": [],
   "source": [
    "spis=[int(i) for i in input().split()]\n",
    "count=0\n",
    "for i in range(len(spis)-1):\n",
    "    if spis[i+1]>spis[i]: count+=1\n",
    "print(count)"
   ]
  },
  {
   "cell_type": "code",
   "execution_count": 40,
   "metadata": {},
   "outputs": [
    {
     "name": "stdout",
     "output_type": "stream",
     "text": [
      "1\n"
     ]
    }
   ],
   "source": [
    "# поменять местами элементы: 0 и 1, 2 и 3, 4 и 5 и так далее\n",
    "spis=[int(i) for i in input().split()]\n",
    "if len(spis)%2==0: ind=len(spis)\n",
    "else: ind=len(spis)-1\n",
    "for i in range(0,ind,2):\n",
    "    spis[i],spis[i+1]=spis[i+1],spis[i]\n",
    "print(*spis,sep=' ')\n",
    "\n"
   ]
  },
  {
   "cell_type": "code",
   "execution_count": 44,
   "metadata": {},
   "outputs": [
    {
     "name": "stdout",
     "output_type": "stream",
     "text": [
      "89 1 2 56 78 98 23\n"
     ]
    }
   ],
   "source": [
    "spis=[int(i) for i in input().split()]\n",
    "result=[spis[-1]]\n",
    "result.extend(spis[:-1])\n",
    "print(*result)"
   ]
  },
  {
   "cell_type": "code",
   "execution_count": 52,
   "metadata": {},
   "outputs": [
    {
     "name": "stdout",
     "output_type": "stream",
     "text": [
      "[1, 2, 3, 1, 4, 2, 3, 5, 6]\n",
      "[1, 4, 2, 3, 5]\n"
     ]
    }
   ],
   "source": [
    "# посчитать в списке элементы, которые не повторяются больше одного раза\n",
    "spis=[int(i) for i in input().split()]\n",
    "s=''.join([str(i) for i in spis])\n",
    "for i in range(len(spis)-1):\n",
    "    j=i+1\n",
    "    while j<len(spis):\n",
    "        if spis[i]==spis[j]:\n",
    "            s=s.replace(str(spis[i]),'')\n",
    "            break\n",
    "        j+=1\n",
    "\n",
    "print(len(s))\n",
    "\n"
   ]
  },
  {
   "cell_type": "code",
   "execution_count": null,
   "metadata": {},
   "outputs": [],
   "source": [
    "# посчитать количество разных элементов в списке\n",
    "spis=[int(i) for i in input().split()]\n",
    "print(len(list(set(spis))))"
   ]
  },
  {
   "cell_type": "code",
   "execution_count": null,
   "metadata": {},
   "outputs": [],
   "source": [
    "# выяснить, является ли заданное число произведением двух любых чисел из списка\n",
    "n=int(input())\n",
    "spis=[int(input()) for _ in range(n)]\n",
    "number=int(input())\n",
    "\n",
    "temp=[[spis[i]*spis[j] for j in range(i+1,len(spis))] for i in range(len(spis)-1)] # создали набор списков, \n",
    "# содержащих произведение элементов между собой\n",
    "mass=list(set([j for i in temp for j in i])) #распаковали эти списки внутри набора и из этого набора\n",
    "# взяли только те элементы, что не повторяются\n",
    "\n",
    "print('ДА' if number in mass else 'НЕТ')"
   ]
  },
  {
   "cell_type": "code",
   "execution_count": 77,
   "metadata": {},
   "outputs": [
    {
     "name": "stdout",
     "output_type": "stream",
     "text": [
      "[[2, 3, 4, 5, 6], [6, 8, 10, 12], [12, 15, 18], [20, 24], [30]]\n",
      "[2, 3, 4, 5, 6, 6, 8, 10, 12, 12, 15, 18, 20, 24, 30]\n"
     ]
    }
   ],
   "source": [
    "# распаковать список внутри списка (распаковать список внутри набора)\n",
    "spis=[1,2,3,4,5,6]\n",
    "\n",
    "temp=[[spis[i]*spis[j] for j in range(i+1,len(spis))] for i in range(len(spis)-1)]\n",
    "mass=[j for i in temp for j in i]\n",
    "\n",
    "print(temp)\n",
    "print(mass)"
   ]
  },
  {
   "cell_type": "code",
   "execution_count": 81,
   "metadata": {},
   "outputs": [
    {
     "name": "stdout",
     "output_type": "stream",
     "text": [
      "['', '', '', '', 'РРРР', 'Р', 'РРРРРРРР', '', 'Р', 'Р', 'РРРРРРРРРРРРРРРРРРРРРРРРРРРРРРР']\n"
     ]
    }
   ],
   "source": [
    "s='ООООРРРРОРОРРРРРРРРООРОРОРРРРРРРРРРРРРРРРРРРРРРРРРРРРРРР'\n",
    "spis=s.split('О')\n",
    "print(spis)"
   ]
  },
  {
   "cell_type": "code",
   "execution_count": 89,
   "metadata": {},
   "outputs": [
    {
     "name": "stdout",
     "output_type": "stream",
     "text": [
      "[0, 1, 2]\n"
     ]
    }
   ],
   "source": [
    "# задача на вывод номеров элементов списка(состоит из строк), в которых содержится последовательность 'anton' \n",
    "# по порядку или с размежеванная другими символами https://stepik.org/lesson/415554/step/10?unit=405083\n",
    "\n",
    "# пишем функцию, которая будет проверять каждую строку\n",
    "def name_in(spis):\n",
    "    flag= False\n",
    "    anton='anton'\n",
    "    mass=[i for i in spis if i in anton] #записываем массив, в который кладем только те буквы из строки, которые содержатся в последовательности 'anton'\n",
    "    if 'a' in mass: # последовательно проверям массив: есть ли там буква 'а'?\n",
    "        mass=mass[mass.index('a'):] # обрезаем все, что левее буквы 'а' (чтобы выдержать порядок букв)\n",
    "        if 'n' in mass: # проверяем есть ли в урезанном списке буква 'n'\n",
    "            mass=mass[mass.index('n'):] # урезаем список - и так далее\n",
    "            if 't' in mass: \n",
    "                mass=mass[mass.index('t'):]\n",
    "                if 'o' in mass: \n",
    "                    mass=mass[mass.index('o'):]\n",
    "                    if 'n' in mass: flag= True  # если каскад условий приведет нас в эту точку, то значит все искомые буквы расположены в строке в всоем порядке            \n",
    "    return flag\n",
    "# основной блок программы\n",
    "names=[input() for _ in range(int(input()))]\n",
    "numbers=[]\n",
    "for i in range(len(names)):\n",
    "    if name_in(list(names[i]))==True: numbers.append(i+1)\n",
    "\n",
    "print(*numbers)\n"
   ]
  },
  {
   "cell_type": "code",
   "execution_count": 118,
   "metadata": {},
   "outputs": [
    {
     "name": "stdout",
     "output_type": "stream",
     "text": [
      "тимур запретил букву а\n",
      "тимур зпретил букву б\n",
      "тимур зпретил укву в\n",
      "тимур зпретил уку е\n",
      "тимур зпртил уку з\n",
      "тимур пртил уку и\n",
      "тмур пртл уку к\n",
      "тмур пртл уу л\n",
      "тмур прт уу м\n",
      "тур прт уу п\n",
      "тур рт уу р\n",
      "ту т уу т\n",
      "у уу у\n"
     ]
    }
   ],
   "source": [
    "s=input()+' ' + 'запретил букву а'\n",
    "while len(s)>0:\n",
    "    print(s)\n",
    "    l=s.split()\n",
    "    del_item=l[-1]\n",
    "    new_l=[l[i].replace(del_item,'') for i in range(len(l)-1)]\n",
    "    new_l=[i for i in new_l if i!='']\n",
    "    if len(''.join(new_l))==0: break\n",
    "    else:\n",
    "        new_item=chr(min([ord(i) for j in new_l for i in j ])) # вытаскиваем номера оставшихся букв, берем наименьшую, возвращаем букву, которая соответствует этому номеру - это наш следующий удаляемый элемент\n",
    "        new_l.append(new_item) # добавляем новый элемент в конец списка \n",
    "        s=' '.join(new_l).lstrip() # возвращаем значение строки с новым элементом+ удаляем пробелы в начале строки, повторяем цикл\n",
    "\n"
   ]
  },
  {
   "cell_type": "code",
   "execution_count": null,
   "metadata": {},
   "outputs": [],
   "source": [
    "# БУЛЕВЫ значения\n",
    "# bool() - для всех пустых значений == False, для непустых == True \n",
    "# isinstance() выдаст булево значение True or False для переданных аргументов : isinstance(3,int)==True, isinstance([1,2], str)==False\n",
    "# type() - позволит выяснить, что передано в качестве аргумента: строка, список, целое число и так далее\n",
    "# функция , которая возвращает булево значение - называется предикатом\n",
    "\n",
    "# оператор None \n",
    "# уточнять тип объекта на принадлежность  None лучше через операто is (if perem is None:)\n",
    "# Сравнивая элементы других типов данных (str,int,list,bool) c None всегда будет выдавать False: None==17 выдаст False"
   ]
  },
  {
   "cell_type": "code",
   "execution_count": 121,
   "metadata": {},
   "outputs": [
    {
     "name": "stdout",
     "output_type": "stream",
     "text": [
      "[10, 20, 30, 40]\n",
      "[10, 20, 40]\n"
     ]
    }
   ],
   "source": [
    "numbers = [10, 20, 30, 40, 50]\n",
    "numbers.pop() # удалит из списка последний элемент и перезапишет список\n",
    "print(numbers)\n",
    "\n",
    "numbers.pop(2) #удалит из списка элемент с переданным индексом и перезапишет список\n",
    "print(numbers)"
   ]
  },
  {
   "cell_type": "code",
   "execution_count": null,
   "metadata": {},
   "outputs": [],
   "source": [
    "# сравнение вложенных списков через min(), max(): \n",
    "# сравнение списков ведется через сравнение элементов списков ПО ПОРЯДКУ: нулевой с нулевым, первый с первым, второй со вторым и так далее\n",
    "list1 = [1, 7, 12, 0, 9, 100] \n",
    "list2 = [1, 7, 90] \n",
    "list3 = [1, 10]\n",
    "\n",
    "print(min(list1, list2, list3)) #- выведет первый список целиком, потому что второй элемент списка \n",
    "# является наименьшим из вторых элементов других списков\n",
    "print(max(list1, list2, list3)) # выведет третий список, потому что его 1й элемент самый большой из остальных первых элементов других списков"
   ]
  },
  {
   "cell_type": "code",
   "execution_count": 125,
   "metadata": {},
   "outputs": [
    {
     "name": "stdout",
     "output_type": "stream",
     "text": [
      "[[8, 7, 1], [102, 7, 9], [105, 106, 102], [103, 98, 99, 100], [3, 2, 1]]\n"
     ]
    }
   ],
   "source": [
    "list1 = [[1, 7, 8], [9, 7, 102], [102, 106, 105], [100, 99, 98, 103], [1, 2, 3]]\n",
    "\n",
    "\n",
    "print([i[::-1] for i in list1])"
   ]
  },
  {
   "cell_type": "code",
   "execution_count": 126,
   "metadata": {},
   "outputs": [
    {
     "name": "stdout",
     "output_type": "stream",
     "text": [
      "[[0, 0, 0, 0, 0], [0, 0, 0, 0, 0], [0, 0, 0, 0, 0]]\n"
     ]
    }
   ],
   "source": [
    "n, m = int(input()), int(input())    # считываем значения n и m\n",
    "\n",
    "my_list = [[0] * m ] * n\n",
    "\n",
    "print(my_list)"
   ]
  },
  {
   "cell_type": "code",
   "execution_count": 130,
   "metadata": {},
   "outputs": [
    {
     "name": "stdout",
     "output_type": "stream",
     "text": [
      "[None, None, None, None, None, None, None, None, None]\n"
     ]
    }
   ],
   "source": [
    "n=int(input())\n"
   ]
  },
  {
   "cell_type": "code",
   "execution_count": 133,
   "metadata": {},
   "outputs": [
    {
     "name": "stdout",
     "output_type": "stream",
     "text": [
      "[[1], [1, 2], [1, 2, 3], [1, 2, 3, 4], [1, 2, 3, 4, 5]]\n"
     ]
    }
   ],
   "source": [
    "n=int(input())\n",
    "\n",
    "mass=[]\n",
    "for j in range(1,n+1):\n",
    "    spis=[]\n",
    "    for i in range(1,j+1):\n",
    "        spis.append(i)\n",
    "    mass.append(spis)\n",
    "\n",
    "print(mass)\n"
   ]
  },
  {
   "cell_type": "code",
   "execution_count": 263,
   "metadata": {},
   "outputs": [
    {
     "name": "stdout",
     "output_type": "stream",
     "text": [
      "[1, 30, 435, 4060, 27405, 142506, 593775, 2035800, 5852925, 14307150, 30045015, 54627300, 86493225, 119759850, 145422675, 155117520, 145422675, 119759850, 86493225, 54627300, 30045015, 14307150, 5852925, 2035800, 593775, 142506, 27405, 4060, 435, 30, 1]\n"
     ]
    }
   ],
   "source": [
    "# задача на треугольник паскаля\n",
    "def pascal(n):\n",
    "    from math import factorial, ceil\n",
    "    first=n \n",
    "    second=int(n*(n-1)/2)\n",
    "    third=int((n-2)*(n-1)*(n)/6)\n",
    "    m_num=[round(factorial(n)/factorial(m)/factorial(n-m)) for m in range(4,n+1)]\n",
    "    spis=[1,first,second,third]+m_num\n",
    "    if n<3: spis=spis[:n+1]\n",
    "    return spis\n",
    "\n",
    "n=int(input())\n",
    "print(pascal(n))\n",
    "\n",
    "\n"
   ]
  },
  {
   "cell_type": "code",
   "execution_count": 271,
   "metadata": {},
   "outputs": [
    {
     "name": "stdout",
     "output_type": "stream",
     "text": [
      "1\n",
      "1 1\n",
      "1 2 1\n",
      "1 3 3 1\n",
      "1 4 6 4 1\n",
      "1 5 10 10 5 1\n",
      "1 6 15 20 15 6 1\n",
      "1 7 21 35 35 21 7 1\n"
     ]
    }
   ],
   "source": [
    "# вывести n первых строк треугольника Паскаля\n",
    "def pascal(n):\n",
    "    from math import factorial, ceil\n",
    "    first=n \n",
    "    second=int(n*(n-1)/2)\n",
    "    third=int((n-2)*(n-1)*(n)/6)\n",
    "    m_num=[round(factorial(n)/factorial(m)/factorial(n-m)) for m in range(4,n+1)]\n",
    "    spis=[1,first,second,third]+m_num\n",
    "    if n<3: spis=spis[:n+1]\n",
    "    return [str(i) for i in spis] # сразу договоримся, что функция вернет список не с числами 1,2,3... а со строками '1','2'..\n",
    "\n",
    "number=int(input())\n",
    "print(*[' '.join(pascal(i)) for i in range(number)], sep='\\n')\n"
   ]
  },
  {
   "cell_type": "code",
   "execution_count": 272,
   "metadata": {},
   "outputs": [
    {
     "name": "stdout",
     "output_type": "stream",
     "text": [
      "[1, 5, 1]\n"
     ]
    }
   ],
   "source": [
    "nums = [1, 5, 2, 1, 4, 5, 1]\n",
    " \n",
    "visited = set()\n",
    "dup = [x for x in nums if x in visited or (visited.add(x) or False)]\n",
    " \n",
    "print(dup)"
   ]
  },
  {
   "cell_type": "code",
   "execution_count": 276,
   "metadata": {},
   "outputs": [
    {
     "name": "stdout",
     "output_type": "stream",
     "text": [
      "[1, 5, 1]\n"
     ]
    }
   ],
   "source": [
    "\n",
    "from iteration_utilities import duplicates\n",
    " \n",
    " \n",
    "nums = [1, 5, 2, 1, 4, 5, 1]\n",
    " \n",
    "dup = list(duplicates(nums))\n",
    "print(dup)"
   ]
  },
  {
   "cell_type": "code",
   "execution_count": null,
   "metadata": {},
   "outputs": [],
   "source": [
    "spis=input().split()\n",
    "for i in range(len(spis)):\n",
    "    j=0\n",
    "    temp=[spis[i]]\n",
    "    while spis[j]==spis[j+1]:\n"
   ]
  },
  {
   "cell_type": "code",
   "execution_count": 279,
   "metadata": {},
   "outputs": [
    {
     "name": "stdout",
     "output_type": "stream",
     "text": [
      "[['a']]\n",
      "[['a'], ['b']]\n",
      "[['a'], ['b'], ['c']]\n",
      "[['a'], ['b'], ['c']]\n"
     ]
    }
   ],
   "source": [
    "spis=input().split()\n",
    "j=0\n",
    "new_spis=[]\n",
    "while j<len(spis):\n",
    "    i=j\n",
    "    temp=[spis[i]]\n",
    "    while spis[i]==spis[i+1]:\n",
    "        temp.append(spis[i+1])\n",
    "        i+=1\n",
    "    new_spis.append(temp)\n",
    "    print(new_spis)\n",
    "    j=i+1\n",
    "\n",
    "print(new_spis)"
   ]
  },
  {
   "cell_type": "code",
   "execution_count": 288,
   "metadata": {},
   "outputs": [
    {
     "name": "stdout",
     "output_type": "stream",
     "text": [
      "[['w', 'w', 'w'], ['o'], ['r'], ['l'], ['d'], ['g', 'g', 'g', 'g'], ['r'], ['e'], ['a'], ['t', 't'], ['e'], ['c', 'c'], ['h'], ['e'], ['m'], ['g', 'g'], ['p'], ['w', 'w']]\n"
     ]
    }
   ],
   "source": [
    "# собираем в список повторяющиеся ПО ПОРЯДКУ элементы строки. полученные списки вкладываем в один общий список\n",
    "\n",
    "spis=input().split()\n",
    "j=0\n",
    "new_spis=[]\n",
    "while j<len(spis): # цикл для всех индексов в списке, созданной из строки\n",
    "    i=j\n",
    "    temp=[spis[i]] # запишем  во временный список первый элемент\n",
    "    while i!= len(spis)-1 and spis[i]==spis[i+1]: # пока мы не вылезли за список и пока элемент равен следующему\n",
    "        temp.append(spis[i+1]) # дополняем временный список следующим элементом\n",
    "        i+=1 # переходим к следующему\n",
    "        if i==len(spis)-1 : break # если вылезли за список - выходим из цикла\n",
    "    new_spis.append(temp) # вкладываем временный список в постоянный (итоговый)\n",
    "    j=i+1 #переходим к следующей итерации\n",
    "\n",
    "print(new_spis)"
   ]
  },
  {
   "cell_type": "code",
   "execution_count": 298,
   "metadata": {},
   "outputs": [
    {
     "name": "stdout",
     "output_type": "stream",
     "text": [
      "[['a', 'b'], ['c', 'd'], ['e', 'f']]\n"
     ]
    }
   ],
   "source": [
    "# собираем элементы строки в списки, длина которых установлена числом N. эти списки вкладываем в общий список\n",
    "def chunked(spis,n):\n",
    "    j=0\n",
    "    new_spis=[]\n",
    "    while j<len(spis): # цикл для всех индексов в списке, созданной из строки\n",
    "        i=j\n",
    "        temp=[spis[i]] # запишем  во временный список первый элемент\n",
    "        while i!= len(spis)-1 and len(temp)<n: # пока мы не вылезли за список и пока длина списка не станет равной N\n",
    "            temp.append(spis[i+1]) # дополняем временный список следующим элементом\n",
    "            i+=1 # переходим к следующему\n",
    "        new_spis.append(temp) # вкладываем временный список в постоянный (итоговый)\n",
    "        j=i+1 \n",
    "    return new_spis\n",
    "\n",
    "\n",
    "spis=input().split()\n",
    "n=int(input())\n",
    "print(chunked(spis,n))\n"
   ]
  },
  {
   "cell_type": "code",
   "execution_count": 326,
   "metadata": {},
   "outputs": [
    {
     "name": "stdout",
     "output_type": "stream",
     "text": [
      "[[], ['a'], ['b'], ['c'], ['d'], ['e'], ['f'], ['a', 'b'], ['b', 'c'], ['c', 'd'], ['d', 'e'], ['e', 'f'], ['a', 'b', 'c'], ['b', 'c', 'd'], ['c', 'd', 'e'], ['d', 'e', 'f'], ['a', 'b', 'c', 'd'], ['b', 'c', 'd', 'e'], ['c', 'd', 'e', 'f'], ['a', 'b', 'c', 'd', 'e'], ['b', 'c', 'd', 'e', 'f'], ['a', 'b', 'c', 'd', 'e', 'f']]\n"
     ]
    }
   ],
   "source": [
    "# создаем все возможные подсписки одного списка, соформированного из строки\n",
    "\n",
    "def podspis(spis,n):\n",
    "    new_spis=[]\n",
    "    for i in range(len(spis)): \n",
    "        temp=[spis[i]]\n",
    "        while i!= len(spis)-1 and len(temp)<n: # пока мы не вылезли за список и пока длина списка не станет равной N\n",
    "            temp.append(spis[i+1]) # дополняем временный список следующим элементом\n",
    "            i+=1 # переходим к следующему\n",
    "        new_spis.append(temp) # вкладываем временный список в постоянный (итоговый)\n",
    "    return [i for i in new_spis if len(i)==n] # возьмем только неповторяющиеся элементы списка\n",
    "\n",
    "# основной блок программы\n",
    "spis=input().split()\n",
    "\n",
    "itog_spis=[[]]\n",
    "for i in range(1, len(spis)+1):\n",
    "    itog_spis.extend(podspis(spis,i))\n",
    "print(itog_spis)\n",
    "\n"
   ]
  },
  {
   "cell_type": "code",
   "execution_count": 316,
   "metadata": {},
   "outputs": [
    {
     "name": "stdout",
     "output_type": "stream",
     "text": [
      "[['a', 'b', 'c', 'd', 'e', 'f']]\n"
     ]
    }
   ],
   "source": [
    "spis=['a','b','c','d','e','f']\n",
    "n=int(input())\n",
    "new_spis=[]\n",
    "for i in range(len(spis)):\n",
    "    temp=[spis[i]]\n",
    "    while i!= len(spis)-1 and len(temp)<n: # пока мы не вылезли за список и пока длина списка не станет равной N\n",
    "        temp.append(spis[i+1]) # дополняем временный список следующим элементом\n",
    "        i+=1 # переходим к следующему\n",
    "    new_spis.append(temp) # вкладываем временный список в постоянный (итоговый)\n",
    "\n",
    "print([i for i in new_spis if len(i)==n])\n"
   ]
  },
  {
   "cell_type": "code",
   "execution_count": 329,
   "metadata": {},
   "outputs": [
    {
     "name": "stdout",
     "output_type": "stream",
     "text": [
      "1 2 3 \n",
      "4 5 6 \n",
      "7 8 9 \n"
     ]
    }
   ],
   "source": [
    "# функция  вывода матрицы - для удобства\n",
    "\n",
    "def print_matrix(matrix, n, width=1):\n",
    "    for r in range(n):\n",
    "        for c in range(n):\n",
    "            print(str(matrix[r][c]).ljust(width), end=' ')\n",
    "        print()\n",
    "\n",
    "n = int(input())\n",
    "matrix = []\n",
    "for i in range(n):\n",
    "    temp = [int(num) for num in input().split()]\n",
    "    matrix.append(temp)\n",
    "\n",
    "print_matrix(matrix, n, width=1)"
   ]
  },
  {
   "cell_type": "code",
   "execution_count": null,
   "metadata": {},
   "outputs": [],
   "source": [
    "# Для считывания матрицы из n строк, заполненной числами, удобно использовать следующий код:\n",
    "n = int(input())\n",
    "matrix = []\n",
    "for i in range(n):\n",
    "    temp = [int(num) for num in input().split()]\n",
    "    matrix.append(temp)\n",
    "\n"
   ]
  },
  {
   "cell_type": "code",
   "execution_count": 327,
   "metadata": {},
   "outputs": [],
   "source": [
    "# Для считывания матрицы из n строк и m столбцов , заполненной строками, удобно использовать следующий код:\n",
    "n,m = int(input()),int(input())\n",
    "matrix = []\n",
    "for i in range(n):\n",
    "    temp=[]\n",
    "    for j in range(m):\n",
    "        temp.append(input())\n",
    "    matrix.append(temp)"
   ]
  },
  {
   "cell_type": "code",
   "execution_count": 330,
   "metadata": {},
   "outputs": [
    {
     "name": "stdout",
     "output_type": "stream",
     "text": [
      "sdfs asdf asdf \n",
      "ejtr qert dfgh \n"
     ]
    }
   ],
   "source": [
    "# код выводит матрицу строк, введенных с клавиатуры. Размер матрицы задается на старте программы: n строк и m столбцов\n",
    "\n",
    "def print_matrix(matrix, n,m, width=1):\n",
    "    for r in range(n):\n",
    "        for c in range(m):\n",
    "            print(str(matrix[r][c]).ljust(width), end=' ')\n",
    "        print()\n",
    "\n",
    "n,m = int(input()),int(input())\n",
    "matrix = []\n",
    "for i in range(n):\n",
    "    temp=[]\n",
    "    for j in range(m):\n",
    "        temp.append(input())\n",
    "    matrix.append(temp)\n",
    "\n",
    "print_matrix(matrix,n,m, width=1)\n"
   ]
  },
  {
   "cell_type": "code",
   "execution_count": null,
   "metadata": {},
   "outputs": [],
   "source": [
    "# код выводит матрицу строк, введенных с клавиатуры. Размер матрицы задается на старте программы: n строк и m столбцов\n",
    "# затем выводит матрицу в развернутом виде - сначала столбцы, потом строки\n",
    "\n",
    "def print_matrix(matrix, n,m, width=1):\n",
    "    for r in range(n):\n",
    "        for c in range(m):\n",
    "            print(str(matrix[r][c]).ljust(width), end=' ')\n",
    "        print()\n",
    "\n",
    "def print_matrix_turn(matrix, n,m, width=1):\n",
    "    for r in range(m):\n",
    "        for c in range(n):\n",
    "            print(str(matrix[c][r]).ljust(width), end=' ')\n",
    "        print()\n",
    "\n",
    "n,m = int(input()),int(input())\n",
    "matrix = []\n",
    "for i in range(n):\n",
    "    temp=[]\n",
    "    for j in range(m):\n",
    "        temp.append(input())\n",
    "    matrix.append(temp)\n",
    "\n",
    "print_matrix(matrix,n,m, width=1)\n",
    "print()\n",
    "print_matrix_turn(matrix,n,m, width=1)\n"
   ]
  },
  {
   "cell_type": "code",
   "execution_count": 331,
   "metadata": {},
   "outputs": [
    {
     "name": "stdout",
     "output_type": "stream",
     "text": [
      "1 2 3 \n",
      "4 5 6 \n",
      "7 8 9 \n",
      "15\n"
     ]
    }
   ],
   "source": [
    "# след квадратной матрицы - это сумма элементов главной диагонали\n",
    "\n",
    "def print_matrix(matrix, n, width=1):\n",
    "    for r in range(n):\n",
    "        for c in range(n):\n",
    "            print(str(matrix[r][c]).ljust(width), end=' ')\n",
    "        print()\n",
    "\n",
    "def trace_matrix(matrix):\n",
    "    temp=[]\n",
    "    for i in range(len(matrix)):\n",
    "        temp.append(matrix[i][i])\n",
    "    return sum(temp)\n",
    "\n",
    "n = int(input())\n",
    "matrix = []\n",
    "for i in range(n):\n",
    "    temp = [int(num) for num in input().split()]\n",
    "    matrix.append(temp)\n",
    "\n",
    "print_matrix(matrix, n, width=1)\n",
    "print(trace_matrix(matrix))"
   ]
  },
  {
   "cell_type": "code",
   "execution_count": 332,
   "metadata": {},
   "outputs": [
    {
     "name": "stdout",
     "output_type": "stream",
     "text": [
      "1 2 3 3 \n",
      "4 5 6 6 \n",
      "7 8 9 9 \n",
      "3 4 5 6 \n",
      "2\n",
      "2\n",
      "2\n",
      "2\n"
     ]
    }
   ],
   "source": [
    "from statistics import mean\n",
    "\n",
    "def print_matrix(matrix, n, width=1):\n",
    "    for r in range(n):\n",
    "        for c in range(n):\n",
    "            print(str(matrix[r][c]).ljust(width), end=' ')\n",
    "        print()\n",
    "\n",
    "def more_mean(matrix):\n",
    "    for i in range(len(matrix)):\n",
    "        count=0\n",
    "        for j in range(len(matrix)):\n",
    "            if matrix[i][j]>mean(matrix[i]): count+=1\n",
    "        print(count)\n",
    "\n",
    "n = int(input())\n",
    "matrix = []\n",
    "for i in range(n):\n",
    "    temp = [int(num) for num in input().split()]\n",
    "    matrix.append(temp)\n",
    "\n",
    "print_matrix(matrix, n, width=1)\n",
    "more_mean(matrix)"
   ]
  },
  {
   "cell_type": "code",
   "execution_count": 334,
   "metadata": {},
   "outputs": [
    {
     "name": "stdout",
     "output_type": "stream",
     "text": [
      "1   89  23  67  2   \n",
      "43  67  22  98  1   \n",
      "2   5   7   3   8   \n",
      "2   3   6   78  34  \n",
      "1   67  2   3   2   \n",
      "78\n"
     ]
    }
   ],
   "source": [
    "# найти максимальный элемент , лежащий ниже главной диагонали\n",
    "\n",
    "def print_matrix(matrix, n, width=3):\n",
    "    for r in range(n):\n",
    "        for c in range(n):\n",
    "            print(str(matrix[r][c]).ljust(width), end=' ')\n",
    "        print()\n",
    "\n",
    "def max_low_mail_diag(matrix):\n",
    "    temp=[]\n",
    "    for i in range(len(matrix)):\n",
    "        for j in range(len(matrix)):\n",
    "            if i>=j: temp.append(matrix[i][j])\n",
    "    return max(temp)\n",
    "\n",
    "n = int(input())\n",
    "matrix = []\n",
    "for i in range(n):\n",
    "    temp = [int(num) for num in input().split()]\n",
    "    matrix.append(temp)\n",
    "\n",
    "print_matrix(matrix, n, width=3)\n",
    "print(max_low_mail_diag(matrix))"
   ]
  },
  {
   "cell_type": "code",
   "execution_count": null,
   "metadata": {},
   "outputs": [],
   "source": [
    "# найти максимальный элемент , лежащий в левой и правой областях, образованных главной и второстепенной диагоналями\n",
    "\n",
    "def print_matrix(matrix, n, width=3):\n",
    "    for r in range(n):\n",
    "        for c in range(n):\n",
    "            print(str(matrix[r][c]).ljust(width), end=' ')\n",
    "        print()\n",
    "\n",
    "def max_left_right_space(matrix):\n",
    "    temp=[]\n",
    "    for i in range(len(matrix)):\n",
    "        for j in range(len(matrix)):\n",
    "            if (i>=j and i<= len(matrix)-j-1) or (i<=j and i>= len(matrix)-j-1) : temp.append(matrix[i][j])\n",
    "    return max(temp)\n",
    "\n",
    "n = int(input())\n",
    "matrix = []\n",
    "for i in range(n):\n",
    "    temp = [int(num) for num in input().split()]\n",
    "    matrix.append(temp)\n",
    "\n",
    "print_matrix(matrix, n, width=3)\n",
    "print(max_left_right_space(matrix))"
   ]
  },
  {
   "cell_type": "code",
   "execution_count": null,
   "metadata": {},
   "outputs": [],
   "source": [
    "# сумма элементов, лежащих в каждой из областей, без учета элементов на диагоналях\n",
    "\n",
    "def print_matrix(matrix, n, width=3):\n",
    "    for r in range(n):\n",
    "        for c in range(n):\n",
    "            print(str(matrix[r][c]).ljust(width), end=' ')\n",
    "        print()\n",
    "\n",
    "def sum_spaces(matrix):\n",
    "    temp_l,temp_r,temp_u, temp_d, temp_sum=[],[],[],[],[]\n",
    "    for i in range(len(matrix)):\n",
    "        for j in range(len(matrix)):\n",
    "            if (i>j and i< len(matrix)-j-1) : temp_l.append(matrix[i][j]) # левая четверть\n",
    "            elif (i<j and i> len(matrix)-j-1): temp_r.append(matrix[i][j]) # правая четверть\n",
    "            elif (i<j and i< len(matrix)-j-1): temp_u.append(matrix[i][j]) # верхняя четверть\n",
    "            elif (i>j and i> len(matrix)-j-1): temp_d.append(matrix[i][j]) # нижняя четверть\n",
    "    temp_sum=[sum(temp_l), sum(temp_r), sum(temp_u), sum(temp_d)]\n",
    "\n",
    "    return temp_sum\n",
    "\n",
    "n = int(input())\n",
    "matrix = []\n",
    "for i in range(n):\n",
    "    temp = [int(num) for num in input().split()]\n",
    "    matrix.append(temp)\n",
    "\n",
    "print_matrix(matrix, n, width=3)\n",
    "print('Верхняя четверть:', sum_spaces(matrix)[2])\n",
    "print('Правая четверть:', sum_spaces(matrix)[1])\n",
    "print('Нижняя четверть:', sum_spaces(matrix)[3])\n",
    "print('Левая четверть:', sum_spaces(matrix)[0])"
   ]
  },
  {
   "cell_type": "code",
   "execution_count": 337,
   "metadata": {},
   "outputs": [
    {
     "name": "stdout",
     "output_type": "stream",
     "text": [
      "0   0   0   0   0   0   \n",
      "0   1   2   3   4   5   \n",
      "0   2   4   6   8   10  \n",
      "0   3   6   9   12  15  \n"
     ]
    }
   ],
   "source": [
    "def print_matrix(matrix, n,m, width=3):\n",
    "    for r in range(n):\n",
    "        for c in range(m):\n",
    "            print(str(matrix[r][c]).ljust(width), end=' ')\n",
    "        print()\n",
    "\n",
    "n,m = int(input()),int(input())\n",
    "matrix = []\n",
    "for i in range(n):\n",
    "    temp=[]\n",
    "    for j in range(m):\n",
    "        temp.append(i*j)\n",
    "    matrix.append(temp)\n",
    "\n",
    "print_matrix(matrix, n,m, width=3)"
   ]
  },
  {
   "cell_type": "code",
   "execution_count": null,
   "metadata": {},
   "outputs": [],
   "source": [
    "# найти индексы максимального элемента в матрице (элементы вводятся построчно с клавиатуры)\n",
    "\n",
    "def print_matrix(matrix, n,m, width=3):\n",
    "    for r in range(n):\n",
    "        for c in range(m):\n",
    "            print(str(matrix[r][c]).ljust(width), end=' ')\n",
    "        print()\n",
    "\n",
    "n,m = int(input()),int(input())\n",
    "matrix = []\n",
    "for i in range(n):\n",
    "    temp=input().split()\n",
    "    matrix.append(temp)\n",
    "\n",
    "max_i=0\n",
    "max_j=0\n",
    "max_elem=int(matrix[max_i][max_j])\n",
    "for i in range(n):\n",
    "    for j in range(m):\n",
    "        if int(matrix[i][j])>max_elem: max_i,max_j,max_elem =i,j,int(matrix[i][j])\n",
    "        \n",
    "\n",
    "print_matrix(matrix, n,m, width=3)\n",
    "\n",
    "print(max_i,max_j)"
   ]
  },
  {
   "cell_type": "code",
   "execution_count": null,
   "metadata": {},
   "outputs": [],
   "source": [
    "# поменять местами заданные столбцы в матрице (элементы вводятся построчно с клавиатуры)\n",
    "\n",
    "def print_matrix(matrix, n,m, width=3):\n",
    "    for r in range(n):\n",
    "        for c in range(m):\n",
    "            print(str(matrix[r][c]).ljust(width), end=' ')\n",
    "        print()\n",
    "\n",
    "n,m = int(input()),int(input())\n",
    "matrix = []\n",
    "for i in range(n):\n",
    "    temp=[int(i) for i in input().split()]\n",
    "    matrix.append(temp)\n",
    "\n",
    "numbers= input().split()\n",
    "\n",
    "a,b = int(numbers[0]),int(numbers[1])\n",
    "for i in range(n): matrix[i][a],matrix[i][b]=matrix[i][b],matrix[i][a]\n",
    "        \n",
    "\n",
    "print_matrix(matrix, n,m, width=3)\n"
   ]
  },
  {
   "cell_type": "code",
   "execution_count": 342,
   "metadata": {},
   "outputs": [
    {
     "name": "stdout",
     "output_type": "stream",
     "text": [
      "0   3   2   \n",
      "1   5   9   \n",
      "2   7   6   \n"
     ]
    }
   ],
   "source": [
    "# проверить симметричность квадратной матрицы относительно главной диагонали (элементы вводятся построчно с клавиатуры)\n",
    "\n",
    "def print_matrix(matrix, n, width=3):\n",
    "    for r in range(n):\n",
    "        for c in range(n):\n",
    "            print(str(matrix[r][c]).ljust(width), end=' ')\n",
    "        print()\n",
    "\n",
    "n= int(input())\n",
    "matrix = []\n",
    "for i in range(n):\n",
    "    temp=[int(i) for i in input().split()]\n",
    "    matrix.append(temp)\n",
    "\n",
    "# для разворота матрицы (поменять столбцы и строки) - ТРАНСПОНИРОВАННАЯ матрица\n",
    "matrix_turn= []\n",
    "for j in range(n):\n",
    "    temp=[]\n",
    "    for i in range(n):\n",
    "        temp.append(matrix[i][j])\n",
    "    matrix_turn.append(temp)\n",
    "\n",
    "print('YES' if matrix_turn==matrix else 'NO')"
   ]
  },
  {
   "cell_type": "code",
   "execution_count": 343,
   "metadata": {},
   "outputs": [
    {
     "name": "stdout",
     "output_type": "stream",
     "text": [
      "6   8   9   7   \n",
      "0   7   3   4   \n",
      "1   2   5   2   \n",
      "3   4   8   6   \n"
     ]
    }
   ],
   "source": [
    "# поменять главную и побочную диагонали квадратной матрицы местами (элементы вводятся построчно с клавиатуры)\n",
    "\n",
    "def print_matrix(matrix, n, width=3):\n",
    "    for r in range(n):\n",
    "        for c in range(n):\n",
    "            print(str(matrix[r][c]).ljust(width), end=' ')\n",
    "        print()\n",
    "\n",
    "n= int(input())\n",
    "matrix = []\n",
    "for i in range(n):\n",
    "    temp=[int(i) for i in input().split()]\n",
    "    matrix.append(temp)\n",
    "\n",
    "# меняем элементы главной диагонали с элементами побочной диагонали\n",
    "matrix_diag_change = matrix.copy()\n",
    "for i in range(n):\n",
    "    matrix_diag_change[i][i],matrix_diag_change[n-1-i][i] = matrix_diag_change[n-1-i][i],matrix_diag_change[i][i]\n",
    "\n",
    "\n",
    "print_matrix(matrix_diag_change, n, width=3)\n",
    "\n"
   ]
  },
  {
   "cell_type": "code",
   "execution_count": 344,
   "metadata": {},
   "outputs": [
    {
     "name": "stdout",
     "output_type": "stream",
     "text": [
      "6   4   8   7   \n",
      "1   7   3   2   \n",
      "0   2   5   4   \n",
      "3   8   9   6   \n"
     ]
    }
   ],
   "source": [
    "# зеркальное отображение по горизонтальной оси симметрии квадратной матрицы  (элементы вводятся построчно с клавиатуры)\n",
    "\n",
    "def print_matrix(matrix, n, width=3):\n",
    "    for r in range(n):\n",
    "        for c in range(n):\n",
    "            print(str(matrix[r][c]).ljust(width), end=' ')\n",
    "        print()\n",
    "\n",
    "n= int(input())\n",
    "matrix = []\n",
    "for i in range(n):\n",
    "    temp=[int(i) for i in input().split()]\n",
    "    matrix.append(temp)\n",
    "\n",
    "# отображаем зеркально по оси симметрии\n",
    "matrix_simm = matrix.copy()\n",
    "for i in range(n//2):\n",
    "    matrix_simm[i],matrix_simm[-(i+1)] = matrix_simm[-(i+1)], matrix_simm[i]\n",
    "\n",
    "\n",
    "print_matrix(matrix_simm, n, width=3)\n",
    "\n"
   ]
  },
  {
   "cell_type": "code",
   "execution_count": 347,
   "metadata": {},
   "outputs": [
    {
     "name": "stdout",
     "output_type": "stream",
     "text": [
      "2   3   0   \n",
      "9   5   1   \n",
      "6   7   2   \n"
     ]
    }
   ],
   "source": [
    "# повернуть матрицу на 90 градусов(элементы вводятся построчно с клавиатуры)\n",
    "\n",
    "def print_matrix(matrix, n, width=3):\n",
    "    for r in range(n):\n",
    "        for c in range(n):\n",
    "            print(str(matrix[r][c]).ljust(width), end=' ')\n",
    "        print()\n",
    "\n",
    "n= int(input())\n",
    "matrix = []\n",
    "for i in range(n):\n",
    "    temp=[int(i) for i in input().split()]\n",
    "    matrix.append(temp)\n",
    "\n",
    "# поворачиваем матрицу на 90 градусов по часовой стрелке (поменять столбцы и строки)\n",
    "matrix_turn= []\n",
    "for j in range(n):\n",
    "    temp=[]\n",
    "    for i in range(n):\n",
    "        temp.append(matrix[i][j])\n",
    "    temp.reverse()\n",
    "    matrix_turn.append(temp)\n",
    "\n",
    "print_matrix(matrix_turn, n, width=3)"
   ]
  },
  {
   "cell_type": "code",
   "execution_count": 359,
   "metadata": {},
   "outputs": [
    {
     "name": "stdout",
     "output_type": "stream",
     "text": [
      ".   .   .   .   N   .   .   .   \n",
      ".   .   *   .   .   .   *   .   \n",
      ".   .   .   *   .   *   .   .   \n",
      ".   .   .   .   .   .   .   .   \n",
      ".   .   .   .   .   .   .   .   \n",
      ".   .   .   .   .   .   .   .   \n",
      ".   .   .   .   .   .   .   .   \n",
      ".   .   .   .   .   .   .   .   \n"
     ]
    }
   ],
   "source": [
    "# ход коня \n",
    "# https://stepik.org/lesson/416755/step/8?unit=406263\n",
    "\n",
    "def print_matrix(matrix, n, width=3):\n",
    "    for r in range(n):\n",
    "        for c in range(n):\n",
    "            print(str(matrix[r][c]).ljust(width), end=' ')\n",
    "        print()\n",
    "\n",
    "# заполним матрицу точками - создаем поле для вывода результата\n",
    "matrix = [['.']*8 for _ in range(8)] \n",
    "\n",
    "# создаем шахматную доску (координаты элементов) - см вспомогательный код ниже\n",
    "chess_desk= []\n",
    "for i in range(8,0,-1):\n",
    "    temp=[]\n",
    "    for j in range(8):\n",
    "        elem=chr(ord('a')+j)+str(i)\n",
    "        temp.append(elem)\n",
    "    chess_desk.append(temp)\n",
    "\n",
    "night_move= matrix.copy()\n",
    "move=input() # задаем положение коня на доске\n",
    "for i in range(8):\n",
    "    for j in range(8):\n",
    "        if chess_desk[i][j]==move: a,b=i,j # находим индексы положения коня и запоминаем их в переменные a,b\n",
    "\n",
    "night_move[a][b] = 'N' # ставим коня на свое место\n",
    "\n",
    "# ставим звездочки на клетки, в которые конь может сходить\n",
    "for i in range(-2,3):\n",
    "    for j in range(-2,3):\n",
    "        if abs(i)!=abs(j) and i!=0 and j!=0: \n",
    "            if 0<=a+i<8 and 0<=b+j<8: night_move[a+i][b+j] = '*' # не забываем про условие невыхода за границы доски\n",
    "            else: continue\n",
    "\n",
    "\n",
    "print_matrix(night_move, 8, width=3)\n",
    "    "
   ]
  },
  {
   "cell_type": "code",
   "execution_count": 350,
   "metadata": {},
   "outputs": [
    {
     "name": "stdout",
     "output_type": "stream",
     "text": [
      "a1  a2  a3  a4  a5  a6  a7  a8  \n",
      "b1  b2  b3  b4  b5  b6  b7  b8  \n",
      "c1  c2  c3  c4  c5  c6  c7  c8  \n",
      "d1  d2  d3  d4  d5  d6  d7  d8  \n",
      "e1  e2  e3  e4  e5  e6  e7  e8  \n",
      "f1  f2  f3  f4  f5  f6  f7  f8  \n",
      "g1  g2  g3  g4  g5  g6  g7  g8  \n",
      "h1  h2  h3  h4  h5  h6  h7  h8  \n"
     ]
    }
   ],
   "source": [
    "def print_matrix(matrix, n, width=3):\n",
    "    for r in range(n):\n",
    "        for c in range(n):\n",
    "            print(str(matrix[r][c]).ljust(width), end=' ')\n",
    "        print()\n",
    "\n",
    "chess_desk= []\n",
    "for i in range(8):\n",
    "    temp=[]\n",
    "    for j in range(1,9):\n",
    "        elem=chr(ord('a')+i)+str(j)\n",
    "        temp.append(elem)\n",
    "    chess_desk.append(temp)\n",
    "\n",
    "print_matrix(chess_desk, 8, width=3)"
   ]
  },
  {
   "cell_type": "code",
   "execution_count": 360,
   "metadata": {},
   "outputs": [
    {
     "name": "stdout",
     "output_type": "stream",
     "text": [
      "a8  b8  c8  d8  e8  f8  g8  h8  \n",
      "a7  b7  c7  d7  e7  f7  g7  h7  \n",
      "a6  b6  c6  d6  e6  f6  g6  h6  \n",
      "a5  b5  c5  d5  e5  f5  g5  h5  \n",
      "a4  b4  c4  d4  e4  f4  g4  h4  \n",
      "a3  b3  c3  d3  e3  f3  g3  h3  \n",
      "a2  b2  c2  d2  e2  f2  g2  h2  \n",
      "a1  b1  c1  d1  e1  f1  g1  h1  \n"
     ]
    }
   ],
   "source": [
    "def print_matrix(matrix, n, width=3):\n",
    "    for r in range(n):\n",
    "        for c in range(n):\n",
    "            print(str(matrix[r][c]).ljust(width), end=' ')\n",
    "        print()\n",
    "\n",
    "chess_desk= []\n",
    "for i in range(8,0,-1):\n",
    "    temp=[]\n",
    "    for j in range(8):\n",
    "        elem=chr(ord('a')+j)+str(i)\n",
    "        temp.append(elem)\n",
    "    chess_desk.append(temp)\n",
    "\n",
    "print_matrix(chess_desk, 8, width=3)\n",
    "\n"
   ]
  },
  {
   "cell_type": "code",
   "execution_count": 363,
   "metadata": {},
   "outputs": [
    {
     "name": "stdout",
     "output_type": "stream",
     "text": [
      "NO\n",
      "1   2   3   \n",
      "4   5   6   \n",
      "7   8   9   \n",
      "15\n",
      "15\n"
     ]
    }
   ],
   "source": [
    "# магический квадрат: сумма чисел по всем направлениям должна быть одинакова (строки, столбцы, диагонали)\n",
    "\n",
    "def print_matrix(matrix, n, width=3):\n",
    "    for r in range(n):\n",
    "        for c in range(n):\n",
    "            print(str(matrix[r][c]).ljust(width), end=' ')\n",
    "        print()\n",
    "\n",
    "# функция, считает след матрицы (сумма главной диагонали)\n",
    "def trace_matrix(matrix):\n",
    "    temp=[]\n",
    "    for i in range(len(matrix)):\n",
    "        temp.append(matrix[i][i])\n",
    "    return sum(temp)\n",
    "\n",
    "# функция, считает сумму побочной диагонали\n",
    "def antitrace_matrix(matrix):\n",
    "    temp=[]\n",
    "    for i in range(len(matrix)):\n",
    "        temp.append(matrix[i][len(matrix)-i-1])\n",
    "    return sum(temp)\n",
    "\n",
    "n= int(input())\n",
    "matrix = []\n",
    "for i in range(n):\n",
    "    temp=[int(i) for i in input().split()]\n",
    "    matrix.append(temp)\n",
    "\n",
    "# запускаем главное условие:\n",
    "if (trace_matrix(matrix)==antitrace_matrix(matrix)                # чтобы суммы главной и побочной диагонали были равны\n",
    "and matrix[0]!=matrix[1] and sorted(matrix[0])!=sorted(matrix[1]) # чтобы элементы не были равны друг другу\n",
    "and all(elem!=0 for elem in [j for i in matrix for j in i])):     # чтобы ни один элемент матрицы не был равен нулю\n",
    "    magic=[sum(matrix[i]) for i in range(len(matrix))] # создаем список для сумм по столбцам и строкам, сразу заполняем суммами по строкам\n",
    "    for i in range(n):\n",
    "        temp=[]\n",
    "        for j in range(n): temp.append(matrix[j][i])\n",
    "        magic.append(sum(temp)) # заполняем суммами по столбцам\n",
    "    if all(elem==trace_matrix(matrix) for elem in magic): print('YES') # если все элементы списка magic равны сумме по главной диагонали\n",
    "    else: print('NO')\n",
    "else: print('NO')       \n",
    "    \n",
    "\n",
    "print_matrix(matrix, n, width=3)\n",
    "print(trace_matrix(matrix))\n",
    "print(antitrace_matrix(matrix))"
   ]
  },
  {
   "cell_type": "code",
   "execution_count": 374,
   "metadata": {},
   "outputs": [
    {
     "name": "stdout",
     "output_type": "stream",
     "text": [
      ".   *   .   *   \n",
      "*   .   *   .   \n"
     ]
    }
   ],
   "source": [
    "# заполним матрицу точками и звездочками в шахматном порядке\n",
    "\n",
    "def print_matrix(matrix, n,m, width=3):\n",
    "    for r in range(n):\n",
    "        for c in range(m):\n",
    "            print(str(matrix[r][c]).ljust(width), end=' ')\n",
    "        print()\n",
    "\n",
    "matrix_size=input().split()\n",
    "n,m = int(matrix_size[0]),int(matrix_size[1])\n",
    "# заполним матрицу точками - создаем поле для вывода результата\n",
    "matrix = [['.']*m for _ in range(n)] \n",
    "\n",
    "# меняем точки на звездочки\n",
    "for i in range(n):\n",
    "    for j in range(1-i%2, m,2): # в шахматном порядке\n",
    "        matrix[i][j]='*'\n",
    "\n",
    "print_matrix(matrix, n,m, width=3)"
   ]
  },
  {
   "cell_type": "code",
   "execution_count": 378,
   "metadata": {},
   "outputs": [
    {
     "name": "stdout",
     "output_type": "stream",
     "text": [
      "0   0   0   0   0   0   0   1   \n",
      "0   0   0   0   0   0   1   2   \n",
      "0   0   0   0   0   1   2   2   \n",
      "0   0   0   0   1   2   2   2   \n",
      "0   0   0   1   2   2   2   2   \n",
      "0   0   1   2   2   2   2   2   \n",
      "0   1   2   2   2   2   2   2   \n",
      "1   2   2   2   2   2   2   2   \n"
     ]
    }
   ],
   "source": [
    "# заполним квадратную матрицу элементами на выбор относительно побочной диагонали\n",
    "\n",
    "def print_matrix(matrix, n, width=3):\n",
    "    for r in range(n):\n",
    "        for c in range(n):\n",
    "            print(str(matrix[r][c]).ljust(width), end=' ')\n",
    "        print()\n",
    "\n",
    "n = int(input())\n",
    "# заполним матрицу точками - создаем поле для вывода результата\n",
    "matrix = [[1]*n for _ in range(n)] \n",
    "\n",
    "# меняем элементы ниже и выше побочной диагонали\n",
    "for i in range(n):\n",
    "    for j in range(n):\n",
    "        if j<n-i-1: matrix[i][j]=0\n",
    "        elif j>n-i-1: matrix[i][j]=2\n",
    "\n",
    "print_matrix(matrix, n, width=3)"
   ]
  },
  {
   "cell_type": "code",
   "execution_count": 393,
   "metadata": {},
   "outputs": [
    {
     "name": "stdout",
     "output_type": "stream",
     "text": [
      "1   2   3   4   5   \n",
      "6   7   8   9   10  \n",
      "11  12  13  14  15  \n",
      "16  17  18  19  20  \n"
     ]
    }
   ],
   "source": [
    "# заполнить матрицу элементами от 1 до n*m\n",
    "\n",
    "def print_matrix(matrix, n,m, width=3):\n",
    "    for r in range(n):\n",
    "        for c in range(m):\n",
    "            print(str(matrix[r][c]).ljust(width), end=' ')\n",
    "        print()\n",
    "\n",
    "matrix_size=input().split()\n",
    "n,m = int(matrix_size[0]),int(matrix_size[1])\n",
    "# заполним матрицу точками - создаем поле для вывода результата\n",
    "temp = [i for i in range(1,n*m+1)] \n",
    "matrix=[temp[x:x+m] for x in range(0,len(temp),m)] # разбиваем временный список на подсписки (их длина равна количеству столбцов)\n",
    "\n",
    "print_matrix(matrix, n,m, width=3)\n"
   ]
  },
  {
   "cell_type": "code",
   "execution_count": 388,
   "metadata": {},
   "outputs": [
    {
     "name": "stdout",
     "output_type": "stream",
     "text": [
      "[[1, 2], [3, 4], [5, 6], [7, 8], [9, 10]]\n",
      "[[1, 2, 3], [4, 5, 6], [7, 8, 9], [10]]\n",
      "[[1, 2, 3, 4], [5, 6, 7, 8], [9, 10]]\n",
      "[[1, 2, 3, 4, 5], [6, 7, 8, 9, 10]]\n"
     ]
    }
   ],
   "source": [
    "# разбить список на подписки заданной длины\n",
    "lst = [1, 2, 3, 4, 5, 6, 7, 8, 9, 10]\n",
    "chop_list = [2,3,4,5]\n",
    "for chop in chop_list:\n",
    "    out = [lst[x:chop+x] for x in range(0,len(lst),chop)]\n",
    "    print(out)"
   ]
  },
  {
   "cell_type": "code",
   "execution_count": 404,
   "metadata": {},
   "outputs": [
    {
     "name": "stdout",
     "output_type": "stream",
     "text": [
      "1   2   3   \n",
      "4   5   6   \n",
      "7   8   9   \n",
      "10  11  12  \n",
      "13  14  15  \n",
      "16  17  18  \n",
      "19  20  21  \n",
      "1   4   7   10  13  16  19  \n",
      "2   5   8   11  14  17  20  \n",
      "3   6   9   12  15  18  21  \n"
     ]
    }
   ],
   "source": [
    "# вывести матрицу размером n на m , заполненную от 1 до n*m так, чтобы столбцы поменялись местами со строками\n",
    "\n",
    "def print_matrix(matrix, n,m, width=3):\n",
    "    for r in range(n):\n",
    "        for c in range(m):\n",
    "            print(str(matrix[r][c]).ljust(width), end=' ')\n",
    "        print()\n",
    "\n",
    "# для разворота матрицы (поменять столбцы и строки местами)\n",
    "def matrix_turn(matrix,n,m):\n",
    "    matrix_turn= []\n",
    "    for i in range(n):\n",
    "        temp=[]\n",
    "        for j in range(m):\n",
    "            temp.append(matrix[j][i])\n",
    "        matrix_turn.append(temp)\n",
    "    return matrix_turn\n",
    "\n",
    "matrix_size=input().split()\n",
    "n,m = int(matrix_size[0]),int(matrix_size[1])\n",
    "# заполним матрицу элементами - создаем поле для вывода результата\n",
    "temp = [i for i in range(1,n*m+1)] \n",
    "matrix=[temp[x:x+n] for x in range(0,len(temp),n)] # разбиваем временный список на подсписки (их длина равна количеству столбцов)\n",
    "\n",
    "print_matrix(matrix, m,n, width=3)\n",
    "\n",
    "matrix_result=matrix_turn(matrix,n,m)\n",
    "print_matrix(matrix_result, n,m, width=3)"
   ]
  },
  {
   "cell_type": "code",
   "execution_count": 405,
   "metadata": {},
   "outputs": [
    {
     "name": "stdout",
     "output_type": "stream",
     "text": [
      "1   0   0   0   1   \n",
      "0   1   0   1   0   \n",
      "0   0   1   0   0   \n",
      "0   1   0   1   0   \n",
      "1   0   0   0   1   \n"
     ]
    }
   ],
   "source": [
    "# заполним квадратную матрицу элементами на выбор ^ кроме элементов главной и побочной диагонали\n",
    "\n",
    "def print_matrix(matrix, n, width=3):\n",
    "    for r in range(n):\n",
    "        for c in range(n):\n",
    "            print(str(matrix[r][c]).ljust(width), end=' ')\n",
    "        print()\n",
    "\n",
    "n = int(input())\n",
    "# заполним матрицу точками - создаем поле для вывода результата\n",
    "matrix = [[0]*n for _ in range(n)] \n",
    "\n",
    "# меняем элементы главной и побочной диагонали\n",
    "for i in range(n):\n",
    "    for j in range(n):\n",
    "        if j==n-i-1 or j==i: matrix[i][j]=1\n",
    "\n",
    "\n",
    "print_matrix(matrix, n, width=3)"
   ]
  },
  {
   "cell_type": "code",
   "execution_count": 408,
   "metadata": {},
   "outputs": [
    {
     "name": "stdout",
     "output_type": "stream",
     "text": [
      "1   1   1   1   1   1   \n",
      "0   1   1   1   1   0   \n",
      "0   0   1   1   0   0   \n",
      "0   0   1   1   0   0   \n",
      "0   1   1   1   1   0   \n",
      "1   1   1   1   1   1   \n"
     ]
    }
   ],
   "source": [
    "# заполним квадратную матрицу элементами на выбор ^ кроме элементов верхнего и нижнего квадранта (четверти)\n",
    "\n",
    "def print_matrix(matrix, n, width=3):\n",
    "    for r in range(n):\n",
    "        for c in range(n):\n",
    "            print(str(matrix[r][c]).ljust(width), end=' ')\n",
    "        print()\n",
    "\n",
    "n = int(input())\n",
    "# заполним матрицу точками - создаем поле для вывода результата\n",
    "matrix = [[0]*n for _ in range(n)] \n",
    "\n",
    "# меняем элементы главной и побочной диагонали\n",
    "for i in range(n):\n",
    "    for j in range(n):\n",
    "        if (i<=n-j-1 and i<=j) or (i>=n-j-1 and i>=j): matrix[i][j]=1\n",
    "\n",
    "\n",
    "print_matrix(matrix, n, width=3)"
   ]
  },
  {
   "cell_type": "code",
   "execution_count": 416,
   "metadata": {},
   "outputs": [
    {
     "name": "stdout",
     "output_type": "stream",
     "text": [
      "1   2   3   4   5   6   \n",
      "2   3   4   5   6   1   \n",
      "3   4   5   6   1   2   \n",
      "4   5   6   1   2   3   \n",
      "5   6   1   2   3   4   \n"
     ]
    }
   ],
   "source": [
    "# заполним матрицу последовательностью от 1 до m , число строк n, причем на каждой последующей строке первый элемент уходит в конец\n",
    "def print_matrix(matrix, n,m, width=3):\n",
    "    for r in range(n):\n",
    "        for c in range(m):\n",
    "            print(str(matrix[r][c]).ljust(width), end=' ')\n",
    "        print()\n",
    "\n",
    "matrix_size=input().split()\n",
    "n,m = int(matrix_size[0]),int(matrix_size[1])\n",
    "temp=[i for i in range(1,m+1)] \n",
    "matrix=[temp.copy()]\n",
    "for i in range(n):\n",
    "    \n",
    "    temp=temp[1:]+temp[:1]\n",
    "    matrix.append(temp)\n",
    "    \n",
    "\n",
    "print_matrix(matrix, n,m, width=3)"
   ]
  },
  {
   "cell_type": "code",
   "execution_count": 417,
   "metadata": {},
   "outputs": [
    {
     "name": "stdout",
     "output_type": "stream",
     "text": [
      "1   2   3   4   5   6   \n",
      "2   3   4   5   6   1   \n",
      "3   4   5   6   1   2   \n",
      "4   5   6   1   2   3   \n",
      "5   6   1   2   3   4   \n"
     ]
    }
   ],
   "source": [
    "# заполним матрицу последовательностью от 1 до m , число строк n, причем на каждой последующей строке первый элемент уходит в конец\n",
    "def print_matrix(matrix, n,m, width=3):\n",
    "    for r in range(n):\n",
    "        for c in range(m):\n",
    "            print(str(matrix[r][c]).ljust(width), end=' ')\n",
    "        print()\n",
    "\n",
    "matrix_size=input().split()\n",
    "n,m = int(matrix_size[0]),int(matrix_size[1])\n",
    "temp=[i for i in range(1,m+1)] \n",
    "matrix=[temp[i:]+temp[0:i] for i in range(n)]\n",
    "    \n",
    "\n",
    "print_matrix(matrix, n,m, width=3)"
   ]
  },
  {
   "cell_type": "code",
   "execution_count": 422,
   "metadata": {},
   "outputs": [
    {
     "name": "stdout",
     "output_type": "stream",
     "text": [
      "1   2   3   4   5   6   7   \n",
      "14  13  12  11  10  9   8   \n",
      "15  16  17  18  19  20  21  \n"
     ]
    }
   ],
   "source": [
    "# На вход программе подаются два натуральных числа nn и mm. Напишите программу, которая создает матрицу \n",
    "# размером n×m заполнив её \"змейкой\" \n",
    "\n",
    "def print_matrix(matrix, n,m, width=3):\n",
    "    for r in range(n):\n",
    "        for c in range(m):\n",
    "            print(str(matrix[r][c]).ljust(width), end=' ')\n",
    "        print()\n",
    "\n",
    "matrix_size=input().split()\n",
    "n,m = int(matrix_size[0]),int(matrix_size[1])\n",
    "temp=[i for i in range(1,n*m+1)] \n",
    "matrix=[temp[x:x+m] for x in range(0,len(temp),m)]\n",
    "matrix=[matrix[i] if i%2==0 else matrix[i][::-1] for i in range(n) ]\n",
    "    \n",
    "\n",
    "print_matrix(matrix, n,m, width=3)"
   ]
  },
  {
   "cell_type": "code",
   "execution_count": null,
   "metadata": {},
   "outputs": [],
   "source": [
    "for i in range(1,f):\n",
    "    elem=i\n",
    "    for j in range(2,3+1):\n",
    "        elem+=j"
   ]
  },
  {
   "cell_type": "code",
   "execution_count": 445,
   "metadata": {},
   "outputs": [
    {
     "name": "stdout",
     "output_type": "stream",
     "text": [
      "[1, 3, 6, 10, 15]\n",
      "[2, 5, 9, 14, 20]\n"
     ]
    }
   ],
   "source": [
    "elem=0\n",
    "spis=[]\n",
    "n=5\n",
    "for i in range(1,n+1):\n",
    "    elem+=i\n",
    "    spis.append(elem)\n",
    "\n",
    "spis2=[]\n",
    "i=0\n",
    "element=1\n",
    "\n",
    "for j in range(1,n+1):\n",
    "    element=spis[i]+j\n",
    "    spis2.append(element)\n",
    "    i+=1\n",
    "\n",
    "\n",
    "print(spis)\n",
    "print(spis2)"
   ]
  },
  {
   "cell_type": "code",
   "execution_count": 449,
   "metadata": {},
   "outputs": [
    {
     "name": "stdout",
     "output_type": "stream",
     "text": [
      "[1, 3, 6, 10, 15]\n",
      "[2, 5, 9, 14, 20]\n"
     ]
    }
   ],
   "source": [
    "elem=0\n",
    "spis=[]\n",
    "n=5\n",
    "for i in range(1,n+1):\n",
    "    elem+=i\n",
    "    spis.append(elem)\n",
    "\n",
    "spis2=[]\n",
    "j=1\n",
    "\n",
    "\n",
    "for i in range(0,n):\n",
    "    element=spis[i]+j\n",
    "    spis2.append(element)\n",
    "    while j<n+2:\n",
    "        j+=1\n",
    "        break\n",
    "\n",
    "\n",
    "print(spis)\n",
    "print(spis2)"
   ]
  },
  {
   "cell_type": "code",
   "execution_count": 460,
   "metadata": {},
   "outputs": [
    {
     "name": "stdout",
     "output_type": "stream",
     "text": [
      "[1, 2, 4, 7, 11, 16, 21, 26, 31, 36]\n"
     ]
    }
   ],
   "source": [
    "spis=[1]\n",
    "j=1\n",
    "n=5\n",
    "m=10\n",
    "count=0\n",
    "\n",
    "\n",
    "for i in range(0,m-1):\n",
    "    element=spis[i]+j\n",
    "    spis.append(element)\n",
    "    while j<n:\n",
    "        j+=1\n",
    "        if j==5: count+=1\n",
    "        break\n",
    "\n",
    "print(spis)"
   ]
  },
  {
   "cell_type": "code",
   "execution_count": 473,
   "metadata": {},
   "outputs": [
    {
     "name": "stdout",
     "output_type": "stream",
     "text": [
      "1   2   \n",
      "3   4   \n",
      "5   6   \n",
      "7   8   \n",
      "9   10  \n"
     ]
    }
   ],
   "source": [
    "def print_matrix(matrix, n,m, width=3):\n",
    "    for r in range(n):\n",
    "        for c in range(m):\n",
    "            print(str(matrix[r][c]).ljust(width), end=' ')\n",
    "        print()\n",
    "\n",
    "# создать прямоугольную  матрицу от n до m числами по порядку от 1 до n*m (ее мы будем менять)\n",
    "matrix_size=input().split()\n",
    "n,m = int(matrix_size[0]),int(matrix_size[1])\n",
    "temp=[i for i in range(1,n*m+1)] \n",
    "matrix=[temp[x:x+m] for x in range(0,len(temp),m)]\n",
    "\n",
    "matrix_itog=matrix.copy()\n",
    "\n",
    "# РЕШЕНИЕ!!! \n",
    "# 1) создал пустую матрицу nxm\n",
    "# 2) для каждого ее элемента пробежал по циклу строк-циклу столбцов\n",
    "# 3) каждому элементу присвоил новое значение исходя из утверждения, что сумма индексов элементов,\n",
    "#  лежащих на одной диагонали, одинаковая! а новое значение элемента просто увеличивается на единицу \n",
    "# (идет последовательно за первы вхождением равенства сумм индексов)\n",
    "\n",
    "nm=0 # это наш будущий элемент итоговой матрицы\n",
    "for q in range(n+m-1):\n",
    "    for i in range(n):\n",
    "        for j in range(m):\n",
    "            if i+j==q: \n",
    "                nm+=1 \n",
    "                matrix_itog[i][j]=nm\n",
    "                \n",
    "print_matrix(matrix_itog, n,m, width=3)"
   ]
  },
  {
   "cell_type": "code",
   "execution_count": 476,
   "metadata": {},
   "outputs": [
    {
     "name": "stdout",
     "output_type": "stream",
     "text": [
      "1   2   3   4   5   6   7   8   9   10  11  12  \n",
      "34  35  36  37  38  39  40  41  42  43  44  13  \n",
      "33  60  61  62  63  64  65  66  67  68  45  14  \n",
      "32  59  78  79  80  81  82  83  84  69  46  15  \n",
      "31  58  77  76  75  74  73  72  71  70  47  16  \n",
      "30  57  56  55  54  53  52  51  50  49  48  17  \n",
      "29  28  27  26  25  24  23  22  21  20  19  18  \n"
     ]
    }
   ],
   "source": [
    "# создать спиральную матрицу \n",
    "# https://stepik.org/lesson/416757/step/10?unit=406265\n",
    "\n",
    "# задаем функцию заполнения спиралью\n",
    "def spiralFill(m, n, a):\n",
    " \n",
    "    # задаем первое значение матрицы (с индексом [0][0])\n",
    "    val = 1\n",
    " \n",
    "    # k - starting row index\n",
    "    # m - ending row index\n",
    "    # l - starting column index\n",
    "    # n - ending column index\n",
    "    k, l = 0, 0\n",
    "    while (k < m and l < n): # для всех значений матрицы 'a'\n",
    " \n",
    "        # Print the first row from the remaining rows.\n",
    "        for i in range(l, n):\n",
    "            a[k][i] = val\n",
    "            val += 1\n",
    "        k += 1\n",
    " \n",
    "        # Print the last column from the remaining columns.\n",
    "        for i in range(k, m):\n",
    "            a[i][n - 1] = val\n",
    "            val += 1\n",
    "        n -= 1\n",
    " \n",
    "        # Print the last row from the remaining rows.\n",
    "        if (k < m):\n",
    "            for i in range(n - 1, l - 1, -1):\n",
    "                a[m - 1][i] = val\n",
    "                val += 1\n",
    "            m -= 1\n",
    " \n",
    "        # Print the first column from the remaining columns.\n",
    "        if (l < n):\n",
    "            for i in range(m - 1, k - 1, -1):\n",
    "                a[i][l] = val\n",
    "                val += 1\n",
    "            l += 1\n",
    "    \n",
    "    return a\n",
    "\n",
    "def print_matrix(matrix, n,m, width=3):\n",
    "    for r in range(n):\n",
    "        for c in range(m):\n",
    "            print(str(matrix[r][c]).ljust(width), end=' ')\n",
    "        print()\n",
    "\n",
    "# создать прямоугольную  матрицу от n до m числами по порядку от 1 до n*m (ее мы будем менять)\n",
    "matrix_size=input().split()\n",
    "m,n = int(matrix_size[0]),int(matrix_size[1])\n",
    "temp=[i for i in range(1,n*m+1)] \n",
    "matrix=[temp[x:x+n] for x in range(0,len(temp),n)]\n",
    "\n",
    "matrix= spiralFill(m, n, matrix)\n",
    "                \n",
    "print_matrix(matrix, m,n, width=3)"
   ]
  },
  {
   "cell_type": "code",
   "execution_count": 499,
   "metadata": {},
   "outputs": [
    {
     "name": "stdout",
     "output_type": "stream",
     "text": [
      "12  18  \n",
      "27  42  \n",
      "42  66  \n",
      "57  90  \n",
      "\n",
      "12  18  \n",
      "27  42  \n",
      "42  66  \n",
      "57  90  \n"
     ]
    }
   ],
   "source": [
    "# умножение матриц (альтернативный метод)\n",
    "# 1 способ\n",
    "def matmult(a,b):\n",
    "    zip_b = zip(*b)\n",
    "    zip_b = list(zip_b)\n",
    "    return [[sum(ele_a*ele_b for ele_a, ele_b in zip(row_a, col_b))\n",
    "             for col_b in zip_b] for row_a in a]\n",
    "\n",
    "def print_matrix(matrix, width):\n",
    "    n=len(matrix)\n",
    "    m=len(matrix[0])\n",
    "    for r in range(n):\n",
    "        for c in range(m):\n",
    "            print(str(matrix[r][c]).ljust(width), end=' ')\n",
    "        print()\n",
    "\n",
    "x = [[1,2,3],[4,5,6],[7,8,9],[10,11,12]]\n",
    "y = [[1,2],[1,2],[3,4]]\n",
    "\n",
    "# 2 способ\n",
    "import numpy as np \n",
    "result= np.matmul(x,y)\n",
    "\n",
    "\n",
    "print_matrix(matmult(x,y), 3)\n",
    "print()\n",
    "print_matrix(result, 3)"
   ]
  },
  {
   "cell_type": "code",
   "execution_count": 478,
   "metadata": {},
   "outputs": [
    {
     "name": "stdout",
     "output_type": "stream",
     "text": [
      "1   2   3   \n",
      "4   5   6   \n",
      "7   8   9   \n",
      "10  11  12  \n"
     ]
    }
   ],
   "source": [
    "# распечатать ЛЮБУЮ матрицу \n",
    "def print_matrix(matrix, width):\n",
    "    n=len(matrix)\n",
    "    m=len(matrix[0])\n",
    "    for r in range(n):\n",
    "        for c in range(m):\n",
    "            print(str(matrix[r][c]).ljust(width), end=' ')\n",
    "        print()\n",
    "\n",
    "x = [[1,2,3],[4,5,6],[7,8,9],[10,11,12]]\n",
    "\n",
    "print_matrix(x,3)"
   ]
  },
  {
   "cell_type": "code",
   "execution_count": 498,
   "metadata": {},
   "outputs": [
    {
     "name": "stdout",
     "output_type": "stream",
     "text": [
      "1   0   \n",
      "100 1   \n"
     ]
    }
   ],
   "source": [
    "# возвести матрицу в степень (умножить саму на себя )\n",
    "def print_matrix(matrix, width):\n",
    "    n=len(matrix)\n",
    "    m=len(matrix[0])\n",
    "    for r in range(n):\n",
    "        for c in range(m):\n",
    "            print(str(matrix[r][c]).ljust(width), end=' ')\n",
    "        print()\n",
    "\n",
    "\n",
    "import numpy as np \n",
    "def matrix_degree(matrix,degree):\n",
    "    matrix_copy=matrix.copy()\n",
    "    for i in range(degree-1):                   # повторяем операцию n-1 раз \n",
    "        result= np.matmul(matrix,matrix_copy)\n",
    "        matrix_copy=result\n",
    "    return result\n",
    "\n",
    "matrix=[[1,0],[4,1]]\n",
    "\n",
    "print_matrix(matrix_degree(matrix,25), 3)"
   ]
  },
  {
   "cell_type": "code",
   "execution_count": null,
   "metadata": {},
   "outputs": [],
   "source": [
    "# сложение матриц\n",
    "\n",
    "def print_matrix(matrix, width):\n",
    "    n=len(matrix)\n",
    "    m=len(matrix[0])\n",
    "    for r in range(n):\n",
    "        for c in range(m):\n",
    "            print(str(matrix[r][c]).ljust(width), end=' ')\n",
    "        print()\n",
    "\n",
    "def matrix_summ(matrix_1, matrix_2):\n",
    "    matrix=matrix_1.copy()\n",
    "    for i in range(len(matrix_1)):\n",
    "        for j in range(len(matrix_1[0])):\n",
    "            matrix[i][j]=matrix_1[i][j]+matrix_2[i][j]\n",
    "    return matrix\n",
    "\n",
    "# заполнение матрицы с клавиатуры (задаем размер), потом через пробел вводим элементы матрицы\n",
    "matrix_size=input().split()\n",
    "n,m = int(matrix_size[0]),int(matrix_size[1])\n",
    "matrix_1 = []\n",
    "for i in range(n):\n",
    "    temp=[int(i) for i in input().split()]\n",
    "    matrix_1.append(temp)\n",
    "\n",
    "a=input() # эта строка ТОЛЬКО для того, чтобы считать ебучий перенос строки до нового ввода данных\n",
    "\n",
    "matrix_2 = []\n",
    "for i in range(n):\n",
    "    temp=[int(i) for i in input().split()]\n",
    "    matrix_2.append(temp)\n",
    "\n",
    "print_matrix(matrix_summ(matrix_1,matrix_2),3)\n",
    "\n"
   ]
  },
  {
   "cell_type": "code",
   "execution_count": null,
   "metadata": {},
   "outputs": [],
   "source": [
    "def print_matrix(matrix, width):\n",
    "    n=len(matrix)\n",
    "    m=len(matrix[0])\n",
    "    for r in range(n):\n",
    "        for c in range(m):\n",
    "            print(str(matrix[r][c]).ljust(width), end=' ')\n",
    "        print()\n",
    "\n",
    "\n",
    "# заполнение матрицы с клавиатуры (задаем размер), потом через пробел вводим элементы матрицы\n",
    "matrix_size=input().split()\n",
    "n,m = int(matrix_size[0]),int(matrix_size[1])\n",
    "matrix_1 = []\n",
    "for i in range(n):\n",
    "    temp=[int(i) for i in input().split()]\n",
    "    matrix_1.append(temp)\n",
    "\n",
    "a=input() # эта строка ТОЛЬКО для того, чтобы считать ебучий перенос строки до нового ввода данных\n",
    "\n",
    "matrix_size=input().split()\n",
    "n,m = int(matrix_size[0]),int(matrix_size[1])\n",
    "matrix_2 = []\n",
    "for i in range(n):\n",
    "    temp=[int(i) for i in input().split()]\n",
    "    matrix_2.append(temp)\n",
    "\n",
    "import numpy as np \n",
    "result= np.matmul(matrix_1,matrix_2)\n",
    "\n",
    "print_matrix(result,3)"
   ]
  },
  {
   "cell_type": "code",
   "execution_count": null,
   "metadata": {},
   "outputs": [],
   "source": [
    "def print_matrix(matrix, width):\n",
    "    n=len(matrix)\n",
    "    m=len(matrix[0])\n",
    "    for r in range(n):\n",
    "        for c in range(m):\n",
    "            print(str(matrix[r][c]).ljust(width), end=' ')\n",
    "        print()\n",
    "\n",
    "import numpy as np \n",
    "def matrix_degree(matrix,degree):\n",
    "    matrix_copy=matrix.copy()\n",
    "    for i in range(degree-1):                   # повторяем операцию n-1 раз \n",
    "        result= np.matmul(matrix,matrix_copy)\n",
    "        matrix_copy=result\n",
    "    return result\n",
    "\n",
    "# заполнение матрицы с клавиатуры (задаем размер), потом через пробел вводим элементы матрицы\n",
    "n=int(input())\n",
    "matrix = []\n",
    "for i in range(n):\n",
    "    temp=[int(i) for i in input().split()]\n",
    "    matrix.append(temp)\n",
    "degree=int(input())\n",
    "\n",
    "print_matrix(matrix_degree(matrix,degree), 3)"
   ]
  },
  {
   "cell_type": "code",
   "execution_count": 507,
   "metadata": {},
   "outputs": [
    {
     "name": "stdout",
     "output_type": "stream",
     "text": [
      "timur\n",
      "beegeek.org\n",
      "m\n",
      "a\n",
      "t\n",
      "h\n",
      "[1, 2, 3] 4\n"
     ]
    }
   ],
   "source": [
    "info = ['timur', 'beegeek.org']\n",
    "user, domain = info    # распаковка списка\n",
    "\n",
    "print(user)\n",
    "print(domain)\n",
    "\n",
    "a, b, c, d = 'math'    # распаковка строки\n",
    "\n",
    "cortegh= 1,2,3,4\n",
    "*first,unpack, = 1,2,3,4       # распаковка кортежа\n",
    "\n",
    "print(a)\n",
    "print(b)\n",
    "print(c)\n",
    "print(d)\n",
    "print(first, unpack)"
   ]
  },
  {
   "cell_type": "code",
   "execution_count": 508,
   "metadata": {},
   "outputs": [
    {
     "name": "stdout",
     "output_type": "stream",
     "text": [
      "('abc', '-', 'de')\n",
      "('abc-de', '', '')\n",
      "('abc', '-', 'de-fgh')\n"
     ]
    }
   ],
   "source": [
    "# Помимо метода split() строковый тип данных содержит метод partition(). \n",
    "# Метод partition() принимает на вход один аргумент sep, разделяет строку при первом появлении sep и \n",
    "# возвращает кортеж, состоящий из трех элементов: часть перед разделителем, сам разделитель и \n",
    "# часть после разделителя. Если разделитель не найден, то кортеж содержит саму строку, за которой следуют две пустые строки.\n",
    "s1 = 'abc-de'.partition('-')\n",
    "s2 = 'abc-de'.partition('.')\n",
    "s3 = 'abc-de-fgh'.partition('-')\n",
    "\n",
    "print(s1)\n",
    "print(s2)\n",
    "print(s3)"
   ]
  },
  {
   "cell_type": "code",
   "execution_count": 511,
   "metadata": {},
   "outputs": [
    {
     "name": "stdout",
     "output_type": "stream",
     "text": [
      "[1, 1, 2, 3, 5, 8, 13, 21, 34, 55, 89, 144, 233, 377, 610]\n"
     ]
    }
   ],
   "source": [
    "# вычисление чисел Фибоначчи кортежами (ОЧЕНЬ коротко)\n",
    "\n",
    "n = int(input())\n",
    "f1, f2 = 1, 1\n",
    "spis=[]\n",
    "for i in range(n):\n",
    "    spis.append(f1) # необязательная строка, просто записываю каждый элемент последовательность для удобства вывода\n",
    "    f1, f2 = f2, f1 + f2\n",
    "print(spis)"
   ]
  },
  {
   "cell_type": "code",
   "execution_count": 516,
   "metadata": {},
   "outputs": [
    {
     "name": "stdout",
     "output_type": "stream",
     "text": [
      "{'a': 1, 'b': 2, 'c': 3, 'd': 4, 'e': 5, 'f': 6}\n"
     ]
    }
   ],
   "source": [
    "my_dict = {'a': 1, 'b': 2, 'c': 3, 'd': 4, 'e': 5, 'f': 6}\n",
    "\n",
    "print(my_dict)"
   ]
  },
  {
   "cell_type": "code",
   "execution_count": null,
   "metadata": {},
   "outputs": [],
   "source": [
    "# Зададим исходно список и словарь (скопировать перед примерами ниже):\n",
    "my_list = ['a', 'b', 'c', 'd', 'e', 'f']\n",
    "my_dict = {'a': 1, 'b': 2, 'c': 3, 'd': 4, 'e': 5, 'f': 6}"
   ]
  },
  {
   "cell_type": "code",
   "execution_count": 517,
   "metadata": {},
   "outputs": [
    {
     "name": "stdout",
     "output_type": "stream",
     "text": [
      "[1, 1, 1, 3, 5, 9, 17, 31]\n"
     ]
    }
   ],
   "source": [
    "# вычисление чисел ТРИбоначчи (:-D)) - последующее число является суммой ТРЕХ предыдущих\n",
    "\n",
    "n = int(input())\n",
    "f1, f2, f3 = 1, 1, 1\n",
    "spis=[]\n",
    "for i in range(n):\n",
    "    spis.append(f1) # необязательная строка, просто записываю каждый элемент последовательность для удобства вывода\n",
    "    f1, f2, f3 = f2, f3, f1 + f2 + f3\n",
    "print(spis)"
   ]
  },
  {
   "cell_type": "code",
   "execution_count": 522,
   "metadata": {},
   "outputs": [
    {
     "name": "stdout",
     "output_type": "stream",
     "text": [
      "<class 'range'>\n",
      "range(0, 7)\n"
     ]
    }
   ],
   "source": [
    "print(type(range(7)))\n",
    "\n",
    "tp= range(7)\n",
    "\n",
    "print(tp)"
   ]
  },
  {
   "cell_type": "code",
   "execution_count": 523,
   "metadata": {},
   "outputs": [
    {
     "name": "stdout",
     "output_type": "stream",
     "text": [
      "[2, 3, 4, 5, 6]\n"
     ]
    }
   ],
   "source": [
    "a, b, *c = range(7)\n",
    "\n",
    "print(c)"
   ]
  },
  {
   "cell_type": "code",
   "execution_count": 527,
   "metadata": {},
   "outputs": [
    {
     "name": "stdout",
     "output_type": "stream",
     "text": [
      "[['a', 'b', 'c', 'd', 'e', 'f', 'g', 'h', 'i', 'j', 'k', 'l', 'm', 'n']]\n"
     ]
    }
   ],
   "source": [
    "spis=input().split()\n",
    "n=int(input())\n",
    "\n",
    "result=[]\n",
    "for j in range(n):\n",
    "    temp=[]\n",
    "    for i in range(j,len(spis),n):\n",
    "        temp.append(spis[i])\n",
    "    result.append(temp)\n",
    "\n",
    "print(result)"
   ]
  },
  {
   "cell_type": "code",
   "execution_count": null,
   "metadata": {},
   "outputs": [],
   "source": [
    "n = int(input())\n",
    "matrix = []\n",
    "for i in range(n):\n",
    "    temp=[int(i) for i in input().split()]\n",
    "    matrix.append(temp)\n",
    "\n",
    "tmp=[]\n",
    "for i in range(n):\n",
    "    for j in range(n):\n",
    "        if i>=n-j-1: tmp.append(matrix[i][j])\n",
    "print(max(tmp))\n",
    "# print(max([i for j in  matrix for i in j ]))"
   ]
  },
  {
   "cell_type": "code",
   "execution_count": 534,
   "metadata": {},
   "outputs": [
    {
     "name": "stdout",
     "output_type": "stream",
     "text": [
      "*   .   .   .   *   .   .   .   *   \n",
      ".   *   .   .   *   .   .   *   .   \n",
      ".   .   *   .   *   .   *   .   .   \n",
      ".   .   .   *   *   *   .   .   .   \n",
      "*   *   *   *   *   *   *   *   *   \n",
      ".   .   .   *   *   *   .   .   .   \n",
      ".   .   *   .   *   .   *   .   .   \n",
      ".   *   .   .   *   .   .   *   .   \n",
      "*   .   .   .   *   .   .   .   *   \n"
     ]
    }
   ],
   "source": [
    "# снежинка\n",
    "\n",
    "def print_matrix(matrix, n, width=3):\n",
    "    for r in range(n):\n",
    "        for c in range(n):\n",
    "            print(str(matrix[r][c]).ljust(width), end=' ')\n",
    "        print()\n",
    "\n",
    "n = int(input())\n",
    "# заполним матрицу точками - создаем поле для вывода результата\n",
    "matrix = [['.']*n for _ in range(n)] \n",
    "\n",
    "# меняем элементы главной и побочной диагонали\n",
    "for i in range(n):\n",
    "    for j in range(n):\n",
    "        if i==n-j-1 or i==j or (i==(n)//2) or (j==(n)//2): matrix[i][j]='*'\n",
    "\n",
    "\n",
    "print_matrix(matrix, n, width=3)"
   ]
  },
  {
   "cell_type": "code",
   "execution_count": 536,
   "metadata": {},
   "outputs": [
    {
     "name": "stdout",
     "output_type": "stream",
     "text": [
      "YES\n"
     ]
    }
   ],
   "source": [
    "# проверить симметричность квадратной матрицы относительно побочной диагонали (элементы вводятся построчно с клавиатуры)\n",
    "\n",
    "def print_matrix(matrix, n, width=3):\n",
    "    for r in range(n):\n",
    "        for c in range(n):\n",
    "            print(str(matrix[r][c]).ljust(width), end=' ')\n",
    "        print()\n",
    "\n",
    "n= int(input())\n",
    "matrix = []\n",
    "for i in range(n):\n",
    "    temp=[int(i) for i in input().split()]\n",
    "    matrix.append(temp)\n",
    "\n",
    "count=0\n",
    "for i in range(n-1):\n",
    "    for j in range(n-i-1):\n",
    "        if matrix[i][j] == matrix[n-j-1][n-i-1]: count+=1\n",
    "\n",
    "print('YES' if count==(n**2-n)/2 else 'NO')"
   ]
  },
  {
   "cell_type": "code",
   "execution_count": null,
   "metadata": {},
   "outputs": [],
   "source": [
    "# латиниский квадрат\n",
    "\n",
    "n= int(input())\n",
    "matrix = []\n",
    "for i in range(n):\n",
    "    temp=[int(i) for i in input().split()]\n",
    "    matrix.append(temp)\n",
    "\n",
    "etalon=[i for i in range(1,n+1)]\n",
    "count=0\n",
    "for i in range(n):\n",
    "    temp_row=[]\n",
    "    temp_col=[]\n",
    "    for j in range(n):\n",
    "        temp_row.append(matrix[i][j])\n",
    "        temp_col.append(matrix[j][i])\n",
    "        if sorted(temp_row)==sorted(temp_col)==etalon: count+=1\n",
    "\n",
    "print('YES' if count==n else 'NO')"
   ]
  },
  {
   "cell_type": "code",
   "execution_count": 552,
   "metadata": {},
   "outputs": [
    {
     "name": "stdout",
     "output_type": "stream",
     "text": [
      ".   .   .   *   .   .   .   .   \n",
      ".   .   .   *   .   .   .   *   \n",
      "*   .   .   *   .   .   *   .   \n",
      ".   *   .   *   .   *   .   .   \n",
      ".   .   *   *   *   .   .   .   \n",
      "*   *   *   Q   *   *   *   *   \n",
      ".   .   *   *   *   .   .   .   \n",
      ".   *   .   *   .   *   .   .   \n"
     ]
    }
   ],
   "source": [
    "# ход ферзя \n",
    "\n",
    "def print_matrix(matrix, n, width=3):\n",
    "    for r in range(n):\n",
    "        for c in range(n):\n",
    "            print(str(matrix[r][c]).ljust(width), end=' ')\n",
    "        print()\n",
    "\n",
    "# заполним матрицу точками - создаем поле для вывода результата\n",
    "matrix = [['.']*8 for _ in range(8)] \n",
    "\n",
    "# создаем шахматную доску (координаты элементов) - см вспомогательный ранее\n",
    "chess_desk= []\n",
    "for i in range(8,0,-1):\n",
    "    temp=[]\n",
    "    for j in range(8):\n",
    "        elem=chr(ord('a')+j)+str(i)\n",
    "        temp.append(elem)\n",
    "    chess_desk.append(temp)\n",
    "\n",
    "qeen_move= matrix.copy()\n",
    "move=input() # задаем положение ферзя на доске\n",
    "for i in range(8):\n",
    "    for j in range(8):\n",
    "        if chess_desk[i][j]==move: a,b=i,j # находим индексы положения коня и запоминаем их в переменные a,b\n",
    "\n",
    "\n",
    "# ставим звездочки на клетки, в которые ферзь может сходить\n",
    "for i in range(8):\n",
    "    qeen_move[a][i]='*'\n",
    "    qeen_move[i][b]='*'\n",
    "for i in range(8):\n",
    "    for j in range(8):\n",
    "        if i+j==a+b or a-i==b-j: qeen_move[i][j] = '*'\n",
    "qeen_move[a][b] = 'Q'                                   # ставим ферзя на свое место\n",
    "\n",
    "print_matrix(qeen_move, 8, width=3)\n",
    "    "
   ]
  },
  {
   "cell_type": "code",
   "execution_count": null,
   "metadata": {},
   "outputs": [],
   "source": [
    "def print_matrix(matrix, n, width=3):\n",
    "    for r in range(n):\n",
    "        for c in range(n):\n",
    "            print(str(matrix[r][c]).ljust(width), end=' ')\n",
    "        print()\n",
    "\n",
    "n=int(input())\n",
    "# заполним матрицу нулями - создаем поле для вывода результата\n",
    "matrix = [['0']*n for _ in range(n)] \n",
    "\n",
    "for i in range(n):\n",
    "    for j in range(i+1,n):\n",
    "        "
   ]
  },
  {
   "cell_type": "code",
   "execution_count": 572,
   "metadata": {},
   "outputs": [
    {
     "name": "stdout",
     "output_type": "stream",
     "text": [
      "0   1   2   3   4   \n",
      "1   0   1   2   3   \n",
      "2   1   0   1   2   \n",
      "3   2   1   0   1   \n",
      "4   3   2   1   0   \n"
     ]
    }
   ],
   "source": [
    "def print_matrix(matrix, width):\n",
    "    n=len(matrix)\n",
    "    m=len(matrix[0])\n",
    "    for r in range(n):\n",
    "        for c in range(m):\n",
    "            print(str(matrix[r][c]).ljust(width), end=' ')\n",
    "        print()\n",
    "\n",
    "n=int(input())\n",
    "temp=[i for i in range(n)]\n",
    "matrix=[temp]\n",
    "for i in range(1,n):\n",
    "    tmp1=temp[:-i]\n",
    "    tmp2= temp[1:i+1]\n",
    "    tmp2.reverse()\n",
    "    tmp3=tmp2+tmp1\n",
    "    matrix.append(tmp3)\n",
    "\n",
    "\n",
    "\n",
    "print_matrix(matrix,3)"
   ]
  },
  {
   "cell_type": "code",
   "execution_count": 560,
   "metadata": {},
   "outputs": [
    {
     "name": "stdout",
     "output_type": "stream",
     "text": [
      "[1, 2, 3, 4]\n",
      "[3, 1, 2, 3]\n",
      "[4, 3, 1, 2]\n",
      "[5, 4, 3, 1]\n"
     ]
    }
   ],
   "source": [
    "tmp=[1,2,3,4,5]\n",
    "for i in range(1,len(tmp)): \n",
    "    itog=tmp[i:1:-1]+tmp[:-i]\n",
    "    print(itog)"
   ]
  },
  {
   "cell_type": "code",
   "execution_count": 561,
   "metadata": {},
   "outputs": [
    {
     "name": "stdout",
     "output_type": "stream",
     "text": [
      "[5, 4, 3, 2, 1]\n"
     ]
    }
   ],
   "source": [
    "tmp=[1,2,3,4,5]\n",
    "tmp.reverse()\n",
    "\n",
    "print(tmp)"
   ]
  },
  {
   "cell_type": "code",
   "execution_count": null,
   "metadata": {},
   "outputs": [],
   "source": [
    "# задачи на множества!! множество \n",
    "\n",
    "# задача на диаграмму Эйлера-Венна (ученики и их передвижения летом) Тимур и его команда\n",
    "# https://stepik.org/lesson/479457/step/14?unit=470432\n",
    "\n",
    "\n",
    "n,m,k,x,y,z = int(input()),int(input()),int(input()),int(input()),int(input()),int(input())\n",
    "print(n+m+k-x-y+z)\n"
   ]
  },
  {
   "cell_type": "code",
   "execution_count": null,
   "metadata": {},
   "outputs": [],
   "source": [
    "# книги на прочтение https://stepik.org/lesson/479457/step/15?unit=470432\n",
    "\n",
    "n,m,k,x,y,z,t,a = int(input()),int(input()),int(input()),int(input()),int(input()),int(input()),int(input()),int(input())\n",
    "\n",
    "print(2*(x+y+z)-3*(n+m+k)+3*t) # прочитали только одну книгу\n",
    "print(2*(n+m+k)-(x+y+z)-3*t) # прочитали две книги\n",
    "print(a-(x+y+z)+(n+m+k)-t) # не прочитали ни одной"
   ]
  },
  {
   "cell_type": "code",
   "execution_count": 575,
   "metadata": {},
   "outputs": [
    {
     "name": "stdout",
     "output_type": "stream",
     "text": [
      "['h', 'b', 'h', 'b', 'a', 'f', 'c', 'g', 'c', 'b', 'h', 'd', 'f', 'f', 'c', 'f', 'a', 'a', 'b', 'a', 'a', 'a', 'h', 'f', 'f', 'h', 'b', 'd', 'h', 'f', 'e', 'e', 'f', 'a', 'h', 'c', 'a', 'h', 'd', 'f']\n",
      "8\n",
      "5\n",
      "4\n",
      "3\n",
      "2\n",
      "9\n",
      "1\n",
      "8\n"
     ]
    }
   ],
   "source": [
    "# случайный рандомный random набор чисел из заданного промежутка-интервала\n",
    "from random import randint\n",
    "spis=([randint(1,8) for _ in range(40)]) # обрати внимание на диапазон рандома: он включителен для ОБЕИХ границ\n",
    "\n",
    "alph=[chr(ord('a')-1+i) for i in spis]\n",
    "\n",
    "print(alph)\n",
    "\n",
    "print(alph.count('a'))\n",
    "print(alph.count('b'))\n",
    "print(alph.count('c'))\n",
    "print(alph.count('d'))\n",
    "print(alph.count('e'))\n",
    "print(alph.count('f'))\n",
    "print(alph.count('g'))\n",
    "print(alph.count('h'))"
   ]
  },
  {
   "cell_type": "code",
   "execution_count": 613,
   "metadata": {},
   "outputs": [],
   "source": [
    "# немного теории на множества (для запоминания) \n",
    "# Важно знать:\n",
    "# все элементы множества различны (уникальны), два элемента не могут иметь одинаковое значение\n",
    "# множества неупорядочены, то есть элементы не хранятся в каком-то определенном порядке\n",
    "# элементы множества должны относиться к неизменяемым типам данных\n",
    "# хранящиеся в множестве элементы могут иметь разные типы данных. \n",
    " \n",
    "\n",
    "# Элементы множества могут принадлежать любому неизменяемому типу данных, быть числами, строками, кортежами. \n",
    "# Элементы изменяемых типов данных не могут входить в множества, в частности, \n",
    "# нельзя сделать элементом множества список или другое множество. \n",
    "# Требование неизменяемости элементов множества накладывается особенностями представления множеств в Python.\n",
    "\n",
    "# Примечание 1. Индексация и срезы недоступны для множеств.\n",
    "\n",
    "# Примечание 2. Операция конкатенации + и умножения на число * недоступны для множеств.\n",
    "\n",
    "# так же работают: \n",
    "# - перебор элементов циклов for : без индексов (for num in numbers)\n",
    "# - распаковка множества с оператором * (*numbers - распаковка)\n",
    "\n",
    "# Множества можно сравнивать между собой. Равные множества имеют одинаковую длину и содержат равные элементы. \n",
    "# Для сравнения множеств используются операторы == и !=.\n",
    "\n",
    "# Для добавления нового элемента в множество используется метод add().\n",
    "\n",
    "# Для удаления элементов из множества используются методы: \n",
    "# remove() - создаст ошибку, если нет такого элемента;\n",
    "#  discard() - не создаст ошибку, если такого элемента нет во множестве;\n",
    "#  pop() - рандомное удаление в одну итерацию (потому что нет индексов элементов)\n",
    "# clear() - очистит нахрен все множество и выведет set()\n",
    "\n",
    "# Примечание 1. Если мы не изменяли множество, порядок обхода элементов при помощи цикла for не изменится.\n",
    "\n",
    "# Примечание 2. После изменения множества (методы add(), remove(), и т.д.) порядок элементов может измениться произвольным образом. \n",
    " \n",
    "# Методы union(), intersection(), difference(), symmetric_difference() не изменяют исходные множества, а возвращают новые. \n",
    "# Часто на практике нужно изменять исходные множества. Для таких целей используются парные методы:\n",
    "# update() или '|=' : обединяет А и В множества, записывая результат объединения во множество А: A.update(B)\n",
    "# intersection_update() или '&=', : пересечение А и В множеств, в итоге перезаписывается мн-во А\n",
    "# difference_update() или '-=', аналогично методам выше \n",
    "# symmetric_difference_update() или '^=' , аналогично методам выше.\n",
    "\n",
    "# почему методы выгоднее операторов? потому что множество А можно пересекать \n",
    "# не только с множеством, но и с кортежем, списком, строкой - записывая их в качестве аргумента в метод\n",
    "\n",
    "#  методы (union(), intersection(), difference()) и операторы (|, &, -, ^) \n",
    "# позволяют совершать операции над несколькими множествами сразу. Порядок чтения - слева направо\n",
    "# ПРИ ЭТОМ! оператор ^ позволит сделать симметричную матрицу к НЕСКОЛЬКИМ множествам сразу, а метод symmetric_difference() нет.\n",
    "\n",
    "# приоритет операторов по убыванию: разность(-), пересечение(&), симм. разность(^), объединение |)\n",
    "\n",
    "# определение подмножества - метод issubset() или '<=' (строгое/нестрогое подмножество) - возвращает булево знач\n",
    "# определение надмножества - метод issuperset() или '>=' (строгое/нестрогое надмножество) - возвращ булево знач\n",
    "# определение ОТСУТСТВИЯ общих элементов - метод isdisjoint()\n",
    "\n",
    "# Примечание: Методы issuperset(), issubset(), isdisjoint() могут принимать в качестве аргумента не только множество \n",
    "# (тип данных set), но и любой итерируемый объект (список, строку, кортеж), а Операторы >, <, >=, <= требуют наличия \n",
    "# в качестве операндов множеств.\n",
    "\n",
    "# самый удобный способ заполнить множество с клавиатуры digits = {int(c) for c in input()}\n",
    "\n",
    "# Кортеж (тип tuple) – неизменяемая версия списка (тип list), \n",
    "# а замороженное множество (тип frozenset) – неизменяемая версия обычного множества (тип set). \n",
    "# Примечание 1. Будучи изменяемыми, обычные множества не могут быть элементами других множеств. \n",
    "# Замороженные множества являются неизменяемыми, а значит могут быть элементами других множеств. \n",
    "# у замороженных множеств отсутствуют: add(), remove(), discard(), pop(), clear(), update(), intersection_update(), \n",
    "# difference_update(), symmetric_difference_update() \n",
    "# Зато их можно сравнивать (замороженные с обычными)"
   ]
  },
  {
   "cell_type": "code",
   "execution_count": 578,
   "metadata": {},
   "outputs": [
    {
     "name": "stdout",
     "output_type": "stream",
     "text": [
      "{2, 4, 6, 8, 10, 12, 14, 16, 18, 20}\n",
      "11\n",
      "11.0\n"
     ]
    }
   ],
   "source": [
    "numbers = {20, 6, 8, 18, 18, 2, 4, 6, 8, 10, 12, 14, 16, 18, 20, 12, 8, 8, 10, 4, 2, 2, 2, 16, 20}\n",
    "from statistics import mean\n",
    "num=numbers\n",
    "average = mean(num)\n",
    "\n",
    "print(num)\n",
    "print(average)\n",
    "print(sum(numbers)/len(numbers))\n",
    "\n"
   ]
  },
  {
   "cell_type": "code",
   "execution_count": 579,
   "metadata": {},
   "outputs": [
    {
     "name": "stdout",
     "output_type": "stream",
     "text": [
      "pineapple\n",
      "grapefruit\n",
      "cherry\n",
      "banana\n",
      "avocado\n",
      "apricot\n",
      "apple\n"
     ]
    }
   ],
   "source": [
    "# вывод элементов множества в порядке убывания , каждый элемент на новой строке\n",
    "\n",
    "fruits = {'apple', 'banana', 'cherry', 'avocado', 'pineapple', 'apricot', 'banana', 'avocado', 'grapefruit'}\n",
    "\n",
    "print(*sorted(fruits, reverse= True), sep='\\n')\n",
    "# распаковываем отсортированный по возрастанию список с параметром реверса= True "
   ]
  },
  {
   "cell_type": "code",
   "execution_count": null,
   "metadata": {},
   "outputs": [],
   "source": [
    "n = int(input())\n",
    "l=input().lower()\n",
    "for i in range(n-1):\n",
    "    l+=input().lower()\n",
    "print(len(set(l)))\n"
   ]
  },
  {
   "cell_type": "code",
   "execution_count": 609,
   "metadata": {},
   "outputs": [
    {
     "name": "stdout",
     "output_type": "stream",
     "text": [
      "['milk', 'is', 'white', 'and', 'so', 'is', 'glue,', 'ghosts', 'are', 'white', 'and', 'they', 'say', 'boo!']\n",
      "11\n"
     ]
    }
   ],
   "source": [
    "# посчитать количество разных слов в строке, знаки препинания не учитывать\n",
    "\n",
    "spis=input().lower().split()\n",
    "temp=[list(i) for i in spis]\n",
    "\n",
    "for i in temp:\n",
    "    for j in i:\n",
    "        if j in ['.',',',';', ':', '-', '?', '!']: i.remove(j) # удалить все знаки препинания из строки\n",
    "\n",
    "result=[''.join(i) for i in temp]\n",
    "\n",
    "print(spis)\n",
    "print(len(set(result)))"
   ]
  },
  {
   "cell_type": "code",
   "execution_count": null,
   "metadata": {},
   "outputs": [],
   "source": [
    "# еще одно решение задачи выше \n",
    "\n",
    "words = [word.lower().strip('.,;:-?!') for word in input().split()]\n",
    "\n",
    "print(len(set(words)))"
   ]
  },
  {
   "cell_type": "code",
   "execution_count": 611,
   "metadata": {},
   "outputs": [
    {
     "name": "stdout",
     "output_type": "stream",
     "text": [
      "Milk is white and so is glue Ghosts are white and they say BOO\n"
     ]
    }
   ],
   "source": [
    "# функция удаления удалить убрать все знаки препинания запятую запятые\n",
    "\n",
    "def remove_symbols(string):\n",
    "    spis=string.split()\n",
    "    temp=[list(i) for i in spis]\n",
    "    for i in temp:\n",
    "        for j in i:\n",
    "            if j in ['.',',',';', ':', '-', '?', '!']: i.remove(j) \n",
    "    result=[''.join(i) for i in temp]\n",
    "    return ' '.join(result)\n",
    "\n",
    "\n",
    "print(remove_symbols(input()))\n"
   ]
  },
  {
   "cell_type": "code",
   "execution_count": 612,
   "metadata": {},
   "outputs": [
    {
     "name": "stdout",
     "output_type": "stream",
     "text": [
      "milk is white and so is glue ghosts are white and they say boo\n"
     ]
    }
   ],
   "source": [
    "# убрать все знаки препинания из строки, запятые, двоеточия, \n",
    "\n",
    "words = [word.lower().strip('.,;:-?!') for word in input().split()]\n",
    "\n",
    "print(' '.join(words))"
   ]
  },
  {
   "cell_type": "code",
   "execution_count": null,
   "metadata": {},
   "outputs": [],
   "source": [
    "# Встречалось ли число раньше? \n",
    "# На вход программе подается строка текста, содержащая числа. \n",
    "# Для каждого числа выведите слово YES (в отдельной строке), если это число ранее встречалось \n",
    "# в последовательности или NO, если не встречалось. \n",
    "# Ведущие нули в числах должны игнорироваться.\n",
    "\n",
    "numbers = [number.lstrip('0') for number in input().split()] # удаляем все нули перед числом\n",
    "mnvo=set()\n",
    "\n",
    "for i in numbers:\n",
    "    if  i in mnvo:\n",
    "        print('YES')\n",
    "        \n",
    "    else:\n",
    "        print('NO')\n",
    "        mnvo.add(i)\n",
    "\n",
    "\n"
   ]
  },
  {
   "cell_type": "code",
   "execution_count": 615,
   "metadata": {},
   "outputs": [
    {
     "name": "stdout",
     "output_type": "stream",
     "text": [
      "['1', '10', '2', '3', '4', '5', '6', '7', '8', '9']\n"
     ]
    }
   ],
   "source": [
    "# вывести все элементы, которые встречаются в двух множествах, в порядке возрастания\n",
    "\n",
    "a,b= set(input().split()), set(input().split())\n",
    "\n",
    "print(*sorted([int(i) for i in sorted(a&b)]))"
   ]
  },
  {
   "cell_type": "code",
   "execution_count": 616,
   "metadata": {},
   "outputs": [
    {
     "name": "stdout",
     "output_type": "stream",
     "text": [
      "1 2 3 4 5 6 7 8 9 10\n"
     ]
    }
   ],
   "source": [
    "# вывести все элементы, которые встречаются в двух множествах, в порядке возрастания\n",
    "\n",
    "a,b= set(input().split()), set(input().split())\n",
    "\n",
    "print(*sorted([int(i) for i in list(a&b)]))"
   ]
  },
  {
   "cell_type": "code",
   "execution_count": null,
   "metadata": {},
   "outputs": [],
   "source": [
    "# На вход программе подаются две строки текста, содержащие числа. Напишите программу, которая выводит все числа \n",
    "# в порядке возрастания, которые есть в первой строке, но отсутствуют во второй\n",
    "\n",
    "a,b= set(input().split()), set(input().split())\n",
    "\n",
    "print(*sorted([int(i) for i in list(a-b)]))"
   ]
  },
  {
   "cell_type": "code",
   "execution_count": 1,
   "metadata": {},
   "outputs": [
    {
     "name": "stdout",
     "output_type": "stream",
     "text": [
      "2 3\n"
     ]
    }
   ],
   "source": [
    "# На вход программе подается натуральное число n, а затем n различных натуральных чисел, \n",
    "# каждое на отдельной строке. Напишите программу, которая выводит все общие цифры в порядке возрастания у всех введенных чисел.\n",
    "\n",
    "n= int(input())\n",
    "spis=[set(list(input())) for _ in range(n)]\n",
    "elem=spis[0]\n",
    "i=0\n",
    "while i<n:\n",
    "    elem&=spis[i]\n",
    "    i+=1\n",
    "print(*sorted(elem))"
   ]
  },
  {
   "cell_type": "code",
   "execution_count": null,
   "metadata": {},
   "outputs": [],
   "source": [
    "# проверим есть ли общие цифры у двух чисел\n",
    "\n",
    "a,b=set(input()), input()\n",
    "\n",
    "print('YES' if not a.isdisjoint(b) else 'NO')"
   ]
  },
  {
   "cell_type": "code",
   "execution_count": 2,
   "metadata": {},
   "outputs": [
    {
     "name": "stdout",
     "output_type": "stream",
     "text": [
      "YES\n"
     ]
    }
   ],
   "source": [
    "# проверим содержатся ли все цифры первого числа во втором\n",
    "\n",
    "a,b=set(input()), input()\n",
    "\n",
    "print('YES' if a.issuperset(b) else 'NO')\n"
   ]
  },
  {
   "cell_type": "code",
   "execution_count": null,
   "metadata": {},
   "outputs": [],
   "source": [
    "# Даны по 10-балльной шкале оценки по информатике трех учеников. \n",
    "# Вывести множество оценок, которые есть и у первого и у второго учеников, но которых нет у третьего ученика.\n",
    "\n",
    "a,b,c =set(input().split()),set(input().split()),set(input().split())\n",
    "\n",
    "print(*sorted([int(i) for i in list((a&b)-c)], reverse= True)) # в порядке убывания"
   ]
  },
  {
   "cell_type": "code",
   "execution_count": null,
   "metadata": {},
   "outputs": [],
   "source": [
    "# Даны по 10-балльной шкале оценки по информатике трех учеников. \n",
    "# Вывести множество оценок, имеющихся у учеников, которые встречаются не более, чем у двух из указанных учеников.\n",
    "\n",
    "a,b,c =set(input().split()),set(input().split()),set(input().split())\n",
    "\n",
    "print(*sorted([int(i) for i in list((a|b|c)-(a&b&c))]))"
   ]
  },
  {
   "cell_type": "code",
   "execution_count": null,
   "metadata": {},
   "outputs": [],
   "source": [
    "# Даны по 10-балльной шкале оценки по информатике трех учеников. \n",
    "# Вывести множество оценоктретьего ученика, которые не встречаются ни у первого, ни у второго ученика.\n",
    "\n",
    "a,b,c =set(input().split()),set(input().split()),set(input().split())\n",
    "\n",
    "print(*sorted([int(i) for i in list(c-(a|b))], reverse= True))"
   ]
  },
  {
   "cell_type": "code",
   "execution_count": null,
   "metadata": {},
   "outputs": [],
   "source": [
    "# Даны по 10-балльной шкале оценки по информатике трех учеников. \n",
    "# Вывести множество, не встречающихся ни у одного из трех учеников.\n",
    "\n",
    "a,b,c =set(input().split()),set(input().split()),set(input().split())\n",
    "all_m=set([str(i) for i in range(11)])                  # здесь все возможные оценки\n",
    "\n",
    "print(*sorted([int(i) for i in list(all_m-(a|b|c))] ))"
   ]
  },
  {
   "cell_type": "code",
   "execution_count": 3,
   "metadata": {},
   "outputs": [
    {
     "name": "stdout",
     "output_type": "stream",
     "text": [
      "a c g l o p t w\n"
     ]
    }
   ],
   "source": [
    "# пример вывода первой буквы каждого слова в нижнем регистре и в алфавитном порядке\n",
    "\n",
    "words = ['Plum', 'Grapefruit', 'apple', 'orange', 'pomegranate', 'Cranberry', 'lime', 'Lemon', 'grapes', 'persimmon', 'tangerine', 'Watermelon', 'currant', 'Almond']\n",
    "\n",
    "print(*sorted({i[0].lower() for i in words}))   # создание множества через фигурные скобки"
   ]
  },
  {
   "cell_type": "code",
   "execution_count": 7,
   "metadata": {},
   "outputs": [
    {
     "name": "stdout",
     "output_type": "stream",
     "text": [
      "a about accident all am and at bloom bottom by can darkest day dells died dusk entered for freak furry golden had hedge her hill hollows i if in infancy know lightning memory midges mother my nothing observation of or over past photogenic picnic pocket rambler redolent remnants save set some stand still style subsists suddenly summer sun surely suspended the those three traversed under very warmth was when which with within writing you\n"
     ]
    }
   ],
   "source": [
    "# выкинуть все лишнее из строки (знаки препинания, скобки) и взять ТОЛЬКО уникальные слова в алфавитном порядке\n",
    "\n",
    "sentence = '''My very photogenic mother died in a freak accident (picnic, lightning) when I was three, and, save for a pocket of warmth in the darkest past, nothing of her subsists within the hollows and dells of memory, over which, if you can still stand my style (I am writing under observation), the sun of my infancy had set: surely, you all know those redolent remnants of day suspended, with the midges, about some hedge in bloom or suddenly entered and traversed by the rambler, at the bottom of a hill, in the summer dusk; a furry warmth, golden midges.'''\n",
    "\n",
    "print(*sorted({i.lower().strip(\"'.,;:-?!()\") for i in sentence.split()}))"
   ]
  },
  {
   "cell_type": "code",
   "execution_count": 8,
   "metadata": {},
   "outputs": [
    {
     "name": "stdout",
     "output_type": "stream",
     "text": [
      "frozenset({'d', 'n'})\n",
      "frozenset({'n'})\n",
      "frozenset({'d', 's', 'k', 'c'})\n",
      "frozenset({'w', 't'})\n",
      "frozenset({'c', 't'})\n",
      "frozenset({'n', 'g', 'h', 't'})\n",
      "frozenset({'h', 't'})\n",
      "frozenset({'d', 'h'})\n"
     ]
    }
   ],
   "source": [
    "# пример вывода ЗАМОРОЖЕННЫХ множеств внутри множества (обычные множества не могут находиться внутри множества)\n",
    "\n",
    "sentence = 'The cat in the hat had two sidekicks, thing one and thing two.'\n",
    "\n",
    "words = sentence.lower().replace('.', '').replace(',', '').split()\n",
    "\n",
    "vowels = ['a', 'e', 'i', 'o', 'u']\n",
    "\n",
    "consonants = {frozenset({letter for letter in word if letter not in vowels}) for word in words}\n",
    "\n",
    "print(*consonants, sep='\\n')"
   ]
  },
  {
   "cell_type": "code",
   "execution_count": null,
   "metadata": {},
   "outputs": [],
   "source": [
    "# Руководителю онлайн-школы BEEGEEK захотелось узнать, кто из его учеников присутствовал на всех уроках с начала учебного года. \n",
    "# Для каждого урока есть листок со списком присутствовавших учеников.\n",
    "# Напишите программу, определяющую фамилии учеников, которые присутствовали на всех уроках.\n",
    "\n",
    "# На вход программе в первой строке дается число m – количество уроков, проведенных с начала учебного года. \n",
    "# Далее идёт m блоков строк, описывающих листки с фамилиями. На первой строке каждого блока указано количество фамилий 'n'\n",
    "# затем идёт 'n' строчек с фамилиями тех, кто был на данном уроке.\n",
    "\n",
    "# нужно вывести фамилии учеников, которые были на всех уроках\n",
    "\n",
    "m=int(input())\n",
    "surnames=[[input() for _ in range(int(input()))] for _ in range(m)] # собираем в список списки фамилий(элементов), \n",
    "# которые вводятся заданное число раз с клавиатуры - ради этого синтаксиса понимания списков \n",
    "\n",
    "result_set=set(surnames[0]) # а дальше классика: каждый элемент в списке превращаем во множество и пересекаем их с последующим\n",
    "i=1\n",
    "while i<len(surnames):\n",
    "    result_set&=set(surnames[i])\n",
    "    i+=1\n",
    "print(*sorted(result_set), sep='\\n')  # резульатом этих пересечений будет итоговое множество, в котором содержатся только те элементы, которые есть в КАЖДОМ подсписке из всего списка фамилий"
   ]
  },
  {
   "cell_type": "code",
   "execution_count": null,
   "metadata": {},
   "outputs": [],
   "source": [
    "# СЛОВАРИ\n",
    "\n",
    "# Словарь — реализация структуры данных \"ассоциативный массив\" или \"хеш таблица\" \n",
    "# Словарь (тип данных dict), как и список, позволяет хранить много данных. \n",
    "# В отличие от списка, в словаре для каждого элемента можно произвольно определить «индекс» — ключ, по которому он будет доступен. \n",
    "\n",
    "# Чтобы создать словарь, нужно перечислить его элементы, пары ключ—значение, через запятую в фигурных скобках, \n",
    "# как и элементы множества. Первым указывается ключ, после двоеточия — значение, доступное в словаре по этому ключу.\n",
    "\n",
    "# Примечание 2. В рамках одного словаря каждый ключ уникален. \n",
    "# Примечание: ключи должны быть уникальны и неизменяемы (строка, булево значение, число, кортеж, замороженное множество) \n",
    "# Примечание: значения словаря могут быть любого типа\n",
    "\n",
    "# оператор in проверяет наличие КЛЮЧА в словаре (а не значения)\n",
    "# Оператор принадлежности in на словарях работает очень быстро, намного быстрее, чем на списках, \n",
    "# поэтому если нужен многократный поиск в коллекции данных, словарь – подходящий выбор.\n",
    "\n",
    "# функции sum, min, max работают исключительно с КЛЮЧАМИ словаря\n",
    "\n",
    "# сравнивая словари, стоит помнить, что они равны только в случае одинак кол-ва пар ключ-значение и равенстве этих пар, \n",
    "# а вот расположение внутри словаря неважно \n",
    "\n",
    "# Примечание 1. Обращение по индексу и срезы недоступны для словарей.\n",
    "# Примечание 2. Операция конкатенации + и умножения на число * недоступны для словарей.\n",
    "\n",
    "# Примечание 3. Словари нужно использовать в следующих случаях:\n",
    "# - Подсчет числа каких-то объектов. В этом случае нужно завести словарь, в котором ключи — названия объектов, а значения — их количество.\n",
    "# - Хранение каких-либо данных, связанных с объектом. Ключи — наименования объектов, значения — связанные с ними данные. Например, если нужно по названию месяца определить его порядковый номер, то это можно сделать при помощи словаря num = {'January': 1, 'February': 2, 'March': 3, ...}.\n",
    "# - Установка соответствия между объектами (например, “родитель—потомок”). Ключ — объект, значение — соответствующий ему объект.\n",
    "# - Если нужен обычный список, где максимальное значение индекса элемента очень велико, но при этом используются не все возможные индексы \n",
    "# (так называемый “разреженный список”), то для экономии памяти можно использовать словарь.\n",
    "\n",
    "# Методы keys(), values(), items() возвращают все ключи, значения и кортежи пар 'ключ-значение' соответственно\n",
    "\n",
    "# Словарные методы items(), keys(), values() возвращают не совсем обычные списки. \n",
    "# Типы этих списков -  dict_items, dict_keys, dict_values соответственно, в отличие от обычных списков - list. \n",
    "# Методы обычных списков недоступны для списков типа dict_items, dict_keys, dict_values. \n",
    "# Используйте явное преобразование с помощью функции list() для получения доступа к методам списков."
   ]
  },
  {
   "cell_type": "code",
   "execution_count": 10,
   "metadata": {},
   "outputs": [
    {
     "name": "stdout",
     "output_type": "stream",
     "text": [
      "Создателем языка C# является Андерс Хейлсберг\n",
      "Создателем языка C# является Андерс Хейлсберг\n"
     ]
    }
   ],
   "source": [
    "# Обращение к элементу словаря\n",
    "# Извлечь значение элемента словаря можно обратившись к нему по его ключу. \n",
    "# Чтобы получить значение по заданному ключу, как и в списках, используем квадратные скобки [] , индексируем по ключу.\n",
    "\n",
    "\n",
    "languages = {'Python': 'Гвидо ван Россум', \n",
    "             'C#': 'Андерс Хейлсберг', \n",
    "             'Java': 'Джеймс Гослинг', \n",
    "             'C++': 'Бьёрн Страуструп'}\n",
    "\n",
    "print('Создателем языка C# является', languages['C#'])\n",
    "\n",
    "# В качестве ключа можно указать выражение, Python вычислит его значение, и обратится к искомому элементу\n",
    "print('Создателем языка C# является', languages['C' + '#'])"
   ]
  },
  {
   "cell_type": "code",
   "execution_count": 11,
   "metadata": {},
   "outputs": [
    {
     "name": "stdout",
     "output_type": "stream",
     "text": [
      "{'name': 'Timur', 'age': 28, 'job': 'Teacher'}\n"
     ]
    }
   ],
   "source": [
    "# Создание словаря с помощью функции dict()\n",
    "# Если ключи словаря — строки, без каких-либо специальных символов, то для создания словаря можно использовать функцию dict() .\n",
    "\n",
    "\n",
    "info = dict(name = 'Timur', age = 28, job = 'Teacher')\n",
    "print(info)"
   ]
  },
  {
   "cell_type": "code",
   "execution_count": 14,
   "metadata": {},
   "outputs": [
    {
     "name": "stdout",
     "output_type": "stream",
     "text": [
      "{'name': 'Timur', 'age': 28, 'job': 'Teacher'}\n",
      "{'name': 'Missed information', 'age': 'Missed information', 'job': 'Missed information'}\n"
     ]
    }
   ],
   "source": [
    "# создать словарь на основе списков или кортежей\n",
    "\n",
    "info_list = [('name', 'Timur'), ('age', 28), ('job', 'Teacher')]  # список кортежей\n",
    "\n",
    "info_dict = dict(info_list)  # создаем словарь на основе списка кортежей (на основе списков АНАЛОГИЧНО)\n",
    "\n",
    "print(info_dict)\n",
    "\n",
    "# если есть несколько ключей, а значение к ним одинаковое:\n",
    "dict1 = dict.fromkeys(['name', 'age', 'job'], 'Missed information')\n",
    "print(dict1)"
   ]
  },
  {
   "cell_type": "code",
   "execution_count": 15,
   "metadata": {},
   "outputs": [
    {
     "name": "stdout",
     "output_type": "stream",
     "text": [
      "{'name': 'Timur', 'age': 28, 'job': 'Teacher'}\n"
     ]
    }
   ],
   "source": [
    "# упаковка списков при помощи zip() \n",
    "# В случае несовпадения длины списков, функция самостоятельно отсечет лишние элементы.\n",
    "\n",
    "keys = ['name', 'age', 'job']\n",
    "values = ['Timur', 28, 'Teacher']\n",
    "\n",
    "info = dict(zip(keys, values))\n",
    "\n",
    "print(info)"
   ]
  },
  {
   "cell_type": "code",
   "execution_count": 49,
   "metadata": {},
   "outputs": [
    {
     "name": "stdout",
     "output_type": "stream",
     "text": [
      "dict_keys(['Россия', 'Франция', 'Чехия'])\n",
      "dict_values(['Москва', 'Париж', 'Прага'])\n",
      "dict_items([('Россия', 'Москва'), ('Франция', 'Париж'), ('Чехия', 'Прага')])\n"
     ]
    }
   ],
   "source": [
    "# вывод всех ключей, значений и пар \"ключ-значение\" для словаря\n",
    "\n",
    "capitals = {'Россия': 'Москва', 'Франция': 'Париж', 'Чехия': 'Прага'}\n",
    "\n",
    "print(capitals.keys())\n",
    "print(capitals.values())\n",
    "print(capitals.items())"
   ]
  },
  {
   "cell_type": "code",
   "execution_count": 19,
   "metadata": {},
   "outputs": [
    {
     "name": "stdout",
     "output_type": "stream",
     "text": [
      "Россия - Москва\n",
      "Франция - Париж\n",
      "Чехия - Прага\n"
     ]
    }
   ],
   "source": [
    "# распаковка словаря через магию кортежей\n",
    "\n",
    "capitals = {'Россия': 'Москва', 'Франция': 'Париж', 'Чехия': 'Прага'}\n",
    "\n",
    "for key, value in capitals.items():\n",
    "    print(key, '-', value)"
   ]
  },
  {
   "cell_type": "code",
   "execution_count": 20,
   "metadata": {},
   "outputs": [
    {
     "name": "stdout",
     "output_type": "stream",
     "text": [
      "Россия\n",
      "Франция\n",
      "Чехия\n"
     ]
    }
   ],
   "source": [
    "# распаковка ТОЛЬКО КЛЮЧЕЙ словаря (через оператор * , примененный к словарю, распечатаются только ключи)\n",
    "\n",
    "capitals = {'Россия': 'Москва', 'Франция': 'Париж', 'Чехия': 'Прага'}\n",
    "\n",
    "print(*capitals, sep='\\n')"
   ]
  },
  {
   "cell_type": "code",
   "execution_count": 22,
   "metadata": {},
   "outputs": [
    {
     "name": "stdout",
     "output_type": "stream",
     "text": [
      "Бразилиа\n",
      "Лондон\n",
      "Москва\n",
      "Прага\n"
     ]
    }
   ],
   "source": [
    "# сортировка словаря по значениям через функцию sorted() и функцию lambda\n",
    "\n",
    "capitals = {'Россия': 'Москва', 'Англия': 'Лондон', 'Чехия': 'Прага', 'Бразилия':'Бразилиа'}\n",
    "\n",
    "for key, value in sorted(capitals.items(), key = lambda x: x[1]):\n",
    "    print(value)"
   ]
  },
  {
   "cell_type": "code",
   "execution_count": 25,
   "metadata": {},
   "outputs": [
    {
     "name": "stdout",
     "output_type": "stream",
     "text": [
      "Alina Fedor Helga John Olga Olivia Robert Roman\n",
      "Helga LJ Maria Riyad Ruslan\n"
     ]
    }
   ],
   "source": [
    "# взять из списка имена только тех пользователей, у которых:\n",
    "# 1) нет почтового адреса \n",
    "# 2) телефон кончается на 8\n",
    "\n",
    "users = [{'name': 'Todd', 'phone': '551-1414', 'email': 'todd@gmail.com'},\n",
    "         {'name': 'Helga', 'phone': '555-1618'},\n",
    "         {'name': 'Olivia', 'phone': '449-3141', 'email': ''},\n",
    "         {'name': 'LJ', 'phone': '555-2718', 'email': 'lj@gmail.net'},\n",
    "         {'name': 'Ruslan', 'phone': '422-145-9098', 'email': 'rus-lan.cha@yandex.ru'},\n",
    "         {'name': 'John', 'phone': '233-421-32', 'email': ''},\n",
    "         {'name': 'Lara', 'phone': '+7998-676-2532', 'email': 'g.lara89@gmail.com'},\n",
    "         {'name': 'Alina', 'phone': '+7948-799-2434'},\n",
    "         {'name': 'Robert', 'phone': '420-2011', 'email': ''},\n",
    "         {'name': 'Riyad', 'phone': '128-8890-128', 'email': 'r.mahrez@mail.net'},\n",
    "         {'name': 'Khabib', 'phone': '+7995-600-9080', 'email': 'kh.nurmag@gmail.com'},\n",
    "         {'name': 'Olga', 'phone': '6449-314-1213', 'email': ''},\n",
    "         {'name': 'Roman', 'phone': '+7459-145-8059'},\n",
    "         {'name': 'Maria', 'phone': '12-129-3148', 'email': 'm.sharapova@gmail.com'},\n",
    "         {'name': 'Fedor', 'phone': '+7445-341-0545', 'email': ''},\n",
    "         {'name': 'Tim', 'phone': '242-449-3141', 'email': 'timm.ggg@yandex.ru'}]\n",
    "\n",
    "spis1=[]\n",
    "for user in users:\n",
    "    if  'email'  not in user.keys() or user['email']=='': spis1.append(user['name'])\n",
    "\n",
    "print(*sorted(spis1))\n",
    "\n",
    "spis2=[]\n",
    "for user in users:\n",
    "    if user['phone'][-1]=='8': spis2.append(user['name'])\n",
    "print(*sorted(spis2) ) "
   ]
  },
  {
   "cell_type": "code",
   "execution_count": 31,
   "metadata": {},
   "outputs": [
    {
     "name": "stdout",
     "output_type": "stream",
     "text": [
      "five eight six five\n"
     ]
    }
   ],
   "source": [
    "# заменить все цифры в числе словами\n",
    "\n",
    "digits={\"0\": \"zero\",\n",
    "    \"1\": \"one\",\n",
    "    \"2\": \"two\",\n",
    "    \"3\": \"three\",\n",
    "    \"4\": \"four\",\n",
    "    \"5\": \"five\",\n",
    "    \"6\": \"six\",\n",
    "    \"7\": \"seven\",\n",
    "    \"8\": \"eight\",\n",
    "    \"9\": \"nine\"}\n",
    "\n",
    "number=list(input())\n",
    "temp=[digits[n] for n in number]\n",
    "print(' '.join(temp))"
   ]
  },
  {
   "cell_type": "code",
   "execution_count": 55,
   "metadata": {},
   "outputs": [
    {
     "name": "stdout",
     "output_type": "stream",
     "text": [
      "44330777724443111110444022226607777666555888330844444777707777666225553361\n"
     ]
    }
   ],
   "source": [
    "# написать сообщение с клавиатуры старого мобильника\n",
    "\n",
    "d = {\n",
    "    \"0\": \" \",\n",
    "    \"1\": \".,?!:\",\n",
    "    \"2\": \"ABC\",\n",
    "    \"3\": \"DEF\",\n",
    "    \"4\": \"GHI\",\n",
    "    \"5\": \"JKL\",\n",
    "    \"6\": \"MNO\",\n",
    "    \"7\": \"PQRS\",\n",
    "    \"8\": \"TUV\",\n",
    "    \"9\": \"WXYZ\"\n",
    "    \n",
    "}\n",
    "\n",
    "l=input().upper().replace('\"', '') # убрать кавычки из текста\n",
    "symbols=list(l) # это ты разорвал весь текст со знаками препинания и пробелами на отдельные элементы, сунул их в список\n",
    "\n",
    "values=list(d.values())     # это ты забрал из исходного словаря все значения (на наличие в них символов ты будешь проверять) \n",
    "\n",
    "text=[str(values.index(value))*(value.index(symbol)+1) for symbol in symbols for value in values if symbol in value]\n",
    "# погнали! \n",
    "# 1) запускаешь цикл по символам в тексте \n",
    "# 2) запускаешь цикл по значениям \n",
    "# 3) ищешь индекс символа в значении value  - это КОЛИЧЕСТВО раз, сколько тебе нужно нажать какую-то клавишу\n",
    "# 4) ищешь индекс значения value в списке значений values - это клавиша, которую тебе предстоит нажать несколько раз\n",
    "# 5) ну и все, записываешь в список название клавишы (сменив ее тип в строку, т.к она была индексом - числом) \n",
    "# столько раз, сколько нужно нажать клавишу (для этого умножение этой строки на число нажатий - на индекс положения внутри значения)\n",
    "\n",
    "print(''.join(text))\n"
   ]
  },
  {
   "cell_type": "code",
   "execution_count": 63,
   "metadata": {},
   "outputs": [
    {
     "name": "stdout",
     "output_type": "stream",
     "text": [
      ".. -. - . .-. ... - . .-.. .-.. .- .-.\n"
     ]
    }
   ],
   "source": [
    "# код морзе\n",
    "\n",
    "symbols = [c for c in 'ABCDEFGHIJKLMNOPQRSTUVWXYZ0123456789']\n",
    "morse = ['.-', '-...', '-.-.', '-..', '.', '..-.', '--.', '....', '..', '.---', '-.-', '.-..', '--', '-.', '---', '.--.', '--.-', '.-.', '...', '-', '..-', '...-', '.--', '-..-', '-.--', '--..', '-----', '.----', '..---', '...--', '....-', '.....', '-....', '--...', '---..', '----.']\n",
    "\n",
    "morse_code = dict(zip(symbols, morse))\n",
    "\n",
    "text=[letter.upper() for letter in list(input()) if letter.isalnum()]\n",
    "\n",
    "code_text=[morse_code[letter] for letter in text]\n",
    "\n",
    "print(' '.join(code_text))"
   ]
  },
  {
   "cell_type": "code",
   "execution_count": 65,
   "metadata": {},
   "outputs": [
    {
     "name": "stdout",
     "output_type": "stream",
     "text": [
      "{'name': 'Sam', 'age': 28, 'job': 'Teacher'}\n",
      "{'name': 'Timur', 'age': 28, 'job': 'Teacher', 'email': 'timyr-guev@yandex.ru'}\n"
     ]
    }
   ],
   "source": [
    "# присвоение нового значения для старого через обращение к ключу словаря: \n",
    "# если такой ключ есть, то будет присвоено новое имя \n",
    "# если такого ключа нет, то словарь будет дополнен новой парой клю-значение\n",
    "\n",
    "info = {'name': 'Sam',\n",
    "        'age': 28,\n",
    "        'job': 'Teacher'}\n",
    "\n",
    "print(info)\n",
    "\n",
    "info['name'] = 'Timur'                    # изменяем значение по ключу name\n",
    "info['email'] = 'timyr-guev@yandex.ru'    # добавляем в словарь элемент с ключом email\n",
    "\n",
    "print(info)"
   ]
  },
  {
   "cell_type": "code",
   "execution_count": 67,
   "metadata": {},
   "outputs": [
    {
     "name": "stdout",
     "output_type": "stream",
     "text": [
      "{9: 1, 8: 1, 32: 2, 1: 5, 10: 4, 23: 3, 4: 2, 2: 6}\n"
     ]
    }
   ],
   "source": [
    "# выяснить сколько повторяющихся элементов в списке\n",
    "\n",
    "numbers = [9, 8, 32, 1, 10, 1, 10, 23, 1, 4, 10, 4, 2, 2, 2, 2, 1, 10, 1, 2, 2, 32, 23, 23]\n",
    "\n",
    "result = {}\n",
    "for num in numbers:\n",
    "    if num not in result: # проверяем, есть ли ключ в словаре или нет\n",
    "        result[num] = 1  # если нет, то записываем значение 1 в словарь с ключом равным числу из списка\n",
    "    else:\n",
    "        result[num] += 1 # а если этот ключ уже есть (то есть наше число из списка), то прибавляем к значению единицу\n",
    "                         # таким образом все повторяющиеся числа в списке будут посчитаны\n",
    "\n",
    "print(result)"
   ]
  },
  {
   "cell_type": "code",
   "execution_count": 79,
   "metadata": {},
   "outputs": [
    {
     "name": "stdout",
     "output_type": "stream",
     "text": [
      "None\n",
      "Информации о зарплате нет\n",
      "Bob\n"
     ]
    }
   ],
   "source": [
    "# поиск в словаре нужного значения, если мы знаем ключ - метод get() \n",
    "# он вернет значение, если искомый ключ в словаре есть, либо вернет None, либо вернет второй аргумент, прописанный в методе\n",
    "\n",
    "info = {'name': 'Bob',\n",
    "        'age': 25,\n",
    "        'job': 'Dev'}\n",
    "\n",
    "item1 = info.get('salary')\n",
    "item2 = info.get('salary', 'Информации о зарплате нет') # такого ключа нет, поэтому вернет аргумент \"Информации о зп нет\"\n",
    "\n",
    "print(item1)\n",
    "print(item2) \n",
    "print(info.get('name'))"
   ]
  },
  {
   "cell_type": "code",
   "execution_count": 88,
   "metadata": {},
   "outputs": [
    {
     "name": "stdout",
     "output_type": "stream",
     "text": [
      "{9: 1, 8: 1, 32: 2, 1: 5, 10: 4, 23: 3, 4: 2, 2: 6}\n",
      "{'f': 4, 'o': 9, 't': 9, 'b': 3, 'a': 8, 'l': 6, 'c': 6, 'y': 2, 'e': 10, 'r': 8, 'p': 4, 'u': 2, 'n': 6, 'k': 2, 'x': 1, 'i': 7, 'v': 1, 's': 4, 'h': 2, 'm': 3, 'd': 2}\n"
     ]
    }
   ],
   "source": [
    "# подсчет количества повторяющихся элементов в списке упрощается: \n",
    "\n",
    "numbers = [9, 8, 32, 1, 10, 1, 10, 23, 1, 4, 10, 4, 2, 2, 2, 2, 1, 10, 1, 2, 2, 32, 23, 23]\n",
    "\n",
    "result = {}\n",
    "for num in numbers:\n",
    "    result[num] = result.get(num, 0) + 1\n",
    "\n",
    "print(result)\n",
    "\n",
    "# посчитать количество повторов каждой буквы в тексте\n",
    "text = 'footballcyberpunkextraterritorialityconversationalistblockophthalmoscopicinterdependencemamauserfff'\n",
    "result_text = {}\n",
    "for letter in list(text):\n",
    "    result_text[letter] = result_text.get(letter, 0) + 1\n",
    "print (result_text)"
   ]
  },
  {
   "cell_type": "code",
   "execution_count": 71,
   "metadata": {},
   "outputs": [
    {
     "name": "stdout",
     "output_type": "stream",
     "text": [
      "{'name': 'Bob', 'age': 30, 'job': 'Dev', 'city': 'New York', 'email': 'bob@web.com'}\n"
     ]
    }
   ],
   "source": [
    "# метод update() или |=  для словаря - это обновление Первого словаря данными из ВТОРОГО  (некая конкатенация)\n",
    "# при этом пары ключ-значения из второго либо добавляются в Первый (если таких ключей там не было) \n",
    "# либо значения Первого словаря перезаписываются значениями из Второго (если ключи совпадают)\n",
    "\n",
    "info1 = {'name': 'Bob',\n",
    "        'age': 25,\n",
    "        'job': 'Dev'}\n",
    "\n",
    "info2 = {'age': 30,\n",
    "        'city': 'New York',\n",
    "        'email': 'bob@web.com'}\n",
    "\n",
    "info1.update(info2)   # или можно применить info |= info2\n",
    "\n",
    "print(info1)"
   ]
  },
  {
   "cell_type": "code",
   "execution_count": 72,
   "metadata": {},
   "outputs": [
    {
     "name": "stdout",
     "output_type": "stream",
     "text": [
      "Bob\n",
      "Bob\n",
      "{'name': 'Bob', 'age': 25, 'job': 'Dev'}\n",
      "Dev\n"
     ]
    }
   ],
   "source": [
    "# Метод setdefault(key, default) позволяет получить значение из словаря по заданному ключу, автоматически \n",
    "# добавляя элемент словаря, если он отсутствует.\n",
    "#  key: ключ, значение по которому следует получить, если таковое имеется в словаре, либо создать.\n",
    "# default: значение, которое будет использовано при добавлении нового элемента в словарь.\n",
    "\n",
    "info = {'name': 'Bob',\n",
    "        'age': 25}\n",
    "\n",
    "name1 = info.setdefault('name')           # параметр default не задан           \n",
    "name2 = info.setdefault('name', 'Max')    # параметр default задан\n",
    "\n",
    "print(name1)   # гарантированно выдаст значение, соответствующее ключу 'name'\n",
    "print(name2)    # метод плюет на второй аргумент default, ему достаточно только первого аргумента key \n",
    "\n",
    "\n",
    "info1 = {'name': 'Bob',\n",
    "        'age': 25}\n",
    "\n",
    "job = info1.setdefault('job', 'Dev')\n",
    "print(info1)\n",
    "print(job)   # это уже выводит значение перезаписанного словаря info1, присвоенного новому ключу job"
   ]
  },
  {
   "cell_type": "code",
   "execution_count": 74,
   "metadata": {},
   "outputs": [
    {
     "name": "stdout",
     "output_type": "stream",
     "text": [
      "timyr-guev@yandex.ru\n",
      "None\n",
      "{'name': 'Sam', 'age': 28, 'job': 'Teacher'}\n",
      "('surname', 'Sinclar')\n",
      "{'name': 'Bob', 'age': 25, 'job': 'Dev'}\n"
     ]
    }
   ],
   "source": [
    "# удаление элементов из словаря \n",
    "# 1) del dict[key] - удалит и ключ и значение \n",
    "# 2) dict.pop(key) - удалит и ключ, и значение, но будет хранить в себе удаленное значение, соответствующее ключу\n",
    "\n",
    "info = {'name': 'Sam',\n",
    "        'age': 28,\n",
    "        'job': 'Teacher',\n",
    "        'email': 'timyr-guev@yandex.ru'}\n",
    "\n",
    "email = info.pop('email')          # удаляем элемент по ключу email, возвращая его значение\n",
    "surname = info.pop('surname', None)  # здесь передали ключ, которого нет в словаре, а вторым аргументом- что сохранить в переменной surname\n",
    "\n",
    "print(email)\n",
    "print(surname)\n",
    "print(info)\n",
    "print()\n",
    "\n",
    "# 3) popitem() удаляет из словаря ПОСЛЕДНИЙ ДОБАВЛЕННЫЙ ЭЛЕМЕНТ и возвращает удаляемый элемент в виде кортежа (ключ, значение).\n",
    "info = {'name': 'Bob',\n",
    "     'age': 25,\n",
    "     'job': 'Dev'}\n",
    "\n",
    "info['surname'] = 'Sinclar'\n",
    "\n",
    "item = info.popitem() # удаляет ПОСЛЕДНИЙ элемент, записывает пару ключ-значение в кортеж и сохраняет в перем item\n",
    "\n",
    "print(item)\n",
    "print(info)\n",
    "print()\n",
    "\n",
    "# 4) clear() удалит все элементы\n",
    "# 5) copy() поверхностная копия словаря\n",
    "\n"
   ]
  },
  {
   "cell_type": "code",
   "execution_count": 78,
   "metadata": {},
   "outputs": [
    {
     "name": "stdout",
     "output_type": "stream",
     "text": [
      "{1: 1, 2: 4, 3: 9, 4: 16, 5: 25}\n",
      "{1: 1, 2: 4, 3: 9, 4: 16, 5: 25}\n"
     ]
    }
   ],
   "source": [
    "# создаем словарь методом списочного выражения (словарь понимание списка)\n",
    "\n",
    "result = dict(zip([i for i in range(1,6)], [i**2 for i in range(1,6)]))\n",
    "\n",
    "# или\n",
    "result_2= {i: i**2 for i in range(1,6)}\n",
    "\n",
    "print(result)\n",
    "print(result_2)\n",
    "\n",
    "\n"
   ]
  },
  {
   "cell_type": "code",
   "execution_count": 87,
   "metadata": {},
   "outputs": [
    {
     "name": "stdout",
     "output_type": "stream",
     "text": [
      "{'a': 400, 'z': 999, 'b': 400, 'c': 312, 'd': 445, 'e': 98, 't': 853, 'q': 34, 'f': 90, 'm': 230, 'p': 123, 'w': 111}\n"
     ]
    }
   ],
   "source": [
    "# складываем значения двух словарей по ключам. если в одном списке нет ключа, то просто добавляем его в результирующий словарь вместе со значением\n",
    "\n",
    "dict1 = {'a': 100, 'z': 333, 'b': 200, 'c': 300, 'd': 45, 'e': 98, 't': 76, 'q': 34, 'f': 90, 'm': 230}\n",
    "dict2 = {'a': 300, 'b': 200, 'd': 400, 't': 777, 'c': 12, 'p': 123, 'w': 111, 'z': 666}\n",
    "\n",
    "\n",
    "result = {key:(dict1.get(key,0)+ dict2.get(key,0)) for key in (dict1 | dict2).keys()}\n",
    "# {ключ: сумма значений (через get()) для всех ключей обоих словарей (через конкатенацию)}\n",
    "# p.s. самое важное - не забыть присвоить второе значение для метода get(), которое будет участвовать \n",
    "# в сложении значений, если у одного из списков нет ключа, который есть только в другом!!\n",
    "\n",
    "print(result)\n",
    "\n",
    "\n"
   ]
  },
  {
   "cell_type": "code",
   "execution_count": 131,
   "metadata": {},
   "outputs": [
    {
     "name": "stdout",
     "output_type": "stream",
     "text": [
      "{'orange': 8, 'strawberry': 4, 'barley': 12, 'gooseberry': 3, 'apple': 2, 'apricot': 7, 'currant': 6, 'melon': 5, 'pomegranate': 5, 'banana': 12, 'plum': 4, 'grapefruit': 6, 'quince': 5, 'grapes': 1, 'raspberry': 1, 'lime': 3}\n",
      "banana\n"
     ]
    }
   ],
   "source": [
    "# вывести слово, которое встречается в тексте чаще всего. \n",
    "# Причем если таких слов больше одного, то взять то, которое в лексикографическом смысле наименьшее (порядок букв а, аа, ааа....)\n",
    "\n",
    "text = 'orange strawberry barley gooseberry apple apricot barley currant orange melon pomegranate banana banana orange barley apricot plum grapefruit banana quince strawberry barley grapefruit banana grapes melon strawberry apricot currant currant gooseberry raspberry apricot currant orange lime quince grapefruit barley banana melon pomegranate barley banana orange barley apricot plum banana quince lime grapefruit strawberry gooseberry apple barley apricot currant orange melon pomegranate banana banana orange apricot barley plum banana grapefruit banana quince currant orange melon pomegranate barley plum banana quince barley lime grapefruit pomegranate barley'\n",
    "\n",
    "# в этом куске кода мы собрали словарь, в котором каждому слову присвоили количество вхождений\n",
    "result_text = {}\n",
    "for word in text.split():\n",
    "    result_text[word] = result_text.get(word, 0) + 1\n",
    "# print(result_text)\n",
    "\n",
    "# решение СЛУЧАЙНО успешно см комментарий: https://stepik.org/lesson/446696/step/13?discussion=6972471&reply=6974718&unit=437002\n",
    "result={result_text.get(key):key  for key in result_text.keys()}\n",
    "\n",
    "print(result[max(result)])\n"
   ]
  },
  {
   "cell_type": "code",
   "execution_count": 196,
   "metadata": {},
   "outputs": [
    {
     "name": "stdout",
     "output_type": "stream",
     "text": [
      "{'a': 4, 'b': 2}\n"
     ]
    }
   ],
   "source": [
    "# кстати развернуть словарь можно и проще (поменять ключи и значения местами)\n",
    "\n",
    "dicts = {1:'a', 2:'b', 3:'a', 4:'a'}\n",
    "new_dicts = {v: k for k,v in dicts.items()}\n",
    "print (new_dicts)  \n",
    "\n",
    "# но не забывай о том, что переворот перезапишет словарь, так, чтобы ключи были уникальны, \n",
    "# причем значение возьмет самое последнее по порядку итераций"
   ]
  },
  {
   "cell_type": "code",
   "execution_count": 121,
   "metadata": {},
   "outputs": [
    {
     "name": "stdout",
     "output_type": "stream",
     "text": [
      "{('Parker', 'Wilson', 50): ['Hatiko'], ('Josh', 'King', 25): ['Rusty', 'Balto', 'Barry', 'Lassie'], ('John', 'Smith', 28): ['Fido'], ('Jake', 'Smirnoff', 18): ['Butch'], ('Emma', 'Wright', 18): ['Odi'], ('Hannah', 'Taylor', 40): ['Snape'], ('Martha', 'Robinson', 73): ['Horry', 'Chase'], ('Alex', 'Martinez', 65): ['Giro'], ('Simon', 'Nevel', 32): ['Zooma', 'Rocky'], ('Martha', 'Williams', 38): ['Ace']}\n"
     ]
    }
   ],
   "source": [
    "# создать словарь из списка, где ключами будут (ФИО и возраст владельца) , а список питомцев - значениями\n",
    "\n",
    "pets = [('Hatiko', 'Parker', 'Wilson', 50),\n",
    "        ('Rusty', 'Josh', 'King', 25),\n",
    "        ('Fido', 'John', 'Smith', 28),\n",
    "        ('Butch', 'Jake', 'Smirnoff', 18),\n",
    "        ('Odi', 'Emma', 'Wright', 18),\n",
    "        ('Balto', 'Josh', 'King', 25),\n",
    "        ('Barry', 'Josh', 'King', 25),\n",
    "        ('Snape', 'Hannah', 'Taylor', 40),\n",
    "        ('Horry', 'Martha', 'Robinson', 73),\n",
    "        ('Giro', 'Alex', 'Martinez', 65),\n",
    "        ('Zooma', 'Simon', 'Nevel', 32),\n",
    "        ('Lassie', 'Josh', 'King', 25),\n",
    "        ('Chase', 'Martha', 'Robinson', 73),\n",
    "        ('Ace', 'Martha', 'Williams', 38),\n",
    "        ('Rocky', 'Simon', 'Nevel', 32)]\n",
    "\n",
    "temp=[{pet[1:]:[pet[0]]} for pet in pets] # создаю список из словарей заданного формата\n",
    "\n",
    "dct1={} # здесь конечный результат\n",
    "for i in range(len(temp)):   # цикл по всем словарям списка\n",
    "        if list(temp[i].keys())[0] not in dct1.keys():  # если ключи словарей не совпадают\n",
    "                dct1 |=  temp[i]                         # то делаем конкатенацию с результирующим словарем\n",
    "        else:             # а если совпадают, то суммируем значения под одним ключом и перезаписываем словарь по этому ключу\n",
    "                dct1[list(temp[i].keys())[0]]=dct1[list(temp[i].keys())[0]]+ temp[i].get(list(temp[i].keys())[0])\n",
    "\n",
    "result= dct1\n",
    "\n",
    "print(result)\n"
   ]
  },
  {
   "cell_type": "code",
   "execution_count": 123,
   "metadata": {},
   "outputs": [
    {
     "name": "stdout",
     "output_type": "stream",
     "text": [
      "{('Parker', 'Wilson', 50): ['Hatiko'], ('Josh', 'King', 25): ['Rusty', 'Balto', 'Barry', 'Lassie'], ('John', 'Smith', 28): ['Fido'], ('Jake', 'Smirnoff', 18): ['Butch'], ('Emma', 'Wright', 18): ['Odi'], ('Hannah', 'Taylor', 40): ['Snape'], ('Martha', 'Robinson', 73): ['Horry', 'Chase'], ('Alex', 'Martinez', 65): ['Giro'], ('Simon', 'Nevel', 32): ['Zooma', 'Rocky'], ('Martha', 'Williams', 38): ['Ace']}\n"
     ]
    }
   ],
   "source": [
    "# чужое решение про питомцев намного проще!\n",
    "pets = [('Hatiko', 'Parker', 'Wilson', 50),\n",
    "        ('Rusty', 'Josh', 'King', 25),\n",
    "        ('Fido', 'John', 'Smith', 28),\n",
    "        ('Butch', 'Jake', 'Smirnoff', 18),\n",
    "        ('Odi', 'Emma', 'Wright', 18),\n",
    "        ('Balto', 'Josh', 'King', 25),\n",
    "        ('Barry', 'Josh', 'King', 25),\n",
    "        ('Snape', 'Hannah', 'Taylor', 40),\n",
    "        ('Horry', 'Martha', 'Robinson', 73),\n",
    "        ('Giro', 'Alex', 'Martinez', 65),\n",
    "        ('Zooma', 'Simon', 'Nevel', 32),\n",
    "        ('Lassie', 'Josh', 'King', 25),\n",
    "        ('Chase', 'Martha', 'Robinson', 73),\n",
    "        ('Ace', 'Martha', 'Williams', 38),\n",
    "        ('Rocky', 'Simon', 'Nevel', 32)]\n",
    "\n",
    "result = {}\n",
    "for pet in pets:\n",
    "    result.setdefault(pet[1:], []).append(pet[0]) \n",
    "\n",
    "print(result)"
   ]
  },
  {
   "cell_type": "code",
   "execution_count": 135,
   "metadata": {},
   "outputs": [
    {
     "name": "stdout",
     "output_type": "stream",
     "text": [
      "home\n"
     ]
    }
   ],
   "source": [
    "# вывести самое редкое слово \n",
    "# дано: строка текста \n",
    "# нужно: убрать все знаки препинания, посчитать кол-во вхождений для каждого слова, \n",
    "# взять те, что с наименьшим вхождением, выбрать из них наименьшее в лексикографическом смысле\n",
    "\n",
    "text=input()\n",
    "words=[word.lower().strip(\"'.,;:-?!()\") for word in text.split()] # убираем знаки препинания\n",
    "\n",
    "# создаем словарь, считаем число вхождений каждого слова\n",
    "result_text = {}\n",
    "for word in words:\n",
    "    result_text[word] = result_text.get(word, 0) + 1\n",
    "# print(result_text)\n",
    "\n",
    "minimal= min(result_text.values())  # находим минимальное значение из всех значений (числа вхождений) словаря\n",
    "\n",
    "spis_words =[] # пустой список для слов с наименьшим вхождением в строку\n",
    "for key in result_text:\n",
    "    if result_text.get(key) == minimal: spis_words.append(key)  # если значение (число вхождений) равно минимальному, то записываем ключ(слово) в список\n",
    "\n",
    "print(min(spis_words))"
   ]
  },
  {
   "cell_type": "code",
   "execution_count": 166,
   "metadata": {},
   "outputs": [
    {
     "name": "stdout",
     "output_type": "stream",
     "text": [
      "a a a a a a a aa a a a a a aa a a! b b2 b4 b3 a4 a9 a1 a a!\t\n",
      "a a_1 a_2 a_3 a_4 a_5 a_6 aa a_7 a_8 a_9 a_10 a_11 aa_1 a_12 a! b b2 b4 b3 a4 a9 a1 a_13 a!_1\n"
     ]
    }
   ],
   "source": [
    "text=input()\n",
    "print(text)\n",
    "\n",
    "start=text.split() # это набор элементов, который нужно поменять\n",
    "\n",
    "# это словарь подсчета элементов, которые повторяются\n",
    "count_words = {}\n",
    "for word in start:\n",
    "    count_words[word] = count_words.get(word, 0) + 1\n",
    "\n",
    "num_iter=[i for i in list(count_words.items()) if i[1]>1] # возьмем только те кортежи, в которых значение больше 1 (меньше единицы нас не интересует, т.к с такими элементами ничего не нужно делать)\n",
    "# в этих кортежах хранится информация о том, какие элементы повторяются и сколько раз\n",
    "\n",
    "# основной блок задачи: \n",
    "for kort in num_iter:       # внешний цикл - проходим по кортежам, в которых нас интересует повторяющися элемент\n",
    "    n=0                     # задаем начальное значение для маркировки повторяющегося элемента\n",
    "    for elem in start:      # внутренний цикл - для элементов текста\n",
    "        if elem==kort[0]:   # если встречающийся элемент равен значению проверяемого кортежа\n",
    "            start[start.index(elem)] = kort[0]+ '_' +str(n)         # то перезаписываем этот элемент в списке\n",
    "            n+=1                                                    # и увеличиваем значение хвоста на единицу\n",
    "# внутренний цикл повторяется, пока не пройдем все элементы списка и не переименуем всем повторяющиеся\n",
    "# внешний цикл повторяется, пока не используем все кортежи\n",
    "# результат действий обоих циклов - полностью перезаписанный список элементов\n",
    "\n",
    "end=[i.replace('_0','') for i in start ] # здесь убираем все 'хвосты' для элементов типа 'element_0'\n",
    "\n",
    "result=' '.join(end)  # собираем обратно в строку\n",
    "\n",
    "print(result)"
   ]
  },
  {
   "cell_type": "code",
   "execution_count": null,
   "metadata": {},
   "outputs": [],
   "source": [
    "# коротко решение через словари\n",
    "\n",
    "s = input().split()             # бьем входной текст в список \n",
    "result = {}                     # берем пустой словарь\n",
    "\n",
    "for char in s:                  # цикл по элементам списка\n",
    "    if char not in result:      # если такого ключа еще нет в словаре, то\n",
    "        result[char] = 1        # добавляем в словарь пару ключ-значение = элемент-единица\n",
    "        print(char, end=' ')    # печатаем этот элемент с пробелом\n",
    "    else:                       # а если такой элемент уже есть в словаре\n",
    "        print(f'{char}_{result[char]}', end=' ')        # печатаем f-строку: элемент_значение ключа по элементу, добавл пробел\n",
    "        result[char] += 1                               # ну и увеличиваем значение по ключу на единицу\n",
    "\n",
    "# таким образом, на выходе из цикла в словаре будут храниться ключи (то есть сами элементы) и \n",
    "# соответствующие им значения (кол-во повторов)\n",
    "# но фишка в таком решении в том, что мы печатали элементы находясь в цикле, то есть никуда не сохраняя"
   ]
  },
  {
   "cell_type": "code",
   "execution_count": 167,
   "metadata": {},
   "outputs": [
    {
     "name": "stdout",
     "output_type": "stream",
     "text": [
      "a a_1 a_2 a_3 a_4 a_5 a_6 aa a_7 a_8 a_9 a_10 a_11 aa_1 a_12 a! b b2 b4 b3 a4 a9 a1 a_13 a!_1\n"
     ]
    }
   ],
   "source": [
    "# а что если я буду записывать данные в некий массив, чтобы потом с этими данными я еще мог и поработать?\n",
    "\n",
    "s = input().split()             # бьем входной текст в список \n",
    "result = {}                     # берем пустой словарь\n",
    "spisok=[]                       # берем пусто список\n",
    "\n",
    "for char in s:                  # цикл по элементам списка\n",
    "    if char not in result:      # если такого ключа еще нет в словаре, то\n",
    "        result[char] = 1        # добавляем в словарь пару ключ-значение = элемент-единица\n",
    "        spisok.append(char)     # забираем этот элемент в список\n",
    "    else:                       # а если такой элемент уже есть в словаре\n",
    "        spisok.append(f'{char}_{result[char]}')       # забираем  f-строку: элемент_значение ключа по элементу\n",
    "        result[char] += 1  \n",
    "\n",
    "print(' '.join(spisok))         # результат совпадает"
   ]
  },
  {
   "cell_type": "code",
   "execution_count": 168,
   "metadata": {},
   "outputs": [
    {
     "name": "stdout",
     "output_type": "stream",
     "text": [
      "{'Змея': 'язык программирования Python', 'Баг': 'от англ. bug — жучок, клоп, ошибка в программе', 'Конфа': 'конференция'}\n"
     ]
    }
   ],
   "source": [
    "# создаем словарь по вводу строк с клавиатуры. в строке прописана пара ключ-значение \n",
    "# строк вводится заданное количество раз N (тоже вводится с клавиатуры)\n",
    "\n",
    "n=int(input())                          # число вводимых строк\n",
    "text=[input() for _ in range(n)]        # здесь хранятся все введенные строки\n",
    "\n",
    "# здесь создаем словарь, в котором ключ - это все, что перед двоеточием, значение - все, что после (не забываем убрать пробел)\n",
    "dictionary={i.split(':')[0].lower():i.split(':')[1].lstrip() for i in text }    \n",
    "\n",
    "m=int(input())                          # число вводимых слов для расшифровки\n",
    "words=[input().lower() for _ in range(m)]       # здесь хранятся все введенные слова для расшифровки\n",
    "\n",
    "for word in words:\n",
    "    print(dictionary.get(word, 'Не найдено'))  # сразу печатаем значения для каждого из слов, \n",
    "                                                # либо \"Не найдено\", если в словаре такого слова нет\n"
   ]
  },
  {
   "cell_type": "code",
   "execution_count": 172,
   "metadata": {},
   "outputs": [
    {
     "name": "stdout",
     "output_type": "stream",
     "text": [
      "YES\n"
     ]
    }
   ],
   "source": [
    "# проверка на аннаграмы \n",
    "\n",
    "print('YES' if sorted([i.lower() for i in  list(input()) if i not in ' .,!?:;-']) == \n",
    "        sorted([i.lower().strip('.,!?:;-') for i in  list(input()) if  i not in ' .,!?:;-']) \n",
    "        else 'NO')"
   ]
  },
  {
   "cell_type": "code",
   "execution_count": 177,
   "metadata": {},
   "outputs": [
    {
     "name": "stdout",
     "output_type": "stream",
     "text": [
      "Beautiful\n",
      "Beautiful\n"
     ]
    }
   ],
   "source": [
    "# найти синоним слова в словаре\n",
    "\n",
    "n=int(input())\n",
    "spis=[input().split() for _ in range(n)]\n",
    "\n",
    "dic=dict(spis)\n",
    "word=input()\n",
    "\n",
    "print(*[list(dic.keys())[i] for i in range(len(dic)) if list(dic.values())[i] == word]  if word not in dic else dic[word] )\n",
    "\n",
    "# или читабельнее: \n",
    "\n",
    "if word in dic: print(dic[word])\n",
    "else: \n",
    "    for key in dic: \n",
    "        if dic[key]==word: print(key)"
   ]
  },
  {
   "cell_type": "code",
   "execution_count": 188,
   "metadata": {},
   "outputs": [
    {
     "name": "stdout",
     "output_type": "stream",
     "text": [
      "{'Германия': ['Берлин', 'Мюнхен', 'Гамбург', 'Дортмунд'], 'Нидерланды': ['Амстердам', 'Гаага', 'Роттердам', 'Алкмар']}\n"
     ]
    }
   ],
   "source": [
    "# создать словарь из стран и городов, по запросу городов вывести какая это страна\n",
    "\n",
    "n=int(input())\n",
    "spis=[input().split() for _ in range(n)]\n",
    "\n",
    "dic={word[0]:(word[1:]) for word in spis }\n",
    "\n",
    "m=int(input())\n",
    "cities=[input() for _ in range(m)]\n",
    "\n",
    "for city in cities:\n",
    "    for country in dic: \n",
    "        if city in dic[country]: print(country)"
   ]
  },
  {
   "cell_type": "code",
   "execution_count": 189,
   "metadata": {},
   "outputs": [
    {
     "name": "stdout",
     "output_type": "stream",
     "text": [
      "['79194249271']\n",
      "['79281234567']\n",
      "Абонент не найден\n"
     ]
    }
   ],
   "source": [
    "# найти все телефоны абонента \n",
    "\n",
    "n=int(input())                              # количество абонентов с номерами\n",
    "spis=[input().lower().split() for _ in range(n)]    # список всех абонентов с номерами\n",
    "\n",
    "phone_book={word[-1]:(word[:-1]) for word in spis }    # словарь принадлежности номеров к абоненту\n",
    "\n",
    "m=int(input())                              # количество абонентов, чьи телефоны ищем\n",
    "abonents=[input().lower() for _ in range(m)]        # сами искомые абоненты, чьи номера нам нужны\n",
    "\n",
    "for abonent in abonents:\n",
    "    print(phone_book.get(abonent, 'Абонент не найден'))"
   ]
  },
  {
   "cell_type": "code",
   "execution_count": 191,
   "metadata": {},
   "outputs": [
    {
     "name": "stdout",
     "output_type": "stream",
     "text": [
      "79194249271\n",
      "79281234567 79184219577\n",
      "Абонент не найден\n"
     ]
    }
   ],
   "source": [
    "# найти все телефоны абонента \n",
    "\n",
    "n=int(input())                                         # количество абонентов с номерами\n",
    "persons=[input().lower().split() for _ in range(n)]    # список всех абонентов с номерами\n",
    "\n",
    "phone_book = {}\n",
    "for person in persons:\n",
    "    phone_book.setdefault(person[-1], []).append(person[0])   # собрали все в записную книжку\n",
    "\n",
    "m=int(input())                                      # количество абонентов, чьи телефоны ищем\n",
    "abonents=[input().lower() for _ in range(m)]        # сами искомые абоненты, чьи номера нам нужны\n",
    "\n",
    "for abonent in abonents:\n",
    "    print(*phone_book.get(abonent, ['абонент не найден']))\n"
   ]
  },
  {
   "cell_type": "code",
   "execution_count": 195,
   "metadata": {},
   "outputs": [
    {
     "name": "stdout",
     "output_type": "stream",
     "text": [
      "{'*': 3, '!': 2, '?': 1}\n",
      "{'а': '3', 'н': '2', 'с': '1'}\n",
      "\n"
     ]
    }
   ],
   "source": [
    "shifr=input()                                                   # зашифрованная строка\n",
    "count_symbols = {}                                              \n",
    "for symbol in shifr:                                            # считаем кол-во повторений каждого символа в шифре\n",
    "    count_symbols[symbol] = count_symbols.get(symbol, 0) + 1\n",
    "\n",
    "n=int(input())                              # кол-во строк , содержащих пару буква-кол-во повторений\n",
    "dic={}\n",
    "for _ in range(n):\n",
    "    letter,repeat = input().split(':')\n",
    "    dic.update({letter:int(repeat.lstrip())})             # созданный словарь из пар буква-повторы\n",
    "\n",
    "uncode_string= ''        # пустая строка под расшифровку\n",
    "for symbol in (shifr):\n",
    "    for key in dic:\n",
    "        if dic[key]==count_symbols[symbol]:     # если значения в двух словарях совпадают, то зашифрованный символ равен ключу в словаре\n",
    "            uncode_string+=key                  # и к строке мы прибавляем этот ключ\n",
    "\n",
    "print(uncode_string)"
   ]
  },
  {
   "cell_type": "code",
   "execution_count": null,
   "metadata": {},
   "outputs": [],
   "source": []
  }
 ],
 "metadata": {
  "kernelspec": {
   "display_name": "Python 3.10.7 64-bit",
   "language": "python",
   "name": "python3"
  },
  "language_info": {
   "codemirror_mode": {
    "name": "ipython",
    "version": 3
   },
   "file_extension": ".py",
   "mimetype": "text/x-python",
   "name": "python",
   "nbconvert_exporter": "python",
   "pygments_lexer": "ipython3",
   "version": "3.10.7"
  },
  "orig_nbformat": 4,
  "vscode": {
   "interpreter": {
    "hash": "aee8b7b246df8f9039afb4144a1f6fd8d2ca17a180786b69acc140d282b71a49"
   }
  }
 },
 "nbformat": 4,
 "nbformat_minor": 2
}
