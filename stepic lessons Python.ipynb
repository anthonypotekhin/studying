{
 "cells": [
  {
   "cell_type": "code",
   "execution_count": 5,
   "metadata": {},
   "outputs": [
    {
     "name": "stdout",
     "output_type": "stream",
     "text": [
      "1993\n"
     ]
    }
   ],
   "source": [
    "s = '1992'\n",
    "s = int(s)\n",
    "print(s+1)\n"
   ]
  },
  {
   "cell_type": "code",
   "execution_count": 10,
   "metadata": {},
   "outputs": [
    {
     "name": "stdout",
     "output_type": "stream",
     "text": [
      "3\n",
      "4\n",
      "5\n"
     ]
    }
   ],
   "source": [
    "x=int(input())\n",
    "print(x,x+1,x+1+1, sep='\\n')\n"
   ]
  },
  {
   "cell_type": "code",
   "execution_count": 1,
   "metadata": {},
   "outputs": [
    {
     "name": "stdout",
     "output_type": "stream",
     "text": [
      "3\n",
      "0\n"
     ]
    }
   ],
   "source": [
    "print(23//7)\n",
    "print(2//5)"
   ]
  },
  {
   "cell_type": "code",
   "execution_count": 17,
   "metadata": {},
   "outputs": [
    {
     "name": "stdout",
     "output_type": "stream",
     "text": [
      "4\n"
     ]
    }
   ],
   "source": [
    "a=int(input())\n",
    "b=int(input())\n",
    "c=int(input())\n",
    "d=[a,b,c]\n",
    "\n",
    "e=0\n",
    "for i in range(0,len(d)):\n",
    "    if d[i]>0: \n",
    "        e=e+d[i]\n",
    "    else: e=e\n",
    "\n",
    "print(e)"
   ]
  },
  {
   "cell_type": "code",
   "execution_count": 31,
   "metadata": {},
   "outputs": [
    {
     "name": "stdout",
     "output_type": "stream",
     "text": [
      "5\n"
     ]
    }
   ],
   "source": [
    "# взять только положительные числа из списка (массива)\n",
    "a=int(input())\n",
    "b=int(input())\n",
    "c=int(input())\n",
    "d=[a,b,c]\n",
    "\n",
    "\n",
    "d=[a for a in d if a>0] # пробежим циклом по всем числам из списка d , возьмем только положительные\n",
    "print((sum(d)))\n"
   ]
  },
  {
   "cell_type": "code",
   "execution_count": 93,
   "metadata": {},
   "outputs": [
    {
     "name": "stdout",
     "output_type": "stream",
     "text": [
      "синий\n"
     ]
    }
   ],
   "source": [
    "# смешать два цвета\n",
    "a=(input())\n",
    "b=(input())\n",
    "\n",
    "col=[a,b]\n",
    "color=['красный','синий','желтый']\n",
    "\n",
    "# проверить есть ли элемент в заданном списке\n",
    "i=0\n",
    "while i<3:\n",
    "    if a==color[i]:\n",
    "        one= 1\n",
    "        break\n",
    "    else: \n",
    "        i+=1\n",
    "else: one = 0\n",
    "\n",
    "i=0\n",
    "while i<3:\n",
    "    if b==color[i]:\n",
    "        two = 1\n",
    "        break\n",
    "    else: \n",
    "        i+=1\n",
    "else: two = 0\n",
    "\n",
    "# проверям сами цвета\n",
    "if one == two==1: \n",
    "    if a!=b:\n",
    "        if a=='красный':\n",
    "            if b=='синий' :print('фиолетовый')\n",
    "            else: print('оранжевый')\n",
    "        elif a=='желтый':\n",
    "            if b=='красный' :print('оранжевый')\n",
    "            else: print('зеленый')    \n",
    "        else:\n",
    "            if b=='желтый' :print('зеленый')\n",
    "            else: print('фиолетовый')\n",
    "    else: print(a)\n",
    "        \n",
    "else: print('ошибка цвета')"
   ]
  },
  {
   "cell_type": "code",
   "execution_count": 94,
   "metadata": {},
   "outputs": [
    {
     "name": "stdout",
     "output_type": "stream",
     "text": [
      "фиолетовый\n"
     ]
    }
   ],
   "source": [
    "# смешение цветов в одну строчку\n",
    "print((lambda c, R, B, Y, O, P, G: Y if c == [Y, Y] else O if c == [Y, R] else G if c == [Y, B] else R if c == [R, R] else P if c == [R, B] else B if c == [B, B] else 'ошибка цвета')(sorted([input(), input()]), 'красный', 'синий', 'желтый', 'оранжевый', 'фиолетовый', 'зеленый'))"
   ]
  },
  {
   "cell_type": "code",
   "execution_count": 97,
   "metadata": {},
   "outputs": [
    {
     "name": "stdout",
     "output_type": "stream",
     "text": [
      "красный\n"
     ]
    }
   ],
   "source": [
    "# приемлемое решение по выбору цветов\n",
    "a=input()\n",
    "b=input()\n",
    "if (not (a in ('красный', 'желтый', 'синий'))) or (not (b in ('красный', 'желтый', 'синий'))) :\n",
    "    print('ошибка цвета')\n",
    "elif a=='красный' and b=='синий' or a=='синий' and b=='красный' :\n",
    "    print('фиолетовый')\n",
    "elif a=='красный' and b=='желтый' or a=='желтый' and b=='красный':\n",
    "    print('оранжевый')\n",
    "elif a=='синий' and b=='желтый' or a=='желтый' and b=='синий' :\n",
    "    print('зеленый')\n",
    "elif a==b:\n",
    "        print(a)"
   ]
  },
  {
   "cell_type": "code",
   "execution_count": 98,
   "metadata": {},
   "outputs": [
    {
     "name": "stdout",
     "output_type": "stream",
     "text": [
      "3.1415\n"
     ]
    }
   ],
   "source": [
    "\n",
    "print(\"3.1415\")"
   ]
  },
  {
   "cell_type": "code",
   "execution_count": 99,
   "metadata": {},
   "outputs": [
    {
     "name": "stdout",
     "output_type": "stream",
     "text": [
      "The world's a little blurry :) Or maybe it's my eyes!!!"
     ]
    }
   ],
   "source": [
    "print(\"The world's a little blurry\", \"Or maybe it's my eyes\", end='!!!', sep=' :) ')"
   ]
  },
  {
   "cell_type": "code",
   "execution_count": 3,
   "metadata": {},
   "outputs": [
    {
     "name": "stdout",
     "output_type": "stream",
     "text": [
      "56\n"
     ]
    }
   ],
   "source": [
    "a = 17 // (23 % 7)\n",
    "b = 34 % a * 5 - 29 % 4 * 3\n",
    "print(a * b)"
   ]
  },
  {
   "cell_type": "code",
   "execution_count": 1,
   "metadata": {},
   "outputs": [
    {
     "name": "stdout",
     "output_type": "stream",
     "text": [
      "*****************\n",
      "*               *\n",
      "*               *\n",
      "*****************\n"
     ]
    }
   ],
   "source": [
    "print(17*'*')\n",
    "print('*','*',sep=15*' ')\n",
    "print('*','*',sep=15*' ')\n",
    "print(17*'*')"
   ]
  },
  {
   "cell_type": "code",
   "execution_count": 11,
   "metadata": {},
   "outputs": [
    {
     "name": "stdout",
     "output_type": "stream",
     "text": [
      "ошибка ввода\n"
     ]
    }
   ],
   "source": [
    "a =int(input())\n",
    "\n",
    "black=[2,4,6,8,10,11,13,15,17,20,22,24,26,28,29,31,33,35]\n",
    "red=[1,3,5,7,9,12,14,16,18,19,21,23,25,27,30,32,34,36]\n",
    "\n",
    "# удобный способ проверки находится ли число в массиве БЕЗ цикла!\n",
    "if a in black: print('черный')\n",
    "elif a in red: print('красный')\n",
    "elif a==0: print('зеленый')\n",
    "else: print('ошибка ввода')\n",
    "\n",
    "   \n",
    "        "
   ]
  },
  {
   "cell_type": "code",
   "execution_count": 2,
   "metadata": {},
   "outputs": [
    {
     "name": "stdout",
     "output_type": "stream",
     "text": [
      "2 4\n"
     ]
    }
   ],
   "source": [
    "# найти пересечение двух множеств\n",
    "a1, b1, a2, b2 = int(input()), int(input()), int(input()), int(input()) \n",
    "if min(b1, b2) < max(a1, a2): \n",
    "    print('пустое множество')\n",
    "elif min(b1, b2) == max(a1, a2):\n",
    "    print(min(b1, b2))\n",
    "else:\n",
    "    print(max(a1, a2), min(b1, b2))"
   ]
  },
  {
   "cell_type": "code",
   "execution_count": 11,
   "metadata": {},
   "outputs": [
    {
     "name": "stdout",
     "output_type": "stream",
     "text": [
      "ты\n",
      "москварека\n"
     ]
    }
   ],
   "source": [
    "# вывести из списка самую короткую строку и самую длинную строку\n",
    "a=input()\n",
    "b=input()\n",
    "d=input()\n",
    "e=[len(a),len(b),len(d)]\n",
    "f=[a,b,d]\n",
    "minimum=[i for i in f if len(i)==min(e)]\n",
    "print(minimum[0])\n",
    "maximum=[i for i in f if len(i)==max(e)]\n",
    "print(maximum[0])"
   ]
  },
  {
   "cell_type": "code",
   "execution_count": 13,
   "metadata": {},
   "outputs": [
    {
     "name": "stdout",
     "output_type": "stream",
     "text": [
      "NO\n"
     ]
    }
   ],
   "source": [
    "from statistics import median\n",
    "a=input()\n",
    "b=input()\n",
    "d=input()\n",
    "f=[len(a),len(b),len(d)]\n",
    "e=[min(f),median(f),max(f)]\n",
    "if (e[0]-e[1])==(e[1]-e[2]): print('YES')\n",
    "else: print('NO')"
   ]
  },
  {
   "cell_type": "code",
   "execution_count": 14,
   "metadata": {},
   "outputs": [
    {
     "name": "stdout",
     "output_type": "stream",
     "text": [
      "2.8284271247461903\n"
     ]
    }
   ],
   "source": [
    "from math import *\n",
    "x1,x2,x3,x4= float(input()), float(input()), float(input()), float(input())\n",
    "P=[x1,x2]\n",
    "Q=[x3,x4]\n",
    "eDistance = dist(P, Q)\n",
    "print(eDistance)"
   ]
  },
  {
   "cell_type": "code",
   "execution_count": 23,
   "metadata": {},
   "outputs": [
    {
     "name": "stdout",
     "output_type": "stream",
     "text": [
      "среднее арифметическое =\n",
      "1.5\n",
      "среднее геометрическое =\n",
      "1.414213562373095\n",
      "среднее гармоническое =\n",
      "1.3333333333333333\n",
      "среднее квадратичное число =\n",
      "1.5811388300841898\n"
     ]
    }
   ],
   "source": [
    "# среднее арифметическое,среднее геометрическое, среднее гармоническое, среднее квадратическое числа\n",
    "\n",
    "from scipy.stats import gmean, hmean\n",
    "from statistics import mean\n",
    "a,b = float(input()), float(input())\n",
    "L=[a,b]\n",
    "L1=[i*i for i in L]\n",
    "h=sqrt((sum(L1))/len(L))\n",
    "\n",
    "print('среднее арифметическое =', mean(L), 'среднее геометрическое =', gmean(L), \n",
    "    'среднее гармоническое =',hmean(L), 'среднее квадратичное число =', h, sep='\\n')"
   ]
  },
  {
   "cell_type": "code",
   "execution_count": 24,
   "metadata": {},
   "outputs": [
    {
     "name": "stdout",
     "output_type": "stream",
     "text": [
      "1361015"
     ]
    }
   ],
   "source": [
    "total = 0\n",
    "for i in range(1, 6):\n",
    "    total += i\n",
    "    print(total, end='')"
   ]
  },
  {
   "cell_type": "code",
   "execution_count": 45,
   "metadata": {},
   "outputs": [
    {
     "name": "stdout",
     "output_type": "stream",
     "text": [
      "1 1 2 3 5 8 13 21 34 55 89 144 "
     ]
    }
   ],
   "source": [
    "# фибоначчи \n",
    "fib=[1,1]\n",
    " \n",
    "n =int(input())\n",
    "if n>1: \n",
    "    for i in range(3,n+1):\n",
    "        fib_next = fib[i-3] + fib[i-2]\n",
    "        fib.append(fib_next)\n",
    "\n",
    "    for i in range(len(fib)): print(fib[i], end=' ')\n",
    "else: print(1)"
   ]
  },
  {
   "cell_type": "code",
   "execution_count": 47,
   "metadata": {},
   "outputs": [
    {
     "name": "stdout",
     "output_type": "stream",
     "text": [
      "Сумма чисел равна 23426936\n"
     ]
    }
   ],
   "source": [
    "# цикл, который повторяется (складывает введенные числа), пока не введена команда stop\n",
    "text = input()\n",
    "total = 0\n",
    "while text != 'stop':\n",
    "    num = int(text)\n",
    "    total += num\n",
    "    text = input()\n",
    "print('Сумма введенных чисел равна', total)"
   ]
  },
  {
   "cell_type": "code",
   "execution_count": 52,
   "metadata": {},
   "outputs": [
    {
     "name": "stdout",
     "output_type": "stream",
     "text": [
      "7\n"
     ]
    }
   ],
   "source": [
    "# ведьмаку заплатите чеканной монетой\n",
    "# выведет минимальное количество монет номиналом 1,5,10,25 , которое содержится в N\n",
    "N=int(input())\n",
    "cont= N//25+N%25//10+(N%25%10)//5+(N%25%10)%5\n",
    "print(cont)"
   ]
  },
  {
   "cell_type": "code",
   "execution_count": 58,
   "metadata": {},
   "outputs": [
    {
     "name": "stdout",
     "output_type": "stream",
     "text": [
      "54321"
     ]
    }
   ],
   "source": [
    "# вывести цифры числа в прямом /обратном порядке\n",
    "a=int(input())\n",
    "spis=[]\n",
    "while a!=0:\n",
    "    spis.append(a%10) # запишем все цифры числа в последовательность\n",
    "    a=a//10\n",
    "\n",
    "# прямой порядок    \n",
    "#for i in range((len(spis)-1),-1,-1): # добавим цикл, в котором пробежим от конца к началу с шагом (-1)\n",
    "#    print(spis[i], end=' ')\n",
    "\n",
    "# обратный порядок\n",
    "for i in range(len(spis)):\n",
    "    print(spis[i], end='')"
   ]
  },
  {
   "cell_type": "code",
   "execution_count": 59,
   "metadata": {},
   "outputs": [
    {
     "name": "stdout",
     "output_type": "stream",
     "text": [
      "Максимальная цифра равна 5\n",
      "Минимальная цифра равна 1\n"
     ]
    }
   ],
   "source": [
    "# минимальная и максимальная цифра числа\n",
    "\n",
    "a=int(input())\n",
    "spis=[]\n",
    "while a!=0:\n",
    "    spis.append(a%10) # запишем все цифры числа в последовательность\n",
    "    a=a//10\n",
    "\n",
    "print('Максимальная цифра равна',max(spis))\n",
    "print('Минимальная цифра равна',min(spis))\n"
   ]
  },
  {
   "cell_type": "code",
   "execution_count": 64,
   "metadata": {},
   "outputs": [
    {
     "name": "stdout",
     "output_type": "stream",
     "text": [
      "15 5 120 3 1 6\n"
     ]
    }
   ],
   "source": [
    "# для ЧИСЛА вывести: сумму его цифр, кол-во цифр, произведение его цифр, \n",
    "# среднее его цифр, первую цифру, сумму первой и последней цифры\n",
    "\n",
    "a=int(input())\n",
    "import functools\n",
    "import statistics\n",
    "\n",
    "spis=[]\n",
    "while a!=0:\n",
    "    spis.append(a%10) # запишем все цифры числа в последовательность\n",
    "    a=a//10\n",
    "\n",
    "print(sum(spis), len(spis), functools.reduce(lambda a,b: a*b, spis),\n",
    "    mean(spis), spis[len(spis)-1], (spis[len(spis)-1]+ spis[0]))#,sep='\\n')"
   ]
  },
  {
   "cell_type": "code",
   "execution_count": 73,
   "metadata": {},
   "outputs": [
    {
     "name": "stdout",
     "output_type": "stream",
     "text": [
      "YES\n"
     ]
    }
   ],
   "source": [
    "# проверить состоит ли ЧИСЛО из одинаковых ЦИФР\n",
    "a=int(input())\n",
    "from statistics import mean\n",
    "spis=[]\n",
    "while a!=0:\n",
    "    spis.append(a%10) # запишем все цифры числа в последовательность\n",
    "    a=a//10\n",
    "\n",
    "if spis[i in spis]==mean(spis): print('YES')\n",
    "else: print('NO')"
   ]
  },
  {
   "cell_type": "code",
   "execution_count": 82,
   "metadata": {},
   "outputs": [
    {
     "name": "stdout",
     "output_type": "stream",
     "text": [
      "NO\n"
     ]
    }
   ],
   "source": [
    "# проверить состоит ли ЧИСЛО из одинаковых ЦИФР\n",
    "a=int(input())\n",
    "from statistics import mean\n",
    "spis=[]\n",
    "while a!=0:\n",
    "    spis.append(a%10) # запишем все цифры числа в последовательность\n",
    "    a=a//10\n",
    "b=0\n",
    "for i in range(0,len(spis)):\n",
    "    if mean(spis)==spis[i]: b+=1\n",
    "if b==len(spis): print('YES')\n",
    "else: print('NO')"
   ]
  },
  {
   "cell_type": "code",
   "execution_count": 84,
   "metadata": {},
   "outputs": [
    {
     "name": "stdout",
     "output_type": "stream",
     "text": [
      "YES\n"
     ]
    }
   ],
   "source": [
    "# проверить состоит ли ЧИСЛО из одинаковых ЦИФР\n",
    "num = input() # скажем, что число - это вообще-то строка\n",
    "a = max(num) # возьмем максимальное из этого набора\n",
    "b = min(num) # минимальное из этого набора\n",
    "if a == b: # ну и сравним их! если равны - значит все цифры равны\n",
    "    print('YES')\n",
    "else:\n",
    "    print('NO')"
   ]
  },
  {
   "cell_type": "code",
   "execution_count": 105,
   "metadata": {},
   "outputs": [
    {
     "name": "stdout",
     "output_type": "stream",
     "text": [
      "[5, 4, 3, 2, 1]\n",
      "NO\n"
     ]
    }
   ],
   "source": [
    "# проверить, является ли последовательность цифр справа налево упорядоченной по возрастанию\n",
    "\n",
    "a=int(input())\n",
    "from statistics import mean\n",
    "spis=[]\n",
    "\n",
    "while a!=0:\n",
    "    spis.append(a%10) # запишем все цифры числа в последовательность\n",
    "    a=a//10\n",
    "\n",
    "\n",
    "b=0\n",
    "for i in range(0,len(spis)-1):\n",
    "    if spis[i+1]>=spis[i]: b+=1\n",
    "if b==len(spis)-1: print('YES')\n",
    "else: print('NO')"
   ]
  },
  {
   "cell_type": "code",
   "execution_count": null,
   "metadata": {},
   "outputs": [],
   "source": [
    "i=0\n",
    "H0 = True # допустим верна нулевая гипотеза о том, что каждый член больше предыдущего\n",
    "while spis[i+1]-spis[i]>=0:\n",
    "    H0 = True\n",
    "    i+=1\n",
    "else: H0 = False\n",
    "if H0 == True: print('YES')\n",
    "else: print('NO')"
   ]
  },
  {
   "cell_type": "code",
   "execution_count": null,
   "metadata": {},
   "outputs": [],
   "source": [
    "b=0\n",
    "for i in range(0,len(spis)-1):\n",
    "    if spis[i+1]>=spis[i]: b+=1\n",
    "if b==len(spis)-1: print('YES')\n",
    "else: print('NO')"
   ]
  }
 ],
 "metadata": {
  "kernelspec": {
   "display_name": "Python 3.10.7 64-bit",
   "language": "python",
   "name": "python3"
  },
  "language_info": {
   "codemirror_mode": {
    "name": "ipython",
    "version": 3
   },
   "file_extension": ".py",
   "mimetype": "text/x-python",
   "name": "python",
   "nbconvert_exporter": "python",
   "pygments_lexer": "ipython3",
   "version": "3.10.7"
  },
  "orig_nbformat": 4,
  "vscode": {
   "interpreter": {
    "hash": "aee8b7b246df8f9039afb4144a1f6fd8d2ca17a180786b69acc140d282b71a49"
   }
  }
 },
 "nbformat": 4,
 "nbformat_minor": 2
}
