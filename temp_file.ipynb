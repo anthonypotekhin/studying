{
 "cells": [
  {
   "cell_type": "markdown",
   "metadata": {},
   "source": []
  },
  {
   "cell_type": "markdown",
   "metadata": {},
   "source": [
    "#### Выводы по анализу данных\n",
    "1) датасет 0 :\n",
    "    - данные распределены нормально, много выбросов в признаке f2 - значения менее -6 и более 11\n",
    "2) датасет 1:\n",
    "    - признаки f0, f1 распределены нормально, но у признака f1 много выборосов - значения менее -19 и более 9\n",
    "    - признак f2 скорее дискретный, принимает в основном значения близкие к 0,1,2,3,4 и 5 - по нему построим круговую диаграмму\n",
    "    - product тоже как будто принимает довольно определенные значения, отсмотрим его отдельно\n",
    "\n",
    "3) датасет 2:\n",
    "    - все признаки распределены нормально, большое число выбросов в f0-f2\n",
    "    - f0 и f1 выбросы менее -4.2 и более 4.6\n",
    "    - f2 выбросы менее -6 и более 11.5"
   ]
  },
  {
   "cell_type": "code",
   "execution_count": 2,
   "metadata": {},
   "outputs": [
    {
     "name": "stdout",
     "output_type": "stream",
     "text": [
      "0    False\n",
      "1     True\n",
      "2    False\n",
      "3    False\n",
      "Name: Столбец, dtype: bool\n"
     ]
    }
   ],
   "source": [
    "import pandas as pd\n",
    "\n",
    "# Пример DataFrame с разными типами данных в столбце\n",
    "data = {'Столбец': ['строка', ['список'], 'еще строка', {'словарь': 'значение'}]}\n",
    "df = pd.DataFrame(data)\n",
    "\n",
    "# Проверяем тип данных в столбце 'Столбец'\n",
    "result = df['Столбец'].apply(lambda x: type(x) in  [list])\n",
    "\n",
    "print(result)\n"
   ]
  },
  {
   "cell_type": "code",
   "execution_count": null,
   "metadata": {},
   "outputs": [],
   "source": [
    "'<25'"
   ]
  }
 ],
 "metadata": {
  "kernelspec": {
   "display_name": "Python 3",
   "language": "python",
   "name": "python3"
  },
  "language_info": {
   "codemirror_mode": {
    "name": "ipython",
    "version": 3
   },
   "file_extension": ".py",
   "mimetype": "text/x-python",
   "name": "python",
   "nbconvert_exporter": "python",
   "pygments_lexer": "ipython3",
   "version": "3.10.7"
  }
 },
 "nbformat": 4,
 "nbformat_minor": 2
}
