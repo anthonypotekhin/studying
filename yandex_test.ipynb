{
 "cells": [
  {
   "attachments": {},
   "cell_type": "markdown",
   "metadata": {},
   "source": [
    "Тестовое задание yandex\n"
   ]
  },
  {
   "attachments": {},
   "cell_type": "markdown",
   "metadata": {},
   "source": [
    "Шаг 1: найдем все битые диалоги и запишем их номера в новую таблицу broken_dialogs\n",
    "\n",
    "считаем битыми диалоги, у которых:\n",
    "1) говорит робот или сотрудник, но номер события не равен 2\n",
    "2) говорит клиент, но номер события не равен 1\n",
    "3) в одном диалоге, у которого event = 0 (диалог начат)\n",
    "    +   есть более одной записи\n",
    "    + временная метка не является минимальной по диалогу\n",
    "    + значение ссылки предыдущего поста не нулевое\n",
    "4) в одном диалоге, у которого event = 3 (диалог закончен)\n",
    "    + есть более одной записи\n",
    "    + временная метка не является максимальной по диалогу\n",
    "5) в одном диалоге пристуствуют неуникальные номера клиента\n"
   ]
  },
  {
   "cell_type": "code",
   "execution_count": null,
   "metadata": {
    "vscode": {
     "languageId": "sql"
    }
   },
   "outputs": [],
   "source": [
    "-- найдем и запишем битые диалоги в новую таблицу\n",
    "create table if not exists broken_dialogs as \n",
    "select DialogID\n",
    "\n",
    "from ( \n",
    "    -- выявляем диалоги, у которых события по логике не совпадают с OfficerID\n",
    "\n",
    "    select DialogID from DialogsPosts\n",
    "    where \n",
    "        (OfficerID <> 0 and EventType <>2)  -- говорит робот или сотрудник, но событие - не сообщение поддержки\n",
    "        or (OfficerID=0 and EventType <> 1) -- говорит клиент, но событие этому не соответствует \n",
    "    \n",
    "\n",
    "union \n",
    "\n",
    "    -- выявляем уникальные номера битых диалогов, у которых:\n",
    "    -- event = 0 (диалог начат), но временная метка не минимальная по диалогу или существует номер последнего поста (этого не должно быть)\n",
    "    -- или event =3 (диалог закончен), но временная метка не максимальная по диалогу\n",
    "    select distinct DialogID \n",
    "    from \n",
    "    (select * from DialogsPosts where EventType in (0,3)) as sed -- начало/конец диалога\n",
    "    left outer join \n",
    "\n",
    "    (select DialogID, min(TimeStamp) as min_ts, max(TimeStamp) as max_ts\n",
    "    from DialogsPosts\n",
    "    group by DialogID) as mints\n",
    "\n",
    "    using(DialogID)\n",
    "\n",
    "    where EventType=0 and\n",
    "        (TimeStamp <> min_ts or LastPostID is not null)\n",
    "        or\n",
    "        EventType =3 and TimeStamp <>max_ts\n",
    "\n",
    "union\n",
    "\n",
    "    -- выбираем битые диалоги, у которых имя клиента не уникально \n",
    "    -- (среднее значение номера не равно любому из значений)\n",
    "    select distinct DialogID from \n",
    "    DialogsPosts inner join (\n",
    "        select DialogID, avg(ClientID) as true_client_id\n",
    "        from DialogsPosts\n",
    "        group by DialogID) as true_cid using(DialogID)\n",
    "\n",
    "    where  true_client_id <> ClientID \n",
    "\n",
    "union\n",
    "\n",
    "    -- битые диалоги, которые имеют больше одного начал\n",
    "    select DialogID\n",
    "    from(\n",
    "\n",
    "        select DialogID, EventType\n",
    "        from DialogsPosts\n",
    "        where EventType = 0) as only_start_dia\n",
    "\n",
    "    group by DialogID\n",
    "    having count(EventType) >1\n",
    "\n",
    "union \n",
    "\n",
    "    -- диалоги, которые имеют больше одного завершений \n",
    "    select DialogID\n",
    "    from(\n",
    "\n",
    "        select DialogID, EventType\n",
    "        from DialogsPosts\n",
    "        where EventType =3) as only_start_dia\n",
    "\n",
    "    group by DialogID\n",
    "    having count(EventType) >1\n",
    "    ) as temp_query\n",
    ";\n",
    "\n"
   ]
  },
  {
   "attachments": {
    "image.png": {
     "image/png": "[encoded data removed]"
    }
   },
   "cell_type": "markdown",
   "metadata": {},
   "source": [
    "Битые диалоги под номерами 1,3, 7, 8, 12\n",
    "\n",
    "![image.png](attachment:image.png)"
   ]
  },
  {
   "attachments": {},
   "cell_type": "markdown",
   "metadata": {},
   "source": [
    "Для каждого «чистого» (т. е. «небитого») диалога рассчитать время решения проблемы клиента и отранжировать диалоги по полученному значению"
   ]
  },
  {
   "cell_type": "code",
   "execution_count": null,
   "metadata": {
    "vscode": {
     "languageId": "sql"
    }
   },
   "outputs": [],
   "source": [
    "\n",
    "select DialogID, dec_time_in_minutes from \n",
    "\t\n",
    "    -- вложенный запрос для определения времени, потраченного на весь диалог\n",
    "    (select DialogID,\n",
    "\t -- min(TimeStamp)as min_ts, max(TimeStamp) as max_ts, -- строка для проверки правильности расчетов\n",
    "\tTIMESTAMPDIFF(minute, min(TimeStamp),max(TimeStamp)) as dec_time_in_minutes -- считаем разницу между началом\n",
    "\t\t\t\t\t\t\t\t\t\t\t\t\t\t\t\t\t\t\t\t-- и концом диалога в минутах\n",
    "\tfrom DialogsPosts\n",
    "\tgroup by DialogID\n",
    "\n",
    "\thaving DialogID not in \t\t\t\t\t-- отбираем только чистые диалоги (не битые)\n",
    "\t(select DialogID from broken_dialogs) \n",
    "\t) as time_diff\n",
    "\n",
    "-- пересекаем полученные диалоги , отбирая только те, ЧТО РЕШЕНЫ\n",
    "inner join (select DialogID from DialogsPosts where EventType =3) as only_solved\n",
    "using(DialogID) \n",
    "order by dec_time_in_minutes    -- сортируем по времени решения"
   ]
  },
  {
   "attachments": {
    "image.png": {
     "image/png": "[encoded data removed]"
    }
   },
   "cell_type": "markdown",
   "metadata": {},
   "source": [
    "![image.png](attachment:image.png)"
   ]
  },
  {
   "attachments": {},
   "cell_type": "markdown",
   "metadata": {},
   "source": [
    "Отдельно вытащим информацию по диалогам:\n",
    "\n",
    "+ кто решал (робот/человек)\n",
    "+ сколько человек решало (один/много)\n",
    "+ какой диалог еще в процессе решения (не завершен)"
   ]
  },
  {
   "cell_type": "code",
   "execution_count": null,
   "metadata": {
    "vscode": {
     "languageId": "sql"
    }
   },
   "outputs": [],
   "source": [
    "select DialogID, who_solve,  \n",
    "ifnull(is_solved,0) as is_solved, -- заполняем строку нулями, если при объединении появляются пустые значения\n",
    "ifnull(is_solved_one_person,0) as is_solved_one_person,\n",
    "ifnull(is_solved_more_one_person,0) as is_solved_many_person\n",
    "from\t\n",
    "\t(-- диалоги, которые решались с участием людей\n",
    "\t\tselect distinct DialogID, \n",
    "\t\t\"human\" as  who_solve\n",
    "\t\t\t\t\tfrom DialogsPosts\n",
    "\t\t\t\t\twhere OfficerID>0\n",
    "\t\t\t\t\t\n",
    "\t\tunion \n",
    "\n",
    "\t\t-- диалоги, что решались только роботом\n",
    "\t\tselect distinct DialogId,\n",
    "\t\t\"robot\" as  who_solve\n",
    "\t\tfrom DialogsPosts\n",
    "\n",
    "\t\twhere DialogId not in (\n",
    "\t\t\tselect DialogID\n",
    "\t\t\tfrom DialogsPosts\n",
    "\t\t\twhere OfficerID>0) \n",
    "\t\t) as who_solve_table\n",
    "        \n",
    "left outer join \n",
    "-- те диалоги, что решены\n",
    "\t(select DialogID,\n",
    "\t1 as is_solved\n",
    "\tfrom DialogsPosts\n",
    "\twhere EventType =3 ) as only_solved\n",
    "using(DialogID) \n",
    "\n",
    "left outer join \n",
    "-- разделям на диалоги, которые решались/решаются одним человеком или несколькими людьми\n",
    "\t(select DialogID, \n",
    "\t\tif(num_persons=1, 1,0) as is_solved_one_person,\n",
    "\t\tif(num_persons>1, 1,0) as is_solved_more_one_person\n",
    "\t\tfrom(\n",
    "\t\t\tselect DialogID, count(distinct(OfficerID)) as num_persons\n",
    "\t\t\tfrom (\n",
    "\t\t\t\tselect DialogID, OfficerID\n",
    "\t\t\t\tfrom DialogsPosts\n",
    "\t\t\t\twhere OfficerID>0\n",
    "\t\t\t\t) as solved_with_human\n",
    "\t\t\tgroup by DialogID\n",
    "\t\t\t) as temp\n",
    "\t) as how_many_people\n",
    "using(DialogID)        \n"
   ]
  },
  {
   "attachments": {
    "image.png": {
     "image/png": "[encoded data removed]"
    }
   },
   "cell_type": "markdown",
   "metadata": {},
   "source": [
    "![image.png](attachment:image.png)"
   ]
  },
  {
   "attachments": {},
   "cell_type": "markdown",
   "metadata": {},
   "source": [
    "Запишем эту информацию в отдельную таблицу classified_dialogs и из нее организуем запрос по условию:\n",
    "\n",
    "Разметить диалоги в следующие классы: «решены роботом», «решены с привлечением одного специалиста», «решены с привлечением более чем одного специалиста», «не решены или находятся в процессе решения»."
   ]
  },
  {
   "cell_type": "code",
   "execution_count": null,
   "metadata": {
    "vscode": {
     "languageId": "sql"
    }
   },
   "outputs": [],
   "source": [
    "select * from classified_dialogs;\n",
    "\n",
    "select DialogID, \n",
    "if(is_solved=1 and who_solve=\"robot\", 1,0) as Реш_роботом,\n",
    "if(is_solved=1 and is_solved_one_person=1, 1,0) as реш_с_привлечением_1_специалиста,\n",
    "if(is_solved=1 and is_solved_many_person=1, 1,0) as решены_с_привлечением_более_чем_1_специалиста,\n",
    "if(is_solved=0, 1,0) as не_реш_или_находятся_в_процессе_решения\n",
    "from classified_dialogs"
   ]
  },
  {
   "attachments": {
    "image.png": {
     "image/png": "[encoded data removed]"
    }
   },
   "cell_type": "markdown",
   "metadata": {},
   "source": [
    "![image.png](attachment:image.png)"
   ]
  },
  {
   "attachments": {},
   "cell_type": "markdown",
   "metadata": {},
   "source": [
    "Здесь можно пересечь полученную таблицу с таблицей небитых диалогов, чтобы вывести только чистые по этом запросу\n",
    "+ (достаточно просто прописать inner join broken_dialogs using(DialogID))\n",
    "\n",
    "+ я этого делать не буду, в виду ограниченности чистых таблиц (их всего три, см выше), потому что в некоторых столбцах после объединения будут только нули\n",
    "\n"
   ]
  },
  {
   "attachments": {},
   "cell_type": "markdown",
   "metadata": {},
   "source": [
    "Найти незакрытые диалоги и отранжировать их по времени нахождения в стадии «решается», выведя наверх самые долго решаемые диалоги."
   ]
  },
  {
   "cell_type": "code",
   "execution_count": null,
   "metadata": {
    "vscode": {
     "languageId": "sql"
    }
   },
   "outputs": [],
   "source": [
    "select DialogID, dec_time_in_minutes from \n",
    "\t\n",
    "    -- вложенный запрос для определения времени, потраченного на весь диалог\n",
    "    (select DialogID,\n",
    "\t -- min(TimeStamp)as min_ts, max(TimeStamp) as max_ts, -- строка для проверки правильности расчетов\n",
    "\tTIMESTAMPDIFF(minute, min(TimeStamp),max(TimeStamp)) as dec_time_in_minutes -- считаем разницу между началом\n",
    "\t\t\t\t\t\t\t\t\t\t\t\t\t\t\t\t\t\t\t\t-- и концом диалога в минутах\n",
    "\tfrom DialogsPosts\n",
    "\tgroup by DialogID) as time_diff\n",
    "    \n",
    "    where DialogID in\n",
    "\t\t(-- выбираем диалоги, которые находятся в процессе решения\n",
    "\t\tselect DialogID from\n",
    "\t\t(select DialogID, \n",
    "\t\tif(is_solved=1 and who_solve=\"robot\", 1,0) as Реш_роботом,\n",
    "\t\tif(is_solved=1 and is_solved_one_person=1, 1,0) as реш_с_привлечением_1_специалиста,\n",
    "\t\tif(is_solved=1 and is_solved_many_person=1, 1,0) as решены_с_привлечением_более_чем_1_специалиста,\n",
    "\t\tif(is_solved=0, 1,0) as не_реш_или_находятся_в_процессе_решения\n",
    "\t\tfrom classified_dialogs) as temp\n",
    "\n",
    "\t\twhere не_реш_или_находятся_в_процессе_решения =1)\n",
    "        \n",
    "order by dec_time_in_minutes desc"
   ]
  },
  {
   "attachments": {
    "image.png": {
     "image/png": "[encoded data removed]"
    }
   },
   "cell_type": "markdown",
   "metadata": {},
   "source": [
    "![image.png](attachment:image.png)"
   ]
  },
  {
   "attachments": {},
   "cell_type": "markdown",
   "metadata": {},
   "source": [
    "### Метрики, кажущиеся мне интересными:\n",
    "\n",
    "1) Общее количество диалогов: Эта метрика позволяет оценить общую активность пользователей и объем работы службы поддержки.\n",
    "\n",
    "2) Среднее время ответа: Рассчитывается как разница между временем получения вопроса или утверждения клиента и временем ответа от специалиста или робота. Позволяет оценить эффективность работы службы поддержки и скорость реагирования на запросы пользователей.\n",
    "\n",
    "3) Количество диалогов, в которых был подключен специалист: Данная метрика позволяет оценить долю диалогов, требующих вмешательства специалиста, и может быть полезной для планирования загрузки службы поддержки.\n",
    "\n",
    "4) Среднее количество постов в диалоге: Эта метрика показывает среднее количество постов (вопросов и ответов) в каждом диалоге. Может быть полезна для оценки глубины взаимодействия с пользователями и понимания сложности проблем, с которыми сталкиваются клиенты.\n",
    "\n",
    "5) Количество закрытых диалогов: Позволяет оценить общую эффективность решения проблем пользователей и завершения диалогов со службой поддержки.\n",
    "\n",
    "6) Наиболее часто встречающиеся проблемы: Анализ текста сообщений (постов) может помочь выявить наиболее часто встречающиеся проблемы пользователей, что может быть полезно для оптимизации процессов поддержки и предоставления более быстрых решений.\n",
    "\n",
    "7) Временные пики активности: Анализ временных меток постов может помочь выявить пики активности пользователей и спроса на поддержку, что может быть полезно для планирования ресурсов службы поддержки."
   ]
  },
  {
   "cell_type": "markdown",
   "metadata": {},
   "source": []
  },
  {
   "cell_type": "markdown",
   "metadata": {},
   "source": [
    "Yandex стажировка\n"
   ]
  },
  {
   "cell_type": "code",
   "execution_count": null,
   "metadata": {},
   "outputs": [],
   "source": [
    "n = int(input())\n"
   ]
  },
  {
   "cell_type": "code",
   "execution_count": null,
   "metadata": {},
   "outputs": [
    {
     "name": "stdout",
     "output_type": "stream",
     "text": [
      "No\n"
     ]
    }
   ],
   "source": [
    "# вспомогательная функция, которая позволяет определить конечность квеста\n",
    "def is_finite(n, quests):\n",
    "    visited = [False] * n  # Список посещенных npc\n",
    "    current_npc = 0  # Индекс текущего npc, с которого начинается квест\n",
    "\n",
    "    while True:\n",
    "        if current_npc == -1:   # если текущий npc возвращает -1(награду), то квест завершен\n",
    "            return True         \n",
    "\n",
    "        if visited[current_npc]:    # если мы прошли в цикле всех npc  и каждый вернул False, \n",
    "                                    # (то есть по индексу вернул элемент False из списка посещенных)\n",
    "                                    # то квест зациклен\n",
    "            return False  \n",
    "\n",
    "        visited[current_npc] = True     # на каждом посещении меняем значение списка на True \n",
    "                                        # (то есть отмечаем, что посещение конкретного npc  состоялось)\n",
    "\n",
    "        if current_npc >= n or quests[current_npc] >= n or quests[current_npc] == current_npc:    # здесь отсекаем некорретные индексы для нашего списка\n",
    "                                                            # но только ПОСЛЕ проверки двух условий выше\n",
    "            return False  # Некорректные данные\n",
    "                                        \n",
    "        current_npc = quests[current_npc]   # соотв меняем и текущего npc на следующего, к которому он нас отправил\n",
    "\n",
    "    return False\n",
    "\n",
    "\n",
    "n = int(input())\n",
    "quests = list(map(int, input().split()))\n",
    "\n",
    "# Проверка квестов\n",
    "if is_finite(n, quests):\n",
    "    print(\"Yes\")\n",
    "else:\n",
    "    print(\"No\")\n"
   ]
  },
  {
   "cell_type": "code",
   "execution_count": null,
   "metadata": {},
   "outputs": [
    {
     "name": "stdout",
     "output_type": "stream",
     "text": [
      "Yes\n"
     ]
    }
   ],
   "source": [
    "n= int(input())\n",
    "npcs = map(int, input().split()) # меняем строку на список целых чисел\n",
    "\n",
    "flag = False\n",
    "for npc in npcs:\n",
    "\tif npc == -1: \n",
    "\t\tflag = True\n",
    "\t\tbreak\n",
    "\n",
    "if flag: print('Yes')\n",
    "else: print('No')"
   ]
  },
  {
   "cell_type": "code",
   "execution_count": null,
   "metadata": {},
   "outputs": [],
   "source": [
    "def is_finite(n,npcs):    \n",
    "    visited = [False] * n  # Список посещенных npc\n",
    "    current_npc = 0  # Индекс текущего npc, с которого начинается квест\n",
    "\n",
    "    while True:\n",
    "        if current_npc == -1:   # если текущий npc возвращает -1(награду), то квест завершен\n",
    "            return True\n",
    "        \n",
    "        current_npc = visited[current_npc]\n",
    "\n",
    "n= int(input())\n",
    "npcs = map(int, input().split()) # меняем строку на список целых чисел"
   ]
  },
  {
   "cell_type": "code",
   "execution_count": null,
   "metadata": {},
   "outputs": [
    {
     "name": "stdout",
     "output_type": "stream",
     "text": [
      "No\n"
     ]
    }
   ],
   "source": [
    "def is_finite(n,npcs):    \n",
    "    visited = [False] * n  # Список посещенных npc\n",
    "    current_npc = 0  # Индекс текущего npc, с которого начинается квест\n",
    "\n",
    "    result = False\n",
    "    for npc in npcs:\n",
    "        if visited[current_npc] == True: break\n",
    "        if npc == -1: \n",
    "            result = True\n",
    "            break\n",
    "        visited[current_npc] = True\n",
    "        current_npc = npc-1\n",
    "    return result\n",
    "\n",
    "n= 5 #int(input())\n",
    "npcs = [2,3,5,-1, 4]\n",
    "npcs = [2,1,5,-1, 4]\n",
    "npcs = [2,3,1,1, 4]\n",
    "npcs = [1,2,3,4,5]\n",
    "# map(int, input().split()) # меняем строку на список целых чисел\n",
    "\n",
    "print(('No', 'Yes')[is_finite(n,npcs)])"
   ]
  },
  {
   "cell_type": "code",
   "execution_count": null,
   "metadata": {},
   "outputs": [
    {
     "name": "stdout",
     "output_type": "stream",
     "text": [
      "Результат для n=2, k=3: 8\n",
      "Результат для n=5, k=5: 1\n"
     ]
    }
   ],
   "source": [
    "def calculate_probability(n, k):\n",
    "    if n % 2 == 1:\n",
    "        return 1\n",
    "\n",
    "    if k % 2 == 0:\n",
    "        p = k // 2\n",
    "    else:\n",
    "        p = k\n",
    "\n",
    "    q = k\n",
    "    x = (p * q - 1) % 1000000007\n",
    "    return x\n",
    "\n",
    "# Примеры тестовых значений\n",
    "test_cases = [(2, 3), (5, 5)]\n",
    "\n",
    "for n, k in test_cases:\n",
    "    result = calculate_probability(n, k)\n",
    "    print(f\"Результат для n={n}, k={k}: {result}\")\n"
   ]
  },
  {
   "cell_type": "code",
   "execution_count": null,
   "metadata": {},
   "outputs": [
    {
     "name": "stdout",
     "output_type": "stream",
     "text": [
      "Результат для n=2, k=3: 1\n",
      "Результат для n=5, k=5: 1\n"
     ]
    }
   ],
   "source": [
    "def calculate_probability(n, k):\n",
    "    if n % 2 == 1:\n",
    "        return 1\n",
    "\n",
    "    total_outcomes = k**n\n",
    "    odd_outcomes = (k // 2)**n if k % 2 == 0 else k**n\n",
    "\n",
    "    x = (odd_outcomes * pow(total_outcomes, 1000000005, 1000000007)) % 1000000007\n",
    "    return x\n",
    "\n",
    "# Примеры тестовых значений\n",
    "test_cases = [(2, 3), (5, 5)]\n",
    "\n",
    "for n, k in test_cases:\n",
    "    result = calculate_probability(n, k)\n",
    "    print(f\"Результат для n={n}, k={k}: {result}\")\n"
   ]
  },
  {
   "cell_type": "code",
   "execution_count": null,
   "metadata": {},
   "outputs": [
    {
     "name": "stdout",
     "output_type": "stream",
     "text": [
      "Результат для n=2, k=3: 222222224\n",
      "Результат для n=5, k=5: 1\n"
     ]
    }
   ],
   "source": [
    "def calculate_probability(n, k):\n",
    "    if n % 2 == 1:\n",
    "        return 1\n",
    "\n",
    "    total_outcomes = k**n\n",
    "    odd_outcomes = (k + 1) // 2\n",
    "\n",
    "    x = (odd_outcomes * pow(total_outcomes, 1000000005, 1000000007)) % 1000000007\n",
    "    return x\n",
    "\n",
    "# Примеры тестовых значений\n",
    "test_cases = [(2, 3), (5, 5)]\n",
    "\n",
    "for n, k in test_cases:\n",
    "    result = calculate_probability(n, k)\n",
    "    print(f\"Результат для n={n}, k={k}: {result}\")\n"
   ]
  },
  {
   "cell_type": "code",
   "execution_count": null,
   "metadata": {},
   "outputs": [
    {
     "name": "stdout",
     "output_type": "stream",
     "text": [
      "160\n"
     ]
    }
   ],
   "source": [
    "a,b,c,d = map(int, input().split())\n",
    "print(((d-b)*c+a, a)[d<=b])"
   ]
  },
  {
   "cell_type": "markdown",
   "metadata": {},
   "source": [
    "### Yandex стажировка Аналитика"
   ]
  },
  {
   "cell_type": "markdown",
   "metadata": {},
   "source": [
    "    Два игрока по очереди подкидывают монету, вероятность выпадения орла и решки на ней одинаковы. Первый игрок кинул монету \n",
    "    n+1 раз, а второй n раз. Посчитайте вероятность того, что у первого игрока выпало строго больше решек, чем у второго."
   ]
  },
  {
   "cell_type": "code",
   "execution_count": null,
   "metadata": {},
   "outputs": [],
   "source": [
    "n = int(input())\n",
    "\n"
   ]
  },
  {
   "cell_type": "code",
   "execution_count": null,
   "metadata": {},
   "outputs": [
    {
     "name": "stdout",
     "output_type": "stream",
     "text": [
      "   num_att  num_resh\n",
      "0        0         0\n",
      "1        1         1\n",
      "2        2         1\n",
      "3        3         2\n",
      "4        4         1\n",
      "5        5         2\n",
      "6        6         2\n",
      "7        7         3\n"
     ]
    }
   ],
   "source": [
    "import pandas as pd\n",
    "\n",
    "def get_df_prob(num_flips):\n",
    "    outcomes = []\n",
    "    for i in range(2 ** num_flips):\n",
    "        outcome = []\n",
    "        for j in range(num_flips):\n",
    "            outcome.append((i >> j) & 1)\n",
    "        outcomes.append(outcome)\n",
    "    \n",
    "    df = pd.DataFrame(outcomes, columns=[f'attempt_{i+1}' for i in range(num_flips)])\n",
    "    df['num_resh'] = df.sum(axis=1)\n",
    "    df=df.reset_index().rename(columns={'index' : 'num_att'})\n",
    "    \n",
    "    \n",
    "    return df[['num_att', 'num_resh']]\n",
    "\n",
    "# Пример использования\n",
    "num_flips = 3\n",
    "df1 = get_df_prob(num_flips)\n",
    "print(df1)\n"
   ]
  },
  {
   "cell_type": "code",
   "execution_count": null,
   "metadata": {},
   "outputs": [],
   "source": [
    "def change_to_bin(string):\n",
    "    if string == 'P': return 1\n",
    "    else: return 0"
   ]
  },
  {
   "cell_type": "code",
   "execution_count": null,
   "metadata": {},
   "outputs": [
    {
     "data": {
      "text/html": [
       "<div>\n",
       "<style scoped>\n",
       "    .dataframe tbody tr th:only-of-type {\n",
       "        vertical-align: middle;\n",
       "    }\n",
       "\n",
       "    .dataframe tbody tr th {\n",
       "        vertical-align: top;\n",
       "    }\n",
       "\n",
       "    .dataframe thead th {\n",
       "        text-align: right;\n",
       "    }\n",
       "</style>\n",
       "<table border=\"1\" class=\"dataframe\">\n",
       "  <thead>\n",
       "    <tr style=\"text-align: right;\">\n",
       "      <th></th>\n",
       "      <th>num_att</th>\n",
       "      <th>num_resh</th>\n",
       "    </tr>\n",
       "  </thead>\n",
       "  <tbody>\n",
       "    <tr>\n",
       "      <th>0</th>\n",
       "      <td>0</td>\n",
       "      <td>0</td>\n",
       "    </tr>\n",
       "    <tr>\n",
       "      <th>1</th>\n",
       "      <td>1</td>\n",
       "      <td>1</td>\n",
       "    </tr>\n",
       "    <tr>\n",
       "      <th>2</th>\n",
       "      <td>2</td>\n",
       "      <td>1</td>\n",
       "    </tr>\n",
       "    <tr>\n",
       "      <th>3</th>\n",
       "      <td>3</td>\n",
       "      <td>2</td>\n",
       "    </tr>\n",
       "  </tbody>\n",
       "</table>\n",
       "</div>"
      ],
      "text/plain": [
       "   num_att  num_resh\n",
       "0        0         0\n",
       "1        1         1\n",
       "2        2         1\n",
       "3        3         2"
      ]
     },
     "metadata": {},
     "output_type": "display_data"
    }
   ],
   "source": [
    "df2 = get_df_prob(2)\n",
    "df2"
   ]
  },
  {
   "cell_type": "code",
   "execution_count": null,
   "metadata": {},
   "outputs": [
    {
     "data": {
      "text/html": [
       "<div>\n",
       "<style scoped>\n",
       "    .dataframe tbody tr th:only-of-type {\n",
       "        vertical-align: middle;\n",
       "    }\n",
       "\n",
       "    .dataframe tbody tr th {\n",
       "        vertical-align: top;\n",
       "    }\n",
       "\n",
       "    .dataframe thead th {\n",
       "        text-align: right;\n",
       "    }\n",
       "</style>\n",
       "<table border=\"1\" class=\"dataframe\">\n",
       "  <thead>\n",
       "    <tr style=\"text-align: right;\">\n",
       "      <th></th>\n",
       "      <th>num_att_x</th>\n",
       "      <th>Player1</th>\n",
       "      <th>num_att_y</th>\n",
       "      <th>Player2</th>\n",
       "    </tr>\n",
       "  </thead>\n",
       "  <tbody>\n",
       "    <tr>\n",
       "      <th>0</th>\n",
       "      <td>0</td>\n",
       "      <td>0</td>\n",
       "      <td>0</td>\n",
       "      <td>0</td>\n",
       "    </tr>\n",
       "    <tr>\n",
       "      <th>1</th>\n",
       "      <td>0</td>\n",
       "      <td>0</td>\n",
       "      <td>1</td>\n",
       "      <td>1</td>\n",
       "    </tr>\n",
       "    <tr>\n",
       "      <th>2</th>\n",
       "      <td>0</td>\n",
       "      <td>0</td>\n",
       "      <td>2</td>\n",
       "      <td>1</td>\n",
       "    </tr>\n",
       "    <tr>\n",
       "      <th>3</th>\n",
       "      <td>0</td>\n",
       "      <td>0</td>\n",
       "      <td>3</td>\n",
       "      <td>2</td>\n",
       "    </tr>\n",
       "    <tr>\n",
       "      <th>4</th>\n",
       "      <td>1</td>\n",
       "      <td>1</td>\n",
       "      <td>0</td>\n",
       "      <td>0</td>\n",
       "    </tr>\n",
       "    <tr>\n",
       "      <th>5</th>\n",
       "      <td>1</td>\n",
       "      <td>1</td>\n",
       "      <td>1</td>\n",
       "      <td>1</td>\n",
       "    </tr>\n",
       "    <tr>\n",
       "      <th>6</th>\n",
       "      <td>1</td>\n",
       "      <td>1</td>\n",
       "      <td>2</td>\n",
       "      <td>1</td>\n",
       "    </tr>\n",
       "    <tr>\n",
       "      <th>7</th>\n",
       "      <td>1</td>\n",
       "      <td>1</td>\n",
       "      <td>3</td>\n",
       "      <td>2</td>\n",
       "    </tr>\n",
       "    <tr>\n",
       "      <th>8</th>\n",
       "      <td>2</td>\n",
       "      <td>1</td>\n",
       "      <td>0</td>\n",
       "      <td>0</td>\n",
       "    </tr>\n",
       "    <tr>\n",
       "      <th>9</th>\n",
       "      <td>2</td>\n",
       "      <td>1</td>\n",
       "      <td>1</td>\n",
       "      <td>1</td>\n",
       "    </tr>\n",
       "    <tr>\n",
       "      <th>10</th>\n",
       "      <td>2</td>\n",
       "      <td>1</td>\n",
       "      <td>2</td>\n",
       "      <td>1</td>\n",
       "    </tr>\n",
       "    <tr>\n",
       "      <th>11</th>\n",
       "      <td>2</td>\n",
       "      <td>1</td>\n",
       "      <td>3</td>\n",
       "      <td>2</td>\n",
       "    </tr>\n",
       "    <tr>\n",
       "      <th>12</th>\n",
       "      <td>3</td>\n",
       "      <td>2</td>\n",
       "      <td>0</td>\n",
       "      <td>0</td>\n",
       "    </tr>\n",
       "    <tr>\n",
       "      <th>13</th>\n",
       "      <td>3</td>\n",
       "      <td>2</td>\n",
       "      <td>1</td>\n",
       "      <td>1</td>\n",
       "    </tr>\n",
       "    <tr>\n",
       "      <th>14</th>\n",
       "      <td>3</td>\n",
       "      <td>2</td>\n",
       "      <td>2</td>\n",
       "      <td>1</td>\n",
       "    </tr>\n",
       "    <tr>\n",
       "      <th>15</th>\n",
       "      <td>3</td>\n",
       "      <td>2</td>\n",
       "      <td>3</td>\n",
       "      <td>2</td>\n",
       "    </tr>\n",
       "    <tr>\n",
       "      <th>16</th>\n",
       "      <td>4</td>\n",
       "      <td>1</td>\n",
       "      <td>0</td>\n",
       "      <td>0</td>\n",
       "    </tr>\n",
       "    <tr>\n",
       "      <th>17</th>\n",
       "      <td>4</td>\n",
       "      <td>1</td>\n",
       "      <td>1</td>\n",
       "      <td>1</td>\n",
       "    </tr>\n",
       "    <tr>\n",
       "      <th>18</th>\n",
       "      <td>4</td>\n",
       "      <td>1</td>\n",
       "      <td>2</td>\n",
       "      <td>1</td>\n",
       "    </tr>\n",
       "    <tr>\n",
       "      <th>19</th>\n",
       "      <td>4</td>\n",
       "      <td>1</td>\n",
       "      <td>3</td>\n",
       "      <td>2</td>\n",
       "    </tr>\n",
       "    <tr>\n",
       "      <th>20</th>\n",
       "      <td>5</td>\n",
       "      <td>2</td>\n",
       "      <td>0</td>\n",
       "      <td>0</td>\n",
       "    </tr>\n",
       "    <tr>\n",
       "      <th>21</th>\n",
       "      <td>5</td>\n",
       "      <td>2</td>\n",
       "      <td>1</td>\n",
       "      <td>1</td>\n",
       "    </tr>\n",
       "    <tr>\n",
       "      <th>22</th>\n",
       "      <td>5</td>\n",
       "      <td>2</td>\n",
       "      <td>2</td>\n",
       "      <td>1</td>\n",
       "    </tr>\n",
       "    <tr>\n",
       "      <th>23</th>\n",
       "      <td>5</td>\n",
       "      <td>2</td>\n",
       "      <td>3</td>\n",
       "      <td>2</td>\n",
       "    </tr>\n",
       "    <tr>\n",
       "      <th>24</th>\n",
       "      <td>6</td>\n",
       "      <td>2</td>\n",
       "      <td>0</td>\n",
       "      <td>0</td>\n",
       "    </tr>\n",
       "    <tr>\n",
       "      <th>25</th>\n",
       "      <td>6</td>\n",
       "      <td>2</td>\n",
       "      <td>1</td>\n",
       "      <td>1</td>\n",
       "    </tr>\n",
       "    <tr>\n",
       "      <th>26</th>\n",
       "      <td>6</td>\n",
       "      <td>2</td>\n",
       "      <td>2</td>\n",
       "      <td>1</td>\n",
       "    </tr>\n",
       "    <tr>\n",
       "      <th>27</th>\n",
       "      <td>6</td>\n",
       "      <td>2</td>\n",
       "      <td>3</td>\n",
       "      <td>2</td>\n",
       "    </tr>\n",
       "    <tr>\n",
       "      <th>28</th>\n",
       "      <td>7</td>\n",
       "      <td>3</td>\n",
       "      <td>0</td>\n",
       "      <td>0</td>\n",
       "    </tr>\n",
       "    <tr>\n",
       "      <th>29</th>\n",
       "      <td>7</td>\n",
       "      <td>3</td>\n",
       "      <td>1</td>\n",
       "      <td>1</td>\n",
       "    </tr>\n",
       "    <tr>\n",
       "      <th>30</th>\n",
       "      <td>7</td>\n",
       "      <td>3</td>\n",
       "      <td>2</td>\n",
       "      <td>1</td>\n",
       "    </tr>\n",
       "    <tr>\n",
       "      <th>31</th>\n",
       "      <td>7</td>\n",
       "      <td>3</td>\n",
       "      <td>3</td>\n",
       "      <td>2</td>\n",
       "    </tr>\n",
       "  </tbody>\n",
       "</table>\n",
       "</div>"
      ],
      "text/plain": [
       "    num_att_x  Player1  num_att_y  Player2\n",
       "0           0        0          0        0\n",
       "1           0        0          1        1\n",
       "2           0        0          2        1\n",
       "3           0        0          3        2\n",
       "4           1        1          0        0\n",
       "5           1        1          1        1\n",
       "6           1        1          2        1\n",
       "7           1        1          3        2\n",
       "8           2        1          0        0\n",
       "9           2        1          1        1\n",
       "10          2        1          2        1\n",
       "11          2        1          3        2\n",
       "12          3        2          0        0\n",
       "13          3        2          1        1\n",
       "14          3        2          2        1\n",
       "15          3        2          3        2\n",
       "16          4        1          0        0\n",
       "17          4        1          1        1\n",
       "18          4        1          2        1\n",
       "19          4        1          3        2\n",
       "20          5        2          0        0\n",
       "21          5        2          1        1\n",
       "22          5        2          2        1\n",
       "23          5        2          3        2\n",
       "24          6        2          0        0\n",
       "25          6        2          1        1\n",
       "26          6        2          2        1\n",
       "27          6        2          3        2\n",
       "28          7        3          0        0\n",
       "29          7        3          1        1\n",
       "30          7        3          2        1\n",
       "31          7        3          3        2"
      ]
     },
     "metadata": {},
     "output_type": "display_data"
    }
   ],
   "source": [
    "df1.merge(df2, how='cross')\\\n",
    "    .rename(columns={'num_resh_x': 'Player1', 'num_resh_y': 'Player2'})"
   ]
  },
  {
   "cell_type": "code",
   "execution_count": null,
   "metadata": {},
   "outputs": [
    {
     "data": {
      "text/plain": [
       "16"
      ]
     },
     "metadata": {},
     "output_type": "display_data"
    }
   ],
   "source": [
    "num_true = df1.merge(df2, how='cross')\\\n",
    "    .rename(columns={'num_resh_x': 'Player1', 'num_resh_y': 'Player2'}).\\\n",
    "    query(\"Player1>Player2\").Player1.count()\n",
    "\n",
    "num_true"
   ]
  },
  {
   "cell_type": "code",
   "execution_count": null,
   "metadata": {},
   "outputs": [
    {
     "data": {
      "text/plain": [
       "0.5"
      ]
     },
     "metadata": {},
     "output_type": "display_data"
    }
   ],
   "source": [
    "import pandas as pd\n",
    "\n",
    "def get_df_prob(num_flips):\n",
    "    outcomes = []\n",
    "    for i in range(2 ** num_flips):\n",
    "        outcome = []\n",
    "        for j in range(num_flips):\n",
    "            outcome.append((i >> j) & 1)\n",
    "        outcomes.append(outcome)\n",
    "    \n",
    "    df = pd.DataFrame(outcomes, columns=[f'attempt_{i+1}' for i in range(num_flips)])\n",
    "    df['num_resh'] = df.sum(axis=1)\n",
    "    df=df.reset_index().rename(columns={'index' : 'num_att'})\n",
    "    \n",
    "    \n",
    "    return df[['num_att', 'num_resh']]\n",
    "\n",
    "n = 10\n",
    "\n",
    "df1 = get_df_prob(n+1)\n",
    "df2 = get_df_prob(n)\n",
    "\n",
    "num_true = df1.merge(df2, how='cross')\\\n",
    "    .rename(columns={'num_resh_x': 'Player1', 'num_resh_y': 'Player2'}).\\\n",
    "    query(\"Player1>Player2\").Player1.count()\n",
    "\n",
    "num_comb = 2**(n+1) * 2**n\n",
    "\n",
    "result = num_true/num_comb\n",
    "\n",
    "df1.merge(df2, how='cross')\\\n",
    "    .rename(columns={'num_resh_x': 'Player1', 'num_resh_y': 'Player2'}).\\\n",
    "    query(\"Player1>Player2\").Player1.count() / 2097152\n"
   ]
  },
  {
   "cell_type": "markdown",
   "metadata": {},
   "source": [
    "        Будем называть \"странной суммой\" последовательности чисел \n",
    "        t1, … ,tk  значение алгебраической суммы \n",
    "        t1−t2+t3−...+(−1)^(k−1)*tk.\n",
    "\n",
    "        Для данного массива целых чисел определить, существует ли в нём непустой подотрезок с указанным значением \"странной суммы\".\n",
    "\n",
    "        Формат ввода\n",
    "        В первой строке два целых числа:\n",
    "        n количество элементов массива ,  \n",
    "        x желаемое значение \"странной суммы\" для подотрезка.\n",
    "\n",
    "        Во второй строке \n",
    "        n целых чисел \n",
    "        a1,…,an через пробел - массив, в котором мы ищем такой подотрезок.\n",
    "\n",
    "        Формат вывода\n",
    "        Строка \"YES\", если в заданном массиве существует подотрезок с указанной \"странной суммой\", и \"NO\", если нет."
   ]
  },
  {
   "cell_type": "code",
   "execution_count": null,
   "metadata": {},
   "outputs": [
    {
     "name": "stdout",
     "output_type": "stream",
     "text": [
      "NO\n"
     ]
    }
   ],
   "source": [
    "def check_strange_sum(n, x, array):\n",
    "    prefix_sums = [0] * (n + 1)\n",
    "    for i in range(1, n + 1):\n",
    "        prefix_sums[i] = prefix_sums[i - 1] + array[i - 1]\n",
    "\n",
    "    for i in range(n):\n",
    "        for j in range(i + 1, n + 1):\n",
    "            subarray_sum = prefix_sums[j] - prefix_sums[i]\n",
    "            if subarray_sum == x:\n",
    "                return \"YES\"\n",
    "    return \"NO\"\n",
    "\n",
    "# Чтение входных данных\n",
    "n, x = map(int, input().split())\n",
    "array = list(map(int, input().split()))\n",
    "\n",
    "# Проверка наличия подотрезка с указанной \"странной суммой\"\n",
    "result = check_strange_sum(n, x, array)\n",
    "print(result)\n"
   ]
  },
  {
   "cell_type": "code",
   "execution_count": null,
   "metadata": {},
   "outputs": [],
   "source": [
    "#test1\n",
    "first = '6 5'\n",
    "sec = '6 -4 7 12 9 4'"
   ]
  },
  {
   "cell_type": "markdown",
   "metadata": {},
   "source": [
    "        Задание на знание языка SQL.\n",
    "\n",
    "        Дана таблица с логом показов рекламы в ленте:\n",
    "        feed_events (\n",
    "        uuid: str,\n",
    "        timestamp: int,\n",
    "        event: str\n",
    "        ), где uuid — id пользователя, timestamp — Unix-время события, event — тип события. В поле event может быть одно из трех значений: 'open' — открытие ленты, 'show' — показ рекламы, 'click' — клик в рекламу.\n",
    "        Выведите 10 uuid'ов c наибольшим CTR (CTR (Click Through Rate) - отношение числа кликов в рекламу к числу показов рекламы). Для каждого uuid'a отберите только те события, которые были во времени после первого залогированного для него события 'open'.\n",
    "        Результат должен быть отсортирован в порядке убывания CTR (округлите его до двух знаков после запятой). Если у разных uuid'ов CTR совпадает, упорядочьте их лексикографически.\n",
    "        Запрос должен быть написан на диалекте SQLite3."
   ]
  },
  {
   "cell_type": "code",
   "execution_count": null,
   "metadata": {
    "vscode": {
     "languageId": "sql"
    }
   },
   "outputs": [],
   "source": [
    "-- основной запрос получения uuid и CTR, округленного до двух знаков после запятой\n",
    "select uuid,\n",
    "round(clicked_num/showed_num,2) as ctr \n",
    "from\n",
    "( -- вложенный запрос для определения числа показов рекламы для каждого пользователя с учетом того, что\n",
    "-- эти события стоят ПОСЛЕ открытия, т.е временная метка показа больше временной метки открытия\n",
    "\tselect uuid,\n",
    "\tcount(event) as showed_num\n",
    "\tfrom events \n",
    "\tleft outer join\n",
    "\t( -- вложенный запрос для определения временной метки открытия ленты для каждого пользователя\n",
    "\t\tselect distinct(uuid),\n",
    "\t\tmin(opened_time)\n",
    "\t\tover(partition by uuid) as min_opened_time\n",
    "\tfrom(\n",
    "\t\tselect uuid, \n",
    "\t\ttimestamp as opened_time,\n",
    "\t\tevent\n",
    "\t\tfrom events\n",
    "\t\twhere event = 'open'\n",
    "\t\torder by timestamp\n",
    "\t\t) as temp\n",
    "\t) as opened\n",
    "\n",
    "\tusing(uuid)\n",
    "\twhere event = 'show' and timestamp> min_opened_time\n",
    "\tgroup by uuid\n",
    ") as showed_q\n",
    "\n",
    "inner  join \n",
    "\n",
    "(-- вложенный запрос определения числа кликов рекламы для каждого пользователя с учетом аналогичного условия - после открытия ленты\n",
    "select uuid,\n",
    "count(event) as clicked_num\n",
    "from events \n",
    "left outer join\n",
    "( -- вложенный запрос для определения временной метки открытия ленты для каждого пользователя\n",
    "\t\tselect distinct(uuid),\n",
    "\t\tmin(opened_time)\n",
    "\t\tover(partition by uuid) as min_opened_time\n",
    "\tfrom(\n",
    "\t\tselect uuid, \n",
    "\t\ttimestamp as opened_time,\n",
    "\t\tevent\n",
    "\t\tfrom events\n",
    "\t\twhere event = 'open'\n",
    "\t\torder by timestamp\n",
    "\t\t) as temp\n",
    "\t) as opened\n",
    "\n",
    "using(uuid)\n",
    "where event = 'click' and timestamp> min_opened_time\n",
    "group by uuid\n",
    ") as clicked_q\n",
    "\n",
    "using(uuid)\n",
    "\n",
    "order by ctr desc,  uuid  -- упорядочить по убыванию CTR, а в случае совпадения значений - по лексикографич знач имен пользователей\n",
    "limit 10 -- вывести первые 10"
   ]
  },
  {
   "cell_type": "markdown",
   "metadata": {},
   "source": [
    "![image.png](attachment:image.png)"
   ]
  },
  {
   "cell_type": "code",
   "execution_count": null,
   "metadata": {},
   "outputs": [
    {
     "name": "stdout",
     "output_type": "stream",
     "text": [
      "Невозможно\n"
     ]
    }
   ],
   "source": [
    "def make_equal(f, s):\n",
    "    n = len(f)\n",
    "    steps = []\n",
    "    \n",
    "    # Открываем все символы f\n",
    "    steps.append((1, n))\n",
    "    \n",
    "    for i in range(n):\n",
    "        # Заменяем символы fi\n",
    "        steps.append((i+1, i+1))\n",
    "        \n",
    "        # Заменяем символы si\n",
    "        if i > 0:\n",
    "            steps.append((1, i))\n",
    "        \n",
    "    # Проверяем, равны ли строки\n",
    "    if f == s:\n",
    "        return steps\n",
    "        \n",
    "    return \"Невозможно\"\n",
    "\n",
    "\n",
    "\n",
    "# test2\n",
    "f = \"101\"\n",
    "s = \"010\"\n",
    "\n",
    "\n",
    "result = make_equal(f, s)\n",
    "\n",
    "if result != \"Невозможно\":\n",
    "    for step in result:\n",
    "        print(f\"Индексы: {step[0]}-{step[1]}\")\n",
    "else:\n",
    "    print(result)"
   ]
  },
  {
   "cell_type": "code",
   "execution_count": null,
   "metadata": {},
   "outputs": [
    {
     "name": "stdout",
     "output_type": "stream",
     "text": [
      "Индексы  3 3\n"
     ]
    }
   ],
   "source": [
    "f= '101'\n",
    "s='010'\n",
    "\n",
    "fl = [1,0,1]\n",
    "sl = [0,1,0]\n",
    "\n",
    "# индексы замены для f от 1 до 3\n",
    "# индексы замены для s от 1 до 3 кроме индексов для f \n",
    "\n",
    "from random import randint\n",
    "\n",
    "l = randint(1,3)\n",
    "if l==3: r= 3\n",
    "else: r= randint(l+1,3)\n",
    "\n",
    "print('Индексы ', l,r)\n",
    "\n",
    "for i in range()"
   ]
  },
  {
   "cell_type": "code",
   "execution_count": null,
   "metadata": {},
   "outputs": [],
   "source": [
    "counter = 0\n",
    "while fl!=sl:\n",
    "    for i in range(3):\n",
    "        for j in range(3):\n",
    "            if fl[i]!=0: fl[i]=0\n",
    "            if sl[j]!=0: sl[j]=0"
   ]
  },
  {
   "cell_type": "markdown",
   "metadata": {},
   "source": [
    "Вам даны две бинарные строки \n",
    "f и s одинаковой длины n\n",
    "\n",
    "Необходимо сделать все элементы этих сток равными 0. \n",
    "\n",
    "Со строкой вы можете делать следующую операцию (все три действия считаются как ОДНА операция):\n",
    "\n",
    "1) Выбрать два индекса l и r (1≤l≤r≤n)\n",
    "2) Заменить каждый символ в строке f на противоположный, если индекс символа из диапазона i∈[l,r]\n",
    "3) Заменить каждый символ в строке s на противоположный, если индекс символа из диапазона i∈[1,l)∪(r,n] \n",
    "\n",
    "Задача - посчитать количество операций, необходимых для замены всех символов на 0 в обеих строках"
   ]
  },
  {
   "cell_type": "code",
   "execution_count": null,
   "metadata": {},
   "outputs": [
    {
     "name": "stdout",
     "output_type": "stream",
     "text": [
      "Количество операций: 2\n",
      "Выбранные индексы:\n",
      "l = 0, r = 1\n",
      "l = 2, r = 3\n"
     ]
    }
   ],
   "source": [
    "def count_operations(f, s):\n",
    "    n = len(f)\n",
    "    operations = 0\n",
    "    indexes = []\n",
    "\n",
    "    while '1' in f or '1' in s:\n",
    "        if f.count('1') == 0:\n",
    "            # Если в строке f нет символа '1', обновляем все символы в строке s на '0'\n",
    "            s = ['0'] * n\n",
    "        else:\n",
    "            l = f.index('1')\n",
    "            r = f.index('1') + 1\n",
    "\n",
    "            # Запоминаем выбранные индексы l и r\n",
    "            indexes.append((l, r))\n",
    "\n",
    "            # Заменяем символы в строках f и s на '0' в текущем диапазоне\n",
    "            f[l:r] = ['0'] * (r - l)\n",
    "            s[1:l] = ['0'] * (l-r)\n",
    "            s[r:n] = ['0'] * (n-r)\n",
    "\n",
    "        operations += 1\n",
    "\n",
    "    return operations, indexes\n",
    "\n",
    "# Пример использования\n",
    "f = list(\"101\")\n",
    "s = list(\"010\")\n",
    "operations, indexes = count_operations(f, s)\n",
    "print(f\"Количество операций: {operations}\")\n",
    "print(\"Выбранные индексы:\")\n",
    "for l, r in indexes:\n",
    "    print(f\"l = {l}, r = {r}\")\n"
   ]
  },
  {
   "cell_type": "code",
   "execution_count": null,
   "metadata": {},
   "outputs": [
    {
     "name": "stdout",
     "output_type": "stream",
     "text": [
      "YES\n",
      "3\n",
      "2 3\n",
      "3 4\n"
     ]
    }
   ],
   "source": [
    "def count_operations(f, s):\n",
    "    n = len(f)\n",
    "    operations = 0\n",
    "    indexes = []\n",
    "\n",
    "    while '1' in f or '1' in s:\n",
    "        if f.count('1') == 0:\n",
    "            # Если в строке f нет символа '1', обновляем все символы в строке s на '0'\n",
    "            s = ['0'] * n\n",
    "        else:\n",
    "            l = f.index('1')\n",
    "            r = f.index('1') + 1\n",
    "\n",
    "            # Запоминаем выбранные индексы l и r\n",
    "            indexes.append((l, r))\n",
    "\n",
    "            # Заменяем символы в строках f и s на '0' в текущем диапазоне\n",
    "            f[l:r] = ['0'] * (r - l)\n",
    "            s[1:l] = ['0'] * (l-r)\n",
    "            s[r:n] = ['0'] * (n-r)\n",
    "\n",
    "        operations += 1\n",
    "\n",
    "    return operations, indexes\n",
    "\n",
    "# получаем входные данные\n",
    "num_tests = int(input())    # количество тестов\n",
    "\n",
    "for _ in range(num_tests):  # запускаем цикл проверки тестов\n",
    "\tn = int(input())\n",
    "\tf = list(input())\n",
    "\ts = list(input())\n",
    "\toperations, indexes = count_operations(f, s)\n",
    "if operations <= n+5:\n",
    "    print('YES')\n",
    "    print(operations)\n",
    "    for elem in indexes:\n",
    "        print(*elem)\n",
    "else: print('NO')\n"
   ]
  },
  {
   "cell_type": "markdown",
   "metadata": {},
   "source": [
    "        Перспективный выпускник университета Ян только что успешно справился с технической частью собеседований в Яндекс и уже находится на финишной прямой к тому, чтобы получить заветное приглашение на работу! Дело осталось за малым, нужно всего лишь обсудить детали приглашения и согласовать размер заработной платы. За день до собеседования Ян решил подготовиться к этой важной встрече и сходить на спиритический сеанс, чтобы воззвать к духам бывших сотрудников Яндекса и узнать у них, какую заработную плату им удалось согласовать.\n",
    "\n",
    "        Во время сеанса Ян смог получить ответ от \n",
    "        N\n",
    "        N бывших сотрудников. Каждый из них сказал ему число – согласованный размер заработной платы. Известно, что полученные значения представляют собой независимые случайные величины, которые получены из одного нормального распределения.\n",
    "\n",
    "        Так как Ян не любит рисковать, он решил узнать интервал для параметров этого распределения (\n",
    "        μ\n",
    "        μ и \n",
    "        σ\n",
    "        σ), чтобы впоследствии, на основе этой информации, он смог выбрать размер заработной платы. Очень важно, чтобы на оценку интервалов для этих параметров можно было положиться с вероятностью 0.95. Также Ян хотел бы, чтобы интервалы для \n",
    "        μ\n",
    "        μ и \n",
    "        σ\n",
    "        σ были симметричными по возможности (см. Примечания).\n",
    "\n",
    "        Помогите Яну найти левую и правую границы этих интервалов."
   ]
  },
  {
   "cell_type": "markdown",
   "metadata": {},
   "source": [
    "![image.png](attachment:image.png)"
   ]
  },
  {
   "cell_type": "markdown",
   "metadata": {},
   "source": [
    "\n",
    "Ввод\tВывод\n",
    "\n",
    "6\n",
    "\n",
    "40000 200663 142690 48560 40000 242628\n",
    "\n",
    "25275.446 212904.887\n",
    "\n",
    "0.000 186836.389"
   ]
  },
  {
   "cell_type": "markdown",
   "metadata": {},
   "source": [
    "8\n",
    "\n",
    "235032 40000 255446 115200 40000 40000 40000 53368\n",
    "\n",
    "25525.694 179235.806\n",
    "\n",
    "18385.917 165473.252\n"
   ]
  },
  {
   "cell_type": "markdown",
   "metadata": {},
   "source": [
    "9\n",
    "\n",
    "100000 100000 100000 100000 100000 100000 100000 100000 100000\n",
    "\n",
    "100000.000 100000.000\n",
    "\n",
    "0.000 0.000"
   ]
  },
  {
   "cell_type": "markdown",
   "metadata": {},
   "source": [
    "![image.png](attachment:image.png)"
   ]
  },
  {
   "cell_type": "code",
   "execution_count": null,
   "metadata": {},
   "outputs": [
    {
     "data": {
      "text/plain": [
       "-187629.441"
      ]
     },
     "metadata": {},
     "output_type": "display_data"
    }
   ],
   "source": [
    "25275.446- 212904.887"
   ]
  },
  {
   "cell_type": "code",
   "execution_count": null,
   "metadata": {},
   "outputs": [],
   "source": [
    "t= [12.706, 4.302, 3.182, 2.776, 2.507, 2.446, 2.3646, 2.306, 2.2622, 2.2281, 2.201, 2.1788, 2.1604, 2.1448, 2.1314, 2.1190, 2.1098, 2.1009, 2.0930]\n",
    "\n"
   ]
  },
  {
   "cell_type": "code",
   "execution_count": null,
   "metadata": {},
   "outputs": [
    {
     "data": {
      "text/plain": [
       "[40000, 200663, 142690, 48560, 40000, 242628]"
      ]
     },
     "metadata": {},
     "output_type": "display_data"
    }
   ],
   "source": [
    "n = 6\n",
    "values = list(map(int,'40000 200663 142690 48560 40000 242628'.split()))\n",
    "values"
   ]
  },
  {
   "cell_type": "code",
   "execution_count": null,
   "metadata": {},
   "outputs": [],
   "source": [
    "sred = sum(values)/n"
   ]
  },
  {
   "cell_type": "code",
   "execution_count": null,
   "metadata": {},
   "outputs": [],
   "source": [
    "from statistics import variance"
   ]
  },
  {
   "cell_type": "code",
   "execution_count": null,
   "metadata": {
    "vscode": {
     "languageId": "sql"
    }
   },
   "outputs": [],
   "source": []
  },
  {
   "cell_type": "code",
   "execution_count": 1,
   "metadata": {},
   "outputs": [
    {
     "data": {
      "text/plain": [
       "171.0"
      ]
     },
     "execution_count": 1,
     "metadata": {},
     "output_type": "execute_result"
    }
   ],
   "source": [
    "19*18/2\n"
   ]
  },
  {
   "cell_type": "code",
   "execution_count": null,
   "metadata": {},
   "outputs": [],
   "source": []
  }
 ],
 "metadata": {
  "kernelspec": {
   "display_name": "Python 3",
   "language": "python",
   "name": "python3"
  },
  "language_info": {
   "codemirror_mode": {
    "name": "ipython",
    "version": 3
   },
   "file_extension": ".py",
   "mimetype": "text/x-python",
   "name": "python",
   "nbconvert_exporter": "python",
   "pygments_lexer": "ipython3",
   "version": "3.10.7"
  },
  "orig_nbformat": 4
 },
 "nbformat": 4,
 "nbformat_minor": 2
}
