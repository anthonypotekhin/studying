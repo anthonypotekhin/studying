{
 "cells": [
  {
   "cell_type": "code",
   "execution_count": 6,
   "metadata": {},
   "outputs": [],
   "source": [
    "import pandas as pd\n",
    "import numpy as np\n",
    "\n",
    "%matplotlib inline\n",
    "import matplotlib.pyplot as plt\n",
    "import seaborn as sns"
   ]
  },
  {
   "attachments": {},
   "cell_type": "markdown",
   "metadata": {},
   "source": [
    "Считаываем данные о действиях, которые совершают студенты со стэпами\n",
    "\n",
    "они хранятся здесь если что: https://stepik.org/media/attachments/course/4852/event_data_train.zip\n",
    "\n",
    "1) step_id - id стэпа\n",
    "2) user_id - анонимизированный id юзера\n",
    "3) timestamp - время наступления события в формате unix date\n",
    "4) action - событие, возможные значения: \n",
    "- discovered - пользователь перешел на стэп\n",
    "- viewed - просмотр шага,\n",
    "- started_attempt - начало попытки решить шаг, ранее нужно было явно нажать на кнопку - начать решение, перед тем как приступить к решению практического шага\n",
    "- passed - удачное решение практического шага"
   ]
  },
  {
   "cell_type": "code",
   "execution_count": 10,
   "metadata": {},
   "outputs": [
    {
     "data": {
      "text/html": [
       "<div>\n",
       "<style scoped>\n",
       "    .dataframe tbody tr th:only-of-type {\n",
       "        vertical-align: middle;\n",
       "    }\n",
       "\n",
       "    .dataframe tbody tr th {\n",
       "        vertical-align: top;\n",
       "    }\n",
       "\n",
       "    .dataframe thead th {\n",
       "        text-align: right;\n",
       "    }\n",
       "</style>\n",
       "<table border=\"1\" class=\"dataframe\">\n",
       "  <thead>\n",
       "    <tr style=\"text-align: right;\">\n",
       "      <th></th>\n",
       "      <th>step_id</th>\n",
       "      <th>timestamp</th>\n",
       "      <th>action</th>\n",
       "      <th>user_id</th>\n",
       "    </tr>\n",
       "  </thead>\n",
       "  <tbody>\n",
       "    <tr>\n",
       "      <th>0</th>\n",
       "      <td>32815</td>\n",
       "      <td>1434340848</td>\n",
       "      <td>viewed</td>\n",
       "      <td>17632</td>\n",
       "    </tr>\n",
       "    <tr>\n",
       "      <th>1</th>\n",
       "      <td>32815</td>\n",
       "      <td>1434340848</td>\n",
       "      <td>passed</td>\n",
       "      <td>17632</td>\n",
       "    </tr>\n",
       "    <tr>\n",
       "      <th>2</th>\n",
       "      <td>32815</td>\n",
       "      <td>1434340848</td>\n",
       "      <td>discovered</td>\n",
       "      <td>17632</td>\n",
       "    </tr>\n",
       "    <tr>\n",
       "      <th>3</th>\n",
       "      <td>32811</td>\n",
       "      <td>1434340895</td>\n",
       "      <td>discovered</td>\n",
       "      <td>17632</td>\n",
       "    </tr>\n",
       "    <tr>\n",
       "      <th>4</th>\n",
       "      <td>32811</td>\n",
       "      <td>1434340895</td>\n",
       "      <td>viewed</td>\n",
       "      <td>17632</td>\n",
       "    </tr>\n",
       "    <tr>\n",
       "      <th>...</th>\n",
       "      <td>...</td>\n",
       "      <td>...</td>\n",
       "      <td>...</td>\n",
       "      <td>...</td>\n",
       "    </tr>\n",
       "    <tr>\n",
       "      <th>3480698</th>\n",
       "      <td>33375</td>\n",
       "      <td>1526772685</td>\n",
       "      <td>viewed</td>\n",
       "      <td>11677</td>\n",
       "    </tr>\n",
       "    <tr>\n",
       "      <th>3480699</th>\n",
       "      <td>32815</td>\n",
       "      <td>1526772750</td>\n",
       "      <td>viewed</td>\n",
       "      <td>5198</td>\n",
       "    </tr>\n",
       "    <tr>\n",
       "      <th>3480700</th>\n",
       "      <td>32815</td>\n",
       "      <td>1526772750</td>\n",
       "      <td>discovered</td>\n",
       "      <td>5198</td>\n",
       "    </tr>\n",
       "    <tr>\n",
       "      <th>3480701</th>\n",
       "      <td>32815</td>\n",
       "      <td>1526772750</td>\n",
       "      <td>passed</td>\n",
       "      <td>5198</td>\n",
       "    </tr>\n",
       "    <tr>\n",
       "      <th>3480702</th>\n",
       "      <td>33892</td>\n",
       "      <td>1526772811</td>\n",
       "      <td>viewed</td>\n",
       "      <td>18526</td>\n",
       "    </tr>\n",
       "  </tbody>\n",
       "</table>\n",
       "<p>3480703 rows × 4 columns</p>\n",
       "</div>"
      ],
      "text/plain": [
       "         step_id   timestamp      action  user_id\n",
       "0          32815  1434340848      viewed    17632\n",
       "1          32815  1434340848      passed    17632\n",
       "2          32815  1434340848  discovered    17632\n",
       "3          32811  1434340895  discovered    17632\n",
       "4          32811  1434340895      viewed    17632\n",
       "...          ...         ...         ...      ...\n",
       "3480698    33375  1526772685      viewed    11677\n",
       "3480699    32815  1526772750      viewed     5198\n",
       "3480700    32815  1526772750  discovered     5198\n",
       "3480701    32815  1526772750      passed     5198\n",
       "3480702    33892  1526772811      viewed    18526\n",
       "\n",
       "[3480703 rows x 4 columns]"
      ]
     },
     "execution_count": 10,
     "metadata": {},
     "output_type": "execute_result"
    }
   ],
   "source": [
    "events_data= pd.read_csv('/Users/tony_builder/tony. Личное/IT/Mashine Learning/event_data_train.csv')\n",
    "events_data"
   ]
  },
  {
   "attachments": {},
   "cell_type": "markdown",
   "metadata": {},
   "source": [
    "Считываем данные  о времени и статусах сабмитов к практическим заданиям\n",
    "\n",
    "они хранятся здесь если что: https://stepik.org/media/attachments/course/4852/submissions_data_train.zip\n",
    "\n",
    "1) step_id - id стэпа\n",
    "2) timestamp - время отправки решения в формате unix date\n",
    "3) submission_status - статус решения\n",
    "4) user_id - анонимизированный id юзера\n"
   ]
  },
  {
   "cell_type": "code",
   "execution_count": 66,
   "metadata": {},
   "outputs": [
    {
     "data": {
      "text/html": [
       "<div>\n",
       "<style scoped>\n",
       "    .dataframe tbody tr th:only-of-type {\n",
       "        vertical-align: middle;\n",
       "    }\n",
       "\n",
       "    .dataframe tbody tr th {\n",
       "        vertical-align: top;\n",
       "    }\n",
       "\n",
       "    .dataframe thead th {\n",
       "        text-align: right;\n",
       "    }\n",
       "</style>\n",
       "<table border=\"1\" class=\"dataframe\">\n",
       "  <thead>\n",
       "    <tr style=\"text-align: right;\">\n",
       "      <th></th>\n",
       "      <th>step_id</th>\n",
       "      <th>timestamp</th>\n",
       "      <th>submission_status</th>\n",
       "      <th>user_id</th>\n",
       "    </tr>\n",
       "  </thead>\n",
       "  <tbody>\n",
       "    <tr>\n",
       "      <th>0</th>\n",
       "      <td>31971</td>\n",
       "      <td>1434349275</td>\n",
       "      <td>correct</td>\n",
       "      <td>15853</td>\n",
       "    </tr>\n",
       "    <tr>\n",
       "      <th>1</th>\n",
       "      <td>31972</td>\n",
       "      <td>1434348300</td>\n",
       "      <td>correct</td>\n",
       "      <td>15853</td>\n",
       "    </tr>\n",
       "    <tr>\n",
       "      <th>2</th>\n",
       "      <td>31972</td>\n",
       "      <td>1478852149</td>\n",
       "      <td>wrong</td>\n",
       "      <td>15853</td>\n",
       "    </tr>\n",
       "    <tr>\n",
       "      <th>3</th>\n",
       "      <td>31972</td>\n",
       "      <td>1478852164</td>\n",
       "      <td>correct</td>\n",
       "      <td>15853</td>\n",
       "    </tr>\n",
       "    <tr>\n",
       "      <th>4</th>\n",
       "      <td>31976</td>\n",
       "      <td>1434348123</td>\n",
       "      <td>wrong</td>\n",
       "      <td>15853</td>\n",
       "    </tr>\n",
       "    <tr>\n",
       "      <th>...</th>\n",
       "      <td>...</td>\n",
       "      <td>...</td>\n",
       "      <td>...</td>\n",
       "      <td>...</td>\n",
       "    </tr>\n",
       "    <tr>\n",
       "      <th>509099</th>\n",
       "      <td>120745</td>\n",
       "      <td>1501946959</td>\n",
       "      <td>wrong</td>\n",
       "      <td>2615</td>\n",
       "    </tr>\n",
       "    <tr>\n",
       "      <th>509100</th>\n",
       "      <td>120745</td>\n",
       "      <td>1503059927</td>\n",
       "      <td>correct</td>\n",
       "      <td>13177</td>\n",
       "    </tr>\n",
       "    <tr>\n",
       "      <th>509101</th>\n",
       "      <td>120745</td>\n",
       "      <td>1506348153</td>\n",
       "      <td>wrong</td>\n",
       "      <td>15253</td>\n",
       "    </tr>\n",
       "    <tr>\n",
       "      <th>509102</th>\n",
       "      <td>120745</td>\n",
       "      <td>1523035316</td>\n",
       "      <td>wrong</td>\n",
       "      <td>1424</td>\n",
       "    </tr>\n",
       "    <tr>\n",
       "      <th>509103</th>\n",
       "      <td>120745</td>\n",
       "      <td>1523382825</td>\n",
       "      <td>wrong</td>\n",
       "      <td>9422</td>\n",
       "    </tr>\n",
       "  </tbody>\n",
       "</table>\n",
       "<p>509104 rows × 4 columns</p>\n",
       "</div>"
      ],
      "text/plain": [
       "        step_id   timestamp submission_status  user_id\n",
       "0         31971  1434349275           correct    15853\n",
       "1         31972  1434348300           correct    15853\n",
       "2         31972  1478852149             wrong    15853\n",
       "3         31972  1478852164           correct    15853\n",
       "4         31976  1434348123             wrong    15853\n",
       "...         ...         ...               ...      ...\n",
       "509099   120745  1501946959             wrong     2615\n",
       "509100   120745  1503059927           correct    13177\n",
       "509101   120745  1506348153             wrong    15253\n",
       "509102   120745  1523035316             wrong     1424\n",
       "509103   120745  1523382825             wrong     9422\n",
       "\n",
       "[509104 rows x 4 columns]"
      ]
     },
     "execution_count": 66,
     "metadata": {},
     "output_type": "execute_result"
    }
   ],
   "source": [
    "submissions_data = pd.read_csv('/Users/tony_builder/tony. Личное/IT/Mashine Learning/submissions_data_train.csv')\n",
    "\n",
    "submissions_data"
   ]
  },
  {
   "attachments": {},
   "cell_type": "markdown",
   "metadata": {},
   "source": [
    "### формат времени - это количество секунд, которые прошли с 1 января 1970 года\n",
    "\n",
    "полезные ссылки:\n",
    "1) работа со временем в pandas https://medium.datadriveninvestor.com/how-to-work-with-dates-in-pandas-like-a-pro-a84055a4819d\n",
    "2) примеры работы со временем в pandas: https://www.geeksforgeeks.org/python-working-with-date-and-time-using-pandas/\n",
    "3) работа с модулем datetime https://python-scripts.com/datetime-time-python"
   ]
  },
  {
   "attachments": {},
   "cell_type": "markdown",
   "metadata": {},
   "source": [
    "отвлечемся - немного поработаем со временем на примерах"
   ]
  },
  {
   "cell_type": "code",
   "execution_count": 33,
   "metadata": {},
   "outputs": [
    {
     "data": {
      "text/plain": [
       "datetime.datetime(2023, 2, 17, 12, 7, 53, 134298)"
      ]
     },
     "metadata": {},
     "output_type": "display_data"
    },
    {
     "name": "stdout",
     "output_type": "stream",
     "text": [
      "2023-02-17 12:07:53.134298\n",
      "2023 2 17 12 7 53\n",
      "2028\n"
     ]
    }
   ],
   "source": [
    "# узнать текущую дату - код выведет кортеж (год, месяц, день, час, минут, секунд...)\n",
    "import datetime                 # нужно импортировать модуль datetime\n",
    "now = datetime.datetime.now()\n",
    "display(now)\n",
    "print(now)\n",
    "\n",
    "# но объект не итерируемый! код ниже выдаст ошибку\n",
    "# print(tuple(now)[0]) \n",
    "\n",
    "# а значит нужно пользоваться встроенными методами:\n",
    "print(now.year, now.month, now.day, now.hour, now.minute, now.second)   # выведет значение типа int, с которым уже можно работать\n",
    "\n"
   ]
  },
  {
   "attachments": {},
   "cell_type": "markdown",
   "metadata": {},
   "source": [
    "pandas.Series.dt.year возвращает год даты и времени. \n",
    "\n",
    "pandas.Series.dt.month возвращает месяц даты и времени. \n",
    "\n",
    "pandas.Series.dt.day возвращает день даты и времени. \n",
    "\n",
    "pandas.Series.dt.hour возвращает час даты и времени. \n",
    "\n",
    "pandas.Series.dt.minute возвращает минуту даты и времени."
   ]
  },
  {
   "cell_type": "code",
   "execution_count": 40,
   "metadata": {},
   "outputs": [
    {
     "data": {
      "text/html": [
       "<div>\n",
       "<style scoped>\n",
       "    .dataframe tbody tr th:only-of-type {\n",
       "        vertical-align: middle;\n",
       "    }\n",
       "\n",
       "    .dataframe tbody tr th {\n",
       "        vertical-align: top;\n",
       "    }\n",
       "\n",
       "    .dataframe thead th {\n",
       "        text-align: right;\n",
       "    }\n",
       "</style>\n",
       "<table border=\"1\" class=\"dataframe\">\n",
       "  <thead>\n",
       "    <tr style=\"text-align: right;\">\n",
       "      <th></th>\n",
       "      <th>date</th>\n",
       "      <th>year</th>\n",
       "      <th>month</th>\n",
       "      <th>day</th>\n",
       "      <th>hour</th>\n",
       "      <th>minute</th>\n",
       "    </tr>\n",
       "  </thead>\n",
       "  <tbody>\n",
       "    <tr>\n",
       "      <th>0</th>\n",
       "      <td>2011-01-01 00:00:00</td>\n",
       "      <td>2011</td>\n",
       "      <td>1</td>\n",
       "      <td>1</td>\n",
       "      <td>0</td>\n",
       "      <td>0</td>\n",
       "    </tr>\n",
       "    <tr>\n",
       "      <th>1</th>\n",
       "      <td>2011-01-01 01:00:00</td>\n",
       "      <td>2011</td>\n",
       "      <td>1</td>\n",
       "      <td>1</td>\n",
       "      <td>1</td>\n",
       "      <td>0</td>\n",
       "    </tr>\n",
       "    <tr>\n",
       "      <th>2</th>\n",
       "      <td>2011-01-01 02:00:00</td>\n",
       "      <td>2011</td>\n",
       "      <td>1</td>\n",
       "      <td>1</td>\n",
       "      <td>2</td>\n",
       "      <td>0</td>\n",
       "    </tr>\n",
       "    <tr>\n",
       "      <th>3</th>\n",
       "      <td>2011-01-01 03:00:00</td>\n",
       "      <td>2011</td>\n",
       "      <td>1</td>\n",
       "      <td>1</td>\n",
       "      <td>3</td>\n",
       "      <td>0</td>\n",
       "    </tr>\n",
       "    <tr>\n",
       "      <th>4</th>\n",
       "      <td>2011-01-01 04:00:00</td>\n",
       "      <td>2011</td>\n",
       "      <td>1</td>\n",
       "      <td>1</td>\n",
       "      <td>4</td>\n",
       "      <td>0</td>\n",
       "    </tr>\n",
       "    <tr>\n",
       "      <th>...</th>\n",
       "      <td>...</td>\n",
       "      <td>...</td>\n",
       "      <td>...</td>\n",
       "      <td>...</td>\n",
       "      <td>...</td>\n",
       "      <td>...</td>\n",
       "    </tr>\n",
       "    <tr>\n",
       "      <th>67</th>\n",
       "      <td>2011-01-03 19:00:00</td>\n",
       "      <td>2011</td>\n",
       "      <td>1</td>\n",
       "      <td>3</td>\n",
       "      <td>19</td>\n",
       "      <td>0</td>\n",
       "    </tr>\n",
       "    <tr>\n",
       "      <th>68</th>\n",
       "      <td>2011-01-03 20:00:00</td>\n",
       "      <td>2011</td>\n",
       "      <td>1</td>\n",
       "      <td>3</td>\n",
       "      <td>20</td>\n",
       "      <td>0</td>\n",
       "    </tr>\n",
       "    <tr>\n",
       "      <th>69</th>\n",
       "      <td>2011-01-03 21:00:00</td>\n",
       "      <td>2011</td>\n",
       "      <td>1</td>\n",
       "      <td>3</td>\n",
       "      <td>21</td>\n",
       "      <td>0</td>\n",
       "    </tr>\n",
       "    <tr>\n",
       "      <th>70</th>\n",
       "      <td>2011-01-03 22:00:00</td>\n",
       "      <td>2011</td>\n",
       "      <td>1</td>\n",
       "      <td>3</td>\n",
       "      <td>22</td>\n",
       "      <td>0</td>\n",
       "    </tr>\n",
       "    <tr>\n",
       "      <th>71</th>\n",
       "      <td>2011-01-03 23:00:00</td>\n",
       "      <td>2011</td>\n",
       "      <td>1</td>\n",
       "      <td>3</td>\n",
       "      <td>23</td>\n",
       "      <td>0</td>\n",
       "    </tr>\n",
       "  </tbody>\n",
       "</table>\n",
       "<p>72 rows × 6 columns</p>\n",
       "</div>"
      ],
      "text/plain": [
       "                  date  year  month  day  hour  minute\n",
       "0  2011-01-01 00:00:00  2011      1    1     0       0\n",
       "1  2011-01-01 01:00:00  2011      1    1     1       0\n",
       "2  2011-01-01 02:00:00  2011      1    1     2       0\n",
       "3  2011-01-01 03:00:00  2011      1    1     3       0\n",
       "4  2011-01-01 04:00:00  2011      1    1     4       0\n",
       "..                 ...   ...    ...  ...   ...     ...\n",
       "67 2011-01-03 19:00:00  2011      1    3    19       0\n",
       "68 2011-01-03 20:00:00  2011      1    3    20       0\n",
       "69 2011-01-03 21:00:00  2011      1    3    21       0\n",
       "70 2011-01-03 22:00:00  2011      1    3    22       0\n",
       "71 2011-01-03 23:00:00  2011      1    3    23       0\n",
       "\n",
       "[72 rows x 6 columns]"
      ]
     },
     "execution_count": 40,
     "metadata": {},
     "output_type": "execute_result"
    }
   ],
   "source": [
    "# разбить дату на отдельные элементы можно так:\n",
    "\n",
    "rng = pd.DataFrame()\n",
    "rng['date'] = pd.date_range('1/1/2011', periods = 72, freq ='H')\n",
    " \n",
    "# Print the dates in dd-mm-yy format\n",
    "rng[:5]\n",
    "\n",
    "# заодно напомню себе, как можно легко экранировать исключить убрать целый блок кода из выполнения \n",
    "\"\"\"\n",
    "# Create features for year, month, day, hour, and minute\n",
    "rng['year'] = rng['date'].dt.year\n",
    "rng['month'] = rng['date'].dt.month\n",
    "rng['day'] = rng['date'].dt.day\n",
    "rng['hour'] = rng['date'].dt.hour\n",
    "rng['minute'] = rng['date'].dt.minute  \n",
    "\"\"\"\n",
    "rng['year'] = rng['date'].dt.year\n",
    "rng['month'] = rng['date'].dt.month\n",
    "rng['day'] = rng['date'].dt.day\n",
    "rng['hour'] = rng['date'].dt.hour\n",
    "rng['minute'] = rng['date'].dt.minute  \n",
    "\n",
    "rng"
   ]
  },
  {
   "attachments": {},
   "cell_type": "markdown",
   "metadata": {},
   "source": [
    "добавим колонку с переведенным временем в привычный формат\n",
    "\n",
    "формат (тип) этих данных - datetime64[ns]"
   ]
  },
  {
   "cell_type": "code",
   "execution_count": 14,
   "metadata": {},
   "outputs": [
    {
     "data": {
      "text/html": [
       "<div>\n",
       "<style scoped>\n",
       "    .dataframe tbody tr th:only-of-type {\n",
       "        vertical-align: middle;\n",
       "    }\n",
       "\n",
       "    .dataframe tbody tr th {\n",
       "        vertical-align: top;\n",
       "    }\n",
       "\n",
       "    .dataframe thead th {\n",
       "        text-align: right;\n",
       "    }\n",
       "</style>\n",
       "<table border=\"1\" class=\"dataframe\">\n",
       "  <thead>\n",
       "    <tr style=\"text-align: right;\">\n",
       "      <th></th>\n",
       "      <th>step_id</th>\n",
       "      <th>timestamp</th>\n",
       "      <th>action</th>\n",
       "      <th>user_id</th>\n",
       "      <th>date</th>\n",
       "    </tr>\n",
       "  </thead>\n",
       "  <tbody>\n",
       "    <tr>\n",
       "      <th>0</th>\n",
       "      <td>32815</td>\n",
       "      <td>1434340848</td>\n",
       "      <td>viewed</td>\n",
       "      <td>17632</td>\n",
       "      <td>2015-06-15 04:00:48</td>\n",
       "    </tr>\n",
       "    <tr>\n",
       "      <th>1</th>\n",
       "      <td>32815</td>\n",
       "      <td>1434340848</td>\n",
       "      <td>passed</td>\n",
       "      <td>17632</td>\n",
       "      <td>2015-06-15 04:00:48</td>\n",
       "    </tr>\n",
       "    <tr>\n",
       "      <th>2</th>\n",
       "      <td>32815</td>\n",
       "      <td>1434340848</td>\n",
       "      <td>discovered</td>\n",
       "      <td>17632</td>\n",
       "      <td>2015-06-15 04:00:48</td>\n",
       "    </tr>\n",
       "    <tr>\n",
       "      <th>3</th>\n",
       "      <td>32811</td>\n",
       "      <td>1434340895</td>\n",
       "      <td>discovered</td>\n",
       "      <td>17632</td>\n",
       "      <td>2015-06-15 04:01:35</td>\n",
       "    </tr>\n",
       "    <tr>\n",
       "      <th>4</th>\n",
       "      <td>32811</td>\n",
       "      <td>1434340895</td>\n",
       "      <td>viewed</td>\n",
       "      <td>17632</td>\n",
       "      <td>2015-06-15 04:01:35</td>\n",
       "    </tr>\n",
       "  </tbody>\n",
       "</table>\n",
       "</div>"
      ],
      "text/plain": [
       "   step_id   timestamp      action  user_id                date\n",
       "0    32815  1434340848      viewed    17632 2015-06-15 04:00:48\n",
       "1    32815  1434340848      passed    17632 2015-06-15 04:00:48\n",
       "2    32815  1434340848  discovered    17632 2015-06-15 04:00:48\n",
       "3    32811  1434340895  discovered    17632 2015-06-15 04:01:35\n",
       "4    32811  1434340895      viewed    17632 2015-06-15 04:01:35"
      ]
     },
     "execution_count": 14,
     "metadata": {},
     "output_type": "execute_result"
    }
   ],
   "source": [
    "events_data['date'] = pd.to_datetime(events_data.timestamp, unit = 's')\n",
    "events_data.head()\n",
    "\n"
   ]
  },
  {
   "cell_type": "code",
   "execution_count": 15,
   "metadata": {},
   "outputs": [
    {
     "data": {
      "text/plain": [
       "step_id               int64\n",
       "timestamp             int64\n",
       "action               object\n",
       "user_id               int64\n",
       "date         datetime64[ns]\n",
       "dtype: object"
      ]
     },
     "execution_count": 15,
     "metadata": {},
     "output_type": "execute_result"
    }
   ],
   "source": [
    "events_data.dtypes"
   ]
  },
  {
   "attachments": {},
   "cell_type": "markdown",
   "metadata": {},
   "source": [
    "можно работать с этими данными о времени\n",
    "\n",
    "например, найти минимальное (то есть по сути время первого обращения к курсу): "
   ]
  },
  {
   "cell_type": "code",
   "execution_count": 16,
   "metadata": {},
   "outputs": [
    {
     "data": {
      "text/plain": [
       "Timestamp('2015-06-15 04:00:48')"
      ]
     },
     "execution_count": 16,
     "metadata": {},
     "output_type": "execute_result"
    }
   ],
   "source": [
    "events_data.date.min()"
   ]
  },
  {
   "attachments": {},
   "cell_type": "markdown",
   "metadata": {},
   "source": [
    "посмотрим какие уникальные данные вообще встречаются в графе событий:"
   ]
  },
  {
   "cell_type": "code",
   "execution_count": 11,
   "metadata": {},
   "outputs": [
    {
     "data": {
      "text/plain": [
       "array(['viewed', 'passed', 'discovered', 'started_attempt'], dtype=object)"
      ]
     },
     "execution_count": 11,
     "metadata": {},
     "output_type": "execute_result"
    }
   ],
   "source": [
    "events_data.action.unique()"
   ]
  },
  {
   "attachments": {},
   "cell_type": "markdown",
   "metadata": {},
   "source": [
    "создадим новую колонку "
   ]
  },
  {
   "cell_type": "code",
   "execution_count": 41,
   "metadata": {},
   "outputs": [
    {
     "data": {
      "text/html": [
       "<div>\n",
       "<style scoped>\n",
       "    .dataframe tbody tr th:only-of-type {\n",
       "        vertical-align: middle;\n",
       "    }\n",
       "\n",
       "    .dataframe tbody tr th {\n",
       "        vertical-align: top;\n",
       "    }\n",
       "\n",
       "    .dataframe thead th {\n",
       "        text-align: right;\n",
       "    }\n",
       "</style>\n",
       "<table border=\"1\" class=\"dataframe\">\n",
       "  <thead>\n",
       "    <tr style=\"text-align: right;\">\n",
       "      <th></th>\n",
       "      <th>step_id</th>\n",
       "      <th>timestamp</th>\n",
       "      <th>action</th>\n",
       "      <th>user_id</th>\n",
       "      <th>date</th>\n",
       "      <th>day</th>\n",
       "    </tr>\n",
       "  </thead>\n",
       "  <tbody>\n",
       "    <tr>\n",
       "      <th>0</th>\n",
       "      <td>32815</td>\n",
       "      <td>1434340848</td>\n",
       "      <td>viewed</td>\n",
       "      <td>17632</td>\n",
       "      <td>2015-06-15 04:00:48</td>\n",
       "      <td>2015-06-15</td>\n",
       "    </tr>\n",
       "    <tr>\n",
       "      <th>1</th>\n",
       "      <td>32815</td>\n",
       "      <td>1434340848</td>\n",
       "      <td>passed</td>\n",
       "      <td>17632</td>\n",
       "      <td>2015-06-15 04:00:48</td>\n",
       "      <td>2015-06-15</td>\n",
       "    </tr>\n",
       "    <tr>\n",
       "      <th>2</th>\n",
       "      <td>32815</td>\n",
       "      <td>1434340848</td>\n",
       "      <td>discovered</td>\n",
       "      <td>17632</td>\n",
       "      <td>2015-06-15 04:00:48</td>\n",
       "      <td>2015-06-15</td>\n",
       "    </tr>\n",
       "    <tr>\n",
       "      <th>3</th>\n",
       "      <td>32811</td>\n",
       "      <td>1434340895</td>\n",
       "      <td>discovered</td>\n",
       "      <td>17632</td>\n",
       "      <td>2015-06-15 04:01:35</td>\n",
       "      <td>2015-06-15</td>\n",
       "    </tr>\n",
       "    <tr>\n",
       "      <th>4</th>\n",
       "      <td>32811</td>\n",
       "      <td>1434340895</td>\n",
       "      <td>viewed</td>\n",
       "      <td>17632</td>\n",
       "      <td>2015-06-15 04:01:35</td>\n",
       "      <td>2015-06-15</td>\n",
       "    </tr>\n",
       "  </tbody>\n",
       "</table>\n",
       "</div>"
      ],
      "text/plain": [
       "   step_id   timestamp      action  user_id                date         day\n",
       "0    32815  1434340848      viewed    17632 2015-06-15 04:00:48  2015-06-15\n",
       "1    32815  1434340848      passed    17632 2015-06-15 04:00:48  2015-06-15\n",
       "2    32815  1434340848  discovered    17632 2015-06-15 04:00:48  2015-06-15\n",
       "3    32811  1434340895  discovered    17632 2015-06-15 04:01:35  2015-06-15\n",
       "4    32811  1434340895      viewed    17632 2015-06-15 04:01:35  2015-06-15"
      ]
     },
     "execution_count": 41,
     "metadata": {},
     "output_type": "execute_result"
    }
   ],
   "source": [
    "events_data['day'] = events_data.date.dt.date\n",
    "events_data.head()"
   ]
  },
  {
   "attachments": {},
   "cell_type": "markdown",
   "metadata": {},
   "source": [
    "Теперь посмотрим сколько людей в какой день записалось\n",
    "\n",
    "для этого сгруппируем по колонке день, и возьмем число уникальных юзеров из колонки user_id"
   ]
  },
  {
   "cell_type": "code",
   "execution_count": 42,
   "metadata": {},
   "outputs": [
    {
     "data": {
      "text/plain": [
       "day\n",
       "2015-06-15    705\n",
       "2015-06-16    526\n",
       "2015-06-17    440\n",
       "2015-06-18    411\n",
       "2015-06-19    377\n",
       "Name: user_id, dtype: int64"
      ]
     },
     "execution_count": 42,
     "metadata": {},
     "output_type": "execute_result"
    }
   ],
   "source": [
    "events_data.groupby('day') \\\n",
    "    .user_id.nunique().head()"
   ]
  },
  {
   "attachments": {},
   "cell_type": "markdown",
   "metadata": {},
   "source": [
    "неудобно данные в таком виде оценить - строим график\n",
    "\n",
    "где х - это переменная столбца День (дата)\n",
    "\n",
    "у - это значение уникальных пользователей "
   ]
  },
  {
   "cell_type": "code",
   "execution_count": 43,
   "metadata": {},
   "outputs": [
    {
     "data": {
      "text/plain": [
       "<AxesSubplot: xlabel='day'>"
      ]
     },
     "execution_count": 43,
     "metadata": {},
     "output_type": "execute_result"
    },
    {
     "data": {
      "image/png": "[encoded data removed]",
      "text/plain": [
       "<Figure size 640x480 with 1 Axes>"
      ]
     },
     "metadata": {},
     "output_type": "display_data"
    }
   ],
   "source": [
    "events_data.groupby('day') \\\n",
    "    .user_id.nunique().plot()"
   ]
  },
  {
   "attachments": {},
   "cell_type": "markdown",
   "metadata": {},
   "source": [
    "настроим размер графика для удобства восприятия"
   ]
  },
  {
   "cell_type": "code",
   "execution_count": 44,
   "metadata": {},
   "outputs": [],
   "source": [
    "# Надстройка для изменения размера графика\n",
    "sns.set(rc={'figure.figsize': (9,6)}) "
   ]
  },
  {
   "cell_type": "code",
   "execution_count": 45,
   "metadata": {},
   "outputs": [
    {
     "data": {
      "text/plain": [
       "<AxesSubplot: xlabel='day'>"
      ]
     },
     "execution_count": 45,
     "metadata": {},
     "output_type": "execute_result"
    },
    {
     "data": {
      "image/png": "[encoded data removed]",
      "text/plain": [
       "<Figure size 900x600 with 1 Axes>"
      ]
     },
     "metadata": {},
     "output_type": "display_data"
    }
   ],
   "source": [
    "events_data.groupby('day') \\\n",
    "    .user_id.nunique().plot()"
   ]
  },
  {
   "attachments": {},
   "cell_type": "markdown",
   "metadata": {},
   "source": [
    "Теперь посмотрим кто успешно решал степы и в каком количестве\n",
    "\n",
    "для этого:\n",
    "- отфильтруем датасэт по показателю passed в графе action\n",
    "- сгруппируем датасэт по переменной пользователя (чтобы он посчитал всех уникальных пользователей)\n",
    "- аггрегируем данные по графе step_id (в данном случае посчитаем количество пройденных степов)\n",
    "- заменим имя колонки, в которую мы все это собираем (step_id -> passed_step)\n"
   ]
  },
  {
   "cell_type": "code",
   "execution_count": 52,
   "metadata": {},
   "outputs": [
    {
     "data": {
      "text/html": [
       "<div>\n",
       "<style scoped>\n",
       "    .dataframe tbody tr th:only-of-type {\n",
       "        vertical-align: middle;\n",
       "    }\n",
       "\n",
       "    .dataframe tbody tr th {\n",
       "        vertical-align: top;\n",
       "    }\n",
       "\n",
       "    .dataframe thead th {\n",
       "        text-align: right;\n",
       "    }\n",
       "</style>\n",
       "<table border=\"1\" class=\"dataframe\">\n",
       "  <thead>\n",
       "    <tr style=\"text-align: right;\">\n",
       "      <th></th>\n",
       "      <th>user_id</th>\n",
       "      <th>passed_step</th>\n",
       "    </tr>\n",
       "  </thead>\n",
       "  <tbody>\n",
       "    <tr>\n",
       "      <th>0</th>\n",
       "      <td>2</td>\n",
       "      <td>9</td>\n",
       "    </tr>\n",
       "    <tr>\n",
       "      <th>1</th>\n",
       "      <td>3</td>\n",
       "      <td>87</td>\n",
       "    </tr>\n",
       "    <tr>\n",
       "      <th>2</th>\n",
       "      <td>5</td>\n",
       "      <td>11</td>\n",
       "    </tr>\n",
       "    <tr>\n",
       "      <th>3</th>\n",
       "      <td>7</td>\n",
       "      <td>1</td>\n",
       "    </tr>\n",
       "    <tr>\n",
       "      <th>4</th>\n",
       "      <td>8</td>\n",
       "      <td>84</td>\n",
       "    </tr>\n",
       "    <tr>\n",
       "      <th>...</th>\n",
       "      <td>...</td>\n",
       "      <td>...</td>\n",
       "    </tr>\n",
       "    <tr>\n",
       "      <th>17257</th>\n",
       "      <td>26789</td>\n",
       "      <td>2</td>\n",
       "    </tr>\n",
       "    <tr>\n",
       "      <th>17258</th>\n",
       "      <td>26790</td>\n",
       "      <td>8</td>\n",
       "    </tr>\n",
       "    <tr>\n",
       "      <th>17259</th>\n",
       "      <td>26794</td>\n",
       "      <td>69</td>\n",
       "    </tr>\n",
       "    <tr>\n",
       "      <th>17260</th>\n",
       "      <td>26797</td>\n",
       "      <td>10</td>\n",
       "    </tr>\n",
       "    <tr>\n",
       "      <th>17261</th>\n",
       "      <td>26798</td>\n",
       "      <td>12</td>\n",
       "    </tr>\n",
       "  </tbody>\n",
       "</table>\n",
       "<p>17262 rows × 2 columns</p>\n",
       "</div>"
      ],
      "text/plain": [
       "       user_id  passed_step\n",
       "0            2            9\n",
       "1            3           87\n",
       "2            5           11\n",
       "3            7            1\n",
       "4            8           84\n",
       "...        ...          ...\n",
       "17257    26789            2\n",
       "17258    26790            8\n",
       "17259    26794           69\n",
       "17260    26797           10\n",
       "17261    26798           12\n",
       "\n",
       "[17262 rows x 2 columns]"
      ]
     },
     "execution_count": 52,
     "metadata": {},
     "output_type": "execute_result"
    }
   ],
   "source": [
    "\n",
    "events_passed = events_data[events_data.action == 'passed'] \\\n",
    "    .groupby('user_id', as_index = False) \\\n",
    "    .agg({'step_id': 'count'}) \\\n",
    "    .rename(columns = {'step_id': 'passed_step'})\n",
    "\n",
    "events_passed"
   ]
  },
  {
   "attachments": {},
   "cell_type": "markdown",
   "metadata": {},
   "source": [
    "теперь построим гистограмму распределения:\n",
    "- по оси х здесь будет число сданных степов юзерами\n",
    "- по оси у - частота появления такого события"
   ]
  },
  {
   "cell_type": "code",
   "execution_count": 54,
   "metadata": {},
   "outputs": [
    {
     "data": {
      "text/plain": [
       "<AxesSubplot: >"
      ]
     },
     "execution_count": 54,
     "metadata": {},
     "output_type": "execute_result"
    },
    {
     "data": {
      "image/png": "[encoded data removed]",
      "text/plain": [
       "<Figure size 900x600 with 1 Axes>"
      ]
     },
     "metadata": {},
     "output_type": "display_data"
    }
   ],
   "source": [
    "events_passed.passed_step.hist()"
   ]
  },
  {
   "cell_type": "code",
   "execution_count": 53,
   "metadata": {},
   "outputs": [
    {
     "data": {
      "text/html": [
       "<div>\n",
       "<style scoped>\n",
       "    .dataframe tbody tr th:only-of-type {\n",
       "        vertical-align: middle;\n",
       "    }\n",
       "\n",
       "    .dataframe tbody tr th {\n",
       "        vertical-align: top;\n",
       "    }\n",
       "\n",
       "    .dataframe thead th {\n",
       "        text-align: right;\n",
       "    }\n",
       "</style>\n",
       "<table border=\"1\" class=\"dataframe\">\n",
       "  <thead>\n",
       "    <tr style=\"text-align: right;\">\n",
       "      <th></th>\n",
       "      <th>user_id</th>\n",
       "      <th>passed_step</th>\n",
       "    </tr>\n",
       "  </thead>\n",
       "  <tbody>\n",
       "    <tr>\n",
       "      <th>8631</th>\n",
       "      <td>13365</td>\n",
       "      <td>198</td>\n",
       "    </tr>\n",
       "    <tr>\n",
       "      <th>16510</th>\n",
       "      <td>25632</td>\n",
       "      <td>198</td>\n",
       "    </tr>\n",
       "    <tr>\n",
       "      <th>2995</th>\n",
       "      <td>4546</td>\n",
       "      <td>198</td>\n",
       "    </tr>\n",
       "    <tr>\n",
       "      <th>13758</th>\n",
       "      <td>21395</td>\n",
       "      <td>198</td>\n",
       "    </tr>\n",
       "    <tr>\n",
       "      <th>10641</th>\n",
       "      <td>16489</td>\n",
       "      <td>198</td>\n",
       "    </tr>\n",
       "    <tr>\n",
       "      <th>...</th>\n",
       "      <td>...</td>\n",
       "      <td>...</td>\n",
       "    </tr>\n",
       "    <tr>\n",
       "      <th>12116</th>\n",
       "      <td>18806</td>\n",
       "      <td>1</td>\n",
       "    </tr>\n",
       "    <tr>\n",
       "      <th>12114</th>\n",
       "      <td>18802</td>\n",
       "      <td>1</td>\n",
       "    </tr>\n",
       "    <tr>\n",
       "      <th>12108</th>\n",
       "      <td>18795</td>\n",
       "      <td>1</td>\n",
       "    </tr>\n",
       "    <tr>\n",
       "      <th>4395</th>\n",
       "      <td>6733</td>\n",
       "      <td>1</td>\n",
       "    </tr>\n",
       "    <tr>\n",
       "      <th>12597</th>\n",
       "      <td>19549</td>\n",
       "      <td>1</td>\n",
       "    </tr>\n",
       "  </tbody>\n",
       "</table>\n",
       "<p>17262 rows × 2 columns</p>\n",
       "</div>"
      ],
      "text/plain": [
       "       user_id  passed_step\n",
       "8631     13365          198\n",
       "16510    25632          198\n",
       "2995      4546          198\n",
       "13758    21395          198\n",
       "10641    16489          198\n",
       "...        ...          ...\n",
       "12116    18806            1\n",
       "12114    18802            1\n",
       "12108    18795            1\n",
       "4395      6733            1\n",
       "12597    19549            1\n",
       "\n",
       "[17262 rows x 2 columns]"
      ]
     },
     "execution_count": 53,
     "metadata": {},
     "output_type": "execute_result"
    }
   ],
   "source": [
    "events_passed.sort_values(['passed_step'], ascending = False)"
   ]
  },
  {
   "attachments": {},
   "cell_type": "markdown",
   "metadata": {},
   "source": [
    "Что мы видим? \n",
    "\n",
    "что в нашем аггрегированном датасэте есть значение числа СДАННЫХ (решенных) степов равное 1\n",
    "\n",
    "это значит, что мы ПОТЕРЯЛИ всех пользователей, которые НЕ РЕШИЛИ НИ ОДНОГО степа.\n",
    "\n",
    "### вывод: решение неверное."
   ]
  },
  {
   "attachments": {},
   "cell_type": "markdown",
   "metadata": {},
   "source": [
    "Что делаем дальше?\n",
    "\n",
    "воспользуемся ***pivot таблицами***\n",
    "\n",
    "что она сделает: она перепишет таблицу таким образом, что :\n",
    "1) нужные нам данные из колонки юзеров станут индексами\n",
    "2) именами колонок станут названия колонки action (увидел, решил, впервые открыл, первая попытка решения)\n",
    "3) значениями в колонках станет посчет количества каждого из действий для каждого из юзеров\n",
    "4) а те позиции, которые окажутся пустыми - заполнит нулями"
   ]
  },
  {
   "cell_type": "code",
   "execution_count": 58,
   "metadata": {},
   "outputs": [
    {
     "data": {
      "text/html": [
       "<div>\n",
       "<style scoped>\n",
       "    .dataframe tbody tr th:only-of-type {\n",
       "        vertical-align: middle;\n",
       "    }\n",
       "\n",
       "    .dataframe tbody tr th {\n",
       "        vertical-align: top;\n",
       "    }\n",
       "\n",
       "    .dataframe thead th {\n",
       "        text-align: right;\n",
       "    }\n",
       "</style>\n",
       "<table border=\"1\" class=\"dataframe\">\n",
       "  <thead>\n",
       "    <tr style=\"text-align: right;\">\n",
       "      <th>action</th>\n",
       "      <th>user_id</th>\n",
       "      <th>discovered</th>\n",
       "      <th>passed</th>\n",
       "      <th>started_attempt</th>\n",
       "      <th>viewed</th>\n",
       "    </tr>\n",
       "  </thead>\n",
       "  <tbody>\n",
       "    <tr>\n",
       "      <th>0</th>\n",
       "      <td>1</td>\n",
       "      <td>1</td>\n",
       "      <td>0</td>\n",
       "      <td>0</td>\n",
       "      <td>1</td>\n",
       "    </tr>\n",
       "    <tr>\n",
       "      <th>1</th>\n",
       "      <td>2</td>\n",
       "      <td>9</td>\n",
       "      <td>9</td>\n",
       "      <td>2</td>\n",
       "      <td>10</td>\n",
       "    </tr>\n",
       "    <tr>\n",
       "      <th>2</th>\n",
       "      <td>3</td>\n",
       "      <td>91</td>\n",
       "      <td>87</td>\n",
       "      <td>30</td>\n",
       "      <td>192</td>\n",
       "    </tr>\n",
       "    <tr>\n",
       "      <th>3</th>\n",
       "      <td>5</td>\n",
       "      <td>11</td>\n",
       "      <td>11</td>\n",
       "      <td>4</td>\n",
       "      <td>12</td>\n",
       "    </tr>\n",
       "    <tr>\n",
       "      <th>4</th>\n",
       "      <td>7</td>\n",
       "      <td>1</td>\n",
       "      <td>1</td>\n",
       "      <td>0</td>\n",
       "      <td>1</td>\n",
       "    </tr>\n",
       "  </tbody>\n",
       "</table>\n",
       "</div>"
      ],
      "text/plain": [
       "action  user_id  discovered  passed  started_attempt  viewed\n",
       "0             1           1       0                0       1\n",
       "1             2           9       9                2      10\n",
       "2             3          91      87               30     192\n",
       "3             5          11      11                4      12\n",
       "4             7           1       1                0       1"
      ]
     },
     "execution_count": 58,
     "metadata": {},
     "output_type": "execute_result"
    }
   ],
   "source": [
    "# включаем 0 в выборку\n",
    "events_data.pivot_table(index='user_id', \n",
    "                        columns='action',                   # здесь назначили имена колонок\n",
    "                        values='step_id',                   # здесь сообщили откуда взять значения для заполнения\n",
    "                        aggfunc='count',                    # здесь сказали что делать с этими значениями\n",
    "                        fill_value=0)\\\n",
    "                            .reset_index().head()           # здесь \"сбросили\" индексы, заведя их в отдельную колонку \n",
    "\n",
    "\n",
    "# чем эта структура удобнее, чем та, что ниже? - доступ к именам колонок (а значит и к значениям) проще и удобнее"
   ]
  },
  {
   "cell_type": "code",
   "execution_count": 64,
   "metadata": {},
   "outputs": [
    {
     "data": {
      "text/html": [
       "<div>\n",
       "<style scoped>\n",
       "    .dataframe tbody tr th:only-of-type {\n",
       "        vertical-align: middle;\n",
       "    }\n",
       "\n",
       "    .dataframe tbody tr th {\n",
       "        vertical-align: top;\n",
       "    }\n",
       "\n",
       "    .dataframe thead th {\n",
       "        text-align: right;\n",
       "    }\n",
       "</style>\n",
       "<table border=\"1\" class=\"dataframe\">\n",
       "  <thead>\n",
       "    <tr style=\"text-align: right;\">\n",
       "      <th>action</th>\n",
       "      <th>discovered</th>\n",
       "      <th>passed</th>\n",
       "      <th>started_attempt</th>\n",
       "      <th>viewed</th>\n",
       "    </tr>\n",
       "    <tr>\n",
       "      <th>user_id</th>\n",
       "      <th></th>\n",
       "      <th></th>\n",
       "      <th></th>\n",
       "      <th></th>\n",
       "    </tr>\n",
       "  </thead>\n",
       "  <tbody>\n",
       "    <tr>\n",
       "      <th>1</th>\n",
       "      <td>1</td>\n",
       "      <td>0</td>\n",
       "      <td>0</td>\n",
       "      <td>1</td>\n",
       "    </tr>\n",
       "    <tr>\n",
       "      <th>2</th>\n",
       "      <td>9</td>\n",
       "      <td>9</td>\n",
       "      <td>2</td>\n",
       "      <td>10</td>\n",
       "    </tr>\n",
       "    <tr>\n",
       "      <th>3</th>\n",
       "      <td>91</td>\n",
       "      <td>87</td>\n",
       "      <td>30</td>\n",
       "      <td>192</td>\n",
       "    </tr>\n",
       "    <tr>\n",
       "      <th>5</th>\n",
       "      <td>11</td>\n",
       "      <td>11</td>\n",
       "      <td>4</td>\n",
       "      <td>12</td>\n",
       "    </tr>\n",
       "    <tr>\n",
       "      <th>7</th>\n",
       "      <td>1</td>\n",
       "      <td>1</td>\n",
       "      <td>0</td>\n",
       "      <td>1</td>\n",
       "    </tr>\n",
       "  </tbody>\n",
       "</table>\n",
       "</div>"
      ],
      "text/plain": [
       "action   discovered  passed  started_attempt  viewed\n",
       "user_id                                             \n",
       "1                 1       0                0       1\n",
       "2                 9       9                2      10\n",
       "3                91      87               30     192\n",
       "5                11      11                4      12\n",
       "7                 1       1                0       1"
      ]
     },
     "execution_count": 64,
     "metadata": {},
     "output_type": "execute_result"
    }
   ],
   "source": [
    "# для наглядности уберу сброс индексов, чтобы увидеть как таблица выглядит на выходе\n",
    "\n",
    "\n",
    "events_uniq = events_data.pivot_table(index='user_id', \n",
    "                        columns='action',                   # здесь назначили имена колонок\n",
    "                        values='step_id',                   # здесь сообщили откуда взять значения для заполнения\n",
    "                        aggfunc='count',                    # здесь сказали что делать с этими значениями\n",
    "                        fill_value=0)\\\n",
    "                             \n",
    "\n",
    "events_uniq.head()"
   ]
  },
  {
   "attachments": {},
   "cell_type": "markdown",
   "metadata": {},
   "source": [
    "Теперь можно посмотреть на распределение активности пользователей \n",
    "\n",
    "(например, по типу discovered - то есть тех, кто впервые открыл некоторый степ)"
   ]
  },
  {
   "cell_type": "code",
   "execution_count": 65,
   "metadata": {},
   "outputs": [
    {
     "data": {
      "text/plain": [
       "<AxesSubplot: >"
      ]
     },
     "execution_count": 65,
     "metadata": {},
     "output_type": "execute_result"
    },
    {
     "data": {
      "image/png": "[encoded data removed]",
      "text/plain": [
       "<Figure size 900x600 with 1 Axes>"
      ]
     },
     "metadata": {},
     "output_type": "display_data"
    }
   ],
   "source": [
    "events_uniq.discovered.hist()"
   ]
  },
  {
   "attachments": {},
   "cell_type": "markdown",
   "metadata": {},
   "source": [
    "### Теперь перейдем к обработке данных из таблицы, хранящей данные о результате решений степов"
   ]
  },
  {
   "attachments": {},
   "cell_type": "markdown",
   "metadata": {},
   "source": [
    "добавим столбцы по удобоваримой дате"
   ]
  },
  {
   "cell_type": "code",
   "execution_count": 67,
   "metadata": {},
   "outputs": [
    {
     "data": {
      "text/html": [
       "<div>\n",
       "<style scoped>\n",
       "    .dataframe tbody tr th:only-of-type {\n",
       "        vertical-align: middle;\n",
       "    }\n",
       "\n",
       "    .dataframe tbody tr th {\n",
       "        vertical-align: top;\n",
       "    }\n",
       "\n",
       "    .dataframe thead th {\n",
       "        text-align: right;\n",
       "    }\n",
       "</style>\n",
       "<table border=\"1\" class=\"dataframe\">\n",
       "  <thead>\n",
       "    <tr style=\"text-align: right;\">\n",
       "      <th></th>\n",
       "      <th>step_id</th>\n",
       "      <th>timestamp</th>\n",
       "      <th>submission_status</th>\n",
       "      <th>user_id</th>\n",
       "      <th>date</th>\n",
       "      <th>day</th>\n",
       "    </tr>\n",
       "  </thead>\n",
       "  <tbody>\n",
       "    <tr>\n",
       "      <th>0</th>\n",
       "      <td>31971</td>\n",
       "      <td>1434349275</td>\n",
       "      <td>correct</td>\n",
       "      <td>15853</td>\n",
       "      <td>2015-06-15 06:21:15</td>\n",
       "      <td>2015-06-15</td>\n",
       "    </tr>\n",
       "    <tr>\n",
       "      <th>1</th>\n",
       "      <td>31972</td>\n",
       "      <td>1434348300</td>\n",
       "      <td>correct</td>\n",
       "      <td>15853</td>\n",
       "      <td>2015-06-15 06:05:00</td>\n",
       "      <td>2015-06-15</td>\n",
       "    </tr>\n",
       "    <tr>\n",
       "      <th>2</th>\n",
       "      <td>31972</td>\n",
       "      <td>1478852149</td>\n",
       "      <td>wrong</td>\n",
       "      <td>15853</td>\n",
       "      <td>2016-11-11 08:15:49</td>\n",
       "      <td>2016-11-11</td>\n",
       "    </tr>\n",
       "    <tr>\n",
       "      <th>3</th>\n",
       "      <td>31972</td>\n",
       "      <td>1478852164</td>\n",
       "      <td>correct</td>\n",
       "      <td>15853</td>\n",
       "      <td>2016-11-11 08:16:04</td>\n",
       "      <td>2016-11-11</td>\n",
       "    </tr>\n",
       "    <tr>\n",
       "      <th>4</th>\n",
       "      <td>31976</td>\n",
       "      <td>1434348123</td>\n",
       "      <td>wrong</td>\n",
       "      <td>15853</td>\n",
       "      <td>2015-06-15 06:02:03</td>\n",
       "      <td>2015-06-15</td>\n",
       "    </tr>\n",
       "  </tbody>\n",
       "</table>\n",
       "</div>"
      ],
      "text/plain": [
       "   step_id   timestamp submission_status  user_id                date  \\\n",
       "0    31971  1434349275           correct    15853 2015-06-15 06:21:15   \n",
       "1    31972  1434348300           correct    15853 2015-06-15 06:05:00   \n",
       "2    31972  1478852149             wrong    15853 2016-11-11 08:15:49   \n",
       "3    31972  1478852164           correct    15853 2016-11-11 08:16:04   \n",
       "4    31976  1434348123             wrong    15853 2015-06-15 06:02:03   \n",
       "\n",
       "          day  \n",
       "0  2015-06-15  \n",
       "1  2015-06-15  \n",
       "2  2016-11-11  \n",
       "3  2016-11-11  \n",
       "4  2015-06-15  "
      ]
     },
     "execution_count": 67,
     "metadata": {},
     "output_type": "execute_result"
    }
   ],
   "source": [
    "submissions_data['date'] = pd.to_datetime(submissions_data.timestamp, unit = 's')\n",
    "submissions_data['day'] = submissions_data.date.dt.date\n",
    "submissions_data.head()"
   ]
  },
  {
   "attachments": {},
   "cell_type": "markdown",
   "metadata": {},
   "source": [
    "посмотрим сколько за всю историю курса было правильных и неправильных решений каждого степа\n",
    "\n",
    "разумеется, для каждого пользователя, который решал степы"
   ]
  },
  {
   "cell_type": "code",
   "execution_count": 68,
   "metadata": {},
   "outputs": [
    {
     "data": {
      "text/html": [
       "<div>\n",
       "<style scoped>\n",
       "    .dataframe tbody tr th:only-of-type {\n",
       "        vertical-align: middle;\n",
       "    }\n",
       "\n",
       "    .dataframe tbody tr th {\n",
       "        vertical-align: top;\n",
       "    }\n",
       "\n",
       "    .dataframe thead th {\n",
       "        text-align: right;\n",
       "    }\n",
       "</style>\n",
       "<table border=\"1\" class=\"dataframe\">\n",
       "  <thead>\n",
       "    <tr style=\"text-align: right;\">\n",
       "      <th>submission_status</th>\n",
       "      <th>user_id</th>\n",
       "      <th>correct</th>\n",
       "      <th>wrong</th>\n",
       "    </tr>\n",
       "  </thead>\n",
       "  <tbody>\n",
       "    <tr>\n",
       "      <th>0</th>\n",
       "      <td>2</td>\n",
       "      <td>2</td>\n",
       "      <td>0</td>\n",
       "    </tr>\n",
       "    <tr>\n",
       "      <th>1</th>\n",
       "      <td>3</td>\n",
       "      <td>29</td>\n",
       "      <td>23</td>\n",
       "    </tr>\n",
       "    <tr>\n",
       "      <th>2</th>\n",
       "      <td>5</td>\n",
       "      <td>2</td>\n",
       "      <td>2</td>\n",
       "    </tr>\n",
       "    <tr>\n",
       "      <th>3</th>\n",
       "      <td>8</td>\n",
       "      <td>9</td>\n",
       "      <td>21</td>\n",
       "    </tr>\n",
       "    <tr>\n",
       "      <th>4</th>\n",
       "      <td>14</td>\n",
       "      <td>0</td>\n",
       "      <td>1</td>\n",
       "    </tr>\n",
       "  </tbody>\n",
       "</table>\n",
       "</div>"
      ],
      "text/plain": [
       "submission_status  user_id  correct  wrong\n",
       "0                        2        2      0\n",
       "1                        3       29     23\n",
       "2                        5        2      2\n",
       "3                        8        9     21\n",
       "4                       14        0      1"
      ]
     },
     "execution_count": 68,
     "metadata": {},
     "output_type": "execute_result"
    }
   ],
   "source": [
    "users_scores = submissions_data.pivot_table(index='user_id', \n",
    "                        columns='submission_status', \n",
    "                        values='step_id', \n",
    "                        aggfunc='count', \n",
    "                        fill_value=0).reset_index()\n",
    "users_scores.head()"
   ]
  },
  {
   "cell_type": "code",
   "execution_count": 69,
   "metadata": {},
   "outputs": [
    {
     "data": {
      "text/html": [
       "<div>\n",
       "<style scoped>\n",
       "    .dataframe tbody tr th:only-of-type {\n",
       "        vertical-align: middle;\n",
       "    }\n",
       "\n",
       "    .dataframe tbody tr th {\n",
       "        vertical-align: top;\n",
       "    }\n",
       "\n",
       "    .dataframe thead th {\n",
       "        text-align: right;\n",
       "    }\n",
       "</style>\n",
       "<table border=\"1\" class=\"dataframe\">\n",
       "  <thead>\n",
       "    <tr style=\"text-align: right;\">\n",
       "      <th>submission_status</th>\n",
       "      <th>correct</th>\n",
       "      <th>wrong</th>\n",
       "    </tr>\n",
       "    <tr>\n",
       "      <th>user_id</th>\n",
       "      <th></th>\n",
       "      <th></th>\n",
       "    </tr>\n",
       "  </thead>\n",
       "  <tbody>\n",
       "    <tr>\n",
       "      <th>2</th>\n",
       "      <td>2</td>\n",
       "      <td>0</td>\n",
       "    </tr>\n",
       "    <tr>\n",
       "      <th>3</th>\n",
       "      <td>29</td>\n",
       "      <td>23</td>\n",
       "    </tr>\n",
       "    <tr>\n",
       "      <th>5</th>\n",
       "      <td>2</td>\n",
       "      <td>2</td>\n",
       "    </tr>\n",
       "    <tr>\n",
       "      <th>8</th>\n",
       "      <td>9</td>\n",
       "      <td>21</td>\n",
       "    </tr>\n",
       "    <tr>\n",
       "      <th>14</th>\n",
       "      <td>0</td>\n",
       "      <td>1</td>\n",
       "    </tr>\n",
       "  </tbody>\n",
       "</table>\n",
       "</div>"
      ],
      "text/plain": [
       "submission_status  correct  wrong\n",
       "user_id                          \n",
       "2                        2      0\n",
       "3                       29     23\n",
       "5                        2      2\n",
       "8                        9     21\n",
       "14                       0      1"
      ]
     },
     "execution_count": 69,
     "metadata": {},
     "output_type": "execute_result"
    }
   ],
   "source": [
    "# вспомогательный код только для понимания, как по сути выглядит таблица (верхняя - для удобства работы)\n",
    "\n",
    "submissions_data.pivot_table(index='user_id', \n",
    "                        columns='submission_status', \n",
    "                        values='step_id', \n",
    "                        aggfunc='count', \n",
    "                        fill_value=0).head()"
   ]
  },
  {
   "attachments": {},
   "cell_type": "markdown",
   "metadata": {},
   "source": [
    "### Теперь определим число бросивших курс посредством анализа промежутка времени \n",
    "Зачем? зная его  можно утверждать, что студент бросил курс"
   ]
  },
  {
   "attachments": {},
   "cell_type": "markdown",
   "metadata": {},
   "source": [
    "возьмем только интересующие нас данные: юзер, день, временная метка"
   ]
  },
  {
   "cell_type": "code",
   "execution_count": 70,
   "metadata": {},
   "outputs": [
    {
     "data": {
      "text/html": [
       "<div>\n",
       "<style scoped>\n",
       "    .dataframe tbody tr th:only-of-type {\n",
       "        vertical-align: middle;\n",
       "    }\n",
       "\n",
       "    .dataframe tbody tr th {\n",
       "        vertical-align: top;\n",
       "    }\n",
       "\n",
       "    .dataframe thead th {\n",
       "        text-align: right;\n",
       "    }\n",
       "</style>\n",
       "<table border=\"1\" class=\"dataframe\">\n",
       "  <thead>\n",
       "    <tr style=\"text-align: right;\">\n",
       "      <th></th>\n",
       "      <th>user_id</th>\n",
       "      <th>day</th>\n",
       "      <th>timestamp</th>\n",
       "    </tr>\n",
       "  </thead>\n",
       "  <tbody>\n",
       "    <tr>\n",
       "      <th>0</th>\n",
       "      <td>17632</td>\n",
       "      <td>2015-06-15</td>\n",
       "      <td>1434340848</td>\n",
       "    </tr>\n",
       "    <tr>\n",
       "      <th>1</th>\n",
       "      <td>17632</td>\n",
       "      <td>2015-06-15</td>\n",
       "      <td>1434340848</td>\n",
       "    </tr>\n",
       "    <tr>\n",
       "      <th>2</th>\n",
       "      <td>17632</td>\n",
       "      <td>2015-06-15</td>\n",
       "      <td>1434340848</td>\n",
       "    </tr>\n",
       "    <tr>\n",
       "      <th>3</th>\n",
       "      <td>17632</td>\n",
       "      <td>2015-06-15</td>\n",
       "      <td>1434340895</td>\n",
       "    </tr>\n",
       "    <tr>\n",
       "      <th>4</th>\n",
       "      <td>17632</td>\n",
       "      <td>2015-06-15</td>\n",
       "      <td>1434340895</td>\n",
       "    </tr>\n",
       "  </tbody>\n",
       "</table>\n",
       "</div>"
      ],
      "text/plain": [
       "   user_id         day   timestamp\n",
       "0    17632  2015-06-15  1434340848\n",
       "1    17632  2015-06-15  1434340848\n",
       "2    17632  2015-06-15  1434340848\n",
       "3    17632  2015-06-15  1434340895\n",
       "4    17632  2015-06-15  1434340895"
      ]
     },
     "execution_count": 70,
     "metadata": {},
     "output_type": "execute_result"
    }
   ],
   "source": [
    "events_data[['user_id', 'day', 'timestamp']].head()"
   ]
  },
  {
   "attachments": {},
   "cell_type": "markdown",
   "metadata": {},
   "source": [
    "удалим дубликаты с помощью метода drop_duplicates(), который уберет все строки, содержащие дубликаты"
   ]
  },
  {
   "cell_type": "code",
   "execution_count": 71,
   "metadata": {},
   "outputs": [
    {
     "data": {
      "text/html": [
       "<div>\n",
       "<style scoped>\n",
       "    .dataframe tbody tr th:only-of-type {\n",
       "        vertical-align: middle;\n",
       "    }\n",
       "\n",
       "    .dataframe tbody tr th {\n",
       "        vertical-align: top;\n",
       "    }\n",
       "\n",
       "    .dataframe thead th {\n",
       "        text-align: right;\n",
       "    }\n",
       "</style>\n",
       "<table border=\"1\" class=\"dataframe\">\n",
       "  <thead>\n",
       "    <tr style=\"text-align: right;\">\n",
       "      <th></th>\n",
       "      <th>user_id</th>\n",
       "      <th>day</th>\n",
       "      <th>timestamp</th>\n",
       "    </tr>\n",
       "  </thead>\n",
       "  <tbody>\n",
       "    <tr>\n",
       "      <th>0</th>\n",
       "      <td>17632</td>\n",
       "      <td>2015-06-15</td>\n",
       "      <td>1434340848</td>\n",
       "    </tr>\n",
       "    <tr>\n",
       "      <th>3</th>\n",
       "      <td>17632</td>\n",
       "      <td>2015-06-15</td>\n",
       "      <td>1434340895</td>\n",
       "    </tr>\n",
       "  </tbody>\n",
       "</table>\n",
       "</div>"
      ],
      "text/plain": [
       "   user_id         day   timestamp\n",
       "0    17632  2015-06-15  1434340848\n",
       "3    17632  2015-06-15  1434340895"
      ]
     },
     "execution_count": 71,
     "metadata": {},
     "output_type": "execute_result"
    }
   ],
   "source": [
    "events_data[['user_id', 'day', 'timestamp']].head().drop_duplicates()"
   ]
  },
  {
   "attachments": {},
   "cell_type": "markdown",
   "metadata": {},
   "source": [
    "уберем дубликаты только для колонок юзер и день\n",
    "\n",
    "останутся только строчки для каждого юзера со временем когда он был онлайн"
   ]
  },
  {
   "cell_type": "code",
   "execution_count": 72,
   "metadata": {},
   "outputs": [
    {
     "data": {
      "text/html": [
       "<div>\n",
       "<style scoped>\n",
       "    .dataframe tbody tr th:only-of-type {\n",
       "        vertical-align: middle;\n",
       "    }\n",
       "\n",
       "    .dataframe tbody tr th {\n",
       "        vertical-align: top;\n",
       "    }\n",
       "\n",
       "    .dataframe thead th {\n",
       "        text-align: right;\n",
       "    }\n",
       "</style>\n",
       "<table border=\"1\" class=\"dataframe\">\n",
       "  <thead>\n",
       "    <tr style=\"text-align: right;\">\n",
       "      <th></th>\n",
       "      <th>user_id</th>\n",
       "      <th>day</th>\n",
       "      <th>timestamp</th>\n",
       "    </tr>\n",
       "  </thead>\n",
       "  <tbody>\n",
       "    <tr>\n",
       "      <th>0</th>\n",
       "      <td>17632</td>\n",
       "      <td>2015-06-15</td>\n",
       "      <td>1434340848</td>\n",
       "    </tr>\n",
       "    <tr>\n",
       "      <th>36</th>\n",
       "      <td>12494</td>\n",
       "      <td>2015-06-15</td>\n",
       "      <td>1434341931</td>\n",
       "    </tr>\n",
       "    <tr>\n",
       "      <th>59</th>\n",
       "      <td>442</td>\n",
       "      <td>2015-06-15</td>\n",
       "      <td>1434342029</td>\n",
       "    </tr>\n",
       "    <tr>\n",
       "      <th>62</th>\n",
       "      <td>22254</td>\n",
       "      <td>2015-06-15</td>\n",
       "      <td>1434342042</td>\n",
       "    </tr>\n",
       "    <tr>\n",
       "      <th>94</th>\n",
       "      <td>6646</td>\n",
       "      <td>2015-06-15</td>\n",
       "      <td>1434342230</td>\n",
       "    </tr>\n",
       "  </tbody>\n",
       "</table>\n",
       "</div>"
      ],
      "text/plain": [
       "    user_id         day   timestamp\n",
       "0     17632  2015-06-15  1434340848\n",
       "36    12494  2015-06-15  1434341931\n",
       "59      442  2015-06-15  1434342029\n",
       "62    22254  2015-06-15  1434342042\n",
       "94     6646  2015-06-15  1434342230"
      ]
     },
     "execution_count": 72,
     "metadata": {},
     "output_type": "execute_result"
    }
   ],
   "source": [
    "# Удаляем дубликаты только по айди и дням\n",
    "events_data[['user_id', 'day', 'timestamp']].drop_duplicates(subset=['user_id', 'day']).head()"
   ]
  },
  {
   "attachments": {},
   "cell_type": "markdown",
   "metadata": {},
   "source": [
    "для наглядности смотрим как выглядит такой датасэт отсортированный по пользователям: видим, что для каждого пользователя есть множество значений дней и временных меток, когда он был онлайн"
   ]
  },
  {
   "cell_type": "code",
   "execution_count": 74,
   "metadata": {},
   "outputs": [
    {
     "data": {
      "text/html": [
       "<div>\n",
       "<style scoped>\n",
       "    .dataframe tbody tr th:only-of-type {\n",
       "        vertical-align: middle;\n",
       "    }\n",
       "\n",
       "    .dataframe tbody tr th {\n",
       "        vertical-align: top;\n",
       "    }\n",
       "\n",
       "    .dataframe thead th {\n",
       "        text-align: right;\n",
       "    }\n",
       "</style>\n",
       "<table border=\"1\" class=\"dataframe\">\n",
       "  <thead>\n",
       "    <tr style=\"text-align: right;\">\n",
       "      <th></th>\n",
       "      <th>user_id</th>\n",
       "      <th>day</th>\n",
       "      <th>timestamp</th>\n",
       "    </tr>\n",
       "  </thead>\n",
       "  <tbody>\n",
       "    <tr>\n",
       "      <th>1347416</th>\n",
       "      <td>1</td>\n",
       "      <td>2016-09-02</td>\n",
       "      <td>1472827464</td>\n",
       "    </tr>\n",
       "    <tr>\n",
       "      <th>2874398</th>\n",
       "      <td>2</td>\n",
       "      <td>2017-12-27</td>\n",
       "      <td>1514383364</td>\n",
       "    </tr>\n",
       "    <tr>\n",
       "      <th>3073427</th>\n",
       "      <td>2</td>\n",
       "      <td>2018-02-21</td>\n",
       "      <td>1519226966</td>\n",
       "    </tr>\n",
       "    <tr>\n",
       "      <th>740499</th>\n",
       "      <td>3</td>\n",
       "      <td>2015-10-11</td>\n",
       "      <td>1444552901</td>\n",
       "    </tr>\n",
       "    <tr>\n",
       "      <th>706958</th>\n",
       "      <td>3</td>\n",
       "      <td>2015-09-06</td>\n",
       "      <td>1441533919</td>\n",
       "    </tr>\n",
       "  </tbody>\n",
       "</table>\n",
       "</div>"
      ],
      "text/plain": [
       "         user_id         day   timestamp\n",
       "1347416        1  2016-09-02  1472827464\n",
       "2874398        2  2017-12-27  1514383364\n",
       "3073427        2  2018-02-21  1519226966\n",
       "740499         3  2015-10-11  1444552901\n",
       "706958         3  2015-09-06  1441533919"
      ]
     },
     "execution_count": 74,
     "metadata": {},
     "output_type": "execute_result"
    }
   ],
   "source": [
    "events_data[['user_id', 'day', 'timestamp']].drop_duplicates(subset=['user_id', 'day']).sort_values(['user_id']).head()"
   ]
  },
  {
   "attachments": {},
   "cell_type": "markdown",
   "metadata": {},
   "source": [
    "Теперь для каждого пользователя мы находим уникальные временные метки, когда он был онлайн:\n",
    "- для этого отбираем три колонки датасэта (уже делали выше)\n",
    "- убираем дубликаты (делали выше)\n",
    "- группируем по пользователям (чтобы в датасэте в колонке Пользователь не повторялся несколько раз)\n",
    "- и для колонки временной метки применяем метод аппликации (apply) для сбора всех временных меток в некий список"
   ]
  },
  {
   "cell_type": "code",
   "execution_count": 73,
   "metadata": {},
   "outputs": [
    {
     "data": {
      "text/plain": [
       "user_id\n",
       "1                                         [1472827464]\n",
       "2                             [1514383364, 1519226966]\n",
       "3    [1434358476, 1441257725, 1441440209, 144153391...\n",
       "5                             [1466156809, 1499859621]\n",
       "7                                         [1521634660]\n",
       "Name: timestamp, dtype: object"
      ]
     },
     "execution_count": 73,
     "metadata": {},
     "output_type": "execute_result"
    }
   ],
   "source": [
    "# Для каждого пользователя находим уникальные таймстемпы\n",
    "events_data[['user_id', 'day', 'timestamp']].drop_duplicates(subset=['user_id', 'day']) \\\n",
    "    .groupby('user_id')['timestamp'].apply(list).head()"
   ]
  },
  {
   "attachments": {},
   "cell_type": "markdown",
   "metadata": {},
   "source": [
    "вспогательный код для понимания - работа функции diff()\n",
    "\n",
    "для списка работает следующим образом - возвращает массив разниц между соседними элементами списка"
   ]
  },
  {
   "cell_type": "code",
   "execution_count": 78,
   "metadata": {},
   "outputs": [
    {
     "name": "stdout",
     "output_type": "stream",
     "text": [
      "[ 7 -8  4]\n",
      "[1 3 4]\n"
     ]
    }
   ],
   "source": [
    "print(np.diff([2,9,1,5]))\n",
    "\n",
    "print(np.diff(sorted([2,9,1,5])))"
   ]
  },
  {
   "attachments": {},
   "cell_type": "markdown",
   "metadata": {},
   "source": [
    "Теперь применим эту функцию для расчета разницы между временными меткаим для каждого уникального пользователя:"
   ]
  },
  {
   "cell_type": "code",
   "execution_count": 80,
   "metadata": {},
   "outputs": [
    {
     "data": {
      "text/plain": [
       "user_id\n",
       "1                                                    []\n",
       "2                                             [4843602]\n",
       "3      [6899249, 182484, 93710, 2768870, 171400, 78712]\n",
       "5                                            [33702812]\n",
       "7                                                    []\n",
       "8                                              [863484]\n",
       "9                                                    []\n",
       "11                                                   []\n",
       "14                                                   []\n",
       "16    [50930, 169538, 198580, 60037, 107104, 64636, ...\n",
       "17                                                   []\n",
       "18                                                   []\n",
       "20                                                   []\n",
       "22    [83724, 114165, 51041, 122754, 87609, 58592, 8...\n",
       "24                                                   []\n",
       "25                                              [76445]\n",
       "26                                              [62937]\n",
       "28                                                   []\n",
       "30    [145570, 169476, 271367, 331527, 85955, 106315...\n",
       "31                                              [71256]\n",
       "Name: timestamp, dtype: object"
      ]
     },
     "execution_count": 80,
     "metadata": {},
     "output_type": "execute_result"
    }
   ],
   "source": [
    "# Для каждого пользователя находим разницу по времени между его нахождениями на сайте\n",
    "events_data[['user_id', 'day', 'timestamp']].drop_duplicates(subset=['user_id', 'day']) \\\n",
    "    .groupby('user_id')['timestamp'].apply(list) \\\n",
    "        .apply(np.diff).head(20)"
   ]
  },
  {
   "attachments": {},
   "cell_type": "markdown",
   "metadata": {},
   "source": [
    "на выходе видим, что чем больше значений временных меток, то разумеется тем больше значений разниц между соседними временными метками"
   ]
  },
  {
   "attachments": {},
   "cell_type": "markdown",
   "metadata": {},
   "source": [
    "теперь соберем все эти массивы разниц во временных метках между посещениями для каждого юзера.\n",
    "\n",
    "суть тут в том, что мы считаем разницу во временных метках именно для БЛИЖАЙШИХ соседних днях посещений пользователем сайта.\n",
    "\n",
    "это означает, что нам не важно когда это было - в феврале или в мае. важно, чтобы ДЛЯ КАЖДОГО пользователя считалась именно эта уникальная разница между БЛИЖАЙШИМИ соседними днями посещений"
   ]
  },
  {
   "cell_type": "code",
   "execution_count": 82,
   "metadata": {},
   "outputs": [
    {
     "data": {
      "text/plain": [
       "array([array([], dtype=int64), array([4843602]),\n",
       "       array([6899249,  182484,   93710, 2768870,  171400,   78712]), ...,\n",
       "       array([   86128,   136759,    94899,  1422583, 14347289,   505061,\n",
       "                 98252,    57019])                                       ,\n",
       "       array([1567990]), array([], dtype=int64)], dtype=object)"
      ]
     },
     "execution_count": 82,
     "metadata": {},
     "output_type": "execute_result"
    }
   ],
   "source": [
    "gap_data = events_data[['user_id', 'day', 'timestamp']].drop_duplicates(subset=['user_id', 'day']) \\\n",
    "    .groupby('user_id')['timestamp'].apply(list) \\\n",
    "        .apply(np.diff).values\n",
    "\n",
    "gap_data            # тут получим массив массивов с этими разницами во времени"
   ]
  },
  {
   "attachments": {},
   "cell_type": "markdown",
   "metadata": {},
   "source": [
    "соберем этот массив массивов в единый массив при помощи функции конкатенации np.concatenate"
   ]
  },
  {
   "cell_type": "code",
   "execution_count": 83,
   "metadata": {},
   "outputs": [
    {
     "data": {
      "text/plain": [
       "array([4843602, 6899249,  182484, ...,   98252,   57019, 1567990])"
      ]
     },
     "execution_count": 83,
     "metadata": {},
     "output_type": "execute_result"
    }
   ],
   "source": [
    "np.concatenate(gap_data, axis=0)    # ось 0 указываем для пояснения, что мы используем строки"
   ]
  },
  {
   "attachments": {},
   "cell_type": "markdown",
   "metadata": {},
   "source": [
    "обернем полученный массив в пандасовскую серию"
   ]
  },
  {
   "cell_type": "code",
   "execution_count": 87,
   "metadata": {},
   "outputs": [
    {
     "data": {
      "text/plain": [
       "0         56.060208\n",
       "1         79.852419\n",
       "2          2.112083\n",
       "3          1.084606\n",
       "4         32.047106\n",
       "            ...    \n",
       "97867    166.056586\n",
       "97868      5.845613\n",
       "97869      1.137176\n",
       "97870      0.659942\n",
       "97871     18.148032\n",
       "Length: 97872, dtype: float64"
      ]
     },
     "execution_count": 87,
     "metadata": {},
     "output_type": "execute_result"
    }
   ],
   "source": [
    "# gap_data = pd.Series(np.concatenate(gap_data, axis=0))    # почему-то выводит ошибку о запрете деления на ноль\n",
    "\n",
    "gap_data = pd.Series(np.hstack(gap_data))\n",
    "\n",
    "gap_data = gap_data/ (24*60*60)     # переведем значение разниц временных меток в дни (в сутках)\n",
    "\n",
    "gap_data"
   ]
  },
  {
   "attachments": {},
   "cell_type": "markdown",
   "metadata": {},
   "source": [
    "строим гистограмму распределения:\n",
    "- по оси х - разница в посещениях (в часах)\n",
    "- по оси у - частота появления таких значений"
   ]
  },
  {
   "cell_type": "code",
   "execution_count": 88,
   "metadata": {},
   "outputs": [
    {
     "data": {
      "text/plain": [
       "<AxesSubplot: >"
      ]
     },
     "execution_count": 88,
     "metadata": {},
     "output_type": "execute_result"
    },
    {
     "data": {
      "image/png": "[encoded data removed]",
      "text/plain": [
       "<Figure size 900x600 with 1 Axes>"
      ]
     },
     "metadata": {},
     "output_type": "display_data"
    }
   ],
   "source": [
    "gap_data.hist()"
   ]
  },
  {
   "attachments": {},
   "cell_type": "markdown",
   "metadata": {},
   "source": [
    "картинка несильно содержательна, поэтому фильтруем по значению временных меток (просто уменьшаем масштаб по сути))"
   ]
  },
  {
   "cell_type": "code",
   "execution_count": 89,
   "metadata": {},
   "outputs": [
    {
     "data": {
      "text/plain": [
       "<AxesSubplot: >"
      ]
     },
     "execution_count": 89,
     "metadata": {},
     "output_type": "execute_result"
    },
    {
     "data": {
      "image/png": "[encoded data removed]",
      "text/plain": [
       "<Figure size 900x600 with 1 Axes>"
      ]
     },
     "metadata": {},
     "output_type": "display_data"
    }
   ],
   "source": [
    "gap_data[gap_data < 200].hist()"
   ]
  },
  {
   "attachments": {},
   "cell_type": "markdown",
   "metadata": {},
   "source": [
    "видим, что большая часть укладывается в диапазон от 0 до 25 дней (именно столько БОЛЬШАЯ часть пользователей делает перерыв между заходами на сайт и потом ВОЗВРАЩАЕТСЯ)"
   ]
  },
  {
   "attachments": {},
   "cell_type": "markdown",
   "metadata": {},
   "source": [
    "теперь проверим, какое число дней является пограничным для возврата на сайт для 5% людей.\n",
    "\n",
    "для этого возьмем квантиль 0.95 для всех значений разниц во времени - это будет означать, что из всей массы наблюдений по переменной (разница между заходом и выходом с сайта) вероятность попасть в дипазон от 0 до n-дней составляет 95%\n",
    "\n",
    "а именно пограничное значение разницы во времени будет равняться квантилю от 0.95"
   ]
  },
  {
   "cell_type": "code",
   "execution_count": 90,
   "metadata": {},
   "outputs": [
    {
     "data": {
      "text/plain": [
       "59.760440972222156"
      ]
     },
     "execution_count": 90,
     "metadata": {},
     "output_type": "execute_result"
    }
   ],
   "source": [
    "gap_data.quantile(0.95)         # вернет предельное количество дней, после которого лишь 5% вернется на сайт"
   ]
  },
  {
   "cell_type": "code",
   "execution_count": 91,
   "metadata": {},
   "outputs": [
    {
     "data": {
      "text/plain": [
       "179.1959025462963"
      ]
     },
     "execution_count": 91,
     "metadata": {},
     "output_type": "execute_result"
    }
   ],
   "source": [
    "gap_data.quantile(0.98)         # вернет количество дней, после которого лишь 2% вернется на сайт"
   ]
  },
  {
   "attachments": {},
   "cell_type": "markdown",
   "metadata": {},
   "source": [
    "интересно, какое количество дней является пограничным для половины людей?\n",
    "\n",
    "то есть вероятность, что человек зашел на сайт, посмотрел материалы и вышел - когда он вернется с 50% вероятностью? \n",
    "\n",
    "по сути это шанс 50/50"
   ]
  },
  {
   "cell_type": "code",
   "execution_count": 92,
   "metadata": {},
   "outputs": [
    {
     "data": {
      "text/plain": [
       "1.3154803240740742"
      ]
     },
     "execution_count": 92,
     "metadata": {},
     "output_type": "execute_result"
    }
   ],
   "source": [
    "gap_data.quantile(0.5)          # всего лишь 32 часа стоит ждать. и вероятность снижается с каждым днем (статистически)"
   ]
  },
  {
   "attachments": {},
   "cell_type": "markdown",
   "metadata": {},
   "source": [
    "Возьмем более щадящий порог для установления характеристики \"Покинул курс навсегда\":\n",
    "\n",
    "90% возвращается спустя 18 дней, 10% более чем через 18 дней"
   ]
  },
  {
   "cell_type": "code",
   "execution_count": 93,
   "metadata": {},
   "outputs": [
    {
     "data": {
      "text/plain": [
       "18.325995370370403"
      ]
     },
     "execution_count": 93,
     "metadata": {},
     "output_type": "execute_result"
    }
   ],
   "source": [
    "gap_data.quantile(0.9)"
   ]
  },
  {
   "attachments": {},
   "cell_type": "markdown",
   "metadata": {},
   "source": [
    "### Отвлечемся - практическая задачка:\n",
    "найти id Анатолия Карпова, под которым он фигурирует в данных events_data_train и submissions_data_train."
   ]
  },
  {
   "cell_type": "code",
   "execution_count": 94,
   "metadata": {},
   "outputs": [
    {
     "data": {
      "text/html": [
       "<div>\n",
       "<style scoped>\n",
       "    .dataframe tbody tr th:only-of-type {\n",
       "        vertical-align: middle;\n",
       "    }\n",
       "\n",
       "    .dataframe tbody tr th {\n",
       "        vertical-align: top;\n",
       "    }\n",
       "\n",
       "    .dataframe thead th {\n",
       "        text-align: right;\n",
       "    }\n",
       "</style>\n",
       "<table border=\"1\" class=\"dataframe\">\n",
       "  <thead>\n",
       "    <tr style=\"text-align: right;\">\n",
       "      <th></th>\n",
       "      <th>step_id</th>\n",
       "      <th>timestamp</th>\n",
       "      <th>action</th>\n",
       "      <th>user_id</th>\n",
       "      <th>date</th>\n",
       "      <th>day</th>\n",
       "    </tr>\n",
       "  </thead>\n",
       "  <tbody>\n",
       "    <tr>\n",
       "      <th>0</th>\n",
       "      <td>32815</td>\n",
       "      <td>1434340848</td>\n",
       "      <td>viewed</td>\n",
       "      <td>17632</td>\n",
       "      <td>2015-06-15 04:00:48</td>\n",
       "      <td>2015-06-15</td>\n",
       "    </tr>\n",
       "    <tr>\n",
       "      <th>1</th>\n",
       "      <td>32815</td>\n",
       "      <td>1434340848</td>\n",
       "      <td>passed</td>\n",
       "      <td>17632</td>\n",
       "      <td>2015-06-15 04:00:48</td>\n",
       "      <td>2015-06-15</td>\n",
       "    </tr>\n",
       "    <tr>\n",
       "      <th>2</th>\n",
       "      <td>32815</td>\n",
       "      <td>1434340848</td>\n",
       "      <td>discovered</td>\n",
       "      <td>17632</td>\n",
       "      <td>2015-06-15 04:00:48</td>\n",
       "      <td>2015-06-15</td>\n",
       "    </tr>\n",
       "    <tr>\n",
       "      <th>3</th>\n",
       "      <td>32811</td>\n",
       "      <td>1434340895</td>\n",
       "      <td>discovered</td>\n",
       "      <td>17632</td>\n",
       "      <td>2015-06-15 04:01:35</td>\n",
       "      <td>2015-06-15</td>\n",
       "    </tr>\n",
       "    <tr>\n",
       "      <th>4</th>\n",
       "      <td>32811</td>\n",
       "      <td>1434340895</td>\n",
       "      <td>viewed</td>\n",
       "      <td>17632</td>\n",
       "      <td>2015-06-15 04:01:35</td>\n",
       "      <td>2015-06-15</td>\n",
       "    </tr>\n",
       "    <tr>\n",
       "      <th>...</th>\n",
       "      <td>...</td>\n",
       "      <td>...</td>\n",
       "      <td>...</td>\n",
       "      <td>...</td>\n",
       "      <td>...</td>\n",
       "      <td>...</td>\n",
       "    </tr>\n",
       "    <tr>\n",
       "      <th>3480698</th>\n",
       "      <td>33375</td>\n",
       "      <td>1526772685</td>\n",
       "      <td>viewed</td>\n",
       "      <td>11677</td>\n",
       "      <td>2018-05-19 23:31:25</td>\n",
       "      <td>2018-05-19</td>\n",
       "    </tr>\n",
       "    <tr>\n",
       "      <th>3480699</th>\n",
       "      <td>32815</td>\n",
       "      <td>1526772750</td>\n",
       "      <td>viewed</td>\n",
       "      <td>5198</td>\n",
       "      <td>2018-05-19 23:32:30</td>\n",
       "      <td>2018-05-19</td>\n",
       "    </tr>\n",
       "    <tr>\n",
       "      <th>3480700</th>\n",
       "      <td>32815</td>\n",
       "      <td>1526772750</td>\n",
       "      <td>discovered</td>\n",
       "      <td>5198</td>\n",
       "      <td>2018-05-19 23:32:30</td>\n",
       "      <td>2018-05-19</td>\n",
       "    </tr>\n",
       "    <tr>\n",
       "      <th>3480701</th>\n",
       "      <td>32815</td>\n",
       "      <td>1526772750</td>\n",
       "      <td>passed</td>\n",
       "      <td>5198</td>\n",
       "      <td>2018-05-19 23:32:30</td>\n",
       "      <td>2018-05-19</td>\n",
       "    </tr>\n",
       "    <tr>\n",
       "      <th>3480702</th>\n",
       "      <td>33892</td>\n",
       "      <td>1526772811</td>\n",
       "      <td>viewed</td>\n",
       "      <td>18526</td>\n",
       "      <td>2018-05-19 23:33:31</td>\n",
       "      <td>2018-05-19</td>\n",
       "    </tr>\n",
       "  </tbody>\n",
       "</table>\n",
       "<p>3480703 rows × 6 columns</p>\n",
       "</div>"
      ],
      "text/plain": [
       "         step_id   timestamp      action  user_id                date  \\\n",
       "0          32815  1434340848      viewed    17632 2015-06-15 04:00:48   \n",
       "1          32815  1434340848      passed    17632 2015-06-15 04:00:48   \n",
       "2          32815  1434340848  discovered    17632 2015-06-15 04:00:48   \n",
       "3          32811  1434340895  discovered    17632 2015-06-15 04:01:35   \n",
       "4          32811  1434340895      viewed    17632 2015-06-15 04:01:35   \n",
       "...          ...         ...         ...      ...                 ...   \n",
       "3480698    33375  1526772685      viewed    11677 2018-05-19 23:31:25   \n",
       "3480699    32815  1526772750      viewed     5198 2018-05-19 23:32:30   \n",
       "3480700    32815  1526772750  discovered     5198 2018-05-19 23:32:30   \n",
       "3480701    32815  1526772750      passed     5198 2018-05-19 23:32:30   \n",
       "3480702    33892  1526772811      viewed    18526 2018-05-19 23:33:31   \n",
       "\n",
       "                day  \n",
       "0        2015-06-15  \n",
       "1        2015-06-15  \n",
       "2        2015-06-15  \n",
       "3        2015-06-15  \n",
       "4        2015-06-15  \n",
       "...             ...  \n",
       "3480698  2018-05-19  \n",
       "3480699  2018-05-19  \n",
       "3480700  2018-05-19  \n",
       "3480701  2018-05-19  \n",
       "3480702  2018-05-19  \n",
       "\n",
       "[3480703 rows x 6 columns]"
      ]
     },
     "execution_count": 94,
     "metadata": {},
     "output_type": "execute_result"
    }
   ],
   "source": [
    "events_data"
   ]
  },
  {
   "cell_type": "code",
   "execution_count": 95,
   "metadata": {},
   "outputs": [
    {
     "data": {
      "text/html": [
       "<div>\n",
       "<style scoped>\n",
       "    .dataframe tbody tr th:only-of-type {\n",
       "        vertical-align: middle;\n",
       "    }\n",
       "\n",
       "    .dataframe tbody tr th {\n",
       "        vertical-align: top;\n",
       "    }\n",
       "\n",
       "    .dataframe thead th {\n",
       "        text-align: right;\n",
       "    }\n",
       "</style>\n",
       "<table border=\"1\" class=\"dataframe\">\n",
       "  <thead>\n",
       "    <tr style=\"text-align: right;\">\n",
       "      <th></th>\n",
       "      <th>step_id</th>\n",
       "      <th>timestamp</th>\n",
       "      <th>submission_status</th>\n",
       "      <th>user_id</th>\n",
       "      <th>date</th>\n",
       "      <th>day</th>\n",
       "    </tr>\n",
       "  </thead>\n",
       "  <tbody>\n",
       "    <tr>\n",
       "      <th>0</th>\n",
       "      <td>31971</td>\n",
       "      <td>1434349275</td>\n",
       "      <td>correct</td>\n",
       "      <td>15853</td>\n",
       "      <td>2015-06-15 06:21:15</td>\n",
       "      <td>2015-06-15</td>\n",
       "    </tr>\n",
       "    <tr>\n",
       "      <th>1</th>\n",
       "      <td>31972</td>\n",
       "      <td>1434348300</td>\n",
       "      <td>correct</td>\n",
       "      <td>15853</td>\n",
       "      <td>2015-06-15 06:05:00</td>\n",
       "      <td>2015-06-15</td>\n",
       "    </tr>\n",
       "    <tr>\n",
       "      <th>2</th>\n",
       "      <td>31972</td>\n",
       "      <td>1478852149</td>\n",
       "      <td>wrong</td>\n",
       "      <td>15853</td>\n",
       "      <td>2016-11-11 08:15:49</td>\n",
       "      <td>2016-11-11</td>\n",
       "    </tr>\n",
       "    <tr>\n",
       "      <th>3</th>\n",
       "      <td>31972</td>\n",
       "      <td>1478852164</td>\n",
       "      <td>correct</td>\n",
       "      <td>15853</td>\n",
       "      <td>2016-11-11 08:16:04</td>\n",
       "      <td>2016-11-11</td>\n",
       "    </tr>\n",
       "    <tr>\n",
       "      <th>4</th>\n",
       "      <td>31976</td>\n",
       "      <td>1434348123</td>\n",
       "      <td>wrong</td>\n",
       "      <td>15853</td>\n",
       "      <td>2015-06-15 06:02:03</td>\n",
       "      <td>2015-06-15</td>\n",
       "    </tr>\n",
       "    <tr>\n",
       "      <th>...</th>\n",
       "      <td>...</td>\n",
       "      <td>...</td>\n",
       "      <td>...</td>\n",
       "      <td>...</td>\n",
       "      <td>...</td>\n",
       "      <td>...</td>\n",
       "    </tr>\n",
       "    <tr>\n",
       "      <th>509099</th>\n",
       "      <td>120745</td>\n",
       "      <td>1501946959</td>\n",
       "      <td>wrong</td>\n",
       "      <td>2615</td>\n",
       "      <td>2017-08-05 15:29:19</td>\n",
       "      <td>2017-08-05</td>\n",
       "    </tr>\n",
       "    <tr>\n",
       "      <th>509100</th>\n",
       "      <td>120745</td>\n",
       "      <td>1503059927</td>\n",
       "      <td>correct</td>\n",
       "      <td>13177</td>\n",
       "      <td>2017-08-18 12:38:47</td>\n",
       "      <td>2017-08-18</td>\n",
       "    </tr>\n",
       "    <tr>\n",
       "      <th>509101</th>\n",
       "      <td>120745</td>\n",
       "      <td>1506348153</td>\n",
       "      <td>wrong</td>\n",
       "      <td>15253</td>\n",
       "      <td>2017-09-25 14:02:33</td>\n",
       "      <td>2017-09-25</td>\n",
       "    </tr>\n",
       "    <tr>\n",
       "      <th>509102</th>\n",
       "      <td>120745</td>\n",
       "      <td>1523035316</td>\n",
       "      <td>wrong</td>\n",
       "      <td>1424</td>\n",
       "      <td>2018-04-06 17:21:56</td>\n",
       "      <td>2018-04-06</td>\n",
       "    </tr>\n",
       "    <tr>\n",
       "      <th>509103</th>\n",
       "      <td>120745</td>\n",
       "      <td>1523382825</td>\n",
       "      <td>wrong</td>\n",
       "      <td>9422</td>\n",
       "      <td>2018-04-10 17:53:45</td>\n",
       "      <td>2018-04-10</td>\n",
       "    </tr>\n",
       "  </tbody>\n",
       "</table>\n",
       "<p>509104 rows × 6 columns</p>\n",
       "</div>"
      ],
      "text/plain": [
       "        step_id   timestamp submission_status  user_id                date  \\\n",
       "0         31971  1434349275           correct    15853 2015-06-15 06:21:15   \n",
       "1         31972  1434348300           correct    15853 2015-06-15 06:05:00   \n",
       "2         31972  1478852149             wrong    15853 2016-11-11 08:15:49   \n",
       "3         31972  1478852164           correct    15853 2016-11-11 08:16:04   \n",
       "4         31976  1434348123             wrong    15853 2015-06-15 06:02:03   \n",
       "...         ...         ...               ...      ...                 ...   \n",
       "509099   120745  1501946959             wrong     2615 2017-08-05 15:29:19   \n",
       "509100   120745  1503059927           correct    13177 2017-08-18 12:38:47   \n",
       "509101   120745  1506348153             wrong    15253 2017-09-25 14:02:33   \n",
       "509102   120745  1523035316             wrong     1424 2018-04-06 17:21:56   \n",
       "509103   120745  1523382825             wrong     9422 2018-04-10 17:53:45   \n",
       "\n",
       "               day  \n",
       "0       2015-06-15  \n",
       "1       2015-06-15  \n",
       "2       2016-11-11  \n",
       "3       2016-11-11  \n",
       "4       2015-06-15  \n",
       "...            ...  \n",
       "509099  2017-08-05  \n",
       "509100  2017-08-18  \n",
       "509101  2017-09-25  \n",
       "509102  2018-04-06  \n",
       "509103  2018-04-10  \n",
       "\n",
       "[509104 rows x 6 columns]"
      ]
     },
     "execution_count": 95,
     "metadata": {},
     "output_type": "execute_result"
    }
   ],
   "source": [
    "submissions_data"
   ]
  },
  {
   "attachments": {},
   "cell_type": "markdown",
   "metadata": {},
   "source": [
    "#### Логика рассуждений:\n",
    "1) Вероятно, преподаватель (создатель) курса находится в числе тех, кто за всю историю курса заходил на этот курс\n",
    "2) скорее всего, он не только заходит, но снова и снова решает задачи курса, проверяя какие ответы принимает система"
   ]
  },
  {
   "attachments": {},
   "cell_type": "markdown",
   "metadata": {},
   "source": [
    "посчитаем количество уникальных дней для каждого пользователя в обоих датасэтах:\n",
    "- группируем по пользователям\n",
    "- собираем данные из колонки дни - считаем количество для каждого пользователя\n",
    "- переименовываем результируюущую колонку\n",
    "- сортируем по убыванию (то есть в шапке будут польлзователи, у которых больше всех число уникальных дней пребывания на сайте)\n"
   ]
  },
  {
   "cell_type": "code",
   "execution_count": 128,
   "metadata": {},
   "outputs": [
    {
     "data": {
      "text/html": [
       "<div>\n",
       "<style scoped>\n",
       "    .dataframe tbody tr th:only-of-type {\n",
       "        vertical-align: middle;\n",
       "    }\n",
       "\n",
       "    .dataframe tbody tr th {\n",
       "        vertical-align: top;\n",
       "    }\n",
       "\n",
       "    .dataframe thead th {\n",
       "        text-align: right;\n",
       "    }\n",
       "</style>\n",
       "<table border=\"1\" class=\"dataframe\">\n",
       "  <thead>\n",
       "    <tr style=\"text-align: right;\">\n",
       "      <th></th>\n",
       "      <th>num_days</th>\n",
       "    </tr>\n",
       "    <tr>\n",
       "      <th>user_id</th>\n",
       "      <th></th>\n",
       "    </tr>\n",
       "  </thead>\n",
       "  <tbody>\n",
       "    <tr>\n",
       "      <th>20907</th>\n",
       "      <td>33043</td>\n",
       "    </tr>\n",
       "    <tr>\n",
       "      <th>10794</th>\n",
       "      <td>16436</td>\n",
       "    </tr>\n",
       "    <tr>\n",
       "      <th>25279</th>\n",
       "      <td>10179</td>\n",
       "    </tr>\n",
       "    <tr>\n",
       "      <th>1046</th>\n",
       "      <td>9095</td>\n",
       "    </tr>\n",
       "    <tr>\n",
       "      <th>3572</th>\n",
       "      <td>7905</td>\n",
       "    </tr>\n",
       "    <tr>\n",
       "      <th>11770</th>\n",
       "      <td>6641</td>\n",
       "    </tr>\n",
       "    <tr>\n",
       "      <th>9546</th>\n",
       "      <td>6387</td>\n",
       "    </tr>\n",
       "    <tr>\n",
       "      <th>761</th>\n",
       "      <td>4592</td>\n",
       "    </tr>\n",
       "    <tr>\n",
       "      <th>8363</th>\n",
       "      <td>3918</td>\n",
       "    </tr>\n",
       "    <tr>\n",
       "      <th>13602</th>\n",
       "      <td>3480</td>\n",
       "    </tr>\n",
       "  </tbody>\n",
       "</table>\n",
       "</div>"
      ],
      "text/plain": [
       "         num_days\n",
       "user_id          \n",
       "20907       33043\n",
       "10794       16436\n",
       "25279       10179\n",
       "1046         9095\n",
       "3572         7905\n",
       "11770        6641\n",
       "9546         6387\n",
       "761          4592\n",
       "8363         3918\n",
       "13602        3480"
      ]
     },
     "execution_count": 128,
     "metadata": {},
     "output_type": "execute_result"
    }
   ],
   "source": [
    "events_data\\\n",
    "    .groupby('user_id')\\\n",
    "    .agg({'day':'count'})\\\n",
    "        .rename(columns = {'day' : 'num_days'})\\\n",
    "            .sort_values('num_days', ascending=False)\\\n",
    "                .head(10)\n",
    "\n"
   ]
  },
  {
   "cell_type": "code",
   "execution_count": 127,
   "metadata": {},
   "outputs": [
    {
     "data": {
      "text/html": [
       "<div>\n",
       "<style scoped>\n",
       "    .dataframe tbody tr th:only-of-type {\n",
       "        vertical-align: middle;\n",
       "    }\n",
       "\n",
       "    .dataframe tbody tr th {\n",
       "        vertical-align: top;\n",
       "    }\n",
       "\n",
       "    .dataframe thead th {\n",
       "        text-align: right;\n",
       "    }\n",
       "</style>\n",
       "<table border=\"1\" class=\"dataframe\">\n",
       "  <thead>\n",
       "    <tr style=\"text-align: right;\">\n",
       "      <th></th>\n",
       "      <th>num_days</th>\n",
       "    </tr>\n",
       "    <tr>\n",
       "      <th>user_id</th>\n",
       "      <th></th>\n",
       "    </tr>\n",
       "  </thead>\n",
       "  <tbody>\n",
       "    <tr>\n",
       "      <th>12265</th>\n",
       "      <td>1051</td>\n",
       "    </tr>\n",
       "    <tr>\n",
       "      <th>3643</th>\n",
       "      <td>948</td>\n",
       "    </tr>\n",
       "    <tr>\n",
       "      <th>1046</th>\n",
       "      <td>934</td>\n",
       "    </tr>\n",
       "    <tr>\n",
       "      <th>14454</th>\n",
       "      <td>920</td>\n",
       "    </tr>\n",
       "    <tr>\n",
       "      <th>643</th>\n",
       "      <td>888</td>\n",
       "    </tr>\n",
       "    <tr>\n",
       "      <th>20236</th>\n",
       "      <td>881</td>\n",
       "    </tr>\n",
       "    <tr>\n",
       "      <th>635</th>\n",
       "      <td>853</td>\n",
       "    </tr>\n",
       "    <tr>\n",
       "      <th>1468</th>\n",
       "      <td>768</td>\n",
       "    </tr>\n",
       "    <tr>\n",
       "      <th>24995</th>\n",
       "      <td>625</td>\n",
       "    </tr>\n",
       "    <tr>\n",
       "      <th>18065</th>\n",
       "      <td>616</td>\n",
       "    </tr>\n",
       "  </tbody>\n",
       "</table>\n",
       "</div>"
      ],
      "text/plain": [
       "         num_days\n",
       "user_id          \n",
       "12265        1051\n",
       "3643          948\n",
       "1046          934\n",
       "14454         920\n",
       "643           888\n",
       "20236         881\n",
       "635           853\n",
       "1468          768\n",
       "24995         625\n",
       "18065         616"
      ]
     },
     "execution_count": 127,
     "metadata": {},
     "output_type": "execute_result"
    }
   ],
   "source": [
    "submissions_data\\\n",
    "    .groupby('user_id')\\\n",
    "    .agg({'day':'count'})\\\n",
    "        .rename(columns = {'day' : 'num_days'})\\\n",
    "            .sort_values('num_days', ascending=False)\\\n",
    "                .head(10)"
   ]
  },
  {
   "attachments": {},
   "cell_type": "markdown",
   "metadata": {},
   "source": [
    "смотрим на обе таблицы - пользователь, который присутствует в обеих - под номером 1046"
   ]
  },
  {
   "cell_type": "code",
   "execution_count": 150,
   "metadata": {},
   "outputs": [
    {
     "data": {
      "text/html": [
       "<div>\n",
       "<style scoped>\n",
       "    .dataframe tbody tr th:only-of-type {\n",
       "        vertical-align: middle;\n",
       "    }\n",
       "\n",
       "    .dataframe tbody tr th {\n",
       "        vertical-align: top;\n",
       "    }\n",
       "\n",
       "    .dataframe thead th {\n",
       "        text-align: right;\n",
       "    }\n",
       "</style>\n",
       "<table border=\"1\" class=\"dataframe\">\n",
       "  <thead>\n",
       "    <tr style=\"text-align: right;\">\n",
       "      <th></th>\n",
       "      <th>step_id</th>\n",
       "      <th>timestamp</th>\n",
       "      <th>action</th>\n",
       "      <th>user_id</th>\n",
       "      <th>date</th>\n",
       "      <th>day</th>\n",
       "    </tr>\n",
       "  </thead>\n",
       "  <tbody>\n",
       "    <tr>\n",
       "      <th>2667878</th>\n",
       "      <td>158433</td>\n",
       "      <td>1509114944</td>\n",
       "      <td>passed</td>\n",
       "      <td>13180</td>\n",
       "      <td>2017-10-27 14:35:44</td>\n",
       "      <td>2017-10-27</td>\n",
       "    </tr>\n",
       "    <tr>\n",
       "      <th>3412070</th>\n",
       "      <td>158433</td>\n",
       "      <td>1525197533</td>\n",
       "      <td>passed</td>\n",
       "      <td>15373</td>\n",
       "      <td>2018-05-01 17:58:53</td>\n",
       "      <td>2018-05-01</td>\n",
       "    </tr>\n",
       "    <tr>\n",
       "      <th>1907497</th>\n",
       "      <td>158433</td>\n",
       "      <td>1488890498</td>\n",
       "      <td>passed</td>\n",
       "      <td>15523</td>\n",
       "      <td>2017-03-07 12:41:38</td>\n",
       "      <td>2017-03-07</td>\n",
       "    </tr>\n",
       "    <tr>\n",
       "      <th>2889905</th>\n",
       "      <td>158433</td>\n",
       "      <td>1514911414</td>\n",
       "      <td>passed</td>\n",
       "      <td>4437</td>\n",
       "      <td>2018-01-02 16:43:34</td>\n",
       "      <td>2018-01-02</td>\n",
       "    </tr>\n",
       "    <tr>\n",
       "      <th>3180218</th>\n",
       "      <td>158433</td>\n",
       "      <td>1521053314</td>\n",
       "      <td>passed</td>\n",
       "      <td>3445</td>\n",
       "      <td>2018-03-14 18:48:34</td>\n",
       "      <td>2018-03-14</td>\n",
       "    </tr>\n",
       "    <tr>\n",
       "      <th>...</th>\n",
       "      <td>...</td>\n",
       "      <td>...</td>\n",
       "      <td>...</td>\n",
       "      <td>...</td>\n",
       "      <td>...</td>\n",
       "      <td>...</td>\n",
       "    </tr>\n",
       "    <tr>\n",
       "      <th>260396</th>\n",
       "      <td>30456</td>\n",
       "      <td>1435593417</td>\n",
       "      <td>passed</td>\n",
       "      <td>17632</td>\n",
       "      <td>2015-06-29 15:56:57</td>\n",
       "      <td>2015-06-29</td>\n",
       "    </tr>\n",
       "    <tr>\n",
       "      <th>3184398</th>\n",
       "      <td>30456</td>\n",
       "      <td>1521124627</td>\n",
       "      <td>passed</td>\n",
       "      <td>11348</td>\n",
       "      <td>2018-03-15 14:37:07</td>\n",
       "      <td>2018-03-15</td>\n",
       "    </tr>\n",
       "    <tr>\n",
       "      <th>2854233</th>\n",
       "      <td>30456</td>\n",
       "      <td>1513937537</td>\n",
       "      <td>passed</td>\n",
       "      <td>4451</td>\n",
       "      <td>2017-12-22 10:12:17</td>\n",
       "      <td>2017-12-22</td>\n",
       "    </tr>\n",
       "    <tr>\n",
       "      <th>556721</th>\n",
       "      <td>30456</td>\n",
       "      <td>1436809182</td>\n",
       "      <td>passed</td>\n",
       "      <td>6496</td>\n",
       "      <td>2015-07-13 17:39:42</td>\n",
       "      <td>2015-07-13</td>\n",
       "    </tr>\n",
       "    <tr>\n",
       "      <th>3422664</th>\n",
       "      <td>30456</td>\n",
       "      <td>1525444303</td>\n",
       "      <td>passed</td>\n",
       "      <td>22289</td>\n",
       "      <td>2018-05-04 14:31:43</td>\n",
       "      <td>2018-05-04</td>\n",
       "    </tr>\n",
       "  </tbody>\n",
       "</table>\n",
       "<p>650331 rows × 6 columns</p>\n",
       "</div>"
      ],
      "text/plain": [
       "         step_id   timestamp  action  user_id                date         day\n",
       "2667878   158433  1509114944  passed    13180 2017-10-27 14:35:44  2017-10-27\n",
       "3412070   158433  1525197533  passed    15373 2018-05-01 17:58:53  2018-05-01\n",
       "1907497   158433  1488890498  passed    15523 2017-03-07 12:41:38  2017-03-07\n",
       "2889905   158433  1514911414  passed     4437 2018-01-02 16:43:34  2018-01-02\n",
       "3180218   158433  1521053314  passed     3445 2018-03-14 18:48:34  2018-03-14\n",
       "...          ...         ...     ...      ...                 ...         ...\n",
       "260396     30456  1435593417  passed    17632 2015-06-29 15:56:57  2015-06-29\n",
       "3184398    30456  1521124627  passed    11348 2018-03-15 14:37:07  2018-03-15\n",
       "2854233    30456  1513937537  passed     4451 2017-12-22 10:12:17  2017-12-22\n",
       "556721     30456  1436809182  passed     6496 2015-07-13 17:39:42  2015-07-13\n",
       "3422664    30456  1525444303  passed    22289 2018-05-04 14:31:43  2018-05-04\n",
       "\n",
       "[650331 rows x 6 columns]"
      ]
     },
     "execution_count": 150,
     "metadata": {},
     "output_type": "execute_result"
    }
   ],
   "source": [
    "events_data.query(\"action == 'passed' \").sort_values('step_id', ascending= False)# .query(\"timestamp == min(events_data.timestamp)\")\n",
    "\n"
   ]
  },
  {
   "cell_type": "code",
   "execution_count": null,
   "metadata": {},
   "outputs": [],
   "source": [
    ".loc['action'=='passed']"
   ]
  }
 ],
 "metadata": {
  "kernelspec": {
   "display_name": "Python 3",
   "language": "python",
   "name": "python3"
  },
  "language_info": {
   "codemirror_mode": {
    "name": "ipython",
    "version": 3
   },
   "file_extension": ".py",
   "mimetype": "text/x-python",
   "name": "python",
   "nbconvert_exporter": "python",
   "pygments_lexer": "ipython3",
   "version": "3.10.7"
  },
  "orig_nbformat": 4,
  "vscode": {
   "interpreter": {
    "hash": "aee8b7b246df8f9039afb4144a1f6fd8d2ca17a180786b69acc140d282b71a49"
   }
  }
 },
 "nbformat": 4,
 "nbformat_minor": 2
}
