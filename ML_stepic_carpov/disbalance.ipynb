{
 "cells": [
  {
   "attachments": {},
   "cell_type": "markdown",
   "metadata": {},
   "source": [
    "#### Дисбаланс в данных\n",
    "Набор полезных ссылок :\n",
    "\n",
    "https://www.kaggle.com/mlg-ulb/creditcardfraud\n",
    "\n",
    "https://habr.com/en/company/ods/blog/328372/\n",
    "\n",
    "http://pages.cs.wisc.edu/~jdavis/davisgoadrichcamera2.pdf\n",
    "\n",
    "https://ld86.github.io/ml-slides/unbalanced.html#/22\n",
    "\n"
   ]
  },
  {
   "attachments": {},
   "cell_type": "markdown",
   "metadata": {},
   "source": [
    "##### Работа с несбалансированными выборками\n",
    "\n",
    "- Можно считать, что выборка несбалансирована, когда размеры классов отличаются более, чем в 10 раз\n",
    "- Больший класс называют доминирующим, меньший класс называется минорным\n",
    "- Зачастую можно повысить качество с помощью\n",
    "- Корректировки весов объектов\n",
    "- Исскуственной модификации датасета\n",
    " \n",
    "\n",
    "Оценка качества при несбалансированных выборках\n",
    "- Accuracy и AUC дают близкие к 11 значения, которые слабо меняются при изменении модели\n",
    "- F-score гораздо более чувствительна к изменениям модели"
   ]
  },
  {
   "attachments": {},
   "cell_type": "markdown",
   "metadata": {},
   "source": [
    "##### Нужно ли бояться несбалансированности классов\n",
    "\n",
    "https://habr.com/ru/post/349078/\n",
    "\n"
   ]
  },
  {
   "cell_type": "code",
   "execution_count": null,
   "metadata": {},
   "outputs": [],
   "source": []
  }
 ],
 "metadata": {
  "language_info": {
   "name": "python"
  },
  "orig_nbformat": 4
 },
 "nbformat": 4,
 "nbformat_minor": 2
}
