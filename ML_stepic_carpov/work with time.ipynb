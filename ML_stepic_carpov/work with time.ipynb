{
 "cells": [
  {
   "attachments": {},
   "cell_type": "markdown",
   "metadata": {},
   "source": [
    "### работаем со временем \n",
    "\n",
    "\n",
    "полезные ссылки:\n",
    "1) работа со временем в pandas https://medium.datadriveninvestor.com/how-to-work-with-dates-in-pandas-like-a-pro-a84055a4819d\n",
    "2) примеры работы со временем в pandas: https://www.geeksforgeeks.org/python-working-with-date-and-time-using-pandas/\n",
    "3) работа с модулем datetime https://python-scripts.com/datetime-time-python"
   ]
  },
  {
   "attachments": {},
   "cell_type": "markdown",
   "metadata": {},
   "source": [
    "### ТАблица работы для stftime - выбор формата вывода даты\n",
    "https://stepik.org/lesson/570048/step/1?unit=564591"
   ]
  },
  {
   "cell_type": "code",
   "execution_count": 58,
   "metadata": {},
   "outputs": [
    {
     "data": {
      "text/html": [
       "<div>\n",
       "<style scoped>\n",
       "    .dataframe tbody tr th:only-of-type {\n",
       "        vertical-align: middle;\n",
       "    }\n",
       "\n",
       "    .dataframe tbody tr th {\n",
       "        vertical-align: top;\n",
       "    }\n",
       "\n",
       "    .dataframe thead th {\n",
       "        text-align: right;\n",
       "    }\n",
       "</style>\n",
       "<table border=\"1\" class=\"dataframe\">\n",
       "  <thead>\n",
       "    <tr style=\"text-align: right;\">\n",
       "      <th></th>\n",
       "      <th>City</th>\n",
       "      <th>Colors Reported</th>\n",
       "      <th>Shape Reported</th>\n",
       "      <th>State</th>\n",
       "      <th>Time</th>\n",
       "    </tr>\n",
       "  </thead>\n",
       "  <tbody>\n",
       "    <tr>\n",
       "      <th>0</th>\n",
       "      <td>Ithaca</td>\n",
       "      <td>NaN</td>\n",
       "      <td>TRIANGLE</td>\n",
       "      <td>NY</td>\n",
       "      <td>6/1/1930 22:00</td>\n",
       "    </tr>\n",
       "    <tr>\n",
       "      <th>1</th>\n",
       "      <td>Willingboro</td>\n",
       "      <td>NaN</td>\n",
       "      <td>OTHER</td>\n",
       "      <td>NJ</td>\n",
       "      <td>6/30/1930 20:00</td>\n",
       "    </tr>\n",
       "    <tr>\n",
       "      <th>2</th>\n",
       "      <td>Holyoke</td>\n",
       "      <td>NaN</td>\n",
       "      <td>OVAL</td>\n",
       "      <td>CO</td>\n",
       "      <td>2/15/1931 14:00</td>\n",
       "    </tr>\n",
       "    <tr>\n",
       "      <th>3</th>\n",
       "      <td>Abilene</td>\n",
       "      <td>NaN</td>\n",
       "      <td>DISK</td>\n",
       "      <td>KS</td>\n",
       "      <td>6/1/1931 13:00</td>\n",
       "    </tr>\n",
       "    <tr>\n",
       "      <th>4</th>\n",
       "      <td>New York Worlds Fair</td>\n",
       "      <td>NaN</td>\n",
       "      <td>LIGHT</td>\n",
       "      <td>NY</td>\n",
       "      <td>4/18/1933 19:00</td>\n",
       "    </tr>\n",
       "  </tbody>\n",
       "</table>\n",
       "</div>"
      ],
      "text/plain": [
       "                   City Colors Reported Shape Reported State             Time\n",
       "0                Ithaca             NaN       TRIANGLE    NY   6/1/1930 22:00\n",
       "1           Willingboro             NaN          OTHER    NJ  6/30/1930 20:00\n",
       "2               Holyoke             NaN           OVAL    CO  2/15/1931 14:00\n",
       "3               Abilene             NaN           DISK    KS   6/1/1931 13:00\n",
       "4  New York Worlds Fair             NaN          LIGHT    NY  4/18/1933 19:00"
      ]
     },
     "execution_count": 58,
     "metadata": {},
     "output_type": "execute_result"
    }
   ],
   "source": [
    "import pandas as pd\n",
    " \n",
    "url = 'http://bit.ly/uforeports'\n",
    " \n",
    "# read csv file\n",
    "df = pd.read_csv(url)          \n",
    "df.head()"
   ]
  },
  {
   "attachments": {},
   "cell_type": "markdown",
   "metadata": {},
   "source": [
    "конвертируем время в формат год - месяц - день - час - минута - секунда"
   ]
  },
  {
   "cell_type": "code",
   "execution_count": 59,
   "metadata": {},
   "outputs": [
    {
     "data": {
      "text/html": [
       "<div>\n",
       "<style scoped>\n",
       "    .dataframe tbody tr th:only-of-type {\n",
       "        vertical-align: middle;\n",
       "    }\n",
       "\n",
       "    .dataframe tbody tr th {\n",
       "        vertical-align: top;\n",
       "    }\n",
       "\n",
       "    .dataframe thead th {\n",
       "        text-align: right;\n",
       "    }\n",
       "</style>\n",
       "<table border=\"1\" class=\"dataframe\">\n",
       "  <thead>\n",
       "    <tr style=\"text-align: right;\">\n",
       "      <th></th>\n",
       "      <th>City</th>\n",
       "      <th>Colors Reported</th>\n",
       "      <th>Shape Reported</th>\n",
       "      <th>State</th>\n",
       "      <th>Time</th>\n",
       "    </tr>\n",
       "  </thead>\n",
       "  <tbody>\n",
       "    <tr>\n",
       "      <th>0</th>\n",
       "      <td>Ithaca</td>\n",
       "      <td>NaN</td>\n",
       "      <td>TRIANGLE</td>\n",
       "      <td>NY</td>\n",
       "      <td>1930-06-01 22:00:00</td>\n",
       "    </tr>\n",
       "    <tr>\n",
       "      <th>1</th>\n",
       "      <td>Willingboro</td>\n",
       "      <td>NaN</td>\n",
       "      <td>OTHER</td>\n",
       "      <td>NJ</td>\n",
       "      <td>1930-06-30 20:00:00</td>\n",
       "    </tr>\n",
       "    <tr>\n",
       "      <th>2</th>\n",
       "      <td>Holyoke</td>\n",
       "      <td>NaN</td>\n",
       "      <td>OVAL</td>\n",
       "      <td>CO</td>\n",
       "      <td>1931-02-15 14:00:00</td>\n",
       "    </tr>\n",
       "    <tr>\n",
       "      <th>3</th>\n",
       "      <td>Abilene</td>\n",
       "      <td>NaN</td>\n",
       "      <td>DISK</td>\n",
       "      <td>KS</td>\n",
       "      <td>1931-06-01 13:00:00</td>\n",
       "    </tr>\n",
       "    <tr>\n",
       "      <th>4</th>\n",
       "      <td>New York Worlds Fair</td>\n",
       "      <td>NaN</td>\n",
       "      <td>LIGHT</td>\n",
       "      <td>NY</td>\n",
       "      <td>1933-04-18 19:00:00</td>\n",
       "    </tr>\n",
       "  </tbody>\n",
       "</table>\n",
       "</div>"
      ],
      "text/plain": [
       "                   City Colors Reported Shape Reported State  \\\n",
       "0                Ithaca             NaN       TRIANGLE    NY   \n",
       "1           Willingboro             NaN          OTHER    NJ   \n",
       "2               Holyoke             NaN           OVAL    CO   \n",
       "3               Abilene             NaN           DISK    KS   \n",
       "4  New York Worlds Fair             NaN          LIGHT    NY   \n",
       "\n",
       "                 Time  \n",
       "0 1930-06-01 22:00:00  \n",
       "1 1930-06-30 20:00:00  \n",
       "2 1931-02-15 14:00:00  \n",
       "3 1931-06-01 13:00:00  \n",
       "4 1933-04-18 19:00:00  "
      ]
     },
     "execution_count": 59,
     "metadata": {},
     "output_type": "execute_result"
    }
   ],
   "source": [
    "# Convert the Time column to datetime format\n",
    "df['Time'] = pd.to_datetime(df.Time)\n",
    " \n",
    "df.head()"
   ]
  },
  {
   "attachments": {},
   "cell_type": "markdown",
   "metadata": {},
   "source": [
    "получаем информацию о часах"
   ]
  },
  {
   "cell_type": "code",
   "execution_count": 3,
   "metadata": {},
   "outputs": [
    {
     "data": {
      "text/plain": [
       "0    22\n",
       "1    20\n",
       "2    14\n",
       "3    13\n",
       "4    19\n",
       "Name: Time, dtype: int64"
      ]
     },
     "execution_count": 3,
     "metadata": {},
     "output_type": "execute_result"
    }
   ],
   "source": [
    "# Get hour detail from time data\n",
    "df.Time.dt.hour.head()"
   ]
  },
  {
   "attachments": {},
   "cell_type": "markdown",
   "metadata": {},
   "source": [
    "получаем информацию об именах дней недели"
   ]
  },
  {
   "cell_type": "code",
   "execution_count": 61,
   "metadata": {},
   "outputs": [
    {
     "data": {
      "text/plain": [
       "0    6\n",
       "1    0\n",
       "2    6\n",
       "3    0\n",
       "4    1\n",
       "Name: Time, dtype: int64"
      ]
     },
     "execution_count": 61,
     "metadata": {},
     "output_type": "execute_result"
    }
   ],
   "source": [
    "\n",
    "# Get name of each date\n",
    "df.Time.dt.weekday.head()"
   ]
  },
  {
   "attachments": {},
   "cell_type": "markdown",
   "metadata": {},
   "source": [
    "получаем порядковый номер дня в году"
   ]
  },
  {
   "cell_type": "code",
   "execution_count": 62,
   "metadata": {},
   "outputs": [
    {
     "data": {
      "text/plain": [
       "0    152\n",
       "1    181\n",
       "2     46\n",
       "3    152\n",
       "4    108\n",
       "Name: Time, dtype: int64"
      ]
     },
     "execution_count": 62,
     "metadata": {},
     "output_type": "execute_result"
    }
   ],
   "source": [
    "# Get ordinal day of the year\n",
    "df.Time.dt.dayofyear.head()"
   ]
  },
  {
   "attachments": {},
   "cell_type": "markdown",
   "metadata": {},
   "source": [
    "#### Узнать текущую дату и поработать с ней"
   ]
  },
  {
   "cell_type": "code",
   "execution_count": 63,
   "metadata": {},
   "outputs": [
    {
     "data": {
      "text/plain": [
       "datetime.datetime(2023, 3, 6, 19, 20, 45, 699205)"
      ]
     },
     "metadata": {},
     "output_type": "display_data"
    },
    {
     "name": "stdout",
     "output_type": "stream",
     "text": [
      "2023-03-06 19:20:45.699205\n",
      "2023 3 6 19 20 45\n"
     ]
    }
   ],
   "source": [
    "# узнать текущую дату - код выведет кортеж (год, месяц, день, час, минут, секунд...)\n",
    "import datetime                 # нужно импортировать модуль datetime\n",
    "now = datetime.datetime.now()\n",
    "display(now)\n",
    "print(now)\n",
    "\n",
    "# но объект не итерируемый! код ниже выдаст ошибку\n",
    "# print(tuple(now)[0]) \n",
    "\n",
    "# а значит нужно пользоваться встроенными методами:\n",
    "print(now.year, now.month, now.day, now.hour, now.minute, now.second)   # выведет значение типа int, с которым уже можно работать\n",
    "\n"
   ]
  },
  {
   "attachments": {},
   "cell_type": "markdown",
   "metadata": {},
   "source": [
    "поработать со столбцом времени в pandas dataframe и получить долпольнительные столбцы разбивки поэлементно"
   ]
  },
  {
   "cell_type": "code",
   "execution_count": 8,
   "metadata": {},
   "outputs": [
    {
     "data": {
      "text/html": [
       "<div>\n",
       "<style scoped>\n",
       "    .dataframe tbody tr th:only-of-type {\n",
       "        vertical-align: middle;\n",
       "    }\n",
       "\n",
       "    .dataframe tbody tr th {\n",
       "        vertical-align: top;\n",
       "    }\n",
       "\n",
       "    .dataframe thead th {\n",
       "        text-align: right;\n",
       "    }\n",
       "</style>\n",
       "<table border=\"1\" class=\"dataframe\">\n",
       "  <thead>\n",
       "    <tr style=\"text-align: right;\">\n",
       "      <th></th>\n",
       "      <th>date</th>\n",
       "      <th>year</th>\n",
       "      <th>month</th>\n",
       "      <th>day</th>\n",
       "      <th>hour</th>\n",
       "      <th>minute</th>\n",
       "    </tr>\n",
       "  </thead>\n",
       "  <tbody>\n",
       "    <tr>\n",
       "      <th>0</th>\n",
       "      <td>2011-01-01 00:00:00</td>\n",
       "      <td>2011</td>\n",
       "      <td>1</td>\n",
       "      <td>1</td>\n",
       "      <td>0</td>\n",
       "      <td>0</td>\n",
       "    </tr>\n",
       "    <tr>\n",
       "      <th>1</th>\n",
       "      <td>2011-01-01 01:00:00</td>\n",
       "      <td>2011</td>\n",
       "      <td>1</td>\n",
       "      <td>1</td>\n",
       "      <td>1</td>\n",
       "      <td>0</td>\n",
       "    </tr>\n",
       "    <tr>\n",
       "      <th>2</th>\n",
       "      <td>2011-01-01 02:00:00</td>\n",
       "      <td>2011</td>\n",
       "      <td>1</td>\n",
       "      <td>1</td>\n",
       "      <td>2</td>\n",
       "      <td>0</td>\n",
       "    </tr>\n",
       "    <tr>\n",
       "      <th>3</th>\n",
       "      <td>2011-01-01 03:00:00</td>\n",
       "      <td>2011</td>\n",
       "      <td>1</td>\n",
       "      <td>1</td>\n",
       "      <td>3</td>\n",
       "      <td>0</td>\n",
       "    </tr>\n",
       "    <tr>\n",
       "      <th>4</th>\n",
       "      <td>2011-01-01 04:00:00</td>\n",
       "      <td>2011</td>\n",
       "      <td>1</td>\n",
       "      <td>1</td>\n",
       "      <td>4</td>\n",
       "      <td>0</td>\n",
       "    </tr>\n",
       "    <tr>\n",
       "      <th>...</th>\n",
       "      <td>...</td>\n",
       "      <td>...</td>\n",
       "      <td>...</td>\n",
       "      <td>...</td>\n",
       "      <td>...</td>\n",
       "      <td>...</td>\n",
       "    </tr>\n",
       "    <tr>\n",
       "      <th>67</th>\n",
       "      <td>2011-01-03 19:00:00</td>\n",
       "      <td>2011</td>\n",
       "      <td>1</td>\n",
       "      <td>3</td>\n",
       "      <td>19</td>\n",
       "      <td>0</td>\n",
       "    </tr>\n",
       "    <tr>\n",
       "      <th>68</th>\n",
       "      <td>2011-01-03 20:00:00</td>\n",
       "      <td>2011</td>\n",
       "      <td>1</td>\n",
       "      <td>3</td>\n",
       "      <td>20</td>\n",
       "      <td>0</td>\n",
       "    </tr>\n",
       "    <tr>\n",
       "      <th>69</th>\n",
       "      <td>2011-01-03 21:00:00</td>\n",
       "      <td>2011</td>\n",
       "      <td>1</td>\n",
       "      <td>3</td>\n",
       "      <td>21</td>\n",
       "      <td>0</td>\n",
       "    </tr>\n",
       "    <tr>\n",
       "      <th>70</th>\n",
       "      <td>2011-01-03 22:00:00</td>\n",
       "      <td>2011</td>\n",
       "      <td>1</td>\n",
       "      <td>3</td>\n",
       "      <td>22</td>\n",
       "      <td>0</td>\n",
       "    </tr>\n",
       "    <tr>\n",
       "      <th>71</th>\n",
       "      <td>2011-01-03 23:00:00</td>\n",
       "      <td>2011</td>\n",
       "      <td>1</td>\n",
       "      <td>3</td>\n",
       "      <td>23</td>\n",
       "      <td>0</td>\n",
       "    </tr>\n",
       "  </tbody>\n",
       "</table>\n",
       "<p>72 rows × 6 columns</p>\n",
       "</div>"
      ],
      "text/plain": [
       "                  date  year  month  day  hour  minute\n",
       "0  2011-01-01 00:00:00  2011      1    1     0       0\n",
       "1  2011-01-01 01:00:00  2011      1    1     1       0\n",
       "2  2011-01-01 02:00:00  2011      1    1     2       0\n",
       "3  2011-01-01 03:00:00  2011      1    1     3       0\n",
       "4  2011-01-01 04:00:00  2011      1    1     4       0\n",
       "..                 ...   ...    ...  ...   ...     ...\n",
       "67 2011-01-03 19:00:00  2011      1    3    19       0\n",
       "68 2011-01-03 20:00:00  2011      1    3    20       0\n",
       "69 2011-01-03 21:00:00  2011      1    3    21       0\n",
       "70 2011-01-03 22:00:00  2011      1    3    22       0\n",
       "71 2011-01-03 23:00:00  2011      1    3    23       0\n",
       "\n",
       "[72 rows x 6 columns]"
      ]
     },
     "execution_count": 8,
     "metadata": {},
     "output_type": "execute_result"
    }
   ],
   "source": [
    "# разбить дату на отдельные элементы можно так:\n",
    "\n",
    "rng = pd.DataFrame()\n",
    "rng['date'] = pd.date_range('1/1/2011', periods = 72, freq ='H')\n",
    " \n",
    "# Print the dates in dd-mm-yy format\n",
    "rng[:5]\n",
    "\n",
    "# заодно напомню себе, как можно легко экранировать исключить убрать целый блок кода из выполнения \n",
    "\"\"\"\n",
    "# Create features for year, month, day, hour, and minute\n",
    "rng['year'] = rng['date'].dt.year\n",
    "rng['month'] = rng['date'].dt.month\n",
    "rng['day'] = rng['date'].dt.day\n",
    "rng['hour'] = rng['date'].dt.hour\n",
    "rng['minute'] = rng['date'].dt.minute  \n",
    "\"\"\"\n",
    "rng['year'] = rng['date'].dt.year\n",
    "rng['month'] = rng['date'].dt.month\n",
    "rng['day'] = rng['date'].dt.day\n",
    "rng['hour'] = rng['date'].dt.hour\n",
    "rng['minute'] = rng['date'].dt.minute  \n",
    "\n",
    "rng"
   ]
  },
  {
   "attachments": {},
   "cell_type": "markdown",
   "metadata": {},
   "source": [
    "#### форматирование даты с помощью метода strftime()\n",
    "\n",
    "позволяет переписать считанное время в формат, какой ты захочешь: разбивка по значениям данных будет с удобным тебе разделителем\n",
    "\n",
    "в итоге вернется строка\n",
    "\n",
    "строго говоря, метод позволяет переводить время в f-строку со всем вытекающим синтаксисом\n",
    "\n",
    "удобно посмотреть таблицу форматирования здесь: https://stepik.org/lesson/570048/step/1?unit=564591"
   ]
  },
  {
   "cell_type": "code",
   "execution_count": 4,
   "metadata": {},
   "outputs": [
    {
     "name": "stdout",
     "output_type": "stream",
     "text": [
      "20230217\n",
      "02/17/2023\n",
      "2023-02-17-12.47.20\n",
      "23-02-17 \n",
      "12:47:20\n"
     ]
    }
   ],
   "source": [
    "import datetime\n",
    " \n",
    "a = datetime.datetime.today().strftime(\"%Y%m%d\")\n",
    "print(a) # '20170405'\n",
    " \n",
    "today = datetime.datetime.today()\n",
    "print( today.strftime(\"%m/%d/%Y\") ) # '04/05/2017'\n",
    " \n",
    "print( today.strftime(\"%Y-%m-%d-%H.%M.%S\") ) # 2017-04-05-00.18.00\n",
    "\n",
    "print(today.strftime(\"%y-%m-%d \\n%H:%M:%S\"))      # Если вам нужно указать год как двухзначный (“YY”), вы можете заменить %Y на %y."
   ]
  },
  {
   "attachments": {},
   "cell_type": "markdown",
   "metadata": {},
   "source": [
    "Локализация (перевод формата времени на русский язык)"
   ]
  },
  {
   "cell_type": "code",
   "execution_count": 4,
   "metadata": {},
   "outputs": [
    {
     "name": "stdout",
     "output_type": "stream",
     "text": [
      "пятница 10 марта 2023\n"
     ]
    },
    {
     "data": {
      "text/plain": [
       "datetime.date(2023, 3, 10)"
      ]
     },
     "execution_count": 4,
     "metadata": {},
     "output_type": "execute_result"
    }
   ],
   "source": [
    "from datetime import date\n",
    "import locale\n",
    "\n",
    "locale.setlocale(locale.LC_ALL, 'ru_RU.UTF-8')\n",
    "\n",
    "# locale.setlocale(locale.LC_ALL, 'en_EN.UTF-8') для английского\n",
    "\n",
    "my_date = date.today()\n",
    "print(my_date.strftime(\"%A %d %B %Y\")) \n",
    "\n",
    "my_date\n"
   ]
  },
  {
   "attachments": {},
   "cell_type": "markdown",
   "metadata": {},
   "source": [
    "#### работа с разницей между двумя событиями во времени\n",
    "при вычитании одной временной метки из другой мы получаем объект timedelta"
   ]
  },
  {
   "cell_type": "code",
   "execution_count": 64,
   "metadata": {},
   "outputs": [
    {
     "name": "stdout",
     "output_type": "stream",
     "text": [
      "2199\n",
      "69709\n"
     ]
    }
   ],
   "source": [
    "import datetime\n",
    " \n",
    "# текущее время\n",
    "now = datetime.datetime.now()\n",
    " \n",
    "then = datetime.datetime(2017, 2, 26)\n",
    " \n",
    "# Кол-во времени между датами.\n",
    "delta = now - then\n",
    " \n",
    "print(delta.days) # выведет число дней, между текущей датой и временем , сохраненным в переменной then\n",
    "print(delta.seconds) # аналогично секунд"
   ]
  },
  {
   "cell_type": "code",
   "execution_count": 10,
   "metadata": {},
   "outputs": [
    {
     "name": "stdout",
     "output_type": "stream",
     "text": [
      "52380.0\n",
      "54.0\n"
     ]
    }
   ],
   "source": [
    "seconds = delta.total_seconds()\n",
    "hours = seconds // 3600\n",
    " \n",
    "print(hours) # выведет точное количество часов разницы\n",
    " \n",
    "minutes = (seconds % 3600) // 60\n",
    "print(minutes) # выведет точное количество минут разницы"
   ]
  },
  {
   "attachments": {},
   "cell_type": "markdown",
   "metadata": {},
   "source": [
    "#### Модуль time\n",
    "Модуль time открывает разработчику Python доступ к нескольким связанным со временем функциям. \n",
    "\n",
    "Модуль основан на «эпохе», точке, с которой начинается время. \n",
    "\n",
    "Для систем Unix, эпоха началась в 1970 году. Чтобы узнать, какая эпоха в вашей системе, попробуйте запустить следующий код:"
   ]
  },
  {
   "cell_type": "code",
   "execution_count": 11,
   "metadata": {},
   "outputs": [
    {
     "name": "stdout",
     "output_type": "stream",
     "text": [
      "time.struct_time(tm_year=1970, tm_mon=1, tm_mday=1, tm_hour=0, tm_min=0, tm_sec=0, tm_wday=3, tm_yday=1, tm_isdst=0)\n"
     ]
    }
   ],
   "source": [
    "import time\n",
    "print(time.gmtime(0))"
   ]
  },
  {
   "attachments": {},
   "cell_type": "markdown",
   "metadata": {},
   "source": [
    "#### time.ctime\n",
    "Функция time.ctime конвертирует время в секунды, начиная с эпохи, в строку, показывающую местное время. Если вы ничего не передадите данной функции, то настоящее время вернется обратно"
   ]
  },
  {
   "cell_type": "code",
   "execution_count": 12,
   "metadata": {},
   "outputs": [
    {
     "name": "stdout",
     "output_type": "stream",
     "text": [
      "Fri Feb 17 12:57:15 2023\n",
      "Sun Nov 10 21:43:59 2013\n"
     ]
    }
   ],
   "source": [
    "import time\n",
    "print(time.ctime()) #  вернет текущее время\n",
    " \n",
    "print(time.ctime(1384112639)) # 'Sun Nov 10 13:43:59 2013'"
   ]
  },
  {
   "attachments": {},
   "cell_type": "markdown",
   "metadata": {},
   "source": [
    "#### time.sleep\n",
    "Функция time.sleep дает разработчику возможность приостановить выполнение его скрипта на определенное количество секунд. Это можно сравнить с добавлением функции «Пауза» в вашу программу. Я нашел этот класс особенно полезным, когда мне нужно было подождать несколько секунд, пока закроется файл, или база данных закончит выполнять свою задачу.\n",
    "\n",
    "\n",
    "при запуске кода вы увидите фразу «Slept for 2 seconds» пять раз, с интервалом в 2 секунды между каждым сообщением"
   ]
  },
  {
   "cell_type": "code",
   "execution_count": 69,
   "metadata": {},
   "outputs": [
    {
     "name": "stdout",
     "output_type": "stream",
     "text": [
      "Slept for 2 seconds\n",
      "Slept for 2 seconds\n",
      "Slept for 2 seconds\n",
      "Slept for 2 seconds\n",
      "Slept for 2 seconds\n"
     ]
    }
   ],
   "source": [
    "import time\n",
    " \n",
    "for x in range(5):\n",
    "    time.sleep(2)\n",
    "    print(\"Slept for 2 seconds\")"
   ]
  },
  {
   "attachments": {},
   "cell_type": "markdown",
   "metadata": {},
   "source": [
    "#### time.time\n",
    "Функция time.time отображает время в секундах, начиная с эпохи, как число с плавающей запятой. \n",
    "\n",
    "использовать данную функцию удобно, когда вам нужно сохранить настоящее время в базу данных, но вам не нужно конвертировать его в метод datetime вашей базы данных"
   ]
  },
  {
   "cell_type": "code",
   "execution_count": 15,
   "metadata": {},
   "outputs": [
    {
     "name": "stdout",
     "output_type": "stream",
     "text": [
      "1676628387.7934551\n"
     ]
    }
   ],
   "source": [
    "import time\n",
    " \n",
    "x = time.time()\n",
    "print(x)"
   ]
  },
  {
   "attachments": {},
   "cell_type": "markdown",
   "metadata": {},
   "source": [
    "возможно удобная плюшка:\n",
    "\n",
    " метод ctime принимает время в секундах, так что мы можем использовать time.time для получения количества секунд для передачи их ctime,"
   ]
  },
  {
   "cell_type": "code",
   "execution_count": 16,
   "metadata": {},
   "outputs": [
    {
     "name": "stdout",
     "output_type": "stream",
     "text": [
      "Fri Feb 17 13:07:46 2023\n"
     ]
    }
   ],
   "source": [
    "import time\n",
    " \n",
    "a = time.ctime(time.time())\n",
    "print(a)"
   ]
  },
  {
   "attachments": {},
   "cell_type": "markdown",
   "metadata": {},
   "source": [
    "### Работаем со временем (курс от beegeek python_for_pro )\n",
    "\n",
    "https://stepik.org/lesson/609341/step/1?unit=604560"
   ]
  },
  {
   "attachments": {},
   "cell_type": "markdown",
   "metadata": {},
   "source": [
    "Создание даты:\n",
    "\n",
    "Конструктор типа date сначала принимает год, затем месяц, а уже потом число. Мы также можем использовать именованные аргументы, нарушая указанный порядок date(day=6, month=10, year=1992)."
   ]
  },
  {
   "cell_type": "code",
   "execution_count": 3,
   "metadata": {},
   "outputs": [
    {
     "name": "stdout",
     "output_type": "stream",
     "text": [
      "Год = 1992\n",
      "Месяц = 10\n",
      "День = 6\n"
     ]
    }
   ],
   "source": [
    "from datetime import date\n",
    "\n",
    "my_date = date(day=6, month=10, year=1992)\n",
    "\n",
    "# выдернуть конкретные показатели времени можно так\n",
    "\n",
    "print('Год =', my_date.year)\n",
    "print('Месяц =', my_date.month)\n",
    "print('День =', my_date.day)"
   ]
  },
  {
   "attachments": {},
   "cell_type": "markdown",
   "metadata": {},
   "source": [
    "Текущая дата"
   ]
  },
  {
   "cell_type": "code",
   "execution_count": 4,
   "metadata": {},
   "outputs": [
    {
     "data": {
      "text/plain": [
       "datetime.date(2023, 3, 6)"
      ]
     },
     "execution_count": 4,
     "metadata": {},
     "output_type": "execute_result"
    }
   ],
   "source": [
    "from datetime import date\n",
    "\n",
    "creation_date = date.today()\n",
    "creation_date"
   ]
  },
  {
   "attachments": {},
   "cell_type": "markdown",
   "metadata": {},
   "source": [
    "        Взять название дня недели из даты:\n",
    "\n",
    "        0 = понедельник\n",
    "        1\n",
    "        1 = вторник\n",
    "        2\n",
    "        2 = среда\n",
    "        3\n",
    "        3 = четверг\n",
    "        4\n",
    "        4 = пятница\n",
    "        5\n",
    "        5 = суббота\n",
    "        6\n",
    "        6 = воскресенье"
   ]
  },
  {
   "cell_type": "code",
   "execution_count": 6,
   "metadata": {},
   "outputs": [
    {
     "data": {
      "text/plain": [
       "1"
      ]
     },
     "execution_count": 6,
     "metadata": {},
     "output_type": "execute_result"
    }
   ],
   "source": [
    "my_date.weekday()"
   ]
  },
  {
   "attachments": {},
   "cell_type": "markdown",
   "metadata": {},
   "source": [
    "Если требуется определить день недели с нумерацией, начиная с \n",
    "1\n",
    "1, то используется метод isoweekday()."
   ]
  },
  {
   "cell_type": "code",
   "execution_count": 7,
   "metadata": {},
   "outputs": [
    {
     "data": {
      "text/plain": [
       "1"
      ]
     },
     "execution_count": 7,
     "metadata": {},
     "output_type": "execute_result"
    }
   ],
   "source": [
    "creation_date.isoweekday()      # нумерация недели начинается с 1"
   ]
  },
  {
   "attachments": {},
   "cell_type": "markdown",
   "metadata": {},
   "source": [
    "Получить номер дня, соответствующий дате или получить дату, соответствующую номеру дня\n"
   ]
  },
  {
   "cell_type": "code",
   "execution_count": 8,
   "metadata": {},
   "outputs": [
    {
     "name": "stdout",
     "output_type": "stream",
     "text": [
      "0001-12-31\n",
      "730114\n"
     ]
    }
   ],
   "source": [
    "from datetime import date\n",
    "\n",
    "date1 = date.fromordinal(365)     # дата, соответствуюшая номеру дня 365\n",
    "date2 = date(1999, 12, 26)\n",
    "\n",
    "print(date1)\n",
    "print(date2.toordinal())          # номер дня, соответствующий дате 1999-12-26"
   ]
  },
  {
   "attachments": {},
   "cell_type": "markdown",
   "metadata": {},
   "source": [
    "#### Тип данных time\n",
    "\n",
    "При создании времени (тип данных time) нужно указать часы, минуты, секунды и микросекунды."
   ]
  },
  {
   "cell_type": "code",
   "execution_count": 11,
   "metadata": {},
   "outputs": [
    {
     "name": "stdout",
     "output_type": "stream",
     "text": [
      "12:59:33.001234\n"
     ]
    }
   ],
   "source": [
    "from datetime import time\n",
    "my_time = time(12, 59, 33, 1234)\n",
    "\n",
    "print(my_time)"
   ]
  },
  {
   "attachments": {},
   "cell_type": "markdown",
   "metadata": {},
   "source": [
    "обратиться к конкретному времени можно:"
   ]
  },
  {
   "cell_type": "code",
   "execution_count": 13,
   "metadata": {},
   "outputs": [
    {
     "name": "stdout",
     "output_type": "stream",
     "text": [
      "Часы = 12\n",
      "Минуты = 59\n",
      "Секунды = 33\n",
      "Микросекунды = 1234\n"
     ]
    }
   ],
   "source": [
    "print('Часы =', my_time.hour)\n",
    "print('Минуты =', my_time.minute)\n",
    "print('Секунды =', my_time.second)\n",
    "print('Микросекунды =', my_time.microsecond)"
   ]
  },
  {
   "attachments": {},
   "cell_type": "markdown",
   "metadata": {},
   "source": [
    "Для создания новой даты на основании уже существующей можно использовать встроенный метод replace(). Он возвращает новую дату с переданными измененными значениями свойств year, month, day."
   ]
  },
  {
   "cell_type": "code",
   "execution_count": 14,
   "metadata": {},
   "outputs": [
    {
     "name": "stdout",
     "output_type": "stream",
     "text": [
      "1992-10-06\n",
      "1995-10-06\n",
      "1992-12-17\n"
     ]
    }
   ],
   "source": [
    "date1 = date(1992, 10, 6)\n",
    "date2 = date1.replace(year=1995)            # заменяем год           \n",
    "date3 = date1.replace(month=12, day=17)     # заменяем месяц и число\n",
    "\n",
    "print(date1)\n",
    "print(date2)\n",
    "print(date3)"
   ]
  },
  {
   "attachments": {},
   "cell_type": "markdown",
   "metadata": {},
   "source": [
    "### ЗАДАЧИ"
   ]
  },
  {
   "attachments": {},
   "cell_type": "markdown",
   "metadata": {},
   "source": [
    "Вам доступен список dates, содержащий даты. Дополните приведенный ниже код, чтобы он вывел год и номер квартала каждой даты из данного списка. Компоненты дат должны быть расположены в исходном порядке, каждые на отдельной строке, в следующем формате:\n",
    "\n",
    "<год>-Q<номер квартала>"
   ]
  },
  {
   "cell_type": "code",
   "execution_count": 16,
   "metadata": {},
   "outputs": [
    {
     "name": "stdout",
     "output_type": "stream",
     "text": [
      "2010-Q3\n",
      "2017-Q1\n",
      "2009-Q4\n",
      "2010-Q1\n",
      "2021-Q4\n",
      "2020-Q1\n",
      "2000-Q3\n",
      "1999-Q2\n",
      "1789-Q4\n",
      "2013-Q3\n",
      "1666-Q2\n",
      "1968-Q2\n"
     ]
    }
   ],
   "source": [
    "from datetime import date\n",
    "\n",
    "dates = [date(2010, 9, 28), date(2017, 1, 13), date(2009, 12, 25), date(2010, 2, 27), date(2021, 10, 11), date(2020, 3, 13), date(2000, 7, 7), date(1999, 4, 14), date(1789, 11, 19), date(2013, 8, 21), date(1666, 6, 6), date(1968, 5, 26)]\n",
    "\n",
    "dic_quater = {range(1,4):'1', range(4,7):'2', range(7,10):'3', range(10,13):'4'}\n",
    "\n",
    "for dat in dates:\n",
    "    for key in dic_quater:\n",
    "        if dat.month in key: print(f'{dat.year}-Q{dic_quater[key]}')"
   ]
  },
  {
   "attachments": {},
   "cell_type": "markdown",
   "metadata": {},
   "source": [
    "\n",
    "Реализуйте функцию get_date_range(), которая принимает два аргумента в следующем порядке:\n",
    "\n",
    "start — начальная дата, тип date\n",
    "end — конечная дата, тип date\n",
    "Функция get_date_range() должна возвращать список, состоящий из дат (тип date) от start до end включительно. Если start > end, функция должна вернуть пустой список."
   ]
  },
  {
   "cell_type": "code",
   "execution_count": 21,
   "metadata": {},
   "outputs": [
    {
     "name": "stdout",
     "output_type": "stream",
     "text": [
      "2021-10-01\n",
      "2021-10-02\n",
      "2021-10-03\n",
      "2021-10-04\n",
      "2021-10-05\n"
     ]
    }
   ],
   "source": [
    "def get_date_range(start, end):\n",
    "    from datetime import date\n",
    "    dates_lst = list(range(start.toordinal(), end.toordinal()+1, 1))\n",
    "    return list(map(lambda x: date.fromordinal(x), dates_lst))\n",
    "\n",
    "\n",
    "date1 = date(2021, 10, 1)\n",
    "date2 = date(2021, 10, 5)\n",
    "\n",
    "print(*get_date_range(date1, date2), sep='\\n')"
   ]
  },
  {
   "attachments": {},
   "cell_type": "markdown",
   "metadata": {},
   "source": [
    "Реализуйте функцию saturdays_between_two_dates(), которая принимает два аргумента в следующем порядке:\n",
    "\n",
    "start — начальная дата, тип date\n",
    "\n",
    "end — конечная дата, тип date\n",
    "\n",
    "Функция должна возвращать количество суббот между датами start и end включительно."
   ]
  },
  {
   "cell_type": "code",
   "execution_count": 57,
   "metadata": {},
   "outputs": [
    {
     "name": "stdout",
     "output_type": "stream",
     "text": [
      "4\n"
     ]
    }
   ],
   "source": [
    "from datetime import timedelta, date\n",
    "\n",
    "def saturdays_between_two_dates(start, end):\n",
    "    if end < start:\n",
    "        start, end = end, start # если end раньше start, меняем местами переменные\n",
    "    days_between = (end - start).days + 1\n",
    "\n",
    "    # прикольный счетчик значений: собираем кортеж из единичек для каждой итерации цикла по дням, если этот день - суббота\n",
    "    # b считаем сумму этого кортежа\n",
    "    saturday_count = sum(1 for i in range(days_between) if (start + timedelta(i)).weekday() == 5)\n",
    "    return saturday_count\n",
    "\n",
    "date1 = date(2020, 7, 26)\n",
    "date2 = date(2020, 7, 2)\n",
    "\n",
    "print(saturdays_between_two_dates(date1, date2))"
   ]
  },
  {
   "attachments": {},
   "cell_type": "markdown",
   "metadata": {},
   "source": [
    "Конструкция try - except\n",
    "\n",
    "как считывать время с клавиатуры бесконечно раз, пока не будет все введено верно?"
   ]
  },
  {
   "cell_type": "code",
   "execution_count": 1,
   "metadata": {},
   "outputs": [
    {
     "name": "stdout",
     "output_type": "stream",
     "text": [
      "Введенная дата не является корректной, попробуйте еще раз\n",
      "Введенная дата не является корректной, попробуйте еще раз\n",
      "Введенная дата не является корректной, попробуйте еще раз\n",
      "Введена корректная дата: 3000-12-31\n"
     ]
    }
   ],
   "source": [
    "from datetime import date, time\n",
    "\n",
    "while True:\n",
    "    try:\n",
    "        day, month, year = input('Введите дату в формате ДД.ММ.ГГГГ').split('.')\n",
    "\n",
    "        my_date = date(int(year), int(month), int(day))\n",
    "\n",
    "        print('Введена корректная дата:', my_date)\n",
    "        break\n",
    "    except:      # перехватываем любую ошибку\n",
    "        print('Введенная дата не является корректной, попробуйте еще раз')"
   ]
  },
  {
   "attachments": {},
   "cell_type": "markdown",
   "metadata": {},
   "source": [
    "Ураган Эндрю, который обрушился на Флориду \n",
    "24\n",
    "24 августа \n",
    "1992\n",
    "1992 года, был одним из самых дорогостоящих и смертоносных ураганов в истории США. Дополните приведенный ниже код, чтобы он вывел дату \n",
    "24\n",
    "24 августа \n",
    "1992\n",
    "1992 года в трех различных форматах:\n",
    "\n",
    "в формате YYYY-MM\n",
    "\n",
    "в формате month_name (YYYY), где month_name – полное название месяца на английском\n",
    "\n",
    "в формате YYYY-day_number, где day_number – день года"
   ]
  },
  {
   "cell_type": "code",
   "execution_count": 2,
   "metadata": {},
   "outputs": [
    {
     "name": "stdout",
     "output_type": "stream",
     "text": [
      "1992-08\n",
      "August (1992)\n",
      "1992-237\n"
     ]
    }
   ],
   "source": [
    "from datetime import date\n",
    "\n",
    "andrew = date(1992, 8, 24)\n",
    "\n",
    "print(andrew.strftime('%Y-%m'))   # выводим дату в формате YYYY-MM\n",
    "print(andrew.strftime('%B (%Y)'))   # выводим дату в формате month_name (YYYY)\n",
    "print(andrew.strftime('%Y-%j'))   # выводим дату в формате YYYY-day_number"
   ]
  },
  {
   "attachments": {},
   "cell_type": "markdown",
   "metadata": {},
   "source": [
    "        Вывести наименьшую дату из двух введенных в формате ISO - причем в виде DD-MM (YYYY)"
   ]
  },
  {
   "cell_type": "code",
   "execution_count": null,
   "metadata": {},
   "outputs": [],
   "source": [
    "one, two = input(), input()\n",
    "\n",
    "from datetime import date\n",
    "\n",
    "def to_time(string):\n",
    "    return date.fromisoformat(string)\n",
    "\n",
    "print(min(map(to_time, [one,two])).strftime('%d-%m (%Y)'))\n"
   ]
  },
  {
   "attachments": {},
   "cell_type": "markdown",
   "metadata": {},
   "source": [
    "        Отсортированные даты: принимает на вход последовательность дат и выводит их в порядке неубывания."
   ]
  },
  {
   "cell_type": "code",
   "execution_count": null,
   "metadata": {},
   "outputs": [],
   "source": [
    "dates = [input() for _ in range(int(input()))]\n",
    "\n",
    "from datetime import date\n",
    "\n",
    "form_dates = sorted(map(lambda x: date.fromisoformat(x), dates))\n",
    "\n",
    "print(*[date_el.strftime('%d/%m/%Y') for date_el in form_dates])"
   ]
  },
  {
   "attachments": {},
   "cell_type": "markdown",
   "metadata": {},
   "source": [
    "        Функция print_good_dates()\n",
    "\n",
    "        Тимур считает дату «интересной», если её год совпадает с годом его рождения, а сумма номера месяца и номера дня равна его возрасту. Год рождения Тимура — 1992, возраст — 29 лет.\n",
    "\n",
    "        Функция должна выводить «интересные» даты в порядке возрастания, каждую на отдельной строке, в формате  month_name DD, YYYY, где month_name — полное название месяца на английском. \n",
    "\n",
    "        Примечание 1. Если в функцию передается пустой список или список без интересных дат, функция ничего не должна выводить"
   ]
  },
  {
   "cell_type": "code",
   "execution_count": 19,
   "metadata": {},
   "outputs": [
    {
     "name": "stdout",
     "output_type": "stream",
     "text": [
      "September 20, 1992\n",
      "October 19, 1992\n"
     ]
    }
   ],
   "source": [
    "def print_good_dates(dates):\n",
    "    from datetime import date\n",
    "    temp_lst = [somedate for somedate in dates if somedate.year ==1992 \\\n",
    "                  and somedate.month + somedate.day == 29]\n",
    "    good_dates = map(lambda x: x.strftime(\"%B %d, %Y\"),sorted(temp_lst))\n",
    "    return print(*good_dates, sep='\\n')\n",
    "\n",
    "dates = [date(1992, 10, 19), date(1991, 12, 6), date(1992, 9, 20)]\n",
    "\n",
    "print_good_dates(dates)"
   ]
  },
  {
   "cell_type": "code",
   "execution_count": 4,
   "metadata": {},
   "outputs": [
    {
     "data": {
      "text/plain": [
       "15"
      ]
     },
     "execution_count": 4,
     "metadata": {},
     "output_type": "execute_result"
    }
   ],
   "source": [
    "from datetime import date\n",
    "sd = date(1993, 9, 15)\n",
    "sd.day"
   ]
  },
  {
   "attachments": {},
   "cell_type": "markdown",
   "metadata": {},
   "source": [
    "        Функция вернет булево значение - проверка на корректность вводимой даты"
   ]
  },
  {
   "cell_type": "code",
   "execution_count": 24,
   "metadata": {},
   "outputs": [
    {
     "name": "stdout",
     "output_type": "stream",
     "text": [
      "False\n"
     ]
    }
   ],
   "source": [
    "def is_correct(day, month, year):\n",
    "    from datetime import date\n",
    "    try:\n",
    "        date(year,month,day)\n",
    "        return True\n",
    "\n",
    "    except:\n",
    "        return False\n",
    "\n",
    "print(is_correct(31, 13, 2021))"
   ]
  },
  {
   "attachments": {},
   "cell_type": "markdown",
   "metadata": {},
   "source": [
    "        Корректные даты\n",
    "        Напишите программу, которая принимает на вход последовательность дат и проверяет каждую из них на корректность.\n",
    "\n",
    "        Формат входных данных\n",
    "        На вход программе подается последовательность дат в формате DD.MM.YYYY, каждая на отдельной строке. Концом последовательности является слово end.\n",
    "\n",
    "        Формат выходных данных\n",
    "        Программа должна для каждой введенной даты вывести текст Корректная или Некорректная в зависимости от того, является ли дата корректной, а затем вывести количество корректных дат."
   ]
  },
  {
   "cell_type": "code",
   "execution_count": null,
   "metadata": {},
   "outputs": [],
   "source": [
    "dates = [input()]\n",
    "while input()!= 'end':\n",
    "    dates.append(input())\n",
    "verified_dates = "
   ]
  },
  {
   "cell_type": "code",
   "execution_count": 6,
   "metadata": {},
   "outputs": [
    {
     "name": "stdout",
     "output_type": "stream",
     "text": [
      "Корректная\n",
      "Некорректная\n",
      "Корректная\n",
      "Корректная\n",
      "Некорректная\n",
      "3\n"
     ]
    }
   ],
   "source": [
    "dates_temp = []\n",
    "\n",
    "from datetime import date\n",
    "while 'end' not in dates_temp:\n",
    "    dates_temp.append(input())\n",
    "\n",
    "\n",
    "dates = [map(int, el.split('.')[::-1]) for el in dates_temp[:-1]]\n",
    "\n",
    "def is_correct(some_date):\n",
    "    from datetime import date\n",
    "    year,month,day = some_date\n",
    "    try:\n",
    "        date(year,month,day)\n",
    "        return 'Корректная'\n",
    "\n",
    "    except:\n",
    "        return 'Некорректная'\n",
    "\n",
    "res_lst = list(map(is_correct, dates))\n",
    "\n",
    "print(*res_lst, sep = '\\n')\n",
    "print(len([elem for elem in res_lst if elem == 'Корректная']))\n",
    "\n"
   ]
  },
  {
   "attachments": {},
   "cell_type": "markdown",
   "metadata": {},
   "source": [
    "Комбинирование datetime отдлельно из даты и времени - метод combine"
   ]
  },
  {
   "cell_type": "code",
   "execution_count": 8,
   "metadata": {},
   "outputs": [
    {
     "name": "stdout",
     "output_type": "stream",
     "text": [
      "1992-10-06 10:45:17\n"
     ]
    }
   ],
   "source": [
    "from datetime import date, time, datetime\n",
    "\n",
    "my_date = date(1992, 10, 6)\n",
    "my_time = time(10, 45, 17)\n",
    "my_datetime = datetime.combine(my_date, my_time)\n",
    "\n",
    "print(my_datetime)"
   ]
  },
  {
   "attachments": {},
   "cell_type": "markdown",
   "metadata": {},
   "source": [
    "        Всемирное координированное время (Coordinated Universal Time, UTC) — стандарт, по которому общество регулирует часы и время. Московское время соответствует UTC+3."
   ]
  },
  {
   "cell_type": "code",
   "execution_count": 9,
   "metadata": {},
   "outputs": [
    {
     "name": "stdout",
     "output_type": "stream",
     "text": [
      "2023-03-13 08:17:17.244494\n",
      "2023-03-13 05:17:17.247980\n"
     ]
    }
   ],
   "source": [
    "print(datetime.now())           # текущее локальное время (московское) на момент запуска программы\n",
    "print(datetime.utcnow())        # текущее UTC время на момент запуска программы"
   ]
  },
  {
   "attachments": {},
   "cell_type": "markdown",
   "metadata": {},
   "source": [
    "### Перевести строку в объект datetime - метод strptime "
   ]
  },
  {
   "cell_type": "code",
   "execution_count": 10,
   "metadata": {},
   "outputs": [
    {
     "name": "stdout",
     "output_type": "stream",
     "text": [
      "2034-08-10 13:55:59\n",
      "2021-08-10 00:00:00\n",
      "2021-08-10 00:00:00\n",
      "1900-01-01 18:20:34\n",
      "2021-08-10 00:00:00\n",
      "2021-08-10 00:00:00\n",
      "2021-08-10 18:00:00\n"
     ]
    }
   ],
   "source": [
    "from datetime import datetime\n",
    "\n",
    "datetime0 = datetime.strptime('10.08.2034 13:55:59', '%d.%m.%Y %H:%M:%S')\n",
    "datetime1 = datetime.strptime('10/08/21', '%d/%m/%y')\n",
    "datetime2 = datetime.strptime('Tuesday 10, August 2021', '%A %d, %B %Y')\n",
    "datetime3 = datetime.strptime('18.20.34', '%H.%M.%S')\n",
    "datetime4 = datetime.strptime('2021/08/10', '%Y/%m/%d')\n",
    "datetime5 = datetime.strptime('10.08.2021 (Tuesday, August)', '%d.%m.%Y (%A, %B)')\n",
    "datetime6 = datetime.strptime('Year: 2021, Month: 08, Day: 10, Hour: 18.', 'Year: %Y, Month: %m, Day: %d, Hour: %H.')\n",
    "\n",
    "print(datetime0, datetime1, datetime2, datetime3, datetime4, datetime5, datetime6, sep='\\n')"
   ]
  },
  {
   "attachments": {},
   "cell_type": "markdown",
   "metadata": {},
   "source": [
    "Для создания новой даты-времени на основании уже существующей можно использовать метод replace(). Он возвращает новый объект datetime с переданными измененными значениями атрибутов."
   ]
  },
  {
   "cell_type": "code",
   "execution_count": 11,
   "metadata": {},
   "outputs": [
    {
     "name": "stdout",
     "output_type": "stream",
     "text": [
      "1992-10-06 10:12:45\n",
      "1995-12-06 10:12:45\n",
      "1992-10-17 14:37:45\n"
     ]
    }
   ],
   "source": [
    "datetime1 = datetime(1992, 10, 6, 10, 12, 45)\n",
    "datetime2 = datetime1.replace(year=1995, month=12)         \n",
    "datetime3 = datetime1.replace(day=17, hour=14, minute=37)\n",
    "\n",
    "print(datetime1)\n",
    "print(datetime2)\n",
    "print(datetime3)"
   ]
  },
  {
   "attachments": {},
   "cell_type": "markdown",
   "metadata": {},
   "source": [
    "Удобство работы с методом strftime и с strptime в том, что методы полноценно работают именно как f-строки:\n",
    "- можно вводить и использовать текст целиком, чтобы взять оттуда дату"
   ]
  },
  {
   "cell_type": "code",
   "execution_count": 12,
   "metadata": {},
   "outputs": [
    {
     "name": "stdout",
     "output_type": "stream",
     "text": [
      "2021-02-11 18:09:00\n"
     ]
    }
   ],
   "source": [
    "from datetime import datetime\n",
    "\n",
    "text = 'Дорогой дневник, 11.02.2021 произошло нечто невероятное. На часах было 18:09..'\n",
    "pattern = 'Дорогой дневник, %d.%m.%Y произошло нечто невероятное. На часах было %H:%M..'\n",
    "\n",
    "dt = datetime.strptime(text, pattern)\n",
    "\n",
    "print(dt)   # вернет дату, считанную из strf-строки "
   ]
  },
  {
   "attachments": {},
   "cell_type": "markdown",
   "metadata": {},
   "source": [
    "Преобразовать секунды seconds (прошедшие от начала эпохи) в объект datetime и, наоборот, объект datetime в секунды (прошедшие от начала эпохи)."
   ]
  },
  {
   "cell_type": "code",
   "execution_count": 13,
   "metadata": {},
   "outputs": [
    {
     "name": "stdout",
     "output_type": "stream",
     "text": [
      "2048-09-09 04:46:40\n",
      "1320357600.0\n"
     ]
    }
   ],
   "source": [
    "from datetime import datetime\n",
    "\n",
    "seconds = 2483228800\n",
    "dt = datetime(2011, 11, 4)\n",
    "\n",
    "print(datetime.fromtimestamp(seconds))\n",
    "print(dt.timestamp())"
   ]
  },
  {
   "attachments": {},
   "cell_type": "markdown",
   "metadata": {},
   "source": [
    "### Задачи"
   ]
  },
  {
   "attachments": {},
   "cell_type": "markdown",
   "metadata": {},
   "source": [
    "Вам доступен список times_of_purchases, содержащий даты (тип datetime), в которые были совершены покупки в некотором интернет-магазине. Дополните приведенный ниже код, чтобы он вывел текст До полудня, если большее число покупок было совершено до полудня, или текст После полудня в противном случае."
   ]
  },
  {
   "cell_type": "code",
   "execution_count": 37,
   "metadata": {},
   "outputs": [
    {
     "name": "stdout",
     "output_type": "stream",
     "text": [
      "После полудня\n"
     ]
    }
   ],
   "source": [
    "from datetime import datetime\n",
    "\n",
    "times_of_purchases = [datetime(2017, 10, 1, 12, 23, 25), datetime(2017, 10, 1, 15, 26, 26), \n",
    "                      datetime(2017, 10, 1, 15, 42, 57), datetime(2017, 10, 1, 17, 49, 59), \n",
    "                      datetime(2017, 10, 2, 6, 37, 10), datetime(2017, 10, 2, 6, 42, 53), \n",
    "                      datetime(2017, 10, 2, 8, 56, 45), datetime(2017, 10, 2, 9, 18, 3), \n",
    "                      datetime(2017, 10, 2, 12, 23, 48), datetime(2017, 10, 2, 12, 45, 5), \n",
    "                      datetime(2017, 10, 2, 12, 48, 8), datetime(2017, 10, 2, 12, 10, 54), \n",
    "                      datetime(2017, 10, 2, 19, 18, 10), datetime(2017, 10, 2, 12, 31, 45), \n",
    "                      datetime(2017, 10, 3, 20, 57, 10), datetime(2017, 10, 4, 7, 4, 57), \n",
    "                      datetime(2017, 10, 4, 7, 13, 31), datetime(2017, 10, 4, 7, 13, 42), \n",
    "                      datetime(2017, 10, 4, 7, 21, 54), datetime(2017, 10, 4, 14, 22, 12), \n",
    "                      datetime(2017, 10, 4, 14, 50), datetime(2017, 10, 4, 15, 7, 27), \n",
    "                      datetime(2017, 10, 4, 12, 44, 49), datetime(2017, 10, 4, 12, 46, 41), \n",
    "                      datetime(2017, 10, 4, 16, 32, 33), datetime(2017, 10, 4, 16, 34, 44), \n",
    "                      datetime(2017, 10, 4, 16, 46, 59), datetime(2017, 10, 4, 12, 26, 6)]\n",
    "\n",
    "bool_dates =list(map(lambda x: x.hour>=12, times_of_purchases))\n",
    "\n",
    "print(('До полудня', \"После полудня\")\\\n",
    "      [bool_dates.count(True) >  \\\n",
    "       bool_dates.count(False)])\n"
   ]
  },
  {
   "attachments": {},
   "cell_type": "markdown",
   "metadata": {},
   "source": [
    "Вам доступны список dates, содержащий даты, и список times, содержащий времена. Количество элементов в этих списках одинаковое. Дополните приведенный ниже код, чтобы он вывел datetime объекты, полученные путем объединения элементов списков dates и times, находящихся на одинаковых позициях. Полученные объекты должны быть расположены в порядке возрастания секунд, каждый на отдельной строке."
   ]
  },
  {
   "cell_type": "code",
   "execution_count": 40,
   "metadata": {},
   "outputs": [
    {
     "name": "stdout",
     "output_type": "stream",
     "text": [
      "1239-02-05 11:47:01\n",
      "0229-01-24 09:40:02\n",
      "0167-04-16 17:47:09\n",
      "0479-09-06 09:14:09\n",
      "1410-03-11 21:02:10\n",
      "1957-07-14 17:27:10\n",
      "1793-08-23 07:33:27\n",
      "0197-08-24 17:55:40\n",
      "0804-11-12 17:20:47\n",
      "0295-01-23 12:42:56\n",
      "0327-08-24 15:09:57\n",
      "0632-06-04 20:08:59\n"
     ]
    }
   ],
   "source": [
    "from datetime import date, time, datetime\n",
    "\n",
    "dates = [date(1793, 8, 23), date(1410, 3, 11), date(804, 11, 12), date(632, 6, 4),\n",
    "         date(295, 1, 23), date(327, 8, 24), date(167, 4, 16), date(229, 1, 24), \n",
    "         date(1239, 2, 5), date(1957, 7, 14), date(197, 8, 24), date(479, 9, 6)]\n",
    "\n",
    "times = [time(7, 33, 27), time(21, 2, 10), time(17, 20, 47), time(20, 8, 59), \n",
    "         time(12, 42, 56), time(15, 9, 57), time(17, 47, 9), time(9, 40, 2), \n",
    "         time(11, 47, 1), time(17, 27, 10), time(17, 55, 40), time(9, 14, 9)]\n",
    "\n",
    "print(*sorted([datetime.combine(dates[i], times[i]) for i in range(len(dates))],\n",
    "               key=lambda x:x.second), sep = '\\n')"
   ]
  },
  {
   "attachments": {},
   "cell_type": "markdown",
   "metadata": {},
   "source": [
    "Ученики онлайн-школы BEEGEEK решили выяснить, кто из них быстрее всех решит домашнее задание по математике. Для этого каждый ученик зафиксировал время начала и окончания решения своей домашней работы.\n",
    "\n",
    "Вам доступен словарь data, содержащий результаты учеников. Ключом в словаре является имя ученика, а значением — кортеж, первый элемент которого — время начала решения, второй элемент — время окончания решения. Дополните приведенный ниже код, чтобы он вывел имя ученика, который затратил на решение домашнего задания меньше всего времени."
   ]
  },
  {
   "cell_type": "code",
   "execution_count": 57,
   "metadata": {},
   "outputs": [
    {
     "name": "stdout",
     "output_type": "stream",
     "text": [
      "Егор\n"
     ]
    }
   ],
   "source": [
    "from datetime import datetime\n",
    "\n",
    "data = {'Дима': ('03.11.2021 09:31:18', '03.11.2021 11:41:28'), \n",
    "        'Геор': ('01.11.2021 09:03:04', '01.11.2021 12:40:35'), \n",
    "        'Анна': ('02.11.2021 04:41:54', '02.11.2021 05:39:40'), \n",
    "        'Илина': ('02.11.2021 01:36:40', '02.11.2021 04:48:27'), \n",
    "        'Герман': ('04.11.2021 07:51:19', '04.11.2021 09:53:53'), \n",
    "        'Руслан': ('01.11.2021 11:26:06', '01.11.2021 12:56:24'), \n",
    "        'Лера': ('03.11.2021 11:09:41', '03.11.2021 14:37:41'), \n",
    "        'Егор': ('03.11.2021 05:29:38', '03.11.2021 06:01:59'), \n",
    "        'Максим': ('05.11.2021 13:05:03', '05.11.2021 14:27:41'), \n",
    "        'Саша': ('03.11.2021 04:14:26', '03.11.2021 05:10:58'), \n",
    "        'Марина': ('05.11.2021 15:21:06', '05.11.2021 18:33:46')}\n",
    "\n",
    "import numpy as np\n",
    "\n",
    "dic_timestamps_delta = {key: abs(np.diff(list(map(lambda x: (datetime.timestamp(datetime.strptime(x,'%d.%m.%Y %H:%M:%S')))\n",
    "                                                    ,list(data[key])))))[0] \\\n",
    "                  for key in data}\n",
    "\n",
    "for key in dic_timestamps_delta:\n",
    "    if dic_timestamps_delta[key] == min(dic_timestamps_delta.values()):\n",
    "        print(key)"
   ]
  },
  {
   "attachments": {},
   "cell_type": "markdown",
   "metadata": {},
   "source": [
    "Дневник космонавта 🌶️\n",
    "\n",
    "Вам доступен текстовый файл diary.txt, в который космонавт записывал небольшие отчёты за день. Каждый новый отчёт он мог записать либо в начало файла, либо в середину, либо в конец. Все отчеты разделены между собой пустой строкой. Каждый новый отчёт начинается со строки с датой и временем в формате DD.MM.YYYY; HH:MM, после которой следуют события, произошедшие за указанный день:\n",
    "\n",
    "Напишите программу, которая расставляет все записи космонавта в хронологическом порядке и выводит полученный результат.\n",
    "\n",
    "\n"
   ]
  },
  {
   "attachments": {},
   "cell_type": "markdown",
   "metadata": {},
   "source": [
    "Дикий кайф:\n",
    "\n",
    "- читаем файл ЦЕЛИКОМ! непострочно\n",
    "- бьем файл в список по строкам, разделенным ДВУМЯ переходами на новую строку\n",
    "- сортируем список с ключом = дата (а дату переводим в тип datetime)\n",
    "- печатаем с переходом на новую строку\n",
    "\n"
   ]
  },
  {
   "cell_type": "code",
   "execution_count": 169,
   "metadata": {},
   "outputs": [
    {
     "name": "stdout",
     "output_type": "stream",
     "text": [
      "26.02.2008; 18:55\n",
      "I can't believe I've been up here for 3 weeks already. It's been overwhelming in so many ways.\n",
      "\n",
      "27.02.2008; 19:51\n",
      "The past three weeks have been a blur of new sensations, out-of-this-world experiences, and hard work.\n",
      "\n",
      "01.03.2008; 18:01\n",
      "The launch was amazing - very smooth - it could have been a ride at an amusement park.\n",
      "For those of us on the middeck (without windows), it was just a little shaking and rumbling, surprisingly benign.\n",
      "Of course, the G's picked up, dropped off as we pass through the maximum dynamic pressure phase (for those who know what I'm talking about), and then ramped back up again to 3 G's.\n",
      "Having recently spent some time in the Russian centrifuge to practice emergency Soyuz descents, which can hit 8 G's for up to around 40 seconds, 3 G's is easy.\n",
      "The fact that it is sustained for a few minutes makes it a little uncomfortable, but it was little more than confirmation that we're getting somewhere.\n",
      "\n",
      "02.03.2008; 17:43\n",
      "It was a great ride up. I couldn't believe that a lifetime of wishing for this was suddenly happening all in that moment.\n",
      "It was an unforgettable 8 1/2 minutes.\n",
      "\n",
      "04.03.2008; 21:59\n",
      "Adapting to zero-G has been a lot of fun.\n",
      "We had many hours of busy work to do immediately 'post insertion,' as we call it.\n",
      "Of course, as soon as I possibly could I went up to the flight deck to see the view, and wow, it was incredible.\n",
      "The first sensation of looking out the window was very disorienting. Everything seemed to be floating - me, the shuttle, and the Earth, and all in different orientations.\n",
      "\n",
      "08.03.2008; 22:03\n",
      "That next day was very busy getting the shuttle ready for the work we were going to do on the station - preparing equipment and supplies for transfer, checking out the EVA suits, maneuvering the shuttle, and learning how to do everything in zero-G.\n",
      "The best part of the initial flight was approaching the space station.\n",
      "When we first caught sight of it, the view was straight out of a science fiction movie, it was awesome.\n",
      "Usually the shuttle flies sort-of upside down and backwards - this is best for thermal radiation, communication, and micrometeoroid protection. So normally, looking up out of the overhead windows is looking straight down at the Earth, and the front windows point in the direction you just came from. For approaching the station, though, we were in a 'normal' airplane-type attitude - so wings level, Earth below, facing forward.\n",
      "The view from the cockpit of the shuttle was just staggering. You could see more than 180 degrees from the left to right side of the cockpit, and the sense of flying over the Earth in a spaceship was just incredible.\n",
      "It was at this moment that I realized what is so special about the view from up here, and it is not what I anticipated.\n",
      "\n",
      "11.03.2008; 16:13\n",
      "In an airplane, during the day, the sky is, of course, still blue, no matter how high you go.\n",
      "If you fly higher you see further, so that is not unexpected.\n",
      "But the first thing that hit me with this view was that it was daylight, we were flying over the sunlit side of the Earth, yet most of what we saw out the window was the pitch blackness of empty space.\n",
      "It didn't matter that I've seen it this way on Star Trek or any other science fiction movie a thousand times.\n",
      "Seeing so much blackness, while seeing the Earth so brightly lit, was a contrast that surprised me more than expected.\n",
      "Although we are not so far away from the Earth in this orbit, different from being in an aircraft, the sensation was of two objects, our ship and the Earth, both floating in a dark void.\n",
      "And then there was another feeling. It wasn't that the Earth looked small, in fact it looks huge - the biggest thing you've ever seen - but from here you can see its shape, its size, and you get a gut feeling of being able to measure it with your own eyes.\n",
      "It's not the view, but this feeling that goes with it, of being able to measure it, that really washed over me as we began our approach to the station.\n",
      "\n",
      "14.03.2008; 17:14\n",
      "The first sight of the station was so cool.\n",
      "If you've ever flown at night, you know how you can easily spot other aircraft.\n",
      "There are all the lights on the ground, and then if you scan the above horizon you see the lights of other aircraft.\n",
      "They are so easy to pick out because somehow you have a viewpoint that enables you to see other aircraft at your altitude (or above).\n",
      "With the Earth below and darkness above, the space station first appeared as a bright dot - clearly, or seemingly, the only other spaceship above the planet.\n",
      "It didn't take long before it started taking shape, and then it grew more and more beautiful as its details came into focus.\n",
      "Having seen all the various parts of the station in training in various countries, it was still an unbelievable image to see this massive structure cruising along at 17,500 miles per hour high above the Earth.\n",
      "It's as large as two football fields side-by-side, and seeing all the pieces together forming one coherent spaceship was very impressive.\n",
      "\n",
      "15.03.2008; 20:32\n",
      "The space station is a huge and very impressive facility that we humans have somehow managed to build.\n",
      "There's no doubt that building this space station is one of humanitys greatest achievements.\n",
      "Despite working on it for 15 years, and knowing what every part of it looks like in great detail, I felt like I was seeing it for the very first time.\n",
      "It was the real thing - not a mock-up, not a simulation, not a picture, but another spaceship, a huge one, flying in formation with us in space.\n",
      "How cool is that? Wow! Incredible. It felt like we were in a movie. What could be more cool than this?\n",
      "Well, opening the hatches and being greeted, not by space aliens, but by some of your best friends.\n",
      "\n",
      "17.03.2008; 19:09\n",
      "Just before docking, Garrett called on the radio and said, You guys have no idea how happy we are to see you.\n",
      "Arriving at my new home for the next 6 months, I felt exactly the same. How wonderful it was to meet our friends and colleagues who we have trained and traveled with for years, in this amazing place.\n",
      "Every one of the 10 of us, who spent the next 10 days on the station together, have been astronauts or cosmonauts for about 10 years (a few 8, a few others 12).\n",
      "Eight of us were still rookies prior to this mission.\n",
      "The first time I met Sergei, our commander on the station, we did a water survival course together in the Black Sea - that was 7 years ago.\n",
      "Mike Fossum, Garrett Reisman, and Ken Ham were all in my class - the 17th group selected in 1998.\n",
      "We've done everything from wilderness survival to T-38 training to field geology trips together.\n",
      "Karen Nyberg and I supported the Expedition 6 crew on the space station together - that was 3 years of traveling to/from Russia during their training, working in Mission Control as CapCom during their mission, and supporting their families, especially when the Columbia accident occurred and they were the crew who was still onboard the station. Sergei, Oleg, and I have been training together for the better part of a year, but all three of us have been training specifically for a long-duration space station mission for much longer - many years.\n",
      "Anyway, one of the really neat things about this whole adventure is that by the time you're doing it, everyone you're doing it with is a long-time friend.\n",
      "This even holds true for the folks on the ground. Every voice I've heard on the radio so far has been someone that I know.\n",
      "\n",
      "22.03.2008; 13:37\n",
      "The next 10 days were just a blur of activity.\n",
      "My role was divided mainly between robotics and EVA preparation.\n",
      "The mission was otherwise non-stop robotics using 3 different robotic arms. As you know, it all went incredibly well - exactly as planned.\n",
      "The simulations on the ground are so perfect, that it was difficult to keep in mind that something huge was actually moving out there.\n",
      "We just went through the procedures and a myriad of checks and double-checks as we always did in training. Grappling, moving and connecting large space modules were amazingly straight forward given the incredible tools we have and the army of experts on the ground who built them and know what they're doing.\n",
      "\n",
      "23.03.2008; 19:16\n",
      "The robotics was a lot of fun, and opening the Kibo (JEM - Japanese Experiment Module) and flying in there for the first time was really something.\n",
      "At first it did not have any panels or racks installed, and so we had most of the cylindrical volume open.\n",
      "It was, and still is, by far, the largest and most open volume within the station.\n",
      "For a few wild and crazy minutes we had 10 people flying around in all directions.\n",
      "Then back to work, and the next several days involved installing system and science racks, hooking everything up to cooling, power, data, air-flow, etc.\n",
      "\n",
      "25.03.2008; 23:31\n",
      "At the far end of the JEM, there are two very large, port-facing windows, which are awesome.\n",
      "Most other windows on the station point down, which is great for Earth observations and photography, but you can't get a big picture perspective from that view.\n",
      "The JEM windows face the horizon, and the views are incredible.\n",
      "No doubt I'll be spending much of my free time gazing out of those windows, looking over the Earth, and just wondering what it all means.\n",
      "\n",
      "26.03.2008; 19:17\n",
      "I'm sealed inside the descent capsule of the Soyuz vehicle, while my crew-mates perform their first Russian spacewalk (EVA).\n",
      "At this moment Sergei and Oleg are in their spacesuits and going through their checkouts before opening the hatch.\n",
      "\n",
      "02.04.2008; 17:52\n",
      "Why am I in the Soyuz? Well, the Soyuz is docked to the Russian docking compartment, and this is the module from which they need to depress and repress for the EVA.\n",
      "Since the Soyuz is our rescue vehicle, I need to be able to reach it in case of an emergency.\n",
      "During the EVA the docking compartment will be at vacuum, so if I stayed on the station, there would be a vacuum between me and the rescue vehicle.\n",
      "So the result is that I had to move from the voluminous and comfortable space station to the incredibly compact descent capsule.\n",
      "\n",
      "03.04.2008; 18:22\n",
      "So it is me plus three spacesuits (of the re-entry type, not spacewalking type) and a ton of other stuff that they wanted us to have with us in case of an emergency.\n",
      "Should there be some kind of serious problem during the EVA, such as not being able to repressurize the docking compartment, the idea is that they would enter the Soyuz upper compartment, and they would repressurize within the Soyuz.\n",
      "In that case we would still be all together and could leave the Space station, re-dock to another docking port, and/or return to Earth if the situation called for that.\n",
      "So to prepare for this remote possibility, we just finished closing all the hatches within the station, isolating all the modules from each other, and otherwise did a long list of tasks that give the ground the greatest flexibility in managing the station in the case that there is no crew onboard for a while.\n",
      "My greatest concern right now is just that the EVA goes smoothly and safely, and that we can get back into the station when it's all over.\n",
      "\n",
      "04.04.2008; 18:55\n",
      "With all the extra stuff in the Soyuz descent module, I have just enough room to be wedged between the control panel and the seats.\n",
      "Lying across the 3 seats, I still cant straighten my legs (but almost).\n",
      "I have the 3 suits in the 3 seats, plus I have a huge extra bag of supplies and equipment.\n",
      "\n",
      "05.04.2008; 16:17\n",
      "Obviously, Ive got a laptop computer.\n",
      "I also have some extra batteries, some food and water, extra clothes because it gets cold in here, a camera, a book, and, most importantly, Ive got several episodes of Star Trek and StarGate I on my computer to watch.\n",
      "So this is my plan... I'm going to watch the world go by out the window and watch Star Trek on my laptop.\n",
      "That way, I can marvel at our planet and our existence, while dreaming of the future. What could be better than that!?\n",
      "\n",
      "07.04.2008; 20:20\n",
      "OK, 4 hours later now, and on my 3rd of 5 laptop batteries.\n",
      "Ive got a great setup here. I need to keep the headset on to talk to Mission Control in Moscow if needed (and to answer their calls).\n",
      "But Ive got my ear-buds under the headset and hooked up to my portable media player.\n",
      "So at the moment I'm listening to some great jazz music.\n",
      "What a great feeling it is to be here! I was going to say that it seems like Gods view of everything we know, but actually, the grandeur of this view might be attributed more to its simplicity or purity.\n",
      "\n",
      "09.04.2008; 17:31\n",
      "The sky is pitch black, as black as black can get, and this is immediately adjacent to the sunlit Earth, which is so bright you can hardly look at it.\n",
      "The ocean is a rich and bright blue. The clouds form bright white and artistic patterns on a continental scale.\n",
      "The shorelines seem like theyve been drawn freehand and are everywhere, very sharp boundaries between brown and blue.\n",
      "The scale of everything and the clarity are just overwhelming and so beautiful.\n",
      "On the other hand, there is so much beauty and complexity that you cannot see from here.\n",
      "The contrast between the view and the detail is striking.\n",
      "There is this immense wonder of nature below me, but hidden within it is the complexity of the civilization that it must host in order to create my current situation.\n",
      "The history and culture and knowledge and infrastructure and technology that is required to somehow put me here at this particular window listening to great jazz – there is no way to even begin to appreciate the richness and complexity we have down there without swooping all the way down and being equally overwhelmed by the variety of life, culture, cities, arts, science and machinery that we humans somehow developed from the pure Earth, air, water, and fire (the sun) seen from here.\n",
      "\n",
      "11.04.2008; 22:46\n",
      "The Soyuz vehicle is shaking back and forth and I see some sunlit particles flying off into space.\n",
      "It must be Sergei and Oleg climbing around on the outside.\n",
      "They are cutting away a part of the micrometeoroid and thermal protection blanket to access one of the pyro bolts that may have been the source of the problem with the last Soyuz re-entry.\n",
      "One of their tasks is to remove one of these bolts and bring it inside.\n",
      "Their work today may help the Control Center in Moscow understand what is going on with these pyro bolts, and it may also hopefully prevent a similar incident with this Soyuz when they ride it home in October.\n",
      "Its cool to see these small pieces float away, but on the other hand, I know that these are new pieces of debris that are moving at 28,000 km/hr, and unless they happen to be in exactly your orbit, they can hit you with a good fraction of that velocity.\n",
      "\n",
      "12.04.2008; 21:38\n",
      "My 3rd battery is about to quit.\n",
      "Its actually a really cool feeling to be isolated in this capable little spacecraft, looking out over the Earth, while typing this journal.\n",
      "I wish my office had a view like this (although it does have the advantage of a bathroom down the hall!).\n",
      "\n",
      "13.04.2008; 22:15\n",
      "All is peaceful and quiet on the Station and seemingly on Earth.\n",
      "There's a continuous humming sound onboard, which is only really noticeable at a time like this.\n",
      "It's reassuring somehow. It feels like the hum of an engine running and I always have to fight the sensation that this background noise is something that keeps us speeding along through space.\n",
      "Actually, it is just the sound of fans that are continuously circulating the air.\n",
      "We're so accustomed to the idea that an engine must be running to keep a vehicle going, that the explanation for the sound is practically a subconscious response.\n",
      "I found out how deeply I'm connected to this sound when the other night I woke up because it stopped.\n",
      "I would have never thought it possible to wake me up by turning off a noise. That was yesterday and it was a very difficult day for us.\n",
      "On the very last operational day of Expedition 17 we found ourselves on a Space Station in survival mode.\n",
      "\n",
      "15.04.2008; 15:53\n",
      "I guess it was Murphy's Law's way of making sure we got to see it all during our mission. Two days ago we lost the liquid separator pump for our toilet.\n",
      "At first, it didn't seem to be a similar problem to what had happened before I arrived over 4 months ago.\n",
      "My colleagues configured the Soyuz vehicle facilities to support us in the meantime, but there's a maximum of a two-day capacity there.\n",
      "That same night one of the relay channels failed on the Russian segment, which resulted in a cascade of failures that I believe explains why some faulty smoke detector signals went off, thus shutting down all the air circulation, oxygen generation, CO2 scrubbing, and impurity removal.\n",
      "This is an automatic response to prevent a fire from spreading.\n",
      "At the same time, some aspect of the original failure caused a loss of other systems that resulted in the transition to survival mode.\n",
      "We're actually still waiting to hear details about what happened. Fortunately, it isn't that big of a deal to be in survival mode.\n",
      "We can operate onboard for quite some time in this mode, and it doesn't necessarily imply a potential evacuation. However, that depends on what the problem is.\n",
      "We heard a lot of sirens and alarms for many hours. Houston and Moscow were extremely busy all day recovering.\n",
      "The whole situation started in the very early morning but everything was back to normal by the end of the day, including the bathroom facilities (after putting in a new separator).\n",
      "All in a day's work for the Control Centers.\n",
      "\n",
      "17.04.2008; 23:11\n",
      "We celebrated the end of Expedition 17 that night by hosting a party for the whole Houston team.\n",
      "This was in the planning for a while and it was great to be able to thank and congratulate the team on all their great work for the past 6 months.\n",
      "It's been a very successful mission and has gone very smoothly.\n",
      "The installation of the new Japanese module, and the subsequent work to get the laboratory completely out-fitted and operational for science, was a huge accomplishment for the team (and for Japan).\n",
      "Being part of this team and this crew has been an amazing and rewarding experience.\n",
      "I'm going to miss my crewmates and the ground team that I've gotten to know so well, once we hand-over to the Expedition 18 team.\n",
      "\n",
      "20.04.2008; 17:08\n",
      "It's a few days later now and three new guys should be docking with us on the Station in 9 hours.\n",
      "This weekend has been a whirlwind of activity trying to prepare the Station and ourselves for the 10 days ahead.\n",
      "The Station is about as clean as it's going to get. It's been chaos recently because we've been relocating racks from one module to another for a few weeks.\n",
      "Each of these moves involved relocating a ton of temporarily stowed or configured things like laptops, handrails, hoses, wires, and a hundred other devices and tools and notes that were there (usually) for a reason.\n",
      "The goal was to prepare the Station for the arrival of some new racks with the Space Shuttle in about a month. Water recycling equipment, new crew quarters, a galley and a hygiene station are among the new racks that are coming up. With the new equipment, the Station will be able to support a long duration crew of 6 beginning in the Spring of 2009.\n",
      "In the meantime we have a few new large gaps of open space, which means there's suddenly an opportunity to do some advanced acrobatics. Our celebration of the last night (with just the three of us) was to take some video of us enjoying this new empty space as we performed daring stunts of acrobatic flying, while trying not to break anything (including our heads).\n",
      "If you've ever seen that footage of the SkyLab astronauts trying to run in a circle around the inner circumference of their module, then you get the idea.\n",
      "We only had two sides open, so it was more like jumping between two trampolines that faced each other, but it was a lot of fun.\n",
      "\n",
      "21.04.2008; 16:17\n",
      "The next 10 days will undoubtedly be extremely busy, fun, and exhausting. We'll basically skip next weekend and rest again after my current roommates depart.\n",
      "I asked them today if they are ready to go home, and the answer was a resounding YES.\n",
      "They are very excited that their mission was very successful and is coming to its conclusion.\n",
      "They both have kids at home and are really looking forward to being with their families. But they are also holding their breath to some extent.\n",
      "First we need a successful docking of the new guys.\n",
      "Once they're onboard, I think that Sergei and Oleg will have confidence that they will, in fact, be leaving soon.\n",
      "It will be the same for me when the Space Shuttle launches in about a month's time. Until it actually gets off the ground, arrives here, and performs a successful docking, you just never know.\n",
      "\n",
      "24.04.2008; 15:17\n",
      "I've had mixed feelings about the change that is about to happen onboard.\n",
      "Despite the fact that our view out the window is so grand, our entire living universe is limited to the inside volume of the Station.\n",
      "Things have gone really well here for 135 days, and the friendship I have with Sergei and Oleg is the bond of a lifetime.\n",
      "Things are comfortable as they are; I know where everything is; and by now I have a good sense of how to get things done a certain way.\n",
      "It feels late in my mission to start again with a new crew and a new team. But that's just the way it works.\n",
      "In one way I think I'm very lucky about the timing of this. Historically, the 3rd quarter of previous expeditions of all kinds has tended to be the most difficult to endure.\n",
      "For me, this time is rich with major events and activity, not to mention the energy and enthusiasm that the new guys will have when they get here.\n",
      "By the time I might start feeling weary, the Space Shuttle mission will be upon us.\n",
      "So as I go to bed tonight, I'm really looking forward to an exciting day tomorrow.\n",
      "We'll be two very happy crews for us, the pleasure of welcoming our friends and colleagues onboard (the first other people we will have seen in 4 months), and for them the excitement of blasting into space, docking with an incredible Space Station, only to be greeted at the door by their friends.\n",
      "One of the most amazing things about being here is that by the time you arrive, the people you are sharing the experience with are close friends.\n",
      "After all the training we've all been through over the years, and including our space flight participant Richard Garriott, the six of us all know each other well, and it will be a great reunion.\n"
     ]
    }
   ],
   "source": [
    "with open('/Users/tony_builder/Documents/GitHub/studying/Python_stepic_beegeek/python for professional/diary.txt', \n",
    "          'r', encoding='utf-8') as file: \n",
    "    diary_entries = file.read().split(\"\\n\\n\")\n",
    "\n",
    "\n",
    "print(*sorted(diary_entries, key= lambda x:datetime.strptime(x[:17], '%d.%m.%Y; %H:%M')), sep='\\n\\n')"
   ]
  },
  {
   "attachments": {},
   "cell_type": "markdown",
   "metadata": {},
   "source": [
    "Функция is_available_date() 🌶️\n",
    "\n",
    "Во время визита очередного гостя сотрудникам отеля приходится проверять, доступна ли та или иная дата для бронирования номера.\n",
    "\n",
    "Реализуйте функцию is_available_date(), которая принимает два аргумента в следующем порядке:\n",
    "\n",
    "- booked_dates — список строковых дат, недоступных для бронирования. Элементом списка является либо одиночная дата, либо период (две даты через дефис) \n",
    "ex: ['04.11.2021', '05.11.2021-09.11.2021']\n",
    "\n",
    "- date_for_booking — одиночная строковая дата или период (две даты через дефис), на которую гость желает забронировать номер \n",
    "ex: '01.11.2021' или '01.11.2021-04.11.2021'\n",
    "\n",
    "Функция is_available_date() должна возвращать True, если дата или период date_for_booking полностью доступна для бронирования. В противном случае функция должна возвращать False."
   ]
  },
  {
   "cell_type": "code",
   "execution_count": 204,
   "metadata": {},
   "outputs": [
    {
     "data": {
      "text/plain": [
       "[datetime.date(1992, 10, 12),\n",
       " datetime.date(1992, 10, 13),\n",
       " datetime.date(1992, 10, 14),\n",
       " datetime.date(1992, 10, 15)]"
      ]
     },
     "execution_count": 204,
     "metadata": {},
     "output_type": "execute_result"
    }
   ],
   "source": [
    "# вспомогательный код - вернуть range for dates  - последовательность дат с заданными началом и концом (обе границы включены)\n",
    "\n",
    "import pandas as pd\n",
    "list(map(lambda x: x.date(),list(pd.date_range(date(1992,10,12), date(1992,10,15)))))"
   ]
  },
  {
   "cell_type": "code",
   "execution_count": 238,
   "metadata": {},
   "outputs": [
    {
     "name": "stdout",
     "output_type": "stream",
     "text": [
      "False\n"
     ]
    }
   ],
   "source": [
    "from datetime import datetime\n",
    "\n",
    "# вспомогательная функция записи и  перевода всех занятых дат в список (полная последовательность)\n",
    "# например: ['04.11.2021', '05.11.2021-09.11.2021'] = [datetime.date(2021, 11, 4),datetime.date(2021, 11, 5),datetime.date(2021, 11, 6),datetime.date(2021, 11, 7),datetime.date(2021, 11, 8),datetime.date(2021, 11, 9)]\n",
    "\n",
    "def all_booked_dates(booked_dates):\n",
    "    # сначала перезапишем список всех занятых дат в единый список\n",
    "    transf_dates1 = []\n",
    "    transf_dates2 = []\n",
    "    for dates in booked_dates:\n",
    "        if dates.__contains__('-'):\n",
    "            dates_list = dates.split('-')\n",
    "            dates_list = list(map(lambda x: datetime.strptime(x, '%d.%m.%Y'), dates_list))\n",
    "            date_start, date_end = dates_list\n",
    "            import pandas as pd\n",
    "            ranged_dates = list(map(lambda x: x.date(),list(pd.date_range(date_start, date_end))))\n",
    "            transf_dates2.extend(ranged_dates)\n",
    "            \n",
    "        else: \n",
    "            transf_date = datetime.strptime(dates, '%d.%m.%Y').date()\n",
    "            transf_dates1.append(transf_date)\n",
    "    \n",
    "    return {*transf_dates1, *transf_dates2}\n",
    "\n",
    "# вспомогательная функция перевода и желаемой даты (или последовательности дат) в список\n",
    "\n",
    "def all_dates_for_booking(some_date):\n",
    "    if some_date.__contains__('-'):\n",
    "        dates_for_booking = some_date.split('-')\n",
    "        dates_for_booking = list(map(lambda x: datetime.strptime(x, '%d.%m.%Y'), dates_for_booking))\n",
    "        date_start, date_end = dates_for_booking\n",
    "        import pandas as pd\n",
    "        dates_for_booking = list(map(lambda x: x.date(),list(pd.date_range(date_start, date_end))))\n",
    "        \n",
    "    else: dates_for_booking = [datetime.strptime(some_date, '%d.%m.%Y').date()]\n",
    "    return set(dates_for_booking)\n",
    "        \n",
    "\n",
    "def is_available_date(booked_dates, date_for_booking):\n",
    "    \n",
    "    # теперь скажем функции вернуть булево значение от пересечения двух множеств: \n",
    "    # - множество забронированных дат \n",
    "    # - множество желаемых дат \n",
    "    # Если результат непустой - то вернуть False (значит даты пересекаются, нельзя забронировать) \n",
    "    # Если результат пустой - то вернуть True (значит даты не пересекаются, можно бронить)\n",
    "    return len(all_booked_dates(booked_dates) & all_dates_for_booking(date_for_booking)) == 0\n",
    "\n",
    "dates = ['01.11.2021', '05.11.2021-09.11.2021', '12.11.2021', '15.11.2021-21.11.2021']\n",
    "some_date = '09.11.2021'\n",
    "print(is_available_date(dates, some_date))\n",
    "\n",
    " \n",
    "    "
   ]
  },
  {
   "cell_type": "code",
   "execution_count": null,
   "metadata": {},
   "outputs": [],
   "source": []
  }
 ],
 "metadata": {
  "kernelspec": {
   "display_name": "Python 3",
   "language": "python",
   "name": "python3"
  },
  "language_info": {
   "codemirror_mode": {
    "name": "ipython",
    "version": 3
   },
   "file_extension": ".py",
   "mimetype": "text/x-python",
   "name": "python",
   "nbconvert_exporter": "python",
   "pygments_lexer": "ipython3",
   "version": "3.10.7"
  },
  "orig_nbformat": 4,
  "vscode": {
   "interpreter": {
    "hash": "aee8b7b246df8f9039afb4144a1f6fd8d2ca17a180786b69acc140d282b71a49"
   }
  }
 },
 "nbformat": 4,
 "nbformat_minor": 2
}
