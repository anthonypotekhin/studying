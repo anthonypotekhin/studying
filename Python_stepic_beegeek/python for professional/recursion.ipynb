{
 "cells": [
  {
   "attachments": {},
   "cell_type": "markdown",
   "metadata": {},
   "source": [
    "### Рекурсия\n",
    "\n",
    "https://stepik.org/lesson/594136/step/1?unit=589172"
   ]
  },
  {
   "attachments": {},
   "cell_type": "markdown",
   "metadata": {},
   "source": [
    "Поскольку рекурсивная функция - это функция, которая вызывает саму себя, ее выполнение без остановки может быть бесконечным\n",
    "\n",
    "В ситуации когда не предусмотрен способ остановки рекурсивных вызовов происходит переполнение аппаратного стека и возбуждается исключение RecursionError"
   ]
  },
  {
   "cell_type": "code",
   "execution_count": 1,
   "metadata": {},
   "outputs": [
    {
     "name": "stdout",
     "output_type": "stream",
     "text": [
      "Это рекурсивная функция\n",
      "Это рекурсивная функция\n",
      "Это рекурсивная функция\n",
      "Это рекурсивная функция\n",
      "Это рекурсивная функция\n"
     ]
    }
   ],
   "source": [
    "# глубина рекурсии 5\n",
    "def message(times):\n",
    "    if times > 0:\n",
    "        print('Это рекурсивная функция')\n",
    "        message(times - 1)\n",
    "\n",
    "message(5)"
   ]
  },
  {
   "attachments": {},
   "cell_type": "markdown",
   "metadata": {},
   "source": [
    "Во время каждого вызова функции message() в оперативной памяти создается новый экземпляр переменной times. \n",
    "- При первом вызове функции times имеет значение 5. \n",
    "- Когда функция себя вызывает, создается новый экземпляр переменной times и в него передается значение 4.\n",
    "- Этот цикл повторяется до тех пор, пока в функцию в качестве аргумента не будет передан 0"
   ]
  },
  {
   "attachments": {},
   "cell_type": "markdown",
   "metadata": {},
   "source": [
    "        Количество раз, которые функция вызывает саму себя, называется глубиной рекурсии"
   ]
  },
  {
   "cell_type": "code",
   "execution_count": 2,
   "metadata": {},
   "outputs": [
    {
     "name": "stdout",
     "output_type": "stream",
     "text": [
      "Это рекурсивная функция.\n",
      "Это рекурсивная функция.\n",
      "Это рекурсивная функция.\n",
      "Это рекурсивная функция.\n",
      "Это рекурсивная функция.\n",
      "1\n",
      "2\n",
      "3\n",
      "4\n",
      "5\n"
     ]
    }
   ],
   "source": [
    "def message(times):\n",
    "    if times > 0:\n",
    "        print('Это рекурсивная функция.')\n",
    "        message(times - 1)\n",
    "        print(times)\n",
    "\n",
    "message(5)"
   ]
  },
  {
   "attachments": {},
   "cell_type": "markdown",
   "metadata": {},
   "source": [
    "        ОБРАТИ ВНИМАНИЕ!\n",
    "\n",
    "Поскольку после вызова рекурсивной функции больше нет инструкций, пятый экземпляр функции message() возвращает поток управления программы **НАЗАД** в четвертый экземпляр функции и т.д\n",
    "\n",
    "поэтому вывод переменной times происходит в таком порядке:\n",
    "- сначала вернулось последнее значение times = 1\n",
    "- потом возврат в предыдущую позицию (там она равна 2)\n",
    "- возврат в пред-предыдущую (там она равна 3)\n",
    "- и так далее"
   ]
  },
  {
   "attachments": {},
   "cell_type": "markdown",
   "metadata": {},
   "source": [
    "Примечание . Некоторые повторяющиеся задачи легче решаются на основе рекурсии, чем на основе цикла. Там, где цикл приводит к более быстрому времени исполнения, программист может быстрее разработать рекурсивный алгоритм. В целом рекурсивная функция работает следующим образом:\n",
    "\n",
    "    если в настоящий момент задача может быть решена без рекурсии, то функция ее решает\n",
    "    если в настоящий момент задача не может быть решена, то функция ее сводит к уменьшенной и при этом аналогичной задаче и вызывает саму себя для решения этой уменьшенной задачи"
   ]
  },
  {
   "attachments": {},
   "cell_type": "markdown",
   "metadata": {},
   "source": [
    "Задача-пример: напечатать прямоугольник из звездочек\n",
    "\n",
    "1 подход - передача аргумента ШАГ, чтобы можно было остановить рекурсию\n",
    "\n",
    "2 подход - вложенные функции и механизм замыканий"
   ]
  },
  {
   "cell_type": "code",
   "execution_count": 3,
   "metadata": {},
   "outputs": [
    {
     "name": "stdout",
     "output_type": "stream",
     "text": [
      "***\n",
      "***\n",
      "***\n",
      "***\n",
      "***\n"
     ]
    }
   ],
   "source": [
    "def draw_rect(width, height, step=0):\n",
    "    if step < height:\n",
    "        print('*' * width)\n",
    "        draw_rect(width, height, step + 1)\n",
    "\n",
    "draw_rect(3,5)"
   ]
  },
  {
   "cell_type": "code",
   "execution_count": 4,
   "metadata": {},
   "outputs": [
    {
     "name": "stdout",
     "output_type": "stream",
     "text": [
      "***\n",
      "***\n",
      "***\n",
      "***\n",
      "***\n"
     ]
    }
   ],
   "source": [
    "def draw_rect(width, height):\n",
    "    def rec(step):\n",
    "        if step < height:\n",
    "            print('*' * width)\n",
    "            rec(step + 1)\n",
    "    rec(0)\n",
    "\n",
    "draw_rect(3,5)"
   ]
  },
  {
   "attachments": {},
   "cell_type": "markdown",
   "metadata": {},
   "source": [
    "Задача 2. Реализовать функцию print_numbers() с использованием рекурсии, которая принимает два аргумента в следующем порядке:\n",
    "\n",
    "- start – начальное целое число\n",
    "- end – конечное целое число\n",
    "\n",
    "и печатает все целые числа от start до end включительно."
   ]
  },
  {
   "cell_type": "code",
   "execution_count": 5,
   "metadata": {},
   "outputs": [
    {
     "name": "stdout",
     "output_type": "stream",
     "text": [
      "1\n",
      "2\n",
      "3\n",
      "4\n",
      "5\n"
     ]
    }
   ],
   "source": [
    "def print_numbers(start,end):\n",
    "    def temp(step):\n",
    "        if step <= end:\n",
    "            print(step)\n",
    "            temp(step+1)\n",
    "    temp(step=start)\n",
    "\n",
    "print_numbers(1,5)"
   ]
  },
  {
   "attachments": {},
   "cell_type": "markdown",
   "metadata": {},
   "source": [
    "### Задачи на рекурсию\n"
   ]
  },
  {
   "attachments": {},
   "cell_type": "markdown",
   "metadata": {},
   "source": [
    "        Вам доступен список numbers, содержащий ровно 100 целых чисел. Дополните приведенный ниже код с использованием рекурсии, чтобы он вывел все элементы этого списка от первого до последнего, каждый на отдельный строке, в следующем формате:\n",
    "\n",
    "        Элемент <индекс элемента>: <значение элемента>"
   ]
  },
  {
   "cell_type": "code",
   "execution_count": 6,
   "metadata": {},
   "outputs": [
    {
     "name": "stdout",
     "output_type": "stream",
     "text": [
      "0: 243\n",
      "1: -279\n",
      "2: 395\n",
      "3: 130\n",
      "4: 89\n",
      "5: 269\n",
      "6: 861\n",
      "7: 669\n",
      "8: 939\n",
      "9: 367\n",
      "10: -46\n",
      "11: 710\n",
      "12: 841\n",
      "13: -280\n",
      "14: -244\n",
      "15: 274\n",
      "16: -132\n",
      "17: 273\n",
      "18: 418\n",
      "19: 432\n",
      "20: -341\n",
      "21: 437\n",
      "22: 360\n",
      "23: 960\n",
      "24: 195\n",
      "25: 792\n",
      "26: 106\n",
      "27: 461\n",
      "28: -35\n",
      "29: 980\n",
      "30: -80\n",
      "31: 540\n",
      "32: -358\n",
      "33: 69\n",
      "34: -26\n",
      "35: -416\n",
      "36: 597\n",
      "37: 96\n",
      "38: 533\n",
      "39: 232\n",
      "40: 755\n",
      "41: 894\n",
      "42: 331\n",
      "43: 323\n",
      "44: -383\n",
      "45: -386\n",
      "46: 231\n",
      "47: 436\n",
      "48: 553\n",
      "49: 967\n",
      "50: 166\n",
      "51: -151\n",
      "52: 772\n",
      "53: 434\n",
      "54: 325\n",
      "55: 301\n",
      "56: 275\n",
      "57: 431\n",
      "58: 556\n",
      "59: 728\n",
      "60: 558\n",
      "61: 702\n",
      "62: 463\n",
      "63: 127\n",
      "64: 984\n",
      "65: 212\n",
      "66: 876\n",
      "67: -287\n",
      "68: -16\n",
      "69: -177\n",
      "70: 577\n",
      "71: 604\n",
      "72: 116\n",
      "73: 500\n",
      "74: 653\n",
      "75: 669\n",
      "76: 916\n",
      "77: 802\n",
      "78: 817\n",
      "79: 762\n",
      "80: -210\n",
      "81: -353\n",
      "82: 144\n",
      "83: -351\n",
      "84: 777\n",
      "85: 805\n",
      "86: 692\n",
      "87: 22\n",
      "88: -303\n",
      "89: 249\n",
      "90: 190\n",
      "91: 411\n",
      "92: 236\n",
      "93: -274\n",
      "94: 174\n",
      "95: 380\n",
      "96: 71\n",
      "97: 124\n",
      "98: -85\n",
      "99: 430\n"
     ]
    }
   ],
   "source": [
    "numbers = [243, -279, 395, 130, 89, 269, 861, 669, 939, 367, -46, 710, 841, -280, -244, 274, -132, 273, 418, 432, -341, 437, 360, 960, 195, 792, 106, 461, -35, 980, -80, 540, -358, 69, -26, -416, 597, 96, 533, 232, 755, 894, 331, 323, -383, -386, 231, 436, 553, 967, 166, -151, 772, 434, 325, 301, 275, 431, 556, 728, 558, 702, 463, 127, 984, 212, 876, -287, -16, -177, 577, 604, 116, 500, 653, 669, 916, 802, 817, 762, -210, -353, 144, -351, 777, 805, 692, 22, -303, 249, 190, 411, 236, -274, 174, 380, 71, 124, -85, 430]\n",
    "\n",
    "def print_list(some_list):\n",
    "    def temp(ind):\n",
    "        if ind < len(some_list):\n",
    "            print(f'{ind}: {some_list[ind]}')\n",
    "            temp(ind+1)\n",
    "    temp(0)\n",
    "\n",
    "print_list(numbers)"
   ]
  },
  {
   "attachments": {},
   "cell_type": "markdown",
   "metadata": {},
   "source": [
    "        Обратный порядок\n",
    "        Дана последовательность целых чисел. Напишите программу с использованием рекурсии, которая выводит эту последовательность в обратном порядке.\n",
    "\n",
    "        Формат входных данных\n",
    "        На вход программе подается последовательность целых чисел, каждое на отдельной строке. Концом последовательности является число \n",
    "        0"
   ]
  },
  {
   "cell_type": "code",
   "execution_count": null,
   "metadata": {},
   "outputs": [],
   "source": [
    "def print_reverse_list(some_list):\n",
    "    def temp(ind):\n",
    "        if ind >= 0:\n",
    "            print(some_list[ind])\n",
    "            temp(ind-1)\n",
    "    temp(len(some_list)-1)\n",
    "\n",
    "import sys\n",
    "print_list([int(x.strip()) for x in sys.stdin.readlines() ])"
   ]
  },
  {
   "cell_type": "code",
   "execution_count": null,
   "metadata": {},
   "outputs": [],
   "source": [
    "# хорошее решение\n",
    "def foo():\n",
    "    try:\n",
    "        n = int(input())\n",
    "        foo()\n",
    "        print(n)\n",
    "    except EOFError:\n",
    "        pass\n",
    "\n",
    "foo()"
   ]
  },
  {
   "attachments": {},
   "cell_type": "markdown",
   "metadata": {},
   "source": [
    "Функция triangle() 😥\n",
    "Реализуйте функцию triangle() с использованием рекурсии, которая принимает один аргумент:\n",
    "\n",
    "h — натуральное число\n",
    "\n",
    "и выводит равнобедренный прямоугольный треугольник"
   ]
  },
  {
   "cell_type": "code",
   "execution_count": 7,
   "metadata": {},
   "outputs": [
    {
     "name": "stdout",
     "output_type": "stream",
     "text": [
      "*****\n",
      "****\n",
      "***\n",
      "**\n",
      "*\n"
     ]
    }
   ],
   "source": [
    "def triangle(h):\n",
    "    if h>0:\n",
    "        print('*' * h)\n",
    "        triangle(h-1)\n",
    "\n",
    "triangle(5)\n"
   ]
  },
  {
   "attachments": {},
   "cell_type": "markdown",
   "metadata": {},
   "source": [
    "Такой же треугольник, как выше, но начинающийся с вершины, а не с основания"
   ]
  },
  {
   "cell_type": "code",
   "execution_count": 8,
   "metadata": {},
   "outputs": [
    {
     "name": "stdout",
     "output_type": "stream",
     "text": [
      "*\n",
      "**\n",
      "***\n",
      "****\n",
      "*****\n"
     ]
    }
   ],
   "source": [
    "def triangle(h):\n",
    "    if h>0:\n",
    "        triangle(h-1)\n",
    "        print('*' * h)\n",
    "\n",
    "triangle(5)"
   ]
  },
  {
   "attachments": {},
   "cell_type": "markdown",
   "metadata": {},
   "source": [
    "        Песочные часы"
   ]
  },
  {
   "cell_type": "code",
   "execution_count": 9,
   "metadata": {},
   "outputs": [
    {
     "name": "stdout",
     "output_type": "stream",
     "text": [
      "1111111111111111\n",
      "222222222222\n",
      "33333333\n",
      "4444\n",
      "4444\n",
      "33333333\n",
      "222222222222\n",
      "1111111111111111\n"
     ]
    }
   ],
   "source": [
    "# неверное решение\n",
    "def solar_watch(n):\n",
    "    if n>0:\n",
    "        print(str(5-n) * (16 - (4-n)*4))\n",
    "        solar_watch(n-1)\n",
    "        print(str(5-n) * (16 - (4-n)*4))\n",
    "\n",
    "solar_watch(4)\n"
   ]
  },
  {
   "cell_type": "code",
   "execution_count": 24,
   "metadata": {},
   "outputs": [
    {
     "name": "stdout",
     "output_type": "stream",
     "text": [
      "1111111111111111\n",
      "  222222222222  \n",
      "    33333333    \n",
      "      4444      \n",
      "      4444      \n",
      "    33333333    \n",
      "  222222222222  \n",
      "1111111111111111\n"
     ]
    }
   ],
   "source": [
    "# неверное решение\n",
    "def solar_watch(n):\n",
    "    if n>0:\n",
    "        string = f'{str(5-n) * (16 - (4-n)*4)}'\n",
    "        spaces = int((16 - len(string))/2)\n",
    "        print(f'{\" \"* spaces}{string}{\" \"* spaces}')\n",
    "        solar_watch(n-1)\n",
    "        \n",
    "        print(f'{\" \"* spaces}{string}{\" \"* spaces}')\n",
    "\n",
    "solar_watch(4)"
   ]
  },
  {
   "cell_type": "code",
   "execution_count": 28,
   "metadata": {},
   "outputs": [
    {
     "name": "stdout",
     "output_type": "stream",
     "text": [
      "1111111111111111\n",
      "  222222222222  \n",
      "    33333333    \n",
      "      4444      \n",
      "    33333333    \n",
      "  222222222222  \n",
      "1111111111111111\n"
     ]
    }
   ],
   "source": [
    "# верное решение\n",
    "def sand_watch(n):\n",
    "    if n>0:\n",
    "        string = f'{str(4-n) * (16 - (3-n)*4)}'\n",
    "        spaces = int((16 - len(string))/2)\n",
    "        print(f'{\" \"* spaces}{string}{\" \"* spaces}')\n",
    "        sand_watch(n-1)\n",
    "        print(f'{\" \"* spaces}{string}{\" \"* spaces}')\n",
    "    else: print('      4444      ')\n",
    "\n",
    "sand_watch(3)"
   ]
  },
  {
   "attachments": {},
   "cell_type": "markdown",
   "metadata": {},
   "source": [
    "        Функция print_digits() 😉\n",
    "        Реализуйте функцию print_digits() с использованием рекурсии, которая принимает один аргумент:\n",
    "\n",
    "        number — натуральное число\n",
    "        Функция должна выводить все цифры числа number, начиная с младших разрядов, каждое на отдельной строке."
   ]
  },
  {
   "cell_type": "code",
   "execution_count": 33,
   "metadata": {},
   "outputs": [
    {
     "name": "stdout",
     "output_type": "stream",
     "text": [
      "3\n",
      "3\n",
      "9\n",
      "2\n",
      "9\n",
      "2\n",
      "8\n",
      "8\n",
      "8\n",
      "3\n",
      "9\n",
      "4\n",
      "9\n",
      "6\n",
      "5\n",
      "8\n",
      "6\n",
      "8\n",
      "4\n"
     ]
    }
   ],
   "source": [
    "def print_digits(number):\n",
    "    some_list = list(str(number))\n",
    "    def temp(ind):\n",
    "        if ind < len(some_list):\n",
    "            \n",
    "            temp(ind+1)\n",
    "            print(some_list[ind])\n",
    "    temp(0)\n",
    "\n",
    "print_digits(4868569493888292933)"
   ]
  },
  {
   "attachments": {},
   "cell_type": "markdown",
   "metadata": {},
   "source": [
    "Отдельного внимания заслуживает подход для решения задач через рекурсию.\n",
    "\n",
    "Еще раз: \n",
    "1) сначала определи ответ в БАЗОВОМ положении рекурсии\n",
    "2) потом определи, когда она должна закончиться"
   ]
  },
  {
   "cell_type": "code",
   "execution_count": 35,
   "metadata": {},
   "outputs": [
    {
     "data": {
      "text/plain": [
       "24"
      ]
     },
     "execution_count": 35,
     "metadata": {},
     "output_type": "execute_result"
    }
   ],
   "source": [
    "def factorial(n):\n",
    "    if n == 0:\n",
    "        return 1                        # базовый случай\n",
    "    else:\n",
    "        return n * factorial(n-1)       # рекурсивный случай\n",
    "    \n",
    "factorial(4)"
   ]
  },
  {
   "attachments": {
    "image.png": {
     "image/png": "[encoded data removed]"
    }
   },
   "cell_type": "markdown",
   "metadata": {},
   "source": [
    "![image.png](attachment:image.png)"
   ]
  },
  {
   "attachments": {},
   "cell_type": "markdown",
   "metadata": {},
   "source": [
    "Еще пример: вычисление суммы списка через рекурсию"
   ]
  },
  {
   "cell_type": "code",
   "execution_count": 36,
   "metadata": {},
   "outputs": [
    {
     "data": {
      "text/plain": [
       "28"
      ]
     },
     "execution_count": 36,
     "metadata": {},
     "output_type": "execute_result"
    }
   ],
   "source": [
    "def recursive_sum(nums):\n",
    "    if not nums:\n",
    "        return 0                                       # базовый случай\n",
    "    return nums[0] + recursive_sum(nums[1:])           # рекурсивный случай\n",
    "\n",
    "recursive_sum([1,2,3,4,5,6,7])"
   ]
  },
  {
   "attachments": {},
   "cell_type": "markdown",
   "metadata": {},
   "source": [
    "еще пример: числа фибоначчи"
   ]
  },
  {
   "cell_type": "code",
   "execution_count": 39,
   "metadata": {},
   "outputs": [
    {
     "data": {
      "text/plain": [
       "8"
      ]
     },
     "execution_count": 39,
     "metadata": {},
     "output_type": "execute_result"
    }
   ],
   "source": [
    "def fib(n):\n",
    "    if n <= 2:\n",
    "        return 1                             # базовый случай\n",
    "    else:\n",
    "        return fib(n - 1) + fib(n - 2)       # рекурсивный случай\n",
    "    \n",
    "\n",
    "fib(6)      # шестой член последовательности"
   ]
  },
  {
   "cell_type": "code",
   "execution_count": 40,
   "metadata": {},
   "outputs": [
    {
     "data": {
      "text/plain": [
       "102334155"
      ]
     },
     "execution_count": 40,
     "metadata": {},
     "output_type": "execute_result"
    }
   ],
   "source": [
    "# еще один способ применить мемоизацию для поиска числа фибоначчи\n",
    "\n",
    "def fib(n):\n",
    "    cache = {1: 1, 2: 1}            # создаем кеш, куда будем складывать уже вычисленные числа фибоначчи\n",
    "    def fib_rec(n):\n",
    "        result = cache.get(n)       # если искомое число уже в кэше, то функция сразу вернет его\n",
    "        if result is None:          # а если get словаря вернет None (по умолчанию), то запускается расчет\n",
    "            result = fib_rec(n - 2) + fib_rec(n - 1)\n",
    "            cache[n] = result       # и в словарь кэша добавляется новый элемент\n",
    "        return result\n",
    "    return fib_rec(n)\n",
    "\n",
    "fib(40)"
   ]
  },
  {
   "attachments": {},
   "cell_type": "markdown",
   "metadata": {},
   "source": [
    "Использование рекурсии в лямбда-функциях"
   ]
  },
  {
   "cell_type": "code",
   "execution_count": 41,
   "metadata": {},
   "outputs": [
    {
     "name": "stdout",
     "output_type": "stream",
     "text": [
      "1 2 6 24 120 720 5040 40320 362880 3628800\n"
     ]
    }
   ],
   "source": [
    "fact = lambda n: 1 if n == 0 else n * fact(n - 1)\n",
    "\n",
    "print(*map(fact, range(1, 11)))     # вывести значения факториалов чисел от 1 до n"
   ]
  },
  {
   "attachments": {},
   "cell_type": "markdown",
   "metadata": {},
   "source": [
    "### Задачи на рекурсию"
   ]
  },
  {
   "attachments": {},
   "cell_type": "markdown",
   "metadata": {},
   "source": [
    "        Количество цифр\n",
    "        Напишите программу с использованием рекурсии, которая принимает на вход число и выводит количество цифр в этом числе."
   ]
  },
  {
   "cell_type": "code",
   "execution_count": 48,
   "metadata": {},
   "outputs": [],
   "source": [
    "def num_dig(number):\n",
    "    if  number//10 == 0:\n",
    "        return 1\n",
    "    else: \n",
    "        return 1 + num_dig(number//10)\n"
   ]
  },
  {
   "cell_type": "code",
   "execution_count": 52,
   "metadata": {},
   "outputs": [
    {
     "data": {
      "text/plain": [
       "2"
      ]
     },
     "execution_count": 52,
     "metadata": {},
     "output_type": "execute_result"
    }
   ],
   "source": [
    "num_dig(50)"
   ]
  },
  {
   "attachments": {},
   "cell_type": "markdown",
   "metadata": {},
   "source": [
    "    Сумма цифр\n",
    "    Напишите программу с использованием рекурсии, которая принимает на вход число и выводит сумму цифр этого числа."
   ]
  },
  {
   "cell_type": "code",
   "execution_count": 58,
   "metadata": {},
   "outputs": [
    {
     "data": {
      "text/plain": [
       "8"
      ]
     },
     "execution_count": 58,
     "metadata": {},
     "output_type": "execute_result"
    }
   ],
   "source": [
    "def sum_digits(number):\n",
    "    if  number < 10:\n",
    "        return number\n",
    "    else:\n",
    "        return number%10 +  sum_digits(number//10)\n",
    "    \n",
    "sum_digits(152)"
   ]
  },
  {
   "cell_type": "code",
   "execution_count": 59,
   "metadata": {},
   "outputs": [
    {
     "data": {
      "text/plain": [
       "8"
      ]
     },
     "execution_count": 59,
     "metadata": {},
     "output_type": "execute_result"
    }
   ],
   "source": [
    "# через lambda \n",
    "summa = lambda num: 0 if not num else (num % 10) + summa(num // 10)\n",
    "\n",
    "summa(152)"
   ]
  },
  {
   "attachments": {},
   "cell_type": "markdown",
   "metadata": {},
   "source": [
    "        Функция number_of_frogs()\n",
    "        В первый год в пруду живет 77 лягушек. Каждый год из пруда вылавливают 30 лягушек, а оставшиеся размножаются, и их становится в три раза больше. \n",
    "\n",
    "        Реализуйте функцию number_of_frogs() с использованием рекурсии, которая принимает один аргумент:\n",
    "\n",
    "        year — натуральное число\n",
    "        Функция должна возвращать единственное число — количество лягушек в пруду в году year"
   ]
  },
  {
   "cell_type": "code",
   "execution_count": 68,
   "metadata": {},
   "outputs": [
    {
     "data": {
      "text/plain": [
       "629901"
      ]
     },
     "execution_count": 68,
     "metadata": {},
     "output_type": "execute_result"
    }
   ],
   "source": [
    "def number_of_frogs(year):\n",
    "    cache = {1:77}\n",
    "    def frogs_rec(year):\n",
    "        result = cache.get(year)       # если искомое число уже в кэше, то функция сразу вернет его\n",
    "        if result is None:             # а если get словаря вернет None (по умолчанию), то запускается расчет\n",
    "            result = (frogs_rec(year-1) - 30) * 3\n",
    "            cache[year] = result          # и в словарь кэша добавляется новый элемент\n",
    "        return result\n",
    "    return frogs_rec(year)\n",
    "\n",
    "    \n",
    "number_of_frogs(10)"
   ]
  },
  {
   "attachments": {},
   "cell_type": "markdown",
   "metadata": {},
   "source": [
    "        Функция range_sum()\n",
    "        Реализуйте функцию range_sum() с использованием рекурсии, которая принимает три аргумента в следующем порядке:\n",
    "\n",
    "        numbers — список целых чисел\n",
    "        start — целое неотрицательное число\n",
    "        end — целое неотрицательное число\n",
    "        Функция должна суммировать все числа из списка numbers от numbers[start] до numbers[end] включительно и возвращать полученный результа"
   ]
  },
  {
   "cell_type": "code",
   "execution_count": 72,
   "metadata": {},
   "outputs": [],
   "source": [
    "def range_sum(numbers, start, end):\n",
    "    if start == end:\n",
    "        return numbers[start]\n",
    "    else:\n",
    "        return numbers[start] + range_sum(numbers,start+1,end)\n"
   ]
  },
  {
   "cell_type": "code",
   "execution_count": 73,
   "metadata": {},
   "outputs": [
    {
     "name": "stdout",
     "output_type": "stream",
     "text": [
      "30\n"
     ]
    }
   ],
   "source": [
    "print(range_sum([1, 2, 3, 4, 5, 6, 7, 8, 9], 3, 7))"
   ]
  },
  {
   "attachments": {},
   "cell_type": "markdown",
   "metadata": {},
   "source": [
    "        Обычное возведение в степень\n",
    "        Реализуйте функцию get_pow() с использованием рекурсии, которая принимает два аргумента в следующем порядке:\n",
    "\n",
    "        a — положительное целое число\n",
    "        n — неотрицательное целое число"
   ]
  },
  {
   "cell_type": "code",
   "execution_count": 78,
   "metadata": {},
   "outputs": [],
   "source": [
    "def get_pow(a,n):\n",
    "    cache = {0:1, 1:a}\n",
    "    def pow_rec(n):\n",
    "        result = cache.get(n)\n",
    "        if result is None:\n",
    "            result = pow_rec(n-1) * a\n",
    "            cache[n] = result\n",
    "        return result\n",
    "    return pow_rec(n)"
   ]
  },
  {
   "cell_type": "code",
   "execution_count": 82,
   "metadata": {},
   "outputs": [
    {
     "data": {
      "text/plain": [
       "16"
      ]
     },
     "execution_count": 82,
     "metadata": {},
     "output_type": "execute_result"
    }
   ],
   "source": [
    "get_pow(2,4)"
   ]
  },
  {
   "cell_type": "code",
   "execution_count": 83,
   "metadata": {},
   "outputs": [
    {
     "data": {
      "text/plain": [
       "16"
      ]
     },
     "execution_count": 83,
     "metadata": {},
     "output_type": "execute_result"
    }
   ],
   "source": [
    "# такое решение нравится больше\n",
    "def get_pow(a: int, n: int) -> int:\n",
    "    if n == 0:\n",
    "        return 1                    # базовое решение - вывести 1 , если степень нулевая\n",
    "    else:\n",
    "        return a * get_pow(a, n - 1)    # иначе рекурсия: умножай исходный аргумент на значение функции в степени (n-1)\n",
    "    \n",
    "get_pow(2,4)"
   ]
  },
  {
   "attachments": {
    "image.png": {
     "image/png": "[encoded data removed]"
    }
   },
   "cell_type": "markdown",
   "metadata": {},
   "source": [
    "![image.png](attachment:image.png)"
   ]
  },
  {
   "cell_type": "code",
   "execution_count": 121,
   "metadata": {},
   "outputs": [],
   "source": [
    "def get_fast_pow(a: int, n: int) -> int:\n",
    "    if n == 0:\n",
    "        return 1\n",
    "    elif n % 2 == 0:\n",
    "        return get_fast_pow(a * a, n / 2)\n",
    "    elif n % 2 != 0:\n",
    "        return a * get_fast_pow(a, n - 1)"
   ]
  },
  {
   "cell_type": "code",
   "execution_count": 126,
   "metadata": {},
   "outputs": [
    {
     "data": {
      "text/plain": [
       "True"
      ]
     },
     "execution_count": 126,
     "metadata": {},
     "output_type": "execute_result"
    }
   ],
   "source": [
    "get_fast_pow(3,31) == 3**31"
   ]
  },
  {
   "attachments": {},
   "cell_type": "markdown",
   "metadata": {},
   "source": [
    "        Функция recursive_sum()\n",
    "        Реализуйте функцию recursive_sum() с использованием рекурсии, которая принимает два аргумента в следующем порядке:\n",
    "\n",
    "        a — неотрицательное целое число\n",
    "        b — неотрицательное целое число\n",
    "        Функция должна возвращать сумму чисел a и b. При вычислении суммы функция:\n",
    "\n",
    "        не должна использовать циклы\n",
    "        из всех арифметических операций должна использовать только +1 и -1"
   ]
  },
  {
   "cell_type": "code",
   "execution_count": 127,
   "metadata": {},
   "outputs": [],
   "source": [
    "def recursive_sum(a,b):\n",
    "    if a==0:\n",
    "        return b\n",
    "    else: return recursive_sum(a-1,b) +1"
   ]
  },
  {
   "cell_type": "code",
   "execution_count": 128,
   "metadata": {},
   "outputs": [
    {
     "data": {
      "text/plain": [
       "6"
      ]
     },
     "execution_count": 128,
     "metadata": {},
     "output_type": "execute_result"
    }
   ],
   "source": [
    "recursive_sum(2,4)"
   ]
  },
  {
   "attachments": {},
   "cell_type": "markdown",
   "metadata": {},
   "source": [
    "        Функция is_power()\n",
    "        Реализуйте функцию is_power() с использованием рекурсии, которая принимает один аргумент:\n",
    "\n",
    "        number — натуральное число\n",
    "        Функция должна возвращать значение True, если number является степенью числа 2, или False в противном случае."
   ]
  },
  {
   "cell_type": "code",
   "execution_count": 129,
   "metadata": {},
   "outputs": [],
   "source": [
    "def is_power(number):\n",
    "    if number %2 !=0:                       # если число нечетное\n",
    "        if number == 1: return True             # степень двойки оно будет только в случае 1\n",
    "        else: return False                      # все остальные нечетные числа - мимо\n",
    "\n",
    "    else: return is_power(number/2)         # если число четное, то делим его на два в рекурсии \n",
    "                                            # (выше будем проверять его на четность, пока не превратим число в единицу)"
   ]
  },
  {
   "cell_type": "code",
   "execution_count": 130,
   "metadata": {},
   "outputs": [
    {
     "data": {
      "text/plain": [
       "True"
      ]
     },
     "execution_count": 130,
     "metadata": {},
     "output_type": "execute_result"
    }
   ],
   "source": [
    "is_power(64)"
   ]
  },
  {
   "cell_type": "code",
   "execution_count": 131,
   "metadata": {},
   "outputs": [
    {
     "data": {
      "text/plain": [
       "False"
      ]
     },
     "execution_count": 131,
     "metadata": {},
     "output_type": "execute_result"
    }
   ],
   "source": [
    "is_power(66)"
   ]
  },
  {
   "cell_type": "code",
   "execution_count": 132,
   "metadata": {},
   "outputs": [
    {
     "data": {
      "text/plain": [
       "False"
      ]
     },
     "execution_count": 132,
     "metadata": {},
     "output_type": "execute_result"
    }
   ],
   "source": [
    "is_power(33)"
   ]
  },
  {
   "attachments": {},
   "cell_type": "markdown",
   "metadata": {},
   "source": [
    "        Функция tribonacci()\n",
    "        Последовательность Трибоначчи – последовательность натуральных чисел, где каждое последующее число является суммой трех предыдущих\n",
    "\n",
    "        Реализуйте функцию tribonacci() с использованием рекурсии и мемоизации, которая принимает один аргумент:\n",
    "\n",
    "        n — натуральное число\n",
    "        Функция должна возвращать n-й член последовательности Трибоначчи."
   ]
  },
  {
   "cell_type": "code",
   "execution_count": 133,
   "metadata": {},
   "outputs": [],
   "source": [
    "def tribonacci(n):\n",
    "    cache = {1:1,2:1,3:1}\n",
    "    def trib_rec(n):\n",
    "        result = cache.get(n)\n",
    "        if result is None:\n",
    "            result = trib_rec(n-3) + trib_rec(n-2) + trib_rec(n-1)\n",
    "            cache[n] = result\n",
    "        return result\n",
    "    return trib_rec(n)"
   ]
  },
  {
   "cell_type": "code",
   "execution_count": 134,
   "metadata": {},
   "outputs": [
    {
     "data": {
      "text/plain": [
       "3"
      ]
     },
     "execution_count": 134,
     "metadata": {},
     "output_type": "execute_result"
    }
   ],
   "source": [
    "tribonacci(4)   # 1+1+1"
   ]
  },
  {
   "cell_type": "code",
   "execution_count": 135,
   "metadata": {},
   "outputs": [
    {
     "data": {
      "text/plain": [
       "5"
      ]
     },
     "execution_count": 135,
     "metadata": {},
     "output_type": "execute_result"
    }
   ],
   "source": [
    "tribonacci(5)   # 1+1+3"
   ]
  },
  {
   "cell_type": "code",
   "execution_count": 137,
   "metadata": {},
   "outputs": [
    {
     "data": {
      "text/plain": [
       "9"
      ]
     },
     "execution_count": 137,
     "metadata": {},
     "output_type": "execute_result"
    }
   ],
   "source": [
    "tribonacci(6)   # 1+3+5"
   ]
  },
  {
   "cell_type": "code",
   "execution_count": 138,
   "metadata": {},
   "outputs": [
    {
     "data": {
      "text/plain": [
       "17"
      ]
     },
     "execution_count": 138,
     "metadata": {},
     "output_type": "execute_result"
    }
   ],
   "source": [
    "tribonacci(7)   # 3+5+9"
   ]
  },
  {
   "attachments": {},
   "cell_type": "markdown",
   "metadata": {},
   "source": [
    "        Функция is_palindrome()\n",
    "        Реализуйте функцию is_palindrome() с использованием рекурсии, которая принимает один аргумент:\n",
    "\n",
    "        string — произвольная строка\n",
    "        Функция должна возвращать значение True, если переданная строка является палиндромом, или False в противном случае.\n",
    "\n",
    "        Примечание 1. Палиндром — текст, одинаково читающийся в обоих направлениях.\n",
    "\n",
    "        Примечание 2. Пустая строка является палиндромом, как и строка, состоящая из одного символа."
   ]
  },
  {
   "cell_type": "code",
   "execution_count": null,
   "metadata": {},
   "outputs": [],
   "source": [
    "def is_palindrome(string):\n",
    "    def reverse(start, end):\n",
    "        if start == end:\n",
    "            let = string[start]\n",
    "        else:\n",
    "            reversed_string = \"\" + reverse()\n",
    "        \n"
   ]
  },
  {
   "cell_type": "code",
   "execution_count": 159,
   "metadata": {},
   "outputs": [],
   "source": [
    "def is_palindrome(string):\n",
    "    if len(string) == 0: return True\n",
    "    def reverse(sequence, ind=0):\n",
    "        if ind == len(sequence)-1:\n",
    "            return sequence[ind]\n",
    "        else:\n",
    "            return str(reverse(sequence,ind+1)) + str(sequence[ind])\n",
    "    return string == reverse(string)"
   ]
  },
  {
   "cell_type": "code",
   "execution_count": 162,
   "metadata": {},
   "outputs": [
    {
     "name": "stdout",
     "output_type": "stream",
     "text": [
      "True\n",
      "False\n",
      "True\n"
     ]
    }
   ],
   "source": [
    "print(is_palindrome('level'))\n",
    "print(is_palindrome('stepik'))\n",
    "print(is_palindrome('122333221'))"
   ]
  },
  {
   "cell_type": "code",
   "execution_count": 156,
   "metadata": {},
   "outputs": [],
   "source": [
    "def rvrs(numbers, ind=0):\n",
    "    if ind == len(numbers) -1:\n",
    "        return str(numbers[ind]) \n",
    "    else:\n",
    "        return  str(rvrs(numbers,ind+1)) + str(numbers[ind]) "
   ]
  },
  {
   "cell_type": "code",
   "execution_count": 157,
   "metadata": {},
   "outputs": [
    {
     "data": {
      "text/plain": [
       "'54321'"
      ]
     },
     "execution_count": 157,
     "metadata": {},
     "output_type": "execute_result"
    }
   ],
   "source": [
    "rvrs([1,2,3,4,5])"
   ]
  },
  {
   "cell_type": "code",
   "execution_count": 158,
   "metadata": {},
   "outputs": [
    {
     "data": {
      "text/plain": [
       "'987654'"
      ]
     },
     "execution_count": 158,
     "metadata": {},
     "output_type": "execute_result"
    }
   ],
   "source": [
    "rvrs([4,5,6,7,8,9])"
   ]
  },
  {
   "attachments": {},
   "cell_type": "markdown",
   "metadata": {},
   "source": [
    "        Функция to_binary()\n",
    "        Реализуйте функцию to_binary() с использованием рекурсии, которая принимает один аргумент:\n",
    "\n",
    "        number — неотрицательное целое число\n",
    "        Функция должна возвращать строковое представление числа number в двоичной системе счисления."
   ]
  },
  {
   "cell_type": "code",
   "execution_count": 177,
   "metadata": {},
   "outputs": [],
   "source": [
    "def to_binary(number):\n",
    "    if number == 0: return '0'\n",
    "    elif number  == 1:\n",
    "        return str(number%2)\n",
    "    else: return str(to_binary(number//2)) + str(number%2) \n"
   ]
  },
  {
   "cell_type": "code",
   "execution_count": 173,
   "metadata": {},
   "outputs": [
    {
     "data": {
      "text/plain": [
       "'10110'"
      ]
     },
     "execution_count": 173,
     "metadata": {},
     "output_type": "execute_result"
    }
   ],
   "source": [
    "to_binary(22)"
   ]
  },
  {
   "cell_type": "code",
   "execution_count": 179,
   "metadata": {},
   "outputs": [
    {
     "data": {
      "text/plain": [
       "True"
      ]
     },
     "execution_count": 179,
     "metadata": {},
     "output_type": "execute_result"
    }
   ],
   "source": [
    "bin(0)[2:] == to_binary(0)"
   ]
  },
  {
   "cell_type": "code",
   "execution_count": 167,
   "metadata": {},
   "outputs": [
    {
     "data": {
      "text/plain": [
       "'0b10110'"
      ]
     },
     "execution_count": 167,
     "metadata": {},
     "output_type": "execute_result"
    }
   ],
   "source": [
    "bin(22)"
   ]
  },
  {
   "cell_type": "code",
   "execution_count": 176,
   "metadata": {},
   "outputs": [
    {
     "data": {
      "text/plain": [
       "True"
      ]
     },
     "execution_count": 176,
     "metadata": {},
     "output_type": "execute_result"
    }
   ],
   "source": [
    "to_binary(438) == bin(438)[2:]"
   ]
  },
  {
   "attachments": {},
   "cell_type": "markdown",
   "metadata": {},
   "source": [
    "        Напишите программу с использованием рекурсии, которая принимает на вход число n и вычитает из него число 5, пока оно не перестанет быть положительным, а затем прибавляет к нему число 5, пока оно снова не станет равным n.\n",
    "\n",
    "        Формат входных данных\n",
    "        На вход программе подается натуральное число.\n",
    "\n",
    "        Формат выходных данных\n",
    "        Программа должна выполнить алгоритм, представленный в условии задачи, и вывести все результаты арифметических операций, произведенных с введенным числом, каждый на отдельной строке.\n",
    "\n",
    "        Примечание 1. Обратите внимание, что в начале и в конце выводится исходное число \n",
    "        �\n",
    "        n."
   ]
  },
  {
   "cell_type": "code",
   "execution_count": 183,
   "metadata": {},
   "outputs": [],
   "source": [
    "def madness(number):\n",
    "    if number > 0:\n",
    "        print(number)\n",
    "        madness(number-5)\n",
    "        print(number)\n",
    "    else:\n",
    "        print(number)\n"
   ]
  },
  {
   "cell_type": "code",
   "execution_count": 184,
   "metadata": {},
   "outputs": [
    {
     "name": "stdout",
     "output_type": "stream",
     "text": [
      "16\n",
      "11\n",
      "6\n",
      "1\n",
      "-4\n",
      "1\n",
      "6\n",
      "11\n",
      "16\n"
     ]
    }
   ],
   "source": [
    "madness(16)"
   ]
  },
  {
   "cell_type": "code",
   "execution_count": 180,
   "metadata": {},
   "outputs": [
    {
     "name": "stdout",
     "output_type": "stream",
     "text": [
      "Это рекурсивная функция.\n",
      "Это рекурсивная функция.\n",
      "Это рекурсивная функция.\n",
      "Это рекурсивная функция.\n",
      "Это рекурсивная функция.\n",
      "1\n",
      "2\n",
      "3\n",
      "4\n",
      "5\n"
     ]
    }
   ],
   "source": [
    "def message(times):\n",
    "    if times > 0:\n",
    "        print('Это рекурсивная функция.')\n",
    "        message(times - 1)\n",
    "        print(times)\n",
    "\n",
    "message(5)"
   ]
  },
  {
   "attachments": {},
   "cell_type": "markdown",
   "metadata": {},
   "source": [
    "Распечатать список, содержащий вложенные списки"
   ]
  },
  {
   "cell_type": "code",
   "execution_count": 185,
   "metadata": {},
   "outputs": [],
   "source": [
    "def get_all_str(data):\n",
    "    if type(data) == str:\n",
    "        print(data, end=' ')            # базовый случай\n",
    "    if type(data) == list:\n",
    "        for i in data:\n",
    "            get_all_str(i)              # рекурсивный случай"
   ]
  },
  {
   "cell_type": "code",
   "execution_count": 186,
   "metadata": {},
   "outputs": [
    {
     "name": "stdout",
     "output_type": "stream",
     "text": [
      "1 2 3 4 5 6 7 "
     ]
    }
   ],
   "source": [
    "numbers = ['1', ['2', '3', ['4'], ['5', ['6', '7']]]]\n",
    "\n",
    "get_all_str(numbers)"
   ]
  },
  {
   "attachments": {},
   "cell_type": "markdown",
   "metadata": {},
   "source": [
    "Распаковать списки внутри списка (элементы произвольные) \n",
    "\n",
    "unpack nested lists"
   ]
  },
  {
   "cell_type": "code",
   "execution_count": 215,
   "metadata": {},
   "outputs": [],
   "source": [
    "def unpacked_lists(lst):\n",
    "    result = []\n",
    "    for item in lst:\n",
    "        if isinstance(item, list):  # если элемент является списком\n",
    "            result.extend(unpacked_lists(item))  # рекурсивно вызываем функцию для распаковки вложенного списка\n",
    "        else:\n",
    "            result.append(item)  # добавляем элемент в результат, если он не является списком\n",
    "    return result"
   ]
  },
  {
   "cell_type": "code",
   "execution_count": 214,
   "metadata": {},
   "outputs": [
    {
     "data": {
      "text/plain": [
       "['1', '2', '3', '4', '5', '6', '7']"
      ]
     },
     "execution_count": 214,
     "metadata": {},
     "output_type": "execute_result"
    }
   ],
   "source": [
    "numbers = ['1', ['2', '3', ['4'], ['5', ['6', '7']]]]\n",
    "\n",
    "unpacked_lists(numbers)"
   ]
  },
  {
   "attachments": {},
   "cell_type": "markdown",
   "metadata": {},
   "source": [
    "Задача 2. Дан словарь произвольной вложенности, то есть значениями в словаре могут быть другие словари. Необходимо определить значение, которое соответствует заданному ключу, и вернуть его. При этом гарантируется, что такой ключ имеется в словаре, причем он единственный. \n",
    "\n",
    "Решение. Реализуем рекурсивную функцию find_key(), которая принимает два аргумента в следующем порядке:\n",
    "\n",
    "- data — словарь произвольной вложенности\n",
    "- key — ключ, значение которого нужно вернуть\n",
    "\n",
    "Итак, для начала определимся с базовым случаем. Он простой: если ключ есть в словаре, вернем его значение.\n",
    "\n",
    "В противном случае нам нужно с помощью цикла for пройтись по всем ключам и значениям словаря, чтобы понять, есть ли среди значений вложенные словари. И если значением является вложенный словарь, то мы используем рекурсию: вызываем нашу же функцию и передаем ей в качестве аргумента новый словарь. "
   ]
  },
  {
   "cell_type": "code",
   "execution_count": 199,
   "metadata": {},
   "outputs": [
    {
     "name": "stdout",
     "output_type": "stream",
     "text": [
      "1974\n",
      "Alan Hannigan\n"
     ]
    }
   ],
   "source": [
    "# найти значение по ключу для вложенных словарей (словарь, вложенный в словарь - до бесконечности)\n",
    "\n",
    "def find_key(data, key):\n",
    "    if key in data:\n",
    "        return data[key]                # базовый случай\n",
    "    \n",
    "    for k, v in data.items():\n",
    "        if type(v) == dict:\n",
    "            value = find_key(v, key)    # рекурсивный случай\n",
    "            if value is not None:\n",
    "                return value\n",
    "             \n",
    "            \n",
    "\n",
    "info = {'name': 'Alyson', \n",
    "        'surname': 'Hannigan', \n",
    "        'birthday': {'day': 24, 'month': 'March', 'year': 1974},\n",
    "        'family': {'parents': {'mother': 'Emilie Posner', 'father': 'Alan Hannigan'}}}\n",
    "\n",
    "print(find_key(info, 'year'))\n",
    "print(find_key(info, 'father'))"
   ]
  },
  {
   "cell_type": "code",
   "execution_count": 196,
   "metadata": {},
   "outputs": [],
   "source": [
    "find_key(info, 'anton')     # нет ключа  - функция ничего не вернула"
   ]
  },
  {
   "attachments": {},
   "cell_type": "markdown",
   "metadata": {},
   "source": [
    "**Настройка глубины рекурсии в Python**\n",
    "\n",
    "\n",
    "По умолчанию Python имеет ограничение на максимальную глубину рекурсивных вызовов. Это ограничение не позволяет бесконечной рекурсии вызывать переполнение стека.\n",
    "\n",
    "Получить значение по умолчанию для максимальной глубины рекурсии можно с помощью функции getrecursionlimit() из модуля sys."
   ]
  },
  {
   "cell_type": "code",
   "execution_count": 200,
   "metadata": {},
   "outputs": [
    {
     "name": "stdout",
     "output_type": "stream",
     "text": [
      "3000\n"
     ]
    }
   ],
   "source": [
    "from sys import getrecursionlimit\n",
    "\n",
    "limit = getrecursionlimit()\n",
    "\n",
    "print(limit)"
   ]
  },
  {
   "cell_type": "code",
   "execution_count": 201,
   "metadata": {},
   "outputs": [
    {
     "name": "stdout",
     "output_type": "stream",
     "text": [
      "3000\n",
      "6000\n"
     ]
    }
   ],
   "source": [
    "# установка лимита рекурсии\n",
    "\n",
    "import sys\n",
    "\n",
    "limit = sys.getrecursionlimit()\n",
    "print(limit)\n",
    "\n",
    "sys.setrecursionlimit(6000)\n",
    "new_limit = sys.getrecursionlimit()\n",
    "print(new_limit)"
   ]
  },
  {
   "cell_type": "code",
   "execution_count": 203,
   "metadata": {},
   "outputs": [
    {
     "name": "stdout",
     "output_type": "stream",
     "text": [
      "6000\n",
      "3000\n"
     ]
    }
   ],
   "source": [
    "# установка лимита рекурсии (просто вернем текущее значение)\n",
    "\n",
    "import sys\n",
    "\n",
    "limit = sys.getrecursionlimit()\n",
    "print(limit)\n",
    "\n",
    "sys.setrecursionlimit(3000)\n",
    "new_limit = sys.getrecursionlimit()\n",
    "print(new_limit)"
   ]
  },
  {
   "attachments": {},
   "cell_type": "markdown",
   "metadata": {},
   "source": [
    "        Функция recursive_sum()\n",
    "        Реализуйте recursive_sum() с использованием рекурсии, которая принимает один аргумент:\n",
    "\n",
    "        nested_lists — список, элементами которого являются целые числа или списки, элементами которых, в свою очередь, также являются либо целые числа, либо списки; вложенность может быть произвольной\n",
    "        Функция должна вычислять сумму всех чисел во всех списках и возвращать полученный результат. Если список nested_lists пуст, функция должна вернуть число \n",
    "        0\n",
    "        0."
   ]
  },
  {
   "cell_type": "code",
   "execution_count": 230,
   "metadata": {},
   "outputs": [],
   "source": [
    "def recursive_sum(nested_lists):\n",
    "    def unpacked_lists(lst):\n",
    "        result = []\n",
    "        for item in lst:\n",
    "            if isinstance(item, list):  # если элемент является списком\n",
    "                result.extend(unpacked_lists(item))     # рекурсивно вызываем функцию для распаковки \n",
    "                                                        # вложенного списка и расширяем результирующий список \n",
    "            else:\n",
    "                result.append(item)  # добавляем элемент в результат, если он не является списком\n",
    "        return result\n",
    "    return sum(unpacked_lists(nested_lists))"
   ]
  },
  {
   "cell_type": "code",
   "execution_count": 231,
   "metadata": {},
   "outputs": [
    {
     "name": "stdout",
     "output_type": "stream",
     "text": [
      "24\n"
     ]
    }
   ],
   "source": [
    "my_list = [1, [4, 4], 2, [1, [2, 10]]]\n",
    "\n",
    "print(recursive_sum(my_list))\n"
   ]
  },
  {
   "cell_type": "code",
   "execution_count": 226,
   "metadata": {},
   "outputs": [
    {
     "data": {
      "text/plain": [
       "[1, 4, 4, 2, 1, 2, 10]"
      ]
     },
     "execution_count": 226,
     "metadata": {},
     "output_type": "execute_result"
    }
   ],
   "source": [
    "def unpacked_lists(lst):\n",
    "    result = []\n",
    "    for item in lst:\n",
    "        if isinstance(item, list):  # если элемент является списком\n",
    "            result.extend(unpacked_lists(item))     # рекурсивно вызываем функцию для распаковки \n",
    "                                                    # вложенного списка и расширяем результирующий список \n",
    "        else:\n",
    "            result.append(item)  # добавляем элемент в результат, если он не является списком\n",
    "    return result\n",
    "    \n",
    "\n",
    "my_list = [1, [4, 4], 2, [1, [2, 10]]]\n",
    "unpacked_lists(my_list)"
   ]
  },
  {
   "cell_type": "code",
   "execution_count": 227,
   "metadata": {},
   "outputs": [
    {
     "data": {
      "text/plain": [
       "True"
      ]
     },
     "execution_count": 227,
     "metadata": {},
     "output_type": "execute_result"
    }
   ],
   "source": [
    "isinstance([1,2,3,4,5], list)   # функция проверки заданного аргумента принадлежности типу"
   ]
  },
  {
   "attachments": {},
   "cell_type": "markdown",
   "metadata": {},
   "source": [
    "        Функция get_value()\n",
    "        Реализуйте функцию get_value(), которая принимает два аргумента в следующем порядке:\n",
    "\n",
    "        nested_dicts — словарь, содержащий в качестве значений произвольные объекты или словари, которые, в свою очередь, так же содержат в качестве значений произвольные объекты или словари; вложенность может быть произвольной\n",
    "        key — хешируемый объект\n",
    "        Функция должна определять значение, которое соответствует ключу key в словаре nested_dicts или в одном из его вложенных словарей, и возвращать полученный результат.\n",
    "\n",
    "        Примечание 1. Гарантируется, что ключ key присутствует в словаре nested_dicts или в одном из его вложенных словарей, причем в единственном экземпляре."
   ]
  },
  {
   "cell_type": "code",
   "execution_count": 232,
   "metadata": {},
   "outputs": [],
   "source": [
    "def get_value(nested_dicts, key):\n",
    "    if key in nested_dicts:\n",
    "        return nested_dicts[key]\n",
    "    else:\n",
    "        for value in nested_dicts.values():\n",
    "            if isinstance(value,dict):\n",
    "                result = get_value(value,key)\n",
    "                if result is not None:\n",
    "                    return result\n"
   ]
  },
  {
   "cell_type": "code",
   "execution_count": 235,
   "metadata": {},
   "outputs": [
    {
     "name": "stdout",
     "output_type": "stream",
     "text": [
      "Москва\n",
      "125315\n"
     ]
    }
   ],
   "source": [
    "data = {'firstName': 'Тимур', 'lastName': 'Гуев', 'birthDate': {'day': 10, 'month': 'October', 'year': 1993}, 'address': {'streetAddress': 'Часовая 25, кв. 127', 'city': {'region': 'Московская область', 'type': 'город', 'cityName': 'Москва'}, 'postalCode': '125315'}}\n",
    "\n",
    "print(get_value(data, 'cityName'))\n",
    "print(get_value(data, 'postalCode'))"
   ]
  },
  {
   "cell_type": "code",
   "execution_count": 234,
   "metadata": {},
   "outputs": [
    {
     "name": "stdout",
     "output_type": "stream",
     "text": [
      "{'day': 24, 'month': 'March', 'year': 1974}\n"
     ]
    }
   ],
   "source": [
    "data = {'first_name': 'Alyson', 'last_name': 'Hannigan', 'birthday': {'day': 24, 'month': 'March', 'year': 1974}}\n",
    "\n",
    "print(get_value(data, 'birthday'))"
   ]
  },
  {
   "attachments": {},
   "cell_type": "markdown",
   "metadata": {},
   "source": [
    "        Функция get_all_values() 🌶️\n",
    "        Реализуйте функцию get_all_values(), которая принимает два аргумента в следующем порядке:\n",
    "\n",
    "        nested_dicts — словарь, содержащий в качестве значений произвольные объекты или словари, которые, в свою очередь, так же содержат в качестве значений произвольные объекты или словари; вложенность может быть произвольной\n",
    "        key — хешируемый объект\n",
    "        Функция должна определять все значения, которые соответствуют ключу key в словаре nested_dicts и всех его вложенных словарях, и возвращать их в виде множества. Если ключа key нет ни в одном словаре, функция должна вернуть пустое множество.\n",
    "\n",
    "        Примечание 1. В тестирующую систему сдайте программу, содержащую только необходимую функцию get_all_values(), но не код, вызывающий ее."
   ]
  },
  {
   "cell_type": "code",
   "execution_count": 238,
   "metadata": {},
   "outputs": [],
   "source": [
    "def get_all_values(nested_dicts, key):\n",
    "    values = set()\n",
    "    if isinstance(nested_dicts, dict):                  # если заходит словарь\n",
    "        if key in nested_dicts:                         # проверяем есть ли в словаре искомый ключ\n",
    "            values.add(nested_dicts[key])               # если да - добавляем во множество значение по ключу\n",
    "        for value in nested_dicts.values():             # если нет - запускаем цикл по значениям-словарям\n",
    "            values.update(get_all_values(value, key))   # к каждому из словарей применяем функцию (запускаем рекурсию)\n",
    "                                                        # а результат записываем во множество\n",
    "    return values"
   ]
  },
  {
   "cell_type": "code",
   "execution_count": 239,
   "metadata": {},
   "outputs": [
    {
     "name": "stdout",
     "output_type": "stream",
     "text": [
      "math videogames\n"
     ]
    }
   ],
   "source": [
    "my_dict = {'Arthur': {'hobby': 'videogames', 'drink': 'cacao'}, 'Timur': {'hobby': 'math'}}\n",
    "result = get_all_values(my_dict, 'hobby')\n",
    "\n",
    "print(*sorted(result))"
   ]
  },
  {
   "cell_type": "code",
   "execution_count": 244,
   "metadata": {},
   "outputs": [
    {
     "data": {
      "text/plain": [
       "{1, 2, 3, 4, 5, 6, 7}"
      ]
     },
     "execution_count": 244,
     "metadata": {},
     "output_type": "execute_result"
    }
   ],
   "source": [
    "one = {1,2,3,4,5}\n",
    "second = {4,5,6,7}\n",
    "one.update(second)\n",
    "one"
   ]
  },
  {
   "attachments": {},
   "cell_type": "markdown",
   "metadata": {},
   "source": [
    "        Функция dict_travel() 🌶️🌶️\n",
    "        Реализуйте функцию dict_travel(), которая принимает один аргумент:\n",
    "\n",
    "        nested_dicts — словарь, содержащий в качестве значений числа, строки или словари, которые, в свою очередь, так же содержат в качестве значений числа, строки или словари; вложенность может быть произвольной\n",
    "        Функция должна выводить все пары ключ-значение словаря nested_dicts, а также значения всех его дочерних словарей. При выводе значений дочерних словарей необходимо перечислять имена всех ключей, начиная с верхнего уровня, разделяя их точками.\n",
    "\n",
    "        Например, в словаре:\n",
    "\n",
    "        {'name': 'Arthur', 'grades': {'math': [4, 4], 'chemistry': [3, 4]}}\n",
    "        значение [4, 4] должно быть выведено в следующем формате:\n",
    "\n",
    "        grades.math: [4, 4]\n",
    "        Все пары ключ-значение должны быть расположены в лексикографическом порядке, каждая на отдельной строке."
   ]
  },
  {
   "cell_type": "code",
   "execution_count": 246,
   "metadata": {},
   "outputs": [
    {
     "name": "stdout",
     "output_type": "stream",
     "text": [
      "a:1\n",
      "b.c:30\n",
      "b.a:10\n",
      "b.b:20\n"
     ]
    }
   ],
   "source": [
    "# образец на простом примере\n",
    "data = {'a': 1, 'b': {'c': 30, 'a': 10, 'b': 20}}\n",
    "for k,v in data.items():\n",
    "    if isinstance(v,dict):\n",
    "        for k1,v1 in v.items():\n",
    "            print(f'{k}.{k1}:{v1}')\n",
    "    else: print(f'{k}:{v}')"
   ]
  },
  {
   "cell_type": "code",
   "execution_count": 252,
   "metadata": {},
   "outputs": [],
   "source": [
    "def dict_travel(nested_dicts):\n",
    "    def traverse(data, prefix=''):\n",
    "        for key in sorted(data.keys()):\n",
    "            value = data[key]\n",
    "            if isinstance(value, dict):\n",
    "                traverse(value, prefix + key + '.')\n",
    "            else:\n",
    "                print(prefix + key + ':', value)\n",
    "\n",
    "    traverse(nested_dicts)\n"
   ]
  },
  {
   "cell_type": "code",
   "execution_count": 253,
   "metadata": {},
   "outputs": [
    {
     "name": "stdout",
     "output_type": "stream",
     "text": [
      "a: 1\n",
      "b.a: 10\n",
      "b.b: 20\n",
      "b.c: 30\n"
     ]
    }
   ],
   "source": [
    "dict_travel(data)"
   ]
  },
  {
   "cell_type": "code",
   "execution_count": 264,
   "metadata": {},
   "outputs": [
    {
     "data": {
      "text/plain": [
       "[('a', 1), ('b.a', 10), ('b.b', 20), ('b.c', 30)]"
      ]
     },
     "execution_count": 264,
     "metadata": {},
     "output_type": "execute_result"
    }
   ],
   "source": [
    "def dict_travel1(nested_dicts):\n",
    "    def traverse(data, prefix=''):\n",
    "        result = []                         # создаем контейнер\n",
    "        for key, value in data.items():     # запускаем цикл по парам ключ-значение\n",
    "            if isinstance(value, dict):     # если значение это словарь\n",
    "                # то расширяем контейнер списком от рекурсивного исполнения текущей функции\n",
    "                # в виде [(ключ, значение)] + добавляем значение префикса вида \"ключ1.\" с точкой\n",
    "                # тогда на очередном этапе рекурсии (в случае очередного значения = словарь) к префиксу добавится \n",
    "                # ключ1.ключ2. и так далее\n",
    "                result.extend(traverse(value, prefix + key + '.'))\n",
    "            else:                                       # если значение - все, что угодно, но не словарь\n",
    "                result.append((prefix + key, value))    # то в список добавляется кортеж вида (ключ, значение)\n",
    "                                                        # причем к ключу добавляется префикс\n",
    "        return result\n",
    "\n",
    "    return sorted(traverse(nested_dicts)) \n",
    "\n",
    "dict_travel1(data)"
   ]
  },
  {
   "cell_type": "code",
   "execution_count": 262,
   "metadata": {},
   "outputs": [
    {
     "name": "stdout",
     "output_type": "stream",
     "text": [
      "a:1\n",
      "b.a:10\n",
      "b.b:20\n",
      "b.c:30\n"
     ]
    }
   ],
   "source": [
    "print(* [f'{k}:{v}' for k,v in [('a', 1), ('b.a', 10), ('b.b', 20), ('b.c', 30)]], \n",
    "      sep= '\\n')"
   ]
  },
  {
   "cell_type": "code",
   "execution_count": null,
   "metadata": {},
   "outputs": [],
   "source": []
  }
 ],
 "metadata": {
  "kernelspec": {
   "display_name": "Python 3",
   "language": "python",
   "name": "python3"
  },
  "language_info": {
   "codemirror_mode": {
    "name": "ipython",
    "version": 3
   },
   "file_extension": ".py",
   "mimetype": "text/x-python",
   "name": "python",
   "nbconvert_exporter": "python",
   "pygments_lexer": "ipython3",
   "version": "3.11.3"
  },
  "orig_nbformat": 4
 },
 "nbformat": 4,
 "nbformat_minor": 2
}
