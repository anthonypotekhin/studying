{
 "cells": [
  {
   "attachments": {},
   "cell_type": "markdown",
   "metadata": {},
   "source": [
    "### Списки"
   ]
  },
  {
   "cell_type": "code",
   "execution_count": 1,
   "metadata": {},
   "outputs": [
    {
     "name": "stdout",
     "output_type": "stream",
     "text": [
      "None\n"
     ]
    }
   ],
   "source": [
    "numbers = [1, 2, 3, 4]\n",
    "\n",
    "numbers = numbers.append(5)\n",
    "\n",
    "print(numbers)"
   ]
  },
  {
   "cell_type": "code",
   "execution_count": 2,
   "metadata": {},
   "outputs": [
    {
     "name": "stdout",
     "output_type": "stream",
     "text": [
      "['a', 'b', 'd', 'e', 'f']\n"
     ]
    }
   ],
   "source": [
    "letters = ['a', 'b', 'c']\n",
    "\n",
    "letters[2:6] = ['d', 'e', 'f']\n",
    "\n",
    "print(letters)"
   ]
  },
  {
   "attachments": {},
   "cell_type": "markdown",
   "metadata": {},
   "source": [
    "любая непустая коллекция приводится к логическому значению True"
   ]
  },
  {
   "cell_type": "code",
   "execution_count": 3,
   "metadata": {},
   "outputs": [
    {
     "name": "stdout",
     "output_type": "stream",
     "text": [
      "True\n"
     ]
    }
   ],
   "source": [
    "my_list = [[]]\n",
    "\n",
    "if my_list:\n",
    "    print('True')\n",
    "else:\n",
    "    print('False')"
   ]
  },
  {
   "cell_type": "code",
   "execution_count": 6,
   "metadata": {},
   "outputs": [
    {
     "data": {
      "text/plain": [
       "[1, 2, 3, 4]"
      ]
     },
     "execution_count": 6,
     "metadata": {},
     "output_type": "execute_result"
    }
   ],
   "source": [
    "numbers = [1, 2, 3, 4]\n",
    "\n",
    "numbers.extend([])\n",
    "numbers"
   ]
  },
  {
   "cell_type": "code",
   "execution_count": 7,
   "metadata": {},
   "outputs": [
    {
     "data": {
      "text/plain": [
       "[1, 2, 3, 4, []]"
      ]
     },
     "execution_count": 7,
     "metadata": {},
     "output_type": "execute_result"
    }
   ],
   "source": [
    "numbers = [1, 2, 3, 4]\n",
    "numbers.append([])\n",
    "numbers\n"
   ]
  },
  {
   "cell_type": "code",
   "execution_count": 8,
   "metadata": {},
   "outputs": [
    {
     "name": "stdout",
     "output_type": "stream",
     "text": [
      "False\n"
     ]
    }
   ],
   "source": [
    "python = ['word']\n",
    "\n",
    "x = python in python\n",
    "\n",
    "print(x)"
   ]
  },
  {
   "attachments": {},
   "cell_type": "markdown",
   "metadata": {},
   "source": [
    "### Словари и множества"
   ]
  },
  {
   "attachments": {},
   "cell_type": "markdown",
   "metadata": {},
   "source": [
    "        Дана строка соответствия латинскому алфавиту: первый символ строки соответствует букве a, второй — b, третий — c, и так далее. Каждый символ соответствует как заглавной, так и строчной буквам. Количество символов в строке совпадает с количеством букв в латинском алфавите.\n",
    "\n",
    "        Напишите программу, которая с помощью данной строки переводит заданный текст."
   ]
  },
  {
   "cell_type": "code",
   "execution_count": 19,
   "metadata": {},
   "outputs": [],
   "source": [
    "# используем метод maketrans(), который возвращает словарь соответствия двух списков в формате {спис1[0] : спис2[0],... }\n",
    "\n",
    "def encrypte_str(encrypted_abc, some_string):\n",
    "    # создаем строку алфавита и строку зашифрованного алфавита\n",
    "    eng_abc = ''.join([chr(el) for el in range(ord('a'), ord('z')+1)])  \n",
    "\n",
    "    # считываем строку, которую хотим перевести+ меняем регистр на тот же, что и у исходного алфавита\n",
    "    some_string = some_string.lower()\n",
    "\n",
    "    # создаем таблицу соответствия зашифрованных символов - символам алфавита\n",
    "    tbl = some_string.maketrans(eng_abc, encrypted_abc)\n",
    "\n",
    "    return print(some_string.translate(tbl))"
   ]
  },
  {
   "cell_type": "code",
   "execution_count": 20,
   "metadata": {},
   "outputs": [
    {
     "name": "stdout",
     "output_type": "stream",
     "text": [
      "😆😝😛😩 😄😉 😫😝 😫😀😆!\n"
     ]
    }
   ],
   "source": [
    "a = '😀😄😁😆😉😌😍🥰😘😗😙😚😋😛😝😜🤪🤨😫😩🥺😢😭😤😠😡'\n",
    "b = 'Dont be so sad!'\n",
    "\n",
    "encrypte_str(a,b)"
   ]
  },
  {
   "attachments": {},
   "cell_type": "markdown",
   "metadata": {},
   "source": [
    "### Именованные кортежи collections namedtuple\n",
    "https://stepik.org/lesson/590034/step/1?unit=584966\n"
   ]
  },
  {
   "cell_type": "code",
   "execution_count": 21,
   "metadata": {},
   "outputs": [
    {
     "name": "stdout",
     "output_type": "stream",
     "text": [
      "Point(x=3, y=7)\n",
      "3 7\n",
      "3 7\n",
      "<class '__main__.Point'>\n"
     ]
    }
   ],
   "source": [
    "from collections import namedtuple\n",
    "\n",
    "Point = namedtuple('Point', ['x', 'y'])     # объявляем тип Point именованного кортежа\n",
    "\n",
    "point = Point(3, 7)                         # создаем именованный кортеж Point\n",
    "\n",
    "print(point)\n",
    "print(point.x, point.y)\n",
    "print(point[0], point[1])\n",
    "print(type(point))"
   ]
  },
  {
   "attachments": {},
   "cell_type": "markdown",
   "metadata": {},
   "source": [
    "namedtuple(typename, field_names, *, rename=False, defaults=None, module=None)\n",
    "\n",
    "- Параметр typename отвечает за имя создаваемого типа (строка с типом, который нужно сделать именованным кортежем)\n",
    "\n",
    "- параметр field_names за названия полей (список, словарь, строка, множество, кортеж)\n",
    "\n",
    "- rename нужен, когда мы импортируем имена аргументов из какого-нибудь файла\n",
    "\n",
    "- default для установки дефолтных значений по умолчанию для аргументов\n",
    "\n",
    "- Параметр module был добавлен в Python 3.6 для того, чтобы появилась возможность сериализовать/десериализовать именованные кортежи с помощью модуля pickle."
   ]
  },
  {
   "cell_type": "code",
   "execution_count": 22,
   "metadata": {},
   "outputs": [
    {
     "name": "stdout",
     "output_type": "stream",
     "text": [
      "Point(x=2, y=4)\n"
     ]
    }
   ],
   "source": [
    "# например, со строкой интереснее всего\n",
    "\n",
    "from collections import namedtuple\n",
    "\n",
    "Point = namedtuple('Point', 'x,y')     # в качестве второго параметра передаем строку\n",
    "point =  Point(2, 4)\n",
    "print(point)                           # выводит Point(x=2, y=4)\n"
   ]
  },
  {
   "cell_type": "code",
   "execution_count": 23,
   "metadata": {},
   "outputs": [
    {
     "name": "stdout",
     "output_type": "stream",
     "text": [
      "Point(x=2, y=4)\n"
     ]
    }
   ],
   "source": [
    "from collections import namedtuple\n",
    "\n",
    "Point = namedtuple('Point', 'x y')    # в качестве второго параметра передаем строку\n",
    "point =  Point(2, 4)\n",
    "print(point)                          # выводит Point(x=2, y=4)"
   ]
  },
  {
   "attachments": {},
   "cell_type": "markdown",
   "metadata": {},
   "source": [
    "Допустим, мы импортируем данные из CSV-файла и превращаем каждую строку в именованный кортеж. Структура файла имеет вид:\n",
    "\n",
    "name,surname,age,class\n",
    "Timur,Guev,28,11\n",
    "Ruslan,Chaniev,22,9\n",
    "...\n",
    "Названия полей мы берем из заголовка CSV-файла:\n",
    "\n",
    "from collections import namedtuple\n",
    "\n",
    "headers = ('name', 'surname', 'age', 'class')\n",
    "\n",
    "Student = namedtuple('Student', headers)\n",
    "Поскольку одно поле имеет название class (ключевое слово языка Python) мы получаем ошибку: ValueError: Type names and field names cannot be a keyword: 'class'.\n",
    "\n",
    "Проблема заключается в том, что мы не знаем, будут ли в качестве названий полей у нас ключевые слова языка Python или нет. Для решения данной проблемы можно использовать параметр rename со значением True.\n",
    "\n",
    "Приведенный ниже код:\n",
    "\n",
    "from collections import namedtuple\n",
    "\n",
    "headers = ('name', 'surname', 'age', 'class')\n",
    "\n",
    "Student = namedtuple('Student', headers, rename=True)\n",
    "\n",
    "stud = Student('Роман', 'Белых', 26, 10)\n",
    "print(stud)\n",
    "выводит:\n",
    "\n",
    "Student(name='Роман', surname='Белых', age=26, _3=10)\n",
    "Обратите внимание на то, что Python автоматически переименовал поле class в _3."
   ]
  },
  {
   "cell_type": "code",
   "execution_count": 24,
   "metadata": {},
   "outputs": [
    {
     "name": "stdout",
     "output_type": "stream",
     "text": [
      "Student(name='Тимур', surname='Гуев', age=28, _3=11, _4='sister', color='green', _6='Tim', _7='11A', _8='else')\n"
     ]
    }
   ],
   "source": [
    "from collections import namedtuple\n",
    "\n",
    "headers = ('name', 'surname', 'age', 'class', 'with', 'color', 'name', 'class', 'if')\n",
    "\n",
    "Student = namedtuple('Student', headers, rename=True)\n",
    "\n",
    "stud = Student('Тимур', 'Гуев', 28, 11, 'sister', 'green', 'Tim', '11A', 'else')\n",
    "print(stud)"
   ]
  },
  {
   "cell_type": "code",
   "execution_count": 25,
   "metadata": {},
   "outputs": [
    {
     "name": "stdout",
     "output_type": "stream",
     "text": [
      "Point(x=0, y=0)\n",
      "Point(x=1, y=9)\n"
     ]
    }
   ],
   "source": [
    "# параметр default для значений \n",
    "from collections import namedtuple\n",
    "\n",
    "Point = namedtuple('Point', ['x', 'y'], defaults=(0, 0))\n",
    "point1 = Point()      # используем значения по умолчанию\n",
    "point2 = Point(1, 9)\n",
    "\n",
    "print(point1)\n",
    "print(point2)"
   ]
  },
  {
   "cell_type": "code",
   "execution_count": 26,
   "metadata": {},
   "outputs": [],
   "source": [
    "from collections import namedtuple\n",
    "\n",
    "Movie = namedtuple('Movie', ['name', 'genres', 'director', 'imdb_rating'])\n",
    "\n",
    "movie = Movie('La La Land', ['comedy', 'drama', 'musical'], 'Damien Chazelle', 8)\n",
    "\n"
   ]
  },
  {
   "cell_type": "code",
   "execution_count": 29,
   "metadata": {},
   "outputs": [
    {
     "data": {
      "text/plain": [
       "'La La Land'"
      ]
     },
     "execution_count": 29,
     "metadata": {},
     "output_type": "execute_result"
    }
   ],
   "source": [
    "movie.name"
   ]
  },
  {
   "cell_type": "code",
   "execution_count": 30,
   "metadata": {},
   "outputs": [
    {
     "name": "stdout",
     "output_type": "stream",
     "text": [
      "11\n",
      "6\n",
      "0.0\n",
      "25\n"
     ]
    }
   ],
   "source": [
    "# итерирование по именованному кортежу\n",
    "\n",
    "from collections import namedtuple\n",
    "\n",
    "Weather = namedtuple('Weather', ['temp', 'wind', 'rain', 'cloud'])\n",
    "\n",
    "tokyo_weather = Weather(11, 6, 0.0, 25)\n",
    "\n",
    "for x in tokyo_weather:\n",
    "    print(x)"
   ]
  },
  {
   "cell_type": "code",
   "execution_count": 31,
   "metadata": {},
   "outputs": [
    {
     "data": {
      "text/plain": [
       "Integer(value=16, even=True, divisors=[1, 2, 4])"
      ]
     },
     "execution_count": 31,
     "metadata": {},
     "output_type": "execute_result"
    }
   ],
   "source": [
    "from collections import namedtuple\n",
    "\n",
    "Integer = namedtuple('Integer', ['value', 'even', 'divisors'])\n",
    "\n",
    "number = Integer(16, True, [1, 2, 4])\n",
    "\n",
    "number"
   ]
  },
  {
   "attachments": {},
   "cell_type": "markdown",
   "metadata": {},
   "source": [
    "Именованные кортежи имеют два дополнительных атрибута: **_fields и _field_defaults**. \n",
    "\n",
    "- fields содержит кортеж строк, в котором перечислены имена полей. \n",
    "\n",
    "- field_defaults содержит словарь, который сопоставляет имена полей с соответствующими значениями по умолчанию, если таковые имеются."
   ]
  },
  {
   "cell_type": "code",
   "execution_count": 32,
   "metadata": {},
   "outputs": [
    {
     "name": "stdout",
     "output_type": "stream",
     "text": [
      "Person(name='Тимур', age=29, height=170)\n",
      "('name', 'age', 'height')\n",
      "('name', 'age', 'height')\n"
     ]
    }
   ],
   "source": [
    "from collections import namedtuple\n",
    "\n",
    "Person = namedtuple('Person', ['name', 'age', 'height'])\n",
    "\n",
    "tim = Person('Тимур', 29, 170)\n",
    "\n",
    "print(tim)\n",
    "print(tim._fields)\n",
    "print(Person._fields)"
   ]
  },
  {
   "attachments": {},
   "cell_type": "markdown",
   "metadata": {},
   "source": [
    "С помощью атрибута _fields мы можем создавать новые именованные кортежи на основании уже существующих. В следующем примере мы создадим новый именованный кортеж с именем ExtendedPerson, который расширяет старый Person новым полем weight."
   ]
  },
  {
   "cell_type": "code",
   "execution_count": 33,
   "metadata": {},
   "outputs": [
    {
     "name": "stdout",
     "output_type": "stream",
     "text": [
      "ExtendedPerson(name='Тимур', age=29, height=170, weight=65)\n",
      "('name', 'age', 'height', 'weight')\n"
     ]
    }
   ],
   "source": [
    "from collections import namedtuple\n",
    "\n",
    "Person = namedtuple('Person', ['name', 'age', 'height'])\n",
    "\n",
    "ExtendedPerson = namedtuple('ExtendedPerson', [*Person._fields, 'weight'])  # распаковка полей старого кортежа\n",
    "\n",
    "timur = ExtendedPerson('Тимур', 29, 170, 65)\n",
    "\n",
    "print(timur)\n",
    "print(ExtendedPerson._fields)"
   ]
  },
  {
   "cell_type": "code",
   "execution_count": 34,
   "metadata": {},
   "outputs": [
    {
     "name": "stdout",
     "output_type": "stream",
     "text": [
      "name -> Тимур\n",
      "age -> 29\n",
      "height -> 170\n"
     ]
    }
   ],
   "source": [
    "# перебор полей (имен аргументов) для именованных кортежей через zip()\n",
    "\n",
    "from collections import namedtuple\n",
    "\n",
    "Person = namedtuple('Person', ['name', 'age', 'height'])\n",
    "\n",
    "timur = Person('Тимур', 29, 170)\n",
    "\n",
    "for field, value in zip(Person._fields, timur):\n",
    "    print(field, '->', value)"
   ]
  },
  {
   "cell_type": "code",
   "execution_count": 35,
   "metadata": {},
   "outputs": [
    {
     "name": "stdout",
     "output_type": "stream",
     "text": [
      "Person(name='Тимур', age=29, height=170, country='Russia')\n",
      "{'country': 'Russia'}\n",
      "{'country': 'Russia'}\n",
      "\n",
      "{}\n"
     ]
    }
   ],
   "source": [
    "# field_defaults содержит словарь значений ко умолчанию (если их нет - пустой словарь)\n",
    "\n",
    "from collections import namedtuple\n",
    "\n",
    "Person = namedtuple('Person', ['name', 'age', 'height', 'country'], defaults=['Russia'])\n",
    "\n",
    "timur = Person('Тимур', 29, 170)\n",
    "\n",
    "print(timur)\n",
    "print(timur._field_defaults)\n",
    "print(Person._field_defaults)\n",
    "\n",
    "print() \n",
    "from collections import namedtuple\n",
    "\n",
    "Person = namedtuple('Person', ['name', 'age', 'height', 'country'])\n",
    "\n",
    "timur = Person('Тимур', 29, 170, 'Russia')\n",
    "\n",
    "print(Person._field_defaults)   # выведет пустой словарь"
   ]
  },
  {
   "attachments": {},
   "cell_type": "markdown",
   "metadata": {},
   "source": [
    "Кортежи имеют два основных метода:\n",
    "1) index (x) найдет индекс заданного элемента\n",
    "2) count(x) посчитает число вхождений Х в кортеже\n",
    "\n",
    "+ в именованных кортежах добавляются:\n",
    "3) _make() используется для создания именованных кортежей из итерируемых объектов (список, кортеж, строка, словарь и т.д.).\n",
    "\n",
    "4) _asdict() метод возвращает словарь, в котором имена полей используются в качестве ключей. Ключи результирующего словаря находятся в том же порядке, что и поля в исходном именованном кортеже\n",
    "\n",
    "5) _replace() позволяет создавать новые именованные кортежи на основании уже существующих с заменой некоторых значений. Потребность в данном методе вызвана тем, что именованные кортежи являются неизменяемыми"
   ]
  },
  {
   "cell_type": "code",
   "execution_count": 36,
   "metadata": {},
   "outputs": [
    {
     "name": "stdout",
     "output_type": "stream",
     "text": [
      "Person(name='Timur', age=29, height=170)\n"
     ]
    }
   ],
   "source": [
    "from collections import namedtuple\n",
    "\n",
    "Person = namedtuple('Person', ['name', 'age', 'height'])\n",
    "\n",
    "timur = Person._make(['Timur', 29, 170])\n",
    "\n",
    "print(timur)"
   ]
  },
  {
   "cell_type": "code",
   "execution_count": 37,
   "metadata": {},
   "outputs": [
    {
     "name": "stdout",
     "output_type": "stream",
     "text": [
      "{'name': 'Timur', 'age': 29, 'height': 170}\n"
     ]
    }
   ],
   "source": [
    "from collections import namedtuple\n",
    "\n",
    "Person = namedtuple('Person', ['name', 'age', 'height'])\n",
    "\n",
    "timur = Person._make(['Timur', 29, 170])\n",
    "\n",
    "print(timur._asdict())"
   ]
  },
  {
   "cell_type": "code",
   "execution_count": 39,
   "metadata": {},
   "outputs": [
    {
     "name": "stdout",
     "output_type": "stream",
     "text": [
      "Person(name='Тимур', age=29, height=170, country='Russia')\n",
      "Person(name='Тимур', age=30, height=170, country='Germany')\n"
     ]
    }
   ],
   "source": [
    "# изменить именованный кортеж \n",
    "from collections import namedtuple\n",
    "\n",
    "Person = namedtuple('Person', ['name', 'age', 'height', 'country'])\n",
    "\n",
    "timur1 = Person('Тимур', 29, 170, 'Russia')\n",
    "timur2 = timur1._replace(age=30, country='Germany')\n",
    "\n",
    "print(timur1)\n",
    "print(timur2)"
   ]
  },
  {
   "attachments": {},
   "cell_type": "markdown",
   "metadata": {},
   "source": [
    "### Задачи на namedtuple"
   ]
  },
  {
   "attachments": {},
   "cell_type": "markdown",
   "metadata": {},
   "source": [
    "        Вам доступен именованный кортеж Animal, который содержит данные о животном. Первым элементом именованного кортежа является имя животного, вторым — семейство, третьим — пол, четвертым — цвет. Также доступен файл data.pkl, содержащий сериализованный список таких кортежей.\n",
    "\n",
    "        Дополните приведенный ниже код, чтобы для каждого кортежа из этого списка он вывел названия его полей и значения этих полей в следующем формате:\n",
    "\n",
    "        name: <значение>\n",
    "        family: <значение>\n",
    "        sex: <значение>\n",
    "        color: <значение>"
   ]
  },
  {
   "cell_type": "code",
   "execution_count": 40,
   "metadata": {},
   "outputs": [
    {
     "data": {
      "text/plain": [
       "[Animal(name='Alex', family='dogs', sex='m', color='brown'),\n",
       " Animal(name='Nancy', family='cats', sex='w', color='white'),\n",
       " Animal(name='Sam', family='dogs', sex='m', color='brown'),\n",
       " Animal(name='Misha', family='hedgehogs', sex='m', color='black'),\n",
       " Animal(name='Fredd', family='cats', sex='m', color='white'),\n",
       " Animal(name='Python', family='snakes', sex='w', color='white'),\n",
       " Animal(name='Crispy', family='cats', sex='w', color='white'),\n",
       " Animal(name='Adam', family='hedgehogs', sex='m', color='black'),\n",
       " Animal(name='Daddy', family='snakes', sex='m', color='brown'),\n",
       " Animal(name='Mickey', family='hedgehogs', sex='m', color='brown'),\n",
       " Animal(name='Tom', family='cats', sex='m', color='white'),\n",
       " Animal(name='Jerry', family='snakes', sex='m', color='brown'),\n",
       " Animal(name='Chip', family='hedgehogs', sex='m', color='white')]"
      ]
     },
     "execution_count": 40,
     "metadata": {},
     "output_type": "execute_result"
    }
   ],
   "source": [
    "import pickle\n",
    "from collections import namedtuple\n",
    "Animal = namedtuple('Animal', ['name', 'family', 'sex', 'color'])\n",
    "\n",
    "with open('/Users/tony_builder/Documents/GitHub/studying/Python_stepic_beegeek/python for professional/data/data.pkl',\n",
    "           mode='rb') as file:\n",
    "    animals = pickle.load(file)\n",
    "\n",
    "animals"
   ]
  },
  {
   "cell_type": "code",
   "execution_count": 71,
   "metadata": {},
   "outputs": [],
   "source": [
    "def unpack_dict(smdct):\n",
    "    return [f'{item[0]}: {item[1]}' for item in smdct.items()]"
   ]
  },
  {
   "cell_type": "code",
   "execution_count": 81,
   "metadata": {},
   "outputs": [
    {
     "name": "stdout",
     "output_type": "stream",
     "text": [
      "name: Alex\n",
      "family: dogs\n",
      "sex: m\n",
      "color: brown\n",
      "\n",
      "name: Nancy\n",
      "family: cats\n",
      "sex: w\n",
      "color: white\n",
      "\n",
      "name: Sam\n",
      "family: dogs\n",
      "sex: m\n",
      "color: brown\n",
      "\n",
      "name: Misha\n",
      "family: hedgehogs\n",
      "sex: m\n",
      "color: black\n",
      "\n",
      "name: Fredd\n",
      "family: cats\n",
      "sex: m\n",
      "color: white\n",
      "\n",
      "name: Python\n",
      "family: snakes\n",
      "sex: w\n",
      "color: white\n",
      "\n",
      "name: Crispy\n",
      "family: cats\n",
      "sex: w\n",
      "color: white\n",
      "\n",
      "name: Adam\n",
      "family: hedgehogs\n",
      "sex: m\n",
      "color: black\n",
      "\n",
      "name: Daddy\n",
      "family: snakes\n",
      "sex: m\n",
      "color: brown\n",
      "\n",
      "name: Mickey\n",
      "family: hedgehogs\n",
      "sex: m\n",
      "color: brown\n",
      "\n",
      "name: Tom\n",
      "family: cats\n",
      "sex: m\n",
      "color: white\n",
      "\n",
      "name: Jerry\n",
      "family: snakes\n",
      "sex: m\n",
      "color: brown\n",
      "\n",
      "name: Chip\n",
      "family: hedgehogs\n",
      "sex: m\n",
      "color: white\n",
      "\n"
     ]
    }
   ],
   "source": [
    "unpacked_animals = [unpack_dict(animal._asdict()) for animal in animals]\n",
    "for animal in unpacked_animals:\n",
    "    print(*animal, sep='\\n')\n",
    "    print()"
   ]
  },
  {
   "attachments": {},
   "cell_type": "markdown",
   "metadata": {},
   "source": [
    "        Вам доступен именованный кортеж User, который содержит данные о пользователе некоторого ресурса. Первым элементом именованного кортежа является имя пользователя, вторым — фамилия, третьим — адрес электронной почты, четвертым — статус оформленной подписки. Также доступен список users, содержащий эти кортежи.\n",
    "\n",
    "        Дополните приведенный ниже код, чтобы он вывел данные о каждом пользователе из этого списка, предварительно отсортировав их по статусу подписки от дорогой к дешевой, а при совпадении статусов — в лексикографическом порядке адресов электронных почт. Данные о каждом пользователе должны быть указаны в следующем формате:\n",
    "\n",
    "        <имя> <фамилия>\n",
    "        Email: <адрес электронной почты>\n",
    "        Plan: <статус подписки>\n",
    "        Между данными двух разных пользователей должна располагаться пустая строка."
   ]
  },
  {
   "cell_type": "code",
   "execution_count": 87,
   "metadata": {},
   "outputs": [
    {
     "data": {
      "text/plain": [
       "[['Mary', 'Griffin', 'sonnen@yahoo.com', 'Basic'],\n",
       " ['Brenda', 'Young', 'retoh@outlook.com', 'Silver'],\n",
       " ['Kathleen', 'Lyons', 'balchen@att.net', 'Gold'],\n",
       " ['Pamela', 'Hicks', 'corrada@sbcglobal.net', 'Silver'],\n",
       " ['William', 'Townsend', 'kosact@verizon.net', 'Gold'],\n",
       " ['Clayton', 'Morris', 'berserk@yahoo.com', 'Silver'],\n",
       " ['Dorothy', 'Dennis', 'sequin@live.com', 'Gold'],\n",
       " ['Tyler', 'Walker', 'noahb@comcast.net', 'Basic'],\n",
       " ['Joseph', 'Moore', 'ylchang@sbcglobal.net', 'Silver'],\n",
       " ['Kenneth', 'Richardson', 'tbusch@me.com', 'Bronze'],\n",
       " ['Stephanie', 'Bush', 'neuffer@live.com', 'Gold'],\n",
       " ['Gregory', 'Hughes', 'juliano@att.net', 'Basic'],\n",
       " ['Tracy', 'Wallace', 'sblack@me.com', 'Silver'],\n",
       " ['Russell', 'Smith', 'isaacson@comcast.net', 'Bronze'],\n",
       " ['Megan', 'Patterson', 'hoangle@outlook.com', 'Basic']]"
      ]
     },
     "execution_count": 87,
     "metadata": {},
     "output_type": "execute_result"
    }
   ],
   "source": [
    "from collections import namedtuple\n",
    "\n",
    "User = namedtuple('User', ['name', 'surname', 'email', 'plan'])\n",
    "\n",
    "users = [User('Mary', 'Griffin', 'sonnen@yahoo.com', 'Basic'),\n",
    "         User('Brenda', 'Young', 'retoh@outlook.com', 'Silver'),\n",
    "         User('Kathleen', 'Lyons', 'balchen@att.net', 'Gold'),\n",
    "         User('Pamela', 'Hicks', 'corrada@sbcglobal.net', 'Silver'),\n",
    "         User('William', 'Townsend', 'kosact@verizon.net', 'Gold'),\n",
    "         User('Clayton', 'Morris', 'berserk@yahoo.com', 'Silver'),\n",
    "         User('Dorothy', 'Dennis', 'sequin@live.com', 'Gold'),\n",
    "         User('Tyler', 'Walker', 'noahb@comcast.net', 'Basic'),\n",
    "         User('Joseph', 'Moore', 'ylchang@sbcglobal.net', 'Silver'),\n",
    "         User('Kenneth', 'Richardson', 'tbusch@me.com', 'Bronze'),\n",
    "         User('Stephanie', 'Bush', 'neuffer@live.com', 'Gold'),\n",
    "         User('Gregory', 'Hughes', 'juliano@att.net', 'Basic'),\n",
    "         User('Tracy', 'Wallace', 'sblack@me.com', 'Silver'),\n",
    "         User('Russell', 'Smith', 'isaacson@comcast.net', 'Bronze'),\n",
    "         User('Megan', 'Patterson', 'hoangle@outlook.com', 'Basic')]\n",
    "\n",
    "# вытащим только значения именованных кортежей\n",
    "\n",
    "unpacked_users = [list(user._asdict().values()) for user in users]\n",
    "\n",
    "unpacked_users"
   ]
  },
  {
   "cell_type": "code",
   "execution_count": 83,
   "metadata": {},
   "outputs": [],
   "source": [
    "status_dict = {'Gold':1, 'Silver':2, 'Bronze':3, 'Basic':4}"
   ]
  },
  {
   "cell_type": "code",
   "execution_count": 89,
   "metadata": {},
   "outputs": [
    {
     "name": "stdout",
     "output_type": "stream",
     "text": [
      "Kathleen Lyons\n",
      "  Email: balchen@att.net\n",
      "  Plan: Gold\n",
      "\n",
      "William Townsend\n",
      "  Email: kosact@verizon.net\n",
      "  Plan: Gold\n",
      "\n",
      "Stephanie Bush\n",
      "  Email: neuffer@live.com\n",
      "  Plan: Gold\n",
      "\n",
      "Dorothy Dennis\n",
      "  Email: sequin@live.com\n",
      "  Plan: Gold\n",
      "\n",
      "Clayton Morris\n",
      "  Email: berserk@yahoo.com\n",
      "  Plan: Silver\n",
      "\n",
      "Pamela Hicks\n",
      "  Email: corrada@sbcglobal.net\n",
      "  Plan: Silver\n",
      "\n",
      "Brenda Young\n",
      "  Email: retoh@outlook.com\n",
      "  Plan: Silver\n",
      "\n",
      "Tracy Wallace\n",
      "  Email: sblack@me.com\n",
      "  Plan: Silver\n",
      "\n",
      "Joseph Moore\n",
      "  Email: ylchang@sbcglobal.net\n",
      "  Plan: Silver\n",
      "\n",
      "Russell Smith\n",
      "  Email: isaacson@comcast.net\n",
      "  Plan: Bronze\n",
      "\n",
      "Kenneth Richardson\n",
      "  Email: tbusch@me.com\n",
      "  Plan: Bronze\n",
      "\n",
      "Megan Patterson\n",
      "  Email: hoangle@outlook.com\n",
      "  Plan: Basic\n",
      "\n",
      "Gregory Hughes\n",
      "  Email: juliano@att.net\n",
      "  Plan: Basic\n",
      "\n",
      "Tyler Walker\n",
      "  Email: noahb@comcast.net\n",
      "  Plan: Basic\n",
      "\n",
      "Mary Griffin\n",
      "  Email: sonnen@yahoo.com\n",
      "  Plan: Basic\n",
      "\n"
     ]
    }
   ],
   "source": [
    "# сортировка список списков по двум ключам (статус и имя почты)\n",
    "for user in sorted(unpacked_users, key= lambda x: [status_dict.get(x[3]), x[2]]):\n",
    "    print(f'{user[0]} {user[1]}')\n",
    "    print(f'  Email: {user[2]}')\n",
    "    print(f'  Plan: {user[3]}')\n",
    "    print()"
   ]
  },
  {
   "attachments": {},
   "cell_type": "markdown",
   "metadata": {},
   "source": [
    "Попробуем другое решение"
   ]
  },
  {
   "cell_type": "code",
   "execution_count": 101,
   "metadata": {},
   "outputs": [
    {
     "name": "stdout",
     "output_type": "stream",
     "text": [
      "Kathleen Lyons\n",
      "  Email: balchen@att.net\n",
      "  Plan: Gold\n",
      "\n",
      "William Townsend\n",
      "  Email: kosact@verizon.net\n",
      "  Plan: Gold\n",
      "\n",
      "Stephanie Bush\n",
      "  Email: neuffer@live.com\n",
      "  Plan: Gold\n",
      "\n",
      "Dorothy Dennis\n",
      "  Email: sequin@live.com\n",
      "  Plan: Gold\n",
      "\n",
      "Clayton Morris\n",
      "  Email: berserk@yahoo.com\n",
      "  Plan: Silver\n",
      "\n",
      "Pamela Hicks\n",
      "  Email: corrada@sbcglobal.net\n",
      "  Plan: Silver\n",
      "\n",
      "Brenda Young\n",
      "  Email: retoh@outlook.com\n",
      "  Plan: Silver\n",
      "\n",
      "Tracy Wallace\n",
      "  Email: sblack@me.com\n",
      "  Plan: Silver\n",
      "\n",
      "Joseph Moore\n",
      "  Email: ylchang@sbcglobal.net\n",
      "  Plan: Silver\n",
      "\n",
      "Russell Smith\n",
      "  Email: isaacson@comcast.net\n",
      "  Plan: Bronze\n",
      "\n",
      "Kenneth Richardson\n",
      "  Email: tbusch@me.com\n",
      "  Plan: Bronze\n",
      "\n",
      "Megan Patterson\n",
      "  Email: hoangle@outlook.com\n",
      "  Plan: Basic\n",
      "\n",
      "Gregory Hughes\n",
      "  Email: juliano@att.net\n",
      "  Plan: Basic\n",
      "\n",
      "Tyler Walker\n",
      "  Email: noahb@comcast.net\n",
      "  Plan: Basic\n",
      "\n",
      "Mary Griffin\n",
      "  Email: sonnen@yahoo.com\n",
      "  Plan: Basic\n",
      "\n"
     ]
    }
   ],
   "source": [
    "from collections import namedtuple\n",
    "\n",
    "User = namedtuple('User', ['name', 'surname', 'email', 'plan'])\n",
    "\n",
    "users = [User('Mary', 'Griffin', 'sonnen@yahoo.com', 'Basic'),\n",
    "         User('Brenda', 'Young', 'retoh@outlook.com', 'Silver'),\n",
    "         User('Kathleen', 'Lyons', 'balchen@att.net', 'Gold'),\n",
    "         User('Pamela', 'Hicks', 'corrada@sbcglobal.net', 'Silver'),\n",
    "         User('William', 'Townsend', 'kosact@verizon.net', 'Gold'),\n",
    "         User('Clayton', 'Morris', 'berserk@yahoo.com', 'Silver'),\n",
    "         User('Dorothy', 'Dennis', 'sequin@live.com', 'Gold'),\n",
    "         User('Tyler', 'Walker', 'noahb@comcast.net', 'Basic'),\n",
    "         User('Joseph', 'Moore', 'ylchang@sbcglobal.net', 'Silver'),\n",
    "         User('Kenneth', 'Richardson', 'tbusch@me.com', 'Bronze'),\n",
    "         User('Stephanie', 'Bush', 'neuffer@live.com', 'Gold'),\n",
    "         User('Gregory', 'Hughes', 'juliano@att.net', 'Basic'),\n",
    "         User('Tracy', 'Wallace', 'sblack@me.com', 'Silver'),\n",
    "         User('Russell', 'Smith', 'isaacson@comcast.net', 'Bronze'),\n",
    "         User('Megan', 'Patterson', 'hoangle@outlook.com', 'Basic')]\n",
    "\n",
    "# сортируем сразу же список именованных кортежи (удобнее)\n",
    "sorted_users = sorted(users, key=lambda x: (('Gold', 'Silver', 'Bronze', 'Basic').index(x.plan), x.email))\n",
    "\n",
    "for user in sorted_users:\n",
    "    print(f'{user.name} {user.surname}')\n",
    "    print(f'  {user._fields[2].capitalize()}: {user.email}')\n",
    "    print(f'  {user._fields[3].capitalize()}: {user.plan}')\n",
    "    print()"
   ]
  },
  {
   "attachments": {},
   "cell_type": "markdown",
   "metadata": {},
   "source": [
    "печать f-строки f-string - используй экранирование тремя кавычками!"
   ]
  },
  {
   "cell_type": "code",
   "execution_count": 100,
   "metadata": {},
   "outputs": [
    {
     "name": "stdout",
     "output_type": "stream",
     "text": [
      "Kathleen Lyons\n",
      "  Email: balchen@att.net\n",
      "  Plan: Gold\n",
      "\n",
      "William Townsend\n",
      "  Email: kosact@verizon.net\n",
      "  Plan: Gold\n",
      "\n",
      "Stephanie Bush\n",
      "  Email: neuffer@live.com\n",
      "  Plan: Gold\n",
      "\n",
      "Dorothy Dennis\n",
      "  Email: sequin@live.com\n",
      "  Plan: Gold\n",
      "\n",
      "Clayton Morris\n",
      "  Email: berserk@yahoo.com\n",
      "  Plan: Silver\n",
      "\n",
      "Pamela Hicks\n",
      "  Email: corrada@sbcglobal.net\n",
      "  Plan: Silver\n",
      "\n",
      "Brenda Young\n",
      "  Email: retoh@outlook.com\n",
      "  Plan: Silver\n",
      "\n",
      "Tracy Wallace\n",
      "  Email: sblack@me.com\n",
      "  Plan: Silver\n",
      "\n",
      "Joseph Moore\n",
      "  Email: ylchang@sbcglobal.net\n",
      "  Plan: Silver\n",
      "\n",
      "Russell Smith\n",
      "  Email: isaacson@comcast.net\n",
      "  Plan: Bronze\n",
      "\n",
      "Kenneth Richardson\n",
      "  Email: tbusch@me.com\n",
      "  Plan: Bronze\n",
      "\n",
      "Megan Patterson\n",
      "  Email: hoangle@outlook.com\n",
      "  Plan: Basic\n",
      "\n",
      "Gregory Hughes\n",
      "  Email: juliano@att.net\n",
      "  Plan: Basic\n",
      "\n",
      "Tyler Walker\n",
      "  Email: noahb@comcast.net\n",
      "  Plan: Basic\n",
      "\n",
      "Mary Griffin\n",
      "  Email: sonnen@yahoo.com\n",
      "  Plan: Basic\n",
      "\n"
     ]
    }
   ],
   "source": [
    "# печать f-строки сразу в удобном виде переноса со строки на строку!!\n",
    "\"\"\"\n",
    "print(f'''{name} {surname}\n",
    "  Email: {email}\n",
    "  Plan: {plan}\\n''') \"\"\""
   ]
  },
  {
   "cell_type": "code",
   "execution_count": null,
   "metadata": {},
   "outputs": [],
   "source": []
  }
 ],
 "metadata": {
  "kernelspec": {
   "display_name": "Python 3",
   "language": "python",
   "name": "python3"
  },
  "language_info": {
   "codemirror_mode": {
    "name": "ipython",
    "version": 3
   },
   "file_extension": ".py",
   "mimetype": "text/x-python",
   "name": "python",
   "nbconvert_exporter": "python",
   "pygments_lexer": "ipython3",
   "version": "3.10.7"
  },
  "orig_nbformat": 4
 },
 "nbformat": 4,
 "nbformat_minor": 2
}
