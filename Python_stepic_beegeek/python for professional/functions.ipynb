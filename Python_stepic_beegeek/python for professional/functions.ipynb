{
 "cells": [
  {
   "attachments": {},
   "cell_type": "markdown",
   "metadata": {},
   "source": [
    "Перевод в систему исчисления и обратно"
   ]
  },
  {
   "cell_type": "code",
   "execution_count": 3,
   "metadata": {},
   "outputs": [
    {
     "data": {
      "text/plain": [
       "'100100001'"
      ]
     },
     "execution_count": 3,
     "metadata": {},
     "output_type": "execute_result"
    }
   ],
   "source": [
    "bin(289)[2:]"
   ]
  },
  {
   "cell_type": "code",
   "execution_count": 2,
   "metadata": {},
   "outputs": [
    {
     "data": {
      "text/plain": [
       "'121'"
      ]
     },
     "execution_count": 2,
     "metadata": {},
     "output_type": "execute_result"
    }
   ],
   "source": [
    "hex(289)[2:]"
   ]
  },
  {
   "cell_type": "code",
   "execution_count": 6,
   "metadata": {},
   "outputs": [
    {
     "data": {
      "text/plain": [
       "289"
      ]
     },
     "execution_count": 6,
     "metadata": {},
     "output_type": "execute_result"
    }
   ],
   "source": [
    "int('100100001', base=2)"
   ]
  },
  {
   "cell_type": "code",
   "execution_count": 7,
   "metadata": {},
   "outputs": [
    {
     "data": {
      "text/plain": [
       "289"
      ]
     },
     "execution_count": 7,
     "metadata": {},
     "output_type": "execute_result"
    }
   ],
   "source": [
    "int('121', base=16)"
   ]
  },
  {
   "cell_type": "code",
   "execution_count": 28,
   "metadata": {},
   "outputs": [
    {
     "name": "stdout",
     "output_type": "stream",
     "text": [
      "Encanto\n"
     ]
    }
   ],
   "source": [
    "# вернуть фильм с наименьшей средней оценкой\n",
    "films = {'Spider-Man: No Way Home': {'imdb': 8.8, 'kinopoisk': 8.3},\n",
    "         'Don\"t Look Up': {'imdb': 7.3, 'kinopoisk': 7.6},\n",
    "         'Encanto': {'imdb': 7.3, 'kinopoisk': 7.4},\n",
    "         'The Witcher': {'imdb': 8.2, 'kinopoisk': 7.3},\n",
    "         'Ghostbusters: Afterlife': {'imdb': 7.3, 'kinopoisk': 8},\n",
    "         'Harry Potter 20th Anniversary: Return to Hogwarts': {'imdb': 8.1, 'kinopoisk': 8.2},\n",
    "         'Shingeki no Kyojin': {'imdb': 9.0, 'kinopoisk': 8.3},\n",
    "         'The Matrix': {'imdb': 8.7, 'kinopoisk': 8.5},\n",
    "         'The Dark Knight': {'imdb': 9.0, 'kinopoisk': 8.5},\n",
    "         'The Shawshank Redemption': {'imdb': 9.3, 'kinopoisk': 9.1},\n",
    "         'Avengers: Endgame': {'imdb': 8.4, 'kinopoisk': 7.7}}\n",
    "\n",
    "import numpy as np\n",
    "print(min(films.items(), \n",
    "          key= lambda x: np.mean(list(x[1].values())))[0])"
   ]
  },
  {
   "cell_type": "code",
   "execution_count": 31,
   "metadata": {},
   "outputs": [
    {
     "data": {
      "text/plain": [
       "True"
      ]
     },
     "execution_count": 31,
     "metadata": {},
     "output_type": "execute_result"
    }
   ],
   "source": [
    "numbers = [1,2,3,45,9]\n",
    "all([num>=0 for num in numbers])"
   ]
  },
  {
   "cell_type": "code",
   "execution_count": 34,
   "metadata": {},
   "outputs": [
    {
     "data": {
      "text/plain": [
       "[(1, '1'), (2, '2'), (3, '3')]"
      ]
     },
     "execution_count": 34,
     "metadata": {},
     "output_type": "execute_result"
    }
   ],
   "source": [
    "list(enumerate('123', start=1))"
   ]
  },
  {
   "attachments": {},
   "cell_type": "markdown",
   "metadata": {},
   "source": [
    "        Функция zip_longest()\n",
    "        Как уже известно, функция zip() объединяет элементы различных последовательностей. Особенностью функции является то, что при передаче последовательностей различной длины элементы последовательности большей длины будут отброшены.\n",
    "\n",
    "        Реализуйте функцию zip_longest(), которая принимает переменное количество позиционных аргументов, каждый из которых является списком, и один необязательный именованный аргумент fill, имеющий значение по умолчанию None.\n",
    "\n",
    "        Функция должна объединять элементы переданных последовательностей в кортежи, аналогично функции zip(), и возвращать в виде списка, но если последовательности имеют различную длину, недостающие элементы последовательностей меньшей длины должны принимать значение fill."
   ]
  },
  {
   "cell_type": "code",
   "execution_count": 50,
   "metadata": {},
   "outputs": [
    {
     "name": "stdout",
     "output_type": "stream",
     "text": [
      "[(1, 'a'), (2, 'b'), (3, 'c'), (4, '_'), (5, '_')]\n",
      "[(1, 'one', 'I'), (2, 'two', 'II'), (3, 'three', None), (4, None, None), (5, None, None)]\n",
      "[(1, 'one', 'I'), (2, 'two', 'II'), (3, 'three', 'III'), (4, 'four', 'IV'), (5, 'five', 'V')]\n"
     ]
    }
   ],
   "source": [
    "def zip_longest(*args, fill=None):\n",
    "    len_of_the_longest = max([len(arg) for arg in args])\n",
    "    for arg in args:\n",
    "        if len(arg)< len_of_the_longest:\n",
    "            arg.extend([fill] * (len_of_the_longest - len(arg))) \n",
    "\n",
    "    return list(zip(*args))\n",
    "\n",
    "print(zip_longest([1, 2, 3, 4, 5], ['a', 'b', 'c'], fill='_'))\n",
    "\n",
    "data = [[1, 2, 3, 4, 5], ['one', 'two', 'three'], ['I', 'II']]\n",
    "print(zip_longest(*data))\n",
    "\n",
    "data = [[1, 2, 3, 4, 5], ['one', 'two', 'three', 'four', 'five'], ['I', 'II', 'III', 'IV', 'V']]\n",
    "print(zip_longest(*data))"
   ]
  },
  {
   "cell_type": "code",
   "execution_count": 37,
   "metadata": {},
   "outputs": [
    {
     "data": {
      "text/plain": [
       "[(1, 4), (2, 5)]"
      ]
     },
     "execution_count": 37,
     "metadata": {},
     "output_type": "execute_result"
    }
   ],
   "source": [
    "list(zip([1,2,3], [4,5]))"
   ]
  },
  {
   "cell_type": "code",
   "execution_count": 43,
   "metadata": {},
   "outputs": [
    {
     "data": {
      "text/plain": [
       "[(1, 3), (2, 4)]"
      ]
     },
     "execution_count": 43,
     "metadata": {},
     "output_type": "execute_result"
    }
   ],
   "source": [
    "list(zip([1,2], [3,4]))"
   ]
  },
  {
   "cell_type": "code",
   "execution_count": 42,
   "metadata": {},
   "outputs": [
    {
     "data": {
      "text/plain": [
       "[(1, 3), (2, 4)]"
      ]
     },
     "execution_count": 42,
     "metadata": {},
     "output_type": "execute_result"
    }
   ],
   "source": [
    "list(zip((1,2), (3,4)))"
   ]
  },
  {
   "cell_type": "code",
   "execution_count": 46,
   "metadata": {},
   "outputs": [
    {
     "data": {
      "text/plain": [
       "[(1, 3, 5, 7), (2, 4, 6, 8)]"
      ]
     },
     "execution_count": 46,
     "metadata": {},
     "output_type": "execute_result"
    }
   ],
   "source": [
    "list(zip(*[[1,2], [3,4], [5,6], [7,8]]))"
   ]
  },
  {
   "attachments": {},
   "cell_type": "markdown",
   "metadata": {},
   "source": [
    "        Необычная сортировка 🌶️\n",
    "        Дана строка, содержащая латинские буквы и цифры. Напишите программу, которая сортирует символы в строке согласно следующим правилам:\n",
    "\n",
    "        все отсортированные строчные буквы стоят перед заглавными буквами\n",
    "        все отсортированные заглавные буквы стоят перед цифрами\n",
    "        все отсортированные нечетные цифры стоят перед отсортированными четными"
   ]
  },
  {
   "cell_type": "code",
   "execution_count": 110,
   "metadata": {},
   "outputs": [],
   "source": [
    "def strange_sorting(string):\n",
    "    return sorted(string, \n",
    "                  key= lambda x: [x.lower() if x.isupper() else x.upper(), \n",
    "                                  int(x)%2 if x.isdigit() else x])\n",
    "                  #reverse=[False, True])"
   ]
  },
  {
   "cell_type": "code",
   "execution_count": 111,
   "metadata": {},
   "outputs": [
    {
     "data": {
      "text/plain": [
       "['1', '2', '3', '4', 'g', 'i', 'n', 'o', 'r', 't', 'S']"
      ]
     },
     "execution_count": 111,
     "metadata": {},
     "output_type": "execute_result"
    }
   ],
   "source": [
    "strange_sorting('Sorting1234')"
   ]
  },
  {
   "cell_type": "code",
   "execution_count": 143,
   "metadata": {},
   "outputs": [
    {
     "name": "stdout",
     "output_type": "stream",
     "text": [
      "ginortS1324\n",
      "aggnrsttEE30\n",
      "abbcddefgghiijkmnnqrrrsuuAADDFGHIJJPQRTVYZ11579924\n"
     ]
    }
   ],
   "source": [
    "def s_s(string):\n",
    "    numbers, up_let, low_let = [],[],[]\n",
    "    for chr in string:\n",
    "        if chr.isdigit(): numbers.append(chr)\n",
    "        elif chr.isupper(): up_let.append(chr)\n",
    "        elif chr.islower(): low_let.append(chr)\n",
    "    \n",
    "    return ''.join(sorted(low_let) + \\\n",
    "                sorted(up_let) + \\\n",
    "                    sorted(numbers, \n",
    "                           key=lambda x: [abs(int(x)%2-1), int(x)]))\n",
    "\n",
    "print(s_s('Sorting1234'))\n",
    "print(s_s('n0tEast3rEgg'))\n",
    "print(s_s('AnHTqir9brdQrgu5g71uhm1FaJ4fAZjbisIDnJVYekRPdGDc29'))"
   ]
  },
  {
   "attachments": {},
   "cell_type": "markdown",
   "metadata": {},
   "source": [
    "        Если символ - буква, то возвращается один из двух кортежей: (0, 0, символ) - если символ строчный (0, 1, символ) - если символ заглавный \n",
    "\n",
    "        Если же символ цифра, то будут следующие кортежи: (1, 0, символ) - если символ чётная цифра (1, 1, символ) - если символ нечётная цифра. \n",
    "\n",
    "        Ну и происходит сравнение этих кортежей. А кортежи сравниваются поэлементно. Сначала нулевые индексы, затем первые, если нулевые совпадают, затем вторые, если первые совпадают. \n",
    "\n",
    "        Вот и получается, что сначала идут строчные буквы (кортеж (0, 0, символ)), затем заглавные (кортеж (0, 1, символ)), потом чётные цифры (кортеж (1, 0, символ)), и, наконец, нечётные цифры (кортеж (1, 1, символ)) Вторым элементом кортежа у меня написано 0 или 1 потому, что булевый тип можно привести к этим значениям. True == 1 False == 0"
   ]
  },
  {
   "cell_type": "code",
   "execution_count": 145,
   "metadata": {},
   "outputs": [
    {
     "name": "stdout",
     "output_type": "stream",
     "text": [
      "abbcddefgghiijkmnnqrrrsuuAADDFGHIJJPQRTVYZ11579924\n"
     ]
    }
   ],
   "source": [
    "# решение через функцию для ключа сортировки\n",
    "# сложная сортировка \n",
    "\n",
    "def comparator(char):\n",
    "    if char.isalpha():\n",
    "        return 0, char.isupper(), char\n",
    "    digit = int(char)\n",
    "    return 1, digit % 2 == 0, digit\n",
    "\n",
    "string = 'AnHTqir9brdQrgu5g71uhm1FaJ4fAZjbisIDnJVYekRPdGDc29'\n",
    "\n",
    "print(''.join(sorted(string, key=comparator)))"
   ]
  },
  {
   "cell_type": "code",
   "execution_count": 144,
   "metadata": {},
   "outputs": [
    {
     "data": {
      "text/plain": [
       "[1, 3, 5, 9, 2, 4]"
      ]
     },
     "execution_count": 144,
     "metadata": {},
     "output_type": "execute_result"
    }
   ],
   "source": [
    "# вспомогательный код\n",
    "sorted([1,2,9,3,4,5], key=lambda x: [abs(x%2-1),x])"
   ]
  },
  {
   "attachments": {},
   "cell_type": "markdown",
   "metadata": {},
   "source": [
    "        Функция callable()\n",
    "        Функция callable() принимает в качестве аргумента некоторый объект и возвращает True, если переданный объект является вызываемым, или False в противном случае.\n",
    "\n"
   ]
  },
  {
   "cell_type": "code",
   "execution_count": 146,
   "metadata": {},
   "outputs": [
    {
     "name": "stdout",
     "output_type": "stream",
     "text": [
      "True\n",
      "True\n",
      "False\n",
      "False\n"
     ]
    }
   ],
   "source": [
    "print(callable(int))\n",
    "print(callable(list))\n",
    "print(callable(100))\n",
    "print(callable([1, 2, 3]))"
   ]
  },
  {
   "attachments": {},
   "cell_type": "markdown",
   "metadata": {},
   "source": [
    "        Функция hasattr()\n",
    "        Функция hasattr() используется для проверки существования атрибута. Она принимает два аргумента:\n",
    "\n",
    "        object — объект, в котором нужно проверить существование атрибута\n",
    "        name — имя проверяемого атрибута\n",
    "        Функция возвращает True, если object имеет атрибут name, или False в противном случае. "
   ]
  },
  {
   "cell_type": "code",
   "execution_count": 147,
   "metadata": {},
   "outputs": [
    {
     "name": "stdout",
     "output_type": "stream",
     "text": [
      "True\n",
      "True\n",
      "False\n"
     ]
    }
   ],
   "source": [
    "print(hasattr('stepik', 'isalpha'))\n",
    "print(hasattr([1, 2, 3], 'sort'))\n",
    "print(hasattr(13, 'to_str'))"
   ]
  },
  {
   "attachments": {},
   "cell_type": "markdown",
   "metadata": {},
   "source": [
    "        Функция hash()\n",
    "        Функция hash() принимает в качестве аргумента некоторый объект и возвращает целое число, представляющее хеш-значение переданного объекта. Большинство неизменяемых встроенных объектов Python являются хешируемыми и имеют хеш-значение. Изменяемые коллекции, такие как списки, множества и словари, не имеют хеш-значений.\n",
    "\n",
    "        хешируемый = неизменяемый\n",
    "\n",
    "        Кортежи (тип tuple) хешируемы только при условии, что их элементы являются хешируемыми."
   ]
  },
  {
   "cell_type": "code",
   "execution_count": 148,
   "metadata": {},
   "outputs": [
    {
     "name": "stdout",
     "output_type": "stream",
     "text": [
      "899\n",
      "69\n",
      "1738936442309958510\n",
      "529344067295497451\n",
      "0\n",
      "1\n"
     ]
    }
   ],
   "source": [
    "print(hash(899))\n",
    "print(hash(69.0))\n",
    "print(hash('timyrik'))\n",
    "print(hash((1, 2, 3)))\n",
    "print(hash(False))\n",
    "print(hash(True))"
   ]
  },
  {
   "attachments": {},
   "cell_type": "markdown",
   "metadata": {},
   "source": [
    "        Функция help()\n",
    "        Функция help() используется для получения документации по указанному модулю, функции или другому объекту. Она принимает в качестве аргумента либо сам объект, либо строку с именем объекта. Вызов без аргументов запускает интерактивную справочную систему в консоли интерпретатора (для выхода используйте quit)"
   ]
  },
  {
   "cell_type": "code",
   "execution_count": 149,
   "metadata": {},
   "outputs": [
    {
     "name": "stdout",
     "output_type": "stream",
     "text": [
      "Help on built-in function print in module builtins:\n",
      "\n",
      "print(...)\n",
      "    print(value, ..., sep=' ', end='\\n', file=sys.stdout, flush=False)\n",
      "    \n",
      "    Prints the values to a stream, or to sys.stdout by default.\n",
      "    Optional keyword arguments:\n",
      "    file:  a file-like object (stream); defaults to the current sys.stdout.\n",
      "    sep:   string inserted between values, default a space.\n",
      "    end:   string appended after the last value, default a newline.\n",
      "    flush: whether to forcibly flush the stream.\n",
      "\n",
      "Help on built-in function sorted in module builtins:\n",
      "\n",
      "sorted(iterable, /, *, key=None, reverse=False)\n",
      "    Return a new list containing all items from the iterable in ascending order.\n",
      "    \n",
      "    A custom key function can be supplied to customize the sort order, and the\n",
      "    reverse flag can be set to request the result in descending order.\n",
      "\n"
     ]
    }
   ],
   "source": [
    "help(print)\n",
    "help('sorted')"
   ]
  },
  {
   "attachments": {},
   "cell_type": "markdown",
   "metadata": {},
   "source": [
    "        Функция repr()\n",
    "        Функция repr() принимает в качестве аргумента некоторый объект и возвращает строку, содержащую формальное (понятное интерпретатору) представление переданного объекта."
   ]
  },
  {
   "cell_type": "code",
   "execution_count": 150,
   "metadata": {},
   "outputs": [
    {
     "name": "stdout",
     "output_type": "stream",
     "text": [
      "'stepik'\n",
      "[1, 2, 3, 4]\n",
      "datetime.date(2022, 1, 16)\n"
     ]
    }
   ],
   "source": [
    "from datetime import date\n",
    "\n",
    "print(repr('stepik'))\n",
    "print(repr([1, 2, 3, 4]))\n",
    "print(repr(date(2022, 1, 16)))"
   ]
  },
  {
   "attachments": {},
   "cell_type": "markdown",
   "metadata": {},
   "source": [
    "#### Задача"
   ]
  },
  {
   "attachments": {},
   "cell_type": "markdown",
   "metadata": {},
   "source": [
    "        Функция hash_as_key()\n",
    "        Реализуйте функцию hash_as_key(), которая принимает один аргумент:\n",
    "\n",
    "        objects — список хешируемых объектов\n",
    "        Функция должна возвращать словарь, ключом в котором является хеш-значение объекта из списка objects, а значением — сам объект. Если хеш-значения некоторых объектов совпадают, их следует объединить в список.\n",
    "\n",
    "        Примечание 1. Элементы в возвращаемом функцией словаре, а также объекты в списке, имеющие равные хеш-значения, должны располагаться в своем исходном порядке."
   ]
  },
  {
   "cell_type": "code",
   "execution_count": 178,
   "metadata": {},
   "outputs": [
    {
     "name": "stdout",
     "output_type": "stream",
     "text": [
      "{1: 1, 2: 2, 3: 3, 4: 4, 5: [5, 5]}\n",
      "{11: 11, 22: 22, 33: 33, 44: 44, 55: 55, 66: 66, 77: 77, 88: 88, 99: 99, 111: 111}\n",
      "{-2: [-1, -2], -3: -3, -4: -4, -5: -5}\n",
      "{5: [5, 5, 5]}\n"
     ]
    }
   ],
   "source": [
    "def hash_as_key(objects):\n",
    "    res = {}\n",
    "    for dic in [{hash(el) : el} for el in data]:\n",
    "        key = list(dic.keys())[0]\n",
    "        if  key not in res: res.update(dic)\n",
    "        else: \n",
    "            if isinstance(res[key], list): res[key].append(dic[key])\n",
    "            else: res[key] = [res[key], dic[key]]\n",
    "    return res\n",
    "\n",
    "data = [1, 2, 3, 4, 5, 5]\n",
    "print(hash_as_key(data))\n",
    "\n",
    "data = [11, 22, 33, 44, 55, 66, 77, 88, 99, 111]\n",
    "print(hash_as_key(data))\n",
    "\n",
    "data = [-1, -2, -3, -4, -5]\n",
    "print(hash_as_key(data))\n",
    "\n",
    "data = [5, 5, 5]\n",
    "print(hash_as_key(data))"
   ]
  },
  {
   "cell_type": "code",
   "execution_count": 174,
   "metadata": {},
   "outputs": [
    {
     "data": {
      "text/plain": [
       "[1, 2, 3, 4, 5, -2, -2, 1, 6, 1]"
      ]
     },
     "execution_count": 174,
     "metadata": {},
     "output_type": "execute_result"
    }
   ],
   "source": [
    "data = [1, 2, 3, 4, 5, -1, -2, 1, 6, 1]\n",
    "hash_data = [hash(elem) for elem in data]\n",
    "hash_data"
   ]
  },
  {
   "cell_type": "code",
   "execution_count": 177,
   "metadata": {},
   "outputs": [
    {
     "name": "stdout",
     "output_type": "stream",
     "text": [
      "[{1: 1}, {2: 2}, {3: 3}, {4: 4}, {5: 5}, {-2: -1}, {-2: -2}, {1: 1}, {6: 6}, {1: 1}]\n",
      "{1: 1}\n",
      "{1: 1, 2: 2}\n",
      "{1: 1, 2: 2, 3: 3}\n",
      "{1: 1, 2: 2, 3: 3, 4: 4}\n",
      "{1: 1, 2: 2, 3: 3, 4: 4, 5: 5}\n",
      "{1: 1, 2: 2, 3: 3, 4: 4, 5: 5, -2: -1}\n",
      "{1: 1, 2: 2, 3: 3, 4: 4, 5: 5, -2: [-1, -2]}\n",
      "{1: [1, 1], 2: 2, 3: 3, 4: 4, 5: 5, -2: [-1, -2]}\n",
      "{1: [1, 1], 2: 2, 3: 3, 4: 4, 5: 5, -2: [-1, -2], 6: 6}\n",
      "{1: [1, 1, 1], 2: 2, 3: 3, 4: 4, 5: 5, -2: [-1, -2], 6: 6}\n",
      "{1: [1, 1, 1], 2: 2, 3: 3, 4: 4, 5: 5, -2: [-1, -2], 6: 6}\n"
     ]
    }
   ],
   "source": [
    "hashed_dicts = [{hash(el) : el} for el in data]\n",
    "print(hashed_dicts)\n",
    "\n",
    "res = {}\n",
    "for dic in hashed_dicts:\n",
    "    key = list(dic.keys())[0]\n",
    "    if  key not in res:\n",
    "        res.update(dic)\n",
    "    else: \n",
    "        if isinstance(res[key], list): res[key].append(dic[key])\n",
    "        else: res[key] = [res[key], dic[key]]\n",
    "    print(res)\n",
    "print(res)"
   ]
  },
  {
   "cell_type": "code",
   "execution_count": 162,
   "metadata": {},
   "outputs": [
    {
     "data": {
      "text/plain": [
       "{-2: [-1, -2]}"
      ]
     },
     "execution_count": 162,
     "metadata": {},
     "output_type": "execute_result"
    }
   ],
   "source": [
    "a,d = {-2: -1}, {-2: -2}\n",
    "d[-2] = [a[-2], d[-2]]\n",
    "\n",
    "d"
   ]
  },
  {
   "attachments": {},
   "cell_type": "markdown",
   "metadata": {},
   "source": [
    "        Функция eval()\n",
    "        Функция eval() выполняет строку-выражение, переданную ей в качестве обязательного аргумента, и возвращает результат выполнения этой строки. Аргумент функции:\n",
    "\n",
    "        expression — строка-выражение, которую требуется исполнить\n",
    "        Для выполнения строки-выражения, функция eval() совершает следующие шаги:\n",
    "\n",
    "        - Парсит (parse) выражение\n",
    "        - Компилирует (compile) выражение в байт-код\n",
    "        - Вычисляет (evaluate) значение выражения\n",
    "        - Возвращает (return) результат вычисления\n",
    "\n",
    "         не все языковые конструкции являются выражениями (expression). Операторами, которые нельзя использовать в качестве выражений, являются, например, while, for, if, def, import, class, raise и т.д.\n",
    "         Но Если ключевое слово for используется в списочном выражении, то функция eval() может его вычислить\n",
    "\n"
   ]
  },
  {
   "cell_type": "code",
   "execution_count": 179,
   "metadata": {},
   "outputs": [
    {
     "name": "stdout",
     "output_type": "stream",
     "text": [
      "<class 'int'>\n",
      "17\n"
     ]
    }
   ],
   "source": [
    "expression = '7 + 10'\n",
    "\n",
    "result = eval(expression)\n",
    "\n",
    "print(type(result))\n",
    "print(result)"
   ]
  },
  {
   "cell_type": "code",
   "execution_count": 180,
   "metadata": {},
   "outputs": [
    {
     "name": "stdout",
     "output_type": "stream",
     "text": [
      "Привет из функции eval()\n",
      "None\n",
      "5\n"
     ]
    }
   ],
   "source": [
    "expression1 = \"print('Привет из функции eval()')\"\n",
    "expression2 = \"len([1, 1, 1, 1, 1])\"\n",
    "\n",
    "result1 = eval(expression1)\n",
    "result2 = eval(expression2)\n",
    "\n",
    "print(result1)\n",
    "print(result2)"
   ]
  },
  {
   "cell_type": "code",
   "execution_count": 181,
   "metadata": {},
   "outputs": [
    {
     "name": "stdout",
     "output_type": "stream",
     "text": [
      "Привет из функции eval()\n",
      "None\n"
     ]
    }
   ],
   "source": [
    "expression1 = \"print('Привет из функции eval()')\"\n",
    "\n",
    "result1 = eval(expression1)\n",
    "\n",
    "print(result1)\n"
   ]
  },
  {
   "cell_type": "code",
   "execution_count": 182,
   "metadata": {},
   "outputs": [
    {
     "name": "stdout",
     "output_type": "stream",
     "text": [
      "5\n"
     ]
    }
   ],
   "source": [
    "expression2 = \"len([1, 1, 1, 1, 1])\"\n",
    "\n",
    "result2 = eval(expression2)\n",
    "\n",
    "print(result2)"
   ]
  },
  {
   "attachments": {},
   "cell_type": "markdown",
   "metadata": {},
   "source": [
    "Парсинг объектов\n",
    "\n",
    "С помощью функции eval() можно парсить объекты, то есть преобразовывать из строки в реальные Python объекты"
   ]
  },
  {
   "cell_type": "code",
   "execution_count": 187,
   "metadata": {},
   "outputs": [
    {
     "name": "stdout",
     "output_type": "stream",
     "text": [
      "<class 'list'> 3\n",
      "<class 'tuple'> 5\n",
      "<class 'dict'> February\n"
     ]
    }
   ],
   "source": [
    "list_data = eval(\"['Python', 'C#', 'Java']\")\n",
    "tuple_data = eval('(1, 2, 3, 4, 5)')\n",
    "dict_data = eval(\"{1: 'January', 2: 'February'}\")\n",
    "\n",
    "print(type(list_data), len(list_data))\n",
    "print(type(tuple_data), max(tuple_data))\n",
    "print(type(dict_data), dict_data[2])"
   ]
  },
  {
   "attachments": {},
   "cell_type": "markdown",
   "metadata": {},
   "source": [
    "        Функция exec()\n",
    "        Функция exec(), в отличие от eval(), принимает блок кода и выполняет его, возвращая значение None. Аргумент функции:\n",
    "\n",
    "        code — строка, представляющая собой корректный блок кода"
   ]
  },
  {
   "cell_type": "code",
   "execution_count": 188,
   "metadata": {},
   "outputs": [
    {
     "name": "stdout",
     "output_type": "stream",
     "text": [
      "30\n"
     ]
    }
   ],
   "source": [
    "code = '''a = 10\n",
    "b = 20\n",
    "print(a + b)'''\n",
    "\n",
    "exec(code)"
   ]
  },
  {
   "cell_type": "code",
   "execution_count": 189,
   "metadata": {},
   "outputs": [
    {
     "name": "stdout",
     "output_type": "stream",
     "text": [
      "None\n"
     ]
    }
   ],
   "source": [
    "# функция exec() именно выполняет переданный блок кода и всегда возвращает значение None.\n",
    "\n",
    "code = '100 + 10*7 - 14'\n",
    "\n",
    "result = exec(code)\n",
    "\n",
    "print(result)"
   ]
  },
  {
   "cell_type": "code",
   "execution_count": 190,
   "metadata": {},
   "outputs": [
    {
     "name": "stdout",
     "output_type": "stream",
     "text": [
      "[1, 2, 3, 4, 5]\n",
      "15\n",
      "5\n"
     ]
    }
   ],
   "source": [
    "# Блок кода, передаваемый в качестве аргумента функции exec(), имеет доступ ко всем встроенным функциям Python.\n",
    "\n",
    "code1 = 'print(sorted([3, 5, 4, 1, 2]))'\n",
    "code2 = 'print(sum([3, 5, 4, 1, 2]))'\n",
    "code3 = 'print(len([3, 5, 4, 1, 2]))'\n",
    "\n",
    "exec(code1)\n",
    "exec(code2)\n",
    "exec(code3)"
   ]
  },
  {
   "cell_type": "code",
   "execution_count": 191,
   "metadata": {},
   "outputs": [
    {
     "name": "stdout",
     "output_type": "stream",
     "text": [
      "15\n",
      "Timur Guev\n"
     ]
    }
   ],
   "source": [
    "# Блок кода, передаваемый в качестве аргумента функции exec(), имеет доступ ко всем локальным и глобальным переменным.\n",
    "\n",
    "numbers = [1, 2, 3, 4, 5]\n",
    "info = {'name': 'Timur', 'surname': 'Guev'}\n",
    "\n",
    "code1 = '''total = 0\n",
    "for i in numbers:\n",
    "    total += i\n",
    "print(total)'''\n",
    "code2 = 'print(info[\"name\"], info[\"surname\"])'\n",
    "\n",
    "exec(code1)\n",
    "exec(code2)"
   ]
  },
  {
   "cell_type": "code",
   "execution_count": 193,
   "metadata": {},
   "outputs": [
    {
     "name": "stdout",
     "output_type": "stream",
     "text": [
      "10\n"
     ]
    }
   ],
   "source": [
    "code = \"\"\"a = 10\"\"\"\n",
    "exec(code)  # вернет None , но код выполнит и объявит переменную\n",
    "print(a)\n"
   ]
  },
  {
   "cell_type": "code",
   "execution_count": 194,
   "metadata": {},
   "outputs": [
    {
     "name": "stdout",
     "output_type": "stream",
     "text": [
      "[1, 3, 4, 7, 9]\n"
     ]
    }
   ],
   "source": [
    "obj = eval('[7, 4, 3, 1, 9]')\n",
    "\n",
    "if hasattr(obj, 'sort'):\n",
    "    obj.sort()\n",
    "    \n",
    "print(obj)"
   ]
  },
  {
   "attachments": {},
   "cell_type": "markdown",
   "metadata": {},
   "source": [
    "Задача\n",
    "\n",
    "        Коллекции\n",
    "        Напишите программу, которая принимает на вход корректный непустой список, корректный непустой кортеж или корректное произвольной длины множество, и выполняет следующее:\n",
    "\n",
    "        если введен список, выводит его последний элемент\n",
    "        если введен кортеж, выводит его первый элемент\n",
    "        если введено множество, выводит количество его элементов"
   ]
  },
  {
   "cell_type": "code",
   "execution_count": 200,
   "metadata": {},
   "outputs": [
    {
     "name": "stdout",
     "output_type": "stream",
     "text": [
      "[5, 6]\n"
     ]
    }
   ],
   "source": [
    "def cond_print(smth):\n",
    "    collection = eval(smth)\n",
    "    if isinstance(collection, list):  return print(collection[-1])\n",
    "    elif isinstance(collection, tuple): return print(collection[0])\n",
    "    elif isinstance(collection, set):  return print(len(collection))\n",
    "\n",
    "\n",
    "cond_print(input())"
   ]
  },
  {
   "attachments": {},
   "cell_type": "markdown",
   "metadata": {},
   "source": [
    "        Математические выражения\n",
    "        Напишите программу, которая принимает на вход произвольное количество строк, содержащих корректные математические выражения, и выводит значение наибольшего из них.\n",
    "\n",
    "        Формат входных данных\n",
    "        На вход программе подается произвольное количество строк, каждое из которых содержит корректное математическое выражение."
   ]
  },
  {
   "cell_type": "code",
   "execution_count": null,
   "metadata": {},
   "outputs": [],
   "source": [
    "from sys import stdin\n",
    "math_expression = [line.strip() for line in stdin.readlines()]\n",
    "\n",
    "print(max([eval(expr) for expr in math_expression ]))"
   ]
  },
  {
   "attachments": {},
   "cell_type": "markdown",
   "metadata": {},
   "source": [
    "        Минимум и максимум\n",
    "        Напишите программу, которая определяет минимальное и максимальное значения функции на отрезке в целых точках.\n",
    "\n",
    "        Формат входных данных\n",
    "        На вход программе в первой строке подается корректная функция \n",
    "        f(x), в следующей строке вводятся два целых числа \n",
    "        a и b, разделенные пробелом, которые представляют границы отрезка \n",
    "        [a;b].\n",
    "\n",
    "        "
   ]
  },
  {
   "cell_type": "code",
   "execution_count": 293,
   "metadata": {},
   "outputs": [
    {
     "name": "stdout",
     "output_type": "stream",
     "text": [
      "Минимальное значение функции 2*x**2 + 5*x + 7 на отрезке [-1; 5] равно 4\n",
      "Максимальное значение функции 2*x**2 + 5*x + 7 на отрезке [-1; 5] равно 82\n"
     ]
    }
   ],
   "source": [
    "f = input()\n",
    "a,b = [int(el) for el in input().split()]\n",
    "all_values = [eval(f) for x in range(a, b+1)]\n",
    "\n",
    "print(f'Минимальное значение функции {f} на отрезке [{a}; {b}] равно {min(all_values)}')\n",
    "print(f'Максимальное значение функции {f} на отрезке [{a}; {b}] равно {max(all_values)}')\n",
    "\n"
   ]
  },
  {
   "attachments": {},
   "cell_type": "markdown",
   "metadata": {},
   "source": [
    "Таблица производных"
   ]
  },
  {
   "attachments": {
    "image.png": {
     "image/png": "[encoded data removed]"
    }
   },
   "cell_type": "markdown",
   "metadata": {},
   "source": [
    "![image.png](attachment:image.png)"
   ]
  },
  {
   "attachments": {},
   "cell_type": "markdown",
   "metadata": {},
   "source": [
    "### Алгоритм нахождения наибольшего и наименьшего значения непрерывной функции на отрезке\n",
    "Как определить наибольшее и наименьшее значения функции на отрезке?\n",
    "\n",
    "        Найдём область определения данной функции и проверим, входит ли в неё заданный отрезок.\n",
    "\n",
    "        Найдём производную данной функции.\n",
    "\n",
    "        Приравняем производную к нулю и найдём точки, в которых она обращается в нуль (решим уравнение).\n",
    "\n",
    "        Выберем из корней уравнения те точки, которые попадают в заданный промежуток, и вычислим значение функции в них.\n",
    "\n",
    "        Возьмём точки начала и конца отрезка и найдём значение функции в них.\n",
    "\n",
    "        Сделаем вывод о наибольшем и наименьшем значении функции. \n",
    "\n",
    "https://skysmart.ru/articles/mathematic/nahozhdeniya-naibolshego-i-naimenshego-znacheniya-funkcii"
   ]
  },
  {
   "cell_type": "code",
   "execution_count": 282,
   "metadata": {},
   "outputs": [
    {
     "name": "stdout",
     "output_type": "stream",
     "text": [
      "2*x + 4\n",
      "Значения Х ..................[-3 -2 -1  0  1  2  3  4]\n",
      "Значения производной функции [-2  0  2  4  6  8 10 12]\n",
      "производная равна 0 при х =  -2\n"
     ]
    }
   ],
   "source": [
    "from sympy import *\n",
    "import numpy as np\n",
    "x = Symbol('x')\n",
    "y = x**2 + x*4              # здесь задаем функцию\n",
    "yprime = y.diff(x)          # здесь вычисляем ее производную из библиотеки sympy\n",
    "print(yprime)           \n",
    "\n",
    "f_diff = lambdify(x, yprime, 'numpy')    # здесь задаем порядоек работы функции со значениями x + указываем вид последовательности\n",
    "x_seq = np.array([-3,-2,-1,0,1,2,3,4])        # здесь задаем отрезок значений аргумента (например на отрезке [0,4])\n",
    "print(f'Значения Х ..................{x_seq}')\n",
    "#print(f'Значения функции на концах отрезка [{}, {}]')\n",
    "print(f'Значения производной функции {f_diff(x_seq)}')    # здесь получаем массив значений производной функции на этом отрезке\n",
    "\n",
    "for ind, x in enumerate(x_seq):\n",
    "    if f_diff(x_seq)[ind] == 0: print('производная равна 0 при х = ', x)\n",
    "\n"
   ]
  },
  {
   "cell_type": "code",
   "execution_count": 280,
   "metadata": {},
   "outputs": [
    {
     "data": {
      "text/plain": [
       "array([-3, 45])"
      ]
     },
     "execution_count": 280,
     "metadata": {},
     "output_type": "execute_result"
    }
   ],
   "source": [
    "from sympy import *\n",
    "import numpy as np\n",
    "x = Symbol('x')\n",
    "y = x**2 + x*4 \n",
    "\n",
    "f_orig = lambdify(x, y, 'numpy')\n",
    "\n",
    "f_orig(np.array([-1,5]))"
   ]
  },
  {
   "cell_type": "code",
   "execution_count": 283,
   "metadata": {},
   "outputs": [
    {
     "name": "stdout",
     "output_type": "stream",
     "text": [
      "2*x + 4\n",
      "x**2 + 4*x\n"
     ]
    }
   ],
   "source": [
    "from sympy import *\n",
    "import numpy as np\n",
    "x = Symbol('x')\n",
    "y = x**2 + x*4              # здесь задаем функцию\n",
    "yprime = y.diff(x)          # здесь вычисляем ее производную из библиотеки sympy\n",
    "print(yprime)\n",
    "\n",
    "x=2\n",
    "print(y)"
   ]
  },
  {
   "cell_type": "code",
   "execution_count": 296,
   "metadata": {},
   "outputs": [
    {
     "data": {
      "text/plain": [
       "[1, 2, -3]"
      ]
     },
     "execution_count": 296,
     "metadata": {},
     "output_type": "execute_result"
    }
   ],
   "source": [
    "# поэлементное сложение списков\n",
    "positive = [1, 2, 3, 4, 5]\n",
    "negative = [-1, -2, -3]\n",
    "combined = [1, 2, -3, 4]\n",
    "\n",
    "result = map(lambda a, b, c: a + b + c, positive, negative, combined)\n",
    "\n",
    "list(result)"
   ]
  },
  {
   "cell_type": "code",
   "execution_count": 304,
   "metadata": {},
   "outputs": [
    {
     "name": "stdout",
     "output_type": "stream",
     "text": [
      "-16\n",
      "-202\n",
      "883\n",
      "-765\n",
      "-105\n",
      "976\n",
      "-308\n",
      "458\n",
      "479\n",
      "-87\n",
      "-71\n",
      "112\n",
      "-621\n",
      "-715\n",
      "229\n",
      "729\n",
      "-358\n",
      "-974\n",
      "882\n",
      "-894\n",
      "323\n",
      "-224\n",
      "431\n",
      "170\n",
      "-343\n",
      "104\n",
      "-353\n",
      "-113\n",
      "288\n",
      "-708\n"
     ]
    }
   ],
   "source": [
    "# вывести все числа (тип int и float), находящиеся в данном списке, отбрасывая дробную часть у вещественных чисел. \n",
    "# Числа должны быть расположены в своем исходном порядке, каждое на отдельной строке.\n",
    "\n",
    "data = ['Timur', -16.648911695768902, 'six', -202, 883.0093275936454, -765, (3, 4), -105.10718000213546, 976, -308.96857946288094, 458, ['one', 'two'], 479.92207220345927, -87, -71, 'twelve', 112, -621, -715.0179551194733, 'seven', 229, 729, -358, [1, 2, 3], -974, 882, -894.4709033242768, '', 323.7720806756133, 'beegeek', -224, 431, 170.6353248658936, -343.0016746052049, 'number', 104.17133679352878, [], -353.5964777099863, 'zero', -113, 288, None, -708.3036176571618]\n",
    "\n",
    "new_data = [int(i) for i in data if type(i) in (int,float)]\n",
    "\n",
    "print(*new_data, sep='\\n')"
   ]
  },
  {
   "cell_type": "code",
   "execution_count": 313,
   "metadata": {},
   "outputs": [
    {
     "data": {
      "text/latex": [
       "$\\displaystyle 24$"
      ],
      "text/plain": [
       "24"
      ]
     },
     "execution_count": 313,
     "metadata": {},
     "output_type": "execute_result"
    }
   ],
   "source": [
    "# Используя синтаксис анонимных функций, реализуйте рекурсивную функцию fib()\n",
    "\n",
    "fibonacci(8) +3"
   ]
  },
  {
   "attachments": {},
   "cell_type": "markdown",
   "metadata": {},
   "source": [
    "        Функция print_operation_table()\n",
    "        Реализуйте функцию print_operation_table(), которая принимает три аргумента в следующем порядке:\n",
    "\n",
    "        operation — функция, характеризующая некоторую бинарную операцию\n",
    "        rows — натуральное число\n",
    "        cols — натуральное число\n",
    "        Функция должна составлять и выводить таблицу из rows строк и cols столбцов, в которой элемент со строкой \n",
    "        �\n",
    "        n и столбцом \n",
    "        �\n",
    "        m имеет значение operation(n, m).\n",
    "\n",
    "        Примечание 1. Нумерация строк и столбцов в таблице начинается с единицы.\n",
    "\n",
    "        Примечание 2. Элементы в строках таблицы должны быть разделены одним пробелом, причем выравнивать таблицу необязательно.\n",
    "\n",
    "        Примечание 3. Бинарная операция — математическая операция, принимающая два аргумента и возвращающая один результат."
   ]
  },
  {
   "cell_type": "code",
   "execution_count": 319,
   "metadata": {},
   "outputs": [
    {
     "name": "stdout",
     "output_type": "stream",
     "text": [
      "1   2   3   4   5   \n",
      "2   4   6   8   10  \n",
      "3   6   9   12  15  \n",
      "4   8   12  16  20  \n",
      "5   10  15  20  25  \n"
     ]
    }
   ],
   "source": [
    "def print_operation_table(operation, rows, cols):\n",
    "    data = [[operation(row, col) for col in range(1,cols+1)] for row in range(1, rows+1)]\n",
    "\n",
    "    def print_matrix(matrix, width):\n",
    "        n=len(matrix)\n",
    "        m=len(matrix[0])\n",
    "        for r in range(n):\n",
    "            for c in range(m):\n",
    "                print(str(matrix[r][c]).ljust(width), end=' ')\n",
    "            print()\n",
    "\n",
    "    return print_matrix(data, 3)\n",
    "\n",
    "print_operation_table(lambda a, b: a * b, 5, 5)"
   ]
  },
  {
   "cell_type": "code",
   "execution_count": 320,
   "metadata": {},
   "outputs": [
    {
     "name": "stdout",
     "output_type": "stream",
     "text": [
      "1   1   1   1   \n",
      "2   4   8   16  \n",
      "3   9   27  81  \n",
      "4   16  64  256 \n",
      "5   25  125 625 \n"
     ]
    }
   ],
   "source": [
    "print_operation_table(pow, 5, 4)"
   ]
  },
  {
   "cell_type": "code",
   "execution_count": 316,
   "metadata": {},
   "outputs": [
    {
     "name": "stdout",
     "output_type": "stream",
     "text": [
      "1 2 3 4 5 \n",
      "2 4 6 8 10 \n",
      "3 6 9 12 15 \n",
      "4 8 12 16 20 \n",
      "5 10 15 20 25 \n"
     ]
    }
   ],
   "source": [
    "rows, cols = 5, 5\n",
    "operation = lambda a, b: a * b\n",
    "data = [[operation(row, col) for col in range(1,cols+1)] for row in range(1, rows+1)]\n",
    "\n",
    "def print_matrix(matrix, width):\n",
    "    n=len(matrix)\n",
    "    m=len(matrix[0])\n",
    "    for r in range(n):\n",
    "        for c in range(m):\n",
    "            print(str(matrix[r][c]).ljust(width), end=' ')\n",
    "        print()\n",
    "\n",
    "print_matrix(data, 1)"
   ]
  },
  {
   "cell_type": "code",
   "execution_count": 321,
   "metadata": {},
   "outputs": [
    {
     "name": "stdout",
     "output_type": "stream",
     "text": [
      "1   2   3   4   5   \n",
      "2   4   6   8   10  \n",
      "3   6   9   12  15  \n",
      "4   8   12  16  20  \n",
      "5   10  15  20  25  \n"
     ]
    }
   ],
   "source": [
    "def print_operation_table(operation, rows, cols):\n",
    "    data = [[operation(row, col) for col in range(1,cols+1)] for row in range(1, rows+1)]\n",
    "    for r in range(rows):\n",
    "        for c in range(cols):\n",
    "            print(str(data[r][c]).ljust(3), end=' ')\n",
    "        print()\n",
    "\n",
    "print_operation_table(lambda a, b: a * b, 5, 5)"
   ]
  },
  {
   "attachments": {},
   "cell_type": "markdown",
   "metadata": {},
   "source": [
    "        Функция verification()\n",
    "        Реализуйте функцию verification(), которая проверяет правильность введенного пароля. Она должна принимать четыре аргумента в следующем порядке:\n",
    "\n",
    "        login — логин пользователя\n",
    "        password — пароль пользователя\n",
    "        success — некоторая функция\n",
    "        failure — некоторая функция\n",
    "        Пароль считается правильным, если в нем присутствует, хотя бы одна заглавная латинская буква, хотя бы одна строчная латинская буква и хотя бы одна цифра. Функция verification() должна вызывать функцию success() с аргументом login, если переданный пароль является правильным, иначе — функцию failure() с аргументами login и строкой-сообщением об ошибке:\n",
    "\n",
    "        в пароле нет ни одной буквы, если в пароле отсутствуют латинские буквы\n",
    "        в пароле нет ни одной заглавной буквы, если в пароле отсутствуют заглавные латинские буквы\n",
    "        в пароле нет ни одной строчной буквы, если в пароле отсутствуют строчные латинские буквы\n",
    "        в пароле нет ни одной цифры, если в пароле отсутствуют цифры\n",
    "        \n",
    "        Примечание 1. Если пароль не удовлетворяет нескольким условиям, то приоритеты выбора строки-сообщения об ошибке являются следующими:\n",
    "\n",
    "        в пароле нет ни одной буквы\n",
    "        в пароле нет ни одной заглавной буквы\n",
    "        в пароле нет ни одной строчной буквы\n",
    "        в пароле нет ни одной цифры"
   ]
  },
  {
   "cell_type": "code",
   "execution_count": 335,
   "metadata": {},
   "outputs": [
    {
     "name": "stdout",
     "output_type": "stream",
     "text": [
      "Привет, timyrik20!\n"
     ]
    }
   ],
   "source": [
    "def verification(login, password, success, failure):\n",
    "    class LetterError1(Exception):\n",
    "            pass\n",
    "\n",
    "    class LetterError2(Exception):\n",
    "        pass\n",
    "\n",
    "    class LetterError3(Exception):\n",
    "        pass\n",
    "\n",
    "    class DigitError(Exception):\n",
    "        pass\n",
    "\n",
    "    def is_good_password(string):\n",
    "\n",
    "        eng_letters = [chr(let) for let in range(ord('a'), ord('z')+1)]\n",
    "        ENG_letters = [chr(let) for let in range(ord('A'), ord('Z')+1)]\n",
    "        \n",
    "        if not any([a in eng_letters+ENG_letters for a in string]):\n",
    "            raise LetterError1('в пароле нет ни одной буквы')\n",
    "        \n",
    "        elif not any([a in ENG_letters for a in string]):\n",
    "            raise LetterError2('в пароле нет ни одной заглавной буквы')\n",
    "        \n",
    "        elif not any([a in eng_letters for a in string]):\n",
    "            raise LetterError3('в пароле нет ни одной строчной буквы')\n",
    "        \n",
    "        \n",
    "        elif not any([a.isdigit() for a in string]):\n",
    "            raise DigitError('в пароле нет ни одной цифры')\n",
    "        \n",
    "        else: return True\n",
    "\n",
    "    try:\n",
    "        if is_good_password(password): success(login)\n",
    "    except (LetterError1,LetterError2,LetterError3, DigitError)  as err:\n",
    "        text = err\n",
    "        failure(login, text)\n",
    "    \n",
    "def success(login):\n",
    "    print(f'Привет, {login}!')\n",
    "\n",
    "def failure(login, text):\n",
    "    print(f'{login}, попробуйте снова. Ошибка: {text}')\n",
    "\n",
    "verification('timyrik20', 'Beegeek314', success, failure)\n",
    "        \n"
   ]
  },
  {
   "cell_type": "code",
   "execution_count": 336,
   "metadata": {},
   "outputs": [
    {
     "name": "stdout",
     "output_type": "stream",
     "text": [
      "Ruslan_Chaniev, попробуйте снова. Текст ошибки: в пароле нет ни одной заглавной буквы\n"
     ]
    }
   ],
   "source": [
    "def success(login):\n",
    "    print(f'Здравствуйте, {login}!')\n",
    "\n",
    "def failure(login, text):\n",
    "    print(f'{login}, попробуйте снова. Текст ошибки: {text}')\n",
    "\n",
    "verification('Ruslan_Chaniev', 'stepikstepik2', success, failure)"
   ]
  },
  {
   "cell_type": "code",
   "execution_count": 337,
   "metadata": {},
   "outputs": [
    {
     "name": "stdout",
     "output_type": "stream",
     "text": [
      "Arthur_Davletov, попробуйте снова. Текст ошибки: в пароле нет ни одной буквы\n"
     ]
    }
   ],
   "source": [
    "def success(login):\n",
    "    print(f'Здравствуйте, {login}!')\n",
    "\n",
    "\n",
    "def failure(login, text):\n",
    "    print(f'{login}, попробуйте снова. Текст ошибки: {text}')\n",
    "\n",
    "\n",
    "verification('Arthur_Davletov', 'мойпароль123', success, failure)"
   ]
  },
  {
   "cell_type": "code",
   "execution_count": 330,
   "metadata": {},
   "outputs": [
    {
     "ename": "DigitError",
     "evalue": "в пароле нет ни одной цифры",
     "output_type": "error",
     "traceback": [
      "\u001b[0;31m---------------------------------------------------------------------------\u001b[0m",
      "\u001b[0;31mDigitError\u001b[0m                                Traceback (most recent call last)",
      "\u001b[1;32m/Users/tony_builder/Documents/GitHub/studying/Python_stepic_beegeek/python for professional/functions.ipynb Ячейка 75\u001b[0m in \u001b[0;36m3\n\u001b[1;32m     <a href='vscode-notebook-cell:/Users/tony_builder/Documents/GitHub/studying/Python_stepic_beegeek/python%20for%20professional/functions.ipynb#Y213sZmlsZQ%3D%3D?line=24'>25</a>\u001b[0m             \u001b[39mraise\u001b[39;00m DigitError(\u001b[39m'\u001b[39m\u001b[39mв пароле нет ни одной цифры\u001b[39m\u001b[39m'\u001b[39m)\n\u001b[1;32m     <a href='vscode-notebook-cell:/Users/tony_builder/Documents/GitHub/studying/Python_stepic_beegeek/python%20for%20professional/functions.ipynb#Y213sZmlsZQ%3D%3D?line=26'>27</a>\u001b[0m         \u001b[39melse\u001b[39;00m: \u001b[39mreturn\u001b[39;00m \u001b[39mTrue\u001b[39;00m\n\u001b[0;32m---> <a href='vscode-notebook-cell:/Users/tony_builder/Documents/GitHub/studying/Python_stepic_beegeek/python%20for%20professional/functions.ipynb#Y213sZmlsZQ%3D%3D?line=30'>31</a>\u001b[0m is_good_password(\u001b[39m'\u001b[39;49m\u001b[39maBBB\u001b[39;49m\u001b[39m'\u001b[39;49m)\n",
      "\u001b[1;32m/Users/tony_builder/Documents/GitHub/studying/Python_stepic_beegeek/python for professional/functions.ipynb Ячейка 75\u001b[0m in \u001b[0;36m2\n\u001b[1;32m     <a href='vscode-notebook-cell:/Users/tony_builder/Documents/GitHub/studying/Python_stepic_beegeek/python%20for%20professional/functions.ipynb#Y213sZmlsZQ%3D%3D?line=20'>21</a>\u001b[0m     \u001b[39mraise\u001b[39;00m LetterError3(\u001b[39m'\u001b[39m\u001b[39mв пароле нет ни одной строчной буквы\u001b[39m\u001b[39m'\u001b[39m)\n\u001b[1;32m     <a href='vscode-notebook-cell:/Users/tony_builder/Documents/GitHub/studying/Python_stepic_beegeek/python%20for%20professional/functions.ipynb#Y213sZmlsZQ%3D%3D?line=23'>24</a>\u001b[0m \u001b[39melif\u001b[39;00m \u001b[39mnot\u001b[39;00m \u001b[39many\u001b[39m([a\u001b[39m.\u001b[39misdigit() \u001b[39mfor\u001b[39;00m a \u001b[39min\u001b[39;00m string]):\n\u001b[0;32m---> <a href='vscode-notebook-cell:/Users/tony_builder/Documents/GitHub/studying/Python_stepic_beegeek/python%20for%20professional/functions.ipynb#Y213sZmlsZQ%3D%3D?line=24'>25</a>\u001b[0m     \u001b[39mraise\u001b[39;00m DigitError(\u001b[39m'\u001b[39m\u001b[39mв пароле нет ни одной цифры\u001b[39m\u001b[39m'\u001b[39m)\n\u001b[1;32m     <a href='vscode-notebook-cell:/Users/tony_builder/Documents/GitHub/studying/Python_stepic_beegeek/python%20for%20professional/functions.ipynb#Y213sZmlsZQ%3D%3D?line=26'>27</a>\u001b[0m \u001b[39melse\u001b[39;00m: \u001b[39mreturn\u001b[39;00m \u001b[39mTrue\u001b[39;00m\n",
      "\u001b[0;31mDigitError\u001b[0m: в пароле нет ни одной цифры"
     ]
    }
   ],
   "source": [
    "def is_good_password(string):\n",
    "        class LetterError1(Exception):\n",
    "            pass\n",
    "\n",
    "        class LetterError2(Exception):\n",
    "            pass\n",
    "\n",
    "        class LetterError3(Exception):\n",
    "            pass\n",
    "\n",
    "        class DigitError(Exception):\n",
    "            pass\n",
    "\n",
    "        if not any([a.isalpha() for a in string]):\n",
    "            raise LetterError1('в пароле нет ни одной буквы')\n",
    "        \n",
    "        elif not any([a.isupper() for a in string]):\n",
    "            raise LetterError2('в пароле нет ни одной заглавной буквы')\n",
    "        \n",
    "        elif not any([a.islower() for a in string]):\n",
    "            raise LetterError3('в пароле нет ни одной строчной буквы')\n",
    "        \n",
    "        \n",
    "        elif not any([a.isdigit() for a in string]):\n",
    "            raise DigitError('в пароле нет ни одной цифры')\n",
    "        \n",
    "        else: return True\n",
    "        \n",
    "        \n",
    "        \n",
    "is_good_password('aBBB')"
   ]
  },
  {
   "attachments": {},
   "cell_type": "markdown",
   "metadata": {},
   "source": [
    "        Атрибуты __name__, __doc__, __defaults__\n",
    "        Все функции содержат специальные атрибуты, которые содержат полезную информацию.\n",
    "\n",
    "        Три важных атрибута:\n",
    "\n",
    "        __name__ — имя функции\n",
    "        __doc__ — строка документирования (строковый литерал, который расположен сразу за объявлением функции)\n",
    "        __defaults__ — кортеж с аргументами по умолчанию"
   ]
  },
  {
   "cell_type": "code",
   "execution_count": 341,
   "metadata": {},
   "outputs": [
    {
     "name": "stdout",
     "output_type": "stream",
     "text": [
      "func\n",
      "None\n",
      "('Python', 1992)\n"
     ]
    }
   ],
   "source": [
    "def func(name, language='Python', year=1992):\n",
    "    pass\n",
    "\n",
    "print(func.__name__)          # имя функции\n",
    "print(func.__doc__)           # строка документирования\n",
    "print(func.__defaults__)      # кортеж с аргументами по умолчанию"
   ]
  },
  {
   "cell_type": "code",
   "execution_count": 342,
   "metadata": {},
   "outputs": [
    {
     "name": "stdout",
     "output_type": "stream",
     "text": [
      "Return the absolute value of the argument.\n",
      "Return a copy of the string converted to lowercase.\n"
     ]
    }
   ],
   "source": [
    "print(abs.__doc__)\n",
    "print(str.lower.__doc__)"
   ]
  },
  {
   "cell_type": "code",
   "execution_count": 343,
   "metadata": {},
   "outputs": [
    {
     "name": "stdout",
     "output_type": "stream",
     "text": [
      "Принимает число и возвращает его квадрат.\n",
      "Принимает несколько чисел и возвращает их среднее арифметическое значение.\n"
     ]
    }
   ],
   "source": [
    "# Для описания строки документации обычно используют тройные кавычки, в которых размещается соответствующая информация\n",
    "\n",
    "def square(n):\n",
    "    '''Принимает число и возвращает его квадрат.'''\n",
    "    return n**2\n",
    "\n",
    "def average(*args):\n",
    "    '''Принимает несколько чисел и возвращает их среднее арифметическое значение.'''\n",
    "    return sum(args)/len(args)\n",
    "\n",
    "print(square.__doc__)\n",
    "print(average.__doc__)"
   ]
  },
  {
   "attachments": {},
   "cell_type": "markdown",
   "metadata": {},
   "source": [
    "Примечание 1. Переопределение (подмена) функций достаточно мощный механизм, однако и опасный. Никогда не стоит переопределять встроенные функции."
   ]
  },
  {
   "attachments": {},
   "cell_type": "markdown",
   "metadata": {},
   "source": [
    "        Функция numbers_sum()\n",
    "        Реализуйте функцию numbers_sum(), которая принимает один аргумент:\n",
    "\n",
    "        elems — список произвольных объектов\n",
    "        Функция должна возвращать сумму чисел (типы int и float), находящихся в списке elems, игнорируя все нечисловые объекты. Если в списке elems нет чисел, функция должна вернуть число \n",
    "        0\n",
    "        0.\n",
    "\n",
    "        Также функция должна иметь следующую строку документации:\n",
    "\n",
    "        Принимает список и возвращает сумму его чисел (int, float),\n",
    "        игнорируя нечисловые объекты. 0 - если в списке чисел нет"
   ]
  },
  {
   "cell_type": "code",
   "execution_count": 345,
   "metadata": {},
   "outputs": [
    {
     "name": "stdout",
     "output_type": "stream",
     "text": [
      "8\n"
     ]
    }
   ],
   "source": [
    "def numbers_sum(elems):\n",
    "    \"\"\"Принимает список и возвращает сумму его чисел (int, float),игнорируя нечисловые объекты. 0 - если в списке чисел нет.\"\"\"\n",
    "    return sum([elem for elem in elems if type(elem) in (int, float)])\n",
    "\n",
    "print(numbers_sum([1, '2', 3, 4, 'five']))"
   ]
  },
  {
   "attachments": {},
   "cell_type": "markdown",
   "metadata": {},
   "source": [
    "        Новый print()\n",
    "        Напишите программу, которая переопределяет встроенную функцию print() так, чтобы она печатала все переданные строковые аргументы в верхнем регистре.\n",
    "\n",
    "        Примечание 1. Значения sep и end также должны переводиться в верхний регистр."
   ]
  },
  {
   "cell_type": "code",
   "execution_count": 40,
   "metadata": {},
   "outputs": [
    {
     "name": "stdout",
     "output_type": "stream",
     "text": [
      "BLACK TO WHITE TO GREY TO BLACK-1 TO WHITE-1 TO PYTHON LOVE"
     ]
    }
   ],
   "source": [
    "old_print = print\n",
    "def do_smth(*args, sep=' ', end= ''):\n",
    "    return old_print(*[arg.upper() if isinstance(arg,str) else arg for arg in args], sep=sep.upper(), end= end.upper())\n",
    "\n",
    "\n",
    "prant = do_smth\n",
    "\n",
    "words = ('black', 'white', 'grey', 'black-1', 'white-1', 'python')\n",
    "prant(*words, sep=' to ', end=' LOVE')"
   ]
  },
  {
   "cell_type": "code",
   "execution_count": 41,
   "metadata": {},
   "outputs": [
    {
     "name": "stdout",
     "output_type": "stream",
     "text": [
      "BEE AND GEEK WOW"
     ]
    }
   ],
   "source": [
    "prant('bee', 'geek', sep=' and ', end=' wow')"
   ]
  },
  {
   "cell_type": "code",
   "execution_count": 42,
   "metadata": {},
   "outputs": [
    {
     "name": "stdout",
     "output_type": "stream",
     "text": [
      "BEEGEEK [1, 2, 3] 4"
     ]
    }
   ],
   "source": [
    "prant('beegeek', [1, 2, 3], 4)"
   ]
  },
  {
   "attachments": {},
   "cell_type": "markdown",
   "metadata": {},
   "source": [
    "### Пользовательские атрибуты функций\n",
    "У объектов функций есть дополнительный атрибут __dict__, являющийся словарем который используется для динамического наделения функций дополнительным функционалом. Устанавливать и получать значения из данного атрибута можно используя два синтаксиса:\n",
    "\n",
    "        в стиле словаря: func.__dict__['attr'] = value\n",
    "        через точечную нотацию: func.attr = value\n",
    "\n",
    "Доступ к словарю атрибутов функции можно получить как из тела функции, так и из вне."
   ]
  },
  {
   "cell_type": "code",
   "execution_count": 47,
   "metadata": {},
   "outputs": [
    {
     "name": "stdout",
     "output_type": "stream",
     "text": [
      "{}\n",
      "{'value': 777, 'numbers': [1, 2, 3], 'name': 'Timur'}\n",
      "{'value': 777, 'numbers': [1, 2, 3], 'name': 'Timur', 'age': 17}\n"
     ]
    }
   ],
   "source": [
    "def greet():\n",
    "    greet.age = 17\n",
    "\n",
    "print(greet.__dict__)\n",
    "\n",
    "greet.value = 777\n",
    "greet.numbers = [1, 2, 3]\n",
    "greet.name = 'Timur'\n",
    "\n",
    "\n",
    "print(greet.__dict__)\n",
    "\n",
    "greet()\n",
    "\n",
    "print(greet.__dict__)"
   ]
  },
  {
   "attachments": {},
   "cell_type": "markdown",
   "metadata": {},
   "source": [
    "Зачем? как вариант - для кэширования (мемоизации)"
   ]
  },
  {
   "cell_type": "code",
   "execution_count": 48,
   "metadata": {},
   "outputs": [
    {
     "data": {
      "text/plain": [
       "102334155"
      ]
     },
     "execution_count": 48,
     "metadata": {},
     "output_type": "execute_result"
    }
   ],
   "source": [
    "def fib(num):\n",
    "    if num < 2:\n",
    "        return num\n",
    "    if num not in fib.__dict__:\n",
    "        fib.__dict__[num] = fib(num - 1) + fib(num - 2)\n",
    "    return fib.__dict__[num]\n",
    "\n",
    "fib(40)"
   ]
  },
  {
   "attachments": {},
   "cell_type": "markdown",
   "metadata": {},
   "source": [
    "        Функция polynom()\n",
    "        Реализуйте функцию polynom(), которая принимает один аргумент:\n",
    "\n",
    "        x — вещественное число\n",
    "        Функция должна возвращать значение выражения x**2 +1\n",
    "\n",
    "        Также функция должна иметь атрибут values, представляющий собой множество (тип set) всех значений функции, которые уже были вычислены."
   ]
  },
  {
   "cell_type": "code",
   "execution_count": 73,
   "metadata": {},
   "outputs": [
    {
     "name": "stdout",
     "output_type": "stream",
     "text": [
      "5\n",
      "26\n",
      "101\n",
      "{26, 101, 5}\n"
     ]
    }
   ],
   "source": [
    "\n",
    "def polynom(x):\n",
    "    res = x**2+1\n",
    "    polynom.__dict__['values'].add(res)\n",
    "    return res\n",
    "\n",
    "polynom.values = set()\n",
    "\n",
    "print(polynom(2))\n",
    "print(polynom(5))\n",
    "print(polynom(10))\n",
    "\n",
    "print(polynom.values)"
   ]
  },
  {
   "attachments": {},
   "cell_type": "markdown",
   "metadata": {},
   "source": [
    "        Функция remove_marks()\n",
    "        Реализуйте функцию remove_marks(), которая принимает два аргумента в следующем порядке:\n",
    "\n",
    "        text — произвольная строка\n",
    "        marks — набор символов\n",
    "        Функция должна возвращать строку text, предварительно удалив из нее все символы, перечисленные в строке marks.\n",
    "\n",
    "        Также функция remove_marks() должна иметь атрибут count, представляющий собой количество вызовов данной функции."
   ]
  },
  {
   "cell_type": "code",
   "execution_count": 78,
   "metadata": {},
   "outputs": [
    {
     "name": "stdout",
     "output_type": "stream",
     "text": [
      "Hi Will we go together\n",
      "1\n"
     ]
    }
   ],
   "source": [
    "def remove_marks(text, marks):\n",
    "    remove_marks.__dict__['count'] +=1\n",
    "    return ''.join([elem for elem in text if elem not in marks])\n",
    "\n",
    "\n",
    "remove_marks.count = 0\n",
    "\n",
    "text = 'Hi! Will we go together?'\n",
    "\n",
    "print(remove_marks(text, '!?'))\n",
    "print(remove_marks.count)"
   ]
  },
  {
   "cell_type": "code",
   "execution_count": 79,
   "metadata": {},
   "outputs": [
    {
     "name": "stdout",
     "output_type": "stream",
     "text": [
      "Are you listening? Meet my family! There are my parents, my brother and me\n",
      "Are you listening? Meet my family! There are my parents my brother and me.\n",
      "Are you listening? Meet my family There are my parents, my brother and me.\n",
      "Are you listening Meet my family! There are my parents, my brother and me.\n",
      "5\n"
     ]
    }
   ],
   "source": [
    "marks = '.,!?'\n",
    "text = 'Are you listening? Meet my family! There are my parents, my brother and me.'\n",
    "\n",
    "for mark in marks:\n",
    "    print(remove_marks(text, mark))\n",
    "    \n",
    "print(remove_marks.count)"
   ]
  },
  {
   "attachments": {},
   "cell_type": "markdown",
   "metadata": {},
   "source": [
    "### Вложенный функции и замыкания"
   ]
  },
  {
   "cell_type": "code",
   "execution_count": 80,
   "metadata": {},
   "outputs": [
    {
     "name": "stdout",
     "output_type": "stream",
     "text": [
      "hello...\n",
      "HELLO!\n"
     ]
    }
   ],
   "source": [
    "#пример работы вложенной функции\n",
    "\n",
    "def get_speak_func(volume):\n",
    "    def whisper(text):\n",
    "        return text.lower() + '...'\n",
    "    def yell(text):\n",
    "        return text.upper() + '!'\n",
    "\n",
    "    if volume > 0.5:\n",
    "        return yell\n",
    "    else:\n",
    "        return whisper\n",
    "    \n",
    "whisper = get_speak_func(0.3)     # функция whisper()\n",
    "yell = get_speak_func(0.7)        # функция yell()\n",
    "\n",
    "print(whisper('Hello'))           # говорим шепотом\n",
    "print(yell('Hello'))              # кричим"
   ]
  },
  {
   "cell_type": "code",
   "execution_count": 81,
   "metadata": {},
   "outputs": [
    {
     "name": "stdout",
     "output_type": "stream",
     "text": [
      "HELLO, WORLD!\n"
     ]
    }
   ],
   "source": [
    "# пример работы функций-замыканий\n",
    "\n",
    "def get_speak_func(text, volume):\n",
    "    def whisper():                          # функция замыкания\n",
    "        return text.lower() + '...'\n",
    "    def yell():                             # функция замыкания\n",
    "        return text.upper() + '!'\n",
    "    \n",
    "    if volume > 0.5:\n",
    "        return yell\n",
    "    else:\n",
    "        return whisper\n",
    "\n",
    "yell = get_speak_func('Hello, World', 0.7)\n",
    "\n",
    "print(yell())"
   ]
  },
  {
   "attachments": {},
   "cell_type": "markdown",
   "metadata": {},
   "source": [
    "Теперь вложенные функции whisper() и yell() не имеют параметра text. Они его получают и используют через родительскую функцию get_speak_func(). Функции, которые делают это, называются замыканиями. Замыкание запоминает значения из включающей его области, даже если поток программы больше не находится в этой области.\n",
    "\n",
    "Таким образом, **замыкание — это особый вид функции.** \n",
    "\n",
    "    Она определена в теле другой функции и создаётся каждый раз во время её выполнения. Синтаксически это выглядит как функция, находящаяся целиком в теле другой функции. При этом вложенная функция содержит ссылки на локальные переменные внешней функции. Каждый раз при выполнении внешней функции происходит создание нового экземпляра внутренней функции, с новыми ссылками на переменные внешней функции."
   ]
  },
  {
   "attachments": {},
   "cell_type": "markdown",
   "metadata": {},
   "source": [
    "##### Когда использовать замыкания\n",
    "\n",
    "Концепция замыканий, то есть функций, захватывающих нелокальные переменные, находят много применений при написании кода. Замыкания хороши для:\n",
    "\n",
    "        воздержания от жестко закодированных констант\n",
    "        воздержания от использования глобальных переменных\n",
    "        воздержания от создания ненужных типов данных (классов)\n",
    "        замыкания нужны для реализации декораторов\n",
    "\n",
    "Сокрытие данных основное преимущество замыканий."
   ]
  },
  {
   "cell_type": "code",
   "execution_count": 84,
   "metadata": {},
   "outputs": [
    {
     "name": "stdout",
     "output_type": "stream",
     "text": [
      "1\n",
      "2\n",
      "1\n",
      "3\n",
      "2\n"
     ]
    }
   ],
   "source": [
    "def closure():\n",
    "    count = 0\n",
    "    def inner():\n",
    "        nonlocal count\n",
    "        count += 1\n",
    "        print(count)\n",
    "    return inner\n",
    "\n",
    "start = closure()\n",
    "another = closure()             # другое замыкание, со своими локальными значениями\n",
    "\n",
    "start()                         # выводит 1\n",
    "start()                         # выводит 2\n",
    "\n",
    "another()                       # выводит 1\n",
    "\n",
    "start()                         # выводит 3\n",
    "\n",
    "another()"
   ]
  },
  {
   "cell_type": "code",
   "execution_count": 85,
   "metadata": {},
   "outputs": [
    {
     "name": "stdout",
     "output_type": "stream",
     "text": [
      "Hi, Timur\n",
      "Hello, Soslan\n"
     ]
    }
   ],
   "source": [
    "def greeting_creator(greeting_word):\n",
    "    def greet(name):\n",
    "        return f'{greeting_word}, {name}'\n",
    "\n",
    "    return greet\n",
    "\n",
    "say_hi = greeting_creator('Hi')         # сохраняем результат поведения от слова Привет\n",
    "say_hello = greeting_creator('Hello')   # сохрянем результат поведения от слова Здравствуйте \n",
    "\n",
    "print(say_hi('Timur'))\n",
    "print(say_hello('Soslan'))"
   ]
  },
  {
   "cell_type": "code",
   "execution_count": 86,
   "metadata": {},
   "outputs": [
    {
     "name": "stdout",
     "output_type": "stream",
     "text": [
      "25\n",
      "-15\n"
     ]
    }
   ],
   "source": [
    "# линейная функция\n",
    "def line_generator(k, b):\n",
    "    def func(x):\n",
    "        return k * x + b\n",
    "    return func\n",
    "\n",
    "line_func_1 = line_generator(2, 5)        # получаем функцию y = 2*x + 5\n",
    "line_func_2 = line_generator(-6, 9)       # получаем функцию y = -6*x + 9\n",
    "\n",
    "print(line_func_1(10))                    # печатаем значение 2*10 + 5\n",
    "print(line_func_2(4))                     # печатаем значение -6*4 + 9"
   ]
  },
  {
   "attachments": {},
   "cell_type": "markdown",
   "metadata": {},
   "source": [
    "### Нелокальные переменные\n",
    "При поиске переменной с указанным именем приоритет (правило разрешения имен) следующий:\n",
    "\n",
    "        сначала ищем локальную переменную\n",
    "        если не нашли локальную, ищем нелокальную\n",
    "        если не нашли нелокальную, ищем глобальную\n",
    "        и в самом конце — встроенную в язык\n",
    "Промежуточная область видимости, которая доступна вложенным функциям, называется нелокальной. Если вложенность функций больше двух уровней, нелокальная переменная ищет в «ближайшей» области видимости, т. е. в функции вложенностью на один меньше. Если не находит, поиск переходит в самую ближнюю из внешних областей видимости, затем в чуть более далекую — и так далее, пока не найдется нужное имя. Фактически интерпретатор ищет там, «где поближе»."
   ]
  },
  {
   "attachments": {},
   "cell_type": "markdown",
   "metadata": {},
   "source": [
    "### Nonlocal "
   ]
  },
  {
   "attachments": {},
   "cell_type": "markdown",
   "metadata": {},
   "source": [
    "Если вложенная функция не просто обращается (получает значение) к переменной num, но и пытается его изменить! Внутренняя функция видит переменные в объемлющей функции, но, если она хочет такую переменную изменить, должна объявить ее **nonlocal**."
   ]
  },
  {
   "cell_type": "code",
   "execution_count": 89,
   "metadata": {},
   "outputs": [
    {
     "name": "stdout",
     "output_type": "stream",
     "text": [
      "15\n",
      "15\n"
     ]
    }
   ],
   "source": [
    "def outer_function():\n",
    "    num = 5\n",
    "    def inner_function():      # определяем вложенную функцию\n",
    "        nonlocal num           # делаем переменную нелокальной \n",
    "        num += 10\n",
    "        print(num)\n",
    "    inner_function()           # вызываем вложенную функцию\n",
    "    print(num)    \n",
    "outer_function()"
   ]
  },
  {
   "attachments": {},
   "cell_type": "markdown",
   "metadata": {},
   "source": [
    "Атрибут __closure__\n",
    "\n",
    "Все функции содержат специальный атрибут __closure__, который представляет из себя кортеж, содержащий данные, связанные с вложенными областями видимости, то есть с нелокальными переменными.\n",
    "\n"
   ]
  },
  {
   "cell_type": "code",
   "execution_count": 88,
   "metadata": {},
   "outputs": [
    {
     "name": "stdout",
     "output_type": "stream",
     "text": [
      "python\n",
      "5\n",
      "[1, 2, 3]\n"
     ]
    }
   ],
   "source": [
    "def outer_function(arg):\n",
    "    num = 5\n",
    "    name = 'Timur'\n",
    "    numbers = [1, 2, 3]\n",
    "    def inner_function():      # определяем вложенную функцию\n",
    "        print(arg)\n",
    "        print(num)\n",
    "        print(numbers)\n",
    "    return inner_function      # возвращаем вложенную функцию\n",
    "        \n",
    "inner = outer_function('python')\n",
    "\n",
    "for var in inner.__closure__:\n",
    "    print(var.cell_contents)"
   ]
  },
  {
   "attachments": {},
   "cell_type": "markdown",
   "metadata": {},
   "source": [
    "        Функция power()\n",
    "        Реализуйте функцию power(), которая принимает один аргумент:\n",
    "\n",
    "        degree — целое число\n",
    "        Функция power() должна возвращать функцию, которая принимает в качестве аргумента целое число x и возвращает значение x в степени degree."
   ]
  },
  {
   "cell_type": "code",
   "execution_count": 91,
   "metadata": {},
   "outputs": [
    {
     "name": "stdout",
     "output_type": "stream",
     "text": [
      "25\n",
      "9\n"
     ]
    }
   ],
   "source": [
    "def power(degree):\n",
    "    def result(x):\n",
    "        return x**degree\n",
    "    return result\n",
    "\n",
    "square = power(2)\n",
    "print(square(5))\n",
    "\n",
    "print(power(2)(3))"
   ]
  },
  {
   "attachments": {},
   "cell_type": "markdown",
   "metadata": {},
   "source": [
    "        Функция generator_square_polynom() Квадратный трехчлен\n",
    "\n",
    "        Рассмотрим семейство функций — квадратных трехчленов. Все эти функции имеют один и тот же вид:\n",
    "        f(x)=ax2+bx+c\n",
    "\n",
    "        Реализуйте функцию generator_square_polynom(), которая принимает три аргумента в следующем порядке:\n",
    "\n",
    "        - a\n",
    "        - b\n",
    "        - с \n",
    "\n",
    "        Функция generator_square_polynom() должна возвращать функцию, которая принимает в качестве аргумента вещественное число x и возвращает значение выражения "
   ]
  },
  {
   "cell_type": "code",
   "execution_count": 93,
   "metadata": {},
   "outputs": [
    {
     "name": "stdout",
     "output_type": "stream",
     "text": [
      "36\n",
      "1056\n"
     ]
    }
   ],
   "source": [
    "def generator_square_polynom(a,b,c):\n",
    "    def result(x):\n",
    "        return a*x**2 + b*x + c\n",
    "    return result\n",
    "\n",
    "f = generator_square_polynom(1, 2, 1)\n",
    "print(f(5))\n",
    "\n",
    "print(generator_square_polynom(9, 52, 64)(8))"
   ]
  },
  {
   "attachments": {},
   "cell_type": "markdown",
   "metadata": {},
   "source": [
    "        Функция sourcetemplate()\n",
    "        Строка запроса (query string) — часть URL адреса, содержащая ключи и их значения. Она начинается после вопросительного знака и идет до конца адреса. Например:\n",
    "\n",
    "        https://beegeek.ru?name=timur     # строка запроса: name=timur\n",
    "        Если параметров в строке запроса несколько, то они отделяются символом амперсанда &:\n",
    "\n",
    "        https://beegeek.ru?name=timur&color=green     # строка запроса: name=timur&color=green \n",
    "        Реализуйте функцию sourcetemplate(), которая принимает один аргумент:\n",
    "\n",
    "        url — URL адрес\n",
    "        Функция sourcetemplate() должна возвращать функцию, которая принимает произвольное количество именованных аргументов и возвращает url адрес, объединенный со строкой запроса, сформированной из переданных аргументов. При вызове без аргументов она должна возвращать исходный url адрес без изменений."
   ]
  },
  {
   "cell_type": "code",
   "execution_count": 102,
   "metadata": {},
   "outputs": [
    {
     "name": "stdout",
     "output_type": "stream",
     "text": [
      "https://beegeek.ru?name=timur\n"
     ]
    }
   ],
   "source": [
    "def sourcetemplate(url):\n",
    "    def make_query(**kwargs):\n",
    "        res_url = url + ('','?')[any(kwargs)] + '&'.join([f'{k}={v}' for k,v in sorted(kwargs.items())])\n",
    "        return res_url\n",
    "    return make_query\n",
    "\n",
    "url = 'https://beegeek.ru'\n",
    "load = sourcetemplate(url)\n",
    "print(load(name='timur'))"
   ]
  },
  {
   "cell_type": "code",
   "execution_count": 101,
   "metadata": {},
   "outputs": [
    {
     "name": "stdout",
     "output_type": "stream",
     "text": [
      "https://stepik.org/lesson/651459/step/14?thread=solutions&unit=648165\n"
     ]
    }
   ],
   "source": [
    "url = 'https://stepik.org/lesson/651459/step/14'\n",
    "load = sourcetemplate(url)\n",
    "print(load(thread='solutions', unit=648165))"
   ]
  },
  {
   "cell_type": "code",
   "execution_count": 100,
   "metadata": {},
   "outputs": [
    {
     "name": "stdout",
     "output_type": "stream",
     "text": [
      "https://beegeek.ru\n"
     ]
    }
   ],
   "source": [
    "url = 'https://beegeek.ru'\n",
    "load = sourcetemplate(url)\n",
    "print(load())"
   ]
  },
  {
   "cell_type": "code",
   "execution_count": 98,
   "metadata": {},
   "outputs": [
    {
     "data": {
      "text/plain": [
       "True"
      ]
     },
     "execution_count": 98,
     "metadata": {},
     "output_type": "execute_result"
    }
   ],
   "source": [
    "any({1:2})"
   ]
  },
  {
   "attachments": {},
   "cell_type": "markdown",
   "metadata": {},
   "source": [
    "        Реализуйте функцию date_formatter(), которая принимает один аргумент:\n",
    "\n",
    "        country_code — код страны\n",
    "        Функция date_formatter() должна возвращать функцию, которая принимает в качестве аргумента дату (тип date) и возвращает строку с данной датой в формате страны с кодом country_code."
   ]
  },
  {
   "cell_type": "code",
   "execution_count": 105,
   "metadata": {},
   "outputs": [
    {
     "name": "stdout",
     "output_type": "stream",
     "text": [
      "25.01.2022\n"
     ]
    }
   ],
   "source": [
    "from datetime import date\n",
    "def date_formatter(country_code):\n",
    "    \n",
    "    def res(some_date):\n",
    "        d = {'ru': '%d.%m.%Y',\n",
    "          'us': '%m-%d-%Y',\n",
    "          'ca': '%Y-%m-%d',\n",
    "          'br': '%d/%m/%Y',\n",
    "          'fr': '%d.%m.%Y',\n",
    "          'pt': '%d-%m-%Y'}\n",
    "        \n",
    "        return date.strftime(some_date, d[country_code])\n",
    "    return res\n",
    "\n",
    "date_ru = date_formatter('ru')\n",
    "today = date(2022, 1, 25)\n",
    "print(date_ru(today))"
   ]
  },
  {
   "cell_type": "code",
   "execution_count": 106,
   "metadata": {},
   "outputs": [
    {
     "name": "stdout",
     "output_type": "stream",
     "text": [
      "2015-12-07\n"
     ]
    }
   ],
   "source": [
    "date_ru = date_formatter('ca')\n",
    "today = date(2015, 12, 7)\n",
    "print(date_ru(today))"
   ]
  },
  {
   "attachments": {},
   "cell_type": "markdown",
   "metadata": {},
   "source": [
    "        Функция sort_priority() 🌶️\n",
    "        Реализуйте функцию sort_priority(), которая принимает два аргумента в следующем порядке:\n",
    "\n",
    "        values — список чисел\n",
    "        group — список, кортеж или множество чисел\n",
    "        Функция должна сортировать по неубыванию список чисел values, делая при этом приоритетной группу чисел из group, которая должна следовать первой."
   ]
  },
  {
   "cell_type": "code",
   "execution_count": 119,
   "metadata": {},
   "outputs": [
    {
     "name": "stdout",
     "output_type": "stream",
     "text": [
      "[2, 3, 5, 7, 1, 4, 6, 8]\n"
     ]
    }
   ],
   "source": [
    "# сложная сортировка (есть аналогичная задача на сортировку строки)\n",
    "\n",
    "def sort_priority(values, group):\n",
    "    def comparator(elem):\n",
    "        if elem in sorted(group):\n",
    "            return (0, elem)\n",
    "        else: return (1, elem)\n",
    "    values.sort(key= comparator)\n",
    "    return values\n",
    "    \n",
    "\n",
    "numbers = [8, 3, 1, 2, 5, 4, 7, 6]\n",
    "group = {5, 7, 2, 3}\n",
    "sort_priority(numbers, group)\n",
    "\n",
    "print(numbers)"
   ]
  },
  {
   "cell_type": "code",
   "execution_count": 120,
   "metadata": {},
   "outputs": [
    {
     "name": "stdout",
     "output_type": "stream",
     "text": [
      "[2, 3, 5, 7, 1, 4, 6, 8]\n"
     ]
    }
   ],
   "source": [
    "# сложная сортировка намного проще:\n",
    "# сразу возвращать кортеж (0, элемент) или (1 , элемент) если число не в списке\n",
    "\n",
    "def sort_priority(numbers, group):\n",
    "    numbers.sort(key=lambda x: (x not in group, x))\n",
    "\n",
    "numbers = [8, 3, 1, 2, 5, 4, 7, 6]\n",
    "group = {5, 7, 2, 3}\n",
    "sort_priority(numbers, group)\n",
    "\n",
    "print(numbers)"
   ]
  },
  {
   "cell_type": "code",
   "execution_count": 118,
   "metadata": {},
   "outputs": [
    {
     "data": {
      "text/plain": [
       "[1, 2, 3, 3, 3, 5, -7, 8]"
      ]
     },
     "execution_count": 118,
     "metadata": {},
     "output_type": "execute_result"
    }
   ],
   "source": [
    "lst = [1,5,3,-7,3,8,3,2]\n",
    "lst.sort(key=abs)\n",
    "\n",
    "lst"
   ]
  },
  {
   "attachments": {},
   "cell_type": "markdown",
   "metadata": {},
   "source": [
    "### Аннотации типов \n",
    "\n",
    "https://stepik.org/lesson/655394/step/7?unit=652334\n",
    "\n",
    "удобная вещь для более точного понимания кода и его наполнения"
   ]
  },
  {
   "cell_type": "code",
   "execution_count": null,
   "metadata": {},
   "outputs": [],
   "source": [
    "# аннотации для коллекций и их содержимого в версии Python before 3.9\n",
    "\n",
    "from typing import List, Tuple, Dict, Set\n",
    "\n",
    "numbers: List[int]                                # тип всех элементов списка\n",
    "person: Tuple[str, int, bool]                     # тип каждого элемента кортежа\n",
    "prices: Dict[str, int]                            # тип ключей, тип значений\n",
    "answers: Set[float]                               # тип всех элементов множества"
   ]
  },
  {
   "cell_type": "code",
   "execution_count": null,
   "metadata": {},
   "outputs": [],
   "source": [
    "# аннотации для коллекций и их содержимого в версии Python after 3.9\n",
    "\n",
    "numbers: list[int]                                # тип всех элементов списка\n",
    "person: tuple[str, int, bool]                     # тип каждого элемента кортежа\n",
    "prices: dict[str, int]                            # тип ключей, тип значений\n",
    "answers: set[float]                               # тип всех элементов множества"
   ]
  },
  {
   "attachments": {},
   "cell_type": "markdown",
   "metadata": {},
   "source": [
    "**Атрибут __annotations__**\n",
    "\n",
    "Доступ к использованным в функции аннотациям можно получить через атрибут __annotations__, в котором аннотации представлены в виде словаря, где ключами являются названия параметров, а значениями – их типы. При этом, возвращаемое функцией значение хранится в записи с ключом return"
   ]
  },
  {
   "cell_type": "code",
   "execution_count": 121,
   "metadata": {},
   "outputs": [
    {
     "name": "stdout",
     "output_type": "stream",
     "text": [
      "{'num1': <class 'int'>, 'num2': <class 'int'>, 'num3': <class 'int'>, 'return': <class 'float'>}\n"
     ]
    }
   ],
   "source": [
    "def print_hello(num1: int, num2: int, num3: int) -> float:\n",
    "    return (num1 + num2 + num3) / 3\n",
    "\n",
    "print(print_hello.__annotations__)"
   ]
  },
  {
   "attachments": {},
   "cell_type": "markdown",
   "metadata": {},
   "source": [
    "Удобные типы из блока typing \n",
    "\n",
    "- Union: для объединения типов Unoin[str, list, int]\n",
    "    \n",
    "        В Python 3.10 вместо записи Union[X, Y] можно писать X | Y\n",
    "\n",
    "- Optional: Union[str, None] равнозначен Optional[str]\n",
    "\n",
    "- Any: когда не знаешь, что функция получит на вход и на выход\n",
    "\n",
    "- NoReturn указывает, что функция никогда не возвращает значение"
   ]
  },
  {
   "cell_type": "code",
   "execution_count": 122,
   "metadata": {},
   "outputs": [],
   "source": [
    "from typing import NoReturn\n",
    "\n",
    "def stop() -> NoReturn:\n",
    "    raise RuntimeError('no way')"
   ]
  },
  {
   "attachments": {},
   "cell_type": "markdown",
   "metadata": {},
   "source": [
    "Аннотация к типу словаря: dict[str|int, tuple|list[int]]:\n",
    "\n",
    "1) словарь, содержащий:\n",
    "- ключ1 - строка, значение по ключу1 - целое число\n",
    "- ключ2 - кортеж, значение по ключу - список целых чисел"
   ]
  },
  {
   "attachments": {},
   "cell_type": "markdown",
   "metadata": {},
   "source": [
    "### Задачи на Аннотацию типов"
   ]
  },
  {
   "attachments": {},
   "cell_type": "markdown",
   "metadata": {},
   "source": [
    "        Функция get_digits()\n",
    "        Реализуйте функцию get_digits() c использованием аннотаций типов, которая принимает один аргумент:\n",
    "\n",
    "        number — положительное целое или вещественное число\n",
    "        Функция должна возвращать список, состоящий из цифр числа number."
   ]
  },
  {
   "cell_type": "code",
   "execution_count": 123,
   "metadata": {},
   "outputs": [
    {
     "name": "stdout",
     "output_type": "stream",
     "text": [
      "[1, 3, 9, 0, 9, 9, 3, 4]\n"
     ]
    }
   ],
   "source": [
    "def get_digits(number: int|float) -> list[int]:\n",
    "    return [int(dig) for dig in list(str(number)) if dig.isdigit()]\n",
    "\n",
    "\n",
    "print(get_digits(13.909934))"
   ]
  },
  {
   "attachments": {},
   "cell_type": "markdown",
   "metadata": {},
   "source": [
    "        Функция top_grade()\n",
    "        Реализуйте функцию top_grade() c использованием аннотаций типов, которая принимает один аргумент:\n",
    "\n",
    "        grades — словарь, содержащий данные об ученике, а именно имя по ключу name и список оценок по ключу grades\n",
    "        Функция должна возвращать словарь, содержащий имя ученика по ключу name и его самую высокую оценку по ключу top_grade."
   ]
  },
  {
   "cell_type": "code",
   "execution_count": 133,
   "metadata": {},
   "outputs": [
    {
     "name": "stdout",
     "output_type": "stream",
     "text": [
      "{'name': 'Timur', 'top_grade': 99}\n",
      "{'name': 'Ruslan', 'top_grade': 86}\n",
      "dict[str, str | list[int]]\n"
     ]
    }
   ],
   "source": [
    "def top_grade(grades: dict[str, str | list[int]]) -> dict[str, str | int]:\n",
    "    flag = lambda x: isinstance(x,list)\n",
    "    return {(k, 'top_grade')[flag(v)] :(v,max(v))[flag(v)] for k,v in grades.items()}\n",
    "\n",
    "info = {'name': 'Timur', 'grades': [30, 57, 99]}\n",
    "\n",
    "print(top_grade(info))\n",
    "\n",
    "print(top_grade({'name': 'Ruslan', 'grades': [19, 48, 86, 45, 32]}))\n",
    "\n",
    "annotations = top_grade.__annotations__\n",
    "\n",
    "print(annotations['grades'])"
   ]
  },
  {
   "attachments": {},
   "cell_type": "markdown",
   "metadata": {},
   "source": [
    "        Функция cyclic_shift()\n",
    "        Реализуйте функцию cyclic_shift() с использованием аннотаций типов, которая принимает два аргумента в следующем порядке:\n",
    "\n",
    "        numbers — список целых или вещественных чисел\n",
    "        step — целое число\n",
    "        Функция должна изменять переданный список, циклически сдвигая элементы списка на step шагов, и возвращать значение None. Если step является положительным числом, сдвиг происходит вправо, если отрицательным — влево."
   ]
  },
  {
   "cell_type": "code",
   "execution_count": 185,
   "metadata": {},
   "outputs": [
    {
     "name": "stdout",
     "output_type": "stream",
     "text": [
      "[5, 1, 2, 3, 4]\n",
      "[3, 4, 5, 1, 2]\n",
      "None\n",
      "<class 'int'>\n",
      "[75, 34, 1, 3, 6, 3, 3, 234, 33, 4, 6, 2, 4]\n"
     ]
    }
   ],
   "source": [
    "\n",
    "def cyclic_shift(numbers: list[int|float], step: int) -> None:\n",
    "    flag = step>0\n",
    "    true_step = (-1*step, step)[flag]\n",
    "    for i in range(true_step):\n",
    "        elem = numbers[-1*flag]\n",
    "        del numbers[-1*flag]\n",
    "        if  flag: numbers.insert(flag-1,elem)\n",
    "        else: numbers.append(elem)\n",
    "\n",
    "\n",
    "\n",
    "# тесты \n",
    "numbers = [1, 2, 3, 4, 5]\n",
    "cyclic_shift(numbers, 1)\n",
    "print(numbers)\n",
    "\n",
    "numbers = [1, 2, 3, 4, 5]\n",
    "cyclic_shift(numbers, -2)\n",
    "print(numbers)\n",
    "\n",
    "annotations = cyclic_shift.__annotations__\n",
    "print(annotations['return'])\n",
    "print(annotations['step'])\n",
    "\n",
    "numbers = [234, 33, 4, 6, 2, 4, 75, 34, 1, 3, 6, 3, 3]\n",
    "cyclic_shift(numbers, 7)\n",
    "print(numbers)"
   ]
  },
  {
   "attachments": {},
   "cell_type": "markdown",
   "metadata": {},
   "source": [
    "        Функция matrix_to_dict()\n",
    "        Реализуйте функцию matrix_to_dict() с использованием аннотаций типов, которая принимает один аргумент:\n",
    "\n",
    "        matrix — матрица произвольной размерности, элементами которой являются целые или вещественные числа\n",
    "        Функция должна возвращать словарь, ключом в котором является номер строки матрицы, а значением — список элементов этой строки.\n",
    "\n",
    "        Примечание 1. Используйте встроенные типы (list, tuple, ...), а не типы из модуля typing. Также используйте нотацию |, а не тип Union из модуля typing.\n",
    "\n",
    "        Примечание 2. Под матрицей подразумеваются исключительно вложенные списки.\n",
    "\n",
    "        Примечание 3. Нумерация строк матрицы в возвращаемом функцией словаре должна начинаться с единицы.\n",
    "\n",
    "        Примечание 4. Элементы матрицы в списке должны располагаться в своем исходном порядке."
   ]
  },
  {
   "cell_type": "code",
   "execution_count": 191,
   "metadata": {},
   "outputs": [
    {
     "name": "stdout",
     "output_type": "stream",
     "text": [
      "{1: [5, 6, 7], 2: [8, 3, 2], 3: [4, 9, 8]}\n",
      "{1: [5.1, 6, 7.94]}\n",
      "list[list[int | float]] dict[int, list[int | float]]\n"
     ]
    }
   ],
   "source": [
    "def matrix_to_dict(matrix: list[list[int | float]]) -> dict[int, list[int | float]]:\n",
    "    return {ind: val for ind,val in enumerate(matrix, 1) }\n",
    "\n",
    "matrix = [[5, 6, 7], [8, 3, 2], [4, 9, 8]]\n",
    "print(matrix_to_dict(matrix))\n",
    "\n",
    "matrix = [[5.1, 6, 7.94]]\n",
    "print(matrix_to_dict(matrix))\n",
    "\n",
    "print(*matrix_to_dict.__annotations__.values())"
   ]
  },
  {
   "attachments": {},
   "cell_type": "markdown",
   "metadata": {},
   "source": [
    "### Декораторы\n",
    "https://stepik.org/lesson/640039/step/1?unit=636559\n",
    "\n",
    "Декоратор — это функция, которая принимает другую функцию, расширяет ее поведение, не изменяя ее явно, и возвращает новую функцию."
   ]
  },
  {
   "cell_type": "code",
   "execution_count": 192,
   "metadata": {},
   "outputs": [
    {
     "name": "stdout",
     "output_type": "stream",
     "text": [
      "Начало функции\n",
      "Привет Мир!\n",
      "Конец функции\n"
     ]
    }
   ],
   "source": [
    "def sample_decorator(func):          # определяем декоратор\n",
    "    def wrapper():\n",
    "        print('Начало функции')\n",
    "        func()\n",
    "        print('Конец функции')\n",
    "    return wrapper\n",
    "\n",
    "def say():\n",
    "    print('Привет Мир!')\n",
    "\n",
    "say = sample_decorator(say)          # декорируем функцию\n",
    "\n",
    "say()                                # вызываем декорированную функцию"
   ]
  },
  {
   "attachments": {},
   "cell_type": "markdown",
   "metadata": {},
   "source": [
    "Способ, который декорирует функцию say(), — многословен, приходится набирать имя функции несколько раз. Кроме того, декорирование скрывается под определением функции. Вместо этого Python позволяет использовать декораторы более простым способом с помощью символа @."
   ]
  },
  {
   "cell_type": "code",
   "execution_count": 194,
   "metadata": {},
   "outputs": [
    {
     "name": "stdout",
     "output_type": "stream",
     "text": [
      "Привет, Мир!\n"
     ]
    }
   ],
   "source": [
    "def null_decorator(func):\n",
    "    return func\n",
    "\n",
    "@null_decorator                      # декорируем функцию\n",
    "def say():\n",
    "    print('Привет, Мир!')\n",
    "\n",
    "say()"
   ]
  },
  {
   "cell_type": "code",
   "execution_count": 196,
   "metadata": {},
   "outputs": [
    {
     "name": "stdout",
     "output_type": "stream",
     "text": [
      "Начало функции\n",
      "Привет,Мир!\n",
      "Конец функции\n"
     ]
    }
   ],
   "source": [
    "# сопоставимость кода декорирования: \n",
    "\n",
    "\"\"\"def sample_decorator(func):          # определяем декоратор\n",
    "    def wrapper():\n",
    "        print('Начало функции')\n",
    "        func()\n",
    "        print('Конец функции')\n",
    "    return wrapper\n",
    "\n",
    "def say():\n",
    "    print('Привет Мир!')\n",
    "\n",
    "say = sample_decorator(say)          # декорируем функцию\n",
    "\n",
    "say()                                # вызываем декорированную функцию\"\"\"\n",
    "\n",
    "def sample_decorator(func):          # определяем декоратор\n",
    "    def wrapper():\n",
    "        print('Начало функции')\n",
    "        func()\n",
    "        print('Конец функции')\n",
    "    return wrapper\n",
    "\n",
    "# выражение @sample_decorator вызывает функцию sample_decorator() с say в качестве аргумента \n",
    "# и присваивает имени say возвращаемую функцию.\n",
    "@sample_decorator                    # декорируем функцию\n",
    "def say():\n",
    "    print('Привет,Мир!')\n",
    "\n",
    "say()"
   ]
  },
  {
   "attachments": {},
   "cell_type": "markdown",
   "metadata": {},
   "source": [
    "Изменение поведения функции\n",
    "\n",
    "Декоратор uppercase_decorator() сам по себе является функцией. Единственный способ повлиять на новое поведение функции, которую он декорирует, — это заменить исходную функцию замыканием. Вот почему декоратор uppercase_decorator() определяет и возвращает другую функцию wrapper(), которую затем можно вызвать позже, запустить исходную функцию и изменить ее результат."
   ]
  },
  {
   "cell_type": "code",
   "execution_count": 197,
   "metadata": {},
   "outputs": [
    {
     "name": "stdout",
     "output_type": "stream",
     "text": [
      "HELLO WORLD!\n"
     ]
    }
   ],
   "source": [
    "def uppercase_decorator(func):\n",
    "    def wrapper():\n",
    "        original_result = func()\n",
    "        modified_result = original_result.upper()\n",
    "        return modified_result\n",
    "    return wrapper              # используем замыкание\n",
    "\n",
    "@uppercase_decorator\n",
    "def greet():\n",
    "    return 'Hello world!'\n",
    "\n",
    "print(greet())"
   ]
  },
  {
   "cell_type": "code",
   "execution_count": 199,
   "metadata": {},
   "outputs": [
    {
     "name": "stdout",
     "output_type": "stream",
     "text": [
      "<b><i>Hello world!</i></b>\n",
      "<b><i>Hello world!</i></b>\n"
     ]
    }
   ],
   "source": [
    "# применение нескольких декораторов: происходит снизу вверх \n",
    "\n",
    "def bold(func):\n",
    "    def wrapper():\n",
    "        return '<b>' + func() + '</b>'\n",
    "    return wrapper\n",
    "\n",
    "def italic(func):\n",
    "    def wrapper():\n",
    "        return '<i>' + func() + '</i>'\n",
    "    return wrapper\n",
    "\n",
    "@bold       # декорирует во вторую очередь\n",
    "@italic     # декорирует в первую очередь\n",
    "def greet():\n",
    "    return 'Hello world!'\n",
    "\n",
    "print(greet())\n",
    "\n",
    "# раз очередность такая, то можно обойтись и без специального синтаксиса\n",
    "def greet():\n",
    "    return 'Hello world!'\n",
    "greet = bold(italic(greet))\n",
    "print(greet())"
   ]
  },
  {
   "attachments": {},
   "cell_type": "markdown",
   "metadata": {},
   "source": [
    "Декорирование функций, который принимают аргументы"
   ]
  },
  {
   "cell_type": "code",
   "execution_count": 200,
   "metadata": {},
   "outputs": [
    {
     "name": "stdout",
     "output_type": "stream",
     "text": [
      "<b>Hello Timur!</b>\n",
      "<b>Hello world!</b>\n",
      "<b>Hello Timur Guev!</b>\n"
     ]
    }
   ],
   "source": [
    "# нужно явно указывать произвольный набор именованных и неименованных аргументов для функции-обертки\n",
    "\n",
    "def bold(func):\n",
    "    def wrapper(*args, **kwargs):\n",
    "        return '<b>' + func(*args, **kwargs) + '</b>'\n",
    "    return wrapper\n",
    "\n",
    "@bold\n",
    "def greet1(name):\n",
    "    return f'Hello {name}!'\n",
    "\n",
    "@bold\n",
    "def greet2():\n",
    "    return 'Hello world!'\n",
    "\n",
    "@bold\n",
    "def greet3(name, surname):\n",
    "    return f'Hello {name} {surname}!'\n",
    "\n",
    "print(greet1('Timur'))\n",
    "print(greet2())\n",
    "print(greet3('Timur', 'Guev'))"
   ]
  },
  {
   "cell_type": "code",
   "execution_count": 201,
   "metadata": {},
   "outputs": [
    {
     "name": "stdout",
     "output_type": "stream",
     "text": [
      "---------------\n",
      "Hello Timur!\n",
      "---------------\n"
     ]
    }
   ],
   "source": [
    "def talk(func):\n",
    "    def wrapper(*args, **kwargs):\n",
    "        dash = '-' * 15\n",
    "        result = func(*args, **kwargs)\n",
    "        return dash + '\\n' + result + '\\n' + dash\n",
    "    return wrapper\n",
    "\n",
    "@talk\n",
    "def greet(name):\n",
    "    return f'Hello {name}!'\n",
    "\n",
    "print(greet('Timur'))"
   ]
  },
  {
   "cell_type": "code",
   "execution_count": 203,
   "metadata": {},
   "outputs": [
    {
     "name": "stdout",
     "output_type": "stream",
     "text": [
      "8 5 1 1 13 3 2 0\n"
     ]
    }
   ],
   "source": [
    "# сложная сортировка: отсортировать последовательность чисел по возрастанию их лексикографического названия\n",
    "number_names = {\n",
    "        0: 'zero', 1: 'one', 2: 'two', 3: 'three', 4: 'four', 5: 'five', 6: 'six', 7: 'seven', 8: 'eight', 9: 'nine',\n",
    "        10: 'ten', 11: 'eleven', 12: 'twelve', \n",
    "        13: 'thirteen', 14: 'fourteen', 15: 'fifteen', 16: 'sixteen', 17: 'seventeen',  18: 'eighteen', 19: 'nineteen'}\n",
    "\n",
    "\n",
    "print(*sorted(input().split(), key= lambda x: number_names[int(x)]))"
   ]
  },
  {
   "attachments": {},
   "cell_type": "markdown",
   "metadata": {},
   "source": [
    "Композиция функций"
   ]
  },
  {
   "attachments": {},
   "cell_type": "markdown",
   "metadata": {},
   "source": [
    "        Напишите функцию composition(f, g), которая принимает на вход две функции: f и g, -- и возвращает их композицию.\n",
    "\n",
    "        Не вдаваясь в лишние сейчас детали,  назовём композицией f∘g двух заданных функций \n",
    "        функцию, для которой h(x)=f(g(x))\n",
    "\n",
    "        Определите функцию композиции, предполагая, что аргументы у функции g могут быть какие угодно, и любое возвращаемое функцией g значение будет корректным аргументом для функции f."
   ]
  },
  {
   "cell_type": "code",
   "execution_count": 210,
   "metadata": {},
   "outputs": [
    {
     "name": "stdout",
     "output_type": "stream",
     "text": [
      "36\n",
      "6592\n"
     ]
    }
   ],
   "source": [
    "def composition(f,g):\n",
    "    def h(*x):\n",
    "        return f(g(*x))\n",
    "    return h\n",
    "    \n",
    "h = composition(lambda x: x**2, lambda x: x + 1)\n",
    "print(h(5))   \n",
    "\n",
    "h = composition(sum, lambda x, y, z: (x**2, y**3, z**4))\n",
    "print(h(2, 3, 9))"
   ]
  },
  {
   "cell_type": "code",
   "execution_count": 240,
   "metadata": {},
   "outputs": [
    {
     "name": "stdout",
     "output_type": "stream",
     "text": [
      "---- Верхний ломтик хлеба ----\n",
      "томат | салат | сыр | бекон\n",
      "---- Нижний ломтик хлеба ----\n"
     ]
    }
   ],
   "source": [
    "def sandwich(func):\n",
    "    print('---- Верхний ломтик хлеба ----')\n",
    "    def wrapper(*args, **kwargs):\n",
    "        result = func(*args, **kwargs)\n",
    "        print('---- Нижний ломтик хлеба ----')  \n",
    "        return result  \n",
    "    return wrapper\n",
    "\n",
    "@sandwich\n",
    "def add_ingredients(ingredients):\n",
    "    print(' | '.join(ingredients))\n",
    "\n",
    "add_ingredients(['томат', 'салат', 'сыр', 'бекон'])"
   ]
  },
  {
   "cell_type": "code",
   "execution_count": 241,
   "metadata": {},
   "outputs": [
    {
     "name": "stdout",
     "output_type": "stream",
     "text": [
      "---- Верхний ломтик хлеба ----\n",
      "---- Нижний ломтик хлеба ----\n",
      "beegeek\n"
     ]
    }
   ],
   "source": [
    "@sandwich\n",
    "def beegeek():\n",
    "    return 'beegeek'\n",
    "    \n",
    "print(beegeek())"
   ]
  },
  {
   "attachments": {},
   "cell_type": "markdown",
   "metadata": {},
   "source": [
    "        Новый print\n",
    "        Напишите программу с использованием декоратора, которая переопределяет функцию print() так, чтобы она печатала весь текст в верхнем регистре.\n",
    "\n",
    "        Формат входных данных\n",
    "        На вход программе ничего не подается.\n",
    "\n",
    "        Формат выходных данных\n",
    "        Программа должна задекорировать функцию print() так, чтобы она печатала весь текст в верхнем регистре.\n",
    "\n",
    "        Примечание 1. Значения sep и end также должны переводиться в верхний регистр."
   ]
  },
  {
   "cell_type": "code",
   "execution_count": 248,
   "metadata": {},
   "outputs": [
    {
     "name": "stdout",
     "output_type": "stream",
     "text": [
      "HI THERE!\n",
      "111XXX222XXX333\n"
     ]
    }
   ],
   "source": [
    "\n",
    "def decorator(func):\n",
    "    def wrapper(*args, **kwargs):\n",
    "        ARGS = [str(arg).upper() for arg in args]\n",
    "        KWARGS = {k:v.upper() for k,v in kwargs.items()}\n",
    "        return func(*ARGS, **KWARGS)\n",
    "    return wrapper\n",
    "\n",
    "new_print = decorator(print)\n",
    "\n",
    "new_print('hi', 'there', end='!')\n",
    "print()\n",
    "new_print(111, 222, 333, sep='xxx')\n"
   ]
  },
  {
   "attachments": {},
   "cell_type": "markdown",
   "metadata": {},
   "source": [
    "        Декоратор do_twice\n",
    "        Реализуйте декоратор do_twice, вызывающий декорируемую функцию два раза."
   ]
  },
  {
   "cell_type": "code",
   "execution_count": 249,
   "metadata": {},
   "outputs": [
    {
     "name": "stdout",
     "output_type": "stream",
     "text": [
      "beegeek\n",
      "beegeek\n"
     ]
    }
   ],
   "source": [
    "def do_twice(func):\n",
    "    def wrapper(*args, **kwargs):\n",
    "        func(*args, **kwargs)\n",
    "        return func(*args, **kwargs)\n",
    "    \n",
    "    return wrapper\n",
    "\n",
    "@do_twice\n",
    "def beegeek():\n",
    "    print('beegeek')\n",
    "    \n",
    "beegeek()"
   ]
  },
  {
   "cell_type": "code",
   "execution_count": 250,
   "metadata": {},
   "outputs": [
    {
     "name": "stdout",
     "output_type": "stream",
     "text": [
      "beegeek\n",
      "beegeek\n",
      "None\n"
     ]
    }
   ],
   "source": [
    "@do_twice\n",
    "def beegeek():\n",
    "    print('beegeek')\n",
    "    \n",
    "print(beegeek())"
   ]
  },
  {
   "cell_type": "code",
   "execution_count": 260,
   "metadata": {},
   "outputs": [
    {
     "name": "stdout",
     "output_type": "stream",
     "text": [
      "beegeek\n",
      "beegeek\n",
      "\n",
      "beegeek\n",
      "beegeek\n",
      "None\n"
     ]
    }
   ],
   "source": [
    "def do_twiced(func):\n",
    "    return lambda *args, **kwargs: (func(*args, **kwargs), func(*args, **kwargs))[0]\n",
    "\n",
    "@do_twiced\n",
    "def beegeek():\n",
    "    print('beegeek')   \n",
    "beegeek()\n",
    "\n",
    "print()\n",
    "\n",
    "@do_twiced\n",
    "def beegeek():\n",
    "    print('beegeek') \n",
    "print(beegeek())"
   ]
  },
  {
   "cell_type": "code",
   "execution_count": 266,
   "metadata": {},
   "outputs": [],
   "source": [
    "def do_thrice(func):\n",
    "    return lambda *args, **kwargs: (func(*args, **kwargs), \n",
    "                                    func(*args, **kwargs),\n",
    "                                    func(*args, **kwargs))[2]\n",
    "\n",
    "@do_thrice\n",
    "def beegeek():\n",
    "    print('beegeek')"
   ]
  },
  {
   "cell_type": "code",
   "execution_count": 265,
   "metadata": {},
   "outputs": [
    {
     "name": "stdout",
     "output_type": "stream",
     "text": [
      "beegeek\n",
      "beegeek\n",
      "beegeek\n"
     ]
    }
   ],
   "source": [
    "def do_three(func):\n",
    "    def wrapper(*args, **kwargs):\n",
    "        func(*args, **kwargs)\n",
    "        func(*args, **kwargs)\n",
    "        return func(*args, **kwargs)\n",
    "    \n",
    "    return wrapper\n",
    "\n",
    "@do_three\n",
    "def beegeek():\n",
    "    print('beegeek')\n",
    "beegeek()"
   ]
  },
  {
   "attachments": {},
   "cell_type": "markdown",
   "metadata": {},
   "source": [
    "        Декоратор reverse_args\n",
    "        Реализуйте декоратор reverse_args, который передает все позиционные аргументы в декорируемую функцию func в обратном порядке."
   ]
  },
  {
   "cell_type": "code",
   "execution_count": 277,
   "metadata": {},
   "outputs": [
    {
     "name": "stdout",
     "output_type": "stream",
     "text": [
      "9\n"
     ]
    }
   ],
   "source": [
    "def reverse_args(func):\n",
    "    def wrapper(*args, **kwargs):\n",
    "        rev_args = args[::-1]\n",
    "        return func(*rev_args, **kwargs)\n",
    "    return wrapper\n",
    "\n",
    "@reverse_args\n",
    "def power(a, n):\n",
    "    return a ** n\n",
    "    \n",
    "print(power(2, 3))"
   ]
  },
  {
   "attachments": {},
   "cell_type": "markdown",
   "metadata": {},
   "source": [
    "        Декоратор exception_decorator\n",
    "        Реализуйте декоратор exception_decorator, который возвращает\n",
    "\n",
    "        кортеж (value, 'Функция выполнилась без ошибок'), если декорируемая функция завершила свою работу без ошибок, где value — возвращаемое значение декорируемой функции\n",
    "        кортеж (None, 'При вызове функции произошла ошибка'), если при выполнении декорируемой функции возникла ошибка"
   ]
  },
  {
   "cell_type": "code",
   "execution_count": 283,
   "metadata": {},
   "outputs": [
    {
     "name": "stdout",
     "output_type": "stream",
     "text": [
      "(64, 'Функция выполнилась без ошибок')\n",
      "\n",
      "((None, 'При вызове функции произошла ошибка'), 'Функция выполнилась без ошибок')\n"
     ]
    }
   ],
   "source": [
    "def exception_decorator(func):\n",
    "    def wrapper(*args, **kwargs):\n",
    "        try:\n",
    "            value = func(*args, **kwargs)\n",
    "            return (value, 'Функция выполнилась без ошибок')\n",
    "        except: return (None, 'При вызове функции произошла ошибка')\n",
    "\n",
    "    return wrapper\n",
    "\n",
    "@exception_decorator\n",
    "def f(x):\n",
    "    return x**2 + 2*x + 1\n",
    "print(f(7))\n",
    "\n",
    "print() \n",
    "\n",
    "sum = exception_decorator(sum)\n",
    "print(sum(['199', '1', 187]))"
   ]
  },
  {
   "attachments": {},
   "cell_type": "markdown",
   "metadata": {},
   "source": [
    "        Декоратор takes_positive\n",
    "        Реализуйте декоратор takes_positive, который проверяет, что все аргументы, передаваемые в декорируемую функцию, являются положительными целыми числами.\n",
    "\n",
    "        Если хотя бы один аргумент не удовлетворяет данному условию, декоратор должен возбуждать исключение:\n",
    "\n",
    "        TypeError, если аргумент не является целым числом\n",
    "        ValueError, если аргумент является целым числом, но отрицательным или равным нулю\n",
    "        Примечание 1. Приоритет возбуждения исключений при несоответствии аргумента обоим условиям или при наличии разных аргументов, несоответствующих разным условиям: TypeError, затем ValueError."
   ]
  },
  {
   "cell_type": "code",
   "execution_count": 5,
   "metadata": {},
   "outputs": [
    {
     "name": "stdout",
     "output_type": "stream",
     "text": [
      "55\n"
     ]
    }
   ],
   "source": [
    "def takes_positive(func):\n",
    "    def wrapper(*args, **kwargs):\n",
    "        elems = list(args) + list(kwargs.values())\n",
    "         \n",
    "        if any([not isinstance(elem,int) for elem in elems]):\n",
    "            raise TypeError\n",
    "        elif any([elem<=0 for elem in elems]):\n",
    "            raise ValueError\n",
    "\n",
    "        elif all([elem>0 for elem in elems]):\n",
    "            return func(*args, **kwargs) \n",
    "\n",
    "    return wrapper\n",
    "\n",
    "@takes_positive\n",
    "def positive_sum(*args):\n",
    "    return sum(args)\n",
    "    \n",
    "print(positive_sum(1, 2, 3, 4, 5, 6, 7, 8, 9, 10))      "
   ]
  },
  {
   "cell_type": "code",
   "execution_count": 6,
   "metadata": {},
   "outputs": [
    {
     "name": "stdout",
     "output_type": "stream",
     "text": [
      "<class 'ValueError'>\n"
     ]
    }
   ],
   "source": [
    "@takes_positive\n",
    "def positive_sum(*args):\n",
    "    return sum(args)\n",
    "    \n",
    "try:\n",
    "    print(positive_sum(-3, -2, -1, 0, 1, 2, 3))\n",
    "except Exception as err:\n",
    "    print(type(err))"
   ]
  },
  {
   "cell_type": "code",
   "execution_count": 7,
   "metadata": {},
   "outputs": [
    {
     "name": "stdout",
     "output_type": "stream",
     "text": [
      "<class 'TypeError'>\n"
     ]
    }
   ],
   "source": [
    "@takes_positive\n",
    "def positive_sum(*args):\n",
    "    return sum(args)\n",
    "    \n",
    "try:\n",
    "    print(positive_sum('10', 20, 10))\n",
    "except Exception as err:\n",
    "    print(type(err))"
   ]
  },
  {
   "cell_type": "code",
   "execution_count": 8,
   "metadata": {},
   "outputs": [
    {
     "name": "stdout",
     "output_type": "stream",
     "text": [
      "<class 'TypeError'>\n"
     ]
    }
   ],
   "source": [
    "@takes_positive\n",
    "def positive_sum(*args):\n",
    "    return sum(args)\n",
    "    \n",
    "try:\n",
    "    print(positive_sum(11, 20.7, 10))\n",
    "except Exception as err:\n",
    "    print(type(err))"
   ]
  },
  {
   "attachments": {},
   "cell_type": "markdown",
   "metadata": {},
   "source": [
    "Атрибуты функций после применения декоратора могут измениться"
   ]
  },
  {
   "cell_type": "code",
   "execution_count": 9,
   "metadata": {},
   "outputs": [
    {
     "name": "stdout",
     "output_type": "stream",
     "text": [
      "wrapper\n",
      "None\n"
     ]
    }
   ],
   "source": [
    "def bold(func):\n",
    "    def wrapper(*args, **kwargs):\n",
    "        return '<b>' + func(*args, **kwargs) + '</b>'\n",
    "    return wrapper\n",
    "\n",
    "@bold\n",
    "def greet(name):\n",
    "    '''Функция приветствия пользователя.'''\n",
    "    return f'Hello {name}!'\n",
    "\n",
    "print(greet.__name__)\n",
    "print(greet.__doc__)"
   ]
  },
  {
   "attachments": {},
   "cell_type": "markdown",
   "metadata": {},
   "source": [
    "Атрибуты имени и строки документирования изменились!"
   ]
  },
  {
   "cell_type": "code",
   "execution_count": 10,
   "metadata": {},
   "outputs": [
    {
     "name": "stdout",
     "output_type": "stream",
     "text": [
      "greet\n",
      "Функция приветствия пользователя.\n"
     ]
    }
   ],
   "source": [
    "# решение проблемы с сохранением имени функции и строки документирования\n",
    "\n",
    "def bold(func):\n",
    "    def wrapper(*args, **kwargs):\n",
    "        return '<b>' + func(*args, **kwargs) + '</b>'\n",
    "    # просто сообщим имени декоратора имя и строку документирования декорируемой функции \n",
    "    wrapper.__name__ = func.__name__\n",
    "    wrapper.__doc__ = func.__doc__\n",
    "    return wrapper\n",
    "\n",
    "@bold\n",
    "def greet(name):\n",
    "    '''Функция приветствия пользователя.'''\n",
    "    return f'Hello {name}!'\n",
    "\n",
    "print(greet.__name__)\n",
    "print(greet.__doc__)"
   ]
  },
  {
   "attachments": {},
   "cell_type": "markdown",
   "metadata": {},
   "source": [
    "СПОСОБ ЛУЧШЕ: \n",
    "\n",
    "Для решения проблемы перетирания данных атрибутов на практике используют другой декоратор, который находится в модуле functools и называется wraps. Таким образом, чтобы предотвратить перетирание атрибутов __name__ и __doc__ декорируемой функции, декораторы должны использовать декоратор functools.wraps, который сохраняет информацию о первоначальной функции."
   ]
  },
  {
   "cell_type": "code",
   "execution_count": 11,
   "metadata": {},
   "outputs": [
    {
     "name": "stdout",
     "output_type": "stream",
     "text": [
      "greet\n",
      "Функция приветствие пользователя.\n"
     ]
    }
   ],
   "source": [
    "import functools\n",
    "\n",
    "def bold(func):\n",
    "    @functools.wraps(func)                              # сразу декорируем ДЕКОРАТОР, чтобы он сохранил атрибуты\n",
    "    def wrapper(*args, **kwargs):\n",
    "        return '<b>' + func(*args, **kwargs) + '</b>'\n",
    "    return wrapper\n",
    "\n",
    "@bold\n",
    "def greet(name):\n",
    "    '''Функция приветствие пользователя.'''\n",
    "    return f'Hello {name}!'\n",
    "\n",
    "print(greet.__name__)\n",
    "print(greet.__doc__)"
   ]
  },
  {
   "attachments": {},
   "cell_type": "markdown",
   "metadata": {},
   "source": [
    "### ОБЩИЙ ШАБЛОН ДЕКОРАТОРА"
   ]
  },
  {
   "cell_type": "code",
   "execution_count": 12,
   "metadata": {},
   "outputs": [],
   "source": [
    "import functools\n",
    "\n",
    "def decorator(func):\n",
    "    @functools.wraps(func)\n",
    "    def wrapper(*args, **kwargs):\n",
    "        # Что-то выполняется до вызова декорируемой функции\n",
    "        value = func(*args, **kwargs)\n",
    "        # декорируется возвращаемое значение функции\n",
    "        # или что-то выполняется после вызова декорируемой функции\n",
    "        return value\n",
    "    return wrapper"
   ]
  },
  {
   "cell_type": "code",
   "execution_count": 13,
   "metadata": {},
   "outputs": [
    {
     "name": "stdout",
     "output_type": "stream",
     "text": [
      "Время выполнения test: 0.0042 сек.\n",
      "Время выполнения sleep: 4.0029 сек.\n",
      "Результат функции test = 34005033.67003357\n",
      "Результат функции sleep = None\n"
     ]
    }
   ],
   "source": [
    "# декоратор вычисления времени работы функции\n",
    "# декоратор времени работы\n",
    "\n",
    "import functools, time\n",
    "\n",
    "def timer(func):\n",
    "    @functools.wraps(func)\n",
    "    def wrapper(*args, **kwargs):\n",
    "        start = time.perf_counter()\n",
    "        val = func(*args, **kwargs)\n",
    "        end = time.perf_counter()\n",
    "        work_time = end - start\n",
    "        print(f'Время выполнения {func.__name__}: {round(work_time, 4)} сек.')\n",
    "        return val\n",
    "    return wrapper\n",
    "\n",
    "@timer\n",
    "def test(n):\n",
    "    return sum([(i/99)**2 for i in range(n)])\n",
    "\n",
    "@timer\n",
    "def sleep(n):\n",
    "    time.sleep(n)\n",
    "\n",
    "res1 = test(10000)\n",
    "res2 = sleep(4)\n",
    "\n",
    "print(f'Результат функции test = {res1}')\n",
    "print(f'Результат функции sleep = {res2}')"
   ]
  },
  {
   "cell_type": "code",
   "execution_count": 14,
   "metadata": {},
   "outputs": [
    {
     "name": "stdout",
     "output_type": "stream",
     "text": [
      "Вызов greet: 1\n",
      "Hello Timur!\n",
      "Вызов greet: 2\n",
      "Hello Ruslan!\n",
      "Вызов greet: 3\n",
      "Hello Arthur!\n",
      "Вызов greet: 4\n",
      "Hello Gvido!\n"
     ]
    }
   ],
   "source": [
    "# Декоратор отслеживания количества вызовов функции\n",
    "\n",
    "import functools\n",
    "\n",
    "def counter(func):\n",
    "    @functools.wraps(func)\n",
    "    def wrapper(*args, **kwargs):\n",
    "        wrapper.num += 1\n",
    "        print(f'Вызов {func.__name__}: {wrapper.num}')\n",
    "        val = func(*args, **kwargs)\n",
    "        return val\n",
    "    wrapper.num = 0\n",
    "    return wrapper\n",
    "\n",
    "@counter\n",
    "def greet(name):\n",
    "    return f'Hello {name}!'\n",
    "\n",
    "print(greet('Timur'))\n",
    "print(greet('Ruslan'))\n",
    "print(greet('Arthur'))\n",
    "print(greet('Gvido'))"
   ]
  },
  {
   "cell_type": "code",
   "execution_count": 15,
   "metadata": {},
   "outputs": [
    {
     "name": "stdout",
     "output_type": "stream",
     "text": [
      "5\n",
      "4\n",
      "3\n",
      "2\n",
      "1\n",
      "Конец!\n"
     ]
    }
   ],
   "source": [
    "# Декоратор замедления времени выполнения функции (на 1 секунду)\n",
    "\n",
    "import functools\n",
    "import time\n",
    "\n",
    "def slow_down(func):\n",
    "    @functools.wraps(func)\n",
    "    def wrapper(*args, **kwargs):\n",
    "        time.sleep(1)\n",
    "        return func(*args, **kwargs)\n",
    "    return wrapper\n",
    "\n",
    "@slow_down\n",
    "def countdown(number):\n",
    "    if number < 1:\n",
    "        print('Конец!')\n",
    "    else:\n",
    "        print(number)\n",
    "        countdown(number - 1)\n",
    "        \n",
    "countdown(5)"
   ]
  },
  {
   "cell_type": "code",
   "execution_count": 16,
   "metadata": {},
   "outputs": [
    {
     "name": "stdout",
     "output_type": "stream",
     "text": [
      "Привет Python!*Меня зовут Тимур*Beegeek = <3\n",
      "Привет Python!*Меня зовут Тимур*Beegeek = <3\n"
     ]
    }
   ],
   "source": [
    "# красивый вывод заданного текста\n",
    "\n",
    "import sys, time\n",
    "def teleprint(*args, delay=0.05, str_join=' '):\n",
    "    text = str_join.join(str(x) for x in args)\n",
    "    n = len(text)\n",
    "    for i, char in enumerate(text, 1):\n",
    "        if i == n:\n",
    "            char = f'{char}\\n'\n",
    "        print(char, end='')\n",
    "        time.sleep(delay)\n",
    "        \n",
    "teleprint('Привет Python!', 'Меня зовут Тимур', 'Beegeek = <3', str_join='*')\n",
    "teleprint('Привет Python!', 'Меня зовут Тимур', 'Beegeek = <3', str_join='*')"
   ]
  },
  {
   "cell_type": "code",
   "execution_count": 17,
   "metadata": {},
   "outputs": [
    {
     "name": "stdout",
     "output_type": "stream",
     "text": [
      "Привет Python!*Меня зовут Тимур*Beegeek = <3\n",
      "Привет Python!*Меня зовут Тимур*Beegeek = <3\n"
     ]
    }
   ],
   "source": [
    "import sys, time\n",
    "def teleprint(*args, delay=0.05, str_join=' '):\n",
    "    text = str_join.join(str(x) for x in args)\n",
    "    for i in text:\n",
    "        print(i, end='')\n",
    "        time.sleep(delay)\n",
    "    print()\n",
    "        \n",
    "teleprint('Привет Python!', 'Меня зовут Тимур', 'Beegeek = <3', str_join='*')\n",
    "teleprint('Привет Python!', 'Меня зовут Тимур', 'Beegeek = <3', str_join='*')"
   ]
  },
  {
   "attachments": {},
   "cell_type": "markdown",
   "metadata": {},
   "source": [
    "        Декоратор returns_string\n",
    "        Реализуйте декоратор returns_string, который проверяет, что возвращаемое значение декорируемой функции принадлежит типу str. Если возвращаемое значение принадлежит какому-либо другому типу, декоратор должен возбуждать исключение TypeError.\n",
    "\n",
    "        Также декоратор должен сохранять имя и строку документации декорируемой функции."
   ]
  },
  {
   "cell_type": "code",
   "execution_count": 18,
   "metadata": {},
   "outputs": [
    {
     "name": "stdout",
     "output_type": "stream",
     "text": [
      "beegeek\n"
     ]
    }
   ],
   "source": [
    "from functools import wraps\n",
    "\n",
    "def returns_string(func):\n",
    "    @wraps(func)\n",
    "    def wrapper(*args, **kwargs):\n",
    "        result = func(*args, **kwargs)\n",
    "        if isinstance(result,str):\n",
    "            return result\n",
    "        else: raise TypeError\n",
    "    return wrapper\n",
    "\n",
    "@returns_string\n",
    "def beegeek():\n",
    "    return 'beegeek'\n",
    "    \n",
    "print(beegeek())"
   ]
  },
  {
   "cell_type": "code",
   "execution_count": 19,
   "metadata": {},
   "outputs": [
    {
     "name": "stdout",
     "output_type": "stream",
     "text": [
      "<class 'TypeError'>\n"
     ]
    }
   ],
   "source": [
    "@returns_string\n",
    "def add(a, b):\n",
    "    return a + b\n",
    "\n",
    "try:\n",
    "    print(add(3, 7))\n",
    "except TypeError as e:\n",
    "    print(type(e))"
   ]
  },
  {
   "attachments": {},
   "cell_type": "markdown",
   "metadata": {},
   "source": [
    "        Декоратор trace\n",
    "        Реализуйте декоратор trace, который выводит отладочную информацию о декорируемой функции во время ее выполнения, а именно: имя функции, переданные аргументы и возвращаемое значение в следующем формате:\n",
    "\n",
    "        TRACE: вызов <имя функции>() с аргументами: <кортеж позиционных аргументов>, <словарь именованных аргументов>\n",
    "        TRACE: возвращаемое значение <имя функции>(): <возвращаемое значение>\n",
    "        Также декоратор должен сохранять имя и строку документации декорируемой функции."
   ]
  },
  {
   "cell_type": "code",
   "execution_count": 37,
   "metadata": {},
   "outputs": [
    {
     "name": "stdout",
     "output_type": "stream",
     "text": [
      "TRACE: вызов say() с аргументами: ('Jane', 'Hello, World'), {}\n",
      "TRACE: возвращаемое значение say(): 'Jane: Hello, World'\n"
     ]
    },
    {
     "data": {
      "text/plain": [
       "'Jane: Hello, World'"
      ]
     },
     "execution_count": 37,
     "metadata": {},
     "output_type": "execute_result"
    }
   ],
   "source": [
    "from functools import wraps\n",
    "\n",
    "def trace(func):\n",
    "    @wraps(func)\n",
    "    def wrapper(*args, **kwargs):\n",
    "        result = func(*args, **kwargs)\n",
    "        #if isinstance(result, str): result = f\"'{result}'\"\n",
    "        print(f'TRACE: вызов {func.__name__}() с аргументами: {args}, {kwargs}')\n",
    "        print(f'''TRACE: возвращаемое значение {func.__name__}(): {(result, f\"'{result}'\")[isinstance(result, str)]}''')\n",
    "        return result\n",
    "    return wrapper\n",
    "\n",
    "@trace\n",
    "def say(name, line):\n",
    "    return f'{name}: {line}'\n",
    "    \n",
    "say('Jane', 'Hello, World')"
   ]
  },
  {
   "cell_type": "code",
   "execution_count": 38,
   "metadata": {},
   "outputs": [
    {
     "name": "stdout",
     "output_type": "stream",
     "text": [
      "sub\n",
      "прекрасная функция\n",
      "TRACE: вызов sub() с аргументами: (20, 5), {'c': 10}\n",
      "TRACE: возвращаемое значение sub(): 25\n"
     ]
    },
    {
     "data": {
      "text/plain": [
       "25"
      ]
     },
     "execution_count": 38,
     "metadata": {},
     "output_type": "execute_result"
    }
   ],
   "source": [
    "@trace\n",
    "def sub(a, b, c):\n",
    "    '''прекрасная функция'''\n",
    "    return a - b + c\n",
    "    \n",
    "print(sub.__name__)\n",
    "print(sub.__doc__)\n",
    "sub(20, 5, c=10)"
   ]
  },
  {
   "cell_type": "code",
   "execution_count": 39,
   "metadata": {},
   "outputs": [
    {
     "name": "stdout",
     "output_type": "stream",
     "text": [
      "TRACE: вызов beegeek() с аргументами: (), {}\n",
      "TRACE: возвращаемое значение beegeek(): 'beegeek'\n",
      "beegeek\n",
      "beegeek\n",
      "beegeek docs\n"
     ]
    }
   ],
   "source": [
    "@trace\n",
    "def beegeek():\n",
    "    '''beegeek docs'''\n",
    "    return 'beegeek'\n",
    "\n",
    "print(beegeek())    \n",
    "print(beegeek.__name__)\n",
    "print(beegeek.__doc__)"
   ]
  },
  {
   "attachments": {},
   "cell_type": "markdown",
   "metadata": {},
   "source": [
    "### Декораторы с аргументами"
   ]
  },
  {
   "cell_type": "code",
   "execution_count": 40,
   "metadata": {},
   "outputs": [
    {
     "name": "stdout",
     "output_type": "stream",
     "text": [
      "******************************\n",
      "12\n",
      "----------\n",
      "200\n",
      "========================================\n",
      "99\n"
     ]
    }
   ],
   "source": [
    "def print_symbols(symbol, length):          # не декоратор, потому что принимает на вход вовсе не функцию\n",
    "    def decorator(func):                    # декоратор, потому что принимает и возвращает функцию\n",
    "        def wrapper(*args, **kwargs):\n",
    "            print(symbol * length)\n",
    "            return func(*args, **kwargs)\n",
    "        return wrapper\n",
    "    return decorator\n",
    "\n",
    "@print_symbols('*', 30)\n",
    "def add(a, b):\n",
    "    return a + b\n",
    "\n",
    "@print_symbols('-', 10)\n",
    "def mult(a, b):\n",
    "    return a * b\n",
    "\n",
    "@print_symbols('=', 40)\n",
    "def diff(a, b):\n",
    "    return a - b\n",
    "\n",
    "print(add(3, 9))\n",
    "print(mult(10, 20))\n",
    "print(diff(100, 1))"
   ]
  },
  {
   "attachments": {},
   "cell_type": "markdown",
   "metadata": {},
   "source": [
    "Декоратор delayed, который создает требуемую задержку выполнения кода. Такое поведение иногда требуется для мониторинга доступности какого-нибудь ресурса."
   ]
  },
  {
   "cell_type": "code",
   "execution_count": 41,
   "metadata": {},
   "outputs": [
    {
     "name": "stdout",
     "output_type": "stream",
     "text": [
      "Спим 1 сек.\n",
      "5\n",
      "Спим 1 сек.\n",
      "4\n",
      "Спим 1 сек.\n",
      "3\n",
      "Спим 1 сек.\n",
      "2\n",
      "Спим 1 сек.\n",
      "1\n",
      "Спим 1 сек.\n",
      "Конец!\n"
     ]
    }
   ],
   "source": [
    "import functools\n",
    "import time\n",
    "\n",
    "def delayed(delay=2):                           # не является декоратором, но мы ее так называем для удобства\n",
    "    def decorator(func):\n",
    "        @functools.wraps(func)\n",
    "        def wrapper(*args, **kwargs):\n",
    "            print(f'Спим {delay} сек.')\n",
    "            time.sleep(delay)\n",
    "            value = func(*args, **kwargs)\n",
    "            return value\n",
    "        return wrapper\n",
    "    return decorator\n",
    "\n",
    "@delayed(1)\n",
    "def countdown(number):\n",
    "    if number < 1:\n",
    "        print('Конец!')\n",
    "    else:\n",
    "        print(number)\n",
    "        countdown(number - 1)\n",
    "        \n",
    "countdown(5)"
   ]
  },
  {
   "attachments": {},
   "cell_type": "markdown",
   "metadata": {},
   "source": [
    "декоратор timer, который подсчитывает время выполнения функции. Для более точного подсчета декоратор принимает аргумент iters, который задает количество измерений."
   ]
  },
  {
   "cell_type": "code",
   "execution_count": 43,
   "metadata": {},
   "outputs": [
    {
     "name": "stdout",
     "output_type": "stream",
     "text": [
      "Среднее время выполнения test: 0.002 сек.\n",
      "Среднее время выполнения sleep: 4.0019 сек.\n",
      "Результат функции test = 34005033.67003357\n",
      "Результат функции sleep = None\n"
     ]
    }
   ],
   "source": [
    "import functools, time\n",
    "\n",
    "def timer(iters=1):\n",
    "    def decorator(func):   \n",
    "        @functools.wraps(func)\n",
    "        def wrapper(*args, **kwargs):\n",
    "            total = 0\n",
    "            for i in range(iters):\n",
    "                start = time.perf_counter()\n",
    "                value = func(*args, **kwargs)\n",
    "                end = time.perf_counter()\n",
    "                total += end - start\n",
    "            print(f'Среднее время выполнения {func.__name__}: {round(total/iters, 4)} сек.')\n",
    "            return value\n",
    "        return wrapper\n",
    "    return decorator\n",
    "\n",
    "@timer(iters=1000)\n",
    "def test(n):\n",
    "    return sum([(i/99)**2 for i in range(n)])\n",
    "\n",
    "@timer(iters=3)\n",
    "def sleep(n):\n",
    "    time.sleep(n)\n",
    "\n",
    "res1 = test(10000)\n",
    "res2 = sleep(4)\n",
    "\n",
    "print(f'Результат функции test = {res1}')\n",
    "print(f'Результат функции sleep = {res2}')"
   ]
  },
  {
   "attachments": {},
   "cell_type": "markdown",
   "metadata": {},
   "source": [
    "Декоратор, который вызывает функцию заданное количество раз"
   ]
  },
  {
   "cell_type": "code",
   "execution_count": 45,
   "metadata": {},
   "outputs": [
    {
     "name": "stdout",
     "output_type": "stream",
     "text": [
      "1-й запуск функции.\n",
      "beegeek\n",
      "2-й запуск функции.\n",
      "beegeek\n",
      "3-й запуск функции.\n",
      "beegeek\n",
      "4-й запуск функции.\n",
      "beegeek\n",
      "5-й запуск функции.\n",
      "beegeek\n"
     ]
    }
   ],
   "source": [
    "import functools, time\n",
    "\n",
    "def repeater(repeat=1):\n",
    "    def decorator(func):\n",
    "        @functools.wraps(func)\n",
    "        def wrapper(*args, **kwargs):\n",
    "            for i in range(1, repeat + 1):\n",
    "                print(f'{i}-й запуск функции.')\n",
    "                value = func(*args, **kwargs)\n",
    "                time.sleep(1)\n",
    "            return value\n",
    "        return wrapper\n",
    "    return decorator\n",
    "\n",
    "@repeater(repeat=5)\n",
    "def beegeek():\n",
    "    print('beegeek')\n",
    "\n",
    "beegeek()"
   ]
  },
  {
   "attachments": {},
   "cell_type": "markdown",
   "metadata": {},
   "source": [
    "к одной функции можно применять несколько декораторов. При использовании этой возможности каждый декоратор должен указываться на отдельной строке. \n",
    "\n",
    "Несколько декораторов, следующих подряд, **не декорируют друг друга**. Они изменяют функцию и ее измененный вариант в качестве аргумента передают друг другу в порядке следования."
   ]
  },
  {
   "cell_type": "code",
   "execution_count": 46,
   "metadata": {},
   "outputs": [],
   "source": [
    "import functools\n",
    "import time\n",
    "\n",
    "def repeater(repeat=1):\n",
    "    def decorator(func):\n",
    "        @functools.wraps(func)\n",
    "        def wrapper(*args, **kwargs):\n",
    "            for i in range(1, repeat + 1):\n",
    "                print(f'{i}-й запуск функции.')\n",
    "                value = func(*args, **kwargs)\n",
    "            return value\n",
    "        return wrapper\n",
    "    return decorator\n",
    "\n",
    "def delayed(delay=2):\n",
    "    def decorator(func):\n",
    "        @functools.wraps(func)\n",
    "        def wrapper(*args, **kwargs):\n",
    "            print(f'Спим {delay} сек.')\n",
    "            time.sleep(delay)\n",
    "            value = func(*args, **kwargs)\n",
    "            return value\n",
    "        return wrapper\n",
    "    return decorator"
   ]
  },
  {
   "attachments": {},
   "cell_type": "markdown",
   "metadata": {},
   "source": [
    "Оцени разное поведение в двух вариантах следования:"
   ]
  },
  {
   "cell_type": "code",
   "execution_count": 47,
   "metadata": {},
   "outputs": [
    {
     "name": "stdout",
     "output_type": "stream",
     "text": [
      "1-й запуск функции.\n",
      "Спим 1 сек.\n",
      "Проверка https://stepik.org/ на доступность.\n",
      "2-й запуск функции.\n",
      "Спим 1 сек.\n",
      "Проверка https://stepik.org/ на доступность.\n",
      "3-й запуск функции.\n",
      "Спим 1 сек.\n",
      "Проверка https://stepik.org/ на доступность.\n",
      "4-й запуск функции.\n",
      "Спим 1 сек.\n",
      "Проверка https://stepik.org/ на доступность.\n",
      "5-й запуск функции.\n",
      "Спим 1 сек.\n",
      "Проверка https://stepik.org/ на доступность.\n"
     ]
    }
   ],
   "source": [
    "@repeater(repeat=5)\n",
    "@delayed(delay=1)\n",
    "def monitor(url):\n",
    "    print(f'Проверка {url} на доступность.')\n",
    "    \n",
    "monitor('https://stepik.org/')"
   ]
  },
  {
   "cell_type": "code",
   "execution_count": 48,
   "metadata": {},
   "outputs": [
    {
     "name": "stdout",
     "output_type": "stream",
     "text": [
      "Спим 1 сек.\n",
      "1-й запуск функции.\n",
      "Проверка https://stepik.org/ на доступность.\n",
      "2-й запуск функции.\n",
      "Проверка https://stepik.org/ на доступность.\n",
      "3-й запуск функции.\n",
      "Проверка https://stepik.org/ на доступность.\n",
      "4-й запуск функции.\n",
      "Проверка https://stepik.org/ на доступность.\n",
      "5-й запуск функции.\n",
      "Проверка https://stepik.org/ на доступность.\n"
     ]
    }
   ],
   "source": [
    "@delayed(delay=1)\n",
    "@repeater(repeat=5)\n",
    "def monitor(url):\n",
    "    print(f'Проверка {url} на доступность.')\n",
    "    \n",
    "monitor('https://stepik.org/')"
   ]
  },
  {
   "attachments": {},
   "cell_type": "markdown",
   "metadata": {},
   "source": [
    "        Декоратор prefix\n",
    "        Реализуйте декоратор prefix, который принимает два аргумента в следующем порядке:\n",
    "\n",
    "        string — произвольная строка\n",
    "        to_the_end — булево значение, по умолчанию равное False\n",
    "        Декоратор должен добавлять строку string к возвращаемому значению декорируемой функции. Если to_the_end имеет значение True, строка string добавляется в конец, если False — в начало.\n",
    "\n",
    "        Также декоратор должен сохранять имя и строку документации декорируемой функции."
   ]
  },
  {
   "cell_type": "code",
   "execution_count": 49,
   "metadata": {},
   "outputs": [
    {
     "name": "stdout",
     "output_type": "stream",
     "text": [
      "€2000\n"
     ]
    }
   ],
   "source": [
    "from functools import wraps\n",
    "def prefix(string, to_the_end= False):\n",
    "    def decorator(func):\n",
    "        @wraps(func)\n",
    "        def wrapper(*args, **kwargs):\n",
    "            return (string, '')[to_the_end] + func(*args, **kwargs) + ('', string)[to_the_end] \n",
    "        return wrapper\n",
    "    return decorator\n",
    "\n",
    "@prefix('€')\n",
    "def get_bonus():\n",
    "    return '2000'\n",
    "    \n",
    "print(get_bonus())"
   ]
  },
  {
   "cell_type": "code",
   "execution_count": 50,
   "metadata": {},
   "outputs": [
    {
     "name": "stdout",
     "output_type": "stream",
     "text": [
      "2000$$$\n"
     ]
    }
   ],
   "source": [
    "@prefix('$$$', to_the_end=True)\n",
    "def get_bonus():\n",
    "    return '2000'\n",
    "       \n",
    "print(get_bonus())"
   ]
  },
  {
   "attachments": {},
   "cell_type": "markdown",
   "metadata": {},
   "source": [
    "        Декоратор make_html\n",
    "        Тег — элемент языка разметки, используемый для форматирования текста. Например, текст, заключённый между начальным тегом <small> и конечным тегом </small>, отображается с меньшим размером, чем основной текст, а текст между тегами <big> и </big> отображается с большим размером.\n",
    "\n",
    "        Реализуйте декоратор make_html(), который принимает один аргумент:\n",
    "\n",
    "        tag — HTML-тег, например, del\n",
    "        Декоратор должен обрамлять возвращаемое значение декорируемой функции в HTML-тег tag.\n",
    "\n",
    "        Также декоратор должен сохранять имя и строку документации декорируемой функции."
   ]
  },
  {
   "cell_type": "code",
   "execution_count": 51,
   "metadata": {},
   "outputs": [
    {
     "name": "stdout",
     "output_type": "stream",
     "text": [
      "<i><del>decorators are so cool!</del></i>\n"
     ]
    }
   ],
   "source": [
    "from functools import wraps\n",
    "def make_html(tag):\n",
    "    def decorator(func):\n",
    "        @wraps(func)\n",
    "        def wrapper(*args, **kwargs):\n",
    "            return f'<{tag}>' + func(*args, **kwargs) + f'</{tag}>'\n",
    "        return wrapper\n",
    "    return decorator\n",
    "\n",
    "@make_html('i')\n",
    "@make_html('del')\n",
    "def get_text(text):\n",
    "    return text\n",
    "    \n",
    "print(get_text(text='decorators are so cool!'))"
   ]
  },
  {
   "attachments": {},
   "cell_type": "markdown",
   "metadata": {},
   "source": [
    "        Декоратор repeat\n",
    "        Реализуйте декоратор repeat, который принимает один аргумент:\n",
    "\n",
    "        times — натуральное число\n",
    "        Декоратор должен вызывать декорируемую функцию times раз.\n",
    "\n",
    "        Также декоратор должен сохранять имя и строку документации декорируемой функции."
   ]
  },
  {
   "cell_type": "code",
   "execution_count": 52,
   "metadata": {},
   "outputs": [
    {
     "name": "stdout",
     "output_type": "stream",
     "text": [
      "beegeek\n",
      "beegeek\n",
      "beegeek\n"
     ]
    }
   ],
   "source": [
    "from functools import wraps\n",
    "def repeat(times):\n",
    "    def decorator(func):\n",
    "        @wraps(func)\n",
    "        def wrapper(*args, **kwargs):\n",
    "            for i in range(times):\n",
    "                result = func(*args, **kwargs)\n",
    "            return  result\n",
    "        return wrapper\n",
    "    return decorator\n",
    "\n",
    "@repeat(3)\n",
    "def say_beegeek():\n",
    "    '''documentation'''\n",
    "    print('beegeek')\n",
    "    \n",
    "say_beegeek()"
   ]
  },
  {
   "attachments": {},
   "cell_type": "markdown",
   "metadata": {},
   "source": [
    "        Декоратор strip_range\n",
    "        Реализуйте декоратор strip_range, который принимает три аргумента в следующем порядке:\n",
    "\n",
    "        start — неотрицательное целое число\n",
    "        end — неотрицательное целое число\n",
    "        char — одиночный символ, по умолчанию равный точке .\n",
    "        Декоратор должен изменять возвращаемое значение декорируемой функции, заменяя все символы в диапазоне индексов от start (включительно) до end (не включительно) на символ char."
   ]
  },
  {
   "cell_type": "code",
   "execution_count": 55,
   "metadata": {},
   "outputs": [
    {
     "name": "stdout",
     "output_type": "stream",
     "text": [
      "bee..ek\n"
     ]
    }
   ],
   "source": [
    "from functools import wraps\n",
    "def strip_range(start, end, char='.'):\n",
    "    def decorator(func):\n",
    "        @wraps(func)\n",
    "        def wrapper(*args, **kwargs):\n",
    "            res_lst = list(func(*args, **kwargs))\n",
    "            result =  ''.join([(elem,char)[ind in range(start,end)]\\\n",
    "                                for ind, elem in enumerate(res_lst)])\n",
    "            return  result\n",
    "        return wrapper\n",
    "    return decorator\n",
    "\n",
    "@strip_range(3, 5)\n",
    "def beegeek():\n",
    "    return 'beegeek'\n",
    "    \n",
    "print(beegeek())"
   ]
  },
  {
   "cell_type": "code",
   "execution_count": 56,
   "metadata": {},
   "outputs": [
    {
     "name": "stdout",
     "output_type": "stream",
     "text": [
      "bee____\n"
     ]
    }
   ],
   "source": [
    "@strip_range(3, 20, '_')\n",
    "def beegeek():\n",
    "    return 'beegeek'\n",
    "    \n",
    "print(beegeek())"
   ]
  },
  {
   "cell_type": "code",
   "execution_count": 57,
   "metadata": {},
   "outputs": [
    {
     "name": "stdout",
     "output_type": "stream",
     "text": [
      "beegeek\n"
     ]
    }
   ],
   "source": [
    "@strip_range(20, 30)\n",
    "def beegeek():\n",
    "    return 'beegeek'\n",
    "    \n",
    "print(beegeek())"
   ]
  },
  {
   "attachments": {},
   "cell_type": "markdown",
   "metadata": {},
   "source": [
    "        Декоратор returns\n",
    "        Реализуйте декоратор returns, который принимает один аргумент:\n",
    "\n",
    "        datatype — тип данных\n",
    "        Декоратор должен проверять, что возвращаемое значение декорируемой функции принадлежит типу datatype. Если возвращаемое значение принадлежит какому-либо другому типу, декоратор должен возбуждать исключение TypeError.\n",
    "\n",
    "        Также декоратор должен сохранять имя и строку документации декорируемой функции."
   ]
  },
  {
   "cell_type": "code",
   "execution_count": 58,
   "metadata": {},
   "outputs": [
    {
     "name": "stdout",
     "output_type": "stream",
     "text": [
      "15\n"
     ]
    }
   ],
   "source": [
    "from functools import wraps\n",
    "def returns(datatype):\n",
    "    def decorator(func):\n",
    "        @wraps(func)\n",
    "        def wrapper(*args, **kwargs):\n",
    "            res = func(*args, **kwargs)\n",
    "            if not isinstance(res, datatype):\n",
    "                raise TypeError\n",
    "            return  res\n",
    "        return wrapper\n",
    "    return decorator\n",
    "\n",
    "@returns(int)\n",
    "def add(a, b):\n",
    "    return a + b\n",
    "\n",
    "print(add(10, 5))"
   ]
  },
  {
   "cell_type": "code",
   "execution_count": 59,
   "metadata": {},
   "outputs": [
    {
     "name": "stdout",
     "output_type": "stream",
     "text": [
      "<class 'TypeError'>\n"
     ]
    }
   ],
   "source": [
    "@returns(int)\n",
    "def add(a, b):\n",
    "    return a + b\n",
    "\n",
    "try:\n",
    "    print(add('199', '1'))\n",
    "except TypeError as e:\n",
    "    print(type(e))"
   ]
  },
  {
   "cell_type": "code",
   "execution_count": 60,
   "metadata": {},
   "outputs": [
    {
     "name": "stdout",
     "output_type": "stream",
     "text": [
      "beegeek\n",
      "beegeek docs\n",
      "<class 'TypeError'>\n"
     ]
    }
   ],
   "source": [
    "@returns(list)\n",
    "def beegeek():\n",
    "    '''beegeek docs'''\n",
    "    return 'beegeek'\n",
    "\n",
    "print(beegeek.__name__)\n",
    "print(beegeek.__doc__)\n",
    "\n",
    "try:\n",
    "    print(beegeek())\n",
    "except TypeError as e:\n",
    "    print(type(e))"
   ]
  },
  {
   "attachments": {},
   "cell_type": "markdown",
   "metadata": {},
   "source": [
    "        Декоратор takes\n",
    "        Реализуйте декоратор takes, который принимает произвольное количество позиционных аргументов, каждый из которых является типом данных.\n",
    "\n",
    "        Декоратор должен проверять, что аргументы, передаваемые в декорируемую функцию, принадлежат одному из этих типов. Если хотя бы один аргумент не принадлежит одному из данных типов, декоратор должен возбуждать исключение TypeError.\n",
    "\n",
    "        Также декоратор должен сохранять имя и строку документации декорируемой функции."
   ]
  },
  {
   "cell_type": "code",
   "execution_count": 69,
   "metadata": {},
   "outputs": [
    {
     "name": "stdout",
     "output_type": "stream",
     "text": [
      "beebeebee\n"
     ]
    }
   ],
   "source": [
    "from functools import wraps\n",
    "def takes(*datatypes):\n",
    "    def decorator(func):\n",
    "        @wraps(func)\n",
    "        def wrapper(*args, **kwargs):\n",
    "            all_args = list(args) + list(kwargs.values())\n",
    "            if not all([(type(arg) in datatypes) for arg in all_args]):\n",
    "                raise TypeError\n",
    "            return  func(*args, **kwargs)\n",
    "        return wrapper\n",
    "    return decorator\n",
    "\n",
    "@takes(int, str)\n",
    "def repeat_string(string, times):\n",
    "    return string * times\n",
    "\n",
    "print(repeat_string('bee', 3))"
   ]
  },
  {
   "cell_type": "code",
   "execution_count": 70,
   "metadata": {},
   "outputs": [
    {
     "name": "stdout",
     "output_type": "stream",
     "text": [
      "<class 'TypeError'>\n"
     ]
    }
   ],
   "source": [
    "@takes(list, bool, float, int)\n",
    "def repeat_string(string, times):\n",
    "    return string * times\n",
    "\n",
    "try:\n",
    "    print(repeat_string('bee', 4))\n",
    "except TypeError as e:\n",
    "    print(type(e))"
   ]
  },
  {
   "attachments": {},
   "cell_type": "markdown",
   "metadata": {},
   "source": [
    "        Декоратор add_attrs\n",
    "        Реализуйте декоратор add_attrs, который принимает произвольное количество именованных аргументов и устанавливает их в качестве атрибутов декорируемой функции. Названием атрибута должно являться имя аргумента, значением атрибута — значение аргумента.\n",
    "\n",
    "        Также декоратор должен сохранять имя и строку документации декорируемой функции."
   ]
  },
  {
   "cell_type": "code",
   "execution_count": 88,
   "metadata": {},
   "outputs": [
    {
     "name": "stdout",
     "output_type": "stream",
     "text": [
      "bee\n",
      "geek\n"
     ]
    }
   ],
   "source": [
    "from functools import wraps\n",
    "def add_attrs(**attributes):\n",
    "    def decorator(func):\n",
    "        @wraps(func)\n",
    "        def wrapper(*args, **kwargs):\n",
    "            return  func(*args, **kwargs)\n",
    "        wrapper.__dict__.update(attributes)\n",
    "        return wrapper\n",
    "    return decorator\n",
    "\n",
    "@add_attrs(attr1='bee', attr2='geek')\n",
    "def beegeek():\n",
    "    return 'beegeek'\n",
    "    \n",
    "print(beegeek.attr1)\n",
    "print(beegeek.attr2)"
   ]
  },
  {
   "cell_type": "code",
   "execution_count": 89,
   "metadata": {},
   "outputs": [
    {
     "name": "stdout",
     "output_type": "stream",
     "text": [
      "bee\n",
      "geek\n",
      "beegeek\n"
     ]
    }
   ],
   "source": [
    "@add_attrs(attr2='geek')\n",
    "@add_attrs(attr1='bee')\n",
    "def beegeek():\n",
    "    return 'beegeek'\n",
    "    \n",
    "print(beegeek.attr1)\n",
    "print(beegeek.attr2)\n",
    "print(beegeek.__name__)"
   ]
  },
  {
   "attachments": {},
   "cell_type": "markdown",
   "metadata": {},
   "source": [
    "        Декоратор ignore_exception\n",
    "        Реализуйте декоратор ignore_exception, который принимает произвольное количество позиционных аргументов — типов исключений, и выводит текст:\n",
    "\n",
    "        Исключение <тип исключения> обработано\n",
    "        если во время выполнения декорируемой функции было возбуждено исключение, принадлежащее одному из переданных типов.\n",
    "\n",
    "        Если возбужденное исключение не принадлежит ни одному из переданных типов, оно должно быть возбуждено снова."
   ]
  },
  {
   "cell_type": "code",
   "execution_count": 5,
   "metadata": {},
   "outputs": [
    {
     "name": "stdout",
     "output_type": "stream",
     "text": [
      "Исключение ZeroDivisionError обработано\n"
     ]
    }
   ],
   "source": [
    "from functools import wraps\n",
    "def ignore_exception(*exceptions):\n",
    "    def decorator(func):\n",
    "        @wraps(func)\n",
    "        def wrapper(*args, **kwargs):\n",
    "            try:\n",
    "                result = func(*args, **kwargs)\n",
    "                return result\n",
    "            \n",
    "            except Exception as err:\n",
    "                if err.__class__ in exceptions: \n",
    "                    print(f'Исключение {err.__class__.__name__} обработано')\n",
    "                else: raise err\n",
    "\n",
    "           \n",
    "        return wrapper\n",
    "    return decorator\n",
    "\n",
    "@ignore_exception(ZeroDivisionError, TypeError, ValueError)\n",
    "def f(x):\n",
    "    return 1 / x\n",
    "    \n",
    "f(0)"
   ]
  },
  {
   "cell_type": "code",
   "execution_count": 6,
   "metadata": {},
   "outputs": [
    {
     "name": "stdout",
     "output_type": "stream",
     "text": [
      "<class 'TypeError'>\n"
     ]
    }
   ],
   "source": [
    "min = ignore_exception(ZeroDivisionError)(min)\n",
    "\n",
    "try:\n",
    "    print(min(1, '2', 3, [4, 5]))\n",
    "except Exception as e:\n",
    "    print(type(e))"
   ]
  },
  {
   "attachments": {},
   "cell_type": "markdown",
   "metadata": {},
   "source": [
    "        Декоратор retry\n",
    "        Реализуйте декоратор retry, который принимает один аргумент:\n",
    "\n",
    "        times — натуральное число\n",
    "        Декоратор должен выполнять повторную попытку вызова декорируемой функции, если во время ее выполнения возникает ошибка. Декоратор должен вызывать ее до тех пор, пока не исчерпает количество попыток times, после чего должен возбуждать исключение MaxRetriesException."
   ]
  },
  {
   "cell_type": "code",
   "execution_count": 22,
   "metadata": {},
   "outputs": [
    {
     "name": "stdout",
     "output_type": "stream",
     "text": [
      "1 попытка\n",
      "2 попытка\n",
      "3 попытка\n",
      "<class '__main__.MaxRetriesException'>\n"
     ]
    }
   ],
   "source": [
    "from functools import wraps\n",
    "class MaxRetriesException(Exception):\n",
    "    pass\n",
    "def retry(times):\n",
    "    def decorator(func):\n",
    "        @wraps(func)\n",
    "        def wrapper(*args, **kwargs):\n",
    "            try:\n",
    "                for i in range(times-1):\n",
    "                        try:\n",
    "                            result = func(*args, **kwargs)\n",
    "                            return result\n",
    "                        \n",
    "                        except Exception as err:\n",
    "                            print(f'{i+1} попытка')\n",
    "                            continue\n",
    "                print(f'{times} попытка')\n",
    "                result = func(*args, **kwargs)\n",
    "                return result\n",
    "            except Exception as err:\n",
    "                raise    MaxRetriesException             \n",
    "             \n",
    "        return wrapper\n",
    "    return decorator\n",
    "\n",
    "@retry(3)\n",
    "def no_way():\n",
    "    raise ValueError\n",
    "   \n",
    "try:\n",
    "    no_way()\n",
    "except Exception as e:\n",
    "    print(type(e))"
   ]
  },
  {
   "cell_type": "code",
   "execution_count": 23,
   "metadata": {},
   "outputs": [
    {
     "name": "stdout",
     "output_type": "stream",
     "text": [
      "1 попытка\n",
      "2 попытка\n",
      "3 попытка\n",
      "4 попытка\n",
      "beegeek\n"
     ]
    }
   ],
   "source": [
    "@retry(8)\n",
    "def beegeek():\n",
    "    beegeek.calls = beegeek.__dict__.get('calls', 0) + 1\n",
    "    if beegeek.calls < 5:\n",
    "        raise ValueError\n",
    "    print('beegeek')\n",
    "    \n",
    "beegeek()"
   ]
  },
  {
   "cell_type": "code",
   "execution_count": 24,
   "metadata": {},
   "outputs": [
    {
     "name": "stdout",
     "output_type": "stream",
     "text": [
      "1 попытка\n",
      "2 попытка\n",
      "3 попытка\n",
      "4 попытка\n",
      "5 попытка\n",
      "6 попытка\n",
      "<class '__main__.MaxRetriesException'>\n"
     ]
    }
   ],
   "source": [
    "@retry(6)\n",
    "def beegeek():\n",
    "    beegeek.calls = beegeek.__dict__.get('calls', 0) + 1\n",
    "    if beegeek.calls < 7:\n",
    "        raise ValueError\n",
    "    print('beegeek')\n",
    "\n",
    "try:\n",
    "    beegeek()\n",
    "except Exception as e:\n",
    "    print(type(e))"
   ]
  },
  {
   "attachments": {},
   "cell_type": "markdown",
   "metadata": {},
   "source": [
    "### Модуль functools\n",
    "https://stepik.org/lesson/751476/step/1?unit=753330"
   ]
  },
  {
   "attachments": {},
   "cell_type": "markdown",
   "metadata": {},
   "source": [
    "функция частичного применения partial()\n",
    "\n",
    "Частичное применение позволяет на основе старой функции создать новую, которая \"частично применена\"."
   ]
  },
  {
   "attachments": {},
   "cell_type": "markdown",
   "metadata": {},
   "source": [
    "        Сигнатура функции следующая: partial(func, *args, **kwargs). \n",
    "\n",
    "Данная функция возвращает специальный partial объект, который при вызове вызывается как функция func, в которую дополнительно передаются позиционные аргументы args и именованные аргументы kwargs."
   ]
  },
  {
   "cell_type": "code",
   "execution_count": 1,
   "metadata": {},
   "outputs": [
    {
     "name": "stdout",
     "output_type": "stream",
     "text": [
      "10\n",
      "30\n"
     ]
    }
   ],
   "source": [
    "from functools import partial\n",
    "\n",
    "def multiply(a, b):\n",
    "    return a * b\n",
    "\n",
    "double = partial(multiply, 2)    # вместо первого аргумента функции multiply будет использован аргумент, переданный partial\n",
    "triple = partial(multiply, 3)\n",
    "\n",
    "print(double(5))        # 2 * 5\n",
    "print(triple(10))       # 3 * 10"
   ]
  },
  {
   "cell_type": "code",
   "execution_count": 3,
   "metadata": {},
   "outputs": [
    {
     "name": "stdout",
     "output_type": "stream",
     "text": [
      "10\n"
     ]
    }
   ],
   "source": [
    "from functools import partial\n",
    "\n",
    "def multiply(a, b):\n",
    "    return a * b\n",
    "\n",
    "double = partial(multiply, b=2)\n",
    "print(double(5))"
   ]
  },
  {
   "attachments": {},
   "cell_type": "markdown",
   "metadata": {},
   "source": [
    "Фактически, мы фискируем аргумент исходной функции, который будем использовать"
   ]
  },
  {
   "cell_type": "code",
   "execution_count": 2,
   "metadata": {},
   "outputs": [
    {
     "name": "stdout",
     "output_type": "stream",
     "text": [
      "5\n",
      "8\n",
      "31\n"
     ]
    }
   ],
   "source": [
    "from functools import partial\n",
    "\n",
    "basetwo = partial(int, base=2)\n",
    "\n",
    "print(basetwo('101'))\n",
    "print(basetwo('1000'))\n",
    "print(basetwo('11111'))"
   ]
  },
  {
   "attachments": {},
   "cell_type": "markdown",
   "metadata": {},
   "source": [
    "Атрибуты функции partial"
   ]
  },
  {
   "cell_type": "code",
   "execution_count": 4,
   "metadata": {},
   "outputs": [
    {
     "name": "stdout",
     "output_type": "stream",
     "text": [
      "*******\n",
      "Hi!!!\n",
      "*******\n",
      "('Hi!!!',)\n",
      "{'symbol': '*'}\n",
      "~~~~~~~~~~~~~~~~~~~~\n",
      "Исходная функция\n",
      "~~~~~~~~~~~~~~~~~~~~\n"
     ]
    }
   ],
   "source": [
    "from functools import partial\n",
    "\n",
    "def pretty_print(text, symbol, count):\n",
    "    print(symbol * count)\n",
    "    print(text)\n",
    "    print(symbol * count)\n",
    "\n",
    "star_pretty_print = partial(pretty_print, 'Hi!!!', symbol='*')\n",
    "\n",
    "star_pretty_print(count=7)\n",
    "\n",
    "print(star_pretty_print.args)       # возвращает кортеж позиционных аргументов\n",
    "print(star_pretty_print.keywords)   # возвращает словарь именованных аргументов\n",
    "\n",
    "star_pretty_print.func('Исходная функция', symbol='~', count=20)    # возвращает исходную функцию (до применения partial)"
   ]
  },
  {
   "attachments": {},
   "cell_type": "markdown",
   "metadata": {},
   "source": [
    "Если нужны атрибуты строки документирования функции и/или ее имя - нужно использовать update_wrapper\n",
    "\n",
    "update_wrapper() из модуля functools можно скопировать и добавить атрибуты __name__ и __doc__ из исходной функции в partial объект."
   ]
  },
  {
   "cell_type": "code",
   "execution_count": 5,
   "metadata": {},
   "outputs": [
    {
     "name": "stdout",
     "output_type": "stream",
     "text": [
      "multiply\n",
      "Функция перемножает два числа и возвращает вычисленное значение.\n"
     ]
    }
   ],
   "source": [
    "from functools import partial, update_wrapper\n",
    "\n",
    "def multiply(a, b):\n",
    "    '''Функция перемножает два числа и возвращает вычисленное значение.'''\n",
    "    return a * b\n",
    "\n",
    "double = partial(multiply, 2)\n",
    "\n",
    "update_wrapper(double, multiply)   # копируем информацию из функции multiply в partial объект double\n",
    "\n",
    "print(double.__name__)\n",
    "print(double.__doc__)"
   ]
  },
  {
   "cell_type": "code",
   "execution_count": 1,
   "metadata": {},
   "outputs": [
    {
     "name": "stdout",
     "output_type": "stream",
     "text": [
      "Время выполнения ways_rec: 0.0028 сек.\n",
      "100887593057066418230392292155377327989230367617830561023371358463025154196882692957626260961048402217375\n",
      "\n",
      "Время выполнения ways_din: 0.0004 сек.\n",
      "100887593057066418230392292155377327989230367617830561023371358463025154196882692957626260961048402217375\n"
     ]
    }
   ],
   "source": [
    "import functools, time \n",
    "\n",
    "# декоратор подсчета времени работы функции\n",
    "def timer(func):\n",
    "    @functools.wraps(func)\n",
    "    def wrapper(*args, **kwargs):\n",
    "        start = time.perf_counter()\n",
    "        val = func(*args, **kwargs)\n",
    "        end = time.perf_counter()\n",
    "        work_time = end - start\n",
    "        print(f'Время выполнения {func.__name__}: {round(work_time, 4)} сек.')\n",
    "        return val\n",
    "    return wrapper\n",
    "\n",
    "@timer\n",
    "def ways_rec(n):\n",
    "    \"\"\" рекурсивная функция, которая считает количество вариантов попасть на n ступеньку , \n",
    "    имея возможность шагать на 1, 3 и 4 ступеньки за раз\"\"\"\n",
    "    cache = {0:1, 1:1, 2:1, 3:1, 4:2}\n",
    "    def temp(n):\n",
    "        result = cache.get(n)\n",
    "        if result is None:\n",
    "            result = temp(n-1) + temp(n-3) + temp(n-4)\n",
    "            cache[n] = result\n",
    "        return result\n",
    "    return temp(n)\n",
    "\n",
    "@timer\n",
    "def ways_din(n):\n",
    "    \"\"\" функция динамического программирования, которая считает количество вариантов попасть на n ступеньку , \n",
    "    имея возможность шагать на 1, 3 и 4 ступеньки за раз \"\"\"\n",
    "    dp = [0] * (n+1)\n",
    "    dp[0] = dp[1] = dp[2] =dp[3] = 1\n",
    "    dp[4] = 2\n",
    "    for i in range(5, n+1):\n",
    "        dp[i] = dp[i-1] + dp[i-3] + dp[i-4]\n",
    "    return dp[n]\n",
    "\n",
    "\n",
    "print(ways_rec(500))\n",
    "\n",
    "print()\n",
    "\n",
    "print(ways_din(500))"
   ]
  },
  {
   "cell_type": "code",
   "execution_count": null,
   "metadata": {},
   "outputs": [],
   "source": []
  }
 ],
 "metadata": {
  "kernelspec": {
   "display_name": "Python 3",
   "language": "python",
   "name": "python3"
  },
  "language_info": {
   "codemirror_mode": {
    "name": "ipython",
    "version": 3
   },
   "file_extension": ".py",
   "mimetype": "text/x-python",
   "name": "python",
   "nbconvert_exporter": "python",
   "pygments_lexer": "ipython3",
   "version": "3.10.7"
  },
  "orig_nbformat": 4
 },
 "nbformat": 4,
 "nbformat_minor": 2
}
