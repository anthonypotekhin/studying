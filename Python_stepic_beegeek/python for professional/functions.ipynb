{
 "cells": [
  {
   "attachments": {},
   "cell_type": "markdown",
   "metadata": {},
   "source": [
    "Перевод в систему исчисления и обратно"
   ]
  },
  {
   "cell_type": "code",
   "execution_count": 3,
   "metadata": {},
   "outputs": [
    {
     "data": {
      "text/plain": [
       "'100100001'"
      ]
     },
     "execution_count": 3,
     "metadata": {},
     "output_type": "execute_result"
    }
   ],
   "source": [
    "bin(289)[2:]"
   ]
  },
  {
   "cell_type": "code",
   "execution_count": 2,
   "metadata": {},
   "outputs": [
    {
     "data": {
      "text/plain": [
       "'121'"
      ]
     },
     "execution_count": 2,
     "metadata": {},
     "output_type": "execute_result"
    }
   ],
   "source": [
    "hex(289)[2:]"
   ]
  },
  {
   "cell_type": "code",
   "execution_count": 6,
   "metadata": {},
   "outputs": [
    {
     "data": {
      "text/plain": [
       "289"
      ]
     },
     "execution_count": 6,
     "metadata": {},
     "output_type": "execute_result"
    }
   ],
   "source": [
    "int('100100001', base=2)"
   ]
  },
  {
   "cell_type": "code",
   "execution_count": 7,
   "metadata": {},
   "outputs": [
    {
     "data": {
      "text/plain": [
       "289"
      ]
     },
     "execution_count": 7,
     "metadata": {},
     "output_type": "execute_result"
    }
   ],
   "source": [
    "int('121', base=16)"
   ]
  },
  {
   "cell_type": "code",
   "execution_count": 28,
   "metadata": {},
   "outputs": [
    {
     "name": "stdout",
     "output_type": "stream",
     "text": [
      "Encanto\n"
     ]
    }
   ],
   "source": [
    "# вернуть фильм с наименьшей средней оценкой\n",
    "films = {'Spider-Man: No Way Home': {'imdb': 8.8, 'kinopoisk': 8.3},\n",
    "         'Don\"t Look Up': {'imdb': 7.3, 'kinopoisk': 7.6},\n",
    "         'Encanto': {'imdb': 7.3, 'kinopoisk': 7.4},\n",
    "         'The Witcher': {'imdb': 8.2, 'kinopoisk': 7.3},\n",
    "         'Ghostbusters: Afterlife': {'imdb': 7.3, 'kinopoisk': 8},\n",
    "         'Harry Potter 20th Anniversary: Return to Hogwarts': {'imdb': 8.1, 'kinopoisk': 8.2},\n",
    "         'Shingeki no Kyojin': {'imdb': 9.0, 'kinopoisk': 8.3},\n",
    "         'The Matrix': {'imdb': 8.7, 'kinopoisk': 8.5},\n",
    "         'The Dark Knight': {'imdb': 9.0, 'kinopoisk': 8.5},\n",
    "         'The Shawshank Redemption': {'imdb': 9.3, 'kinopoisk': 9.1},\n",
    "         'Avengers: Endgame': {'imdb': 8.4, 'kinopoisk': 7.7}}\n",
    "\n",
    "import numpy as np\n",
    "print(min(films.items(), \n",
    "          key= lambda x: np.mean(list(x[1].values())))[0])"
   ]
  },
  {
   "cell_type": "code",
   "execution_count": 31,
   "metadata": {},
   "outputs": [
    {
     "data": {
      "text/plain": [
       "True"
      ]
     },
     "execution_count": 31,
     "metadata": {},
     "output_type": "execute_result"
    }
   ],
   "source": [
    "numbers = [1,2,3,45,9]\n",
    "all([num>=0 for num in numbers])"
   ]
  },
  {
   "cell_type": "code",
   "execution_count": 34,
   "metadata": {},
   "outputs": [
    {
     "data": {
      "text/plain": [
       "[(1, '1'), (2, '2'), (3, '3')]"
      ]
     },
     "execution_count": 34,
     "metadata": {},
     "output_type": "execute_result"
    }
   ],
   "source": [
    "list(enumerate('123', start=1))"
   ]
  },
  {
   "attachments": {},
   "cell_type": "markdown",
   "metadata": {},
   "source": [
    "        Функция zip_longest()\n",
    "        Как уже известно, функция zip() объединяет элементы различных последовательностей. Особенностью функции является то, что при передаче последовательностей различной длины элементы последовательности большей длины будут отброшены.\n",
    "\n",
    "        Реализуйте функцию zip_longest(), которая принимает переменное количество позиционных аргументов, каждый из которых является списком, и один необязательный именованный аргумент fill, имеющий значение по умолчанию None.\n",
    "\n",
    "        Функция должна объединять элементы переданных последовательностей в кортежи, аналогично функции zip(), и возвращать в виде списка, но если последовательности имеют различную длину, недостающие элементы последовательностей меньшей длины должны принимать значение fill."
   ]
  },
  {
   "cell_type": "code",
   "execution_count": 50,
   "metadata": {},
   "outputs": [
    {
     "name": "stdout",
     "output_type": "stream",
     "text": [
      "[(1, 'a'), (2, 'b'), (3, 'c'), (4, '_'), (5, '_')]\n",
      "[(1, 'one', 'I'), (2, 'two', 'II'), (3, 'three', None), (4, None, None), (5, None, None)]\n",
      "[(1, 'one', 'I'), (2, 'two', 'II'), (3, 'three', 'III'), (4, 'four', 'IV'), (5, 'five', 'V')]\n"
     ]
    }
   ],
   "source": [
    "def zip_longest(*args, fill=None):\n",
    "    len_of_the_longest = max([len(arg) for arg in args])\n",
    "    for arg in args:\n",
    "        if len(arg)< len_of_the_longest:\n",
    "            arg.extend([fill] * (len_of_the_longest - len(arg))) \n",
    "\n",
    "    return list(zip(*args))\n",
    "\n",
    "print(zip_longest([1, 2, 3, 4, 5], ['a', 'b', 'c'], fill='_'))\n",
    "\n",
    "data = [[1, 2, 3, 4, 5], ['one', 'two', 'three'], ['I', 'II']]\n",
    "print(zip_longest(*data))\n",
    "\n",
    "data = [[1, 2, 3, 4, 5], ['one', 'two', 'three', 'four', 'five'], ['I', 'II', 'III', 'IV', 'V']]\n",
    "print(zip_longest(*data))"
   ]
  },
  {
   "cell_type": "code",
   "execution_count": 37,
   "metadata": {},
   "outputs": [
    {
     "data": {
      "text/plain": [
       "[(1, 4), (2, 5)]"
      ]
     },
     "execution_count": 37,
     "metadata": {},
     "output_type": "execute_result"
    }
   ],
   "source": [
    "list(zip([1,2,3], [4,5]))"
   ]
  },
  {
   "cell_type": "code",
   "execution_count": 43,
   "metadata": {},
   "outputs": [
    {
     "data": {
      "text/plain": [
       "[(1, 3), (2, 4)]"
      ]
     },
     "execution_count": 43,
     "metadata": {},
     "output_type": "execute_result"
    }
   ],
   "source": [
    "list(zip([1,2], [3,4]))"
   ]
  },
  {
   "cell_type": "code",
   "execution_count": 42,
   "metadata": {},
   "outputs": [
    {
     "data": {
      "text/plain": [
       "[(1, 3), (2, 4)]"
      ]
     },
     "execution_count": 42,
     "metadata": {},
     "output_type": "execute_result"
    }
   ],
   "source": [
    "list(zip((1,2), (3,4)))"
   ]
  },
  {
   "cell_type": "code",
   "execution_count": 46,
   "metadata": {},
   "outputs": [
    {
     "data": {
      "text/plain": [
       "[(1, 3, 5, 7), (2, 4, 6, 8)]"
      ]
     },
     "execution_count": 46,
     "metadata": {},
     "output_type": "execute_result"
    }
   ],
   "source": [
    "list(zip(*[[1,2], [3,4], [5,6], [7,8]]))"
   ]
  },
  {
   "attachments": {},
   "cell_type": "markdown",
   "metadata": {},
   "source": [
    "        Необычная сортировка 🌶️\n",
    "        Дана строка, содержащая латинские буквы и цифры. Напишите программу, которая сортирует символы в строке согласно следующим правилам:\n",
    "\n",
    "        все отсортированные строчные буквы стоят перед заглавными буквами\n",
    "        все отсортированные заглавные буквы стоят перед цифрами\n",
    "        все отсортированные нечетные цифры стоят перед отсортированными четными"
   ]
  },
  {
   "cell_type": "code",
   "execution_count": 110,
   "metadata": {},
   "outputs": [],
   "source": [
    "def strange_sorting(string):\n",
    "    return sorted(string, \n",
    "                  key= lambda x: [x.lower() if x.isupper() else x.upper(), \n",
    "                                  int(x)%2 if x.isdigit() else x])\n",
    "                  #reverse=[False, True])"
   ]
  },
  {
   "cell_type": "code",
   "execution_count": 111,
   "metadata": {},
   "outputs": [
    {
     "data": {
      "text/plain": [
       "['1', '2', '3', '4', 'g', 'i', 'n', 'o', 'r', 't', 'S']"
      ]
     },
     "execution_count": 111,
     "metadata": {},
     "output_type": "execute_result"
    }
   ],
   "source": [
    "strange_sorting('Sorting1234')"
   ]
  },
  {
   "cell_type": "code",
   "execution_count": 143,
   "metadata": {},
   "outputs": [
    {
     "name": "stdout",
     "output_type": "stream",
     "text": [
      "ginortS1324\n",
      "aggnrsttEE30\n",
      "abbcddefgghiijkmnnqrrrsuuAADDFGHIJJPQRTVYZ11579924\n"
     ]
    }
   ],
   "source": [
    "def s_s(string):\n",
    "    numbers, up_let, low_let = [],[],[]\n",
    "    for chr in string:\n",
    "        if chr.isdigit(): numbers.append(chr)\n",
    "        elif chr.isupper(): up_let.append(chr)\n",
    "        elif chr.islower(): low_let.append(chr)\n",
    "    \n",
    "    return ''.join(sorted(low_let) + \\\n",
    "                sorted(up_let) + \\\n",
    "                    sorted(numbers, \n",
    "                           key=lambda x: [abs(int(x)%2-1), int(x)]))\n",
    "\n",
    "print(s_s('Sorting1234'))\n",
    "print(s_s('n0tEast3rEgg'))\n",
    "print(s_s('AnHTqir9brdQrgu5g71uhm1FaJ4fAZjbisIDnJVYekRPdGDc29'))"
   ]
  },
  {
   "attachments": {},
   "cell_type": "markdown",
   "metadata": {},
   "source": [
    "Если символ - буква, то возвращается один из двух кортежей: (0, 0, символ) - если символ строчный (0, 1, символ) - если символ заглавный Если же символ цифра, то будут следующие кортежи: (1, 0, символ) - если символ чётная цифра (1, 1, символ) - если символ нечётная цифра. Ну и происходит сравнение этих кортежей. А кортежи сравниваются поэлементно. Сначала нулевые индексы, затем первые, если нулевые совпадают, затем вторые, если первые совпадают. Вот и получается, что сначала идут строчные буквы (кортеж (0, 0, символ)), затем заглавные (кортеж (0, 1, символ)), потом чётные цифры (кортеж (1, 0, символ)), и, наконец, нечётные цифры (кортеж (1, 1, символ)) Вторым элементом кортежа у меня написано 0 или 1 потому, что булевый тип можно привести к этим значениям. True == 1 False == 0"
   ]
  },
  {
   "cell_type": "code",
   "execution_count": 145,
   "metadata": {},
   "outputs": [
    {
     "name": "stdout",
     "output_type": "stream",
     "text": [
      "abbcddefgghiijkmnnqrrrsuuAADDFGHIJJPQRTVYZ11579924\n"
     ]
    }
   ],
   "source": [
    "# решение через функцию для ключа сортировки\n",
    "\n",
    "def comparator(char):\n",
    "    if char.isalpha():\n",
    "        return 0, char.isupper(), char\n",
    "    digit = int(char)\n",
    "    return 1, digit % 2 == 0, digit\n",
    "\n",
    "string = 'AnHTqir9brdQrgu5g71uhm1FaJ4fAZjbisIDnJVYekRPdGDc29'\n",
    "\n",
    "print(''.join(sorted(string, key=comparator)))"
   ]
  },
  {
   "cell_type": "code",
   "execution_count": 144,
   "metadata": {},
   "outputs": [
    {
     "data": {
      "text/plain": [
       "[1, 3, 5, 9, 2, 4]"
      ]
     },
     "execution_count": 144,
     "metadata": {},
     "output_type": "execute_result"
    }
   ],
   "source": [
    "# вспомогательный код\n",
    "sorted([1,2,9,3,4,5], key=lambda x: [abs(x%2-1),x])"
   ]
  },
  {
   "attachments": {},
   "cell_type": "markdown",
   "metadata": {},
   "source": [
    "        Функция callable()\n",
    "        Функция callable() принимает в качестве аргумента некоторый объект и возвращает True, если переданный объект является вызываемым, или False в противном случае.\n",
    "\n"
   ]
  },
  {
   "cell_type": "code",
   "execution_count": 146,
   "metadata": {},
   "outputs": [
    {
     "name": "stdout",
     "output_type": "stream",
     "text": [
      "True\n",
      "True\n",
      "False\n",
      "False\n"
     ]
    }
   ],
   "source": [
    "print(callable(int))\n",
    "print(callable(list))\n",
    "print(callable(100))\n",
    "print(callable([1, 2, 3]))"
   ]
  },
  {
   "attachments": {},
   "cell_type": "markdown",
   "metadata": {},
   "source": [
    "        Функция hasattr()\n",
    "        Функция hasattr() используется для проверки существования атрибута. Она принимает два аргумента:\n",
    "\n",
    "        object — объект, в котором нужно проверить существование атрибута\n",
    "        name — имя проверяемого атрибута\n",
    "        Функция возвращает True, если object имеет атрибут name, или False в противном случае. "
   ]
  },
  {
   "cell_type": "code",
   "execution_count": 147,
   "metadata": {},
   "outputs": [
    {
     "name": "stdout",
     "output_type": "stream",
     "text": [
      "True\n",
      "True\n",
      "False\n"
     ]
    }
   ],
   "source": [
    "print(hasattr('stepik', 'isalpha'))\n",
    "print(hasattr([1, 2, 3], 'sort'))\n",
    "print(hasattr(13, 'to_str'))"
   ]
  },
  {
   "attachments": {},
   "cell_type": "markdown",
   "metadata": {},
   "source": [
    "        Функция hash()\n",
    "        Функция hash() принимает в качестве аргумента некоторый объект и возвращает целое число, представляющее хеш-значение переданного объекта. Большинство неизменяемых встроенных объектов Python являются хешируемыми и имеют хеш-значение. Изменяемые коллекции, такие как списки, множества и словари, не имеют хеш-значений.\n",
    "\n",
    "        хешируемый = неизменяемый\n",
    "\n",
    "        Кортежи (тип tuple) хешируемы только при условии, что их элементы являются хешируемыми."
   ]
  },
  {
   "cell_type": "code",
   "execution_count": 148,
   "metadata": {},
   "outputs": [
    {
     "name": "stdout",
     "output_type": "stream",
     "text": [
      "899\n",
      "69\n",
      "1738936442309958510\n",
      "529344067295497451\n",
      "0\n",
      "1\n"
     ]
    }
   ],
   "source": [
    "print(hash(899))\n",
    "print(hash(69.0))\n",
    "print(hash('timyrik'))\n",
    "print(hash((1, 2, 3)))\n",
    "print(hash(False))\n",
    "print(hash(True))"
   ]
  },
  {
   "attachments": {},
   "cell_type": "markdown",
   "metadata": {},
   "source": [
    "        Функция help()\n",
    "        Функция help() используется для получения документации по указанному модулю, функции или другому объекту. Она принимает в качестве аргумента либо сам объект, либо строку с именем объекта. Вызов без аргументов запускает интерактивную справочную систему в консоли интерпретатора (для выхода используйте quit)"
   ]
  },
  {
   "cell_type": "code",
   "execution_count": 149,
   "metadata": {},
   "outputs": [
    {
     "name": "stdout",
     "output_type": "stream",
     "text": [
      "Help on built-in function print in module builtins:\n",
      "\n",
      "print(...)\n",
      "    print(value, ..., sep=' ', end='\\n', file=sys.stdout, flush=False)\n",
      "    \n",
      "    Prints the values to a stream, or to sys.stdout by default.\n",
      "    Optional keyword arguments:\n",
      "    file:  a file-like object (stream); defaults to the current sys.stdout.\n",
      "    sep:   string inserted between values, default a space.\n",
      "    end:   string appended after the last value, default a newline.\n",
      "    flush: whether to forcibly flush the stream.\n",
      "\n",
      "Help on built-in function sorted in module builtins:\n",
      "\n",
      "sorted(iterable, /, *, key=None, reverse=False)\n",
      "    Return a new list containing all items from the iterable in ascending order.\n",
      "    \n",
      "    A custom key function can be supplied to customize the sort order, and the\n",
      "    reverse flag can be set to request the result in descending order.\n",
      "\n"
     ]
    }
   ],
   "source": [
    "help(print)\n",
    "help('sorted')"
   ]
  },
  {
   "attachments": {},
   "cell_type": "markdown",
   "metadata": {},
   "source": [
    "        Функция repr()\n",
    "        Функция repr() принимает в качестве аргумента некоторый объект и возвращает строку, содержащую формальное (понятное интерпретатору) представление переданного объекта."
   ]
  },
  {
   "cell_type": "code",
   "execution_count": 150,
   "metadata": {},
   "outputs": [
    {
     "name": "stdout",
     "output_type": "stream",
     "text": [
      "'stepik'\n",
      "[1, 2, 3, 4]\n",
      "datetime.date(2022, 1, 16)\n"
     ]
    }
   ],
   "source": [
    "from datetime import date\n",
    "\n",
    "print(repr('stepik'))\n",
    "print(repr([1, 2, 3, 4]))\n",
    "print(repr(date(2022, 1, 16)))"
   ]
  },
  {
   "attachments": {},
   "cell_type": "markdown",
   "metadata": {},
   "source": [
    "#### Задача"
   ]
  },
  {
   "attachments": {},
   "cell_type": "markdown",
   "metadata": {},
   "source": [
    "        Функция hash_as_key()\n",
    "        Реализуйте функцию hash_as_key(), которая принимает один аргумент:\n",
    "\n",
    "        objects — список хешируемых объектов\n",
    "        Функция должна возвращать словарь, ключом в котором является хеш-значение объекта из списка objects, а значением — сам объект. Если хеш-значения некоторых объектов совпадают, их следует объединить в список.\n",
    "\n",
    "        Примечание 1. Элементы в возвращаемом функцией словаре, а также объекты в списке, имеющие равные хеш-значения, должны располагаться в своем исходном порядке."
   ]
  },
  {
   "cell_type": "code",
   "execution_count": 178,
   "metadata": {},
   "outputs": [
    {
     "name": "stdout",
     "output_type": "stream",
     "text": [
      "{1: 1, 2: 2, 3: 3, 4: 4, 5: [5, 5]}\n",
      "{11: 11, 22: 22, 33: 33, 44: 44, 55: 55, 66: 66, 77: 77, 88: 88, 99: 99, 111: 111}\n",
      "{-2: [-1, -2], -3: -3, -4: -4, -5: -5}\n",
      "{5: [5, 5, 5]}\n"
     ]
    }
   ],
   "source": [
    "def hash_as_key(objects):\n",
    "    res = {}\n",
    "    for dic in [{hash(el) : el} for el in data]:\n",
    "        key = list(dic.keys())[0]\n",
    "        if  key not in res: res.update(dic)\n",
    "        else: \n",
    "            if isinstance(res[key], list): res[key].append(dic[key])\n",
    "            else: res[key] = [res[key], dic[key]]\n",
    "    return res\n",
    "\n",
    "data = [1, 2, 3, 4, 5, 5]\n",
    "print(hash_as_key(data))\n",
    "\n",
    "data = [11, 22, 33, 44, 55, 66, 77, 88, 99, 111]\n",
    "print(hash_as_key(data))\n",
    "\n",
    "data = [-1, -2, -3, -4, -5]\n",
    "print(hash_as_key(data))\n",
    "\n",
    "data = [5, 5, 5]\n",
    "print(hash_as_key(data))"
   ]
  },
  {
   "cell_type": "code",
   "execution_count": 174,
   "metadata": {},
   "outputs": [
    {
     "data": {
      "text/plain": [
       "[1, 2, 3, 4, 5, -2, -2, 1, 6, 1]"
      ]
     },
     "execution_count": 174,
     "metadata": {},
     "output_type": "execute_result"
    }
   ],
   "source": [
    "data = [1, 2, 3, 4, 5, -1, -2, 1, 6, 1]\n",
    "hash_data = [hash(elem) for elem in data]\n",
    "hash_data"
   ]
  },
  {
   "cell_type": "code",
   "execution_count": 177,
   "metadata": {},
   "outputs": [
    {
     "name": "stdout",
     "output_type": "stream",
     "text": [
      "[{1: 1}, {2: 2}, {3: 3}, {4: 4}, {5: 5}, {-2: -1}, {-2: -2}, {1: 1}, {6: 6}, {1: 1}]\n",
      "{1: 1}\n",
      "{1: 1, 2: 2}\n",
      "{1: 1, 2: 2, 3: 3}\n",
      "{1: 1, 2: 2, 3: 3, 4: 4}\n",
      "{1: 1, 2: 2, 3: 3, 4: 4, 5: 5}\n",
      "{1: 1, 2: 2, 3: 3, 4: 4, 5: 5, -2: -1}\n",
      "{1: 1, 2: 2, 3: 3, 4: 4, 5: 5, -2: [-1, -2]}\n",
      "{1: [1, 1], 2: 2, 3: 3, 4: 4, 5: 5, -2: [-1, -2]}\n",
      "{1: [1, 1], 2: 2, 3: 3, 4: 4, 5: 5, -2: [-1, -2], 6: 6}\n",
      "{1: [1, 1, 1], 2: 2, 3: 3, 4: 4, 5: 5, -2: [-1, -2], 6: 6}\n",
      "{1: [1, 1, 1], 2: 2, 3: 3, 4: 4, 5: 5, -2: [-1, -2], 6: 6}\n"
     ]
    }
   ],
   "source": [
    "hashed_dicts = [{hash(el) : el} for el in data]\n",
    "print(hashed_dicts)\n",
    "\n",
    "res = {}\n",
    "for dic in hashed_dicts:\n",
    "    key = list(dic.keys())[0]\n",
    "    if  key not in res:\n",
    "        res.update(dic)\n",
    "    else: \n",
    "        if isinstance(res[key], list): res[key].append(dic[key])\n",
    "        else: res[key] = [res[key], dic[key]]\n",
    "    print(res)\n",
    "print(res)"
   ]
  },
  {
   "cell_type": "code",
   "execution_count": 162,
   "metadata": {},
   "outputs": [
    {
     "data": {
      "text/plain": [
       "{-2: [-1, -2]}"
      ]
     },
     "execution_count": 162,
     "metadata": {},
     "output_type": "execute_result"
    }
   ],
   "source": [
    "a,d = {-2: -1}, {-2: -2}\n",
    "d[-2] = [a[-2], d[-2]]\n",
    "\n",
    "d"
   ]
  },
  {
   "attachments": {},
   "cell_type": "markdown",
   "metadata": {},
   "source": [
    "        Функция eval()\n",
    "        Функция eval() выполняет строку-выражение, переданную ей в качестве обязательного аргумента, и возвращает результат выполнения этой строки. Аргумент функции:\n",
    "\n",
    "        expression — строка-выражение, которую требуется исполнить\n",
    "        Для выполнения строки-выражения, функция eval() совершает следующие шаги:\n",
    "\n",
    "        - Парсит (parse) выражение\n",
    "        - Компилирует (compile) выражение в байт-код\n",
    "        - Вычисляет (evaluate) значение выражения\n",
    "        - Возвращает (return) результат вычисления\n",
    "\n",
    "         не все языковые конструкции являются выражениями (expression). Операторами, которые нельзя использовать в качестве выражений, являются, например, while, for, if, def, import, class, raise и т.д.\n",
    "         Но Если ключевое слово for используется в списочном выражении, то функция eval() может его вычислить\n",
    "\n"
   ]
  },
  {
   "cell_type": "code",
   "execution_count": 179,
   "metadata": {},
   "outputs": [
    {
     "name": "stdout",
     "output_type": "stream",
     "text": [
      "<class 'int'>\n",
      "17\n"
     ]
    }
   ],
   "source": [
    "expression = '7 + 10'\n",
    "\n",
    "result = eval(expression)\n",
    "\n",
    "print(type(result))\n",
    "print(result)"
   ]
  },
  {
   "cell_type": "code",
   "execution_count": 180,
   "metadata": {},
   "outputs": [
    {
     "name": "stdout",
     "output_type": "stream",
     "text": [
      "Привет из функции eval()\n",
      "None\n",
      "5\n"
     ]
    }
   ],
   "source": [
    "expression1 = \"print('Привет из функции eval()')\"\n",
    "expression2 = \"len([1, 1, 1, 1, 1])\"\n",
    "\n",
    "result1 = eval(expression1)\n",
    "result2 = eval(expression2)\n",
    "\n",
    "print(result1)\n",
    "print(result2)"
   ]
  },
  {
   "cell_type": "code",
   "execution_count": 181,
   "metadata": {},
   "outputs": [
    {
     "name": "stdout",
     "output_type": "stream",
     "text": [
      "Привет из функции eval()\n",
      "None\n"
     ]
    }
   ],
   "source": [
    "expression1 = \"print('Привет из функции eval()')\"\n",
    "\n",
    "result1 = eval(expression1)\n",
    "\n",
    "print(result1)\n"
   ]
  },
  {
   "cell_type": "code",
   "execution_count": 182,
   "metadata": {},
   "outputs": [
    {
     "name": "stdout",
     "output_type": "stream",
     "text": [
      "5\n"
     ]
    }
   ],
   "source": [
    "expression2 = \"len([1, 1, 1, 1, 1])\"\n",
    "\n",
    "result2 = eval(expression2)\n",
    "\n",
    "print(result2)"
   ]
  },
  {
   "attachments": {},
   "cell_type": "markdown",
   "metadata": {},
   "source": [
    "Парсинг объектов\n",
    "\n",
    "С помощью функции eval() можно парсить объекты, то есть преобразовывать из строки в реальные Python объекты"
   ]
  },
  {
   "cell_type": "code",
   "execution_count": 187,
   "metadata": {},
   "outputs": [
    {
     "name": "stdout",
     "output_type": "stream",
     "text": [
      "<class 'list'> 3\n",
      "<class 'tuple'> 5\n",
      "<class 'dict'> February\n"
     ]
    }
   ],
   "source": [
    "list_data = eval(\"['Python', 'C#', 'Java']\")\n",
    "tuple_data = eval('(1, 2, 3, 4, 5)')\n",
    "dict_data = eval(\"{1: 'January', 2: 'February'}\")\n",
    "\n",
    "print(type(list_data), len(list_data))\n",
    "print(type(tuple_data), max(tuple_data))\n",
    "print(type(dict_data), dict_data[2])"
   ]
  },
  {
   "attachments": {},
   "cell_type": "markdown",
   "metadata": {},
   "source": [
    "        Функция exec()\n",
    "        Функция exec(), в отличие от eval(), принимает блок кода и выполняет его, возвращая значение None. Аргумент функции:\n",
    "\n",
    "        code — строка, представляющая собой корректный блок кода"
   ]
  },
  {
   "cell_type": "code",
   "execution_count": 188,
   "metadata": {},
   "outputs": [
    {
     "name": "stdout",
     "output_type": "stream",
     "text": [
      "30\n"
     ]
    }
   ],
   "source": [
    "code = '''a = 10\n",
    "b = 20\n",
    "print(a + b)'''\n",
    "\n",
    "exec(code)"
   ]
  },
  {
   "cell_type": "code",
   "execution_count": 189,
   "metadata": {},
   "outputs": [
    {
     "name": "stdout",
     "output_type": "stream",
     "text": [
      "None\n"
     ]
    }
   ],
   "source": [
    "# функция exec() именно выполняет переданный блок кода и всегда возвращает значение None.\n",
    "\n",
    "code = '100 + 10*7 - 14'\n",
    "\n",
    "result = exec(code)\n",
    "\n",
    "print(result)"
   ]
  },
  {
   "cell_type": "code",
   "execution_count": 190,
   "metadata": {},
   "outputs": [
    {
     "name": "stdout",
     "output_type": "stream",
     "text": [
      "[1, 2, 3, 4, 5]\n",
      "15\n",
      "5\n"
     ]
    }
   ],
   "source": [
    "# Блок кода, передаваемый в качестве аргумента функции exec(), имеет доступ ко всем встроенным функциям Python.\n",
    "\n",
    "code1 = 'print(sorted([3, 5, 4, 1, 2]))'\n",
    "code2 = 'print(sum([3, 5, 4, 1, 2]))'\n",
    "code3 = 'print(len([3, 5, 4, 1, 2]))'\n",
    "\n",
    "exec(code1)\n",
    "exec(code2)\n",
    "exec(code3)"
   ]
  },
  {
   "cell_type": "code",
   "execution_count": 191,
   "metadata": {},
   "outputs": [
    {
     "name": "stdout",
     "output_type": "stream",
     "text": [
      "15\n",
      "Timur Guev\n"
     ]
    }
   ],
   "source": [
    "# Блок кода, передаваемый в качестве аргумента функции exec(), имеет доступ ко всем локальным и глобальным переменным.\n",
    "\n",
    "numbers = [1, 2, 3, 4, 5]\n",
    "info = {'name': 'Timur', 'surname': 'Guev'}\n",
    "\n",
    "code1 = '''total = 0\n",
    "for i in numbers:\n",
    "    total += i\n",
    "print(total)'''\n",
    "code2 = 'print(info[\"name\"], info[\"surname\"])'\n",
    "\n",
    "exec(code1)\n",
    "exec(code2)"
   ]
  },
  {
   "cell_type": "code",
   "execution_count": 193,
   "metadata": {},
   "outputs": [
    {
     "name": "stdout",
     "output_type": "stream",
     "text": [
      "10\n"
     ]
    }
   ],
   "source": [
    "code = \"\"\"a = 10\"\"\"\n",
    "exec(code)  # вернет None , но код выполнит и объявит переменную\n",
    "print(a)\n"
   ]
  },
  {
   "cell_type": "code",
   "execution_count": 194,
   "metadata": {},
   "outputs": [
    {
     "name": "stdout",
     "output_type": "stream",
     "text": [
      "[1, 3, 4, 7, 9]\n"
     ]
    }
   ],
   "source": [
    "obj = eval('[7, 4, 3, 1, 9]')\n",
    "\n",
    "if hasattr(obj, 'sort'):\n",
    "    obj.sort()\n",
    "    \n",
    "print(obj)"
   ]
  },
  {
   "attachments": {},
   "cell_type": "markdown",
   "metadata": {},
   "source": [
    "Задача\n",
    "\n",
    "        Коллекции\n",
    "        Напишите программу, которая принимает на вход корректный непустой список, корректный непустой кортеж или корректное произвольной длины множество, и выполняет следующее:\n",
    "\n",
    "        если введен список, выводит его последний элемент\n",
    "        если введен кортеж, выводит его первый элемент\n",
    "        если введено множество, выводит количество его элементов"
   ]
  },
  {
   "cell_type": "code",
   "execution_count": 200,
   "metadata": {},
   "outputs": [
    {
     "name": "stdout",
     "output_type": "stream",
     "text": [
      "[5, 6]\n"
     ]
    }
   ],
   "source": [
    "def cond_print(smth):\n",
    "    collection = eval(smth)\n",
    "    if isinstance(collection, list):  return print(collection[-1])\n",
    "    elif isinstance(collection, tuple): return print(collection[0])\n",
    "    elif isinstance(collection, set):  return print(len(collection))\n",
    "\n",
    "\n",
    "cond_print(input())"
   ]
  },
  {
   "attachments": {},
   "cell_type": "markdown",
   "metadata": {},
   "source": [
    "        Математические выражения\n",
    "        Напишите программу, которая принимает на вход произвольное количество строк, содержащих корректные математические выражения, и выводит значение наибольшего из них.\n",
    "\n",
    "        Формат входных данных\n",
    "        На вход программе подается произвольное количество строк, каждое из которых содержит корректное математическое выражение."
   ]
  },
  {
   "cell_type": "code",
   "execution_count": null,
   "metadata": {},
   "outputs": [],
   "source": [
    "from sys import stdin\n",
    "math_expression = [line.strip() for line in stdin.readlines()]\n",
    "\n",
    "print(max([eval(expr) for expr in math_expression ]))"
   ]
  },
  {
   "attachments": {},
   "cell_type": "markdown",
   "metadata": {},
   "source": [
    "        Минимум и максимум\n",
    "        Напишите программу, которая определяет минимальное и максимальное значения функции на отрезке в целых точках.\n",
    "\n",
    "        Формат входных данных\n",
    "        На вход программе в первой строке подается корректная функция \n",
    "        f(x), в следующей строке вводятся два целых числа \n",
    "        a и b, разделенные пробелом, которые представляют границы отрезка \n",
    "        [a;b].\n",
    "\n",
    "        "
   ]
  },
  {
   "cell_type": "code",
   "execution_count": 293,
   "metadata": {},
   "outputs": [
    {
     "name": "stdout",
     "output_type": "stream",
     "text": [
      "Минимальное значение функции 2*x**2 + 5*x + 7 на отрезке [-1; 5] равно 4\n",
      "Максимальное значение функции 2*x**2 + 5*x + 7 на отрезке [-1; 5] равно 82\n"
     ]
    }
   ],
   "source": [
    "f = input()\n",
    "a,b = [int(el) for el in input().split()]\n",
    "all_values = [eval(f) for x in range(a, b+1)]\n",
    "\n",
    "print(f'Минимальное значение функции {f} на отрезке [{a}; {b}] равно {min(all_values)}')\n",
    "print(f'Максимальное значение функции {f} на отрезке [{a}; {b}] равно {max(all_values)}')\n",
    "\n"
   ]
  },
  {
   "attachments": {},
   "cell_type": "markdown",
   "metadata": {},
   "source": [
    "Таблица производных"
   ]
  },
  {
   "attachments": {
    "image.png": {
     "image/png": "[encoded data removed]"
    }
   },
   "cell_type": "markdown",
   "metadata": {},
   "source": [
    "![image.png](attachment:image.png)"
   ]
  },
  {
   "attachments": {},
   "cell_type": "markdown",
   "metadata": {},
   "source": [
    "### Алгоритм нахождения наибольшего и наименьшего значения непрерывной функции на отрезке\n",
    "Как определить наибольшее и наименьшее значения функции на отрезке?\n",
    "\n",
    "        Найдём область определения данной функции и проверим, входит ли в неё заданный отрезок.\n",
    "\n",
    "        Найдём производную данной функции.\n",
    "\n",
    "        Приравняем производную к нулю и найдём точки, в которых она обращается в нуль (решим уравнение).\n",
    "\n",
    "        Выберем из корней уравнения те точки, которые попадают в заданный промежуток, и вычислим значение функции в них.\n",
    "\n",
    "        Возьмём точки начала и конца отрезка и найдём значение функции в них.\n",
    "\n",
    "        Сделаем вывод о наибольшем и наименьшем значении функции. \n",
    "\n",
    "https://skysmart.ru/articles/mathematic/nahozhdeniya-naibolshego-i-naimenshego-znacheniya-funkcii"
   ]
  },
  {
   "cell_type": "code",
   "execution_count": 282,
   "metadata": {},
   "outputs": [
    {
     "name": "stdout",
     "output_type": "stream",
     "text": [
      "2*x + 4\n",
      "Значения Х ..................[-3 -2 -1  0  1  2  3  4]\n",
      "Значения производной функции [-2  0  2  4  6  8 10 12]\n",
      "производная равна 0 при х =  -2\n"
     ]
    }
   ],
   "source": [
    "from sympy import *\n",
    "import numpy as np\n",
    "x = Symbol('x')\n",
    "y = x**2 + x*4              # здесь задаем функцию\n",
    "yprime = y.diff(x)          # здесь вычисляем ее производную из библиотеки sympy\n",
    "print(yprime)           \n",
    "\n",
    "f_diff = lambdify(x, yprime, 'numpy')    # здесь задаем порядоек работы функции со значениями x + указываем вид последовательности\n",
    "x_seq = np.array([-3,-2,-1,0,1,2,3,4])        # здесь задаем отрезок значений аргумента (например на отрезке [0,4])\n",
    "print(f'Значения Х ..................{x_seq}')\n",
    "#print(f'Значения функции на концах отрезка [{}, {}]')\n",
    "print(f'Значения производной функции {f_diff(x_seq)}')    # здесь получаем массив значений производной функции на этом отрезке\n",
    "\n",
    "for ind, x in enumerate(x_seq):\n",
    "    if f_diff(x_seq)[ind] == 0: print('производная равна 0 при х = ', x)\n",
    "\n"
   ]
  },
  {
   "cell_type": "code",
   "execution_count": 280,
   "metadata": {},
   "outputs": [
    {
     "data": {
      "text/plain": [
       "array([-3, 45])"
      ]
     },
     "execution_count": 280,
     "metadata": {},
     "output_type": "execute_result"
    }
   ],
   "source": [
    "from sympy import *\n",
    "import numpy as np\n",
    "x = Symbol('x')\n",
    "y = x**2 + x*4 \n",
    "\n",
    "f_orig = lambdify(x, y, 'numpy')\n",
    "\n",
    "f_orig(np.array([-1,5]))"
   ]
  },
  {
   "cell_type": "code",
   "execution_count": 283,
   "metadata": {},
   "outputs": [
    {
     "name": "stdout",
     "output_type": "stream",
     "text": [
      "2*x + 4\n",
      "x**2 + 4*x\n"
     ]
    }
   ],
   "source": [
    "from sympy import *\n",
    "import numpy as np\n",
    "x = Symbol('x')\n",
    "y = x**2 + x*4              # здесь задаем функцию\n",
    "yprime = y.diff(x)          # здесь вычисляем ее производную из библиотеки sympy\n",
    "print(yprime)\n",
    "\n",
    "x=2\n",
    "print(y)"
   ]
  },
  {
   "cell_type": "code",
   "execution_count": null,
   "metadata": {},
   "outputs": [],
   "source": []
  }
 ],
 "metadata": {
  "kernelspec": {
   "display_name": "Python 3",
   "language": "python",
   "name": "python3"
  },
  "language_info": {
   "codemirror_mode": {
    "name": "ipython",
    "version": 3
   },
   "file_extension": ".py",
   "mimetype": "text/x-python",
   "name": "python",
   "nbconvert_exporter": "python",
   "pygments_lexer": "ipython3",
   "version": "3.10.7"
  },
  "orig_nbformat": 4
 },
 "nbformat": 4,
 "nbformat_minor": 2
}
