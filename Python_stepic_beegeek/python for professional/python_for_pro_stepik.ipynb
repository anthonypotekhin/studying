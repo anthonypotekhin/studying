{
 "cells": [
  {
   "attachments": {},
   "cell_type": "markdown",
   "metadata": {},
   "source": [
    "### Разогрев: вспоминаем навыки"
   ]
  },
  {
   "attachments": {},
   "cell_type": "markdown",
   "metadata": {},
   "source": [
    "        Задача 1: Функция должна возвращать новый список, элементами которого являются числа из списка numbers, имеющие ту же четность, что и первый элемент этого списка."
   ]
  },
  {
   "cell_type": "code",
   "execution_count": 1,
   "metadata": {},
   "outputs": [],
   "source": [
    "def same_parity(numbers):\n",
    "    return [i for i in numbers if i%2 == numbers[0]%2]"
   ]
  },
  {
   "attachments": {},
   "cell_type": "markdown",
   "metadata": {},
   "source": [
    "        Будем считать, что PIN-код является корректным, если он удовлетворяет следующим условиям:\n",
    "\n",
    "состоит из \n",
    "4\n",
    "4, \n",
    "5\n",
    "5 или \n",
    "6\n",
    "6 символов\n",
    "состоит только из цифр (\n",
    "0\n",
    "−\n",
    "9\n",
    "0−9)\n",
    "\n",
    "не содержит пробелов"
   ]
  },
  {
   "cell_type": "code",
   "execution_count": 2,
   "metadata": {},
   "outputs": [
    {
     "name": "stdout",
     "output_type": "stream",
     "text": [
      "True\n"
     ]
    }
   ],
   "source": [
    "def is_valid(string):\n",
    "    return (len(string) in range(4,7)) and (string.isdigit()) and (not ' ' in string)\n",
    "\n",
    "print(is_valid('4367'))"
   ]
  },
  {
   "attachments": {},
   "cell_type": "markdown",
   "metadata": {},
   "source": [
    "        Реализуйте функцию print_given(), которая принимает произвольное количество позиционных и именованных аргументов и выводит все переданные аргументы, указывая тип каждого. Пары аргумент-тип должны выводиться каждая на отдельной строке, в следующем формате:\n",
    "\n",
    "для позиционных аргументов:\n",
    "<значение аргумента> <тип аргумента>\n",
    "для именованных аргументов:\n",
    "<имя переменной> <значение аргумента> <тип аргумента>\n",
    "Примечание 1. При выводе позиционные аргументы должны быть расположены в порядке их передачи, именованные — в лексикографическом порядке имен переменных.\n",
    "\n",
    "Примечание 2. При выводе сначала должны следовать все позиционные аргументы, затем — все именованные.\n",
    "\n",
    "Примечание 3. Если в функцию ничего не передается, функция ничего не должна выводить."
   ]
  },
  {
   "cell_type": "code",
   "execution_count": 3,
   "metadata": {},
   "outputs": [
    {
     "name": "stdout",
     "output_type": "stream",
     "text": [
      "1 <class 'int'>\n",
      "[1, 2, 3] <class 'list'>\n",
      "three <class 'str'>\n",
      "two 2 <class 'int'>\n"
     ]
    },
    {
     "data": {
      "text/plain": [
       "(None, None)"
      ]
     },
     "execution_count": 3,
     "metadata": {},
     "output_type": "execute_result"
    }
   ],
   "source": [
    "def print_given(*args, **kwargs):\n",
    "    if args ==() and kwargs =={}: return\n",
    "    else:\n",
    "        return (print(*[f'{arg_val} {type(arg_val)}' for arg_val in args], sep = '\\n') , \n",
    "                print(*sorted([f'{key_val} {kwargs[key_val]} {type(kwargs[key_val])}'  for key_val in kwargs]), sep = '\\n'))\n",
    "\n",
    "\n",
    "print_given(1, [1, 2, 3], 'three', two=2)"
   ]
  },
  {
   "attachments": {},
   "cell_type": "markdown",
   "metadata": {},
   "source": [
    "        Реализуйте функцию convert(), которая принимает один аргумент:\n",
    "\n",
    "        string — произвольная строка\n",
    "        Функция должна возвращать строку string:\n",
    "\n",
    "        полностью в нижнем регистре, если букв в нижнем регистре в этой строке больше\n",
    "        полностью в верхнем регистре, если букв в верхнем регистре в этой строке больше\n",
    "        полностью в нижнем регистре, если количество букв в верхнем и нижнем регистрах в этой строке совпадает"
   ]
  },
  {
   "cell_type": "code",
   "execution_count": 4,
   "metadata": {},
   "outputs": [
    {
     "name": "stdout",
     "output_type": "stream",
     "text": [
      "pi31415!\n"
     ]
    }
   ],
   "source": [
    "def convert(string):\n",
    "    letters_lst = [let for let in list(string) if let.isalpha()]\n",
    "    condition = (len([let_low for let_low in letters_lst if let_low.islower()]) >= \n",
    "                 len([let_low for let_low in letters_lst if let_low.isupper()]))\n",
    "    return (string.upper(), string.lower())[condition]\n",
    "\n",
    "print(convert('pi31415!'))\n"
   ]
  },
  {
   "attachments": {},
   "cell_type": "markdown",
   "metadata": {},
   "source": [
    "        Анаграммы — это слова, которые состоят из одинаковых букв. Например:\n",
    "\n",
    "        адаптер — петарда\n",
    "        адресочек — середочка\n",
    "        азбука — базука\n",
    "        аистенок — осетинка\n",
    "        Реализуйте функцию filter_anagrams(), которая принимает два аргумента в следующем порядке:\n",
    "\n",
    "        word — слово в нижнем регистре\n",
    "        words — список слов в нижнем регистре\n",
    "        Функция должна возвращать список, элементами которого являются слова из списка words, которые представляют анаграмму слова word. Если список words пуст или не содержит анаграмм, функция должна вернуть пустой список."
   ]
  },
  {
   "cell_type": "code",
   "execution_count": 5,
   "metadata": {},
   "outputs": [],
   "source": [
    "def filter_anagrams(word, words):\n",
    "    return [ann_word for ann_word in words if sorted(list(word)) == sorted(list(ann_word))]"
   ]
  },
  {
   "attachments": {},
   "cell_type": "markdown",
   "metadata": {},
   "source": [
    "        В различных социальных сетях существуют системы лайков, которые в зависимости от количества людей, оценивших запись, показывают соответствующую информацию.\n",
    "\n",
    "        Реализуйте функцию likes(), которая принимает один аргумент:\n",
    "\n",
    "        names — список имён\n",
    "        Функция должна возвращать строку в соответствии с примерами ниже, содержание которой зависит от количества имён в списке names."
   ]
  },
  {
   "cell_type": "code",
   "execution_count": 6,
   "metadata": {},
   "outputs": [
    {
     "name": "stdout",
     "output_type": "stream",
     "text": [
      "Никто не оценил данную запись\n",
      "Тимур оценил(а) данную запись\n",
      "Тимур и Артур оценили данную запись\n",
      "Тимур, Артур и Руслан оценили данную запись\n",
      "Тимур, Артур и 2 других оценили данную запись\n",
      "Тимур, Артур и 3 других оценили данную запись\n",
      "Тимур, Артур и 6 других оценили данную запись\n"
     ]
    }
   ],
   "source": [
    "def likes(names):\n",
    "    num_likes = len(names)\n",
    "    if num_likes ==0: return 'Никто не оценил данную запись'\n",
    "    elif num_likes ==1 : return f'{names[0]} оценил(а) данную запись'\n",
    "    elif num_likes== 2: return f'{names[0]} и {names[1]} оценили данную запись'\n",
    "    elif num_likes== 3: return f'{names[0]}, {names[1]} и {names[2]} оценили данную запись'\n",
    "    else: return f'{names[0]}, {names[1]} и {len(names[2:])} других оценили данную запись'\n",
    "\n",
    "print(likes([]))\n",
    "print(likes(['Тимур']))\n",
    "print(likes(['Тимур', 'Артур']))\n",
    "print(likes(['Тимур', 'Артур', 'Руслан']))\n",
    "print(likes(['Тимур', 'Артур', 'Руслан', 'Анри']))\n",
    "print(likes(['Тимур', 'Артур', 'Руслан', 'Анри', 'Дима']))\n",
    "print(likes(['Тимур', 'Артур', 'Руслан', 'Анри', 'Дима', 'Рома', 'Гвидо', 'Марк']))"
   ]
  },
  {
   "attachments": {},
   "cell_type": "markdown",
   "metadata": {},
   "source": [
    "                Реализуйте функцию index_of_nearest(), которая принимает два аргумента в следующем порядке:\n",
    "\n",
    "numbers — список целых чисел\n",
    "\n",
    "number — целое число\n",
    "\n",
    "Функция должна находить в списке numbers ближайшее по значению число к числу number и возвращать его индекс. Если список numbers пуст, функция должна вернуть число −1.\n",
    "\n",
    "Примечание 1. Если в функцию передается список, содержащий несколько чисел, одновременно являющихся ближайшими к искомому числу, функция должна возвращать наименьший из индексов ближайших чисел.\n",
    "\n",
    "Примечание 2. Рассмотрим третий тест. Ближайшими числами к числу \n",
    "4\n",
    "4 являются \n",
    "5\n",
    "5 и \n",
    "3\n",
    "3, имеющие индексы \n",
    "1\n",
    "1 и \n",
    "2\n",
    "2 соответственно. Наименьший из индексов равен \n",
    "1\n",
    "1."
   ]
  },
  {
   "cell_type": "code",
   "execution_count": 7,
   "metadata": {},
   "outputs": [
    {
     "name": "stdout",
     "output_type": "stream",
     "text": [
      "-1\n",
      "2\n"
     ]
    }
   ],
   "source": [
    "def index_of_nearest(numbers, number):\n",
    "    if len(numbers)!=0:\n",
    "        from operator import sub\n",
    "        diff_lst = list(map(lambda x: abs(sub(x,number)), numbers ))\n",
    "        min_diff_num = min(diff_lst)\n",
    "        return diff_lst.index(min_diff_num)\n",
    "    else: return -1\n",
    "\n",
    "print(index_of_nearest([], 17))\n",
    "print(index_of_nearest([7, 5, 4, 4, 3], 4))"
   ]
  },
  {
   "attachments": {},
   "cell_type": "markdown",
   "metadata": {},
   "source": [
    "        Реализуйте функцию spell(), которая принимает произвольное количество позиционных аргументов-слов и возвращает словарь, ключи которого — первые буквы слов, а значения — максимальные длины слов на эту букву.\n",
    "\n",
    "        Примечание 1. Если в функцию не передается ни одного аргумента, функция должна возвращать пустой словарь.\n",
    "\n",
    "        Примечание 2. Функция должна игнорировать регистр слов, при этом в результирующий словарь должны попасть именно буквы в нижнем регистре."
   ]
  },
  {
   "attachments": {},
   "cell_type": "markdown",
   "metadata": {},
   "source": [
    "Немного опишу решение для себя:\n",
    "1) создаем пустой словарь\n",
    "2) запускаем цикл по всем словам в переданной последовательности\n",
    "3) убираем все до нижнего регистра\n",
    "4) говорим добавлять в словарь ключ = первой букве слова в нижнем регистре\n",
    "5) значение - брать максимальное из двух:\n",
    "- длина слова в данной итерации (если первая буква этого слова еще не участвовала в итерациях цикла)\n",
    "- значение длины слова, которое уже прошло через итерацию цикла"
   ]
  },
  {
   "cell_type": "code",
   "execution_count": 8,
   "metadata": {},
   "outputs": [
    {
     "name": "stdout",
     "output_type": "stream",
     "text": [
      "{'м': 10, 'и': 11, 'х': 5, 'б': 8}\n"
     ]
    }
   ],
   "source": [
    "def spell(*args):\n",
    "    if args== (): return {}\n",
    "    else: \n",
    "        dic_word_len = {}\n",
    "        for word in args:\n",
    "            word = word.lower()\n",
    "            dic_word_len[word[0]] = max(len(word), dic_word_len.get(word[0],0))\n",
    "        return dic_word_len\n",
    "    \n",
    "print(spell('Математика', 'История', 'химия', 'биология', 'Информатика'))"
   ]
  },
  {
   "attachments": {},
   "cell_type": "markdown",
   "metadata": {},
   "source": [
    "        Реализуйте функцию choose_plural(), которая принимает два аргумента в следующем порядке:\n",
    "\n",
    "        amount — натуральное число, количество\n",
    "        declensions — кортеж из трех вариантов склонения существительного\n",
    "        Функция должна возвращать строку, полученную путем объединения подходящего существительного из кортежа declensions и количества amount, в следующем формате:\n",
    "\n",
    "        <количество> <существительное>\n",
    "        Примечание 1. Передаваемый в функцию кортеж легко составить по мнемоническому правилу: один, два, пять. Например:\n",
    "\n",
    "        для слова «арбуз»: арбуз, арбуза, арбузов\n",
    "        для слова «рубль»: рубль, рубля, рублей"
   ]
  },
  {
   "cell_type": "code",
   "execution_count": 4,
   "metadata": {},
   "outputs": [
    {
     "name": "stdout",
     "output_type": "stream",
     "text": [
      "<class 'str'>\n",
      "512312 центов\n",
      "CPU times: user 546 µs, sys: 366 µs, total: 912 µs\n",
      "Wall time: 1.66 ms\n"
     ]
    }
   ],
   "source": [
    "%%time\n",
    "\n",
    "def choose_plural(amount, declensions):\n",
    "    dic_ends_long = {'1': 0, '234': 1, '056789': 2}\n",
    "    dic_ends_sh = {('11','12','13','14'): 2}\n",
    "\n",
    "    if str(amount)[-2:] in (list(dic_ends_sh.keys())[0]): tr_index = 2\n",
    "    else: \n",
    "        for key in dic_ends_long:\n",
    "            if str(amount)[-1] in key:\n",
    "                tr_index = (dic_ends_long[key])\n",
    "                break \n",
    "    return f'{amount} {declensions[tr_index]}'\n",
    "\n",
    "print(choose_plural(92, ('гвоздь', 'гвоздя', 'гвоздей')))\n",
    "print(choose_plural(512312, ('цент', 'цента', 'центов')))"
   ]
  },
  {
   "attachments": {},
   "cell_type": "markdown",
   "metadata": {},
   "source": [
    "        Реализуйте функцию get_biggest(), которая принимает один аргумент:\n",
    "\n",
    "        numbers — список целых неотрицательных чисел\n",
    "        Функция должна возвращать наибольшее число, которое можно составить из чисел из списка numbers. Если список numbers пуст, функция должна вернуть число −1."
   ]
  },
  {
   "attachments": {},
   "cell_type": "markdown",
   "metadata": {},
   "source": [
    "Так, решение для меня:\n",
    "1) сортировка по лексикографическому смыслу не подойдет - при сравнении чисел 7 и 71 на первое место выйдет 71, тк вторая цифра у него больше, чем пустота у 7 (на индексе 1).\n",
    "\n",
    "2) значит нужно как-то добавить числу цифр, чтобы сравнение шло по-честному - чтобы не было пустот на индексах при сравнении неодинаковых по длине чисел\n",
    "\n",
    "3) тогда самое простое - увеличить \"окончание\" маленького по длине числа путем НАРАЩИВАНИЯ его хвоста из его же цифр\n",
    "\n",
    "4) сделать это можно так:\n",
    "- взять длину максимального числа из всего списка чисел\n",
    "- умножить строковое представление каждого числа на эту длину\n",
    "- принять это значение за ключ функции\n",
    "- отсортировать по убыванию список, используя этот ключ\n",
    "\n",
    "5) останется только сшить этот список воедино в строку и перевести в целое число (для того, чтобы исключить случай, когда список состоит только из нулей)"
   ]
  },
  {
   "cell_type": "code",
   "execution_count": 32,
   "metadata": {},
   "outputs": [
    {
     "name": "stdout",
     "output_type": "stream",
     "text": [
      "961322811\n",
      "77271\n"
     ]
    }
   ],
   "source": [
    "def get_biggest(numbers):\n",
    "    if len(numbers)==0: return -1\n",
    "    else:\n",
    "        max_len_numb = max([len(str(i)) for i in numbers])\n",
    "        true_lst = sorted(numbers, key = lambda x: str(x)* max_len_numb, reverse = True)\n",
    "        return int(''.join([str(numb) for numb in true_lst]))\n",
    "\n",
    "print(get_biggest([61, 228, 9, 3, 11]))\n",
    "print(get_biggest([72, 7, 71]))"
   ]
  },
  {
   "attachments": {},
   "cell_type": "markdown",
   "metadata": {},
   "source": [
    "Так, для напоминания  - как отсортировать (выбрать максимальный) список чисел ТОЛЬКО по первой цифре"
   ]
  },
  {
   "cell_type": "code",
   "execution_count": 11,
   "metadata": {},
   "outputs": [
    {
     "data": {
      "text/plain": [
       "[9, 61, 3, 228, 11]"
      ]
     },
     "execution_count": 11,
     "metadata": {},
     "output_type": "execute_result"
    }
   ],
   "source": [
    "numbers = [61, 228, 9, 3, 11]\n",
    "\n",
    "sorted(numbers, key = lambda x: int(str(x)[0]), reverse = True)"
   ]
  },
  {
   "attachments": {},
   "cell_type": "markdown",
   "metadata": {},
   "source": [
    "Сегодня Тимур ждёт в гости своего друга Артура, чтобы спланировать работу по новому курсу \"ООП на Python\". Чтобы подготовиться к встрече, Тимуру необходимо посетить два магазина, расположенных рядом с его домом. От дома до первого магазина ведёт дорожка длиной \n",
    "�\n",
    "1\n",
    "d \n",
    "1\n",
    "​\n",
    "  метров, а до второго магазина ведёт дорожка длиной \n",
    "�\n",
    "2\n",
    "d \n",
    "2\n",
    "​\n",
    "  метров. Также существует дорожка, соединяющая два магазина друг с другом, длиной \n",
    "�\n",
    "3\n",
    "d \n",
    "3\n",
    "​\n",
    "  метров.\n",
    "\n",
    "Напишите программу, которая вычисляет минимальное расстояние, которое потребуется пройти Тимуру, чтобы посетить оба магазина и вернуться домой. Тимур всегда стартует из дома. Он должен посетить оба магазина, перемещаясь только по имеющимся трём дорожкам, и вернуться назад домой. При этом его совершенно не смутит, если ему придётся посетить один и тот же магазин или пройти по одной и той же дорожке более одного раза. Единственная его задача — минимизировать суммарное пройденное расстояние.\n",
    "\n",
    "Формат входных данных\n",
    "На вход программе подаются \n",
    "3\n",
    "3 натуральных числа  \n",
    "�\n",
    "1\n",
    ",\n",
    " \n",
    "�\n",
    "2\n",
    ",\n",
    " \n",
    "�\n",
    "3\n",
    "d \n",
    "1\n",
    "​\n",
    " , d \n",
    "2\n",
    "​\n",
    " , d \n",
    "3\n",
    "​\n",
    "  — длины дорожек, каждое на отдельной строке:\n",
    "\n",
    "�\n",
    "1\n",
    "d \n",
    "1\n",
    "​\n",
    "  — длина дорожки, соединяющая дом Тимура и первый магазин\n",
    "�\n",
    "2\n",
    "d \n",
    "2\n",
    "​\n",
    "  — длина дорожки, соединяющая дом Тимура и второй магазин\n",
    "�\n",
    "3\n",
    "d \n",
    "3\n",
    "​\n",
    "  — длина дорожки, соединяющая магазины\n",
    "Формат выходных данных\n",
    "Программа должна вывести минимальное количество метров, которое придётся пройти Тимуру, чтобы посетить оба магазина и вернуться домой."
   ]
  },
  {
   "cell_type": "code",
   "execution_count": null,
   "metadata": {},
   "outputs": [],
   "source": [
    "\n",
    "def min_track(d1,d2,d_1_2):\n",
    "    return min([sum([d1,d2,d_1_2]), 2*(d1+d2), 2*(d1+d_1_2), 2*(d2+d_1_2)])\n",
    "\n",
    "d1,d2,d_1_2 = int(input()), int(input()), int(input())\n",
    "\n",
    "print(min_track(d1,d2,d_1_2))\n",
    "\n",
    "\n",
    "\n"
   ]
  },
  {
   "attachments": {},
   "cell_type": "markdown",
   "metadata": {},
   "source": [
    "        Написать функцию, которая решит русские ли буквы или нет"
   ]
  },
  {
   "cell_type": "code",
   "execution_count": null,
   "metadata": {},
   "outputs": [],
   "source": [
    "def is_rus(letters):\n",
    "    eng_let = 'AaBCcEeHKMOoPpTXxy'\n",
    "    rus_let = 'АаВСсЕеНКМОоРрТХху'\n",
    "    dic_in = {eng_let:0, rus_let:1}\n",
    "    for key in dic_in:\n",
    "        if all([letter in key for letter in letters]): \n",
    "            true_in = dic_in[key]\n",
    "            break\n",
    "        else: true_in = 2\n",
    "\n",
    "    return ('en', 'ru', 'mix')[true_in]\n",
    "\n",
    "letters = [input() for _ in range(3)]\n",
    "print(is_rus(letters))"
   ]
  },
  {
   "cell_type": "code",
   "execution_count": null,
   "metadata": {},
   "outputs": [],
   "source": [
    "def is_rus(letters):\n",
    "    eng_let = 'AaBCcEeHKMOoPpTXxy'\n",
    "    rus_let = 'АаВСсЕеНКМОоРрТХху'\n",
    "    if all([letter in eng_let for letter in letters]): true_in =0\n",
    "    elif all([letter in rus_let for letter in letters]): true_in =1\n",
    "    else true_in =2\n",
    "\n",
    "    return ('en', 'ru', 'mix')[true_in]\n",
    "\n",
    "letters = [input() for _ in range(3)]\n",
    "print(is_rus(letters))"
   ]
  },
  {
   "attachments": {},
   "cell_type": "markdown",
   "metadata": {},
   "source": [
    "        Дана последовательность натуральных чисел от \n",
    "        1 до \n",
    "        n. Напишите программу, которая сначала располагает в обратном порядке часть элементов этой последовательности от элемента с номером \n",
    "        X до элемента с номером \n",
    "        Y, а затем от элемента с номером \n",
    "        A до элемента с номером \n",
    "        B."
   ]
  },
  {
   "cell_type": "code",
   "execution_count": 25,
   "metadata": {},
   "outputs": [
    {
     "name": "stdout",
     "output_type": "stream",
     "text": [
      "[1, 2, 3, 4, 5, 6, 7, 8, 9]\n",
      "\n",
      "[1, 5, 4, 3, 2, 6, 7, 8, 9]\n",
      "\n",
      "[1, 5, 4, 3, 2, 9, 8, 7, 6]\n"
     ]
    }
   ],
   "source": [
    "n,X,Y,A,B = [int(i) for i  in input().split()]\n",
    "\n",
    "num_lst = list(range(1,n+1))\n",
    "\n",
    "temp = num_lst[:X-1] + \\\n",
    "    num_lst[X-1:Y][::-1] + num_lst[Y:]\\\n",
    "\n",
    "result = temp[:A-1]   \\\n",
    "    + temp[A-1:B][::-1] \\\n",
    "    + temp[B:]\n",
    "\n",
    "print(num_lst)\n",
    "print()\n",
    "print(temp)\n",
    "print()\n",
    "\n",
    "print(result)"
   ]
  },
  {
   "attachments": {},
   "cell_type": "markdown",
   "metadata": {},
   "source": [
    "        Дана последовательность неотрицательных целых чисел. Напишите программу, которая выводит те числа, которые встречаются в данной последовательности более одного раза.\n",
    "\n",
    "числа не должны повторяться и должны быть выведены в порядке возрастания"
   ]
  },
  {
   "cell_type": "code",
   "execution_count": 28,
   "metadata": {},
   "outputs": [
    {
     "name": "stdout",
     "output_type": "stream",
     "text": [
      "0 3 4\n"
     ]
    }
   ],
   "source": [
    "num_lst = [int(i) for i  in input().split()]\n",
    "\n",
    "count_dic = {}\n",
    "for number in num_lst:\n",
    "    count_dic[number] = count_dic.get(number, 0) + 1\n",
    "\n",
    "print(*(sorted([number for number in count_dic if count_dic[number]>1])), sep = ' ')"
   ]
  },
  {
   "attachments": {},
   "cell_type": "markdown",
   "metadata": {},
   "source": [
    "    Дана последовательность натуральных чисел от \n",
    "    1 до n включительно. Напишите программу, которая группирует все числа данной последовательности по сумме их цифр и определяет длину группы, содержащей наибольшее количество чисел.\n",
    "\n",
    "Программа должна сгруппировать все числа из натуральной последовательности от \n",
    "1 до n по сумме их цифр и определить длину группы, содержащей наибольшее количество чисел.\n",
    "\n",
    "для себя пошагово:\n",
    "1) готовим последовательность чисел от 1 до n вклчительно \n",
    "\n",
    "2) создаем пустой словарь для подсчета чисел, сумма цифр у которых одинаковая\n",
    "\n",
    "3) меняем каждое значение в списке чисел на сумму его цифр:\n",
    "- для каждого числа применить функцию лямбда\n",
    "- разбить число на строку\n",
    "- получить сумму строки (каждый элемент строки превратить обратно в число)\n",
    "\n",
    "4) пройтись циклом по полученному списку, содержащему суммы цифр каждого числа\n",
    "\n",
    "5) использовать функцию get словаря для подсчета числа разнообразных значений из спискаё\n",
    "\n",
    "6) вывести на печать максимальное значение из списка ключей словаря"
   ]
  },
  {
   "cell_type": "code",
   "execution_count": 32,
   "metadata": {},
   "outputs": [
    {
     "name": "stdout",
     "output_type": "stream",
     "text": [
      "{1: 2, 2: 2, 3: 2, 4: 1, 5: 1, 6: 1, 7: 1, 8: 1, 9: 1}\n",
      "2\n"
     ]
    }
   ],
   "source": [
    "num_lst = list(range(1,int(input())+1))\n",
    "\n",
    "dic_lens_count ={}\n",
    "for number_len in map(lambda x: sum([int(i) for i in str(x)]), num_lst):\n",
    "    dic_lens_count[number_len] = dic_lens_count.get(number_len, 0) + 1\n",
    "\n",
    "\n",
    "print(max(dic_lens_count.values()))"
   ]
  },
  {
   "attachments": {},
   "cell_type": "markdown",
   "metadata": {},
   "source": [
    "        Зачастую переводить сериалы, не теряя изначальный смысл, невозможно, особенно за счет игр слов. Сумасшедший режиссер хочет снять сериал, в котором бы в целях эксперимента задействовал как можно больше языков, чтобы пользоваться красотой каждого из них. Тем не менее если задействовать слишком много языков, то сериал станет непонятен абсолютно всем, поэтому режиссер достает случайных людей на улице и спрашивает их, какие языки они знают, таким образом он будет использовать языки которые знают все из них.\n",
    "\n",
    "        Напишите программу, которая определяет, какие языки будут использоваться в сериале.\n",
    "\n",
    "        Формат входных данных\n",
    "        На вход программе в первой строке подается число n — количество людей, которых донимает режиссер. В каждой из следующих n строк через запятую и пробел указывается список языков, которые знает человек.\n",
    "\n",
    "        Формат выходных данных\n",
    "        Программа должна вывести список языков для сериала в лексикографическом порядке. Если такой список составить нельзя, необходимо вывести текст: \n",
    "\n",
    "        Сериал снять не удастся"
   ]
  },
  {
   "cell_type": "code",
   "execution_count": null,
   "metadata": {},
   "outputs": [],
   "source": [
    "# создадим список, содержащий названия языков, которые знает каждый из опрошенных людей (будем собирать их в ОБЩИЙ список)\n",
    "\n",
    "n = int(input())                # число опрошенных людей\n",
    "lang_lst = []\n",
    "for _ in range(n):\n",
    "    lang_lst += input().replace(',','').split()\n",
    "\n",
    "# теперь просто посчитаем количество уникальных языков в этом списке через словарь\n",
    "# если количество какого-то вида языка равно n - значит он нам подходит\n",
    "\n",
    "dic_langs = {}\n",
    "for lang in lang_lst:\n",
    "    dic_langs[lang] = dic_langs.get(lang, 0) + 1\n",
    "\n",
    "result = ', '.join(sorted([language for language in dic_langs if dic_langs[language]==n]))\n",
    "\n",
    "print(('Сериал снять не удастся', result)[len(result)!=0])\n",
    "\n"
   ]
  },
  {
   "attachments": {},
   "cell_type": "markdown",
   "metadata": {},
   "source": [
    "Еще одно решение - через понимание множеств: \n",
    "1) собрать в большой список подсписки языков, которые знает каждый из опрошенных\n",
    "2) в цикле просто пересечь множества этих языков - в результате получится список только тех языков, которые совпадают во всех списках"
   ]
  },
  {
   "cell_type": "code",
   "execution_count": 45,
   "metadata": {},
   "outputs": [
    {
     "name": "stdout",
     "output_type": "stream",
     "text": [
      "{'эсперанто', 'французский', 'испанский'}\n"
     ]
    }
   ],
   "source": [
    "lang_users_lst = [input().replace(',','').split() for _ in range(int(input()))]\n",
    "\n",
    "lang_users_lst= list(map(set, lang_users_lst))\n",
    "\n",
    "# тут пересекаем первое множество из списка со всеми оставшимися\n",
    "#  \n",
    "result = lang_users_lst[0].intersection(*lang_users_lst[1:])\n",
    "\n",
    "if len(result)!=0: print(*sorted(result), sep = ', ')\n",
    "else: print('Сериал снять не удастся')\n"
   ]
  },
  {
   "attachments": {},
   "cell_type": "markdown",
   "metadata": {},
   "source": [
    "Напоминалка, как работает пересечение множеств - через оператор & и через встроенный метод intersection()"
   ]
  },
  {
   "cell_type": "code",
   "execution_count": 43,
   "metadata": {},
   "outputs": [
    {
     "name": "stdout",
     "output_type": "stream",
     "text": [
      "2\n",
      "2\n"
     ]
    }
   ],
   "source": [
    "a,b,c = {1,2,3}, {2,5,8}, {9, 12, 2}\n",
    "\n",
    "print(*(a&b&c))\n",
    "\n",
    "print(*a.intersection(b,c))"
   ]
  },
  {
   "attachments": {},
   "cell_type": "markdown",
   "metadata": {},
   "source": [
    "        Схожие слова\n",
    "        Напишите программу, которая находит все схожие слова для заданного слова. Слова называются схожими, если имеют одинаковое количество и расположение гласных букв. При этом сами гласные могут различаться.\n",
    "\n",
    "        Формат входных данных\n",
    "        На вход программе подается одно слово, записанное в первой строке, затем натуральное число \n",
    "        n — количество слов для сравнения и n строк со словами.\n",
    "\n",
    "        Формат выходных данных\n",
    "        Программа должна вывести все схожие слова для заданного слова, сохранив их исходный порядок следования."
   ]
  },
  {
   "cell_type": "code",
   "execution_count": 58,
   "metadata": {},
   "outputs": [
    {
     "name": "stdout",
     "output_type": "stream",
     "text": [
      "машинист\n",
      "дорога\n",
      "работа\n",
      "железо\n",
      "ветеран\n"
     ]
    }
   ],
   "source": [
    "# вспомогательная функция подсчета слогов и положения гласных\n",
    "def find_place_vowels(word):\n",
    "    word = list(word)                           # переводим слово из строки в список - \n",
    "                                                # чтобы можно было его перезаписывать в теле цикла\n",
    "    vowel_letters = 'ауоыиэяюёе'\n",
    "    vowels_places = []\n",
    "    for letter in word:                         # прогоняем цикл по буквам\n",
    "        if letter in vowel_letters:             # если буква - гласная\n",
    "            ind_letter = word.index(letter)     # находим ее индекс\n",
    "            vowels_places.append(ind_letter)    # записываем ее индекс в список\n",
    "            word[ind_letter] = 'a'              # меняем найденную букву на английскую, чтобы в случае ее повторения \n",
    "                                                # при следующей итерации счетчик ее пропустил\n",
    "    return vowels_places\n",
    "\n",
    "\n",
    "# основной блок \n",
    "control_word = input()\n",
    "\n",
    "words_to_check = [input() for _ in range(int(input()))]\n",
    "\n",
    "pos_letters = 'ауоыиэяюёе'\n",
    "\n",
    "vowels_for_control_word = find_place_vowels(control_word)\n",
    "\n",
    "for word in words_to_check:\n",
    "    if find_place_vowels(word) == vowels_for_control_word:\n",
    "        print(word)"
   ]
  },
  {
   "cell_type": "code",
   "execution_count": 56,
   "metadata": {},
   "outputs": [
    {
     "data": {
      "text/plain": [
       "[1, 3, 5]"
      ]
     },
     "execution_count": 56,
     "metadata": {},
     "output_type": "execute_result"
    }
   ],
   "source": [
    "# вспомогательная функция подсчета слогов и положения гласных\n",
    "def find_place_vowels(word):\n",
    "    word = list(word)                           # переводим слово из строки в список - \n",
    "                                                # чтобы можно было его перезаписывать в теле цикла\n",
    "    vowel_letters = 'ауоыиэяюёе'\n",
    "    vowels_places = []\n",
    "    for letter in word:                         # прогоняем цикл по буквам\n",
    "        if letter in vowel_letters:             # если буква - гласная\n",
    "            ind_letter = word.index(letter)     # находим ее индекс\n",
    "            vowels_places.append(ind_letter)    # записываем ее индекс в список\n",
    "            word[ind_letter] = 'a'              # меняем найденную букву на английскую, чтобы в случае ее повторения \n",
    "                                                # при следующей итерации счетчик ее пропустил\n",
    "    return vowels_places\n",
    "\n",
    "find_place_vowels('машина')\n"
   ]
  },
  {
   "attachments": {},
   "cell_type": "markdown",
   "metadata": {},
   "source": [
    "Хорошее решение через встроенную функцию enumerate, которая для последовательности возвращает кортеж из элемента последовательности и его номера\n",
    "\n",
    "то есть вида (индекс_элемента, сам_элемент)"
   ]
  },
  {
   "cell_type": "code",
   "execution_count": null,
   "metadata": {},
   "outputs": [],
   "source": [
    "vowels = ('а', 'у', 'о', 'ы', 'и', 'э', 'я', 'ю', 'ё', 'е')\n",
    "pattern = [i for i, c in enumerate(input()) if c in vowels]\n",
    "\n",
    "for _ in range(int(input())):\n",
    "    word = input()\n",
    "    if [i for i, c in enumerate(word) if c in vowels] == pattern:\n",
    "        print(word)"
   ]
  },
  {
   "attachments": {},
   "cell_type": "markdown",
   "metadata": {},
   "source": [
    "        Корпоративная почта 🌶️\n",
    "        В онлайн-школе \"BEEGEEK\" сотрудникам положена корпоративная почта, которая формируется как <имя-фамилия>@beegeek.bzz, например, timyr-guev@beegeek.bzz. При таком подходе существует проблема тёзок. Для решения такой проблемы было решено приписывать справа номер.\n",
    "\n",
    "        Тогда первый Тимур Гуев получает ящик timyr-guev@beegeek.bzz (без номера), второй — timyr-guev1@beegeek.bzz, третий — timyr-guev2@beegeek.bzz, и так далее.\n",
    "\n",
    "        Вам дан список уже занятых ящиков в порядке их выдачи и имена-фамилии новых сотрудников в заранее подготовленном виде (латиницей с символом - между ними). Напишите программу, которая раздает корпоративные ящики новым сотрудникам школы.\n",
    "\n",
    "        Формат входных данных\n",
    "        На вход программе в первой строке подается целое неотрицательное число \n",
    "        �\n",
    "        n — количество выданных ящиков. В следующих \n",
    "        �\n",
    "        n строках перечислены сами ящики в порядке выдачи, по одному на строке. На следующей строке задано целое неотрицательное число \n",
    "        �\n",
    "        m — количество новых сотрудников, которым нужно раздать корпоративные ящики. Каждая из последующих \n",
    "        �\n",
    "        m строк представляет собой имя и фамилию сотрудника в подготовленном к использованию формате.\n",
    "\n",
    "        Формат выходных данных\n",
    "        Программа должна вывести почтовые ящики (\n",
    "        �\n",
    "        m строк) для новых сотрудников в том порядке, в котором они раздавались."
   ]
  },
  {
   "attachments": {},
   "cell_type": "markdown",
   "metadata": {},
   "source": [
    "**1 решение**: для случаев, когда почты текущих сотрудников всегда начинаются с нулевого(пустого, без индекса) значения типа: timur-guev@bzzz.com "
   ]
  },
  {
   "cell_type": "code",
   "execution_count": 65,
   "metadata": {},
   "outputs": [
    {
     "data": {
      "text/plain": [
       "[('ivan-petrov', 0), ('ivan-petrov', 1), ('ivan-ivanov', 2)]"
      ]
     },
     "execution_count": 65,
     "metadata": {},
     "output_type": "execute_result"
    }
   ],
   "source": [
    "# считаем все почтовые адреса существующих сотруднико\n",
    "staff_emails = [input() for _ in range(int(input()))]\n",
    "\n",
    "# переформатируем адреса в список имен существующих сотрудников\n",
    "staff_names = list(map(lambda x: x.split('@')[0], staff_emails))\n",
    "\n",
    "# вспомогательная функция, которая разбивает на имя на кортеж (имя, номер)\n",
    "def num_names(name):\n",
    "    if name[-1].isdigit():\n",
    "        name_tup = (name[:-1], int(name[-1]))\n",
    "    else: name_tup = (name, 0)\n",
    "    return name_tup\n",
    "\n",
    "# снова заменим имена текущих сотрудников на кортеж вида (имя, номер)\n",
    "staff_names_num = list(map(num_names, staff_names ))\n",
    "\n",
    "# превратим список текущих сотрудников в словарь {имя: сколько таких имен}\n",
    "dic_staff = {name[0]:name[1] for name in staff_names_num}\n",
    "\n",
    "# список новых сотрудников\n",
    "new_employes = [input() for _ in range(int(input()))]\n",
    "\n",
    "#промежуточный список для нумерации имен новых сотрудников\n",
    "new_emp_names = []\n",
    "\n",
    "# циклом по всем новым сотрудникам:\n",
    "# если имя уже в списке словаря текущих сотрудников - то добавляем к значению 1, если нет - записываем новое имя со значением 0\n",
    "# но в любом случае ловим полученное имя нового сотрудника в список имен\n",
    "for emp in new_employes:\n",
    "    dic_staff[emp] = dic_staff.get(emp, -1) +1 \n",
    "    if dic_staff[emp]>0: new_name = f'{emp}{dic_staff[emp]}'\n",
    "    else: new_name = f'{emp}'\n",
    "    new_emp_names.append(new_name)\n",
    "\n",
    "# отправляем на печать список имен сотрудников с уже добавленными почтовыми адресами\n",
    "\n",
    "print(*[f'{name}@beegeek.bzz' for name in new_emp_names], \n",
    "      sep = '\\n')\n",
    "\n"
   ]
  },
  {
   "attachments": {},
   "cell_type": "markdown",
   "metadata": {},
   "source": [
    "**2 решение**: для случаев, когда название почты для какого-то имени у текущих сотрудников может начинаться с УЖЕ пронумерованного ящика (например, когда нулевой и первый сотрудник успели уволиться, а новый сотрудник имеет такое же имя, как пронумерованный):\n",
    "\n",
    "input: \n",
    "1) **old_staff**:\n",
    "- timyr-guev2@beegeek.bzz\n",
    "- anri-tabuev@beegeek.bzz\n",
    "2) **new_staff**:\n",
    "- timyr-guev\n",
    "- timyr-guev\n",
    "- anri-tabuev\n",
    "\n",
    "output:\n",
    "- timyr-guev@beegeek.bzz\n",
    "- timyr-guev1@beegeek.bzz\n",
    "- anri-tabuev1@beegeek.bzz"
   ]
  },
  {
   "cell_type": "code",
   "execution_count": null,
   "metadata": {},
   "outputs": [],
   "source": [
    "def distribute_emails(existing_emails, new_employees):\n",
    "    existing_employees = set([email.split(\"@\")[0] for email in existing_emails])\n",
    "    emails_to_assign = []\n",
    "    for employee in new_employees:\n",
    "        name, surname = employee.split(\"-\")\n",
    "        email = name + \"-\" + surname\n",
    "        if email not in existing_employees:\n",
    "            emails_to_assign.append(email)                      # если совсем нет таких имен или нумерованных, то добавляем нулевое (пустое имя)\n",
    "            existing_employees.add(email)\n",
    "        else:                                                   # вот в этом блоке вся разница: если имя нового сотрудника \n",
    "            i = 1                                               # уже в списке, то начинаем отсчет с 1 до того момента, \n",
    "            while True:                                         # пока не упремся в уже существующее нумерованное имя\n",
    "                numbered_email = f\"{email}{i}\"\n",
    "                if numbered_email not in existing_employees:\n",
    "                    emails_to_assign.append(numbered_email)\n",
    "                    existing_employees.add(numbered_email)\n",
    "                    break\n",
    "                i += 1\n",
    "    return [f\"{email}@beegeek.bzz\" for email in emails_to_assign]\n",
    "\n",
    "\n",
    "n = int(input())\n",
    "existing_emails = [input().strip() for _ in range(n)]\n",
    "m = int(input())\n",
    "new_employees = [input().strip() for _ in range(m)]\n",
    "\n",
    "emails_to_print = distribute_emails(existing_emails, new_employees)\n",
    "for email in emails_to_print:\n",
    "    print(email)"
   ]
  },
  {
   "cell_type": "markdown",
   "metadata": {},
   "source": []
  },
  {
   "attachments": {},
   "cell_type": "markdown",
   "metadata": {},
   "source": [
    "### Задача на работу с файлами:\n",
    "\n",
    "Вам доступен текстовый файл files.txt, содержащий информацию о файлах. Каждая строка файла содержит три значения, разделенные символом пробела — имя файла, его размер (целое число) и единицы измерения\n",
    "\n",
    "Напишите программу, которая группирует данные файлы по расширению, определяя общий объем файлов каждой группы, и выводит полученные группы файлов, указывая для каждой ее общий объем. \n",
    "\n",
    "1) Группы должны быть расположены в лексикографическом порядке названий расширений\n",
    "2) файлы в группах — в лексикографическом порядке их имен."
   ]
  },
  {
   "cell_type": "code",
   "execution_count": 166,
   "metadata": {},
   "outputs": [
    {
     "name": "stdout",
     "output_type": "stream",
     "text": [
      "classes.csv\n",
      "exam_results.csv\n",
      "grades.csv\n",
      "students.csv\n",
      "tab.csv\n",
      "----------\n",
      "Summary: 92 KB\n",
      "\n",
      "artmoney.exe\n",
      "cheats.exe\n",
      "chrome.exe\n",
      "discord.exe\n",
      "eac.exe\n",
      "god_of_war.exe\n",
      "hamachi.exe\n",
      "hollow_knight_silksong.exe\n",
      "microsoft_edge.exe\n",
      "nvidia_gf.exe\n",
      "photoshop.exe\n",
      "sony_vegas11.exe\n",
      "spiritfarer.exe\n",
      "steam.exe\n",
      "teamspeak3.exe\n",
      "telegram.exe\n",
      "uncharted4.exe\n",
      "whatsapp.exe\n",
      "yandex_browser.exe\n",
      "yandexdisc.exe\n",
      "----------\n",
      "Summary: 10 MB\n",
      "\n",
      "beauty.jpeg\n",
      "city.jpeg\n",
      "emoji_angry.jpeg\n",
      "emoji_smile.jpeg\n",
      "flowers.jpeg\n",
      "forest.jpeg\n",
      "friends.jpeg\n",
      "galaxy.jpeg\n",
      "girls.jpeg\n",
      "just_beauty.jpeg\n",
      "la.jpeg\n",
      "los_angeles.jpeg\n",
      "me.jpeg\n",
      "moon.jpeg\n",
      "new_year2020.jpeg\n",
      "night_city.jpeg\n",
      "planets.jpeg\n",
      "summer2011.jpeg\n",
      "summer2012.jpeg\n",
      "sun.jpeg\n",
      "sunlight.jpeg\n",
      "watterfall.jpeg\n",
      "winter2016.jpeg\n",
      "----------\n",
      "Summary: 13 MB\n",
      "\n",
      "backups.json\n",
      "carl_backups.json\n",
      "dhook_hw.json\n",
      "dhook_lsns.json\n",
      "----------\n",
      "Summary: 94 KB\n",
      "\n",
      "alladin.mkv\n",
      "dallass_club_byers.mkv\n",
      "harry_potter2.mkv\n",
      "jaws.mkv\n",
      "place_in_the_sun.mkv\n",
      "spider_man2.mkv\n",
      "spider_man3.mkv\n",
      "star_wars.mkv\n",
      "the_godfather.mkv\n",
      "tom_and_jerry.mkv\n",
      "toy_story3.mkv\n",
      "----------\n",
      "Summary: 33 GB\n",
      "\n",
      "bad-disease.mp3\n",
      "bones.mp3\n",
      "but-you.mp3\n",
      "cant-help-myself.mp3\n",
      "city-of-the-sun.mp3\n",
      "crying-all-the-time.mp3\n",
      "death-stranding.mp3\n",
      "gold-guns-girls.mp3\n",
      "howl.mp3\n",
      "keep-yourself-alive.mp3\n",
      "kissing-in-the-wind.mp3\n",
      "saving-grace.mp3\n",
      "send-her-back.mp3\n",
      "soft-currents.mp3\n",
      "summertime-sadness.mp3\n",
      "the-archer.mp3\n",
      "the-phantom.mp3\n",
      "what-else-is-there.mp3\n",
      "ya-videl-son.mp3\n",
      "youve-got-time.mp3\n",
      "----------\n",
      "Summary: 109 MB\n",
      "\n",
      "best_of_guev.mp4\n",
      "geometry_lesson1.mp4\n",
      "geometry_lesson2.mp4\n",
      "geometry_lesson3.mp4\n",
      "math_lesson11.mp4\n",
      "math_lesson3.mp4\n",
      "math_lesson4.mp4\n",
      "math_lesson7.mp4\n",
      "old_memories.mp4\n",
      "python_for_beg1.mp4\n",
      "python_for_pro8.mp4\n",
      "----------\n",
      "Summary: 4 GB\n",
      "\n",
      "exam.py\n",
      "homework.py\n",
      "mini_game.py\n",
      "myanalysis.py\n",
      "mygeometry.py\n",
      "mymath.py\n",
      "project_main.py\n",
      "project_module1.py\n",
      "project_module2.py\n",
      "project_module3.py\n",
      "stepik_problems.py\n",
      "test.py\n",
      "----------\n",
      "Summary: 213 KB\n",
      "\n",
      "note.xml\n",
      "nothing.xml\n",
      "plants.xml\n",
      "sample.xml\n",
      "----------\n",
      "Summary: 3 KB\n",
      "\n",
      "7z.zip\n",
      "emojis.zip\n",
      "python3.zip\n",
      "small_txt.zip\n",
      "songs.zip\n",
      "summer_vacation.zip\n",
      "wallpapers.zip\n",
      "winrar.zip\n",
      "winter_vacation.zip\n",
      "----------\n",
      "Summary: 74 MB\n",
      "\n"
     ]
    }
   ],
   "source": [
    "with open('/Users/tony_builder/Documents/GitHub/studying/Python_stepic_beegeek/python for professional/files.txt',\n",
    "           encoding='utf-8') as file:\n",
    "    original_lines = [line.strip() for line in file.readlines()]\n",
    "\n",
    "# разобьем полученный список строк по точке\n",
    "\n",
    "temp_list = list(map(lambda x:x.split('.'), original_lines))\n",
    "\n",
    "# переразобьем список , чтобы посмотреть какие типы файлов есть и какой у них размер\n",
    "# зашьем все данные в один список\n",
    "\n",
    "temp_list_1 = [ [elem[0]]+ (elem[1].split()) for elem in temp_list]\n",
    "\n",
    "# засунем все эти данные в датасэт и проведем все нужные группировки и вычисления\n",
    "import pandas as pd\n",
    "files_df = pd.DataFrame(temp_list_1, columns=['file_name', 'type', 'num_size', 'dimension'])\n",
    "\n",
    "\n",
    "# добавим столбец, который переведет все размеры файлов в байты\n",
    "scale_dic = {'B': 1, 'KB': 1024, 'MB': (1024*1024), 'GB':(1024**3)}         # заведем словарь перевода\n",
    "new_col = pd.Series(list(map(lambda x: scale_dic[x], files_df.dimension)))  # заведем колонку для умножения\n",
    "files_df['file_temp'] =  new_col\n",
    "files_df.num_size=  files_df.num_size.map(int)\n",
    "files_df['num_size_bytes'] = files_df.num_size * files_df.file_temp\n",
    "\n",
    "# отсортируем таблицу по имени типа \n",
    "files_df = files_df.sort_values('type')\n",
    "\n",
    "# набор всех типов расширений хранится тут\n",
    "# мы их все уникулизируем, отсортируем в лексикографическом порядке\n",
    "\n",
    "types_lst = sorted(set(files_df.type.values))\n",
    "\n",
    "# вспомогательная фукнция для перевода байтов в одну из величин (кб, мб. гб)\n",
    "\n",
    "def size_to(number):\n",
    "    if len(str(number)) >= len(str(1024**3)): \n",
    "        res_numb = round(number/ 1024**3)   # гигабайты\n",
    "        return f'{res_numb} GB'\n",
    "\n",
    "    elif len(str(1024**2)) <= len(str(number)) < len(str(1024**3)): \n",
    "        res_numb = round(number/ 1024**2)   # мегабайты\n",
    "        return f'{res_numb} MB'\n",
    "    \n",
    "    elif len(str(1024)) <= len(str(number)) < len(str(1024**2)): \n",
    "        res_numb = round(number/ 1024)   # килобайты\n",
    "        return f'{res_numb} KB'\n",
    "    \n",
    "    else: \n",
    "        res_numb = number\n",
    "        return f'{res_numb} B'\n",
    "    \n",
    "\n",
    "# ну и все: выводим сразу на печать результат из цикла: \n",
    "# - проходим циклом по типу файла \n",
    "# - локализуем только те строки, в которых этот тип содержится, сортируем их по имени файла \n",
    "# - печатаем только их имя и расширение \n",
    "# - проводим черту, считаем сумму их объемов, переводим ее в опрятный вид, печатаем \n",
    "# - переходим на след итерацию\n",
    "\n",
    "for type_name in types_lst:\n",
    "    for row in files_df.loc[files_df.type==type_name].sort_values('file_name').values:\n",
    "        print(f'{row[0]}.{row[1]}')\n",
    "    print('----------')\n",
    "    print(f'Summary: {size_to(files_df.loc[files_df.type==type_name].num_size_bytes.sum())}')\n",
    "    print()\n",
    "\n",
    "\n",
    "\n",
    "\n",
    "\n",
    "\n"
   ]
  },
  {
   "attachments": {},
   "cell_type": "markdown",
   "metadata": {},
   "source": [
    "вспомогательные штуки: функция перевода из байтов в кб, мб, гб"
   ]
  },
  {
   "cell_type": "code",
   "execution_count": 167,
   "metadata": {},
   "outputs": [
    {
     "data": {
      "text/plain": [
       "'880 KB'"
      ]
     },
     "execution_count": 167,
     "metadata": {},
     "output_type": "execute_result"
    }
   ],
   "source": [
    "def size_to(number):\n",
    "    if len(str(number)) >= len(str(1024**3)): \n",
    "        res_numb = round(number/ 1024**3)   # гигабайты\n",
    "        return f'{res_numb} GB'\n",
    "\n",
    "    elif len(str(1024**2)) <= len(str(number)) < len(str(1024**3)): \n",
    "        res_numb = round(number/ 1024**2)  # мегабайты\n",
    "        return f'{res_numb} MB'\n",
    "    \n",
    "    elif len(str(1024)) <= len(str(number)) < len(str(1024**2)): \n",
    "        res_numb = round(number/ 1024)   # килобайты\n",
    "        return f'{res_numb} KB'\n",
    "    \n",
    "    else: \n",
    "        res_numb = number\n",
    "        return f'{res_numb} B'\n",
    "\n",
    "\n",
    "size_to(901120)\n"
   ]
  },
  {
   "cell_type": "code",
   "execution_count": 158,
   "metadata": {},
   "outputs": [
    {
     "data": {
      "text/plain": [
       "['csv', 'exe', 'jpeg', 'json', 'mkv', 'mp3', 'mp4', 'py', 'xml', 'zip']"
      ]
     },
     "execution_count": 158,
     "metadata": {},
     "output_type": "execute_result"
    }
   ],
   "source": [
    "# набор всех типов расширений хранится тут\n",
    "# мы их все уникулизируем, отсортируем в лексикографическом порядке\n",
    "\n",
    "types_lst = sorted(set(files_df.type.values))\n",
    "types_lst"
   ]
  },
  {
   "attachments": {},
   "cell_type": "markdown",
   "metadata": {},
   "source": [
    "Если вывести все типы файлов, увидим, что их всего 10"
   ]
  },
  {
   "cell_type": "code",
   "execution_count": 106,
   "metadata": {},
   "outputs": [
    {
     "name": "stdout",
     "output_type": "stream",
     "text": [
      "jpeg    23\n",
      "mp3     20\n",
      "exe     20\n",
      "py      12\n",
      "mkv     11\n",
      "mp4     11\n",
      "zip      9\n",
      "csv      5\n",
      "xml      4\n",
      "json     4\n",
      "Name: type, dtype: int64\n"
     ]
    }
   ],
   "source": [
    "print(files_df.type.value_counts())"
   ]
  },
  {
   "attachments": {},
   "cell_type": "markdown",
   "metadata": {},
   "source": [
    "посмотреть все размерности можно так (увидим, что это байты, килобайты, мегабайты и гигабайты)"
   ]
  },
  {
   "cell_type": "code",
   "execution_count": 108,
   "metadata": {},
   "outputs": [
    {
     "data": {
      "text/plain": [
       "KB    62\n",
       "MB    43\n",
       "GB     9\n",
       "B      5\n",
       "Name: dimension, dtype: int64"
      ]
     },
     "execution_count": 108,
     "metadata": {},
     "output_type": "execute_result"
    }
   ],
   "source": [
    "files_df.dimension.value_counts()"
   ]
  },
  {
   "attachments": {},
   "cell_type": "markdown",
   "metadata": {},
   "source": [
    "### Работа с файлами"
   ]
  },
  {
   "attachments": {},
   "cell_type": "markdown",
   "metadata": {},
   "source": [
    "### Потоковый ввод stdin "
   ]
  },
  {
   "cell_type": "code",
   "execution_count": 1,
   "metadata": {},
   "outputs": [
    {
     "ename": "KeyboardInterrupt",
     "evalue": "",
     "output_type": "error",
     "traceback": [
      "\u001b[0;31m---------------------------------------------------------------------------\u001b[0m",
      "\u001b[0;31mKeyboardInterrupt\u001b[0m                         Traceback (most recent call last)",
      "\u001b[1;32m/Users/tony_builder/Documents/GitHub/studying/Python_stepic_beegeek/python for professional/python_for_pro_stepik.ipynb Ячейка 65\u001b[0m in \u001b[0;36m3\n\u001b[1;32m      <a href='vscode-notebook-cell:/Users/tony_builder/Documents/GitHub/studying/Python_stepic_beegeek/python%20for%20professional/python_for_pro_stepik.ipynb#Y116sZmlsZQ%3D%3D?line=0'>1</a>\u001b[0m \u001b[39mimport\u001b[39;00m \u001b[39msys\u001b[39;00m\n\u001b[0;32m----> <a href='vscode-notebook-cell:/Users/tony_builder/Documents/GitHub/studying/Python_stepic_beegeek/python%20for%20professional/python_for_pro_stepik.ipynb#Y116sZmlsZQ%3D%3D?line=2'>3</a>\u001b[0m data \u001b[39m=\u001b[39m sys\u001b[39m.\u001b[39;49mstdin\u001b[39m.\u001b[39;49mreadlines()\n",
      "\u001b[0;31mKeyboardInterrupt\u001b[0m: "
     ]
    }
   ],
   "source": [
    "import sys\n",
    "\n",
    "data = sys.stdin.readlines()"
   ]
  },
  {
   "cell_type": "code",
   "execution_count": null,
   "metadata": {},
   "outputs": [],
   "source": []
  }
 ],
 "metadata": {
  "kernelspec": {
   "display_name": "Python 3",
   "language": "python",
   "name": "python3"
  },
  "language_info": {
   "codemirror_mode": {
    "name": "ipython",
    "version": 3
   },
   "file_extension": ".py",
   "mimetype": "text/x-python",
   "name": "python",
   "nbconvert_exporter": "python",
   "pygments_lexer": "ipython3",
   "version": "3.10.7"
  },
  "orig_nbformat": 4,
  "vscode": {
   "interpreter": {
    "hash": "aee8b7b246df8f9039afb4144a1f6fd8d2ca17a180786b69acc140d282b71a49"
   }
  }
 },
 "nbformat": 4,
 "nbformat_minor": 2
}
