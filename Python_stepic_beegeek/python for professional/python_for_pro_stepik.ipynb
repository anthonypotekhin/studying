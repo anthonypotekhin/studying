{
 "cells": [
  {
   "attachments": {},
   "cell_type": "markdown",
   "metadata": {},
   "source": [
    "### Разогрев: вспоминаем навыки"
   ]
  },
  {
   "attachments": {},
   "cell_type": "markdown",
   "metadata": {},
   "source": [
    "        Задача 1: Функция должна возвращать новый список, элементами которого являются числа из списка numbers, имеющие ту же четность, что и первый элемент этого списка."
   ]
  },
  {
   "cell_type": "code",
   "execution_count": 1,
   "metadata": {},
   "outputs": [],
   "source": [
    "def same_parity(numbers):\n",
    "    return [i for i in numbers if i%2 == numbers[0]%2]"
   ]
  },
  {
   "attachments": {},
   "cell_type": "markdown",
   "metadata": {},
   "source": [
    "        Будем считать, что PIN-код является корректным, если он удовлетворяет следующим условиям:\n",
    "\n",
    "состоит из \n",
    "4\n",
    "4, \n",
    "5\n",
    "5 или \n",
    "6\n",
    "6 символов\n",
    "состоит только из цифр (\n",
    "0\n",
    "−\n",
    "9\n",
    "0−9)\n",
    "\n",
    "не содержит пробелов"
   ]
  },
  {
   "cell_type": "code",
   "execution_count": 2,
   "metadata": {},
   "outputs": [
    {
     "name": "stdout",
     "output_type": "stream",
     "text": [
      "True\n"
     ]
    }
   ],
   "source": [
    "def is_valid(string):\n",
    "    return (len(string) in range(4,7)) and (string.isdigit()) and (not ' ' in string)\n",
    "\n",
    "print(is_valid('4367'))"
   ]
  },
  {
   "attachments": {},
   "cell_type": "markdown",
   "metadata": {},
   "source": [
    "        Реализуйте функцию print_given(), которая принимает произвольное количество позиционных и именованных аргументов и выводит все переданные аргументы, указывая тип каждого. Пары аргумент-тип должны выводиться каждая на отдельной строке, в следующем формате:\n",
    "\n",
    "для позиционных аргументов:\n",
    "<значение аргумента> <тип аргумента>\n",
    "для именованных аргументов:\n",
    "<имя переменной> <значение аргумента> <тип аргумента>\n",
    "Примечание 1. При выводе позиционные аргументы должны быть расположены в порядке их передачи, именованные — в лексикографическом порядке имен переменных.\n",
    "\n",
    "Примечание 2. При выводе сначала должны следовать все позиционные аргументы, затем — все именованные.\n",
    "\n",
    "Примечание 3. Если в функцию ничего не передается, функция ничего не должна выводить."
   ]
  },
  {
   "cell_type": "code",
   "execution_count": 3,
   "metadata": {},
   "outputs": [
    {
     "name": "stdout",
     "output_type": "stream",
     "text": [
      "1 <class 'int'>\n",
      "[1, 2, 3] <class 'list'>\n",
      "three <class 'str'>\n",
      "two 2 <class 'int'>\n"
     ]
    },
    {
     "data": {
      "text/plain": [
       "(None, None)"
      ]
     },
     "execution_count": 3,
     "metadata": {},
     "output_type": "execute_result"
    }
   ],
   "source": [
    "def print_given(*args, **kwargs):\n",
    "    if args ==() and kwargs =={}: return\n",
    "    else:\n",
    "        return (print(*[f'{arg_val} {type(arg_val)}' for arg_val in args], sep = '\\n') , \n",
    "                print(*sorted([f'{key_val} {kwargs[key_val]} {type(kwargs[key_val])}'  for key_val in kwargs]), sep = '\\n'))\n",
    "\n",
    "\n",
    "print_given(1, [1, 2, 3], 'three', two=2)"
   ]
  },
  {
   "attachments": {},
   "cell_type": "markdown",
   "metadata": {},
   "source": [
    "        Реализуйте функцию convert(), которая принимает один аргумент:\n",
    "\n",
    "        string — произвольная строка\n",
    "        Функция должна возвращать строку string:\n",
    "\n",
    "        полностью в нижнем регистре, если букв в нижнем регистре в этой строке больше\n",
    "        полностью в верхнем регистре, если букв в верхнем регистре в этой строке больше\n",
    "        полностью в нижнем регистре, если количество букв в верхнем и нижнем регистрах в этой строке совпадает"
   ]
  },
  {
   "cell_type": "code",
   "execution_count": 4,
   "metadata": {},
   "outputs": [
    {
     "name": "stdout",
     "output_type": "stream",
     "text": [
      "pi31415!\n"
     ]
    }
   ],
   "source": [
    "def convert(string):\n",
    "    letters_lst = [let for let in list(string) if let.isalpha()]\n",
    "    condition = (len([let_low for let_low in letters_lst if let_low.islower()]) >= \n",
    "                 len([let_low for let_low in letters_lst if let_low.isupper()]))\n",
    "    return (string.upper(), string.lower())[condition]\n",
    "\n",
    "print(convert('pi31415!'))\n"
   ]
  },
  {
   "attachments": {},
   "cell_type": "markdown",
   "metadata": {},
   "source": [
    "        Анаграммы — это слова, которые состоят из одинаковых букв. Например:\n",
    "\n",
    "        адаптер — петарда\n",
    "        адресочек — середочка\n",
    "        азбука — базука\n",
    "        аистенок — осетинка\n",
    "        Реализуйте функцию filter_anagrams(), которая принимает два аргумента в следующем порядке:\n",
    "\n",
    "        word — слово в нижнем регистре\n",
    "        words — список слов в нижнем регистре\n",
    "        Функция должна возвращать список, элементами которого являются слова из списка words, которые представляют анаграмму слова word. Если список words пуст или не содержит анаграмм, функция должна вернуть пустой список."
   ]
  },
  {
   "cell_type": "code",
   "execution_count": 5,
   "metadata": {},
   "outputs": [],
   "source": [
    "def filter_anagrams(word, words):\n",
    "    return [ann_word for ann_word in words if sorted(list(word)) == sorted(list(ann_word))]"
   ]
  },
  {
   "attachments": {},
   "cell_type": "markdown",
   "metadata": {},
   "source": [
    "        В различных социальных сетях существуют системы лайков, которые в зависимости от количества людей, оценивших запись, показывают соответствующую информацию.\n",
    "\n",
    "        Реализуйте функцию likes(), которая принимает один аргумент:\n",
    "\n",
    "        names — список имён\n",
    "        Функция должна возвращать строку в соответствии с примерами ниже, содержание которой зависит от количества имён в списке names."
   ]
  },
  {
   "cell_type": "code",
   "execution_count": 6,
   "metadata": {},
   "outputs": [
    {
     "name": "stdout",
     "output_type": "stream",
     "text": [
      "Никто не оценил данную запись\n",
      "Тимур оценил(а) данную запись\n",
      "Тимур и Артур оценили данную запись\n",
      "Тимур, Артур и Руслан оценили данную запись\n",
      "Тимур, Артур и 2 других оценили данную запись\n",
      "Тимур, Артур и 3 других оценили данную запись\n",
      "Тимур, Артур и 6 других оценили данную запись\n"
     ]
    }
   ],
   "source": [
    "def likes(names):\n",
    "    num_likes = len(names)\n",
    "    if num_likes ==0: return 'Никто не оценил данную запись'\n",
    "    elif num_likes ==1 : return f'{names[0]} оценил(а) данную запись'\n",
    "    elif num_likes== 2: return f'{names[0]} и {names[1]} оценили данную запись'\n",
    "    elif num_likes== 3: return f'{names[0]}, {names[1]} и {names[2]} оценили данную запись'\n",
    "    else: return f'{names[0]}, {names[1]} и {len(names[2:])} других оценили данную запись'\n",
    "\n",
    "print(likes([]))\n",
    "print(likes(['Тимур']))\n",
    "print(likes(['Тимур', 'Артур']))\n",
    "print(likes(['Тимур', 'Артур', 'Руслан']))\n",
    "print(likes(['Тимур', 'Артур', 'Руслан', 'Анри']))\n",
    "print(likes(['Тимур', 'Артур', 'Руслан', 'Анри', 'Дима']))\n",
    "print(likes(['Тимур', 'Артур', 'Руслан', 'Анри', 'Дима', 'Рома', 'Гвидо', 'Марк']))"
   ]
  },
  {
   "attachments": {},
   "cell_type": "markdown",
   "metadata": {},
   "source": [
    "                Реализуйте функцию index_of_nearest(), которая принимает два аргумента в следующем порядке:\n",
    "\n",
    "numbers — список целых чисел\n",
    "\n",
    "number — целое число\n",
    "\n",
    "Функция должна находить в списке numbers ближайшее по значению число к числу number и возвращать его индекс. Если список numbers пуст, функция должна вернуть число −1.\n",
    "\n",
    "Примечание 1. Если в функцию передается список, содержащий несколько чисел, одновременно являющихся ближайшими к искомому числу, функция должна возвращать наименьший из индексов ближайших чисел.\n",
    "\n",
    "Примечание 2. Рассмотрим третий тест. Ближайшими числами к числу \n",
    "4\n",
    "4 являются \n",
    "5\n",
    "5 и \n",
    "3\n",
    "3, имеющие индексы \n",
    "1\n",
    "1 и \n",
    "2\n",
    "2 соответственно. Наименьший из индексов равен \n",
    "1\n",
    "1."
   ]
  },
  {
   "cell_type": "code",
   "execution_count": 7,
   "metadata": {},
   "outputs": [
    {
     "name": "stdout",
     "output_type": "stream",
     "text": [
      "-1\n",
      "2\n"
     ]
    }
   ],
   "source": [
    "def index_of_nearest(numbers, number):\n",
    "    if len(numbers)!=0:\n",
    "        from operator import sub\n",
    "        diff_lst = list(map(lambda x: abs(sub(x,number)), numbers ))\n",
    "        min_diff_num = min(diff_lst)\n",
    "        return diff_lst.index(min_diff_num)\n",
    "    else: return -1\n",
    "\n",
    "print(index_of_nearest([], 17))\n",
    "print(index_of_nearest([7, 5, 4, 4, 3], 4))"
   ]
  },
  {
   "attachments": {},
   "cell_type": "markdown",
   "metadata": {},
   "source": [
    "        Реализуйте функцию spell(), которая принимает произвольное количество позиционных аргументов-слов и возвращает словарь, ключи которого — первые буквы слов, а значения — максимальные длины слов на эту букву.\n",
    "\n",
    "        Примечание 1. Если в функцию не передается ни одного аргумента, функция должна возвращать пустой словарь.\n",
    "\n",
    "        Примечание 2. Функция должна игнорировать регистр слов, при этом в результирующий словарь должны попасть именно буквы в нижнем регистре."
   ]
  },
  {
   "attachments": {},
   "cell_type": "markdown",
   "metadata": {},
   "source": [
    "Немного опишу решение для себя:\n",
    "1) создаем пустой словарь\n",
    "2) запускаем цикл по всем словам в переданной последовательности\n",
    "3) убираем все до нижнего регистра\n",
    "4) говорим добавлять в словарь ключ = первой букве слова в нижнем регистре\n",
    "5) значение - брать максимальное из двух:\n",
    "- длина слова в данной итерации (если первая буква этого слова еще не участвовала в итерациях цикла)\n",
    "- значение длины слова, которое уже прошло через итерацию цикла"
   ]
  },
  {
   "cell_type": "code",
   "execution_count": 8,
   "metadata": {},
   "outputs": [
    {
     "name": "stdout",
     "output_type": "stream",
     "text": [
      "{'м': 10, 'и': 11, 'х': 5, 'б': 8}\n"
     ]
    }
   ],
   "source": [
    "def spell(*args):\n",
    "    if args== (): return {}\n",
    "    else: \n",
    "        dic_word_len = {}\n",
    "        for word in args:\n",
    "            word = word.lower()\n",
    "            dic_word_len[word[0]] = max(len(word), dic_word_len.get(word[0],0))\n",
    "        return dic_word_len\n",
    "    \n",
    "print(spell('Математика', 'История', 'химия', 'биология', 'Информатика'))"
   ]
  },
  {
   "attachments": {},
   "cell_type": "markdown",
   "metadata": {},
   "source": [
    "        Реализуйте функцию choose_plural(), которая принимает два аргумента в следующем порядке:\n",
    "\n",
    "        amount — натуральное число, количество\n",
    "        declensions — кортеж из трех вариантов склонения существительного\n",
    "        Функция должна возвращать строку, полученную путем объединения подходящего существительного из кортежа declensions и количества amount, в следующем формате:\n",
    "\n",
    "        <количество> <существительное>\n",
    "        Примечание 1. Передаваемый в функцию кортеж легко составить по мнемоническому правилу: один, два, пять. Например:\n",
    "\n",
    "        для слова «арбуз»: арбуз, арбуза, арбузов\n",
    "        для слова «рубль»: рубль, рубля, рублей"
   ]
  },
  {
   "cell_type": "code",
   "execution_count": 9,
   "metadata": {},
   "outputs": [
    {
     "name": "stdout",
     "output_type": "stream",
     "text": [
      "92 гвоздя\n",
      "512312 центов\n",
      "CPU times: user 1.34 ms, sys: 1.65 ms, total: 2.98 ms\n",
      "Wall time: 13.7 ms\n"
     ]
    }
   ],
   "source": [
    "%%time\n",
    "\n",
    "def choose_plural(amount, declensions):\n",
    "    dic_ends_long = {'1': 0, '234': 1, '056789': 2}\n",
    "    dic_ends_sh = {('11','12','13','14'): 2}\n",
    "\n",
    "    if str(amount)[-2:] in (list(dic_ends_sh.keys())[0]): tr_index = 2\n",
    "    else: \n",
    "        for key in dic_ends_long:\n",
    "            if str(amount)[-1] in key:\n",
    "                tr_index = (dic_ends_long[key])\n",
    "                break \n",
    "    return f'{amount} {declensions[tr_index]}'\n",
    "\n",
    "print(choose_plural(92, ('гвоздь', 'гвоздя', 'гвоздей')))\n",
    "print(choose_plural(512312, ('цент', 'цента', 'центов')))"
   ]
  },
  {
   "attachments": {},
   "cell_type": "markdown",
   "metadata": {},
   "source": [
    "        Реализуйте функцию get_biggest(), которая принимает один аргумент:\n",
    "\n",
    "        numbers — список целых неотрицательных чисел\n",
    "        Функция должна возвращать наибольшее число, которое можно составить из чисел из списка numbers. Если список numbers пуст, функция должна вернуть число −1."
   ]
  },
  {
   "attachments": {},
   "cell_type": "markdown",
   "metadata": {},
   "source": [
    "Так, решение для меня:\n",
    "1) сортировка по лексикографическому смыслу не подойдет - при сравнении чисел 7 и 71 на первое место выйдет 71, тк вторая цифра у него больше, чем пустота у 7 (на индексе 1).\n",
    "\n",
    "2) значит нужно как-то добавить числу цифр, чтобы сравнение шло по-честному - чтобы не было пустот на индексах при сравнении неодинаковых по длине чисел\n",
    "\n",
    "3) тогда самое простое - увеличить \"окончание\" маленького по длине числа путем НАРАЩИВАНИЯ его хвоста из его же цифр\n",
    "\n",
    "4) сделать это можно так:\n",
    "- взять длину максимального числа из всего списка чисел\n",
    "- умножить строковое представление каждого числа на эту длину\n",
    "- принять это значение за ключ функции\n",
    "- отсортировать по убыванию список, используя этот ключ\n",
    "\n",
    "5) останется только сшить этот список воедино в строку и перевести в целое число (для того, чтобы исключить случай, когда список состоит только из нулей)"
   ]
  },
  {
   "cell_type": "code",
   "execution_count": 32,
   "metadata": {},
   "outputs": [
    {
     "name": "stdout",
     "output_type": "stream",
     "text": [
      "961322811\n",
      "77271\n"
     ]
    }
   ],
   "source": [
    "def get_biggest(numbers):\n",
    "    if len(numbers)==0: return -1\n",
    "    else:\n",
    "        max_len_numb = max([len(str(i)) for i in numbers])\n",
    "        true_lst = sorted(numbers, key = lambda x: str(x)* max_len_numb, reverse = True)\n",
    "        return int(''.join([str(numb) for numb in true_lst]))\n",
    "\n",
    "print(get_biggest([61, 228, 9, 3, 11]))\n",
    "print(get_biggest([72, 7, 71]))"
   ]
  },
  {
   "attachments": {},
   "cell_type": "markdown",
   "metadata": {},
   "source": [
    "Так, для напоминания  - как отсортировать (выбрать максимальный) список чисел ТОЛЬКО по первой цифре"
   ]
  },
  {
   "cell_type": "code",
   "execution_count": 11,
   "metadata": {},
   "outputs": [
    {
     "data": {
      "text/plain": [
       "[9, 61, 3, 228, 11]"
      ]
     },
     "execution_count": 11,
     "metadata": {},
     "output_type": "execute_result"
    }
   ],
   "source": [
    "numbers = [61, 228, 9, 3, 11]\n",
    "\n",
    "sorted(numbers, key = lambda x: int(str(x)[0]), reverse = True)"
   ]
  },
  {
   "attachments": {},
   "cell_type": "markdown",
   "metadata": {},
   "source": [
    "Сегодня Тимур ждёт в гости своего друга Артура, чтобы спланировать работу по новому курсу \"ООП на Python\". Чтобы подготовиться к встрече, Тимуру необходимо посетить два магазина, расположенных рядом с его домом. От дома до первого магазина ведёт дорожка длиной \n",
    "�\n",
    "1\n",
    "d \n",
    "1\n",
    "​\n",
    "  метров, а до второго магазина ведёт дорожка длиной \n",
    "�\n",
    "2\n",
    "d \n",
    "2\n",
    "​\n",
    "  метров. Также существует дорожка, соединяющая два магазина друг с другом, длиной \n",
    "�\n",
    "3\n",
    "d \n",
    "3\n",
    "​\n",
    "  метров.\n",
    "\n",
    "Напишите программу, которая вычисляет минимальное расстояние, которое потребуется пройти Тимуру, чтобы посетить оба магазина и вернуться домой. Тимур всегда стартует из дома. Он должен посетить оба магазина, перемещаясь только по имеющимся трём дорожкам, и вернуться назад домой. При этом его совершенно не смутит, если ему придётся посетить один и тот же магазин или пройти по одной и той же дорожке более одного раза. Единственная его задача — минимизировать суммарное пройденное расстояние.\n",
    "\n",
    "Формат входных данных\n",
    "На вход программе подаются \n",
    "3\n",
    "3 натуральных числа  \n",
    "�\n",
    "1\n",
    ",\n",
    " \n",
    "�\n",
    "2\n",
    ",\n",
    " \n",
    "�\n",
    "3\n",
    "d \n",
    "1\n",
    "​\n",
    " , d \n",
    "2\n",
    "​\n",
    " , d \n",
    "3\n",
    "​\n",
    "  — длины дорожек, каждое на отдельной строке:\n",
    "\n",
    "�\n",
    "1\n",
    "d \n",
    "1\n",
    "​\n",
    "  — длина дорожки, соединяющая дом Тимура и первый магазин\n",
    "�\n",
    "2\n",
    "d \n",
    "2\n",
    "​\n",
    "  — длина дорожки, соединяющая дом Тимура и второй магазин\n",
    "�\n",
    "3\n",
    "d \n",
    "3\n",
    "​\n",
    "  — длина дорожки, соединяющая магазины\n",
    "Формат выходных данных\n",
    "Программа должна вывести минимальное количество метров, которое придётся пройти Тимуру, чтобы посетить оба магазина и вернуться домой."
   ]
  },
  {
   "cell_type": "code",
   "execution_count": null,
   "metadata": {},
   "outputs": [],
   "source": [
    "\n",
    "def min_track(d1,d2,d_1_2):\n",
    "    return min([sum([d1,d2,d_1_2]), 2*(d1+d2), 2*(d1+d_1_2), 2*(d2+d_1_2)])\n",
    "\n",
    "d1,d2,d_1_2 = int(input()), int(input()), int(input())\n",
    "\n",
    "print(min_track(d1,d2,d_1_2))\n",
    "\n",
    "\n",
    "\n"
   ]
  },
  {
   "attachments": {},
   "cell_type": "markdown",
   "metadata": {},
   "source": [
    "        Написать функцию, которая решит русские ли буквы или нет"
   ]
  },
  {
   "cell_type": "code",
   "execution_count": null,
   "metadata": {},
   "outputs": [],
   "source": [
    "def is_rus(letters):\n",
    "    eng_let = 'AaBCcEeHKMOoPpTXxy'\n",
    "    rus_let = 'АаВСсЕеНКМОоРрТХху'\n",
    "    dic_in = {eng_let:0, rus_let:1}\n",
    "    for key in dic_in:\n",
    "        if all([letter in key for letter in letters]): \n",
    "            true_in = dic_in[key]\n",
    "            break\n",
    "        else: true_in = 2\n",
    "\n",
    "    return ('en', 'ru', 'mix')[true_in]\n",
    "\n",
    "letters = [input() for _ in range(3)]\n",
    "print(is_rus(letters))"
   ]
  },
  {
   "cell_type": "code",
   "execution_count": null,
   "metadata": {},
   "outputs": [],
   "source": [
    "def is_rus(letters):\n",
    "    eng_let = 'AaBCcEeHKMOoPpTXxy'\n",
    "    rus_let = 'АаВСсЕеНКМОоРрТХху'\n",
    "    if all([letter in eng_let for letter in letters]): true_in =0\n",
    "    elif all([letter in rus_let for letter in letters]): true_in =1\n",
    "    else true_in =2\n",
    "\n",
    "    return ('en', 'ru', 'mix')[true_in]\n",
    "\n",
    "letters = [input() for _ in range(3)]\n",
    "print(is_rus(letters))"
   ]
  }
 ],
 "metadata": {
  "kernelspec": {
   "display_name": "Python 3",
   "language": "python",
   "name": "python3"
  },
  "language_info": {
   "codemirror_mode": {
    "name": "ipython",
    "version": 3
   },
   "file_extension": ".py",
   "mimetype": "text/x-python",
   "name": "python",
   "nbconvert_exporter": "python",
   "pygments_lexer": "ipython3",
   "version": "3.10.7"
  },
  "orig_nbformat": 4,
  "vscode": {
   "interpreter": {
    "hash": "aee8b7b246df8f9039afb4144a1f6fd8d2ca17a180786b69acc140d282b71a49"
   }
  }
 },
 "nbformat": 4,
 "nbformat_minor": 2
}
