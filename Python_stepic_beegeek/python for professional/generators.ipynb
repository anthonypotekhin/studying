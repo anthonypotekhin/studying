{
 "cells": [
  {
   "attachments": {},
   "cell_type": "markdown",
   "metadata": {},
   "source": [
    "### Функции генераторы\n",
    "https://stepik.org/lesson/640048/step/1?unit=636568\n",
    "\n",
    "Функция генератор – это функция, которая возвращает итератор. Она выглядит как обычная функция, за исключением того, что использует выражение yield, а не return."
   ]
  },
  {
   "attachments": {},
   "cell_type": "markdown",
   "metadata": {},
   "source": [
    "Когда вызывается обычная функция, она получает личное пространство имен, в котором создаются ее локальные переменные. Когда обычная функция достигает оператора return, локальные переменные уничтожаются и значение возвращается вызывающей стороне. Последующий вызов той же функции создает новое локальное пространство имен и новый набор локальных переменных.\n",
    "\n",
    "ФУНКЦИЯ ГЕНЕРАТОР, НАПРОТИВ СОХРАНЯЕТ ЛОКАЛЬНЫЕ ПЕРЕМЕННЫЕ ОТ ВЫЗОВА К ВЫЗОВУ. ЭТО СВОЕГО РОДА ВОЗОБНОВЛЯЕМАЯ ФУНКЦИЯ.\n",
    "\n",
    "**ГЕНЕРАТОР – ЭТО ИТЕРАТОР, КОТОРЫЙ ПОРОЖДАЕТ ЗНАЧЕНИЯ, ПЕРЕДАННЫЕ YIELD.**\n",
    "\n",
    "Когда выполнение доходит до конца функции, объект генератор возбуждает исключение StopIteration в полном соответствии с протоколом итератора"
   ]
  },
  {
   "cell_type": "code",
   "execution_count": 4,
   "metadata": {},
   "outputs": [
    {
     "name": "stdout",
     "output_type": "stream",
     "text": [
      "<class 'generator'>\n",
      "0\n",
      "1\n",
      "2\n",
      "3\n",
      "4\n",
      "\n",
      "0\n",
      "1\n",
      "2\n",
      "\n",
      "0 1\n",
      "\n",
      "0 1 2 3 4 5 6 7 8 9\n",
      "<class 'list'>\n"
     ]
    }
   ],
   "source": [
    "def generate_ints(n):           # инициализируем генератор , порождающий числа от 0 до n-1\n",
    "    for num in range(n):\n",
    "        yield num\n",
    "\n",
    "\n",
    "generator1 = generate_ints(5)           # создаем генератор, порождающий числа 0 1 2 3 4\n",
    "\n",
    "print(type(generator1))\n",
    "\n",
    "print(next(generator1))\n",
    "print(next(generator1))\n",
    "print(next(generator1))\n",
    "print(next(generator1))\n",
    "print(next(generator1))\n",
    "\n",
    "print()\n",
    "\n",
    "generator2 = generate_ints(3)           # создаем генератор, порождающий числа 0 1 2\n",
    "\n",
    "for num in generator2:\n",
    "    print(num)\n",
    "\n",
    "print()\n",
    "\n",
    "num1, num2 = generate_ints(2)           # создаем генератор, порождающий числа 0 1\n",
    "print(num1, num2)\n",
    "\n",
    "print()\n",
    "\n",
    "*nums,  = generate_ints(10)  # создаем генератор, порождающий числа от 0 до 9\n",
    "print(*nums)\n",
    "# заодно вспоминаем как упаковать набор элементов в список\n",
    "# упаковка в список\n",
    "\n",
    "print(type(nums))"
   ]
  },
  {
   "cell_type": "code",
   "execution_count": 14,
   "metadata": {},
   "outputs": [
    {
     "name": "stdout",
     "output_type": "stream",
     "text": [
      "['__class__', '__del__', '__delattr__', '__dir__', '__doc__', '__eq__', '__format__', '__ge__', '__getattribute__', '__gt__', '__hash__', '__init__', '__init_subclass__', '__iter__', '__le__', '__lt__', '__name__', '__ne__', '__new__', '__next__', '__qualname__', '__reduce__', '__reduce_ex__', '__repr__', '__setattr__', '__sizeof__', '__str__', '__subclasshook__', 'close', 'gi_code', 'gi_frame', 'gi_running', 'gi_yieldfrom', 'send', 'throw']\n"
     ]
    }
   ],
   "source": [
    "# получить список всех атрибутов генератора можно так\n",
    "\n",
    "def generate_1():\n",
    "    yield 1\n",
    "\n",
    "gen = generate_1()\n",
    "\n",
    "print(dir(gen))"
   ]
  },
  {
   "attachments": {},
   "cell_type": "markdown",
   "metadata": {},
   "source": [
    "Работа с генератором происходит по стандартному сценарию работы с итератором. Мы можем:\n",
    "\n",
    "        вызывать функцию next() для получения очередного значения генератора\n",
    "        итерироваться с помощью цикла for по генератору\n",
    "        распаковывать генератор\n",
    "        проверять принадлежность с помощью оператора in\n",
    "        и т.д."
   ]
  },
  {
   "cell_type": "code",
   "execution_count": 6,
   "metadata": {},
   "outputs": [
    {
     "name": "stdout",
     "output_type": "stream",
     "text": [
      "<class '__main__.GenerateInts'>\n",
      "0\n",
      "1\n",
      "2\n",
      "3\n",
      "4\n",
      "0\n",
      "1\n",
      "2\n",
      "0 1\n",
      "\n",
      "[0, 1, 2, 3, 4, 5, 6, 7, 8]\n"
     ]
    }
   ],
   "source": [
    "# если прописать генератор выше вручную, то он будет выглядеть вот так\n",
    "\n",
    "class GenerateInts:                             \n",
    "    def __init__(self, n):         # конструктор принимает верхнюю границу диапазона\n",
    "        self.n = n\n",
    "        self.current = 0\n",
    "    \n",
    "    def __iter__(self):\n",
    "        return self\n",
    "    \n",
    "    def __next__(self): \n",
    "        if self.current == self.n:\n",
    "            raise StopIteration\n",
    "        else:\n",
    "            self.current += 1\n",
    "            return self.current - 1\n",
    "        \n",
    "iterator1 = GenerateInts(5)           # создаем итератор, содержащий числа 0 1 2 3 4\n",
    "\n",
    "print(type(iterator1))\n",
    "\n",
    "print(next(iterator1))\n",
    "print(next(iterator1))\n",
    "print(next(iterator1))\n",
    "print(next(iterator1))\n",
    "print(next(iterator1))\n",
    "\n",
    "iterator2 = GenerateInts(3)           # создаем итератор, содержащий числа 0 1 2\n",
    "\n",
    "for num in iterator2:\n",
    "    print(num)\n",
    "\n",
    "num1, num2 = GenerateInts(2)          # создаем итератор, содержащий числа 0 1\n",
    "\n",
    "print(num1, num2)\n",
    "\n",
    "print()\n",
    "\n",
    "*nums, = GenerateInts(9)\n",
    "print(nums)"
   ]
  },
  {
   "attachments": {},
   "cell_type": "markdown",
   "metadata": {},
   "source": [
    "#### Функции генераторы с побочными действиями\n",
    "Функция генератор может не только порождать значения, но и совершать различные побочные действия во время выполнения, такие как:\n",
    "\n",
    "- вывод текста на экран\n",
    "- запись данных в файл\n",
    "- приостановка исполняющейся программы на некоторое время\n",
    "- и т.д."
   ]
  },
  {
   "cell_type": "code",
   "execution_count": 7,
   "metadata": {},
   "outputs": [
    {
     "name": "stdout",
     "output_type": "stream",
     "text": [
      "start\n",
      "--> A\n",
      "continue\n",
      "--> B\n",
      "end\n"
     ]
    }
   ],
   "source": [
    "# генератор, который печатает текст во время исполнения\n",
    "\n",
    "def generate_AB():\n",
    "    print('start')\n",
    "    yield 'A'\n",
    "    print('continue')\n",
    "    yield 'B'\n",
    "    print('end')\n",
    "\n",
    "for char in generate_AB():          # здесь цикл for получает на вход итератор: iterator = iter(generate_AB())\n",
    "                                    # затем вызывается next(iterator)\n",
    "                                    \n",
    "    print('-->', char)              # здесь на каждой итерации печатается заданная строка + значение на выходе yield \n",
    "\n",
    "# но до того, как дойти до первого yield - в генераторе стоит вызов print('start')\n",
    "\n",
    "# второй вызов next происходит аналогично \n",
    "\n",
    "\n",
    "# Во время третьей итерации и третьем вызове next(iterator) генератор выполняет строку print('end') и завершает свою работу, \n",
    "# возбуждая исключение StopIteration. Цикл for перехватывает это исключение и нормально завершается."
   ]
  },
  {
   "attachments": {},
   "cell_type": "markdown",
   "metadata": {},
   "source": [
    "Инструкция return в теле генератора\n",
    "\n",
    "инструкция return приводит к возбуждению исключения StopIteration"
   ]
  },
  {
   "cell_type": "code",
   "execution_count": 8,
   "metadata": {},
   "outputs": [
    {
     "name": "stdout",
     "output_type": "stream",
     "text": [
      "1\n",
      "2\n"
     ]
    }
   ],
   "source": [
    "def generate_ints():\n",
    "    yield 1\n",
    "    yield 2\n",
    "    return 3            # создает прерывание генератора-итератора \n",
    "    yield 4\n",
    "\n",
    "for num in generate_ints():\n",
    "    print(num)"
   ]
  },
  {
   "attachments": {},
   "cell_type": "markdown",
   "metadata": {},
   "source": [
    "#### Основные особенности, присущие всем функциям генераторам:\n",
    "\n",
    "1) любая функция, содержащая ключевое слово yield, является функцией генератором\n",
    "\n",
    "2) когда вызывается функция генератор, то она не возвращает единственное значение, как это делает обыкновенная функция\n",
    "\n",
    "3) функция генератор всегда возвращает объект типа generator, который поддерживает протокол итератора"
   ]
  },
  {
   "attachments": {},
   "cell_type": "markdown",
   "metadata": {},
   "source": [
    "#### Примеры использования генераторов"
   ]
  },
  {
   "cell_type": "code",
   "execution_count": 9,
   "metadata": {},
   "outputs": [
    {
     "name": "stdout",
     "output_type": "stream",
     "text": [
      "3\n",
      "4\n",
      "5\n",
      "6\n",
      "7\n",
      "8\n",
      "9\n",
      "10\n",
      "100\n",
      "101\n"
     ]
    }
   ],
   "source": [
    "# генератор - итератор чисел в заданном дипазоне\n",
    "\n",
    "def counter(low, high):\n",
    "    for num in range(low, high + 1):\n",
    "        yield num\n",
    "\n",
    "counter1 = counter(3, 10)\n",
    "\n",
    "for i in counter1:\n",
    "    print(i)\n",
    "\n",
    "counter2 = counter(100, 103)\n",
    "print(next(counter2))\n",
    "print(next(counter2))"
   ]
  },
  {
   "cell_type": "code",
   "execution_count": 10,
   "metadata": {},
   "outputs": [
    {
     "name": "stdout",
     "output_type": "stream",
     "text": [
      "10\n",
      "12\n",
      "14\n",
      "16\n",
      "18\n",
      "20\n",
      "\n",
      "102\n",
      "104\n",
      "106\n",
      "108\n"
     ]
    }
   ],
   "source": [
    "# генератор бесконечной последовательности целых четных чисел\n",
    "\n",
    "def even_numbers(begin):\n",
    "    begin += begin % 2\n",
    "    while True:\n",
    "        yield begin\n",
    "        begin += 2\n",
    "\n",
    "evens1 = even_numbers(10)                     # все четные числа от 10 до бесконечности\n",
    "\n",
    "for index, num in enumerate(evens1):\n",
    "    if index > 5:\n",
    "        break\n",
    "    print(num)\n",
    "\n",
    "print()\n",
    "\n",
    "evens2 = even_numbers(101)                    # все четные числа от 102 до бесконечности\n",
    "\n",
    "print(next(evens2))\n",
    "print(next(evens2))\n",
    "print(next(evens2))\n",
    "print(next(evens2))"
   ]
  },
  {
   "cell_type": "code",
   "execution_count": 11,
   "metadata": {},
   "outputs": [
    {
     "name": "stdout",
     "output_type": "stream",
     "text": [
      "~b~\n",
      "~e~\n",
      "~e~\n",
      "~g~\n",
      "~e~\n",
      "~e~\n",
      "~k~\n"
     ]
    }
   ],
   "source": [
    "# упаковка элементов последовательности в рамки (обрамление)\n",
    "def string_wrapper(text, symbol):\n",
    "    for char in text:\n",
    "        yield symbol + char + symbol\n",
    "\n",
    "string_wrapper1 = string_wrapper('beegeek', '~')\n",
    "\n",
    "for char in string_wrapper1:\n",
    "    print(char)"
   ]
  },
  {
   "cell_type": "code",
   "execution_count": 13,
   "metadata": {},
   "outputs": [
    {
     "name": "stdout",
     "output_type": "stream",
     "text": [
      "Факториал числа 1 равен 1\n",
      "Факториал числа 2 равен 2\n",
      "Факториал числа 3 равен 6\n",
      "Факториал числа 4 равен 24\n",
      "Факториал числа 5 равен 120\n",
      "Факториал числа 6 равен 720\n",
      "Факториал числа 7 равен 5040\n",
      "Факториал числа 8 равен 40320\n",
      "Факториал числа 9 равен 362880\n",
      "Факториал числа 10 равен 3628800\n"
     ]
    }
   ],
   "source": [
    "# генератор факториалов чисел\n",
    "\n",
    "def factorials():\n",
    "    value = 1\n",
    "    index = 1\n",
    "    while True:\n",
    "        yield value \n",
    "        index += 1             # генератор ПОМНИТ последнее число предыдущей итерации\n",
    "        value *= index      # генератор ПОМНИТ последнее число предыдущей итерации\n",
    "\n",
    "infinite_factorials = factorials()\n",
    "\n",
    "for index, num in enumerate(infinite_factorials, 1):\n",
    "    if index <= 10:\n",
    "        print(f'Факториал числа {index} равен {num}')\n",
    "    else: break"
   ]
  },
  {
   "attachments": {},
   "cell_type": "markdown",
   "metadata": {},
   "source": [
    "Хороший пример на понимание того, ЧТО возвращает генератор"
   ]
  },
  {
   "cell_type": "code",
   "execution_count": 15,
   "metadata": {},
   "outputs": [
    {
     "name": "stdout",
     "output_type": "stream",
     "text": [
      "b\n",
      "b\n",
      "b\n"
     ]
    }
   ],
   "source": [
    "def bee():\n",
    "    yield 'b'\n",
    "    yield 'e'\n",
    "    yield 'e'\n",
    "\n",
    "# здесь мы в ЯВНОМ виде не прописали никакой переменной возвращаемое значение функции-генератора\n",
    "# а функция-генератор ВСЕГДА возвращает итератор\n",
    "\n",
    "print(next(bee()))  # вернули итератор и запросили первое значение - это 'b'\n",
    "print(next(bee()))  # СНОВА вернули НОВЫЙ итератор и запросили первое значение - это 'b'\n",
    "print(next(bee()))  # и опять создали НОВЫЙ итератор и запросили первое значение - это 'b'"
   ]
  },
  {
   "attachments": {},
   "cell_type": "markdown",
   "metadata": {},
   "source": [
    "        Функция simple_sequence()\n",
    "        Реализуйте генераторную функцию simple_sequence(), которая не принимает никаких аргументов.\n",
    "\n",
    "        Функция должна возвращать генератор, порождающий бесконечную возрастающую последовательность натуральных чисел, в которой каждое число встречается столько раз, каково оно:\n",
    "        1,2,2,3,3,3,4,4,4,4,.."
   ]
  },
  {
   "cell_type": "code",
   "execution_count": 38,
   "metadata": {},
   "outputs": [
    {
     "name": "stdout",
     "output_type": "stream",
     "text": [
      "1\n",
      "2\n",
      "2\n",
      "3\n",
      "3\n",
      "3\n",
      "4\n",
      "4\n",
      "4\n",
      "4\n",
      "5\n",
      "5\n",
      "5\n",
      "5\n",
      "5\n"
     ]
    }
   ],
   "source": [
    "def simple_sequence():\n",
    "    num, ind = 1 , 0\n",
    "    while True:\n",
    "        ind +=1\n",
    "        if ind > num:\n",
    "            num = ind\n",
    "            ind = 1\n",
    "        yield num\n",
    "\n",
    "infinite_seq = simple_sequence()\n",
    "for ind, elem in enumerate(infinite_seq):\n",
    "    if ind >= 15: break\n",
    "    print(elem)\n"
   ]
  },
  {
   "cell_type": "code",
   "execution_count": 39,
   "metadata": {},
   "outputs": [
    {
     "name": "stdout",
     "output_type": "stream",
     "text": [
      "1\n",
      "2\n",
      "2\n",
      "3\n",
      "3\n",
      "3\n",
      "4\n",
      "4\n",
      "4\n",
      "4\n",
      "5\n",
      "5\n",
      "5\n",
      "5\n",
      "5\n"
     ]
    }
   ],
   "source": [
    "# с циклом\n",
    "def simple_sequence():\n",
    "    number = 1\n",
    "    while True:\n",
    "        for _ in range(number):\n",
    "            yield number\n",
    "        number += 1\n",
    "\n",
    "infinite_seq = simple_sequence()\n",
    "for ind, elem in enumerate(infinite_seq):\n",
    "    if ind >= 15: break\n",
    "    print(elem)\n"
   ]
  },
  {
   "cell_type": "code",
   "execution_count": 37,
   "metadata": {},
   "outputs": [
    {
     "name": "stdout",
     "output_type": "stream",
     "text": [
      "1\n",
      "2\n",
      "2\n",
      "3\n",
      "3\n",
      "3\n",
      "4\n",
      "4\n",
      "4\n",
      "4\n",
      "5\n",
      "5\n",
      "5\n",
      "5\n",
      "5\n"
     ]
    }
   ],
   "source": [
    "class SimSeq:\n",
    "    def __init__(self) -> None:\n",
    "        self.index = 0\n",
    "        self.value = 1\n",
    "\n",
    "    def __iter__(self):\n",
    "        return self\n",
    "    \n",
    "    def __next__(self):\n",
    "        self.index +=1\n",
    "        if self.index > self.value:\n",
    "            self.value = self.index\n",
    "            self.index = 1\n",
    "       \n",
    "\n",
    "        return self.value\n",
    "\n",
    "sim_seq = SimSeq()\n",
    "\n",
    "for ind, elem in enumerate(sim_seq):\n",
    "    if ind >= 15: break\n",
    "    print(elem)"
   ]
  },
  {
   "attachments": {},
   "cell_type": "markdown",
   "metadata": {},
   "source": [
    "        Функция alternating_sequence()\n",
    "        Реализуйте генераторную функцию alternating_sequence(), которая принимает один аргумент:\n",
    "\n",
    "        count — натуральное число, по умолчанию имеет значение None\n",
    "        Если count имеет значение None, функция должна возвращать генератор, порождающий бесконечный знакочередующийся ряд натуральных чисел.\n",
    "\n",
    "        Если count имеет в качестве значения натуральное число, функция должна возвращать генератор, порождающий первые count чисел знакочередующегося ряда натуральных чисел, а затем возбуждающий исключение StopIteration."
   ]
  },
  {
   "cell_type": "code",
   "execution_count": 54,
   "metadata": {},
   "outputs": [
    {
     "name": "stdout",
     "output_type": "stream",
     "text": [
      "1\n",
      "-2\n",
      "3\n",
      "-4\n",
      "5\n",
      "-6\n"
     ]
    }
   ],
   "source": [
    "def alternating_sequence(count: int = None):\n",
    "    start = 1\n",
    "    \n",
    "    while True:\n",
    "        num_sign = (1,-1)[start%2 == 0 ]\n",
    "        start = abs(start) + 1\n",
    "        yield (start - 1) * num_sign\n",
    "        if abs(start)-1 == count: return \n",
    "\n",
    "alt_seq = alternating_sequence()\n",
    "print(next(alt_seq))\n",
    "print(next(alt_seq))\n",
    "print(next(alt_seq))\n",
    "\n",
    "print(next(alt_seq))\n",
    "print(next(alt_seq))\n",
    "print(next(alt_seq))\n"
   ]
  },
  {
   "cell_type": "code",
   "execution_count": 55,
   "metadata": {},
   "outputs": [
    {
     "name": "stdout",
     "output_type": "stream",
     "text": [
      "1 -2 3 -4 5 -6 7 -8 9 -10\n"
     ]
    }
   ],
   "source": [
    "generator = alternating_sequence(10)\n",
    "\n",
    "print(*generator)\n"
   ]
  },
  {
   "attachments": {},
   "cell_type": "markdown",
   "metadata": {},
   "source": [
    "        Функция primes()\n",
    "        Реализуйте генераторную функцию primes(), которая принимает два аргумента в следующем порядке:\n",
    "\n",
    "        left — натуральное число\n",
    "        right — натуральное число\n",
    "        Функция должна возвращать генератор, порождающий последовательность простых чисел от left до right включительно, а затем возбуждающий исключение StopIteration.\n",
    "\n",
    "        Примечание 1. Гарантируется, что left <= right.\n",
    "\n",
    "        Примечание 2. Простое число — натуральное число, имеющее ровно два различных натуральных делителя — единицу и самого себя. Единица простым числом не является. "
   ]
  },
  {
   "cell_type": "code",
   "execution_count": 70,
   "metadata": {},
   "outputs": [
    {
     "name": "stdout",
     "output_type": "stream",
     "text": [
      "2 3 5 7 11 13\n"
     ]
    }
   ],
   "source": [
    "def is_prime(number):\n",
    "    if number == 1: return False\n",
    "    for num in range (2,number):\n",
    "        if number%num == 0:\n",
    "            return False\n",
    "    return True\n",
    "\n",
    "def primes(left,right):\n",
    "    \n",
    "    while left <= right:\n",
    "        left +=1\n",
    "        if is_prime(left-1):\n",
    "            yield left-1\n",
    "\n",
    "generator = primes(1, 15)\n",
    "\n",
    "print(*generator)"
   ]
  },
  {
   "cell_type": "code",
   "execution_count": 71,
   "metadata": {},
   "outputs": [
    {
     "name": "stdout",
     "output_type": "stream",
     "text": [
      "7\n",
      "11\n"
     ]
    }
   ],
   "source": [
    "generator = primes(6, 36)\n",
    "\n",
    "print(next(generator))\n",
    "print(next(generator))"
   ]
  },
  {
   "cell_type": "code",
   "execution_count": 69,
   "metadata": {},
   "outputs": [
    {
     "data": {
      "text/plain": [
       "True"
      ]
     },
     "execution_count": 69,
     "metadata": {},
     "output_type": "execute_result"
    }
   ],
   "source": [
    "def is_prime(number):\n",
    "    if number == 1: return False\n",
    "    for num in range (2,number):\n",
    "        if number%num == 0:\n",
    "            return False\n",
    "    return True\n",
    "\n",
    "is_prime(997)"
   ]
  },
  {
   "cell_type": "code",
   "execution_count": 65,
   "metadata": {},
   "outputs": [
    {
     "data": {
      "text/plain": [
       "False"
      ]
     },
     "execution_count": 65,
     "metadata": {},
     "output_type": "execute_result"
    }
   ],
   "source": [
    "is_prime(15)"
   ]
  },
  {
   "cell_type": "code",
   "execution_count": 67,
   "metadata": {},
   "outputs": [
    {
     "data": {
      "text/plain": [
       "True"
      ]
     },
     "execution_count": 67,
     "metadata": {},
     "output_type": "execute_result"
    }
   ],
   "source": [
    "is_prime(17)"
   ]
  },
  {
   "attachments": {},
   "cell_type": "markdown",
   "metadata": {},
   "source": [
    "        Функция reverse()\n",
    "        Реализуйте генераторную функцию reverse(), которая принимает один аргумент:\n",
    "\n",
    "        sequence — последовательность\n",
    "        Функция должна возвращать генератор, порождающий элементы последовательности sequence в обратном порядке, а затем возбуждающий исключение StopIteration.\n",
    "\n",
    "        Примечание 1. Последовательностью является коллекция, поддерживающая индексацию и имеющая длину. Например, объекты типа list, str, tuple являются последовательностями."
   ]
  },
  {
   "cell_type": "code",
   "execution_count": 76,
   "metadata": {},
   "outputs": [
    {
     "name": "stdout",
     "output_type": "stream",
     "text": [
      "5 4 3 2 1\n"
     ]
    }
   ],
   "source": [
    "def reverse(sequence):\n",
    "    ind=0\n",
    "    while True:\n",
    "        ind +=1\n",
    "        try:\n",
    "            res = sequence[-ind]\n",
    "            yield res\n",
    "        except IndexError:\n",
    "            return\n",
    "        \n",
    "\n",
    "print(*reverse([1, 2, 3, 4, 5]))"
   ]
  },
  {
   "cell_type": "code",
   "execution_count": 77,
   "metadata": {},
   "outputs": [
    {
     "name": "stdout",
     "output_type": "stream",
     "text": [
      "<class 'generator'>\n",
      "k e e g e e b\n"
     ]
    }
   ],
   "source": [
    "generator = reverse('beegeek')\n",
    "\n",
    "print(type(generator))\n",
    "print(*generator)"
   ]
  },
  {
   "attachments": {},
   "cell_type": "markdown",
   "metadata": {},
   "source": [
    "        Функция dates()\n",
    "        Реализуйте генераторную функцию dates(), которая принимает два аргумента в следующем порядке:\n",
    "\n",
    "        start — дата, тип date\n",
    "        count — натуральное число, по умолчанию имеет значение None\n",
    "        Если count имеет значение None, функция должна возвращать генератор, порождающий последовательность из максимально допустимого количества дат (тип date), начиная с даты start.\n",
    "\n",
    "        Если count имеет в качестве значения натуральное число, функция должна возвращать генератор, порождающий последовательность из count дат (тип date), начиная с даты start, а затем возбуждающий исключение StopIteration."
   ]
  },
  {
   "cell_type": "code",
   "execution_count": 98,
   "metadata": {},
   "outputs": [
    {
     "name": "stderr",
     "output_type": "stream",
     "text": [
      "Exception ignored in: <generator object dates at 0x108395540>\n",
      "Traceback (most recent call last):\n",
      "  File \"/var/folders/9t/0d2y6zvs0pn1b5hks81yn5jw0000gn/T/ipykernel_43151/75712271.py\", line 20, in <module>\n",
      "RuntimeError: generator ignored GeneratorExit\n"
     ]
    },
    {
     "name": "stdout",
     "output_type": "stream",
     "text": [
      "2022-03-08\n",
      "2022-03-09\n",
      "2022-03-10\n",
      "\n",
      "2022-03-08 2022-03-09 2022-03-10 2022-03-11 2022-03-12\n"
     ]
    }
   ],
   "source": [
    "from datetime import date, timedelta\n",
    "def dates(start: date, count: int = None):\n",
    "    end = start\n",
    "    while (end - start).days != count:\n",
    "        try: \n",
    "            end += timedelta(days=1)\n",
    "            yield end - timedelta(days=1)\n",
    "        except :\n",
    "            yield end\n",
    "            return\n",
    "\n",
    "generator = dates(date(2022, 3, 8))\n",
    "\n",
    "print(next(generator))\n",
    "print(next(generator))\n",
    "print(next(generator))\n",
    "\n",
    "print()\n",
    "\n",
    "generator = dates(date(2022, 3, 8), 5)\n",
    "\n",
    "print(*generator)"
   ]
  },
  {
   "cell_type": "code",
   "execution_count": 97,
   "metadata": {},
   "outputs": [
    {
     "name": "stdout",
     "output_type": "stream",
     "text": [
      "9999-12-21\n",
      "9999-12-22\n",
      "9999-12-23\n",
      "9999-12-24\n",
      "9999-12-25\n",
      "9999-12-26\n",
      "9999-12-27\n",
      "9999-12-28\n",
      "9999-12-29\n",
      "9999-12-30\n",
      "9999-12-31\n",
      "Error\n"
     ]
    }
   ],
   "source": [
    "generator = dates(date(9999, 1, 7))\n",
    "\n",
    "for _ in range(348):\n",
    "    next(generator)\n",
    "\n",
    "print(next(generator))\n",
    "print(next(generator))\n",
    "print(next(generator))\n",
    "print(next(generator))\n",
    "print(next(generator))\n",
    "print(next(generator))\n",
    "print(next(generator))\n",
    "print(next(generator))\n",
    "print(next(generator))\n",
    "print(next(generator))\n",
    "print(next(generator))\n",
    "\n",
    "try:\n",
    "   print(next(generator))\n",
    "except StopIteration:\n",
    "    print('Error')"
   ]
  },
  {
   "cell_type": "code",
   "execution_count": 85,
   "metadata": {},
   "outputs": [
    {
     "data": {
      "text/plain": [
       "datetime.timedelta(days=1)"
      ]
     },
     "execution_count": 85,
     "metadata": {},
     "output_type": "execute_result"
    }
   ],
   "source": [
    "from datetime import date, timedelta\n",
    "(date(2022,4,2) - date (2022,4,1))"
   ]
  },
  {
   "cell_type": "code",
   "execution_count": 87,
   "metadata": {},
   "outputs": [
    {
     "data": {
      "text/plain": [
       "datetime.date(2022, 4, 3)"
      ]
     },
     "execution_count": 87,
     "metadata": {},
     "output_type": "execute_result"
    }
   ],
   "source": [
    "date(2022,4,2) + timedelta(days=1)"
   ]
  },
  {
   "attachments": {},
   "cell_type": "markdown",
   "metadata": {},
   "source": [
    "        Функция card_deck()\n",
    "        Реализуйте генераторную функцию card_deck(), которая принимает один аргумент:\n",
    "\n",
    "        suit — одна из четырех карточных мастей: пик, треф, бубен, червей\n",
    "        Функция должна возвращать генератор, циклично порождающий колоду игральных карт без масти suit. Каждая карта должна представлять собой строку в следующем формате:\n",
    "\n",
    "        <номинал> <масть>\n",
    "        Например, 7 пик, валет треф, дама бубен, король червей, туз пик.\n",
    "\n",
    "        Примечание 1. Карты, генерируемые итератором, должны располагаться сначала по величине номинала, затем масти.\n",
    "\n",
    "        Примечание 2. Старшинство мастей по возрастанию: пики, трефы, бубны, червы. Старшинство карт в масти по возрастанию: двойка, тройка, четверка, пятерка, шестерка, семерка, восьмерка, девятка, десятка, валет, дама, король, туз.\n",
    "\n",
    "        Примечание 3. Масти не требуют склонения и независимо от номинала должны сохранять следующее написание: пик, треф, бубен, червей."
   ]
  },
  {
   "cell_type": "code",
   "execution_count": 140,
   "metadata": {},
   "outputs": [
    {
     "name": "stdout",
     "output_type": "stream",
     "text": [
      "2 треф\n",
      "3 треф\n",
      "4 треф\n"
     ]
    }
   ],
   "source": [
    "def card_deck(suit):\n",
    "    card_values = ('2','3','4','5','6','7','8',\n",
    "                    '9','10','валет','дама','король','туз')\n",
    "    card_suites = ['пик','треф','бубен','червей']\n",
    "    card_suites.remove(suit)\n",
    "\n",
    "    ind_val , ind_suit = -1, -1 \n",
    "    while True:\n",
    "        ind_suit +=1\n",
    "        if ind_suit >2:\n",
    "            ind_suit = -1\n",
    "            continue\n",
    "        while ind_val != 12:\n",
    "            ind_val +=1\n",
    "            yield f'{card_values[ind_val]} {card_suites[ind_suit]}'\n",
    "        ind_val = -1\n",
    "        \n",
    "        \n",
    "\n",
    "\n",
    "generator = card_deck('пик')\n",
    "\n",
    "print(next(generator))\n",
    "print(next(generator))\n",
    "print(next(generator))"
   ]
  },
  {
   "cell_type": "code",
   "execution_count": 141,
   "metadata": {},
   "outputs": [
    {
     "name": "stdout",
     "output_type": "stream",
     "text": [
      "2 пик\n",
      "3 пик\n",
      "4 пик\n",
      "5 пик\n",
      "6 пик\n",
      "7 пик\n",
      "8 пик\n",
      "9 пик\n",
      "10 пик\n",
      "валет пик\n",
      "дама пик\n",
      "король пик\n",
      "туз пик\n",
      "2 бубен\n",
      "3 бубен\n",
      "4 бубен\n",
      "5 бубен\n",
      "6 бубен\n",
      "7 бубен\n",
      "8 бубен\n",
      "9 бубен\n",
      "10 бубен\n",
      "валет бубен\n",
      "дама бубен\n",
      "король бубен\n",
      "туз бубен\n",
      "2 червей\n",
      "3 червей\n",
      "4 червей\n",
      "5 червей\n",
      "6 червей\n",
      "7 червей\n",
      "8 червей\n",
      "9 червей\n",
      "10 червей\n",
      "валет червей\n",
      "дама червей\n",
      "король червей\n",
      "туз червей\n",
      "2 пик\n",
      "3 пик\n",
      "4 пик\n",
      "5 пик\n",
      "6 пик\n",
      "7 пик\n",
      "8 пик\n",
      "9 пик\n",
      "10 пик\n",
      "валет пик\n",
      "дама пик\n",
      "король пик\n",
      "туз пик\n",
      "2 бубен\n",
      "3 бубен\n",
      "4 бубен\n",
      "5 бубен\n",
      "6 бубен\n",
      "7 бубен\n",
      "8 бубен\n",
      "9 бубен\n",
      "10 бубен\n"
     ]
    }
   ],
   "source": [
    "generator = card_deck('треф')\n",
    "\n",
    "for ind,card in enumerate(generator,1):\n",
    "    if ind>=62: break\n",
    "    print(card)"
   ]
  },
  {
   "cell_type": "code",
   "execution_count": 142,
   "metadata": {},
   "outputs": [
    {
     "name": "stdout",
     "output_type": "stream",
     "text": [
      "2 пик 3 пик 4 пик 5 пик 6 пик 7 пик 8 пик 9 пик 10 пик валет пик дама пик король пик туз пик 2 бубен 3 бубен 4 бубен 5 бубен 6 бубен 7 бубен 8 бубен 9 бубен 10 бубен валет бубен дама бубен король бубен туз бубен 2 червей 3 червей 4 червей 5 червей 6 червей 7 червей 8 червей 9 червей 10 червей валет червей дама червей король червей туз червей 2 пик\n"
     ]
    }
   ],
   "source": [
    "generator = card_deck('треф')\n",
    "cards = [next(generator) for _ in range(40)]\n",
    "\n",
    "print(*cards)"
   ]
  },
  {
   "cell_type": "code",
   "execution_count": 104,
   "metadata": {},
   "outputs": [
    {
     "data": {
      "text/plain": [
       "['треф', 'бубен', 'червей']"
      ]
     },
     "execution_count": 104,
     "metadata": {},
     "output_type": "execute_result"
    }
   ],
   "source": [
    "abcd = ['пик','треф','бубен','червей']\n",
    "\n",
    "abcd.remove('пик')\n",
    "\n",
    "abcd"
   ]
  },
  {
   "cell_type": "code",
   "execution_count": 143,
   "metadata": {},
   "outputs": [
    {
     "name": "stdout",
     "output_type": "stream",
     "text": [
      "2 пик 3 пик 4 пик 5 пик 6 пик 7 пик 8 пик 9 пик 10 пик валет пик дама пик король пик туз пик 2 бубен 3 бубен 4 бубен 5 бубен 6 бубен 7 бубен 8 бубен 9 бубен 10 бубен валет бубен дама бубен король бубен туз бубен 2 червей 3 червей 4 червей 5 червей 6 червей 7 червей 8 червей 9 червей 10 червей валет червей дама червей король червей туз червей 2 пик\n"
     ]
    }
   ],
   "source": [
    "# красивое решение на генератор игральных карт\n",
    "\n",
    "def card_deck(suit):\n",
    "    nums = list(range(2, 11)) + ['валет', 'дама', 'король', 'туз']\n",
    "    deck = ['пик', 'треф', 'бубен', 'червей']\n",
    "    while True:\n",
    "        for i in deck:\n",
    "            if i == suit:\n",
    "                continue\n",
    "            for num in nums:\n",
    "                yield f'{num} {i}'\n",
    "\n",
    "\n",
    "generator = card_deck('треф')\n",
    "cards = [next(generator) for _ in range(40)]\n",
    "\n",
    "print(*cards)"
   ]
  },
  {
   "attachments": {},
   "cell_type": "markdown",
   "metadata": {},
   "source": [
    "#### Конструкция yield from"
   ]
  },
  {
   "cell_type": "code",
   "execution_count": 144,
   "metadata": {},
   "outputs": [
    {
     "name": "stdout",
     "output_type": "stream",
     "text": [
      "0\n",
      "1\n",
      "2\n",
      "3\n",
      "4\n",
      "A\n",
      "B\n",
      "C\n"
     ]
    }
   ],
   "source": [
    "def get_data():\n",
    "    for num in range(5):\n",
    "        yield num\n",
    "    for char in 'ABC':\n",
    "        yield char\n",
    "\n",
    "for i in get_data():\n",
    "    print(i)"
   ]
  },
  {
   "attachments": {},
   "cell_type": "markdown",
   "metadata": {},
   "source": [
    "можно заменить упрощенным кодом"
   ]
  },
  {
   "cell_type": "code",
   "execution_count": 146,
   "metadata": {},
   "outputs": [
    {
     "name": "stdout",
     "output_type": "stream",
     "text": [
      "0\n",
      "1\n",
      "2\n",
      "3\n",
      "4\n",
      "A\n",
      "B\n",
      "C\n"
     ]
    }
   ],
   "source": [
    "def get_data():\n",
    "    yield from range(5)     # объединить две конструкции: yield и цикл for\n",
    "    yield from 'ABC'\n",
    "\n",
    "for i in get_data():\n",
    "    print(i)"
   ]
  },
  {
   "attachments": {},
   "cell_type": "markdown",
   "metadata": {},
   "source": [
    "Объединение конструкции yield и цикла for лишь часть возможностей yield from. \n",
    "        \n",
    "        На самом деле конструкция yield from позволяет вкладывать один генератор в другой, таким образом создавать субгенераторы (вложенные генераторы)."
   ]
  },
  {
   "cell_type": "code",
   "execution_count": 147,
   "metadata": {},
   "outputs": [
    {
     "name": "stdout",
     "output_type": "stream",
     "text": [
      "Green Red Blue Yellow Black "
     ]
    }
   ],
   "source": [
    "def generator2():\n",
    "    yield 'Red'\n",
    "    yield 'Blue'\n",
    "\n",
    "def generator1():\n",
    "    yield 'Green'\n",
    "    yield from generator2()            # запрашиваем значение из субгенератора\n",
    "    yield 'Yellow'\n",
    "    yield 'Black'\n",
    "\n",
    "for color in generator1():\n",
    "    print(color, end=' ')"
   ]
  },
  {
   "attachments": {},
   "cell_type": "markdown",
   "metadata": {},
   "source": [
    "Когда генератор generator1() вызывает yield from generator2(), субгенератор generator2() перехватывает управление и начинает отдавать значения туда, откуда был вызван generator1(). А тем временем generator1() остается блокированным в ожидании завершения generator2(). Таким образом, эффект получается таким же, как если бы тело субгенератора было встроено в месте, где находится выражение yield from"
   ]
  },
  {
   "attachments": {},
   "cell_type": "markdown",
   "metadata": {},
   "source": [
    "#### Рекурсивные функции-генераторы"
   ]
  },
  {
   "cell_type": "code",
   "execution_count": 148,
   "metadata": {},
   "outputs": [
    {
     "name": "stdout",
     "output_type": "stream",
     "text": [
      "3\n",
      "4\n",
      "5\n",
      "6\n",
      "7\n",
      "8\n"
     ]
    }
   ],
   "source": [
    "def numbers(start):\n",
    "    if not isinstance(start, int):\n",
    "        raise TypeError('Аргументом должно быть целое число')\n",
    "    yield start\n",
    "    yield from numbers(start + 1)\n",
    "\n",
    "\n",
    "for index, number in enumerate(numbers(3)):\n",
    "    if index > 5:\n",
    "        break\n",
    "    print(number)"
   ]
  },
  {
   "attachments": {},
   "cell_type": "markdown",
   "metadata": {},
   "source": [
    "        Функция matrix_by_elem()\n",
    "        Вам доступна генераторная функция matrix_by_elem(), которая принимает в качестве аргумента матрицу произвольной размерности и возвращает генератор, порождающий последовательность элементов переданной матрицы.\n",
    "\n",
    "        Перепишете данную функцию с использованием конструкции yield from, чтобы она выполняла ту же задачу"
   ]
  },
  {
   "cell_type": "code",
   "execution_count": 150,
   "metadata": {},
   "outputs": [
    {
     "name": "stdout",
     "output_type": "stream",
     "text": [
      "1 2 3 4 5 6\n"
     ]
    }
   ],
   "source": [
    "def matrix_by_elem(matrix):\n",
    "    for line in matrix:\n",
    "        yield from line\n",
    "\n",
    "print(*matrix_by_elem([[1,2], [3,4], [5,6]]))"
   ]
  },
  {
   "attachments": {},
   "cell_type": "markdown",
   "metadata": {},
   "source": [
    "        Функция palindromes()\n",
    "        Реализуйте генераторную функцию palindromes(), которая не принимает никаких аргументов.\n",
    "\n",
    "        Функция должна возвращать генератор, порождающий бесконечную последовательность натуральных чисел-палиндромов."
   ]
  },
  {
   "cell_type": "code",
   "execution_count": 153,
   "metadata": {},
   "outputs": [
    {
     "name": "stdout",
     "output_type": "stream",
     "text": [
      "1 2 3 4 5 6 7 8 9 11 22 33 44 55 66 77 88 99 101 111 121 131 141 151 161 171 181 191 202 212\n"
     ]
    }
   ],
   "source": [
    "def palindromes():\n",
    "    num = 0 \n",
    "    while True:\n",
    "        num +=1\n",
    "        if str(num) == str(num)[::-1]:\n",
    "            yield num\n",
    "\n",
    "\n",
    "\n",
    "generator = palindromes()\n",
    "numbers = [next(generator) for _ in range(30)]\n",
    "\n",
    "print(*numbers)"
   ]
  },
  {
   "attachments": {},
   "cell_type": "markdown",
   "metadata": {},
   "source": [
    "        Функция flatten()\n",
    "        Реализуйте генераторную функцию flatten(), которая принимает один аргумент:\n",
    "\n",
    "        nested_list — список, элементами которого являются целые числа или списки, элементами которых, в свою очередь, также являются либо целые числа, либо списки; вложенность может быть произвольной\n",
    "        Функция должна возвращать генератор, порождающий все числа, содержащиеся в nested_list, включая все числа из всех вложенных списков, а затем возбуждает исключение StopIteration."
   ]
  },
  {
   "cell_type": "code",
   "execution_count": 166,
   "metadata": {},
   "outputs": [
    {
     "name": "stdout",
     "output_type": "stream",
     "text": [
      "1 2 3 4 5\n"
     ]
    }
   ],
   "source": [
    "def flatten(nested_list):\n",
    "    res = []\n",
    "    for elem in nested_list:\n",
    "        if isinstance(elem, list):\n",
    "            res.extend(flatten(elem))\n",
    "        else: res.append(elem)\n",
    "    return iter(res)\n",
    "\n",
    "generator = flatten([[1, 2], [[3]], [[4], 5]])\n",
    "\n",
    "print(*generator)"
   ]
  },
  {
   "cell_type": "code",
   "execution_count": 167,
   "metadata": {},
   "outputs": [
    {
     "name": "stdout",
     "output_type": "stream",
     "text": [
      "1 2 3 4 5\n"
     ]
    }
   ],
   "source": [
    "def flatten(nested_list):\n",
    "    for i in nested_list:\n",
    "        if isinstance(i, list):\n",
    "            yield from flatten(i)\n",
    "        else:\n",
    "            yield i\n",
    "\n",
    "generator = flatten([[1, 2], [[3]], [[4], 5]])\n",
    "\n",
    "print(*generator)"
   ]
  },
  {
   "attachments": {},
   "cell_type": "markdown",
   "metadata": {},
   "source": [
    "### Генераторные выражения"
   ]
  },
  {
   "attachments": {},
   "cell_type": "markdown",
   "metadata": {},
   "source": [
    "Почему генераторные выражения, а не списочные выражения?\n",
    "\n",
    "потому что списочное выражение хранится в памяти целиком, в отличие от генераторного выражения, создающего элементы \"на лету\" при вызове next() "
   ]
  },
  {
   "cell_type": "code",
   "execution_count": 2,
   "metadata": {},
   "outputs": [
    {
     "name": "stdout",
     "output_type": "stream",
     "text": [
      "<class 'generator'>\n",
      "<generator object <genexpr> at 0x10d8c6ce0>\n",
      "104\n",
      "\n",
      "<class 'list'>\n",
      "[8, 90, -56, -34, 56, 100, 90, 2, 8]\n",
      "184\n"
     ]
    }
   ],
   "source": [
    "from sys import getsizeof\n",
    "\n",
    "numbers = [1, 9, 8, 7, 90, -56, -34, 56, 100, 90, 2, 8]\n",
    "\n",
    "even_numbers = (num for num in numbers if num % 2 == 0)         # используем круглые скобки\n",
    "\n",
    "print(type(even_numbers))\n",
    "print(even_numbers)\n",
    "print(getsizeof(even_numbers))\n",
    "\n",
    "print()\n",
    "\n",
    "# аналог на списочном выражении займет больше места\n",
    "\n",
    "from sys import getsizeof\n",
    "\n",
    "numbers = [1, 9, 8, 7, 90, -56, -34, 56, 100, 90, 2, 8]\n",
    "\n",
    "even_numbers = [num for num in numbers if num % 2 == 0]\n",
    "\n",
    "print(type(even_numbers))\n",
    "print(even_numbers)\n",
    "print(getsizeof(even_numbers))"
   ]
  },
  {
   "attachments": {},
   "cell_type": "markdown",
   "metadata": {},
   "source": [
    "особенности генераторных выражений:\n",
    "\n",
    "- Генераторные выражения не поддерживают получение элемента по индексу.\n",
    "- К генераторному выражению нельзя применить обычные операции среза.\n",
    "- После использования генераторного выражения, оно остается пустым\n",
    "\n",
    "- Генераторные выражения занимают немного больше памяти, чем соответствующие аналоги map(), filter() с лямбда функциями\n",
    "\n",
    "- Генераторные выражения более компактны, но менее универсальны, чем полные генераторные функции"
   ]
  },
  {
   "cell_type": "code",
   "execution_count": 3,
   "metadata": {},
   "outputs": [
    {
     "name": "stdout",
     "output_type": "stream",
     "text": [
      "0\n",
      "1\n",
      "[4, 9, 16, 25, 36, 49, 64, 81]\n",
      "[]\n"
     ]
    }
   ],
   "source": [
    "# опустошение генераторного выражения\n",
    "\n",
    "squares = (i*i for i in range(10))\n",
    "\n",
    "first, second = next(squares), next(squares)\n",
    "\n",
    "nums1 = list(squares)\n",
    "nums2 = list(squares)\n",
    "\n",
    "print(first)\n",
    "print(second)\n",
    "print(nums1)\n",
    "print(nums2)"
   ]
  },
  {
   "cell_type": "code",
   "execution_count": 7,
   "metadata": {},
   "outputs": [
    {
     "data": {
      "text/plain": [
       "False"
      ]
     },
     "execution_count": 7,
     "metadata": {},
     "output_type": "execute_result"
    }
   ],
   "source": [
    "# проверка простого числа через генераторное выражение\n",
    "\n",
    "def is_prime(number):\n",
    "    return all(number%num != 0 for num in range(2,number)) and number !=1\n",
    "\n",
    "\n",
    "\n",
    "is_prime(1)\n"
   ]
  },
  {
   "cell_type": "code",
   "execution_count": 8,
   "metadata": {},
   "outputs": [
    {
     "name": "stdout",
     "output_type": "stream",
     "text": [
      "201\n"
     ]
    }
   ],
   "source": [
    "# посчитать число элементов итерируемого объекта\n",
    "\n",
    "def count_iterable(iterable):\n",
    "    return sum(1 for _ in iterable)\n",
    "\n",
    "data = tuple(range(432, 3845, 17))\n",
    "\n",
    "print(count_iterable(data))"
   ]
  },
  {
   "cell_type": "code",
   "execution_count": 9,
   "metadata": {},
   "outputs": [
    {
     "name": "stdout",
     "output_type": "stream",
     "text": [
      "201\n"
     ]
    }
   ],
   "source": [
    "count_iterable = lambda iter: sum(1 for _ in iter)\n",
    "\n",
    "data = tuple(range(432, 3845, 17))\n",
    "\n",
    "print(count_iterable(data))"
   ]
  },
  {
   "attachments": {},
   "cell_type": "markdown",
   "metadata": {},
   "source": [
    "        Функция all_together()\n",
    "        Реализуйте функцию all_together() с использованием генераторных выражений, которая принимает произвольное количество позиционных аргументов, каждый из которых является итерируемым объектом.\n",
    "\n",
    "        Функция должна возвращать генератор, порождающий каждый элемент всех переданных итерируемых объектов: сначала все элементы первого итерируемого объекта, затем второго, и так далее."
   ]
  },
  {
   "cell_type": "code",
   "execution_count": 11,
   "metadata": {},
   "outputs": [
    {
     "name": "stdout",
     "output_type": "stream",
     "text": [
      "0 1 2 b e e 1 3 5 2 4 6\n"
     ]
    }
   ],
   "source": [
    "def all_together(*args):\n",
    "    return (elem for arg in args for elem in arg)\n",
    "\n",
    "objects = [range(3), 'bee', [1, 3, 5], (2, 4, 6)]\n",
    "\n",
    "print(*all_together(*objects))"
   ]
  },
  {
   "cell_type": "code",
   "execution_count": 12,
   "metadata": {},
   "outputs": [
    {
     "name": "stdout",
     "output_type": "stream",
     "text": [
      "1 2 3 (0, 0) (1, 1) geek\n"
     ]
    }
   ],
   "source": [
    "all_together = lambda *args: (elem for arg in args for elem in arg) \n",
    "\n",
    "objects = [[1, 2, 3], [(0, 0), (1, 1)], {'geek': 1}]\n",
    "\n",
    "print(*all_together(*objects))"
   ]
  },
  {
   "attachments": {},
   "cell_type": "markdown",
   "metadata": {},
   "source": [
    "        Функция interleave()\n",
    "        Реализуйте функцию interleave() с использованием генераторных выражений, которая принимает произвольное количество позиционных аргументов, каждый из которых является последовательностью.\n",
    "\n",
    "        Функция должна возвращать генератор, порождающий каждый элемент всех переданных последовательностей: сначала первый элемент первой последовательности, затем первый элемент второй последовательности, и так далее; после второй элемент первой последовательности, затем второй элемент второй последовательности, и так далее."
   ]
  },
  {
   "cell_type": "code",
   "execution_count": 32,
   "metadata": {},
   "outputs": [
    {
     "name": "stdout",
     "output_type": "stream",
     "text": [
      "b 1 e 2 e 3\n"
     ]
    }
   ],
   "source": [
    "def interleave(*args):\n",
    "    return (elem for tup in zip(*args) for elem in tup)\n",
    "\n",
    "print(*interleave('bee', '123'))"
   ]
  },
  {
   "cell_type": "code",
   "execution_count": 34,
   "metadata": {},
   "outputs": [],
   "source": [
    "interleave = lambda *args: (elem for tup in zip(*args) for elem in tup)"
   ]
  },
  {
   "cell_type": "code",
   "execution_count": 35,
   "metadata": {},
   "outputs": [
    {
     "name": "stdout",
     "output_type": "stream",
     "text": [
      "1 1 1 2 4 8 3 9 27\n"
     ]
    }
   ],
   "source": [
    "numbers = [1, 2, 3]\n",
    "squares = [1, 4, 9]\n",
    "qubes = [1, 8, 27]\n",
    "\n",
    "print(*interleave(numbers, squares, qubes))"
   ]
  },
  {
   "cell_type": "code",
   "execution_count": null,
   "metadata": {},
   "outputs": [],
   "source": []
  }
 ],
 "metadata": {
  "kernelspec": {
   "display_name": "Python 3",
   "language": "python",
   "name": "python3"
  },
  "language_info": {
   "codemirror_mode": {
    "name": "ipython",
    "version": 3
   },
   "file_extension": ".py",
   "mimetype": "text/x-python",
   "name": "python",
   "nbconvert_exporter": "python",
   "pygments_lexer": "ipython3",
   "version": "3.10.7"
  },
  "orig_nbformat": 4
 },
 "nbformat": 4,
 "nbformat_minor": 2
}
