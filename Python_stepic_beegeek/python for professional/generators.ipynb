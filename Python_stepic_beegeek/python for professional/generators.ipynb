{
 "cells": [
  {
   "attachments": {},
   "cell_type": "markdown",
   "metadata": {},
   "source": [
    "### Функции генераторы\n",
    "https://stepik.org/lesson/640048/step/1?unit=636568\n",
    "\n",
    "Функция генератор – это функция, которая возвращает итератор. Она выглядит как обычная функция, за исключением того, что использует выражение yield, а не return."
   ]
  },
  {
   "attachments": {},
   "cell_type": "markdown",
   "metadata": {},
   "source": [
    "Когда вызывается обычная функция, она получает личное пространство имен, в котором создаются ее локальные переменные. Когда обычная функция достигает оператора return, локальные переменные уничтожаются и значение возвращается вызывающей стороне. Последующий вызов той же функции создает новое локальное пространство имен и новый набор локальных переменных.\n",
    "\n",
    "ФУНКЦИЯ ГЕНЕРАТОР, НАПРОТИВ СОХРАНЯЕТ ЛОКАЛЬНЫЕ ПЕРЕМЕННЫЕ ОТ ВЫЗОВА К ВЫЗОВУ. ЭТО СВОЕГО РОДА ВОЗОБНОВЛЯЕМАЯ ФУНКЦИЯ.\n",
    "\n",
    "**ГЕНЕРАТОР – ЭТО ИТЕРАТОР, КОТОРЫЙ ПОРОЖДАЕТ ЗНАЧЕНИЯ, ПЕРЕДАННЫЕ YIELD.**\n",
    "\n",
    "Когда выполнение доходит до конца функции, объект генератор возбуждает исключение StopIteration в полном соответствии с протоколом итератора\n",
    "\n",
    " Генераторы — невероятно мощная программная конструкция. Они позволяют писать потоковый код с меньшим количеством промежуточных данных. Кроме того, они более эффективно используют память и ЦП."
   ]
  },
  {
   "cell_type": "code",
   "execution_count": 4,
   "metadata": {},
   "outputs": [
    {
     "name": "stdout",
     "output_type": "stream",
     "text": [
      "<class 'generator'>\n",
      "0\n",
      "1\n",
      "2\n",
      "3\n",
      "4\n",
      "\n",
      "0\n",
      "1\n",
      "2\n",
      "\n",
      "0 1\n",
      "\n",
      "0 1 2 3 4 5 6 7 8 9\n",
      "<class 'list'>\n"
     ]
    }
   ],
   "source": [
    "def generate_ints(n):           # инициализируем генератор , порождающий числа от 0 до n-1\n",
    "    for num in range(n):\n",
    "        yield num\n",
    "\n",
    "\n",
    "generator1 = generate_ints(5)           # создаем генератор, порождающий числа 0 1 2 3 4\n",
    "\n",
    "print(type(generator1))\n",
    "\n",
    "print(next(generator1))\n",
    "print(next(generator1))\n",
    "print(next(generator1))\n",
    "print(next(generator1))\n",
    "print(next(generator1))\n",
    "\n",
    "print()\n",
    "\n",
    "generator2 = generate_ints(3)           # создаем генератор, порождающий числа 0 1 2\n",
    "\n",
    "for num in generator2:\n",
    "    print(num)\n",
    "\n",
    "print()\n",
    "\n",
    "num1, num2 = generate_ints(2)           # создаем генератор, порождающий числа 0 1\n",
    "print(num1, num2)\n",
    "\n",
    "print()\n",
    "\n",
    "*nums,  = generate_ints(10)  # создаем генератор, порождающий числа от 0 до 9\n",
    "print(*nums)\n",
    "# заодно вспоминаем как упаковать набор элементов в список\n",
    "# упаковка в список\n",
    "\n",
    "print(type(nums))"
   ]
  },
  {
   "cell_type": "code",
   "execution_count": 14,
   "metadata": {},
   "outputs": [
    {
     "name": "stdout",
     "output_type": "stream",
     "text": [
      "['__class__', '__del__', '__delattr__', '__dir__', '__doc__', '__eq__', '__format__', '__ge__', '__getattribute__', '__gt__', '__hash__', '__init__', '__init_subclass__', '__iter__', '__le__', '__lt__', '__name__', '__ne__', '__new__', '__next__', '__qualname__', '__reduce__', '__reduce_ex__', '__repr__', '__setattr__', '__sizeof__', '__str__', '__subclasshook__', 'close', 'gi_code', 'gi_frame', 'gi_running', 'gi_yieldfrom', 'send', 'throw']\n"
     ]
    }
   ],
   "source": [
    "# получить список всех атрибутов генератора можно так\n",
    "\n",
    "def generate_1():\n",
    "    yield 1\n",
    "\n",
    "gen = generate_1()\n",
    "\n",
    "print(dir(gen))"
   ]
  },
  {
   "attachments": {},
   "cell_type": "markdown",
   "metadata": {},
   "source": [
    "Работа с генератором происходит по стандартному сценарию работы с итератором. Мы можем:\n",
    "\n",
    "        вызывать функцию next() для получения очередного значения генератора\n",
    "        итерироваться с помощью цикла for по генератору\n",
    "        распаковывать генератор\n",
    "        проверять принадлежность с помощью оператора in\n",
    "        и т.д."
   ]
  },
  {
   "cell_type": "code",
   "execution_count": 6,
   "metadata": {},
   "outputs": [
    {
     "name": "stdout",
     "output_type": "stream",
     "text": [
      "<class '__main__.GenerateInts'>\n",
      "0\n",
      "1\n",
      "2\n",
      "3\n",
      "4\n",
      "0\n",
      "1\n",
      "2\n",
      "0 1\n",
      "\n",
      "[0, 1, 2, 3, 4, 5, 6, 7, 8]\n"
     ]
    }
   ],
   "source": [
    "# если прописать генератор выше вручную, то он будет выглядеть вот так\n",
    "\n",
    "class GenerateInts:                             \n",
    "    def __init__(self, n):         # конструктор принимает верхнюю границу диапазона\n",
    "        self.n = n\n",
    "        self.current = 0\n",
    "    \n",
    "    def __iter__(self):\n",
    "        return self\n",
    "    \n",
    "    def __next__(self): \n",
    "        if self.current == self.n:\n",
    "            raise StopIteration\n",
    "        else:\n",
    "            self.current += 1\n",
    "            return self.current - 1\n",
    "        \n",
    "iterator1 = GenerateInts(5)           # создаем итератор, содержащий числа 0 1 2 3 4\n",
    "\n",
    "print(type(iterator1))\n",
    "\n",
    "print(next(iterator1))\n",
    "print(next(iterator1))\n",
    "print(next(iterator1))\n",
    "print(next(iterator1))\n",
    "print(next(iterator1))\n",
    "\n",
    "iterator2 = GenerateInts(3)           # создаем итератор, содержащий числа 0 1 2\n",
    "\n",
    "for num in iterator2:\n",
    "    print(num)\n",
    "\n",
    "num1, num2 = GenerateInts(2)          # создаем итератор, содержащий числа 0 1\n",
    "\n",
    "print(num1, num2)\n",
    "\n",
    "print()\n",
    "\n",
    "*nums, = GenerateInts(9)\n",
    "print(nums)"
   ]
  },
  {
   "attachments": {},
   "cell_type": "markdown",
   "metadata": {},
   "source": [
    "#### Функции генераторы с побочными действиями\n",
    "Функция генератор может не только порождать значения, но и совершать различные побочные действия во время выполнения, такие как:\n",
    "\n",
    "- вывод текста на экран\n",
    "- запись данных в файл\n",
    "- приостановка исполняющейся программы на некоторое время\n",
    "- и т.д."
   ]
  },
  {
   "cell_type": "code",
   "execution_count": 7,
   "metadata": {},
   "outputs": [
    {
     "name": "stdout",
     "output_type": "stream",
     "text": [
      "start\n",
      "--> A\n",
      "continue\n",
      "--> B\n",
      "end\n"
     ]
    }
   ],
   "source": [
    "# генератор, который печатает текст во время исполнения\n",
    "\n",
    "def generate_AB():\n",
    "    print('start')\n",
    "    yield 'A'\n",
    "    print('continue')\n",
    "    yield 'B'\n",
    "    print('end')\n",
    "\n",
    "for char in generate_AB():          # здесь цикл for получает на вход итератор: iterator = iter(generate_AB())\n",
    "                                    # затем вызывается next(iterator)\n",
    "                                    \n",
    "    print('-->', char)              # здесь на каждой итерации печатается заданная строка + значение на выходе yield \n",
    "\n",
    "# но до того, как дойти до первого yield - в генераторе стоит вызов print('start')\n",
    "\n",
    "# второй вызов next происходит аналогично \n",
    "\n",
    "\n",
    "# Во время третьей итерации и третьем вызове next(iterator) генератор выполняет строку print('end') и завершает свою работу, \n",
    "# возбуждая исключение StopIteration. Цикл for перехватывает это исключение и нормально завершается."
   ]
  },
  {
   "attachments": {},
   "cell_type": "markdown",
   "metadata": {},
   "source": [
    "Инструкция return в теле генератора\n",
    "\n",
    "инструкция return приводит к возбуждению исключения StopIteration"
   ]
  },
  {
   "cell_type": "code",
   "execution_count": 8,
   "metadata": {},
   "outputs": [
    {
     "name": "stdout",
     "output_type": "stream",
     "text": [
      "1\n",
      "2\n"
     ]
    }
   ],
   "source": [
    "def generate_ints():\n",
    "    yield 1\n",
    "    yield 2\n",
    "    return 3            # создает прерывание генератора-итератора \n",
    "    yield 4\n",
    "\n",
    "for num in generate_ints():\n",
    "    print(num)"
   ]
  },
  {
   "attachments": {},
   "cell_type": "markdown",
   "metadata": {},
   "source": [
    "#### Основные особенности, присущие всем функциям генераторам:\n",
    "\n",
    "1) любая функция, содержащая ключевое слово yield, является функцией генератором\n",
    "\n",
    "2) когда вызывается функция генератор, то она не возвращает единственное значение, как это делает обыкновенная функция\n",
    "\n",
    "3) функция генератор всегда возвращает объект типа generator, который поддерживает протокол итератора"
   ]
  },
  {
   "attachments": {},
   "cell_type": "markdown",
   "metadata": {},
   "source": [
    "#### Примеры использования генераторов"
   ]
  },
  {
   "cell_type": "code",
   "execution_count": 9,
   "metadata": {},
   "outputs": [
    {
     "name": "stdout",
     "output_type": "stream",
     "text": [
      "3\n",
      "4\n",
      "5\n",
      "6\n",
      "7\n",
      "8\n",
      "9\n",
      "10\n",
      "100\n",
      "101\n"
     ]
    }
   ],
   "source": [
    "# генератор - итератор чисел в заданном дипазоне\n",
    "\n",
    "def counter(low, high):\n",
    "    for num in range(low, high + 1):\n",
    "        yield num\n",
    "\n",
    "counter1 = counter(3, 10)\n",
    "\n",
    "for i in counter1:\n",
    "    print(i)\n",
    "\n",
    "counter2 = counter(100, 103)\n",
    "print(next(counter2))\n",
    "print(next(counter2))"
   ]
  },
  {
   "cell_type": "code",
   "execution_count": 10,
   "metadata": {},
   "outputs": [
    {
     "name": "stdout",
     "output_type": "stream",
     "text": [
      "10\n",
      "12\n",
      "14\n",
      "16\n",
      "18\n",
      "20\n",
      "\n",
      "102\n",
      "104\n",
      "106\n",
      "108\n"
     ]
    }
   ],
   "source": [
    "# генератор бесконечной последовательности целых четных чисел\n",
    "\n",
    "def even_numbers(begin):\n",
    "    begin += begin % 2\n",
    "    while True:\n",
    "        yield begin\n",
    "        begin += 2\n",
    "\n",
    "evens1 = even_numbers(10)                     # все четные числа от 10 до бесконечности\n",
    "\n",
    "for index, num in enumerate(evens1):\n",
    "    if index > 5:\n",
    "        break\n",
    "    print(num)\n",
    "\n",
    "print()\n",
    "\n",
    "evens2 = even_numbers(101)                    # все четные числа от 102 до бесконечности\n",
    "\n",
    "print(next(evens2))\n",
    "print(next(evens2))\n",
    "print(next(evens2))\n",
    "print(next(evens2))"
   ]
  },
  {
   "cell_type": "code",
   "execution_count": 11,
   "metadata": {},
   "outputs": [
    {
     "name": "stdout",
     "output_type": "stream",
     "text": [
      "~b~\n",
      "~e~\n",
      "~e~\n",
      "~g~\n",
      "~e~\n",
      "~e~\n",
      "~k~\n"
     ]
    }
   ],
   "source": [
    "# упаковка элементов последовательности в рамки (обрамление)\n",
    "def string_wrapper(text, symbol):\n",
    "    for char in text:\n",
    "        yield symbol + char + symbol\n",
    "\n",
    "string_wrapper1 = string_wrapper('beegeek', '~')\n",
    "\n",
    "for char in string_wrapper1:\n",
    "    print(char)"
   ]
  },
  {
   "cell_type": "code",
   "execution_count": 13,
   "metadata": {},
   "outputs": [
    {
     "name": "stdout",
     "output_type": "stream",
     "text": [
      "Факториал числа 1 равен 1\n",
      "Факториал числа 2 равен 2\n",
      "Факториал числа 3 равен 6\n",
      "Факториал числа 4 равен 24\n",
      "Факториал числа 5 равен 120\n",
      "Факториал числа 6 равен 720\n",
      "Факториал числа 7 равен 5040\n",
      "Факториал числа 8 равен 40320\n",
      "Факториал числа 9 равен 362880\n",
      "Факториал числа 10 равен 3628800\n"
     ]
    }
   ],
   "source": [
    "# генератор факториалов чисел\n",
    "\n",
    "def factorials():\n",
    "    value = 1\n",
    "    index = 1\n",
    "    while True:\n",
    "        yield value \n",
    "        index += 1             # генератор ПОМНИТ последнее число предыдущей итерации\n",
    "        value *= index      # генератор ПОМНИТ последнее число предыдущей итерации\n",
    "\n",
    "infinite_factorials = factorials()\n",
    "\n",
    "for index, num in enumerate(infinite_factorials, 1):\n",
    "    if index <= 10:\n",
    "        print(f'Факториал числа {index} равен {num}')\n",
    "    else: break"
   ]
  },
  {
   "attachments": {},
   "cell_type": "markdown",
   "metadata": {},
   "source": [
    "Хороший пример на понимание того, ЧТО возвращает генератор"
   ]
  },
  {
   "cell_type": "code",
   "execution_count": 15,
   "metadata": {},
   "outputs": [
    {
     "name": "stdout",
     "output_type": "stream",
     "text": [
      "b\n",
      "b\n",
      "b\n"
     ]
    }
   ],
   "source": [
    "def bee():\n",
    "    yield 'b'\n",
    "    yield 'e'\n",
    "    yield 'e'\n",
    "\n",
    "# здесь мы в ЯВНОМ виде не прописали никакой переменной возвращаемое значение функции-генератора\n",
    "# а функция-генератор ВСЕГДА возвращает итератор\n",
    "\n",
    "print(next(bee()))  # вернули итератор и запросили первое значение - это 'b'\n",
    "print(next(bee()))  # СНОВА вернули НОВЫЙ итератор и запросили первое значение - это 'b'\n",
    "print(next(bee()))  # и опять создали НОВЫЙ итератор и запросили первое значение - это 'b'"
   ]
  },
  {
   "cell_type": "code",
   "execution_count": 36,
   "metadata": {},
   "outputs": [
    {
     "name": "stdout",
     "output_type": "stream",
     "text": [
      "b\n",
      "e\n",
      "e\n"
     ]
    }
   ],
   "source": [
    "# для сравнения - укажем в ЯВНОМ виде переменную и вернем один генератор\n",
    "def bee():\n",
    "    yield 'b'\n",
    "    yield 'e'\n",
    "    yield 'e'\n",
    "\n",
    "temp_gen = bee()\n",
    "print(next(temp_gen)) \n",
    "print(next(temp_gen)) \n",
    "print(next(temp_gen))       # на этой итерации он опустошится"
   ]
  },
  {
   "attachments": {},
   "cell_type": "markdown",
   "metadata": {},
   "source": [
    "        Функция simple_sequence()\n",
    "        Реализуйте генераторную функцию simple_sequence(), которая не принимает никаких аргументов.\n",
    "\n",
    "        Функция должна возвращать генератор, порождающий бесконечную возрастающую последовательность натуральных чисел, в которой каждое число встречается столько раз, каково оно:\n",
    "        1,2,2,3,3,3,4,4,4,4,.."
   ]
  },
  {
   "cell_type": "code",
   "execution_count": 38,
   "metadata": {},
   "outputs": [
    {
     "name": "stdout",
     "output_type": "stream",
     "text": [
      "1\n",
      "2\n",
      "2\n",
      "3\n",
      "3\n",
      "3\n",
      "4\n",
      "4\n",
      "4\n",
      "4\n",
      "5\n",
      "5\n",
      "5\n",
      "5\n",
      "5\n"
     ]
    }
   ],
   "source": [
    "def simple_sequence():\n",
    "    num, ind = 1 , 0\n",
    "    while True:\n",
    "        ind +=1\n",
    "        if ind > num:\n",
    "            num = ind\n",
    "            ind = 1\n",
    "        yield num\n",
    "\n",
    "infinite_seq = simple_sequence()\n",
    "for ind, elem in enumerate(infinite_seq):\n",
    "    if ind >= 15: break\n",
    "    print(elem)\n"
   ]
  },
  {
   "cell_type": "code",
   "execution_count": 39,
   "metadata": {},
   "outputs": [
    {
     "name": "stdout",
     "output_type": "stream",
     "text": [
      "1\n",
      "2\n",
      "2\n",
      "3\n",
      "3\n",
      "3\n",
      "4\n",
      "4\n",
      "4\n",
      "4\n",
      "5\n",
      "5\n",
      "5\n",
      "5\n",
      "5\n"
     ]
    }
   ],
   "source": [
    "# с циклом\n",
    "def simple_sequence():\n",
    "    number = 1\n",
    "    while True:\n",
    "        for _ in range(number):\n",
    "            yield number\n",
    "        number += 1\n",
    "\n",
    "infinite_seq = simple_sequence()\n",
    "for ind, elem in enumerate(infinite_seq):\n",
    "    if ind >= 15: break\n",
    "    print(elem)\n"
   ]
  },
  {
   "cell_type": "code",
   "execution_count": 37,
   "metadata": {},
   "outputs": [
    {
     "name": "stdout",
     "output_type": "stream",
     "text": [
      "1\n",
      "2\n",
      "2\n",
      "3\n",
      "3\n",
      "3\n",
      "4\n",
      "4\n",
      "4\n",
      "4\n",
      "5\n",
      "5\n",
      "5\n",
      "5\n",
      "5\n"
     ]
    }
   ],
   "source": [
    "class SimSeq:\n",
    "    def __init__(self) -> None:\n",
    "        self.index = 0\n",
    "        self.value = 1\n",
    "\n",
    "    def __iter__(self):\n",
    "        return self\n",
    "    \n",
    "    def __next__(self):\n",
    "        self.index +=1\n",
    "        if self.index > self.value:\n",
    "            self.value = self.index\n",
    "            self.index = 1\n",
    "       \n",
    "\n",
    "        return self.value\n",
    "\n",
    "sim_seq = SimSeq()\n",
    "\n",
    "for ind, elem in enumerate(sim_seq):\n",
    "    if ind >= 15: break\n",
    "    print(elem)"
   ]
  },
  {
   "attachments": {},
   "cell_type": "markdown",
   "metadata": {},
   "source": [
    "        Функция alternating_sequence()\n",
    "        Реализуйте генераторную функцию alternating_sequence(), которая принимает один аргумент:\n",
    "\n",
    "        count — натуральное число, по умолчанию имеет значение None\n",
    "        Если count имеет значение None, функция должна возвращать генератор, порождающий бесконечный знакочередующийся ряд натуральных чисел.\n",
    "\n",
    "        Если count имеет в качестве значения натуральное число, функция должна возвращать генератор, порождающий первые count чисел знакочередующегося ряда натуральных чисел, а затем возбуждающий исключение StopIteration."
   ]
  },
  {
   "cell_type": "code",
   "execution_count": 54,
   "metadata": {},
   "outputs": [
    {
     "name": "stdout",
     "output_type": "stream",
     "text": [
      "1\n",
      "-2\n",
      "3\n",
      "-4\n",
      "5\n",
      "-6\n"
     ]
    }
   ],
   "source": [
    "def alternating_sequence(count: int = None):\n",
    "    start = 1\n",
    "    \n",
    "    while True:\n",
    "        num_sign = (1,-1)[start%2 == 0 ]\n",
    "        start = abs(start) + 1\n",
    "        yield (start - 1) * num_sign\n",
    "        if abs(start)-1 == count: return \n",
    "\n",
    "alt_seq = alternating_sequence()\n",
    "print(next(alt_seq))\n",
    "print(next(alt_seq))\n",
    "print(next(alt_seq))\n",
    "\n",
    "print(next(alt_seq))\n",
    "print(next(alt_seq))\n",
    "print(next(alt_seq))\n"
   ]
  },
  {
   "cell_type": "code",
   "execution_count": 55,
   "metadata": {},
   "outputs": [
    {
     "name": "stdout",
     "output_type": "stream",
     "text": [
      "1 -2 3 -4 5 -6 7 -8 9 -10\n"
     ]
    }
   ],
   "source": [
    "generator = alternating_sequence(10)\n",
    "\n",
    "print(*generator)\n"
   ]
  },
  {
   "attachments": {},
   "cell_type": "markdown",
   "metadata": {},
   "source": [
    "        Функция primes()\n",
    "        Реализуйте генераторную функцию primes(), которая принимает два аргумента в следующем порядке:\n",
    "\n",
    "        left — натуральное число\n",
    "        right — натуральное число\n",
    "        Функция должна возвращать генератор, порождающий последовательность простых чисел от left до right включительно, а затем возбуждающий исключение StopIteration.\n",
    "\n",
    "        Примечание 1. Гарантируется, что left <= right.\n",
    "\n",
    "        Примечание 2. Простое число — натуральное число, имеющее ровно два различных натуральных делителя — единицу и самого себя. Единица простым числом не является. "
   ]
  },
  {
   "cell_type": "code",
   "execution_count": 70,
   "metadata": {},
   "outputs": [
    {
     "name": "stdout",
     "output_type": "stream",
     "text": [
      "2 3 5 7 11 13\n"
     ]
    }
   ],
   "source": [
    "def is_prime(number):\n",
    "    if number == 1: return False\n",
    "    for num in range (2,number):\n",
    "        if number%num == 0:\n",
    "            return False\n",
    "    return True\n",
    "\n",
    "def primes(left,right):\n",
    "    \n",
    "    while left <= right:\n",
    "        left +=1\n",
    "        if is_prime(left-1):\n",
    "            yield left-1\n",
    "\n",
    "generator = primes(1, 15)\n",
    "\n",
    "print(*generator)"
   ]
  },
  {
   "cell_type": "code",
   "execution_count": 71,
   "metadata": {},
   "outputs": [
    {
     "name": "stdout",
     "output_type": "stream",
     "text": [
      "7\n",
      "11\n"
     ]
    }
   ],
   "source": [
    "generator = primes(6, 36)\n",
    "\n",
    "print(next(generator))\n",
    "print(next(generator))"
   ]
  },
  {
   "cell_type": "code",
   "execution_count": 69,
   "metadata": {},
   "outputs": [
    {
     "data": {
      "text/plain": [
       "True"
      ]
     },
     "execution_count": 69,
     "metadata": {},
     "output_type": "execute_result"
    }
   ],
   "source": [
    "def is_prime(number):\n",
    "    if number == 1: return False\n",
    "    for num in range (2,number):\n",
    "        if number%num == 0:\n",
    "            return False\n",
    "    return True\n",
    "\n",
    "is_prime(997)"
   ]
  },
  {
   "cell_type": "code",
   "execution_count": 65,
   "metadata": {},
   "outputs": [
    {
     "data": {
      "text/plain": [
       "False"
      ]
     },
     "execution_count": 65,
     "metadata": {},
     "output_type": "execute_result"
    }
   ],
   "source": [
    "is_prime(15)"
   ]
  },
  {
   "cell_type": "code",
   "execution_count": 67,
   "metadata": {},
   "outputs": [
    {
     "data": {
      "text/plain": [
       "True"
      ]
     },
     "execution_count": 67,
     "metadata": {},
     "output_type": "execute_result"
    }
   ],
   "source": [
    "is_prime(17)"
   ]
  },
  {
   "attachments": {},
   "cell_type": "markdown",
   "metadata": {},
   "source": [
    "        Функция reverse()\n",
    "        Реализуйте генераторную функцию reverse(), которая принимает один аргумент:\n",
    "\n",
    "        sequence — последовательность\n",
    "        Функция должна возвращать генератор, порождающий элементы последовательности sequence в обратном порядке, а затем возбуждающий исключение StopIteration.\n",
    "\n",
    "        Примечание 1. Последовательностью является коллекция, поддерживающая индексацию и имеющая длину. Например, объекты типа list, str, tuple являются последовательностями."
   ]
  },
  {
   "cell_type": "code",
   "execution_count": 76,
   "metadata": {},
   "outputs": [
    {
     "name": "stdout",
     "output_type": "stream",
     "text": [
      "5 4 3 2 1\n"
     ]
    }
   ],
   "source": [
    "def reverse(sequence):\n",
    "    ind=0\n",
    "    while True:\n",
    "        ind +=1\n",
    "        try:\n",
    "            res = sequence[-ind]\n",
    "            yield res\n",
    "        except IndexError:\n",
    "            return\n",
    "        \n",
    "\n",
    "print(*reverse([1, 2, 3, 4, 5]))"
   ]
  },
  {
   "cell_type": "code",
   "execution_count": 77,
   "metadata": {},
   "outputs": [
    {
     "name": "stdout",
     "output_type": "stream",
     "text": [
      "<class 'generator'>\n",
      "k e e g e e b\n"
     ]
    }
   ],
   "source": [
    "generator = reverse('beegeek')\n",
    "\n",
    "print(type(generator))\n",
    "print(*generator)"
   ]
  },
  {
   "attachments": {},
   "cell_type": "markdown",
   "metadata": {},
   "source": [
    "        Функция dates()\n",
    "        Реализуйте генераторную функцию dates(), которая принимает два аргумента в следующем порядке:\n",
    "\n",
    "        start — дата, тип date\n",
    "        count — натуральное число, по умолчанию имеет значение None\n",
    "        Если count имеет значение None, функция должна возвращать генератор, порождающий последовательность из максимально допустимого количества дат (тип date), начиная с даты start.\n",
    "\n",
    "        Если count имеет в качестве значения натуральное число, функция должна возвращать генератор, порождающий последовательность из count дат (тип date), начиная с даты start, а затем возбуждающий исключение StopIteration."
   ]
  },
  {
   "cell_type": "code",
   "execution_count": 98,
   "metadata": {},
   "outputs": [
    {
     "name": "stderr",
     "output_type": "stream",
     "text": [
      "Exception ignored in: <generator object dates at 0x108395540>\n",
      "Traceback (most recent call last):\n",
      "  File \"/var/folders/9t/0d2y6zvs0pn1b5hks81yn5jw0000gn/T/ipykernel_43151/75712271.py\", line 20, in <module>\n",
      "RuntimeError: generator ignored GeneratorExit\n"
     ]
    },
    {
     "name": "stdout",
     "output_type": "stream",
     "text": [
      "2022-03-08\n",
      "2022-03-09\n",
      "2022-03-10\n",
      "\n",
      "2022-03-08 2022-03-09 2022-03-10 2022-03-11 2022-03-12\n"
     ]
    }
   ],
   "source": [
    "from datetime import date, timedelta\n",
    "def dates(start: date, count: int = None):\n",
    "    end = start\n",
    "    while (end - start).days != count:\n",
    "        try: \n",
    "            end += timedelta(days=1)\n",
    "            yield end - timedelta(days=1)\n",
    "        except :\n",
    "            yield end\n",
    "            return\n",
    "\n",
    "generator = dates(date(2022, 3, 8))\n",
    "\n",
    "print(next(generator))\n",
    "print(next(generator))\n",
    "print(next(generator))\n",
    "\n",
    "print()\n",
    "\n",
    "generator = dates(date(2022, 3, 8), 5)\n",
    "\n",
    "print(*generator)"
   ]
  },
  {
   "cell_type": "code",
   "execution_count": 97,
   "metadata": {},
   "outputs": [
    {
     "name": "stdout",
     "output_type": "stream",
     "text": [
      "9999-12-21\n",
      "9999-12-22\n",
      "9999-12-23\n",
      "9999-12-24\n",
      "9999-12-25\n",
      "9999-12-26\n",
      "9999-12-27\n",
      "9999-12-28\n",
      "9999-12-29\n",
      "9999-12-30\n",
      "9999-12-31\n",
      "Error\n"
     ]
    }
   ],
   "source": [
    "generator = dates(date(9999, 1, 7))\n",
    "\n",
    "for _ in range(348):\n",
    "    next(generator)\n",
    "\n",
    "print(next(generator))\n",
    "print(next(generator))\n",
    "print(next(generator))\n",
    "print(next(generator))\n",
    "print(next(generator))\n",
    "print(next(generator))\n",
    "print(next(generator))\n",
    "print(next(generator))\n",
    "print(next(generator))\n",
    "print(next(generator))\n",
    "print(next(generator))\n",
    "\n",
    "try:\n",
    "   print(next(generator))\n",
    "except StopIteration:\n",
    "    print('Error')"
   ]
  },
  {
   "cell_type": "code",
   "execution_count": 85,
   "metadata": {},
   "outputs": [
    {
     "data": {
      "text/plain": [
       "datetime.timedelta(days=1)"
      ]
     },
     "execution_count": 85,
     "metadata": {},
     "output_type": "execute_result"
    }
   ],
   "source": [
    "from datetime import date, timedelta\n",
    "(date(2022,4,2) - date (2022,4,1))"
   ]
  },
  {
   "cell_type": "code",
   "execution_count": 87,
   "metadata": {},
   "outputs": [
    {
     "data": {
      "text/plain": [
       "datetime.date(2022, 4, 3)"
      ]
     },
     "execution_count": 87,
     "metadata": {},
     "output_type": "execute_result"
    }
   ],
   "source": [
    "date(2022,4,2) + timedelta(days=1)"
   ]
  },
  {
   "attachments": {},
   "cell_type": "markdown",
   "metadata": {},
   "source": [
    "        Функция card_deck()\n",
    "        Реализуйте генераторную функцию card_deck(), которая принимает один аргумент:\n",
    "\n",
    "        suit — одна из четырех карточных мастей: пик, треф, бубен, червей\n",
    "        Функция должна возвращать генератор, циклично порождающий колоду игральных карт без масти suit. Каждая карта должна представлять собой строку в следующем формате:\n",
    "\n",
    "        <номинал> <масть>\n",
    "        Например, 7 пик, валет треф, дама бубен, король червей, туз пик.\n",
    "\n",
    "        Примечание 1. Карты, генерируемые итератором, должны располагаться сначала по величине номинала, затем масти.\n",
    "\n",
    "        Примечание 2. Старшинство мастей по возрастанию: пики, трефы, бубны, червы. Старшинство карт в масти по возрастанию: двойка, тройка, четверка, пятерка, шестерка, семерка, восьмерка, девятка, десятка, валет, дама, король, туз.\n",
    "\n",
    "        Примечание 3. Масти не требуют склонения и независимо от номинала должны сохранять следующее написание: пик, треф, бубен, червей."
   ]
  },
  {
   "cell_type": "code",
   "execution_count": 140,
   "metadata": {},
   "outputs": [
    {
     "name": "stdout",
     "output_type": "stream",
     "text": [
      "2 треф\n",
      "3 треф\n",
      "4 треф\n"
     ]
    }
   ],
   "source": [
    "def card_deck(suit):\n",
    "    card_values = ('2','3','4','5','6','7','8',\n",
    "                    '9','10','валет','дама','король','туз')\n",
    "    card_suites = ['пик','треф','бубен','червей']\n",
    "    card_suites.remove(suit)\n",
    "\n",
    "    ind_val , ind_suit = -1, -1 \n",
    "    while True:\n",
    "        ind_suit +=1\n",
    "        if ind_suit >2:\n",
    "            ind_suit = -1\n",
    "            continue\n",
    "        while ind_val != 12:\n",
    "            ind_val +=1\n",
    "            yield f'{card_values[ind_val]} {card_suites[ind_suit]}'\n",
    "        ind_val = -1\n",
    "        \n",
    "        \n",
    "\n",
    "\n",
    "generator = card_deck('пик')\n",
    "\n",
    "print(next(generator))\n",
    "print(next(generator))\n",
    "print(next(generator))"
   ]
  },
  {
   "cell_type": "code",
   "execution_count": 141,
   "metadata": {},
   "outputs": [
    {
     "name": "stdout",
     "output_type": "stream",
     "text": [
      "2 пик\n",
      "3 пик\n",
      "4 пик\n",
      "5 пик\n",
      "6 пик\n",
      "7 пик\n",
      "8 пик\n",
      "9 пик\n",
      "10 пик\n",
      "валет пик\n",
      "дама пик\n",
      "король пик\n",
      "туз пик\n",
      "2 бубен\n",
      "3 бубен\n",
      "4 бубен\n",
      "5 бубен\n",
      "6 бубен\n",
      "7 бубен\n",
      "8 бубен\n",
      "9 бубен\n",
      "10 бубен\n",
      "валет бубен\n",
      "дама бубен\n",
      "король бубен\n",
      "туз бубен\n",
      "2 червей\n",
      "3 червей\n",
      "4 червей\n",
      "5 червей\n",
      "6 червей\n",
      "7 червей\n",
      "8 червей\n",
      "9 червей\n",
      "10 червей\n",
      "валет червей\n",
      "дама червей\n",
      "король червей\n",
      "туз червей\n",
      "2 пик\n",
      "3 пик\n",
      "4 пик\n",
      "5 пик\n",
      "6 пик\n",
      "7 пик\n",
      "8 пик\n",
      "9 пик\n",
      "10 пик\n",
      "валет пик\n",
      "дама пик\n",
      "король пик\n",
      "туз пик\n",
      "2 бубен\n",
      "3 бубен\n",
      "4 бубен\n",
      "5 бубен\n",
      "6 бубен\n",
      "7 бубен\n",
      "8 бубен\n",
      "9 бубен\n",
      "10 бубен\n"
     ]
    }
   ],
   "source": [
    "generator = card_deck('треф')\n",
    "\n",
    "for ind,card in enumerate(generator,1):\n",
    "    if ind>=62: break\n",
    "    print(card)"
   ]
  },
  {
   "cell_type": "code",
   "execution_count": 142,
   "metadata": {},
   "outputs": [
    {
     "name": "stdout",
     "output_type": "stream",
     "text": [
      "2 пик 3 пик 4 пик 5 пик 6 пик 7 пик 8 пик 9 пик 10 пик валет пик дама пик король пик туз пик 2 бубен 3 бубен 4 бубен 5 бубен 6 бубен 7 бубен 8 бубен 9 бубен 10 бубен валет бубен дама бубен король бубен туз бубен 2 червей 3 червей 4 червей 5 червей 6 червей 7 червей 8 червей 9 червей 10 червей валет червей дама червей король червей туз червей 2 пик\n"
     ]
    }
   ],
   "source": [
    "generator = card_deck('треф')\n",
    "cards = [next(generator) for _ in range(40)]\n",
    "\n",
    "print(*cards)"
   ]
  },
  {
   "cell_type": "code",
   "execution_count": 104,
   "metadata": {},
   "outputs": [
    {
     "data": {
      "text/plain": [
       "['треф', 'бубен', 'червей']"
      ]
     },
     "execution_count": 104,
     "metadata": {},
     "output_type": "execute_result"
    }
   ],
   "source": [
    "abcd = ['пик','треф','бубен','червей']\n",
    "\n",
    "abcd.remove('пик')\n",
    "\n",
    "abcd"
   ]
  },
  {
   "cell_type": "code",
   "execution_count": 143,
   "metadata": {},
   "outputs": [
    {
     "name": "stdout",
     "output_type": "stream",
     "text": [
      "2 пик 3 пик 4 пик 5 пик 6 пик 7 пик 8 пик 9 пик 10 пик валет пик дама пик король пик туз пик 2 бубен 3 бубен 4 бубен 5 бубен 6 бубен 7 бубен 8 бубен 9 бубен 10 бубен валет бубен дама бубен король бубен туз бубен 2 червей 3 червей 4 червей 5 червей 6 червей 7 червей 8 червей 9 червей 10 червей валет червей дама червей король червей туз червей 2 пик\n"
     ]
    }
   ],
   "source": [
    "# красивое решение на генератор игральных карт\n",
    "\n",
    "def card_deck(suit):\n",
    "    nums = list(range(2, 11)) + ['валет', 'дама', 'король', 'туз']\n",
    "    deck = ['пик', 'треф', 'бубен', 'червей']\n",
    "    while True:\n",
    "        for i in deck:\n",
    "            if i == suit:\n",
    "                continue\n",
    "            for num in nums:\n",
    "                yield f'{num} {i}'\n",
    "\n",
    "\n",
    "generator = card_deck('треф')\n",
    "cards = [next(generator) for _ in range(40)]\n",
    "\n",
    "print(*cards)"
   ]
  },
  {
   "attachments": {},
   "cell_type": "markdown",
   "metadata": {},
   "source": [
    "#### Конструкция yield from"
   ]
  },
  {
   "cell_type": "code",
   "execution_count": 144,
   "metadata": {},
   "outputs": [
    {
     "name": "stdout",
     "output_type": "stream",
     "text": [
      "0\n",
      "1\n",
      "2\n",
      "3\n",
      "4\n",
      "A\n",
      "B\n",
      "C\n"
     ]
    }
   ],
   "source": [
    "def get_data():\n",
    "    for num in range(5):\n",
    "        yield num\n",
    "    for char in 'ABC':\n",
    "        yield char\n",
    "\n",
    "for i in get_data():\n",
    "    print(i)"
   ]
  },
  {
   "attachments": {},
   "cell_type": "markdown",
   "metadata": {},
   "source": [
    "можно заменить упрощенным кодом"
   ]
  },
  {
   "cell_type": "code",
   "execution_count": 146,
   "metadata": {},
   "outputs": [
    {
     "name": "stdout",
     "output_type": "stream",
     "text": [
      "0\n",
      "1\n",
      "2\n",
      "3\n",
      "4\n",
      "A\n",
      "B\n",
      "C\n"
     ]
    }
   ],
   "source": [
    "def get_data():\n",
    "    yield from range(5)     # объединить две конструкции: yield и цикл for\n",
    "    yield from 'ABC'\n",
    "\n",
    "for i in get_data():\n",
    "    print(i)"
   ]
  },
  {
   "attachments": {},
   "cell_type": "markdown",
   "metadata": {},
   "source": [
    "Объединение конструкции yield и цикла for лишь часть возможностей yield from. \n",
    "        \n",
    "        На самом деле конструкция yield from позволяет вкладывать один генератор в другой, таким образом создавать субгенераторы (вложенные генераторы)."
   ]
  },
  {
   "cell_type": "code",
   "execution_count": 147,
   "metadata": {},
   "outputs": [
    {
     "name": "stdout",
     "output_type": "stream",
     "text": [
      "Green Red Blue Yellow Black "
     ]
    }
   ],
   "source": [
    "def generator2():\n",
    "    yield 'Red'\n",
    "    yield 'Blue'\n",
    "\n",
    "def generator1():\n",
    "    yield 'Green'\n",
    "    yield from generator2()            # запрашиваем значение из субгенератора\n",
    "    yield 'Yellow'\n",
    "    yield 'Black'\n",
    "\n",
    "for color in generator1():\n",
    "    print(color, end=' ')"
   ]
  },
  {
   "attachments": {},
   "cell_type": "markdown",
   "metadata": {},
   "source": [
    "Когда генератор generator1() вызывает yield from generator2(), субгенератор generator2() перехватывает управление и начинает отдавать значения туда, откуда был вызван generator1(). А тем временем generator1() остается блокированным в ожидании завершения generator2(). Таким образом, эффект получается таким же, как если бы тело субгенератора было встроено в месте, где находится выражение yield from"
   ]
  },
  {
   "attachments": {},
   "cell_type": "markdown",
   "metadata": {},
   "source": [
    "#### Рекурсивные функции-генераторы"
   ]
  },
  {
   "cell_type": "code",
   "execution_count": 148,
   "metadata": {},
   "outputs": [
    {
     "name": "stdout",
     "output_type": "stream",
     "text": [
      "3\n",
      "4\n",
      "5\n",
      "6\n",
      "7\n",
      "8\n"
     ]
    }
   ],
   "source": [
    "def numbers(start):\n",
    "    if not isinstance(start, int):\n",
    "        raise TypeError('Аргументом должно быть целое число')\n",
    "    yield start\n",
    "    yield from numbers(start + 1)\n",
    "\n",
    "\n",
    "for index, number in enumerate(numbers(3)):\n",
    "    if index > 5:\n",
    "        break\n",
    "    print(number)"
   ]
  },
  {
   "attachments": {},
   "cell_type": "markdown",
   "metadata": {},
   "source": [
    "        Функция matrix_by_elem()\n",
    "        Вам доступна генераторная функция matrix_by_elem(), которая принимает в качестве аргумента матрицу произвольной размерности и возвращает генератор, порождающий последовательность элементов переданной матрицы.\n",
    "\n",
    "        Перепишете данную функцию с использованием конструкции yield from, чтобы она выполняла ту же задачу"
   ]
  },
  {
   "cell_type": "code",
   "execution_count": 150,
   "metadata": {},
   "outputs": [
    {
     "name": "stdout",
     "output_type": "stream",
     "text": [
      "1 2 3 4 5 6\n"
     ]
    }
   ],
   "source": [
    "def matrix_by_elem(matrix):\n",
    "    for line in matrix:\n",
    "        yield from line\n",
    "\n",
    "print(*matrix_by_elem([[1,2], [3,4], [5,6]]))"
   ]
  },
  {
   "attachments": {},
   "cell_type": "markdown",
   "metadata": {},
   "source": [
    "        Функция palindromes()\n",
    "        Реализуйте генераторную функцию palindromes(), которая не принимает никаких аргументов.\n",
    "\n",
    "        Функция должна возвращать генератор, порождающий бесконечную последовательность натуральных чисел-палиндромов."
   ]
  },
  {
   "cell_type": "code",
   "execution_count": 153,
   "metadata": {},
   "outputs": [
    {
     "name": "stdout",
     "output_type": "stream",
     "text": [
      "1 2 3 4 5 6 7 8 9 11 22 33 44 55 66 77 88 99 101 111 121 131 141 151 161 171 181 191 202 212\n"
     ]
    }
   ],
   "source": [
    "def palindromes():\n",
    "    num = 0 \n",
    "    while True:\n",
    "        num +=1\n",
    "        if str(num) == str(num)[::-1]:\n",
    "            yield num\n",
    "\n",
    "\n",
    "\n",
    "generator = palindromes()\n",
    "numbers = [next(generator) for _ in range(30)]\n",
    "\n",
    "print(*numbers)"
   ]
  },
  {
   "attachments": {},
   "cell_type": "markdown",
   "metadata": {},
   "source": [
    "        Функция flatten()\n",
    "        Реализуйте генераторную функцию flatten(), которая принимает один аргумент:\n",
    "\n",
    "        nested_list — список, элементами которого являются целые числа или списки, элементами которых, в свою очередь, также являются либо целые числа, либо списки; вложенность может быть произвольной\n",
    "        Функция должна возвращать генератор, порождающий все числа, содержащиеся в nested_list, включая все числа из всех вложенных списков, а затем возбуждает исключение StopIteration."
   ]
  },
  {
   "cell_type": "code",
   "execution_count": 166,
   "metadata": {},
   "outputs": [
    {
     "name": "stdout",
     "output_type": "stream",
     "text": [
      "1 2 3 4 5\n"
     ]
    }
   ],
   "source": [
    "def flatten(nested_list):\n",
    "    res = []\n",
    "    for elem in nested_list:\n",
    "        if isinstance(elem, list):\n",
    "            res.extend(flatten(elem))\n",
    "        else: res.append(elem)\n",
    "    return iter(res)\n",
    "\n",
    "generator = flatten([[1, 2], [[3]], [[4], 5]])\n",
    "\n",
    "print(*generator)"
   ]
  },
  {
   "cell_type": "code",
   "execution_count": 167,
   "metadata": {},
   "outputs": [
    {
     "name": "stdout",
     "output_type": "stream",
     "text": [
      "1 2 3 4 5\n"
     ]
    }
   ],
   "source": [
    "def flatten(nested_list):\n",
    "    for i in nested_list:\n",
    "        if isinstance(i, list):\n",
    "            yield from flatten(i)\n",
    "        else:\n",
    "            yield i\n",
    "\n",
    "generator = flatten([[1, 2], [[3]], [[4], 5]])\n",
    "\n",
    "print(*generator)"
   ]
  },
  {
   "attachments": {},
   "cell_type": "markdown",
   "metadata": {},
   "source": [
    "### Генераторные выражения"
   ]
  },
  {
   "attachments": {},
   "cell_type": "markdown",
   "metadata": {},
   "source": [
    "Почему генераторные выражения, а не списочные выражения?\n",
    "\n",
    "потому что списочное выражение хранится в памяти целиком, в отличие от генераторного выражения, создающего элементы \"на лету\" при вызове next() "
   ]
  },
  {
   "cell_type": "code",
   "execution_count": 2,
   "metadata": {},
   "outputs": [
    {
     "name": "stdout",
     "output_type": "stream",
     "text": [
      "<class 'generator'>\n",
      "<generator object <genexpr> at 0x10d8c6ce0>\n",
      "104\n",
      "\n",
      "<class 'list'>\n",
      "[8, 90, -56, -34, 56, 100, 90, 2, 8]\n",
      "184\n"
     ]
    }
   ],
   "source": [
    "from sys import getsizeof\n",
    "\n",
    "numbers = [1, 9, 8, 7, 90, -56, -34, 56, 100, 90, 2, 8]\n",
    "\n",
    "even_numbers = (num for num in numbers if num % 2 == 0)         # используем круглые скобки\n",
    "\n",
    "print(type(even_numbers))\n",
    "print(even_numbers)\n",
    "print(getsizeof(even_numbers))\n",
    "\n",
    "print()\n",
    "\n",
    "# аналог на списочном выражении займет больше места\n",
    "\n",
    "from sys import getsizeof\n",
    "\n",
    "numbers = [1, 9, 8, 7, 90, -56, -34, 56, 100, 90, 2, 8]\n",
    "\n",
    "even_numbers = [num for num in numbers if num % 2 == 0]\n",
    "\n",
    "print(type(even_numbers))\n",
    "print(even_numbers)\n",
    "print(getsizeof(even_numbers))"
   ]
  },
  {
   "attachments": {},
   "cell_type": "markdown",
   "metadata": {},
   "source": [
    "особенности генераторных выражений:\n",
    "\n",
    "- Генераторные выражения не поддерживают получение элемента по индексу.\n",
    "- К генераторному выражению нельзя применить обычные операции среза.\n",
    "- После использования генераторного выражения, оно остается пустым\n",
    "\n",
    "- Генераторные выражения занимают немного больше памяти, чем соответствующие аналоги map(), filter() с лямбда функциями\n",
    "\n",
    "- Генераторные выражения более компактны, но менее универсальны, чем полные генераторные функции"
   ]
  },
  {
   "cell_type": "code",
   "execution_count": 3,
   "metadata": {},
   "outputs": [
    {
     "name": "stdout",
     "output_type": "stream",
     "text": [
      "0\n",
      "1\n",
      "[4, 9, 16, 25, 36, 49, 64, 81]\n",
      "[]\n"
     ]
    }
   ],
   "source": [
    "# опустошение генераторного выражения\n",
    "\n",
    "squares = (i*i for i in range(10))\n",
    "\n",
    "first, second = next(squares), next(squares)\n",
    "\n",
    "nums1 = list(squares)\n",
    "nums2 = list(squares)\n",
    "\n",
    "print(first)\n",
    "print(second)\n",
    "print(nums1)\n",
    "print(nums2)"
   ]
  },
  {
   "cell_type": "code",
   "execution_count": 7,
   "metadata": {},
   "outputs": [
    {
     "data": {
      "text/plain": [
       "False"
      ]
     },
     "execution_count": 7,
     "metadata": {},
     "output_type": "execute_result"
    }
   ],
   "source": [
    "# проверка простого числа через генераторное выражение\n",
    "\n",
    "def is_prime(number):\n",
    "    return all(number%num != 0 for num in range(2,number)) and number !=1\n",
    "\n",
    "\n",
    "\n",
    "is_prime(1)\n"
   ]
  },
  {
   "cell_type": "code",
   "execution_count": 8,
   "metadata": {},
   "outputs": [
    {
     "name": "stdout",
     "output_type": "stream",
     "text": [
      "201\n"
     ]
    }
   ],
   "source": [
    "# посчитать число элементов итерируемого объекта\n",
    "\n",
    "def count_iterable(iterable):\n",
    "    return sum(1 for _ in iterable)\n",
    "\n",
    "data = tuple(range(432, 3845, 17))\n",
    "\n",
    "print(count_iterable(data))"
   ]
  },
  {
   "cell_type": "code",
   "execution_count": 9,
   "metadata": {},
   "outputs": [
    {
     "name": "stdout",
     "output_type": "stream",
     "text": [
      "201\n"
     ]
    }
   ],
   "source": [
    "count_iterable = lambda iter: sum(1 for _ in iter)\n",
    "\n",
    "data = tuple(range(432, 3845, 17))\n",
    "\n",
    "print(count_iterable(data))"
   ]
  },
  {
   "attachments": {},
   "cell_type": "markdown",
   "metadata": {},
   "source": [
    "        Функция all_together()\n",
    "        Реализуйте функцию all_together() с использованием генераторных выражений, которая принимает произвольное количество позиционных аргументов, каждый из которых является итерируемым объектом.\n",
    "\n",
    "        Функция должна возвращать генератор, порождающий каждый элемент всех переданных итерируемых объектов: сначала все элементы первого итерируемого объекта, затем второго, и так далее."
   ]
  },
  {
   "cell_type": "code",
   "execution_count": 11,
   "metadata": {},
   "outputs": [
    {
     "name": "stdout",
     "output_type": "stream",
     "text": [
      "0 1 2 b e e 1 3 5 2 4 6\n"
     ]
    }
   ],
   "source": [
    "def all_together(*args):\n",
    "    return (elem for arg in args for elem in arg)\n",
    "\n",
    "objects = [range(3), 'bee', [1, 3, 5], (2, 4, 6)]\n",
    "\n",
    "print(*all_together(*objects))"
   ]
  },
  {
   "cell_type": "code",
   "execution_count": 12,
   "metadata": {},
   "outputs": [
    {
     "name": "stdout",
     "output_type": "stream",
     "text": [
      "1 2 3 (0, 0) (1, 1) geek\n"
     ]
    }
   ],
   "source": [
    "all_together = lambda *args: (elem for arg in args for elem in arg) \n",
    "\n",
    "objects = [[1, 2, 3], [(0, 0), (1, 1)], {'geek': 1}]\n",
    "\n",
    "print(*all_together(*objects))"
   ]
  },
  {
   "attachments": {},
   "cell_type": "markdown",
   "metadata": {},
   "source": [
    "        Функция interleave()\n",
    "        Реализуйте функцию interleave() с использованием генераторных выражений, которая принимает произвольное количество позиционных аргументов, каждый из которых является последовательностью.\n",
    "\n",
    "        Функция должна возвращать генератор, порождающий каждый элемент всех переданных последовательностей: сначала первый элемент первой последовательности, затем первый элемент второй последовательности, и так далее; после второй элемент первой последовательности, затем второй элемент второй последовательности, и так далее."
   ]
  },
  {
   "cell_type": "code",
   "execution_count": 32,
   "metadata": {},
   "outputs": [
    {
     "name": "stdout",
     "output_type": "stream",
     "text": [
      "b 1 e 2 e 3\n"
     ]
    }
   ],
   "source": [
    "def interleave(*args):\n",
    "    return (elem for tup in zip(*args) for elem in tup)\n",
    "\n",
    "print(*interleave('bee', '123'))"
   ]
  },
  {
   "cell_type": "code",
   "execution_count": 34,
   "metadata": {},
   "outputs": [],
   "source": [
    "interleave = lambda *args: (elem for tup in zip(*args) for elem in tup)"
   ]
  },
  {
   "cell_type": "code",
   "execution_count": 35,
   "metadata": {},
   "outputs": [
    {
     "name": "stdout",
     "output_type": "stream",
     "text": [
      "1 1 1 2 4 8 3 9 27\n"
     ]
    }
   ],
   "source": [
    "numbers = [1, 2, 3]\n",
    "squares = [1, 4, 9]\n",
    "qubes = [1, 8, 27]\n",
    "\n",
    "print(*interleave(numbers, squares, qubes))"
   ]
  },
  {
   "attachments": {},
   "cell_type": "markdown",
   "metadata": {},
   "source": [
    "### Конвейер генераторов \n",
    "https://stepik.org/lesson/673155/step/1?unit=671418\n",
    "\n",
    "Самое главное в конвейерах генераторов это то, что обработка данных происходит по одному элементу за раз. Между этапами обработки в цепочке нет **БУФЕРИЗАЦИИ**: генератор целых чисел выдает единственное значение\n",
    "\n",
    "Можно расширять цепочку генераторов, чтобы построить конвейер обработки со многими шагами. Он по-прежнему будет работать эффективно и может быть легко изменен, поскольку каждый шаг в цепочке представляет собой отдельную генераторную функцию.\n",
    "\n",
    "А весь конвейер будет работать пошагово."
   ]
  },
  {
   "cell_type": "code",
   "execution_count": 37,
   "metadata": {},
   "outputs": [
    {
     "name": "stdout",
     "output_type": "stream",
     "text": [
      "-4 -16 -36 -64 -100\n"
     ]
    }
   ],
   "source": [
    "# пример конвейера\n",
    "\n",
    "n = 10\n",
    "\n",
    "integers = (i for i in range(1, n + 1))\n",
    "evens = (i for i in integers if not i % 2)\n",
    "squared = (i * i for i in evens)\n",
    "negated = (-i for i in squared)\n",
    "\n",
    "print(*negated)"
   ]
  },
  {
   "attachments": {},
   "cell_type": "markdown",
   "metadata": {},
   "source": [
    "Пример использования: чтение массивных файлов БЕЗ СЧИТЫВАНИЯ всего содержимого файла в память"
   ]
  },
  {
   "cell_type": "code",
   "execution_count": null,
   "metadata": {},
   "outputs": [],
   "source": [
    "with open('data.csv', 'r', encoding='utf-8') as file:\n",
    "    file_lines = (line for line in file)                                    # генератор всех линий текстового файла\n",
    "    line_values = (line.rstrip().split(',') for line in file_lines)         # генератор линий без разделителя (запятой)\n",
    "    file_headers = next(line_values)                                        # заголовки столбцов\n",
    "    line_dicts = (dict(zip(file_headers, data)) for data in line_values)    # превратили данные в вид {заголовок: значение столбца}\n",
    "\n",
    "    result = (                                  # здесь собрали значения столбцов юзер и адрес юзера для строк, в которых\n",
    "        line['user_name'], line['user_ip']      # есть упоминание stepic.org\n",
    "        for line in line_dicts\n",
    "        if 'stepik.org' in line['page_url']\n",
    "        )\n",
    "\n",
    "    for index, (name, ip) in enumerate(set(result), 1):     # здесь уже происходит ИТЕРАЦИЯ и считывание в память\n",
    "        print(f'{index}. {name} --- {ip}')\n",
    "\n",
    "# до последнего действия в память сохранялись только ГЕНЕРАТОРЫ, но не данные файла. Память не заполнялась\n",
    "\n",
    "# Функция set() заставляет работать все созданные генераторы вместе. \n",
    "# Все они функционируют как один конвейер больших данных, при этом в память попадают только нужные строки.\n"
   ]
  },
  {
   "attachments": {},
   "cell_type": "markdown",
   "metadata": {},
   "source": [
    "#### Производительность при чтении больших файлов"
   ]
  },
  {
   "cell_type": "code",
   "execution_count": null,
   "metadata": {},
   "outputs": [],
   "source": [
    "# функция считывает данные в последовательность\n",
    "def read_immediately(file_name):\n",
    "    with open(file_name, 'r', encoding='utf-8') as file:\n",
    "        result = []\n",
    "        for line in file:\n",
    "            line = line.rstrip('\\n')\n",
    "            if line != '':\n",
    "                result.append(line)\n",
    "        return result\n",
    "\n",
    "# функция считывает данные в генератор (то есть только при явном итерировании)\n",
    "def read_lazy(file_name):\n",
    "    with open(file_name, 'r', encoding='utf-8') as file:\n",
    "        for line in file:\n",
    "            line = line.rstrip('\\n')\n",
    "            if line != '':\n",
    "                yield line"
   ]
  },
  {
   "attachments": {},
   "cell_type": "markdown",
   "metadata": {},
   "source": [
    "Результаты по соотношению скорость-время будут впечатляющими."
   ]
  },
  {
   "attachments": {
    "image.png": {
     "image/png": "[encoded data removed]"
    }
   },
   "cell_type": "markdown",
   "metadata": {},
   "source": [
    "![image.png](attachment:image.png)"
   ]
  },
  {
   "attachments": {},
   "cell_type": "markdown",
   "metadata": {},
   "source": [
    "### Задачи на конвейеры генераторов"
   ]
  },
  {
   "attachments": {},
   "cell_type": "markdown",
   "metadata": {},
   "source": [
    "        Вам доступен именованный кортеж Person, который содержит данные о человеке. Первым элементом именованного кортежа является имя и фамилия человека, вторым — национальность, третьим — пол, четвертым — год рождения, пятым — год смерти. Если человек жив, год смерти считается равным 0. Также доступен список persons, содержащий эти кортежи.\n",
    "\n",
    "        Дополните приведенный ниже код с использованием конвейеров генераторов, чтобы он вывел имя и фамилию самого молодого живого мужчины (male) из Швеции (Swedish)."
   ]
  },
  {
   "cell_type": "code",
   "execution_count": 39,
   "metadata": {},
   "outputs": [
    {
     "name": "stdout",
     "output_type": "stream",
     "text": [
      "Jon Bale\n"
     ]
    }
   ],
   "source": [
    "from collections import namedtuple\n",
    "\n",
    "Person = namedtuple('Person', ['name', 'nationality', 'sex', 'birth', 'death'])\n",
    "\n",
    "persons = [Person('E. M. Ashe', 'American', 'male', 1867, 1941),\n",
    "           Person('Goran Aslin', 'Swedish', 'male', 1980, 0),\n",
    "           Person('Erik Gunnar Asplund', 'Swedish', 'male', 1885, 1940),\n",
    "           Person('Genevieve Asse', 'French', 'female', 1949, 0),\n",
    "           Person('Irene Adler', 'Swedish', 'female', 2005, 0),\n",
    "           Person('Sergio Asti', 'Italian', 'male', 1926, 0),\n",
    "           Person('Olof Backman', 'Swedish', 'male', 1999, 0),\n",
    "           Person('Alyson Hannigan', 'Swedish', 'female', 1940, 1987),\n",
    "           Person('Dana Atchley', 'American', 'female', 1941, 2000),\n",
    "           Person('Monika Andersson', 'Swedish', 'female', 1957, 0),\n",
    "           Person('Shura_Stone', 'Russian', 'male', 2000, 0),\n",
    "           Person('Jon Bale', 'Swedish', 'male', 2000, 0)]\n",
    "\n",
    "alive_swedish_men = (person for person in persons if person.nationality == 'Swedish' and\\\n",
    "                      person.death == 0\\\n",
    "                          and person.sex == 'male')\n",
    "print(max(alive_swedish_men, key= lambda person: person.birth).name)"
   ]
  },
  {
   "attachments": {},
   "cell_type": "markdown",
   "metadata": {},
   "source": [
    "        Назовем диапазоном запись двух натуральных чисел через дефис a-b, где a — левая граница диапазона, b — правая граница диапазона, причем a <= b. Диапазон содержит в себе все числа от a до b включительно. Например, диапазон 1-4 содержит числа 1,2,3,4\n",
    "        Реализуйте генераторную функцию parse_ranges(), которая принимает один аргумент:\n",
    "\n",
    "        ranges — строка, в которой через запятую указаны диапазоны чисел\n",
    "        Функция должна возвращать генератор, порождающий последовательность чисел, содержащихся в диапазонах ranges.\n",
    "\n",
    "        Примечание 1. В тестирующую систему сдайте программу, содержащую только необходимую функцию parse_ranges(), но не код, вызывающий ее."
   ]
  },
  {
   "cell_type": "code",
   "execution_count": 42,
   "metadata": {},
   "outputs": [
    {
     "name": "stdout",
     "output_type": "stream",
     "text": [
      "1 2 4 8 9 10\n",
      "<class 'function'>\n"
     ]
    }
   ],
   "source": [
    "parse_ranges = lambda ranges: (digit for some_range in ranges.split(',') \\\n",
    "                               for digit in range(int(some_range.split('-')[0]),\n",
    "                                                  int(some_range.split('-')[1]) +1 ) )\n",
    "\n",
    "print(*parse_ranges('1-2,4-4,8-10'))\n"
   ]
  },
  {
   "attachments": {},
   "cell_type": "markdown",
   "metadata": {},
   "source": [
    "        Функция filter_names()\n",
    "        Реализуйте генераторную функцию filter_names(), которая принимает три аргумента в следующем порядке:\n",
    "\n",
    "        names — список имен\n",
    "        ignore_char — одиночный символ\n",
    "        max_names — натуральное число\n",
    "        Функция должна возвращать генератор, порождающий max_names имён из списка names, игнорируя имена, которые\n",
    "\n",
    "        начинаются на ignore_char (в любом регистре)\n",
    "        содержат хотя бы одну цифру\n",
    "        Если max_names больше количества имен в списке names, то генератор должен породить все возможные имена из данного списка. \n",
    "\n",
    "        Примечание 1. Имена в возвращаемом функцией генераторе должны располагаться в своем исходном порядке."
   ]
  },
  {
   "cell_type": "code",
   "execution_count": 52,
   "metadata": {},
   "outputs": [
    {
     "name": "stdout",
     "output_type": "stream",
     "text": [
      "Timur Arthur Arina\n"
     ]
    }
   ],
   "source": [
    "def filter_names(names: list, ignore_char: str, max_names: int) :\n",
    "    is_contain_dig = lambda name: all(char.isalpha() for char in name)\n",
    "    def gen_names():\n",
    "        counter = 0\n",
    "        for name in names:\n",
    "            if is_contain_dig(name) and name[0].lower() != ignore_char.lower():\n",
    "                counter +=1\n",
    "                yield name\n",
    "            if counter == max_names: return\n",
    "    return gen_names()\n",
    "\n",
    "data = ['Dima', 'Timur', 'Arthur', 'Anri20', 'Arina', 'German', 'Ruslan']\n",
    "\n",
    "print(*filter_names(data, 'D', 3))"
   ]
  },
  {
   "attachments": {},
   "cell_type": "markdown",
   "metadata": {},
   "source": [
    "        Напишите программу с использованием конвейеров генераторов, определяющую общую сумму, которая была инвестирована в раунде а, и выводящую полученный результат."
   ]
  },
  {
   "cell_type": "code",
   "execution_count": 55,
   "metadata": {},
   "outputs": [
    {
     "data": {
      "text/html": [
       "<div>\n",
       "<style scoped>\n",
       "    .dataframe tbody tr th:only-of-type {\n",
       "        vertical-align: middle;\n",
       "    }\n",
       "\n",
       "    .dataframe tbody tr th {\n",
       "        vertical-align: top;\n",
       "    }\n",
       "\n",
       "    .dataframe thead th {\n",
       "        text-align: right;\n",
       "    }\n",
       "</style>\n",
       "<table border=\"1\" class=\"dataframe\">\n",
       "  <thead>\n",
       "    <tr style=\"text-align: right;\">\n",
       "      <th></th>\n",
       "      <th>company</th>\n",
       "      <th>raisedAmt</th>\n",
       "      <th>round</th>\n",
       "    </tr>\n",
       "  </thead>\n",
       "  <tbody>\n",
       "    <tr>\n",
       "      <th>0</th>\n",
       "      <td>LifeLock</td>\n",
       "      <td>6850000</td>\n",
       "      <td>b</td>\n",
       "    </tr>\n",
       "    <tr>\n",
       "      <th>1</th>\n",
       "      <td>LifeLock</td>\n",
       "      <td>6000000</td>\n",
       "      <td>a</td>\n",
       "    </tr>\n",
       "    <tr>\n",
       "      <th>2</th>\n",
       "      <td>LifeLock</td>\n",
       "      <td>25000000</td>\n",
       "      <td>c</td>\n",
       "    </tr>\n",
       "    <tr>\n",
       "      <th>3</th>\n",
       "      <td>MyCityFaces</td>\n",
       "      <td>50000</td>\n",
       "      <td>seed</td>\n",
       "    </tr>\n",
       "    <tr>\n",
       "      <th>4</th>\n",
       "      <td>Flypaper</td>\n",
       "      <td>3000000</td>\n",
       "      <td>a</td>\n",
       "    </tr>\n",
       "    <tr>\n",
       "      <th>...</th>\n",
       "      <td>...</td>\n",
       "      <td>...</td>\n",
       "      <td>...</td>\n",
       "    </tr>\n",
       "    <tr>\n",
       "      <th>1455</th>\n",
       "      <td>Trusera</td>\n",
       "      <td>2000000</td>\n",
       "      <td>angel</td>\n",
       "    </tr>\n",
       "    <tr>\n",
       "      <th>1456</th>\n",
       "      <td>Alerts.com</td>\n",
       "      <td>1200000</td>\n",
       "      <td>a</td>\n",
       "    </tr>\n",
       "    <tr>\n",
       "      <th>1457</th>\n",
       "      <td>Myrio</td>\n",
       "      <td>20500000</td>\n",
       "      <td>unattributed</td>\n",
       "    </tr>\n",
       "    <tr>\n",
       "      <th>1458</th>\n",
       "      <td>Grid Networks</td>\n",
       "      <td>9500000</td>\n",
       "      <td>a</td>\n",
       "    </tr>\n",
       "    <tr>\n",
       "      <th>1459</th>\n",
       "      <td>Grid Networks</td>\n",
       "      <td>10500000</td>\n",
       "      <td>b</td>\n",
       "    </tr>\n",
       "  </tbody>\n",
       "</table>\n",
       "<p>1460 rows × 3 columns</p>\n",
       "</div>"
      ],
      "text/plain": [
       "            company  raisedAmt         round\n",
       "0          LifeLock    6850000             b\n",
       "1          LifeLock    6000000             a\n",
       "2          LifeLock   25000000             c\n",
       "3       MyCityFaces      50000          seed\n",
       "4          Flypaper    3000000             a\n",
       "...             ...        ...           ...\n",
       "1455        Trusera    2000000         angel\n",
       "1456     Alerts.com    1200000             a\n",
       "1457          Myrio   20500000  unattributed\n",
       "1458  Grid Networks    9500000             a\n",
       "1459  Grid Networks   10500000             b\n",
       "\n",
       "[1460 rows x 3 columns]"
      ]
     },
     "execution_count": 55,
     "metadata": {},
     "output_type": "execute_result"
    }
   ],
   "source": [
    "import pandas as pd\n",
    "df = pd.read_csv('https://stepik.org/media/attachments/lesson/673155/data.csv')\n",
    "\n",
    "df"
   ]
  },
  {
   "cell_type": "code",
   "execution_count": 59,
   "metadata": {},
   "outputs": [
    {
     "data": {
      "text/plain": [
       "4380015000"
      ]
     },
     "execution_count": 59,
     "metadata": {},
     "output_type": "execute_result"
    }
   ],
   "source": [
    "df[df['round'] == 'a'].raisedAmt.sum()"
   ]
  },
  {
   "cell_type": "code",
   "execution_count": 66,
   "metadata": {},
   "outputs": [
    {
     "data": {
      "text/html": [
       "<div>\n",
       "<style scoped>\n",
       "    .dataframe tbody tr th:only-of-type {\n",
       "        vertical-align: middle;\n",
       "    }\n",
       "\n",
       "    .dataframe tbody tr th {\n",
       "        vertical-align: top;\n",
       "    }\n",
       "\n",
       "    .dataframe thead th {\n",
       "        text-align: right;\n",
       "    }\n",
       "</style>\n",
       "<table border=\"1\" class=\"dataframe\">\n",
       "  <thead>\n",
       "    <tr style=\"text-align: right;\">\n",
       "      <th></th>\n",
       "      <th>company</th>\n",
       "      <th>raisedAmt</th>\n",
       "      <th>round</th>\n",
       "    </tr>\n",
       "  </thead>\n",
       "  <tbody>\n",
       "    <tr>\n",
       "      <th>1</th>\n",
       "      <td>LifeLock</td>\n",
       "      <td>6000000</td>\n",
       "      <td>a</td>\n",
       "    </tr>\n",
       "    <tr>\n",
       "      <th>4</th>\n",
       "      <td>Flypaper</td>\n",
       "      <td>3000000</td>\n",
       "      <td>a</td>\n",
       "    </tr>\n",
       "    <tr>\n",
       "      <th>5</th>\n",
       "      <td>Infusionsoft</td>\n",
       "      <td>9000000</td>\n",
       "      <td>a</td>\n",
       "    </tr>\n",
       "    <tr>\n",
       "      <th>10</th>\n",
       "      <td>Digg</td>\n",
       "      <td>2800000</td>\n",
       "      <td>a</td>\n",
       "    </tr>\n",
       "    <tr>\n",
       "      <th>12</th>\n",
       "      <td>Facebook</td>\n",
       "      <td>12700000</td>\n",
       "      <td>a</td>\n",
       "    </tr>\n",
       "    <tr>\n",
       "      <th>...</th>\n",
       "      <td>...</td>\n",
       "      <td>...</td>\n",
       "      <td>...</td>\n",
       "    </tr>\n",
       "    <tr>\n",
       "      <th>1448</th>\n",
       "      <td>TeachStreet</td>\n",
       "      <td>2250000</td>\n",
       "      <td>a</td>\n",
       "    </tr>\n",
       "    <tr>\n",
       "      <th>1451</th>\n",
       "      <td>Infinia</td>\n",
       "      <td>9500000</td>\n",
       "      <td>a</td>\n",
       "    </tr>\n",
       "    <tr>\n",
       "      <th>1453</th>\n",
       "      <td>Cozi</td>\n",
       "      <td>3000000</td>\n",
       "      <td>a</td>\n",
       "    </tr>\n",
       "    <tr>\n",
       "      <th>1456</th>\n",
       "      <td>Alerts.com</td>\n",
       "      <td>1200000</td>\n",
       "      <td>a</td>\n",
       "    </tr>\n",
       "    <tr>\n",
       "      <th>1458</th>\n",
       "      <td>Grid Networks</td>\n",
       "      <td>9500000</td>\n",
       "      <td>a</td>\n",
       "    </tr>\n",
       "  </tbody>\n",
       "</table>\n",
       "<p>582 rows × 3 columns</p>\n",
       "</div>"
      ],
      "text/plain": [
       "            company  raisedAmt round\n",
       "1          LifeLock    6000000     a\n",
       "4          Flypaper    3000000     a\n",
       "5      Infusionsoft    9000000     a\n",
       "10             Digg    2800000     a\n",
       "12         Facebook   12700000     a\n",
       "...             ...        ...   ...\n",
       "1448    TeachStreet    2250000     a\n",
       "1451        Infinia    9500000     a\n",
       "1453           Cozi    3000000     a\n",
       "1456     Alerts.com    1200000     a\n",
       "1458  Grid Networks    9500000     a\n",
       "\n",
       "[582 rows x 3 columns]"
      ]
     },
     "execution_count": 66,
     "metadata": {},
     "output_type": "execute_result"
    }
   ],
   "source": [
    "df[df['round'] == 'a']"
   ]
  },
  {
   "cell_type": "code",
   "execution_count": 69,
   "metadata": {},
   "outputs": [
    {
     "name": "stdout",
     "output_type": "stream",
     "text": [
      "1. 6000000\n",
      "2. 3000000\n",
      "3. 9000000\n",
      "4. 2800000\n",
      "5. 12700000\n",
      "6. 3000000\n",
      "7. 1500000\n",
      "8. 6300000\n",
      "9. 3710000\n",
      "10. 13500000\n",
      "11. 9000000\n",
      "12. 3800000\n",
      "13. 12500000\n",
      "14. 5000000\n",
      "15. 2250000\n",
      "16. 2250000\n",
      "17. 5000000\n",
      "18. 5200000\n",
      "19. 5000000\n",
      "20. 4000000\n",
      "21. 7500000\n",
      "22. 25000000\n",
      "23. 3000000\n",
      "24. 3500000\n",
      "25. 11100000\n",
      "26. 6000000\n",
      "27. 10000000\n",
      "28. 1000000\n",
      "29. 5000000\n",
      "30. 5000000\n",
      "31. 13000000\n",
      "32. 7000000\n",
      "33. 4000000\n",
      "34. 4250000\n",
      "35. 3100000\n",
      "36. 6000000\n",
      "37. 500000\n",
      "38. 7000000\n",
      "39. 1000000\n",
      "40. 3200000\n",
      "41. 2200000\n",
      "42. 6800000\n",
      "43. 1500000\n",
      "44. 1300000\n",
      "45. 1000000\n",
      "46. 1000000\n",
      "47. 15000000\n",
      "48. 15000000\n",
      "49. 1100000\n",
      "50. 7000000\n",
      "51. 16000000\n",
      "52. 1500000\n",
      "53. 1200000\n",
      "54. 300000\n",
      "55. 350000\n",
      "56. 4000000\n",
      "57. 5000000\n",
      "58. 3500000\n",
      "59. 4700000\n",
      "60. 1600000\n",
      "61. 10000000\n",
      "62. 14000000\n",
      "63. 1500000\n",
      "64. 1800000\n",
      "65. 5000000\n",
      "66. 10000000\n",
      "67. 1500000\n",
      "68. 325000\n",
      "69. 7700000\n",
      "70. 6200000\n",
      "71. 6000000\n",
      "72. 7000000\n",
      "73. 2100000\n",
      "74. 5000000\n",
      "75. 6000000\n",
      "76. 3000000\n",
      "77. 8000000\n",
      "78. 2000000\n",
      "79. 6250000\n",
      "80. 20000000\n",
      "81. 7000000\n",
      "82. 10000000\n",
      "83. 2700000\n",
      "84. 6000000\n",
      "85. 9000000\n",
      "86. 5100000\n",
      "87. 1500000\n",
      "88. 5000000\n",
      "89. 2300000\n",
      "90. 5000000\n",
      "91. 4000000\n",
      "92. 560000\n",
      "93. 1500000\n",
      "94. 3500000\n",
      "95. 5500000\n",
      "96. 2000000\n",
      "97. 1750000\n",
      "98. 4000000\n",
      "99. 3200000\n",
      "100. 10000000\n",
      "101. 10000000\n",
      "102. 5500000\n",
      "103. 21000000\n",
      "104. 8500000\n",
      "105. 7500000\n",
      "106. 440000\n",
      "107. 18000000\n",
      "108. 8930000\n",
      "109. 36600000\n",
      "110. 4000000\n",
      "111. 5000000\n",
      "112. 7000000\n",
      "113. 4000000\n",
      "114. 600000\n",
      "115. 5000000\n",
      "116. 8750000\n",
      "117. 1000000\n",
      "118. 3500000\n",
      "119. 6000000\n",
      "120. 11500000\n",
      "121. 2000000\n",
      "122. 3500000\n",
      "123. 750000\n",
      "124. 8900000\n",
      "125. 5600000\n",
      "126. 5600000\n",
      "127. 1500000\n",
      "128. 30000000\n",
      "129. 22900000\n",
      "130. 11000000\n",
      "131. 8400000\n",
      "132. 3000000\n",
      "133. 2400000\n",
      "134. 10500000\n",
      "135. 4000000\n",
      "136. 2100000\n",
      "137. 10260000\n",
      "138. 1500000\n",
      "139. 20000000\n",
      "140. 4175000\n",
      "141. 5000000\n",
      "142. 2000000\n",
      "143. 2500000\n",
      "144. 5500000\n",
      "145. 25000000\n",
      "146. 2600000\n",
      "147. 7000000\n",
      "148. 7500000\n",
      "149. 4050000\n",
      "150. 3000000\n",
      "151. 5400000\n",
      "152. 9500000\n",
      "153. 100000000\n",
      "154. 6300000\n",
      "155. 10000000\n",
      "156. 2000000\n",
      "157. 500000\n",
      "158. 120000000\n",
      "159. 7000000\n",
      "160. 4700000\n",
      "161. 7500000\n",
      "162. 6000000\n",
      "163. 2500000\n",
      "164. 21400000\n",
      "165. 1000000\n",
      "166. 9400000\n",
      "167. 10000000\n",
      "168. 5000000\n",
      "169. 4260000\n",
      "170. 2000000\n",
      "171. 1700000\n",
      "172. 1300000\n",
      "173. 12000000\n",
      "174. 4000000\n",
      "175. 6500000\n",
      "176. 1300000\n",
      "177. 2500000\n",
      "178. 5000000\n",
      "179. 5000000\n",
      "180. 4000000\n",
      "181. 650000\n",
      "182. 4000000\n",
      "183. 9000000\n",
      "184. 4000000\n",
      "185. 12600000\n",
      "186. 1100000\n",
      "187. 5000000\n",
      "188. 8300000\n",
      "189. 6000000\n",
      "190. 4300000\n",
      "191. 1500000\n",
      "192. 1350000\n",
      "193. 1000000\n",
      "194. 3000000\n",
      "195. 4000000\n",
      "196. 500000\n",
      "197. 1000000\n",
      "198. 3000000\n",
      "199. 3000000\n",
      "200. 2800000\n",
      "201. 14750000\n",
      "202. 2000000\n",
      "203. 5500000\n",
      "204. 4000000\n",
      "205. 6000000\n",
      "206. 25000000\n",
      "207. 3000000\n",
      "208. 50000000\n",
      "209. 1200000\n",
      "210. 5000000\n",
      "211. 3000000\n",
      "212. 3000000\n",
      "213. 2000000\n",
      "214. 4000000\n",
      "215. 3000000\n",
      "216. 7200000\n",
      "217. 500000\n",
      "218. 1500000\n",
      "219. 4000000\n",
      "220. 5000000\n",
      "221. 40000000\n",
      "222. 2350000\n",
      "223. 7500000\n",
      "224. 2000000\n",
      "225. 3000000\n",
      "226. 5000000\n",
      "227. 2000000\n",
      "228. 8000000\n",
      "229. 2850000\n",
      "230. 1500000\n",
      "231. 6000000\n",
      "232. 500000\n",
      "233. 10000000\n",
      "234. 4000000\n",
      "235. 3500000\n",
      "236. 2500000\n",
      "237. 4100000\n",
      "238. 5000000\n",
      "239. 26000000\n",
      "240. 150000000\n",
      "241. 10000000\n",
      "242. 3500000\n",
      "243. 15000000\n",
      "244. 5000000\n",
      "245. 15000000\n",
      "246. 3000000\n",
      "247. 990000\n",
      "248. 1000000\n",
      "249. 10000000\n",
      "250. 5000000\n",
      "251. 3500000\n",
      "252. 4000000\n",
      "253. 4250000\n",
      "254. 2800000\n",
      "255. 15000000\n",
      "256. 22000000\n",
      "257. 2000000\n",
      "258. 6500000\n",
      "259. 4500000\n",
      "260. 3000000\n",
      "261. 6000000\n",
      "262. 5000000\n",
      "263. 4000000\n",
      "264. 3500000\n",
      "265. 13500000\n",
      "266. 7000000\n",
      "267. 2000000\n",
      "268. 7000000\n",
      "269. 2000000\n",
      "270. 2500000\n",
      "271. 1000000\n",
      "272. 400000\n",
      "273. 4000000\n",
      "274. 7000000\n",
      "275. 4900000\n",
      "276. 6500000\n",
      "277. 10700000\n",
      "278. 2600000\n",
      "279. 1000000\n",
      "280. 5000000\n",
      "281. 1200000\n",
      "282. 3000000\n",
      "283. 10000000\n",
      "284. 15600000\n",
      "285. 4250000\n",
      "286. 5000000\n",
      "287. 2000000\n",
      "288. 5000000\n",
      "289. 5000000\n",
      "290. 2300000\n",
      "291. 10000000\n",
      "292. 2000000\n",
      "293. 15000000\n",
      "294. 3000000\n",
      "295. 7000000\n",
      "296. 7500000\n",
      "297. 1500000\n",
      "298. 10000000\n",
      "299. 1000000\n",
      "300. 750000\n",
      "301. 1100000\n",
      "302. 8000000\n",
      "303. 5500000\n",
      "304. 3500000\n",
      "305. 4000000\n",
      "306. 2500000\n",
      "307. 3000000\n",
      "308. 5000000\n",
      "309. 4500000\n",
      "310. 1000000\n",
      "311. 4200000\n",
      "312. 3500000\n",
      "313. 8000000\n",
      "314. 6000000\n",
      "315. 11370000\n",
      "316. 21000000\n",
      "317. 6600000\n",
      "318. 5000000\n",
      "319. 12000000\n",
      "320. 5000000\n",
      "321. 5500000\n",
      "322. 1530000\n",
      "323. 1265000\n",
      "324. 7000000\n",
      "325. 5800000\n",
      "326. 4200000\n",
      "327. 4800000\n",
      "328. 7000000\n",
      "329. 10000000\n",
      "330. 2000000\n",
      "331. 750000\n",
      "332. 12550000\n",
      "333. 3000000\n",
      "334. 1500000\n",
      "335. 1000000\n",
      "336. 1000000\n",
      "337. 21000000\n",
      "338. 6500000\n",
      "339. 3800000\n",
      "340. 9400000\n",
      "341. 7400000\n",
      "342. 1300000\n",
      "343. 3200000\n",
      "344. 120000\n",
      "345. 1100000\n",
      "346. 5500000\n",
      "347. 8000000\n",
      "348. 2900000\n",
      "349. 4500000\n",
      "350. 1000000\n",
      "351. 2500000\n",
      "352. 70000000\n",
      "353. 9500000\n",
      "354. 1000000\n",
      "355. 13700000\n",
      "356. 11000000\n",
      "357. 5400000\n",
      "358. 300000\n",
      "359. 250000\n",
      "360. 1400000\n",
      "361. 5600000\n",
      "362. 2100000\n",
      "363. 900000\n",
      "364. 1100000\n",
      "365. 2600000\n",
      "366. 6000000\n",
      "367. 5000000\n",
      "368. 1100000\n",
      "369. 6500000\n",
      "370. 2300000\n",
      "371. 250000\n",
      "372. 2650000\n",
      "373. 2000000\n",
      "374. 3000000\n",
      "375. 60000000\n",
      "376. 25000000\n",
      "377. 2000000\n",
      "378. 3000000\n",
      "379. 2500000\n",
      "380. 7500000\n",
      "381. 1250000\n",
      "382. 1200000\n",
      "383. 14000000\n",
      "384. 1500000\n",
      "385. 8400000\n",
      "386. 1000000\n",
      "387. 5000000\n",
      "388. 1100000\n",
      "389. 34000000\n",
      "390. 4800000\n",
      "391. 1500000\n",
      "392. 1600000\n",
      "393. 4000000\n",
      "394. 4000000\n",
      "395. 10000000\n",
      "396. 6000000\n",
      "397. 4500000\n",
      "398. 6200000\n",
      "399. 6000000\n",
      "400. 2500000\n",
      "401. 3500000\n",
      "402. 7000000\n",
      "403. 5000000\n",
      "404. 5500000\n",
      "405. 5500000\n",
      "406. 7000000\n",
      "407. 7000000\n",
      "408. 3000000\n",
      "409. 6000000\n",
      "410. 3100000\n",
      "411. 6750000\n",
      "412. 15000000\n",
      "413. 6500000\n",
      "414. 10000000\n",
      "415. 3000000\n",
      "416. 3000000\n",
      "417. 5100000\n",
      "418. 10000000\n",
      "419. 2300000\n",
      "420. 6000000\n",
      "421. 5000000\n",
      "422. 5000000\n",
      "423. 4000000\n",
      "424. 5000000\n",
      "425. 7000000\n",
      "426. 8000000\n",
      "427. 5000000\n",
      "428. 10000000\n",
      "429. 7000000\n",
      "430. 16700000\n",
      "431. 2400000\n",
      "432. 25000000\n",
      "433. 2000000\n",
      "434. 4400000\n",
      "435. 13000000\n",
      "436. 2000000\n",
      "437. 5000000\n",
      "438. 7000000\n",
      "439. 6200000\n",
      "440. 9000000\n",
      "441. 12000000\n",
      "442. 300000000\n",
      "443. 9900000\n",
      "444. 6000000\n",
      "445. 1050000\n",
      "446. 7000000\n",
      "447. 6500000\n",
      "448. 1200000\n",
      "449. 200000\n",
      "450. 6400000\n",
      "451. 570000\n",
      "452. 27400000\n",
      "453. 1500000\n",
      "454. 7000000\n",
      "455. 700000\n",
      "456. 1500000\n",
      "457. 2800000\n",
      "458. 10000000\n",
      "459. 3000000\n",
      "460. 5500000\n",
      "461. 5000000\n",
      "462. 3000000\n",
      "463. 60000000\n",
      "464. 8000000\n",
      "465. 6500000\n",
      "466. 3000000\n",
      "467. 10000000\n",
      "468. 4000000\n",
      "469. 2300000\n",
      "470. 1000000\n",
      "471. 5000000\n",
      "472. 2100000\n",
      "473. 25000000\n",
      "474. 750000\n",
      "475. 4000000\n",
      "476. 5000000\n",
      "477. 3000000\n",
      "478. 1000000\n",
      "479. 300000\n",
      "480. 1250000\n",
      "481. 4200000\n",
      "482. 4750000\n",
      "483. 3800000\n",
      "484. 24000000\n",
      "485. 5000000\n",
      "486. 1000000\n",
      "487. 8400000\n",
      "488. 5250000\n",
      "489. 12000000\n",
      "490. 7250000\n",
      "491. 4600000\n",
      "492. 5000000\n",
      "493. 10000000\n",
      "494. 1250000\n",
      "495. 8000000\n",
      "496. 5200000\n",
      "497. 40000000\n",
      "498. 2500000\n",
      "499. 16000000\n",
      "500. 2500000\n",
      "501. 3000000\n",
      "502. 6000000\n",
      "503. 15000000\n",
      "504. 2600000\n",
      "505. 50000000\n",
      "506. 15000000\n",
      "507. 6600000\n",
      "508. 4000000\n",
      "509. 6500000\n",
      "510. 4000000\n",
      "511. 4000000\n",
      "512. 1000000\n",
      "513. 2000000\n",
      "514. 11500000\n",
      "515. 4000000\n",
      "516. 1000000\n",
      "517. 2000000\n",
      "518. 1000000\n",
      "519. 4000000\n",
      "520. 4500000\n",
      "521. 4000000\n",
      "522. 4500000\n",
      "523. 5000000\n",
      "524. 1900000\n",
      "525. 1900000\n",
      "526. 11300000\n",
      "527. 1200000\n",
      "528. 8000000\n",
      "529. 1500000\n",
      "530. 6000000\n",
      "531. 2500000\n",
      "532. 1500000\n",
      "533. 7000000\n",
      "534. 50000000\n",
      "535. 2000000\n",
      "536. 2100000\n",
      "537. 500000\n",
      "538. 13500000\n",
      "539. 10000000\n",
      "540. 10000000\n",
      "541. 5250000\n",
      "542. 8000000\n",
      "543. 2300000\n",
      "544. 1500000\n",
      "545. 500000\n",
      "546. 1250000\n",
      "547. 2500000\n",
      "548. 770000\n",
      "549. 7700000\n",
      "550. 1000000\n",
      "551. 3200000\n",
      "552. 2800000\n",
      "553. 2500000\n",
      "554. 40000000\n",
      "555. 4000000\n",
      "556. 3700000\n",
      "557. 2690000\n",
      "558. 3500000\n",
      "559. 32000000\n",
      "560. 1250000\n",
      "561. 2550000\n",
      "562. 9500000\n",
      "563. 7400000\n",
      "564. 6500000\n",
      "565. 2000000\n",
      "566. 7400000\n",
      "567. 5900000\n",
      "568. 5000000\n",
      "569. 8000000\n",
      "570. 6000000\n",
      "571. 1200000\n",
      "572. 850000\n",
      "573. 1000000\n",
      "574. 45000000\n",
      "575. 3000000\n",
      "576. 3000000\n",
      "577. 9800000\n",
      "578. 2250000\n",
      "579. 9500000\n",
      "580. 3000000\n",
      "581. 1200000\n",
      "582. 9500000\n"
     ]
    }
   ],
   "source": [
    "with open('/Users/tony_builder/Documents/GitHub/studying/Python_stepic_beegeek/python for professional/data/data (1).csv',\n",
    "           'r', encoding='utf-8') as file:\n",
    "    file_lines = (line for line in file)                                    # генератор всех линий текстового файла\n",
    "    line_values = (line.rstrip().split(',') for line in file_lines)         # генератор линий без разделителя (запятой)\n",
    "    file_headers = next(line_values)                                        # заголовки столбцов\n",
    "    line_dicts = (dict(zip(file_headers, data)) for data in line_values)    # превратили данные в вид {заголовок: значение столбца}\n",
    "\n",
    "    result = ( line['raisedAmt'] \n",
    "              for line in line_dicts \n",
    "              if line['round'] == 'a')\n",
    "\n",
    "    for index, raisedAmt in enumerate(result, 1):     # здесь уже происходит ИТЕРАЦИЯ и считывание в память\n",
    "        print(f'{index}. {raisedAmt}')\n",
    "\n",
    "    # print(sum(map(int, result)))"
   ]
  },
  {
   "attachments": {},
   "cell_type": "markdown",
   "metadata": {},
   "source": [
    "        Функция years_days()\n",
    "        Реализуйте генераторную функцию years_days(), которая принимает один аргумент:\n",
    "\n",
    "        year — натуральное число\n",
    "        Функция должна возвращать генератор, порождающий последовательность всех дат (тип date) в году year.\n",
    "\n",
    "        Примечание 1. Возьмем в качестве примера 2022 год. \n",
    "        \n",
    "        Тогда генератор, полученный при вызове years_days(2022), должен порождать сначала все даты с \n",
    "        1\n",
    "        1 по \n",
    "        31\n",
    "        31 января, затем с \n",
    "        1\n",
    "        1 по \n",
    "        28\n",
    "        28 февраля, и так далее до \n",
    "        31\n",
    "        31 декабря."
   ]
  },
  {
   "cell_type": "code",
   "execution_count": 81,
   "metadata": {},
   "outputs": [
    {
     "name": "stdout",
     "output_type": "stream",
     "text": [
      "2022-01-01\n",
      "2022-01-02\n",
      "2022-01-03\n",
      "2022-01-04\n",
      "2022-01-05\n",
      "2022-01-06\n",
      "2022-01-07\n",
      "2022-01-08\n",
      "2022-01-09\n",
      "2022-01-10\n",
      "2022-01-11\n",
      "2022-01-12\n",
      "2022-01-13\n",
      "2022-01-14\n",
      "2022-01-15\n",
      "2022-01-16\n",
      "2022-01-17\n",
      "2022-01-18\n",
      "2022-01-19\n",
      "2022-01-20\n",
      "2022-01-21\n",
      "2022-01-22\n",
      "2022-01-23\n",
      "2022-01-24\n",
      "2022-01-25\n",
      "2022-01-26\n",
      "2022-01-27\n",
      "2022-01-28\n",
      "2022-01-29\n",
      "2022-01-30\n",
      "2022-01-31\n",
      "2022-02-01\n",
      "2022-02-02\n",
      "2022-02-03\n",
      "2022-02-04\n",
      "2022-02-05\n",
      "2022-02-06\n",
      "2022-02-07\n",
      "2022-02-08\n",
      "2022-02-09\n",
      "2022-02-10\n",
      "2022-02-11\n",
      "2022-02-12\n",
      "2022-02-13\n",
      "2022-02-14\n",
      "2022-02-15\n",
      "2022-02-16\n",
      "2022-02-17\n",
      "2022-02-18\n",
      "2022-02-19\n",
      "2022-02-20\n",
      "2022-02-21\n",
      "2022-02-22\n",
      "2022-02-23\n",
      "2022-02-24\n",
      "2022-02-25\n",
      "2022-02-26\n",
      "2022-02-27\n",
      "2022-02-28\n",
      "2022-03-01\n",
      "2022-03-02\n",
      "2022-03-03\n",
      "2022-03-04\n",
      "2022-03-05\n",
      "2022-03-06\n",
      "2022-03-07\n",
      "2022-03-08\n",
      "2022-03-09\n",
      "2022-03-10\n",
      "2022-03-11\n",
      "2022-03-12\n",
      "2022-03-13\n",
      "2022-03-14\n",
      "2022-03-15\n",
      "2022-03-16\n",
      "2022-03-17\n",
      "2022-03-18\n",
      "2022-03-19\n",
      "2022-03-20\n",
      "2022-03-21\n",
      "2022-03-22\n",
      "2022-03-23\n",
      "2022-03-24\n",
      "2022-03-25\n",
      "2022-03-26\n",
      "2022-03-27\n",
      "2022-03-28\n",
      "2022-03-29\n",
      "2022-03-30\n",
      "2022-03-31\n",
      "2022-04-01\n",
      "2022-04-02\n",
      "2022-04-03\n",
      "2022-04-04\n",
      "2022-04-05\n",
      "2022-04-06\n",
      "2022-04-07\n",
      "2022-04-08\n",
      "2022-04-09\n",
      "2022-04-10\n",
      "2022-04-11\n",
      "2022-04-12\n",
      "2022-04-13\n",
      "2022-04-14\n",
      "2022-04-15\n",
      "2022-04-16\n",
      "2022-04-17\n",
      "2022-04-18\n",
      "2022-04-19\n",
      "2022-04-20\n",
      "2022-04-21\n",
      "2022-04-22\n",
      "2022-04-23\n",
      "2022-04-24\n",
      "2022-04-25\n",
      "2022-04-26\n",
      "2022-04-27\n",
      "2022-04-28\n",
      "2022-04-29\n",
      "2022-04-30\n",
      "2022-05-01\n",
      "2022-05-02\n",
      "2022-05-03\n",
      "2022-05-04\n",
      "2022-05-05\n",
      "2022-05-06\n",
      "2022-05-07\n",
      "2022-05-08\n",
      "2022-05-09\n",
      "2022-05-10\n",
      "2022-05-11\n",
      "2022-05-12\n",
      "2022-05-13\n",
      "2022-05-14\n",
      "2022-05-15\n",
      "2022-05-16\n",
      "2022-05-17\n",
      "2022-05-18\n",
      "2022-05-19\n",
      "2022-05-20\n",
      "2022-05-21\n",
      "2022-05-22\n",
      "2022-05-23\n",
      "2022-05-24\n",
      "2022-05-25\n",
      "2022-05-26\n",
      "2022-05-27\n",
      "2022-05-28\n",
      "2022-05-29\n",
      "2022-05-30\n",
      "2022-05-31\n",
      "2022-06-01\n",
      "2022-06-02\n",
      "2022-06-03\n",
      "2022-06-04\n",
      "2022-06-05\n",
      "2022-06-06\n",
      "2022-06-07\n",
      "2022-06-08\n",
      "2022-06-09\n",
      "2022-06-10\n",
      "2022-06-11\n",
      "2022-06-12\n",
      "2022-06-13\n",
      "2022-06-14\n",
      "2022-06-15\n",
      "2022-06-16\n",
      "2022-06-17\n",
      "2022-06-18\n",
      "2022-06-19\n",
      "2022-06-20\n",
      "2022-06-21\n",
      "2022-06-22\n",
      "2022-06-23\n",
      "2022-06-24\n",
      "2022-06-25\n",
      "2022-06-26\n",
      "2022-06-27\n",
      "2022-06-28\n",
      "2022-06-29\n",
      "2022-06-30\n",
      "2022-07-01\n",
      "2022-07-02\n",
      "2022-07-03\n",
      "2022-07-04\n",
      "2022-07-05\n",
      "2022-07-06\n",
      "2022-07-07\n",
      "2022-07-08\n",
      "2022-07-09\n",
      "2022-07-10\n",
      "2022-07-11\n",
      "2022-07-12\n",
      "2022-07-13\n",
      "2022-07-14\n",
      "2022-07-15\n",
      "2022-07-16\n",
      "2022-07-17\n",
      "2022-07-18\n",
      "2022-07-19\n",
      "2022-07-20\n",
      "2022-07-21\n",
      "2022-07-22\n",
      "2022-07-23\n",
      "2022-07-24\n",
      "2022-07-25\n",
      "2022-07-26\n",
      "2022-07-27\n",
      "2022-07-28\n",
      "2022-07-29\n",
      "2022-07-30\n",
      "2022-07-31\n",
      "2022-08-01\n",
      "2022-08-02\n",
      "2022-08-03\n",
      "2022-08-04\n",
      "2022-08-05\n",
      "2022-08-06\n",
      "2022-08-07\n",
      "2022-08-08\n",
      "2022-08-09\n",
      "2022-08-10\n",
      "2022-08-11\n",
      "2022-08-12\n",
      "2022-08-13\n",
      "2022-08-14\n",
      "2022-08-15\n",
      "2022-08-16\n",
      "2022-08-17\n",
      "2022-08-18\n",
      "2022-08-19\n",
      "2022-08-20\n",
      "2022-08-21\n",
      "2022-08-22\n",
      "2022-08-23\n",
      "2022-08-24\n",
      "2022-08-25\n",
      "2022-08-26\n",
      "2022-08-27\n",
      "2022-08-28\n",
      "2022-08-29\n",
      "2022-08-30\n",
      "2022-08-31\n",
      "2022-09-01\n",
      "2022-09-02\n",
      "2022-09-03\n",
      "2022-09-04\n",
      "2022-09-05\n",
      "2022-09-06\n",
      "2022-09-07\n",
      "2022-09-08\n",
      "2022-09-09\n",
      "2022-09-10\n",
      "2022-09-11\n",
      "2022-09-12\n",
      "2022-09-13\n",
      "2022-09-14\n",
      "2022-09-15\n",
      "2022-09-16\n",
      "2022-09-17\n",
      "2022-09-18\n",
      "2022-09-19\n",
      "2022-09-20\n",
      "2022-09-21\n",
      "2022-09-22\n",
      "2022-09-23\n",
      "2022-09-24\n",
      "2022-09-25\n",
      "2022-09-26\n",
      "2022-09-27\n",
      "2022-09-28\n",
      "2022-09-29\n",
      "2022-09-30\n",
      "2022-10-01\n",
      "2022-10-02\n",
      "2022-10-03\n",
      "2022-10-04\n",
      "2022-10-05\n",
      "2022-10-06\n",
      "2022-10-07\n",
      "2022-10-08\n",
      "2022-10-09\n",
      "2022-10-10\n",
      "2022-10-11\n",
      "2022-10-12\n",
      "2022-10-13\n",
      "2022-10-14\n",
      "2022-10-15\n",
      "2022-10-16\n",
      "2022-10-17\n",
      "2022-10-18\n",
      "2022-10-19\n",
      "2022-10-20\n",
      "2022-10-21\n",
      "2022-10-22\n",
      "2022-10-23\n",
      "2022-10-24\n",
      "2022-10-25\n",
      "2022-10-26\n",
      "2022-10-27\n",
      "2022-10-28\n",
      "2022-10-29\n",
      "2022-10-30\n",
      "2022-10-31\n",
      "2022-11-01\n",
      "2022-11-02\n",
      "2022-11-03\n",
      "2022-11-04\n",
      "2022-11-05\n",
      "2022-11-06\n",
      "2022-11-07\n",
      "2022-11-08\n",
      "2022-11-09\n",
      "2022-11-10\n",
      "2022-11-11\n",
      "2022-11-12\n",
      "2022-11-13\n",
      "2022-11-14\n",
      "2022-11-15\n",
      "2022-11-16\n",
      "2022-11-17\n",
      "2022-11-18\n",
      "2022-11-19\n",
      "2022-11-20\n",
      "2022-11-21\n",
      "2022-11-22\n",
      "2022-11-23\n",
      "2022-11-24\n",
      "2022-11-25\n",
      "2022-11-26\n",
      "2022-11-27\n",
      "2022-11-28\n",
      "2022-11-29\n",
      "2022-11-30\n",
      "2022-12-01\n",
      "2022-12-02\n",
      "2022-12-03\n",
      "2022-12-04\n",
      "2022-12-05\n",
      "2022-12-06\n",
      "2022-12-07\n",
      "2022-12-08\n",
      "2022-12-09\n",
      "2022-12-10\n",
      "2022-12-11\n",
      "2022-12-12\n",
      "2022-12-13\n",
      "2022-12-14\n",
      "2022-12-15\n",
      "2022-12-16\n",
      "2022-12-17\n",
      "2022-12-18\n",
      "2022-12-19\n",
      "2022-12-20\n",
      "2022-12-21\n",
      "2022-12-22\n",
      "2022-12-23\n",
      "2022-12-24\n",
      "2022-12-25\n",
      "2022-12-26\n",
      "2022-12-27\n",
      "2022-12-28\n",
      "2022-12-29\n",
      "2022-12-30\n",
      "2022-12-31\n"
     ]
    }
   ],
   "source": [
    "import calendar\n",
    "from datetime import date, timedelta\n",
    "def years_days(year):\n",
    "    start = date(year, 1,1)\n",
    "    while start != date(year,12,31) + timedelta(days=1):\n",
    "        yield start\n",
    "        start += timedelta(days=1)\n",
    "\n",
    "dates = years_days(2022)\n",
    "for _ in range(365):\n",
    "    print(next(dates))\n"
   ]
  },
  {
   "attachments": {},
   "cell_type": "markdown",
   "metadata": {},
   "source": [
    "        Функция nonempty_lines()\n",
    "        Реализуйте генераторную функцию nonempty_lines(), которая принимает один аргумент:\n",
    "\n",
    "        file — название текстового файла, например, data.txt\n",
    "        Функция должна возвращать генератор, порождающий последовательность всех непустых строк файла file с убранным символом переноса строки \\n. Если строка содержит более \n",
    "        25\n",
    "        25 символов, она заменяется многоточием ...."
   ]
  },
  {
   "cell_type": "code",
   "execution_count": 13,
   "metadata": {},
   "outputs": [
    {
     "name": "stdout",
     "output_type": "stream",
     "text": [
      "23.03.2008; 19:16\n",
      "...\n",
      "...\n",
      "...\n",
      "23.03.2008; 19:16 ... ... ... ... ... 15.03.2008; 20:32 ... ... ... ... ... ... 08.03.2008; 22:03 ... ... ... ... ... ... 14.03.2008; 17:14 ... ... ... ... ... ... ... ... 07.04.2008; 20:20 ... ... ... ... ... 09.04.2008; 17:31 ... ... ... ... ... ... ... ... 04.03.2008; 21:59 ... ... ... ... 26.03.2008; 19:17 ... ... 25.03.2008; 23:31 ... ... ... ... 15.04.2008; 15:53 ... ... ... ... ... ... ... ... ... ... ... 21.04.2008; 16:17 ... ... ... ... ... ... ... 22.03.2008; 13:37 ... ... ... ... ... 27.02.2008; 19:51 ... 03.04.2008; 18:22 ... ... ... ... ... 01.03.2008; 18:01 ... ... ... ... ... 13.04.2008; 22:15 ... ... ... ... ... ... ... ... 02.03.2008; 17:43 ... ... 05.04.2008; 16:17 ... ... ... ... 17.03.2008; 19:09 ... ... ... ... ... ... ... ... ... ... 11.04.2008; 22:46 ... ... ... ... ... ... 12.04.2008; 21:38 ... ... ... 26.02.2008; 18:55 ... 17.04.2008; 23:11 ... ... ... ... ... ... 11.03.2008; 16:13 ... ... ... ... ... ... ... ... 24.04.2008; 15:17 ... ... ... ... ... ... ... ... ... ... ... ... 20.04.2008; 17:08 ... ... ... ... ... ... ... ... 02.04.2008; 17:52 ... ... ... ... 04.04.2008; 18:55 ... ... ...\n"
     ]
    }
   ],
   "source": [
    "def nonempty_lines(file):\n",
    "    with open(file, 'r', encoding= 'utf-8') as file:\n",
    "        all_lines = (line.strip() for line in file.readlines() if not line.isspace())\n",
    "        return ((line, '...')[len(line)>25] for line in all_lines)\n",
    "        \n",
    "filename = '/Users/tony_builder/Documents/GitHub/studying/Python_stepic_beegeek/python for professional/data/diary.txt'\n",
    "\n",
    "lines = nonempty_lines(filename)\n",
    "#print(type(lines))\n",
    "\n",
    "print(next(lines))\n",
    "print(next(lines))\n",
    "print(next(lines))\n",
    "print(next(lines))\n",
    "\n",
    "print(*nonempty_lines('/Users/tony_builder/Documents/GitHub/studying/Python_stepic_beegeek/python for professional/data/diary.txt'))\n"
   ]
  },
  {
   "cell_type": "code",
   "execution_count": 5,
   "metadata": {},
   "outputs": [
    {
     "data": {
      "text/plain": [
       "generator"
      ]
     },
     "execution_count": 5,
     "metadata": {},
     "output_type": "execute_result"
    }
   ],
   "source": [
    "res = (i**2 for i in range(100))\n",
    "\n",
    "type(res)"
   ]
  },
  {
   "attachments": {},
   "cell_type": "markdown",
   "metadata": {},
   "source": [
    "        Вам доступен файл planets.txt, содержащий информацию о различных планетах. В первых четырех строках указаны характеристики первой планеты, после чего следует пустая строка, затем характеристики второй планеты, и так далее\n",
    "\n",
    "        Реализуйте генераторную функцию txt_to_dict(), которая не принимает никаких аргументов.\n",
    "\n",
    "        Функция должна возвращать генератор, порождающий последовательность словарей, каждый из которых содержит информацию об очередной планете из файла planets.txt, а именно ее название, диаметр, массу и орбитальный период. Например:\n",
    "\n",
    "        {'Name': 'Mercury', 'Diameter': '4879.4', 'Mass': '3.302×10^23', 'OrbitalPeriod': '0.241'}"
   ]
  },
  {
   "cell_type": "code",
   "execution_count": 93,
   "metadata": {},
   "outputs": [
    {
     "name": "stdout",
     "output_type": "stream",
     "text": [
      "{'Name': 'Mercury', 'Diameter': '4879.4', 'Mass': '3.302×10^23', 'OrbitalPeriod': '0.241'}\n"
     ]
    }
   ],
   "source": [
    "def txt_to_dict():\n",
    "    from functools import reduce\n",
    "    from itertools import islice\n",
    "    \n",
    "    # функция трансформации списка в словарь\n",
    "    def list_to_dict(a:list) -> dict:\n",
    "        it = iter(a)\n",
    "        return dict(zip(it, it))\n",
    "    \n",
    "    # чтение файла\n",
    "    with open('/Users/tony_builder/Documents/GitHub/studying/Python_stepic_beegeek/python for professional/data/planets.txt',\n",
    "        'r', encoding='utf-8') as file:\n",
    "\n",
    "        num_lines = (len(file.readlines()) +1) * 4 /5\n",
    "        file.seek(0)\n",
    "    \n",
    "        file_lines = (line.strip() for line in file.readlines() \\\n",
    "                    if not line.isspace())                # генератор всех линий текстового файла без пустых строк\n",
    "        \n",
    "    \n",
    "        # генератор всех линий, разбитых на списки [name,val]\n",
    "        splited_lines = (line.split(' = ') for line in file_lines)\n",
    "\n",
    "        # генератор всех линий,  превращаемых в словари {name:val}\n",
    "        lines_dicts = (list_to_dict(elem) for elem in splited_lines)\n",
    "\n",
    "        # генератор объединения в блоки по 4 элемента в каждом : каждая планета имеет 4 характеристики: \n",
    "        # имя, диаметр, масса, орбитальный период\n",
    "        blocks_of_lines= (islice(lines_dicts, 4) for _ in range(int(num_lines/4)))\n",
    "\n",
    "        res = (reduce(lambda a,b: a | b, elem) for elem in blocks_of_lines)\n",
    "\n",
    "        return res\n",
    "    \n",
    "planets = txt_to_dict()\n",
    "print(next(planets))\n",
    "\n",
    "        "
   ]
  },
  {
   "cell_type": "code",
   "execution_count": 94,
   "metadata": {},
   "outputs": [
    {
     "name": "stdout",
     "output_type": "stream",
     "text": [
      "{'Name': 'Mercury', 'Diameter': '4879.4', 'Mass': '3.302×10^23', 'OrbitalPeriod': '0.241'}\n"
     ]
    }
   ],
   "source": [
    "# а это простое решение\n",
    "\n",
    "def txt_to_dict():\n",
    "    '''Функция-генератор для файла с блоками произвольного размера. Блоки разделены пустой строкой'''\n",
    "    with open('/Users/tony_builder/Documents/GitHub/studying/Python_stepic_beegeek/python for professional/data/planets.txt', encoding='utf-8') as file:        \n",
    "        lines = map(str.rstrip, file)        \n",
    "        blocks = ((line, *(iter(lambda: next(lines), ''))) for line in lines)        \n",
    "        yield from (dict(item.split(' = ') for item in block) for block in blocks)\n",
    "\n",
    "planets = txt_to_dict()\n",
    "print(next(planets))"
   ]
  },
  {
   "attachments": {},
   "cell_type": "markdown",
   "metadata": {},
   "source": [
    "Описание кода ниже:\n",
    "1) читаем по одной строке из файла, попутно избавляясь от переноса на след строку\n",
    "\n",
    "2) каждую строку передаем в фильтр, который убирает пустые строки (стоит параметр None)\n",
    "\n",
    "3) распаковка фильтра в цикле из 4 итераций с обратной запаковкой через zip приводи к созданию ленивого итератора, содержащего четыре генератора, пакующего содержимое строк по 4 штуки\n",
    "\n",
    "4) на выходе - единый генератор, в котором элементы предыдущих генераторов на каждой итерации сплитятся в списки [ключ, значение], а из них создаются словари"
   ]
  },
  {
   "cell_type": "code",
   "execution_count": 98,
   "metadata": {},
   "outputs": [
    {
     "name": "stdout",
     "output_type": "stream",
     "text": [
      "{'Name': 'Mercury', 'Diameter': '4879.4', 'Mass': '3.302×10^23', 'OrbitalPeriod': '0.241'}\n",
      "{'Name': 'Venus', 'Diameter': '12103.6', 'Mass': '4.869×10^24', 'OrbitalPeriod': '0.615'}\n",
      "{'Name': 'Earth', 'Diameter': '12756.3', 'Mass': '5.974×10^24', 'OrbitalPeriod': '1'}\n",
      "{'Name': 'Mars', 'Diameter': '6794.4', 'Mass': '6.419×10^23', 'OrbitalPeriod': '1.881'}\n",
      "{'Name': 'Jupiter', 'Diameter': '142984', 'Mass': '1.899×10^27', 'OrbitalPeriod': '11.86'}\n",
      "{'Name': 'Saturn', 'Diameter': '120536', 'Mass': '5.688×10^26', 'OrbitalPeriod': '29.46'}\n",
      "{'Name': 'Uranus', 'Diameter': '51118', 'Mass': '8.683×10^25', 'OrbitalPeriod': '84.01'}\n",
      "{'Name': 'Neptune', 'Diameter': '49572', 'Mass': '1.024×10^26', 'OrbitalPeriod': '164.79'}\n",
      "{'Name': 'Pluton', 'Diameter': '2370.0', 'Mass': '1.3×10^22', 'OrbitalPeriod': '247.7406624'}\n"
     ]
    },
    {
     "ename": "StopIteration",
     "evalue": "",
     "output_type": "error",
     "traceback": [
      "\u001b[0;31m---------------------------------------------------------------------------\u001b[0m",
      "\u001b[0;31mStopIteration\u001b[0m                             Traceback (most recent call last)",
      "\u001b[1;32m/Users/tony_builder/Documents/GitHub/studying/Python_stepic_beegeek/python for professional/generators.ipynb Ячейка 107\u001b[0m in \u001b[0;36m1\n\u001b[1;32m     <a href='vscode-notebook-cell:/Users/tony_builder/Documents/GitHub/studying/Python_stepic_beegeek/python%20for%20professional/generators.ipynb#Y226sZmlsZQ%3D%3D?line=14'>15</a>\u001b[0m \u001b[39mprint\u001b[39m(\u001b[39mnext\u001b[39m(planets))\n\u001b[1;32m     <a href='vscode-notebook-cell:/Users/tony_builder/Documents/GitHub/studying/Python_stepic_beegeek/python%20for%20professional/generators.ipynb#Y226sZmlsZQ%3D%3D?line=15'>16</a>\u001b[0m \u001b[39mprint\u001b[39m(\u001b[39mnext\u001b[39m(planets))\n\u001b[0;32m---> <a href='vscode-notebook-cell:/Users/tony_builder/Documents/GitHub/studying/Python_stepic_beegeek/python%20for%20professional/generators.ipynb#Y226sZmlsZQ%3D%3D?line=16'>17</a>\u001b[0m \u001b[39mprint\u001b[39m(\u001b[39mnext\u001b[39;49m(planets))\n",
      "\u001b[0;31mStopIteration\u001b[0m: "
     ]
    }
   ],
   "source": [
    "# еще проще\n",
    "def txt_to_dict():\n",
    "    with open('/Users/tony_builder/Documents/GitHub/studying/Python_stepic_beegeek/python for professional/data/planets.txt', encoding='utf-8') as file:\n",
    "        planets = zip(*(filter(None, (line.strip() for line in file)) for _ in range(4)))\n",
    "        yield from (dict(item.split(' = ') for item in planet) for planet in planets)\n",
    "\n",
    "planets = txt_to_dict()\n",
    "print(next(planets))\n",
    "print(next(planets))\n",
    "print(next(planets))\n",
    "print(next(planets))\n",
    "print(next(planets))\n",
    "print(next(planets))\n",
    "print(next(planets))\n",
    "print(next(planets))\n",
    "print(next(planets))\n",
    "print(next(planets))        # генератор опустошен, поэтому эта итерация вызывает исключение\n"
   ]
  },
  {
   "attachments": {},
   "cell_type": "markdown",
   "metadata": {},
   "source": [
    "Описание кода ниже:\n",
    "1) читаем файл целиком, дробим его на списки по двойному переходу на строки - так получаем блоки из четырех строк.\n",
    "По сути разделителем является пустая строка\n",
    "\n",
    "2) каждый блок (список из четырех строк) бьем по переходу на новую строку - получаем 4 списка внутри блока, каждый из которых содержит одну строку\n",
    "\n",
    "3) идем циклом по этому генератору, содержащему блоки, которые содержат списки строк:\n",
    "\n",
    "- объект итерации - один блок (планета)\n",
    "- внутри планеты - по 4 списка (имя, масса, диаметр и орбита)\n",
    "- каждый объект внутри списка бьем по знаку ' = ' - теперь из этих частей генерируется словарь - строго внутри одного блока\n",
    "\n",
    "4) в процессе итерирования объявляем результат блока - это сгенерированный словарь"
   ]
  },
  {
   "cell_type": "code",
   "execution_count": 99,
   "metadata": {},
   "outputs": [
    {
     "name": "stdout",
     "output_type": "stream",
     "text": [
      "{'Name': 'Mercury', 'Diameter': '4879.4', 'Mass': '3.302×10^23', 'OrbitalPeriod': '0.241'}\n"
     ]
    }
   ],
   "source": [
    "# еще веселее\n",
    "\n",
    "def txt_to_dict():\n",
    "    with open('/Users/tony_builder/Documents/GitHub/studying/Python_stepic_beegeek/python for professional/data/planets.txt', 'r', encoding='utf8') as f:\n",
    "        planets_raw = (i.split('\\n') for i in f.read().split('\\n\\n'))\n",
    "        for planet in planets_raw:\n",
    "            yield {k: v for k,v in (i.split(' = ') for i in planet)}\n",
    "\n",
    "planets = txt_to_dict()\n",
    "print(next(planets))"
   ]
  },
  {
   "cell_type": "code",
   "execution_count": 16,
   "metadata": {},
   "outputs": [
    {
     "name": "stdout",
     "output_type": "stream",
     "text": [
      "True\n",
      "False\n"
     ]
    }
   ],
   "source": [
    "# проверить пустая строка или нет\n",
    "print('     '.isspace())\n",
    "print('     1   '.isspace())\n"
   ]
  },
  {
   "cell_type": "code",
   "execution_count": 63,
   "metadata": {},
   "outputs": [
    {
     "data": {
      "text/plain": [
       "['Name = Mercury',\n",
       " 'Diameter = 4879.4',\n",
       " 'Mass = 3.302×10^23',\n",
       " 'OrbitalPeriod = 0.241',\n",
       " 'Name = Venus',\n",
       " 'Diameter = 12103.6',\n",
       " 'Mass = 4.869×10^24',\n",
       " 'OrbitalPeriod = 0.615',\n",
       " 'Name = Earth',\n",
       " 'Diameter = 12756.3',\n",
       " 'Mass = 5.974×10^24',\n",
       " 'OrbitalPeriod = 1',\n",
       " 'Name = Mars',\n",
       " 'Diameter = 6794.4',\n",
       " 'Mass = 6.419×10^23',\n",
       " 'OrbitalPeriod = 1.881',\n",
       " 'Name = Jupiter',\n",
       " 'Diameter = 142984',\n",
       " 'Mass = 1.899×10^27',\n",
       " 'OrbitalPeriod = 11.86',\n",
       " 'Name = Saturn',\n",
       " 'Diameter = 120536',\n",
       " 'Mass = 5.688×10^26',\n",
       " 'OrbitalPeriod = 29.46',\n",
       " 'Name = Uranus',\n",
       " 'Diameter = 51118',\n",
       " 'Mass = 8.683×10^25',\n",
       " 'OrbitalPeriod = 84.01',\n",
       " 'Name = Neptune',\n",
       " 'Diameter = 49572',\n",
       " 'Mass = 1.024×10^26',\n",
       " 'OrbitalPeriod = 164.79',\n",
       " 'Name = Pluton',\n",
       " 'Diameter = 2370.0',\n",
       " 'Mass = 1.3×10^22',\n",
       " 'OrbitalPeriod = 247.7406624']"
      ]
     },
     "execution_count": 63,
     "metadata": {},
     "output_type": "execute_result"
    }
   ],
   "source": [
    "with open('/Users/tony_builder/Documents/GitHub/studying/Python_stepic_beegeek/python for professional/data/planets.txt',\n",
    "           'r', encoding='utf-8') as file:\n",
    "    smth = [line.strip() for line in file.readlines() if not line.isspace()]\n",
    "\n",
    "smth"
   ]
  },
  {
   "cell_type": "code",
   "execution_count": 62,
   "metadata": {},
   "outputs": [
    {
     "name": "stdout",
     "output_type": "stream",
     "text": [
      "[['1', '2'], ['2', '3'], ['3', '4'], ['4', '5'], ['5', '6'], ['6', '7'], ['7', '8'], ['8', '9'], ['9', '20'], ['0', '1'], ['12', '13'], ['13', '14']]\n",
      "[{'1': '2'}, {'2': '3'}, {'3': '4'}, {'4': '5'}, {'5': '6'}, {'6': '7'}, {'7': '8'}, {'8': '9'}, {'9': '20'}, {'0': '1'}, {'12': '13'}, {'13': '14'}]\n",
      "[[{'1': '2'}, {'2': '3'}, {'3': '4'}, {'4': '5'}], [{'5': '6'}, {'6': '7'}, {'7': '8'}, {'8': '9'}], [{'9': '20'}, {'0': '1'}, {'12': '13'}, {'13': '14'}]]\n",
      "\n",
      "[{'1': '2', '2': '3', '3': '4', '4': '5'}, {'5': '6', '6': '7', '7': '8', '8': '9'}, {'9': '20', '0': '1', '12': '13', '13': '14'}]\n"
     ]
    }
   ],
   "source": [
    "a = ['1=2','2=3','3=4','4=5','5=6','6=7','7=8','8=9','9=20','0=1','12=13','13=14']\n",
    "b= [elem.split('=') for elem in a]\n",
    "\n",
    "print(b)\n",
    "\n",
    "def list_to_dict(a:list) -> dict:\n",
    "    it = iter(a)\n",
    "    return dict(zip(it, it))\n",
    "\n",
    "abc = [list_to_dict(elem) for elem in b]\n",
    "print(abc)\n",
    "abcd = iter(abc)\n",
    "\n",
    "c= [list(islice(abcd,4)) for _ in range(int(len(a)/4))]\n",
    "print(c)\n",
    "\n",
    "from functools import reduce\n",
    "print()\n",
    "res = [reduce(lambda a,b: a | b, elem) for elem in c]\n",
    "\n",
    "print(res)"
   ]
  },
  {
   "cell_type": "code",
   "execution_count": 83,
   "metadata": {},
   "outputs": [
    {
     "name": "stdout",
     "output_type": "stream",
     "text": [
      "36\n",
      "Name = Mercury\n",
      "Diameter = 4879.4\n",
      "Mass = 3.302×10^23\n",
      "OrbitalPeriod = 0.241\n",
      "Name = Venus\n",
      "Diameter = 12103.6\n",
      "Mass = 4.869×10^24\n",
      "OrbitalPeriod = 0.615\n",
      "Name = Earth\n",
      "Diameter = 12756.3\n",
      "Mass = 5.974×10^24\n",
      "OrbitalPeriod = 1\n",
      "Name = Mars\n",
      "Diameter = 6794.4\n",
      "Mass = 6.419×10^23\n",
      "OrbitalPeriod = 1.881\n",
      "Name = Jupiter\n",
      "Diameter = 142984\n",
      "Mass = 1.899×10^27\n",
      "OrbitalPeriod = 11.86\n",
      "Name = Saturn\n",
      "Diameter = 120536\n",
      "Mass = 5.688×10^26\n",
      "OrbitalPeriod = 29.46\n",
      "Name = Uranus\n",
      "Diameter = 51118\n",
      "Mass = 8.683×10^25\n",
      "OrbitalPeriod = 84.01\n",
      "Name = Neptune\n",
      "Diameter = 49572\n",
      "Mass = 1.024×10^26\n",
      "OrbitalPeriod = 164.79\n",
      "Name = Pluton\n",
      "Diameter = 2370.0\n",
      "Mass = 1.3×10^22\n",
      "OrbitalPeriod = 247.7406624\n"
     ]
    }
   ],
   "source": [
    "with open('/Users/tony_builder/Documents/GitHub/studying/Python_stepic_beegeek/python for professional/data/planets.txt',\n",
    "        'r', encoding='utf-8') as file:\n",
    "    \n",
    "    file_lines = (line.strip() for line in file.readlines() \\\n",
    "                    if not line.isspace()) \n",
    "    \n",
    "    \n",
    "    \n",
    "\n",
    "    for count, line in  enumerate(file, 1):\n",
    "        pass\n",
    "    \n",
    "    print(count)\n",
    "    \n",
    "\n",
    "    for line in file_lines:\n",
    "        print(line)"
   ]
  },
  {
   "cell_type": "code",
   "execution_count": 88,
   "metadata": {},
   "outputs": [
    {
     "data": {
      "text/plain": [
       "472"
      ]
     },
     "execution_count": 88,
     "metadata": {},
     "output_type": "execute_result"
    }
   ],
   "source": [
    "with open('/Users/tony_builder/Documents/GitHub/studying/Python_stepic_beegeek/python for professional/data/planets.txt',\n",
    "        'r', encoding='utf-8') as file:\n",
    "    a = file.readlines()\n",
    "\n",
    "from sys import getsizeof\n",
    "getsizeof(a)"
   ]
  },
  {
   "attachments": {},
   "cell_type": "markdown",
   "metadata": {},
   "source": [
    "        Функция unique()\n",
    "        Реализуйте генераторную функцию, которая принимает один аргумент:\n",
    "\n",
    "        iterable — итерируемый объект\n",
    "        Функция должна возвращать генератор, порождающий последовательность элементов итерируемого объекта iterable без дубликатов."
   ]
  },
  {
   "cell_type": "code",
   "execution_count": 126,
   "metadata": {},
   "outputs": [
    {
     "name": "stdout",
     "output_type": "stream",
     "text": [
      "1\n",
      "2\n",
      "3\n"
     ]
    }
   ],
   "source": [
    "def unique(iterable):\n",
    "    from collections import Counter\n",
    "\n",
    "    for elem in Counter(iterable):\n",
    "        yield elem\n",
    "\n",
    "iterator = iter('111222333')\n",
    "uniques = unique(iterator)\n",
    "\n",
    "print(next(uniques))\n",
    "print(next(uniques))\n",
    "print(next(uniques))"
   ]
  },
  {
   "attachments": {},
   "cell_type": "markdown",
   "metadata": {},
   "source": [
    "        Функция stop_on()\n",
    "        Реализуйте генераторную функцию, которая принимает два аргумента в следующем порядке:\n",
    "\n",
    "        iterable — итерируемый объект\n",
    "        obj — произвольный объект\n",
    "        Функция должна возвращать генератор, порождающий последовательность элементов итерируемого объекта iterable до тех пор, пока не будет достигнут элемент, равный obj. Если итерируемый объект iterable не содержит ни одного элемента, равного obj, генератор должен породить все элементы iterable.\n",
    "\n",
    "        Примечание 1. Элементы итерируемого объекта в возвращаемом функцией генераторе должны располагаться в своем исходном порядке."
   ]
  },
  {
   "cell_type": "code",
   "execution_count": 130,
   "metadata": {},
   "outputs": [
    {
     "name": "stdout",
     "output_type": "stream",
     "text": [
      "1 2 3\n",
      "b e e g e e k\n"
     ]
    }
   ],
   "source": [
    "def stop_on(iterable, obj):\n",
    "    iterator = iter(iterable)\n",
    "    for ind, elem in enumerate(iterator):\n",
    "        if elem == obj:\n",
    "            return\n",
    "        yield elem\n",
    "\n",
    "numbers = [1, 2, 3, 4, 5]\n",
    "\n",
    "print(*stop_on(numbers, 4))\n",
    "\n",
    "iterator = iter('beegeek')\n",
    "\n",
    "print(*stop_on(iterator, 'a'))"
   ]
  },
  {
   "attachments": {},
   "cell_type": "markdown",
   "metadata": {},
   "source": [
    "        Функция with_previous()\n",
    "        Реализуйте генераторную функцию, которая принимает один аргумент:\n",
    "\n",
    "        iterable — итерируемый объект\n",
    "        Функция должна возвращать генератор, порождающий последовательность кортежей, каждый из которых содержит очередной элемент итерируемого объекта iterable, а также предшествующий ему элемент:\n",
    "\n",
    "        (<очередной элемент>, <предыдущий элемент>)\n",
    "        Для первого элемента предыдущим считается значение None.\n",
    "\n",
    "        Примечание 1. Элементы итерируемого объекта в возвращаемом функцией генераторе должны располагаться в своем исходном порядке."
   ]
  },
  {
   "cell_type": "code",
   "execution_count": 160,
   "metadata": {},
   "outputs": [
    {
     "name": "stdout",
     "output_type": "stream",
     "text": [
      "(1, None) (2, 1) (3, 2) (4, 3) (5, 4)\n",
      "[]\n"
     ]
    }
   ],
   "source": [
    "def with_previous(iterable):\n",
    "    if not iterable: return []\n",
    "    iterator = iter(iterable)\n",
    "    a= next(iterator)\n",
    "    b = None \n",
    "    yield (a,b)\n",
    "    for elem in iterator:\n",
    "        \n",
    "        b= a\n",
    "        a= elem\n",
    "        yield (a,b)\n",
    "\n",
    "\n",
    "numbers = [1, 2, 3, 4, 5]\n",
    "\n",
    "print(*with_previous(numbers))\n",
    "\n",
    "print(list(with_previous('')))"
   ]
  },
  {
   "cell_type": "code",
   "execution_count": 161,
   "metadata": {},
   "outputs": [
    {
     "name": "stdout",
     "output_type": "stream",
     "text": [
      "(1, None) (2, 1) (3, 2) (4, 3) (5, 4)\n",
      "[]\n"
     ]
    }
   ],
   "source": [
    "def with_previous(iterable):\n",
    "    prev = None\n",
    "    for e in iterable:\n",
    "        yield e, prev\n",
    "        prev = e\n",
    "\n",
    "numbers = [1, 2, 3, 4, 5]\n",
    "\n",
    "print(*with_previous(numbers))\n",
    "\n",
    "print(list(with_previous('')))"
   ]
  },
  {
   "attachments": {},
   "cell_type": "markdown",
   "metadata": {},
   "source": [
    "        Функция pairwise()\n",
    "        Реализуйте генераторную функцию, которая принимает один аргумент:\n",
    "\n",
    "        iterable — итерируемый объект\n",
    "        Функция должна возвращать генератор, порождающий последовательность кортежей, каждый из которых содержит очередной элемент итерируемого объекта iterable, а также следующий за ним элемент:\n",
    "\n",
    "        (<очередной элемент>, <следующий элемент>)\n",
    "        Для последнего элемента следующим считается значение None."
   ]
  },
  {
   "cell_type": "code",
   "execution_count": 173,
   "metadata": {},
   "outputs": [
    {
     "name": "stdout",
     "output_type": "stream",
     "text": [
      "(1, 2) (2, 3) (3, 4) (4, 5) (5, None)\n",
      "('A', None)\n"
     ]
    }
   ],
   "source": [
    "def pairwise(iterable):\n",
    "    if not iterable: return []\n",
    "    iterator = iter(iterable)\n",
    "    prev = next(iterator)\n",
    "    try:\n",
    "        while True:\n",
    "            nxt = next(iterator)\n",
    "            yield prev, nxt\n",
    "            prev = nxt\n",
    "    except StopIteration:\n",
    "        yield (prev, None)\n",
    "\n",
    "numbers = [1, 2, 3, 4, 5]\n",
    "\n",
    "print(*pairwise(numbers))\n",
    "\n",
    "iterator = pairwise('A')\n",
    "\n",
    "print(next(iterator))"
   ]
  },
  {
   "attachments": {},
   "cell_type": "markdown",
   "metadata": {},
   "source": [
    "        Функция around()\n",
    "        Реализуйте генераторную функцию, которая принимает один аргумент:\n",
    "\n",
    "        iterable — итерируемый объект\n",
    "        Функция должна возвращать генератор, порождающий последовательность кортежей, каждый из которых содержит очередной элемент итерируемого объекта iterable, а также предыдущий и следующий за ним элементы:\n",
    "\n",
    "        (<предыдущий элемент>, <очередной элемент>, <следующий элемент>)\n",
    "        Для первого элемента предыдущим считается значение None, для последнего элемента следующим считается так же значение None."
   ]
  },
  {
   "cell_type": "code",
   "execution_count": 190,
   "metadata": {},
   "outputs": [
    {
     "name": "stdout",
     "output_type": "stream",
     "text": [
      "(None, 1, 2) (1, 2, 3) (2, 3, 4) (3, 4, 5) (4, 5, None)\n",
      "(None, 'h', 'e') ('h', 'e', 'y') ('e', 'y', None)\n"
     ]
    }
   ],
   "source": [
    "def around(iterable):\n",
    "\n",
    "    if not iterable: return []\n",
    "    \n",
    "    iterator = iter(iterable)\n",
    "    first, current  = None, next(iterator)\n",
    "    try:\n",
    "        while True:\n",
    "            last = next(iterator)\n",
    "            yield first, current, last\n",
    "            first = current\n",
    "            current = last\n",
    "    except StopIteration:\n",
    "        yield first, current, None\n",
    "\n",
    "numbers = [1, 2, 3, 4, 5]\n",
    "\n",
    "print(*around(numbers))\n",
    "\n",
    "iterator = iter('hey')\n",
    "\n",
    "print(*around(iterator))"
   ]
  },
  {
   "cell_type": "code",
   "execution_count": null,
   "metadata": {},
   "outputs": [],
   "source": []
  }
 ],
 "metadata": {
  "kernelspec": {
   "display_name": "Python 3",
   "language": "python",
   "name": "python3"
  },
  "language_info": {
   "codemirror_mode": {
    "name": "ipython",
    "version": 3
   },
   "file_extension": ".py",
   "mimetype": "text/x-python",
   "name": "python",
   "nbconvert_exporter": "python",
   "pygments_lexer": "ipython3",
   "version": "3.10.7"
  },
  "orig_nbformat": 4
 },
 "nbformat": 4,
 "nbformat_minor": 2
}
