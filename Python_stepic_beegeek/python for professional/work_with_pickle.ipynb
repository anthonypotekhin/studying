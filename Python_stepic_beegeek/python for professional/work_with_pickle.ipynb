{
 "cells": [
  {
   "attachments": {},
   "cell_type": "markdown",
   "metadata": {},
   "source": [
    "### Модуль Pickle "
   ]
  },
  {
   "attachments": {},
   "cell_type": "markdown",
   "metadata": {},
   "source": [
    "Сериализация и десериализация\n",
    "При изучении формата данных (и одноименного модуля в Python) json мы говорили о сериализации объектов.\n",
    "\n",
    "Преобразование переменных программы (Python-объектов) в формат для хранения называется «сериализацией», а обратное преобразование — «десериализацией».\n",
    "\n",
    "Сериализация объектов часто используется для:\n",
    "\n",
    "- сохранения состояния программы (то есть некоторых её объектов) между запусками\n",
    "- передачи данных между различными программами (например, по сети)\n",
    "\n",
    "Главная идея состоит в том, что сериализованный формат — набор байт или строка, которую можно легко сохранить на диск или передать другой программе, в отличие от самого объекта. А значит, задача сохранения объекта/группы объектов при этом сводится к простой задаче сохранения набора байт или строки."
   ]
  },
  {
   "attachments": {},
   "cell_type": "markdown",
   "metadata": {},
   "source": [
    "Помимо сериализации в формат json мы также можем использовать **БИНАРНУЮ СЕРИАЛИЗАЦИЮ**, то есть сериализацию в байты. Для этого в Python используется модуль **PICKLE**. Интерфейс взаимодействия с модулем pickle абсолютно такой же, как и для модуля json. Мы будем использовать четыре основных функции:\n",
    "\n",
    "    dump()\n",
    "    load()\n",
    "    dumps()\n",
    "    loads()"
   ]
  },
  {
   "attachments": {},
   "cell_type": "markdown",
   "metadata": {},
   "source": [
    "Функция dump() "
   ]
  },
  {
   "cell_type": "code",
   "execution_count": 3,
   "metadata": {},
   "outputs": [],
   "source": [
    "# создает файл file.pkl, содержащий бинарное представление объекта obj на основе протокола pickle\n",
    "import pickle\n",
    "\n",
    "obj = {'Python': 1991, 'Java': 1995, 'C#': 2002}\n",
    "\n",
    "with open('file.pkl', 'wb') as file:\n",
    "    pickle.dump(obj, file)"
   ]
  },
  {
   "attachments": {},
   "cell_type": "markdown",
   "metadata": {},
   "source": [
    "Функция load() принимает файловый объект, читает из него сериализованные данные, десериализует их в Python-объект и возвращает полученный Python-объект."
   ]
  },
  {
   "cell_type": "code",
   "execution_count": 4,
   "metadata": {},
   "outputs": [
    {
     "name": "stdout",
     "output_type": "stream",
     "text": [
      "{'Python': 1991, 'Java': 1995, 'C#': 2002}\n",
      "<class 'dict'>\n"
     ]
    }
   ],
   "source": [
    "import pickle\n",
    "\n",
    "with open('file.pkl', 'rb') as file:     # используется файл полученный на предыдущем шаге\n",
    "    obj = pickle.load(file)\n",
    "    print(obj)\n",
    "    print(type(obj))"
   ]
  },
  {
   "attachments": {},
   "cell_type": "markdown",
   "metadata": {},
   "source": [
    "dumps and loads аналогично \n",
    "\n",
    "- выполняет такую же сериализацию, как и функция dump(). Но вместо того чтобы сохранять сериализованные данные в открытый для записи бинарный файл, она просто возвращает эти сериализованные данные.\n",
    "\n",
    "- выполняет такую же десериализацию, как и функция load(). Но вместо того чтобы принимать файловый объект, она принимает объект типа bytes, содержащий сериализованные данные.\n",
    "\n"
   ]
  },
  {
   "cell_type": "code",
   "execution_count": 5,
   "metadata": {},
   "outputs": [
    {
     "name": "stdout",
     "output_type": "stream",
     "text": [
      "b'\\x80\\x04\\x95#\\x00\\x00\\x00\\x00\\x00\\x00\\x00}\\x94(\\x8c\\x06Python\\x94M\\xc7\\x07\\x8c\\x04Java\\x94M\\xcb\\x07\\x8c\\x02C#\\x94M\\xd2\\x07u.'\n",
      "<class 'bytes'>\n"
     ]
    }
   ],
   "source": [
    "import pickle\n",
    "\n",
    "obj = {'Python': 1991, 'Java': 1995, 'C#': 2002}\n",
    "binary_obj = pickle.dumps(obj)\n",
    "\n",
    "print(binary_obj)\n",
    "print(type(binary_obj))"
   ]
  },
  {
   "attachments": {},
   "cell_type": "markdown",
   "metadata": {},
   "source": [
    "Поскольку протокол pickle использует бинарный формат данных, функция dumps() возвращает объект типа bytes"
   ]
  },
  {
   "cell_type": "code",
   "execution_count": 6,
   "metadata": {},
   "outputs": [
    {
     "name": "stdout",
     "output_type": "stream",
     "text": [
      "{'Python': 1991, 'Java': 1995, 'C#': 2002}\n"
     ]
    }
   ],
   "source": [
    "import pickle\n",
    "\n",
    "obj = {'Python': 1991, 'Java': 1995, 'C#': 2002}\n",
    "binary_obj = pickle.dumps(obj)\n",
    "\n",
    "new_obj = pickle.loads(binary_obj)\n",
    "\n",
    "print(new_obj)"
   ]
  },
  {
   "attachments": {},
   "cell_type": "markdown",
   "metadata": {},
   "source": [
    "Примечание 2. Модуль pickle может сериализовывать:\n",
    "\n",
    "        все встроенные типы данных (bool, int, float, complex, str, None)\n",
    "        cписки, кортежи, словари и множества, содержащие любую комбинацию встроенных типов данных\n",
    "        cписки, кортежи, словари и множества, содержащие любую комбинацию списков, кортежей, словарей и множеств\n",
    "        функции, классы и экземпляры классов\n",
    "\n",
    "Примечание 3. Модуль pickle может сериализовывать обычные функции (объявленные с помощью  def), но не может сериализовывать лямбда-функции (объявленные с помощью lambda).\n",
    "\n",
    "Примечание 5. Модуль pickle не может сериализовывать генераторы, о которых мы будем говорить позже в рамках курса.\n",
    "\n",
    "Примечание 6. Модули pickle и json делают практически одно и то же, по сути это одна и та же технология, только по-разному реализованная.\n",
    "\n",
    "Примечание 7. Протокол pickle зависит от Python и не совместим с другими языками программирования. Если необходима совместимость с другими языками программирования, то следует использовать JSON сериализацию.\n",
    "\n",
    "Примечание 8. Протокол pickle – это бинарный формат данных. Убедитесь, что открываете файлы pickle в бинарном режиме, иначе данные при записи будут повреждены. Формат данных JSON – текстовый, а не двоичный.\n",
    "\n",
    "**ПРИМЕЧАНИЕ 10. МОДУЛЬ PICKLE НЕ ЗАЩИЩЕН. НИКОГДА НЕ ДЕСЕРИАЛИЗУЙТЕ ДАННЫЕ, ПОЛУЧЕННЫЕ ИЗ НЕНАДЕЖНОГО ИСТОЧНИКА, ТАК КАК ОНИ МОГУТ ОКАЗАТЬСЯ ВРЕДОНОСНЫМИ И ВЫПОЛНЯЮЩИМИ ПРОИЗВОЛЬНЫЙ КОД ВО ВРЕМЯ РАСПАКОВКИ.**\n",
    "\n",
    "Примечание 11. Модуль pickle сериализует и десериализует данные быстрее чем модуль json."
   ]
  },
  {
   "cell_type": "code",
   "execution_count": 7,
   "metadata": {},
   "outputs": [
    {
     "name": "stdout",
     "output_type": "stream",
     "text": [
      "<class 'bytes'>\n"
     ]
    }
   ],
   "source": [
    "data = b'there is nothing here'\n",
    "\n",
    "print(type(data))"
   ]
  },
  {
   "cell_type": "code",
   "execution_count": 8,
   "metadata": {},
   "outputs": [],
   "source": [
    "# запись словаря в файл формата pickle \n",
    "\n",
    "import pickle\n",
    "\n",
    "dogs = {'Ozzy': 2, 'Filou': 7, 'Luna': 4, 'Skippy': 11, 'Barco': 13, 'Balou': 10, 'Laika': 15}\n",
    "\n",
    "with open('dogs.pkl', mode='wb') as file:\n",
    "    pickle.dump(dogs, file)"
   ]
  },
  {
   "attachments": {},
   "cell_type": "markdown",
   "metadata": {},
   "source": [
    "### Задачи на pickle "
   ]
  },
  {
   "attachments": {},
   "cell_type": "markdown",
   "metadata": {},
   "source": [
    "        Одинокая функция\n",
    "        Дан pickle файл, содержащий единственную сериализованную функцию. Напишите программу, которая вызывает данную функцию с заданными аргументами и выводит возвращаемое значение функции."
   ]
  },
  {
   "cell_type": "code",
   "execution_count": null,
   "metadata": {},
   "outputs": [],
   "source": [
    "import pickle, sys\n",
    "\n",
    "input_strings = [line.strip() for line in sys.stdin]\n",
    "pickle_file = input_strings[0]\n",
    "args = input_strings[1:]\n",
    "\n",
    "with open(pickle_file, mode='rb') as file:\n",
    "    some_func = pickle.load(file)\n",
    "\n",
    "print(some_func(*args))"
   ]
  },
  {
   "attachments": {},
   "cell_type": "markdown",
   "metadata": {},
   "source": [
    "        Ты не пройдешь\n",
    "        Реализуйте функцию filter_dump(), которая принимает три аргумента в следующем порядке:\n",
    "\n",
    "        filename — название pickle файла, например, data.pkl\n",
    "        objects — список произвольных объектов\n",
    "        typename — тип данных\n",
    "        Функция должна создавать pickle файл с названием filename, который содержит сериализованный список только тех объектов из списка objects, тип которых равен typename.\n",
    "\n",
    "        Примечание 1. Например, вызов функции filter_dump() следующим образом:\n",
    "\n",
    "        filter_dump('numbers.pkl', [1, '2', 3, 4, '5'], int)\n",
    "        должен создавать файл numbers.pkl, содержащий сериализованный список [1, 3, 4]"
   ]
  },
  {
   "cell_type": "code",
   "execution_count": null,
   "metadata": {},
   "outputs": [],
   "source": [
    "def filter_dump(filename, objects, typename):\n",
    "    import pickle\n",
    "    with open(filename, mode= 'wb') as file:\n",
    "        pickle.dump([obj for obj in objects if type(obj) == typename], file)"
   ]
  },
  {
   "attachments": {},
   "cell_type": "markdown",
   "metadata": {},
   "source": [
    "        Контрольная сумма\n",
    "        По каналу связи передаются pickle файл, содержащий сериализованный словарь или список, и целое число — контрольная сумма, которая вычисляется по следующему правилу:\n",
    "\n",
    "        для словаря — сумма всех целочисленных ключей (тип int)\n",
    "        для списка — произведение минимального и максимального целочисленных элементов (тип int)\n",
    "        Напишите программу, которая вычисляет контрольную сумму для объекта, содержащегося в pickle файле, и сравнивает ее с данным целым числом.\n",
    "\n",
    "        Формат входных данных\n",
    "        На вход программе в первой строке подается название pickle файла, в котором содержится сериализованный словарь или список, в следующей — целое число.\n",
    "\n",
    "        Формат выходных данных\n",
    "        Программа должна вычислить контрольную сумму для объекта, который содержится в данном pickle файле, и\n",
    "\n",
    "        если она совпадает с введенным числом, вывести текст:\n",
    "        Контрольные суммы совпадают\n",
    "        если она не совпадает с введенным числом, вывести текст:\n",
    "        Контрольные суммы не совпадают\n",
    "        Примечание 1. Если список (словарь) не содержит целочисленных элементов (ключей), то считайте, что контрольная сумма равна \n",
    "        0\n",
    "        0.\n",
    "\n",
    "Примечание 2. Рассмотрим первый тест. Подается название файла — data.pkl, в котором содержится сериализованный список:\n",
    "\n",
    "['a', 'b', 3, 4, 'f', 'g', 7, 8]\n",
    "затем число — 3023. Контрольная сумма для данного списка равна 3⋅8=24. Так как \n",
    "3023≠24\n",
    "программа выводит:\n",
    "\n",
    "Контрольные суммы не совпадают"
   ]
  },
  {
   "cell_type": "code",
   "execution_count": null,
   "metadata": {},
   "outputs": [],
   "source": [
    "import pickle\n",
    "\n",
    "pickle_file = input()\n",
    "checksum = int(input())\n",
    "\n",
    "with open(pickle_file, mode='rb') as file:\n",
    "    some_elem = pickle.load(file)\n",
    "\n",
    "if type(some_elem) == list:\n",
    "    some_list = [el for el in some_elem if type(el) == int]\n",
    "    if some_list!=[]:sum_for_check = min(some_list) * max(some_list)\n",
    "    else: sum_for_check =0\n",
    "\n",
    "else: \n",
    "    some_dic_keys = [el for el in some_elem.keys() if type(el) == int]\n",
    "    if some_dic_keys !=[]:  sum_for_check = sum(some_dic_keys)\n",
    "    else: sum_for_check =0\n",
    "\n",
    "print(('Контрольные суммы совпадают', 'Контрольные суммы не совпадают')[sum_for_check != checksum])\n"
   ]
  },
  {
   "cell_type": "markdown",
   "metadata": {},
   "source": []
  }
 ],
 "metadata": {
  "kernelspec": {
   "display_name": "Python 3",
   "language": "python",
   "name": "python3"
  },
  "language_info": {
   "codemirror_mode": {
    "name": "ipython",
    "version": 3
   },
   "file_extension": ".py",
   "mimetype": "text/x-python",
   "name": "python",
   "nbconvert_exporter": "python",
   "pygments_lexer": "ipython3",
   "version": "3.10.7"
  },
  "orig_nbformat": 4
 },
 "nbformat": 4,
 "nbformat_minor": 2
}
