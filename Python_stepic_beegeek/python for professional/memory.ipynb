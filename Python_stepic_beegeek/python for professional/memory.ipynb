{
 "cells": [
  {
   "attachments": {},
   "cell_type": "markdown",
   "metadata": {},
   "source": [
    "### Интернирование \n",
    "\n",
    "https://stepik.org/lesson/624529/step/11?unit=620219"
   ]
  },
  {
   "attachments": {},
   "cell_type": "markdown",
   "metadata": {},
   "source": [
    "    Интернирование – это процесс хранения в памяти только одной копии объекта. Это означает, что, когда мы создаем две строки (два целых числа) с одинаковыми значениями, то вместо выделения памяти для них обоих, только одна строка (целое число) фактически фиксируется в памяти. Другая же просто указывает на то же самое место в памяти. Для реализации данной оптимизации Python использует специальную таблицу, которая называется пул интернирования. Эта таблица содержит одну уникальную ссылку на каждый объект строкового типа, либо целого числа"
   ]
  },
  {
   "attachments": {},
   "cell_type": "markdown",
   "metadata": {},
   "source": [
    "        Основные преимущества интернирования:\n",
    "\n",
    "        экономия памяти: мы не храним копии одинаковых объектов\n",
    "        быстрые сравнения: сравнение интернированных строк происходит намного быстрее, чем неинтернированных строк. Это происходит потому, что для сравнения интернированных строк нужно только сравнить, совпадают ли их адреса в памяти, а не сравнивать их содержимое"
   ]
  },
  {
   "attachments": {},
   "cell_type": "markdown",
   "metadata": {},
   "source": [
    "Целые числа\n",
    "\n",
    "Поскольку небольшие целые числа встречаются достаточно часто в нашем коде, Python интернирует их в диапазоне от \n",
    "\n",
    "−5 до 256."
   ]
  },
  {
   "cell_type": "code",
   "execution_count": 1,
   "metadata": {},
   "outputs": [
    {
     "name": "stdout",
     "output_type": "stream",
     "text": [
      "True True\n",
      "False True\n"
     ]
    }
   ],
   "source": [
    "num1 = 100\n",
    "num2 = 100\n",
    "\n",
    "num3 = 1000\n",
    "num4 = 1000\n",
    "\n",
    "print(num1 is num2, num1 == num2)\n",
    "print(num3 is num4, num3 == num4)"
   ]
  },
  {
   "cell_type": "code",
   "execution_count": 2,
   "metadata": {},
   "outputs": [
    {
     "name": "stdout",
     "output_type": "stream",
     "text": [
      "4441853264\n",
      "4441853264\n",
      "4441853264\n",
      "4441853264\n"
     ]
    }
   ],
   "source": [
    "# независимо от того, каким образом мы создаем целочисленный объект, если он находится в диапазоне выше \n",
    "# он будет интернирован.\n",
    "\n",
    "num1 = 100 \n",
    "num2 = int(100)\n",
    "num3 = int('100')\n",
    "num4 = 1 + 2 + 97\n",
    "\n",
    "print(id(num1))\n",
    "print(id(num2))\n",
    "print(id(num3))\n",
    "print(id(num4))"
   ]
  },
  {
   "attachments": {},
   "cell_type": "markdown",
   "metadata": {},
   "source": [
    "Интернирование строк\n",
    "В Python 3.7 интернируются строки, содержащие не более \n",
    "20 символов и состоящие только:\n",
    "- из ASCII-букв,\n",
    "- цифр \n",
    "- и знаков подчёркивания. \n",
    "\n",
    "Данный набор символов был выбран потому, что он часто используются в нашем коде\n",
    "\n",
    "а в версии от 3.8 - 4096 символов, но все равно только букв"
   ]
  },
  {
   "cell_type": "code",
   "execution_count": 3,
   "metadata": {},
   "outputs": [
    {
     "name": "stdout",
     "output_type": "stream",
     "text": [
      "4497508144\n",
      "4497508144\n",
      "4497508144\n"
     ]
    }
   ],
   "source": [
    "s1 = 'beegeek'\n",
    "s2 = 'beegeek'\n",
    "s3 = 'bee' + 'geek'\n",
    "\n",
    "print(id(s1))\n",
    "print(id(s2))\n",
    "print(id(s3))"
   ]
  },
  {
   "cell_type": "code",
   "execution_count": 4,
   "metadata": {},
   "outputs": [
    {
     "name": "stdout",
     "output_type": "stream",
     "text": [
      "4497508208\n",
      "4497510000\n"
     ]
    }
   ],
   "source": [
    "s1 = 'beegeek!'\n",
    "s2 = 'beegeek!'\n",
    "\n",
    "print(id(s1))\n",
    "print(id(s2))"
   ]
  },
  {
   "cell_type": "code",
   "execution_count": 5,
   "metadata": {},
   "outputs": [
    {
     "name": "stdout",
     "output_type": "stream",
     "text": [
      "True\n",
      "False\n"
     ]
    }
   ],
   "source": [
    "s1 = 'b' * 4096\n",
    "s2 = 'b' * 4096\n",
    "\n",
    "s3 = 'b' * 5000\n",
    "s4 = 'b' * 5000\n",
    "\n",
    "print(s1 is s2)\n",
    "print(s3 is s4)"
   ]
  },
  {
   "attachments": {},
   "cell_type": "markdown",
   "metadata": {},
   "source": [
    "        Функция sys.intern()\n",
    "        Как мы уже знаем, Python интернирует лишь строки, содержащие не более \n",
    "        4096\n",
    "        4096 символов и состоящие только из ASCII-букв, цифр и знаков подчёркивания. Однако функция intern() из модуля sys позволяет интернировать любую строку, например, содержащую \n",
    "        5000\n",
    "        5000 символов или состоящую из букв русского алфавита. Данная функция принимает в качестве аргумента строку, добавляет ее в пул интернирования (если ее там нет) и возвращает интернированную строку."
   ]
  },
  {
   "cell_type": "code",
   "execution_count": 6,
   "metadata": {},
   "outputs": [
    {
     "name": "stdout",
     "output_type": "stream",
     "text": [
      "False\n"
     ]
    }
   ],
   "source": [
    "s1 = 'степик!'\n",
    "s2 = 'степик!'\n",
    "\n",
    "print(s1 is s2)"
   ]
  },
  {
   "cell_type": "code",
   "execution_count": 7,
   "metadata": {},
   "outputs": [
    {
     "name": "stdout",
     "output_type": "stream",
     "text": [
      "True\n"
     ]
    }
   ],
   "source": [
    "import sys\n",
    "\n",
    "s1 = sys.intern('степик!')\n",
    "s2 = sys.intern('степик!')\n",
    "\n",
    "print(s1 is s2)"
   ]
  },
  {
   "attachments": {},
   "cell_type": "markdown",
   "metadata": {},
   "source": [
    "### Присваивание"
   ]
  },
  {
   "attachments": {},
   "cell_type": "markdown",
   "metadata": {},
   "source": [
    "Оператор присваивания в Python не создает копию объекта, он лишь связывает имя переменной с объектом."
   ]
  },
  {
   "cell_type": "code",
   "execution_count": 8,
   "metadata": {},
   "outputs": [
    {
     "name": "stdout",
     "output_type": "stream",
     "text": [
      "[1, 2, 3, 4]\n",
      "[1, 2, 3, 4]\n"
     ]
    }
   ],
   "source": [
    "nums1 = [1, 2, 3]\n",
    "nums2 = nums1\n",
    "\n",
    "nums1.append(4)\n",
    "\n",
    "print(nums1)\n",
    "print(nums2)"
   ]
  },
  {
   "cell_type": "code",
   "execution_count": 9,
   "metadata": {},
   "outputs": [
    {
     "name": "stdout",
     "output_type": "stream",
     "text": [
      "[1, 2, 3]\n",
      "4496733248\n",
      "[1, 2, 3, 4]\n",
      "4496734720\n"
     ]
    }
   ],
   "source": [
    "nums = [1, 2, 3]\n",
    "\n",
    "print(nums)\n",
    "print(id(nums))\n",
    "\n",
    "nums = [1, 2, 3] + [4]\n",
    "\n",
    "print(nums)\n",
    "print(id(nums))"
   ]
  },
  {
   "attachments": {},
   "cell_type": "markdown",
   "metadata": {},
   "source": [
    "Кортежи (тип tuple) являются неизменяемыми, однако если элементами кортежа являются изменяемые объекты, то мы можем изменить эти объекты.\n",
    "\n",
    "        При этом важно понимать: меняются объекты, являющиеся элементами кортежа, а не кортеж. Кортеж лишь содержит ссылки на эти объекты, которые остаются прежними при изменении самих объектов."
   ]
  },
  {
   "cell_type": "code",
   "execution_count": 10,
   "metadata": {},
   "outputs": [
    {
     "name": "stdout",
     "output_type": "stream",
     "text": [
      "(1, 'bee', [1, 2, 3], {'a': 1})\n",
      "(1, 'bee', [1, 2, 30], {'a': 1, 'b': 2})\n"
     ]
    }
   ],
   "source": [
    "data = (1, 'bee', [1, 2, 3], {'a': 1})\n",
    "\n",
    "print(data)\n",
    "\n",
    "data[2][2] = 30\n",
    "data[3]['b'] = 2\n",
    "\n",
    "print(data)"
   ]
  },
  {
   "attachments": {},
   "cell_type": "markdown",
   "metadata": {},
   "source": [
    "        Примечание 2. Python по разному обрабатывает сложение списков с помощью операторов + и +=.\n",
    "\n"
   ]
  },
  {
   "cell_type": "code",
   "execution_count": 11,
   "metadata": {},
   "outputs": [
    {
     "name": "stdout",
     "output_type": "stream",
     "text": [
      "[1, 2, 3, 4, 5]\n",
      "[1, 2, 3]\n"
     ]
    }
   ],
   "source": [
    "# здесь создается новый список, который присваивается переменной 1 \n",
    "nums1 = [1, 2, 3]\n",
    "nums2 = nums1\n",
    "\n",
    "nums1 = nums1 + [4, 5]\n",
    "\n",
    "print(nums1)\n",
    "print(nums2)"
   ]
  },
  {
   "cell_type": "code",
   "execution_count": 13,
   "metadata": {},
   "outputs": [
    {
     "name": "stdout",
     "output_type": "stream",
     "text": [
      "[1, 2, 3, 4, 5]\n",
      "[1, 2, 3, 4, 5]\n"
     ]
    }
   ],
   "source": [
    "# а здесь список 1 изменяется\n",
    "nums1 = [1, 2, 3]\n",
    "nums2 = nums1\n",
    "\n",
    "nums1 += [4, 5]\n",
    "\n",
    "print(nums1)\n",
    "print(nums2)"
   ]
  },
  {
   "attachments": {},
   "cell_type": "markdown",
   "metadata": {},
   "source": [
    "    Примечание 3. Считается плохой практикой использование изменяемых типов данных в качестве значений параметров по умолчанию, так как значение по умолчанию для параметра создается единожды при определении функции (обычно при загрузке модуля) и становится атрибутом (свойством) функции. Поэтому если значением по умолчанию является изменяемый объект, то его изменение повлияет на каждый следующий вызов функции."
   ]
  },
  {
   "attachments": {},
   "cell_type": "markdown",
   "metadata": {},
   "source": [
    "### Поверхностное и глубокое копирование объектов"
   ]
  },
  {
   "attachments": {},
   "cell_type": "markdown",
   "metadata": {},
   "source": [
    "Модуль copy содержит две функции:\n",
    "\n",
    "    copy(): копирует объект и возвращает его поверхностную копию\n",
    "    deepcopy(): копирует объект и возвращает его глубокую копию"
   ]
  },
  {
   "attachments": {},
   "cell_type": "markdown",
   "metadata": {},
   "source": [
    "Поверхностное копирование создает отдельный новый объект, но вместо **КОПИРОВАНИЯ ДОЧЕРНИХ ЭЛЕМЕНТОВ В НОВЫЙ ОБЪЕКТ, ОНО ПРОСТО КОПИРУЕТ ССЫЛКИ НА ИХ АДРЕСА ПАМЯТИ.**"
   ]
  },
  {
   "cell_type": "code",
   "execution_count": 14,
   "metadata": {},
   "outputs": [
    {
     "name": "stdout",
     "output_type": "stream",
     "text": [
      "4497520448 [1, 2, 3, 4]\n",
      "4497422848 [1, 2, 3]\n"
     ]
    }
   ],
   "source": [
    "\n",
    "data1 = [1, 2, 3]\n",
    "data2 = data1.copy()\n",
    "data1.append(4)\n",
    "\n",
    "print(id(data1), data1)\n",
    "print(id(data2), data2)"
   ]
  },
  {
   "attachments": {},
   "cell_type": "markdown",
   "metadata": {},
   "source": [
    "В  примере выше элементами списка являются целые числа (неизменяемый тип int), поэтому изменение одного списка не отражается на другом. \n",
    "\n",
    "Если бы элементами списка были бы изменяемые типы, то поверхностное копирование скопировало бы лишь ссылки на их адреса памяти. Следовательно, любое **ИЗМЕНЕНИЕ ЭЛЕМЕНТОВ ОДНОГО ОБЪЕКТА ОТРАЗИЛОСЬ БЫ ТАКЖЕ И НА ЭЛЕМЕНТАХ ДРУГОГО ОБЪЕКТА**"
   ]
  },
  {
   "cell_type": "code",
   "execution_count": 15,
   "metadata": {},
   "outputs": [
    {
     "name": "stdout",
     "output_type": "stream",
     "text": [
      "4496374720 [[1, 2, 3, 7], [4, 5, 6, 8]]\n",
      "4497518720 [[1, 2, 3, 7], [4, 5, 6, 8]]\n"
     ]
    }
   ],
   "source": [
    "data1 = [[1, 2, 3], [4, 5, 6]]\n",
    "data2 = data1.copy()\n",
    "\n",
    "data1[0].append(7)\n",
    "data2[1].append(8)\n",
    "\n",
    "print(id(data1), data1)\n",
    "print(id(data2), data2)"
   ]
  },
  {
   "attachments": {},
   "cell_type": "markdown",
   "metadata": {},
   "source": [
    "ГЛУБОКОЕ КОПИРОВАНИЕ создает новую и отдельную копию всего объекта со своим уникальным адресом памяти. \n",
    "\n",
    "Это означает, что **ЛЮБЫЕ ИЗМЕНЕНИЯ, ВНЕСЕННЫЕ ВАМИ В НОВУЮ КОПИЮ ОБЪЕКТА, НЕ БУДУТ ОТРАЖАТЬСЯ В ИСХОДНОЙ, И НАОБОРОТ.**"
   ]
  },
  {
   "cell_type": "code",
   "execution_count": 16,
   "metadata": {},
   "outputs": [
    {
     "name": "stdout",
     "output_type": "stream",
     "text": [
      "4497420992 [[1, 2, 3, 7], [4, 5, 6]]\n",
      "4496734144 [[1, 2, 3], [4, 5, 6, 8]]\n"
     ]
    }
   ],
   "source": [
    "from copy import deepcopy\n",
    "data1 = [[1, 2, 3], [4, 5, 6]]\n",
    "data2 = deepcopy(data1)\n",
    "\n",
    "data1[0].append(7)\n",
    "data2[1].append(8)\n",
    "\n",
    "print(id(data1), data1)\n",
    "print(id(data2), data2)"
   ]
  },
  {
   "attachments": {},
   "cell_type": "markdown",
   "metadata": {},
   "source": [
    "Встроенные функции, используемые при создании коллекций (list, set, dict, ...), также могут быть использованы для создания поверхностной копии объектов."
   ]
  },
  {
   "cell_type": "code",
   "execution_count": 17,
   "metadata": {},
   "outputs": [
    {
     "name": "stdout",
     "output_type": "stream",
     "text": [
      "False True\n",
      "False True\n",
      "False True\n"
     ]
    }
   ],
   "source": [
    "data1 = [1, 2, 3, 4]\n",
    "data2 = {'a': 1, 'b': 2}\n",
    "data3 = {1, 2, 3, 4}\n",
    "\n",
    "new_data1 = list(data1)\n",
    "new_data2 = dict(data2)\n",
    "new_data3 = set(data3)\n",
    "\n",
    "print(data1 is new_data1, data1 == new_data1)\n",
    "print(data2 is new_data2, data2 == new_data2)\n",
    "print(data3 is new_data3, data3 == new_data3)"
   ]
  },
  {
   "cell_type": "code",
   "execution_count": 19,
   "metadata": {},
   "outputs": [
    {
     "name": "stdout",
     "output_type": "stream",
     "text": [
      "False True\n"
     ]
    }
   ],
   "source": [
    "# срез тоже создает ПОВЕРХНОСТНУЮ копию\n",
    "data = [1, 2, 3, 4]\n",
    "\n",
    "new_data = data[:]\n",
    "\n",
    "print(data is new_data, data == new_data)"
   ]
  },
  {
   "attachments": {},
   "cell_type": "markdown",
   "metadata": {},
   "source": [
    "Посмотреть размер всотроенныйх объектов (список, строка, число и пр) в байтах\n",
    "\n",
    "Примечание: Обратите внимание на то, что с помощью функции getsizeof() нельзя вычислять размер сложных объектов, содержащих вложенные структуры (списки списков и т.д.). Для того чтобы правильно определять размер абсолютно любого объекта (включая пользовательские) в Python используется функция asizeof() модуля asizeof, который находится в библиотеке pympler."
   ]
  },
  {
   "cell_type": "code",
   "execution_count": 20,
   "metadata": {},
   "outputs": [
    {
     "name": "stdout",
     "output_type": "stream",
     "text": [
      "28\n",
      "28\n",
      "16\n",
      "49\n",
      "56\n"
     ]
    }
   ],
   "source": [
    "import sys\n",
    "\n",
    "print(sys.getsizeof(10))\n",
    "print(sys.getsizeof(True))\n",
    "print(sys.getsizeof(None))\n",
    "print(sys.getsizeof(''))\n",
    "print(sys.getsizeof('beegeek'))"
   ]
  },
  {
   "attachments": {},
   "cell_type": "markdown",
   "metadata": {},
   "source": [
    "### Очистка памяти\n",
    "\n",
    "https://stepik.org/lesson/624149/step/1?unit=619837"
   ]
  },
  {
   "cell_type": "code",
   "execution_count": null,
   "metadata": {},
   "outputs": [],
   "source": []
  }
 ],
 "metadata": {
  "kernelspec": {
   "display_name": "Python 3",
   "language": "python",
   "name": "python3"
  },
  "language_info": {
   "codemirror_mode": {
    "name": "ipython",
    "version": 3
   },
   "file_extension": ".py",
   "mimetype": "text/x-python",
   "name": "python",
   "nbconvert_exporter": "python",
   "pygments_lexer": "ipython3",
   "version": "3.10.7"
  },
  "orig_nbformat": 4
 },
 "nbformat": 4,
 "nbformat_minor": 2
}
