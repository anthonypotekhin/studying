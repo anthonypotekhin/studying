{
 "cells": [
  {
   "attachments": {},
   "cell_type": "markdown",
   "metadata": {},
   "source": [
    "Работа с исключениями\n",
    "\n",
    "таблица исключений  https://stepik.org/lesson/640051/step/1?unit=636571"
   ]
  },
  {
   "attachments": {},
   "cell_type": "markdown",
   "metadata": {},
   "source": [
    "        Обработка нескольких исключений\n",
    "\n",
    "Более утонченная обработка ошибок (исключительных ситуаций) подразумевает более индивидуальный подход. Речь идет о том, чтобы обработка ошибок базировалась на типе или характере ошибки. Разумеется, это возможно. Причем описанная выше схема обработки исключений претерпевает минимальные изменения. В конструкции try-except после блока try указывается несколько ехсерt блоков, причем для каждого блока явно указывается тип ошибки (исключения), который обрабатывается в этом блоке. Ключевое слово, определяющее тип ошибки, указывается после ключевого слова except соответствующего блока"
   ]
  },
  {
   "cell_type": "code",
   "execution_count": null,
   "metadata": {},
   "outputs": [],
   "source": [
    "try:\n",
    "    num1 = int(input())\n",
    "    num2 = int(input())\n",
    "    print('Частное чисел равно', num1 / num2)\n",
    "except ValueError:\n",
    "    print('Нужно было ввести числа!')\n",
    "except ZeroDivisionError:\n",
    "    print('На ноль делить нельзя!')\n",
    "\n",
    "print('Работа программы завершена!')"
   ]
  },
  {
   "attachments": {},
   "cell_type": "markdown",
   "metadata": {},
   "source": [
    ". Иногда приходится для нескольких типов ошибок создавать один ехсерt блок. В этом случае после ключевого слова except в круглых скобках через запятую перечисляются те типы ошибок, для которых выполняется обработка в данном блоке."
   ]
  },
  {
   "cell_type": "code",
   "execution_count": null,
   "metadata": {},
   "outputs": [],
   "source": [
    "try:\n",
    "    num1 = int(input())\n",
    "    num2 = int(input())\n",
    "    print('Частное чисел равно', num1 / num2)\n",
    "except (ValueError, IndexError, KeyError):\n",
    "    print('Тут обрабатываются сразу три типа ошибок!')\n",
    "except ZeroDivisionError:\n",
    "    print('На ноль делить нельзя!')\n",
    "except:\n",
    "    print('Если не сработал ни один из предыдущих блоков except.')\n",
    "\n",
    "print('Работа программы завершена!')"
   ]
  },
  {
   "attachments": {},
   "cell_type": "markdown",
   "metadata": {},
   "source": [
    "        Основные типы исключений\n",
    "\n",
    "Что касается типов исключений, наибольший интерес с практической точки зрения представляют следующие:\n",
    "\n",
    "IndexError: возникает, когда индекс (например, для элемента списка) указан неправильно (выходит за границы допустимого диапазона)\n",
    "\n",
    "        KeyError: возникает при неверно указанном ключе словаря\n",
    "        NameError: возникает, если не удается найти переменную с некоторым названием\n",
    "        SyntaxError: возникает при наличии в исходном коде синтаксических ошибок\n",
    "        TypeError: возникает при несоответствии типов, когда для обработки требуется значение определенного типа, а передается значение другого типа\n",
    "        FileNotFoundError: возникает при открытии несуществующего файла\n",
    "        ValueError: возникает, когда в функцию передается аргумент с неподдерживаемым значением\n",
    "        ZeroDivisionError: возникает при попытке выполнить деление на ноль"
   ]
  },
  {
   "cell_type": "code",
   "execution_count": 3,
   "metadata": {},
   "outputs": [
    {
     "ename": "SyntaxError",
     "evalue": "default 'except:' must be last (3743002553.py, line 5)",
     "output_type": "error",
     "traceback": [
      "\u001b[0;36m  Cell \u001b[0;32mIn [3], line 5\u001b[0;36m\u001b[0m\n\u001b[0;31m    except:\u001b[0m\n\u001b[0m    ^\u001b[0m\n\u001b[0;31mSyntaxError\u001b[0m\u001b[0;31m:\u001b[0m default 'except:' must be last\n"
     ]
    }
   ],
   "source": [
    "numbers = []\n",
    "\n",
    "try:\n",
    "    x = numbers[-1]\n",
    "except:\n",
    "    x = 0\n",
    "except:\n",
    "    x = 1\n",
    "    \n",
    "print(x)"
   ]
  },
  {
   "attachments": {},
   "cell_type": "markdown",
   "metadata": {},
   "source": [
    "        Необязательный блок else\n",
    "\n",
    "Помимо блоков try и except, в инструкции try-except может также использоваться необязательный блок else.\n",
    "\n",
    "Блок else размещается после последнего ехсерt блока и содержит программный код, который выполняется только в том случае, если при выполнении кода в trу блоке ошибок (исключений) не было."
   ]
  },
  {
   "cell_type": "code",
   "execution_count": null,
   "metadata": {},
   "outputs": [],
   "source": [
    "try:\n",
    "    # контролируемый код\n",
    "except тип_ошибки_1:\n",
    "    # код обработки ошибки (исключения)\n",
    "except тип_ошибки_2:\n",
    "    # код обработки ошибки (исключения)\n",
    "...\n",
    "except тип_ошибки_n:\n",
    "    # код обработки ошибки (исключения)\n",
    "else:\n",
    "    # код для случая, если ошибки (исключения) не было"
   ]
  },
  {
   "attachments": {},
   "cell_type": "markdown",
   "metadata": {},
   "source": [
    "        Необязательный блок finally\n",
    "\n",
    "полезная статья на stack https://stackoverflow.com/questions/62678765/finally-always-runs-just-before-the-return-in-try-block-then-why-update-in-fina\n",
    "\n",
    "Помимо необязательного блока else, в инструкции try-except можно также использовать необязательный блок finally.\n",
    "\n",
    "Блок finally размещается после последнего ехсерt блока, либо после блока else, если он присутствует, и содержит программный код, который выполняется в любом случае, независимо от того, возникла ошибка (исключение) при выполнении кода trу блока или нет."
   ]
  },
  {
   "cell_type": "code",
   "execution_count": null,
   "metadata": {},
   "outputs": [],
   "source": [
    "try:\n",
    "    # контролируемый код\n",
    "except тип_ошибки_1:\n",
    "    # код обработки ошибки (исключения)\n",
    "except тип_ошибки_2:\n",
    "    # код обработки ошибки (исключения)\n",
    "...\n",
    "except тип_ошибки_n:\n",
    "    # код обработки ошибки (исключения)\n",
    "finally:\n",
    "    # код, который выполняется всегда"
   ]
  },
  {
   "attachments": {},
   "cell_type": "markdown",
   "metadata": {},
   "source": [
    "Особенность работы блока finally связана с обработкой ошибок (исключений) внутри функций. Нужно знать, что блок finally выполняется до return"
   ]
  },
  {
   "cell_type": "code",
   "execution_count": 6,
   "metadata": {},
   "outputs": [
    {
     "name": "stdout",
     "output_type": "stream",
     "text": [
      "Выполняется блок finally!\n",
      "10\n"
     ]
    }
   ],
   "source": [
    "def func():\n",
    "    try:\n",
    "        return 10\n",
    "    finally:\n",
    "        print('Выполняется блок finally!')\n",
    "\n",
    "print(func())"
   ]
  },
  {
   "attachments": {},
   "cell_type": "markdown",
   "metadata": {},
   "source": [
    "Интересна ситуация, когда возврат из функции (return) осуществляется как в блоке try, так и в блоке finally. Поскольку блок finally выполняется до return, то результирующее значение будет получено именно из блока finally."
   ]
  },
  {
   "cell_type": "code",
   "execution_count": 7,
   "metadata": {},
   "outputs": [
    {
     "name": "stdout",
     "output_type": "stream",
     "text": [
      "20\n"
     ]
    }
   ],
   "source": [
    "def func():\n",
    "    try:\n",
    "        return 10\n",
    "    finally:\n",
    "        return 20\n",
    "\n",
    "print(func())"
   ]
  },
  {
   "attachments": {},
   "cell_type": "markdown",
   "metadata": {},
   "source": [
    "#### Общий шаблон инструкции try-except\n",
    "Общий шаблон инструкции try-except, включая все блоки, имеет вид:\n",
    "\n"
   ]
  },
  {
   "cell_type": "code",
   "execution_count": null,
   "metadata": {},
   "outputs": [],
   "source": [
    "try:\n",
    "    # контролируемый код\n",
    "except тип_ошибки_1:\n",
    "    # код обработки ошибки (исключения)\n",
    "except тип_ошибки_2:\n",
    "    # код обработки ошибки (исключения)\n",
    "...\n",
    "except тип_ошибки_n:\n",
    "    # код обработки ошибки (исключения)\n",
    "else:\n",
    "    # код для случая, если ошибки не было\n",
    "finally:\n",
    "    # код, который выполняется всегда"
   ]
  },
  {
   "attachments": {},
   "cell_type": "markdown",
   "metadata": {},
   "source": [
    "Информация по дереву и наследованию исключений здесь\n",
    "https://stepik.org/lesson/640051/step/1?unit=636571"
   ]
  },
  {
   "attachments": {},
   "cell_type": "markdown",
   "metadata": {},
   "source": [
    "Работа с объектом возбужденного исключения\n",
    "\n",
    "Если нужен доступ к сгенерированному исключению как к объекту, то используется специальный синтаксис."
   ]
  },
  {
   "cell_type": "code",
   "execution_count": 37,
   "metadata": {},
   "outputs": [
    {
     "name": "stdout",
     "output_type": "stream",
     "text": [
      "list index out of range\n",
      "<class 'IndexError'>\n",
      "<class 'IndexError'>\n",
      "IndexError\n",
      "IndexError\n",
      "IndexError\n"
     ]
    }
   ],
   "source": [
    "try:\n",
    "    nums = [10, 5, 20, 25]\n",
    "    print(nums[100])\n",
    "except (KeyError, IndexError) as err:    # записываем сгенерированное исключение в переменную err\n",
    "    print(err)\n",
    "    print(type(err))\n",
    "    print((err.__class__))\n",
    "    print(str(err.__class__).split()[1].strip(\"'<>\"))\n",
    "    print(type(err).__name__ )      # получить имя ошибки\n",
    "    print(err.__class__.__name__)   # получить имя ошибки способ 2\n"
   ]
  },
  {
   "attachments": {},
   "cell_type": "markdown",
   "metadata": {},
   "source": [
    "Если при обработке всех исключений одним блоком except мы хотим получить доступ к объекту исключения, то нужно явно указать его тип."
   ]
  },
  {
   "cell_type": "code",
   "execution_count": 29,
   "metadata": {},
   "outputs": [
    {
     "name": "stdout",
     "output_type": "stream",
     "text": [
      "division by zero\n"
     ]
    }
   ],
   "source": [
    "try:\n",
    "    х = 1 / 0\n",
    "except Exception as err:\n",
    "    print(err)"
   ]
  },
  {
   "cell_type": "code",
   "execution_count": 30,
   "metadata": {},
   "outputs": [
    {
     "name": "stdout",
     "output_type": "stream",
     "text": [
      "division by zero\n"
     ]
    }
   ],
   "source": [
    "exceptions = [ZeroDivisionError]\n",
    "try:\n",
    "    х = 1 / 0\n",
    "except Exception as err:\n",
    "    if err in exceptions: print('okay')\n",
    "    else: print(err)"
   ]
  },
  {
   "cell_type": "code",
   "execution_count": 27,
   "metadata": {},
   "outputs": [
    {
     "ename": "ZeroDivisionError",
     "evalue": "division by zero",
     "output_type": "error",
     "traceback": [
      "\u001b[0;31m---------------------------------------------------------------------------\u001b[0m",
      "\u001b[0;31mZeroDivisionError\u001b[0m                         Traceback (most recent call last)",
      "\u001b[1;32m/Users/tony_builder/Documents/GitHub/studying/Python_stepic_beegeek/python for professional/work with exceptions.ipynb Ячейка 23\u001b[0m in \u001b[0;36m1\n\u001b[0;32m----> <a href='vscode-notebook-cell:/Users/tony_builder/Documents/GitHub/studying/Python_stepic_beegeek/python%20for%20professional/work%20with%20exceptions.ipynb#Y134sZmlsZQ%3D%3D?line=0'>1</a>\u001b[0m \u001b[39m1\u001b[39;49m\u001b[39m/\u001b[39;49m\u001b[39m0\u001b[39;49m\n",
      "\u001b[0;31mZeroDivisionError\u001b[0m: division by zero"
     ]
    }
   ],
   "source": [
    "1/0"
   ]
  },
  {
   "attachments": {},
   "cell_type": "markdown",
   "metadata": {},
   "source": [
    "Для получения информации об исключении можно воспользоваться функцией exc_infо() из модуля sys. Данная функция возвращает кортеж из трех значений: \n",
    "- типа исключения, \n",
    "- значения \n",
    "- и объекта с трассировочной информацией об исключении, которое в данный момент обрабатывается."
   ]
  },
  {
   "cell_type": "code",
   "execution_count": 33,
   "metadata": {},
   "outputs": [
    {
     "name": "stdout",
     "output_type": "stream",
     "text": [
      "(<class 'ZeroDivisionError'>, ZeroDivisionError('division by zero'), <traceback object at 0x108e94200>)\n"
     ]
    }
   ],
   "source": [
    "from sys import exc_info\n",
    "\n",
    "try:\n",
    "    х = 1 / 0\n",
    "except Exception as err:\n",
    "    print(exc_info())"
   ]
  },
  {
   "attachments": {},
   "cell_type": "markdown",
   "metadata": {},
   "source": [
    "Возбуждение исключений вручную"
   ]
  },
  {
   "cell_type": "code",
   "execution_count": 39,
   "metadata": {},
   "outputs": [
    {
     "name": "stdout",
     "output_type": "stream",
     "text": [
      "Произошло деление на ноль.\n",
      "('Произошло деление на ноль.',)\n",
      "<class 'tuple'>\n"
     ]
    }
   ],
   "source": [
    "try:\n",
    "    x, y = 10, 0\n",
    "    if y == 0:\n",
    "        raise ZeroDivisionError('Произошло деление на ноль.')\n",
    "except ZeroDivisionError as err:\n",
    "    print(err)\n",
    "    print(err.args)\n",
    "    print(type(err.args))"
   ]
  },
  {
   "attachments": {},
   "cell_type": "markdown",
   "metadata": {},
   "source": [
    "Оператор возбуждения исключений raise имеет несколько вариантов формата:\n",
    "\n",
    "- raise <экземпляр класса>\n",
    "- raise <название класса>\n",
    "- raise <экземпляр или название класса> from <объект исключения>\n",
    "- raise\n"
   ]
  },
  {
   "attachments": {},
   "cell_type": "markdown",
   "metadata": {},
   "source": [
    "**В ПЕРВОМ** варианте оператора raise указывается экземпляр класса возбуждаемого исключения с аргументами при необходимости.\n",
    "\n",
    "Пример:\n",
    "\n",
    "raise ValueError('Oпиcaниe исключения')\n",
    "\n",
    "**Во ВТОРОМ** варианте оператора raise указывается только название класса исключения.\n",
    "\n",
    "Пример:\n",
    "\n",
    "raise ValueError                       # эквивалентно: raise ValueError()\n",
    "\n",
    "**В ТРЕТЬЕМ** варианте оператора raise сначала указывается экземпляр класса или просто название класса, а потом объект исключения, на основании которого создается новое исключение. В этом случае объект исходного исключения сохраняется в атрибуте __cause__. При обработке вложенных исключений эти данные используются для вывода информации не только о последнем исключении, но и о первоначальном исключении.\n",
    "\n",
    "**В ЧЕТВЕРТОМ** варианте оператора raise мы повторно возбуждаем и пробрасываем выше последнее перехваченное исключение.\n",
    "\n"
   ]
  },
  {
   "attachments": {},
   "cell_type": "markdown",
   "metadata": {},
   "source": [
    "### Примечания "
   ]
  },
  {
   "attachments": {},
   "cell_type": "markdown",
   "metadata": {},
   "source": [
    "Примечание 1. Возбуждение исключения в коде похоже на return, только на его глобальную версию, завершающую все функции в порядке, обратном тому, в котором они вызывались. Если исключение будет возбуждено, но не будет перехвачено, то есть как-то обработано, вся программа так и завершится.\n",
    "\n",
    "Примечание 2. Сам механизм исключений достаточно медленный, поэтому, например, не очень хорошей идеей будет возбуждать исключение внутри цикла, когда мы точно знаем, что их будет достаточно большое количество.\n",
    "\n",
    "Примечание 3. В ситуации, когда мы перехватываем исключение, делаем некие действия, а затем пробрасываем его выше, нужно использовать следующий код:\n",
    "\n",
    "Просто пишите raise — так будет заново возбуждено последнее перехваченное исключение с сохранением нужной информации."
   ]
  },
  {
   "cell_type": "code",
   "execution_count": 40,
   "metadata": {},
   "outputs": [
    {
     "name": "stdout",
     "output_type": "stream",
     "text": [
      "division by zero\n"
     ]
    },
    {
     "ename": "ZeroDivisionError",
     "evalue": "division by zero",
     "output_type": "error",
     "traceback": [
      "\u001b[0;31m---------------------------------------------------------------------------\u001b[0m",
      "\u001b[0;31mZeroDivisionError\u001b[0m                         Traceback (most recent call last)",
      "\u001b[1;32m/Users/tony_builder/Documents/GitHub/studying/Python_stepic_beegeek/python for professional/work with exceptions.ipynb Ячейка 31\u001b[0m in \u001b[0;36m2\n\u001b[1;32m      <a href='vscode-notebook-cell:/Users/tony_builder/Documents/GitHub/studying/Python_stepic_beegeek/python%20for%20professional/work%20with%20exceptions.ipynb#Y100sZmlsZQ%3D%3D?line=0'>1</a>\u001b[0m \u001b[39mtry\u001b[39;00m:\n\u001b[0;32m----> <a href='vscode-notebook-cell:/Users/tony_builder/Documents/GitHub/studying/Python_stepic_beegeek/python%20for%20professional/work%20with%20exceptions.ipynb#Y100sZmlsZQ%3D%3D?line=1'>2</a>\u001b[0m     х \u001b[39m=\u001b[39m \u001b[39m1\u001b[39;49m \u001b[39m/\u001b[39;49m \u001b[39m0\u001b[39;49m\n\u001b[1;32m      <a href='vscode-notebook-cell:/Users/tony_builder/Documents/GitHub/studying/Python_stepic_beegeek/python%20for%20professional/work%20with%20exceptions.ipynb#Y100sZmlsZQ%3D%3D?line=2'>3</a>\u001b[0m \u001b[39mexcept\u001b[39;00m \u001b[39mException\u001b[39;00m \u001b[39mas\u001b[39;00m err:\n\u001b[1;32m      <a href='vscode-notebook-cell:/Users/tony_builder/Documents/GitHub/studying/Python_stepic_beegeek/python%20for%20professional/work%20with%20exceptions.ipynb#Y100sZmlsZQ%3D%3D?line=3'>4</a>\u001b[0m     \u001b[39mprint\u001b[39m(err)                  \u001b[39m# каким-то образом обработали перехваченное исключение\u001b[39;00m\n",
      "\u001b[0;31mZeroDivisionError\u001b[0m: division by zero"
     ]
    }
   ],
   "source": [
    "try:\n",
    "    х = 1 / 0\n",
    "except Exception as err:\n",
    "    print(err)                  # каким-то образом обработали перехваченное исключение\n",
    "    raise                       # пробрасываем исключение выше"
   ]
  },
  {
   "attachments": {},
   "cell_type": "markdown",
   "metadata": {},
   "source": [
    "Примечательно то, что при передаче переменной с исключением в функцию print() происходит вывод именно тех аргументов, которые были указаны при создании объекта исключения. И если таких аргументов было передано несколько, они будут выведены все в виде кортежа."
   ]
  },
  {
   "cell_type": "code",
   "execution_count": 41,
   "metadata": {},
   "outputs": [
    {
     "name": "stdout",
     "output_type": "stream",
     "text": [
      "('Ой', 'Произошла ошибка')\n"
     ]
    }
   ],
   "source": [
    "try:\n",
    "    raise ValueError('Ой', 'Произошла ошибка')\n",
    "except ValueError as e:\n",
    "    print(e)"
   ]
  },
  {
   "cell_type": "code",
   "execution_count": 42,
   "metadata": {},
   "outputs": [
    {
     "name": "stdout",
     "output_type": "stream",
     "text": [
      "('oops', 'something went wrong')\n",
      "('oops', 'something went wrong')\n"
     ]
    }
   ],
   "source": [
    "try:\n",
    "    raise ValueError('oops', 'something went wrong')\n",
    "except ValueError as e:\n",
    "    print(e)\n",
    "    print(e.args)"
   ]
  },
  {
   "attachments": {},
   "cell_type": "markdown",
   "metadata": {},
   "source": [
    "### Задачи на Исключения"
   ]
  },
  {
   "attachments": {},
   "cell_type": "markdown",
   "metadata": {},
   "source": [
    "        Вам доступна программа, которая находит сумму всех значений по ключу Likes из всех словарей списка blog_posts. Если словарь не содержит ключа Likes, его значение считается равным минус единице. Дополните приведенный ниже код конструкцией try-except, чтобы он выполнился без ошибок."
   ]
  },
  {
   "cell_type": "code",
   "execution_count": 5,
   "metadata": {},
   "outputs": [
    {
     "name": "stdout",
     "output_type": "stream",
     "text": [
      "84\n"
     ]
    }
   ],
   "source": [
    "blog_posts = [{'Photos': 3, 'Likes': 21, 'Comments': 2}, \n",
    "              {'Likes': 13, 'Comments': 2, 'Shares': 1}, \n",
    "              {'Photos': 5, 'Likes': 33, 'Comments': 8, 'Shares': 3}, \n",
    "              {'Comments': 4, 'Shares': 2}, \n",
    "              {'Photos': 8, 'Comments': 1, 'Shares': 1}, \n",
    "              {'Photos': 3, 'Likes': 19, 'Comments': 3}]\n",
    "\n",
    "total_likes = 0\n",
    "\n",
    "for post in blog_posts:\n",
    "    try:\n",
    "        total_likes += post['Likes']\n",
    "    except: total_likes -=1\n",
    "\n",
    "print(total_likes)"
   ]
  },
  {
   "attachments": {},
   "cell_type": "markdown",
   "metadata": {},
   "source": [
    "        Only numbers\n",
    "        На вход программе подается неопределенное количество строк, каждая из которых содержит произвольное значение. Напишите программу с использованием конструкции try-except, которая выводит сумму всех введенных чисел, а затем — количество введенных нечисловых значений."
   ]
  },
  {
   "cell_type": "code",
   "execution_count": null,
   "metadata": {},
   "outputs": [],
   "source": [
    "import sys\n",
    "data = [line.strip() for line in sys.stdin.readlines()]\n",
    "numbers = []\n",
    "anything = []\n",
    "\n",
    "for string in data:\n",
    "    try: numbers.append(float(string))\n",
    "    except: anything.append(string)\n",
    "res = sum(numbers)\n",
    "print((res, int(res))[str(res)[-2:] == '.0'])\n",
    "print(len(anything))"
   ]
  },
  {
   "attachments": {},
   "cell_type": "markdown",
   "metadata": {},
   "source": [
    "        Январь, февраль, ...\n",
    "        Напишите программу с использованием конструкции try-except, которая выводит название месяца, соответствующее введенному целому числу (от \n",
    "        1 до 12 включительно), причем\n",
    "\n",
    "        если введенное число не принадлежит отрезку \n",
    "        [1;12], программа должна вывести текст:\n",
    "        Введено число из недопустимого диапазона\n",
    "        если введенное значение не является целым числом, программа должна вывести текст:\n",
    "        Введено некорректное значение"
   ]
  },
  {
   "cell_type": "code",
   "execution_count": 9,
   "metadata": {},
   "outputs": [
    {
     "name": "stdout",
     "output_type": "stream",
     "text": [
      "['January', 'February', 'March', 'April', 'May', 'June', 'July', 'August', 'September', 'October', 'November', 'December']\n"
     ]
    }
   ],
   "source": [
    "import calendar\n",
    "print(list(calendar.month_name)[1:])"
   ]
  },
  {
   "cell_type": "code",
   "execution_count": 21,
   "metadata": {},
   "outputs": [
    {
     "name": "stdout",
     "output_type": "stream",
     "text": [
      "Введено число из недопустимого диапазона\n"
     ]
    }
   ],
   "source": [
    "inpt = input()\n",
    "month_names = list(calendar.month_name)\n",
    "\n",
    "try:\n",
    "    index = int(inpt)\n",
    "    if index not in range(1,13): print('Введено число из недопустимого диапазона')\n",
    "    else: print(month_names[index])\n",
    "\n",
    "except ValueError: print('Введено некорректное значение')"
   ]
  },
  {
   "attachments": {},
   "cell_type": "markdown",
   "metadata": {},
   "source": [
    "        Функция add_to_list_in_dict()\n",
    "        Реализуйте функцию add_to_list_in_dict() с использованием конструкции try-except, которая принимает три аргумента в следующем порядке:\n",
    "\n",
    "        data — словарь списков, то есть словарь, значением в котором является список\n",
    "        key — хешируемый объект\n",
    "        element — произвольный объект\n",
    "        Функция должна добавлять объект element в список по ключу key в словаре data. Если ключа key в словаре data нет, функция должна добавить его в словарь, присвоить ему в качестве значения пустой список и добавить в этот список объект element.\n",
    "\n",
    "        Примечание 1. Функция должна изменять переданный словарь и возвращать значение None.\n",
    "\n",
    "        Примечание 2. Элементы в список должны добавляться в конец."
   ]
  },
  {
   "cell_type": "code",
   "execution_count": 26,
   "metadata": {},
   "outputs": [],
   "source": [
    "def add_to_list_in_dict(data, key, element):\n",
    "    try:\n",
    "        data[key].append(element)\n",
    "    except: data[key] = [element]\n"
   ]
  },
  {
   "cell_type": "code",
   "execution_count": 24,
   "metadata": {},
   "outputs": [
    {
     "data": {
      "text/plain": [
       "{'a': [1, 2, 3], 'b': [4, 5, 6, 7]}"
      ]
     },
     "execution_count": 24,
     "metadata": {},
     "output_type": "execute_result"
    }
   ],
   "source": [
    "data = {'a': [1, 2, 3], 'b': [4, 5, 6]}\n",
    "add_to_list_in_dict(data, 'b', 7)\n",
    "data"
   ]
  },
  {
   "cell_type": "code",
   "execution_count": 27,
   "metadata": {},
   "outputs": [
    {
     "name": "stdout",
     "output_type": "stream",
     "text": [
      "{'a': [1, 2, 3], 'b': [4, 5, 6], 'c': [7]}\n"
     ]
    }
   ],
   "source": [
    "data = {'a': [1, 2, 3], 'b': [4, 5, 6]}\n",
    "add_to_list_in_dict(data, 'c', 7)\n",
    "\n",
    "print(data)"
   ]
  },
  {
   "attachments": {},
   "cell_type": "markdown",
   "metadata": {},
   "source": [
    "        readme.txt\n",
    "        Напишите программу с использованием конструкции try-except, которая принимает на вход название текстового файла и выводит его содержимое. Если файла с данным названием нет в папке с программой, программа должна вывести текст:\n",
    "\n",
    "        ​Файл не найден"
   ]
  },
  {
   "cell_type": "code",
   "execution_count": 30,
   "metadata": {},
   "outputs": [
    {
     "name": "stdout",
     "output_type": "stream",
     "text": [
      "​Файл не найден\n"
     ]
    }
   ],
   "source": [
    "try:\n",
    "    with open(input(), 'r', encoding='utf-8') as file:\n",
    "        print(file.read())\n",
    "except: print('​Файл не найден')"
   ]
  },
  {
   "attachments": {},
   "cell_type": "markdown",
   "metadata": {},
   "source": [
    "        Функция get_id()\n",
    "        В онлайн-школе BEEGEEK имя ученика считается корректным, если оно начинается с заглавной латинской буквы, за которой следуют строчные латинские буквы. Например, имена Timur и Yo считаются корректными, а имена timyrik, Yo17, TimuRRR нет. Также у каждого ученика имеется идентификационный номер, представленный натуральным числом, который выдается при поступлении в школу. К примеру, если в школе обучается \n",
    "        10\n",
    "        10 учеников, то новый прибывший ученик получит идентификационный номер равный \n",
    "        11\n",
    "        11.\n",
    "\n",
    "        Реализуйте функцию get_id(), которая принимает два аргумента:\n",
    "\n",
    "        names — список имен учеников, обучающихся в школе\n",
    "        name — имя поступающего ученика\n",
    "        Функция должна возвращать идентификационный номер, который получит поступающий в школу ученик, при этом\n",
    "\n",
    "        если имя ученика name не является строкой (тип str), функция должна возбуждать исключение:\n",
    "        TypeError('Имя не является строкой')\n",
    "        если имя ученика name является строкой (тип str), но не представляет собой корректное имя, функция должна возбуждать исключение:\n",
    "        ValueError('Имя не является корректным')"
   ]
  },
  {
   "cell_type": "code",
   "execution_count": 43,
   "metadata": {},
   "outputs": [],
   "source": [
    "def get_id(names, name):\n",
    "    if not isinstance(name, str):\n",
    "        raise TypeError('Имя не является строкой')\n",
    "    elif not name.isalpha() or not name[0].isupper() or not name[1:].islower():\n",
    "        raise ValueError('Имя не является корректным')\n",
    "    return len(names) + 1\n"
   ]
  },
  {
   "attachments": {},
   "cell_type": "markdown",
   "metadata": {},
   "source": [
    "        Десериализация\n",
    "        Напишите программу, которая принимает на вход название JSON файла, десериализует содержащийся в этом файле объект и выводит его.\n",
    "\n",
    "        если файла с данным названием нет в папке с программой, программа должна вывести текст:\n",
    "        Файл не найден\n",
    "        если файл с данным названием содержит некорректные данные (то есть не удовлетворяющие формату JSON), программа должна вывести текст:\n",
    "        Ошибка при десериализации"
   ]
  },
  {
   "cell_type": "code",
   "execution_count": null,
   "metadata": {},
   "outputs": [],
   "source": [
    "import json\n",
    "\n",
    "filename = input()\n",
    "\n",
    "try:\n",
    "    with open(filename) as f:\n",
    "        data = json.load(f)\n",
    "        print(data)\n",
    "except FileNotFoundError:\n",
    "    print(\"Файл не найден\")\n",
    "except json.JSONDecodeError:\n",
    "    print(\"Ошибка при десериализации\")"
   ]
  },
  {
   "attachments": {},
   "cell_type": "markdown",
   "metadata": {},
   "source": [
    "### Создание собственных классов исключений\n",
    "https://stepik.org/lesson/640052/step/1?unit=636572"
   ]
  },
  {
   "attachments": {},
   "cell_type": "markdown",
   "metadata": {},
   "source": [
    "Для создания собственного типа исключения необходимо создать класс, являющийся потомком (наследником) одного из уже существующего типа исключения. Как уже было сказано в прошлом уроке, самым верным вариантом является класс Exception."
   ]
  },
  {
   "cell_type": "code",
   "execution_count": 45,
   "metadata": {},
   "outputs": [
    {
     "name": "stdout",
     "output_type": "stream",
     "text": [
      "Введите свой возраст\n",
      "Возраст не может быть отрицательным\n"
     ]
    }
   ],
   "source": [
    "class NegativeAgeError(Exception):\n",
    "    pass\n",
    "\n",
    "try:\n",
    "    print('Введите свой возраст')\n",
    "    age = int(input())\n",
    "    if age < 0:\n",
    "        raise NegativeAgeError('Возраст не может быть отрицательным')\n",
    "    print('Ваш возраст равен', age)\n",
    "except ValueError:\n",
    "    print('Возраст должен быть числом')\n",
    "except NegativeAgeError as e:\n",
    "    print(e)"
   ]
  },
  {
   "attachments": {},
   "cell_type": "markdown",
   "metadata": {},
   "source": [
    "Методики LBYL и EAFP\n",
    "При написании программного кода, который может потенциально возбуждать исключения, существуют два основных подхода:\n",
    "\n",
    "        LBYL (Look Before You Leap) — посмотри перед прыжком\n",
    "        EAFP (Easier to Ask Forgiveness than Permission) — проще извиниться, чем спрашивать разрешение"
   ]
  },
  {
   "cell_type": "code",
   "execution_count": 46,
   "metadata": {},
   "outputs": [
    {
     "name": "stdout",
     "output_type": "stream",
     "text": [
      "Ключ Anri отсутсвует в словаре.\n"
     ]
    }
   ],
   "source": [
    "#LBYL\n",
    "\n",
    "data = {'Timur': 29, 'Ivan': 54}\n",
    "\n",
    "if 'Anri' in data:\n",
    "    data['Anri'] += 1\n",
    "else:\n",
    "    print('Ключ Anri отсутсвует в словаре.')"
   ]
  },
  {
   "cell_type": "code",
   "execution_count": 47,
   "metadata": {},
   "outputs": [
    {
     "name": "stdout",
     "output_type": "stream",
     "text": [
      "Ключ Anri отсутсвует в словаре.\n"
     ]
    }
   ],
   "source": [
    "# EAFP\n",
    "\n",
    "data = {'Timur': 29, 'Ivan': 54}\n",
    "\n",
    "try:\n",
    "    data['Anri'] += 1\n",
    "except KeyError:\n",
    "    print('Ключ Anri отсутсвует в словаре.')"
   ]
  },
  {
   "attachments": {},
   "cell_type": "markdown",
   "metadata": {},
   "source": [
    "        Функция is_good_password() 👀\n",
    "        Назовем пароль хорошим, если\n",
    "\n",
    "        его длина равна \n",
    "        9\n",
    "        9 или более символам\n",
    "        в нем присутствуют большие и маленькие буквы любого алфавита\n",
    "        в нем имеется хотя бы одна цифра\n",
    "        Реализуйте функцию is_good_password() в стиле LBYL, которая принимает один аргумент:\n",
    "\n",
    "        string — произвольная строка\n",
    "        Функция должна возвращать True, если строка string представляет собой хороший пароль, или False в противном случае."
   ]
  },
  {
   "cell_type": "code",
   "execution_count": null,
   "metadata": {},
   "outputs": [],
   "source": [
    "def is_good_password(string):\n",
    "    if len(string)>8 and  any([a.isdigit() for a in string]) and any([a.islower() for a in string]) and any([a.isupper() for a in string]): return True\n",
    "    else: return False"
   ]
  },
  {
   "attachments": {},
   "cell_type": "markdown",
   "metadata": {},
   "source": [
    "        Функция is_good_password() 🐍\n",
    "        Назовем пароль хорошим, если\n",
    "\n",
    "        его длина равна \n",
    "        9\n",
    "        9 или более символам\n",
    "        в нем присутствуют большие и маленькие буквы любого алфавита\n",
    "        в нем имеется хотя бы одна цифра\n",
    "        Реализуйте функцию is_good_password() в стиле EAFP, которая принимает один аргумент:\n",
    "\n",
    "        string — произвольная строка\n",
    "        Функция должна возвращать True, если строка string представляет собой хороший пароль, или возбуждать исключение:\n",
    "\n",
    "        LengthError, если его длина меньше \n",
    "        9\n",
    "        9 символов\n",
    "        LetterError, если в нем отсутствуют буквы или все буквы имеют одинаковый регистр\n",
    "        DigitError, если в нем нет ни одной цифры\n",
    "        Примечание 1. Исключения LengthError, LetterError и DigitError уже определены и доступны.\n",
    "\n",
    "        Примечание 2. Приоритет возбуждения исключений в случае невыполнения нескольких условий: LengthError, затем LetterError, а уже после DigitError."
   ]
  },
  {
   "cell_type": "code",
   "execution_count": 57,
   "metadata": {},
   "outputs": [],
   "source": [
    "def is_good_password(string):\n",
    "    class LengthError(Exception):\n",
    "        pass\n",
    "\n",
    "    class LetterError(Exception):\n",
    "        pass\n",
    "\n",
    "    class DigitError(Exception):\n",
    "        pass\n",
    "\n",
    "    try:\n",
    "        if len(string)<9:\n",
    "            raise LengthError(False)\n",
    "        \n",
    "        elif not (any([a.islower() for a in string]) and any([a.isupper() for a in string])):\n",
    "            raise LetterError(False)\n",
    "        \n",
    "        elif not any([a.isdigit() for a in string]):\n",
    "            raise DigitError(False)\n",
    "        \n",
    "        else: return True\n",
    "    \n",
    "    except (LengthError, LetterError,DigitError)  as e:\n",
    "        print(e)\n",
    "        "
   ]
  },
  {
   "cell_type": "code",
   "execution_count": 58,
   "metadata": {},
   "outputs": [
    {
     "name": "stdout",
     "output_type": "stream",
     "text": [
      "False\n"
     ]
    }
   ],
   "source": [
    "is_good_password('1234')"
   ]
  },
  {
   "cell_type": "code",
   "execution_count": 59,
   "metadata": {},
   "outputs": [
    {
     "name": "stdout",
     "output_type": "stream",
     "text": [
      "False\n"
     ]
    }
   ],
   "source": [
    "is_good_password('12345678956')"
   ]
  },
  {
   "cell_type": "code",
   "execution_count": 60,
   "metadata": {},
   "outputs": [
    {
     "name": "stdout",
     "output_type": "stream",
     "text": [
      "False\n"
     ]
    }
   ],
   "source": [
    "is_good_password('123df678956')"
   ]
  },
  {
   "cell_type": "code",
   "execution_count": 61,
   "metadata": {},
   "outputs": [
    {
     "data": {
      "text/plain": [
       "True"
      ]
     },
     "execution_count": 61,
     "metadata": {},
     "output_type": "execute_result"
    }
   ],
   "source": [
    "is_good_password('123df8HJ956')"
   ]
  },
  {
   "attachments": {},
   "cell_type": "markdown",
   "metadata": {},
   "source": [
    "        Напишите программу, которая требует ввода нового пароля до тех пор, пока не будет введен хороший.\n",
    "\n",
    "        Формат входных данных\n",
    "        На вход программе подается произвольное количество паролей, каждый на отдельной строке. Гарантируется, что среди них присутствует хороший.\n",
    "\n",
    "        Формат выходных данных\n",
    "        Для каждого введенного пароля программа должна вывести текст:\n",
    "\n",
    "        LengthError, если длина введенного пароля меньше \n",
    "        9\n",
    "        9 символов\n",
    "        LetterError, если в нем все буквы имеют одинаковый регистр\n",
    "        DigitError, если в нем нет ни одной цифры\n",
    "        Success!, если введенный пароль хороший\n",
    "        После ввода хорошего пароля все последующие пароли должны игнорироваться.\n",
    "\n",
    "        Примечание 1. Приоритет вывода сообщений об ошибке в случае невыполнения нескольких условий: LengthError, затем LetterError, а уже после DigitError."
   ]
  },
  {
   "cell_type": "code",
   "execution_count": 64,
   "metadata": {},
   "outputs": [
    {
     "name": "stdout",
     "output_type": "stream",
     "text": [
      "LengthError\n",
      "LengthError\n",
      "DigitError\n",
      "LetterError\n",
      "Success!\n"
     ]
    }
   ],
   "source": [
    "def is_true_password(string):\n",
    "    class LengthError(Exception):\n",
    "        pass\n",
    "\n",
    "    class LetterError(Exception):\n",
    "        pass\n",
    "\n",
    "    class DigitError(Exception):\n",
    "        pass\n",
    "    \n",
    "    try:\n",
    "        if len(string)<9:\n",
    "            raise LengthError('LengthError')\n",
    "        \n",
    "        elif not (any([a.islower() for a in string]) and any([a.isupper() for a in string])):\n",
    "            raise LetterError('LetterError')\n",
    "        \n",
    "        elif not any([a.isdigit() for a in string]):\n",
    "            raise DigitError('DigitError')\n",
    "        \n",
    "        else: return 'Success!'\n",
    "    \n",
    "    except (LengthError, LetterError,DigitError)  as e:\n",
    "        return e\n",
    "\n",
    "password = input()\n",
    "while is_true_password(password) != 'Success!':\n",
    "    print(is_true_password(password))\n",
    "    password = input()\n",
    "\n",
    "print(is_true_password(password))\n",
    "        "
   ]
  },
  {
   "attachments": {},
   "cell_type": "markdown",
   "metadata": {},
   "source": [
    "#### Оператор assert\n",
    "https://stepik.org/lesson/640052/step/10?unit=636572\n",
    "\n",
    "Оператор assert позволяет нам писать проверки работоспособности нашего кода. Эти проверки обычно называют утверждениями. Мы используем такие утверждения для того чтобы убедиться, остаются ли верными определенные условия во время разработки программы."
   ]
  },
  {
   "attachments": {},
   "cell_type": "markdown",
   "metadata": {},
   "source": [
    "Оператор assert – это встроенный оператор используемый для проверки того, является ли заданное утверждение истинным или ложным. \n",
    "- Если утверждение истинно, то ничего не происходит и выполняется следующая строка кода. \n",
    "- **Если же утверждение ложно, оператор assert останавливает выполнение программы и подобно оператору raise ВОЗБУЖДАЕТ ИСКЛЮЧЕНИЕ AssertionError.**"
   ]
  },
  {
   "cell_type": "code",
   "execution_count": 65,
   "metadata": {},
   "outputs": [],
   "source": [
    "# оператор ничего не поймает\n",
    "age = 29                # возраст человека\n",
    "\n",
    "assert age > 0, 'Возраст должен быть положительным числом'"
   ]
  },
  {
   "cell_type": "code",
   "execution_count": 67,
   "metadata": {},
   "outputs": [
    {
     "ename": "AssertionError",
     "evalue": "Делитель равен нулю.",
     "output_type": "error",
     "traceback": [
      "\u001b[0;31m---------------------------------------------------------------------------\u001b[0m",
      "\u001b[0;31mAssertionError\u001b[0m                            Traceback (most recent call last)",
      "\u001b[1;32m/Users/tony_builder/Documents/GitHub/studying/Python_stepic_beegeek/python for professional/work with exceptions.ipynb Ячейка 72\u001b[0m in \u001b[0;36m5\n\u001b[1;32m      <a href='vscode-notebook-cell:/Users/tony_builder/Documents/GitHub/studying/Python_stepic_beegeek/python%20for%20professional/work%20with%20exceptions.ipynb#Y140sZmlsZQ%3D%3D?line=1'>2</a>\u001b[0m num1 \u001b[39m=\u001b[39m \u001b[39m20\u001b[39m\n\u001b[1;32m      <a href='vscode-notebook-cell:/Users/tony_builder/Documents/GitHub/studying/Python_stepic_beegeek/python%20for%20professional/work%20with%20exceptions.ipynb#Y140sZmlsZQ%3D%3D?line=2'>3</a>\u001b[0m num2 \u001b[39m=\u001b[39m \u001b[39m0\u001b[39m\n\u001b[0;32m----> <a href='vscode-notebook-cell:/Users/tony_builder/Documents/GitHub/studying/Python_stepic_beegeek/python%20for%20professional/work%20with%20exceptions.ipynb#Y140sZmlsZQ%3D%3D?line=4'>5</a>\u001b[0m \u001b[39massert\u001b[39;00m num2 \u001b[39m!=\u001b[39m \u001b[39m0\u001b[39m, \u001b[39m'\u001b[39m\u001b[39mДелитель равен нулю.\u001b[39m\u001b[39m'\u001b[39m\n\u001b[1;32m      <a href='vscode-notebook-cell:/Users/tony_builder/Documents/GitHub/studying/Python_stepic_beegeek/python%20for%20professional/work%20with%20exceptions.ipynb#Y140sZmlsZQ%3D%3D?line=6'>7</a>\u001b[0m \u001b[39mprint\u001b[39m(\u001b[39m'\u001b[39m\u001b[39mЧастное равно:\u001b[39m\u001b[39m'\u001b[39m, num1 \u001b[39m/\u001b[39m num2)\n",
      "\u001b[0;31mAssertionError\u001b[0m: Делитель равен нулю."
     ]
    }
   ],
   "source": [
    "# оператор вернет исключение AssertionError\n",
    "num1 = 20\n",
    "num2 = 0\n",
    "\n",
    "assert num2 != 0, 'Делитель равен нулю.'\n",
    "\n",
    "print('Частное равно:', num1 / num2)"
   ]
  },
  {
   "attachments": {},
   "cell_type": "markdown",
   "metadata": {},
   "source": [
    "Сформулируем основные тезисы относительно оператора assert:\n",
    "\n",
    "- оператор assert — это средство отладки, которое проверяет утверждение, выступающее в качестве внутренней самопроверки вашей программы\n",
    "\n",
    "- оператор assert должен применяться только для того чтобы по­могать разработчикам идентифицировать ошибки. Они не являются механизмом обработки ошибок времени выполнения программы (исключений)\n",
    "\n",
    "- оператор assert может быть глобально отключен в настройках интерпретатора"
   ]
  },
  {
   "cell_type": "code",
   "execution_count": null,
   "metadata": {},
   "outputs": [],
   "source": []
  }
 ],
 "metadata": {
  "kernelspec": {
   "display_name": "Python 3",
   "language": "python",
   "name": "python3"
  },
  "language_info": {
   "codemirror_mode": {
    "name": "ipython",
    "version": 3
   },
   "file_extension": ".py",
   "mimetype": "text/x-python",
   "name": "python",
   "nbconvert_exporter": "python",
   "pygments_lexer": "ipython3",
   "version": "3.10.7"
  },
  "orig_nbformat": 4
 },
 "nbformat": 4,
 "nbformat_minor": 2
}
