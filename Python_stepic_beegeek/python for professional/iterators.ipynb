{
 "cells": [
  {
   "attachments": {},
   "cell_type": "markdown",
   "metadata": {},
   "source": [
    "### Итераторы\n",
    "\n",
    "https://stepik.org/lesson/668458/step/1?unit=666568\n",
    "\n",
    "Итератор — специальный объект, который выдает свои элементы по одному за раз.\n",
    "\n",
    "Если итератор передать во встроенную функцию next(), то эта функция вернет его следующий элемент. При этом сам итератор также сдвинется на следующий элемент. При следующем вызове функция next() вернет следующий элемент и т.д. Если же в итераторе элементов больше не осталось, то вызов функции next() приведет к возникновению исключения StopIteration"
   ]
  },
  {
   "attachments": {},
   "cell_type": "markdown",
   "metadata": {},
   "source": [
    "        Создание итератора на основе коллекции\n",
    "\n",
    "Для того чтобы создать итератор на основе некоторой коллекции, достаточно вызвать встроенную функцию iter(), передав нужную коллекцию в качестве ее аргумента."
   ]
  },
  {
   "cell_type": "code",
   "execution_count": 1,
   "metadata": {},
   "outputs": [
    {
     "name": "stdout",
     "output_type": "stream",
     "text": [
      "1\n",
      "2\n",
      "3\n"
     ]
    }
   ],
   "source": [
    "numbers = [1, 2, 3]\n",
    "\n",
    "iterator = iter(numbers)          # создаем итератор на основании списка\n",
    "\n",
    "print(next(iterator))             # запрашиваем и печатаем первый элемент итератора\n",
    "print(next(iterator))             # запрашиваем и печатаем второй элемент итератора\n",
    "print(next(iterator))             # запрашиваем и печатаем третий элемент итератора"
   ]
  },
  {
   "attachments": {},
   "cell_type": "markdown",
   "metadata": {},
   "source": [
    "Примечание 1. Встроенной функции next() можно передать второй аргумент, который будет возвращен вместо возбуждения исключения StopIteration, если в итераторе больше не осталось элементов."
   ]
  },
  {
   "cell_type": "code",
   "execution_count": 2,
   "metadata": {},
   "outputs": [
    {
     "name": "stdout",
     "output_type": "stream",
     "text": [
      "1\n",
      "2\n",
      "3\n",
      "4\n",
      "-1\n",
      "-1\n"
     ]
    }
   ],
   "source": [
    "nums = iter([1, 2, 3, 4])\n",
    "\n",
    "print(next(nums))\n",
    "print(next(nums))\n",
    "print(next(nums))\n",
    "print(next(nums))\n",
    "print(next(nums, -1))\n",
    "print(next(nums, -1))"
   ]
  },
  {
   "attachments": {},
   "cell_type": "markdown",
   "metadata": {},
   "source": [
    "Основная разница между последовательностями и итераторами, заключается в том, что в последовательностях элементы пронумерованы индексами, начиная от нуля. Мы можем обратиться к конкретному элементу таких объектов по индексу. В итераторах мы можем лишь последовательно запрашивать следующий элемент."
   ]
  },
  {
   "cell_type": "code",
   "execution_count": 2,
   "metadata": {},
   "outputs": [
    {
     "ename": "TypeError",
     "evalue": "'tuple_iterator' object is not subscriptable",
     "output_type": "error",
     "traceback": [
      "\u001b[0;31m---------------------------------------------------------------------------\u001b[0m",
      "\u001b[0;31mTypeError\u001b[0m                                 Traceback (most recent call last)",
      "\u001b[1;32m/Users/tony_builder/Documents/GitHub/studying/Python_stepic_beegeek/python for professional/iterators.ipynb Ячейка 5\u001b[0m in \u001b[0;36m5\n\u001b[1;32m      <a href='vscode-notebook-cell:/Users/tony_builder/Documents/GitHub/studying/Python_stepic_beegeek/python%20for%20professional/iterators.ipynb#W3sZmlsZQ%3D%3D?line=0'>1</a>\u001b[0m letters \u001b[39m=\u001b[39m (\u001b[39m'\u001b[39m\u001b[39ma\u001b[39m\u001b[39m'\u001b[39m, \u001b[39m'\u001b[39m\u001b[39mb\u001b[39m\u001b[39m'\u001b[39m, \u001b[39m'\u001b[39m\u001b[39mc\u001b[39m\u001b[39m'\u001b[39m)\n\u001b[1;32m      <a href='vscode-notebook-cell:/Users/tony_builder/Documents/GitHub/studying/Python_stepic_beegeek/python%20for%20professional/iterators.ipynb#W3sZmlsZQ%3D%3D?line=2'>3</a>\u001b[0m iterator \u001b[39m=\u001b[39m \u001b[39miter\u001b[39m(letters)           \u001b[39m# создаем итератор на основе кортежа\u001b[39;00m\n\u001b[0;32m----> <a href='vscode-notebook-cell:/Users/tony_builder/Documents/GitHub/studying/Python_stepic_beegeek/python%20for%20professional/iterators.ipynb#W3sZmlsZQ%3D%3D?line=4'>5</a>\u001b[0m \u001b[39mprint\u001b[39m(iterator[\u001b[39m1\u001b[39;49m])\n",
      "\u001b[0;31mTypeError\u001b[0m: 'tuple_iterator' object is not subscriptable"
     ]
    }
   ],
   "source": [
    "letters = ('a', 'b', 'c')\n",
    "\n",
    "iterator = iter(letters)           # создаем итератор на основе кортежа\n",
    "\n",
    "print(iterator[1])                 # обращение по индексу возбудит исключение"
   ]
  },
  {
   "attachments": {},
   "cell_type": "markdown",
   "metadata": {},
   "source": [
    "Преимущества итераторов\n",
    "\n",
    "\n",
    "        однотипность работы с объектами разных типов\n",
    "        ленивые вычисления и экономия потребляемой памяти\n",
    "        комбинация множества итераторов для создания понятной и читабельной программы"
   ]
  },
  {
   "attachments": {},
   "cell_type": "markdown",
   "metadata": {},
   "source": [
    "Цикл for в Python работает по следующему принципу:\n",
    "\n",
    "1) создает итератор на основе итерируемого объекта\n",
    "2) запрашивает очередной элемент из итератора с помощью функции next() и передает его в выполняемый блок кода (тело цикла)\n",
    "3) останавливается при получении исключения StopIteration\n",
    "\n",
    "Благодаря этому, в цикл for можно передать и список, и кортеж, и строку, и объект типа range, и многие другие объекты, которые имеют свои итераторы."
   ]
  },
  {
   "cell_type": "code",
   "execution_count": 3,
   "metadata": {},
   "outputs": [
    {
     "name": "stdout",
     "output_type": "stream",
     "text": [
      "1\n",
      "2\n",
      "3\n",
      "4\n"
     ]
    }
   ],
   "source": [
    "# внутренности цикла for \n",
    "\n",
    "numbers = [1, 2, 3, 4]\n",
    "\n",
    "iterator = iter(numbers)           # создается итератор\n",
    "\n",
    "while True:\n",
    "    try:\n",
    "        item = next(iterator)\n",
    "        print(item)\n",
    "    except StopIteration:\n",
    "        break"
   ]
  },
  {
   "attachments": {},
   "cell_type": "markdown",
   "metadata": {},
   "source": [
    "        Ленивые вычисления и экономия потребляемой памяти\n",
    "Ленивые вычисления предполагают, что не нужно ничего делать до тех пор, пока в этом нет необходимости. Это не просто удобно, но и позволяет экономить память и время на вычисление."
   ]
  },
  {
   "cell_type": "code",
   "execution_count": 4,
   "metadata": {},
   "outputs": [
    {
     "name": "stdout",
     "output_type": "stream",
     "text": [
      "0\n",
      "1\n",
      "2\n",
      "3\n",
      "4\n"
     ]
    }
   ],
   "source": [
    "numbers = range(5)             # 5 чисел в последовательности\n",
    "\n",
    "for num in numbers:\n",
    "    print(num)\n",
    "\n",
    "# Важно понимать, что объект типа range не хранит весь набор чисел. \n",
    "# Он создает новое число (на лету) только тогда, когда оно потребуется, при этом старые значения не хранятся. \n",
    "# Размер объектов range не зависит от количества чисел, которые предполагается перебрать, \n",
    "# ведь нужно помнить только начальное и конечное значения последовательности, шаг и текущее значение."
   ]
  },
  {
   "cell_type": "code",
   "execution_count": 5,
   "metadata": {},
   "outputs": [
    {
     "name": "stdout",
     "output_type": "stream",
     "text": [
      "48\n",
      "48\n",
      "48\n"
     ]
    }
   ],
   "source": [
    "# все объекты range имеют размер 48 байт\n",
    "\n",
    "from sys import getsizeof\n",
    "\n",
    "numbers1 = range(5)                  # 5 чисел в последовательности\n",
    "numbers2 = range(100000)             # 100000 чисел в последовательности\n",
    "numbers3 = range(10000000000000)     # 10000000000000 чисел в последовательности\n",
    "\n",
    "print(getsizeof(numbers1))\n",
    "print(getsizeof(numbers2))\n",
    "print(getsizeof(numbers3))"
   ]
  },
  {
   "cell_type": "code",
   "execution_count": 6,
   "metadata": {},
   "outputs": [
    {
     "name": "stdout",
     "output_type": "stream",
     "text": [
      "104\n",
      "800056\n"
     ]
    }
   ],
   "source": [
    "# а вот списки занимают много памяти, потому что хранят каждый элемент последовательности\n",
    "\n",
    "from sys import getsizeof\n",
    "\n",
    "numbers1 = list(range(5))                  # 5 чисел в списке\n",
    "numbers2 = list(range(100000))             # 100000 чисел в списке\n",
    "\n",
    "print(getsizeof(numbers1))\n",
    "print(getsizeof(numbers2))"
   ]
  },
  {
   "cell_type": "code",
   "execution_count": null,
   "metadata": {},
   "outputs": [
    {
     "ename": "",
     "evalue": "",
     "output_type": "error",
     "traceback": [
      "\u001b[1;31mCanceled future for execute_request message before replies were done"
     ]
    },
    {
     "ename": "",
     "evalue": "",
     "output_type": "error",
     "traceback": [
      "\u001b[1;31mПри выполнении кода в текущей ячейке или предыдущей ячейке ядро аварийно завершило работу. Проверьте код в ячейках, чтобы определить возможную причину сбоя. Щелкните <a href=\"https://aka.ms/vscodeJupyterKernelCrash\">здесь</a> для получения дополнительных сведений. Подробнее см. в <a href='command:jupyter.viewOutput'>журнале Jupyter</a>."
     ]
    }
   ],
   "source": [
    "# не каждый итератор можно прекратить в последовательность - не хватит памяти\n",
    "\n",
    "from sys import getsizeof\n",
    "\n",
    "# numbers3 = list(range(10000000000000))     # 10000000000000 чисел в списке\n",
    "\n",
    "# print(getsizeof(numbers3))"
   ]
  },
  {
   "attachments": {},
   "cell_type": "markdown",
   "metadata": {},
   "source": [
    "        Комбинация множества итераторов\n",
    "У итераторов есть замечательная особенность: их можно комбинировать. Это позволяет вместо огромных циклов с перемешанными этапами обработки писать небольшие блоки, которые стыкуются друг с другом."
   ]
  },
  {
   "cell_type": "code",
   "execution_count": 1,
   "metadata": {},
   "outputs": [
    {
     "name": "stdout",
     "output_type": "stream",
     "text": [
      "1. AMBIGUITY\n",
      "2. REFUSE\n",
      "3. TEMPTATION\n",
      "4. GUESS\n"
     ]
    }
   ],
   "source": [
    "sentence = 'In the face of ambiguity refuse the temptation to guess'\n",
    "\n",
    "filter_iterator = filter(lambda word: len(word) > 4, sentence.split())   # фильтруем\n",
    "map_iterator = map(lambda word: word.upper(), filter_iterator)           # преобразовываем\n",
    "enumerate_iterator = enumerate(map_iterator, 1)                          # нумеруем\n",
    "\n",
    "for index, value in enumerate_iterator:                                  # выводим\n",
    "    print(f'{index}. {value}')"
   ]
  },
  {
   "attachments": {},
   "cell_type": "markdown",
   "metadata": {},
   "source": [
    "Здесь нет списков, которые вынуждены бы были хранить в себе кучу данных.\n",
    "\n",
    "здесь есть только итераторы (map,filter, enumerate), которые не хранят в памяти данные, **А СОЗДАЮТ ИХ НА ЛЕТУ, ПРИ ПОПЫТКЕ ОБРАЩЕНИЯ К НИМ.**"
   ]
  },
  {
   "cell_type": "code",
   "execution_count": 6,
   "metadata": {},
   "outputs": [
    {
     "ename": "TypeError",
     "evalue": "object of type 'filter' has no len()",
     "output_type": "error",
     "traceback": [
      "\u001b[0;31m---------------------------------------------------------------------------\u001b[0m",
      "\u001b[0;31mTypeError\u001b[0m                                 Traceback (most recent call last)",
      "\u001b[1;32m/Users/tony_builder/Documents/GitHub/studying/Python_stepic_beegeek/python for professional/iterators.ipynb Ячейка 19\u001b[0m in \u001b[0;36m5\n\u001b[1;32m      <a href='vscode-notebook-cell:/Users/tony_builder/Documents/GitHub/studying/Python_stepic_beegeek/python%20for%20professional/iterators.ipynb#X21sZmlsZQ%3D%3D?line=0'>1</a>\u001b[0m numbers \u001b[39m=\u001b[39m [\u001b[39m1\u001b[39m, \u001b[39m2\u001b[39m, \u001b[39m3\u001b[39m, \u001b[39m4\u001b[39m, \u001b[39m5\u001b[39m, \u001b[39m6\u001b[39m]\n\u001b[1;32m      <a href='vscode-notebook-cell:/Users/tony_builder/Documents/GitHub/studying/Python_stepic_beegeek/python%20for%20professional/iterators.ipynb#X21sZmlsZQ%3D%3D?line=2'>3</a>\u001b[0m evens \u001b[39m=\u001b[39m \u001b[39mfilter\u001b[39m(\u001b[39mlambda\u001b[39;00m num: num \u001b[39m%\u001b[39m \u001b[39m2\u001b[39m \u001b[39m==\u001b[39m \u001b[39m0\u001b[39m, numbers)\n\u001b[0;32m----> <a href='vscode-notebook-cell:/Users/tony_builder/Documents/GitHub/studying/Python_stepic_beegeek/python%20for%20professional/iterators.ipynb#X21sZmlsZQ%3D%3D?line=4'>5</a>\u001b[0m \u001b[39mprint\u001b[39m(\u001b[39mlen\u001b[39;49m(evens))\n",
      "\u001b[0;31mTypeError\u001b[0m: object of type 'filter' has no len()"
     ]
    }
   ],
   "source": [
    "numbers = [1, 2, 3, 4, 5, 6]\n",
    "\n",
    "evens = filter(lambda num: num % 2 == 0, numbers)\n",
    "\n",
    "print(len(evens))"
   ]
  },
  {
   "attachments": {},
   "cell_type": "markdown",
   "metadata": {},
   "source": [
    "Встроенная функция len() не работает с большей частью итерируемых объектов, потому что их длина может быть очень большой или даже бесконечной.\n",
    "\n",
    "В случае с итерируемыми объектами, которые являются итераторами, посчитать длину можно только если полностью пройти итератор от начала до конца, что может быть очень долго. Для итераторов, про которые заранее неизвестно, бесконечные они или нет, функция len() могла бы работать не просто долго, а вечно. Именно поэтому функция len() не применима к итераторам."
   ]
  },
  {
   "cell_type": "code",
   "execution_count": 7,
   "metadata": {},
   "outputs": [
    {
     "name": "stdout",
     "output_type": "stream",
     "text": [
      "5\n",
      "100000\n",
      "10000000000000\n"
     ]
    }
   ],
   "source": [
    "# Для некоторых итерируемых объектов длину можно посчитать мгновенно, не перебирая элементы. \n",
    "# К таким объектам можно отнести числовые последовательности range.\n",
    "\n",
    "numbers1 = range(5)                  # 5 чисел в последовательности\n",
    "numbers2 = range(100000)             # 100000 чисел в последовательности\n",
    "numbers3 = range(10000000000000)     # 10000000000000 чисел в последовательности\n",
    "\n",
    "print(len(numbers1))\n",
    "print(len(numbers2))\n",
    "print(len(numbers3))"
   ]
  },
  {
   "attachments": {},
   "cell_type": "markdown",
   "metadata": {},
   "source": [
    "Примечание . Обратите внимание на то, что на основе одного списка (кортежа, строки, множества, словаря и т.д.) мы можем создавать множество несвязанных между собой итераторов. **КАЖДЫЙ ИЗ НИХ БУДЕТ НЕЗАВИСИМО ОТ ДРУГИХ ПЕРЕМЕЩАТЬСЯ ОТ НАЧАЛА ДО КОНЦА.**"
   ]
  },
  {
   "cell_type": "code",
   "execution_count": 8,
   "metadata": {},
   "outputs": [
    {
     "name": "stdout",
     "output_type": "stream",
     "text": [
      "[1, 2, 3, 4, 5, 6, 7, 8, 9]\n",
      "1\n",
      "2\n",
      "1\n",
      "1\n",
      "2\n",
      "3\n",
      "4\n",
      "5\n"
     ]
    }
   ],
   "source": [
    "numbers = list(range(1, 10))\n",
    "\n",
    "iterator1 = iter(numbers)\n",
    "iterator2 = iter(numbers)\n",
    "iterator3 = iter(numbers)\n",
    "\n",
    "print(numbers)\n",
    "\n",
    "print(next(iterator1))\n",
    "print(next(iterator1))\n",
    "\n",
    "print(next(iterator2))\n",
    "\n",
    "print(next(iterator3))\n",
    "print(next(iterator3))\n",
    "print(next(iterator3))\n",
    "print(next(iterator3))\n",
    "print(next(iterator3))"
   ]
  },
  {
   "attachments": {},
   "cell_type": "markdown",
   "metadata": {},
   "source": [
    "Получить последний элемент итератора"
   ]
  },
  {
   "cell_type": "code",
   "execution_count": 1,
   "metadata": {},
   "outputs": [
    {
     "name": "stdout",
     "output_type": "stream",
     "text": [
      "-22\n"
     ]
    }
   ],
   "source": [
    "numbers = [100, 70, 34, 45, 30, 83, 12, 83, -28, 49, -8, -2, 6, 62, 64, -22, -19, 61, 13, 5, 80, -17, 7, 3, 21, 73, 88, -11, 16, -22]\n",
    "\n",
    "num_iter = iter(numbers)\n",
    "\n",
    "while True:\n",
    "    try:\n",
    "        res = next(num_iter)\n",
    "    except:\n",
    "        print(res)\n",
    "        break"
   ]
  },
  {
   "cell_type": "code",
   "execution_count": 52,
   "metadata": {},
   "outputs": [
    {
     "name": "stdout",
     "output_type": "stream",
     "text": [
      "-22\n",
      "<class 'list'>\n"
     ]
    }
   ],
   "source": [
    "numbers = [100, 70, 34, 45, 30, 83, 12, 83, -28, 49, -8, -2, 6, 62, 64, -22, -19, 61, 13, 5, 80, -17, 7, 3, 21, 73, 88, -11, 16, -22]\n",
    "\n",
    "*_, last = iter(numbers)    # воспользоваться упаковкой неограниченного числа аргументов и сообщить, \n",
    "                            # что все они, кроме последнего будут храниться в переменной _ \n",
    "                            # а последний - в переменной last\n",
    "\n",
    "print(last)\n",
    "\n",
    "print(type(_))"
   ]
  },
  {
   "attachments": {},
   "cell_type": "markdown",
   "metadata": {},
   "source": [
    "Проход тела итератора циклом for  возможно только один раз - потому что внутри выполняется встроенная функция next , которая последовательно берет элементы, **ОПУСТОШАЯ** итератор"
   ]
  },
  {
   "cell_type": "code",
   "execution_count": 4,
   "metadata": {},
   "outputs": [
    {
     "name": "stdout",
     "output_type": "stream",
     "text": [
      "3\n",
      "6\n",
      "1\n",
      "90\n",
      "34\n",
      "25\n",
      "23\n",
      "21\n"
     ]
    }
   ],
   "source": [
    "numbers = [-3, 6, 1, -90, 34, -25, 23, -21]\n",
    "\n",
    "positive_numbers = map(abs, numbers)     # создаем объект итератора\n",
    "\n",
    "for num in positive_numbers:             # обходим итератор циклом for\n",
    "    print(num)\n",
    "\n",
    "for num in positive_numbers:             # обходим пустой итератор, тело цикла выполнено не будет\n",
    "    print(num)"
   ]
  },
  {
   "attachments": {},
   "cell_type": "markdown",
   "metadata": {},
   "source": [
    "### Преобразование в коллекцию\n",
    "то, что я и делал каждый раз\n",
    "\n",
    "но это занимает память"
   ]
  },
  {
   "cell_type": "code",
   "execution_count": 16,
   "metadata": {},
   "outputs": [
    {
     "name": "stdout",
     "output_type": "stream",
     "text": [
      "[3, 6, 1, 90, 34, 25, 23, 21]\n",
      "32\n",
      "104\n",
      "48\n",
      "120\n"
     ]
    }
   ],
   "source": [
    "numbers = [-3, 6, 1, -90, 34, -25, 23, -21]\n",
    "\n",
    "positive_numbers = map(abs, numbers)                 # создаем объект итератора\n",
    "positive_numbers_list = list(positive_numbers)       # преобразуем итератор в список\n",
    "\n",
    "print(positive_numbers_list)\n",
    "\n",
    "print(positive_numbers.__sizeof__())\n",
    "print(positive_numbers_list.__sizeof__())\n",
    "\n",
    "from sys import getsizeof\n",
    "print(getsizeof(positive_numbers))\n",
    "print(getsizeof(positive_numbers_list))"
   ]
  },
  {
   "attachments": {},
   "cell_type": "markdown",
   "metadata": {},
   "source": [
    "преобразовать итератор в коллекцию можно также один раз (потому что под капотом такое преобразование является циклом for , который пробегает по итератору, получая по одному значению за раз функцией next , забирая элементы в коллекцию)"
   ]
  },
  {
   "cell_type": "code",
   "execution_count": 8,
   "metadata": {},
   "outputs": [
    {
     "name": "stdout",
     "output_type": "stream",
     "text": [
      "[3, 6, 1, 90, 34, 25, 23, 21]\n",
      "[]\n"
     ]
    }
   ],
   "source": [
    "numbers = [-3, 6, 1, -90, 34, -25, 23, -21]\n",
    "\n",
    "positive_numbers = map(abs, numbers)                  # создаем объект итератора\n",
    "\n",
    "positive_numbers_list1 = list(positive_numbers)       # преобразуем итератор в список\n",
    "positive_numbers_list2 = list(positive_numbers)       # преобразуем пустой итератор в список\n",
    "\n",
    "print(positive_numbers_list1)\n",
    "print(positive_numbers_list2)"
   ]
  },
  {
   "attachments": {},
   "cell_type": "markdown",
   "metadata": {},
   "source": [
    "Оператор in "
   ]
  },
  {
   "cell_type": "code",
   "execution_count": 12,
   "metadata": {},
   "outputs": [
    {
     "name": "stdout",
     "output_type": "stream",
     "text": [
      "True\n",
      "True\n",
      "False\n"
     ]
    }
   ],
   "source": [
    "# работает так же - последовательно next до нахождения элемента в итераторе(или до его конца), затем break\n",
    "\n",
    "numbers = [4, 8, 15, 16, 23, 42]\n",
    "\n",
    "iterator = iter(numbers)              # создаем итератор на основе списка\n",
    "\n",
    "print(15 in iterator)\n",
    "print(16 in iterator)   # итерирование начнется с элемента, который следует за предыдущей итерацией\n",
    "\n",
    "print(4 in iterator)    # а вот число 4 стоит уже после последней итерации (после числа 16) - поэтому найти мы ничего не сможем"
   ]
  },
  {
   "attachments": {},
   "cell_type": "markdown",
   "metadata": {},
   "source": [
    "Распаковка итератора приводит к его полному опустошению (логика та же)"
   ]
  },
  {
   "cell_type": "code",
   "execution_count": 13,
   "metadata": {},
   "outputs": [
    {
     "name": "stdout",
     "output_type": "stream",
     "text": [
      "4 8 15 16 23 42\n",
      "[]\n"
     ]
    }
   ],
   "source": [
    "numbers = [4, 8, 15, 16, 23, 42]\n",
    "\n",
    "iterator = iter(numbers)              # создаем итератор на основе списка\n",
    "\n",
    "print(*iterator)\n",
    "print(list(iterator))           # вернет пустой список, созданный из опустошенного итератора"
   ]
  },
  {
   "attachments": {},
   "cell_type": "markdown",
   "metadata": {},
   "source": [
    "Интересный факт о создании коллекций на основе зависимых итераторов:"
   ]
  },
  {
   "cell_type": "code",
   "execution_count": 14,
   "metadata": {},
   "outputs": [
    {
     "name": "stdout",
     "output_type": "stream",
     "text": [
      "[-2, -1, 1, 2]\n",
      "[]\n"
     ]
    }
   ],
   "source": [
    "non_zero = filter(None, [-2, -1, 0, 1, 2])      # создаем итератор  \n",
    "positive = map(abs, non_zero)                   # на его основе создаем итератор\n",
    "\n",
    "# оба этих итератора ничего в себе не хранят! \n",
    "# они создают элементы на лету, когда их попросят\n",
    "\n",
    "print(list(non_zero))   # попросили - создали лист на основе первого итератора и ОПУСТОШИЛИ его тем самым\n",
    "\n",
    "print(list(positive))   # ок, хотим создать лист на основе второго итератора, которые создается на основе первого\n",
    "                        # но первый уже пуст! - так что второй итератор тоже пустой, поэтому и список будет пустым"
   ]
  },
  {
   "cell_type": "code",
   "execution_count": 15,
   "metadata": {},
   "outputs": [
    {
     "name": "stdout",
     "output_type": "stream",
     "text": [
      "[2, 1, 1, 2]\n",
      "[]\n"
     ]
    }
   ],
   "source": [
    "# в обратную сторону создания логика работает так же!\n",
    "\n",
    "non_zero = filter(None, [-2, -1, 0, 1, 2])      # создали итератор 1\n",
    "positive = map(abs, non_zero)                   # создали итератор2 на основе итератора 1\n",
    "\n",
    "print(list(positive))       # создали список на основе итератора 2, созданного на основе итератора 1 (опустошили ОБА!!!)\n",
    "print(list(non_zero))       # все, тут пустой итератор, поэтому пустой список"
   ]
  },
  {
   "attachments": {},
   "cell_type": "markdown",
   "metadata": {},
   "source": [
    "### Функция map()\n",
    "Функция map(function, *iterable) применяет пользовательскую функцию function к каждому элементу итерируемого объекта iterable. Каждый элемент iterable отправляется в функцию function в качестве аргумента.\n",
    "\n",
    "Возвращаемое значение: функция map() возвращает итератор типа <class 'map'>.\n",
    "\n",
    "Примечание: если в функцию map() передаётся несколько итерируемых объектов iterable, то пользовательская функция function должна принимать количество аргументов, соответствующее количеству переданных итерируемых объектов, при этом function будет применяться к элементам из всех итераций параллельно."
   ]
  },
  {
   "cell_type": "code",
   "execution_count": 17,
   "metadata": {},
   "outputs": [
    {
     "name": "stdout",
     "output_type": "stream",
     "text": [
      "Тип итератора squares: <class 'map'>, размер: 48\n",
      "Тип итератора capitals: <class 'map'>, размер: 48\n",
      "1 4 9 16 25 36 49 64 81 100\n",
      "B E E G E E K\n"
     ]
    }
   ],
   "source": [
    "# размер итератора map всегда равен 48 байтам\n",
    "\n",
    "from sys import getsizeof\n",
    "\n",
    "numbers = [1, 2, 3, 4, 5, 6, 7, 8, 9, 10]\n",
    "letters = 'beegeek'\n",
    "\n",
    "squares = map(lambda num: num ** 2, numbers)\n",
    "capitals = map(str.upper, letters)\n",
    "\n",
    "print(f'Тип итератора squares: {type(squares)}, размер: {getsizeof(squares)}')\n",
    "print(f'Тип итератора capitals: {type(capitals)}, размер: {getsizeof(capitals)}')\n",
    "\n",
    "print(*squares, sep=' ')\n",
    "print(*capitals, sep=' ')"
   ]
  },
  {
   "attachments": {},
   "cell_type": "markdown",
   "metadata": {},
   "source": [
    "### Функция filter()\n",
    "Функция filter(function, iterable) фильтрует (отбирает) элементы переданного итерируемого объекта iterable при помощи пользовательской функции function. Если фильтрующая функция function вернёт True, то элемент из итерируемого объекта iterable попадёт в результат выполнения функции filter(), если False — не попадёт.\n",
    "\n",
    "Возвращаемое значение: функция filter() возвращает итератор типа <class 'filter'>.\n",
    "\n",
    "Примечание: Если function=None, то в результат выполнения функции filter() попадут те элементы, которые при переводе в логический тип имеют значение True.\n",
    "\n",
    "Преимущества использования: функция filter() написана на языке C и хорошо оптимизирована, ее внутренний цикл более эффективный, чем обычный цикл for в Python. Функция filter() потребляет мало памяти, так как возвращает итератор, элементы которого извлекаются по запросу."
   ]
  },
  {
   "cell_type": "code",
   "execution_count": 18,
   "metadata": {},
   "outputs": [
    {
     "name": "stdout",
     "output_type": "stream",
     "text": [
      "Тип итератора positive_numbers: <class 'filter'>, размер: 48\n",
      "Тип итератора not_nulls: <class 'filter'>, размер: 48\n",
      "45 4 89 43 1234 112 999 777\n",
      "a 45 True 69.69 -1 empty\n"
     ]
    }
   ],
   "source": [
    "# размер итератора filter всегда равен 48 байтам\n",
    "\n",
    "from sys import getsizeof\n",
    "\n",
    "numbers = [45, -90, -21, 4, 89, 43, 1234, 112, 999, 777, -765, -666]\n",
    "objects = ('a', None, 45, True, 69.69, False, -1, 0, 'empty', '')\n",
    "\n",
    "positive_numbers = filter(lambda num: num > 0, numbers)\n",
    "not_nulls = filter(None, objects)\n",
    "\n",
    "print(f'Тип итератора positive_numbers: {type(positive_numbers)}, размер: {getsizeof(positive_numbers)}')\n",
    "print(f'Тип итератора not_nulls: {type(not_nulls)}, размер: {getsizeof(not_nulls)}')\n",
    "\n",
    "print(*positive_numbers, sep=' ')\n",
    "print(*not_nulls, sep=' ')"
   ]
  },
  {
   "attachments": {},
   "cell_type": "markdown",
   "metadata": {},
   "source": [
    "### Функция enumerate()\n",
    "Функция enumerate(iterable, start=0) нумерует элементы итерируемого объекта iterable, начиная со значения start.\n",
    "\n",
    "Возвращаемое значение: функция enumerate() возвращает итератор типа <class 'enumerate'>, содержащий кортежи вида (счётчик, элемент).\n",
    "\n",
    "Примечание: по умолчанию нумерация начинается с нуля.\n",
    "\n",
    "Преимущества использования: функция enumerate() потребляет мало памяти, так как возвращает итератор, элементы которого извлекаются по запросу.\n",
    "\n"
   ]
  },
  {
   "cell_type": "code",
   "execution_count": 19,
   "metadata": {},
   "outputs": [
    {
     "name": "stdout",
     "output_type": "stream",
     "text": [
      "Тип итератора numbered_seasons: <class 'enumerate'>, размер: 64\n",
      "Тип итератора numbered_letters: <class 'enumerate'>, размер: 64\n",
      "(0, 'Spring') (1, 'Summer') (2, 'Fall') (3, 'Winter')\n",
      "(1, 'b') (2, 'e') (3, 'e') (4, 'g') (5, 'e') (6, 'e') (7, 'k')\n"
     ]
    }
   ],
   "source": [
    "# итератор enumeratу всегда по размеру оставляет 64 байта\n",
    "\n",
    "from sys import getsizeof\n",
    "\n",
    "seasons = ['Spring', 'Summer', 'Fall', 'Winter']\n",
    "letters = 'beegeek'\n",
    "\n",
    "numbered_seasons = enumerate(seasons)\n",
    "numbered_letters = enumerate(letters, start=1)\n",
    "\n",
    "print(f'Тип итератора numbered_seasons: {type(numbered_seasons)}, размер: {getsizeof(numbered_seasons)}')\n",
    "print(f'Тип итератора numbered_letters: {type(numbered_letters)}, размер: {getsizeof(numbered_letters)}')\n",
    "\n",
    "print(*numbered_seasons, sep=' ')\n",
    "print(*numbered_letters, sep=' ')"
   ]
  },
  {
   "attachments": {},
   "cell_type": "markdown",
   "metadata": {},
   "source": [
    "### Функция zip()\n",
    "Функция zip(*iterables, strict=False) объединяет элементы каждого из переданных итерируемых объектов *iterables.\n",
    "\n",
    "Возвращаемое значение: функция zip() возвращает итератор типа <class 'zip'>, содержащий кортежи, где \n",
    "�\n",
    "i-й кортеж содержит \n",
    "�\n",
    "i-й элемент из каждого итерируемого объекта.\n",
    "\n",
    "Примечание: по умолчанию значение аргумента strict=False, то есть функция zip() останавливается, когда исчерпывается самый короткий итерируемый объект. Если установить значение strict=True, то функция zip() проверяет длины итерируемых объектов, вызывая ошибку ValueError, если они не совпадают. C одним итерируемым аргументом функция zip() возвращает итератор из кортежей с одним элементом, без аргументов функция возвращает пустой итератор."
   ]
  },
  {
   "cell_type": "code",
   "execution_count": 20,
   "metadata": {},
   "outputs": [
    {
     "name": "stdout",
     "output_type": "stream",
     "text": [
      "Тип итератора zip_iterator1: <class 'zip'>, размер: 64\n",
      "Тип итератора zip_iterator2: <class 'zip'>, размер: 64\n",
      "('Python', 1991) ('C#', 2000) ('C', 1972) ('Delphi', 1986)\n",
      "('Python', 1991, 'Guido van Rossum') ('C#', 2000, 'Anders Hejlsberg') ('C', 1972, 'Dennis MacAlistair Ritchie') ('Delphi', 1986, 'Anders Hejlsberg')\n"
     ]
    }
   ],
   "source": [
    "# размер итератора zip всегда составляет 64 байта\n",
    "\n",
    "from sys import getsizeof\n",
    "\n",
    "languages = ['Python', 'C#', 'C', 'Delphi'] \n",
    "years = [1991, 2000, 1972, 1986]\n",
    "authors = ('Guido van Rossum', 'Anders Hejlsberg', 'Dennis MacAlistair Ritchie', 'Anders Hejlsberg')\n",
    "\n",
    "zip_iterator1 = zip(languages, years)\n",
    "zip_iterator2 = zip(languages, years, authors)\n",
    "\n",
    "print(f'Тип итератора zip_iterator1: {type(zip_iterator1)}, размер: {getsizeof(zip_iterator1)}')\n",
    "print(f'Тип итератора zip_iterator2: {type(zip_iterator2)}, размер: {getsizeof(zip_iterator2)}')\n",
    "\n",
    "print(*zip_iterator1, sep=' ')\n",
    "print(*zip_iterator2, sep=' ')"
   ]
  },
  {
   "attachments": {},
   "cell_type": "markdown",
   "metadata": {},
   "source": [
    "### Функция reversed()\n",
    "Функция reversed(seq) перебирает элементы итерируемого объекта seq в обратном порядке.\n",
    "\n",
    "Возвращаемое значение: функция reversed() возвращает итератор, содержащий элементы итерируемого объекта в обратном порядке.\n",
    "\n",
    "Примечание 1: итерируемый объект, передаваемый в функцию reversed(), должен являться последовательностью.\n",
    "\n",
    "Примечание 2: функция reversed() не создает копию и не изменяет оригинал исходного итерируемого объекта.\n",
    "\n",
    "Преимущества использования: функция reversed() потребляет мало памяти, так как возвращает ленивый итератор элементы которого извлекаются по запросу."
   ]
  },
  {
   "cell_type": "code",
   "execution_count": 21,
   "metadata": {},
   "outputs": [
    {
     "name": "stdout",
     "output_type": "stream",
     "text": [
      "Тип итератора backward_years: <class 'list_reverseiterator'>, размер: 48\n",
      "Тип итератора backward_letters: <class 'reversed'>, размер: 48\n",
      "1986 1972 2000 1991\n",
      "k e e g e e b\n"
     ]
    }
   ],
   "source": [
    "# размер итератора reversed всегда составляет 48 байт\n",
    "\n",
    "from sys import getsizeof\n",
    "\n",
    "years = [1991, 2000, 1972, 1986]\n",
    "letters = 'beegeek'\n",
    "\n",
    "backward_years = reversed(years)\n",
    "backward_letters = reversed(letters)\n",
    "\n",
    "print(f'Тип итератора backward_years: {type(backward_years)}, размер: {getsizeof(backward_years)}')\n",
    "print(f'Тип итератора backward_letters: {type(backward_letters)}, размер: {getsizeof(backward_letters)}')\n",
    "\n",
    "print(*backward_years, sep=' ')\n",
    "print(*backward_letters, sep=' ')"
   ]
  },
  {
   "attachments": {},
   "cell_type": "markdown",
   "metadata": {},
   "source": [
    "**Примечание 1**. Встроенные функции max() и min() также умеют работать с любыми итерируемыми объектами, включая итераторы.\n",
    "\n",
    "нужно быть очень аккуратным при использовании итераторов в функциях max() и min(). Дело в том, что для поиска максимального и минимального значения функции должны полностью обойти итератор. А значит, после их применения итераторы становятся пустыми."
   ]
  },
  {
   "cell_type": "code",
   "execution_count": 22,
   "metadata": {},
   "outputs": [
    {
     "name": "stdout",
     "output_type": "stream",
     "text": [
      "100\n",
      "1\n",
      "[]\n",
      "[]\n"
     ]
    }
   ],
   "source": [
    "numbers = [1, 2, 3, 4, 5, 6, 7, 8, 9, 10]\n",
    "\n",
    "squares = map(lambda num: num ** 2, numbers)\n",
    "cubes = map(lambda num: num ** 3, numbers)\n",
    "\n",
    "print(max(squares))     # опустошают итератор\n",
    "print(min(cubes))       # опустошают итератор\n",
    "\n",
    "print(list(squares))\n",
    "print(list(cubes))"
   ]
  },
  {
   "attachments": {},
   "cell_type": "markdown",
   "metadata": {},
   "source": [
    "**Примечание 2**. Встроенные функции all() и any() также умеют работать с любыми итерируемыми объектами, включая итераторы.\n",
    "\n",
    "**Примечание 3**. Функция reduce() из модуля functools также работает с любыми итерируемым объектам, включая итераторы. Функция reduce() обычно завершает цепочку итераторов и возвращает итоговый результат.\n",
    "\n",
    "**Примечание 4**. Важно знать особенность встроенной функции sorted(). Такая функция принимает в качестве аргумента любой итерируемый объект, а возвращает отсортированный список, состоящий из элементов итерируемого объекта. Именно список, а не итератор. Таким образом функция sorted() работает не лениво, а записывает все данные из итерируемого объекта в память компьютера.\n",
    "\n",
    "**Примечание 5**. Встроенная функция open(), открывающая файл, также возвращает итератор, который позволяет обойти содержимое файла, не загружая его целиком в память.\n",
    "\n",
    "**Примечание 6**. Использование итераторов приводит к выигрышу с точки зрения потребляемой памяти. Однако при этом скорость программы замедляется."
   ]
  },
  {
   "attachments": {},
   "cell_type": "markdown",
   "metadata": {},
   "source": [
    "        Итераторы - выиграй в памяти, проиграй в скорости "
   ]
  },
  {
   "cell_type": "code",
   "execution_count": 24,
   "metadata": {},
   "outputs": [
    {
     "name": "stdout",
     "output_type": "stream",
     "text": [
      "Размер 1-го итератора 48\n",
      "Размер 2-го итератора 48\n",
      "--- 0.0007538795471191406 seconds ---\n",
      "--- 0.00011277198791503906 seconds ---\n",
      "[1, 12, 132, 234, 22, 83, 34, 243, 0, 45, 9894]\n",
      "[1, 12, 132, 234, 22, 83, 34, 243, 0, 45, 9894]\n",
      "Размер результата через итераторы 184 \n",
      "Размер результата через списочные выражения 184 \n"
     ]
    }
   ],
   "source": [
    "from sys import getsizeof\n",
    "\n",
    "smth = [-1,12,132, -234, 22,83, 34, -243, 0, 45, 9894, 1.3, -0.12]\n",
    "\n",
    "import time\n",
    "\n",
    "start_time = time.time()\n",
    "only_int = filter(lambda x: isinstance(x,int), smth)\n",
    "make_positive = map(abs, only_int)\n",
    "\n",
    "print(f'Размер 1-го итератора {getsizeof(only_int)}')\n",
    "print(f'Размер 2-го итератора {getsizeof(make_positive)}')\n",
    "result_iter = list(make_positive)\n",
    "print(\"--- %s seconds ---\" % (time.time() - start_time))\n",
    "\n",
    "start_time = time.time()\n",
    "result_list_comprehension = [abs(num) for num in smth if isinstance(num, int)]\n",
    "print(\"--- %s seconds ---\" % (time.time() - start_time))\n",
    "\n",
    "print(result_iter)\n",
    "print(result_list_comprehension)\n",
    "\n",
    "print(f'Размер результата через итераторы {getsizeof(result_iter)} ')\n",
    "\n",
    "print(f'Размер результата через списочные выражения {getsizeof(result_list_comprehension)} ')"
   ]
  },
  {
   "cell_type": "code",
   "execution_count": 26,
   "metadata": {},
   "outputs": [
    {
     "data": {
      "text/plain": [
       "6.6849894291754755"
      ]
     },
     "execution_count": 26,
     "metadata": {},
     "output_type": "execute_result"
    }
   ],
   "source": [
    "0.0007538795471191406 / 0.00011277198791503906"
   ]
  },
  {
   "attachments": {},
   "cell_type": "markdown",
   "metadata": {},
   "source": [
    "        Функция filterfalse()\n",
    "        Реализуйте функцию filterfalse() с использованием функции filter(), которая принимает два аргумента:\n",
    "\n",
    "        predicate — функция-предикат; если имеет значение None, то работает аналогично функции bool()\n",
    "        iterable — итерируемый объект\n",
    "        Функция должна работать противоположно функции filter(), то есть возвращать итератор, элементами которого являются элементы итерируемого объекта iterable, для которых функция predicate вернула значение False.\n",
    "\n",
    "        Примечание 1. Предикат — это функция, которая возвращает True или False в зависимости от переданного в качестве аргумента значения.\n",
    "\n",
    "        Примечание 2. Элементы итерируемого объекта в возвращаемом функцией итераторе должны располагаться в своем исходном порядке.\n",
    "\n",
    "        Примечание 3. Гарантируется, что итерируемый объект, передаваемый в функцию, не является множеством."
   ]
  },
  {
   "cell_type": "code",
   "execution_count": 37,
   "metadata": {},
   "outputs": [
    {
     "name": "stdout",
     "output_type": "stream",
     "text": [
      "1 3 5\n",
      "0 False []\n"
     ]
    }
   ],
   "source": [
    "def filterfalse(predicate, iterable):\n",
    "    def temp(x):\n",
    "        if predicate == None: return not bool(x)\n",
    "        else: return not predicate(x)\n",
    "    return filter( lambda x: temp(x), iterable)\n",
    "\n",
    "numbers = (1, 2, 3, 4, 5)\n",
    "print(*filterfalse(lambda x: x % 2 == 0, numbers))\n",
    "\n",
    "objects = [0, 1, True, False, 17, []]\n",
    "print(*filterfalse(None, objects))"
   ]
  },
  {
   "cell_type": "code",
   "execution_count": 38,
   "metadata": {},
   "outputs": [
    {
     "name": "stdout",
     "output_type": "stream",
     "text": [
      "0 False []\n"
     ]
    }
   ],
   "source": [
    "# так лучше\n",
    "def filterfalse(func, iterable):\n",
    "    if func is None:\n",
    "        func = bool\n",
    "    return filter(lambda elem: not func(elem), iterable)\n",
    "\n",
    "objects = [0, 1, True, False, 17, []]\n",
    "print(*filterfalse(None, objects))"
   ]
  },
  {
   "attachments": {},
   "cell_type": "markdown",
   "metadata": {},
   "source": [
    "        Реализовать функцию transpose() с использованием функции zip(), которая принимает один аргумент:\n",
    "\n",
    "        matrix — матрица произвольной размерности\n",
    "        Функция должна возвращать транспонированную матрицу matrix."
   ]
  },
  {
   "cell_type": "code",
   "execution_count": 39,
   "metadata": {},
   "outputs": [
    {
     "name": "stdout",
     "output_type": "stream",
     "text": [
      "1   2   3   \n",
      "4   5   6   \n",
      "7   8   9   \n",
      "10  11  12  \n"
     ]
    }
   ],
   "source": [
    "# распечатать ЛЮБУЮ матрицу \n",
    "def print_matrix(matrix, width):\n",
    "    n=len(matrix)\n",
    "    m=len(matrix[0])\n",
    "    for r in range(n):\n",
    "        for c in range(m):\n",
    "            print(str(matrix[r][c]).ljust(width), end=' ')\n",
    "        print()\n",
    "\n",
    "x = [[1,2,3],[4,5,6],[7,8,9],[10,11,12]]\n",
    "\n",
    "print_matrix(x,3)"
   ]
  },
  {
   "cell_type": "code",
   "execution_count": 42,
   "metadata": {},
   "outputs": [
    {
     "name": "stdout",
     "output_type": "stream",
     "text": [
      "1   4   7   10  \n",
      "2   5   8   11  \n",
      "3   6   9   12  \n"
     ]
    }
   ],
   "source": [
    "def transpose(matrix):\n",
    "    transpose_matrix = list(map(list, zip(*matrix)))\n",
    "    return transpose_matrix\n",
    "\n",
    "x = [[1,2,3],[4,5,6],[7,8,9],[10,11,12]]\n",
    "\n",
    "print_matrix(transpose(x),3)"
   ]
  },
  {
   "attachments": {},
   "cell_type": "markdown",
   "metadata": {},
   "source": [
    "        Функция get_min_max() 😎\n",
    "        Реализуйте функцию get_min_max(), которая принимает один аргумент:\n",
    "\n",
    "        data — список произвольных объектов, сравнимых между собой\n",
    "        Функция должна возвращать кортеж, в котором первым элементом является индекс минимального элемента в списке data, вторым — индекс максимального элемента в списке data. Если список data пуст, функция должна вернуть значение None.\n",
    "\n",
    "        Примечание 1. Если минимальных / максимальных элементов несколько, следует вернуть индексы первого по порядку элемента."
   ]
  },
  {
   "cell_type": "code",
   "execution_count": 49,
   "metadata": {},
   "outputs": [],
   "source": [
    "def get_min_max(data):\n",
    "    if data == []: return None\n",
    "    iter1 = enumerate(data)\n",
    "    iter2 = enumerate(data)\n",
    "    return (min(iter1, key= lambda x: x[1])[0], max(iter2, key= lambda x: x[1])[0])"
   ]
  },
  {
   "cell_type": "code",
   "execution_count": 50,
   "metadata": {},
   "outputs": [
    {
     "data": {
      "text/plain": [
       "(0, 5)"
      ]
     },
     "execution_count": 50,
     "metadata": {},
     "output_type": "execute_result"
    }
   ],
   "source": [
    "get_min_max([1,2,3,4,5,9,6,7,8,9,1])"
   ]
  },
  {
   "cell_type": "code",
   "execution_count": 53,
   "metadata": {},
   "outputs": [],
   "source": [
    "get_min_max([])"
   ]
  },
  {
   "attachments": {},
   "cell_type": "markdown",
   "metadata": {},
   "source": [
    "        Функция get_min_max() 😳\n",
    "        Реализуйте функцию get_min_max(), которая принимает один аргумент:\n",
    "\n",
    "        iterable — итерируемый объект, элементы которого сравнимы между собой\n",
    "        Функция должна возвращать кортеж, в котором первым элементом является минимальный элемент итерируемого объекта iterable, вторым — максимальный элемент итерируемого объекта iterable. Если итерируемый объект iterable пуст, функция должна вернуть значение None."
   ]
  },
  {
   "cell_type": "code",
   "execution_count": 38,
   "metadata": {},
   "outputs": [],
   "source": [
    "def get_min_max(iterable):\n",
    "    try:\n",
    "        min_iter = next(iterable)\n",
    "        max_iter = min_iter\n",
    "        for el in iterable:\n",
    "            if el> max_iter: max_iter= el\n",
    "            elif el< min_iter: min_iter = el\n",
    "        return (min_iter, max_iter)\n",
    "\n",
    "    except TypeError:\n",
    "        if iterable:\n",
    "            return min(list(iterable)), max(list(iterable))\n",
    "\n",
    "    except StopIteration:\n",
    "        return None"
   ]
  },
  {
   "cell_type": "code",
   "execution_count": 3,
   "metadata": {},
   "outputs": [
    {
     "name": "stdout",
     "output_type": "stream",
     "text": [
      "0 0\n"
     ]
    }
   ],
   "source": [
    "iterable = iter(range(10))\n",
    "min_iter = next(iterable)\n",
    "max_iter = min_iter\n",
    "\n",
    "print(min_iter, max_iter)"
   ]
  },
  {
   "cell_type": "code",
   "execution_count": 39,
   "metadata": {},
   "outputs": [
    {
     "name": "stdout",
     "output_type": "stream",
     "text": [
      "None\n"
     ]
    }
   ],
   "source": [
    "iterable = []\n",
    "\n",
    "print(get_min_max(iterable))"
   ]
  },
  {
   "cell_type": "code",
   "execution_count": 40,
   "metadata": {},
   "outputs": [
    {
     "name": "stdout",
     "output_type": "stream",
     "text": [
      "(1, 33)\n"
     ]
    }
   ],
   "source": [
    "iterable = [6, 4, 2, 33, 19, 1]\n",
    "\n",
    "print(get_min_max(iterable))"
   ]
  },
  {
   "cell_type": "code",
   "execution_count": 32,
   "metadata": {},
   "outputs": [
    {
     "name": "stdout",
     "output_type": "stream",
     "text": [
      "(0, 9)\n"
     ]
    }
   ],
   "source": [
    "iterable = iter(range(10))\n",
    "\n",
    "\n",
    "print(get_min_max(iterable))"
   ]
  },
  {
   "cell_type": "code",
   "execution_count": 33,
   "metadata": {},
   "outputs": [
    {
     "name": "stdout",
     "output_type": "stream",
     "text": [
      "None\n"
     ]
    }
   ],
   "source": [
    "iterable = iter([])\n",
    "\n",
    "print(get_min_max(iterable))"
   ]
  },
  {
   "cell_type": "code",
   "execution_count": 34,
   "metadata": {},
   "outputs": [
    {
     "name": "stdout",
     "output_type": "stream",
     "text": [
      "(9, 9)\n"
     ]
    }
   ],
   "source": [
    "data = iter((9, 9, 9, 9, 9))\n",
    "\n",
    "\n",
    "print(get_min_max(data))"
   ]
  },
  {
   "cell_type": "code",
   "execution_count": 35,
   "metadata": {},
   "outputs": [
    {
     "name": "stdout",
     "output_type": "stream",
     "text": [
      "('a', 'cbc')\n"
     ]
    }
   ],
   "source": [
    "data = iter(['a', 'b', 'c', 'aaa', 'abc', 'cbc', 'bbb'])\n",
    "\n",
    "\n",
    "print(get_min_max(data))"
   ]
  },
  {
   "cell_type": "code",
   "execution_count": 25,
   "metadata": {},
   "outputs": [
    {
     "name": "stdout",
     "output_type": "stream",
     "text": [
      "('bbb', 'bbb')\n"
     ]
    }
   ],
   "source": [
    "data = iter(['bbb'])\n",
    "\n",
    "print(get_min_max(data))"
   ]
  },
  {
   "cell_type": "code",
   "execution_count": 26,
   "metadata": {},
   "outputs": [
    {
     "name": "stdout",
     "output_type": "stream",
     "text": [
      "(0, 99999999)\n"
     ]
    }
   ],
   "source": [
    "data = iter(range(100_000_000))\n",
    "\n",
    "print(get_min_max(data))"
   ]
  },
  {
   "attachments": {},
   "cell_type": "markdown",
   "metadata": {},
   "source": [
    "        Функция starmap()\n",
    "        Как известно, функция map() принимает функцию и итерируемый объект и возвращает итератор, элементами которого являются элементы итерируемого объекта, к которым была применена переданная функция. Нередко элементами итерируемого объекта являются коллекции (списки, кортежи, ..), тогда внутри переданной функции нам приходится обращаться к каждому элементу этих коллекций по индексу. Например:\n",
    "\n",
    "        persons = [('Timur', 'Guev'), ('Arthur', 'Kharisov')]\n",
    "\n",
    "        full_names = map(lambda tup: tup[0] + ' ' + tup[1], persons)\n",
    "        Было бы удобно иметь функцию, назовем ее starmap(), которая бы принимала функцию не с одним аргументом, а с несколькими — каждым элементом коллекции:\n",
    "\n",
    "        persons = [('Timur', 'Guev'), ('Arthur', 'Kharisov')]\n",
    "\n",
    "        full_names = starmap(lambda name, surname: f'{name} {surname}', persons)\n",
    "        Реализуйте функцию starmap() с использованием функции map(), которая принимает два аргумента:\n",
    "\n",
    "        func — функция\n",
    "        iterable — итерируемый объект, элементами которого являются коллекции\n",
    "        Функция starmap() должна работать аналогично функции map(), то есть возвращать итератор, элементами которого являются элементы итерируемого объекта iterable, к которым была применена функция func, с единственным отличием: func должна принимать не один аргумент — коллекцию (элемент iterable), а каждый элемент этой коллекции в качестве самостоятельного аргумента."
   ]
  },
  {
   "cell_type": "code",
   "execution_count": 69,
   "metadata": {},
   "outputs": [
    {
     "name": "stdout",
     "output_type": "stream",
     "text": [
      "4 7 10\n"
     ]
    }
   ],
   "source": [
    "def starmap(func, iterable_obj):\n",
    "    return map(lambda el: func(*el), iterable_obj)\n",
    "\n",
    "pairs = [(1, 3), (2, 5), (6, 4)]\n",
    "print(*starmap(lambda a, b: a + b, pairs))"
   ]
  },
  {
   "cell_type": "code",
   "execution_count": 70,
   "metadata": {},
   "outputs": [
    {
     "name": "stdout",
     "output_type": "stream",
     "text": [
      "1 2 12\n"
     ]
    }
   ],
   "source": [
    "points = [(1, 1, 1), (1, 1, 2), (2, 2, 3)]\n",
    "\n",
    "print(*starmap(lambda x, y, z: x * y * z, points))"
   ]
  },
  {
   "attachments": {},
   "cell_type": "markdown",
   "metadata": {},
   "source": [
    "### Магические методы "
   ]
  },
  {
   "attachments": {},
   "cell_type": "markdown",
   "metadata": {},
   "source": [
    "Посмотреть список всех методов и атрибутов Python объекта можно с помощью встроенной функции dir()"
   ]
  },
  {
   "cell_type": "code",
   "execution_count": 75,
   "metadata": {},
   "outputs": [
    {
     "name": "stdout",
     "output_type": "stream",
     "text": [
      "<class 'str'>\n",
      "['hello', 'beegeek', 'python']\n",
      "['__add__', '__class__', '__contains__', '__delattr__', '__dir__', '__doc__', '__eq__', '__format__', '__ge__', '__getattribute__', '__getitem__', '__getnewargs__', '__gt__', '__hash__', '__init__', '__init_subclass__', '__iter__', '__le__', '__len__', '__lt__', '__mod__', '__mul__', '__ne__', '__new__', '__reduce__', '__reduce_ex__', '__repr__', '__rmod__', '__rmul__', '__setattr__', '__sizeof__', '__str__', '__subclasshook__', 'capitalize', 'casefold', 'center', 'count', 'encode', 'endswith', 'expandtabs', 'find', 'format', 'format_map', 'index', 'isalnum', 'isalpha', 'isascii', 'isdecimal', 'isdigit', 'isidentifier', 'islower', 'isnumeric', 'isprintable', 'isspace', 'istitle', 'isupper', 'join', 'ljust', 'lower', 'lstrip', 'maketrans', 'partition', 'removeprefix', 'removesuffix', 'replace', 'rfind', 'rindex', 'rjust', 'rpartition', 'rsplit', 'rstrip', 'split', 'splitlines', 'startswith', 'strip', 'swapcase', 'title', 'translate', 'upper', 'zfill']\n",
      "\n",
      "['__add__', '__class__', '__class_getitem__', '__contains__', '__delattr__', '__delitem__', '__dir__', '__doc__', '__eq__', '__format__', '__ge__', '__getattribute__', '__getitem__', '__gt__', '__hash__', '__iadd__', '__imul__', '__init__', '__init_subclass__', '__iter__', '__le__', '__len__', '__lt__', '__mul__', '__ne__', '__new__', '__reduce__', '__reduce_ex__', '__repr__', '__reversed__', '__rmul__', '__setattr__', '__setitem__', '__sizeof__', '__str__', '__subclasshook__', 'append', 'clear', 'copy', 'count', 'extend', 'index', 'insert', 'pop', 'remove', 'reverse', 'sort']\n"
     ]
    }
   ],
   "source": [
    "elem = str( ['hello', 'beegeek', 'python'])\n",
    "\n",
    "print(type(elem))\n",
    "\n",
    "print(elem)\n",
    "\n",
    "print(dir(elem))\n",
    "print()\n",
    "\n",
    "print(dir(['hello', 'beegeek', 'python']))"
   ]
  },
  {
   "attachments": {},
   "cell_type": "markdown",
   "metadata": {},
   "source": [
    "### Протокол итерируемых объектов и итераторов\n",
    "У всех итерируемых объектов есть магический метод __iter__(), который преобразует итерируемый объект в итератор. Встроенная функция iter() вызывает за кулисами именно этот магический метод."
   ]
  },
  {
   "cell_type": "code",
   "execution_count": 76,
   "metadata": {},
   "outputs": [
    {
     "name": "stdout",
     "output_type": "stream",
     "text": [
      "<class 'list'>\n",
      "<class 'list_iterator'>\n"
     ]
    }
   ],
   "source": [
    "words = ['hello', 'beegeek', 'python']\n",
    "\n",
    "iterator = iter(words)      # за кулисами вызывается метод words.__iter__()\n",
    "\n",
    "print(type(words))\n",
    "print(type(iterator))"
   ]
  },
  {
   "cell_type": "code",
   "execution_count": 79,
   "metadata": {},
   "outputs": [
    {
     "name": "stdout",
     "output_type": "stream",
     "text": [
      "<class 'list_iterator'>\n"
     ]
    }
   ],
   "source": [
    "print(words.__iter__().__class__)"
   ]
  },
  {
   "attachments": {},
   "cell_type": "markdown",
   "metadata": {},
   "source": [
    "У всех итераторов есть магический метод __next__(), который обеспечивает выдачу очередного элемента. Встроенная функция next() вызывает за кулисами именно этот магический метод. "
   ]
  },
  {
   "cell_type": "code",
   "execution_count": 80,
   "metadata": {},
   "outputs": [
    {
     "name": "stdout",
     "output_type": "stream",
     "text": [
      "hello\n",
      "beegeek\n"
     ]
    }
   ],
   "source": [
    "words = ['hello', 'beegeek', 'python']\n",
    "\n",
    "iterator = iter(words)      # за кулисами вызывается метод words.__iter__()\n",
    "\n",
    "print(next(iterator))       # за кулисами вызывается метод iterator.__next__()\n",
    "print(next(iterator))       # за кулисами вызывается метод iterator.__next__()"
   ]
  },
  {
   "cell_type": "code",
   "execution_count": 81,
   "metadata": {},
   "outputs": [
    {
     "data": {
      "text/plain": [
       "'hello'"
      ]
     },
     "execution_count": 81,
     "metadata": {},
     "output_type": "execute_result"
    }
   ],
   "source": [
    "words.__iter__().__next__()"
   ]
  },
  {
   "attachments": {},
   "cell_type": "markdown",
   "metadata": {},
   "source": [
    "**ВАЖНОЕ ЗАМЕЧАНИЕ**: если функции iter() передается итератор, то она возвращает его же. Если же функции iter() передать итерируемый объект, не являющийся итератором (например, список), то она вернет совсем другой объект – итератор на основе этого итерируемого объекта."
   ]
  },
  {
   "attachments": {},
   "cell_type": "markdown",
   "metadata": {},
   "source": [
    "        для чего итераторы содержат магический метод __iter__()?\n",
    "\n",
    " Все дело в том, что цикл for ожидает, что у объекта, по которому идет итерирование, есть не только магический метод __next__(), но и __iter__(). Задача метода __iter__() – превращать итерируемый объект в итератор. Если в цикл for передается уже итератор, то метод __iter__() этого объекта должен возвращать сам объект.\n",
    "\n",
    "Если циклу for передается не итератор, а итерируемый объект, то его метод '_ _iter_ _()' должен возвращать не сам объект, а итератор на основе этого итерируемого объекта."
   ]
  },
  {
   "attachments": {},
   "cell_type": "markdown",
   "metadata": {},
   "source": [
    "Получается, в итераторах метод __iter__() нужен лишь для совместимости. Ведь если for работает как с итераторами, так и итерируемыми объектами, но последние требуют преобразования к итератору, и for вызывает __iter__() без оценки того, что ему передали, то требуется, чтобы оба – итератор (iterator) и итерируемый объект (iterable) – поддерживали этот метод. С точки зрения наличия в классе метода __iter__() итераторы можно считать подвидом итерируемых объектов."
   ]
  },
  {
   "attachments": {},
   "cell_type": "markdown",
   "metadata": {},
   "source": [
    "### Протокол итератора\n",
    "\n",
    "1) чтобы получить итератор, мы должны передать функции iter() итерируемый объект\n",
    "\n",
    "2) далее мы передаём итератор функции next()\n",
    "\n",
    "3) когда элементы в итераторе закончились, вызов функции next() возбуждает исключение StopIteration\n",
    "\n",
    "\n",
    "Особенности (или как определить, что объект является итератором):\n",
    "\n",
    "1) любой объект, передаваемый функции iter() без исключения TypeError — итерируемый объект\n",
    "\n",
    "2) любой объект, передаваемый функции next() без исключения TypeError — итератор\n",
    "\n",
    "3) любой объект, передаваемый функции iter() и возвращающий сам себя — итератор"
   ]
  },
  {
   "attachments": {},
   "cell_type": "markdown",
   "metadata": {},
   "source": [
    "Сценарий sentinel \n",
    "\n",
    "iter(callable, sentinel) -> iterator\n",
    "\n",
    "Если функции iter() передается два аргумента, то первый аргумент callable должен являться функцией, а второй аргумент sentinel — некоторым стоп-значением. В этом случае, созданный итератор будет вызывать указанную функцию callable и проверять полученное значение на равенство со значением sentinel. Если полученное значение равно sentinel, то возбуждается исключение StopIteration, иначе итератор выдает значение, полученное из функции callable.\n",
    "\n"
   ]
  },
  {
   "cell_type": "code",
   "execution_count": 82,
   "metadata": {},
   "outputs": [
    {
     "name": "stdout",
     "output_type": "stream",
     "text": [
      "0\n",
      "0\n",
      "0\n",
      "0\n",
      "0\n",
      "<class 'callable_iterator'>\n"
     ]
    }
   ],
   "source": [
    "# бесконечный итератор, генерирующий единственное значение — 0\n",
    "zero_iterator = iter(int, -1)\n",
    "\n",
    "for _ in range(5):\n",
    "    print(next(zero_iterator))\n",
    "\n",
    "print(type(zero_iterator))"
   ]
  },
  {
   "cell_type": "code",
   "execution_count": 83,
   "metadata": {},
   "outputs": [
    {
     "data": {
      "text/plain": [
       "0"
      ]
     },
     "execution_count": 83,
     "metadata": {},
     "output_type": "execute_result"
    }
   ],
   "source": [
    "int()       # функция int без аргументов всегда возвращает ноль\n",
    "\n",
    "# поэтому если на ее основе создать итератор, то обращение к нему всегда будет выдавать ноль"
   ]
  },
  {
   "cell_type": "code",
   "execution_count": 88,
   "metadata": {},
   "outputs": [
    {
     "name": "stdout",
     "output_type": "stream",
     "text": [
      "9\n",
      "4\n",
      "6\n",
      "5\n",
      "9\n",
      "7\n",
      "7\n",
      "9\n"
     ]
    }
   ],
   "source": [
    "# еще пример - вывод случайных чисел, которые генерируются итератором\n",
    "\n",
    "from random import choice\n",
    "\n",
    "def test_iter():                    # это функция вывода случайного значения из списка от 1 до 10\n",
    "    values = list(range(1, 11))\n",
    "    return choice(values)\n",
    "\n",
    "random_iterator = iter(test_iter, 2)    # это итератор на основе этой функции с аргументом sentinel =2\n",
    "\n",
    "for num in random_iterator:             # итератор генерирует число из списка от 1 до 10 пока не выпадет двойка \n",
    "    print(num)\n",
    "\n",
    "# результат (количество операций) будет всегда разный"
   ]
  },
  {
   "attachments": {},
   "cell_type": "markdown",
   "metadata": {},
   "source": [
    "Одним из применений второго аргумента sentinel является чтение строк файла до тех пор, пока не будет достигнута строка sentinel."
   ]
  },
  {
   "cell_type": "code",
   "execution_count": null,
   "metadata": {},
   "outputs": [],
   "source": [
    "with open('data.txt') as file:\n",
    "    for line in iter(file.readline, ''):    # читаем, пока не попадется пустая строка \n",
    "        # Делаем что-то с line."
   ]
  },
  {
   "cell_type": "code",
   "execution_count": 91,
   "metadata": {},
   "outputs": [
    {
     "name": "stdout",
     "output_type": "stream",
     "text": [
      "False\n",
      "True\n"
     ]
    }
   ],
   "source": [
    "beegeek = 'beegeek'\n",
    "iterator = iter(beegeek)\n",
    "\n",
    "print(beegeek == iterator)\n",
    "print(iterator == iter(iterator))"
   ]
  },
  {
   "attachments": {},
   "cell_type": "markdown",
   "metadata": {},
   "source": [
    "        Функция is_iterable()\n",
    "        Реализуйте функцию is_iterable(), которая принимает один аргумент:\n",
    "\n",
    "        obj — произвольный объект\n",
    "        Функция должна возвращать True, если объект obj является итерируемым объектом, или False в противном случае."
   ]
  },
  {
   "cell_type": "code",
   "execution_count": 96,
   "metadata": {},
   "outputs": [
    {
     "name": "stdout",
     "output_type": "stream",
     "text": [
      "True\n",
      "False\n",
      "True\n"
     ]
    }
   ],
   "source": [
    "# проверить что объект итерабельный , объект итерируется\n",
    "def is_iterable(obj):\n",
    "    try:\n",
    "        iter(obj)\n",
    "        return True\n",
    "    except TypeError:\n",
    "        return False\n",
    "    \n",
    "objects = [(1, 13), 7.0004, [1, 2, 3]]\n",
    "\n",
    "for obj in objects:\n",
    "    print(is_iterable(obj))"
   ]
  },
  {
   "attachments": {},
   "cell_type": "markdown",
   "metadata": {},
   "source": [
    "        Функция is_iterator()\n",
    "        Реализуйте функцию is_iterator(), которая принимает один аргумент:\n",
    "\n",
    "        obj — произвольный объект\n",
    "        Функция должна возвращать True, если объект obj является итератором, или False в противном случае. "
   ]
  },
  {
   "cell_type": "code",
   "execution_count": 98,
   "metadata": {},
   "outputs": [
    {
     "name": "stdout",
     "output_type": "stream",
     "text": [
      "True\n"
     ]
    }
   ],
   "source": [
    "# проверить что объект итератор\n",
    "def is_iterator(obj):\n",
    "    try:\n",
    "        next(obj)\n",
    "        return True\n",
    "    except TypeError:\n",
    "        return False\n",
    "    \n",
    "beegeek = map(str.upper, 'beegeek')\n",
    "\n",
    "print(is_iterator(beegeek))"
   ]
  },
  {
   "attachments": {},
   "cell_type": "markdown",
   "metadata": {},
   "source": [
    "        Функция random_numbers()\n",
    "        Реализуйте функцию random_numbers(), которая принимает два аргумента:\n",
    "\n",
    "        left — целое число\n",
    "        right — целое число\n",
    "        Функция должна возвращать итератор, генерирующий бесконечную последовательность случайных целых чисел в диапазоне от left до right включительно.\n",
    "\n",
    "        Примечание 1. Гарантируется, что left <= right"
   ]
  },
  {
   "cell_type": "code",
   "execution_count": 105,
   "metadata": {},
   "outputs": [
    {
     "name": "stdout",
     "output_type": "stream",
     "text": [
      "True\n",
      "True\n",
      "True\n"
     ]
    }
   ],
   "source": [
    "def random_numbers(left, right):\n",
    "    def random_iterator():                    # это функция вывода случайного значения из списка от left до right\n",
    "        from random import choice\n",
    "\n",
    "        if left!=right: return choice(list(range(left, right)))\n",
    "        return left\n",
    "        \n",
    "    return iter(random_iterator, left-1)\n",
    "\n",
    "iterator = random_numbers(1, 10)\n",
    "\n",
    "print(next(iterator) in range(1, 11))\n",
    "print(next(iterator) in range(1, 11))\n",
    "print(next(iterator) in range(1, 11))"
   ]
  },
  {
   "cell_type": "code",
   "execution_count": 106,
   "metadata": {},
   "outputs": [
    {
     "name": "stdout",
     "output_type": "stream",
     "text": [
      "1\n",
      "1\n"
     ]
    }
   ],
   "source": [
    "iterator = random_numbers(1, 1)\n",
    "\n",
    "print(next(iterator))\n",
    "print(next(iterator))"
   ]
  },
  {
   "attachments": {},
   "cell_type": "markdown",
   "metadata": {},
   "source": [
    "### Магический метод __init__()\n",
    "Для создания собственных классов итераторов нам потребуется определить в них метод __init__(). \n",
    "\n",
    "Магический метод __init__() используется для инициализации создаваемого объекта. Точнее говоря, в методе __init__() мы устанавливаем начальные атрибуты создаваемого объекта. При использовании метода __init__() мы не вызываем его напрямую, вместо этого он становится основой метода конструктора класса."
   ]
  },
  {
   "attachments": {},
   "cell_type": "markdown",
   "metadata": {},
   "source": [
    "### Создание собственных итераторов"
   ]
  },
  {
   "attachments": {},
   "cell_type": "markdown",
   "metadata": {},
   "source": [
    "        Создадим итератор Counter, который генерирует последовательность целых чисел от значения low до high с шагом один. Значения low и high передаются при создании итератора в конструкторе\n",
    "\n",
    "\n",
    "        Параметр self является ссылкой на конкретный экземпляр класса. При этом само имя self не является особенным, а лишь является договоренностью. Вместо self можно использовать другое имя, но так делать не рекомендуется.\n",
    "\n",
    "        Наличие такого параметра позволяет нам вызывать методы через точечную нотацию   "
   ]
  },
  {
   "cell_type": "code",
   "execution_count": 107,
   "metadata": {},
   "outputs": [
    {
     "name": "stdout",
     "output_type": "stream",
     "text": [
      "3\n",
      "4\n",
      "5\n",
      "6\n",
      "7\n",
      "8\n",
      "9\n",
      "10\n",
      "\n",
      "100\n",
      "101\n"
     ]
    }
   ],
   "source": [
    "# определяем класс Counter\n",
    "\n",
    "class Counter:                             \n",
    "    def __init__(self, low, high):         # конструктор класса, вызывается единожды при создании объекта\n",
    "        self.low = low\n",
    "        self.high = high\n",
    "    \n",
    "    def __iter__(self):              # метод, который возвращает ссылку на сам итератор для поддержания протокола итератора\n",
    "        return self\n",
    "    \n",
    "    def __next__(self):             # метод, который возвращает следующий элемент или возбуждает исключение StopIteration\n",
    "        if self.low > self.high:\n",
    "            raise StopIteration\n",
    "        else:\n",
    "            self.low += 1\n",
    "            return self.low - 1\n",
    "\n",
    "counter1 = Counter(3, 10)         # создаем итератор Counter, передавая значения low=3, high=10\n",
    "\n",
    "for i in counter1:                # неявно вызываем функцию next()\n",
    "    print(i)                      # цикл for за кулисами вызывает один раз магический метод __iter__() \n",
    "                                # у итерируемого объекта для получения итератора, а затем метод __next__() до тех пор, \n",
    "                                # пока не будет возбуждено исключение StopIteration \n",
    "\n",
    "print()\n",
    "\n",
    "counter2 = Counter(100, 103)      # создаем итератор Counter, передавая значения low=100, high=103\n",
    "print(next(counter2))             # явно вызываем функцию next()\n",
    "print(next(counter2))             # явно вызываем функцию next()"
   ]
  },
  {
   "attachments": {},
   "cell_type": "markdown",
   "metadata": {},
   "source": [
    "        бесконечный итераторEvenNumbers, который генерирует последовательность всех целых четных чисел от значения begin. Значение begin передается при создании итератора в конструкторе."
   ]
  },
  {
   "cell_type": "code",
   "execution_count": 108,
   "metadata": {},
   "outputs": [
    {
     "name": "stdout",
     "output_type": "stream",
     "text": [
      "10\n",
      "12\n",
      "14\n",
      "16\n",
      "18\n",
      "20\n",
      "\n",
      "102\n",
      "104\n",
      "106\n",
      "108\n"
     ]
    }
   ],
   "source": [
    "# определяем класс \n",
    "class EvenNumbers:                             \n",
    "    def __init__(self, begin):                 # конструктор класса, вызывается единожды при создании объекта\n",
    "        self.begin = begin +  begin % 2\n",
    "    \n",
    "    def __iter__(self):     # метод, который возвращает ссылку на сам итератор для поддержания протокола итератора\n",
    "        return self\n",
    "    \n",
    "    def __next__(self):     # метод, который возвращает следующий элемент или возбуждает исключение StopIteration\n",
    "        value  = self.begin\n",
    "        self.begin += 2\n",
    "        return value\n",
    "    \n",
    "# так как мы хотим бесконечный итератор, в методе next мы намеренно не предусматриваем возбуждение StopIteration\n",
    "\n",
    "evens1 = EvenNumbers(10)                     # все четные числа от 10 до бесконечности\n",
    "\n",
    "for index, num in enumerate(evens1):\n",
    "    if index > 5:\n",
    "        break                       # тормозим цикл, ведь итератор бесконечный - цикл for иначе выполнялся бы, \n",
    "                                    # пока не уткнулся в StopIteration, а его в бесконечном итераторы мы не предусмотрели\n",
    "    print(num)\n",
    "\n",
    "print()\n",
    "\n",
    "evens2 = EvenNumbers(101)                    # все четные числа от 102 до бесконечности\n",
    "\n",
    "# запускаем ЯВНЫЙ вызов итератора ровно 4 раза - сколько пропишем запусков\n",
    "print(next(evens2))         \n",
    "print(next(evens2))\n",
    "print(next(evens2))\n",
    "print(next(evens2))"
   ]
  },
  {
   "attachments": {},
   "cell_type": "markdown",
   "metadata": {},
   "source": [
    "        Создадим итераторStringWrapper, который генерирует последовательность всех символов строки text, обрамленных специальным символом symbol. Значения text  и symbol передаются при создании итератора в конструкторе.\n",
    "\n"
   ]
  },
  {
   "cell_type": "code",
   "execution_count": 111,
   "metadata": {},
   "outputs": [
    {
     "name": "stdout",
     "output_type": "stream",
     "text": [
      "~b~\n",
      "~e~\n",
      "~e~\n",
      "~g~\n",
      "~e~\n",
      "~e~\n",
      "~k~\n",
      "\n",
      "+P+\n",
      "+y+\n",
      "+t+\n",
      "+h+\n",
      "+o+\n",
      "+n+\n",
      "\n",
      "['-s-', '-t-', '-e-', '-p-', '-i-', '-k-']\n"
     ]
    }
   ],
   "source": [
    "class StringWrapper:                             \n",
    "    def __init__(self, text, symbol):\n",
    "        self.text = text\n",
    "        self.symbol = symbol\n",
    "        self.index = -1                      # вспомогательное поле для отслеживания текущего индекса\n",
    "    \n",
    "    def __iter__(self):\n",
    "        return self\n",
    "    \n",
    "    def __next__(self): \n",
    "        self.index += 1                     # стартовое значение индекса -1, поэтому при вызове next мы получим -1 + 1 = 0\n",
    "        if self.index >= len(self.text):    # если при очередном вызове next наш индекс станет равным или превысит \n",
    "                                            # длину текста (что будет означать, что символа с таким индексом нет), \n",
    "                                            # мы возбуждаем исключение\n",
    "            raise StopIteration\n",
    "        return self.symbol + self.text[self.index] + self.symbol\n",
    "    \n",
    "\n",
    "string_wrapper1 = StringWrapper('beegeek', '~')     # цикл отработает верно до возбуждения исключения и тогда завершится\n",
    "for char in string_wrapper1:\n",
    "    print(char)\n",
    "\n",
    "print()\n",
    " \n",
    "string_wrapper2 = StringWrapper('Python', '+')    # генерируем каждую букву в последовательности - ровно 6 раз по длине слова\n",
    "print(next(string_wrapper2))\n",
    "print(next(string_wrapper2))\n",
    "print(next(string_wrapper2))\n",
    "print(next(string_wrapper2))\n",
    "print(next(string_wrapper2))\n",
    "print(next(string_wrapper2))\n",
    "\n",
    "print()\n",
    "\n",
    "print(list(StringWrapper('stepik', '-')))       # а тут мы итератор упакуем в список"
   ]
  },
  {
   "cell_type": "code",
   "execution_count": 112,
   "metadata": {},
   "outputs": [
    {
     "data": {
      "text/plain": [
       "['+P+', '+y+', '+t+', '+h+', '+o+', '+n+']"
      ]
     },
     "execution_count": 112,
     "metadata": {},
     "output_type": "execute_result"
    }
   ],
   "source": [
    "# аналогия понятна, думаю дело в занимаемой памяти\n",
    "def str_wrapper(string, symbol):\n",
    "    return [f'{symbol}{char}{symbol}' for char in string]\n",
    "\n",
    "str_wrapper('Python', '+')"
   ]
  },
  {
   "attachments": {},
   "cell_type": "markdown",
   "metadata": {},
   "source": [
    "        Создадим бесконечный итератор Factorials, который генерирует последовательность факториалов всех натуральных чисел (от 1 до бесконечности). Конструктор итератора не принимает аргументов."
   ]
  },
  {
   "cell_type": "code",
   "execution_count": 113,
   "metadata": {},
   "outputs": [
    {
     "name": "stdout",
     "output_type": "stream",
     "text": [
      "Факториал числа 1 равен 1\n",
      "Факториал числа 2 равен 2\n",
      "Факториал числа 3 равен 6\n",
      "Факториал числа 4 равен 24\n",
      "Факториал числа 5 равен 120\n",
      "Факториал числа 6 равен 720\n",
      "Факториал числа 7 равен 5040\n",
      "Факториал числа 8 равен 40320\n",
      "Факториал числа 9 равен 362880\n",
      "Факториал числа 10 равен 3628800\n"
     ]
    }
   ],
   "source": [
    "class Factorials:\n",
    "    def __init__(self):\n",
    "        self.value = 1\n",
    "        self.index = 1\n",
    "        \n",
    "    def __iter__(self):\n",
    "        return self\n",
    "        \n",
    "    def __next__(self):\n",
    "        self.value *= self.index\n",
    "        self.index += 1\n",
    "        return self.value\n",
    "\n",
    "infinite_factorials = Factorials()\n",
    "\n",
    "for index, num in enumerate(infinite_factorials, 1):        # цикл for будет раз за разом вызывать итератор, \n",
    "                                                            #пока упрется в StopIteration \n",
    "                                                            # а так как его нет - будет бесконечно генерировать факториал\n",
    "\n",
    "    if index <= 10:                                         # поэтому на итерации, когда индекс превысит 10, мы его оборвем\n",
    "        print(f'Факториал числа {index} равен {num}')\n",
    "    else:\n",
    "        break"
   ]
  },
  {
   "attachments": {},
   "cell_type": "markdown",
   "metadata": {},
   "source": [
    "        Встроенные типы list, tuple, str, set, dict, range содержат уже реализованные типы итераторов.\n",
    "\n",
    "        Например, тип list_iterator реализован примерно так:"
   ]
  },
  {
   "cell_type": "code",
   "execution_count": 115,
   "metadata": {},
   "outputs": [
    {
     "name": "stdout",
     "output_type": "stream",
     "text": [
      "<class '__main__.list_iterator'>\n",
      "<class 'list_iterator'>\n"
     ]
    }
   ],
   "source": [
    "class list_iterator:\n",
    "    def __init__(self, data): \n",
    "        self.data = data\n",
    "        self.index = -1\n",
    "        \n",
    "    def __iter__(self): \n",
    "        return self \n",
    "        \n",
    "    def __next__(self):\n",
    "        self.index += 1\n",
    "        if self.index == len(self.data):\n",
    "            raise StopIteration  \n",
    "        return self.data[self.index]\n",
    "    \n",
    "numbers = list_iterator([1, 2, 3, 4, 5])    # ручное создание итератора\n",
    "print(type(numbers))\n",
    "\n",
    "numbers_orig = iter([1, 2, 3, 4, 5])    # встроенный метод создания итератора\n",
    "print(type(numbers_orig))\n"
   ]
  },
  {
   "attachments": {},
   "cell_type": "markdown",
   "metadata": {},
   "source": [
    "##### Примечание . Важно понимать, что итераторы, создаваемые на основе итерируемых объектов, содержат ссылки на эти итерируемые объекты. Таким образом, изменение итерируемого объекта приводит к изменению возвращаемых итератором значений. "
   ]
  },
  {
   "cell_type": "code",
   "execution_count": 116,
   "metadata": {},
   "outputs": [
    {
     "name": "stdout",
     "output_type": "stream",
     "text": [
      "10\n",
      "20\n",
      "40\n"
     ]
    }
   ],
   "source": [
    "numbers = [10, 20, 30, 40, 50]\n",
    "\n",
    "iterator = iter(numbers)\n",
    "\n",
    "print(next(iterator))\n",
    "print(next(iterator))\n",
    "\n",
    "del numbers[2]\n",
    "\n",
    "print(next(iterator))"
   ]
  },
  {
   "attachments": {},
   "cell_type": "markdown",
   "metadata": {},
   "source": [
    "Хороший пример работы итератора, созданного на основе изменяемого итерируемого объекта\n"
   ]
  },
  {
   "cell_type": "code",
   "execution_count": 117,
   "metadata": {},
   "outputs": [
    {
     "name": "stdout",
     "output_type": "stream",
     "text": [
      "5\n"
     ]
    }
   ],
   "source": [
    "numbers = [1, 2, 3, 4, 5]\n",
    "\n",
    "iterator = iter(numbers)    # создали итератор на основе списка\n",
    "\n",
    "next(iterator)              # считали нулевой элемент итератора\n",
    "next(iterator)              # считали первый элемент итератора\n",
    "\n",
    "del numbers[0]              # удалили нулевой и первый элемент ИСХОДНОГО СПИСКА\n",
    "del numbers[1]\n",
    "\n",
    "print(next(iterator))       # итератор помнит, что он уже считал нулевой и первый элемент списка, \n",
    "                            # поэтому он должен выводить второй элемент списка \n",
    "                            # но список вы изменили, он стал [3,4,5] \n",
    "                            # а значит его второй элемент списка - это 5"
   ]
  },
  {
   "cell_type": "code",
   "execution_count": 118,
   "metadata": {},
   "outputs": [
    {
     "name": "stdout",
     "output_type": "stream",
     "text": [
      "1\n",
      "3\n",
      "5\n"
     ]
    }
   ],
   "source": [
    "numbers = [1, 2, 3, 4, 5]\n",
    "\n",
    "for i in numbers:       # тут мы сразу хватаем нулевой элемент, запоминаем его в i\n",
    "    del numbers[0]      # удаляем нулевой элемент\n",
    "    print(i)            # печатаем i = нулевому элементу\n",
    "\n",
    "    # далее итерация заставляет нам сказать, что i - это 0+1= 1 первый элемент списка, но список изменился \n",
    "    # и теперь он представлен в виде [2,3,4,5] - ок, сохраняем в i первый элемент, то есть число 3 \n",
    "\n",
    "    # следующая итерация - имеем в i второй элемент измененного списка [3,4,5] - то есть число 5\n",
    "\n",
    "    # и наконец у списка [3,4,5] НЕТ третьего элемента, который мог бы быть захвачен next для итератора - \n",
    "    # значит возбуждается исключение StopIteration и цикл останавливается"
   ]
  },
  {
   "cell_type": "code",
   "execution_count": 119,
   "metadata": {},
   "outputs": [
    {
     "name": "stdout",
     "output_type": "stream",
     "text": [
      "1\n",
      "3\n",
      "5\n"
     ]
    }
   ],
   "source": [
    "numbers = [1, 2, 3, 4, 5, 6]    \n",
    "\n",
    "for i in numbers:       \n",
    "    del numbers[0]      \n",
    "    print(i)  "
   ]
  },
  {
   "attachments": {},
   "cell_type": "markdown",
   "metadata": {},
   "source": [
    "### Задачки - примеры"
   ]
  },
  {
   "attachments": {},
   "cell_type": "markdown",
   "metadata": {},
   "source": [
    "        Итератор Repeater\n",
    "        Реализуйте класс Repeater, порождающий итераторы, конструктор которого принимает один аргумент:\n",
    "\n",
    "        obj — произвольный объект\n",
    "        Итератор класса Repeater должен бесконечно генерировать единственное значение — obj."
   ]
  },
  {
   "cell_type": "code",
   "execution_count": 120,
   "metadata": {},
   "outputs": [
    {
     "name": "stdout",
     "output_type": "stream",
     "text": [
      "geek\n",
      "geek\n",
      "geek\n"
     ]
    }
   ],
   "source": [
    "class Repeater:\n",
    "    def __init__(self, obj):\n",
    "        self.obj = obj\n",
    "\n",
    "    def __iter__(self):\n",
    "        return self\n",
    "    \n",
    "    def __next__(self):\n",
    "        return self.obj\n",
    "\n",
    "geek = Repeater('geek')\n",
    "\n",
    "print(next(geek))\n",
    "print(next(geek))\n",
    "print(next(geek))"
   ]
  },
  {
   "attachments": {},
   "cell_type": "markdown",
   "metadata": {},
   "source": [
    "        Итератор BoundedRepeater\n",
    "        Реализуйте класс BoundedRepeater, порождающий итераторы, конструктор которого принимает два аргумента в следующем порядке:\n",
    "\n",
    "        obj — произвольный объект\n",
    "        times — натуральное число\n",
    "        Итератор класса BoundedRepeater должен генерировать значение obj times раз, а затем возбуждать исключение StopIteration."
   ]
  },
  {
   "cell_type": "code",
   "execution_count": 125,
   "metadata": {},
   "outputs": [
    {
     "name": "stdout",
     "output_type": "stream",
     "text": [
      "bee\n",
      "bee\n",
      "\n",
      "geek\n",
      "geek\n",
      "geek\n",
      "Error\n"
     ]
    }
   ],
   "source": [
    "class BoundedRepeater:\n",
    "    def __init__(self, obj, times) -> None:\n",
    "        self.obj = obj\n",
    "        self.index = 0\n",
    "        self.times = times\n",
    "\n",
    "    def __iter__(self):\n",
    "        return self\n",
    "    \n",
    "    def __next__(self):\n",
    "        self.index +=1\n",
    "        if self.index > self.times:\n",
    "            raise StopIteration\n",
    "        return self.obj \n",
    "\n",
    "bee = BoundedRepeater('bee', 2)\n",
    "\n",
    "print(next(bee))\n",
    "print(next(bee))\n",
    "\n",
    "print()\n",
    "\n",
    "geek = BoundedRepeater('geek', 3)\n",
    "\n",
    "print(next(geek))\n",
    "print(next(geek))\n",
    "print(next(geek))\n",
    "\n",
    "try:\n",
    "    print(next(geek))\n",
    "except StopIteration:\n",
    "    print('Error')"
   ]
  },
  {
   "attachments": {},
   "cell_type": "markdown",
   "metadata": {},
   "source": [
    "        Итератор Square\n",
    "        Реализуйте класс Square, порождающий итераторы, конструктор которого принимает один аргумент:\n",
    "\n",
    "        n — натуральное число,\n",
    "        Итератор класса Square должен генерировать последовательность из n чисел, каждое из которых является квадратом очередного натурального числа, а затем возбуждать исключение StopIteration."
   ]
  },
  {
   "cell_type": "code",
   "execution_count": 137,
   "metadata": {},
   "outputs": [
    {
     "name": "stdout",
     "output_type": "stream",
     "text": [
      "1\n",
      "4\n",
      "\n",
      "1\n",
      "4\n",
      "9\n",
      "16\n",
      "25\n",
      "\n",
      "[1, 4, 9, 16, 25, 36, 49, 64, 81, 100]\n"
     ]
    }
   ],
   "source": [
    "class Square:\n",
    "    def __init__(self, number) -> None:\n",
    "        self.value = 1\n",
    "        self.number = number\n",
    "        self.index = 0\n",
    "\n",
    "    def __iter__(self):\n",
    "        return self\n",
    "    \n",
    "    def __next__(self):\n",
    "        if self.index >= self.number:\n",
    "            raise StopIteration\n",
    "        \n",
    "        self.index +=1\n",
    "        self.value = self.index **2\n",
    "        return self.value\n",
    "    \n",
    "squares = Square(2)\n",
    "\n",
    "print(next(squares))\n",
    "print(next(squares))\n",
    "\n",
    "print()\n",
    "\n",
    "squares = Square(5)\n",
    "\n",
    "for ind, num in enumerate(squares,1):\n",
    "    if ind > 5:\n",
    "        break\n",
    "    print(num)\n",
    "\n",
    "print()\n",
    "\n",
    "squares = Square(10)\n",
    "\n",
    "print(list(squares))"
   ]
  },
  {
   "attachments": {},
   "cell_type": "markdown",
   "metadata": {},
   "source": [
    "        Итератор Fibonacci\n",
    "        Реализуйте класс Fibonacci, порождающий итераторы, конструктор которого не принимает никаких аргументов.\n",
    "\n",
    "        Итератор класса Fibonacci должен генерировать бесконечную последовательность чисел Фибоначчи, начиная с 1."
   ]
  },
  {
   "cell_type": "code",
   "execution_count": 179,
   "metadata": {},
   "outputs": [],
   "source": [
    "class Fibonacci:\n",
    "    def __init__(self) -> None:\n",
    "        self.value1 = 1\n",
    "        self.value2 = 1\n",
    "        self.value = 1\n",
    "        self.index = 1\n",
    "\n",
    "    def __iter__(self):\n",
    "        return self\n",
    "    \n",
    "    def __next__(self):\n",
    "        if self.index < 3:\n",
    "            self.index +=1\n",
    "            return 1\n",
    "        else:\n",
    "            self.value = self.value1 + self.value2\n",
    "            self.value2 = self.value1\n",
    "            self.value1 = self.value\n",
    "            \n",
    "            return self.value\n",
    "\n",
    "fibonacci_iter = Fibonacci()\n",
    "\n"
   ]
  },
  {
   "cell_type": "code",
   "execution_count": 180,
   "metadata": {},
   "outputs": [
    {
     "name": "stdout",
     "output_type": "stream",
     "text": [
      "102334155\n",
      "--- 0.009424924850463867 seconds ---\n"
     ]
    }
   ],
   "source": [
    "import time\n",
    "start_time = time.time()\n",
    "\n",
    "\n",
    "for ind, num in enumerate(fibonacci_iter,1):\n",
    "    if ind< 40:\n",
    "        continue\n",
    "    elif  ind==40:\n",
    "        print(num)\n",
    "    elif ind> 40: break\n",
    "\n",
    "print(\"--- %s seconds ---\" % (time.time() - start_time))"
   ]
  },
  {
   "cell_type": "code",
   "execution_count": 181,
   "metadata": {},
   "outputs": [
    {
     "name": "stdout",
     "output_type": "stream",
     "text": [
      "102334155\n",
      "--- 0.000982046127319336 seconds ---\n"
     ]
    }
   ],
   "source": [
    "import time\n",
    "start_time = time.time()\n",
    "\n",
    "from sympy import fibonacci\n",
    "print(fibonacci(40))\n",
    "\n",
    "print(\"--- %s seconds ---\" % (time.time() - start_time))"
   ]
  },
  {
   "cell_type": "code",
   "execution_count": 182,
   "metadata": {},
   "outputs": [
    {
     "name": "stdout",
     "output_type": "stream",
     "text": [
      "1\n",
      "1\n",
      "2\n",
      "3\n",
      "5\n",
      "8\n",
      "13\n"
     ]
    }
   ],
   "source": [
    "# укороченное решение через итератор\n",
    "\n",
    "class Fibonacci:\n",
    "    def __init__(self):\n",
    "        self.one = 0\n",
    "        self.two = 1\n",
    "\n",
    "    def __iter__(self):\n",
    "        return self\n",
    "\n",
    "    def __next__(self):\n",
    "        self.one, self.two = self.two, self.one + self.two\n",
    "        if self.one == 1 or self.two == 2:\n",
    "            return 1\n",
    "        return self.one\n",
    "    \n",
    "fibonacci_iter2 = Fibonacci()\n",
    "\n",
    "print(next(fibonacci_iter2))\n",
    "print(next(fibonacci_iter2))\n",
    "print(next(fibonacci_iter2))\n",
    "print(next(fibonacci_iter2))\n",
    "print(next(fibonacci_iter2))\n",
    "print(next(fibonacci_iter2))\n",
    "print(next(fibonacci_iter2))\n"
   ]
  },
  {
   "attachments": {},
   "cell_type": "markdown",
   "metadata": {},
   "source": [
    "        Итератор PowerOf\n",
    "        Реализуйте класс PowerOf, порождающий итераторы, конструктор которого принимает один аргумент:\n",
    "\n",
    "        number — ненулевое число\n",
    "        Итератор класса PowerOf должен генерировать бесконечную последовательность целых неотрицательных степеней числа number в порядке возрастания, начиная с нулевой степени."
   ]
  },
  {
   "cell_type": "code",
   "execution_count": 183,
   "metadata": {},
   "outputs": [
    {
     "name": "stdout",
     "output_type": "stream",
     "text": [
      "1\n",
      "2\n",
      "4\n",
      "8\n",
      "16\n",
      "32\n"
     ]
    }
   ],
   "source": [
    "class PowerOf:\n",
    "    def __init__(self, number) -> None:\n",
    "        self.number = number\n",
    "        self.index = 0\n",
    "\n",
    "    def __iter__(self):\n",
    "        return self\n",
    "\n",
    "    def __next__(self):\n",
    "        self.value = self.number ** self.index\n",
    "        self.index +=1\n",
    "        return self.value\n",
    "    \n",
    "powers_of_2 = PowerOf(2)\n",
    "\n",
    "for ind, val in enumerate(powers_of_2, 1):\n",
    "    if ind > 6: break\n",
    "    print(val)"
   ]
  },
  {
   "attachments": {},
   "cell_type": "markdown",
   "metadata": {},
   "source": [
    "        Итератор DictItemsIterator\n",
    "        Как известно, во время итерации по словарю мы получаем ключи, а не значения или пары ключ-значение.\n",
    "\n",
    "        Приведенный ниже код:\n",
    "\n",
    "        info = {'name': 'Timur', 'age': 29, 'gender': 'Male'}\n",
    "\n",
    "        print(*info)\n",
    "        выводит:\n",
    "\n",
    "        name age gender\n",
    "        Реализуйте класс DictItemsIterator, порождающий итераторы, конструктор которого принимает один аргумент:\n",
    "\n",
    "        data — словарь\n",
    "        Итератор класса DictItemsIterator должен генерировать последовательность кортежей, представляющих собой пары ключ-значение словаря data, а затем возбуждать исключение StopIteration.\n",
    "\n",
    "        Примечание 1. При решении задачи не используйте словарные методы keys(), values() и items().\n",
    "\n",
    "        Примечание 2. Пары ключ-значение в возвращаемом функцией итераторе должны располагаться в своем изначальном порядке."
   ]
  },
  {
   "cell_type": "code",
   "execution_count": 195,
   "metadata": {},
   "outputs": [
    {
     "name": "stdout",
     "output_type": "stream",
     "text": [
      "('1', 10)\n",
      "('2', 11)\n",
      "('3', 12)\n",
      "Error\n"
     ]
    }
   ],
   "source": [
    "class DictItemsIterator:\n",
    "    def __init__(self, data: dict) -> None:\n",
    "        self.data = data\n",
    "        self.keys = iter(data) \n",
    "\n",
    "    def __iter__(self):\n",
    "        return self\n",
    "\n",
    "    def __next__(self):\n",
    "        key = next(self.keys)\n",
    "        if key not in self.data:\n",
    "            raise StopIteration\n",
    "        return (key, self.data[key])\n",
    "    \n",
    "dict_iterator = DictItemsIterator({'1':10, '2':11, '3':12})\n",
    "\n",
    "print(next(dict_iterator))\n",
    "print(next(dict_iterator))\n",
    "print(next(dict_iterator))\n",
    "\n",
    "try:\n",
    "    print(next(dict_iterator))\n",
    "except StopIteration as err:\n",
    "    print('Error')"
   ]
  },
  {
   "cell_type": "code",
   "execution_count": 185,
   "metadata": {},
   "outputs": [
    {
     "data": {
      "text/plain": [
       "3"
      ]
     },
     "execution_count": 185,
     "metadata": {},
     "output_type": "execute_result"
    }
   ],
   "source": [
    "len({1:10, 2:11, 3:12})    # длина словаря - число пар (ключ: значение)"
   ]
  },
  {
   "cell_type": "code",
   "execution_count": 193,
   "metadata": {},
   "outputs": [
    {
     "name": "stdout",
     "output_type": "stream",
     "text": [
      "1\n",
      "2\n",
      "3\n",
      "Error\n"
     ]
    }
   ],
   "source": [
    "dict_iter = iter({'1':10, '2':11, '3':12})\n",
    "print(next(dict_iter))\n",
    "print(next(dict_iter))\n",
    "print(next(dict_iter))\n",
    "try:\n",
    "    print(next(dict_iter))\n",
    "except StopIteration as err:\n",
    "    print('Error')"
   ]
  },
  {
   "attachments": {},
   "cell_type": "markdown",
   "metadata": {},
   "source": [
    "        Итератор CardDeck\n",
    "        Реализуйте класс CardDeck, порождающий итераторы, конструктор которого не принимает никаких аргументов.\n",
    "\n",
    "        Итератор класса CardDeck должен генерировать последовательность из \n",
    "        52\n",
    "        52 игральных карт, а после возбуждать исключение StopIteration. Каждая карта должна представлять собой строку в следующем формате:\n",
    "\n",
    "        <номинал> <масть>\n",
    "        Например, 7 пик, валет треф, дама бубен, король червей, туз пик.\n",
    "\n",
    "        Примечание 1. Карты, генерируемые итератором, должны располагаться сначала по величине номинала, затем масти.\n",
    "\n",
    "        Примечание 2. Старшинство мастей по возрастанию: пики, трефы, бубны, червы. Старшинство карт в масти по возрастанию: двойка, тройка, четверка, пятерка, шестерка, семерка, восьмерка, девятка, десятка, валет, дама, король, туз.\n",
    "\n",
    "        Примечание 3. Масти не требуют склонения и независимо от номинала должны сохранять следующее написание: пик, треф, бубен, червей."
   ]
  },
  {
   "cell_type": "code",
   "execution_count": 207,
   "metadata": {},
   "outputs": [
    {
     "name": "stdout",
     "output_type": "stream",
     "text": [
      "двойка пик\n",
      "тройка пик\n",
      "четверка пик\n",
      "пятерка пик\n",
      "шестерка пик\n",
      "семерка пик\n",
      "восьмерка пик\n",
      "девятка пик\n",
      "десятка пик\n",
      "валет пик\n",
      "дама пик\n",
      "король пик\n",
      "туз пик\n",
      "двойка треф\n",
      "тройка треф\n",
      "четверка треф\n",
      "пятерка треф\n",
      "шестерка треф\n",
      "семерка треф\n",
      "восьмерка треф\n",
      "девятка треф\n",
      "десятка треф\n",
      "валет треф\n",
      "дама треф\n",
      "король треф\n",
      "туз треф\n",
      "двойка бубен\n",
      "тройка бубен\n",
      "четверка бубен\n",
      "пятерка бубен\n",
      "шестерка бубен\n",
      "семерка бубен\n",
      "восьмерка бубен\n",
      "девятка бубен\n",
      "десятка бубен\n",
      "валет бубен\n",
      "дама бубен\n",
      "король бубен\n",
      "туз бубен\n",
      "двойка червей\n",
      "тройка червей\n",
      "четверка червей\n",
      "пятерка червей\n",
      "шестерка червей\n",
      "семерка червей\n",
      "восьмерка червей\n",
      "девятка червей\n",
      "десятка червей\n",
      "валет червей\n",
      "дама червей\n",
      "король червей\n",
      "туз червей\n"
     ]
    }
   ],
   "source": [
    "class CardDeck:\n",
    "    def __init__(self) -> None:\n",
    "        self.index_suit = 0\n",
    "        self.index_val = -1\n",
    "        self.index = -1\n",
    "\n",
    "        self.values = ('2','3','4','5','6','7','8',\n",
    "                       '9','10','валет','дама','король','туз')\n",
    "        self.suites = ('пик','треф','бубен','червей')\n",
    "\n",
    "    def __iter__(self):\n",
    "        return self\n",
    "    \n",
    "    def __next__(self):\n",
    "        self.index +=1\n",
    "        if self.index >=52:\n",
    "            raise StopIteration\n",
    "        \n",
    "        elif self.index_val == 12:\n",
    "            self.index_val = 0\n",
    "            self.index_suit += 1\n",
    "        \n",
    "        else:\n",
    "            self.index_val += 1\n",
    "\n",
    "        \n",
    "        return f'{self.values[self.index_val]} {self.suites[self.index_suit]}'\n",
    "    \n",
    "card_deck = CardDeck()\n",
    "\n",
    "# print(next(card_deck))\n",
    "\n",
    "for ind, card in enumerate(card_deck, 1):\n",
    "    if ind > 52: break\n",
    "    print(card)"
   ]
  },
  {
   "cell_type": "code",
   "execution_count": 208,
   "metadata": {},
   "outputs": [
    {
     "name": "stdout",
     "output_type": "stream",
     "text": [
      "двойка пик\n",
      "тройка пик\n"
     ]
    }
   ],
   "source": [
    "cards = CardDeck()\n",
    "\n",
    "print(next(cards))\n",
    "print(next(cards))"
   ]
  },
  {
   "cell_type": "code",
   "execution_count": 209,
   "metadata": {},
   "outputs": [
    {
     "name": "stdout",
     "output_type": "stream",
     "text": [
      "валет пик\n",
      "дама треф\n",
      "король бубен\n",
      "туз червей\n"
     ]
    }
   ],
   "source": [
    "cards = list(CardDeck())\n",
    "\n",
    "print(cards[9])\n",
    "print(cards[23])\n",
    "print(cards[37])\n",
    "print(cards[51])"
   ]
  },
  {
   "attachments": {},
   "cell_type": "markdown",
   "metadata": {},
   "source": [
    "        Итератор Cycle\n",
    "        Реализуйте класс Cycle, порождающий итераторы, конструктор которого принимает один аргумент:\n",
    "\n",
    "        iterable — итерируемый объект\n",
    "        Итератор класса Cycle должен циклично генерировать последовательность элементов итерируемого объекта iterable."
   ]
  },
  {
   "cell_type": "code",
   "execution_count": 211,
   "metadata": {},
   "outputs": [
    {
     "name": "stdout",
     "output_type": "stream",
     "text": [
      "b\n",
      "e\n",
      "b\n",
      "e\n"
     ]
    }
   ],
   "source": [
    "class Cycle:\n",
    "    def __init__(self, iterable) -> None:\n",
    "        self.index = -1\n",
    "        self.obj = iterable\n",
    "\n",
    "    def __iter__(self):\n",
    "        return self\n",
    "    \n",
    "    def __next__(self):\n",
    "        self.index +=1\n",
    "        try: \n",
    "            res = self.obj[self.index]\n",
    "        except IndexError:\n",
    "            self.index = 0\n",
    "            res = self.obj[self.index]\n",
    "        \n",
    "        return res\n",
    "    \n",
    "cycle = Cycle('be')\n",
    "print(next(cycle))\n",
    "print(next(cycle))\n",
    "print(next(cycle))\n",
    "print(next(cycle))"
   ]
  },
  {
   "cell_type": "code",
   "execution_count": 212,
   "metadata": {},
   "outputs": [
    {
     "name": "stdout",
     "output_type": "stream",
     "text": [
      "3\n"
     ]
    }
   ],
   "source": [
    "cycle = Cycle([1])\n",
    "\n",
    "print(next(cycle) + next(cycle) + next(cycle))"
   ]
  },
  {
   "cell_type": "code",
   "execution_count": 213,
   "metadata": {},
   "outputs": [
    {
     "name": "stdout",
     "output_type": "stream",
     "text": [
      "0\n",
      "1\n"
     ]
    }
   ],
   "source": [
    "cycle = Cycle(range(100_000_000))\n",
    "\n",
    "print(next(cycle))\n",
    "print(next(cycle))"
   ]
  },
  {
   "attachments": {},
   "cell_type": "markdown",
   "metadata": {},
   "source": [
    "        Итератор RandomNumbers\n",
    "        Реализуйте класс RandomNumbers, порождающий итераторы, конструктор которого принимает три аргумента в следующем порядке:\n",
    "\n",
    "        left — целое число\n",
    "        right — целое число\n",
    "        n — натуральное число\n",
    "        Итератор класса RandomNumbers должен генерировать последовательность из n случайных чисел от left до right включительно, а затем возбуждать исключение StopIteration."
   ]
  },
  {
   "cell_type": "code",
   "execution_count": 214,
   "metadata": {},
   "outputs": [
    {
     "name": "stdout",
     "output_type": "stream",
     "text": [
      "1\n",
      "1\n",
      "1\n"
     ]
    }
   ],
   "source": [
    "class RandomNumbers:\n",
    "    def __init__(self, left, right, number) -> None:\n",
    "        self.index = 0\n",
    "        self.number = number\n",
    "        self.left, self.right = left, right\n",
    "\n",
    "    def __iter__(self):\n",
    "        return self\n",
    "    \n",
    "    def __next__(self):\n",
    "        self.index +=1\n",
    "        if self.index > self.number:\n",
    "            raise StopIteration\n",
    "        from random import randrange\n",
    "        return randrange(self.left, self.right+1)\n",
    "    \n",
    "iterator = RandomNumbers(1, 1, 3)\n",
    "print(next(iterator))\n",
    "print(next(iterator))\n",
    "print(next(iterator))"
   ]
  },
  {
   "cell_type": "code",
   "execution_count": 215,
   "metadata": {},
   "outputs": [
    {
     "name": "stdout",
     "output_type": "stream",
     "text": [
      "True\n",
      "True\n"
     ]
    }
   ],
   "source": [
    "iterator = RandomNumbers(1, 10, 2)\n",
    "\n",
    "print(next(iterator) in range(1, 11))\n",
    "print(next(iterator) in range(1, 11))"
   ]
  },
  {
   "attachments": {},
   "cell_type": "markdown",
   "metadata": {},
   "source": [
    "        Итератор Alphabet 🌶️\n",
    "        Реализуйте класс Alphabet, порождающий итераторы, конструктор которого принимает один аргумент:\n",
    "\n",
    "        language — код языка: ru — русский, en — английский\n",
    "        Итератор класса Alphabet() должен циклично генерировать последовательность строчных букв:\n",
    "\n",
    "        русского алфавита, если language имеет значение ru\n",
    "        английского алфавита, если language имеет значение en\n",
    "        Примечание 1. Буква ё в русском алфавите не учитывается."
   ]
  },
  {
   "cell_type": "code",
   "execution_count": 219,
   "metadata": {},
   "outputs": [
    {
     "name": "stdout",
     "output_type": "stream",
     "text": [
      "а\n",
      "б\n",
      "в\n"
     ]
    }
   ],
   "source": [
    "class Alphabet:\n",
    "    def __init__(self, language) -> None:\n",
    "        self.lang = language\n",
    "        self.end = (ord('z'), ord('я'))[self.lang== 'ru']\n",
    "        self.index = (ord('a'), ord('а'))[self.lang== 'ru'] - 1\n",
    "\n",
    "    def __iter__(self):\n",
    "        return self\n",
    "    \n",
    "    def __next__(self):\n",
    "        self.index +=1\n",
    "        if self.index > self.end:\n",
    "            self.index = (ord('a'), ord('а'))[self.lang== 'ru']\n",
    "        \n",
    "        return chr(self.index)\n",
    "    \n",
    "\n",
    "ru_alpha = Alphabet('ru')\n",
    "\n",
    "print(next(ru_alpha))\n",
    "print(next(ru_alpha))\n",
    "print(next(ru_alpha))"
   ]
  },
  {
   "cell_type": "code",
   "execution_count": 220,
   "metadata": {},
   "outputs": [
    {
     "name": "stdout",
     "output_type": "stream",
     "text": [
      "a b c d e f g h i j k l m n o p q r s t u v w x y z a b\n"
     ]
    }
   ],
   "source": [
    "en_alpha = Alphabet('en')\n",
    "\n",
    "letters = [next(en_alpha) for _ in range(28)]\n",
    "\n",
    "print(*letters)"
   ]
  },
  {
   "cell_type": "code",
   "execution_count": 216,
   "metadata": {},
   "outputs": [
    {
     "data": {
      "text/plain": [
       "1105"
      ]
     },
     "execution_count": 216,
     "metadata": {},
     "output_type": "execute_result"
    }
   ],
   "source": [
    "ord('ё')"
   ]
  },
  {
   "cell_type": "code",
   "execution_count": 217,
   "metadata": {},
   "outputs": [
    {
     "data": {
      "text/plain": [
       "1077"
      ]
     },
     "execution_count": 217,
     "metadata": {},
     "output_type": "execute_result"
    }
   ],
   "source": [
    "ord('е')"
   ]
  },
  {
   "attachments": {},
   "cell_type": "markdown",
   "metadata": {},
   "source": [
    "        Итератор Xrange 🌶️\n",
    "        Реализуйте класс Xrange, порождающий итераторы, конструктор которого принимает три аргумента в следующем порядке:\n",
    "\n",
    "        start — целое или вещественное число\n",
    "        end — целое или вещественное число\n",
    "        step — целое или вещественное число, по умолчанию имеет значение 1\n",
    "        Итератор класса Xrange должен генерировать последовательность членов арифметической прогрессии от start до end, включая start и не включая end, с шагом step, а затем возбуждать исключение StopIteration."
   ]
  },
  {
   "cell_type": "code",
   "execution_count": 238,
   "metadata": {},
   "outputs": [
    {
     "name": "stdout",
     "output_type": "stream",
     "text": [
      "0 2 4 6 8\n"
     ]
    }
   ],
   "source": [
    "class Xrange:\n",
    "    def __init__(self, start: int|float, end: int|float,  step: int|float =1) -> None:\n",
    "        self.step = step\n",
    "        self.start, self.end = start, end\n",
    "        self.value = self.start\n",
    "\n",
    "    def __iter__(self):\n",
    "        return self\n",
    "    \n",
    "    def __next__(self):\n",
    "        if self.step >= 0: \n",
    "            if self.value >= self.end:\n",
    "                raise StopIteration\n",
    "            self.value += self.step\n",
    "        \n",
    "        elif self.step < 0 :\n",
    "            if self.value <= self.end:\n",
    "                raise StopIteration\n",
    "            self.value += self.step\n",
    "\n",
    "        return self.value - self.step\n",
    "    \n",
    "\n",
    "evens = Xrange(0, 10, 2)\n",
    "\n",
    "print(*evens)"
   ]
  },
  {
   "cell_type": "code",
   "execution_count": 239,
   "metadata": {},
   "outputs": [
    {
     "name": "stdout",
     "output_type": "stream",
     "text": [
      "0.0; 0.5; 1.0; 1.5; 2.0; 2.5\n"
     ]
    }
   ],
   "source": [
    "xrange = Xrange(0, 3, 0.5)\n",
    "\n",
    "print(*xrange, sep='; ')"
   ]
  },
  {
   "cell_type": "code",
   "execution_count": 240,
   "metadata": {},
   "outputs": [
    {
     "name": "stdout",
     "output_type": "stream",
     "text": [
      "10 9 8 7 6 5 4 3 2\n"
     ]
    }
   ],
   "source": [
    "xrange = Xrange(10, 1, -1)\n",
    "\n",
    "print(*xrange)"
   ]
  },
  {
   "cell_type": "code",
   "execution_count": null,
   "metadata": {},
   "outputs": [],
   "source": []
  }
 ],
 "metadata": {
  "kernelspec": {
   "display_name": "Python 3",
   "language": "python",
   "name": "python3"
  },
  "language_info": {
   "codemirror_mode": {
    "name": "ipython",
    "version": 3
   },
   "file_extension": ".py",
   "mimetype": "text/x-python",
   "name": "python",
   "nbconvert_exporter": "python",
   "pygments_lexer": "ipython3",
   "version": "3.10.7"
  },
  "orig_nbformat": 4
 },
 "nbformat": 4,
 "nbformat_minor": 2
}
