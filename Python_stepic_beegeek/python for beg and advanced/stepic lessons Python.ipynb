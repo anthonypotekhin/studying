{
 "cells": [
  {
   "cell_type": "code",
   "execution_count": 5,
   "metadata": {},
   "outputs": [
    {
     "name": "stdout",
     "output_type": "stream",
     "text": [
      "1993\n"
     ]
    }
   ],
   "source": [
    "s = '1992'\n",
    "s = int(s)\n",
    "print(s+1)\n"
   ]
  },
  {
   "cell_type": "code",
   "execution_count": 10,
   "metadata": {},
   "outputs": [
    {
     "name": "stdout",
     "output_type": "stream",
     "text": [
      "3\n",
      "4\n",
      "5\n"
     ]
    }
   ],
   "source": [
    "x=int(input())\n",
    "print(x,x+1,x+1+1, sep='\\n')\n"
   ]
  },
  {
   "cell_type": "code",
   "execution_count": 1,
   "metadata": {},
   "outputs": [
    {
     "name": "stdout",
     "output_type": "stream",
     "text": [
      "3\n",
      "0\n"
     ]
    }
   ],
   "source": [
    "print(23//7)\n",
    "print(2//5)"
   ]
  },
  {
   "cell_type": "code",
   "execution_count": 17,
   "metadata": {},
   "outputs": [
    {
     "name": "stdout",
     "output_type": "stream",
     "text": [
      "4\n"
     ]
    }
   ],
   "source": [
    "a=int(input())\n",
    "b=int(input())\n",
    "c=int(input())\n",
    "d=[a,b,c]\n",
    "\n",
    "e=0\n",
    "for i in range(0,len(d)):\n",
    "    if d[i]>0: \n",
    "        e=e+d[i]\n",
    "    else: e=e\n",
    "\n",
    "print(e)"
   ]
  },
  {
   "cell_type": "code",
   "execution_count": 31,
   "metadata": {},
   "outputs": [
    {
     "name": "stdout",
     "output_type": "stream",
     "text": [
      "5\n"
     ]
    }
   ],
   "source": [
    "# взять только положительные числа из списка (массива)\n",
    "a=int(input())\n",
    "b=int(input())\n",
    "c=int(input())\n",
    "d=[a,b,c]\n",
    "\n",
    "\n",
    "d=[a for a in d if a>0] # пробежим циклом по всем числам из списка d , возьмем только положительные\n",
    "print((sum(d)))\n"
   ]
  },
  {
   "cell_type": "code",
   "execution_count": 93,
   "metadata": {},
   "outputs": [
    {
     "name": "stdout",
     "output_type": "stream",
     "text": [
      "синий\n"
     ]
    }
   ],
   "source": [
    "# смешать два цвета\n",
    "a=(input())\n",
    "b=(input())\n",
    "\n",
    "col=[a,b]\n",
    "color=['красный','синий','желтый']\n",
    "\n",
    "# проверить есть ли элемент в заданном списке\n",
    "i=0\n",
    "while i<3:\n",
    "    if a==color[i]:\n",
    "        one= 1\n",
    "        break\n",
    "    else: \n",
    "        i+=1\n",
    "else: one = 0\n",
    "\n",
    "i=0\n",
    "while i<3:\n",
    "    if b==color[i]:\n",
    "        two = 1\n",
    "        break\n",
    "    else: \n",
    "        i+=1\n",
    "else: two = 0\n",
    "\n",
    "# проверям сами цвета\n",
    "if one == two==1: \n",
    "    if a!=b:\n",
    "        if a=='красный':\n",
    "            if b=='синий' :print('фиолетовый')\n",
    "            else: print('оранжевый')\n",
    "        elif a=='желтый':\n",
    "            if b=='красный' :print('оранжевый')\n",
    "            else: print('зеленый')    \n",
    "        else:\n",
    "            if b=='желтый' :print('зеленый')\n",
    "            else: print('фиолетовый')\n",
    "    else: print(a)\n",
    "        \n",
    "else: print('ошибка цвета')"
   ]
  },
  {
   "cell_type": "code",
   "execution_count": 94,
   "metadata": {},
   "outputs": [
    {
     "name": "stdout",
     "output_type": "stream",
     "text": [
      "фиолетовый\n"
     ]
    }
   ],
   "source": [
    "# смешение цветов в одну строчку\n",
    "print((lambda c, R, B, Y, O, P, G: Y if c == [Y, Y] else O if c == [Y, R] else G if c == [Y, B] else R if c == [R, R] else P if c == [R, B] else B if c == [B, B] else 'ошибка цвета')(sorted([input(), input()]), 'красный', 'синий', 'желтый', 'оранжевый', 'фиолетовый', 'зеленый'))"
   ]
  },
  {
   "cell_type": "code",
   "execution_count": 97,
   "metadata": {},
   "outputs": [
    {
     "name": "stdout",
     "output_type": "stream",
     "text": [
      "красный\n"
     ]
    }
   ],
   "source": [
    "# приемлемое решение по выбору цветов\n",
    "a=input()\n",
    "b=input()\n",
    "if (not (a in ('красный', 'желтый', 'синий'))) or (not (b in ('красный', 'желтый', 'синий'))) :\n",
    "    print('ошибка цвета')\n",
    "elif a=='красный' and b=='синий' or a=='синий' and b=='красный' :\n",
    "    print('фиолетовый')\n",
    "elif a=='красный' and b=='желтый' or a=='желтый' and b=='красный':\n",
    "    print('оранжевый')\n",
    "elif a=='синий' and b=='желтый' or a=='желтый' and b=='синий' :\n",
    "    print('зеленый')\n",
    "elif a==b:\n",
    "        print(a)"
   ]
  },
  {
   "cell_type": "code",
   "execution_count": 98,
   "metadata": {},
   "outputs": [
    {
     "name": "stdout",
     "output_type": "stream",
     "text": [
      "3.1415\n"
     ]
    }
   ],
   "source": [
    "\n",
    "print(\"3.1415\")"
   ]
  },
  {
   "cell_type": "code",
   "execution_count": 99,
   "metadata": {},
   "outputs": [
    {
     "name": "stdout",
     "output_type": "stream",
     "text": [
      "The world's a little blurry :) Or maybe it's my eyes!!!"
     ]
    }
   ],
   "source": [
    "print(\"The world's a little blurry\", \"Or maybe it's my eyes\", end='!!!', sep=' :) ')"
   ]
  },
  {
   "cell_type": "code",
   "execution_count": 3,
   "metadata": {},
   "outputs": [
    {
     "name": "stdout",
     "output_type": "stream",
     "text": [
      "56\n"
     ]
    }
   ],
   "source": [
    "a = 17 // (23 % 7)\n",
    "b = 34 % a * 5 - 29 % 4 * 3\n",
    "print(a * b)"
   ]
  },
  {
   "cell_type": "code",
   "execution_count": 1,
   "metadata": {},
   "outputs": [
    {
     "name": "stdout",
     "output_type": "stream",
     "text": [
      "*****************\n",
      "*               *\n",
      "*               *\n",
      "************\n"
     ]
    }
   ],
   "source": [
    "print(17*'*')\n",
    "print('*','*',sep=15*' ')\n",
    "print('*','*',sep=15*' ')\n",
    "print(17*'*')"
   ]
  },
  {
   "cell_type": "code",
   "execution_count": 11,
   "metadata": {},
   "outputs": [
    {
     "name": "stdout",
     "output_type": "stream",
     "text": [
      "ошибка ввода\n"
     ]
    }
   ],
   "source": [
    "a =int(input())\n",
    "\n",
    "black=[2,4,6,8,10,11,13,15,17,20,22,24,26,28,29,31,33,35]\n",
    "red=[1,3,5,7,9,12,14,16,18,19,21,23,25,27,30,32,34,36]\n",
    "\n",
    "# удобный способ проверки находится ли число в массиве БЕЗ цикла!\n",
    "if a in black: print('черный')\n",
    "elif a in red: print('красный')\n",
    "elif a==0: print('зеленый')\n",
    "else: print('ошибка ввода')\n",
    "\n",
    "   \n",
    "        "
   ]
  },
  {
   "cell_type": "code",
   "execution_count": 2,
   "metadata": {},
   "outputs": [
    {
     "name": "stdout",
     "output_type": "stream",
     "text": [
      "2 4\n"
     ]
    }
   ],
   "source": [
    "# найти пересечение двух множеств\n",
    "a1, b1, a2, b2 = int(input()), int(input()), int(input()), int(input()) \n",
    "if min(b1, b2) < max(a1, a2): \n",
    "    print('пустое множество')\n",
    "elif min(b1, b2) == max(a1, a2):\n",
    "    print(min(b1, b2))\n",
    "else:\n",
    "    print(max(a1, a2), min(b1, b2))"
   ]
  },
  {
   "cell_type": "code",
   "execution_count": 11,
   "metadata": {},
   "outputs": [
    {
     "name": "stdout",
     "output_type": "stream",
     "text": [
      "ты\n",
      "москварека\n"
     ]
    }
   ],
   "source": [
    "# вывести из списка самую короткую строку и самую длинную строку\n",
    "a=input()\n",
    "b=input()\n",
    "d=input()\n",
    "e=[len(a),len(b),len(d)]\n",
    "f=[a,b,d]\n",
    "minimum=[i for i in f if len(i)==min(e)]\n",
    "print(minimum[0])\n",
    "maximum=[i for i in f if len(i)==max(e)]\n",
    "print(maximum[0])"
   ]
  },
  {
   "cell_type": "code",
   "execution_count": 13,
   "metadata": {},
   "outputs": [
    {
     "name": "stdout",
     "output_type": "stream",
     "text": [
      "NO\n"
     ]
    }
   ],
   "source": [
    "from statistics import median\n",
    "a=input()\n",
    "b=input()\n",
    "d=input()\n",
    "f=[len(a),len(b),len(d)]\n",
    "e=[min(f),median(f),max(f)]\n",
    "if (e[0]-e[1])==(e[1]-e[2]): print('YES')\n",
    "else: print('NO')"
   ]
  },
  {
   "cell_type": "code",
   "execution_count": 14,
   "metadata": {},
   "outputs": [
    {
     "name": "stdout",
     "output_type": "stream",
     "text": [
      "2.8284271247461903\n"
     ]
    }
   ],
   "source": [
    "from math import *\n",
    "x1,x2,x3,x4= float(input()), float(input()), float(input()), float(input())\n",
    "P=[x1,x2]\n",
    "Q=[x3,x4]\n",
    "eDistance = dist(P, Q)\n",
    "print(eDistance)"
   ]
  },
  {
   "cell_type": "code",
   "execution_count": 23,
   "metadata": {},
   "outputs": [
    {
     "name": "stdout",
     "output_type": "stream",
     "text": [
      "среднее арифметическое =\n",
      "1.5\n",
      "среднее геометрическое =\n",
      "1.414213562373095\n",
      "среднее гармоническое =\n",
      "1.3333333333333333\n",
      "среднее квадратичное число =\n",
      "1.5811388300841898\n"
     ]
    }
   ],
   "source": [
    "# среднее арифметическое,среднее геометрическое, среднее гармоническое, среднее квадратическое числа\n",
    "\n",
    "from scipy.stats import gmean, hmean\n",
    "from statistics import mean\n",
    "a,b = float(input()), float(input())\n",
    "L=[a,b]\n",
    "L1=[i*i for i in L]\n",
    "h=sqrt((sum(L1))/len(L))\n",
    "\n",
    "print('среднее арифметическое =', mean(L), 'среднее геометрическое =', gmean(L), \n",
    "    'среднее гармоническое =',hmean(L), 'среднее квадратичное число =', h, sep='\\n')"
   ]
  },
  {
   "cell_type": "code",
   "execution_count": 24,
   "metadata": {},
   "outputs": [
    {
     "name": "stdout",
     "output_type": "stream",
     "text": [
      "1361015"
     ]
    }
   ],
   "source": [
    "total = 0\n",
    "for i in range(1, 6):\n",
    "    total += i\n",
    "    print(total, end='')"
   ]
  },
  {
   "cell_type": "code",
   "execution_count": 45,
   "metadata": {},
   "outputs": [
    {
     "name": "stdout",
     "output_type": "stream",
     "text": [
      "1 1 2 3 5 8 13 21 34 55 89 144 "
     ]
    }
   ],
   "source": [
    "# фибоначчи \n",
    "fib=[1,1]\n",
    " \n",
    "n =int(input())\n",
    "if n>1: \n",
    "    for i in range(3,n+1):\n",
    "        fib_next = fib[i-3] + fib[i-2]\n",
    "        fib.append(fib_next)\n",
    "\n",
    "    for i in range(len(fib)): print(fib[i], end=' ')\n",
    "else: print(1)"
   ]
  },
  {
   "cell_type": "code",
   "execution_count": 47,
   "metadata": {},
   "outputs": [
    {
     "name": "stdout",
     "output_type": "stream",
     "text": [
      "Сумма чисел равна 23426936\n"
     ]
    }
   ],
   "source": [
    "# цикл, который повторяется (складывает введенные числа), пока не введена команда stop\n",
    "text = input()\n",
    "total = 0\n",
    "while text != 'stop':\n",
    "    num = int(text)\n",
    "    total += num\n",
    "    text = input()\n",
    "print('Сумма введенных чисел равна', total)"
   ]
  },
  {
   "cell_type": "code",
   "execution_count": 52,
   "metadata": {},
   "outputs": [
    {
     "name": "stdout",
     "output_type": "stream",
     "text": [
      "7\n"
     ]
    }
   ],
   "source": [
    "# ведьмаку заплатите чеканной монетой\n",
    "# выведет минимальное количество монет номиналом 1,5,10,25 , которое содержится в N\n",
    "N=int(input())\n",
    "cont= N//25+N%25//10+(N%25%10)//5+(N%25%10)%5\n",
    "print(cont)"
   ]
  },
  {
   "cell_type": "code",
   "execution_count": 58,
   "metadata": {},
   "outputs": [
    {
     "name": "stdout",
     "output_type": "stream",
     "text": [
      "54321"
     ]
    }
   ],
   "source": [
    "# вывести цифры числа в прямом /обратном порядке\n",
    "a=int(input())\n",
    "spis=[]\n",
    "while a!=0:\n",
    "    spis.append(a%10) # запишем все цифры числа в последовательность\n",
    "    a=a//10\n",
    "\n",
    "# прямой порядок    \n",
    "#for i in range((len(spis)-1),-1,-1): # добавим цикл, в котором пробежим от конца к началу с шагом (-1)\n",
    "#    print(spis[i], end=' ')\n",
    "\n",
    "# обратный порядок\n",
    "for i in range(len(spis)):\n",
    "    print(spis[i], end='')"
   ]
  },
  {
   "cell_type": "code",
   "execution_count": 59,
   "metadata": {},
   "outputs": [
    {
     "name": "stdout",
     "output_type": "stream",
     "text": [
      "Максимальная цифра равна 5\n",
      "Минимальная цифра равна 1\n"
     ]
    }
   ],
   "source": [
    "# минимальная и максимальная цифра числа\n",
    "\n",
    "a=int(input())\n",
    "spis=[]\n",
    "while a!=0:\n",
    "    spis.append(a%10) # запишем все цифры числа в последовательность\n",
    "    a=a//10\n",
    "\n",
    "print('Максимальная цифра равна',max(spis))\n",
    "print('Минимальная цифра равна',min(spis))\n"
   ]
  },
  {
   "cell_type": "code",
   "execution_count": 64,
   "metadata": {},
   "outputs": [
    {
     "name": "stdout",
     "output_type": "stream",
     "text": [
      "15 5 120 3 1 6\n"
     ]
    }
   ],
   "source": [
    "# для ЧИСЛА вывести: сумму его цифр, кол-во цифр, произведение его цифр, \n",
    "# среднее его цифр, первую цифру, сумму первой и последней цифры\n",
    "\n",
    "a=int(input())\n",
    "import functools\n",
    "import statistics\n",
    "\n",
    "spis=[]\n",
    "while a!=0:\n",
    "    spis.append(a%10) # запишем все цифры числа в последовательность\n",
    "    a=a//10\n",
    "\n",
    "print(sum(spis), len(spis), functools.reduce(lambda a,b: a*b, spis),\n",
    "    mean(spis), spis[len(spis)-1], (spis[len(spis)-1]+ spis[0]))#,sep='\\n')"
   ]
  },
  {
   "cell_type": "code",
   "execution_count": 73,
   "metadata": {},
   "outputs": [
    {
     "name": "stdout",
     "output_type": "stream",
     "text": [
      "YES\n"
     ]
    }
   ],
   "source": [
    "# проверить состоит ли ЧИСЛО из одинаковых ЦИФР\n",
    "a=int(input())\n",
    "from statistics import mean\n",
    "spis=[]\n",
    "while a!=0:\n",
    "    spis.append(a%10) # запишем все цифры числа в последовательность\n",
    "    a=a//10\n",
    "\n",
    "if spis[i in spis]==mean(spis): print('YES')\n",
    "else: print('NO')"
   ]
  },
  {
   "cell_type": "code",
   "execution_count": 82,
   "metadata": {},
   "outputs": [
    {
     "name": "stdout",
     "output_type": "stream",
     "text": [
      "NO\n"
     ]
    }
   ],
   "source": [
    "# проверить состоит ли ЧИСЛО из одинаковых ЦИФР\n",
    "a=int(input())\n",
    "from statistics import mean\n",
    "spis=[]\n",
    "while a!=0:\n",
    "    spis.append(a%10) # запишем все цифры числа в последовательность\n",
    "    a=a//10\n",
    "b=0\n",
    "for i in range(0,len(spis)):\n",
    "    if mean(spis)==spis[i]: b+=1\n",
    "if b==len(spis): print('YES')\n",
    "else: print('NO')"
   ]
  },
  {
   "cell_type": "code",
   "execution_count": 84,
   "metadata": {},
   "outputs": [
    {
     "name": "stdout",
     "output_type": "stream",
     "text": [
      "YES\n"
     ]
    }
   ],
   "source": [
    "# проверить состоит ли ЧИСЛО из одинаковых ЦИФР\n",
    "num = input() # скажем, что число - это вообще-то строка\n",
    "a = max(num) # возьмем максимальное из этого набора\n",
    "b = min(num) # минимальное из этого набора\n",
    "if a == b: # ну и сравним их! если равны - значит все цифры равны\n",
    "    print('YES')\n",
    "else:\n",
    "    print('NO')"
   ]
  },
  {
   "cell_type": "code",
   "execution_count": 2,
   "metadata": {},
   "outputs": [
    {
     "name": "stdout",
     "output_type": "stream",
     "text": [
      "YES\n"
     ]
    }
   ],
   "source": [
    "# проверить, является ли последовательность цифр справа налево упорядоченной по возрастанию\n",
    "\n",
    "a=int(input())\n",
    "from statistics import mean\n",
    "spis=[]\n",
    "\n",
    "while a!=0:\n",
    "    spis.append(a%10) # запишем все цифры числа в последовательность\n",
    "    a=a//10\n",
    "\n",
    "\n",
    "b=0\n",
    "for i in range(0,len(spis)-1):\n",
    "    if spis[i+1]>=spis[i]: b+=1\n",
    "if b==len(spis)-1: print('YES')\n",
    "else: print('NO')"
   ]
  },
  {
   "cell_type": "code",
   "execution_count": 6,
   "metadata": {},
   "outputs": [
    {
     "name": "stdout",
     "output_type": "stream",
     "text": [
      "-12\n",
      "-1\n"
     ]
    }
   ],
   "source": [
    "spis=[]\n",
    "for i in range(10):\n",
    "    x=int(input())\n",
    "    if x<0:\n",
    "        spis.append(x)\n",
    "if len(spis)>0:\n",
    "    print(sum(spis),max(spis), sep='\\n')\n",
    "else: print('NO')"
   ]
  },
  {
   "cell_type": "code",
   "execution_count": 7,
   "metadata": {},
   "outputs": [
    {
     "name": "stdout",
     "output_type": "stream",
     "text": [
      "0\n"
     ]
    }
   ],
   "source": [
    "print(0%3)"
   ]
  },
  {
   "cell_type": "code",
   "execution_count": 11,
   "metadata": {},
   "outputs": [
    {
     "name": "stdout",
     "output_type": "stream",
     "text": [
      "6\n"
     ]
    }
   ],
   "source": [
    "n=int(input())\n",
    "spis=[]\n",
    "while n>0:\n",
    "    digit = n%10\n",
    "    if digit%3 ==0: spis.append(digit)\n",
    "    n = n//10\n",
    "if len(spis)>0: print(max(spis))\n",
    "else: print('NO')\n"
   ]
  },
  {
   "cell_type": "code",
   "execution_count": null,
   "metadata": {},
   "outputs": [],
   "source": [
    "# напишите программу , которая складвает числа от 1 до n\n",
    "n=int(input())\n",
    "\n",
    "for i in range(1,n+1):\n",
    "    for j in range(1,10):\n",
    "        print(i,'+',j,'=',i+j, end='\\n')\n",
    "    print()\n"
   ]
  },
  {
   "cell_type": "code",
   "execution_count": 12,
   "metadata": {},
   "outputs": [
    {
     "name": "stdout",
     "output_type": "stream",
     "text": [
      "*\n",
      "**\n",
      "***\n",
      "****\n",
      "*****\n",
      "****\n",
      "***\n",
      "**\n",
      "*\n"
     ]
    }
   ],
   "source": [
    "# программа выводит треугольник из * , основание трегольника равно n\n",
    "n=int(input())\n",
    "h=int((n+1)/2)\n",
    "\n",
    "for i in range(1,h+1):\n",
    "    print(i*'*', end='\\n')\n",
    "for i in range(h-1,0,-1):\n",
    "    print(i*'*', end='\\n')\n"
   ]
  },
  {
   "cell_type": "code",
   "execution_count": 13,
   "metadata": {},
   "outputs": [
    {
     "name": "stdout",
     "output_type": "stream",
     "text": [
      "1\n",
      "22\n",
      "333\n",
      "4444\n",
      "55555\n"
     ]
    }
   ],
   "source": [
    "# программа выводит треугольник из цифр, где каждая строка из одинаковых цифр (1,22,333,4444 ... nnnnn)\n",
    "\n",
    "n=int(input())\n",
    "for i in range(1,n+1): \n",
    "    for j in range(1,i+1):\n",
    "        print(i, end='')\n",
    "    print()\n"
   ]
  },
  {
   "cell_type": "code",
   "execution_count": 14,
   "metadata": {},
   "outputs": [
    {
     "name": "stdout",
     "output_type": "stream",
     "text": [
      "x = 1 y = 4 z = 7\n",
      "x = 2 y = 1 z = 9\n",
      "Общее количество натуральных решений = 2\n"
     ]
    }
   ],
   "source": [
    "# перебор значений для уравнения с несколькими неизвестными\n",
    "\n",
    "total = 0\n",
    "for x in range(1, 13):\n",
    "    for y in range(1, 12):\n",
    "        for z in range(1, 11):\n",
    "            if x *28 + y *30 + z * 31 == 365:\n",
    "                total += 1\n",
    "                print('x =', x, 'y =', y, 'z =', z)\n",
    "print('Общее количество натуральных решений =', total)"
   ]
  },
  {
   "cell_type": "code",
   "execution_count": 9,
   "metadata": {},
   "outputs": [
    {
     "data": {
      "text/plain": [
       "999.0"
      ]
     },
     "execution_count": 9,
     "metadata": {},
     "output_type": "execute_result"
    }
   ],
   "source": [
    "891/99 + 99 + 891 "
   ]
  },
  {
   "cell_type": "code",
   "execution_count": 4,
   "metadata": {},
   "outputs": [
    {
     "name": "stdout",
     "output_type": "stream",
     "text": [
      "x = 1 y = 499\n",
      "x = 3 y = 747\n",
      "x = 4 y = 796\n",
      "x = 7 y = 868\n",
      "x = 9 y = 891\n",
      "x = 19 y = 931\n",
      "x = 24 y = 936\n",
      "x = 39 y = 936\n",
      "x = 49 y = 931\n",
      "x = 99 y = 891\n",
      "x = 124 y = 868\n",
      "x = 199 y = 796\n",
      "x = 249 y = 747\n",
      "x = 499 y = 499\n",
      "Общее количество натуральных решений = 14\n"
     ]
    }
   ],
   "source": [
    "total = 0\n",
    "for x in range(1, 1000):\n",
    "    for y in range(1, 1000):\n",
    "        if x + y + y/x == 999:\n",
    "                total += 1\n",
    "                print('x =', x, 'y =', y)\n",
    "print('Общее количество натуральных решений =', total)"
   ]
  },
  {
   "cell_type": "code",
   "execution_count": 30,
   "metadata": {},
   "outputs": [
    {
     "name": "stdout",
     "output_type": "stream",
     "text": [
      "2.3161764705882355\n"
     ]
    }
   ],
   "source": [
    "a= 34\n",
    "b= 33\n",
    "\n",
    "res = 0\n",
    "\n",
    "while a>=17:\n",
    "    res += 70/(a*b)\n",
    "    a-=1\n",
    "    b-=1\n",
    "\n",
    "print(res)"
   ]
  },
  {
   "cell_type": "code",
   "execution_count": 27,
   "metadata": {},
   "outputs": [
    {
     "data": {
      "text/plain": [
       "0.0623885918003565"
      ]
     },
     "execution_count": 27,
     "metadata": {},
     "output_type": "execute_result"
    }
   ],
   "source": [
    "70/34/33"
   ]
  },
  {
   "cell_type": "code",
   "execution_count": 22,
   "metadata": {},
   "outputs": [
    {
     "data": {
      "text/plain": [
       "0.12867647058823528"
      ]
     },
     "execution_count": 22,
     "metadata": {},
     "output_type": "execute_result"
    }
   ],
   "source": [
    "35/16/17"
   ]
  },
  {
   "cell_type": "code",
   "execution_count": 3,
   "metadata": {},
   "outputs": [
    {
     "data": {
      "text/plain": [
       "False"
      ]
     },
     "execution_count": 3,
     "metadata": {},
     "output_type": "execute_result"
    }
   ],
   "source": [
    "0.2+0.1 ==0.3"
   ]
  },
  {
   "cell_type": "code",
   "execution_count": 26,
   "metadata": {},
   "outputs": [
    {
     "name": "stdout",
     "output_type": "stream",
     "text": [
      "Числитель: 3.197377517639621\n",
      "Знаменатель: 0.6548839001848924\n"
     ]
    }
   ],
   "source": [
    "numerator = 0\n",
    "denominator = 1\n",
    "\n",
    "for k in range(1, 100):\n",
    "    prob_k = (k + 1) ** (-2) * (1 - (k) ** (-2))\n",
    "    numerator += k * prob_k\n",
    "    denominator -= prob_k\n",
    "\n",
    "print(\"Числитель:\", numerator)\n",
    "print(\"Знаменатель:\", denominator)\n"
   ]
  },
  {
   "cell_type": "code",
   "execution_count": 21,
   "metadata": {},
   "outputs": [
    {
     "data": {
      "text/plain": [
       "0.0623885918003565"
      ]
     },
     "execution_count": 21,
     "metadata": {},
     "output_type": "execute_result"
    }
   ],
   "source": [
    "70/34/33"
   ]
  },
  {
   "cell_type": "code",
   "execution_count": 16,
   "metadata": {},
   "outputs": [
    {
     "name": "stdout",
     "output_type": "stream",
     "text": [
      "x = 1 y = 9 z = 90\n",
      "Общее количество натуральных решений = 1\n"
     ]
    }
   ],
   "source": [
    "# Имеется 100 рублей. Сколько быков, коров и телят можно купить на все эти деньги, \n",
    "#если плата за быка – 10 рублей, за корову – 5 рублей, \n",
    "#за теленка – 0.5 рубля и надо купить 100 голов скота?\n",
    "\n",
    "total = 0\n",
    "for x in range(1, 10):\n",
    "    for y in range(1, 20):\n",
    "        for z in range(1, 200):\n",
    "            if x *10 + y *5 + z * 0.5 == 100 and x+y+z==100:\n",
    "                total += 1\n",
    "                print('x =', x, 'y =', y, 'z =', z)\n",
    "print('Общее количество натуральных решений =', total)"
   ]
  },
  {
   "cell_type": "code",
   "execution_count": 20,
   "metadata": {},
   "outputs": [
    {
     "ename": "IndentationError",
     "evalue": "unexpected indent (1147772677.py, line 6)",
     "output_type": "error",
     "traceback": [
      "\u001b[0;36m  Cell \u001b[0;32mIn [20], line 6\u001b[0;36m\u001b[0m\n\u001b[0;31m    for y in range(1, 150):\u001b[0m\n\u001b[0m    ^\u001b[0m\n\u001b[0;31mIndentationError\u001b[0m\u001b[0;31m:\u001b[0m unexpected indent\n"
     ]
    }
   ],
   "source": [
    "#Гипотеза Эйлера о сумме степеней для теоремы Ферма\n",
    "# https://stepik.org/lesson/298795/step/13?unit=280622\n",
    "# решение https://habr.com/ru/post/317588/\n",
    "\n",
    "total = 0\n",
    "#for x in range(1, 150): # специально заблочил код, потому что цикл невероятно долгий\n",
    "    for y in range(1, 150):\n",
    "        for z in range(1, 150):\n",
    "            for a in range(1, 150):\n",
    "                for e in range(1, 150):\n",
    "                    if x **5 + y **5 + z ** 5 + a **5 == e** 5 :\n",
    "                        total += 1\n",
    "                        print('x =', x, 'y =', y, 'z =', z, 'a =', a,'e =', e)\n",
    "print('Общее количество натуральных решений =', total)"
   ]
  },
  {
   "cell_type": "code",
   "execution_count": 21,
   "metadata": {},
   "outputs": [
    {
     "name": "stdout",
     "output_type": "stream",
     "text": [
      "498\n"
     ]
    }
   ],
   "source": [
    "print(27+84+110+133+144)"
   ]
  },
  {
   "cell_type": "code",
   "execution_count": 40,
   "metadata": {},
   "outputs": [
    {
     "name": "stdout",
     "output_type": "stream",
     "text": [
      "1 \n",
      "2 3 \n",
      "4 5 6 \n",
      "7 8 9 10 \n",
      "11 12 13 14 15 \n"
     ]
    }
   ],
   "source": [
    "# напечатать численный треугольник\n",
    "\n",
    "n=int(input())\n",
    "a=0\n",
    "for i in range(1,n+1):\n",
    "    for j in range(1, i+1) :\n",
    "        a+=1\n",
    "        print(a, end=' ')\n",
    "        \n",
    "    \n",
    "    print()"
   ]
  },
  {
   "cell_type": "code",
   "execution_count": 71,
   "metadata": {},
   "outputs": [
    {
     "name": "stdout",
     "output_type": "stream",
     "text": [
      "1\n",
      "121\n",
      "12321\n",
      "1234321\n",
      "123454321\n",
      "12345654321\n"
     ]
    }
   ],
   "source": [
    "# еще один численный треугольник : https://stepik.org/lesson/298796/step/2?unit=280623\n",
    "\n",
    "n=int(input())\n",
    "\n",
    "for i in range(1,n+1):\n",
    "    \n",
    "    for j in range(0,i+1):\n",
    "        if j<i:\n",
    "            print(j+1, end='')\n",
    "        else:\n",
    "            for a in range(j-1,0,-1):\n",
    "                print(a,end='')\n",
    "    print() \n"
   ]
  },
  {
   "cell_type": "code",
   "execution_count": 70,
   "metadata": {},
   "outputs": [
    {
     "name": "stdout",
     "output_type": "stream",
     "text": [
      "12345654321"
     ]
    }
   ],
   "source": [
    "# вспомогательный код\n",
    "n=int(input())\n",
    "for i in range(0,n+1):\n",
    "    if i<n: print(i+1,end='')\n",
    "    else: \n",
    "        for a in range(i-1,0,-1):\n",
    "            print(a,end='')"
   ]
  },
  {
   "cell_type": "code",
   "execution_count": 85,
   "metadata": {},
   "outputs": [
    {
     "name": "stdout",
     "output_type": "stream",
     "text": [
      "672 2016\n"
     ]
    }
   ],
   "source": [
    "# найти число в диапазоне [a,b] c максимальной суммой делителей\n",
    "\n",
    "a=int(input())\n",
    "b=int(input())\n",
    "import numpy as np\n",
    "spis= np.arange(a, b+1, 1) # создаем список чисел, который будем щупать\n",
    "#print(spis)\n",
    "summ=0\n",
    "spis_summ=[] #создаем список для суммирования делителей\n",
    "\n",
    "# создали вложенные циклы для поиска всех делителей для каждого числа в списке\n",
    "for i in range(0,len(spis)):\n",
    "    for j in range(1,spis[i]+1):\n",
    "        if spis[i]%j==0:\n",
    "            summ+=j # считаем сумму всех этих делителей\n",
    "    spis_summ.append(summ) # загружаем эти суммы в список\n",
    "    summ=0\n",
    "    \n",
    "# print(spis_summ)\n",
    "\n",
    "# ищем максимальное в списке сумм и выводим само число и сумму его делителей\n",
    "for i in range(len(spis)-1,-1,-1): # принципиально начать с конца, т.к если будет два числа с одинаковой суммой делителей, то нужно вывести максимальное число, а оно явно будет в конце \n",
    "    if max(spis_summ)==spis_summ[i]:\n",
    "        print(spis[i], spis_summ[i], sep=' ')\n",
    "        break # не забудем закрыть цикл, когда нашли максимальное число(пока идем с конца)\n"
   ]
  },
  {
   "cell_type": "code",
   "execution_count": 93,
   "metadata": {},
   "outputs": [
    {
     "name": "stdout",
     "output_type": "stream",
     "text": [
      "1+\n",
      "2++\n",
      "3++\n",
      "4+++\n",
      "5++\n",
      "6++++\n",
      "7++\n",
      "8++++\n"
     ]
    }
   ],
   "source": [
    "# показать количество делителей у чисел от 1 до n\n",
    "\n",
    "n=int(input())\n",
    "tot=0 # число делителей\n",
    "total=[] # список делителей\n",
    "for i in range(1,n+1):\n",
    "    for j in range(1,i+1):\n",
    "        if i%j==0:\n",
    "            tot+=1\n",
    "    total.append(tot)\n",
    "    tot=0\n",
    "for i in range(1,n+1):\n",
    "    print(i, total[i-1]*'+', sep='')\n"
   ]
  },
  {
   "cell_type": "code",
   "execution_count": 106,
   "metadata": {},
   "outputs": [
    {
     "name": "stdout",
     "output_type": "stream",
     "text": [
      "39 3\n"
     ]
    }
   ],
   "source": [
    "n=input()\n",
    "spis=[]\n",
    "for i in range(len(n)):\n",
    "    spis.append(int(n[i]))\n",
    "a=str(sum(spis))\n",
    "print(a, a[0])"
   ]
  },
  {
   "cell_type": "code",
   "execution_count": 102,
   "metadata": {},
   "outputs": [
    {
     "name": "stdout",
     "output_type": "stream",
     "text": [
      "5\n"
     ]
    }
   ],
   "source": [
    "n=int(input())\n",
    "summ=0\n",
    "while n>0:\n",
    "    summ+=n%10\n",
    "    n=n//10\n",
    "summa=0\n",
    "while summ>0:\n",
    "    summa+=summ%10\n",
    "    summ=summ//10\n",
    "summa_2=0\n",
    "while summa>0:\n",
    "    summa_2+=summa%10\n",
    "    summa=summa//10\n",
    "print(summa_2)"
   ]
  },
  {
   "cell_type": "code",
   "execution_count": 108,
   "metadata": {},
   "outputs": [
    {
     "name": "stdout",
     "output_type": "stream",
     "text": [
      "5913\n"
     ]
    }
   ],
   "source": [
    "# сумма факториалов от 1 до n \n",
    "n = int(input())\n",
    "import numpy as np\n",
    "spis= np.arange(1, n+1, 1)\n",
    "from math import factorial\n",
    "spis= [factorial(i) for i in spis]\n",
    "print(sum(spis))\n"
   ]
  },
  {
   "cell_type": "code",
   "execution_count": 115,
   "metadata": {},
   "outputs": [
    {
     "name": "stdout",
     "output_type": "stream",
     "text": [
      "[2, 3, 5, 7]\n",
      "2\n",
      "3\n",
      "5\n",
      "7\n"
     ]
    }
   ],
   "source": [
    "# вывести все простые числа в диапазоне [a,b] (которые делятся на 1 и на само себя)\n",
    "\n",
    "a=int(input())\n",
    "b=int(input())\n",
    "import numpy as np\n",
    "spis= np.arange(a, b+1, 1) # создаем список чисел, который будем щупать\n",
    "\n",
    "spis_dif=[] #создаем список для сложных чисел\n",
    "\n",
    "# создаем цикл, в котором отберем все сложные (составные) числа\n",
    "for i in range(0,len(spis)):\n",
    "    for j in range(1,spis[i]+1):\n",
    "        if spis[i]%j==0 and j!=1 and j!=spis[i]:\n",
    "            spis_dif.append(spis[i]) # загружаем все сложные числа в список\n",
    "\n",
    "# теперь оставим в списке SPIS  только те числа, которых нет в списке сложных чисел\n",
    "# другими словами, оставить только те символы в списке, которые не содержатся в другом списке\n",
    "spis_easy= [i for i in spis if i not in spis_dif and i!=1]\n",
    "print(spis_easy)\n",
    "for i in range(len(spis_easy)):\n",
    "    print(spis_easy[i])\n"
   ]
  },
  {
   "cell_type": "code",
   "execution_count": 119,
   "metadata": {},
   "outputs": [
    {
     "name": "stdout",
     "output_type": "stream",
     "text": [
      "*******************\n",
      "*                 *\n",
      "*                 *\n",
      "*                 *\n",
      "*******************\n"
     ]
    }
   ],
   "source": [
    "n=int(input())\n",
    "for i in range(n):\n",
    "    if i==0 or i==n-1:\n",
    "        print(19*'*')\n",
    "    else: print('*',15*' ','*',)"
   ]
  },
  {
   "cell_type": "code",
   "execution_count": 144,
   "metadata": {},
   "outputs": [
    {
     "name": "stdout",
     "output_type": "stream",
     "text": [
      "01234567822232\n",
      "14\n",
      "2 5 9 21 8 2\n"
     ]
    }
   ],
   "source": [
    "# работа с цифрами числа\n",
    "\n",
    "import functools\n",
    "n=input()\n",
    "print(n)\n",
    "\n",
    "spis_3=[i for i in n if i=='3'] # сколько троек в числе\n",
    "spis_last=[i for i in n if i==n[len(n)-1]] # сколько раз встречается последняя цифра в числе\n",
    "spis_chet=[i for i in n if int(i)%2==0] # сколько четных цифр в числе\n",
    "spis_5=[int(i) for i in n if int(i)>5] # сколько цифр больше пяти\n",
    "spis_7=[int(i) for i in n if int(i)>7] # сколько цифр больше семи\n",
    "if len(spis_7)==0: seven=1\n",
    "else: seven= functools.reduce(lambda a,b: a*b, spis_7) # произведение цифр больше семи\n",
    "spis_0_5=[int(i) for i in n if int(i)==0 or int(i)==5] # сколько цифр 0 и 5 в числе\n",
    "print(len(spis_3), len(spis_last), len(spis_chet), sum((spis_5)), seven, len(spis_0_5))"
   ]
  },
  {
   "cell_type": "code",
   "execution_count": 162,
   "metadata": {},
   "outputs": [
    {
     "name": "stdout",
     "output_type": "stream",
     "text": [
      "x = 1 y = 12 z = 9 a = 10 R = 1729\n",
      "x = 1 y = 12 z = 10 a = 9 R = 1729\n",
      "x = 2 y = 16 z = 9 a = 15 R = 4104\n",
      "x = 2 y = 16 z = 15 a = 9 R = 4104\n",
      "x = 2 y = 24 z = 18 a = 20 R = 13832\n",
      "x = 2 y = 24 z = 20 a = 18 R = 13832\n",
      "x = 2 y = 34 z = 15 a = 33 R = 39312\n",
      "x = 2 y = 34 z = 33 a = 15 R = 39312\n",
      "x = 3 y = 36 z = 27 a = 30 R = 46683\n",
      "x = 3 y = 36 z = 30 a = 27 R = 46683\n",
      "x = 4 y = 32 z = 18 a = 30 R = 32832\n",
      "x = 4 y = 32 z = 30 a = 18 R = 32832\n"
     ]
    }
   ],
   "source": [
    "total = 0\n",
    "for x in range(1, 40):\n",
    "    for y in range(1, 40):\n",
    "        for z in range(1, 40):\n",
    "            if z!=x and z!=y:\n",
    "                for a in range(1,40):\n",
    "                    if a!=z:\n",
    "                        if x **3 + y **3  == z**3 + a**3 :\n",
    "                            total += 1\n",
    "                            print('x =', x, 'y =', y, 'z =', z, 'a =', a, 'R =', x**3+y**3)\n",
    "    if total>10 : break\n",
    "\n",
    "\n"
   ]
  },
  {
   "cell_type": "code",
   "execution_count": 171,
   "metadata": {},
   "outputs": [
    {
     "name": "stdout",
     "output_type": "stream",
     "text": [
      "Количество гласных букв равно  25\n",
      "Количество согласных букв равно  24\n",
      "Вдохновение – это умение приводить себя в рабочее состояние!\n",
      "['В', 'д', 'х', 'н', 'в', 'н', 'т', 'м', 'н', 'п', 'р', 'в', 'д', 'т', 'с', 'б', 'в', 'р', 'б', 'ч', 'с', 'с', 'т', 'н']\n"
     ]
    }
   ],
   "source": [
    "# посчитать количество конкретных символов в строке\n",
    "\n",
    "n=input()\n",
    "glas=['а', 'у', 'о', 'ы', 'и', 'э', 'я', 'ю', 'ё', 'е','А', 'У', 'О', 'Ы', 'И', 'Э', 'Я', 'Ю', 'Ё', 'Е']\n",
    "soglas=['б', 'в', 'г', 'д', 'ж', 'з', 'й', 'к', 'л', 'м', 'н', 'п', 'р', 'с', 'т', 'ф', 'х', \n",
    "'ц', 'ч', 'ш', 'щ','Б', 'В', 'Г', 'Д', 'Ж', 'З', 'Й', 'К', 'Л', 'М', 'Н', 'П', 'Р', 'С', 'Т', 'Ф', 'Х', 'Ц', 'Ч', 'Ш', 'Щ']\n",
    "spis_glas_n= [i for i in n if i in glas]\n",
    "spis_soglas_n= [i for i in n if i in soglas]\n",
    "print('Количество гласных букв равно ',len(spis_glas_n))\n",
    "print('Количество согласных букв равно ',len(spis_soglas_n))\n",
    "print(n)\n",
    "print(spis_soglas_n)"
   ]
  },
  {
   "cell_type": "code",
   "execution_count": 176,
   "metadata": {},
   "outputs": [
    {
     "name": "stdout",
     "output_type": "stream",
     "text": [
      "10011"
     ]
    }
   ],
   "source": [
    "# вывести двоичное число из заданного\n",
    "n=int(input())\n",
    "digit_2=[]\n",
    "while n>0:\n",
    "    digit=n%2\n",
    "    digit_2.append(digit)\n",
    "    n//=2\n",
    "digit_2.reverse() # развернуть список задом наперед, в обратном порядке\n",
    "for i in range(len(digit_2)):\n",
    "    print(digit_2[i], end='')\n"
   ]
  },
  {
   "cell_type": "code",
   "execution_count": 182,
   "metadata": {},
   "outputs": [
    {
     "name": "stdout",
     "output_type": "stream",
     "text": [
      "10011\n"
     ]
    }
   ],
   "source": [
    "# вывести двоичное число из заданного\n",
    "n = int(input())\n",
    "numb = ''\n",
    "\n",
    "while n != 0:\n",
    "   numb = str(n%2) + numb\n",
    "   n = n // 2\n",
    "print(numb)"
   ]
  },
  {
   "cell_type": "code",
   "execution_count": 183,
   "metadata": {},
   "outputs": [
    {
     "name": "stdout",
     "output_type": "stream",
     "text": [
      "10011\n"
     ]
    }
   ],
   "source": [
    "# вывести двоичное число из заданного\n",
    "n = int(input())\n",
    "s2 = bin(n)\n",
    "s2 = str(s2)\n",
    "s2 = s2[2: len(s2)]\n",
    "print (int(s2))"
   ]
  },
  {
   "cell_type": "code",
   "execution_count": null,
   "metadata": {},
   "outputs": [],
   "source": [
    "# вывести строку в обратном порядке\n",
    "\n",
    "print(s[::-1]) "
   ]
  },
  {
   "cell_type": "code",
   "execution_count": 198,
   "metadata": {},
   "outputs": [
    {
     "name": "stdout",
     "output_type": "stream",
     "text": [
      "heLLO worLD1231231\n",
      "hewor\n",
      "LLOLD\n",
      "1231231\n"
     ]
    }
   ],
   "source": [
    "s=input()\n",
    "print(s)\n",
    "\n",
    "low_s=''.join(i for i in s if i.islower()) # присоединяем в строку только те символы, которые являются буквами в НИЖНЕМ регистре\n",
    "up_s=''.join(i for i in s if i.isupper()) # присоединяем в строку только те символы, которые являются буквами в ВЕРХНЕМ регист\n",
    "digit_s=''.join(i for i in s if i.isdigit())# присоединяем в строку только те символы, которые являются ЦИФРАМИ\n",
    "print(low_s, up_s,digit_s, sep='\\n')\n"
   ]
  },
  {
   "cell_type": "code",
   "execution_count": 200,
   "metadata": {},
   "outputs": [
    {
     "name": "stdout",
     "output_type": "stream",
     "text": [
      "abcdabcd\n"
     ]
    }
   ],
   "source": [
    "s=input()\n",
    "s=s.lower()\n",
    "print('Аденин:', s.count('а'))\n",
    "print('Гуанин:', s.count('г'))\n",
    "print('Цитозин:', s.count('ц'))\n",
    "print('Тимин:', s.count('т'))"
   ]
  },
  {
   "cell_type": "code",
   "execution_count": 206,
   "metadata": {},
   "outputs": [
    {
     "name": "stdout",
     "output_type": "stream",
     "text": [
      "2\n"
     ]
    }
   ],
   "source": [
    "n=int(input())\n",
    "kol=0\n",
    "for i in range(0,n):\n",
    "    s=input()\n",
    "    s=s.lower()\n",
    "    if (s.count('11'))==3:\n",
    "        kol+=1\n",
    "print(kol)"
   ]
  },
  {
   "cell_type": "code",
   "execution_count": 204,
   "metadata": {},
   "outputs": [
    {
     "name": "stdout",
     "output_type": "stream",
     "text": [
      "2\n"
     ]
    }
   ],
   "source": [
    "# посчитать сколько чисел в строке\n",
    "s=input()\n",
    "digit_s=''.join(i for i in s if i.isdigit())\n",
    "print(len(digit_s))"
   ]
  },
  {
   "cell_type": "code",
   "execution_count": null,
   "metadata": {},
   "outputs": [],
   "source": [
    "# проверить что на конце строки стоит нужная мне последовательность\n",
    "s=input()\n",
    "if s.endswith('.com')==True or s.endswith('.ru')==True: print('YES')\n",
    "else: print('NO')\n"
   ]
  },
  {
   "cell_type": "code",
   "execution_count": 212,
   "metadata": {},
   "outputs": [
    {
     "name": "stdout",
     "output_type": "stream",
     "text": [
      "d\n"
     ]
    }
   ],
   "source": [
    "# вывести наиболее повторяющийся символ в строке\n",
    "\n",
    "count=0\n",
    "letter=''\n",
    "s=input()\n",
    "for i in range(len(s)):\n",
    "    if s.count(s[i])>=count: \n",
    "        count=s.count(s[i])\n",
    "        letter=s[i]\n",
    "print(letter)\n"
   ]
  },
  {
   "cell_type": "code",
   "execution_count": 217,
   "metadata": {},
   "outputs": [
    {
     "name": "stdout",
     "output_type": "stream",
     "text": [
      "NO\n"
     ]
    }
   ],
   "source": [
    "s=input()\n",
    "if s.find('f')!= -1:\n",
    "    if s.find('f')==s.rfind('f'): print(s.find('f'))\n",
    "    else: print(s.find('f'), s.rfind('f'))\n",
    "else: print('NO')"
   ]
  },
  {
   "cell_type": "code",
   "execution_count": 218,
   "metadata": {},
   "outputs": [
    {
     "name": "stdout",
     "output_type": "stream",
     "text": [
      "\n"
     ]
    }
   ],
   "source": [
    "s=input()\n",
    "itog=''\n",
    "for i in range(len(s)):\n",
    "    if i<s.find('h') or i>s.rfind('h'):\n",
    "        itog.join(s[i])\n",
    "print(itog)\n"
   ]
  },
  {
   "cell_type": "code",
   "execution_count": 235,
   "metadata": {},
   "outputs": [
    {
     "name": "stdout",
     "output_type": "stream",
     "text": [
      "asddfash123123hsada\n",
      "7 14\n",
      "['a', 's', 'd', 'd', 'f', 'a', 's', 's', 'a', 'd', 'a']\n",
      "['a', 's', 'd', 'd', 'f', 'a', 's', 's', 'a', 'd', 'a']\n"
     ]
    }
   ],
   "source": [
    "s=input()\n",
    "print(s)\n",
    "print(s.find('h'), s.rfind('h'))\n",
    "itog=[]\n",
    "spis=''\n",
    "for i in range(len(s)):\n",
    "    if i<s.find('h') or i>s.rfind('h'): \n",
    "        #print(s[i])\n",
    "        itog.append(s[i])\n",
    "    \n",
    "print(itog)\n",
    "\n",
    "for i in range(len(itog)): print(itog[i],end='')\n",
    "\n",
    "\n"
   ]
  },
  {
   "cell_type": "code",
   "execution_count": 222,
   "metadata": {},
   "outputs": [
    {
     "name": "stdout",
     "output_type": "stream",
     "text": [
      "123123sdfs123112 asad\n",
      "123123123112\n",
      "12\n"
     ]
    }
   ],
   "source": [
    "s=input()\n",
    "chislo=''\n",
    "digit_s=chislo.join(i for i in s if i.isdigit())\n",
    "print(s)\n",
    "print(digit_s)\n",
    "print(len(digit_s))"
   ]
  },
  {
   "cell_type": "code",
   "execution_count": null,
   "metadata": {},
   "outputs": [],
   "source": [
    "# вывести символы из таблицы Unicode по имеющимся номерам\n",
    "a=int(input())\n",
    "b=int(input())\n",
    "\n",
    "for i in range (a, b+1):\n",
    "    print(chr(i), end=' ')"
   ]
  },
  {
   "cell_type": "code",
   "execution_count": 238,
   "metadata": {},
   "outputs": [
    {
     "name": "stdout",
     "output_type": "stream",
     "text": [
      "1087 1088 1080 1074 1077 1090 44 32 1040 1085 1090 1086 1085 33 "
     ]
    },
    {
     "data": {
      "text/plain": [
       "[None,\n",
       " None,\n",
       " None,\n",
       " None,\n",
       " None,\n",
       " None,\n",
       " None,\n",
       " None,\n",
       " None,\n",
       " None,\n",
       " None,\n",
       " None,\n",
       " None,\n",
       " None]"
      ]
     },
     "execution_count": 238,
     "metadata": {},
     "output_type": "execute_result"
    }
   ],
   "source": [
    "# вывести номера символов таблицы Unicode по имеющимся символам\n",
    "s= input()\n",
    "[print(ord(i), end=' ') for i in s]"
   ]
  },
  {
   "cell_type": "code",
   "execution_count": 241,
   "metadata": {},
   "outputs": [
    {
     "name": "stdout",
     "output_type": "stream",
     "text": [
      "['р', 'с', 'й', 'г', 'ж', 'у', '-', '!', 'Б', 'о', 'у', 'п', 'о']\n"
     ]
    }
   ],
   "source": [
    "# шифр цезаря: заменить каждый символ в строке на новый со сдвигом на N шагов из таблицы unicode\n",
    "\n",
    "n=int(input())\n",
    "s=input()\n",
    "s1=[]\n",
    "for i in range (len(s)):\n",
    "    s1.append(chr(ord(s[i])+n))\n",
    "print(s1)"
   ]
  },
  {
   "cell_type": "code",
   "execution_count": 248,
   "metadata": {},
   "outputs": [
    {
     "name": "stdout",
     "output_type": "stream",
     "text": [
      "avetruetocaesar\n"
     ]
    }
   ],
   "source": [
    "n=int(input())\n",
    "s=input()\n",
    "s1=''\n",
    "for i in range (len(s)):\n",
    "    if ord(s[i])-n>=97:\n",
    "        s1+=chr(ord(s[i])-n)\n",
    "    else: s1+=chr(ord(s[i])-n+26)\n",
    "print(s1)"
   ]
  },
  {
   "cell_type": "code",
   "execution_count": 252,
   "metadata": {},
   "outputs": [
    {
     "data": {
      "text/plain": [
       "['a', 'b', 'c']"
      ]
     },
     "execution_count": 252,
     "metadata": {},
     "output_type": "execute_result"
    }
   ],
   "source": [
    "[chr(i) for i in range(97,97+int(input()))]"
   ]
  },
  {
   "cell_type": "code",
   "execution_count": 255,
   "metadata": {},
   "outputs": [
    {
     "name": "stdout",
     "output_type": "stream",
     "text": [
      "abch54321h\n"
     ]
    }
   ],
   "source": [
    "s=input()\n",
    "print(s[:s.find('h')]+s[s.rfind('h'):s.find('h'):-1]+s[s.rfind('h'):])"
   ]
  },
  {
   "cell_type": "code",
   "execution_count": 277,
   "metadata": {},
   "outputs": [
    {
     "name": "stdout",
     "output_type": "stream",
     "text": [
      "50\n",
      "5\n",
      "[5, 7, 6, 16, 14, 2, 1, 15, 1, 9, 14, 10, 2, 1, 12, 6, 5, 14, 12, 2, 8, 14, 6, 0, 0, 12, 10, 10, 11, 1, 5, 8, 10, 10, 16, 8, 0, 1, 16, 4, 5, 12, 16, 11, 4, 10, 14, 3, 6, 2]\n",
      "YES\n",
      "[6, 3, 14, 10, 4, 11, 16, 12, 5, 4, 16, 1, 0, 8, 16, 10, 10, 8, 5, 1, 11, 10, 10, 12, 0, 0, 6, 14, 8, 2, 12, 14, 5, 6, 12, 1, 2, 10, 14, 9, 1, 15, 1, 2, 14, 16, 6, 7]\n"
     ]
    }
   ],
   "source": [
    "n = [2, 6, 3, 14, 10, 4, 11, 16, 12, 5, 4, 16, 1, \n",
    "0, 8, 16, 10, 10, 8, 5, 1, 11, 10, 10, 12, 0, 0, \n",
    "6, 14, 8, 2, 12, 14, 5, 6, 12, 1, 2, 10, 14, 9, 1, 15, 1, 2, 14, 16, 6, 7, 5]\n",
    "\n",
    "print(len(n), n[-1], n[-1::-1], sep='\\n')\n",
    "\n",
    "if (i==5 or i==17 for i in n):\n",
    "        print('YES')\n",
    "print( n[1:len(n)-1])\n",
    "\n"
   ]
  },
  {
   "cell_type": "code",
   "execution_count": 281,
   "metadata": {},
   "outputs": [
    {
     "name": "stdout",
     "output_type": "stream",
     "text": [
      "50\n",
      "5\n",
      "[5, 7, 6, 16, 14, 2, 1, 15, 1, 9, 14, 10, 2, 1, 12, 6, 5, 14, 12, 2, 8, 14, 6, 0, 0, 12, 10, 10, 11, 1, 5, 8, 10, 10, 16, 8, 0, 1, 16, 4, 5, 12, 16, 11, 4, 10, 14, 3, 6, 2]\n",
      "NO\n",
      "[6, 3, 14, 10, 4, 11, 16, 12, 5, 4, 16, 1, 0, 8, 16, 10, 10, 8, 5, 1, 11, 10, 10, 12, 0, 0, 6, 14, 8, 2, 12, 14, 5, 6, 12, 1, 2, 10, 14, 9, 1, 15, 1, 2, 14, 16, 6, 7]\n"
     ]
    }
   ],
   "source": [
    "# вывести из списка: длинну списка, последний член, список в обратном порядке, ДА если в списке есть 5 и 17\n",
    "n = [2, 6, 3, 14, 10, 4, 11, 16, 12, 5, 4, 16, 1, \n",
    "0, 8, 16, 10, 10, 8, 5, 1, 11, 10, 10, 12, 0, 0, \n",
    "6, 14, 8, 2, 12, 14, 5, 6, 12, 1, 2, 10, 14, 9, 1, 15, 1, 2, 14, 16, 6, 7, 5]\n",
    "count5=0\n",
    "count17=0\n",
    "print(len(n), n[-1], n[-1::-1], sep='\\n')\n",
    "\n",
    "if (i==5 for i in n): count5+=1\n",
    "elif (i==5 for i in n): count17+=1\n",
    "if count5>0 and count17>0: print('YES')\n",
    "else: print('NO')\n",
    "print( n[1:len(n)-1])\n",
    "\n"
   ]
  },
  {
   "cell_type": "code",
   "execution_count": 280,
   "metadata": {},
   "outputs": [
    {
     "name": "stdout",
     "output_type": "stream",
     "text": [
      "NO\n"
     ]
    }
   ],
   "source": [
    "#способ проверить есть ли элемент в списке (массиве) - покороче чем в цикле\n",
    "n = [2, 6, 3, 14, 10, 4, 11, 16, 12, 5, 4, 16, 1, 0, 8, 16, 10, 10, 8, 5, 1, 11, 10, 10, 12, 0, 0, 6, 14, 8, 2, 12, 14, 5, 6, 12, 1, 2, 10, 14, 9, 1, 15, 1, 2, 14, 16, 6, 7, 5]\n",
    "print('YES' if '5' and '17' in n else 'NO')\n"
   ]
  },
  {
   "cell_type": "code",
   "execution_count": 288,
   "metadata": {},
   "outputs": [
    {
     "name": "stdout",
     "output_type": "stream",
     "text": [
      "['a', 'bb', 'ccc', 'dddd', 'eeeee', 'ffffff', 'ggggggg', 'hhhhhhhh', 'iiiiiiiii', 'jjjjjjjjjj', 'kkkkkkkkkkk', 'llllllllllll', 'mmmmmmmmmmmmm', 'nnnnnnnnnnnnnn', 'ooooooooooooooo', 'pppppppppppppppp', 'qqqqqqqqqqqqqqqqq', 'rrrrrrrrrrrrrrrrrr', 'sssssssssssssssssss', 'tttttttttttttttttttt', 'uuuuuuuuuuuuuuuuuuuuu', 'vvvvvvvvvvvvvvvvvvvvvv', 'wwwwwwwwwwwwwwwwwwwwwww', 'xxxxxxxxxxxxxxxxxxxxxxxx', 'yyyyyyyyyyyyyyyyyyyyyyyyy', 'zzzzzzzzzzzzzzzzzzzzzzzzzz']\n"
     ]
    }
   ],
   "source": [
    "spis=[]\n",
    "for i in range(1,27):\n",
    "    spis.append(i*chr(ord('a')+i-1))\n",
    "print(spis)\n",
    "\n",
    "\n",
    "\n"
   ]
  },
  {
   "cell_type": "code",
   "execution_count": 290,
   "metadata": {},
   "outputs": [
    {
     "name": "stdout",
     "output_type": "stream",
     "text": [
      "[1, 3]\n"
     ]
    }
   ],
   "source": [
    "# исключить все эементы из списка с нечетными индексами\n",
    "n=int(input())\n",
    "spis=[]\n",
    "\n",
    "for i in range(n):\n",
    "    a=int(input())\n",
    "    spis.append(a)\n",
    "print([i for i in spis if spis.index(i)%2==0])"
   ]
  },
  {
   "cell_type": "code",
   "execution_count": 292,
   "metadata": {},
   "outputs": [
    {
     "name": "stdout",
     "output_type": "stream",
     "text": [
      "['qwe', 'asd', 'zxc']\n",
      "['qwe']\n"
     ]
    },
    {
     "ename": "IndexError",
     "evalue": "list index out of range",
     "output_type": "error",
     "traceback": [
      "\u001b[0;31m---------------------------------------------------------------------------\u001b[0m",
      "\u001b[0;31mIndexError\u001b[0m                                Traceback (most recent call last)",
      "Cell \u001b[0;32mIn [292], line 16\u001b[0m\n\u001b[1;32m     14\u001b[0m     a\u001b[39m.\u001b[39mappend(spis[i])\n\u001b[1;32m     15\u001b[0m     \u001b[39mprint\u001b[39m(a)\n\u001b[0;32m---> 16\u001b[0m     spis2\u001b[39m.\u001b[39mappend(a[k])\n\u001b[1;32m     17\u001b[0m     \u001b[39m#for j in range(len(a)):\u001b[39;00m\n\u001b[1;32m     18\u001b[0m         \u001b[39m#if j==k: spis2.append(a[j])\u001b[39;00m\n\u001b[1;32m     19\u001b[0m \u001b[39mprint\u001b[39m(spis2)\n",
      "\u001b[0;31mIndexError\u001b[0m: list index out of range"
     ]
    }
   ],
   "source": [
    "n=int(input())\n",
    "spis=[]\n",
    "\n",
    "for i in range(n):\n",
    "    s=input()\n",
    "    spis.append(s)\n",
    "k=int(input())\n",
    "print(spis)\n",
    "spis2=[]\n",
    "for i in range (len(spis)):\n",
    "    \n",
    "    #a=''\n",
    "    #a=str(spis[i])\n",
    "    a.append(spis[i])\n",
    "    print(a)\n",
    "    spis2.append(a[k])\n",
    "    #for j in range(len(a)):\n",
    "        #if j==k: spis2.append(a[j])\n",
    "print(spis2)"
   ]
  },
  {
   "cell_type": "code",
   "execution_count": 296,
   "metadata": {},
   "outputs": [
    {
     "name": "stdout",
     "output_type": "stream",
     "text": [
      "wsx\n"
     ]
    }
   ],
   "source": [
    "# вывести в строку элемент с заданным k-номером  из строк, введенных рандомно n-раз\n",
    "n=int(input())\n",
    "spis=[]\n",
    "string=''\n",
    "for i in range(n):\n",
    "    s=input()\n",
    "    spis.append(s)\n",
    "k=int(input())\n",
    "for i in range(len(spis)):\n",
    "    string+=(spis[i][k])\n",
    "print(string)"
   ]
  },
  {
   "cell_type": "code",
   "execution_count": null,
   "metadata": {},
   "outputs": [],
   "source": [
    "# вывести в строку элемент с заданным k-номером  из строк, введенных рандомно n-раз\n",
    "n = int(input())\n",
    "l = [input() for _ in range(n)] # нравится рандомный набор строк - код в одну строку))\n",
    "k = int(input())\n",
    "\n",
    "print(*[s[k-1] for s in l if len(s) >= k], sep='')"
   ]
  },
  {
   "cell_type": "code",
   "execution_count": 298,
   "metadata": {},
   "outputs": [
    {
     "name": "stdout",
     "output_type": "stream",
     "text": [
      "['q', 'w', 'e', 'a', 's', 'd', 'z', 'x', 'c']\n"
     ]
    }
   ],
   "source": [
    "# вывести в список элементы  из строк (каждый по отдельности), введенных рандомно n-раз\n",
    "n = int(input())\n",
    "l = [input() for _ in range(n)] # нравится рандомный набор строк - код в одну строку))\n",
    "spis=[]\n",
    "for i in range(len(l)):\n",
    "    for j in range(len(l[i])):\n",
    "        spis.extend(l[i][j])\n",
    "\n",
    "print(spis)"
   ]
  },
  {
   "cell_type": "code",
   "execution_count": 305,
   "metadata": {},
   "outputs": [
    {
     "name": "stdout",
     "output_type": "stream",
     "text": [
      "1 6084 529 4225 9801 82609921 1156 1024 0 4489 1 121 12321\n"
     ]
    }
   ],
   "source": [
    "numbers = [1, 78, 23, -65, 99, 9089, 34, -32, 0, -67, 1, 11, 111]\n",
    "import numpy as np\n",
    "n=np.square(numbers)\n",
    "print(*n)"
   ]
  },
  {
   "cell_type": "code",
   "execution_count": 307,
   "metadata": {},
   "outputs": [
    {
     "name": "stdout",
     "output_type": "stream",
     "text": [
      "5\n",
      "7\n",
      "9\n",
      "\n",
      "36\n",
      "64\n",
      "100\n"
     ]
    }
   ],
   "source": [
    "# тут мы выводим для каждого числа в рандомном списке х2+2х+1\n",
    "n = int(input())\n",
    "l = [int(input()) for _ in range(n)] \n",
    "print(*l, sep='\\n')\n",
    "print()\n",
    "print(*[(i**2+2*i+1) for i in l], sep='\\n')"
   ]
  },
  {
   "cell_type": "code",
   "execution_count": 311,
   "metadata": {},
   "outputs": [
    {
     "name": "stdout",
     "output_type": "stream",
     "text": [
      "2\n",
      "3\n",
      "4\n"
     ]
    }
   ],
   "source": [
    "# распаковать список без максимального и минимального значения\n",
    "n = int(input())\n",
    "l = [int(input()) for _ in range(n)] \n",
    "del l[l.index(max(l))]\n",
    "del l[l.index(min(l))]\n",
    "print(*l, sep='\\n')"
   ]
  },
  {
   "cell_type": "code",
   "execution_count": 317,
   "metadata": {},
   "outputs": [
    {
     "name": "stdout",
     "output_type": "stream",
     "text": [
      "1\n",
      "2\n",
      "3\n"
     ]
    }
   ],
   "source": [
    "# распаковать список без повторяющихся строк\n",
    "n = int(input())\n",
    "l = [(input()) for _ in range(n)] \n",
    "temp=[]\n",
    "for i in l:\n",
    "    if i not in temp: temp.append(i)\n",
    "\n",
    "print(*temp, sep='\\n')\n"
   ]
  },
  {
   "cell_type": "code",
   "execution_count": 57,
   "metadata": {},
   "outputs": [
    {
     "name": "stdout",
     "output_type": "stream",
     "text": [
      "[1, 2, 3, 4, 2, 2, 2, 1, 5, 6]\n",
      "{1, 2, 3, 4, 5, 6}\n",
      "[1, 2, 3, 4, 5, 6]\n",
      "[]\n"
     ]
    }
   ],
   "source": [
    "# распаковать список без повторяющихся строк с функцией SET - list\n",
    "\n",
    "n = int(input())\n",
    "l = [int(input()) for _ in range(n)] \n",
    "print(l)\n",
    "print(set(l)) # возвращает некий набор символов из основного списка БЕЗ повторяющихся элементов\n",
    "temp = list(set(l))\n",
    "print(temp)\n",
    "print(*temp, sep='\\n')\n",
    "\n",
    "\n"
   ]
  },
  {
   "cell_type": "code",
   "execution_count": 327,
   "metadata": {},
   "outputs": [
    {
     "name": "stdout",
     "output_type": "stream",
     "text": [
      "[1, 2, 3, 4]\n"
     ]
    }
   ],
   "source": [
    "ints_list = [1, 2, 3,2,1, 4, 3, 2] \n",
    "ints_list1 = list(set(ints_list)) \n",
    "print(ints_list1)\n"
   ]
  },
  {
   "cell_type": "code",
   "execution_count": 331,
   "metadata": {},
   "outputs": [
    {
     "name": "stdout",
     "output_type": "stream",
     "text": [
      "язык родной прекрасен\n",
      "язык тебе!\n",
      "покажу тебе язык\n"
     ]
    }
   ],
   "source": [
    "# На вход программе подается натуральное число nn, затем nn строк, затем еще одна строка — поисковый запрос. \n",
    "# Напишите программу, которая выводит все введенные строки, \n",
    "# в которых встречается поисковый запрос\n",
    "n = int(input())\n",
    "l = [(input()) for _ in range(n)] \n",
    "e=l\n",
    "ggl=input().lower()\n",
    "for i in range(len(l)):\n",
    "    \n",
    "    if ggl in e[i].lower(): print(l[i])"
   ]
  },
  {
   "cell_type": "code",
   "execution_count": null,
   "metadata": {},
   "outputs": [],
   "source": [
    "# На вход программе подается натуральное число nn, затем nn строк, затем k - кол-во поисковых запросов,\n",
    "# затем  сами запросы k-раз.\n",
    "# Напишите программу, которая выводит все введенные строки, \n",
    "# в которых встречаются ВСЕ поисковые запросы\n",
    "n = int(input())\n",
    "l = [(input()) for _ in range(n)] \n",
    "k=int(input())\n",
    "ggl=[(input()).lower() for _ in range(k)] \n",
    "\n",
    "for i in range(len(l)):\n",
    "    count=0\n",
    "    for j in range(len(ggl)):\n",
    "        if ggl[j] in l[i].lower(): count+=1\n",
    "    if count==len(ggl): print(l[i])"
   ]
  },
  {
   "cell_type": "code",
   "execution_count": 334,
   "metadata": {},
   "outputs": [
    {
     "name": "stdout",
     "output_type": "stream",
     "text": [
      "-2\n",
      "-23\n",
      "0\n",
      "1\n",
      "3\n",
      "12\n"
     ]
    }
   ],
   "source": [
    "#На вход программе подается натуральное число nn, а затем nn целых чисел. Напишите программу, \n",
    "# которая сначала выводит все отрицательные числа, затем нули, а затем все положительные числа, \n",
    "# каждое на отдельной строке. Числа должны быть выведены в том же порядке, \n",
    "# в котором они были введены.\n",
    "n = int(input())\n",
    "l = [int(input()) for _ in range(n)] \n",
    "print(*[neg for neg in l if neg<0], *[zer for zer in l if zer==0],*[pos for pos in l if pos>0],sep='\\n')"
   ]
  },
  {
   "cell_type": "code",
   "execution_count": 336,
   "metadata": {},
   "outputs": [
    {
     "name": "stdout",
     "output_type": "stream",
     "text": [
      "['B', 'E', 'E', 'G', 'E', 'E', 'K']\n"
     ]
    }
   ],
   "source": [
    "s = 'BEEGEEK'\n",
    "print(list(s))"
   ]
  },
  {
   "cell_type": "code",
   "execution_count": 349,
   "metadata": {},
   "outputs": [
    {
     "name": "stdout",
     "output_type": "stream",
     "text": [
      "+\n",
      "++\n",
      "+++\n",
      "++++\n",
      "+++++\n"
     ]
    }
   ],
   "source": [
    "m=input().split()\n",
    "for i in range(len(m)): print('+'* int(m[i]), sep='\\n')\n",
    "\n",
    "\n",
    "# print('+'* int(m[i]) for i in range(len(m)), sep='\\n')"
   ]
  },
  {
   "cell_type": "code",
   "execution_count": null,
   "metadata": {},
   "outputs": [],
   "source": [
    "# для синтаксиса понимания списков: выяснить, является ли вводимая строка IP адресом (условие: \n",
    "# каждое число должно быть больше 0 и меньшее 255 включительно. )\n",
    "ip = [int(i) for i in input().split('.')] # тут создаем список из вводимых данных и переводим их целые числа\n",
    "print('ДА' if all([0 <= i <= 255 for i in ip]) else 'НЕТ') # тут выводим на печать Да или НЕТ , если ВСЕ числа в списке удовлетворяют условию"
   ]
  },
  {
   "cell_type": "code",
   "execution_count": 287,
   "metadata": {},
   "outputs": [
    {
     "name": "stdout",
     "output_type": "stream",
     "text": [
      "17.190.61.217\n"
     ]
    }
   ],
   "source": [
    "# вывести случайный ip адрес\n",
    "\n",
    "def generate_ip():\n",
    "    from random import randint\n",
    "    return print(f'{randint(0,255)}.{randint(0,255)}.{randint(0,255)}.{randint(0,255)}')\n",
    "\n",
    "generate_ip()"
   ]
  },
  {
   "cell_type": "code",
   "execution_count": 353,
   "metadata": {},
   "outputs": [
    {
     "name": "stdout",
     "output_type": "stream",
     "text": [
      "[1, 2, 3, 2, 1, 4, 5, 6, 3, 2, 1, 5, 12]\n",
      "8\n"
     ]
    }
   ],
   "source": [
    "# На вход программе подается строка текста, содержащая натуральные числа. Из данной строки формируется \n",
    "# список чисел. Напишите программу, которая подсчитывает, сколько в полученном списке пар элементов, \n",
    "# равных друг другу. Считается, что любые два элемента, равные друг другу образуют одну пару, которую необходимо посчитать.\n",
    "\n",
    "m=[int(i) for i in input().split()]\n",
    "count=0\n",
    "for i in range(len(m)):\n",
    "    if i+1<len(m):\n",
    "        for j in range(i+1,len(m)):\n",
    "            if m[j]==m[i]: count+=1\n",
    "print(m)\n",
    "print(count)"
   ]
  },
  {
   "cell_type": "code",
   "execution_count": 361,
   "metadata": {},
   "outputs": [
    {
     "name": "stdout",
     "output_type": "stream",
     "text": [
      "[17, 10, 11, 25, 4, 5, 6, 17, 10, 11, 4, 5, 6]\n"
     ]
    }
   ],
   "source": [
    "n = [8, 9, 10, 11]\n",
    "\n",
    "n.pop(1)\n",
    "n.insert(1,17)\n",
    "n.append(4)\n",
    "n.append(5)\n",
    "n.append(6)\n",
    "n.pop(0)\n",
    "n*=2\n",
    "n.insert(3,25)\n",
    "print(n)"
   ]
  },
  {
   "cell_type": "code",
   "execution_count": 367,
   "metadata": {},
   "outputs": [
    {
     "name": "stdout",
     "output_type": "stream",
     "text": [
      "[1, 2, 9, 3, 4, 5]\n",
      "[9, 2, 1, 3, 4, 5]\n"
     ]
    }
   ],
   "source": [
    "# поменять местами минимальный и максимальный элементы\n",
    "\n",
    "m=[int(i) for i in input().split()]\n",
    "print(m)\n",
    "minim=min(m)\n",
    "maxim=max(m)\n",
    "MIN=m.index(min(m))\n",
    "MAX=m.index(max(m))\n",
    "m.remove(min(m))\n",
    "m.remove(max(m))\n",
    "m.insert(MIN, maxim)\n",
    "m.insert(MAX, minim)\n",
    "print(m)\n"
   ]
  },
  {
   "cell_type": "code",
   "execution_count": 368,
   "metadata": {},
   "outputs": [
    {
     "name": "stdout",
     "output_type": "stream",
     "text": [
      "[1, 2, 3, 4, 5]\n",
      "5 2 3 4 1\n"
     ]
    }
   ],
   "source": [
    "# как ЛУЧШЕ менять местами минимальный и максимальный элементы в списке \n",
    "# через ПЕРЕПРИСВАИВАНИЕ индексов\n",
    "s=[int(i) for i in input().split()]\n",
    "print(s)\n",
    "mx = s.index(max(s))\n",
    "mn = s.index(min(s))\n",
    "s[mx], s[mn] = s[mn], s[mx]\n",
    "print(*s)\n"
   ]
  },
  {
   "cell_type": "code",
   "execution_count": 373,
   "metadata": {},
   "outputs": [
    {
     "name": "stdout",
     "output_type": "stream",
     "text": [
      "['print(\"Введите своё имя\")', 'if password == \"hoover\":', '     print(\"Здравствуйте, рыцарь\", name)         #долой Макнамару']\n"
     ]
    }
   ],
   "source": [
    "# удалить лишние комментарии из кода\n",
    "n = int(input()[1:]) # указали количество строк кода на входе\n",
    "\n",
    "l = [(input()) for _ in range(n)] # собрали эти строки в список \n",
    "\n",
    "for i in range(len(l)): # пробежимся циклом по списку строк\n",
    "    if '#' in l[i]: # если в i-строке есть знак # то :\n",
    "        l[i]=l[i][:l[i].index('#')].rstrip() # присваиваем это строке новое значение: делаем срез от начала строки до \n",
    "        # элемента '#' , а потом еще и убираем все пробелы\n",
    "\n",
    "print(*l, sep='\\n')"
   ]
  },
  {
   "cell_type": "code",
   "execution_count": 6,
   "metadata": {},
   "outputs": [
    {
     "name": "stdout",
     "output_type": "stream",
     "text": [
      "-847 -11 -4 0 3 34 239 343 432\n",
      "432 343 239 34 3 0 -4 -11 -847\n"
     ]
    }
   ],
   "source": [
    "s=[int(i) for i in input().split()]\n",
    "s.sort()\n",
    "print(*s)\n",
    "s.sort(reverse=True)\n",
    "print(*s)"
   ]
  },
  {
   "cell_type": "code",
   "execution_count": 7,
   "metadata": {},
   "outputs": [
    {
     "name": "stdout",
     "output_type": "stream",
     "text": [
      "['True', 'None', 'and', 'with', 'as', 'assert', 'break', 'class', 'continue', 'def', 'del', 'elif', 'else', 'except', 'finally', 'try', 'for', 'from', 'global', 'if', 'import', 'in', 'is', 'lambda', 'nonlocal', 'not', 'or', 'pass', 'raise', 'return', 'while', 'yield']\n"
     ]
    }
   ],
   "source": [
    "keywords = ['False', 'True', 'None', 'and', 'with', 'as', 'assert', \n",
    "'break', 'class', 'continue', 'def', 'del', 'elif', 'else', 'except', \n",
    "'finally', 'try', 'for', 'from', 'global', 'if', 'import', 'in', 'is', 'lambda', \n",
    "'nonlocal', 'not', 'or', 'pass', 'raise', 'return', 'while', 'yield']\n",
    "\n",
    "new_keywords = [i for i in keywords if keywords.index(i)!=0]\n",
    "\n",
    "print(new_keywords)"
   ]
  },
  {
   "cell_type": "code",
   "execution_count": 8,
   "metadata": {},
   "outputs": [
    {
     "name": "stdout",
     "output_type": "stream",
     "text": [
      "['True', 'None', 'and', 'with', 'as', 'assert', 'break', 'class', 'continue', 'def', 'del', 'elif', 'else', 'except', 'finally', 'try', 'for', 'from', 'global', 'if', 'import', 'in', 'is', 'lambda', 'nonlocal', 'not', 'or', 'pass', 'raise', 'return', 'while', 'yield']\n"
     ]
    }
   ],
   "source": [
    "keywords = ['False', 'True', 'None', 'and', 'with', 'as', 'assert', \n",
    "'break', 'class', 'continue', 'def', 'del', 'elif', 'else', 'except', \n",
    "'finally', 'try', 'for', 'from', 'global', 'if', 'import', 'in', 'is', 'lambda', \n",
    "'nonlocal', 'not', 'or', 'pass', 'raise', 'return', 'while', 'yield']\n",
    "\n",
    "new_keywords = [i for i in keywords[1:]]\n",
    "\n",
    "print(new_keywords)"
   ]
  },
  {
   "cell_type": "code",
   "execution_count": 9,
   "metadata": {},
   "outputs": [
    {
     "name": "stdout",
     "output_type": "stream",
     "text": [
      "['alse', 'rue', 'one', 'nd', 'ith', 's', 'ssert', 'reak', 'lass', 'ontinue', 'ef', 'el', 'lif', 'lse', 'xcept', 'inally', 'ry', 'or', 'rom', 'lobal', 'f', 'mport', 'n', 's', 'ambda', 'onlocal', 'ot', 'r', 'ass', 'aise', 'eturn', 'hile', 'ield']\n"
     ]
    }
   ],
   "source": [
    "keywords = ['False', 'True', 'None', 'and', 'with', 'as', 'assert', \n",
    "'break', 'class', 'continue', 'def', 'del', 'elif', 'else', 'except', \n",
    "'finally', 'try', 'for', 'from', 'global', 'if', 'import', 'in', 'is', 'lambda', \n",
    "'nonlocal', 'not', 'or', 'pass', 'raise', 'return', 'while', 'yield']\n",
    "\n",
    "new_keywords = [i[1:] for i in keywords ]\n",
    "\n",
    "print(new_keywords)"
   ]
  },
  {
   "cell_type": "code",
   "execution_count": 10,
   "metadata": {},
   "outputs": [
    {
     "name": "stdout",
     "output_type": "stream",
     "text": [
      "Отсортированный список: [-67, -3, -2, 0, 1, 6, 7, 8, 9, 12, 34, 45, 99, 1000]\n"
     ]
    }
   ],
   "source": [
    "# сортировка простыми вставками\n",
    "\n",
    "a = [1, 7, -3, 9, 0, -67, 34, 12, 45, 1000, 6,  8, -2, 99]\n",
    "n = len(a)\n",
    "\n",
    "for i in range(1, n): \n",
    "    elem = a[i]  # первый элемент из неотсортированной части списка\n",
    "    j = i\n",
    "    while j >= 1 and a[j - 1] > elem: \n",
    "        a[j] = a[j - 1]\n",
    "        j -= 1\n",
    "    a[j] = elem\n",
    "\n",
    "\n",
    "print('Отсортированный список:', a)"
   ]
  },
  {
   "cell_type": "code",
   "execution_count": 11,
   "metadata": {},
   "outputs": [
    {
     "name": "stdout",
     "output_type": "stream",
     "text": [
      "[-97, -96, -94, -94, -79, -77, -72, -72, -71, -71, -67, -67, -64, -64, -63, -62, -62, -61, -60, -58, -56, -52, -48, -47, -42, -41, -39, -36, -32, -31, -30, -26, -24, -23, -22, -21, -19, -16, -16, -14, -10, -8, -5, -3, -1, 0, 2, 2, 3, 3, 5, 9, 9, 14, 20, 22, 27, 32, 32, 35, 35, 39, 39, 41, 41, 43, 48, 53, 57, 57, 58, 59, 59, 59, 60, 60, 61, 62, 63, 63, 64, 66, 71, 72, 76, 78, 78, 80, 82, 84, 87, 87, 89, 90, 92, 92, 93, 94, 96, 98]\n"
     ]
    }
   ],
   "source": [
    "# сортировка выбором (минимального или мсксимального значения)\n",
    "\n",
    "a = [78, -32, 5, 39, 58, -5, -63, 57, 72, 9, 53, -1, 63, -97, -21, -94, -47, 57, -8, 60, -23, -72, -22, -79, 90, 96, -41, -71, -48, 84, 89, -96, 41, -16, 94, -60, -64, -39, 60, -14, -62, -19, -3, 32, 98, 14, 43, 3, -56, 71, -71, -67, 80, 27, 92, 92, -64, 0, -77, 2, -26, 41, 3, -31, 48, 39, 20, -30, 35, 32, -58, 2, 63, 64, 66, 62, 82, -62, 9, -52, 35, -61, 87, 78, 93, -42, 87, -72, -10, -36, 61, -16, 59, 59, 22, -24, -67, 76, -94, 59]\n",
    "\n",
    "n = len(a)\n",
    "b=[]\n",
    "for i in range(n):\n",
    "    b.append(min(a))\n",
    "    a.remove(min(a))\n",
    "a=b\n",
    "\n",
    "print(a)"
   ]
  },
  {
   "cell_type": "code",
   "execution_count": 17,
   "metadata": {},
   "outputs": [
    {
     "name": "stdout",
     "output_type": "stream",
     "text": [
      "[7, -75, -11, -34, 16, 70, -18, 75, 6, -79, -59, 75, 2, 48, -80, -38, 35, 87, -79, -12, -12, 87, 47, -14, -81, 8, -67, 45, 82, -24]\n",
      "Отсортированный список: [-81, -80, -79, -79, -75, -67, -59, -38, -34, -24, -18, -14, -12, -12, -11, 2, 6, 7, 8, 16, 35, 45, 47, 48, 70, 75, 75, 82, 87, 87]\n"
     ]
    }
   ],
   "source": [
    "# сортировка рандомного случайного списка чисел\n",
    "import numpy as np\n",
    "a = [i for i in np.random.randint(-100,100,30)]\n",
    "print(a)\n",
    "n = len(a)\n",
    "\n",
    "for i in range(1, n): \n",
    "    elem = a[i]  # первый элемент из неотсортированной части списка\n",
    "    j = i\n",
    "    while j >= 1 and a[j - 1] > elem: \n",
    "        a[j] = a[j - 1]\n",
    "        j -= 1\n",
    "    a[j] = elem\n",
    "\n",
    "\n",
    "print('Отсортированный список:', a)"
   ]
  },
  {
   "cell_type": "code",
   "execution_count": 22,
   "metadata": {},
   "outputs": [
    {
     "name": "stdout",
     "output_type": "stream",
     "text": [
      "1+2+3+4+5=15\n"
     ]
    }
   ],
   "source": [
    "m=input().split()\n",
    "l=[int(i) for i in m]\n",
    "\n",
    "s='+'.join(m)\n",
    "\n",
    "print(s,'=',sum(l), sep='')"
   ]
  },
  {
   "cell_type": "code",
   "execution_count": null,
   "metadata": {},
   "outputs": [],
   "source": [
    "# валидный телефонный номер\n",
    "s= input().split('-')\n",
    "for i in range(len)\n",
    "if len(s)==12:\n",
    "\n",
    "if len(s)==14:\n",
    "    if s[0]!=7: print('NO')\n",
    "    else:"
   ]
  },
  {
   "cell_type": "code",
   "execution_count": 26,
   "metadata": {},
   "outputs": [
    {
     "name": "stdout",
     "output_type": "stream",
     "text": [
      "7-123-123-6945\n",
      "<generator object <genexpr> at 0x10e4a84a0>\n"
     ]
    }
   ],
   "source": [
    "s=input()\n",
    "print(s)\n",
    "flag=True\n",
    "if (len(s)==12 and s[3]==s[7]=='-') or (len(s)==14 and s[1]==s[5]==s[9]=='-'):\n",
    "    l=s.split('-')\n",
    "    if len(l)==4 and l[0]=='7': print('YES' if i.isdigit() and len(i[1])==len(i[2])==3 else 'NO' for i in l)\n",
    "    elif len(l)==3 : print('YES' if i.isdigit() and len(i[0])==len(i[1])==3 else 'NO' for i in l)\n",
    "    else: print('NO')\n",
    "else: print('NO')\n",
    "\n"
   ]
  },
  {
   "cell_type": "code",
   "execution_count": 49,
   "metadata": {},
   "outputs": [
    {
     "name": "stdout",
     "output_type": "stream",
     "text": [
      "7-123-123-1234\n",
      "YES\n"
     ]
    }
   ],
   "source": [
    "s=input()\n",
    "print(s)\n",
    "\n",
    "if len(s)==12 and s[3]==s[7]=='-':\n",
    "    count1=0\n",
    "    l=s.split('-')\n",
    "    if len(l[0])==len(l[1])==3:\n",
    "        for i in range(len(l)):\n",
    "            if l[i].isdigit(): count1+=1\n",
    "        if count1==len(l): print('YES')\n",
    "        else: print('NO')\n",
    "    else: print('NO')\n",
    "\n",
    "\n",
    "elif len(s)==14 and s[1]==s[5]==s[9]=='-':\n",
    "    count2=0\n",
    "    l=s.split('-')\n",
    "    if len(l[1])==len(l[2])==3 and l[0]=='7':\n",
    "        for i in range(1,len(l)):\n",
    "            if l[i].isdigit(): count2+=1\n",
    "        if count2==3: print('YES')\n",
    "        else: print('NO')\n",
    "    else: print('NO')\n",
    "\n",
    "else: print('NO')"
   ]
  },
  {
   "cell_type": "code",
   "execution_count": 50,
   "metadata": {},
   "outputs": [
    {
     "name": "stdout",
     "output_type": "stream",
     "text": [
      "[3, 2, 3]\n"
     ]
    }
   ],
   "source": [
    "n=[1,2,3]\n",
    "n[0]=n[-1]\n",
    "print(n)"
   ]
  },
  {
   "cell_type": "code",
   "execution_count": 51,
   "metadata": {},
   "outputs": [
    {
     "name": "stdout",
     "output_type": "stream",
     "text": [
      "роспалпки очтипки сювки очьнки\n"
     ]
    }
   ],
   "source": [
    "l=input().split()\n",
    "print(*[i[1:]+ i[0]+'ки' for i in l])\n"
   ]
  },
  {
   "cell_type": "code",
   "execution_count": 59,
   "metadata": {},
   "outputs": [
    {
     "name": "stdout",
     "output_type": "stream",
     "text": [
      "30\n"
     ]
    }
   ],
   "source": [
    "# объявление функции\n",
    "def get_days(month):\n",
    "    if month in [1,3,5,7,8,10,12]: return '31'\n",
    "    elif month==2: return '28'\n",
    "    else: return '30'\n",
    "\n",
    "# считываем данные\n",
    "num = int(input())\n",
    "\n",
    "# вызываем функцию\n",
    "print(get_days(num))"
   ]
  },
  {
   "cell_type": "code",
   "execution_count": 66,
   "metadata": {},
   "outputs": [
    {
     "name": "stdout",
     "output_type": "stream",
     "text": [
      "3\n"
     ]
    }
   ],
   "source": [
    "m=[1,3,3,2,5,2,7]\n",
    "print(m.index(2))"
   ]
  },
  {
   "cell_type": "code",
   "execution_count": 67,
   "metadata": {},
   "outputs": [
    {
     "name": "stdout",
     "output_type": "stream",
     "text": [
      "[0, 5, 9, 13]\n"
     ]
    }
   ],
   "source": [
    "# вывести индексы заданного символа в строке \n",
    "def find_all(target, symbol):\n",
    "    return [i for i in range(len(target)) if list(target)[i]==symbol]\n",
    "\n",
    "# считываем данные\n",
    "s = input()\n",
    "char = input()\n",
    "\n",
    "# вызываем функцию\n",
    "print(find_all(s, char))"
   ]
  },
  {
   "cell_type": "code",
   "execution_count": 74,
   "metadata": {},
   "outputs": [
    {
     "name": "stdout",
     "output_type": "stream",
     "text": [
      "[-23, -12, 1, 2, 7, 12, 22, 81, 384]\n",
      "[-23, -12, 1, 2, 7, 12, 22, 81, 384]\n",
      "[384, 81, 22, 12, 7, 2, 1, -12, -23]\n"
     ]
    }
   ],
   "source": [
    "# объединить списки и отсортировать их по возрастанию\n",
    "a=[1,2,7,12,81,-23]\n",
    "b=[384,-12,22]\n",
    "s=a+b\n",
    "s.sort()\n",
    "print(s)\n",
    "# или так\n",
    "print(sorted(a+b))\n",
    "\n",
    "# а так по убыванию\n",
    "print(sorted(a+b)[-1::-1])"
   ]
  },
  {
   "cell_type": "code",
   "execution_count": null,
   "metadata": {},
   "outputs": [],
   "source": [
    "# быстрое слияние двух отсортированных списков в один отсортированный список \n",
    "# ссылка: https://stepik.org/lesson/331754/step/12?unit=315133\n",
    "\n",
    "def quick_merge(list1, list2):\n",
    "    result = []\n",
    "\n",
    "    p1 = 0  # указатель на первый элемент списка list1\n",
    "    p2 = 0  # указатель на первый элемент списка list2\n",
    "\n",
    "    while p1 < len(list1) and p2 < len(list2):  # пока не закончился хотя бы один список\n",
    "        if list1[p1] <= list2[p2]:\n",
    "            result.append(list1[p1])\n",
    "            p1 += 1\n",
    "        else:\n",
    "            result.append(list2[p2])\n",
    "            p2 += 1\n",
    "\n",
    "    if p1 < len(list1):   # прицепление остатка\n",
    "        result += list1[p1:]\n",
    "    if p2 < len(list2):\n",
    "        result += list2[p2:]\n",
    "    \n",
    "    return result\n",
    "    \n"
   ]
  },
  {
   "cell_type": "code",
   "execution_count": 86,
   "metadata": {},
   "outputs": [
    {
     "name": "stdout",
     "output_type": "stream",
     "text": [
      "1 2 3 5 9 10 12 17 143\n"
     ]
    }
   ],
   "source": [
    "# вывести список (раскрыть) в порядке возрастания , используя строки из ввода \n",
    "def quick_merge(spis):\n",
    "    result = [int(i) for i in (' '.join(spis)).split()]\n",
    "    return sorted(result)\n",
    "\n",
    "n=int(input())\n",
    "l=[input() for _ in range(n)]\n",
    "\n",
    "print(*quick_merge(l))"
   ]
  },
  {
   "cell_type": "code",
   "execution_count": 85,
   "metadata": {},
   "outputs": [
    {
     "name": "stdout",
     "output_type": "stream",
     "text": [
      "['1', '2', '3', '4', '5', '6', '7', '10', '11', '17']\n",
      "['1', '10', '11', '17', '2', '3', '4', '5', '6', '7']\n",
      "['1 2 3 4', '5 6 7', '10 11 17']\n"
     ]
    }
   ],
   "source": [
    "n=int(input())\n",
    "l=[input() for _ in range(n)]\n",
    "\n",
    "s=(' '.join(l)).split()\n",
    "print(s)\n",
    "print(sorted(s))\n",
    "\n",
    "\n",
    "print(l)"
   ]
  },
  {
   "cell_type": "code",
   "execution_count": null,
   "metadata": {},
   "outputs": [],
   "source": [
    "# проверить пароль через функцию (не менее 8 символов, хотя бы одна строчная, хотя бы одна заглавная, хотя бы одна цифра)\n",
    "\n",
    "def is_password_good(password):\n",
    "  if len(password) < 8:\n",
    "    return False\n",
    "    # проверяем: если в строке PASSWORD все символы в верхнем регистре, если все в нижнем регистре, если все буквы, если все цифры \n",
    "  if password.isupper() or password.islower() or password.isalpha() or password.isdigit():\n",
    "    return False # возвращаем False \n",
    "  \n",
    "  return True # во всех остальных случаях возвращаем True\n",
    "\n",
    "txt = input()\n",
    "print(is_password_good(txt))"
   ]
  },
  {
   "cell_type": "code",
   "execution_count": null,
   "metadata": {},
   "outputs": [],
   "source": [
    "# проверить пароль через функцию (не менее 8 символов, хотя бы одна строчная, хотя бы одна заглавная, хотя бы одна цифра)\n",
    "\n",
    "def is_password_good(password):\n",
    "    v=password.upper()\n",
    "    n=password.lower()\n",
    "    if v!=password and n!=password and len(password)>7:\n",
    "        l=list(password)\n",
    "        count=0\n",
    "        for i in range(len(l)):\n",
    "            if l[i].isdigit(): count+=1\n",
    "        if count>0: return True\n",
    "        else: return False\n",
    "    else: return False\n",
    "    \n",
    "\n",
    "txt = input()\n",
    "\n",
    "print(is_password_good(txt))"
   ]
  },
  {
   "cell_type": "code",
   "execution_count": 88,
   "metadata": {},
   "outputs": [
    {
     "name": "stdout",
     "output_type": "stream",
     "text": [
      "QWEQWE123sdfsdafa123asdgfadgjk-0-i-9-0dlksvnas\n",
      "['q', 'w', 'e', 'q', 'w', 'e', 's', 'd', 'f', 's', 'd', 'a', 'f', 'a', 'a', 's', 'd', 'g', 'f', 'a', 'd', 'g', 'j', 'k', 'i', 'd', 'l', 'k', 's', 'v', 'n', 'a', 's']\n"
     ]
    }
   ],
   "source": [
    "text=input()\n",
    "\n",
    "print(text)\n",
    "l=[i for i in list(text.lower()) if i.isalpha()]\n",
    "\n",
    "print(l)"
   ]
  },
  {
   "cell_type": "code",
   "execution_count": null,
   "metadata": {},
   "outputs": [],
   "source": [
    "# берем строку, занижаем ее как приору, превращаем в список, дергаем из него все символы, которые являются буквами.\n",
    "# а теперь осталось только проверить что список в обе стороны одинаковый (срезом)\n",
    "def is_palindrome(text):\n",
    "    l=[i for i in list(text.lower()) if i.isalpha()]\n",
    "    if l==l[-1::-1]: return True\n",
    "    else: return False\n",
    "\n",
    "txt = input()\n",
    "\n",
    "print(is_palindrome(txt))"
   ]
  },
  {
   "cell_type": "code",
   "execution_count": null,
   "metadata": {},
   "outputs": [],
   "source": [
    "def is_prime(num):\n",
    "    s=[i for i in range(1,num+1) if num%i==0]\n",
    "    if len(s)==2 : return True\n",
    "    else: return False\n",
    "    \n",
    "def is_valid_password(password):\n",
    "    l=password.split(':')\n",
    "    if len(l)==3 and l[0]==l[-1::-1] and is_prime(int(l[1])) and int(l[2])%2==0: return True\n",
    "    else: return False\n",
    "        \n",
    "\n",
    "# считываем данные\n",
    "psw = input()\n",
    "\n",
    "# вызываем функцию\n",
    "print(is_valid_password(psw))"
   ]
  },
  {
   "cell_type": "code",
   "execution_count": 91,
   "metadata": {},
   "outputs": [
    {
     "name": "stdout",
     "output_type": "stream",
     "text": [
      "12321:1231231:12:12\n",
      "['12321', '1231231', '12', '12']\n",
      "NO\n",
      "NO\n"
     ]
    }
   ],
   "source": [
    "password=input()\n",
    "l=password.split(':')\n",
    "\n",
    "print(password)\n",
    "\n",
    "print(l)\n",
    "\n",
    "print('YES' if len(l)==3 else 'NO')\n",
    "print('YES' if l[0]==l[-1::-1] else 'NO')\n",
    "\n"
   ]
  },
  {
   "cell_type": "code",
   "execution_count": null,
   "metadata": {},
   "outputs": [],
   "source": [
    "# задача на правильные скобки: смысл в том, что открытая скобка - это +1, закрытая -1\n",
    "\n",
    "def is_correct_bracket(text):\n",
    "    balance=0\n",
    "    for i in range(len(text)):\n",
    "        if text[i]=='(': balance+=1\n",
    "        else: balance-=1\n",
    "        if balance<0: return False\n",
    "    if balance==0: return True\n",
    "    else: return False\n",
    "\n",
    "# считываем данные\n",
    "txt = input()\n",
    "\n",
    "# вызываем функцию\n",
    "print(is_correct_bracket(txt))"
   ]
  },
  {
   "cell_type": "code",
   "execution_count": 104,
   "metadata": {},
   "outputs": [
    {
     "ename": "SyntaxError",
     "evalue": "invalid syntax. Perhaps you forgot a comma? (213048641.py, line 7)",
     "output_type": "error",
     "traceback": [
      "\u001b[0;36m  Cell \u001b[0;32mIn [104], line 7\u001b[0;36m\u001b[0m\n\u001b[0;31m    print(''.join(spis).lower()[])\u001b[0m\n\u001b[0m          ^\u001b[0m\n\u001b[0;31mSyntaxError\u001b[0m\u001b[0;31m:\u001b[0m invalid syntax. Perhaps you forgot a comma?\n"
     ]
    }
   ],
   "source": [
    "text=input()\n",
    "print(list(text))\n",
    "spis=list(text)\n",
    "for i in range(len(spis)):\n",
    "        if spis[i].isupper(): spis[i]='_'+spis[i]\n",
    "print(spis)\n",
    "print(''.join(spis).lower()[1:])\n",
    "\n",
    "\n",
    "# print(''.join(list(text)[1:]).lower())"
   ]
  },
  {
   "cell_type": "code",
   "execution_count": 105,
   "metadata": {},
   "outputs": [
    {
     "name": "stdout",
     "output_type": "stream",
     "text": [
      "['T', 'h', 'i', 's', 'I', 's', 'C', 'a', 'm', 'e', 'l', 'C', 'a', 's', 'e', 'd']\n",
      "['T', 'h', 'i', 's', 'I', 's', 'C', 'a', 'm', 'e', 'l', 'C', 'a', 's', 'e', 'd']\n",
      "hisiscamelcased\n"
     ]
    }
   ],
   "source": [
    "text=input()\n",
    "print(list(text))\n",
    "spis=list(text)\n",
    "for i in spis:\n",
    "        if i.isupper(): i='_'+i\n",
    "print(spis)\n",
    "print(''.join(spis).lower()[1:])"
   ]
  },
  {
   "cell_type": "code",
   "execution_count": 107,
   "metadata": {},
   "outputs": [
    {
     "name": "stdout",
     "output_type": "stream",
     "text": [
      "2 3\n"
     ]
    }
   ],
   "source": [
    "from statistics import mean\n",
    "# объявление функции\n",
    "def get_middle_point(x1, y1, x2, y2):\n",
    "    \n",
    "    return mean([x1,x2]), mean([y1,y2])\n",
    "    \n",
    "\n",
    "# считываем данные\n",
    "x_1, y_1 = int(input()), int(input())\n",
    "x_2, y_2 = int(input()), int(input())\n",
    "\n",
    "# вызываем функцию\n",
    "x, y = get_middle_point(x_1, y_1, x_2, y_2)\n",
    "print(x, y)"
   ]
  },
  {
   "cell_type": "code",
   "execution_count": 109,
   "metadata": {},
   "outputs": [
    {
     "name": "stdout",
     "output_type": "stream",
     "text": [
      "       *\n",
      "      ***\n",
      "     *****\n",
      "    *******\n",
      "   *********\n",
      "  ***********\n",
      " *************\n",
      "***************\n"
     ]
    }
   ],
   "source": [
    "star=[1,3,5,7,9,11,13,15]\n",
    "space=[7,6,5,4,3,2,1,0]\n",
    "for i in range(8):\n",
    "    print(' '*space[i]+'*'*star[i])"
   ]
  },
  {
   "cell_type": "code",
   "execution_count": 111,
   "metadata": {},
   "outputs": [
    {
     "name": "stdout",
     "output_type": "stream",
     "text": [
      "1.0\n"
     ]
    }
   ],
   "source": [
    "from math import factorial\n",
    "# объявление функции\n",
    "def compute_binom(n, k):\n",
    "    return factorial(n)/factorial(k)/factorial(n-k)\n",
    "\n",
    "# считываем данные\n",
    "n = int(input())\n",
    "k = int(input())\n",
    "\n",
    "# вызываем функцию\n",
    "print(compute_binom(n, k))\n"
   ]
  },
  {
   "cell_type": "code",
   "execution_count": 117,
   "metadata": {},
   "outputs": [
    {
     "name": "stdout",
     "output_type": "stream",
     "text": [
      "семьдесят\n"
     ]
    }
   ],
   "source": [
    "def number_to_words(num):\n",
    "    ed=['один', 'два', 'три', 'четыре', 'пять', 'шесть', 'семь', 'восемь', 'девять']\n",
    "    des=['десять','одиннадцать','двенадцать','тринадцать','четырнадцать','пятнадцать','шестнадцать','семнадцать',\n",
    "         'восемнадцать','девятнадцать']\n",
    "    sotn=['двадцать','тридцать','сорок','пятьдесят','шестьдесят','семьдесят','восемьдесят','девяносто']\n",
    "    if 1<=num<=9: return ed[num-1]\n",
    "    elif 10<=num<=19: return des[num%10]\n",
    "    elif num in [20,30,40,50,60,70,80,90] : return sotn[num//10-2]\n",
    "    else : return sotn[num//10-2] + ' ' + ed[num%10-1]\n",
    "\n",
    "\n",
    "# считываем данные\n",
    "n = int(input())\n",
    "\n",
    "# вызываем функцию\n",
    "print(number_to_words(n))"
   ]
  },
  {
   "cell_type": "code",
   "execution_count": 120,
   "metadata": {},
   "outputs": [
    {
     "name": "stdout",
     "output_type": "stream",
     "text": [
      "september\n"
     ]
    }
   ],
   "source": [
    "def get_month(language, number):\n",
    "    mes_ru=['январь','февраль','март','апрель','май','июнь','июль','август','сентябрь','октябрь','ноябрь','декабрь']\n",
    "    month_en=['january','february','march','april','may','june','july','august','september','october','november','december']\n",
    "    if language=='ru': return mes_ru[number-1]\n",
    "    else: return month_en[number-1]\n",
    "\n",
    "# считываем данные\n",
    "lan = input()\n",
    "num = int(input())\n",
    "\n",
    "# вызываем функцию\n",
    "print(get_month(lan, num))"
   ]
  },
  {
   "cell_type": "code",
   "execution_count": 126,
   "metadata": {},
   "outputs": [
    {
     "name": "stdout",
     "output_type": "stream",
     "text": [
      "4\n"
     ]
    }
   ],
   "source": [
    "s=input()\n",
    "print(int(s))\n"
   ]
  },
  {
   "cell_type": "code",
   "execution_count": 128,
   "metadata": {},
   "outputs": [
    {
     "name": "stdout",
     "output_type": "stream",
     "text": [
      "97\n",
      "['a', 'b', 'c', 'd', 'e', 'f', 'g', 'h', 'i', 'j', 'k', 'l', 'm', 'n', 'o', 'p', 'q', 'r', 's', 't', 'u', 'v', 'w', 'x', 'y', 'z']\n"
     ]
    }
   ],
   "source": [
    "print(ord('a'))\n",
    "print([chr(i) for i in range(ord('a'), ord('z')+1)])"
   ]
  },
  {
   "cell_type": "code",
   "execution_count": 136,
   "metadata": {},
   "outputs": [
    {
     "name": "stdout",
     "output_type": "stream",
     "text": [
      "True\n"
     ]
    }
   ],
   "source": [
    "def is_pangram(text):\n",
    "    #alfabeth=[chr(i) for i in range(ord('a'), ord('z')+1)]\n",
    "    text.replace(' ','')\n",
    "    new_txt= text.replace(' ','')\n",
    "    l=list(new_txt.lower())\n",
    "    spis=[]\n",
    "    for i in range(len(l)):\n",
    "        if l[i] not in spis: spis.append(l[i])\n",
    "    if len(spis)==26: return True\n",
    "    else: return False\n",
    "            \n",
    "\n",
    "# считываем данные\n",
    "text = input()\n",
    "\n",
    "# вызываем функцию\n",
    "print(is_pangram(text))"
   ]
  },
  {
   "cell_type": "code",
   "execution_count": 139,
   "metadata": {},
   "outputs": [
    {
     "name": "stdout",
     "output_type": "stream",
     "text": [
      "[21, 44, 15, 50, 60, 66, 38, 96, 68, 93]\n"
     ]
    }
   ],
   "source": [
    "# случайный рандомный random набор чисел из заданного промежутка-интервала\n",
    "from random import randint\n",
    "print([randint(1,100) for _ in range(10)]) # обрати внимание на диапазон рандома: он включителен для ОБЕИХ границ"
   ]
  },
  {
   "cell_type": "code",
   "execution_count": 140,
   "metadata": {},
   "outputs": [
    {
     "name": "stdout",
     "output_type": "stream",
     "text": [
      "16\n"
     ]
    }
   ],
   "source": [
    "# функция RANDRANGE(x,y,z) способна хранить число из заданного диапазона [x,y) БЕЗ ВЕРХНЕЙ границы  c шагом Z\n",
    "from random import randrange\n",
    "print(randrange(1,20,5)) # здесь рандом возьмет число случайным образом из списка [1,6,11,16] \n"
   ]
  },
  {
   "cell_type": "code",
   "execution_count": 144,
   "metadata": {},
   "outputs": [
    {
     "name": "stdout",
     "output_type": "stream",
     "text": [
      "0.7255223948572208\n"
     ]
    }
   ],
   "source": [
    "# функция RANDOM() вернет случайное float число (нецелое) из диапазона [0,1) БЕЗ ВЕРХНЕЙ границы \n",
    "from random import random\n",
    "print(random())"
   ]
  },
  {
   "cell_type": "code",
   "execution_count": 145,
   "metadata": {},
   "outputs": [
    {
     "name": "stdout",
     "output_type": "stream",
     "text": [
      "1.7786625806935283\n"
     ]
    }
   ],
   "source": [
    "# функция UNIFORM(x,y) аналогична random() за исключением заданного диапазона (ОБЕ границы включены)\n",
    "from random import uniform\n",
    "print(uniform(1.3,12.5))"
   ]
  },
  {
   "cell_type": "code",
   "execution_count": 148,
   "metadata": {},
   "outputs": [
    {
     "name": "stdout",
     "output_type": "stream",
     "text": [
      "[8, 12, 11, 47, 22, 95, 86, 40, 33, 78]\n"
     ]
    }
   ],
   "source": [
    "# если нужно раз за разом генерировать одну и ту же последовательность чисел, использовать нужно seed()\n",
    "from random import randint, seed\n",
    "seed(2) #здесь задается произвольное начальное значение, от которого генератор по определенной формуле выводит последовательность\n",
    "print([randint(1,100) for _ in range(10)]) # при каждом вызове программы будет выведена одна и та же последовательность"
   ]
  },
  {
   "cell_type": "code",
   "execution_count": 154,
   "metadata": {},
   "outputs": [
    {
     "name": "stdout",
     "output_type": "stream",
     "text": [
      "[40, 94, 27, 63, 66, 47, 88, 80, 10, 44]\n",
      "[80, 47, 10, 27, 88, 66, 44, 94, 63, 40]\n",
      "[10, 27, 40, 44, 47, 63, 66, 80, 88, 94]\n"
     ]
    }
   ],
   "source": [
    "# перемешать список случайным образом SHUFFLE\n",
    "from random import * # импортировали все функции\n",
    "spis=[randint(1,100) for _ in range(10)]\n",
    "\n",
    "print(spis)\n",
    "shuffle(spis)\n",
    "print(spis)\n",
    "print(sorted(spis)) # ну заодно и отсортируем по возрастанию))\n"
   ]
  },
  {
   "cell_type": "code",
   "execution_count": 157,
   "metadata": {},
   "outputs": [
    {
     "name": "stdout",
     "output_type": "stream",
     "text": [
      "6\n",
      "t\n",
      "[9, 33, 95]\n",
      "['i', 'o', 't', 'A']\n"
     ]
    }
   ],
   "source": [
    "# взять случайный элемент из строки или списка позволит choice()\n",
    "from random import * # импортировали все функции\n",
    "spis=[randint(1,100) for _ in range(10)]\n",
    "s='Anton Potekhin'\n",
    "\n",
    "print(choice(spis))\n",
    "print(choice(s))\n",
    "\n",
    "# надергать случайных элементов из строки или списка в НУЖНОМ количестве поможет sample()\n",
    "\n",
    "print(sample(spis,3)) # берем три элемента\n",
    "print(sample(s,4))  # берем четыре элемента"
   ]
  },
  {
   "cell_type": "code",
   "execution_count": 284,
   "metadata": {},
   "outputs": [
    {
     "name": "stdout",
     "output_type": "stream",
     "text": [
      "[9, 2]\n"
     ]
    }
   ],
   "source": [
    "# взять случайное количество элементов из строки, списка, кортежа, множества \n",
    "# sample(список, кол-во элементов)\n",
    "\n",
    "import random\n",
    " \n",
    "numbers = [2, 5, 8, 9, 12]\n",
    "\n",
    "print(random.sample(numbers, 2)) # вернет список"
   ]
  },
  {
   "cell_type": "code",
   "execution_count": 285,
   "metadata": {},
   "outputs": [
    {
     "name": "stdout",
     "output_type": "stream",
     "text": [
      "abcdefghijklmnopqrstuvwxyzABCDEFGHIJKLMNOPQRSTUVWXYZ\n",
      "ABCDEFGHIJKLMNOPQRSTUVWXYZ\n",
      "abcdefghijklmnopqrstuvwxyz\n",
      "0123456789\n",
      "0123456789abcdefABCDEF\n",
      "01234567\n",
      "!\"#$%&'()*+,-./:;<=>?@[\\]^_`{|}~\n",
      "0123456789abcdefghijklmnopqrstuvwxyzABCDEFGHIJKLMNOPQRSTUVWXYZ!\"#$%&'()*+,-./:;<=>?@[\\]^_`{|}~ \t\n",
      "\u000b\f\n"
     ]
    }
   ],
   "source": [
    "# модуль string() - позволяет доставать некоторые удобные константные последовательности\n",
    "import string\n",
    "\n",
    "print(string.ascii_letters) # весь английский алфавит\n",
    "print(string.ascii_uppercase) # весь англ алфавит прописных букв(заглавных)\n",
    "print(string.ascii_lowercase) # весь англ алфавит строчных букв\n",
    "print(string.digits)\n",
    "print(string.hexdigits)  # все цифры в 16-ричной системе (шестнадцатеричная)\n",
    "print(string.octdigits)\n",
    "print(string.punctuation)  # ВСЕ ЗНАКИ ПРЕПИНАНИЯ простым способом\n",
    "print(string.printable)   # все цифры, знаки препинания, буквы англ алфавита в одном пакете"
   ]
  },
  {
   "cell_type": "code",
   "execution_count": 178,
   "metadata": {},
   "outputs": [
    {
     "name": "stdout",
     "output_type": "stream",
     "text": [
      "34\n",
      "Добро пожаловать в числовую угадайку\n",
      "Введите число от 1 до 100\n",
      "22\n",
      "Ваше число меньше загаданного, попробуйте еще разок\n",
      "Введите число от 1 до 100\n",
      "45\n",
      "Ваше число больше загаданного, попробуйте еще разок\n",
      "Введите число от 1 до 100\n",
      "34\n",
      "Вы угадали, поздравляем!\n",
      "Сыграем еще? Да/нет\n",
      "97\n",
      "Добро пожаловать в числовую угадайку\n",
      "Введите число от 1 до 100\n",
      "97\n",
      "Вы угадали, поздравляем!\n",
      "Сыграем еще? Да/нет\n",
      "Спасибо, что играли в числовую угадайку. Еще увидимся...\n",
      "Количество попыток \n",
      "1\n"
     ]
    }
   ],
   "source": [
    "# числовая угадайка \n",
    "# https://stepik.org/lesson/349845/step/8?unit=333700\n",
    "\n",
    "from random import * # импортировали все функции\n",
    "\n",
    "def is_valid(txt):\n",
    "    if txt.isdigit() and 0<int(txt) <101 : return True\n",
    "    else: return False\n",
    "\n",
    "def is_valid_game(answer):\n",
    "    if answer=='нет' or answer=='да' : return True\n",
    "    else: return False\n",
    "    \n",
    "\n",
    "while True:\n",
    "    num= randint(1,100)\n",
    "    print(num)\n",
    "    print('Добро пожаловать в числовую угадайку', end='\\n')\n",
    "\n",
    "    count=1\n",
    "\n",
    "\n",
    "    while True:\n",
    "        print(\"Введите число от 1 до 100\")\n",
    "        number = input()\n",
    "        print(number)\n",
    "        if is_valid(number):\n",
    "            x=int(number)\n",
    "            if x==num: \n",
    "                print('Вы угадали, поздравляем!')\n",
    "                break\n",
    "            \n",
    "            elif x> num: \n",
    "                print('Ваше число больше загаданного, попробуйте еще разок')\n",
    "                count+=1\n",
    "            elif x< num: \n",
    "                print('Ваше число меньше загаданного, попробуйте еще разок')\n",
    "                count+=1\n",
    "        else:\n",
    "            print('А может быть все-таки введем целое число от 1 до 100?')\n",
    "            print()\n",
    "        \n",
    "    print('Сыграем еще? Да/нет')\n",
    "    answer=input().lower().strip()\n",
    "    if is_valid_game(answer):\n",
    "        if answer=='нет': break\n",
    "    \n",
    "    \n",
    "print('Спасибо, что играли в числовую угадайку. Еще увидимся...', 'Количество попыток ', count, sep='\\n' )"
   ]
  },
  {
   "cell_type": "code",
   "execution_count": 4,
   "metadata": {},
   "outputs": [
    {
     "name": "stdout",
     "output_type": "stream",
     "text": [
      "Привет Мир, я магический шар, и я знаю ответ на любой твой вопрос.\n",
      "Как Вас зовут?\n",
      "Здравствуйте,  Антон\n",
      "Спроси у меня что хочешь!\n",
      "что я хочу?\n",
      "Определённо да\n",
      "Что-то еще? :-) (да/нет)\n",
      "нужно ввести да или нет\n",
      "нужно ввести да или нет\n",
      "Спроси у меня что хочешь!\n",
      "не хочу\n",
      "Определённо да\n",
      "Что-то еще? :-) (да/нет)\n",
      "нужно ввести да или нет\n",
      "нужно ввести да или нет\n",
      "Возвращайся если возникнут вопросы!\n"
     ]
    }
   ],
   "source": [
    "from random import *\n",
    "print('Привет Мир, я магический шар, и я знаю ответ на любой твой вопрос.')\n",
    "answers=['Бесспорно', 'Предрешено', 'Никаких сомнений', 'Определённо да', 'Можешь быть уверен в этом',\n",
    "            'Мне кажется - да', 'Вероятнее всего', 'Хорошие перспективы', 'Знаки говорят - да', 'Да',\n",
    "            'Пока неясно, попробуй снова позже', 'Спроси позже', 'Лучше не рассказывать',\n",
    "            'Сейчас нельзя предсказать', 'Сконцентрируйся и спроси опять', 'Даже не думай',\n",
    "            'Мой ответ - нет', 'По моим данным - нет', 'Перспективы не очень хорошие',\n",
    "            'Весьма сомнительно']\n",
    "print('Как Вас зовут?')\n",
    "name=input()\n",
    "print('Здравствуйте, ', name)\n",
    "while True:\n",
    "    print(\"Спроси у меня что хочешь!\")\n",
    "    question = input()\n",
    "    print(question)\n",
    "    answer=choice(answers)\n",
    "    print(answer)\n",
    "\n",
    "    print('Что-то еще? :-) (да/нет)')\n",
    "    while True:\n",
    "        again=input().lower().strip()\n",
    "        if again=='да' or again=='нет':break\n",
    "        else: \n",
    "            print('нужно ввести да или нет')\n",
    "            continue\n",
    "    if again== 'да': continue\n",
    "    else: break\n",
    "\n",
    "print('Возвращайся если возникнут вопросы!')\n",
    "\n",
    "\n",
    "\n",
    "    "
   ]
  },
  {
   "cell_type": "code",
   "execution_count": 28,
   "metadata": {},
   "outputs": [
    {
     "name": "stdout",
     "output_type": "stream",
     "text": [
      "Сколько паролей сгенерировать?\n",
      "5 \n",
      "\n",
      "Какой длины должен быть пароль? \n",
      "12 \n",
      "\n",
      "Включать ли цифры 0123456789?\n",
      "да \n",
      "\n",
      "Включать ли прописные буквы ABCDEFGHIJKLMNOPQRSTUVWXYZ?\n",
      "да \n",
      "\n",
      "Включать ли строчные буквы abcdefghijklmnopqrstuvwxyz?\n",
      "да \n",
      "\n",
      "Включать ли символы !#$%&*+-=?@^_?\n",
      "да \n",
      "\n",
      "Исключать ли неоднозначные символы il1Lo0O?\n",
      "да \n",
      "\n",
      "e3-EPaDh?IQT\n",
      "jC_dpDWmhQ3r\n",
      "upn#3=mZsg&%\n",
      "@AgTnm!2%bNW\n",
      "dVuDE&sfUZz2\n"
     ]
    }
   ],
   "source": [
    "# генератор случайных паролей \n",
    "# https://stepik.org/lesson/349848/step/2?unit=333703\n",
    "\n",
    "from random import *\n",
    "\n",
    "digits='0123456789'\n",
    "lowercase_letters= 'abcdefghijklmnopqrstuvwxyz'\n",
    "uppercase_letters = 'ABCDEFGHIJKLMNOPQRSTUVWXYZ'\n",
    "punctuation = '!#$%&*+-=?@^_'\n",
    "junks= 'il1Lo0O'\n",
    "chars = ''\n",
    "\n",
    "def is_valid_answer(ans):\n",
    "    if ans.lower().strip()!= 'да' or ans.lower().strip()!= 'нет': return False\n",
    "    else: return True\n",
    "\n",
    "\n",
    "print('Сколько паролей сгенерировать?')\n",
    "n= int(input())\n",
    "print(n, '\\n')\n",
    "\n",
    "print('Какой длины должен быть пароль? ' )\n",
    "l=int(input())\n",
    "print(l, '\\n')\n",
    "\n",
    "print('Включать ли цифры 0123456789?')\n",
    "dig=input()\n",
    "print(dig, '\\n')\n",
    "\n",
    "print('Включать ли прописные буквы ABCDEFGHIJKLMNOPQRSTUVWXYZ?')\n",
    "up=input()\n",
    "print(up, '\\n')\n",
    "\n",
    "print('Включать ли строчные буквы abcdefghijklmnopqrstuvwxyz?')\n",
    "low=input()\n",
    "print(low, '\\n')\n",
    "\n",
    "print('Включать ли символы !#$%&*+-=?@^_?')\n",
    "char=input()\n",
    "print(char, '\\n')\n",
    "\n",
    "print('Исключать ли неоднозначные символы il1Lo0O?')\n",
    "junk=input()\n",
    "print(junk, '\\n')\n",
    "\n",
    "if dig=='да': chars+=digits\n",
    "if up=='да': chars+=uppercase_letters\n",
    "if low== 'да': chars+=lowercase_letters\n",
    "if char== 'да': chars+=punctuation\n",
    "\n",
    "if junk== 'да': \n",
    "    txt=''\n",
    "    for i in range(len(chars)):\n",
    "        if chars[i] not in junks: txt+=chars[i]\n",
    "chars=txt\n",
    "\n",
    "def generate_password(length, chars):\n",
    "    return (sample(chars,length))\n",
    "\n",
    "for _ in range(n):\n",
    "    print(*generate_password(l,chars), sep='')\n",
    "\n"
   ]
  },
  {
   "cell_type": "code",
   "execution_count": 355,
   "metadata": {},
   "outputs": [
    {
     "name": "stdout",
     "output_type": "stream",
     "text": [
      "dbQgx\n",
      "97AZx\n",
      "65LFn\n",
      "ceFGL\n"
     ]
    }
   ],
   "source": [
    "# генератор паролей функция\n",
    "\n",
    "def generate_password(length):\n",
    "    from random import sample\n",
    "    nabor=(''.join(list(set(string.ascii_letters)-{'l','I','o','O'})) + \n",
    "            (''.join([str(i) for i in (range(2,10))])))\n",
    "    return ''.join(sample(nabor,length))\n",
    "\n",
    "def generate_passwords(count, length):\n",
    "    return [generate_password(length) for _ in range(count)]\n",
    "\n",
    "n,l=int(input()), int(input())\n",
    "\n",
    "print(*generate_passwords(n,l), sep='\\n')\n"
   ]
  },
  {
   "cell_type": "code",
   "execution_count": 363,
   "metadata": {},
   "outputs": [
    {
     "name": "stdout",
     "output_type": "stream",
     "text": [
      "RBUyqTeCXcEgSDbKMPLmnvFtAphYiQJdxfwuHzVkGZaWsjNr23456789\n",
      "ABCDEFGHJKLMNPQRSTUVWXYZabcdefghijkmnpqrstuvwxyz23456789\n",
      "True\n"
     ]
    }
   ],
   "source": [
    "nabor=(''.join(list(set(string.ascii_letters)-{'l','I','o','O'})) + \n",
    "      (''.join([str(i) for i in (range(2,10))])))\n",
    "\n",
    "print(nabor)\n",
    "\n",
    "nabor1=''.join([chr(i) for i in range(ord('A'),ord('z')+1) if chr(i).isalpha() and chr(i)!='l' and chr(i)!='I' and chr(i)!='o' and chr(i)!='O'] + \n",
    "                [str(i) for i in range(2,10)])\n",
    "print(nabor1)\n",
    "\n",
    "print(set(nabor)==set(nabor1))"
   ]
  },
  {
   "cell_type": "code",
   "execution_count": 370,
   "metadata": {},
   "outputs": [
    {
     "name": "stdout",
     "output_type": "stream",
     "text": [
      "WSt5Z\n",
      "kCVi2\n",
      "5KY4u\n",
      "RMpJ4\n",
      "pBSM8\n",
      "f9EYQ\n",
      "xE6Nv\n",
      "h7F68\n"
     ]
    }
   ],
   "source": [
    "# генератор паролей 2: \n",
    "# то же самое, но пусть в каждом пароле будет хотя бы одна цифра и по одной букве в верхнем и нижнем регистре\n",
    "\n",
    "def generate_password(length):\n",
    "    from random import sample, choice, shuffle\n",
    "    nabor=''.join([chr(i) for i in range(ord('A'),ord('z')+1) if chr(i).isalpha() and chr(i)!='l' and chr(i)!='I' and chr(i)!='o' and chr(i)!='O'] + \n",
    "                [str(i) for i in range(2,10)])\n",
    "    digits=[str(i) for i in (range(2,10))]\n",
    "    low=[i for i in nabor if i.isalpha() and i.islower()]\n",
    "    up=[i for i in nabor if i.isalpha() and i.isupper()]\n",
    "    temp= (sample(nabor,length-3))+[choice(digits),choice(low) , choice(up)]  # создаем список взятых случайно символов\n",
    "                                                                              # хотя бы один в нижнем регистре\n",
    "                                                                              # хотя бы один в верхнем регистре\n",
    "                                                                              # хотя бы одну цифру\n",
    "                                                                              # и остальные всевозможные из общего списка    \n",
    "    shuffle(temp)             # перемешиваем\n",
    "    password=''.join(temp)\n",
    "    return password\n",
    "\n",
    "def generate_passwords(count, length):\n",
    "    return [generate_password(length) for _ in range(count)]\n",
    "\n",
    "n,l=int(input()), int(input())\n",
    "\n",
    "print(*generate_passwords(n,l), sep='\\n')"
   ]
  },
  {
   "cell_type": "code",
   "execution_count": 368,
   "metadata": {},
   "outputs": [
    {
     "data": {
      "text/plain": [
       "'c'"
      ]
     },
     "execution_count": 368,
     "metadata": {},
     "output_type": "execute_result"
    }
   ],
   "source": [
    "from random import choice\n",
    "choice(['a','b','c'])"
   ]
  },
  {
   "cell_type": "code",
   "execution_count": 367,
   "metadata": {},
   "outputs": [
    {
     "name": "stdout",
     "output_type": "stream",
     "text": [
      "1\n",
      "2\n",
      "1\n"
     ]
    }
   ],
   "source": [
    "# броски игральной кости (на всякий случай)\n",
    "import random\n",
    "\n",
    "n = int(input())    # количество попыток\n",
    "for _ in range(n): print([i for i in range(1,7)][random.randrange(6)])"
   ]
  },
  {
   "cell_type": "code",
   "execution_count": 278,
   "metadata": {},
   "outputs": [
    {
     "name": "stdout",
     "output_type": "stream",
     "text": [
      "JSARSlbZYo"
     ]
    }
   ],
   "source": [
    "# генератор пароля из букв англ алвафита\n",
    "\n",
    "import random\n",
    "\n",
    "length = int(input())    # длина пароля\n",
    "for _ in range(length): print([chr(i) for i in range(65,123) if chr(i).isalpha()][random.randrange(52)], end='')\n",
    "\n",
    "\n",
    "\n",
    "\n"
   ]
  },
  {
   "cell_type": "code",
   "execution_count": 282,
   "metadata": {},
   "outputs": [
    {
     "name": "stdout",
     "output_type": "stream",
     "text": [
      "32 3 11 16 17 26 28\n"
     ]
    }
   ],
   "source": [
    "# сгенерировать 7 различных случайных чисел и вывести в строку через один пробел\n",
    "from random import randrange\n",
    "lotery=[]\n",
    "while len(set(lotery))<7:\n",
    "    lotery.append([i for i in range(1,50)][randrange(49)])\n",
    "print(*set(lotery), sep=' ')"
   ]
  },
  {
   "cell_type": "code",
   "execution_count": 293,
   "metadata": {},
   "outputs": [
    {
     "name": "stdout",
     "output_type": "stream",
     "text": [
      "YS50_95ZH\n"
     ]
    }
   ],
   "source": [
    "# случайный почтовый индекс https://stepik.org/lesson/356380/step/7?unit=340495 \n",
    "\n",
    "def generate_index():\n",
    "    from random import sample, choice\n",
    "    alph=string.ascii_uppercase\n",
    "    numb=[str(i) for i in list(range(100))]\n",
    "    return f'{choice(alph)}{choice(alph)}{choice(numb)}_{choice(numb)}{choice(alph)}{choice(alph)}'\n",
    "\n",
    "print(generate_index())"
   ]
  },
  {
   "cell_type": "code",
   "execution_count": 294,
   "metadata": {},
   "outputs": [
    {
     "name": "stdout",
     "output_type": "stream",
     "text": [
      "ABCDEFGHIJKLMNOPQRSTUVWXYZ\n"
     ]
    }
   ],
   "source": [
    "alph=string.ascii_uppercase\n",
    "print(alph)"
   ]
  },
  {
   "cell_type": "code",
   "execution_count": 296,
   "metadata": {},
   "outputs": [
    {
     "name": "stdout",
     "output_type": "stream",
     "text": [
      "4465678\n",
      "7819413\n",
      "7320209\n",
      "7792812\n",
      "3463095\n",
      "5276863\n",
      "7443916\n",
      "8179970\n",
      "6869952\n",
      "8229083\n",
      "4247566\n",
      "9195882\n",
      "7215314\n",
      "9614323\n",
      "3607206\n",
      "3116952\n",
      "2840712\n",
      "6383096\n",
      "4949746\n",
      "2914313\n"
     ]
    }
   ],
   "source": [
    "# вывести 100 номеров лотерейных билетов, выбранных случайно  уловием: \n",
    "# - он не начинается с нуля \n",
    "# - он из 7 цифр \n",
    "# - все 100 штук различны\n",
    "\n",
    "from random import randint\n",
    "tickets=[]\n",
    "while len(set(tickets))<20:\n",
    "    ticket=f'{str(randint(1,9))}{str(randint(0,9))}{str(randint(0,9))}{str(randint(0,9))}{str(randint(0,9))}{str(randint(0,9))}{str(randint(0,9))}'\n",
    "    tickets.append(ticket)\n",
    "\n",
    "print(*set(tickets), sep='\\n')"
   ]
  },
  {
   "cell_type": "code",
   "execution_count": 298,
   "metadata": {},
   "outputs": [
    {
     "name": "stdout",
     "output_type": "stream",
     "text": [
      "иалп\n"
     ]
    }
   ],
   "source": [
    "# сделать анаграмму  для любого слова (строки)\n",
    "from random import shuffle\n",
    "word=list(input())\n",
    "shuffle(word)\n",
    "print(''.join(word))\n"
   ]
  },
  {
   "cell_type": "code",
   "execution_count": 319,
   "metadata": {},
   "outputs": [
    {
     "name": "stdout",
     "output_type": "stream",
     "text": [
      "31  6   45  34  20  \n",
      "51  59  73  39  9   \n",
      "29  10  0   61  30  \n",
      "22  53  33  70  64  \n",
      "37  68  71  32  60  \n"
     ]
    }
   ],
   "source": [
    "# случайная карточка бинго\n",
    "\n",
    "def print_matrix(matrix, width):\n",
    "    n=len(matrix)\n",
    "    m=len(matrix[0])\n",
    "    for r in range(n):\n",
    "        for c in range(m):\n",
    "            print(str(matrix[r][c]).ljust(width), end=' ')\n",
    "        print()\n",
    "\n",
    "from random import randint,choice,shuffle\n",
    "nabor=set()\n",
    "while len(nabor)<25:\n",
    "    nabor.add(randint(1,75))\n",
    "\n",
    "spis=list(nabor)\n",
    "shuffle(spis)\n",
    "\n",
    "\n",
    "card=[spis[x:x+5] for x in range(0,len(spis),5)] \n",
    "card[2][2]=0\n",
    "\n",
    "print_matrix(card,3)\n"
   ]
  },
  {
   "cell_type": "code",
   "execution_count": 343,
   "metadata": {},
   "outputs": [
    {
     "name": "stdout",
     "output_type": "stream",
     "text": [
      "Костя - АНтон \n",
      "Сергей - Паша\n",
      "Олег - Сергей\n",
      "Паша - Костя\n",
      "АНтон  - Олег\n"
     ]
    },
    {
     "data": {
      "text/plain": [
       "[None, None, None, None, None]"
      ]
     },
     "execution_count": 343,
     "metadata": {},
     "output_type": "execute_result"
    }
   ],
   "source": [
    "# тайный друг - назначить из списка учеников каждому тайного ученика из этого же списка\n",
    "# https://stepik.org/lesson/356380/step/12?thread=solutions&unit=340495 \n",
    "\n",
    "from random import choice\n",
    "\n",
    "names, rel, tmp = {input() for _ in range(int(input()))}, {}, 0\n",
    "for name in names.copy():\n",
    "    if names == {name}:                       # если последнее имя человека из списка совпало с оставшимся тайным другом\n",
    "        rel[tmp], rel[name] = name, rel[tmp]  # то просто в словаре меняем значения двух последних ключей местами\n",
    "    else:\n",
    "        rand_name = choice(list(names - {name}))  # вычитание множеств: здесь убираем из списка имен то, кому ищем пару\n",
    "                                                  # и говорим, что тайный друг - это случайное имя из множества  \n",
    "        rel[name] = rand_name                     # записываем полученное имя тайного друга в пустой словарь с привязкой \n",
    "                                                  # к имени (создаем пару Человек:тайный друг)\n",
    "        names -= {rand_name}                      # убираем из списка людей только что полученного тайного друга (чтобы его не использовать больше)\n",
    "        tmp = name                      # присваиваем временной перем имя человека (нужно только для того, чтобы проверить условие выше)\n",
    "[print(k, '-', v) for k, v in rel.items()]  # печатаем пары из словаря\n"
   ]
  },
  {
   "cell_type": "code",
   "execution_count": 344,
   "metadata": {},
   "outputs": [
    {
     "name": "stdout",
     "output_type": "stream",
     "text": [
      "{2, 3, 4, 5}\n"
     ]
    }
   ],
   "source": [
    "print({1,2,3,4,5}-{1})  # вычитание множеств - обрати внимание, это работает!!!"
   ]
  },
  {
   "cell_type": "code",
   "execution_count": 380,
   "metadata": {},
   "outputs": [
    {
     "name": "stdout",
     "output_type": "stream",
     "text": [
      "0.333271\n"
     ]
    }
   ],
   "source": [
    "# метод монте-карло \n",
    "\n",
    "# Применение 1: (вычисление площади фигуры) \n",
    "# - строим график зависимости , получаем сложную фигуру \n",
    "# - строим вокргу нее прямоугольник \n",
    "# - набрасываем точки в область прямоугольника через рандом \n",
    "# - проверяем условие для точки в одной итерации цикла: если True , то в счетчик записываем +1; False - следующая итерация\n",
    "# - площадь фигуры равна отношению счетчика попаданий к числу итераций, умноженной на площадь опоясывающего прямоугольника\n",
    "\n",
    "import random\n",
    "\n",
    "n = 1000000\n",
    "k = 0\n",
    "s0 = 1\n",
    "for _ in range(n):\n",
    "    x = random.uniform(0, 1)     # случайное число с плавающей точкой от 0 до 1\n",
    "    y = random.uniform(0, 1)     # случайное число с плавающей точкой от 0 до 1\n",
    "\n",
    "    if y <= x**2:                # если попадает в нужную область\n",
    "        k += 1\n",
    "\n",
    "print((k/n)*s0)"
   ]
  },
  {
   "cell_type": "code",
   "execution_count": 381,
   "metadata": {},
   "outputs": [
    {
     "name": "stdout",
     "output_type": "stream",
     "text": [
      "3.14392\n"
     ]
    }
   ],
   "source": [
    "# как насчет посчитать число Пи методом монте-карло?))\n",
    "\n",
    "import random\n",
    "\n",
    "n = 10**6       # количество испытаний\n",
    "\n",
    "k = 0\n",
    "s0 = 4\n",
    "for _ in range(n):\n",
    "    x = random.uniform(0, 1)     # случайное число с плавающей точкой от 0 до 1\n",
    "    y = random.uniform(0, 1)     # случайное число с плавающей точкой от 0 до 1\n",
    "\n",
    "    if y**2+ x**2<= 1:                # если попадает в нужную область\n",
    "        k += 1\n",
    "\n",
    "print((k/n)*s0)"
   ]
  },
  {
   "cell_type": "code",
   "execution_count": 66,
   "metadata": {},
   "outputs": [
    {
     "name": "stdout",
     "output_type": "stream",
     "text": [
      "Блажен, кто верует, тепло ему на свете!\n",
      "Лхкрпч, фьш мпъэпь, ьпщхш пцэ чк ымпьп!\n"
     ]
    }
   ],
   "source": [
    "# Шифр цезаря со сдвигом на 10\n",
    "\n",
    "s=\"Блажен, кто верует, тепло ему на свете!\"\n",
    "s1=s.lower()\n",
    "spis_old=list(s)\n",
    "spis=list(s1)\n",
    "\n",
    "\n",
    "\n",
    "for i in range(len(spis)):\n",
    "    if spis[i].isalpha():\n",
    "        if ord(spis[i])<=ord('я')-10 : \n",
    "            spis[i]= chr(ord(spis[i])+10)\n",
    "            #spis[i]= spis1.append(chr(ord(spis[i])+10))\n",
    "        else: spis[i]= chr(ord(spis[i])+10-32)\n",
    "    \n",
    "for i in range(len(spis)): \n",
    "    if spis_old[i].isupper(): spis[i]=spis[i].upper()\n",
    "\n",
    "print(s)\n",
    "print(*spis, sep='')"
   ]
  },
  {
   "cell_type": "code",
   "execution_count": null,
   "metadata": {},
   "outputs": [],
   "source": []
  },
  {
   "cell_type": "code",
   "execution_count": 57,
   "metadata": {},
   "outputs": [
    {
     "name": "stdout",
     "output_type": "stream",
     "text": [
      "Kf sv, fi efk kf sv, kyrk zj kyv hlvjkzfe!\n"
     ]
    }
   ],
   "source": [
    "# функция, которая проверяет язык и шифрует текст Шифром Цезаря\n",
    "\n",
    "def cezar_code(string,rot):\n",
    "    s1=string.lower()\n",
    "    spis_old=list(string)\n",
    "    spis=list(s1)\n",
    "\n",
    "    for i in range(len(spis)):\n",
    "        if spis[i].isalpha():\n",
    "            if ord('a') <= ord(spis[i]) <= ord('z'):\n",
    "                if ord(spis[i])<=ord('z')-rot : spis[i]= chr(ord(spis[i])+rot)\n",
    "                else: spis[i]= chr(ord(spis[i])+rot-26)\n",
    "            elif ord('а') <= ord(spis[i]) <= ord('я'):\n",
    "                if ord(spis[i])<=ord('я')-rot : spis[i]= chr(ord(spis[i])+rot)\n",
    "                else: spis[i]= chr(ord(spis[i])+rot-32)\n",
    "    \n",
    "    for i in range(len(spis)): \n",
    "        if spis_old[i].isupper(): spis[i]=spis[i].upper()\n",
    "    return spis\n",
    "\n",
    "s=input()\n",
    "rot=int(input())\n",
    "\n",
    "print(*(cezar_code(s,rot)), sep='')"
   ]
  },
  {
   "cell_type": "code",
   "execution_count": 17,
   "metadata": {},
   "outputs": [
    {
     "name": "stdout",
     "output_type": "stream",
     "text": [
      "Learn to walk before you run.\n"
     ]
    }
   ],
   "source": [
    "# дешифровщик Цезаря\n",
    "\n",
    "def cezar_code(string,rot):\n",
    "    s1=string.lower()\n",
    "    spis_old=list(string)\n",
    "    spis=list(s1)\n",
    "\n",
    "    for i in range(len(spis)):\n",
    "        if spis[i].isalpha():\n",
    "            if ord('a') <= ord(spis[i]) <= ord('z'):\n",
    "                if ord(spis[i])>=ord('a')+rot : spis[i]= chr(ord(spis[i])-rot)\n",
    "                else: spis[i]= chr(ord(spis[i])-rot+26)\n",
    "            elif ord('а') <= ord(spis[i]) <= ord('я'):\n",
    "                if ord(spis[i])>=ord('а')+rot : spis[i]= chr(ord(spis[i])-rot)\n",
    "                else: spis[i]= chr(ord(spis[i])-rot+32)\n",
    "    \n",
    "    for i in range(len(spis)): \n",
    "        if spis_old[i].isupper(): spis[i]=spis[i].upper()\n",
    "    return spis\n",
    "\n",
    "s=input(\"введите заданную строку\")\n",
    "rot=int(input('введите размер сдвига вправо'))\n",
    "\n",
    "print(*(cezar_code(s,rot)), sep='')"
   ]
  },
  {
   "cell_type": "code",
   "execution_count": 38,
   "metadata": {},
   "outputs": [
    {
     "name": "stdout",
     "output_type": "stream",
     "text": [
      "Лхкрпч, фьш мпъэпь, ьпщхш пцэ чк ымпьп!\n"
     ]
    }
   ],
   "source": [
    "# функция, которая проверяет язык и шифрует текст Шифром Цезаря. \n",
    "# Каждое слово шифруется сдвигом на количество шагов равное длине слова\n",
    "\n",
    "def cezar_code(string,rot):\n",
    "\n",
    "    #блок преобразования строки для работы с ней при шифровании\n",
    "    s1=string.lower()\n",
    "    spis_old=list(string)\n",
    "    spis=list(s1)\n",
    "\n",
    "\n",
    "    # блок шифрования\n",
    "    for i in range(len(spis)):\n",
    "        if spis[i].isalpha():\n",
    "            if ord('a') <= ord(spis[i]) <= ord('z'):\n",
    "                if ord(spis[i])<=ord('z')-rot : spis[i]= chr(ord(spis[i])+rot)\n",
    "                else: spis[i]= chr(ord(spis[i])+rot-26)\n",
    "            elif ord('а') <= ord(spis[i]) <= ord('я'):\n",
    "                if ord(spis[i])<=ord('я')-rot : spis[i]= chr(ord(spis[i])+rot)\n",
    "                else: spis[i]= chr(ord(spis[i])+rot-32)\n",
    "    \n",
    "    for i in range(len(spis)): \n",
    "        if spis_old[i].isupper(): spis[i]=spis[i].upper()\n",
    "    return ''.join(spis)\n",
    "\n",
    "s=input()\n",
    "rot = int(input())\n",
    "\n",
    "print((cezar_code(s,rot)))"
   ]
  },
  {
   "cell_type": "code",
   "execution_count": 26,
   "metadata": {},
   "outputs": [
    {
     "name": "stdout",
     "output_type": "stream",
     "text": [
      "Day, mice. \"Year\" is a mistake!\n",
      "['Day,', 'mice.', '\"Year\"', 'is', 'a', 'mistake!']\n",
      "['Day', 'mice', 'YearYear', '', '', 'mistake']\n"
     ]
    }
   ],
   "source": [
    "s=input()\n",
    "temp=[''.join([i.replace(j,'') for j in i if j.isalpha()==False]) for i in s.split()]\n",
    "\n",
    "print(s)\n",
    "print(s.split())\n",
    "print(temp)"
   ]
  },
  {
   "cell_type": "code",
   "execution_count": 65,
   "metadata": {},
   "outputs": [
    {
     "name": "stdout",
     "output_type": "stream",
     "text": [
      "[2, 4, 2, 6]\n",
      "oa reqi ku Veznut!\n"
     ]
    }
   ],
   "source": [
    "\n",
    "# блок функции дешифровщика\n",
    "def cezar_code(string,rot):\n",
    "\n",
    "    #подблок преобразования строки для работы с ней при шифровании\n",
    "    s1=string.lower()\n",
    "    spis_old=list(string)\n",
    "    spis=list(s1)\n",
    "\n",
    "\n",
    "    # подблок шифрования\n",
    "    for i in range(len(spis)):\n",
    "        if spis[i].isalpha():\n",
    "            if ord('a') <= ord(spis[i]) <= ord('z'):\n",
    "                if ord(spis[i])<=ord('z')-rot : spis[i]= chr(ord(spis[i])+rot)\n",
    "                else: spis[i]= chr(ord(spis[i])+rot-26)\n",
    "            elif ord('а') <= ord(spis[i]) <= ord('я'):\n",
    "                if ord(spis[i])<=ord('я')-rot : spis[i]= chr(ord(spis[i])+rot)\n",
    "                else: spis[i]= chr(ord(spis[i])+rot-32)\n",
    "    # здесь возвращаем нужный регистр списку, который совпадает с регистром изначальной строки\n",
    "    for i in range(len(spis)): \n",
    "        if spis_old[i].isupper(): spis[i]=spis[i].upper()\n",
    "    return ''.join(spis)\n",
    "\n",
    "#Основной код \n",
    "s=input()\n",
    "vrem= s.split()\n",
    "len_temp= [len(''.join([j for j in i if j.isalpha()])) for i in s.split()]\n",
    "# по шагам : \n",
    "# 1) внутри списка присоединяем к пустой строке ''.join() элементы j в каждом элементе i (строки) при условии, \n",
    "# что элемент j - это буква. (так избавляемся от лишних символов)\n",
    "# 2) При этом элементы i находятся в списке s.split(), созданный из строки s с исключенными пробелами. \n",
    "# 3) Берем длину каждого полученного элемента\n",
    "# Проще говоря, мы разорвали строку на слова, разделенные пробелами, и из этих слов удалили все, \n",
    "# что не является буквами, померили их длину и записали в список\n",
    "\n",
    "# блок замены КАЖДОЙ буквы в каждом слове исходного списка при условии, что это именно буква (а не другой символ)\n",
    "spis_itog=[]\n",
    "\n",
    "for i in range(len(vrem)):\n",
    "    string_itog=''\n",
    "    for j in range(len(vrem[i])):\n",
    "        if vrem[i][j].isalpha():  # если символ - это буква :\n",
    "            string_itog+= cezar_code(vrem[i][j], len_temp[i]) #присвоили новое значение букве, записали в новую строку\n",
    "        else: string_itog+=(vrem[i][j]) # если не буква - то просто записали в строку текущий символ\n",
    "    spis_itog.append(string_itog) # записали новую строку в список\n",
    "\n",
    "\n",
    "\n",
    "\n",
    "# print(s) \n",
    "# выводим результат\n",
    "#print(len_temp)\n",
    "print(*spis_itog)\n",
    "\n"
   ]
  },
  {
   "cell_type": "code",
   "execution_count": 56,
   "metadata": {},
   "outputs": [
    {
     "name": "stdout",
     "output_type": "stream",
     "text": [
      "reqi\n"
     ]
    }
   ],
   "source": [
    "def cezar_code(string,rot):\n",
    "\n",
    "    #подблок преобразования строки для работы с ней при шифровании\n",
    "    s1=string.lower()\n",
    "    spis_old=list(string)\n",
    "    spis=list(s1)\n",
    "\n",
    "\n",
    "    # подблок шифрования\n",
    "    for i in range(len(spis)):\n",
    "        if spis[i].isalpha():\n",
    "            if ord('a') <= ord(spis[i]) <= ord('z'):\n",
    "                if ord(spis[i])<=ord('z')-rot : spis[i]= chr(ord(spis[i])+rot)\n",
    "                else: spis[i]= chr(ord(spis[i])+rot-26)\n",
    "            elif ord('а') <= ord(spis[i]) <= ord('я'):\n",
    "                if ord(spis[i])<=ord('я')-rot : spis[i]= chr(ord(spis[i])+rot)\n",
    "                else: spis[i]= chr(ord(spis[i])+rot-32)\n",
    "    # здесь возвращаем нужный регистр списку, который совпадает с регистром изначальной строки\n",
    "    for i in range(len(spis)): \n",
    "        if spis_old[i].isupper(): spis[i]=spis[i].upper()\n",
    "    return ''.join(spis)\n",
    "\n",
    "\n",
    "print(cezar_code('name', 4))"
   ]
  },
  {
   "cell_type": "code",
   "execution_count": 7,
   "metadata": {},
   "outputs": [
    {
     "name": "stdout",
     "output_type": "stream",
     "text": [
      "172\n"
     ]
    }
   ],
   "source": [
    "# функция перевода из десятиричной системы в любую другую систему\n",
    "\n",
    "def num_change(number,system):\n",
    "    new_number=[]\n",
    "    alphabet=[chr(i) for i in range(ord('A'), ord('Z')+1)] # создаем список алфавита, из которого будем брать буквы\n",
    "    numbers=[i for i in range(10,10+(ord('Z')+1-ord('A')))] # создаем идентичный список чисел >10, которые будем сопоставлять с буквами\n",
    "    while number >= system: # пока заданное число больше основания\n",
    "        x=number%system  # берем остаток от деления числа на основание\n",
    "        new_number.append(x) # записываем его в список\n",
    "        number//=system # меняем число на число, полученно в результате целочисленного деления, повторяем цикл\n",
    "    new_number.append(number) # как только число станет меньше основания, цикл завершится. запишем в список последнее частное от целочисленного деления\n",
    "    new_number=new_number[-1::-1] # развернем список от конца к началу\n",
    "    result=[i if i<10 else alphabet[numbers.index(i)]  for i in new_number] # вот тут самое интересное: \n",
    "    # в итоговый результат записываем только числа, который меньше 10. для чисел >=10 - меняем их на сопоставимые \n",
    "    # из списка numbers[] c учетом соответствия их в списке alphabet (используем равенство индексов в обоих списках)\n",
    "    return ''.join([str(i) for i in result])  #возвращаем строку для красивого результата \n",
    "\n",
    "# основной блок кода\n",
    "num=int(input('введите число'))\n",
    "sys=int(input('куда перевести?'))\n",
    "\n",
    "print(num_change(num,sys))\n"
   ]
  },
  {
   "cell_type": "code",
   "execution_count": 11,
   "metadata": {},
   "outputs": [
    {
     "name": "stdout",
     "output_type": "stream",
     "text": [
      "[10, 11, 12, 13, 14, 15, 16, 17, 18, 19, 20, 21, 22, 23, 24, 25, 26, 27, 28, 29, 30, 31, 32, 33, 34, 35]\n"
     ]
    }
   ],
   "source": [
    "numbers=[i for i in range(10,10+(ord('Z')+1-ord('A')))]\n",
    "print(numbers)"
   ]
  },
  {
   "cell_type": "code",
   "execution_count": 7,
   "metadata": {},
   "outputs": [
    {
     "name": "stdout",
     "output_type": "stream",
     "text": [
      "0b1111101 0o175 0x7d\n",
      "1111101 175 7D\n"
     ]
    }
   ],
   "source": [
    "# вместо этого лучше пользоваться встроенными функциями \n",
    "# bin() - двоичная , \n",
    "# oct() - восьмеричная,\n",
    "#  hex() - шестнадцатиричная\n",
    "\n",
    "x=125\n",
    "print(bin(x), oct(x), hex(x)) # выведет строки с переведенными числами с приставкой '0b'/'0o'/'0x'\n",
    "# избавимся от приставок:\n",
    "\n",
    "print(bin(x)[2:], oct(x)[2:], hex(x)[2:].upper())"
   ]
  },
  {
   "cell_type": "code",
   "execution_count": 119,
   "metadata": {},
   "outputs": [
    {
     "name": "stdout",
     "output_type": "stream",
     "text": [
      "11001\n",
      "25\n",
      "11001\n"
     ]
    }
   ],
   "source": [
    "# перевести в двоичную систему и обратно\n",
    "\n",
    "binary=input()\n",
    "print(binary)\n",
    "print(int(binary,2))\n",
    "print(bin(int(binary,2))[2:])"
   ]
  },
  {
   "cell_type": "code",
   "execution_count": 10,
   "metadata": {},
   "outputs": [
    {
     "name": "stdout",
     "output_type": "stream",
     "text": [
      "1111101 - 125\n",
      "175 - 125\n",
      "7D - 125\n",
      "125 - 125\n"
     ]
    }
   ],
   "source": [
    "# перевести число в ЛЮБОЙ системе отсчета в десятеричную\n",
    "\n",
    "number2,number8,number16,number10=input(),input(),input(),input()\n",
    "print(f'{number2} - {int(number2,2)}')    # из двоичной\n",
    "print(f'{number8} - {int(number8,8)}')    # из восьмеричной\n",
    "print(f'{number16} - {int(number16,16)}')   # из шестнадцатеричной\n",
    "print(f'{number10} - {int(number10,10)}')   # из десятичной"
   ]
  },
  {
   "cell_type": "code",
   "execution_count": 88,
   "metadata": {},
   "outputs": [
    {
     "name": "stdout",
     "output_type": "stream",
     "text": [
      "Давайте играть в угадайку слов!\n",
      "\n",
      "                   --------\n",
      "                   |      |\n",
      "                   |      \n",
      "                   |    \n",
      "                   |      \n",
      "                   |     \n",
      "                   -\n",
      "                \n",
      "_ _ _ _ _ _ _ _ \n",
      "Угадали букву\n",
      "_ А _ _ _ _ _ _ \n",
      "Не верно, осталось попыток 5\n",
      "\n",
      "                   --------\n",
      "                   |      |\n",
      "                   |      O\n",
      "                   |    \n",
      "                   |      \n",
      "                   |     \n",
      "                   -\n",
      "                \n",
      "_ А _ _ _ _ _ _ \n",
      "Не верно, осталось попыток 4\n",
      "\n",
      "                   --------\n",
      "                   |      |\n",
      "                   |      O\n",
      "                   |      |\n",
      "                   |      |\n",
      "                   |     \n",
      "                   -\n",
      "                \n",
      "_ А _ _ _ _ _ _ \n",
      "Уже было\n",
      "Не верно, осталось попыток 3\n",
      "\n",
      "                   --------\n",
      "                   |      |\n",
      "                   |      O\n",
      "                   |     \\|\n",
      "                   |      |\n",
      "                   |     \n",
      "                   -\n",
      "                \n",
      "_ А _ _ _ _ _ _ \n",
      "Уже было\n",
      "Уже было\n",
      "Угадали букву\n",
      "_ А _ _ _ _ И _ \n",
      "Угадали букву\n",
      "_ А _ _ _ _ И К \n",
      "Угадали букву\n",
      "_ А _ _ _ Н И К \n",
      "Уже было\n",
      "Уже было\n",
      "Уже было\n",
      "Уже было\n",
      "Угадали букву\n",
      "_ А _ Я _ Н И К \n",
      "Не верно, осталось попыток 2\n",
      "\n",
      "                   --------\n",
      "                   |      |\n",
      "                   |      O\n",
      "                   |     \\|/\n",
      "                   |      |\n",
      "                   |      \n",
      "                   -\n",
      "                \n",
      "_ А _ Я _ Н И К \n",
      "Уже было\n",
      "Не верно, осталось попыток 1\n",
      "\n",
      "                   --------\n",
      "                   |      |\n",
      "                   |      O\n",
      "                   |     \\|/\n",
      "                   |      |\n",
      "                   |     / \n",
      "                   -\n",
      "                \n",
      "_ А _ Я _ Н И К \n",
      "Не верно, осталось попыток 0\n",
      "\n",
      "                   --------\n",
      "                   |      |\n",
      "                   |      O\n",
      "                   |     \\|/\n",
      "                   |      |\n",
      "                   |     / \\\n",
      "                   -\n",
      "                \n",
      "_ А _ Я _ Н И К \n",
      "Вы не смогли угадать слово: ПАМЯТНИК\n"
     ]
    }
   ],
   "source": [
    "# угадайка слов (Виселица, висельник Hangman)\n",
    "\n",
    "from random import *\n",
    "\n",
    "word_list = ['год', 'человек', 'время', 'дело', 'жизнь', 'день', 'рука', 'раз', 'работа', 'слово', 'место', 'лицо',\n",
    "            'друг', 'глаз', 'вопрос', 'дом', 'сторона', 'страна', 'мир', 'случай', 'голова', 'ребенок', 'сила', 'конец',\n",
    "            'вид', 'система', 'часть', 'город', 'отношение', 'женщина', 'деньги', 'земля', 'машина', 'вода', 'отец',\n",
    "            'проблема', 'час', 'право', 'нога', 'решение', 'дверь', 'образ', 'история', 'власть', 'закон', 'война',\n",
    "            'бог', 'голос', 'тысяча', 'книга', 'возможность', 'результат', 'ночь', 'стол', 'имя', 'область', 'статья',\n",
    "            'число', 'компания', 'народ', 'жена', 'группа', 'развитие', 'процесс', 'суд', 'условие', 'средство',\n",
    "            'начало', 'свет', 'пора', 'путь', 'душа', 'уровень', 'форма', 'связь', 'минута', 'улица', 'вечер',\n",
    "            'качество', 'мысль', 'дорога', 'мать', 'действие', 'месяц', 'государство', 'язык', 'любовь', 'взгляд',\n",
    "            'мама', 'век', 'школа', 'цель', 'общество', 'деятельность', 'организация', 'президент', 'комната',\n",
    "            'порядок', 'момент', 'театр', 'письмо', 'утро', 'помощь', 'ситуация', 'роль', 'рубль', 'смысл', 'состояние',\n",
    "            'квартира', 'орган', 'внимание', 'тело', 'труд', 'сын', 'мера', 'смерть', 'рынок', 'программа', 'задача',\n",
    "            'предприятие', 'окно', 'разговор', 'правительство', 'семья', 'производство', 'информация', 'положение',\n",
    "            'центр', 'ответ', 'муж', 'автор', 'стена', 'интерес', 'федерация', 'правило', 'управление', 'мужчина',\n",
    "            'идея', 'партия', 'совет', 'счет', 'сердце', 'движение', 'вещь', 'материал', 'неделя', 'чувство', 'глава',\n",
    "            'наука', 'ряд', 'газета', 'причина', 'плечо', 'цена', 'план', 'речь', 'точка', 'основа', 'товарищ',\n",
    "            'культура', 'данные', 'мнение', 'документ', 'институт', 'ход', 'проект', 'встреча', 'директор', 'срок',\n",
    "            'палец', 'опыт', 'служба', 'судьба', 'девушка', 'очередь', 'лес', 'состав', 'член', 'количество', 'событие',\n",
    "            'объект', 'зал', 'создание', 'значение', 'период', 'шаг', 'брат', 'искусство', 'структура', 'номер',\n",
    "            'пример', 'исследование', 'гражданин', 'игра', 'начальник', 'рост', 'тема', 'принцип', 'метод', 'тип',\n",
    "            'фильм', 'край', 'гость', 'воздух', 'характер', 'борьба', 'использование', 'размер', 'образование',\n",
    "            'мальчик', 'кровь', 'район', 'небо', 'армия', 'класс', 'представитель', 'участие', 'девочка', 'политика',\n",
    "            'герой', 'картина', 'доллар', 'спина', 'территория', 'пол', 'поле', 'изменение', 'направление', 'рисунок',\n",
    "            'течение', 'церковь', 'банк', 'сцена', 'население', 'большинство', 'музыка', 'правда', 'свобода', 'память',\n",
    "            'команда', 'союз', 'врач', 'договор', 'дерево', 'факт', 'хозяин', 'природа', 'угол', 'телефон', 'позиция',\n",
    "            'двор', 'писатель', 'самолет', 'объем', 'род', 'солнце', 'вера', 'берег', 'спектакль', 'фирма', 'способ',\n",
    "            'завод', 'цвет', 'журнал', 'руководитель', 'специалист', 'оценка', 'регион', 'песня', 'процент', 'родитель',\n",
    "            'море', 'требование', 'основание', 'половина', 'роман', 'круг', 'анализ', 'стихи', 'автомобиль',\n",
    "            'экономика', 'литература', 'бумага', 'поэт', 'степень', 'господин', 'надежда', 'предмет', 'вариант',\n",
    "            'министр', 'граница', 'дух', 'модель', 'операция', 'пара', 'сон', 'название', 'ум', 'повод', 'старик',\n",
    "            'миллион', 'успех', 'счастье', 'ребята', 'кабинет', 'магазин', 'пространство', 'выход', 'удар', 'база',\n",
    "            'знание', 'текст', 'защита', 'руководство', 'площадь', 'сознание', 'возраст', 'участник', 'участок',\n",
    "            'пункт', 'линия', 'желание', 'папа', 'доктор', 'губа', 'дочь', 'среда', 'председатель', 'представление',\n",
    "            'солдат', 'художник', 'волос', 'оружие', 'соответствие', 'ветер', 'парень', 'зрение', 'генерал', 'огонь',\n",
    "            'понятие', 'строительство', 'ухо', 'грудь', 'нос', 'страх', 'услуга', 'содержание', 'радость',\n",
    "            'безопасность', 'продукт', 'комплекс', 'бизнес', 'сад', 'сотрудник', 'лето', 'курс', 'предложение', 'рот',\n",
    "            'технология', 'реформа', 'отсутствие', 'собака', 'камень', 'будущее', 'рассказ', 'контроль', 'река',\n",
    "            'продукция', 'сумма', 'техника', 'здание', 'сфера', 'необходимость', 'фонд', 'подготовка', 'лист',\n",
    "            'республика', 'хозяйство', 'воля', 'бюджет', 'снег', 'деревня', 'мужик', 'элемент', 'обстоятельство',\n",
    "            'немец', 'победа', 'источник', 'звезда', 'выбор', 'масса', 'итог', 'сестра', 'практика', 'проведение',\n",
    "            'карман', 'слава', 'кухня', 'определение', 'функция', 'войско', 'комиссия', 'применение', 'капитан',\n",
    "            'работник', 'обеспечение', 'офицер', 'фамилия', 'предел', 'выборы', 'ученый', 'бутылка', 'бой', 'теория',\n",
    "            'зона', 'отдел', 'зуб', 'разработка', 'личность', 'гора', 'товар', 'метр', 'праздник', 'влияние',\n",
    "            'читатель', 'удовольствие', 'актер', 'слеза', 'ответственность', 'учитель', 'акт', 'боль', 'множество',\n",
    "            'особенность', 'показатель', 'корабль', 'звук', 'впечатление', 'частность', 'детство', 'вывод', 'профессор',\n",
    "            'доля', 'норма', 'прошлое', 'командир', 'коридор', 'поддержка', 'рамка', 'враг', 'этап', 'черт', 'дед',\n",
    "            'собрание', 'прием', 'болезнь', 'клетка', 'кожа', 'заявление', 'попытка', 'сравнение', 'расчет', 'депутат',\n",
    "            'комитет', 'знак', 'дядя', 'учет', 'хлеб', 'чай', 'режим', 'целое', 'вирус', 'выражение', 'здоровье',\n",
    "            'зима', 'десяток', 'глубина', 'сеть', 'студент', 'секунда', 'скорость', 'поиск', 'суть', 'налог', 'ошибка',\n",
    "            'доход', 'режиссер', 'поверхность', 'ощущение', 'карта', 'клуб', 'станция', 'революция', 'колено',\n",
    "            'министерство', 'стекло', 'этаж', 'высота', 'бабушка', 'трубка', 'газ', 'мастер', 'поведение', 'столица',\n",
    "            'механизм', 'передача', 'способность', 'подход', 'энергия', 'существование', 'исполнение', 'кино',\n",
    "            'сожаление', 'заместитель', 'ресурс', 'акция', 'рождение', 'администрация', 'стоимость', 'улыбка', 'артист',\n",
    "            'сосед', 'фраза', 'фигура', 'субъект', 'реакция', 'список', 'фотография', 'журналист', 'май', 'нарушение',\n",
    "            'заседание', 'толпа', 'больница', 'существо', 'свойство', 'долг', 'поколение', 'животное', 'схема',\n",
    "            'усилие', 'отличие', 'остров', 'противник', 'волна', 'реализация', 'страница', 'формирование', 'житель',\n",
    "            'красота', 'птица', 'растение', 'тень', 'явление', 'храм', 'запах', 'водка', 'наличие', 'ужас', 'одежда',\n",
    "            'кресло', 'больной', 'поезд', 'университет', 'традиция', 'адрес', 'декабрь', 'ладонь', 'сведение', 'цветок',\n",
    "            'лидер', 'октябрь', 'занятие', 'сентябрь', 'помещение', 'январь', 'зритель', 'редакция', 'стиль', 'весна',\n",
    "            'фактор', 'август', 'известие', 'зависимость', 'охрана', 'оборудование', 'концерт', 'отделение', 'расход',\n",
    "            'выставка', 'милиция', 'переход', 'эпоха', 'запад', 'произведение', 'родина', 'собственность', 'тайна',\n",
    "            'трава', 'лагерь', 'имущество', 'кровать', 'аппарат', 'середина', 'март', 'клиент', 'дама', 'фронт',\n",
    "            'отрасль', 'стул', 'беседа', 'законодательство', 'продажа', 'повышение', 'музей', 'след', 'полковник',\n",
    "            'сомнение', 'понимание', 'апрель', 'князь', 'рыба', 'дума', 'кодекс', 'сутки', 'чудо', 'шея', 'судья',\n",
    "            'крыша', 'настроение', 'поток', 'должность', 'преступление', 'мозг', 'честь', 'пост', 'еврей', 'июнь',\n",
    "            'сотня', 'дождь', 'лестница', 'дача', 'установка', 'появление', 'получение', 'образец', 'труба', 'главное',\n",
    "            'осень', 'костюм', 'баба', 'ценность', 'обязанность', 'пьеса', 'таблица', 'вино', 'воспоминание', 'лошадь',\n",
    "            'коллега', 'организм', 'ученик', 'учреждение', 'открытие', 'том', 'черта', 'характеристика', 'выполнение',\n",
    "            'оборона', 'выступление', 'температура', 'перспектива', 'подруга', 'приказ', 'жертва', 'ресторан',\n",
    "            'километр', 'спор', 'вкус', 'признак', 'промышленность', 'американец', 'лоб', 'заключение', 'восток',\n",
    "            'исключение', 'ключ', 'постановление', 'слой', 'бок', 'июль', 'перевод', 'секретарь', 'кусок', 'слух',\n",
    "            'польза', 'звонок', 'обстановка', 'чиновник', 'соглашение', 'деталь', 'русский', 'тишина', 'зарплата',\n",
    "            'билет', 'подарок', 'тюрьма', 'ящик', 'конкурс', 'книжка', 'изучение', 'просьба', 'царь', 'публика', 'смех',\n",
    "            'сообщение', 'угроза', 'беда', 'блок', 'достижение', 'назначение', 'реклама', 'портрет', 'масло', 'стакан',\n",
    "            'урок', 'часы', 'крик', 'творчество', 'телевизор', 'инструмент', 'концепция', 'лейтенант', 'экран', 'дно',\n",
    "            'реальность', 'канал', 'мясо', 'знакомый', 'щека', 'конфликт', 'переговоры', 'запись', 'вагон', 'площадка',\n",
    "            'последствие', 'сотрудничество', 'зеркало', 'тон', 'академия', 'палата', 'потребность', 'ноябрь',\n",
    "            'увеличение', 'дурак', 'поездка', 'обед', 'потеря', 'февраль', 'мероприятие', 'парк', 'принятие',\n",
    "            'устройство', 'вещество', 'категория', 'сезон', 'гостиница', 'издание', 'объединение', 'темнота',\n",
    "            'человечество', 'колесо', 'опасность', 'разрешение', 'воздействие', 'коллектив', 'камера', 'запас',\n",
    "            'следствие', 'длина', 'крыло', 'округ', 'фон', 'кандидат', 'родственник', 'давление', 'присутствие',\n",
    "            'взаимодействие', 'доска', 'партнер', 'двигатель', 'шум', 'достоинство', 'грех', 'нож', 'полет', 'страсть',\n",
    "            'испытание', 'истина', 'оплата', 'разница', 'водитель', 'пакет', 'снижение', 'формула', 'живот', 'капитал',\n",
    "            'мост', 'новость', 'эффект', 'вход', 'губернатор', 'доклад', 'смена', 'убийство', 'эксперт', 'автобус',\n",
    "            'платье', 'кадр', 'тетя', 'общение', 'психология', 'лев', 'порог', 'проверка', 'процедура', 'рабочий',\n",
    "            'ремонт', 'обращение', 'обучение', 'ожидание', 'памятник', 'корень', 'наблюдение', 'буква',\n",
    "            'доказательство', 'признание', 'постель', 'штаб', 'владелец', 'компьютер', 'инженер', 'старуха', 'лодка',\n",
    "            'ракета', 'серия', 'шутка', 'вершина', 'выпуск', 'кулак', 'лед', 'торговля', 'нефть', 'молодежь', 'цифра',\n",
    "            'корпус', 'недостаток', 'сапог', 'сущность', 'талант', 'эффективность', 'кофе', 'полоса', 'основное',\n",
    "            'рассмотрение', 'сбор', 'штат', 'следователь', 'жилье', 'мешок', 'описание', 'куст', 'отказ', 'замок',\n",
    "            'редактор', 'дворец', 'забота', 'пиво', 'диван', 'столик', 'эксперимент', 'печать', 'кольцо', 'пистолет',\n",
    "            'воспитание', 'начальство', 'профессия', 'ворота', 'добро', 'дружба', 'покой', 'риск', 'окончание', 'дым',\n",
    "            'брак', 'величина', 'записка', 'инициатива', 'совесть', 'активность', 'кость', 'спорт', 'кредит', 'господь',\n",
    "            'майор', 'конференция', 'потолок', 'библиотека', 'помощник', 'конструкция', 'отдых', 'ручка', 'металл',\n",
    "            'молоко', 'прокурор', 'транспорт', 'поэзия', 'соединение', 'краска', 'расстояние', 'мечта', 'село', 'еда',\n",
    "            'зло', 'подразделение', 'сюжет', 'рубеж', 'сигнал', 'атмосфера', 'крест', 'вес', 'взрыв', 'контакт',\n",
    "            'сигарета', 'восторг', 'золото', 'почва', 'премия', 'король', 'подъезд', 'шанс', 'автомат', 'заказ',\n",
    "            'мальчишка', 'очки', 'миг', 'штука', 'чтение', 'поселок', 'свидетель', 'ставка', 'сумка', 'удивление',\n",
    "            'хвост', 'песок', 'поворот', 'возвращение', 'мгновение', 'статус', 'озеро', 'строй', 'параметр', 'сказка',\n",
    "            'тенденция', 'вина', 'дыхание', 'версия', 'масштаб', 'монастырь', 'хозяйка', 'дочка', 'танец',\n",
    "            'эксплуатация', 'коммунист', 'пенсия', 'приятель', 'объяснение', 'набор', 'производитель', 'пыль',\n",
    "            'философия', 'мощность', 'обязательство', 'уход', 'горло', 'кризис', 'указание', 'плата', 'яблоко',\n",
    "            'препарат', 'действительность', 'москвич', 'остаток', 'изображение', 'сделка', 'сочинение',\n",
    "            'покупатель', 'танк', 'затрата', 'строка', 'единица']\n",
    "\n",
    "def get_word():\n",
    "    return choice(word_list)\n",
    "\n",
    "def print_word(word_, list_):\n",
    "    for c in word_:\n",
    "        if c in list_:\n",
    "            print(c, end=' ')\n",
    "        else:\n",
    "            print('_', end=' ')\n",
    "    print()\n",
    "    \n",
    "\n",
    "def play(word):\n",
    "    # тело функции\n",
    "    word_completion = '_ ' * len(word)  # строка, содержащая символы _ на каждую букву задуманного слова\n",
    "    guessed = False                    # сигнальная метка\n",
    "    guessed_letters = []               # список уже названных букв\n",
    "    guessed_words = []                 # список уже названных слов\n",
    "    tries = 6                          # количество попыток\n",
    "    print('Давайте играть в угадайку слов!')\n",
    "    # print(word)\n",
    "    print(display_hangman(tries))\n",
    "    print(word_completion)\n",
    "    while True:\n",
    "        word_input = input('Введите букву или слово: ').upper()\n",
    "        # print(word_input)\n",
    "        if not word_input.isalpha():\n",
    "            print('Вы ошиблись, попробуйте ещё')\n",
    "            continue\n",
    "        if word_input in guessed_words or word_input in guessed_letters:\n",
    "            print('Уже было')\n",
    "            continue\n",
    "        if len(word_input) > 1:\n",
    "            if word_input == word:\n",
    "                print('Поздравляем, вы угадали слово! Вы победили!')\n",
    "                break\n",
    "            else:\n",
    "                guessed_words.append(word_input)\n",
    "                tries -= 1\n",
    "                print(f'Не верно, осталось попыток {tries}')\n",
    "                print(display_hangman(tries))\n",
    "                print_word(word, guessed_letters)\n",
    "                if tries == 0:\n",
    "                    print(f'Вы не смогли угадать слово: {word}')\n",
    "                    break\n",
    "                continue\n",
    "\n",
    "\n",
    "\n",
    "        if word_input in word:\n",
    "            guessed_letters.append(word_input)\n",
    "            for c in word:\n",
    "                if c not in guessed_letters:\n",
    "                    print('Угадали букву')\n",
    "                    print_word(word, guessed_letters)\n",
    "                    guessed = False\n",
    "                    break\n",
    "                guessed = True\n",
    "            if guessed:    \n",
    "                print_word(word, guessed_letters)\n",
    "                print('Поздравляем, вы угадали слово! Вы победили!')\n",
    "                break\n",
    "        else:\n",
    "            guessed_letters.append(word_input)\n",
    "            tries -= 1\n",
    "            print(f'Не верно, осталось попыток {tries}')\n",
    "            print(display_hangman(tries))\n",
    "            print_word(word, guessed_letters)\n",
    "        if tries == 0:\n",
    "            print(f'Вы не смогли угадать слово: {word}')\n",
    "            break\n",
    "            \n",
    "    \n",
    "# функция получения текущего состояния\n",
    "def display_hangman(tries):\n",
    "    stages = [  # финальное состояние: голова, торс, обе руки, обе ноги\n",
    "                '''\n",
    "                   --------\n",
    "                   |      |\n",
    "                   |      O\n",
    "                   |     \\\\|/\n",
    "                   |      |\n",
    "                   |     / \\\\\n",
    "                   -\n",
    "                ''',\n",
    "                # голова, торс, обе руки, одна нога\n",
    "                '''\n",
    "                   --------\n",
    "                   |      |\n",
    "                   |      O\n",
    "                   |     \\\\|/\n",
    "                   |      |\n",
    "                   |     / \n",
    "                   -\n",
    "                ''',\n",
    "                # голова, торс, обе руки\n",
    "                '''\n",
    "                   --------\n",
    "                   |      |\n",
    "                   |      O\n",
    "                   |     \\\\|/\n",
    "                   |      |\n",
    "                   |      \n",
    "                   -\n",
    "                ''',\n",
    "                # голова, торс и одна рука\n",
    "                '''\n",
    "                   --------\n",
    "                   |      |\n",
    "                   |      O\n",
    "                   |     \\\\|\n",
    "                   |      |\n",
    "                   |     \n",
    "                   -\n",
    "                ''',\n",
    "                # голова и торс\n",
    "                '''\n",
    "                   --------\n",
    "                   |      |\n",
    "                   |      O\n",
    "                   |      |\n",
    "                   |      |\n",
    "                   |     \n",
    "                   -\n",
    "                ''',\n",
    "                # голова\n",
    "                '''\n",
    "                   --------\n",
    "                   |      |\n",
    "                   |      O\n",
    "                   |    \n",
    "                   |      \n",
    "                   |     \n",
    "                   -\n",
    "                ''',\n",
    "                # начальное состояние\n",
    "                '''\n",
    "                   --------\n",
    "                   |      |\n",
    "                   |      \n",
    "                   |    \n",
    "                   |      \n",
    "                   |     \n",
    "                   -\n",
    "                '''\n",
    "    ]\n",
    "    return stages[tries]\n",
    "\n",
    "play(get_word().upper())    \n",
    "# print(get_word().upper())\n",
    "# print(display_hangman(5))"
   ]
  },
  {
   "cell_type": "code",
   "execution_count": null,
   "metadata": {},
   "outputs": [],
   "source": [
    "# здесь начинается Курс для продвинутых Python"
   ]
  },
  {
   "cell_type": "code",
   "execution_count": null,
   "metadata": {},
   "outputs": [],
   "source": [
    "a,b=int(input()), int(input())\n",
    "print(a+b, a-b, a*b, a/b, a//b, a%b, (a**10+b**10)**0.5, sep='\\n')"
   ]
  },
  {
   "cell_type": "code",
   "execution_count": 91,
   "metadata": {},
   "outputs": [
    {
     "name": "stdout",
     "output_type": "stream",
     "text": [
      "Недостаточная масса\n"
     ]
    }
   ],
   "source": [
    "# индекс массы тела\n",
    "\n",
    "a,b=float(input('введите массу тела')), float(input('введите рост'))\n",
    "answer=['Оптимальная масса', 'Избыточная масса', 'Недостаточная масса']\n",
    "if a/b/b<18.5: print(answer[2])\n",
    "elif a/b/b>25: print(answer[1])\n",
    "else: print(answer[0])"
   ]
  },
  {
   "cell_type": "code",
   "execution_count": 93,
   "metadata": {},
   "outputs": [
    {
     "name": "stdout",
     "output_type": "stream",
     "text": [
      "10 р. 20 коп.\n"
     ]
    }
   ],
   "source": [
    "# стоимость строки при условии , что ЛЮБОЙ символ стоит 60 коп\n",
    "\n",
    "s=input()\n",
    "\n",
    "print(len(s)*60//100, 'р.', len(s)*60%100, 'коп.')"
   ]
  },
  {
   "cell_type": "code",
   "execution_count": 97,
   "metadata": {},
   "outputs": [
    {
     "name": "stdout",
     "output_type": "stream",
     "text": [
      "Крыса\n",
      "Крыса\n"
     ]
    }
   ],
   "source": [
    "years=['Дракон','Змея','Лошадь','Овца','Обезьяна','Петух','Собака','Свинья','Крыса','Бык','Тигр','Заяц']\n",
    "\n",
    "spis = [i for i in range(2000,2012)]\n",
    "\n",
    "year=int(input())\n",
    "\n",
    "for i in range(len(years)):\n",
    "    if (spis[i]-year)%12==0: print(years[i])\n",
    "\n",
    "print(*[years[i] for i in range(len(years)) if (spis[i]-year)%12==0])"
   ]
  },
  {
   "cell_type": "code",
   "execution_count": 116,
   "metadata": {},
   "outputs": [
    {
     "name": "stdout",
     "output_type": "stream",
     "text": [
      "1000000\n",
      "1,000,000\n"
     ]
    }
   ],
   "source": [
    "# расставить запятые в большом числе (каждые три знака)\n",
    "\n",
    "number=input()\n",
    "num_spis=list(number)[-1::-1]\n",
    "for i in range(3,len(num_spis),3):\n",
    "    num_spis[i]+=','\n",
    "\n",
    "print(number)\n",
    "print(*num_spis[-1::-1],sep='')\n",
    "\n",
    "\n"
   ]
  },
  {
   "cell_type": "code",
   "execution_count": 124,
   "metadata": {},
   "outputs": [
    {
     "name": "stdout",
     "output_type": "stream",
     "text": [
      "19\n"
     ]
    }
   ],
   "source": [
    "# классическая задача иосифа флавия (кто в кругу выживет, если убивать соседа)\n",
    "# поясняющее видео: https://stepik.org/lesson/415553/step/9?unit=405082\n",
    "\n",
    "n=int(input()) # вводим число людей в кругу\n",
    "\n",
    "print(int((bin(n)[2:])[1:]+(bin(n)[2:][0]),2))\n",
    "\n",
    "# по шагам: \n",
    "# 1) переводим число n в двоичное через встроенную функцию bin(n), убираем приставку '0b' через срез [2:] \n",
    "# 2) работаем со строкой bin(n)[2:] - это по сути и есть количество всех сидящих в кругу \n",
    "# 3) вспоминаем видео: в двоичной системе достаточно переставить первый символ в конец строки - и получится искомое место победителя!! \n",
    "# 4) переставляем первый символ в конец через срезы \n",
    "# 5) переводим результат обратно в десятичную систему через int(result,2) \n",
    "# 6) печатаем результат"
   ]
  },
  {
   "cell_type": "code",
   "execution_count": 34,
   "metadata": {},
   "outputs": [
    {
     "name": "stdout",
     "output_type": "stream",
     "text": [
      "88\n"
     ]
    }
   ],
   "source": [
    "# усложненная задача Иосифа Флавия https://stepik.org/lesson/415553/step/10?unit=405082\n",
    "\n",
    "def easy_1(spis,k):\n",
    "    while len(spis)>=k:\n",
    "        temp_spis=[i for i in spis if i not in spis[k-1::k]] # временный список с удаленными пошагово элементами \n",
    "        perestan_spis=spis[spis.index(spis[k-1::k][-1])+1:] # вспомогательный список, \n",
    "    # в котором хранится \"хвост\" основного списка - элементы, идущие ПОСЛЕ ПОСЛЕДНЕГО удаленного\n",
    "    \n",
    "        temp_spis_2=[i for i in temp_spis if i not in perestan_spis] #временный список из которого УЖЕ УДАЛИЛИ \n",
    "    #лишние элементы, идущими ДО элементов из хвоста\n",
    "\n",
    "        perestan_spis.extend(temp_spis_2) # здесь мы меняем местами хвост и начало списка, \n",
    "    # чтобы дальнейшее исчисление шло именно с чисел хвоста, замыкая круг\n",
    "    \n",
    "        spis=perestan_spis  # переприсваиваем основному списку имя, чтобы повторять цикл\n",
    "        #print(spis)\n",
    "    return spis\n",
    "\n",
    "def easy_2(spis,k):\n",
    "    while len(spis)>2:\n",
    "        ind=k-(k//len(spis))*len(spis)-1  # индекс удаляемого элемента\n",
    "        if ind>=0: temp_spis=spis[ind+1:]    # концовка списка после удаляемого элемента \n",
    "        else: temp_spis=[]\n",
    "           \n",
    "        temp_spis.extend(spis[:ind]) # берем начало списка до удаляемого элемента - spis[:ind], и объединяем эти две части, меняя их местами\n",
    "        spis=temp_spis # переприсваиваем основному списку имя, чтобы повторять цикл\n",
    "        #print(spis)\n",
    "    return spis\n",
    "\n",
    "def easy_3(spis,k):\n",
    "    if k%2==0: itog=spis[0] # если удаляемый - четный - то останется в живых первый элемент списка\n",
    "    else: itog=spis[1] # если удаляемый - нечетный - то останется в живых второй элемент списка\n",
    "    return itog\n",
    "\n",
    "#основной блок задачи\n",
    "n=int(input()) # вводим число людей в кругу\n",
    "isk= int(input()) # вводим каждого исключаемого человека\n",
    "mass=[i for i in range(1,n+1)] #заполняем список сидящих в кругу\n",
    "#print(spis)\n",
    "\n",
    "# каскад условий \n",
    "if n>2: # если в списке больше двух людей\n",
    "    if len(mass)>isk: #если кол-во людей больше, чем число исключения, то прогоняем список последовательно через каждую функцию\n",
    "        spis_1=easy_1(mass,isk)\n",
    "        spis_2=easy_2(spis_1,isk)\n",
    "        result=easy_3(spis_2,isk)\n",
    "    else:  #  иначе прогоняем список только через вторую и третью функцию\n",
    "        spis_2=easy_2(mass,isk)\n",
    "        result=easy_3(spis_2,isk)\n",
    "\n",
    "else: result=easy_3(mass,isk) # наконец, если в списке всего 2 человека, то используем только третью функцию\n",
    "\n",
    "\n",
    "\n",
    "print(result)\n",
    "\n"
   ]
  },
  {
   "cell_type": "code",
   "execution_count": 36,
   "metadata": {},
   "outputs": [
    {
     "name": "stdout",
     "output_type": "stream",
     "text": [
      "[[1, 2], [3, 4], [5, 6]]\n"
     ]
    }
   ],
   "source": [
    "# вывести количество точек в каждой координатной четверти\n",
    "\n",
    "n=int(input())\n",
    "spis=[[int(i) for i in input().split()] for _ in range(n)]\n",
    "\n",
    "first=0\n",
    "second=0\n",
    "third=0\n",
    "forth=0\n",
    "\n",
    "for i in spis:\n",
    "    if i[0]>0 and i[1]>0: first+=1\n",
    "    elif i[0]<0 and i[1]>0: second+=1\n",
    "    elif i[0]<0 and i[1]<0: third+=1\n",
    "    elif i[0]>0 and i[1]<0 : forth+=1\n",
    "\n",
    "print('Первая четверть:',first)\n",
    "print('Вторая четверть:',second)\n",
    "print('Третья четверть:',third)\n",
    "print('Четвертая четверть:',forth)"
   ]
  },
  {
   "cell_type": "code",
   "execution_count": null,
   "metadata": {},
   "outputs": [],
   "source": [
    "spis=[int(i) for i in input().split()]\n",
    "count=0\n",
    "for i in range(len(spis)-1):\n",
    "    if spis[i+1]>spis[i]: count+=1\n",
    "print(count)"
   ]
  },
  {
   "cell_type": "code",
   "execution_count": 40,
   "metadata": {},
   "outputs": [
    {
     "name": "stdout",
     "output_type": "stream",
     "text": [
      "1\n"
     ]
    }
   ],
   "source": [
    "# поменять местами элементы: 0 и 1, 2 и 3, 4 и 5 и так далее\n",
    "spis=[int(i) for i in input().split()]\n",
    "if len(spis)%2==0: ind=len(spis)\n",
    "else: ind=len(spis)-1\n",
    "for i in range(0,ind,2):\n",
    "    spis[i],spis[i+1]=spis[i+1],spis[i]\n",
    "print(*spis,sep=' ')\n",
    "\n"
   ]
  },
  {
   "cell_type": "code",
   "execution_count": 44,
   "metadata": {},
   "outputs": [
    {
     "name": "stdout",
     "output_type": "stream",
     "text": [
      "89 1 2 56 78 98 23\n"
     ]
    }
   ],
   "source": [
    "spis=[int(i) for i in input().split()]\n",
    "result=[spis[-1]]\n",
    "result.extend(spis[:-1])\n",
    "print(*result)"
   ]
  },
  {
   "cell_type": "code",
   "execution_count": 52,
   "metadata": {},
   "outputs": [
    {
     "name": "stdout",
     "output_type": "stream",
     "text": [
      "[1, 2, 3, 1, 4, 2, 3, 5, 6]\n",
      "[1, 4, 2, 3, 5]\n"
     ]
    }
   ],
   "source": [
    "# посчитать в списке элементы, которые не повторяются больше одного раза\n",
    "spis=[int(i) for i in input().split()]\n",
    "s=''.join([str(i) for i in spis])\n",
    "for i in range(len(spis)-1):\n",
    "    j=i+1\n",
    "    while j<len(spis):\n",
    "        if spis[i]==spis[j]:\n",
    "            s=s.replace(str(spis[i]),'')\n",
    "            break\n",
    "        j+=1\n",
    "\n",
    "print(len(s))\n",
    "\n"
   ]
  },
  {
   "cell_type": "code",
   "execution_count": null,
   "metadata": {},
   "outputs": [],
   "source": [
    "# посчитать количество разных элементов в списке\n",
    "spis=[int(i) for i in input().split()]\n",
    "print(len(list(set(spis))))"
   ]
  },
  {
   "cell_type": "code",
   "execution_count": null,
   "metadata": {},
   "outputs": [],
   "source": [
    "# выяснить, является ли заданное число произведением двух любых чисел из списка\n",
    "n=int(input())\n",
    "spis=[int(input()) for _ in range(n)]\n",
    "number=int(input())\n",
    "\n",
    "temp=[[spis[i]*spis[j] for j in range(i+1,len(spis))] for i in range(len(spis)-1)] # создали набор списков, \n",
    "# содержащих произведение элементов между собой\n",
    "mass=list(set([j for i in temp for j in i])) #распаковали эти списки внутри набора и из этого набора\n",
    "# взяли только те элементы, что не повторяются\n",
    "\n",
    "print('ДА' if number in mass else 'НЕТ')"
   ]
  },
  {
   "cell_type": "code",
   "execution_count": 77,
   "metadata": {},
   "outputs": [
    {
     "name": "stdout",
     "output_type": "stream",
     "text": [
      "[[2, 3, 4, 5, 6], [6, 8, 10, 12], [12, 15, 18], [20, 24], [30]]\n",
      "[2, 3, 4, 5, 6, 6, 8, 10, 12, 12, 15, 18, 20, 24, 30]\n"
     ]
    }
   ],
   "source": [
    "# распаковать список внутри списка (распаковать список внутри набора)\n",
    "spis=[1,2,3,4,5,6]\n",
    "\n",
    "temp=[[spis[i]*spis[j] for j in range(i+1,len(spis))] for i in range(len(spis)-1)]\n",
    "mass=[j for i in temp for j in i]\n",
    "\n",
    "print(temp)\n",
    "print(mass)"
   ]
  },
  {
   "cell_type": "code",
   "execution_count": 81,
   "metadata": {},
   "outputs": [
    {
     "name": "stdout",
     "output_type": "stream",
     "text": [
      "['', '', '', '', 'РРРР', 'Р', 'РРРРРРРР', '', 'Р', 'Р', 'РРРРРРРРРРРРРРРРРРРРРРРРРРРРРРР']\n"
     ]
    }
   ],
   "source": [
    "s='ООООРРРРОРОРРРРРРРРООРОРОРРРРРРРРРРРРРРРРРРРРРРРРРРРРРРР'\n",
    "spis=s.split('О')\n",
    "print(spis)"
   ]
  },
  {
   "cell_type": "code",
   "execution_count": 89,
   "metadata": {},
   "outputs": [
    {
     "name": "stdout",
     "output_type": "stream",
     "text": [
      "[0, 1, 2]\n"
     ]
    }
   ],
   "source": [
    "# задача на вывод номеров элементов списка(состоит из строк), в которых содержится последовательность 'anton' \n",
    "# по порядку или с размежеванная другими символами https://stepik.org/lesson/415554/step/10?unit=405083\n",
    "\n",
    "# пишем функцию, которая будет проверять каждую строку\n",
    "def name_in(spis):\n",
    "    flag= False\n",
    "    anton='anton'\n",
    "    mass=[i for i in spis if i in anton] #записываем массив, в который кладем только те буквы из строки, которые содержатся в последовательности 'anton'\n",
    "    if 'a' in mass: # последовательно проверям массив: есть ли там буква 'а'?\n",
    "        mass=mass[mass.index('a'):] # обрезаем все, что левее буквы 'а' (чтобы выдержать порядок букв)\n",
    "        if 'n' in mass: # проверяем есть ли в урезанном списке буква 'n'\n",
    "            mass=mass[mass.index('n'):] # урезаем список - и так далее\n",
    "            if 't' in mass: \n",
    "                mass=mass[mass.index('t'):]\n",
    "                if 'o' in mass: \n",
    "                    mass=mass[mass.index('o'):]\n",
    "                    if 'n' in mass: flag= True  # если каскад условий приведет нас в эту точку, то значит все искомые буквы расположены в строке в всоем порядке            \n",
    "    return flag\n",
    "# основной блок программы\n",
    "names=[input() for _ in range(int(input()))]\n",
    "numbers=[]\n",
    "for i in range(len(names)):\n",
    "    if name_in(list(names[i]))==True: numbers.append(i+1)\n",
    "\n",
    "print(*numbers)\n"
   ]
  },
  {
   "cell_type": "code",
   "execution_count": 118,
   "metadata": {},
   "outputs": [
    {
     "name": "stdout",
     "output_type": "stream",
     "text": [
      "тимур запретил букву а\n",
      "тимур зпретил букву б\n",
      "тимур зпретил укву в\n",
      "тимур зпретил уку е\n",
      "тимур зпртил уку з\n",
      "тимур пртил уку и\n",
      "тмур пртл уку к\n",
      "тмур пртл уу л\n",
      "тмур прт уу м\n",
      "тур прт уу п\n",
      "тур рт уу р\n",
      "ту т уу т\n",
      "у уу у\n"
     ]
    }
   ],
   "source": [
    "s=input()+' ' + 'запретил букву а'\n",
    "while len(s)>0:\n",
    "    print(s)\n",
    "    l=s.split()\n",
    "    del_item=l[-1]\n",
    "    new_l=[l[i].replace(del_item,'') for i in range(len(l)-1)]\n",
    "    new_l=[i for i in new_l if i!='']\n",
    "    if len(''.join(new_l))==0: break\n",
    "    else:\n",
    "        new_item=chr(min([ord(i) for j in new_l for i in j ])) # вытаскиваем номера оставшихся букв, берем наименьшую, возвращаем букву, которая соответствует этому номеру - это наш следующий удаляемый элемент\n",
    "        new_l.append(new_item) # добавляем новый элемент в конец списка \n",
    "        s=' '.join(new_l).lstrip() # возвращаем значение строки с новым элементом+ удаляем пробелы в начале строки, повторяем цикл\n",
    "\n"
   ]
  },
  {
   "cell_type": "code",
   "execution_count": null,
   "metadata": {},
   "outputs": [],
   "source": [
    "# БУЛЕВЫ значения\n",
    "# bool() - для всех пустых значений == False, для непустых == True \n",
    "# isinstance() выдаст булево значение True or False для переданных аргументов : isinstance(3,int)==True, isinstance([1,2], str)==False\n",
    "# type() - позволит выяснить, что передано в качестве аргумента: строка, список, целое число и так далее\n",
    "# функция , которая возвращает булево значение - называется предикатом\n",
    "\n",
    "# оператор None \n",
    "# уточнять тип объекта на принадлежность  None лучше через операто is (if perem is None:)\n",
    "# Сравнивая элементы других типов данных (str,int,list,bool) c None всегда будет выдавать False: None==17 выдаст False"
   ]
  },
  {
   "cell_type": "code",
   "execution_count": 121,
   "metadata": {},
   "outputs": [
    {
     "name": "stdout",
     "output_type": "stream",
     "text": [
      "[10, 20, 30, 40]\n",
      "[10, 20, 40]\n"
     ]
    }
   ],
   "source": [
    "numbers = [10, 20, 30, 40, 50]\n",
    "numbers.pop() # удалит из списка последний элемент и перезапишет список\n",
    "print(numbers)\n",
    "\n",
    "numbers.pop(2) #удалит из списка элемент с переданным индексом и перезапишет список\n",
    "print(numbers)"
   ]
  },
  {
   "cell_type": "code",
   "execution_count": null,
   "metadata": {},
   "outputs": [],
   "source": [
    "# сравнение вложенных списков через min(), max(): \n",
    "# сравнение списков ведется через сравнение элементов списков ПО ПОРЯДКУ: нулевой с нулевым, первый с первым, второй со вторым и так далее\n",
    "list1 = [1, 7, 12, 0, 9, 100] \n",
    "list2 = [1, 7, 90] \n",
    "list3 = [1, 10]\n",
    "\n",
    "print(min(list1, list2, list3)) #- выведет первый список целиком, потому что второй элемент списка \n",
    "# является наименьшим из вторых элементов других списков\n",
    "print(max(list1, list2, list3)) # выведет третий список, потому что его 1й элемент самый большой из остальных первых элементов других списков"
   ]
  },
  {
   "cell_type": "code",
   "execution_count": 125,
   "metadata": {},
   "outputs": [
    {
     "name": "stdout",
     "output_type": "stream",
     "text": [
      "[[8, 7, 1], [102, 7, 9], [105, 106, 102], [103, 98, 99, 100], [3, 2, 1]]\n"
     ]
    }
   ],
   "source": [
    "list1 = [[1, 7, 8], [9, 7, 102], [102, 106, 105], [100, 99, 98, 103], [1, 2, 3]]\n",
    "\n",
    "\n",
    "print([i[::-1] for i in list1])"
   ]
  },
  {
   "cell_type": "code",
   "execution_count": 126,
   "metadata": {},
   "outputs": [
    {
     "name": "stdout",
     "output_type": "stream",
     "text": [
      "[[0, 0, 0, 0, 0], [0, 0, 0, 0, 0], [0, 0, 0, 0, 0]]\n"
     ]
    }
   ],
   "source": [
    "n, m = int(input()), int(input())    # считываем значения n и m\n",
    "\n",
    "my_list = [[0] * m ] * n\n",
    "\n",
    "print(my_list)"
   ]
  },
  {
   "cell_type": "code",
   "execution_count": 130,
   "metadata": {},
   "outputs": [
    {
     "name": "stdout",
     "output_type": "stream",
     "text": [
      "[None, None, None, None, None, None, None, None, None]\n"
     ]
    }
   ],
   "source": [
    "n=int(input())\n"
   ]
  },
  {
   "cell_type": "code",
   "execution_count": 133,
   "metadata": {},
   "outputs": [
    {
     "name": "stdout",
     "output_type": "stream",
     "text": [
      "[[1], [1, 2], [1, 2, 3], [1, 2, 3, 4], [1, 2, 3, 4, 5]]\n"
     ]
    }
   ],
   "source": [
    "n=int(input())\n",
    "\n",
    "mass=[]\n",
    "for j in range(1,n+1):\n",
    "    spis=[]\n",
    "    for i in range(1,j+1):\n",
    "        spis.append(i)\n",
    "    mass.append(spis)\n",
    "\n",
    "print(mass)\n"
   ]
  },
  {
   "cell_type": "code",
   "execution_count": 263,
   "metadata": {},
   "outputs": [
    {
     "name": "stdout",
     "output_type": "stream",
     "text": [
      "[1, 30, 435, 4060, 27405, 142506, 593775, 2035800, 5852925, 14307150, 30045015, 54627300, 86493225, 119759850, 145422675, 155117520, 145422675, 119759850, 86493225, 54627300, 30045015, 14307150, 5852925, 2035800, 593775, 142506, 27405, 4060, 435, 30, 1]\n"
     ]
    }
   ],
   "source": [
    "# задача на треугольник паскаля\n",
    "def pascal(n):\n",
    "    from math import factorial, ceil\n",
    "    first=n \n",
    "    second=int(n*(n-1)/2)\n",
    "    third=int((n-2)*(n-1)*(n)/6)\n",
    "    m_num=[round(factorial(n)/factorial(m)/factorial(n-m)) for m in range(4,n+1)]\n",
    "    spis=[1,first,second,third]+m_num\n",
    "    if n<3: spis=spis[:n+1]\n",
    "    return spis\n",
    "\n",
    "n=int(input())\n",
    "print(pascal(n))\n",
    "\n",
    "\n"
   ]
  },
  {
   "cell_type": "code",
   "execution_count": 271,
   "metadata": {},
   "outputs": [
    {
     "name": "stdout",
     "output_type": "stream",
     "text": [
      "1\n",
      "1 1\n",
      "1 2 1\n",
      "1 3 3 1\n",
      "1 4 6 4 1\n",
      "1 5 10 10 5 1\n",
      "1 6 15 20 15 6 1\n",
      "1 7 21 35 35 21 7 1\n"
     ]
    }
   ],
   "source": [
    "# вывести n первых строк треугольника Паскаля\n",
    "def pascal(n):\n",
    "    from math import factorial, ceil\n",
    "    first=n \n",
    "    second=int(n*(n-1)/2)\n",
    "    third=int((n-2)*(n-1)*(n)/6)\n",
    "    m_num=[round(factorial(n)/factorial(m)/factorial(n-m)) for m in range(4,n+1)]\n",
    "    spis=[1,first,second,third]+m_num\n",
    "    if n<3: spis=spis[:n+1]\n",
    "    return [str(i) for i in spis] # сразу договоримся, что функция вернет список не с числами 1,2,3... а со строками '1','2'..\n",
    "\n",
    "number=int(input())\n",
    "print(*[' '.join(pascal(i)) for i in range(number)], sep='\\n')\n"
   ]
  },
  {
   "cell_type": "code",
   "execution_count": 272,
   "metadata": {},
   "outputs": [
    {
     "name": "stdout",
     "output_type": "stream",
     "text": [
      "[1, 5, 1]\n"
     ]
    }
   ],
   "source": [
    "nums = [1, 5, 2, 1, 4, 5, 1]\n",
    " \n",
    "visited = set()\n",
    "dup = [x for x in nums if x in visited or (visited.add(x) or False)]\n",
    " \n",
    "print(dup)"
   ]
  },
  {
   "cell_type": "code",
   "execution_count": 276,
   "metadata": {},
   "outputs": [
    {
     "name": "stdout",
     "output_type": "stream",
     "text": [
      "[1, 5, 1]\n"
     ]
    }
   ],
   "source": [
    "\n",
    "from iteration_utilities import duplicates\n",
    " \n",
    " \n",
    "nums = [1, 5, 2, 1, 4, 5, 1]\n",
    " \n",
    "dup = list(duplicates(nums))\n",
    "print(dup)"
   ]
  },
  {
   "cell_type": "code",
   "execution_count": null,
   "metadata": {},
   "outputs": [],
   "source": [
    "spis=input().split()\n",
    "for i in range(len(spis)):\n",
    "    j=0\n",
    "    temp=[spis[i]]\n",
    "    while spis[j]==spis[j+1]:\n"
   ]
  },
  {
   "cell_type": "code",
   "execution_count": 279,
   "metadata": {},
   "outputs": [
    {
     "name": "stdout",
     "output_type": "stream",
     "text": [
      "[['a']]\n",
      "[['a'], ['b']]\n",
      "[['a'], ['b'], ['c']]\n",
      "[['a'], ['b'], ['c']]\n"
     ]
    }
   ],
   "source": [
    "spis=input().split()\n",
    "j=0\n",
    "new_spis=[]\n",
    "while j<len(spis):\n",
    "    i=j\n",
    "    temp=[spis[i]]\n",
    "    while spis[i]==spis[i+1]:\n",
    "        temp.append(spis[i+1])\n",
    "        i+=1\n",
    "    new_spis.append(temp)\n",
    "    print(new_spis)\n",
    "    j=i+1\n",
    "\n",
    "print(new_spis)"
   ]
  },
  {
   "cell_type": "code",
   "execution_count": 288,
   "metadata": {},
   "outputs": [
    {
     "name": "stdout",
     "output_type": "stream",
     "text": [
      "[['w', 'w', 'w'], ['o'], ['r'], ['l'], ['d'], ['g', 'g', 'g', 'g'], ['r'], ['e'], ['a'], ['t', 't'], ['e'], ['c', 'c'], ['h'], ['e'], ['m'], ['g', 'g'], ['p'], ['w', 'w']]\n"
     ]
    }
   ],
   "source": [
    "# собираем в список повторяющиеся ПО ПОРЯДКУ элементы строки. полученные списки вкладываем в один общий список\n",
    "\n",
    "spis=input().split()\n",
    "j=0\n",
    "new_spis=[]\n",
    "while j<len(spis): # цикл для всех индексов в списке, созданной из строки\n",
    "    i=j\n",
    "    temp=[spis[i]] # запишем  во временный список первый элемент\n",
    "    while i!= len(spis)-1 and spis[i]==spis[i+1]: # пока мы не вылезли за список и пока элемент равен следующему\n",
    "        temp.append(spis[i+1]) # дополняем временный список следующим элементом\n",
    "        i+=1 # переходим к следующему\n",
    "        if i==len(spis)-1 : break # если вылезли за список - выходим из цикла\n",
    "    new_spis.append(temp) # вкладываем временный список в постоянный (итоговый)\n",
    "    j=i+1 #переходим к следующей итерации\n",
    "\n",
    "print(new_spis)"
   ]
  },
  {
   "cell_type": "code",
   "execution_count": 298,
   "metadata": {},
   "outputs": [
    {
     "name": "stdout",
     "output_type": "stream",
     "text": [
      "[['a', 'b'], ['c', 'd'], ['e', 'f']]\n"
     ]
    }
   ],
   "source": [
    "# собираем элементы строки в списки, длина которых установлена числом N. эти списки вкладываем в общий список\n",
    "def chunked(spis,n):\n",
    "    j=0\n",
    "    new_spis=[]\n",
    "    while j<len(spis): # цикл для всех индексов в списке, созданной из строки\n",
    "        i=j\n",
    "        temp=[spis[i]] # запишем  во временный список первый элемент\n",
    "        while i!= len(spis)-1 and len(temp)<n: # пока мы не вылезли за список и пока длина списка не станет равной N\n",
    "            temp.append(spis[i+1]) # дополняем временный список следующим элементом\n",
    "            i+=1 # переходим к следующему\n",
    "        new_spis.append(temp) # вкладываем временный список в постоянный (итоговый)\n",
    "        j=i+1 \n",
    "    return new_spis\n",
    "\n",
    "\n",
    "spis=input().split()\n",
    "n=int(input())\n",
    "print(chunked(spis,n))\n"
   ]
  },
  {
   "cell_type": "code",
   "execution_count": 326,
   "metadata": {},
   "outputs": [
    {
     "name": "stdout",
     "output_type": "stream",
     "text": [
      "[[], ['a'], ['b'], ['c'], ['d'], ['e'], ['f'], ['a', 'b'], ['b', 'c'], ['c', 'd'], ['d', 'e'], ['e', 'f'], ['a', 'b', 'c'], ['b', 'c', 'd'], ['c', 'd', 'e'], ['d', 'e', 'f'], ['a', 'b', 'c', 'd'], ['b', 'c', 'd', 'e'], ['c', 'd', 'e', 'f'], ['a', 'b', 'c', 'd', 'e'], ['b', 'c', 'd', 'e', 'f'], ['a', 'b', 'c', 'd', 'e', 'f']]\n"
     ]
    }
   ],
   "source": [
    "# создаем все возможные подсписки одного списка, соформированного из строки\n",
    "\n",
    "def podspis(spis,n):\n",
    "    new_spis=[]\n",
    "    for i in range(len(spis)): \n",
    "        temp=[spis[i]]\n",
    "        while i!= len(spis)-1 and len(temp)<n: # пока мы не вылезли за список и пока длина списка не станет равной N\n",
    "            temp.append(spis[i+1]) # дополняем временный список следующим элементом\n",
    "            i+=1 # переходим к следующему\n",
    "        new_spis.append(temp) # вкладываем временный список в постоянный (итоговый)\n",
    "    return [i for i in new_spis if len(i)==n] # возьмем только неповторяющиеся элементы списка\n",
    "\n",
    "# основной блок программы\n",
    "spis=input().split()\n",
    "\n",
    "itog_spis=[[]]\n",
    "for i in range(1, len(spis)+1):\n",
    "    itog_spis.extend(podspis(spis,i))\n",
    "print(itog_spis)\n",
    "\n"
   ]
  },
  {
   "cell_type": "code",
   "execution_count": 316,
   "metadata": {},
   "outputs": [
    {
     "name": "stdout",
     "output_type": "stream",
     "text": [
      "[['a', 'b', 'c', 'd', 'e', 'f']]\n"
     ]
    }
   ],
   "source": [
    "spis=['a','b','c','d','e','f']\n",
    "n=int(input())\n",
    "new_spis=[]\n",
    "for i in range(len(spis)):\n",
    "    temp=[spis[i]]\n",
    "    while i!= len(spis)-1 and len(temp)<n: # пока мы не вылезли за список и пока длина списка не станет равной N\n",
    "        temp.append(spis[i+1]) # дополняем временный список следующим элементом\n",
    "        i+=1 # переходим к следующему\n",
    "    new_spis.append(temp) # вкладываем временный список в постоянный (итоговый)\n",
    "\n",
    "print([i for i in new_spis if len(i)==n])\n"
   ]
  },
  {
   "cell_type": "code",
   "execution_count": 329,
   "metadata": {},
   "outputs": [
    {
     "name": "stdout",
     "output_type": "stream",
     "text": [
      "1 2 3 \n",
      "4 5 6 \n",
      "7 8 9 \n"
     ]
    }
   ],
   "source": [
    "# функция  вывода матрицы - для удобства\n",
    "\n",
    "def print_matrix(matrix, n, width=1):\n",
    "    for r in range(n):\n",
    "        for c in range(n):\n",
    "            print(str(matrix[r][c]).ljust(width), end=' ')\n",
    "        print()\n",
    "\n",
    "n = int(input())\n",
    "matrix = []\n",
    "for i in range(n):\n",
    "    temp = [int(num) for num in input().split()]\n",
    "    matrix.append(temp)\n",
    "\n",
    "print_matrix(matrix, n, width=1)"
   ]
  },
  {
   "cell_type": "code",
   "execution_count": null,
   "metadata": {},
   "outputs": [],
   "source": [
    "# Для считывания матрицы из n строк, заполненной числами, удобно использовать следующий код:\n",
    "n = int(input())\n",
    "matrix = []\n",
    "for i in range(n):\n",
    "    temp = [int(num) for num in input().split()]\n",
    "    matrix.append(temp)\n",
    "\n"
   ]
  },
  {
   "cell_type": "code",
   "execution_count": 327,
   "metadata": {},
   "outputs": [],
   "source": [
    "# Для считывания матрицы из n строк и m столбцов , заполненной строками, удобно использовать следующий код:\n",
    "n,m = int(input()),int(input())\n",
    "matrix = []\n",
    "for i in range(n):\n",
    "    temp=[]\n",
    "    for j in range(m):\n",
    "        temp.append(input())\n",
    "    matrix.append(temp)"
   ]
  },
  {
   "cell_type": "code",
   "execution_count": 330,
   "metadata": {},
   "outputs": [
    {
     "name": "stdout",
     "output_type": "stream",
     "text": [
      "sdfs asdf asdf \n",
      "ejtr qert dfgh \n"
     ]
    }
   ],
   "source": [
    "# код выводит матрицу строк, введенных с клавиатуры. Размер матрицы задается на старте программы: n строк и m столбцов\n",
    "\n",
    "def print_matrix(matrix, n,m, width=1):\n",
    "    for r in range(n):\n",
    "        for c in range(m):\n",
    "            print(str(matrix[r][c]).ljust(width), end=' ')\n",
    "        print()\n",
    "\n",
    "n,m = int(input()),int(input())\n",
    "matrix = []\n",
    "for i in range(n):\n",
    "    temp=[]\n",
    "    for j in range(m):\n",
    "        temp.append(input())\n",
    "    matrix.append(temp)\n",
    "\n",
    "print_matrix(matrix,n,m, width=1)\n"
   ]
  },
  {
   "cell_type": "code",
   "execution_count": null,
   "metadata": {},
   "outputs": [],
   "source": [
    "# код выводит матрицу строк, введенных с клавиатуры. Размер матрицы задается на старте программы: n строк и m столбцов\n",
    "# затем выводит матрицу в развернутом виде - сначала столбцы, потом строки\n",
    "\n",
    "def print_matrix(matrix, n,m, width=1):\n",
    "    for r in range(n):\n",
    "        for c in range(m):\n",
    "            print(str(matrix[r][c]).ljust(width), end=' ')\n",
    "        print()\n",
    "\n",
    "def print_matrix_turn(matrix, n,m, width=1):\n",
    "    for r in range(m):\n",
    "        for c in range(n):\n",
    "            print(str(matrix[c][r]).ljust(width), end=' ')\n",
    "        print()\n",
    "\n",
    "n,m = int(input()),int(input())\n",
    "matrix = []\n",
    "for i in range(n):\n",
    "    temp=[]\n",
    "    for j in range(m):\n",
    "        temp.append(input())\n",
    "    matrix.append(temp)\n",
    "\n",
    "print_matrix(matrix,n,m, width=1)\n",
    "print()\n",
    "print_matrix_turn(matrix,n,m, width=1)\n"
   ]
  },
  {
   "cell_type": "code",
   "execution_count": 331,
   "metadata": {},
   "outputs": [
    {
     "name": "stdout",
     "output_type": "stream",
     "text": [
      "1 2 3 \n",
      "4 5 6 \n",
      "7 8 9 \n",
      "15\n"
     ]
    }
   ],
   "source": [
    "# след квадратной матрицы - это сумма элементов главной диагонали\n",
    "\n",
    "def print_matrix(matrix, n, width=1):\n",
    "    for r in range(n):\n",
    "        for c in range(n):\n",
    "            print(str(matrix[r][c]).ljust(width), end=' ')\n",
    "        print()\n",
    "\n",
    "def trace_matrix(matrix):\n",
    "    temp=[]\n",
    "    for i in range(len(matrix)):\n",
    "        temp.append(matrix[i][i])\n",
    "    return sum(temp)\n",
    "\n",
    "n = int(input())\n",
    "matrix = []\n",
    "for i in range(n):\n",
    "    temp = [int(num) for num in input().split()]\n",
    "    matrix.append(temp)\n",
    "\n",
    "print_matrix(matrix, n, width=1)\n",
    "print(trace_matrix(matrix))"
   ]
  },
  {
   "cell_type": "code",
   "execution_count": 332,
   "metadata": {},
   "outputs": [
    {
     "name": "stdout",
     "output_type": "stream",
     "text": [
      "1 2 3 3 \n",
      "4 5 6 6 \n",
      "7 8 9 9 \n",
      "3 4 5 6 \n",
      "2\n",
      "2\n",
      "2\n",
      "2\n"
     ]
    }
   ],
   "source": [
    "from statistics import mean\n",
    "\n",
    "def print_matrix(matrix, n, width=1):\n",
    "    for r in range(n):\n",
    "        for c in range(n):\n",
    "            print(str(matrix[r][c]).ljust(width), end=' ')\n",
    "        print()\n",
    "\n",
    "def more_mean(matrix):\n",
    "    for i in range(len(matrix)):\n",
    "        count=0\n",
    "        for j in range(len(matrix)):\n",
    "            if matrix[i][j]>mean(matrix[i]): count+=1\n",
    "        print(count)\n",
    "\n",
    "n = int(input())\n",
    "matrix = []\n",
    "for i in range(n):\n",
    "    temp = [int(num) for num in input().split()]\n",
    "    matrix.append(temp)\n",
    "\n",
    "print_matrix(matrix, n, width=1)\n",
    "more_mean(matrix)"
   ]
  },
  {
   "cell_type": "code",
   "execution_count": 334,
   "metadata": {},
   "outputs": [
    {
     "name": "stdout",
     "output_type": "stream",
     "text": [
      "1   89  23  67  2   \n",
      "43  67  22  98  1   \n",
      "2   5   7   3   8   \n",
      "2   3   6   78  34  \n",
      "1   67  2   3   2   \n",
      "78\n"
     ]
    }
   ],
   "source": [
    "# найти максимальный элемент , лежащий ниже главной диагонали\n",
    "\n",
    "def print_matrix(matrix, n, width=3):\n",
    "    for r in range(n):\n",
    "        for c in range(n):\n",
    "            print(str(matrix[r][c]).ljust(width), end=' ')\n",
    "        print()\n",
    "\n",
    "def max_low_mail_diag(matrix):\n",
    "    temp=[]\n",
    "    for i in range(len(matrix)):\n",
    "        for j in range(len(matrix)):\n",
    "            if i>=j: temp.append(matrix[i][j])\n",
    "    return max(temp)\n",
    "\n",
    "n = int(input())\n",
    "matrix = []\n",
    "for i in range(n):\n",
    "    temp = [int(num) for num in input().split()]\n",
    "    matrix.append(temp)\n",
    "\n",
    "print_matrix(matrix, n, width=3)\n",
    "print(max_low_mail_diag(matrix))"
   ]
  },
  {
   "cell_type": "code",
   "execution_count": null,
   "metadata": {},
   "outputs": [],
   "source": [
    "# найти максимальный элемент , лежащий в левой и правой областях, образованных главной и второстепенной диагоналями\n",
    "\n",
    "def print_matrix(matrix, n, width=3):\n",
    "    for r in range(n):\n",
    "        for c in range(n):\n",
    "            print(str(matrix[r][c]).ljust(width), end=' ')\n",
    "        print()\n",
    "\n",
    "def max_left_right_space(matrix):\n",
    "    temp=[]\n",
    "    for i in range(len(matrix)):\n",
    "        for j in range(len(matrix)):\n",
    "            if (i>=j and i<= len(matrix)-j-1) or (i<=j and i>= len(matrix)-j-1) : temp.append(matrix[i][j])\n",
    "    return max(temp)\n",
    "\n",
    "n = int(input())\n",
    "matrix = []\n",
    "for i in range(n):\n",
    "    temp = [int(num) for num in input().split()]\n",
    "    matrix.append(temp)\n",
    "\n",
    "print_matrix(matrix, n, width=3)\n",
    "print(max_left_right_space(matrix))"
   ]
  },
  {
   "cell_type": "code",
   "execution_count": null,
   "metadata": {},
   "outputs": [],
   "source": [
    "# сумма элементов, лежащих в каждой из областей, без учета элементов на диагоналях\n",
    "\n",
    "def print_matrix(matrix, n, width=3):\n",
    "    for r in range(n):\n",
    "        for c in range(n):\n",
    "            print(str(matrix[r][c]).ljust(width), end=' ')\n",
    "        print()\n",
    "\n",
    "def sum_spaces(matrix):\n",
    "    temp_l,temp_r,temp_u, temp_d, temp_sum=[],[],[],[],[]\n",
    "    for i in range(len(matrix)):\n",
    "        for j in range(len(matrix)):\n",
    "            if (i>j and i< len(matrix)-j-1) : temp_l.append(matrix[i][j]) # левая четверть\n",
    "            elif (i<j and i> len(matrix)-j-1): temp_r.append(matrix[i][j]) # правая четверть\n",
    "            elif (i<j and i< len(matrix)-j-1): temp_u.append(matrix[i][j]) # верхняя четверть\n",
    "            elif (i>j and i> len(matrix)-j-1): temp_d.append(matrix[i][j]) # нижняя четверть\n",
    "    temp_sum=[sum(temp_l), sum(temp_r), sum(temp_u), sum(temp_d)]\n",
    "\n",
    "    return temp_sum\n",
    "\n",
    "n = int(input())\n",
    "matrix = []\n",
    "for i in range(n):\n",
    "    temp = [int(num) for num in input().split()]\n",
    "    matrix.append(temp)\n",
    "\n",
    "print_matrix(matrix, n, width=3)\n",
    "print('Верхняя четверть:', sum_spaces(matrix)[2])\n",
    "print('Правая четверть:', sum_spaces(matrix)[1])\n",
    "print('Нижняя четверть:', sum_spaces(matrix)[3])\n",
    "print('Левая четверть:', sum_spaces(matrix)[0])"
   ]
  },
  {
   "cell_type": "code",
   "execution_count": 337,
   "metadata": {},
   "outputs": [
    {
     "name": "stdout",
     "output_type": "stream",
     "text": [
      "0   0   0   0   0   0   \n",
      "0   1   2   3   4   5   \n",
      "0   2   4   6   8   10  \n",
      "0   3   6   9   12  15  \n"
     ]
    }
   ],
   "source": [
    "def print_matrix(matrix, n,m, width=3):\n",
    "    for r in range(n):\n",
    "        for c in range(m):\n",
    "            print(str(matrix[r][c]).ljust(width), end=' ')\n",
    "        print()\n",
    "\n",
    "n,m = int(input()),int(input())\n",
    "matrix = []\n",
    "for i in range(n):\n",
    "    temp=[]\n",
    "    for j in range(m):\n",
    "        temp.append(i*j)\n",
    "    matrix.append(temp)\n",
    "\n",
    "print_matrix(matrix, n,m, width=3)"
   ]
  },
  {
   "cell_type": "code",
   "execution_count": null,
   "metadata": {},
   "outputs": [],
   "source": [
    "# найти индексы максимального элемента в матрице (элементы вводятся построчно с клавиатуры)\n",
    "\n",
    "def print_matrix(matrix, n,m, width=3):\n",
    "    for r in range(n):\n",
    "        for c in range(m):\n",
    "            print(str(matrix[r][c]).ljust(width), end=' ')\n",
    "        print()\n",
    "\n",
    "n,m = int(input()),int(input())\n",
    "matrix = []\n",
    "for i in range(n):\n",
    "    temp=input().split()\n",
    "    matrix.append(temp)\n",
    "\n",
    "max_i=0\n",
    "max_j=0\n",
    "max_elem=int(matrix[max_i][max_j])\n",
    "for i in range(n):\n",
    "    for j in range(m):\n",
    "        if int(matrix[i][j])>max_elem: max_i,max_j,max_elem =i,j,int(matrix[i][j])\n",
    "        \n",
    "\n",
    "print_matrix(matrix, n,m, width=3)\n",
    "\n",
    "print(max_i,max_j)"
   ]
  },
  {
   "cell_type": "code",
   "execution_count": null,
   "metadata": {},
   "outputs": [],
   "source": [
    "# поменять местами заданные столбцы в матрице (элементы вводятся построчно с клавиатуры)\n",
    "\n",
    "def print_matrix(matrix, n,m, width=3):\n",
    "    for r in range(n):\n",
    "        for c in range(m):\n",
    "            print(str(matrix[r][c]).ljust(width), end=' ')\n",
    "        print()\n",
    "\n",
    "n,m = int(input()),int(input())\n",
    "matrix = []\n",
    "for i in range(n):\n",
    "    temp=[int(i) for i in input().split()]\n",
    "    matrix.append(temp)\n",
    "\n",
    "numbers= input().split()\n",
    "\n",
    "a,b = int(numbers[0]),int(numbers[1])\n",
    "for i in range(n): matrix[i][a],matrix[i][b]=matrix[i][b],matrix[i][a]\n",
    "        \n",
    "\n",
    "print_matrix(matrix, n,m, width=3)\n"
   ]
  },
  {
   "cell_type": "code",
   "execution_count": 342,
   "metadata": {},
   "outputs": [
    {
     "name": "stdout",
     "output_type": "stream",
     "text": [
      "0   3   2   \n",
      "1   5   9   \n",
      "2   7   6   \n"
     ]
    }
   ],
   "source": [
    "# проверить симметричность квадратной матрицы относительно главной диагонали (элементы вводятся построчно с клавиатуры)\n",
    "\n",
    "def print_matrix(matrix, n, width=3):\n",
    "    for r in range(n):\n",
    "        for c in range(n):\n",
    "            print(str(matrix[r][c]).ljust(width), end=' ')\n",
    "        print()\n",
    "\n",
    "n= int(input())\n",
    "matrix = []\n",
    "for i in range(n):\n",
    "    temp=[int(i) for i in input().split()]\n",
    "    matrix.append(temp)\n",
    "\n",
    "# для разворота матрицы (поменять столбцы и строки) - ТРАНСПОНИРОВАННАЯ матрица\n",
    "matrix_turn= []\n",
    "for j in range(n):\n",
    "    temp=[]\n",
    "    for i in range(n):\n",
    "        temp.append(matrix[i][j])\n",
    "    matrix_turn.append(temp)\n",
    "\n",
    "print('YES' if matrix_turn==matrix else 'NO')"
   ]
  },
  {
   "cell_type": "code",
   "execution_count": 343,
   "metadata": {},
   "outputs": [
    {
     "name": "stdout",
     "output_type": "stream",
     "text": [
      "6   8   9   7   \n",
      "0   7   3   4   \n",
      "1   2   5   2   \n",
      "3   4   8   6   \n"
     ]
    }
   ],
   "source": [
    "# поменять главную и побочную диагонали квадратной матрицы местами (элементы вводятся построчно с клавиатуры)\n",
    "\n",
    "def print_matrix(matrix, n, width=3):\n",
    "    for r in range(n):\n",
    "        for c in range(n):\n",
    "            print(str(matrix[r][c]).ljust(width), end=' ')\n",
    "        print()\n",
    "\n",
    "n= int(input())\n",
    "matrix = []\n",
    "for i in range(n):\n",
    "    temp=[int(i) for i in input().split()]\n",
    "    matrix.append(temp)\n",
    "\n",
    "# меняем элементы главной диагонали с элементами побочной диагонали\n",
    "matrix_diag_change = matrix.copy()\n",
    "for i in range(n):\n",
    "    matrix_diag_change[i][i],matrix_diag_change[n-1-i][i] = matrix_diag_change[n-1-i][i],matrix_diag_change[i][i]\n",
    "\n",
    "\n",
    "print_matrix(matrix_diag_change, n, width=3)\n",
    "\n"
   ]
  },
  {
   "cell_type": "code",
   "execution_count": 344,
   "metadata": {},
   "outputs": [
    {
     "name": "stdout",
     "output_type": "stream",
     "text": [
      "6   4   8   7   \n",
      "1   7   3   2   \n",
      "0   2   5   4   \n",
      "3   8   9   6   \n"
     ]
    }
   ],
   "source": [
    "# зеркальное отображение по горизонтальной оси симметрии квадратной матрицы  (элементы вводятся построчно с клавиатуры)\n",
    "\n",
    "def print_matrix(matrix, n, width=3):\n",
    "    for r in range(n):\n",
    "        for c in range(n):\n",
    "            print(str(matrix[r][c]).ljust(width), end=' ')\n",
    "        print()\n",
    "\n",
    "n= int(input())\n",
    "matrix = []\n",
    "for i in range(n):\n",
    "    temp=[int(i) for i in input().split()]\n",
    "    matrix.append(temp)\n",
    "\n",
    "# отображаем зеркально по оси симметрии\n",
    "matrix_simm = matrix.copy()\n",
    "for i in range(n//2):\n",
    "    matrix_simm[i],matrix_simm[-(i+1)] = matrix_simm[-(i+1)], matrix_simm[i]\n",
    "\n",
    "\n",
    "print_matrix(matrix_simm, n, width=3)\n",
    "\n"
   ]
  },
  {
   "cell_type": "code",
   "execution_count": 347,
   "metadata": {},
   "outputs": [
    {
     "name": "stdout",
     "output_type": "stream",
     "text": [
      "2   3   0   \n",
      "9   5   1   \n",
      "6   7   2   \n"
     ]
    }
   ],
   "source": [
    "# повернуть матрицу на 90 градусов(элементы вводятся построчно с клавиатуры)\n",
    "\n",
    "def print_matrix(matrix, n, width=3):\n",
    "    for r in range(n):\n",
    "        for c in range(n):\n",
    "            print(str(matrix[r][c]).ljust(width), end=' ')\n",
    "        print()\n",
    "\n",
    "n= int(input())\n",
    "matrix = []\n",
    "for i in range(n):\n",
    "    temp=[int(i) for i in input().split()]\n",
    "    matrix.append(temp)\n",
    "\n",
    "# поворачиваем матрицу на 90 градусов по часовой стрелке (поменять столбцы и строки)\n",
    "matrix_turn= []\n",
    "for j in range(n):\n",
    "    temp=[]\n",
    "    for i in range(n):\n",
    "        temp.append(matrix[i][j])\n",
    "    temp.reverse()\n",
    "    matrix_turn.append(temp)\n",
    "\n",
    "print_matrix(matrix_turn, n, width=3)"
   ]
  },
  {
   "cell_type": "code",
   "execution_count": 359,
   "metadata": {},
   "outputs": [
    {
     "name": "stdout",
     "output_type": "stream",
     "text": [
      ".   .   .   .   N   .   .   .   \n",
      ".   .   *   .   .   .   *   .   \n",
      ".   .   .   *   .   *   .   .   \n",
      ".   .   .   .   .   .   .   .   \n",
      ".   .   .   .   .   .   .   .   \n",
      ".   .   .   .   .   .   .   .   \n",
      ".   .   .   .   .   .   .   .   \n",
      ".   .   .   .   .   .   .   .   \n"
     ]
    }
   ],
   "source": [
    "# ход коня \n",
    "# https://stepik.org/lesson/416755/step/8?unit=406263\n",
    "\n",
    "def print_matrix(matrix, n, width=3):\n",
    "    for r in range(n):\n",
    "        for c in range(n):\n",
    "            print(str(matrix[r][c]).ljust(width), end=' ')\n",
    "        print()\n",
    "\n",
    "# заполним матрицу точками - создаем поле для вывода результата\n",
    "matrix = [['.']*8 for _ in range(8)] \n",
    "\n",
    "# создаем шахматную доску (координаты элементов) - см вспомогательный код ниже\n",
    "chess_desk= []\n",
    "for i in range(8,0,-1):\n",
    "    temp=[]\n",
    "    for j in range(8):\n",
    "        elem=chr(ord('a')+j)+str(i)\n",
    "        temp.append(elem)\n",
    "    chess_desk.append(temp)\n",
    "\n",
    "night_move= matrix.copy()\n",
    "move=input() # задаем положение коня на доске\n",
    "for i in range(8):\n",
    "    for j in range(8):\n",
    "        if chess_desk[i][j]==move: a,b=i,j # находим индексы положения коня и запоминаем их в переменные a,b\n",
    "\n",
    "night_move[a][b] = 'N' # ставим коня на свое место\n",
    "\n",
    "# ставим звездочки на клетки, в которые конь может сходить\n",
    "for i in range(-2,3):\n",
    "    for j in range(-2,3):\n",
    "        if abs(i)!=abs(j) and i!=0 and j!=0: \n",
    "            if 0<=a+i<8 and 0<=b+j<8: night_move[a+i][b+j] = '*' # не забываем про условие невыхода за границы доски\n",
    "            else: continue\n",
    "\n",
    "\n",
    "print_matrix(night_move, 8, width=3)\n",
    "    "
   ]
  },
  {
   "cell_type": "code",
   "execution_count": 350,
   "metadata": {},
   "outputs": [
    {
     "name": "stdout",
     "output_type": "stream",
     "text": [
      "a1  a2  a3  a4  a5  a6  a7  a8  \n",
      "b1  b2  b3  b4  b5  b6  b7  b8  \n",
      "c1  c2  c3  c4  c5  c6  c7  c8  \n",
      "d1  d2  d3  d4  d5  d6  d7  d8  \n",
      "e1  e2  e3  e4  e5  e6  e7  e8  \n",
      "f1  f2  f3  f4  f5  f6  f7  f8  \n",
      "g1  g2  g3  g4  g5  g6  g7  g8  \n",
      "h1  h2  h3  h4  h5  h6  h7  h8  \n"
     ]
    }
   ],
   "source": [
    "def print_matrix(matrix, n, width=3):\n",
    "    for r in range(n):\n",
    "        for c in range(n):\n",
    "            print(str(matrix[r][c]).ljust(width), end=' ')\n",
    "        print()\n",
    "\n",
    "chess_desk= []\n",
    "for i in range(8):\n",
    "    temp=[]\n",
    "    for j in range(1,9):\n",
    "        elem=chr(ord('a')+i)+str(j)\n",
    "        temp.append(elem)\n",
    "    chess_desk.append(temp)\n",
    "\n",
    "print_matrix(chess_desk, 8, width=3)"
   ]
  },
  {
   "cell_type": "code",
   "execution_count": 360,
   "metadata": {},
   "outputs": [
    {
     "name": "stdout",
     "output_type": "stream",
     "text": [
      "a8  b8  c8  d8  e8  f8  g8  h8  \n",
      "a7  b7  c7  d7  e7  f7  g7  h7  \n",
      "a6  b6  c6  d6  e6  f6  g6  h6  \n",
      "a5  b5  c5  d5  e5  f5  g5  h5  \n",
      "a4  b4  c4  d4  e4  f4  g4  h4  \n",
      "a3  b3  c3  d3  e3  f3  g3  h3  \n",
      "a2  b2  c2  d2  e2  f2  g2  h2  \n",
      "a1  b1  c1  d1  e1  f1  g1  h1  \n"
     ]
    }
   ],
   "source": [
    "def print_matrix(matrix, n, width=3):\n",
    "    for r in range(n):\n",
    "        for c in range(n):\n",
    "            print(str(matrix[r][c]).ljust(width), end=' ')\n",
    "        print()\n",
    "\n",
    "chess_desk= []\n",
    "for i in range(8,0,-1):\n",
    "    temp=[]\n",
    "    for j in range(8):\n",
    "        elem=chr(ord('a')+j)+str(i)\n",
    "        temp.append(elem)\n",
    "    chess_desk.append(temp)\n",
    "\n",
    "print_matrix(chess_desk, 8, width=3)\n",
    "\n"
   ]
  },
  {
   "cell_type": "code",
   "execution_count": 363,
   "metadata": {},
   "outputs": [
    {
     "name": "stdout",
     "output_type": "stream",
     "text": [
      "NO\n",
      "1   2   3   \n",
      "4   5   6   \n",
      "7   8   9   \n",
      "15\n",
      "15\n"
     ]
    }
   ],
   "source": [
    "# магический квадрат: сумма чисел по всем направлениям должна быть одинакова (строки, столбцы, диагонали)\n",
    "\n",
    "def print_matrix(matrix, n, width=3):\n",
    "    for r in range(n):\n",
    "        for c in range(n):\n",
    "            print(str(matrix[r][c]).ljust(width), end=' ')\n",
    "        print()\n",
    "\n",
    "# функция, считает след матрицы (сумма главной диагонали)\n",
    "def trace_matrix(matrix):\n",
    "    temp=[]\n",
    "    for i in range(len(matrix)):\n",
    "        temp.append(matrix[i][i])\n",
    "    return sum(temp)\n",
    "\n",
    "# функция, считает сумму побочной диагонали\n",
    "def antitrace_matrix(matrix):\n",
    "    temp=[]\n",
    "    for i in range(len(matrix)):\n",
    "        temp.append(matrix[i][len(matrix)-i-1])\n",
    "    return sum(temp)\n",
    "\n",
    "n= int(input())\n",
    "matrix = []\n",
    "for i in range(n):\n",
    "    temp=[int(i) for i in input().split()]\n",
    "    matrix.append(temp)\n",
    "\n",
    "# запускаем главное условие:\n",
    "if (trace_matrix(matrix)==antitrace_matrix(matrix)                # чтобы суммы главной и побочной диагонали были равны\n",
    "and matrix[0]!=matrix[1] and sorted(matrix[0])!=sorted(matrix[1]) # чтобы элементы не были равны друг другу\n",
    "and all(elem!=0 for elem in [j for i in matrix for j in i])):     # чтобы ни один элемент матрицы не был равен нулю\n",
    "    magic=[sum(matrix[i]) for i in range(len(matrix))] # создаем список для сумм по столбцам и строкам, сразу заполняем суммами по строкам\n",
    "    for i in range(n):\n",
    "        temp=[]\n",
    "        for j in range(n): temp.append(matrix[j][i])\n",
    "        magic.append(sum(temp)) # заполняем суммами по столбцам\n",
    "    if all(elem==trace_matrix(matrix) for elem in magic): print('YES') # если все элементы списка magic равны сумме по главной диагонали\n",
    "    else: print('NO')\n",
    "else: print('NO')       \n",
    "    \n",
    "\n",
    "print_matrix(matrix, n, width=3)\n",
    "print(trace_matrix(matrix))\n",
    "print(antitrace_matrix(matrix))"
   ]
  },
  {
   "cell_type": "code",
   "execution_count": 374,
   "metadata": {},
   "outputs": [
    {
     "name": "stdout",
     "output_type": "stream",
     "text": [
      ".   *   .   *   \n",
      "*   .   *   .   \n"
     ]
    }
   ],
   "source": [
    "# заполним матрицу точками и звездочками в шахматном порядке\n",
    "\n",
    "def print_matrix(matrix, n,m, width=3):\n",
    "    for r in range(n):\n",
    "        for c in range(m):\n",
    "            print(str(matrix[r][c]).ljust(width), end=' ')\n",
    "        print()\n",
    "\n",
    "matrix_size=input().split()\n",
    "n,m = int(matrix_size[0]),int(matrix_size[1])\n",
    "# заполним матрицу точками - создаем поле для вывода результата\n",
    "matrix = [['.']*m for _ in range(n)] \n",
    "\n",
    "# меняем точки на звездочки\n",
    "for i in range(n):\n",
    "    for j in range(1-i%2, m,2): # в шахматном порядке\n",
    "        matrix[i][j]='*'\n",
    "\n",
    "print_matrix(matrix, n,m, width=3)"
   ]
  },
  {
   "cell_type": "code",
   "execution_count": 378,
   "metadata": {},
   "outputs": [
    {
     "name": "stdout",
     "output_type": "stream",
     "text": [
      "0   0   0   0   0   0   0   1   \n",
      "0   0   0   0   0   0   1   2   \n",
      "0   0   0   0   0   1   2   2   \n",
      "0   0   0   0   1   2   2   2   \n",
      "0   0   0   1   2   2   2   2   \n",
      "0   0   1   2   2   2   2   2   \n",
      "0   1   2   2   2   2   2   2   \n",
      "1   2   2   2   2   2   2   2   \n"
     ]
    }
   ],
   "source": [
    "# заполним квадратную матрицу элементами на выбор относительно побочной диагонали\n",
    "\n",
    "def print_matrix(matrix, n, width=3):\n",
    "    for r in range(n):\n",
    "        for c in range(n):\n",
    "            print(str(matrix[r][c]).ljust(width), end=' ')\n",
    "        print()\n",
    "\n",
    "n = int(input())\n",
    "# заполним матрицу точками - создаем поле для вывода результата\n",
    "matrix = [[1]*n for _ in range(n)] \n",
    "\n",
    "# меняем элементы ниже и выше побочной диагонали\n",
    "for i in range(n):\n",
    "    for j in range(n):\n",
    "        if j<n-i-1: matrix[i][j]=0\n",
    "        elif j>n-i-1: matrix[i][j]=2\n",
    "\n",
    "print_matrix(matrix, n, width=3)"
   ]
  },
  {
   "cell_type": "code",
   "execution_count": 393,
   "metadata": {},
   "outputs": [
    {
     "name": "stdout",
     "output_type": "stream",
     "text": [
      "1   2   3   4   5   \n",
      "6   7   8   9   10  \n",
      "11  12  13  14  15  \n",
      "16  17  18  19  20  \n"
     ]
    }
   ],
   "source": [
    "# заполнить матрицу элементами от 1 до n*m\n",
    "\n",
    "def print_matrix(matrix, n,m, width=3):\n",
    "    for r in range(n):\n",
    "        for c in range(m):\n",
    "            print(str(matrix[r][c]).ljust(width), end=' ')\n",
    "        print()\n",
    "\n",
    "matrix_size=input().split()\n",
    "n,m = int(matrix_size[0]),int(matrix_size[1])\n",
    "# заполним матрицу точками - создаем поле для вывода результата\n",
    "temp = [i for i in range(1,n*m+1)] \n",
    "matrix=[temp[x:x+m] for x in range(0,len(temp),m)] # разбиваем временный список на подсписки (их длина равна количеству столбцов)\n",
    "\n",
    "print_matrix(matrix, n,m, width=3)\n"
   ]
  },
  {
   "cell_type": "code",
   "execution_count": 388,
   "metadata": {},
   "outputs": [
    {
     "name": "stdout",
     "output_type": "stream",
     "text": [
      "[[1, 2], [3, 4], [5, 6], [7, 8], [9, 10]]\n",
      "[[1, 2, 3], [4, 5, 6], [7, 8, 9], [10]]\n",
      "[[1, 2, 3, 4], [5, 6, 7, 8], [9, 10]]\n",
      "[[1, 2, 3, 4, 5], [6, 7, 8, 9, 10]]\n"
     ]
    }
   ],
   "source": [
    "# разбить список на подписки заданной длины\n",
    "lst = [1, 2, 3, 4, 5, 6, 7, 8, 9, 10]\n",
    "chop_list = [2,3,4,5]\n",
    "for chop in chop_list:\n",
    "    out = [lst[x:chop+x] for x in range(0,len(lst),chop)]\n",
    "    print(out)"
   ]
  },
  {
   "cell_type": "code",
   "execution_count": 404,
   "metadata": {},
   "outputs": [
    {
     "name": "stdout",
     "output_type": "stream",
     "text": [
      "1   2   3   \n",
      "4   5   6   \n",
      "7   8   9   \n",
      "10  11  12  \n",
      "13  14  15  \n",
      "16  17  18  \n",
      "19  20  21  \n",
      "1   4   7   10  13  16  19  \n",
      "2   5   8   11  14  17  20  \n",
      "3   6   9   12  15  18  21  \n"
     ]
    }
   ],
   "source": [
    "# вывести матрицу размером n на m , заполненную от 1 до n*m так, чтобы столбцы поменялись местами со строками\n",
    "\n",
    "def print_matrix(matrix, n,m, width=3):\n",
    "    for r in range(n):\n",
    "        for c in range(m):\n",
    "            print(str(matrix[r][c]).ljust(width), end=' ')\n",
    "        print()\n",
    "\n",
    "# для разворота матрицы (поменять столбцы и строки местами)\n",
    "def matrix_turn(matrix,n,m):\n",
    "    matrix_turn= []\n",
    "    for i in range(n):\n",
    "        temp=[]\n",
    "        for j in range(m):\n",
    "            temp.append(matrix[j][i])\n",
    "        matrix_turn.append(temp)\n",
    "    return matrix_turn\n",
    "\n",
    "matrix_size=input().split()\n",
    "n,m = int(matrix_size[0]),int(matrix_size[1])\n",
    "# заполним матрицу элементами - создаем поле для вывода результата\n",
    "temp = [i for i in range(1,n*m+1)] \n",
    "matrix=[temp[x:x+n] for x in range(0,len(temp),n)] # разбиваем временный список на подсписки (их длина равна количеству столбцов)\n",
    "\n",
    "print_matrix(matrix, m,n, width=3)\n",
    "\n",
    "matrix_result=matrix_turn(matrix,n,m)\n",
    "print_matrix(matrix_result, n,m, width=3)"
   ]
  },
  {
   "cell_type": "code",
   "execution_count": 405,
   "metadata": {},
   "outputs": [
    {
     "name": "stdout",
     "output_type": "stream",
     "text": [
      "1   0   0   0   1   \n",
      "0   1   0   1   0   \n",
      "0   0   1   0   0   \n",
      "0   1   0   1   0   \n",
      "1   0   0   0   1   \n"
     ]
    }
   ],
   "source": [
    "# заполним квадратную матрицу элементами на выбор ^ кроме элементов главной и побочной диагонали\n",
    "\n",
    "def print_matrix(matrix, n, width=3):\n",
    "    for r in range(n):\n",
    "        for c in range(n):\n",
    "            print(str(matrix[r][c]).ljust(width), end=' ')\n",
    "        print()\n",
    "\n",
    "n = int(input())\n",
    "# заполним матрицу точками - создаем поле для вывода результата\n",
    "matrix = [[0]*n for _ in range(n)] \n",
    "\n",
    "# меняем элементы главной и побочной диагонали\n",
    "for i in range(n):\n",
    "    for j in range(n):\n",
    "        if j==n-i-1 or j==i: matrix[i][j]=1\n",
    "\n",
    "\n",
    "print_matrix(matrix, n, width=3)"
   ]
  },
  {
   "cell_type": "code",
   "execution_count": 408,
   "metadata": {},
   "outputs": [
    {
     "name": "stdout",
     "output_type": "stream",
     "text": [
      "1   1   1   1   1   1   \n",
      "0   1   1   1   1   0   \n",
      "0   0   1   1   0   0   \n",
      "0   0   1   1   0   0   \n",
      "0   1   1   1   1   0   \n",
      "1   1   1   1   1   1   \n"
     ]
    }
   ],
   "source": [
    "# заполним квадратную матрицу элементами на выбор ^ кроме элементов верхнего и нижнего квадранта (четверти)\n",
    "\n",
    "def print_matrix(matrix, n, width=3):\n",
    "    for r in range(n):\n",
    "        for c in range(n):\n",
    "            print(str(matrix[r][c]).ljust(width), end=' ')\n",
    "        print()\n",
    "\n",
    "n = int(input())\n",
    "# заполним матрицу точками - создаем поле для вывода результата\n",
    "matrix = [[0]*n for _ in range(n)] \n",
    "\n",
    "# меняем элементы главной и побочной диагонали\n",
    "for i in range(n):\n",
    "    for j in range(n):\n",
    "        if (i<=n-j-1 and i<=j) or (i>=n-j-1 and i>=j): matrix[i][j]=1\n",
    "\n",
    "\n",
    "print_matrix(matrix, n, width=3)"
   ]
  },
  {
   "cell_type": "code",
   "execution_count": 416,
   "metadata": {},
   "outputs": [
    {
     "name": "stdout",
     "output_type": "stream",
     "text": [
      "1   2   3   4   5   6   \n",
      "2   3   4   5   6   1   \n",
      "3   4   5   6   1   2   \n",
      "4   5   6   1   2   3   \n",
      "5   6   1   2   3   4   \n"
     ]
    }
   ],
   "source": [
    "# заполним матрицу последовательностью от 1 до m , число строк n, причем на каждой последующей строке первый элемент уходит в конец\n",
    "def print_matrix(matrix, n,m, width=3):\n",
    "    for r in range(n):\n",
    "        for c in range(m):\n",
    "            print(str(matrix[r][c]).ljust(width), end=' ')\n",
    "        print()\n",
    "\n",
    "matrix_size=input().split()\n",
    "n,m = int(matrix_size[0]),int(matrix_size[1])\n",
    "temp=[i for i in range(1,m+1)] \n",
    "matrix=[temp.copy()]\n",
    "for i in range(n):\n",
    "    \n",
    "    temp=temp[1:]+temp[:1]\n",
    "    matrix.append(temp)\n",
    "    \n",
    "\n",
    "print_matrix(matrix, n,m, width=3)"
   ]
  },
  {
   "cell_type": "code",
   "execution_count": 417,
   "metadata": {},
   "outputs": [
    {
     "name": "stdout",
     "output_type": "stream",
     "text": [
      "1   2   3   4   5   6   \n",
      "2   3   4   5   6   1   \n",
      "3   4   5   6   1   2   \n",
      "4   5   6   1   2   3   \n",
      "5   6   1   2   3   4   \n"
     ]
    }
   ],
   "source": [
    "# заполним матрицу последовательностью от 1 до m , число строк n, причем на каждой последующей строке первый элемент уходит в конец\n",
    "def print_matrix(matrix, n,m, width=3):\n",
    "    for r in range(n):\n",
    "        for c in range(m):\n",
    "            print(str(matrix[r][c]).ljust(width), end=' ')\n",
    "        print()\n",
    "\n",
    "matrix_size=input().split()\n",
    "n,m = int(matrix_size[0]),int(matrix_size[1])\n",
    "temp=[i for i in range(1,m+1)] \n",
    "matrix=[temp[i:]+temp[0:i] for i in range(n)]\n",
    "    \n",
    "\n",
    "print_matrix(matrix, n,m, width=3)"
   ]
  },
  {
   "cell_type": "code",
   "execution_count": 422,
   "metadata": {},
   "outputs": [
    {
     "name": "stdout",
     "output_type": "stream",
     "text": [
      "1   2   3   4   5   6   7   \n",
      "14  13  12  11  10  9   8   \n",
      "15  16  17  18  19  20  21  \n"
     ]
    }
   ],
   "source": [
    "# На вход программе подаются два натуральных числа nn и mm. Напишите программу, которая создает матрицу \n",
    "# размером n×m заполнив её \"змейкой\" \n",
    "\n",
    "def print_matrix(matrix, n,m, width=3):\n",
    "    for r in range(n):\n",
    "        for c in range(m):\n",
    "            print(str(matrix[r][c]).ljust(width), end=' ')\n",
    "        print()\n",
    "\n",
    "matrix_size=input().split()\n",
    "n,m = int(matrix_size[0]),int(matrix_size[1])\n",
    "temp=[i for i in range(1,n*m+1)] \n",
    "matrix=[temp[x:x+m] for x in range(0,len(temp),m)]\n",
    "matrix=[matrix[i] if i%2==0 else matrix[i][::-1] for i in range(n) ]\n",
    "    \n",
    "\n",
    "print_matrix(matrix, n,m, width=3)"
   ]
  },
  {
   "cell_type": "code",
   "execution_count": null,
   "metadata": {},
   "outputs": [],
   "source": [
    "for i in range(1,f):\n",
    "    elem=i\n",
    "    for j in range(2,3+1):\n",
    "        elem+=j"
   ]
  },
  {
   "cell_type": "code",
   "execution_count": 445,
   "metadata": {},
   "outputs": [
    {
     "name": "stdout",
     "output_type": "stream",
     "text": [
      "[1, 3, 6, 10, 15]\n",
      "[2, 5, 9, 14, 20]\n"
     ]
    }
   ],
   "source": [
    "elem=0\n",
    "spis=[]\n",
    "n=5\n",
    "for i in range(1,n+1):\n",
    "    elem+=i\n",
    "    spis.append(elem)\n",
    "\n",
    "spis2=[]\n",
    "i=0\n",
    "element=1\n",
    "\n",
    "for j in range(1,n+1):\n",
    "    element=spis[i]+j\n",
    "    spis2.append(element)\n",
    "    i+=1\n",
    "\n",
    "\n",
    "print(spis)\n",
    "print(spis2)"
   ]
  },
  {
   "cell_type": "code",
   "execution_count": 449,
   "metadata": {},
   "outputs": [
    {
     "name": "stdout",
     "output_type": "stream",
     "text": [
      "[1, 3, 6, 10, 15]\n",
      "[2, 5, 9, 14, 20]\n"
     ]
    }
   ],
   "source": [
    "elem=0\n",
    "spis=[]\n",
    "n=5\n",
    "for i in range(1,n+1):\n",
    "    elem+=i\n",
    "    spis.append(elem)\n",
    "\n",
    "spis2=[]\n",
    "j=1\n",
    "\n",
    "\n",
    "for i in range(0,n):\n",
    "    element=spis[i]+j\n",
    "    spis2.append(element)\n",
    "    while j<n+2:\n",
    "        j+=1\n",
    "        break\n",
    "\n",
    "\n",
    "print(spis)\n",
    "print(spis2)"
   ]
  },
  {
   "cell_type": "code",
   "execution_count": 460,
   "metadata": {},
   "outputs": [
    {
     "name": "stdout",
     "output_type": "stream",
     "text": [
      "[1, 2, 4, 7, 11, 16, 21, 26, 31, 36]\n"
     ]
    }
   ],
   "source": [
    "spis=[1]\n",
    "j=1\n",
    "n=5\n",
    "m=10\n",
    "count=0\n",
    "\n",
    "\n",
    "for i in range(0,m-1):\n",
    "    element=spis[i]+j\n",
    "    spis.append(element)\n",
    "    while j<n:\n",
    "        j+=1\n",
    "        if j==5: count+=1\n",
    "        break\n",
    "\n",
    "print(spis)"
   ]
  },
  {
   "cell_type": "code",
   "execution_count": 473,
   "metadata": {},
   "outputs": [
    {
     "name": "stdout",
     "output_type": "stream",
     "text": [
      "1   2   \n",
      "3   4   \n",
      "5   6   \n",
      "7   8   \n",
      "9   10  \n"
     ]
    }
   ],
   "source": [
    "def print_matrix(matrix, n,m, width=3):\n",
    "    for r in range(n):\n",
    "        for c in range(m):\n",
    "            print(str(matrix[r][c]).ljust(width), end=' ')\n",
    "        print()\n",
    "\n",
    "# создать прямоугольную  матрицу от n до m числами по порядку от 1 до n*m (ее мы будем менять)\n",
    "matrix_size=input().split()\n",
    "n,m = int(matrix_size[0]),int(matrix_size[1])\n",
    "temp=[i for i in range(1,n*m+1)] \n",
    "matrix=[temp[x:x+m] for x in range(0,len(temp),m)]\n",
    "\n",
    "matrix_itog=matrix.copy()\n",
    "\n",
    "# РЕШЕНИЕ!!! \n",
    "# 1) создал пустую матрицу nxm\n",
    "# 2) для каждого ее элемента пробежал по циклу строк-циклу столбцов\n",
    "# 3) каждому элементу присвоил новое значение исходя из утверждения, что сумма индексов элементов,\n",
    "#  лежащих на одной диагонали, одинаковая! а новое значение элемента просто увеличивается на единицу \n",
    "# (идет последовательно за первы вхождением равенства сумм индексов)\n",
    "\n",
    "nm=0 # это наш будущий элемент итоговой матрицы\n",
    "for q in range(n+m-1):\n",
    "    for i in range(n):\n",
    "        for j in range(m):\n",
    "            if i+j==q: \n",
    "                nm+=1 \n",
    "                matrix_itog[i][j]=nm\n",
    "                \n",
    "print_matrix(matrix_itog, n,m, width=3)"
   ]
  },
  {
   "cell_type": "code",
   "execution_count": 476,
   "metadata": {},
   "outputs": [
    {
     "name": "stdout",
     "output_type": "stream",
     "text": [
      "1   2   3   4   5   6   7   8   9   10  11  12  \n",
      "34  35  36  37  38  39  40  41  42  43  44  13  \n",
      "33  60  61  62  63  64  65  66  67  68  45  14  \n",
      "32  59  78  79  80  81  82  83  84  69  46  15  \n",
      "31  58  77  76  75  74  73  72  71  70  47  16  \n",
      "30  57  56  55  54  53  52  51  50  49  48  17  \n",
      "29  28  27  26  25  24  23  22  21  20  19  18  \n"
     ]
    }
   ],
   "source": [
    "# создать спиральную матрицу \n",
    "# https://stepik.org/lesson/416757/step/10?unit=406265\n",
    "\n",
    "# задаем функцию заполнения спиралью\n",
    "def spiralFill(m, n, a):\n",
    " \n",
    "    # задаем первое значение матрицы (с индексом [0][0])\n",
    "    val = 1\n",
    " \n",
    "    # k - starting row index\n",
    "    # m - ending row index\n",
    "    # l - starting column index\n",
    "    # n - ending column index\n",
    "    k, l = 0, 0\n",
    "    while (k < m and l < n): # для всех значений матрицы 'a'\n",
    " \n",
    "        # Print the first row from the remaining rows.\n",
    "        for i in range(l, n):\n",
    "            a[k][i] = val\n",
    "            val += 1\n",
    "        k += 1\n",
    " \n",
    "        # Print the last column from the remaining columns.\n",
    "        for i in range(k, m):\n",
    "            a[i][n - 1] = val\n",
    "            val += 1\n",
    "        n -= 1\n",
    " \n",
    "        # Print the last row from the remaining rows.\n",
    "        if (k < m):\n",
    "            for i in range(n - 1, l - 1, -1):\n",
    "                a[m - 1][i] = val\n",
    "                val += 1\n",
    "            m -= 1\n",
    " \n",
    "        # Print the first column from the remaining columns.\n",
    "        if (l < n):\n",
    "            for i in range(m - 1, k - 1, -1):\n",
    "                a[i][l] = val\n",
    "                val += 1\n",
    "            l += 1\n",
    "    \n",
    "    return a\n",
    "\n",
    "def print_matrix(matrix, n,m, width=3):\n",
    "    for r in range(n):\n",
    "        for c in range(m):\n",
    "            print(str(matrix[r][c]).ljust(width), end=' ')\n",
    "        print()\n",
    "\n",
    "# создать прямоугольную  матрицу от n до m числами по порядку от 1 до n*m (ее мы будем менять)\n",
    "matrix_size=input().split()\n",
    "m,n = int(matrix_size[0]),int(matrix_size[1])\n",
    "temp=[i for i in range(1,n*m+1)] \n",
    "matrix=[temp[x:x+n] for x in range(0,len(temp),n)]\n",
    "\n",
    "matrix= spiralFill(m, n, matrix)\n",
    "                \n",
    "print_matrix(matrix, m,n, width=3)"
   ]
  },
  {
   "cell_type": "code",
   "execution_count": 499,
   "metadata": {},
   "outputs": [
    {
     "name": "stdout",
     "output_type": "stream",
     "text": [
      "12  18  \n",
      "27  42  \n",
      "42  66  \n",
      "57  90  \n",
      "\n",
      "12  18  \n",
      "27  42  \n",
      "42  66  \n",
      "57  90  \n"
     ]
    }
   ],
   "source": [
    "# умножение матриц (альтернативный метод)\n",
    "# 1 способ\n",
    "def matmult(a,b):\n",
    "    zip_b = zip(*b)\n",
    "    zip_b = list(zip_b)\n",
    "    return [[sum(ele_a*ele_b for ele_a, ele_b in zip(row_a, col_b))\n",
    "             for col_b in zip_b] for row_a in a]\n",
    "\n",
    "def print_matrix(matrix, width):\n",
    "    n=len(matrix)\n",
    "    m=len(matrix[0])\n",
    "    for r in range(n):\n",
    "        for c in range(m):\n",
    "            print(str(matrix[r][c]).ljust(width), end=' ')\n",
    "        print()\n",
    "\n",
    "x = [[1,2,3],[4,5,6],[7,8,9],[10,11,12]]\n",
    "y = [[1,2],[1,2],[3,4]]\n",
    "\n",
    "# 2 способ\n",
    "import numpy as np \n",
    "result= np.matmul(x,y)\n",
    "\n",
    "\n",
    "print_matrix(matmult(x,y), 3)\n",
    "print()\n",
    "print_matrix(result, 3)"
   ]
  },
  {
   "cell_type": "code",
   "execution_count": 478,
   "metadata": {},
   "outputs": [
    {
     "name": "stdout",
     "output_type": "stream",
     "text": [
      "1   2   3   \n",
      "4   5   6   \n",
      "7   8   9   \n",
      "10  11  12  \n"
     ]
    }
   ],
   "source": [
    "# распечатать ЛЮБУЮ матрицу \n",
    "def print_matrix(matrix, width):\n",
    "    n=len(matrix)\n",
    "    m=len(matrix[0])\n",
    "    for r in range(n):\n",
    "        for c in range(m):\n",
    "            print(str(matrix[r][c]).ljust(width), end=' ')\n",
    "        print()\n",
    "\n",
    "x = [[1,2,3],[4,5,6],[7,8,9],[10,11,12]]\n",
    "\n",
    "print_matrix(x,3)"
   ]
  },
  {
   "cell_type": "code",
   "execution_count": 498,
   "metadata": {},
   "outputs": [
    {
     "name": "stdout",
     "output_type": "stream",
     "text": [
      "1   0   \n",
      "100 1   \n"
     ]
    }
   ],
   "source": [
    "# возвести матрицу в степень (умножить саму на себя )\n",
    "def print_matrix(matrix, width):\n",
    "    n=len(matrix)\n",
    "    m=len(matrix[0])\n",
    "    for r in range(n):\n",
    "        for c in range(m):\n",
    "            print(str(matrix[r][c]).ljust(width), end=' ')\n",
    "        print()\n",
    "\n",
    "\n",
    "import numpy as np \n",
    "def matrix_degree(matrix,degree):\n",
    "    matrix_copy=matrix.copy()\n",
    "    for i in range(degree-1):                   # повторяем операцию n-1 раз \n",
    "        result= np.matmul(matrix,matrix_copy)\n",
    "        matrix_copy=result\n",
    "    return result\n",
    "\n",
    "matrix=[[1,0],[4,1]]\n",
    "\n",
    "print_matrix(matrix_degree(matrix,25), 3)"
   ]
  },
  {
   "cell_type": "code",
   "execution_count": null,
   "metadata": {},
   "outputs": [],
   "source": [
    "# сложение матриц\n",
    "\n",
    "def print_matrix(matrix, width):\n",
    "    n=len(matrix)\n",
    "    m=len(matrix[0])\n",
    "    for r in range(n):\n",
    "        for c in range(m):\n",
    "            print(str(matrix[r][c]).ljust(width), end=' ')\n",
    "        print()\n",
    "\n",
    "def matrix_summ(matrix_1, matrix_2):\n",
    "    matrix=matrix_1.copy()\n",
    "    for i in range(len(matrix_1)):\n",
    "        for j in range(len(matrix_1[0])):\n",
    "            matrix[i][j]=matrix_1[i][j]+matrix_2[i][j]\n",
    "    return matrix\n",
    "\n",
    "# заполнение матрицы с клавиатуры (задаем размер), потом через пробел вводим элементы матрицы\n",
    "matrix_size=input().split()\n",
    "n,m = int(matrix_size[0]),int(matrix_size[1])\n",
    "matrix_1 = []\n",
    "for i in range(n):\n",
    "    temp=[int(i) for i in input().split()]\n",
    "    matrix_1.append(temp)\n",
    "\n",
    "a=input() # эта строка ТОЛЬКО для того, чтобы считать ебучий перенос строки до нового ввода данных\n",
    "\n",
    "matrix_2 = []\n",
    "for i in range(n):\n",
    "    temp=[int(i) for i in input().split()]\n",
    "    matrix_2.append(temp)\n",
    "\n",
    "print_matrix(matrix_summ(matrix_1,matrix_2),3)\n",
    "\n"
   ]
  },
  {
   "cell_type": "code",
   "execution_count": null,
   "metadata": {},
   "outputs": [],
   "source": [
    "def print_matrix(matrix, width):\n",
    "    n=len(matrix)\n",
    "    m=len(matrix[0])\n",
    "    for r in range(n):\n",
    "        for c in range(m):\n",
    "            print(str(matrix[r][c]).ljust(width), end=' ')\n",
    "        print()\n",
    "\n",
    "\n",
    "# заполнение матрицы с клавиатуры (задаем размер), потом через пробел вводим элементы матрицы\n",
    "matrix_size=input().split()\n",
    "n,m = int(matrix_size[0]),int(matrix_size[1])\n",
    "matrix_1 = []\n",
    "for i in range(n):\n",
    "    temp=[int(i) for i in input().split()]\n",
    "    matrix_1.append(temp)\n",
    "\n",
    "a=input() # эта строка ТОЛЬКО для того, чтобы считать ебучий перенос строки до нового ввода данных\n",
    "\n",
    "matrix_size=input().split()\n",
    "n,m = int(matrix_size[0]),int(matrix_size[1])\n",
    "matrix_2 = []\n",
    "for i in range(n):\n",
    "    temp=[int(i) for i in input().split()]\n",
    "    matrix_2.append(temp)\n",
    "\n",
    "import numpy as np \n",
    "result= np.matmul(matrix_1,matrix_2)\n",
    "\n",
    "print_matrix(result,3)"
   ]
  },
  {
   "cell_type": "code",
   "execution_count": null,
   "metadata": {},
   "outputs": [],
   "source": [
    "def print_matrix(matrix, width):\n",
    "    n=len(matrix)\n",
    "    m=len(matrix[0])\n",
    "    for r in range(n):\n",
    "        for c in range(m):\n",
    "            print(str(matrix[r][c]).ljust(width), end=' ')\n",
    "        print()\n",
    "\n",
    "import numpy as np \n",
    "def matrix_degree(matrix,degree):\n",
    "    matrix_copy=matrix.copy()\n",
    "    for i in range(degree-1):                   # повторяем операцию n-1 раз \n",
    "        result= np.matmul(matrix,matrix_copy)\n",
    "        matrix_copy=result\n",
    "    return result\n",
    "\n",
    "# заполнение матрицы с клавиатуры (задаем размер), потом через пробел вводим элементы матрицы\n",
    "n=int(input())\n",
    "matrix = []\n",
    "for i in range(n):\n",
    "    temp=[int(i) for i in input().split()]\n",
    "    matrix.append(temp)\n",
    "degree=int(input())\n",
    "\n",
    "print_matrix(matrix_degree(matrix,degree), 3)"
   ]
  },
  {
   "cell_type": "code",
   "execution_count": 507,
   "metadata": {},
   "outputs": [
    {
     "name": "stdout",
     "output_type": "stream",
     "text": [
      "timur\n",
      "beegeek.org\n",
      "m\n",
      "a\n",
      "t\n",
      "h\n",
      "[1, 2, 3] 4\n"
     ]
    }
   ],
   "source": [
    "info = ['timur', 'beegeek.org']\n",
    "user, domain = info    # распаковка списка\n",
    "\n",
    "print(user)\n",
    "print(domain)\n",
    "\n",
    "a, b, c, d = 'math'    # распаковка строки\n",
    "\n",
    "cortegh= 1,2,3,4\n",
    "*first,unpack, = 1,2,3,4       # распаковка кортежа\n",
    "\n",
    "print(a)\n",
    "print(b)\n",
    "print(c)\n",
    "print(d)\n",
    "print(first, unpack)"
   ]
  },
  {
   "cell_type": "code",
   "execution_count": 508,
   "metadata": {},
   "outputs": [
    {
     "name": "stdout",
     "output_type": "stream",
     "text": [
      "('abc', '-', 'de')\n",
      "('abc-de', '', '')\n",
      "('abc', '-', 'de-fgh')\n"
     ]
    }
   ],
   "source": [
    "# Помимо метода split() строковый тип данных содержит метод partition(). \n",
    "# Метод partition() принимает на вход один аргумент sep, разделяет строку при первом появлении sep и \n",
    "# возвращает кортеж, состоящий из трех элементов: часть перед разделителем, сам разделитель и \n",
    "# часть после разделителя. Если разделитель не найден, то кортеж содержит саму строку, за которой следуют две пустые строки.\n",
    "s1 = 'abc-de'.partition('-')\n",
    "s2 = 'abc-de'.partition('.')\n",
    "s3 = 'abc-de-fgh'.partition('-')\n",
    "\n",
    "print(s1)\n",
    "print(s2)\n",
    "print(s3)"
   ]
  },
  {
   "cell_type": "code",
   "execution_count": 511,
   "metadata": {},
   "outputs": [
    {
     "name": "stdout",
     "output_type": "stream",
     "text": [
      "[1, 1, 2, 3, 5, 8, 13, 21, 34, 55, 89, 144, 233, 377, 610]\n"
     ]
    }
   ],
   "source": [
    "# вычисление чисел Фибоначчи кортежами (ОЧЕНЬ коротко)\n",
    "\n",
    "n = int(input())\n",
    "f1, f2 = 1, 1\n",
    "spis=[]\n",
    "for i in range(n):\n",
    "    spis.append(f1) # необязательная строка, просто записываю каждый элемент последовательность для удобства вывода\n",
    "    f1, f2 = f2, f1 + f2\n",
    "print(spis)"
   ]
  },
  {
   "cell_type": "code",
   "execution_count": 516,
   "metadata": {},
   "outputs": [
    {
     "name": "stdout",
     "output_type": "stream",
     "text": [
      "{'a': 1, 'b': 2, 'c': 3, 'd': 4, 'e': 5, 'f': 6}\n"
     ]
    }
   ],
   "source": [
    "my_dict = {'a': 1, 'b': 2, 'c': 3, 'd': 4, 'e': 5, 'f': 6}\n",
    "\n",
    "print(my_dict)"
   ]
  },
  {
   "cell_type": "code",
   "execution_count": null,
   "metadata": {},
   "outputs": [],
   "source": [
    "# Зададим исходно список и словарь (скопировать перед примерами ниже):\n",
    "my_list = ['a', 'b', 'c', 'd', 'e', 'f']\n",
    "my_dict = {'a': 1, 'b': 2, 'c': 3, 'd': 4, 'e': 5, 'f': 6}"
   ]
  },
  {
   "cell_type": "code",
   "execution_count": 517,
   "metadata": {},
   "outputs": [
    {
     "name": "stdout",
     "output_type": "stream",
     "text": [
      "[1, 1, 1, 3, 5, 9, 17, 31]\n"
     ]
    }
   ],
   "source": [
    "# вычисление чисел ТРИбоначчи (:-D)) - последующее число является суммой ТРЕХ предыдущих\n",
    "\n",
    "n = int(input())\n",
    "f1, f2, f3 = 1, 1, 1\n",
    "spis=[]\n",
    "for i in range(n):\n",
    "    spis.append(f1) # необязательная строка, просто записываю каждый элемент последовательность для удобства вывода\n",
    "    f1, f2, f3 = f2, f3, f1 + f2 + f3\n",
    "print(spis)"
   ]
  },
  {
   "cell_type": "code",
   "execution_count": 522,
   "metadata": {},
   "outputs": [
    {
     "name": "stdout",
     "output_type": "stream",
     "text": [
      "<class 'range'>\n",
      "range(0, 7)\n"
     ]
    }
   ],
   "source": [
    "print(type(range(7)))\n",
    "\n",
    "tp= range(7)\n",
    "\n",
    "print(tp)"
   ]
  },
  {
   "cell_type": "code",
   "execution_count": 523,
   "metadata": {},
   "outputs": [
    {
     "name": "stdout",
     "output_type": "stream",
     "text": [
      "[2, 3, 4, 5, 6]\n"
     ]
    }
   ],
   "source": [
    "a, b, *c = range(7)\n",
    "\n",
    "print(c)"
   ]
  },
  {
   "cell_type": "code",
   "execution_count": 527,
   "metadata": {},
   "outputs": [
    {
     "name": "stdout",
     "output_type": "stream",
     "text": [
      "[['a', 'b', 'c', 'd', 'e', 'f', 'g', 'h', 'i', 'j', 'k', 'l', 'm', 'n']]\n"
     ]
    }
   ],
   "source": [
    "spis=input().split()\n",
    "n=int(input())\n",
    "\n",
    "result=[]\n",
    "for j in range(n):\n",
    "    temp=[]\n",
    "    for i in range(j,len(spis),n):\n",
    "        temp.append(spis[i])\n",
    "    result.append(temp)\n",
    "\n",
    "print(result)"
   ]
  },
  {
   "cell_type": "code",
   "execution_count": null,
   "metadata": {},
   "outputs": [],
   "source": [
    "n = int(input())\n",
    "matrix = []\n",
    "for i in range(n):\n",
    "    temp=[int(i) for i in input().split()]\n",
    "    matrix.append(temp)\n",
    "\n",
    "tmp=[]\n",
    "for i in range(n):\n",
    "    for j in range(n):\n",
    "        if i>=n-j-1: tmp.append(matrix[i][j])\n",
    "print(max(tmp))\n",
    "# print(max([i for j in  matrix for i in j ]))"
   ]
  },
  {
   "cell_type": "code",
   "execution_count": 534,
   "metadata": {},
   "outputs": [
    {
     "name": "stdout",
     "output_type": "stream",
     "text": [
      "*   .   .   .   *   .   .   .   *   \n",
      ".   *   .   .   *   .   .   *   .   \n",
      ".   .   *   .   *   .   *   .   .   \n",
      ".   .   .   *   *   *   .   .   .   \n",
      "*   *   *   *   *   *   *   *   *   \n",
      ".   .   .   *   *   *   .   .   .   \n",
      ".   .   *   .   *   .   *   .   .   \n",
      ".   *   .   .   *   .   .   *   .   \n",
      "*   .   .   .   *   .   .   .   *   \n"
     ]
    }
   ],
   "source": [
    "# снежинка\n",
    "\n",
    "def print_matrix(matrix, n, width=3):\n",
    "    for r in range(n):\n",
    "        for c in range(n):\n",
    "            print(str(matrix[r][c]).ljust(width), end=' ')\n",
    "        print()\n",
    "\n",
    "n = int(input())\n",
    "# заполним матрицу точками - создаем поле для вывода результата\n",
    "matrix = [['.']*n for _ in range(n)] \n",
    "\n",
    "# меняем элементы главной и побочной диагонали\n",
    "for i in range(n):\n",
    "    for j in range(n):\n",
    "        if i==n-j-1 or i==j or (i==(n)//2) or (j==(n)//2): matrix[i][j]='*'\n",
    "\n",
    "\n",
    "print_matrix(matrix, n, width=3)"
   ]
  },
  {
   "cell_type": "code",
   "execution_count": 536,
   "metadata": {},
   "outputs": [
    {
     "name": "stdout",
     "output_type": "stream",
     "text": [
      "YES\n"
     ]
    }
   ],
   "source": [
    "# проверить симметричность квадратной матрицы относительно побочной диагонали (элементы вводятся построчно с клавиатуры)\n",
    "\n",
    "def print_matrix(matrix, n, width=3):\n",
    "    for r in range(n):\n",
    "        for c in range(n):\n",
    "            print(str(matrix[r][c]).ljust(width), end=' ')\n",
    "        print()\n",
    "\n",
    "n= int(input())\n",
    "matrix = []\n",
    "for i in range(n):\n",
    "    temp=[int(i) for i in input().split()]\n",
    "    matrix.append(temp)\n",
    "\n",
    "count=0\n",
    "for i in range(n-1):\n",
    "    for j in range(n-i-1):\n",
    "        if matrix[i][j] == matrix[n-j-1][n-i-1]: count+=1\n",
    "\n",
    "print('YES' if count==(n**2-n)/2 else 'NO')"
   ]
  },
  {
   "cell_type": "code",
   "execution_count": null,
   "metadata": {},
   "outputs": [],
   "source": [
    "# латиниский квадрат\n",
    "\n",
    "n= int(input())\n",
    "matrix = []\n",
    "for i in range(n):\n",
    "    temp=[int(i) for i in input().split()]\n",
    "    matrix.append(temp)\n",
    "\n",
    "etalon=[i for i in range(1,n+1)]\n",
    "count=0\n",
    "for i in range(n):\n",
    "    temp_row=[]\n",
    "    temp_col=[]\n",
    "    for j in range(n):\n",
    "        temp_row.append(matrix[i][j])\n",
    "        temp_col.append(matrix[j][i])\n",
    "        if sorted(temp_row)==sorted(temp_col)==etalon: count+=1\n",
    "\n",
    "print('YES' if count==n else 'NO')"
   ]
  },
  {
   "cell_type": "code",
   "execution_count": 552,
   "metadata": {},
   "outputs": [
    {
     "name": "stdout",
     "output_type": "stream",
     "text": [
      ".   .   .   *   .   .   .   .   \n",
      ".   .   .   *   .   .   .   *   \n",
      "*   .   .   *   .   .   *   .   \n",
      ".   *   .   *   .   *   .   .   \n",
      ".   .   *   *   *   .   .   .   \n",
      "*   *   *   Q   *   *   *   *   \n",
      ".   .   *   *   *   .   .   .   \n",
      ".   *   .   *   .   *   .   .   \n"
     ]
    }
   ],
   "source": [
    "# ход ферзя \n",
    "\n",
    "def print_matrix(matrix, n, width=3):\n",
    "    for r in range(n):\n",
    "        for c in range(n):\n",
    "            print(str(matrix[r][c]).ljust(width), end=' ')\n",
    "        print()\n",
    "\n",
    "# заполним матрицу точками - создаем поле для вывода результата\n",
    "matrix = [['.']*8 for _ in range(8)] \n",
    "\n",
    "# создаем шахматную доску (координаты элементов) - см вспомогательный ранее\n",
    "chess_desk= []\n",
    "for i in range(8,0,-1):\n",
    "    temp=[]\n",
    "    for j in range(8):\n",
    "        elem=chr(ord('a')+j)+str(i)\n",
    "        temp.append(elem)\n",
    "    chess_desk.append(temp)\n",
    "\n",
    "qeen_move= matrix.copy()\n",
    "move=input() # задаем положение ферзя на доске\n",
    "for i in range(8):\n",
    "    for j in range(8):\n",
    "        if chess_desk[i][j]==move: a,b=i,j # находим индексы положения коня и запоминаем их в переменные a,b\n",
    "\n",
    "\n",
    "# ставим звездочки на клетки, в которые ферзь может сходить\n",
    "for i in range(8):\n",
    "    qeen_move[a][i]='*'\n",
    "    qeen_move[i][b]='*'\n",
    "for i in range(8):\n",
    "    for j in range(8):\n",
    "        if i+j==a+b or a-i==b-j: qeen_move[i][j] = '*'\n",
    "qeen_move[a][b] = 'Q'                                   # ставим ферзя на свое место\n",
    "\n",
    "print_matrix(qeen_move, 8, width=3)\n",
    "    "
   ]
  },
  {
   "cell_type": "code",
   "execution_count": null,
   "metadata": {},
   "outputs": [],
   "source": [
    "def print_matrix(matrix, n, width=3):\n",
    "    for r in range(n):\n",
    "        for c in range(n):\n",
    "            print(str(matrix[r][c]).ljust(width), end=' ')\n",
    "        print()\n",
    "\n",
    "n=int(input())\n",
    "# заполним матрицу нулями - создаем поле для вывода результата\n",
    "matrix = [['0']*n for _ in range(n)] \n",
    "\n",
    "for i in range(n):\n",
    "    for j in range(i+1,n):\n",
    "        "
   ]
  },
  {
   "cell_type": "code",
   "execution_count": 572,
   "metadata": {},
   "outputs": [
    {
     "name": "stdout",
     "output_type": "stream",
     "text": [
      "0   1   2   3   4   \n",
      "1   0   1   2   3   \n",
      "2   1   0   1   2   \n",
      "3   2   1   0   1   \n",
      "4   3   2   1   0   \n"
     ]
    }
   ],
   "source": [
    "def print_matrix(matrix, width):\n",
    "    n=len(matrix)\n",
    "    m=len(matrix[0])\n",
    "    for r in range(n):\n",
    "        for c in range(m):\n",
    "            print(str(matrix[r][c]).ljust(width), end=' ')\n",
    "        print()\n",
    "\n",
    "n=int(input())\n",
    "temp=[i for i in range(n)]\n",
    "matrix=[temp]\n",
    "for i in range(1,n):\n",
    "    tmp1=temp[:-i]\n",
    "    tmp2= temp[1:i+1]\n",
    "    tmp2.reverse()\n",
    "    tmp3=tmp2+tmp1\n",
    "    matrix.append(tmp3)\n",
    "\n",
    "\n",
    "\n",
    "print_matrix(matrix,3)"
   ]
  },
  {
   "cell_type": "code",
   "execution_count": 560,
   "metadata": {},
   "outputs": [
    {
     "name": "stdout",
     "output_type": "stream",
     "text": [
      "[1, 2, 3, 4]\n",
      "[3, 1, 2, 3]\n",
      "[4, 3, 1, 2]\n",
      "[5, 4, 3, 1]\n"
     ]
    }
   ],
   "source": [
    "tmp=[1,2,3,4,5]\n",
    "for i in range(1,len(tmp)): \n",
    "    itog=tmp[i:1:-1]+tmp[:-i]\n",
    "    print(itog)"
   ]
  },
  {
   "cell_type": "code",
   "execution_count": 561,
   "metadata": {},
   "outputs": [
    {
     "name": "stdout",
     "output_type": "stream",
     "text": [
      "[5, 4, 3, 2, 1]\n"
     ]
    }
   ],
   "source": [
    "tmp=[1,2,3,4,5]\n",
    "tmp.reverse()\n",
    "\n",
    "print(tmp)"
   ]
  },
  {
   "cell_type": "code",
   "execution_count": null,
   "metadata": {},
   "outputs": [],
   "source": [
    "# задачи на множества!! множество \n",
    "\n",
    "# задача на диаграмму Эйлера-Венна (ученики и их передвижения летом) Тимур и его команда\n",
    "# https://stepik.org/lesson/479457/step/14?unit=470432\n",
    "\n",
    "\n",
    "n,m,k,x,y,z = int(input()),int(input()),int(input()),int(input()),int(input()),int(input())\n",
    "print(n+m+k-x-y+z)\n"
   ]
  },
  {
   "cell_type": "code",
   "execution_count": null,
   "metadata": {},
   "outputs": [],
   "source": [
    "# книги на прочтение https://stepik.org/lesson/479457/step/15?unit=470432\n",
    "\n",
    "n,m,k,x,y,z,t,a = int(input()),int(input()),int(input()),int(input()),int(input()),int(input()),int(input()),int(input())\n",
    "\n",
    "print(2*(x+y+z)-3*(n+m+k)+3*t) # прочитали только одну книгу\n",
    "print(2*(n+m+k)-(x+y+z)-3*t) # прочитали две книги\n",
    "print(a-(x+y+z)+(n+m+k)-t) # не прочитали ни одной"
   ]
  },
  {
   "cell_type": "code",
   "execution_count": 575,
   "metadata": {},
   "outputs": [
    {
     "name": "stdout",
     "output_type": "stream",
     "text": [
      "['h', 'b', 'h', 'b', 'a', 'f', 'c', 'g', 'c', 'b', 'h', 'd', 'f', 'f', 'c', 'f', 'a', 'a', 'b', 'a', 'a', 'a', 'h', 'f', 'f', 'h', 'b', 'd', 'h', 'f', 'e', 'e', 'f', 'a', 'h', 'c', 'a', 'h', 'd', 'f']\n",
      "8\n",
      "5\n",
      "4\n",
      "3\n",
      "2\n",
      "9\n",
      "1\n",
      "8\n"
     ]
    }
   ],
   "source": [
    "# случайный рандомный random набор чисел из заданного промежутка-интервала\n",
    "from random import randint\n",
    "spis=([randint(1,8) for _ in range(40)]) # обрати внимание на диапазон рандома: он включителен для ОБЕИХ границ\n",
    "\n",
    "alph=[chr(ord('a')-1+i) for i in spis]\n",
    "\n",
    "print(alph)\n",
    "\n",
    "print(alph.count('a'))\n",
    "print(alph.count('b'))\n",
    "print(alph.count('c'))\n",
    "print(alph.count('d'))\n",
    "print(alph.count('e'))\n",
    "print(alph.count('f'))\n",
    "print(alph.count('g'))\n",
    "print(alph.count('h'))"
   ]
  },
  {
   "cell_type": "code",
   "execution_count": 613,
   "metadata": {},
   "outputs": [],
   "source": [
    "# немного теории на множества (для запоминания) \n",
    "# Важно знать:\n",
    "# все элементы множества различны (уникальны), два элемента не могут иметь одинаковое значение\n",
    "# множества неупорядочены, то есть элементы не хранятся в каком-то определенном порядке\n",
    "# элементы множества должны относиться к неизменяемым типам данных\n",
    "# хранящиеся в множестве элементы могут иметь разные типы данных. \n",
    " \n",
    "\n",
    "# Элементы множества могут принадлежать любому неизменяемому типу данных, быть числами, строками, кортежами. \n",
    "# Элементы изменяемых типов данных не могут входить в множества, в частности, \n",
    "# нельзя сделать элементом множества список или другое множество. \n",
    "# Требование неизменяемости элементов множества накладывается особенностями представления множеств в Python.\n",
    "\n",
    "# Примечание 1. Индексация и срезы недоступны для множеств.\n",
    "\n",
    "# Примечание 2. Операция конкатенации + и умножения на число * недоступны для множеств.\n",
    "\n",
    "# так же работают: \n",
    "# - перебор элементов циклов for : без индексов (for num in numbers)\n",
    "# - распаковка множества с оператором * (*numbers - распаковка)\n",
    "\n",
    "# Множества можно сравнивать между собой. Равные множества имеют одинаковую длину и содержат равные элементы. \n",
    "# Для сравнения множеств используются операторы == и !=.\n",
    "\n",
    "# Для добавления нового элемента в множество используется метод add().\n",
    "\n",
    "# Для удаления элементов из множества используются методы: \n",
    "# remove() - создаст ошибку, если нет такого элемента;\n",
    "#  discard() - не создаст ошибку, если такого элемента нет во множестве;\n",
    "#  pop() - рандомное удаление в одну итерацию (потому что нет индексов элементов)\n",
    "# clear() - очистит нахрен все множество и выведет set()\n",
    "\n",
    "# Примечание 1. Если мы не изменяли множество, порядок обхода элементов при помощи цикла for не изменится.\n",
    "\n",
    "# Примечание 2. После изменения множества (методы add(), remove(), и т.д.) порядок элементов может измениться произвольным образом. \n",
    " \n",
    "# Методы union(), intersection(), difference(), symmetric_difference() не изменяют исходные множества, а возвращают новые. \n",
    "# Часто на практике нужно изменять исходные множества. Для таких целей используются парные методы:\n",
    "# update() или '|=' : объединяет А и В множества, записывая результат объединения во множество А: A.update(B)\n",
    "# intersection_update() или '&=', : пересечение А и В множеств, в итоге перезаписывается мн-во А\n",
    "# difference_update() или '-=', аналогично методам выше \n",
    "# symmetric_difference_update() или '^=' , аналогично методам выше.\n",
    "\n",
    "# почему методы выгоднее операторов? потому что множество А можно пересекать \n",
    "# не только с множеством, но и с кортежем, списком, строкой - записывая их в качестве аргумента в метод\n",
    "\n",
    "#  методы (union(), intersection(), difference()) и операторы (|, &, -, ^) \n",
    "# позволяют совершать операции над несколькими множествами сразу. Порядок чтения - слева направо\n",
    "# ПРИ ЭТОМ! оператор ^ позволит сделать симметричную матрицу к НЕСКОЛЬКИМ множествам сразу, а метод symmetric_difference() нет.\n",
    "\n",
    "# приоритет операторов по убыванию: разность(-), пересечение(&), симм. разность(^), объединение |)\n",
    "\n",
    "# определение подмножества - метод issubset() или '<=' (строгое/нестрогое подмножество) - возвращает булево знач\n",
    "# определение надмножества - метод issuperset() или '>=' (строгое/нестрогое надмножество) - возвращ булево знач\n",
    "# определение ОТСУТСТВИЯ общих элементов - метод isdisjoint()\n",
    "\n",
    "# Примечание: Методы issuperset(), issubset(), isdisjoint() могут принимать в качестве аргумента не только множество \n",
    "# (тип данных set), но и любой итерируемый объект (список, строку, кортеж), а Операторы >, <, >=, <= требуют наличия \n",
    "# в качестве операндов множеств.\n",
    "\n",
    "# самый удобный способ заполнить множество с клавиатуры digits = {int(c) for c in input()}\n",
    "\n",
    "# Кортеж (тип tuple) – неизменяемая версия списка (тип list), \n",
    "# а замороженное множество (тип frozenset) – неизменяемая версия обычного множества (тип set). \n",
    "# Примечание 1. Будучи изменяемыми, обычные множества не могут быть элементами других множеств. \n",
    "# Замороженные множества являются неизменяемыми, а значит могут быть элементами других множеств. \n",
    "# у замороженных множеств отсутствуют: add(), remove(), discard(), pop(), clear(), update(), intersection_update(), \n",
    "# difference_update(), symmetric_difference_update() \n",
    "# Зато их можно сравнивать (замороженные с обычными)"
   ]
  },
  {
   "cell_type": "code",
   "execution_count": 3,
   "metadata": {},
   "outputs": [
    {
     "data": {
      "text/plain": [
       "2"
      ]
     },
     "execution_count": 3,
     "metadata": {},
     "output_type": "execute_result"
    }
   ],
   "source": [
    "len({1,2,3,4}&{2,3,6,7})"
   ]
  },
  {
   "cell_type": "code",
   "execution_count": 8,
   "metadata": {},
   "outputs": [
    {
     "name": "stdout",
     "output_type": "stream",
     "text": [
      "6\n"
     ]
    }
   ],
   "source": [
    "a = {1,2,3}\n",
    "b= (2,2,2,3,3,4,5,3,4,9)\n",
    "res = a.intersection(b)\n",
    "from collections import Counter\n",
    "preres = Counter(b)\n",
    "\n",
    "container = []\n",
    "for elem in tuple(res):\n",
    "    container.append(preres[elem])\n",
    "\n",
    "print(sum(container))"
   ]
  },
  {
   "cell_type": "code",
   "execution_count": 9,
   "metadata": {},
   "outputs": [
    {
     "data": {
      "text/plain": [
       "{'1', '2', '3', '4', '5', '6'}"
      ]
     },
     "execution_count": 9,
     "metadata": {},
     "output_type": "execute_result"
    }
   ],
   "source": [
    "set(input())"
   ]
  },
  {
   "cell_type": "code",
   "execution_count": 578,
   "metadata": {},
   "outputs": [
    {
     "name": "stdout",
     "output_type": "stream",
     "text": [
      "{2, 4, 6, 8, 10, 12, 14, 16, 18, 20}\n",
      "11\n",
      "11.0\n"
     ]
    }
   ],
   "source": [
    "numbers = {20, 6, 8, 18, 18, 2, 4, 6, 8, 10, 12, 14, 16, 18, 20, 12, 8, 8, 10, 4, 2, 2, 2, 16, 20}\n",
    "from statistics import mean\n",
    "num=numbers\n",
    "average = mean(num)\n",
    "\n",
    "print(num)\n",
    "print(average)\n",
    "print(sum(numbers)/len(numbers))\n",
    "\n"
   ]
  },
  {
   "cell_type": "code",
   "execution_count": 579,
   "metadata": {},
   "outputs": [
    {
     "name": "stdout",
     "output_type": "stream",
     "text": [
      "pineapple\n",
      "grapefruit\n",
      "cherry\n",
      "banana\n",
      "avocado\n",
      "apricot\n",
      "apple\n"
     ]
    }
   ],
   "source": [
    "# вывод элементов множества в порядке убывания , каждый элемент на новой строке\n",
    "\n",
    "fruits = {'apple', 'banana', 'cherry', 'avocado', 'pineapple', 'apricot', 'banana', 'avocado', 'grapefruit'}\n",
    "\n",
    "print(*sorted(fruits, reverse= True), sep='\\n')\n",
    "# распаковываем отсортированный по возрастанию список с параметром реверса= True "
   ]
  },
  {
   "cell_type": "code",
   "execution_count": null,
   "metadata": {},
   "outputs": [],
   "source": [
    "n = int(input())\n",
    "l=input().lower()\n",
    "for i in range(n-1):\n",
    "    l+=input().lower()\n",
    "print(len(set(l)))\n"
   ]
  },
  {
   "cell_type": "code",
   "execution_count": 609,
   "metadata": {},
   "outputs": [
    {
     "name": "stdout",
     "output_type": "stream",
     "text": [
      "['milk', 'is', 'white', 'and', 'so', 'is', 'glue,', 'ghosts', 'are', 'white', 'and', 'they', 'say', 'boo!']\n",
      "11\n"
     ]
    }
   ],
   "source": [
    "# посчитать количество разных слов в строке, знаки препинания не учитывать\n",
    "\n",
    "spis=input().lower().split()\n",
    "temp=[list(i) for i in spis]\n",
    "\n",
    "for i in temp:\n",
    "    for j in i:\n",
    "        if j in ['.',',',';', ':', '-', '?', '!']: i.remove(j) # удалить все знаки препинания из строки\n",
    "\n",
    "result=[''.join(i) for i in temp]\n",
    "\n",
    "print(spis)\n",
    "print(len(set(result)))"
   ]
  },
  {
   "cell_type": "code",
   "execution_count": null,
   "metadata": {},
   "outputs": [],
   "source": [
    "# еще одно решение задачи выше \n",
    "\n",
    "words = [word.lower().strip('.,;:-?!') for word in input().split()]\n",
    "\n",
    "print(len(set(words)))"
   ]
  },
  {
   "cell_type": "code",
   "execution_count": 611,
   "metadata": {},
   "outputs": [
    {
     "name": "stdout",
     "output_type": "stream",
     "text": [
      "Milk is white and so is glue Ghosts are white and they say BOO\n"
     ]
    }
   ],
   "source": [
    "# функция удаления удалить убрать все знаки препинания запятую запятые\n",
    "\n",
    "def remove_symbols(string):\n",
    "    spis=string.split()\n",
    "    temp=[list(i) for i in spis]\n",
    "    for i in temp:\n",
    "        for j in i:\n",
    "            if j in ['.',',',';', ':', '-', '?', '!']: i.remove(j) \n",
    "    result=[''.join(i) for i in temp]\n",
    "    return ' '.join(result)\n",
    "\n",
    "\n",
    "print(remove_symbols(input()))\n"
   ]
  },
  {
   "cell_type": "code",
   "execution_count": 612,
   "metadata": {},
   "outputs": [
    {
     "name": "stdout",
     "output_type": "stream",
     "text": [
      "milk is white and so is glue ghosts are white and they say boo\n"
     ]
    }
   ],
   "source": [
    "# убрать все знаки препинания из строки, запятые, двоеточия, \n",
    "\n",
    "words = [word.lower().strip('.,;:-?!') for word in input().split()]\n",
    "\n",
    "print(' '.join(words))"
   ]
  },
  {
   "cell_type": "code",
   "execution_count": null,
   "metadata": {},
   "outputs": [],
   "source": [
    "# Встречалось ли число раньше? \n",
    "# На вход программе подается строка текста, содержащая числа. \n",
    "# Для каждого числа выведите слово YES (в отдельной строке), если это число ранее встречалось \n",
    "# в последовательности или NO, если не встречалось. \n",
    "# Ведущие нули в числах должны игнорироваться.\n",
    "\n",
    "numbers = [number.lstrip('0') for number in input().split()] # удаляем все нули перед числом\n",
    "mnvo=set()\n",
    "\n",
    "for i in numbers:\n",
    "    if  i in mnvo:\n",
    "        print('YES')\n",
    "        \n",
    "    else:\n",
    "        print('NO')\n",
    "        mnvo.add(i)\n",
    "\n",
    "\n"
   ]
  },
  {
   "cell_type": "code",
   "execution_count": 615,
   "metadata": {},
   "outputs": [
    {
     "name": "stdout",
     "output_type": "stream",
     "text": [
      "['1', '10', '2', '3', '4', '5', '6', '7', '8', '9']\n"
     ]
    }
   ],
   "source": [
    "# вывести все элементы, которые встречаются в двух множествах, в порядке возрастания\n",
    "\n",
    "a,b= set(input().split()), set(input().split())\n",
    "\n",
    "print(*sorted([int(i) for i in sorted(a&b)]))"
   ]
  },
  {
   "cell_type": "code",
   "execution_count": 616,
   "metadata": {},
   "outputs": [
    {
     "name": "stdout",
     "output_type": "stream",
     "text": [
      "1 2 3 4 5 6 7 8 9 10\n"
     ]
    }
   ],
   "source": [
    "# вывести все элементы, которые встречаются в двух множествах, в порядке возрастания\n",
    "\n",
    "a,b= set(input().split()), set(input().split())\n",
    "\n",
    "print(*sorted([int(i) for i in list(a&b)]))"
   ]
  },
  {
   "cell_type": "code",
   "execution_count": null,
   "metadata": {},
   "outputs": [],
   "source": [
    "# На вход программе подаются две строки текста, содержащие числа. Напишите программу, которая выводит все числа \n",
    "# в порядке возрастания, которые есть в первой строке, но отсутствуют во второй\n",
    "\n",
    "a,b= set(input().split()), set(input().split())\n",
    "\n",
    "print(*sorted([int(i) for i in list(a-b)]))"
   ]
  },
  {
   "cell_type": "code",
   "execution_count": 1,
   "metadata": {},
   "outputs": [
    {
     "name": "stdout",
     "output_type": "stream",
     "text": [
      "2 3\n"
     ]
    }
   ],
   "source": [
    "# На вход программе подается натуральное число n, а затем n различных натуральных чисел, \n",
    "# каждое на отдельной строке. Напишите программу, которая выводит все общие цифры в порядке возрастания у всех введенных чисел.\n",
    "\n",
    "n= int(input())\n",
    "spis=[set(list(input())) for _ in range(n)]\n",
    "elem=spis[0]\n",
    "i=0\n",
    "while i<n:\n",
    "    elem&=spis[i]\n",
    "    i+=1\n",
    "print(*sorted(elem))"
   ]
  },
  {
   "cell_type": "code",
   "execution_count": null,
   "metadata": {},
   "outputs": [],
   "source": [
    "# проверим есть ли общие цифры у двух чисел\n",
    "\n",
    "a,b=set(input()), input()\n",
    "\n",
    "print('YES' if not a.isdisjoint(b) else 'NO')"
   ]
  },
  {
   "cell_type": "code",
   "execution_count": 2,
   "metadata": {},
   "outputs": [
    {
     "name": "stdout",
     "output_type": "stream",
     "text": [
      "YES\n"
     ]
    }
   ],
   "source": [
    "# проверим содержатся ли все цифры первого числа во втором\n",
    "\n",
    "a,b=set(input()), input()\n",
    "\n",
    "print('YES' if a.issuperset(b) else 'NO')\n"
   ]
  },
  {
   "cell_type": "code",
   "execution_count": null,
   "metadata": {},
   "outputs": [],
   "source": [
    "# Даны по 10-балльной шкале оценки по информатике трех учеников. \n",
    "# Вывести множество оценок, которые есть и у первого и у второго учеников, но которых нет у третьего ученика.\n",
    "\n",
    "a,b,c =set(input().split()),set(input().split()),set(input().split())\n",
    "\n",
    "print(*sorted([int(i) for i in list((a&b)-c)], reverse= True)) # в порядке убывания"
   ]
  },
  {
   "cell_type": "code",
   "execution_count": null,
   "metadata": {},
   "outputs": [],
   "source": [
    "# Даны по 10-балльной шкале оценки по информатике трех учеников. \n",
    "# Вывести множество оценок, имеющихся у учеников, которые встречаются не более, чем у двух из указанных учеников.\n",
    "\n",
    "a,b,c =set(input().split()),set(input().split()),set(input().split())\n",
    "\n",
    "print(*sorted([int(i) for i in list((a|b|c)-(a&b&c))]))"
   ]
  },
  {
   "cell_type": "code",
   "execution_count": null,
   "metadata": {},
   "outputs": [],
   "source": [
    "# Даны по 10-балльной шкале оценки по информатике трех учеников. \n",
    "# Вывести множество оценоктретьего ученика, которые не встречаются ни у первого, ни у второго ученика.\n",
    "\n",
    "a,b,c =set(input().split()),set(input().split()),set(input().split())\n",
    "\n",
    "print(*sorted([int(i) for i in list(c-(a|b))], reverse= True))"
   ]
  },
  {
   "cell_type": "code",
   "execution_count": null,
   "metadata": {},
   "outputs": [],
   "source": [
    "# Даны по 10-балльной шкале оценки по информатике трех учеников. \n",
    "# Вывести множество, не встречающихся ни у одного из трех учеников.\n",
    "\n",
    "a,b,c =set(input().split()),set(input().split()),set(input().split())\n",
    "all_m=set([str(i) for i in range(11)])                  # здесь все возможные оценки\n",
    "\n",
    "print(*sorted([int(i) for i in list(all_m-(a|b|c))] ))"
   ]
  },
  {
   "cell_type": "code",
   "execution_count": 3,
   "metadata": {},
   "outputs": [
    {
     "name": "stdout",
     "output_type": "stream",
     "text": [
      "a c g l o p t w\n"
     ]
    }
   ],
   "source": [
    "# пример вывода первой буквы каждого слова в нижнем регистре и в алфавитном порядке\n",
    "\n",
    "words = ['Plum', 'Grapefruit', 'apple', 'orange', 'pomegranate', 'Cranberry', 'lime', 'Lemon', 'grapes', 'persimmon', 'tangerine', 'Watermelon', 'currant', 'Almond']\n",
    "\n",
    "print(*sorted({i[0].lower() for i in words}))   # создание множества через фигурные скобки"
   ]
  },
  {
   "cell_type": "code",
   "execution_count": 7,
   "metadata": {},
   "outputs": [
    {
     "name": "stdout",
     "output_type": "stream",
     "text": [
      "a about accident all am and at bloom bottom by can darkest day dells died dusk entered for freak furry golden had hedge her hill hollows i if in infancy know lightning memory midges mother my nothing observation of or over past photogenic picnic pocket rambler redolent remnants save set some stand still style subsists suddenly summer sun surely suspended the those three traversed under very warmth was when which with within writing you\n"
     ]
    }
   ],
   "source": [
    "# выкинуть все лишнее из строки (знаки препинания, скобки) и взять ТОЛЬКО уникальные слова в алфавитном порядке\n",
    "\n",
    "sentence = '''My very photogenic mother died in a freak accident (picnic, lightning) when I was three, and, save for a pocket of warmth in the darkest past, nothing of her subsists within the hollows and dells of memory, over which, if you can still stand my style (I am writing under observation), the sun of my infancy had set: surely, you all know those redolent remnants of day suspended, with the midges, about some hedge in bloom or suddenly entered and traversed by the rambler, at the bottom of a hill, in the summer dusk; a furry warmth, golden midges.'''\n",
    "\n",
    "print(*sorted({i.lower().strip(\"'.,;:-?!()\") for i in sentence.split()}))"
   ]
  },
  {
   "cell_type": "code",
   "execution_count": 8,
   "metadata": {},
   "outputs": [
    {
     "name": "stdout",
     "output_type": "stream",
     "text": [
      "frozenset({'d', 'n'})\n",
      "frozenset({'n'})\n",
      "frozenset({'d', 's', 'k', 'c'})\n",
      "frozenset({'w', 't'})\n",
      "frozenset({'c', 't'})\n",
      "frozenset({'n', 'g', 'h', 't'})\n",
      "frozenset({'h', 't'})\n",
      "frozenset({'d', 'h'})\n"
     ]
    }
   ],
   "source": [
    "# пример вывода ЗАМОРОЖЕННЫХ множеств внутри множества (обычные множества не могут находиться внутри множества)\n",
    "\n",
    "sentence = 'The cat in the hat had two sidekicks, thing one and thing two.'\n",
    "\n",
    "words = sentence.lower().replace('.', '').replace(',', '').split()\n",
    "\n",
    "vowels = ['a', 'e', 'i', 'o', 'u']\n",
    "\n",
    "consonants = {frozenset({letter for letter in word if letter not in vowels}) for word in words}\n",
    "\n",
    "print(*consonants, sep='\\n')"
   ]
  },
  {
   "cell_type": "code",
   "execution_count": null,
   "metadata": {},
   "outputs": [],
   "source": [
    "# Руководителю онлайн-школы BEEGEEK захотелось узнать, кто из его учеников присутствовал на всех уроках с начала учебного года. \n",
    "# Для каждого урока есть листок со списком присутствовавших учеников.\n",
    "# Напишите программу, определяющую фамилии учеников, которые присутствовали на всех уроках.\n",
    "\n",
    "# На вход программе в первой строке дается число m – количество уроков, проведенных с начала учебного года. \n",
    "# Далее идёт m блоков строк, описывающих листки с фамилиями. На первой строке каждого блока указано количество фамилий 'n'\n",
    "# затем идёт 'n' строчек с фамилиями тех, кто был на данном уроке.\n",
    "\n",
    "# нужно вывести фамилии учеников, которые были на всех уроках\n",
    "\n",
    "m=int(input())\n",
    "surnames=[[input() for _ in range(int(input()))] for _ in range(m)] # собираем в список списки фамилий(элементов), \n",
    "# которые вводятся заданное число раз с клавиатуры - ради этого синтаксиса понимания списков \n",
    "\n",
    "result_set=set(surnames[0]) # а дальше классика: каждый элемент в списке превращаем во множество и пересекаем их с последующим\n",
    "i=1\n",
    "while i<len(surnames):\n",
    "    result_set&=set(surnames[i])\n",
    "    i+=1\n",
    "print(*sorted(result_set), sep='\\n')  # резульатом этих пересечений будет итоговое множество, в котором содержатся только те элементы, которые есть в КАЖДОМ подсписке из всего списка фамилий"
   ]
  },
  {
   "cell_type": "code",
   "execution_count": null,
   "metadata": {},
   "outputs": [],
   "source": [
    "# СЛОВАРИ\n",
    "\n",
    "# Словарь — реализация структуры данных \"ассоциативный массив\" или \"хеш таблица\" \n",
    "# Словарь (тип данных dict), как и список, позволяет хранить много данных. \n",
    "# В отличие от списка, в словаре для каждого элемента можно произвольно определить «индекс» — ключ, по которому он будет доступен. \n",
    "\n",
    "# Чтобы создать словарь, нужно перечислить его элементы, пары ключ—значение, через запятую в фигурных скобках, \n",
    "# как и элементы множества. Первым указывается ключ, после двоеточия — значение, доступное в словаре по этому ключу.\n",
    "\n",
    "# Примечание 2. В рамках одного словаря каждый ключ уникален. \n",
    "# Примечание: ключи должны быть уникальны и неизменяемы (строка, булево значение, число, кортеж, замороженное множество) \n",
    "# Примечание: значения словаря могут быть любого типа\n",
    "\n",
    "# оператор in проверяет наличие КЛЮЧА в словаре (а не значения)\n",
    "# Оператор принадлежности in на словарях работает очень быстро, намного быстрее, чем на списках, \n",
    "# поэтому если нужен многократный поиск в коллекции данных, словарь – подходящий выбор.\n",
    "\n",
    "# функции sum, min, max работают исключительно с КЛЮЧАМИ словаря\n",
    "\n",
    "# сравнивая словари, стоит помнить, что они равны только в случае одинак кол-ва пар ключ-значение и равенстве этих пар, \n",
    "# а вот расположение внутри словаря неважно \n",
    "\n",
    "# Примечание 1. Обращение по индексу и срезы недоступны для словарей.\n",
    "# Примечание 2. Операция конкатенации + и умножения на число * недоступны для словарей.\n",
    "\n",
    "# Примечание 3. Словари нужно использовать в следующих случаях:\n",
    "# - Подсчет числа каких-то объектов. В этом случае нужно завести словарь, в котором ключи — названия объектов, а значения — их количество.\n",
    "# - Хранение каких-либо данных, связанных с объектом. Ключи — наименования объектов, значения — связанные с ними данные. Например, если нужно по названию месяца определить его порядковый номер, то это можно сделать при помощи словаря num = {'January': 1, 'February': 2, 'March': 3, ...}.\n",
    "# - Установка соответствия между объектами (например, “родитель—потомок”). Ключ — объект, значение — соответствующий ему объект.\n",
    "# - Если нужен обычный список, где максимальное значение индекса элемента очень велико, но при этом используются не все возможные индексы \n",
    "# (так называемый “разреженный список”), то для экономии памяти можно использовать словарь.\n",
    "\n",
    "# Методы keys(), values(), items() возвращают все ключи, значения и кортежи пар 'ключ-значение' соответственно\n",
    "\n",
    "# Словарные методы items(), keys(), values() возвращают не совсем обычные списки. \n",
    "# Типы этих списков -  dict_items, dict_keys, dict_values соответственно, в отличие от обычных списков - list. \n",
    "# Методы обычных списков недоступны для списков типа dict_items, dict_keys, dict_values. \n",
    "# Используйте явное преобразование с помощью функции list() для получения доступа к методам списков."
   ]
  },
  {
   "cell_type": "code",
   "execution_count": 10,
   "metadata": {},
   "outputs": [
    {
     "name": "stdout",
     "output_type": "stream",
     "text": [
      "Создателем языка C# является Андерс Хейлсберг\n",
      "Создателем языка C# является Андерс Хейлсберг\n"
     ]
    }
   ],
   "source": [
    "# Обращение к элементу словаря\n",
    "# Извлечь значение элемента словаря можно обратившись к нему по его ключу. \n",
    "# Чтобы получить значение по заданному ключу, как и в списках, используем квадратные скобки [] , индексируем по ключу.\n",
    "\n",
    "\n",
    "languages = {'Python': 'Гвидо ван Россум', \n",
    "             'C#': 'Андерс Хейлсберг', \n",
    "             'Java': 'Джеймс Гослинг', \n",
    "             'C++': 'Бьёрн Страуструп'}\n",
    "\n",
    "print('Создателем языка C# является', languages['C#'])\n",
    "\n",
    "# В качестве ключа можно указать выражение, Python вычислит его значение, и обратится к искомому элементу\n",
    "print('Создателем языка C# является', languages['C' + '#'])"
   ]
  },
  {
   "cell_type": "code",
   "execution_count": 11,
   "metadata": {},
   "outputs": [
    {
     "name": "stdout",
     "output_type": "stream",
     "text": [
      "{'name': 'Timur', 'age': 28, 'job': 'Teacher'}\n"
     ]
    }
   ],
   "source": [
    "# Создание словаря с помощью функции dict()\n",
    "# Если ключи словаря — строки, без каких-либо специальных символов, то для создания словаря можно использовать функцию dict() .\n",
    "\n",
    "\n",
    "info = dict(name = 'Timur', age = 28, job = 'Teacher')\n",
    "print(info)"
   ]
  },
  {
   "cell_type": "code",
   "execution_count": 14,
   "metadata": {},
   "outputs": [
    {
     "name": "stdout",
     "output_type": "stream",
     "text": [
      "{'name': 'Timur', 'age': 28, 'job': 'Teacher'}\n",
      "{'name': 'Missed information', 'age': 'Missed information', 'job': 'Missed information'}\n"
     ]
    }
   ],
   "source": [
    "# создать словарь на основе списков или кортежей\n",
    "\n",
    "info_list = [('name', 'Timur'), ('age', 28), ('job', 'Teacher')]  # список кортежей\n",
    "\n",
    "info_dict = dict(info_list)  # создаем словарь на основе списка кортежей (на основе списков АНАЛОГИЧНО)\n",
    "\n",
    "print(info_dict)\n",
    "\n",
    "# если есть несколько ключей, а значение к ним одинаковое:\n",
    "dict1 = dict.fromkeys(['name', 'age', 'job'], 'Missed information')\n",
    "print(dict1)"
   ]
  },
  {
   "cell_type": "code",
   "execution_count": 15,
   "metadata": {},
   "outputs": [
    {
     "name": "stdout",
     "output_type": "stream",
     "text": [
      "{'name': 'Timur', 'age': 28, 'job': 'Teacher'}\n"
     ]
    }
   ],
   "source": [
    "# упаковка списков при помощи zip() \n",
    "# В случае несовпадения длины списков, функция самостоятельно отсечет лишние элементы.\n",
    "\n",
    "keys = ['name', 'age', 'job']\n",
    "values = ['Timur', 28, 'Teacher']\n",
    "\n",
    "info = dict(zip(keys, values))\n",
    "\n",
    "print(info)"
   ]
  },
  {
   "cell_type": "code",
   "execution_count": 49,
   "metadata": {},
   "outputs": [
    {
     "name": "stdout",
     "output_type": "stream",
     "text": [
      "dict_keys(['Россия', 'Франция', 'Чехия'])\n",
      "dict_values(['Москва', 'Париж', 'Прага'])\n",
      "dict_items([('Россия', 'Москва'), ('Франция', 'Париж'), ('Чехия', 'Прага')])\n"
     ]
    }
   ],
   "source": [
    "# вывод всех ключей, значений и пар \"ключ-значение\" для словаря\n",
    "\n",
    "capitals = {'Россия': 'Москва', 'Франция': 'Париж', 'Чехия': 'Прага'}\n",
    "\n",
    "print(capitals.keys())\n",
    "print(capitals.values())\n",
    "print(capitals.items())"
   ]
  },
  {
   "cell_type": "code",
   "execution_count": 19,
   "metadata": {},
   "outputs": [
    {
     "name": "stdout",
     "output_type": "stream",
     "text": [
      "Россия - Москва\n",
      "Франция - Париж\n",
      "Чехия - Прага\n"
     ]
    }
   ],
   "source": [
    "# распаковка словаря через магию кортежей\n",
    "\n",
    "capitals = {'Россия': 'Москва', 'Франция': 'Париж', 'Чехия': 'Прага'}\n",
    "\n",
    "for key, value in capitals.items():\n",
    "    print(key, '-', value)"
   ]
  },
  {
   "cell_type": "code",
   "execution_count": 20,
   "metadata": {},
   "outputs": [
    {
     "name": "stdout",
     "output_type": "stream",
     "text": [
      "Россия\n",
      "Франция\n",
      "Чехия\n"
     ]
    }
   ],
   "source": [
    "# распаковка ТОЛЬКО КЛЮЧЕЙ словаря (через оператор * , примененный к словарю, распечатаются только ключи)\n",
    "\n",
    "capitals = {'Россия': 'Москва', 'Франция': 'Париж', 'Чехия': 'Прага'}\n",
    "\n",
    "print(*capitals, sep='\\n')"
   ]
  },
  {
   "cell_type": "code",
   "execution_count": 22,
   "metadata": {},
   "outputs": [
    {
     "name": "stdout",
     "output_type": "stream",
     "text": [
      "Бразилиа\n",
      "Лондон\n",
      "Москва\n",
      "Прага\n"
     ]
    }
   ],
   "source": [
    "# сортировка словаря по значениям через функцию sorted() и функцию lambda\n",
    "\n",
    "capitals = {'Россия': 'Москва', 'Англия': 'Лондон', 'Чехия': 'Прага', 'Бразилия':'Бразилиа'}\n",
    "\n",
    "for key, value in sorted(capitals.items(), key = lambda x: x[1]):\n",
    "    print(value)"
   ]
  },
  {
   "cell_type": "code",
   "execution_count": 25,
   "metadata": {},
   "outputs": [
    {
     "name": "stdout",
     "output_type": "stream",
     "text": [
      "Alina Fedor Helga John Olga Olivia Robert Roman\n",
      "Helga LJ Maria Riyad Ruslan\n"
     ]
    }
   ],
   "source": [
    "# взять из списка имена только тех пользователей, у которых:\n",
    "# 1) нет почтового адреса \n",
    "# 2) телефон кончается на 8\n",
    "\n",
    "users = [{'name': 'Todd', 'phone': '551-1414', 'email': 'todd@gmail.com'},\n",
    "         {'name': 'Helga', 'phone': '555-1618'},\n",
    "         {'name': 'Olivia', 'phone': '449-3141', 'email': ''},\n",
    "         {'name': 'LJ', 'phone': '555-2718', 'email': 'lj@gmail.net'},\n",
    "         {'name': 'Ruslan', 'phone': '422-145-9098', 'email': 'rus-lan.cha@yandex.ru'},\n",
    "         {'name': 'John', 'phone': '233-421-32', 'email': ''},\n",
    "         {'name': 'Lara', 'phone': '+7998-676-2532', 'email': 'g.lara89@gmail.com'},\n",
    "         {'name': 'Alina', 'phone': '+7948-799-2434'},\n",
    "         {'name': 'Robert', 'phone': '420-2011', 'email': ''},\n",
    "         {'name': 'Riyad', 'phone': '128-8890-128', 'email': 'r.mahrez@mail.net'},\n",
    "         {'name': 'Khabib', 'phone': '+7995-600-9080', 'email': 'kh.nurmag@gmail.com'},\n",
    "         {'name': 'Olga', 'phone': '6449-314-1213', 'email': ''},\n",
    "         {'name': 'Roman', 'phone': '+7459-145-8059'},\n",
    "         {'name': 'Maria', 'phone': '12-129-3148', 'email': 'm.sharapova@gmail.com'},\n",
    "         {'name': 'Fedor', 'phone': '+7445-341-0545', 'email': ''},\n",
    "         {'name': 'Tim', 'phone': '242-449-3141', 'email': 'timm.ggg@yandex.ru'}]\n",
    "\n",
    "spis1=[]\n",
    "for user in users:\n",
    "    if  'email'  not in user.keys() or user['email']=='': spis1.append(user['name'])\n",
    "\n",
    "print(*sorted(spis1))\n",
    "\n",
    "spis2=[]\n",
    "for user in users:\n",
    "    if user['phone'][-1]=='8': spis2.append(user['name'])\n",
    "print(*sorted(spis2) ) "
   ]
  },
  {
   "cell_type": "code",
   "execution_count": 31,
   "metadata": {},
   "outputs": [
    {
     "name": "stdout",
     "output_type": "stream",
     "text": [
      "five eight six five\n"
     ]
    }
   ],
   "source": [
    "# заменить все цифры в числе словами\n",
    "\n",
    "digits={\"0\": \"zero\",\n",
    "    \"1\": \"one\",\n",
    "    \"2\": \"two\",\n",
    "    \"3\": \"three\",\n",
    "    \"4\": \"four\",\n",
    "    \"5\": \"five\",\n",
    "    \"6\": \"six\",\n",
    "    \"7\": \"seven\",\n",
    "    \"8\": \"eight\",\n",
    "    \"9\": \"nine\"}\n",
    "\n",
    "number=list(input())\n",
    "temp=[digits[n] for n in number]\n",
    "print(' '.join(temp))"
   ]
  },
  {
   "cell_type": "code",
   "execution_count": 55,
   "metadata": {},
   "outputs": [
    {
     "name": "stdout",
     "output_type": "stream",
     "text": [
      "44330777724443111110444022226607777666555888330844444777707777666225553361\n"
     ]
    }
   ],
   "source": [
    "# написать сообщение с клавиатуры старого мобильника\n",
    "\n",
    "d = {\n",
    "    \"0\": \" \",\n",
    "    \"1\": \".,?!:\",\n",
    "    \"2\": \"ABC\",\n",
    "    \"3\": \"DEF\",\n",
    "    \"4\": \"GHI\",\n",
    "    \"5\": \"JKL\",\n",
    "    \"6\": \"MNO\",\n",
    "    \"7\": \"PQRS\",\n",
    "    \"8\": \"TUV\",\n",
    "    \"9\": \"WXYZ\"\n",
    "    \n",
    "}\n",
    "\n",
    "l=input().upper().replace('\"', '') # убрать кавычки из текста\n",
    "symbols=list(l) # это ты разорвал весь текст со знаками препинания и пробелами на отдельные элементы, сунул их в список\n",
    "\n",
    "values=list(d.values())     # это ты забрал из исходного словаря все значения (на наличие в них символов ты будешь проверять) \n",
    "\n",
    "text=[str(values.index(value))*(value.index(symbol)+1) for symbol in symbols for value in values if symbol in value]\n",
    "# погнали! \n",
    "# 1) запускаешь цикл по символам в тексте \n",
    "# 2) запускаешь цикл по значениям \n",
    "# 3) ищешь индекс символа в значении value  - это КОЛИЧЕСТВО раз, сколько тебе нужно нажать какую-то клавишу\n",
    "# 4) ищешь индекс значения value в списке значений values - это клавиша, которую тебе предстоит нажать несколько раз\n",
    "# 5) ну и все, записываешь в список название клавишы (сменив ее тип в строку, т.к она была индексом - числом) \n",
    "# столько раз, сколько нужно нажать клавишу (для этого умножение этой строки на число нажатий - на индекс положения внутри значения)\n",
    "\n",
    "print(''.join(text))\n"
   ]
  },
  {
   "cell_type": "code",
   "execution_count": 63,
   "metadata": {},
   "outputs": [
    {
     "name": "stdout",
     "output_type": "stream",
     "text": [
      ".. -. - . .-. ... - . .-.. .-.. .- .-.\n"
     ]
    }
   ],
   "source": [
    "# код морзе\n",
    "\n",
    "symbols = [c for c in 'ABCDEFGHIJKLMNOPQRSTUVWXYZ0123456789']\n",
    "morse = ['.-', '-...', '-.-.', '-..', '.', '..-.', '--.', '....', '..', '.---', '-.-', '.-..', '--', '-.', '---', '.--.', '--.-', '.-.', '...', '-', '..-', '...-', '.--', '-..-', '-.--', '--..', '-----', '.----', '..---', '...--', '....-', '.....', '-....', '--...', '---..', '----.']\n",
    "\n",
    "morse_code = dict(zip(symbols, morse))\n",
    "\n",
    "text=[letter.upper() for letter in list(input()) if letter.isalnum()]\n",
    "\n",
    "code_text=[morse_code[letter] for letter in text]\n",
    "\n",
    "print(' '.join(code_text))"
   ]
  },
  {
   "cell_type": "code",
   "execution_count": 65,
   "metadata": {},
   "outputs": [
    {
     "name": "stdout",
     "output_type": "stream",
     "text": [
      "{'name': 'Sam', 'age': 28, 'job': 'Teacher'}\n",
      "{'name': 'Timur', 'age': 28, 'job': 'Teacher', 'email': 'timyr-guev@yandex.ru'}\n"
     ]
    }
   ],
   "source": [
    "# присвоение нового значения для старого через обращение к ключу словаря: \n",
    "# если такой ключ есть, то будет присвоено новое имя \n",
    "# если такого ключа нет, то словарь будет дополнен новой парой клю-значение\n",
    "\n",
    "info = {'name': 'Sam',\n",
    "        'age': 28,\n",
    "        'job': 'Teacher'}\n",
    "\n",
    "print(info)\n",
    "\n",
    "info['name'] = 'Timur'                    # изменяем значение по ключу name\n",
    "info['email'] = 'timyr-guev@yandex.ru'    # добавляем в словарь элемент с ключом email\n",
    "\n",
    "print(info)"
   ]
  },
  {
   "cell_type": "code",
   "execution_count": 67,
   "metadata": {},
   "outputs": [
    {
     "name": "stdout",
     "output_type": "stream",
     "text": [
      "{9: 1, 8: 1, 32: 2, 1: 5, 10: 4, 23: 3, 4: 2, 2: 6}\n"
     ]
    }
   ],
   "source": [
    "# выяснить сколько повторяющихся элементов в списке\n",
    "\n",
    "numbers = [9, 8, 32, 1, 10, 1, 10, 23, 1, 4, 10, 4, 2, 2, 2, 2, 1, 10, 1, 2, 2, 32, 23, 23]\n",
    "\n",
    "result = {}\n",
    "for num in numbers:\n",
    "    if num not in result: # проверяем, есть ли ключ в словаре или нет\n",
    "        result[num] = 1  # если нет, то записываем значение 1 в словарь с ключом равным числу из списка\n",
    "    else:\n",
    "        result[num] += 1 # а если этот ключ уже есть (то есть наше число из списка), то прибавляем к значению единицу\n",
    "                         # таким образом все повторяющиеся числа в списке будут посчитаны\n",
    "\n",
    "print(result)"
   ]
  },
  {
   "cell_type": "markdown",
   "metadata": {},
   "source": []
  },
  {
   "cell_type": "code",
   "execution_count": 79,
   "metadata": {},
   "outputs": [
    {
     "name": "stdout",
     "output_type": "stream",
     "text": [
      "None\n",
      "Информации о зарплате нет\n",
      "Bob\n"
     ]
    }
   ],
   "source": [
    "# поиск в словаре нужного значения, если мы знаем ключ - метод get() \n",
    "# он вернет значение, если искомый ключ в словаре есть, либо вернет None, либо вернет второй аргумент, прописанный в методе\n",
    "\n",
    "info = {'name': 'Bob',\n",
    "        'age': 25,\n",
    "        'job': 'Dev'}\n",
    "\n",
    "item1 = info.get('salary')\n",
    "item2 = info.get('salary', 'Информации о зарплате нет') # такого ключа нет, поэтому вернет аргумент \"Информации о зп нет\"\n",
    "\n",
    "print(item1)\n",
    "print(item2) \n",
    "print(info.get('name'))"
   ]
  },
  {
   "cell_type": "code",
   "execution_count": 88,
   "metadata": {},
   "outputs": [
    {
     "name": "stdout",
     "output_type": "stream",
     "text": [
      "{9: 1, 8: 1, 32: 2, 1: 5, 10: 4, 23: 3, 4: 2, 2: 6}\n",
      "{'f': 4, 'o': 9, 't': 9, 'b': 3, 'a': 8, 'l': 6, 'c': 6, 'y': 2, 'e': 10, 'r': 8, 'p': 4, 'u': 2, 'n': 6, 'k': 2, 'x': 1, 'i': 7, 'v': 1, 's': 4, 'h': 2, 'm': 3, 'd': 2}\n"
     ]
    }
   ],
   "source": [
    "# подсчет количества повторяющихся элементов в списке упрощается: \n",
    "\n",
    "numbers = [9, 8, 32, 1, 10, 1, 10, 23, 1, 4, 10, 4, 2, 2, 2, 2, 1, 10, 1, 2, 2, 32, 23, 23]\n",
    "\n",
    "result = {}\n",
    "for num in numbers:\n",
    "    result[num] = result.get(num, 0) + 1\n",
    "\n",
    "print(result)\n",
    "\n",
    "# посчитать количество повторов каждой буквы в тексте\n",
    "text = 'footballcyberpunkextraterritorialityconversationalistblockophthalmoscopicinterdependencemamauserfff'\n",
    "result_text = {}\n",
    "for letter in list(text):\n",
    "    result_text[letter] = result_text.get(letter, 0) + 1\n",
    "print (result_text)"
   ]
  },
  {
   "cell_type": "code",
   "execution_count": 71,
   "metadata": {},
   "outputs": [
    {
     "name": "stdout",
     "output_type": "stream",
     "text": [
      "{'name': 'Bob', 'age': 30, 'job': 'Dev', 'city': 'New York', 'email': 'bob@web.com'}\n"
     ]
    }
   ],
   "source": [
    "# метод update() или |=  для словаря - это обновление Первого словаря данными из ВТОРОГО  (некая конкатенация)\n",
    "# при этом пары ключ-значения из второго либо добавляются в Первый (если таких ключей там не было) \n",
    "# либо значения Первого словаря перезаписываются значениями из Второго (если ключи совпадают)\n",
    "\n",
    "info1 = {'name': 'Bob',\n",
    "        'age': 25,\n",
    "        'job': 'Dev'}\n",
    "\n",
    "info2 = {'age': 30,\n",
    "        'city': 'New York',\n",
    "        'email': 'bob@web.com'}\n",
    "\n",
    "info1.update(info2)   # или можно применить info |= info2\n",
    "\n",
    "print(info1)"
   ]
  },
  {
   "cell_type": "code",
   "execution_count": 72,
   "metadata": {},
   "outputs": [
    {
     "name": "stdout",
     "output_type": "stream",
     "text": [
      "Bob\n",
      "Bob\n",
      "{'name': 'Bob', 'age': 25, 'job': 'Dev'}\n",
      "Dev\n"
     ]
    }
   ],
   "source": [
    "# Метод setdefault(key, default) позволяет получить значение из словаря по заданному ключу, автоматически \n",
    "# добавляя элемент словаря, если он отсутствует.\n",
    "#  key: ключ, значение по которому следует получить, если таковое имеется в словаре, либо создать.\n",
    "# default: значение, которое будет использовано при добавлении нового элемента в словарь.\n",
    "\n",
    "info = {'name': 'Bob',\n",
    "        'age': 25}\n",
    "\n",
    "name1 = info.setdefault('name')           # параметр default не задан           \n",
    "name2 = info.setdefault('name', 'Max')    # параметр default задан\n",
    "\n",
    "print(name1)   # гарантированно выдаст значение, соответствующее ключу 'name'\n",
    "print(name2)    # метод плюет на второй аргумент default, ему достаточно только первого аргумента key \n",
    "\n",
    "\n",
    "info1 = {'name': 'Bob',\n",
    "        'age': 25}\n",
    "\n",
    "job = info1.setdefault('job', 'Dev')\n",
    "print(info1)\n",
    "print(job)   # это уже выводит значение перезаписанного словаря info1, присвоенного новому ключу job"
   ]
  },
  {
   "cell_type": "code",
   "execution_count": 74,
   "metadata": {},
   "outputs": [
    {
     "name": "stdout",
     "output_type": "stream",
     "text": [
      "timyr-guev@yandex.ru\n",
      "None\n",
      "{'name': 'Sam', 'age': 28, 'job': 'Teacher'}\n",
      "('surname', 'Sinclar')\n",
      "{'name': 'Bob', 'age': 25, 'job': 'Dev'}\n"
     ]
    }
   ],
   "source": [
    "# удаление элементов из словаря \n",
    "# 1) del dict[key] - удалит и ключ и значение \n",
    "# 2) dict.pop(key) - удалит и ключ, и значение, но будет хранить в себе удаленное значение, соответствующее ключу\n",
    "\n",
    "info = {'name': 'Sam',\n",
    "        'age': 28,\n",
    "        'job': 'Teacher',\n",
    "        'email': 'timyr-guev@yandex.ru'}\n",
    "\n",
    "email = info.pop('email')          # удаляем элемент по ключу email, возвращая его значение\n",
    "surname = info.pop('surname', None)  # здесь передали ключ, которого нет в словаре, а вторым аргументом- что сохранить в переменной surname\n",
    "\n",
    "print(email)\n",
    "print(surname)\n",
    "print(info)\n",
    "print()\n",
    "\n",
    "# 3) popitem() удаляет из словаря ПОСЛЕДНИЙ ДОБАВЛЕННЫЙ ЭЛЕМЕНТ и возвращает удаляемый элемент в виде кортежа (ключ, значение).\n",
    "info = {'name': 'Bob',\n",
    "     'age': 25,\n",
    "     'job': 'Dev'}\n",
    "\n",
    "info['surname'] = 'Sinclar'\n",
    "\n",
    "item = info.popitem() # удаляет ПОСЛЕДНИЙ элемент, записывает пару ключ-значение в кортеж и сохраняет в перем item\n",
    "\n",
    "print(item)\n",
    "print(info)\n",
    "print()\n",
    "\n",
    "# 4) clear() удалит все элементы\n",
    "# 5) copy() поверхностная копия словаря\n",
    "\n"
   ]
  },
  {
   "cell_type": "code",
   "execution_count": 78,
   "metadata": {},
   "outputs": [
    {
     "name": "stdout",
     "output_type": "stream",
     "text": [
      "{1: 1, 2: 4, 3: 9, 4: 16, 5: 25}\n",
      "{1: 1, 2: 4, 3: 9, 4: 16, 5: 25}\n"
     ]
    }
   ],
   "source": [
    "# создаем словарь методом списочного выражения (словарь понимание списка)\n",
    "\n",
    "result = dict(zip([i for i in range(1,6)], [i**2 for i in range(1,6)]))\n",
    "\n",
    "# или\n",
    "result_2= {i: i**2 for i in range(1,6)}\n",
    "\n",
    "print(result)\n",
    "print(result_2)\n",
    "\n",
    "\n"
   ]
  },
  {
   "cell_type": "code",
   "execution_count": 87,
   "metadata": {},
   "outputs": [
    {
     "name": "stdout",
     "output_type": "stream",
     "text": [
      "{'a': 400, 'z': 999, 'b': 400, 'c': 312, 'd': 445, 'e': 98, 't': 853, 'q': 34, 'f': 90, 'm': 230, 'p': 123, 'w': 111}\n"
     ]
    }
   ],
   "source": [
    "# складываем значения двух словарей по ключам. если в одном списке нет ключа, то просто добавляем его в результирующий словарь вместе со значением\n",
    "\n",
    "dict1 = {'a': 100, 'z': 333, 'b': 200, 'c': 300, 'd': 45, 'e': 98, 't': 76, 'q': 34, 'f': 90, 'm': 230}\n",
    "dict2 = {'a': 300, 'b': 200, 'd': 400, 't': 777, 'c': 12, 'p': 123, 'w': 111, 'z': 666}\n",
    "\n",
    "\n",
    "result = {key:(dict1.get(key,0)+ dict2.get(key,0)) for key in (dict1 | dict2).keys()}\n",
    "# {ключ: сумма значений (через get()) для всех ключей обоих словарей (через конкатенацию)}\n",
    "# p.s. самое важное - не забыть присвоить второе значение для метода get(), которое будет участвовать \n",
    "# в сложении значений, если у одного из списков нет ключа, который есть только в другом!!\n",
    "\n",
    "print(result)\n",
    "\n",
    "\n"
   ]
  },
  {
   "cell_type": "code",
   "execution_count": 131,
   "metadata": {},
   "outputs": [
    {
     "name": "stdout",
     "output_type": "stream",
     "text": [
      "{'orange': 8, 'strawberry': 4, 'barley': 12, 'gooseberry': 3, 'apple': 2, 'apricot': 7, 'currant': 6, 'melon': 5, 'pomegranate': 5, 'banana': 12, 'plum': 4, 'grapefruit': 6, 'quince': 5, 'grapes': 1, 'raspberry': 1, 'lime': 3}\n",
      "banana\n"
     ]
    }
   ],
   "source": [
    "# вывести слово, которое встречается в тексте чаще всего. \n",
    "# Причем если таких слов больше одного, то взять то, которое в лексикографическом смысле наименьшее (порядок букв а, аа, ааа....)\n",
    "\n",
    "text = 'orange strawberry barley gooseberry apple apricot barley currant orange melon pomegranate banana banana orange barley apricot plum grapefruit banana quince strawberry barley grapefruit banana grapes melon strawberry apricot currant currant gooseberry raspberry apricot currant orange lime quince grapefruit barley banana melon pomegranate barley banana orange barley apricot plum banana quince lime grapefruit strawberry gooseberry apple barley apricot currant orange melon pomegranate banana banana orange apricot barley plum banana grapefruit banana quince currant orange melon pomegranate barley plum banana quince barley lime grapefruit pomegranate barley'\n",
    "\n",
    "# в этом куске кода мы собрали словарь, в котором каждому слову присвоили количество вхождений\n",
    "result_text = {}\n",
    "for word in text.split():\n",
    "    result_text[word] = result_text.get(word, 0) + 1\n",
    "# print(result_text)\n",
    "\n",
    "# решение СЛУЧАЙНО успешно см комментарий: https://stepik.org/lesson/446696/step/13?discussion=6972471&reply=6974718&unit=437002\n",
    "result={result_text.get(key):key  for key in result_text.keys()}\n",
    "\n",
    "print(result[max(result)])\n"
   ]
  },
  {
   "cell_type": "code",
   "execution_count": 196,
   "metadata": {},
   "outputs": [
    {
     "name": "stdout",
     "output_type": "stream",
     "text": [
      "{'a': 4, 'b': 2}\n"
     ]
    }
   ],
   "source": [
    "# кстати развернуть словарь можно и проще (поменять ключи и значения местами)\n",
    "\n",
    "dicts = {1:'a', 2:'b', 3:'a', 4:'a'}\n",
    "new_dicts = {v: k for k,v in dicts.items()}\n",
    "print (new_dicts)  \n",
    "\n",
    "# но не забывай о том, что переворот перезапишет словарь, так, чтобы ключи были уникальны, \n",
    "# причем значение возьмет самое последнее по порядку итераций"
   ]
  },
  {
   "cell_type": "code",
   "execution_count": 121,
   "metadata": {},
   "outputs": [
    {
     "name": "stdout",
     "output_type": "stream",
     "text": [
      "{('Parker', 'Wilson', 50): ['Hatiko'], ('Josh', 'King', 25): ['Rusty', 'Balto', 'Barry', 'Lassie'], ('John', 'Smith', 28): ['Fido'], ('Jake', 'Smirnoff', 18): ['Butch'], ('Emma', 'Wright', 18): ['Odi'], ('Hannah', 'Taylor', 40): ['Snape'], ('Martha', 'Robinson', 73): ['Horry', 'Chase'], ('Alex', 'Martinez', 65): ['Giro'], ('Simon', 'Nevel', 32): ['Zooma', 'Rocky'], ('Martha', 'Williams', 38): ['Ace']}\n"
     ]
    }
   ],
   "source": [
    "# создать словарь из списка, где ключами будут (ФИО и возраст владельца) , а список питомцев - значениями\n",
    "\n",
    "pets = [('Hatiko', 'Parker', 'Wilson', 50),\n",
    "        ('Rusty', 'Josh', 'King', 25),\n",
    "        ('Fido', 'John', 'Smith', 28),\n",
    "        ('Butch', 'Jake', 'Smirnoff', 18),\n",
    "        ('Odi', 'Emma', 'Wright', 18),\n",
    "        ('Balto', 'Josh', 'King', 25),\n",
    "        ('Barry', 'Josh', 'King', 25),\n",
    "        ('Snape', 'Hannah', 'Taylor', 40),\n",
    "        ('Horry', 'Martha', 'Robinson', 73),\n",
    "        ('Giro', 'Alex', 'Martinez', 65),\n",
    "        ('Zooma', 'Simon', 'Nevel', 32),\n",
    "        ('Lassie', 'Josh', 'King', 25),\n",
    "        ('Chase', 'Martha', 'Robinson', 73),\n",
    "        ('Ace', 'Martha', 'Williams', 38),\n",
    "        ('Rocky', 'Simon', 'Nevel', 32)]\n",
    "\n",
    "temp=[{pet[1:]:[pet[0]]} for pet in pets] # создаю список из словарей заданного формата\n",
    "\n",
    "dct1={} # здесь конечный результат\n",
    "for i in range(len(temp)):   # цикл по всем словарям списка\n",
    "        if list(temp[i].keys())[0] not in dct1.keys():  # если ключи словарей не совпадают\n",
    "                dct1 |=  temp[i]                         # то делаем конкатенацию с результирующим словарем\n",
    "        else:             # а если совпадают, то суммируем значения под одним ключом и перезаписываем словарь по этому ключу\n",
    "                dct1[list(temp[i].keys())[0]]=dct1[list(temp[i].keys())[0]]+ temp[i].get(list(temp[i].keys())[0])\n",
    "\n",
    "result= dct1\n",
    "\n",
    "print(result)\n"
   ]
  },
  {
   "cell_type": "code",
   "execution_count": 123,
   "metadata": {},
   "outputs": [
    {
     "name": "stdout",
     "output_type": "stream",
     "text": [
      "{('Parker', 'Wilson', 50): ['Hatiko'], ('Josh', 'King', 25): ['Rusty', 'Balto', 'Barry', 'Lassie'], ('John', 'Smith', 28): ['Fido'], ('Jake', 'Smirnoff', 18): ['Butch'], ('Emma', 'Wright', 18): ['Odi'], ('Hannah', 'Taylor', 40): ['Snape'], ('Martha', 'Robinson', 73): ['Horry', 'Chase'], ('Alex', 'Martinez', 65): ['Giro'], ('Simon', 'Nevel', 32): ['Zooma', 'Rocky'], ('Martha', 'Williams', 38): ['Ace']}\n"
     ]
    }
   ],
   "source": [
    "# чужое решение про питомцев намного проще!\n",
    "pets = [('Hatiko', 'Parker', 'Wilson', 50),\n",
    "        ('Rusty', 'Josh', 'King', 25),\n",
    "        ('Fido', 'John', 'Smith', 28),\n",
    "        ('Butch', 'Jake', 'Smirnoff', 18),\n",
    "        ('Odi', 'Emma', 'Wright', 18),\n",
    "        ('Balto', 'Josh', 'King', 25),\n",
    "        ('Barry', 'Josh', 'King', 25),\n",
    "        ('Snape', 'Hannah', 'Taylor', 40),\n",
    "        ('Horry', 'Martha', 'Robinson', 73),\n",
    "        ('Giro', 'Alex', 'Martinez', 65),\n",
    "        ('Zooma', 'Simon', 'Nevel', 32),\n",
    "        ('Lassie', 'Josh', 'King', 25),\n",
    "        ('Chase', 'Martha', 'Robinson', 73),\n",
    "        ('Ace', 'Martha', 'Williams', 38),\n",
    "        ('Rocky', 'Simon', 'Nevel', 32)]\n",
    "\n",
    "result = {}\n",
    "for pet in pets:\n",
    "    result.setdefault(pet[1:], []).append(pet[0]) \n",
    "\n",
    "print(result)"
   ]
  },
  {
   "cell_type": "code",
   "execution_count": 135,
   "metadata": {},
   "outputs": [
    {
     "name": "stdout",
     "output_type": "stream",
     "text": [
      "home\n"
     ]
    }
   ],
   "source": [
    "# вывести самое редкое слово \n",
    "# дано: строка текста \n",
    "# нужно: убрать все знаки препинания, посчитать кол-во вхождений для каждого слова, \n",
    "# взять те, что с наименьшим вхождением, выбрать из них наименьшее в лексикографическом смысле\n",
    "\n",
    "text=input()\n",
    "words=[word.lower().strip(\"'.,;:-?!()\") for word in text.split()] # убираем знаки препинания\n",
    "\n",
    "# создаем словарь, считаем число вхождений каждого слова\n",
    "result_text = {}\n",
    "for word in words:\n",
    "    result_text[word] = result_text.get(word, 0) + 1\n",
    "# print(result_text)\n",
    "\n",
    "minimal= min(result_text.values())  # находим минимальное значение из всех значений (числа вхождений) словаря\n",
    "\n",
    "spis_words =[] # пустой список для слов с наименьшим вхождением в строку\n",
    "for key in result_text:\n",
    "    if result_text.get(key) == minimal: spis_words.append(key)  # если значение (число вхождений) равно минимальному, то записываем ключ(слово) в список\n",
    "\n",
    "print(min(spis_words))"
   ]
  },
  {
   "cell_type": "code",
   "execution_count": 166,
   "metadata": {},
   "outputs": [
    {
     "name": "stdout",
     "output_type": "stream",
     "text": [
      "a a a a a a a aa a a a a a aa a a! b b2 b4 b3 a4 a9 a1 a a!\t\n",
      "a a_1 a_2 a_3 a_4 a_5 a_6 aa a_7 a_8 a_9 a_10 a_11 aa_1 a_12 a! b b2 b4 b3 a4 a9 a1 a_13 a!_1\n"
     ]
    }
   ],
   "source": [
    "text=input()\n",
    "print(text)\n",
    "\n",
    "start=text.split() # это набор элементов, который нужно поменять\n",
    "\n",
    "# это словарь подсчета элементов, которые повторяются\n",
    "count_words = {}\n",
    "for word in start:\n",
    "    count_words[word] = count_words.get(word, 0) + 1\n",
    "\n",
    "num_iter=[i for i in list(count_words.items()) if i[1]>1] # возьмем только те кортежи, в которых значение больше 1 (меньше единицы нас не интересует, т.к с такими элементами ничего не нужно делать)\n",
    "# в этих кортежах хранится информация о том, какие элементы повторяются и сколько раз\n",
    "\n",
    "# основной блок задачи: \n",
    "for kort in num_iter:       # внешний цикл - проходим по кортежам, в которых нас интересует повторяющися элемент\n",
    "    n=0                     # задаем начальное значение для маркировки повторяющегося элемента\n",
    "    for elem in start:      # внутренний цикл - для элементов текста\n",
    "        if elem==kort[0]:   # если встречающийся элемент равен значению проверяемого кортежа\n",
    "            start[start.index(elem)] = kort[0]+ '_' +str(n)         # то перезаписываем этот элемент в списке\n",
    "            n+=1                                                    # и увеличиваем значение хвоста на единицу\n",
    "# внутренний цикл повторяется, пока не пройдем все элементы списка и не переименуем всем повторяющиеся\n",
    "# внешний цикл повторяется, пока не используем все кортежи\n",
    "# результат действий обоих циклов - полностью перезаписанный список элементов\n",
    "\n",
    "end=[i.replace('_0','') for i in start ] # здесь убираем все 'хвосты' для элементов типа 'element_0'\n",
    "\n",
    "result=' '.join(end)  # собираем обратно в строку\n",
    "\n",
    "print(result)"
   ]
  },
  {
   "cell_type": "code",
   "execution_count": null,
   "metadata": {},
   "outputs": [],
   "source": [
    "# коротко решение через словари\n",
    "\n",
    "s = input().split()             # бьем входной текст в список \n",
    "result = {}                     # берем пустой словарь\n",
    "\n",
    "for char in s:                  # цикл по элементам списка\n",
    "    if char not in result:      # если такого ключа еще нет в словаре, то\n",
    "        result[char] = 1        # добавляем в словарь пару ключ-значение = элемент-единица\n",
    "        print(char, end=' ')    # печатаем этот элемент с пробелом\n",
    "    else:                       # а если такой элемент уже есть в словаре\n",
    "        print(f'{char}_{result[char]}', end=' ')        # печатаем f-строку: элемент_значение ключа по элементу, добавл пробел\n",
    "        result[char] += 1                               # ну и увеличиваем значение по ключу на единицу\n",
    "\n",
    "# таким образом, на выходе из цикла в словаре будут храниться ключи (то есть сами элементы) и \n",
    "# соответствующие им значения (кол-во повторов)\n",
    "# но фишка в таком решении в том, что мы печатали элементы находясь в цикле, то есть никуда не сохраняя"
   ]
  },
  {
   "cell_type": "code",
   "execution_count": 167,
   "metadata": {},
   "outputs": [
    {
     "name": "stdout",
     "output_type": "stream",
     "text": [
      "a a_1 a_2 a_3 a_4 a_5 a_6 aa a_7 a_8 a_9 a_10 a_11 aa_1 a_12 a! b b2 b4 b3 a4 a9 a1 a_13 a!_1\n"
     ]
    }
   ],
   "source": [
    "# а что если я буду записывать данные в некий массив, чтобы потом с этими данными я еще мог и поработать?\n",
    "\n",
    "s = input().split()             # бьем входной текст в список \n",
    "result = {}                     # берем пустой словарь\n",
    "spisok=[]                       # берем пусто список\n",
    "\n",
    "for char in s:                  # цикл по элементам списка\n",
    "    if char not in result:      # если такого ключа еще нет в словаре, то\n",
    "        result[char] = 1        # добавляем в словарь пару ключ-значение = элемент-единица\n",
    "        spisok.append(char)     # забираем этот элемент в список\n",
    "    else:                       # а если такой элемент уже есть в словаре\n",
    "        spisok.append(f'{char}_{result[char]}')       # забираем  f-строку: элемент_значение ключа по элементу\n",
    "        result[char] += 1  \n",
    "\n",
    "print(' '.join(spisok))         # результат совпадает"
   ]
  },
  {
   "cell_type": "code",
   "execution_count": 168,
   "metadata": {},
   "outputs": [
    {
     "name": "stdout",
     "output_type": "stream",
     "text": [
      "{'Змея': 'язык программирования Python', 'Баг': 'от англ. bug — жучок, клоп, ошибка в программе', 'Конфа': 'конференция'}\n"
     ]
    }
   ],
   "source": [
    "# создаем словарь по вводу строк с клавиатуры. в строке прописана пара ключ-значение \n",
    "# строк вводится заданное количество раз N (тоже вводится с клавиатуры)\n",
    "\n",
    "n=int(input())                          # число вводимых строк\n",
    "text=[input() for _ in range(n)]        # здесь хранятся все введенные строки\n",
    "\n",
    "# здесь создаем словарь, в котором ключ - это все, что перед двоеточием, значение - все, что после (не забываем убрать пробел)\n",
    "dictionary={i.split(':')[0].lower():i.split(':')[1].lstrip() for i in text }    \n",
    "\n",
    "m=int(input())                          # число вводимых слов для расшифровки\n",
    "words=[input().lower() for _ in range(m)]       # здесь хранятся все введенные слова для расшифровки\n",
    "\n",
    "for word in words:\n",
    "    print(dictionary.get(word, 'Не найдено'))  # сразу печатаем значения для каждого из слов, \n",
    "                                                # либо \"Не найдено\", если в словаре такого слова нет\n"
   ]
  },
  {
   "cell_type": "code",
   "execution_count": 172,
   "metadata": {},
   "outputs": [
    {
     "name": "stdout",
     "output_type": "stream",
     "text": [
      "YES\n"
     ]
    }
   ],
   "source": [
    "# проверка на аннаграмы \n",
    "\n",
    "print('YES' if sorted([i.lower() for i in  list(input()) if i not in ' .,!?:;-']) == \n",
    "        sorted([i.lower().strip('.,!?:;-') for i in  list(input()) if  i not in ' .,!?:;-']) \n",
    "        else 'NO')"
   ]
  },
  {
   "cell_type": "code",
   "execution_count": 177,
   "metadata": {},
   "outputs": [
    {
     "name": "stdout",
     "output_type": "stream",
     "text": [
      "Beautiful\n",
      "Beautiful\n"
     ]
    }
   ],
   "source": [
    "# найти синоним слова в словаре\n",
    "\n",
    "n=int(input())\n",
    "spis=[input().split() for _ in range(n)]\n",
    "\n",
    "dic=dict(spis)\n",
    "word=input()\n",
    "\n",
    "print(*[list(dic.keys())[i] for i in range(len(dic)) if list(dic.values())[i] == word]  if word not in dic else dic[word] )\n",
    "\n",
    "# или читабельнее: \n",
    "\n",
    "if word in dic: print(dic[word])\n",
    "else: \n",
    "    for key in dic: \n",
    "        if dic[key]==word: print(key)"
   ]
  },
  {
   "cell_type": "code",
   "execution_count": 188,
   "metadata": {},
   "outputs": [
    {
     "name": "stdout",
     "output_type": "stream",
     "text": [
      "{'Германия': ['Берлин', 'Мюнхен', 'Гамбург', 'Дортмунд'], 'Нидерланды': ['Амстердам', 'Гаага', 'Роттердам', 'Алкмар']}\n"
     ]
    }
   ],
   "source": [
    "# создать словарь из стран и городов, по запросу городов вывести какая это страна\n",
    "\n",
    "n=int(input())\n",
    "spis=[input().split() for _ in range(n)]\n",
    "\n",
    "dic={word[0]:(word[1:]) for word in spis }\n",
    "\n",
    "m=int(input())\n",
    "cities=[input() for _ in range(m)]\n",
    "\n",
    "for city in cities:\n",
    "    for country in dic: \n",
    "        if city in dic[country]: print(country)"
   ]
  },
  {
   "cell_type": "code",
   "execution_count": 189,
   "metadata": {},
   "outputs": [
    {
     "name": "stdout",
     "output_type": "stream",
     "text": [
      "['79194249271']\n",
      "['79281234567']\n",
      "Абонент не найден\n"
     ]
    }
   ],
   "source": [
    "# найти все телефоны абонента \n",
    "\n",
    "n=int(input())                              # количество абонентов с номерами\n",
    "spis=[input().lower().split() for _ in range(n)]    # список всех абонентов с номерами\n",
    "\n",
    "phone_book={word[-1]:(word[:-1]) for word in spis }    # словарь принадлежности номеров к абоненту\n",
    "\n",
    "m=int(input())                              # количество абонентов, чьи телефоны ищем\n",
    "abonents=[input().lower() for _ in range(m)]        # сами искомые абоненты, чьи номера нам нужны\n",
    "\n",
    "for abonent in abonents:\n",
    "    print(phone_book.get(abonent, 'Абонент не найден'))"
   ]
  },
  {
   "cell_type": "code",
   "execution_count": 191,
   "metadata": {},
   "outputs": [
    {
     "name": "stdout",
     "output_type": "stream",
     "text": [
      "79194249271\n",
      "79281234567 79184219577\n",
      "Абонент не найден\n"
     ]
    }
   ],
   "source": [
    "# найти все телефоны абонента \n",
    "\n",
    "n=int(input())                                         # количество абонентов с номерами\n",
    "persons=[input().lower().split() for _ in range(n)]    # список всех абонентов с номерами\n",
    "\n",
    "phone_book = {}\n",
    "for person in persons:\n",
    "    phone_book.setdefault(person[-1], []).append(person[0])   # собрали все в записную книжку\n",
    "\n",
    "m=int(input())                                      # количество абонентов, чьи телефоны ищем\n",
    "abonents=[input().lower() for _ in range(m)]        # сами искомые абоненты, чьи номера нам нужны\n",
    "\n",
    "for abonent in abonents:\n",
    "    print(*phone_book.get(abonent, ['абонент не найден']))\n"
   ]
  },
  {
   "cell_type": "code",
   "execution_count": 195,
   "metadata": {},
   "outputs": [
    {
     "name": "stdout",
     "output_type": "stream",
     "text": [
      "{'*': 3, '!': 2, '?': 1}\n",
      "{'а': '3', 'н': '2', 'с': '1'}\n",
      "\n"
     ]
    }
   ],
   "source": [
    "shifr=input()                                                   # зашифрованная строка\n",
    "count_symbols = {}                                              \n",
    "for symbol in shifr:                                            # считаем кол-во повторений каждого символа в шифре\n",
    "    count_symbols[symbol] = count_symbols.get(symbol, 0) + 1\n",
    "\n",
    "n=int(input())                              # кол-во строк , содержащих пару буква-кол-во повторений\n",
    "dic={}\n",
    "for _ in range(n):\n",
    "    letter,repeat = input().split(':')\n",
    "    dic.update({letter:int(repeat.lstrip())})             # созданный словарь из пар буква-повторы\n",
    "\n",
    "uncode_string= ''        # пустая строка под расшифровку\n",
    "for symbol in (shifr):\n",
    "    for key in dic:\n",
    "        if dic[key]==count_symbols[symbol]:     # если значения в двух словарях совпадают, то зашифрованный символ равен ключу в словаре\n",
    "            uncode_string+=key                  # и к строке мы прибавляем этот ключ\n",
    "\n",
    "print(uncode_string)"
   ]
  },
  {
   "cell_type": "code",
   "execution_count": null,
   "metadata": {},
   "outputs": [],
   "source": [
    "# на всякий случай: как убрать из словаря лишние элементы по конкретному условию к значению словаря\n",
    "\n",
    "colors = {'c1': 'Red', 'c2': 'Grey', 'c3': None, 'c4': 'Green', 'c5': 'Yellow', 'c6': 'Pink', 'c7': 'Orange', 'c8': None, 'c9': 'White', 'c10': 'Black', 'c11': 'Violet', 'c12': 'Gold', 'c13': None, 'c14': 'Amber', 'c15': 'Azure', 'c16': 'Beige', 'c17': 'Bronze', 'c18': None, 'c19': 'Lilac', 'c20': 'Pearl', 'c21': None, 'c22': 'Sand', 'c23': None}\n",
    "\n",
    "result = {color:colors[color] for color in colors if colors[color]!= None}"
   ]
  },
  {
   "cell_type": "code",
   "execution_count": 211,
   "metadata": {},
   "outputs": [
    {
     "name": "stdout",
     "output_type": "stream",
     "text": [
      "[{'S001': {'Camila Rodriguez': 86}}, {'S002': {'Juan Cruz': 98}}, {'S003': {'Dan Richards': 89}}, {'S004': {'Sam Boyle': 92}}, {'S005': {'Batista Cesare': 45}}, {'S006': {'Francesco Totti': 67}}, {'S007': {'Khalid Hussain': 89}}, {'S008': {'Ethan Hawke': 90}}, {'S009': {'David Bowman': 100}}, {'S010': {'James Milner': 98}}, {'S011': {'Michael Owen': 10}}, {'S012': {'Gary Oldman': 96}}, {'S013': {'Tom Hardy': 93}}]\n",
      "\n",
      "[{'S001': {'Camila Rodriguez': 86}}, {'S002': {'Juan Cruz': 98}}, {'S003': {'Dan Richards': 89}}, {'S004': {'Sam Boyle': 92}}, {'S005': {'Batista Cesare': 45}}, {'S006': {'Francesco Totti': 67}}, {'S007': {'Khalid Hussain': 89}}, {'S008': {'Ethan Hawke': 90}}, {'S009': {'David Bowman': 100}}, {'S010': {'James Milner': 98}}, {'S011': {'Michael Owen': 10}}, {'S012': {'Gary Oldman': 96}}, {'S013': {'Tom Hardy': 93}}]\n",
      "\n",
      "True\n"
     ]
    }
   ],
   "source": [
    "student_ids = ['S001', 'S002', 'S003', 'S004', 'S005', 'S006', 'S007', 'S008', 'S009', 'S010', 'S011', 'S012', 'S013'] \n",
    "student_names = ['Camila Rodriguez', 'Juan Cruz', 'Dan Richards', 'Sam Boyle', 'Batista Cesare', 'Francesco Totti', 'Khalid Hussain', 'Ethan Hawke', 'David Bowman', 'James Milner', 'Michael Owen', 'Gary Oldman', 'Tom Hardy'] \n",
    "student_grades = [86, 98, 89, 92, 45, 67, 89, 90, 100, 98, 10, 96, 93]\n",
    "\n",
    "result=[ {student_ids[i] : {student_names[i]:student_grades[i]}} for i in range(len(student_grades))]\n",
    "\n",
    "print(result)\n",
    "print()\n",
    "\n",
    "# вот так удобнее - zip() сшивает элементы в КОРТЕЖ! из которого удобнее всего брать символы\n",
    "\n",
    "result1 = [{x: {y: z}} for x, y, z in zip(student_ids, student_names, student_grades)]\n",
    "print(result1)\n",
    "print()\n",
    "\n",
    "print(result==result1) # убеждаемся, что списки одинаковые (выведет True)\n"
   ]
  },
  {
   "cell_type": "code",
   "execution_count": 213,
   "metadata": {},
   "outputs": [
    {
     "name": "stdout",
     "output_type": "stream",
     "text": [
      "{'foo': 100, 'bar': 200, 'baz': 300}\n"
     ]
    }
   ],
   "source": [
    "d = dict(foo=100, bar=200, baz=300)\n",
    "\n",
    "print(d)"
   ]
  },
  {
   "cell_type": "code",
   "execution_count": 220,
   "metadata": {},
   "outputs": [
    {
     "name": "stdout",
     "output_type": "stream",
     "text": [
      "{'C1': [30, 23, 90], 'C2': [30, 40, 90], 'C3': [34, 21], 'C4': [22, 54, 209, 21], 'C5': [29, 21], 'C6': [55], 'C7': [23, 42], 'C8': [26, 48], 'C9': [28, 28]}\n"
     ]
    }
   ],
   "source": [
    "my_dict = {'C1': [10, 20, 30, 7, 6, 23, 90], 'C2': [20, 30, 40, 1, 2, 3, 90, 12], 'C3': [12, 34, 20, 21], 'C4': [22, 54, 209, 21, 7], 'C5': [2, 4, 29, 21, 19], 'C6': [4, 6, 7, 10, 55], 'C7': [4, 8, 12, 23, 42], 'C8': [3, 14, 15, 26, 48], 'C9': [2, 7, 18, 28, 18, 28]}\n",
    "\n",
    "result={}\n",
    "for key in my_dict:\n",
    "    val=[]\n",
    "    for num in my_dict[key]:\n",
    "        if num>20: val.append(num)\n",
    "    result.update ({key:val})\n",
    "my_dict=result\n",
    "\n",
    "print(my_dict)\n",
    "\n",
    "\n",
    "dic={}"
   ]
  },
  {
   "cell_type": "code",
   "execution_count": 224,
   "metadata": {},
   "outputs": [
    {
     "name": "stdout",
     "output_type": "stream",
     "text": [
      "angel.down@mail.ru\n",
      "apple.fruit@msu.edu\n",
      "beegeek.school@msu.edu\n",
      "beegeek@msu.edu\n",
      "cream.soda@hse.edu\n",
      "google@yandex.ru\n",
      "joanne@mail.ru\n",
      "joseph@nosu.edu\n",
      "larisa.mamuk@nosu.edu\n",
      "ruslan.chaika@gmail.com\n",
      "rustam.mini@gmail.com\n",
      "stepik-best@gmail.com\n",
      "surface@yandex.ru\n",
      "svetlana.gaeva@nosu.edu\n",
      "the.fame.moster@mail.ru\n",
      "timyr@nosu.edu\n",
      "tomas-henders@hse.edu\n",
      "zivert@hse.edu\n"
     ]
    }
   ],
   "source": [
    "emails = {'nosu.edu': ['timyr', 'joseph', 'svetlana.gaeva', 'larisa.mamuk'], \n",
    "          'gmail.com': ['ruslan.chaika', 'rustam.mini', 'stepik-best'], \n",
    "          'msu.edu': ['apple.fruit', 'beegeek', 'beegeek.school'], \n",
    "          'yandex.ru': ['surface', 'google'],\n",
    "          'hse.edu': ['tomas-henders', 'cream.soda', 'zivert'],\n",
    "          'mail.ru': ['angel.down', 'joanne', 'the.fame.moster']}\n",
    "\n",
    "spis_email=[]\n",
    "for host in emails:\n",
    "    for name in emails[host]:\n",
    "        spis_email.append(name+'@'+host)\n",
    "\n",
    "print(*sorted(spis_email), sep='\\n')\n"
   ]
  },
  {
   "cell_type": "code",
   "execution_count": null,
   "metadata": {},
   "outputs": [],
   "source": [
    "# цепь ДНК\n",
    "\n",
    "dic={'G':'C', 'C': 'G', 'T': 'A', 'A': 'U'}\n",
    "dnk=list(input())\n",
    "\n",
    "rnk=[dic[elem] for elem in dnk]\n",
    "\n",
    "print(''.join(rnk))"
   ]
  },
  {
   "cell_type": "code",
   "execution_count": 227,
   "metadata": {},
   "outputs": [
    {
     "name": "stdout",
     "output_type": "stream",
     "text": [
      "1 1 2 1 1 2 1 2 3 1 "
     ]
    }
   ],
   "source": [
    "# посчитать кол-во вхождений каждого слова\n",
    "\n",
    "text=input()\n",
    "words=text.split()\n",
    "\n",
    "result = {}                     # берем пустой словарь\n",
    "\n",
    "for word in words:                  # цикл по элементам списка\n",
    "    if word not in result:      # если такого ключа еще нет в словаре, то\n",
    "        result[word] = 1        # добавляем в словарь пару ключ-значение = элемент-единица\n",
    "        print(result[word], end=' ')    # печатаем этот элемент с пробелом\n",
    "    else:                       # а если такой элемент уже есть в словар       \n",
    "        result[word] += 1  \n",
    "        print(result[word], end=' ') \n",
    "\n"
   ]
  },
  {
   "cell_type": "code",
   "execution_count": 228,
   "metadata": {},
   "outputs": [
    {
     "name": "stdout",
     "output_type": "stream",
     "text": [
      "14\n"
     ]
    }
   ],
   "source": [
    "# посчитать \"стоимость\" слова исходя ис условия\n",
    "\n",
    "d = {\n",
    "    1: \"AEILNORSTU\",\n",
    "    2: \"DG\",\n",
    "    3: \"BCMP\",\n",
    "    4: \"FHVWY\",\n",
    "    5: \"K\",\n",
    "    8: \"JX\",\n",
    "    10: \"QZ\"\n",
    "}\n",
    "\n",
    "word=list(input().upper())\n",
    "price=0\n",
    "\n",
    "for key in d:\n",
    "    for letter in word:\n",
    "        if letter in d[key]: price+=key\n",
    "\n",
    "print(price)\n",
    "\n"
   ]
  },
  {
   "cell_type": "code",
   "execution_count": 232,
   "metadata": {},
   "outputs": [
    {
     "name": "stdout",
     "output_type": "stream",
     "text": [
      "[('sport', 'hockey'), ('game', 2), ('time', 17)]\n",
      "['game', 'sport', 'time']\n",
      "[('game', 2), ('sport', 'hockey'), ('time', 17)]\n"
     ]
    }
   ],
   "source": [
    "dictionary={'sport': 'hockey', 'game': 2, 'time': 17}\n",
    "print(list(dictionary.items()))\n",
    "\n",
    "print(sorted((dictionary.keys())))\n",
    "\n",
    "print(sorted(dictionary.items()))"
   ]
  },
  {
   "cell_type": "code",
   "execution_count": 237,
   "metadata": {},
   "outputs": [
    {
     "name": "stdout",
     "output_type": "stream",
     "text": [
      "game=2&sport=hockey&time=17\n"
     ]
    }
   ],
   "source": [
    "# строка запроса  (задача сформировать строку запроса из словаря)\n",
    "# https://stepik.org/lesson/492141/step/4?unit=483447\n",
    "\n",
    "def build_query_string(dictionary):\n",
    "    \n",
    "    sort_items= sorted(dictionary.items())\n",
    "    spis_2 = [[str(j) for j in i] for i in sort_items]\n",
    "    result=['='.join(item) for item in spis_2]\n",
    "    search_str='&'.join(result)\n",
    "\n",
    "    return search_str\n",
    "\n",
    "dic= {'sport': 'hockey', 'game': 2, 'time': 17}\n",
    "\n",
    "print(build_query_string(dic))\n",
    "\n"
   ]
  },
  {
   "cell_type": "code",
   "execution_count": 243,
   "metadata": {},
   "outputs": [
    {
     "name": "stdout",
     "output_type": "stream",
     "text": [
      "{'a': {1, 5}, 'b': {17, 2, 10}, 'c': {50, 100}, 'd': {777}}\n"
     ]
    }
   ],
   "source": [
    "# объединение словарей\n",
    "\n",
    "def merge(values): \n",
    "    result={}\n",
    "    for dic in values:\n",
    "        for key in dic:\n",
    "            result.setdefault(key,[]).append(dic[key])\n",
    "    for key in result:\n",
    "        result[key]=set((result[key]))\n",
    "    \n",
    "    return result\n",
    "\n",
    "values=[{'a': 1, 'b': 2}, {'b': 10, 'c': 100}, {'a': 1, 'b': 17, 'c': 50}, {'a': 5, 'd': 777}]\n",
    "\n",
    "print( merge(values))"
   ]
  },
  {
   "cell_type": "code",
   "execution_count": null,
   "metadata": {},
   "outputs": [],
   "source": [
    "# доступ к файлам https://stepik.org/lesson/492141/step/6?unit=483447\n",
    "\n",
    "n =int(input())\n",
    "files=[input().split() for _ in range(n)]\n",
    "files_dic={i[0]:i[1:] for i in files}\n",
    "\n",
    "\n",
    "\n",
    "m=int(input())\n",
    "actions=[input().split() for _ in range(m)]\n",
    "for action in actions:\n",
    "    if action[0]== 'read': action[0]= 'R'\n",
    "    elif action[0]== 'write': action[0]= 'W'\n",
    "    elif action[0]== 'execute': action[0]= 'X'\n",
    "\n",
    "\n",
    "\n",
    "for elem in actions:\n",
    "    if elem[0] in files_dic[elem[1]]: print('OK')\n",
    "    else: print('Access denied')\n"
   ]
  },
  {
   "cell_type": "code",
   "execution_count": 255,
   "metadata": {},
   "outputs": [
    {
     "name": "stdout",
     "output_type": "stream",
     "text": [
      "[['Вячеслав', ['Ручка', '1']], ['Филипп', ['Ручка', '1']], ['Виктория', ['Перо', '3']], ['Вячеслав', ['Линейка', '4']], ['Виктория', ['Тетрадь', '7']], ['Вячеслав', ['Ручка', '29']], ['Филипп', ['Циркуль', '1']]]\n"
     ]
    }
   ],
   "source": [
    "# список покупок https://stepik.org/lesson/492141/step/7?unit=483447\n",
    "\n",
    "n= int(input())\n",
    "names=[input().split() for _ in range(n)]\n",
    "names_dic=[[name[0],[name[1],name[2]]] for name in names]\n",
    "\n",
    "print(names_dic)\n",
    "\n",
    "result={}\n",
    "for name_0 in names_dic:\n",
    "    thing={}\n",
    "    for name_1 in name_0:\n",
    "        thing.setdefault(name_1,[]).append(name_2)\n",
    "\n",
    "\n"
   ]
  },
  {
   "cell_type": "code",
   "execution_count": 274,
   "metadata": {},
   "outputs": [
    {
     "name": "stdout",
     "output_type": "stream",
     "text": [
      "['Руслан', 'Пирог', '1']\n",
      "['Тимур', 'Карандаш', '5']\n",
      "['Руслан', 'Линейка', '2']\n",
      "['Тимур', 'Тетрадь', '12']\n",
      "['Руслан', 'Хлеб', '3']\n",
      "['Руслан', 'Пирог', '1']\n",
      "['Тимур', 'Карандаш', '5']\n",
      "['Руслан', 'Линейка', '2']\n",
      "['Тимур', 'Тетрадь', '12']\n",
      "['Руслан', 'Хлеб', '3']\n",
      "['Руслан', 'Пирог', '1']\n",
      "['Тимур', 'Карандаш', '5']\n",
      "['Руслан', 'Линейка', '2']\n",
      "['Тимур', 'Тетрадь', '12']\n",
      "['Руслан', 'Хлеб', '3']\n",
      "Руслан:\n",
      "Линейка 6\n",
      "Пирог 3\n",
      "Хлеб 9\n",
      "Тимур:\n",
      "Карандаш 15\n",
      "Тетрадь 36\n"
     ]
    }
   ],
   "source": [
    "n= int(input())\n",
    "result={}\n",
    "for _ in range(n):\n",
    "    customer=input().split()\n",
    "    #print(customer)\n",
    "    result.setdefault(customer[0],[]).append({customer[1]:customer[2]})     # собираю в пустой словарь строки, \n",
    "                                                                            # содержащие информацию в виде: \n",
    "                                                    # {покупатель1: [{предмет1:количество}, {предмет2:кол-во},....], покупатель2: [{}, {}]}\n",
    "                                                                    \n",
    "\n",
    "# здесь переформатирую списки [{предмет:кол-во}] так, что для каждого покупателя словари объединяются по принципу: \n",
    "# если предмет уже есть, то нужно сложить значения, если предмета нет, то просто дополяю словарь\n",
    "itog={}\n",
    "for key in result:\n",
    "    things =result[key]\n",
    "    purchase={}\n",
    "    for thing in things:\n",
    "        for key_thing in thing:\n",
    "            purchase.setdefault(key_thing, []).append(int(thing[key_thing]))\n",
    "    for elem in purchase: purchase[elem]= sum(purchase[elem])    # здесь пришлось складывать количество предметов с одинаковым именем\n",
    "\n",
    "    itog.update({key:purchase}) #  здесь как раз обновлял конечный словарь\n",
    "\n",
    "# здесь переделал словарь таким образом, чтобы покупатели и покупки были отсортированы к лексикографическом порядке\n",
    "output={key:{predmet: itog[key][predmet] for predmet in sorted(itog[key])} for key in sorted(itog)}\n",
    "\n",
    "# здесь печатаю элементы так, как просит условие\n",
    "for key in output:\n",
    "    print(key, ':', sep='')\n",
    "    for thing in output[key]:\n",
    "        print(thing, output[key][thing], sep= ' ')\n"
   ]
  },
  {
   "cell_type": "code",
   "execution_count": 273,
   "metadata": {},
   "outputs": [
    {
     "name": "stdout",
     "output_type": "stream",
     "text": [
      "Виктория:\n",
      "Перо 3\n",
      "Тетрадь 7\n",
      "Вячеслав:\n",
      "Линейка 4\n",
      "Ручка 30\n",
      "Филипп:\n",
      "Ручка 1\n",
      "Циркуль 1\n"
     ]
    }
   ],
   "source": [
    "# список покупок короткое решение\n",
    "\n",
    "res={}\n",
    "\n",
    "for i in range(int(input())):\n",
    "    a,b,c=input().split() # хороший ход, нужно запомнить - все три части (покупатель, предмет, кол-во) записались в переменные\n",
    "    res.setdefault(a, dict()).setdefault(b, []).append(int(c))\n",
    "# ну вот и два setdefault(), как и сам планировал, но не довел до ума: \n",
    "# 1) внешний: добавляет в пусто словарь покупателей по мере добавления строк \n",
    "    # 2) если такого покупателя еще не было, то значение - это пустой словарь, в котором: \n",
    "        # 3) проверяется наличие ключа с название предмета: \n",
    "            # 4) если его нет - добавляем в значение список с количеством предметов \n",
    "            # 5) если уже есть - то добавляем в имеющееся значение еще один элемент (кол-во предметов следующей итерации)\n",
    "    # 6) если покупатель был - то берем существующий словарь, в котором добавляем очередной предмет со своим количеством \n",
    "# 7) и так повторяем цикл по всем вводимым строкам , причем своя цикличная работа ведется внутри словарей {предмет:кол-во}  \n",
    "\n",
    "# теперь печатаем то, что требует условие\n",
    "for k in sorted(res):                   # для всех ключей, отсортированных в лексикографическом порядке\n",
    "    print(k+':')                        # печатаем покупателя и двоеточие\n",
    "    for i in sorted(res[k]):            # для всех имен предметов, соответствующих покупателю\n",
    "        print(f'{i} {sum(res[k][i])}')  # печатаем предмет и сумму списка количества предметов через пробел (в виде f-строки)"
   ]
  },
  {
   "cell_type": "code",
   "execution_count": null,
   "metadata": {},
   "outputs": [],
   "source": [
    "# decimal тип числа (с конкретной точностью) \n",
    "# https://stepik.org/lesson/360941/step/1?unit=345464  \n",
    "# применяется для более точных вычислений - кол-во знаков после запятой настраивается (по умолчанию 28) \n",
    "# Тип данных Decimal неизменяемый. Операции над ним приводят к созданию новых объектов, при этом старые не меняются.\n",
    "\n",
    "# Для типа данных Decimal можно настроить: \n",
    "# - точность выполнения операций в количестве десятичных знаков;\n",
    "# - режимы округления;\n",
    "# - режимы обработки исключительных ситуаций (деление на ноль, переполнение и т. д).\n",
    "\n",
    "# Не рекомендуется создавать Decimal числа из float чисел. \n",
    "# В Decimal попадет уже неправильно округленное число. \n",
    "# Создавать Decimal числа нужно из целых чисел, либо из строк! (см пример ниже)\n",
    "\n",
    "# Тип данных Decimal также содержит полезный метод as_tuple() который возвращает кортеж из 3 элементов: (см пример ниже)\n",
    "# - sign – знак числа (0 для положительного числа и 1 для отрицательного числа);\n",
    "# - digits – цифры числа;\n",
    "# - exponent – значение экспоненты (количество цифр после точки, умноженное на −1),\n",
    "\n",
    "# Обратите внимание на то, что точность вступает в силу только во время арифметических операций, \n",
    "# а не при создании самих чисел\n",
    "\n",
    "# В Python нельзя совершать арифметические операции (+, -, *, /) между типами Decimal и Fraction. "
   ]
  },
  {
   "cell_type": "code",
   "execution_count": 382,
   "metadata": {},
   "outputs": [
    {
     "name": "stdout",
     "output_type": "stream",
     "text": [
      "1\n",
      "567\n",
      "-93\n",
      "12345\n",
      "52.198\n"
     ]
    }
   ],
   "source": [
    "# для работы с Decimal нужно достать его из модуля:\n",
    "\n",
    "from decimal import *\n",
    "\n",
    "d1 = Decimal(1)\n",
    "d2 = Decimal(567)\n",
    "d3 = Decimal(-93)\n",
    "d4 = Decimal('12345')  # работает и со строками\n",
    "d5 = Decimal('52.198') # в том числе строками, в которых явно прописано положение плавающей запятой\n",
    "\n",
    "print(d1, d2, d3, d4, d5, sep='\\n')"
   ]
  },
  {
   "cell_type": "code",
   "execution_count": 383,
   "metadata": {},
   "outputs": [
    {
     "name": "stdout",
     "output_type": "stream",
     "text": [
      "0.1000000000000000055511151231257827021181583404541015625\n"
     ]
    }
   ],
   "source": [
    "# Не рекомендуется создавать Decimal числа из float чисел. \n",
    "# В Decimal попадет уже неправильно округленное число. \n",
    "# Создавать Decimal числа нужно из целых чисел, либо из строк!\n",
    "\n",
    "from decimal import *\n",
    "\n",
    "num = Decimal(0.1)\n",
    "\n",
    "print(num)"
   ]
  },
  {
   "cell_type": "code",
   "execution_count": 400,
   "metadata": {},
   "outputs": [
    {
     "name": "stdout",
     "output_type": "stream",
     "text": [
      "DecimalTuple(sign=1, digits=(1, 4, 5, 6, 8, 7, 6, 9, 0, 1, 7), exponent=-10)\n",
      "DecimalTuple(sign=0, digits=(5, 2, 3), exponent=-3)\n",
      "1\n",
      "(1, 4, 5, 6, 8, 7, 6, 9, 0, 1, 7)\n",
      "-10\n"
     ]
    }
   ],
   "source": [
    "from decimal import *\n",
    "\n",
    "num1 = Decimal('-1.4568769017')\n",
    "num2 = Decimal('0.523')\n",
    "\n",
    "print(num1.as_tuple())\n",
    "print(num2.as_tuple())\n",
    "\n",
    "num = Decimal('-1.4568769017')\n",
    "num_tuple = num.as_tuple()\n",
    "\n",
    "print(num_tuple.sign)\n",
    "print(num_tuple.digits)\n",
    "print(num_tuple.exponent)"
   ]
  },
  {
   "cell_type": "code",
   "execution_count": null,
   "metadata": {},
   "outputs": [],
   "source": [
    "# найти сумму минимального и максимальной цифры числа\n",
    "\n",
    "from decimal import *\n",
    "num = Decimal(input())\n",
    "\n",
    "num_tuple = num.as_tuple()\n",
    "\n",
    "dig= (num_tuple.digits) # выводит все цифры, кроме нуля , если число начинается с нуля\n",
    "\n",
    "# если число в промежутке (-1,1), значит оно начинается с нуля, а значит минимальная цифра всегда ноль\n",
    "# а если любое другое - то dig ,eltнить будет в себе все цифры числа - и тогда из него нужно брать максимально и минимальное\n",
    "\n",
    "print(max(dig) if -1<num<1 else max(dig)+min(dig))"
   ]
  },
  {
   "cell_type": "code",
   "execution_count": 386,
   "metadata": {},
   "outputs": [
    {
     "name": "stdout",
     "output_type": "stream",
     "text": [
      "3.142\n",
      "3.14\n",
      "3.1\n"
     ]
    }
   ],
   "source": [
    "# округление чисел\n",
    "\n",
    "from decimal import *\n",
    "\n",
    "getcontext().prec = 4                    # устанавливаем точность числа\n",
    "\n",
    "num = Decimal('3.1415926535')\n",
    "\n",
    "print(num.quantize(Decimal('1.000')))    #  округление до 3 цифр в дробной части  \n",
    "print(num.quantize(Decimal('1.00')))     #  округление до 2 цифр в дробной части\n",
    "print(num.quantize(Decimal('1.0')))      #  округление до 1 цифр в дробной части\n",
    "\n",
    "\n",
    "\n",
    "# Помимо первого параметра, метод quantize() принимает в качестве второго параметра стратегию округления:\n",
    "\n",
    "# ROUND_CEILING – округление в направлении бесконечности (Infinity);\n",
    "# ROUND_FLOOR – округляет в направлении минус бесконечности (- Infinity);\n",
    "# ROUND_DOWN – округление в направлении нуля;\n",
    "# ROUND_HALF_EVEN – округление до ближайшего четного числа, (число 6.5 округлится не до 7, а до 6;)\n",
    "# ROUND_HALF_DOWN – округление до ближайшего нуля;\n",
    "# ROUND_UP – округление от нуля;\n",
    "# ROUND_05UP – округление от нуля (если последняя цифра после округления до нуля была бы 0 или 5, в противном случае к нулю)."
   ]
  },
  {
   "cell_type": "code",
   "execution_count": 392,
   "metadata": {},
   "outputs": [
    {
     "name": "stdout",
     "output_type": "stream",
     "text": [
      "278.8\n",
      "9.85 9.74 9.73 9.60 9.36\n"
     ]
    }
   ],
   "source": [
    "s = '9.73 8.84 8.92 9.60 9.32 8.97 8.53 1.26 6.62 9.85 1.85 1.80 0.83 6.75 9.74 9.11 9.14 5.03 5.03 1.34 3.52 8.09 7.89 8.24 8.23 5.22 0.30 2.59 1.25 6.24 2.14 7.54 5.72 2.75 2.32 2.69 9.32 8.11 4.53 0.80 0.08 9.36 5.22 4.08 3.86 5.56 1.43 8.36 6.29 5.13'\n",
    "\n",
    "from decimal import Decimal as d\n",
    "\n",
    "digits=[d(i) for i in s.split()]\n",
    "\n",
    "print(sum(digits))\n",
    "print(*sorted(digits)[-1:-6:-1], sep=' ')\n"
   ]
  },
  {
   "cell_type": "code",
   "execution_count": 398,
   "metadata": {},
   "outputs": [
    {
     "name": "stdout",
     "output_type": "stream",
     "text": [
      "(1, 2, 1, 2, 3, 4, 5, 6)\n",
      "7\n"
     ]
    }
   ],
   "source": [
    "from decimal import *\n",
    "num = Decimal(input())\n",
    "\n",
    "num_tuple = num.as_tuple()\n",
    "\n",
    "dig= (num_tuple.digits)\n",
    "\n",
    "print(dig)\n",
    "\n",
    "print(max(dig)+min(dig))"
   ]
  },
  {
   "cell_type": "code",
   "execution_count": null,
   "metadata": {},
   "outputs": [],
   "source": [
    "# посчитать выражение с decimal числом \n",
    "from decimal import *\n",
    "\n",
    "num = Decimal(input())\n",
    "\n",
    "\n",
    "print(num.exp()+num.ln()+num.sqrt()+num.log10())\n",
    "\n",
    "# обрати внимание, что работают только встроенные в decimal функции \n"
   ]
  },
  {
   "cell_type": "code",
   "execution_count": null,
   "metadata": {},
   "outputs": [],
   "source": [
    "# Fraction - рациональные числа  https://stepik.org/lesson/362369/step/1?unit=346925 \n",
    "\n",
    "# Создать Fraction число можно несколькими способами:\n",
    "# из целых чисел, передав значения числителя и знаменателя дроби\n",
    "# из строки на основании десятичного представления;\n",
    "# из строки на основании обыкновенной дроби;\n",
    "# из числа с плавающей точкой (не рекомендуется).\n",
    "\n",
    "# В Python нельзя совершать арифметические операции (+, -, *, /) между типами Decimal и Fraction. "
   ]
  },
  {
   "cell_type": "code",
   "execution_count": 409,
   "metadata": {},
   "outputs": [
    {
     "name": "stdout",
     "output_type": "stream",
     "text": [
      "3/4\n",
      "11/20\n",
      "1/9\n"
     ]
    }
   ],
   "source": [
    "from fractions import Fraction\n",
    "\n",
    "num1 = Fraction(3, 4)     # 3 - числитель, 4 - знаменатель\n",
    "num2 = Fraction('0.55')\n",
    "num3 = Fraction('1/9')\n",
    "\n",
    "print(num1, num2, num3, sep='\\n')"
   ]
  },
  {
   "cell_type": "code",
   "execution_count": 410,
   "metadata": {},
   "outputs": [
    {
     "name": "stdout",
     "output_type": "stream",
     "text": [
      "117340617/500000000\n"
     ]
    }
   ],
   "source": [
    "from fractions import Fraction\n",
    "\n",
    "print(Fraction('0.234681234'))"
   ]
  },
  {
   "cell_type": "code",
   "execution_count": 412,
   "metadata": {},
   "outputs": [
    {
     "name": "stdout",
     "output_type": "stream",
     "text": [
      "Числитель дроби равен: 5\n",
      "Знаменатель дроби равен: 16\n",
      "(5, 16)\n"
     ]
    }
   ],
   "source": [
    "# определить числитель и знаменатель рационального числа \n",
    "\n",
    "from fractions import Fraction\n",
    "\n",
    "num = Fraction('5/16')\n",
    "\n",
    "print('Числитель дроби равен:', num.numerator)\n",
    "print('Знаменатель дроби равен:', num.denominator)\n",
    "print(num.as_integer_ratio())     # вернет кортеж числителя и знаменателя"
   ]
  },
  {
   "cell_type": "code",
   "execution_count": null,
   "metadata": {},
   "outputs": [],
   "source": [
    "# самая близкая рациональная дробь заданного иррационального числа\n",
    "\n",
    "from fractions import Fraction\n",
    "import math\n",
    "\n",
    "print('PI =', math.pi)\n",
    "\n",
    "num = Fraction(str(math.pi))\n",
    "\n",
    "print('No limit =', num)\n",
    "\n",
    "for d in [1, 5,  50, 90, 100, 500, 1000000]:\n",
    "    limited = num.limit_denominator(d)\n",
    "    print(limited)"
   ]
  },
  {
   "cell_type": "code",
   "execution_count": 413,
   "metadata": {},
   "outputs": [
    {
     "name": "stdout",
     "output_type": "stream",
     "text": [
      "997/100\n"
     ]
    }
   ],
   "source": [
    "# вывести сумму макс и мин элемента в виде обыкновенной дроби\n",
    "\n",
    "from fractions import Fraction\n",
    "from decimal import Decimal as D\n",
    "\n",
    "s = '0.78 4.3 9.6 3.88 7.08 5.88 0.23 4.65 2.79 0.90 4.23 2.15 3.24 8.57 0.10 8.57 1.49 5.64 3.63 8.36 1.56 6.67 1.46 5.26 4.83 7.13 1.22 1.02 7.82 9.97 5.40 9.79 9.82 2.78 2.96 0.07 1.72 7.24 7.84 9.23 1.71 6.24 5.78 5.37 0.03 9.60 8.86 2.73 5.83 6.50 0.123 0.00021'\n",
    "\n",
    "\n",
    "print(Fraction(max([D(i) for i in s.split()])+ min([D(i) for i in s.split()])))"
   ]
  },
  {
   "cell_type": "code",
   "execution_count": 424,
   "metadata": {},
   "outputs": [
    {
     "name": "stdout",
     "output_type": "stream",
     "text": [
      "5/7\n"
     ]
    }
   ],
   "source": [
    "# найти наибольшее рациональное число, сумма числителя и знаменателя которых равна N\n",
    "\n",
    "n= int(input())\n",
    "import math\n",
    "from fractions import Fraction as F\n",
    "\n",
    "a=int(math.floor(n/2))\n",
    "b=int(math.ceil(n/2))\n",
    "\n",
    "# пока не убедимся, что дробь 'числитель/знаменатель' не сокращается , будем убирать из числителя единицу, а к знаменателю ее прибалвять\n",
    "while str(F(a,b)) != f'{a}/{b}':\n",
    "    a-=1\n",
    "    b+=1\n",
    "print(f'{a}/{b}')"
   ]
  },
  {
   "cell_type": "code",
   "execution_count": 427,
   "metadata": {},
   "outputs": [
    {
     "name": "stdout",
     "output_type": "stream",
     "text": [
      "1/8\n",
      "1/7\n",
      "1/6\n",
      "1/5\n",
      "1/4\n",
      "2/7\n",
      "1/3\n",
      "3/8\n",
      "2/5\n",
      "3/7\n",
      "1/2\n",
      "4/7\n",
      "3/5\n",
      "5/8\n",
      "2/3\n",
      "5/7\n",
      "3/4\n",
      "4/5\n",
      "5/6\n",
      "6/7\n",
      "7/8\n"
     ]
    }
   ],
   "source": [
    "# упорядочить ВСЕ рациональные дроби в порядке возрастания, лежащие в диапазоне от 0 до 1 , если их знаменатель <= 'n'\n",
    "\n",
    "n = int(input())\n",
    "from fractions import Fraction as F\n",
    "drobs={F(f'{j}/{i}') for i in range(2,n+1) for j in range(1,i)}\n",
    "\n",
    "print(*sorted(drobs), sep='\\n')"
   ]
  },
  {
   "cell_type": "code",
   "execution_count": null,
   "metadata": {},
   "outputs": [],
   "source": [
    "# КОМПЛЕКСНЫЕ ЧИСЛА\n",
    "# real + imag j,  где j по умолчанию - это мнимая единица, то есть j**2 = -1\n",
    "\n",
    "# Примечание 3. Встроенный модуль math работает с вещественными числами.  \n",
    "# Для работы с комплексными числами есть модуль cmath. https://docs.python.org/3/library/cmath.html \n",
    "# Модуль cmath включает дополнительные функции для использования комплексных чисел."
   ]
  },
  {
   "cell_type": "code",
   "execution_count": 428,
   "metadata": {},
   "outputs": [
    {
     "name": "stdout",
     "output_type": "stream",
     "text": [
      "5j\n"
     ]
    }
   ],
   "source": [
    "i=(-1)**(1/2)\n",
    "z=1+i\n",
    "print(z**3+z**2+z+1)"
   ]
  },
  {
   "cell_type": "code",
   "execution_count": 434,
   "metadata": {},
   "outputs": [
    {
     "name": "stdout",
     "output_type": "stream",
     "text": [
      "(-3+2j)\n",
      "(6-8j)\n",
      "2.5j\n",
      "(5+0j)\n",
      "(3+4j)\n"
     ]
    }
   ],
   "source": [
    "# создание комплексных чисел\n",
    "z1 = -3 + 2j              # создание на основе литерала\n",
    "z2 = complex(6, -8)       # z2 = 6 - 8j\n",
    "z3 = complex(0, 2.5)      # z3 = 2.5j\n",
    "z4 = complex(5, 0)        # z4 = 5 + 0j\n",
    "z5 = complex('3+4j')      # создание на основе строки\n",
    "\n",
    "print(z1, z2, z3, z4, z5, sep='\\n')\n"
   ]
  },
  {
   "cell_type": "code",
   "execution_count": 435,
   "metadata": {},
   "outputs": [
    {
     "name": "stdout",
     "output_type": "stream",
     "text": [
      "Действительная часть = 3.0\n",
      "Мнимая часть = 4.0\n"
     ]
    }
   ],
   "source": [
    "# получение действительной и мнимой частей комплексного числа\n",
    "z = 3+4j\n",
    "\n",
    "print('Действительная часть =', z.real)\n",
    "print('Мнимая часть =', z.imag)"
   ]
  },
  {
   "cell_type": "code",
   "execution_count": 436,
   "metadata": {},
   "outputs": [
    {
     "name": "stdout",
     "output_type": "stream",
     "text": [
      "Сопряженное число = (3-4j)\n"
     ]
    }
   ],
   "source": [
    "# нахождение сопряженного числа для комплексного числа\n",
    "z = 3+4j\n",
    "\n",
    "print('Сопряженное число =', z.conjugate())"
   ]
  },
  {
   "cell_type": "code",
   "execution_count": 2,
   "metadata": {},
   "outputs": [
    {
     "name": "stdout",
     "output_type": "stream",
     "text": [
      "Модуль числа = 5.0\n",
      "Модуль числа = 5.0\n"
     ]
    }
   ],
   "source": [
    "# модуль комплексного числа считывается той же командой abs() , хоть и считается иначе = sqrt(real**2+ imagine**2)\n",
    "\n",
    "z = 3+4j\n",
    "\n",
    "print('Модуль числа =', abs(z))\n",
    "\n",
    "print('Модуль числа =', (z.real**2+ z.imag**2)**(1/2))"
   ]
  },
  {
   "cell_type": "code",
   "execution_count": 1,
   "metadata": {},
   "outputs": [
    {
     "name": "stdout",
     "output_type": "stream",
     "text": [
      "0.982793723247329\n",
      "(3.605551275463989, 0.982793723247329)\n"
     ]
    }
   ],
   "source": [
    "import cmath\n",
    "\n",
    "z = 2+3j\n",
    "print(cmath.phase(z)) # полярный угол\n",
    "print(cmath.polar(z)) # полярные координаты"
   ]
  },
  {
   "cell_type": "code",
   "execution_count": null,
   "metadata": {},
   "outputs": [],
   "source": [
    "# модуль turtle (рисование) ЧЕРЕПАХА\n",
    "# https://stepik.org/lesson/330013/step/1?unit=313364 \n",
    "\n",
    "# мои рисунки: https://trinket.io/library/trinkets  \n",
    "\n",
    "# Для визуализации черепашьей графики мы будем использовать онлайн среду trinket. https://trinket.io/ \n",
    "\n",
    "# перемещение: turtle.forward(n) , backward(n) - вперед/назад на n шагов (пикселей)\n",
    "# поворот : turtle.right(angle), turtle.left(angle) - по часовой/ против часовой на angle градусов \n",
    "# поворот на заданный угол: turtle.setheading() - отличается тем, задает именно направление в виде север-запад-юг-восток (90-180-270-360)\n",
    "\n",
    "# получить текущее угловое направление черепахи turtle.heading()\n",
    "\n",
    "# задание формы черепашки - shape(): \n",
    "# square (квадрат);\n",
    "# arrow (стрелка);\n",
    "# circle (круг);\n",
    "# turtle (черепашка);\n",
    "# triangle (треугольник);\n",
    "# classic (классическая стрелка) \n",
    "# свой рисунок для формы (см пример на сайте )\n",
    "\n",
    "# Команда turtle.pencolor() позволяет работать не только с предопределенными названиями цветов, \n",
    "# но и с цветами, заданными в формате RGB (Red Green Blue). \n",
    "# В качестве аргумента команды turtle.pencolor() можно использовать либо кортеж из 3 чисел (r, g, b), \n",
    "# либо просто три числа r, g, b.\n",
    "\n",
    "# перемещение черепахи в точку turtle.goto() или setposition() или setpos()\n",
    "# узнать положение черепахи - pos() - выведет кортеж с координатами (x,y) \n",
    "# xcor() / ycor() - только х или только у координата\n",
    "\n",
    "# написать текст - turtle.write(), аргументы: \n",
    "# arg – текст, который нужно вывести;\n",
    "# move – указывает будет ли двигаться черепашка по мере рисования надписи (по умолчанию значение False);\n",
    "# align – служит для выравнивания надписи относительно черепашки, может принимать три строковых значения right, center, left (по умолчанию значению right);\n",
    "# font – кортеж из трех значений: (название шрифта, размер шрифта, тип начертания). В качестве начертания можно использовать строковые значения: normal — обычный, bold — полужирный, italic — курсив, или объединить два последних, тогда текст будет напечатан полужирным курсивом."
   ]
  },
  {
   "cell_type": "code",
   "execution_count": 6,
   "metadata": {},
   "outputs": [
    {
     "name": "stdout",
     "output_type": "stream",
     "text": [
      "0.49999999999999994\n"
     ]
    }
   ],
   "source": [
    "from math import sin,pi\n",
    "print(sin(pi/6))"
   ]
  },
  {
   "cell_type": "code",
   "execution_count": null,
   "metadata": {},
   "outputs": [],
   "source": [
    "# ФУНКЦИИ \n",
    "# работа с *args (позиционные аргументы) и **kwargs (именованные аргументы) = keyword arguments \n",
    "# суть в том, что в *args хранится кортеж, который мы передаем функции, \n",
    "# а в **kwargs хранится словарь с парами ключ-слово(значение)"
   ]
  },
  {
   "cell_type": "code",
   "execution_count": 11,
   "metadata": {},
   "outputs": [
    {
     "name": "stdout",
     "output_type": "stream",
     "text": [
      "(1, 2, 3)\n",
      "(1, 2)\n",
      "(1,)\n",
      "(2, 3)\n"
     ]
    }
   ],
   "source": [
    "# пример передачи кортежа в качестве *args\n",
    "def foo(*args):\n",
    "    print(args)\n",
    "\n",
    "a, b, c = 1, 2, 3\n",
    "\n",
    "foo(a, b, c)                # Выводит (1, 2, 3)\n",
    "foo(a, b)                   # Выводит (1, 2)\n",
    "foo(a)                      # Выводит (1)\n",
    "foo(b, c)                   # Выводит (2, 3)"
   ]
  },
  {
   "cell_type": "code",
   "execution_count": 12,
   "metadata": {},
   "outputs": [
    {
     "name": "stdout",
     "output_type": "stream",
     "text": [
      "{'a': 1, 'b': 2, 'c': 3}\n",
      "{'a': 1, 'b': 2}\n",
      "{'a': 1}\n",
      "{'b': 2, 'c': 3}\n"
     ]
    }
   ],
   "source": [
    "# пример передачи словаря в качестве **kwargs\n",
    "def foo(**kwargs):\n",
    "    print(kwargs)\n",
    "\n",
    "foo(a=1, b=2, c=3)        # Выводит {'a': 1, 'b': 2, 'c': 3}\n",
    "foo(a=1, b=2)             # Выводит {'a': 1, 'b': 2}\n",
    "foo(a=1)                  # Выводит {'a': 1}\n",
    "foo(b=2, c=3)             # Выводит {'b': 2, 'c': 3}"
   ]
  },
  {
   "cell_type": "code",
   "execution_count": 15,
   "metadata": {},
   "outputs": [
    {
     "ename": "TypeError",
     "evalue": "foo() got an unexpected keyword argument 'a'",
     "output_type": "error",
     "traceback": [
      "\u001b[0;31m---------------------------------------------------------------------------\u001b[0m",
      "\u001b[0;31mTypeError\u001b[0m                                 Traceback (most recent call last)",
      "Cell \u001b[0;32mIn [15], line 5\u001b[0m\n\u001b[1;32m      2\u001b[0m \u001b[39mdef\u001b[39;00m \u001b[39mfoo\u001b[39m(\u001b[39m*\u001b[39margs):\n\u001b[1;32m      3\u001b[0m     \u001b[39mprint\u001b[39m(args)\n\u001b[0;32m----> 5\u001b[0m foo(a\u001b[39m=\u001b[39;49m\u001b[39m1\u001b[39;49m, b\u001b[39m=\u001b[39;49m\u001b[39m2\u001b[39;49m, c\u001b[39m=\u001b[39;49m\u001b[39m3\u001b[39;49m) \u001b[39m# TypeError: foo() got an unexpected keyword argument 'a'\u001b[39;00m\n\u001b[1;32m      7\u001b[0m \u001b[39mdef\u001b[39;00m \u001b[39mfoo\u001b[39m(\u001b[39m*\u001b[39m\u001b[39m*\u001b[39mkwargs):\n\u001b[1;32m      8\u001b[0m     \u001b[39mprint\u001b[39m(kwargs)\n",
      "\u001b[0;31mTypeError\u001b[0m: foo() got an unexpected keyword argument 'a'"
     ]
    }
   ],
   "source": [
    "# при этом функции, рассчитанной на приём позиционных аргументов, нельзя передавать именованные аргументы (и наоборот):\n",
    "def foo1(*args):\n",
    "    print(args)\n",
    "\n",
    "foo1(a=1, b=2, c=3) # TypeError: foo() got an unexpected keyword argument 'a'\n",
    "\n",
    "######\n",
    "\n",
    "def foo(**kwargs):\n",
    "    print(kwargs)\n",
    "a, b, c = 1, 2, 3\n",
    "foo(a, b, c)        # TypeError: foo() takes 0 positional arguments but 3 were given"
   ]
  },
  {
   "cell_type": "code",
   "execution_count": 16,
   "metadata": {},
   "outputs": [
    {
     "name": "stdout",
     "output_type": "stream",
     "text": [
      "() {'a': 1}\n",
      "() {'a': 1, 'b': 2, 'c': 3}\n",
      "(1, 2) {'a': 1, 'b': 2}\n",
      "(1, 2) {}\n"
     ]
    }
   ],
   "source": [
    "# образец вывода при передаче обоих типов аргументов\n",
    "\n",
    "# запомни: конструкцию *args нельзя использовать после конструкции **kwargs.\n",
    "\n",
    "def foo(*args,**kwargs):\n",
    "    print(args, kwargs)\n",
    "\n",
    "foo(a=1,)\n",
    "# () {'a': 1}\n",
    "\n",
    "foo(a=1, b=2, c=3)\n",
    "# () {'a': 1, 'b': 2, 'c': 3}\n",
    "\n",
    "foo(1, 2, a=1, b=2)\n",
    "# (1, 2) {'a': 1, 'b': 2}\n",
    "\n",
    "foo(1, 2)\n",
    "# (1, 2) {}"
   ]
  },
  {
   "cell_type": "code",
   "execution_count": 17,
   "metadata": {},
   "outputs": [
    {
     "name": "stdout",
     "output_type": "stream",
     "text": [
      "1 () {'a': 1}\n",
      "1 () {'a': 1, 'b': 2, 'c': 3}\n",
      "1 (2,) {'a': 1, 'b': 2}\n",
      "1 (2, 3) {'a': 1, 'b': 2}\n",
      "1 (2,) {}\n"
     ]
    }
   ],
   "source": [
    "# правильная комбинация аргументов\n",
    "\n",
    "def foo(var, *args,**kwargs):\n",
    "    print(var, args, kwargs)\n",
    "\n",
    "foo(1, a=1,)                            # Вызов 1\n",
    "# 1 () {'a': 1}\n",
    "\n",
    "foo(1, a=1, b=2, c=3)                   # Вызов 2\n",
    "# 1 () {'a': 1, 'b': 2, 'c': 3}\n",
    "\n",
    "foo(1, 2, a=1, b=2)                     # Вызов 3\n",
    "# 1 (2,) {'a': 1, 'b': 2}\n",
    "foo(1, 2, 3, a=1, b=2)                  # Вызов 4\n",
    "# 1 (2, 3) {'a': 1, 'b': 2}\n",
    "foo(1, 2)                               # Вызов 5\n",
    "# 1 (2,) {}"
   ]
  },
  {
   "cell_type": "code",
   "execution_count": 20,
   "metadata": {},
   "outputs": [
    {
     "name": "stdout",
     "output_type": "stream",
     "text": [
      "1 0 () {'a': 1}\n",
      "1 2 () {'a': 1, 'b': 2, 'c': 3}\n",
      "1 2 (3,) {'a': 1, 'b': 2}\n",
      "1 2 (3, 4) {'a': 1, 'b': 2}\n",
      "1 2 () {}\n"
     ]
    }
   ],
   "source": [
    "# еще пример правильной комбинации аргументов\n",
    "def foo(var, kvar=0, *args,**kwargs):\n",
    "    print(var, kvar, args, kwargs)\n",
    "\n",
    "foo(1, a=1,)                               # Вызов 1\n",
    "# 1 0 () {'a': 1}\n",
    "\n",
    "foo(1, 2, a=1, b=2, c=3)                   # Вызов 2\n",
    "# 1 2 () {'a': 1, 'b': 2, 'c': 3}\n",
    "\n",
    "foo(1, 2, 3, a=1, b=2)                     # Вызов 3\n",
    "# 1 2 (3,) {'a': 1, 'b': 2}\n",
    "\n",
    "foo(1, 2, 3, 4, a=1, b=2)                  # Вызов 4\n",
    "# 1 2 (3,4) {'a': 1, 'b': 2}\n",
    "\n",
    "foo(1, kvar=2)                             # Вызов 5\n",
    "# 1 2 () {}\n",
    "\n",
    "#foo(1, kvar=2, 3, a=2)                     # обрати внимание - этот вызов функции создаст ошибку, \n",
    "                                            # т.к именованный аргумент kvar(равен 2) вызван раньше, \n",
    "                                            # чем позиционный аргумент *args (равен 3)"
   ]
  },
  {
   "cell_type": "code",
   "execution_count": 21,
   "metadata": {},
   "outputs": [
    {
     "name": "stdout",
     "output_type": "stream",
     "text": [
      "1 2 (3, 4) {}\n",
      "1 2 (3, 4) {}\n",
      "1 1 (2, 3, 4) {}\n",
      "1 5 (1, 2, 3, 4) {}\n",
      "1 1 (2, 3, 4) {'e': 1, 'f': 2, 'g': '3'}\n",
      "1 2 (3, 4) {'e': 1, 'f': 2, 'g': '3'}\n",
      "2 45 () {'e': 1, 'f': 2, 'g': '3'}\n"
     ]
    }
   ],
   "source": [
    "# распаковка аргументов функции, которые ей передаются (типов кортеж, список, словарь)\n",
    "\n",
    "def foo(a, b=0, *args, **kwargs):\n",
    "    print(a, b, args, kwargs)\n",
    "\n",
    "tup = (1, 2, 3, 4)\n",
    "lst = [1, 2, 3, 4]\n",
    "d = {'e':1, 'f':2, 'g':'3'}\n",
    "\n",
    "foo(*tup)             # foo(1, 2, 3, 4)\n",
    "# 1 2 (3, 4) {}\n",
    "\n",
    "foo(*lst)             # foo(1, 2, 3, 4)\n",
    "# 1 2 (3, 4) {}\n",
    "\n",
    "foo(1, *tup)          # foo(1, 1, 2, 3, 4)\n",
    "# 1 1 (2, 3, 4) {}\n",
    "\n",
    "foo(1, 5, *tup)       # foo(1, 5, 1, 2, 3, 4)\n",
    "# 1 5 (1, 2, 3, 4) {}\n",
    "\n",
    "foo(1, *tup, **d)     # foo(1, 1, 2, 3, 4 ,e=1 ,f=2, g=3)\n",
    "# 1 1 (2, 3, 4) {'e': 1, 'f': 2, 'g': '3'}\n",
    "\n",
    "foo(*tup, **d)         # foo(1, 1, 2, 3, 4 ,e=1 ,f=2, g=3)\n",
    "# 1 2 (3, 4) {'e': 1, 'f': 2, 'g': '3'}\n",
    "d['b'] = 45\n",
    "foo(2, **d)             # foo(1, e=1 ,f=2, g=3, b=45)\n",
    "# 2 45 () {'e': 1, 'f': 2, 'g': '3'}\n",
    "\n"
   ]
  },
  {
   "cell_type": "code",
   "execution_count": 54,
   "metadata": {},
   "outputs": [
    {
     "name": "stdout",
     "output_type": "stream",
     "text": [
      "[[0]]\n",
      "0   \n"
     ]
    }
   ],
   "source": [
    "# функция заполнения матрицы в зависимости от условий\n",
    "\n",
    "# функция печати матрицы (вспомогательная)\n",
    "def print_matrix(matrix, width):\n",
    "    n=len(matrix)\n",
    "    m=len(matrix[0])\n",
    "    for r in range(n):\n",
    "        for c in range(m):\n",
    "            print(str(matrix[r][c]).ljust(width), end=' ')\n",
    "        print()\n",
    "\n",
    "def fill_matrix(n=1, m=0,  value=0):\n",
    "    if m!=0:      matrix=[[value for j in range(m)] for i in range(n)]\n",
    "    else:         matrix=[[value for j in range(n)] for i in range(n)]\n",
    "    return matrix\n",
    "\n",
    "print(fill_matrix())\n",
    "print_matrix(fill_matrix(),3)"
   ]
  },
  {
   "cell_type": "code",
   "execution_count": null,
   "metadata": {},
   "outputs": [],
   "source": [
    "# keyword only\n",
    "#  объявить функцию, у которой будут только строго именованные аргументы: \n",
    "# для этого нужно поставить звёздочку в самом начале перечня аргументов.\n",
    "\n",
    "def make_circle(*, x, y, radius, line_width=1, fill=True)  # теперь звездочка в начале определила, что ВСЕ аргументы становятся строго именованными\n",
    "\n",
    "make_circle(x=10, y=20, radius=15)                              # line_width=1, fill=True\n",
    "make_circle(x=10, y=20, radius=15, line_width=4, fill=False)\n",
    "\n",
    "# Такой разделитель можно использовать только один раз в определении функции.\n",
    "# Его нельзя применять в функциях с неограниченным количеством позиционных аргументов *args"
   ]
  },
  {
   "cell_type": "code",
   "execution_count": 80,
   "metadata": {},
   "outputs": [],
   "source": [
    "# написать функцию, которая принимает какое угодно количество аргументов любого типа, \n",
    "# но считает среднее только из тех аргументов, которые являются типа int() or float()\n",
    "\n",
    "from statistics import mean\n",
    "def mean(*args):\n",
    "    lst=[x for x in args if type(x)==float or type(x)==int]\n",
    "    return mean(lst)\n",
    "\n",
    "# или \n",
    "\n",
    "def mean(*args):\n",
    "    lst=[x for x in args if type(x)==float or type(x)==int]\n",
    "    return (0.0 if len(lst)==0 else sum(lst)/len(lst))"
   ]
  },
  {
   "cell_type": "code",
   "execution_count": null,
   "metadata": {},
   "outputs": [],
   "source": [
    "# написать функцию, которая принимает какое угодно количество аргументов в виде кортежа имен \n",
    "# и выводит приветствие 'Hello, name and name....' \n",
    "\n",
    "def greet(a, *args, word='Hello, '):\n",
    "    names=[a]+[name for name in args]\n",
    "    return word + ' and '.join(names)+ '!'\n",
    "\n",
    "    # или \n",
    "    # def greet(name, *args):\n",
    "    # return f'Hello, {\" and \".join((name,) + args)}!'"
   ]
  },
  {
   "cell_type": "code",
   "execution_count": null,
   "metadata": {},
   "outputs": [],
   "source": [
    "# вывести все продукты из списка аргументов\n",
    "\n",
    "def print_products(*args):\n",
    "    tmp=[arg for arg in args  if type(arg)==str and arg!=''] # вспом список только для тех аргументов, которые являются строками\n",
    "    spis= [f'{tmp.index(name)+1}) {name}' for name in tmp ] # конечный список , в котором к каждой строке дописываем номер\n",
    "\n",
    "    # выводим один из двух вариантов (не забываем перенос на новую строку) - 2 способа: \n",
    "    print(('Нет продуктов', '\\n'.join(spis))[len(spis)!=0])         # 1 способ\n",
    "    # print('Нет продуктов' if len(spis)==0 else '\\n'.join(spis))   # 2 способ\n"
   ]
  },
  {
   "cell_type": "code",
   "execution_count": 100,
   "metadata": {},
   "outputs": [
    {
     "name": "stdout",
     "output_type": "stream",
     "text": [
      "1) Бананы\n",
      "2) Яблоки\n",
      "3) Макароны\n"
     ]
    }
   ],
   "source": [
    "args=('Бананы', [1, 2], ('Stepik',), 'Яблоки', '', 'Макароны', 5, True)\n",
    "\n",
    "tmp=[arg for arg in args  if type(arg)==str and arg!=''] # вспом список только для тех аргументов, которые являются строками\n",
    "spis= [f'{tmp.index(name)+1}) {name}' for name in tmp ] # конечный список , в котором к каждой строке дописываем номер\n",
    "\n",
    "# выводим один из двух вариантов (не забываем перенос на новую строку) - 2 способа: \n",
    "print(('Нет продуктов', '\\n'.join(spis))[len(spis)!=0])         # 1 способ\n",
    "# print('Нет продуктов' if len(spis)==0 else '\\n'.join(spis))   # 2 способ"
   ]
  },
  {
   "cell_type": "code",
   "execution_count": 94,
   "metadata": {},
   "outputs": [
    {
     "name": "stdout",
     "output_type": "stream",
     "text": [
      "<class 'str'>\n"
     ]
    }
   ],
   "source": [
    "# функция, которая выводит пару ключ-значение для любого числа именованных аргументов \n",
    "# в виде ключ: значение (каждая пара с новой строки)\n",
    "\n",
    "def info_kwargs(**kwargs):\n",
    "    result=[f'{item[0]}: {item[1]}' for item in sorted(kwargs.items())]\n",
    "\n",
    "    return '\\n'.join(result)\n",
    "\n",
    "# kwards - это данные, которые подаются функции в виде кортежа (ключ=значение) \n",
    "# как только они залетают в функцию в виде распакованного звездочками **кортеж - они становятся словарем \n",
    "# значит берем все элементы словарь.items() - вернет список кортежей (ключ: значение) \n",
    "# состряпаем из них f-строку ключ: значение, запишем в список (причем список заблаговременно отсортируем в лексикографическом порядке) \n",
    "# отправим на вывод из функции (не забыв перенос на новую строку)"
   ]
  },
  {
   "cell_type": "code",
   "execution_count": 108,
   "metadata": {},
   "outputs": [
    {
     "name": "stdout",
     "output_type": "stream",
     "text": [
      "age: 28\n",
      "first_name: Timur\n",
      "job: teacher\n",
      "last_name: Guev\n"
     ]
    }
   ],
   "source": [
    "# наглядно как работает\n",
    "kwargs = {'first_name':'Timur', 'last_name':'Guev', 'age':28, 'job':'teacher'} \n",
    "\n",
    "result=[f'{item[0]}: {item[1]}' for item in sorted(kwargs.items())]\n",
    "\n",
    "print('\\n'.join(result))"
   ]
  },
  {
   "cell_type": "code",
   "execution_count": null,
   "metadata": {},
   "outputs": [],
   "source": [
    "# работа с функциями, если нужно объявлять их в каком-то определенном порядке (имена функций удобно хранить в словаре)\n",
    "\n",
    "def start():\n",
    "    # тело функции start\n",
    "\n",
    "\n",
    "def stop():\n",
    "    # тело функции stop\n",
    "\n",
    "\n",
    "def pause():\n",
    "    # тело функции pause\n",
    "\n",
    "\n",
    "commands = {'start': start, 'stop': stop, 'pause': pause}  # словарь соответствия команда → функция\n",
    "\n",
    "command = input()        # считываем название команды\n",
    "\n",
    "commands[command]()      # вызываем нужную функцию через словарь по ключу\n"
   ]
  },
  {
   "cell_type": "code",
   "execution_count": 114,
   "metadata": {},
   "outputs": [
    {
     "name": "stdout",
     "output_type": "stream",
     "text": [
      "-210\n",
      "-7\n",
      "[-7, 8, 10, 32, -50, 87, -100, 117, -210]\n",
      "\n",
      "[(-10, 15), (1, -1), (1, 5), (2, -4), (2, 3), (7, 18), (10, 9)]\n",
      "[(2, -4), (1, -1), (2, 3), (1, 5), (10, 9), (-10, 15), (7, 18)]\n",
      "[(2, -4), (1, -1), (2, 3), (-10, 15), (1, 5), (10, 9), (7, 18)]\n"
     ]
    }
   ],
   "source": [
    "# работа функций со встроенными аргументами \n",
    "# (например, есть встроенный компаратор key в теле функций)\n",
    "\n",
    "# пример1 - выборка из чисел с доп условием \"по модулю\" \n",
    "numbers = [10, -7, 8, -100, -50, 32, 87, 117, -210]\n",
    "\n",
    "print(max(numbers, key=abs))        #  указываем функцию abs в качестве компаратора\n",
    "print(min(numbers, key=abs))        #  указываем функцию abs в качестве компаратора\n",
    "print(sorted(numbers, key=abs))     #  указываем функцию abs в качестве компаратора\n",
    "\n",
    "print() \n",
    "\n",
    "# пример 2 - сортировка кортежей координат точек\n",
    "def compare_by_second(point):\n",
    "    return point[1]\n",
    "\n",
    "\n",
    "def compare_by_sum(point):\n",
    "    return point[0] + point[1]\n",
    "\n",
    "\n",
    "points = [(1, -1), (2, 3), (-10, 15), (10, 9), (7, 18), (1, 5), (2, -4)]\n",
    "\n",
    "print(sorted(points))                          # сортируем по первому значению (при совпадении первых - по второму)\n",
    "print(sorted(points, key=compare_by_second))   # сортируем по второму значению кортежа\n",
    "print(sorted(points, key=compare_by_sum))      # сортируем по сумме кортежа\n"
   ]
  },
  {
   "cell_type": "code",
   "execution_count": 121,
   "metadata": {},
   "outputs": [
    {
     "name": "stdout",
     "output_type": "stream",
     "text": [
      "Hello from function!\n"
     ]
    }
   ],
   "source": [
    "def generator():\n",
    "    def hello():\n",
    "        print('Hello from function!')\n",
    "    return hello\n",
    "\n",
    "func = generator()    # определили функцию, который выводит результат функции генератора\n",
    "                      # генератор в своем результате возвращает функцию hello \n",
    "                      # функция hello печатает приветствие - строку\n",
    "func()                # объявление функции выполнит всю описанную выше цепочку\n",
    "\n"
   ]
  },
  {
   "cell_type": "code",
   "execution_count": 122,
   "metadata": {},
   "outputs": [
    {
     "name": "stdout",
     "output_type": "stream",
     "text": [
      "4\n",
      "5\n",
      "57\n"
     ]
    }
   ],
   "source": [
    "# пример получше - квадратные трехчлены и их многоуровненые функции (высшего порядка)\n",
    "\n",
    "def generator_square_polynom(a, b, c):          # задаем функцию верхнего порядка (квадратный трехчлен с коэфф, a,b,c)\n",
    "    def square_polynom(x):                          # в ней - функция второго порядка (с одним аргументом - х)\n",
    "        return a*x**2 + b*x + c                     # результат возвращает ЗНАЧЕНИЕ выражения\n",
    "    return square_polynom                       # а функция верхнего уровня возвращает САМУ функцию второго порядка\n",
    "\n",
    "# теперь присваиваем нужным нам переменным результат для разных ИМЕНОВАННЫХ коэффициентов, \n",
    "# создавая таким образом разнообразные многочлены: \n",
    "f = generator_square_polynom(a=1, b=2, c=1)             # x2+2x+1\n",
    "g = generator_square_polynom(a=2, b=0, c=-3)            # 2x2+0x-3\n",
    "h = generator_square_polynom(a=-3, b=-10, c=50)         # -3x2-10х+50\n",
    "\n",
    "# а здесь задаем сами значения х для этих функций, \n",
    "# помня, что результатом вызова этих функций будет возвращенное значение функций второго уровня \n",
    "# А это именно значение выражения с уже ЗАДАННЫМИ коэффициентами a,b,c (мы их проименовали выше)\n",
    "print(f(1))         # для х=1\n",
    "print(g(2))         # для х=2\n",
    "print(h(-1))        # для х=-1\n",
    "\n",
    "\n",
    "# здесь функция sqare_polynom - это внутренняя функция, называется ЗАМЫКАНИЕ \n",
    "# Замыкания – вложенные функции, ссылающиеся на переменные, объявленные вне определения этой функции, \n",
    "# и не являющиеся её параметрами."
   ]
  },
  {
   "cell_type": "code",
   "execution_count": 127,
   "metadata": {},
   "outputs": [
    {
     "name": "stdout",
     "output_type": "stream",
     "text": [
      "[('blue', 1), ('blue', 2), ('green', 5), ('red', 1)]\n",
      "\n",
      "[('blue', 2), ('blue', 1), ('green', 5), ('red', 1)]\n",
      "\n",
      "[('blue', 1), ('blue', 2), ('green', 5), ('red', 1)]\n"
     ]
    }
   ],
   "source": [
    "data = [('red', 1), ('blue', 2), ('green', 5), ('blue', 1)]\n",
    "\n",
    "data1= [('red', 1), ('blue', 1), ('green', 5), ('blue', 2)]   # поменяли местами кортежи (blue,1), (blue,2)\n",
    "\n",
    "print(sorted(data))                     # выведет сортированный список по первому элементы кортежа (при совпадении - по второму)\n",
    "print()\n",
    "\n",
    "def comparator(item):\n",
    "    return item[0]\n",
    "\n",
    "print(sorted(data, key=comparator))     # выведет сортированный список ТОЛЬКО по первому элементу списка, \n",
    "                                        # не глядя на второй элемент вообще (то есть просто по ПОРЯДКУ нахождения в списке)\n",
    "print()\n",
    "print(sorted(data1, key=comparator))    # а это уже список, в котором мы заведомо переставили два кортежа с совпадающим первым элементом\n",
    "                                        # поэтому функция sorted прошлась по всему списку data1 и записала \n",
    "                                        # новый список ПО ПОРЯДКУ следования индексов каждого кортежа в исходном списке \n",
    "                                        # потому что для значения ключа мы установили функцию компаратора\n"
   ]
  },
  {
   "cell_type": "code",
   "execution_count": 128,
   "metadata": {},
   "outputs": [
    {
     "name": "stdout",
     "output_type": "stream",
     "text": [
      "['a', 'is', 'of', 'this', 'test', 'sorting']\n"
     ]
    }
   ],
   "source": [
    "# хороший пример работы функции верхнего порядка с учетом следования в исходном списке\n",
    "\n",
    "words = ['this', 'is', 'a', 'test', 'of', 'sorting']  # длина некоторых элементов совпадает\n",
    "words.sort(key=len)                                   # при сортировке элементов по длине в первые пойдут те, что раньше встретились\n",
    "print(words)"
   ]
  },
  {
   "cell_type": "code",
   "execution_count": 131,
   "metadata": {},
   "outputs": [
    {
     "name": "stdout",
     "output_type": "stream",
     "text": [
      "(-9, 8, 4)\n",
      "(81, 39)\n",
      "[(-9, 8, 4), (1, 2, 3), (1, 2, 3, 4, 5, 6), (90, 1, -45, -21), (10, 10, 10), (12,), (10, 20, 30, -2), (-5, 90, -1, -5), (-2, -4, 100), (1, 2, 99), (30, 45, 56), (89, 9, 34), (50, 40, 50), (34, 78, 65), (81, 39)]\n"
     ]
    }
   ],
   "source": [
    "# Дан список кортежей. Надо: \n",
    "# Cначала вывести на принт тот кортеж, среднее арифметическое которого минимально из всего списка кортежей.\n",
    "# Затем вывести на принт тот кортеж, среднее арифметическое которого максимально из всего списка кортежей.\n",
    "\n",
    "numbers = [(10, 10, 10), (30, 45, 56), (81, 39), (1, 2, 3), (12,), (-2, -4, 100), \n",
    "            (1, 2, 99), (89, 9, 34), (10, 20, 30, -2), (50, 40, 50), (34, 78, 65), \n",
    "            (-5, 90, -1, -5), (1, 2, 3, 4, 5, 6), (-9, 8, 4), (90, 1, -45, -21)]\n",
    "\n",
    "def comparator(number):\n",
    "    from statistics import mean\n",
    "    return mean(number)\n",
    "\n",
    "print(min(numbers, key=comparator), max(numbers, key=comparator), sep='\\n')\n",
    "\n",
    "print(sorted(numbers, key=comparator))      # факультаттивно: отсортированный список по тому же принципу \n",
    "                                            # (от наименьшего по среднему к наибольшему по среднему) "
   ]
  },
  {
   "cell_type": "code",
   "execution_count": 135,
   "metadata": {},
   "outputs": [
    {
     "name": "stdout",
     "output_type": "stream",
     "text": [
      "[(0, 0), (0, 1), (-1, 1), (2, 0), (3, 0), (-1, 3), (-3, 2), (4, 3), (3, 6), (5, 6), (-9, 1), (8, 8), (12, 0)]\n",
      "\n",
      "[(0, 0), (0, 1), (-1, 1), (2, 0), (3, 0), (-1, 3), (-3, 2), (4, 3), (3, 6), (5, 6), (-9, 1), (8, 8), (12, 0)]\n"
     ]
    }
   ],
   "source": [
    "# Напишите программу, которая сортирует список points координат точек плоскости в соответствии \n",
    "# с расстоянием от начала координат (точки (0;0)). Программа должна вывести отсортированный список.\n",
    "\n",
    "points = [(-1, 1), (5, 6), (12, 0), (4, 3), (0, 1), (-3, 2), \n",
    "            (0, 0), (-1, 3), (2, 0), (3, 0), (-9, 1), (3, 6), (8, 8)]\n",
    "\n",
    "# первое решение: через встроенную функцию выбора эвклидова расстояния между точками\n",
    "def compare_evc(point):\n",
    "    from math import dist\n",
    "    return dist(point, (0,0))\n",
    "\n",
    "print(sorted(points, key=compare_evc))\n",
    "\n",
    "print()\n",
    "\n",
    "# второе решение: через просто сумму квадратов расстояний до точки\n",
    "\n",
    "def compare_dist(point):\n",
    "    return point[0]**2+point[1]**2\n",
    "\n",
    "print(sorted(points, key=compare_dist))"
   ]
  },
  {
   "cell_type": "code",
   "execution_count": 136,
   "metadata": {},
   "outputs": [
    {
     "name": "stdout",
     "output_type": "stream",
     "text": [
      "[(1, 2, 3), (10, 10, 10), (10, 20, 30), (12, 45, 67), (-5, 90, -1), (30, 45, 56), (50, 40, 50), (-2, -4, 100), (1, 2, 99), (34, 78, 65), (81, 80, 39), (89, 90, 34)]\n"
     ]
    }
   ],
   "source": [
    "# функция сортирует и выводит список numbers в соответствии с суммой минимального и максимального элемента кортежа.\n",
    "\n",
    "numbers = [(10, 10, 10), (30, 45, 56), (81, 80, 39), (1, 2, 3), (12, 45, 67), (-2, -4, 100), \n",
    "            (1, 2, 99), (89, 90, 34), (10, 20, 30), (50, 40, 50), (34, 78, 65), (-5, 90, -1)]\n",
    "\n",
    "def compare(number):\n",
    "    return min(number)+max(number)\n",
    "\n",
    "print(sorted(numbers, key=compare))"
   ]
  },
  {
   "cell_type": "code",
   "execution_count": null,
   "metadata": {},
   "outputs": [],
   "source": [
    "# ситуация, когда необходимо выполнить некую функцию, если задано имя команды. \n",
    "# Для простоты предположим, если пришла команда start — надо выполнить функцию start(), \n",
    "# если команда stop — функцию stop(), если команда pause — функцию pause().\n",
    "\n",
    "def start():\n",
    "    # тело функции start\n",
    "\n",
    "\n",
    "def stop():\n",
    "    # тело функции stop\n",
    "\n",
    "\n",
    "def pause():\n",
    "    # тело функции pause\n",
    "\n",
    "\n",
    "commands = {'start': start, 'stop': stop, 'pause': pause}  # словарь соответствия команда → функция\n",
    "\n",
    "command = input()        # считываем название команды\n",
    "\n",
    "commands[command]()      # вызываем нужную функцию через словарь по ключу"
   ]
  },
  {
   "cell_type": "code",
   "execution_count": 150,
   "metadata": {},
   "outputs": [
    {
     "name": "stdout",
     "output_type": "stream",
     "text": [
      "Рустам 10 128 30\n",
      "Дима 10 130 35\n",
      "Тимур 11 135 39\n",
      "Руслан 9 140 33\n",
      "Матвей 17 168 68\n",
      "Амир 16 170 70\n",
      "Рома 16 188 100\n",
      "Петя 15 190 90\n"
     ]
    }
   ],
   "source": [
    "# отсортировать спортсменов по одному из 4 показателей (имя, возраст, рост, вес)\n",
    "# на вход программе подается число: \n",
    "# 1- сортируй по имени \n",
    "# 2 - сортируй по возрасту \n",
    "# 3 - сортируй по росту \n",
    "# 4 - сортируй по весу\n",
    "\n",
    "athletes = [('Дима', 10, 130, 35), ('Тимур', 11, 135, 39), ('Руслан', 9, 140, 33), ('Рустам', 10, 128, 30), \n",
    "            ('Амир', 16, 170, 70), ('Рома', 16, 188, 100), ('Матвей', 17, 168, 68), ('Петя', 15, 190, 90)]\n",
    "\n",
    "def sort_spis(operation):           # создаем функцию сортировки по заданному номеру операции (имя, возраст, рост, вес)\n",
    "    def compare(athlet):            # создаем замыкание - внутреннюю фукнцию сортировки\n",
    "        return athlet[operation]    # говорим как сортировать - по 1,2,3, или 4 элементу в кортеже атлета\n",
    "    return compare                  # возвращаем внутреннюю функцию\n",
    "\n",
    "\n",
    "operation=int(input())-1\n",
    "\n",
    "#print(sorted(athletes, key= sort_spis(operation)))\n",
    "\n",
    "print(*[' '.join([str(elem) for elem in athlet]) for athlet in sorted(athletes, key= sort_spis(operation))], sep='\\n')\n",
    "\n",
    "# что сделали по шагам: \n",
    "# 1) внутренний цикл - превращаем каждый элемент в кортеже athlet в строку, превращаем каждый кортеж в список \n",
    "# 2) атлетов берем из отсортированного списка по заданному нам условию (номер операции) \n",
    "# 3) в полученном смысле создаем строку в виде 'имя возраст рост вес' \n",
    "# 4) раскрываем список через оператор звездочки\n",
    "\n"
   ]
  },
  {
   "cell_type": "code",
   "execution_count": 148,
   "metadata": {},
   "outputs": [
    {
     "name": "stdout",
     "output_type": "stream",
     "text": [
      "[('Амир', 16, 170, 70), ('Дима', 10, 130, 35), ('Матвей', 17, 168, 68), ('Петя', 15, 190, 90), ('Рома', 16, 188, 100), ('Руслан', 9, 140, 33), ('Рустам', 10, 128, 30), ('Тимур', 11, 135, 39)]\n"
     ]
    }
   ],
   "source": [
    "# отсортировать спортсменов по одному из 4 показателей (имя, возраст, рост, вес)\n",
    "# на вход программе подается название сортировки: \n",
    "# name - сортируй по имени \n",
    "# age - сортируй по возрасту \n",
    "# height - сортируй по росту \n",
    "# weight - сортируй по весу\n",
    "\n",
    "athletes = [('Дима', 10, 130, 35), ('Тимур', 11, 135, 39), ('Руслан', 9, 140, 33), ('Рустам', 10, 128, 30), \n",
    "            ('Амир', 16, 170, 70), ('Рома', 16, 188, 100), ('Матвей', 17, 168, 68), ('Петя', 15, 190, 90)]\n",
    "\n",
    "def sort_spis(operation):\n",
    "    def compare(athlet):\n",
    "        return athlet[operation]\n",
    "    return compare\n",
    "\n",
    "\n",
    "operations={'name':0, 'age':1, 'weight':3, 'height':2}\n",
    "operation=operations[input()]\n",
    "\n",
    "print(sorted(athletes, key= sort_spis(operation)))\n"
   ]
  },
  {
   "cell_type": "code",
   "execution_count": 165,
   "metadata": {},
   "outputs": [
    {
     "name": "stdout",
     "output_type": "stream",
     "text": [
      "0.9893582466233818\n"
     ]
    }
   ],
   "source": [
    "# программа принимает число и название функции, а выводит результат применения функции к данному числу\n",
    "# квадрат: функция принимает число и возвращает его квадрат;\n",
    "# куб: функция принимает число и возвращает его куб;\n",
    "# корень: функция принимает число и возвращает корень квадратный из этого числа;\n",
    "# модуль: функция принимает число и возвращает его модуль;\n",
    "# синус: функция принимает число (в радианах) и возвращает синус этого числа.\n",
    "\n",
    "# чужое решение\n",
    "\n",
    "import math\n",
    "\n",
    "def pwr(p):\n",
    "  def numpower(n):\n",
    "    return n**p         # возвращает значение заданного числа, возведенного в заданную степень\n",
    "  return numpower       # будет возвращать функцию, которая возводит заданное число в степень\n",
    "\n",
    "commands = {\"квадрат\": pwr(2), \"куб\": pwr(3), \"корень\": pwr(0.5), \"модуль\": abs, \"синус\": math.sin}\n",
    "# а словарь определяет функцию и степень, в которую нужно возвести число \n",
    "# а если нужно модуль или синус - то степень вообще не прописывается\n",
    "\n",
    "n = int(input())\n",
    "command = input()\n",
    "print(commands[command](n))     # собственно по-русски: по введенному ключу (квадрат, куб, синус...) выбираем значение из словаря\n",
    "                                # это значение - имя фукции, прописанной ранее \n",
    "                                # а 'n' - это число, которое является аргументов функции из словаря"
   ]
  },
  {
   "cell_type": "code",
   "execution_count": 163,
   "metadata": {},
   "outputs": [
    {
     "name": "stdout",
     "output_type": "stream",
     "text": [
      "3\n"
     ]
    }
   ],
   "source": [
    "# второе решение задачи выше (мое)\n",
    "\n",
    "def result(x,num_func):\n",
    "    from math import sin\n",
    "    return (x**2, x**3, x**0.5, abs(x), sin(x))[num_func]\n",
    "\n",
    "name_func = {'квадрат': 0, 'куб':1, 'корень':2, 'модуль':3, 'синус':4} # определяем значение индекса для выбора фукнции\n",
    "\n",
    "dig, name = int(input()), input()     # получаем число для вычислений и имя функции\n",
    "\n",
    "print(result(dig,name_func[name]))"
   ]
  },
  {
   "cell_type": "code",
   "execution_count": 169,
   "metadata": {},
   "outputs": [
    {
     "name": "stdout",
     "output_type": "stream",
     "text": [
      "111 12 4 14 123 7 90 45 171 79\n"
     ]
    }
   ],
   "source": [
    "# программу сортировки списка чисел в порядке неубывания суммы их цифр. \n",
    "# При этом, если два числа имеют одинаковую сумму цифр, следует сохранить их взаиморасположение в начальном списке\n",
    "\n",
    "def compare(number):\n",
    "    return sum([int(digit) for digit in list(number)])\n",
    "\n",
    "numbers= input().split()              # на вход получаем строку чисел через пробел\n",
    "\n",
    "print(*sorted(numbers, key = compare))\n",
    "\n",
    "# что делаем: \n",
    "# - бьем входящую строку чисел в список по пробелу \n",
    "# - функция сравнивалки: возвращаем значение суммы цифр каждого элемента из списка, \n",
    "# не забывая переводить каждую цифр из строки в целочисленное значение \n",
    "# - на печати распаковываем список , который сортирован с учетом ключа-функции"
   ]
  },
  {
   "cell_type": "code",
   "execution_count": 174,
   "metadata": {},
   "outputs": [
    {
     "name": "stdout",
     "output_type": "stream",
     "text": [
      "[4, 7, 12, 14, 45, 79, 90, 111, 123, 171]\n",
      "12 111 4 14 123 7 45 90 171 79\n"
     ]
    }
   ],
   "source": [
    "# сортировки списка чисел в порядке неубывания суммы их цифр. \n",
    "# При этом, если у двух чисел ОДИНАКОВАЯ сумма цифр, их следует вывести в порядке НЕУБЫВАНИЯ.\n",
    "\n",
    "def compare(number):\n",
    "    return sum([int(digit) for digit in list(str(number))])\n",
    "\n",
    "numbers= sorted([int(i) for i in input().split()])             # на вход получаем строку чисел через пробел\n",
    "\n",
    "\n",
    "print(*sorted(numbers, key = compare))\n"
   ]
  },
  {
   "attachments": {},
   "cell_type": "markdown",
   "metadata": {},
   "source": [
    "итераторы, которые возвращают функции map() и filter(), можно обойти только один раз. То есть при вторичной итерации мы будем получать уже пустой итератор.\n",
    "\n"
   ]
  },
  {
   "cell_type": "code",
   "execution_count": 1,
   "metadata": {},
   "outputs": [
    {
     "name": "stdout",
     "output_type": "stream",
     "text": [
      "Первичная распаковка (итерация):  1 4 9 16 25 36 49 64 81\n",
      "Вторичная распаковка (итерация): \n",
      "Первичное преобразование в список (итерация):  [12, 90, 12]\n",
      "Вторичное преобразование в список (итерация):  []\n"
     ]
    }
   ],
   "source": [
    "squares = map(lambda x: x ** 2, range(1, 10))\n",
    "evens = filter(lambda x: x % 2 == 0, [9, 3, 45, 67, 12, 90, 87, 12, 45, 67])\n",
    "\n",
    "print('Первичная распаковка (итерация): ', *squares)\n",
    "print('Вторичная распаковка (итерация): ', *squares)\n",
    "\n",
    "print('Первичное преобразование в список (итерация): ', list(evens))\n",
    "print('Вторичное преобразование в список (итерация): ', list(evens))"
   ]
  },
  {
   "cell_type": "code",
   "execution_count": null,
   "metadata": {},
   "outputs": [],
   "source": [
    "# ФУНКЦИИ ВЫСШЕГО ПОРЯДКА ДЛЯ ОБРАБОТКИ НАБОРА ДАННЫХ \n",
    "# map()\n",
    "# filter()\n",
    "# reduce()\n",
    "\n",
    "\n",
    "# переопределение результата через list() позволяет получать именно список в итоге \n",
    "# действия ВСТРОЕННЫХ функций map,reduce, filter\n",
    "\n",
    "# Примечание: Встроенная функция map() реализована очень гибко. В качестве последовательностей мы можем \n",
    "# использовать: списки, строки, кортежи, множества, словари.\n",
    "\n",
    "# reduce(func, iterable, initializer=None) - синтаксис. \n",
    "# и не забывай, что нужно импортировать functools для инициализации \n",
    "# примечание Если начальное значение не установлено, то в его качестве \n",
    "# используется первое значение из последовательности iterable\n",
    "\n",
    "# примечания: \n",
    "# итераторы можно обойти циклом for;\n",
    "# итератор можно преобразовать в список или кортеж, с помощью функций list() и tuple();\n",
    "# итератор можно распаковать с помощью *"
   ]
  },
  {
   "cell_type": "code",
   "execution_count": 176,
   "metadata": {},
   "outputs": [
    {
     "name": "stdout",
     "output_type": "stream",
     "text": [
      "['1', '2', '-3', '4', '-5', '6', '-9', '0']\n",
      "[1, 2, 3, 4, 5, 6, 9, 0]\n",
      "[1, 4, 9, 16, 25, 36, 81, 0]\n",
      "[1, 8, -27, 64, -125, 216, -729, 0]\n",
      "\n",
      "['1', '2', '-3', '4', '-5', '6', '-9', '0']\n",
      "[1, 2, 3, 4, 5, 6, 9, 0]\n",
      "[1, 4, 9, 16, 25, 36, 81, 0]\n",
      "[1, 8, -27, 64, -125, 216, -729, 0]\n"
     ]
    }
   ],
   "source": [
    "# map() - когда нужно применить к некоторому набору данных(напр, список) некое преобразование (их может быть неограниченное количество видов)\n",
    "\n",
    "\n",
    "def map(function, items):           # примет функцию изменения и  список элементов, которые нужно изменить\n",
    "    result = []                     # результат запишем сюда\n",
    "    for item in items:\n",
    "        new_item = function(item)   # каждый элемент меняем на элемент, к которому применена функция\n",
    "        result.append(new_item)\n",
    "    return result\n",
    "\n",
    "def square(x):                      # часть фукций напишем сами (квадрат, куб числа)\n",
    "    return x**2\n",
    "\n",
    "\n",
    "def cube(x):\n",
    "    return x**3\n",
    "\n",
    "# какие-то возьмем из библиотеки питона (типа str() и abs())\n",
    "\n",
    "numbers = [1, 2, -3, 4, -5, 6, -9, 0]           # список под изменение\n",
    "\n",
    "# f теперь просто применим функцию к списку , резльтутаты запишем в новые переменные \n",
    "\n",
    "strings = map(str, numbers)        # используем в качестве преобразователя - функцию str\n",
    "abs_numbers = map(abs, numbers)    # используем в качестве преобразователя - функцию abs\n",
    "\n",
    "squares = map(square, numbers)     # используем в качестве преобразователя - функцию square\n",
    "cubes = map(cube, numbers)         # используем в качестве преобразователя - функцию cube\n",
    "\n",
    "print(strings)\n",
    "print(abs_numbers)\n",
    "print(squares)\n",
    "print(cubes)\n",
    "print()\n",
    "\n",
    "# по сути это эквивалетно списочным выражениям:\n",
    "print([str(i) for i in numbers],                # перевести в строку элементы\n",
    "        [abs(i)  for i in numbers ],            # взять модули элементов\n",
    "        [i**2  for i in numbers],               # взять квадраты элементов\n",
    "        [i**3  for i in numbers], sep='\\n')     # взять кубы элементов"
   ]
  },
  {
   "cell_type": "code",
   "execution_count": 177,
   "metadata": {},
   "outputs": [
    {
     "name": "stdout",
     "output_type": "stream",
     "text": [
      "[10, 12, -4, -9, 0, 1, 23, 100, 99]\n",
      "[10, 12, -4, -9, 0, 1, 23, 100, 99]\n"
     ]
    }
   ],
   "source": [
    "# но map() - уже встроенная в питоне, поэтому ее прописывать не нужно отдельной фукнцией, \n",
    "# достаточно просто указать в аргументах функцию замены и то, что нужно обработать: \n",
    "\n",
    "strings = ['10', '12', '-4', '-9', '0', '1', '23', '100', '99']\n",
    "\n",
    "numbers1 = [int(c) for c in strings]   # используем списочное выражение для преобразования\n",
    "numbers2 = map(int, strings)               # используем функцию map() для преобразования\n",
    "\n",
    "print(numbers1)\n",
    "print(numbers2)"
   ]
  },
  {
   "cell_type": "code",
   "execution_count": 178,
   "metadata": {},
   "outputs": [
    {
     "name": "stdout",
     "output_type": "stream",
     "text": [
      "[1, 20, 3, 94, 65, 6, 970, 8]\n"
     ]
    }
   ],
   "source": [
    "# самый кайф в том, что можно создавать цепочки преобразований с функцией map() \n",
    "# - а это реально может сократить количество кода: \n",
    "\n",
    "numbers = ['-1', '20', '3', '-94', '65', '6', '-970', '8']\n",
    "\n",
    "new_numbers = map(abs, map(int, numbers))       # сначала список переобуем в целые числа, а потом модули их  \n",
    "\n",
    "print(new_numbers)"
   ]
  },
  {
   "cell_type": "code",
   "execution_count": 181,
   "metadata": {},
   "outputs": [
    {
     "name": "stdout",
     "output_type": "stream",
     "text": [
      "[12, 48, 51, 19, 13]\n",
      "[12, 48, 51, 19, 13]\n",
      "[1, 3, 5, 7, 9, 11, 13]\n",
      "['останутся', 'длинные']\n"
     ]
    }
   ],
   "source": [
    "# filter() - когда нужен отбор элементов по конкретному критерию:\n",
    "\n",
    "def filter(function, items):        \n",
    "    result = []\n",
    "    for item in items:            # функция ПРЕДИКТОР (возвращает True или False)\n",
    "        if function(item):        # если значение True - то добавляем элемент в новый список\n",
    "                                  # если False - то идем дальше\n",
    "            result.append(item)  # добавляем элемент item если функция function вернула значение True\n",
    "    return result\n",
    "\n",
    "def is_greater10(num):   # функция возвращает значение True если число больше 10 и False в противном случае\n",
    "    return num > 10\n",
    "\n",
    "\n",
    "numbers = [12, 2, -30, 48, 51, -60, 19, 10, 13]\n",
    "\n",
    "large_numbers = filter(is_greater10, numbers)   #  список large_numbers содержит элементы, большие 10\n",
    "\n",
    "print(large_numbers)\n",
    "\n",
    "# по сути это эквивалетно списочному выражению:\n",
    "print([i for i in numbers if i>10])\n",
    "\n",
    "# еще примеры:\n",
    "def is_odd(num):                # позволит выбрать только те, у которых есть остаток от деления на 2\n",
    "    return num % 2              # функция вернет 1 или 0 - а это как раз True или False\n",
    "\n",
    "\n",
    "def is_word_long(word):         # выбрать те, что длинее 6 символов\n",
    "    return len(word) > 6\n",
    "\n",
    "\n",
    "numbers = list(range(15))\n",
    "words = ['В', 'новом', 'списке', 'останутся', 'только', 'длинные', 'слова']\n",
    "\n",
    "odd_numbers = filter(is_odd, numbers)\n",
    "large_words = filter(is_word_long, words)\n",
    "\n",
    "print(odd_numbers)\n",
    "print(large_words)"
   ]
  },
  {
   "cell_type": "code",
   "execution_count": 4,
   "metadata": {},
   "outputs": [
    {
     "name": "stdout",
     "output_type": "stream",
     "text": [
      "<filter object at 0x1105f8d60>\n",
      "<filter object at 0x1105fa230>\n",
      "<filter object at 0x1105fab60>\n"
     ]
    }
   ],
   "source": [
    "# filter уже реализована в питоне, поэтому ее прописывать не нужно:\n",
    "\n",
    "def is_odd(num):                # позволит выбрать только те, у которых есть остаток от деления на 2\n",
    "    return num % 2              # функция вернет 1 или 0 - а это как раз True или False\n",
    "\n",
    "\n",
    "def is_word_long(word):         # выбрать те, что длинее 6 символов\n",
    "    return len(word) > 6\n",
    "\n",
    "\n",
    "numbers = list(range(15))\n",
    "words = ['В', 'новом', 'списке', 'останутся', 'только', 'длинные', 'слова']\n",
    "\n",
    "odd_numbers = filter(is_odd, numbers)\n",
    "large_words = filter(is_word_long, words)\n",
    "\n",
    "print(odd_numbers)\n",
    "print(large_words)\n",
    "\n",
    "print(filter(str, words))\n",
    "# print(filter(int, words)) - это выдаст ошибку\n",
    "\n"
   ]
  },
  {
   "cell_type": "code",
   "execution_count": 22,
   "metadata": {},
   "outputs": [
    {
     "name": "stdout",
     "output_type": "stream",
     "text": [
      "15\n",
      "120\n"
     ]
    }
   ],
   "source": [
    "# reduce() - когда нужна агрегация результата — формированием одного результирующего значения \n",
    "# при комбинации элементов с использованием аргумента-аккумулятора\n",
    "\n",
    "def reduce(operation, items, initial_value):    # должны задать операцию, набор элементов, стартовое значение\n",
    "    acc = initial_value                         # присваиваем аккумулятору стартовое значение\n",
    "    for item in items:\n",
    "        acc = operation(acc, item)              # применяем к каждому элементу операцию\n",
    "    return acc\n",
    "\n",
    "def add(x, y):                                  # это операция суммы всех элементов\n",
    "    return x+y\n",
    "\n",
    "\n",
    "def mult(x, y):                                 # это операция произведения всех элементов\n",
    "    return x*y\n",
    "\n",
    "\n",
    "numbers = [1, 2, 3, 4, 5]\n",
    "\n",
    "total = reduce(add, numbers, 0)\n",
    "product = reduce(mult, numbers, 1)\n",
    "\n",
    "print(total)\n",
    "print(product)"
   ]
  },
  {
   "cell_type": "code",
   "execution_count": 20,
   "metadata": {},
   "outputs": [
    {
     "name": "stdout",
     "output_type": "stream",
     "text": [
      "15\n",
      "120\n"
     ]
    }
   ],
   "source": [
    "# reduce() уже прописана в питоне, поэтому в каждом коде ее проипсывать не нужно:\n",
    "\n",
    "def add(x, y):                                  # это операция суммы всех элементов\n",
    "    return x+y\n",
    "\n",
    "\n",
    "def mult(x, y):                                 # это операция произведения всех элементов\n",
    "    return x*y\n",
    "\n",
    "\n",
    "numbers = [1, 2, 3, 4, 5]\n",
    "\n",
    "total = reduce(add, numbers, 0)\n",
    "product = reduce(mult, numbers, 1)\n",
    "\n",
    "print(total)\n",
    "print(product)\n",
    "\n",
    "# В математике определенная нами функция reduce() называется левая свёртка (left fold), \n",
    "# по сути мы сворачиваем список в одно значение, начиная слева. \n",
    "# Существует ещё и правая свёртка (right fold). В большинстве случаев обе свёртки дают одинаковый результат, \n",
    "# если применяемая операция ассоциативна."
   ]
  },
  {
   "cell_type": "code",
   "execution_count": 192,
   "metadata": {},
   "outputs": [
    {
     "name": "stdout",
     "output_type": "stream",
     "text": [
      "-99\n"
     ]
    }
   ],
   "source": [
    "numbers = [-2, 45, 45, -7, -45, 37, -42, 27, -58, -58, -12, -27, -49, -27, -56, 4, -99, -11, 86]\n",
    "\n",
    "var1 = max(numbers, key=abs)\n",
    "\n",
    "print(var1)"
   ]
  },
  {
   "cell_type": "code",
   "execution_count": 4,
   "metadata": {},
   "outputs": [
    {
     "name": "stdout",
     "output_type": "stream",
     "text": [
      "-97\n"
     ]
    }
   ],
   "source": [
    "# хороший пример работы комбинации для встроенной map() и функции, которой передан необязательный аргумент key\n",
    "\n",
    "numbers = [-2, 45, 45, -7, -45, 37, -42, 27, -58, -58, -12, -27, -49, -27, -56, 4, -99, -11, 86]\n",
    "\n",
    "var1 = max(numbers, key=abs)        # вернет элемент из списка numbers, который самый большой ПО МОДУЛЮ\n",
    "var2 = min(map(abs, numbers))       # вернет минимальный элемент списка, который преобразован из numbers путем \n",
    "                                    # замены каждого элемента на модуль значения\n",
    "\n",
    "print(var1 + var2)"
   ]
  },
  {
   "cell_type": "code",
   "execution_count": 3,
   "metadata": {},
   "outputs": [
    {
     "name": "stdout",
     "output_type": "stream",
     "text": [
      "283593393 758550528 154854153 8869743 16974593 12487168 6028568 849278123 2863288 57960603 575930368\n",
      "283593393 758550528 154854153 8869743 16974593 12487168 6028568 849278123 2863288 57960603 575930368\n"
     ]
    }
   ],
   "source": [
    "# выбрать из списка только трехзначные числа, которые кончаются на 2 или 7 и возвести каждое в куб\n",
    "\n",
    "numbers = [1014, 1321, 675, 1215, 56, 1386, 1385, 431, 1058, 486, 1434, 696, 1016, 1084, 424, 1189, 475, 95, 1434, 1462, 815, 776, 657, 1225, 912, 537, 1478, 1176, 544, 488, 668, 944, 207, 266, 1309, 1027, 257, 1374, 1289, 1155, 230, 866, 708, 144, 1434, 1163, 345, 394, 560, 338, 232, 182, 1438, 1127, 928, 1309, 98, 530, 1013, 898, 669, 105, 130, 1363, 947, 72, 1278, 166, 904, 349, 831, 1207, 1496, 370, 725, 926, 175, 959, 1282, 336, 1268, 351, 1439, 186, 273, 1008, 231, 138, 142, 433, 456, 1268, 1018, 1274, 387, 120, 340, 963, 832, 1127]\n",
    "\n",
    "def length(number):\n",
    "    return len(str(number))==3 and number%5==2 \n",
    "\n",
    "def cube(number):\n",
    "    return number**3\n",
    "\n",
    "print(*map(cube, filter(length, numbers)))\n",
    "\n",
    "\n",
    "print(*[i**3 for i in filter(length, numbers)])"
   ]
  },
  {
   "cell_type": "code",
   "execution_count": 24,
   "metadata": {},
   "outputs": [
    {
     "name": "stdout",
     "output_type": "stream",
     "text": [
      "319563\n",
      "319563\n",
      "319563\n"
     ]
    }
   ],
   "source": [
    "# сумма квадратов списка тремя способами: \n",
    "\n",
    "numbers = [97, 42, 9, 32, 3, 45, 31, 77, -1, 11, -2, 75, 5, 51, 34, 28, 46, 1, -8, 84, 16, 51, 90, 56, 65, 90, 23, 35, 11, -10, 70, 90, 90, 12, 96, 58, -8, -4, 91, 76, 94, 60, 72, 43, 4, -6, -5, 51, 58, 60, 30, 38, 67, 62, 36, 72, 34, 82, 62, -1, 60, 82, 87, 81, -7, 57, 26, 36, 17, 43, 80, 40, 75, 94, 91, 64, 38, 72, 29, 84, 38, 35, 7, 54, 31, 95, 78, 27, 82, 1, 64, 94, 31, 29, -8, 98, 24, 61, 7, 73]\n",
    "\n",
    "from functools import reduce            # не забывай импортировать функцию reduce\n",
    "\n",
    "print(sum([i**2 for i in numbers]))\n",
    "\n",
    "def square(number):\n",
    "    return number**2\n",
    "\n",
    "print(sum(map(square, numbers)))\n",
    "\n",
    "def add(x, y):                                  # это операция суммы всех элементов\n",
    "    return x+square(y)\n",
    "\n",
    "print(reduce(add, numbers,0))"
   ]
  },
  {
   "cell_type": "code",
   "execution_count": 28,
   "metadata": {},
   "outputs": [
    {
     "name": "stdout",
     "output_type": "stream",
     "text": [
      "25137\n"
     ]
    }
   ],
   "source": [
    "numbers = [77, 293, 28, 242, 213, 285, 71, 286, 144, 276, 61, 298, 280, 214, \n",
    "            156, 227, 228, 51, -4, 202, 58, 99, 270, 219, 94, 253, 53, 235, 9, \n",
    "            158, 49, 183, 166, 205, 183, 266, 180, 6, 279, 200, 208, 231, 178, 201, \n",
    "            260, -35, 152, 115, 79, 284, 181, 92, 286, 98, 271, 259, 258, 196, -8, 43, \n",
    "            2, 128, 143, 43, 297, 229, 60, 254, -9, 5, 187, 220, -8, 111, 285, 5, 263, 187, \n",
    "            192, -9, 268, -9, 23, 71, 135, 7, -161, 65, 135, 29, 148, 242, 33, 35, 211, 5, 161, \n",
    "            46, 159, 23, 169, 23, 172, 184, -7, 228, 129, 274, 73, 197, 272, 54, 278, 26, 280, 13, \n",
    "            171, 2, 79, -2, 183, 10, 236, 276, 4, 29, -10, 41, 269, 94, 279, 129, 39, 92, -63, 263, 219, \n",
    "            57, 18, 236, 291, 234, 10, 250, 0, 64, 172, 216, 30, 15, 229, 205, 123, -105]\n",
    "\n",
    "def filter(function, items):\n",
    "    result = []\n",
    "    for item in items:\n",
    "        if function(item):\n",
    "            result.append(item)\n",
    "    return result\n",
    "\n",
    "def map(function, items):\n",
    "    result = []\n",
    "    for item in items:\n",
    "        result.append(function(item))\n",
    "    return result\n",
    "\n",
    "def filt(number):\n",
    "    return (number%7)==0 and len(str(abs(number)))==2\n",
    "\n",
    "def square(number):\n",
    "    return number**2\n",
    "\n",
    "print(sum(list(map(square, list(filter(filt, numbers)))))) \n",
    "\n",
    "# переопределение результата через list() позволяет получать именно список в итоге \n",
    "# действия ВСТРОЕННЫХ функций map,reduce, filter"
   ]
  },
  {
   "cell_type": "code",
   "execution_count": 17,
   "metadata": {},
   "outputs": [
    {
     "name": "stdout",
     "output_type": "stream",
     "text": [
      "25137\n"
     ]
    }
   ],
   "source": [
    "numbers = [77, 293, 28, 242, 213, 285, 71, 286, 144, 276, 61, 298, 280, 214, \n",
    "            156, 227, 228, 51, -4, 202, 58, 99, 270, 219, 94, 253, 53, 235, 9, \n",
    "            158, 49, 183, 166, 205, 183, 266, 180, 6, 279, 200, 208, 231, 178, 201, \n",
    "            260, -35, 152, 115, 79, 284, 181, 92, 286, 98, 271, 259, 258, 196, -8, 43, \n",
    "            2, 128, 143, 43, 297, 229, 60, 254, -9, 5, 187, 220, -8, 111, 285, 5, 263, 187, \n",
    "            192, -9, 268, -9, 23, 71, 135, 7, -161, 65, 135, 29, 148, 242, 33, 35, 211, 5, 161, \n",
    "            46, 159, 23, 169, 23, 172, 184, -7, 228, 129, 274, 73, 197, 272, 54, 278, 26, 280, 13, \n",
    "            171, 2, 79, -2, 183, 10, 236, 276, 4, 29, -10, 41, 269, 94, 279, 129, 39, 92, -63, 263, 219, \n",
    "            57, 18, 236, 291, 234, 10, 250, 0, 64, 172, 216, 30, 15, 229, 205, 123, -105]\n",
    "\n",
    "print(sum([i**2 for i in numbers if i%7==0 and len(str(abs(i)))==2]))\n",
    "\n"
   ]
  },
  {
   "cell_type": "code",
   "execution_count": 26,
   "metadata": {},
   "outputs": [
    {
     "name": "stdout",
     "output_type": "stream",
     "text": [
      "[7, 14, 21, 28, 35, 42]\n",
      "[4, 5, 6, 7, 8, 9]\n",
      "['1', '2', '3', '4', '5', '6']\n"
     ]
    }
   ],
   "source": [
    "# Напишите функцию func_apply(), принимающую на вход функцию и список значений и возвращающую список, \n",
    "# в котором каждое значение будет результатом применения переданной функции к переданному списку.\n",
    "\n",
    "def func_apply(func, spis):\n",
    "    return [func(i) for i in spis]\n",
    "\n",
    "def add3(x):\n",
    "    return x + 3\n",
    "\n",
    "\n",
    "def mul7(x):\n",
    "    return x * 7\n",
    "\n",
    "\n",
    "print(func_apply(mul7, [1, 2, 3, 4, 5, 6]))\n",
    "print(func_apply(add3, [1, 2, 3, 4, 5, 6]))\n",
    "print(func_apply(str, [1, 2, 3, 4, 5, 6]))\n",
    "\n"
   ]
  },
  {
   "cell_type": "code",
   "execution_count": 1,
   "metadata": {},
   "outputs": [
    {
     "name": "stdout",
     "output_type": "stream",
     "text": [
      "[111, 222, 333, 444, 555]\n"
     ]
    }
   ],
   "source": [
    "# работа встроенных функций map, filter, reduce c НЕСКОЛЬКИМИ аргументами\n",
    "\n",
    "def func(elem1, elem2, elem3):\n",
    "    return elem1 + elem2 + elem3\n",
    "\n",
    "\n",
    "numbers1 = [1, 2, 3, 4, 5]\n",
    "numbers2 = [10, 20, 30, 40, 50]\n",
    "numbers3 = [100, 200, 300, 400, 500]\n",
    "\n",
    "new_numbers = list(map(func, numbers1, numbers2, numbers3))  #  преобразуем итератор в список\n",
    "\n",
    "print(new_numbers)"
   ]
  },
  {
   "cell_type": "code",
   "execution_count": 2,
   "metadata": {},
   "outputs": [
    {
     "name": "stdout",
     "output_type": "stream",
     "text": [
      "[111, 222]\n"
     ]
    }
   ],
   "source": [
    "# что произоудет, если число элементов внутри элементов последовательности разное? \n",
    "# тогда последовательность с МИНИМАЛЬНЫМ количеством элементов становится ограничителем.\n",
    "\n",
    "def func(elem1, elem2, elem3):\n",
    "    return elem1 + elem2 + elem3\n",
    "\n",
    "\n",
    "numbers1 = [1, 2, 3, 4]\n",
    "numbers2 = [10, 20]\n",
    "numbers3 = [100, 200, 300, 400, 500]\n",
    "\n",
    "new_numbers = list(map(func, numbers1, numbers2, numbers3))  #  преобразуем итератор в список\n",
    "\n",
    "print(new_numbers)"
   ]
  },
  {
   "cell_type": "code",
   "execution_count": 5,
   "metadata": {},
   "outputs": [
    {
     "name": "stdout",
     "output_type": "stream",
     "text": [
      "[3.56773, 5.57668, 4.31914, 6.20241, 91.01344, 32.01213]\n",
      "[3.6, 5.6, 4.3, 6.2, 91.0, 32.0]\n",
      "[3.6, 5.58, 4.319, 6.2024, 91.01344, 32.01213]\n"
     ]
    }
   ],
   "source": [
    "# а теперь как удобнее работать со встроенными фукнциями, когда нужно передать больше одного аргумента:\n",
    "\n",
    "circle_areas = [3.56773, 5.57668, 4.31914, 6.20241, 91.01344, 32.01213]\n",
    "\n",
    "result1 = list(map(round, circle_areas, [1]*6))         # округляем числа до 1 знака после запятой\n",
    "result2 = list(map(round, circle_areas, range(1, 7)))   # округляем числа до 1,2,...,6 знаков после запятой\n",
    "\n",
    "print(circle_areas)\n",
    "print(result1)\n",
    "print(result2)\n",
    "\n",
    "# что происходит? \n",
    "# в первом случае мы округляем все числа таким образом: \n",
    "# 1) передаем в map функцию round, а также два списка - тот, что нужно округлить и заполненный единичками список той же длины \n",
    "# 2) функция round пошагово будет работать с каждым элементом из списка circle и сипска, заполненного единичками \n",
    "# 3) то есть по сути будет выполнен эквивалент round(circle[i], 1) - округлит до одного знака после запятой\n",
    "\n",
    "# во втором случае: мы создали кортеж от 1 до 6 тем же размером, что и заданный список \n",
    "# далее round будет последовательно брать элементы из списка и кортежа таким образом:\n",
    "# round(circle[0], 1), round(circle[1], 2), ... round(circle[5], 6)"
   ]
  },
  {
   "cell_type": "code",
   "execution_count": 7,
   "metadata": {},
   "outputs": [
    {
     "name": "stdout",
     "output_type": "stream",
     "text": [
      "0\n",
      "3628800\n"
     ]
    }
   ],
   "source": [
    "# инициализация начального значения для функции reduce()\n",
    "from functools import reduce\n",
    "\n",
    "def func(a, b):\n",
    "    return a + b\n",
    "\n",
    "\n",
    "numbers = [1, 2, 3, 4, 5, 6, 7, 8, 9, 10]\n",
    "total = reduce(func, numbers, 0)   # в качестве начального значения 0\n",
    "print(total)\n",
    "\n",
    "total1 = reduce(func, numbers)      # в качестве начального значения по умолчанию - первый элемент последовательности\n",
    "print(total1)"
   ]
  },
  {
   "cell_type": "code",
   "execution_count": 8,
   "metadata": {},
   "outputs": [
    {
     "name": "stdout",
     "output_type": "stream",
     "text": [
      "30\n",
      "2\n",
      "5.0\n",
      "6\n",
      "1\n",
      "24\n",
      "-9\n",
      "True\n",
      "True\n",
      "False\n",
      "True\n",
      "False\n",
      "True\n",
      "32\n",
      "\n"
     ]
    }
   ],
   "source": [
    "# для широко используемых функций удобно не прописывать их каждый раз, а брать из модуля operator:\n",
    "\n",
    "from operator import * \n",
    "\n",
    "print(add(10, 20))         #  сумма\n",
    "print(sub(5, 3))           # разность \n",
    "print(truediv(20, 4))      # обычное деление\n",
    "print(floordiv(20, 3))     #  целочисленное деление\n",
    "print(mod(7, 3))           # остаток от деления\n",
    "print(mul(3, 8))           # умножение \n",
    "print(neg(9))              #  смена знака\n",
    "print(lt(2, 3))            #  проверка на неравенство <\n",
    "print(le(5, 7))            # проверка на неравенство или равно <=\n",
    "print(lt(10, 8))           #  проверка на неравенство <\n",
    "print(eq(5, 5))            #  проверка на равенство ==\n",
    "print(eq(5, 9))            #  проверка на равенство ==\n",
    "print(ne(4, 5))            # проверка на голое неравенство !=\n",
    "print(pow(2, 5))           # возвести в степень\n",
    "print()\n",
    "\n",
    "# contains(seq, obj)  - равносильно синтаксису obj in seq (в результате булево значение)\n"
   ]
  },
  {
   "cell_type": "code",
   "execution_count": 9,
   "metadata": {},
   "outputs": [
    {
     "name": "stdout",
     "output_type": "stream",
     "text": [
      "[-1, -2, 6, 4, -3, -9, 0, 6, 1]\n",
      "Testing shows the presence, not the absence of bugs\n"
     ]
    }
   ],
   "source": [
    "# пример совместной работы map, reduce, operator\n",
    "\n",
    "from functools import reduce\n",
    "import operator\n",
    "\n",
    "words = ['Testing ', 'shows ', 'the ', 'presence', ', ', 'not ', 'the ', 'absence ', 'of ', 'bugs'] \n",
    "numbers = [1, 2, -6, -4, 3, 9, 0, -6, -1]\n",
    "\n",
    "opposite_numbers = list(map(operator.neg, numbers))    #  смена знаков элементов списка\n",
    "concat_words = reduce(operator.add, words)             #  конкатенация элементов списка\n",
    "\n",
    "print(opposite_numbers)\n",
    "print(concat_words)"
   ]
  },
  {
   "cell_type": "code",
   "execution_count": 10,
   "metadata": {},
   "outputs": [
    {
     "name": "stdout",
     "output_type": "stream",
     "text": [
      "['ALFRED', 'TABITHA', 'WILLIAM', 'ARLA']\n",
      "['Alfred', 'Tabitha', 'William', 'Arla']\n",
      "['x', 'y', 'a']\n"
     ]
    }
   ],
   "source": [
    "# использовать строковые методы в качестве функций можно, дописывая к ним str. : \n",
    "\n",
    "pets = ['alfred', 'tabitha', 'william', 'arla']\n",
    "chars = ['x', 'y', '2', '3', 'a']\n",
    " \n",
    "uppered_pets = list(map(str.upper, pets))\n",
    "capitalized_pets = list(map(str.capitalize, pets))\n",
    "only_letters = list(filter(str.isalpha, chars))\n",
    "\n",
    "print(uppered_pets)\n",
    "print(capitalized_pets)\n",
    "print(only_letters)"
   ]
  },
  {
   "cell_type": "code",
   "execution_count": 12,
   "metadata": {},
   "outputs": [
    {
     "name": "stdout",
     "output_type": "stream",
     "text": [
      "['a1', 'b2', 'c3']\n",
      "['a', 'bb', 'ccc']\n"
     ]
    }
   ],
   "source": [
    "from operator import add\n",
    "\n",
    "result = list(map(add, 'abc', '1234'))  \n",
    "print(result)\n",
    "\n",
    "# что произошло? \n",
    "# 1) используем функцию сложения элементов add \n",
    "# 2) так как наименьшая длина элементов из последовательности - это 3 ('abc') - поэтому она является ограничивающей \n",
    "# 3) далее функция map применяет функцию сложения ПОЭЛЕМЕНТНО - a+1, b+2, c+3  (а 4 вылетает, ей нет пары в первой последовательности) \n",
    "# 4) получились строки a1,b2,c3 - сшитые в список\n",
    "\n",
    "# еще пример - та же логика\n",
    "\n",
    "result1 = list(map(mul, ['a', 'b', 'c'], [1, 2, 3]))\n",
    "print(result1)"
   ]
  },
  {
   "cell_type": "code",
   "execution_count": null,
   "metadata": {},
   "outputs": [],
   "source": [
    "# АНОНИМНЫЕ функции (лямбда-функции)\n",
    "\n",
    "# синтаксис: \n",
    "# lambda список_параметров: выражение\n",
    "\n",
    "# Когда применение анонимных функций оправдано:\n",
    "# 1) однократное использование функции\n",
    "# 2) передача функций в качестве аргументов другим функциям;\n",
    "# 3) возвращение функции в качестве результата другой функции."
   ]
  },
  {
   "cell_type": "code",
   "execution_count": 14,
   "metadata": {},
   "outputs": [
    {
     "name": "stdout",
     "output_type": "stream",
     "text": [
      "14 14\n",
      "\n",
      "30\n",
      "15\n",
      "45\n"
     ]
    }
   ],
   "source": [
    "def standard_function(x):            #  стандартное объявление функции\n",
    "    return x*2\n",
    "\n",
    "lambda_function = lambda x: x*2      #  объявление анонимной функции\n",
    "\n",
    "print(standard_function(7), lambda_function(7))\n",
    "##\n",
    "print()\n",
    "\n",
    "f1 = lambda: 10 + 20               # функция без параметров\n",
    "f2 = lambda х, у: х + у            # функция с двумя параметрами\n",
    "f3 = lambda х, у, z: х + у + z     # функция с тремя параметрами\n",
    "\n",
    "print(f1())\n",
    "print(f2(5, 10))\n",
    "print(f3(5, 10, 30))"
   ]
  },
  {
   "cell_type": "code",
   "execution_count": 15,
   "metadata": {},
   "outputs": [
    {
     "name": "stdout",
     "output_type": "stream",
     "text": [
      "[(2, -4), (1, -1), (2, 3), (1, 5), (10, 9), (-10, 15), (7, 18)]\n",
      "[(2, -4), (1, -1), (2, 3), (-10, 15), (1, 5), (10, 9), (7, 18)]\n"
     ]
    }
   ],
   "source": [
    "# пример на сортировку по необязательному ключу, который равен функции:\n",
    "\n",
    "points = [(1, -1), (2, 3), (-10, 15), (10, 9), (7, 18), (1, 5), (2, -4)]\n",
    "\n",
    "print(sorted(points, key=lambda point: point[1]))                 # сортируем по второму значению кортежа\n",
    "print(sorted(points, key=lambda point: point[0] + point[1]))      # сортируем по сумме элементов кортежа"
   ]
  },
  {
   "cell_type": "code",
   "execution_count": 16,
   "metadata": {},
   "outputs": [
    {
     "name": "stdout",
     "output_type": "stream",
     "text": [
      "[2, 3, 4, 5, 6, 7]\n",
      "[2, 4, 6, 8, 10, 12]\n",
      "[1, 4, 9, 16, 25, 36]\n"
     ]
    }
   ],
   "source": [
    "# комбинированное использование map и lambda функций \n",
    "\n",
    "numbers = [1, 2, 3, 4, 5, 6]\n",
    "\n",
    "new_numbers1 = list(map(lambda x: x+1, numbers))      #  увеличиваем на 1\n",
    "new_numbers2 = list(map(lambda x: x*2, numbers))      #  удваиваем\n",
    "new_numbers3 = list(map(lambda x: x**2, numbers))     #  возводим в квадрат\n",
    "\n",
    "print(new_numbers1)\n",
    "print(new_numbers2)\n",
    "print(new_numbers3)"
   ]
  },
  {
   "cell_type": "code",
   "execution_count": 17,
   "metadata": {},
   "outputs": [
    {
     "name": "stdout",
     "output_type": "stream",
     "text": [
      "[2, 4, 10, 30, 50, 100, 90]\n",
      "[100, 90]\n",
      "[2, 4, 0, -20, 10, 30, -40, 50, 100, 90]\n"
     ]
    }
   ],
   "source": [
    "# комбинированное использование filter  и lambda функций \n",
    "\n",
    "numbers = [-1, 2, -3, 4, 0, -20, 10, 30, -40, 50, 100, 90]\n",
    "\n",
    "positive_numbers = list(filter(lambda x: x > 0, numbers))      #  положительные числа\n",
    "large_numbers = list(filter(lambda x: x > 50, numbers))        #  числа, большие 50\n",
    "even_numbers = list(filter(lambda x: x % 2 == 0, numbers))     #  четные числа\n",
    "\n",
    "print(positive_numbers)\n",
    "print(large_numbers)\n",
    "print(even_numbers)"
   ]
  },
  {
   "cell_type": "code",
   "execution_count": 18,
   "metadata": {},
   "outputs": [
    {
     "name": "stdout",
     "output_type": "stream",
     "text": [
      "21\n",
      "720\n",
      "Everyone loves python loves stepik loves beegeek loves iq-option\n"
     ]
    }
   ],
   "source": [
    "# комбинированное использование reduce  и lambda функций \n",
    "\n",
    "from functools import reduce\n",
    "\n",
    "words = ['python', 'stepik', 'beegeek', 'iq-option']\n",
    "numbers = [1, 2, 3, 4, 5, 6]\n",
    "\n",
    "summa = reduce(lambda x, y: x + y, numbers, 0)\n",
    "product = reduce(lambda x, y: x * y, numbers, 1)\n",
    "sentence = reduce(lambda x, y: x + ' loves ' + y, words, 'Everyone')\n",
    "\n",
    "print(summa)\n",
    "print(product)\n",
    "print(sentence)\n",
    "\n",
    "# что происходит при левом сворачивании? \n",
    "# 1) Берем начально значение (последний аргумент функции reduce ) \n",
    "# 2) к каждому элементу применяем выражение функции лямбда и записываем в итог: \n",
    "# итог = [нач значение] 'оператор' (+ или * или ... - в зависимости от того, что прописано в лямба-функции) [элемент]"
   ]
  },
  {
   "cell_type": "code",
   "execution_count": 20,
   "metadata": {},
   "outputs": [
    {
     "name": "stdout",
     "output_type": "stream",
     "text": [
      "18\n"
     ]
    }
   ],
   "source": [
    "# использование lambda функций в качестве замыкалок (внутреннх функций)\n",
    "\n",
    "def generator_square_polynom(a, b, c):\n",
    "    return lambda x: a*x**2 + b*x + c\n",
    "\n",
    "print(generator_square_polynom(1,2,3)(3))   # вычисляет значение квадратного трехчлена с коэфф 1,2,3 для х=3"
   ]
  },
  {
   "cell_type": "code",
   "execution_count": 21,
   "metadata": {},
   "outputs": [
    {
     "name": "stdout",
     "output_type": "stream",
     "text": [
      "['even', 'even', 'odd', 'even', 'odd', 'even', 'odd', 'even']\n"
     ]
    }
   ],
   "source": [
    "# пример работы совместно lambda и тернарного условия\n",
    "numbers = [-2, 0, 1, 2, 17, 4, 5, 6]\n",
    "\n",
    "result = list(map(lambda x: 'even' if x % 2 == 0 else 'odd', numbers))\n",
    "\n",
    "print(result)"
   ]
  },
  {
   "cell_type": "code",
   "execution_count": 22,
   "metadata": {},
   "outputs": [
    {
     "name": "stdout",
     "output_type": "stream",
     "text": [
      "6\n",
      "6\n",
      "6\n",
      "15\n",
      "6\n",
      "1\n",
      "6\n"
     ]
    }
   ],
   "source": [
    "# передача аргументов в анонимную функцию lambda - принимают все виды:\n",
    "# позиционные аргументы;\n",
    "# именованные аргументы;\n",
    "# переменный список позиционных аргументов (*args);\n",
    "# переменный список именованных аргументов (**kwargs);\n",
    "# обязательные аргументы (*).\n",
    "\n",
    "f1 = lambda x, y, z: x + y + z\n",
    "f2 = lambda x, y, z=3: x + y + z\n",
    "f3 = lambda *args: sum(args)\n",
    "f4 = lambda **kwargs: sum(kwargs.values())\n",
    "f5 = lambda x, *, y=0, z=0: x + y + z\n",
    "\n",
    "\n",
    "print(f1(1, 2, 3))\n",
    "print(f2(1, 2))\n",
    "print(f2(1, y=2))\n",
    "print(f3(1, 2, 3, 4, 5))\n",
    "print(f4(one=1, two=2, three=3))\n",
    "print(f5(1))\n",
    "print(f5(1, y=2, z=3))\n"
   ]
  },
  {
   "cell_type": "code",
   "execution_count": null,
   "metadata": {},
   "outputs": [],
   "source": [
    "# ограничения анонимных функций: \n",
    "# анонимная функция может содержать только выражение, и не может включать в свое тело операторы;\n",
    "# в теле анонимной функции такие операторы, как return, pass, assert или raise, вызовут исключение SyntaxError;\n",
    "# анонимная функция пишется как одна строка исполнения;\n",
    "# анонимная функция может быть немедленно вызвана 🤓."
   ]
  },
  {
   "cell_type": "code",
   "execution_count": 23,
   "metadata": {},
   "outputs": [
    {
     "name": "stdout",
     "output_type": "stream",
     "text": [
      "15\n",
      "53\n"
     ]
    }
   ],
   "source": [
    "# особенность - функцию lambda можно вызывать сразу после объявляния\n",
    "\n",
    "print((lambda х, у: х + у)(5, 10))     # 5 + 10\n",
    "print(1 + (lambda x: x*5)(10) + 2)     # 1 + 50 + 2"
   ]
  },
  {
   "cell_type": "code",
   "execution_count": 25,
   "metadata": {},
   "outputs": [
    {
     "name": "stdout",
     "output_type": "stream",
     "text": [
      "Roman\n"
     ]
    }
   ],
   "source": [
    "# образец работы  выбора пользователя с максимальным возрастом\n",
    "users = [('Timur', 28), ('Ruslan', 21), ('Roman', 30), ('Soltan', 24), ('Robert', 1)]\n",
    "result = max(users, key=lambda x: x[1])\n",
    "print(result[0])"
   ]
  },
  {
   "cell_type": "code",
   "execution_count": 26,
   "metadata": {},
   "outputs": [
    {
     "name": "stdout",
     "output_type": "stream",
     "text": [
      "19\n"
     ]
    }
   ],
   "source": [
    "# пример использования lambda для функций высшего порядка\n",
    "\n",
    "high_ord_func = lambda x, func: x + func(x)     # аргументы здесь - это х и функция func\n",
    "                                                # результат исполнения - это сумма х и значения функции от х\n",
    "\n",
    "result = high_ord_func(2, lambda x: x * x) + high_ord_func(5, lambda x: x + 3)\n",
    "# для двух слагаемых подаем значения х и вид функции (первое слагаемое - функция квадрата числа\n",
    "#  второе слагаемое - увеличенное на 3 поданное число ) \n",
    "# итого запись результата эквивалентна (2+ 2*2) + (5 + (5+3)) = 19\n",
    "\n",
    "print(result)"
   ]
  },
  {
   "cell_type": "code",
   "execution_count": 187,
   "metadata": {},
   "outputs": [
    {
     "name": "stdout",
     "output_type": "stream",
     "text": [
      "None\n",
      "None\n",
      "None\n",
      "None\n"
     ]
    }
   ],
   "source": []
  },
  {
   "cell_type": "code",
   "execution_count": 31,
   "metadata": {},
   "outputs": [
    {
     "name": "stdout",
     "output_type": "stream",
     "text": [
      "[18.9, 37.1, 10.6, 95.5, 4.7, 78.9, 21.1, 1171.7, 146.9, 21.8, 6.0, 86.9]\n",
      "['racecar', 'civic', 'TATTARRATTAT', 'malayalam']\n",
      "24840\n"
     ]
    }
   ],
   "source": [
    "# программа делает:\n",
    "# преобразует список floats в список чисел, возведенных в квадрат и округленных с точностью до одного десятичного знака;\n",
    "# фильтрует список words  и оставляет только палиндромы длиной более 4 символов;\n",
    "# находит произведение чисел из списка numbers.\n",
    "\n",
    "from functools import reduce \n",
    "\n",
    "floats = [4.35, 6.09, 3.25, 9.77, 2.16, 8.88, 4.59, 34.23, 12.12, 4.67, 2.45, 9.32]\n",
    "words = ['racecar', 'akinremi', 'deed', 'temidayo', 'omoseun', 'civic', 'TATTARRATTAT', 'malayalam', 'nun']\n",
    "numbers = [4, 6, 9, 23, 5]\n",
    "\n",
    "# Исправьте этот код\n",
    "map_result = list(map(lambda num: round(num**2,1), floats))\n",
    "filter_result = list(filter(lambda name: name==name[::-1] and len(name)>4, words))\n",
    "\n",
    "reduce_result = reduce(lambda num1, num2: num1 * num2, numbers)\n",
    "\n",
    "print(map_result)\n",
    "print(filter_result)\n",
    "print(reduce_result)"
   ]
  },
  {
   "cell_type": "code",
   "execution_count": 26,
   "metadata": {},
   "outputs": [
    {
     "name": "stdout",
     "output_type": "stream",
     "text": [
      "Cities: Beijing, Buenos Aires, Cairo, Dhaka, Manila, Mexico City, Moscow, Tokyo\n",
      "Cities: Beijing, Buenos Aires, Cairo, Dhaka, Manila, Mexico City, Moscow, Tokyo\n"
     ]
    }
   ],
   "source": [
    "# вывести в алфавитном порядке список primary городов с населением более 10 000 000 человек, в формате:\n",
    "# Cities: Beijing, Buenos Aires, ...\n",
    "\n",
    "from functools import reduce\n",
    "\n",
    "data = [['Tokyo', 35676000, 'primary'],\n",
    "        ['New York', 19354922, 'nan'],\n",
    "        ['Mexico City', 19028000, 'primary'],\n",
    "        ['Mumbai', 18978000, 'admin'],\n",
    "        ['Sao Paulo', 18845000, 'admin'],\n",
    "        ['Delhi', 15926000, 'admin'],\n",
    "        ['Shanghai', 14987000, 'admin'],\n",
    "        ['Kolkata', 14787000, 'admin'],\n",
    "        ['Los Angeles', 12815475, 'nan'],\n",
    "        ['Dhaka', 12797394, 'primary'],\n",
    "        ['Buenos Aires', 12795000, 'primary'],\n",
    "        ['Karachi', 12130000, 'admin'],\n",
    "        ['Cairo', 11893000, 'primary'],\n",
    "        ['Rio de Janeiro', 11748000, 'admin'],\n",
    "        ['Osaka', 11294000, 'admin'],\n",
    "        ['Beijing', 11106000, 'primary'],\n",
    "        ['Manila', 11100000, 'primary'],\n",
    "        ['Moscow', 10452000, 'primary'],\n",
    "        ['Istanbul', 10061000, 'admin'],\n",
    "        ['Paris', 9904000, 'primary']]\n",
    "\n",
    "print(reduce(lambda city1,city2: city1+city2+ ', ',     # здесь сворачиваем список суммированием названий городов + запятая\n",
    "                sorted(                                 # здесь сортируем имена городов в алфавитном порядке\n",
    "                        map(lambda city: city[0],       # здесь меняем каждый элемент data на первое значение элемента\n",
    "                        list(filter(lambda city: city[1]>10**7 and city[2]== 'primary' , data)))),  # здесь фильтруем - \n",
    "                                                                                                     # оставляем только те \n",
    "                                                                                                     # элементы data, у которых \n",
    "                                                                                                     # население больше 10 млн \n",
    "                                                                                                     # и хар-ка primary \n",
    "                                'Cities: ')[:-2])  # и наконец здесь задаем начальный элемент для сворачивания списка \n",
    "                                                # и убираем дополнительные запятую и пробел в конце получившейся строки\n",
    "\n",
    "\n",
    "# второе решение!! читабельнее\n",
    "print('Cities: ' + ', '.join(sorted([city[0] for city in data if city[1]>10**7 and city[2]== 'primary'])))"
   ]
  },
  {
   "cell_type": "code",
   "execution_count": 37,
   "metadata": {},
   "outputs": [
    {
     "name": "stdout",
     "output_type": "stream",
     "text": [
      "True\n",
      "True\n"
     ]
    }
   ],
   "source": [
    "# функция проверяет что на вход ей попало положительное целое или дробное число (а не все, что угодно)\n",
    "\n",
    "x= '10.45'\n",
    "\n",
    "is_non_negative_num1 = lambda x: x[0]!='-' and 1<=len(x.split('.'))<=2 and x.replace('.','').isdigit()\n",
    "\n",
    "# или  короче: \n",
    "\n",
    "is_non_negative_num2 = lambda q: q.replace('.', '', 1).isdigit()\n",
    "\n",
    "\n",
    "print(is_non_negative_num1(x))\n",
    "print(is_non_negative_num2(x))\n",
    "\n",
    "is_num = i"
   ]
  },
  {
   "cell_type": "code",
   "execution_count": 69,
   "metadata": {},
   "outputs": [
    {
     "name": "stdout",
     "output_type": "stream",
     "text": [
      "False\n",
      "False\n"
     ]
    }
   ],
   "source": [
    "# функция проверяет что на вход ей попало просто целое или дробное число (а не все, что угодно)\n",
    "\n",
    "x= '1-1'\n",
    "\n",
    "\n",
    "is_num= lambda q: (q[0].isdigit() or q[0]=='-') and (len(q)==1 or q[1:].replace('.', '',1).isdigit())\n",
    "\n",
    "# или \n",
    "is_non_negative_num = lambda q: q.replace('.', '', 1).isdigit()\n",
    "\n",
    "is_num_1 = lambda q: is_non_negative_num(q[1:]) if q[0] == '-' else is_non_negative_num(q)\n",
    "\n",
    "\n",
    "print(is_num(x))\n",
    "\n",
    "print(is_num_1(x))"
   ]
  },
  {
   "cell_type": "code",
   "execution_count": 75,
   "metadata": {},
   "outputs": [
    {
     "name": "stdout",
     "output_type": "stream",
     "text": [
      "23 17 17 28 13 1 3 41 37 40 27 47 17 50 18 33 33 41 40 40 20 17 16 8 5 8 20 18 4 19 4 33 21 36 16 41 35 32 39 27 43 35 24 17 19 20 45 28 40 45 27 13 3 2 23 26 39 37 15 33 29 44 47 37 22 1 19 18 16 5 33 30 47 4 18 47 23 33\n",
      "23 17 17 28 13 1 3 41 37 40 27 47 17 50 18 33 33 41 40 40 20 17 16 8 5 8 20 18 4 19 4 33 21 36 16 41 35 32 39 27 43 35 24 17 19 20 45 28 40 45 27 13 3 2 23 26 39 37 15 33 29 44 47 37 22 1 19 18 16 5 33 30 47 4 18 47 23 33\n",
      "True\n"
     ]
    }
   ],
   "source": [
    "# Напишите программу, которая с помощью встроенных функций map() и filter() удаляет из списка numbers \n",
    "# все нечетные элементы, большие 47, а все четные элементы нацело делит на два (целочисленное деление – //). \n",
    "# Полученные числа следует вывести на одной строке, разделив символом пробела и сохранив исходный порядок.\n",
    "\n",
    "numbers = [46, 61, 34, 17, 56, 26, 93, 1, 3, 82, 71, 37, 80, 27, 77, 94, 34, \n",
    "            100, 36, 81, 33, 81, 66, 83, 41, 80, 80, 93, 40, 34, 32, 16, 5, 16,\n",
    "             40, 93, 36, 65, 8, 19, 8, 75, 66, 21, 72, 32, 41, 59, 35, 64, 49, 78,\n",
    "              83, 27, 57, 53, 43, 35, 48, 17, 19, 40, 90, 57, 77, 56, 80, 95, 90, 27, \n",
    "              26, 6, 4, 23, 52, 39, 63, 74, 15, 66, 29, 88, 94, 37, 44, 2, 38, 36, 32, \n",
    "              49, 5, 33, 60, 94, 89, 8, 36, 94, 46, 33]\n",
    "\n",
    "\n",
    "print(*list(map(lambda num:num//2 if num%2==0 else num , filter(lambda x: x<=47 or x%2==0, numbers))))\n",
    "first=list(map(lambda num:num//2 if num%2==0 else num , filter(lambda x: x<=47 or x%2==0, numbers)))\n",
    "\n",
    "# еще нравится такой синтаксис (логика абсолютно та же)\n",
    "\n",
    "print(*map(lambda x: (x // 2, x)[x % 2], filter(lambda x: x < 48 or not x % 2, numbers)))\n",
    "second=list(map(lambda x: (x // 2, x)[x % 2], filter(lambda x: x < 48 or not x % 2, numbers)))\n",
    "\n",
    "print(first==second)"
   ]
  },
  {
   "cell_type": "code",
   "execution_count": 78,
   "metadata": {},
   "outputs": [
    {
     "name": "stdout",
     "output_type": "stream",
     "text": [
      "Vermont:626299\n",
      "Massachusetts:7029917\n",
      "Ohio:11799448\n",
      "Michigan:10077331\n",
      "Washington:7705281\n",
      "New York:19542209\n",
      "Hawaii:1420491\n",
      "Tennessee:6910840\n",
      "Alabama:4887871\n",
      "West Virginia:1805832\n",
      "California:39865590\n",
      "Georgia:10711908\n",
      "Virginia:10439388\n",
      "Arizona:7151502\n"
     ]
    }
   ],
   "source": [
    "# Список data содержит информацию о численности населения некоторых штатов США. \n",
    "# Напишите программу сортировки по убыванию списка data на основании последнего символа в названии штата. \n",
    "# Затем распечатайте элементы этого списка, каждый на новой строке в формате:\n",
    "# <название штата>: <численность населения>\n",
    "\n",
    "data = [(19542209, 'New York'), (4887871, 'Alabama'), (1420491, 'Hawaii'), (626299, 'Vermont'), (1805832, 'West Virginia'), (39865590, 'California'), (11799448, 'Ohio'), (10711908, 'Georgia'), (10077331, 'Michigan'), (10439388, 'Virginia'), (7705281, 'Washington'), (7151502, 'Arizona'), (7029917, 'Massachusetts'), (6910840, 'Tennessee')]\n",
    "\n",
    "sort_data=sorted(data, key= lambda st:st[1][-1], reverse= True)\n",
    "\n",
    "print(*[f'{state[1]}: {str(state[0])}' for state in sort_data], sep='\\n')\n",
    "\n"
   ]
  },
  {
   "cell_type": "code",
   "execution_count": 80,
   "metadata": {},
   "outputs": [
    {
     "name": "stdout",
     "output_type": "stream",
     "text": [
      "вид год дом мир раз глаз дело день друг лицо рука сила время город жизнь конец место слово часть вопрос голова деньги работа случай страна женщина ребенок система сторона человек отношение\n"
     ]
    }
   ],
   "source": [
    "# Список data содержит слова на русском языке. Напишите программу его сортировки по возрастанию длины слов,\n",
    "#  а затем в лексикографическом порядке. \n",
    "# Отсортированные слова следует вывести на одной строке, разделив символом пробела.\n",
    "\n",
    "data = ['год', 'человек', 'время', 'дело', 'жизнь', 'день', 'рука', 'раз', 'работа', 'слово', 'место', 'лицо', 'друг', 'глаз', 'вопрос', 'дом', 'сторона', 'страна', 'мир', 'случай', 'голова', 'ребенок', 'сила', 'конец', 'вид', 'система', 'часть', 'город', 'отношение', 'женщина', 'деньги']\n",
    "\n",
    "\n",
    "print(*sorted(sorted(data), key=lambda w:len(w)))"
   ]
  },
  {
   "cell_type": "code",
   "execution_count": 81,
   "metadata": {},
   "outputs": [
    {
     "name": "stdout",
     "output_type": "stream",
     "text": [
      "2950603\n",
      "2950603\n"
     ]
    }
   ],
   "source": [
    "# взять максимально число из смешанного спика (строки и целые числа)\n",
    "\n",
    "mixed_list = ['tuesday', 'abroad', 'abuse', 'beside', 'monday', 'abate', 'accessory', 'absorb', 1384878, 'sunday', 'about', 454805, 'saturday', 'abort', 2121919, 2552839, 977970, 1772933, 1564063, 'abduct', 901271, 2680434, 'bicycle', 'accelerate', 1109147, 942908, 'berry', 433507, 'bias', 'bestow', 1875665, 'besides', 'bewilder', 1586517, 375290, 1503450, 2713047, 'abnormal', 2286106, 242192, 701049, 2866491, 'benevolent', 'bigot', 'abuse', 'abrupt', 343772, 'able', 2135748, 690280, 686008, 'beyond', 2415643, 'aboard', 'bet', 859105, 'accident', 2223166, 894187, 146564, 1251748, 2851543, 1619426, 2263113, 1618068, 'berth', 'abolish', 'beware', 2618492, 1555062, 'access', 'absent', 'abundant', 2950603, 'betray', 'beverage', 'abide', 'abandon', 2284251, 'wednesday', 2709698, 'thursday', 810387, 'friday', 2576799, 2213552, 1599022, 'accept', 'abuse', 'abound', 1352953, 'bid', 1805326, 1499197, 2241159, 605320, 2347441]\n",
    "\n",
    "print(max([i for i in mixed_list if type(i)==int]))\n",
    "\n",
    "# или \n",
    "\n",
    "print(max(filter(lambda x: type(x) is int, mixed_list )))"
   ]
  },
  {
   "cell_type": "code",
   "execution_count": 83,
   "metadata": {},
   "outputs": [
    {
     "name": "stdout",
     "output_type": "stream",
     "text": [
      "10 11 12 12 13 13 13 14 15 19 20 20 26 26 26 28 35 36 37 38 40 40 41 41 46 46 47 48 50 51 60 64 65 65 66 67 70 75 76 76 76 78 80 87 89 94 95 95 98 99 abandon abate abduct abide able abnormal aboard abort abound about abrupt absent absorb abundant abuse accelerate accept access accessory accident benevolent berry berth beside besides bestow bet betray beware bewilder beyond bicycle bid bigot friday saturday sunday thursday tuesday wednesday\n",
      "15\n"
     ]
    }
   ],
   "source": [
    "# сортируем список, содержащий числа и строки так, чтобы список начинался с чисел, а потом строки в лексикограф порядке\n",
    "\n",
    "mixed_list = ['beside', 48, 'accelerate', 28, 'beware', 'absorb', 'besides', 'berry', 15, 65, 'abate', 'thursday', 76, 70, 94, 35, 36, 'berth', 41, 'abnormal', 'bicycle', 'bid', 'sunday', 'saturday', 87, 'bigot', 41, 'abort', 13, 60, 'friday', 26, 13, 'accident', 'access', 40, 26, 20, 75, 13, 40, 67, 12, 'abuse', 78, 10, 80, 'accessory', 20, 'bewilder', 'benevolent', 'bet', 64, 38, 65, 51, 95, 'abduct', 37, 98, 99, 14, 'abandon', 'accept', 46, 'abide', 'beyond', 19, 'about', 76, 26, 'abound', 12, 95, 'wednesday', 'abundant', 'abrupt', 'aboard', 50, 89, 'tuesday', 66, 'bestow', 'absent', 76, 46, 'betray', 47, 'able', 11]\n",
    "\n",
    "\n",
    "print(*sorted(mixed_list, key=lambda el:str(el)))   # для возможности сравнения элементов нужно перевести все элементы в строки\n",
    "\n",
    "print(sorted(mixed_list, key=lambda el:str(el))[0]+5)   # убедимся, что список только сортирует, но не меняет тип элементов: \n",
    "                                                        # мы это видим, прибавляя к первому элементу списка объект целое число \n",
    "                                                        # и получаем значение суммы - иначе вышла бы ошибка о разности типов"
   ]
  },
  {
   "cell_type": "code",
   "execution_count": 84,
   "metadata": {},
   "outputs": [
    {
     "name": "stdout",
     "output_type": "stream",
     "text": [
      "-1\n",
      "-1\n"
     ]
    }
   ],
   "source": [
    "# вычислить значение многочлена степени n: An*x^n + ...A1*x^1 + A0 \n",
    "# на первой строке - коэффициенты через пробел, на второй строке - число х\n",
    "\n",
    "def evaluate(coef, x):\n",
    "    elements=[coef[i]* x**(len(coef)-i-1) for i in range(len(coef))]\n",
    "    return sum(elements)\n",
    "\n",
    "\n",
    "coef=[int(i) for i in input().split()]\n",
    "x=int(input())\n",
    "\n",
    "print(evaluate(coef,x))\n",
    "\n",
    "# функциональное решение\n",
    "\n",
    "from functools import reduce\n",
    "\n",
    "# делаем неименнованную функцию, принимающую список коэффициентов и аргумент х \n",
    "# к ним мы применяем функцию левого свертывания reduce , в которой к каждому элементу списка коэффициентов применяем \n",
    "# правило - каждый элемент умножается на х, потом прибавляем к нему следующий элемент, повторяем рекурсией \n",
    "# стартовое значение - 0 \n",
    "# почему? потому что используем разложение Горнера (гугл в помощь)\n",
    "evaluate1 = lambda coefficients, x: reduce(lambda s, a: s * x + a, coefficients, 0)\n",
    " \n",
    "print(evaluate1([*map(int, input().split())], int(input())))    # объявляем функцию, \n",
    "                                                                # в качестве коэффициентов - переработанная введенная строка \n",
    "                                                                # в качестве х - введенное целочисленное значение"
   ]
  },
  {
   "cell_type": "code",
   "execution_count": 87,
   "metadata": {},
   "outputs": [
    {
     "name": "stdout",
     "output_type": "stream",
     "text": [
      "True\n",
      "False\n",
      "False\n",
      "False\n",
      "False\n",
      "\n",
      "False\n",
      "True\n",
      "\n",
      "True\n",
      "True\n",
      "True\n",
      "False\n"
     ]
    }
   ],
   "source": [
    "# работа с функцией all (возвращает True или False) по принципу 'and'\n",
    "\n",
    "print(all([1, 2, 3]))   \n",
    "print(all([1, 2, 3, 0, 5]))\n",
    "print(all([True, 0, 1]))\n",
    "print(all(('', 'red', 'green')))\n",
    "print(all({0j, 3+4j})) \n",
    "print()\n",
    "\n",
    "# со словарями чуть иначе - проверка идет только по ключам, а не позначениям\n",
    "dict1 = {0: 'Zero', 1: 'One', 2: 'Two'}\n",
    "dict2 = {'Zero': 0, 'One': 1, 'Two': 2}\n",
    "\n",
    "print(all(dict1))\n",
    "print(all(dict2))\n",
    "print()\n",
    "\n",
    "# важное замечание: если переданный итерируемый объект пустой, то функция all() возвращает значение True.\n",
    "print(all([]))          #  передаем пустой список\n",
    "print(all(()))          #  передаем пустой кортеж\n",
    "print(all(''))          #  передаем пустую строку\n",
    "print(all([[], []]))    #  передаем список, содержащий пустые списки"
   ]
  },
  {
   "cell_type": "code",
   "execution_count": 91,
   "metadata": {},
   "outputs": [
    {
     "name": "stdout",
     "output_type": "stream",
     "text": [
      "True\n",
      "False\n",
      "\n",
      "False\n",
      "True\n",
      "True\n",
      "True\n",
      "True\n",
      "\n",
      "False\n",
      "True\n",
      "\n",
      "False\n",
      "False\n",
      "False\n",
      "False\n"
     ]
    }
   ],
   "source": [
    "# работа с функцией any (возвращает True или False) по принципу 'or'\n",
    "\n",
    "print(any([False, True, False]))       #  возвращает True, так как есть хотя бы один элемент, равный True\n",
    "print(any([False, False, False]))      #  возвращает False, так как нет элементов, равных True\n",
    "print()\n",
    "\n",
    "print(any([0, 0, 0]))\n",
    "print(any([0, 1, 0]))\n",
    "print(any([False, 0, 1]))\n",
    "print(any(['', [], 'green']))\n",
    "print(any({0j, 3+4j, 0.0}))\n",
    "print()\n",
    "\n",
    "# со словарями аналогично - проверка ведется по ключам, а не по значениям:\n",
    "\n",
    "dict1 = {0: 'Zero'}\n",
    "dict2 = {'Zero': 0, 'One': 1}\n",
    "\n",
    "print(any(dict1))\n",
    "print(any(dict2))\n",
    "print()\n",
    "\n",
    "# важное замечание: если переданный итерируемый объект пустой, то функция any() возвращает значение False.\n",
    "print(any([]))          #  передаем пустой список\n",
    "print(any(()))          #  передаем пустой кортеж\n",
    "print(any(''))          #  передаем пустую строку\n",
    "print(any([[], []]))    #  передаем список, содержащий пустые списки"
   ]
  },
  {
   "cell_type": "code",
   "execution_count": 93,
   "metadata": {},
   "outputs": [
    {
     "name": "stdout",
     "output_type": "stream",
     "text": [
      "Хотя бы одно число меньше или равно 10\n",
      "Хотя бы одно число четное\n"
     ]
    }
   ],
   "source": [
    "# работа all and any() в связке с map() :\n",
    "numbers = [17, 90, 78, 56, 231, 45, 5, 89, 91, 11, 19]\n",
    "\n",
    "result = all(map(lambda x: True if x > 10 else False, numbers)) # меняем все значения в списке на True or False \n",
    "                                                                # при выполнении/ невыполнении условия\n",
    "\n",
    "result = all(map(lambda x: x > 10, numbers))    # в простой записи (меняем элемент списка на булево значение True/False)\n",
    "\n",
    "if result:                          # если True  \n",
    "    print('Все числа больше 10')\n",
    "else:\n",
    "    print('Хотя бы одно число меньше или равно 10')\n",
    "\n",
    "\n",
    "# аналогично для any():\n",
    "numbers1 = [17, 91, 78, 55, 231, 45, 5, 89, 99, 11, 19]\n",
    "\n",
    "result1 = any(map(lambda x: x % 2 == 0, numbers1))\n",
    "\n",
    "if result1:\n",
    "    print('Хотя бы одно число четное')\n",
    "else:\n",
    "    print('Все числа нечетные')"
   ]
  },
  {
   "cell_type": "code",
   "execution_count": 1,
   "metadata": {},
   "outputs": [
    {
     "name": "stdout",
     "output_type": "stream",
     "text": [
      "(100, 'red')\n",
      "(101, 'green')\n",
      "(102, 'blue')\n"
     ]
    }
   ],
   "source": [
    "# функция enumerate() \n",
    "# Встроенная функция enumerate() возвращает кортеж из индекса элемента и самого элемента переданной ей последовательности (\n",
    "# enumerate(iterable, start) - объект (итерируемый) и стартовое значение индекса (по умолчанию = 0)\n",
    "\n",
    "colors = ['red', 'green', 'blue']\n",
    "\n",
    "for pair in enumerate(colors, 100):\n",
    "    print(pair)"
   ]
  },
  {
   "cell_type": "code",
   "execution_count": 96,
   "metadata": {},
   "outputs": [
    {
     "name": "stdout",
     "output_type": "stream",
     "text": [
      "(1, 'one')\n",
      "(2, 'two')\n",
      "(3, 'three')\n",
      "\n",
      "[(1, 'one', 'I'), (2, 'two', 'II'), (3, 'three', 'III')]\n"
     ]
    }
   ],
   "source": [
    "# встроенная функция zip() - упаковка\n",
    "# zip() объединяет отдельные элементы из каждой переданной ей последовательности (итерируемого объекта) в КОРТЕЖИ.\n",
    "# Синтаксис : zip(*iterables)\n",
    "\n",
    "numbers = [1, 2, 3]\n",
    "words = ['one', 'two', 'three']\n",
    "\n",
    "for pair in zip(numbers, words):    # печатаем упакованные в кортежи элементы по индексам \n",
    "    print(pair)\n",
    "print()\n",
    "\n",
    "# можем передать несколько объектов: \n",
    "numbers = [1, 2, 3]\n",
    "words = ['one', 'two', 'three']\n",
    "romans = ['I', 'II', 'III']\n",
    "\n",
    "result = zip(numbers, words, romans)\n",
    "print(list(result))\n",
    "\n",
    "\n"
   ]
  },
  {
   "cell_type": "code",
   "execution_count": 97,
   "metadata": {},
   "outputs": [
    {
     "name": "stdout",
     "output_type": "stream",
     "text": [
      "[(1, 'one', 'I'), (2, 'two', 'II')]\n"
     ]
    }
   ],
   "source": [
    "# Если функции zip() передать итерируемые объекты, имеющие разную длину, \n",
    "# то объект с наименьшим количеством элементов определяет итоговую длину.\n",
    "\n",
    "\n",
    "numbers = [1, 2, 3, 4]\n",
    "words = ['one', 'two']\n",
    "romans = ['I', 'II', 'III']\n",
    "\n",
    "result = zip(numbers, words, romans)\n",
    "print(list(result))"
   ]
  },
  {
   "cell_type": "code",
   "execution_count": 98,
   "metadata": {},
   "outputs": [
    {
     "name": "stdout",
     "output_type": "stream",
     "text": [
      "{'name': 'Timur', 'age': 28, 'gender': 'male'}\n",
      "\n",
      "Timur 28\n",
      "Ruslan 21\n",
      "Rustam 19\n"
     ]
    }
   ],
   "source": [
    "# частые сценарии использования zip ()\n",
    "\n",
    "# Сценарий 1. Функция zip() удобна для создания словарей, когда ключи и значения находятся в разных списках.\n",
    "keys = ['name', 'age', 'gender']\n",
    "values = ['Timur', 28, 'male']\n",
    "\n",
    "info = dict(zip(keys, values))\n",
    "print(info)\n",
    "print()\n",
    "\n",
    "# Сценарий 2. Функция zip() удобна для одновременного (параллельного) итерирования сразу по нескольким коллекциям.\n",
    "name = ['Timur', 'Ruslan', 'Rustam']\n",
    "age = [28, 21, 19]\n",
    "\n",
    "for x, y in zip(name, age):\n",
    "    print(x, y)\n"
   ]
  },
  {
   "cell_type": "code",
   "execution_count": 102,
   "metadata": {},
   "outputs": [
    {
     "name": "stdout",
     "output_type": "stream",
     "text": [
      "True\n"
     ]
    }
   ],
   "source": [
    "# пример - проверять есть ли во вводимой строке подстрока из списка ignore  \n",
    "\n",
    "def ignore_command(command):\n",
    "    ignore = ['alias', 'configuration', 'ip', 'sql', 'select', 'update', 'exec', 'del', 'truncate']\n",
    "    print(any(map(lambda x: x in command, ignore)))\n",
    "\n",
    "ignore_command(input())"
   ]
  },
  {
   "cell_type": "code",
   "execution_count": 103,
   "metadata": {},
   "outputs": [
    {
     "name": "stdout",
     "output_type": "stream",
     "text": [
      "Moscow is the capital of Russia, population equal 145934462 people.\n",
      "Washington is the capital of USA, population equal 331002651 people.\n",
      "London is the capital of UK, population equal 80345321 people.\n",
      "Berlin is the capital of Germany, population equal 67886011 people.\n",
      "Paris is the capital of France, population equal 65273511 people.\n",
      "Delhi is the capital of India, population equal 1380004385 people.\n"
     ]
    }
   ],
   "source": [
    "# вывести содержимое трех списков в удобочитаемом формате \n",
    "# упаковка списков в кортежи\n",
    "\n",
    "countries = ['Russia', 'USA', 'UK', 'Germany', 'France', 'India']\n",
    "capitals = ['Moscow', 'Washington', 'London', 'Berlin', 'Paris', 'Delhi']\n",
    "population = [145_934_462, 331_002_651, 80_345_321, 67_886_011, 65_273_511, 1_380_004_385]\n",
    "\n",
    "spis_tup=zip(countries, capitals, [str(pop).replace('_','') for pop in population])\n",
    "\n",
    "print(*[f'{elem[1]} is the capital of {elem[0]}, population equal {elem[2]} people.' for elem in spis_tup], sep='\\n')"
   ]
  },
  {
   "cell_type": "code",
   "execution_count": 106,
   "metadata": {},
   "outputs": [
    {
     "name": "stdout",
     "output_type": "stream",
     "text": [
      "True\n"
     ]
    }
   ],
   "source": [
    "# программа проверки, что введенные координаты трех точек лежат внутри шара\n",
    "abcs, ordin, applic= input().split(), input().split(), input().split()\n",
    "r=2\n",
    "\n",
    "print(all(map(lambda elem: sum([float(i)**2 for i in elem])<= r**2, zip(abcs, ordin, applic))))\n",
    "\n",
    "# проще говоря: \n",
    "# 1) упаковали координаты в список кортежей \n",
    "# 2) заменили все кортежи булевыми значениями - True or False при выполнении условий: \n",
    "# - если сумма квадратов значений кортежа с координатами меньше квадрата радиуса сферы - то True \n",
    "# - если больше - False \n",
    "# 3) для замены использовали функцию map и неименнованную функцию lambda \n",
    "# 4) не забываем перевести значения во float из строк "
   ]
  },
  {
   "cell_type": "code",
   "execution_count": null,
   "metadata": {},
   "outputs": [],
   "source": [
    "# еще одно решение задачи про сферу - нравится получение входных данных:\n",
    "\n",
    "abscissas, ordinates, applicates=(map(float, input().split()) for _ in range(3))\n",
    "# так удобнее получать неограниченное число строк и сразу менять строковые значения на float \n",
    "\n",
    "# print(all(map(lambda x, y, z: (x**2+y**2+z**2)**0.5 <=2, abscissas,ordinates,applicates)))\n",
    "print(all(x**2 + y**2 + z**2 <= 4 for x, y, z in zip(abscissas, ordinates, applicates)))"
   ]
  },
  {
   "cell_type": "code",
   "execution_count": 125,
   "metadata": {},
   "outputs": [
    {
     "name": "stdout",
     "output_type": "stream",
     "text": [
      "False\n"
     ]
    }
   ],
   "source": [
    "# проверка IP на корректность ввода\n",
    "\n",
    "print(all(map(lambda x: x.isdigit() and 0 <= int(x) <= 255, input().split('.'))))"
   ]
  },
  {
   "cell_type": "code",
   "execution_count": 123,
   "metadata": {},
   "outputs": [
    {
     "name": "stdout",
     "output_type": "stream",
     "text": [
      "False\n"
     ]
    }
   ],
   "source": [
    "flags=[]\n",
    "for elem in input().split('.'):\n",
    "    flag= False\n",
    "    if all([i.isdigit() for i in list(elem)]):\n",
    "        flag = int(elem) in range(0,256)\n",
    "    flags.append(flag)\n",
    "    \n",
    "print(all(flags))\n",
    "        "
   ]
  },
  {
   "cell_type": "code",
   "execution_count": 130,
   "metadata": {},
   "outputs": [
    {
     "name": "stdout",
     "output_type": "stream",
     "text": [
      "1 2 3 4 5 6 7 8 9 11 12 15 22 24\n"
     ]
    }
   ],
   "source": [
    "# программа должна вывести все числа из диапазона (задан с клавиатуры), \n",
    "# которые делятся на содержащиеся в них цифры без остатка\n",
    "# ЧИсла, содержащие нули - игнорировать\n",
    "\n",
    "spis=[i for i in range(int(input()), int(input())+1) if '0' not in str(i) and all(i%int(x)==0 for x in list(str(i)))]\n",
    "\n",
    "print(*spis)\n",
    "\n",
    "# взять только те числа i из диапазона, у которых 0 не содержится в разбитом на цифры числе и все цифры являются делителями"
   ]
  },
  {
   "cell_type": "code",
   "execution_count": 138,
   "metadata": {},
   "outputs": [
    {
     "name": "stdout",
     "output_type": "stream",
     "text": [
      "YES\n",
      "YES\n"
     ]
    }
   ],
   "source": [
    "# хорош ли пароль? не менее 7 символов, хотя бы одна цифра, одна заглавная и одна строчная\n",
    "\n",
    "def good_pass(password):\n",
    "    dig=any(map(lambda x: x.isdigit(), password))\n",
    "    low= any(map(lambda x: x.islower(), password))\n",
    "    up= any(map(lambda x: x.isupper(), password))\n",
    "    length = len(password)>6\n",
    "\n",
    "    return print(('NO','YES')[all([dig,low,up,length])])\n",
    "\n",
    "good_pass(input())\n",
    "\n",
    "# или так - короче и все равно читается\n",
    "\n",
    "\n",
    "print(('YES', 'NO')[(lambda x: any([len(x) < 7, x.isdigit(), x.isalpha(), x.islower(), x.isupper()]))(input())])\n",
    "# по шагам: \n",
    "# - печатать ДА или НЕТ из кортежа по индексу \n",
    "# - индекс задан результатом функции lambda \n",
    "# - lambda возвращает значение аргумента - any(x) - True or False, а аргумент задан списком условий\n",
    "# - если хотя бы одно из условий в списке True - то any вернет True (False будет только в случае что ВСЕ условия False) \n",
    "# - функция сразу же вызывается от аргумента  input() \n",
    "\n",
    "# ИТОГ: зашла строка. Она короче 7? (да/нет), она вся из цифр?(да/нет), \n",
    "# она вся из букв?(да/нет), она вся из строчных?(да/нет), она вся из заглавных?(да/нет) \n",
    "# - совокупность ответов на эти вопросы от функции any (хотя бы один) - дает нам True or False (1 или 0) - \n",
    "# это и будет индексом нашего кортежа ('YES', 'NO')"
   ]
  },
  {
   "cell_type": "code",
   "execution_count": 143,
   "metadata": {},
   "outputs": [
    {
     "name": "stdout",
     "output_type": "stream",
     "text": [
      "[{'Васечкин': '4', 'Илюшин': '5', 'Кривцов': '3'}, {'Боталов': '5', 'Петров': '5'}]\n"
     ]
    }
   ],
   "source": [
    "# убедиться, что в каждом классе есть хотя бы одни отличник\n",
    "\n",
    "tot_classes = int(input())   # задаем число классов\n",
    "# создаем список СЛОВАРЕЙ классов, в которых хранятся данные вида ученик: оценка (см образец ниже)\n",
    "list_classes = [dict([tuple(input().split()) for _ in range(int(input()))]) for _ in range(tot_classes)] \n",
    "\n",
    "# решение 1: \n",
    "# - заменить все значения в списке словарей булевыми значениями True /False (1/0) по принципу: \n",
    "# - если 5 есть в списке значений - то True (or False если 5 там нет) \n",
    "# - взять функцию all() от полученных значений - если все значения True - то True, если хотя бы одно False - то False\n",
    "print( ('NO','YES')[all(map(lambda clas: '5' in clas.values(), list_classes))] )\n",
    "\n",
    "# решение 2: \n",
    "# - проверить, что все булевы значения в списке классов = TRUE \n",
    "# - из каждого класса взять булево значение от функции any \n",
    "# - в any вложить проверку списка, что хотя бы один элемент из списка значений словаря равен 5\n",
    "print( ('NO','YES')[all([any([x=='5' for x in clas.values()]) for clas in list_classes])] )"
   ]
  },
  {
   "cell_type": "code",
   "execution_count": 151,
   "metadata": {},
   "outputs": [
    {
     "name": "stdout",
     "output_type": "stream",
     "text": [
      "YES\n"
     ]
    }
   ],
   "source": [
    "# образе того, что выдаст сбор классов в задаче выше\n",
    "list_classes= [{'Васечкин': '4', 'Илюшин': '5', 'Кривцов': '3'}, {'Боталов': '5', 'Петров': '5'}]\n",
    "\n",
    "print( ('NO','YES')[all([any([x=='5' for x in clas.values()]) for clas in list_classes])] )\n"
   ]
  },
  {
   "cell_type": "code",
   "execution_count": 160,
   "metadata": {},
   "outputs": [
    {
     "name": "stdout",
     "output_type": "stream",
     "text": [
      "To: ant@ol.com\n",
      "Приветствую, Anton!\n",
      "Вам назначен экзамен, который пройдет December 3, в 10:00.\n",
      "По адресу: Moscow.\n",
      "Экзамен будет проводить Тимур Гуев в кабинете 17.\n",
      "Желаем удачи на экзамене!\n"
     ]
    }
   ],
   "source": [
    "def generate_letter(mail, name, date, time, place, teacher='Тимур Гуев', number=17):\n",
    "    return print(f'To: {mail}\\nПриветствую, {name}!\\nВам назначен экзамен, который пройдет {date}, в {time}.\\nПо адресу: {place}.\\nЭкзамен будет проводить {teacher} в кабинете {str(number)}.\\nЖелаем удачи на экзамене!')\n",
    "\n",
    "generate_letter('ant@ol.com', 'Anton', 'December 3', '10:00', 'Moscow'  )"
   ]
  },
  {
   "cell_type": "code",
   "execution_count": 170,
   "metadata": {},
   "outputs": [
    {
     "name": "stdout",
     "output_type": "stream",
     "text": [
      " -------------------\n",
      "| 1 | 2 | 3 | 4 | 5 |\n",
      " -------------------\n"
     ]
    }
   ],
   "source": [
    "def pretty_print(data, side='-', delimiter='|'):\n",
    "    res_string= delimiter+ delimiter.join([' '+str(i)+' ' for i in data]) + delimiter\n",
    "    return f' {side*(len(res_string)-2)}\\n{res_string}\\n {side*(len(res_string)-2)}'\n",
    "\n",
    "print(pretty_print([1,2,3,4,5]))"
   ]
  },
  {
   "cell_type": "code",
   "execution_count": 163,
   "metadata": {},
   "outputs": [
    {
     "name": "stdout",
     "output_type": "stream",
     "text": [
      "1 - 2 - 3 - 4\n"
     ]
    }
   ],
   "source": [
    "a=' - '\n",
    "data=[1,2,3,4]\n",
    "print(a.join([str(i) for i in data]))"
   ]
  },
  {
   "cell_type": "code",
   "execution_count": 172,
   "metadata": {},
   "outputs": [
    {
     "name": "stdout",
     "output_type": "stream",
     "text": [
      "hello python and stepik\n",
      "hello*python*and*stepik\n",
      "hello()()()python\n",
      "hello\n",
      "1$$2$$3$$4$$5$$6$$7$$8$$9\n"
     ]
    }
   ],
   "source": [
    "def concat(*args, sep=' '):\n",
    "    return sep.join([str(i) for i in args])\n",
    "\n",
    "print(concat('hello', 'python', 'and', 'stepik'))\n",
    "print(concat('hello', 'python', 'and', 'stepik', sep='*'))\n",
    "print(concat('hello', 'python', sep='()()()'))\n",
    "print(concat('hello', sep='()'))\n",
    "print(concat(1, 2, 3, 4, 5, 6, 7, 8, 9, sep='$$'))"
   ]
  },
  {
   "cell_type": "code",
   "execution_count": 189,
   "metadata": {},
   "outputs": [
    {
     "name": "stdout",
     "output_type": "stream",
     "text": [
      "28\n",
      "17\n",
      "3333333\n",
      "35\n"
     ]
    }
   ],
   "source": [
    "def compose (f,g):\n",
    "    def h(x):\n",
    "        result = f(g(x))\n",
    "        return result\n",
    "    return h\n",
    "\n",
    "\n",
    "\n",
    "def add3(x):\n",
    "    return x + 3\n",
    "\n",
    "\n",
    "def mul7(x):\n",
    "    return x * 7\n",
    "\n",
    "\n",
    "print(compose(mul7, add3)(1))\n",
    "print(compose(add3, mul7)(2))\n",
    "print(compose(mul7, str)(3))\n",
    "print(compose(str, mul7)(5))\n",
    "\n",
    "\n",
    "\n"
   ]
  },
  {
   "cell_type": "code",
   "execution_count": null,
   "metadata": {},
   "outputs": [],
   "source": [
    "# задача с экзамена - написать функцию, которая принимает оператор (+,-,/, *) и возвращает ФУНКЦИЮ подсчета значений \n",
    "# эта итоговая функция принимает в себя два значения (любых) и считает результат\n",
    "\n",
    "import operator\n",
    "operations= {'+': operator.add, '/': operator.truediv, '-': operator.sub, '*': operator.mul}\n",
    "def arithmetic_operation(operation):\n",
    "    def oper(a,b):\n",
    "        return operations[operation](a,b)\n",
    "    return oper"
   ]
  },
  {
   "cell_type": "code",
   "execution_count": null,
   "metadata": {},
   "outputs": [],
   "source": [
    "# гематрия слов : вывести слова в порядке возрастания гематрии слов\n",
    "# https://stepik.org/lesson/507310/step/10?unit=499253\n",
    "\n",
    "words = sorted([input() for _ in range(int(input()))])  # cоздаем список вводимых слов и СРАЗУ сортируем его в лексикографическом порядке\n",
    "\n",
    "print(*sorted(words, key= lambda word: sum([ord(let)- ord('A') for let in word.upper()])), sep='\\n')\n",
    "# ключ здесь - сумма порядков букв слова в верхнем регистре. у кого больше - то слово и стоит дальше по списку\n"
   ]
  },
  {
   "cell_type": "code",
   "execution_count": null,
   "metadata": {},
   "outputs": [],
   "source": [
    "# считать ip-адреса и вывести их в порядке возрастания в соответствии с десятичным представлением.\n",
    "# https://stepik.org/lesson/507310/step/11?unit=499253\n",
    "\n",
    "def ip_to_dec(ip):\n",
    "    numbers=ip.split('.')\n",
    "    dec_ip = [int(numbers[i])* (256 ** (len(numbers)-i-1)) for i in range(len(numbers))]\n",
    "    return sum(dec_ip)\n",
    "\n",
    "ip_list=[input() for _ in range(int(input()))]\n",
    "\n",
    "print(*sorted(ip_list, key= lambda ip: ip_to_dec(ip)), sep='\\n')"
   ]
  }
 ],
 "metadata": {
  "kernelspec": {
   "display_name": "Python 3.10.7 64-bit",
   "language": "python",
   "name": "python3"
  },
  "language_info": {
   "codemirror_mode": {
    "name": "ipython",
    "version": 3
   },
   "file_extension": ".py",
   "mimetype": "text/x-python",
   "name": "python",
   "nbconvert_exporter": "python",
   "pygments_lexer": "ipython3",
   "version": "3.11.3"
  },
  "orig_nbformat": 4,
  "vscode": {
   "interpreter": {
    "hash": "aee8b7b246df8f9039afb4144a1f6fd8d2ca17a180786b69acc140d282b71a49"
   }
  }
 },
 "nbformat": 4,
 "nbformat_minor": 2
}
