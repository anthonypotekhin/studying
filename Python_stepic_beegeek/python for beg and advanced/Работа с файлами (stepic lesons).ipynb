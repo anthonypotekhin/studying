{
 "cells": [
  {
   "cell_type": "code",
   "execution_count": null,
   "metadata": {},
   "outputs": [],
   "source": [
    "# ФАЙЛЫ \n",
    "\n",
    "# Открытие:  файловая_переменная = open(имя_файла, режим_доступа)\n",
    "# файловая переменная – имя переменной, которая ссылается на файловый объект\n",
    "# имя_файла – строковый литерал, задающий имя файла\n",
    "# режим_доступа – строковый литерал, задающий режим доступа (чтение, запись, и т.д.), в котором файл будет открыт.\n",
    "\n",
    "# режим чтения открывается по умолчанию\n",
    "\n",
    "# РАСПОЛОЖЕНИЕ \n",
    "# Когда в функцию open() передается имя файла без указания пути, интерпретатор Python исходит из предположения, \n",
    "# что место расположения файла то же, что у исполняемой программы. \n",
    "# поэтому для точной работы требуется указывать точное положение файла: \n",
    "test_file = open('C:\\\\Users\\\\temp\\\\test.txt', 'w')\n",
    "\n",
    "# при этом для экранирования можно использовать сырые строки: \n",
    "test_file = open(r'C:\\Users\\temp\\test.txt', 'w')   # добавилась буква r в начале пути\n",
    "\n",
    "# в задачах путь будет прописан через прямо слэш:\n",
    "file1 = open(r'C:/Users/temp/test.txt')    # используем прямой слеш / (абсолютный путь)\n",
    "file2 = open(r'temp/data.txt')             # используем прямой слеш / (относительный путь)"
   ]
  },
  {
   "cell_type": "code",
   "execution_count": 2,
   "metadata": {},
   "outputs": [
    {
     "name": "stdout",
     "output_type": "stream",
     "text": [
      "C:\n",
      "ew\text.txt\n",
      "\n",
      "C:\\new\\text.txt\n"
     ]
    }
   ],
   "source": [
    "# хороший пример работы с сырыми строками:\n",
    "\n",
    "path = 'C:\\new\\text.txt'\n",
    "print(path)\n",
    "print()\n",
    "\n",
    "path = r'C:\\new\\text.txt'       # оцени разницу\n",
    "print(path)"
   ]
  },
  {
   "cell_type": "code",
   "execution_count": null,
   "metadata": {},
   "outputs": [],
   "source": [
    "# кодировка \n",
    "\n",
    "file = open('info.txt', 'r')                    # если только латиница\n",
    "file = open('info.txt', 'r', encoding='utf-8')  #  кодировка для чтения файлов на русском языке"
   ]
  },
  {
   "cell_type": "code",
   "execution_count": 3,
   "metadata": {},
   "outputs": [
    {
     "name": "stdout",
     "output_type": "stream",
     "text": [
      "UTF-8\n",
      "utf-8\n"
     ]
    }
   ],
   "source": [
    "# получить кодировку: \n",
    "file1 = open('students.txt', 'w')\n",
    "file2 = open('customers.txt', 'w', encoding='utf-8')\n",
    "\n",
    "print(file1.encoding)\n",
    "print(file2.encoding)\n",
    "\n",
    "file1.close()\n",
    "file2.close()"
   ]
  },
  {
   "cell_type": "code",
   "execution_count": null,
   "metadata": {},
   "outputs": [],
   "source": [
    "# закрытие файлов: \n",
    "# если файл изменялся, это позволит корректно его сохранить;\n",
    "# если открытый файл потребуется другим программам, ваша программа может его блокировать;\n",
    "# не стоит держать в памяти лишние, уже не нужные, данные;\n",
    "# удалить открытый кем-то файл проблематично.\n",
    "\n",
    "file = open('info.txt', 'r')    # открываем файл с именем info.txt для чтения\n",
    "\n",
    "                                # работаем с содержимым файла info.txt\n",
    "\n",
    "file.close()                    # закрываем файл после окончания работы"
   ]
  },
  {
   "cell_type": "code",
   "execution_count": 4,
   "metadata": {},
   "outputs": [
    {
     "name": "stdout",
     "output_type": "stream",
     "text": [
      "True\n",
      "False\n"
     ]
    }
   ],
   "source": [
    "file1 = open('students.txt', 'w')\n",
    "file2 = open('customers.txt', 'w')\n",
    "\n",
    "file1.close()\n",
    "\n",
    "print(file1.closed)     # вернет True\n",
    "print(file2.closed)     # вернет False\n",
    "\n",
    "file2.close()  "
   ]
  },
  {
   "cell_type": "code",
   "execution_count": null,
   "metadata": {},
   "outputs": [],
   "source": [
    "# Чтение файлов \n",
    "# read() – читает все содержимое файла;\n",
    "# readline() – читает одну строку из файла;\n",
    "# readlines() – читает все содержимое файла и возвращает список строк.\n",
    "\n",
    "file = open('languages.txt', 'r', encoding='utf-8')\n",
    "\n",
    "content = file.read()       # данные считаются в переменную контент в виде строки\n",
    "# примерно так: 'Python\\nJava\\nJavascript\\nC#\\nC\\nC++\\nPHP\\nR\\nObjective-C'\n",
    "\n",
    "# Метод readline()\n",
    "# Файловый метод readline() считывает одну строку из файла (до символа конца строки '\\n'), \n",
    "# при этом возвращается считанная строка вместе с символом '\\n'. \n",
    "# Если считать строку не удалось – достигнут конец файла и больше строк в нем нет, возвращается пустая строка.\n",
    "content = file.readline() \n",
    "# хрнаиться будет 'Python\\n', причем убрать ненужный хвост можно при помощи line = line.rstrip()\n",
    "\n",
    "# чтение всего содержимого удобно через цикл\n",
    "file = open('languages.txt', 'r', encoding='utf-8')\n",
    "\n",
    "for line in file:\n",
    "    print(line.strip())\n",
    "    \n",
    "file.close()\n",
    "\n",
    "# Метод readlines()\n",
    "# Файловый метод readlines() считывает все строки из файла и возвращает список из всех считанных строк \n",
    "# (одна строка — один элемент списка). При этом, каждая строка в списке заканчивается символом переноса строки  '\\n'\n",
    "file = open('languages.txt', 'r', encoding='utf-8')\n",
    "\n",
    "languages = [line.strip() for line in file.readlines()]  # удобно списочное выражение для исключения ненужных хвостов\n",
    "file.close()\n",
    "\n",
    "# при этом: Если передать в функцию list() ссылку на файловый объект list(file) , \n",
    "# получим тот же результат, что при вызове метода file.readlines()\n",
    "\n",
    "# ПРИМЕЧАНИЕ : хочешь читать бинарный файл? добавляй 'b' к команде - open(file, 'rb') \n",
    "# для текстового аналогично: добавляй 't'\n",
    "\n",
    "# Примечание 5. После того, как файл (file) открыт, можно получить различную относящуюся к нему информацию.\n",
    "#  Три полезных атрибута (свойства): \n",
    "# file.closed\tвозвращает истину (True), если файл закрыт, иначе возвращает ложь (False)\n",
    "# file.mode\tвозвращает режим доступа с помощью которого был открыт файл\n",
    "# file.name\tвозвращает имя файла\n",
    "\n",
    "# файлы лучше всего открывать в менеджере контекста. \n",
    "# это позволит избежать проблем в случае ошибок в процессе программы \n",
    "# + после выхода из блока менеджера файл закроется автоматически - не нужно будет закрывать его через close()\n",
    "with open('languages.txt', 'r', encoding='utf-8') as file:\n",
    "    for line in file:\n",
    "        print(line)\n",
    "                          # автоматическое закрытие файла\n",
    "print('Файл закрыт')\n",
    "\n",
    "# С помощью менеджера контекста можно работать с несколькими файлами.\n",
    "with open('input.txt', 'r') as input_file, open('output.txt', 'w') as output_file:\n",
    "    # обработка файлов"
   ]
  },
  {
   "cell_type": "code",
   "execution_count": 6,
   "metadata": {},
   "outputs": [
    {
     "name": "stdout",
     "output_type": "stream",
     "text": [
      "bbaaaa\n",
      "\n",
      "aaaaaa\n",
      "bb\n"
     ]
    }
   ],
   "source": [
    "# Существуют специальные символы:\n",
    "# \\n – перемещает позицию печати на одну строку вниз;\n",
    "#\\r – перемещает позицию печати в крайнее левое положение строки.\n",
    "\n",
    "print('aaaaaa\\rbb')\n",
    "print()\n",
    "print('aaaaaa\\nbb')"
   ]
  },
  {
   "cell_type": "code",
   "execution_count": 14,
   "metadata": {},
   "outputs": [
    {
     "name": "stdout",
     "output_type": "stream",
     "text": [
      "Which of the following functions do you use to write data in the binary format? Python provides a wide range of built-in functions for file handling. It makes it really easy to create, update, read, and delete files. Open a File Remember! While specifying the exact path для указания внезапной остановки повествования; Иногда среднее тире называют коротким тире\n"
     ]
    }
   ],
   "source": [
    "# примеры: просто считать и распаковать содержимое\n",
    "\n",
    "name= input()\n",
    "file= open(name)\n",
    "print(*[line.strip() for line in file.readlines()])\n",
    "file.close()"
   ]
  },
  {
   "cell_type": "code",
   "execution_count": 13,
   "metadata": {},
   "outputs": [
    {
     "name": "stdout",
     "output_type": "stream",
     "text": [
      "для указания внезапной остановки повествования;\n"
     ]
    }
   ],
   "source": [
    "# вывести предпоследнюю строку файла\n",
    "name= input()\n",
    "file= open(name)\n",
    "print([line.strip() for line in file.readlines()][-2]) \n",
    "file.close()"
   ]
  },
  {
   "cell_type": "code",
   "execution_count": 12,
   "metadata": {},
   "outputs": [
    {
     "name": "stdout",
     "output_type": "stream",
     "text": [
      "Python provides a wide range of built-in functions for file handling. It makes it really easy to create, update, read, and delete files.\n"
     ]
    }
   ],
   "source": [
    "# вывести случайную строку\n",
    "from random import choice\n",
    "file= open('/Users/tony_builder/Downloads/lines.txt')\n",
    "print(choice([line.strip() for line in file.readlines()])) \n",
    "file.close()"
   ]
  },
  {
   "cell_type": "code",
   "execution_count": 15,
   "metadata": {},
   "outputs": [
    {
     "name": "stdout",
     "output_type": "stream",
     "text": [
      "491000626\n"
     ]
    }
   ],
   "source": [
    "# вывести сумму двух чисел\n",
    "\n",
    "file= open('/Users/tony_builder/Downloads/numbers.txt')\n",
    "print(sum([int(line.strip()) for line in file.readlines()])) \n",
    "file.close()"
   ]
  },
  {
   "cell_type": "code",
   "execution_count": 27,
   "metadata": {},
   "outputs": [
    {
     "name": "stdout",
     "output_type": "stream",
     "text": [
      "453491626\n"
     ]
    }
   ],
   "source": [
    "# Вам доступен текстовый файл nums.txt. В файле записано два целых числа, они могут быть разделены символами пробела и конца строки. \n",
    "# Напишите программу, выводящую на экран сумму этих чисел.\n",
    "\n",
    "file= open('/Users/tony_builder/Downloads/nums.txt')\n",
    "\n",
    "print(sum([int(line.strip()) for line in file.readlines() if line.strip().isdigit()])) \n",
    "\n",
    "file.close()\n"
   ]
  },
  {
   "cell_type": "code",
   "execution_count": 28,
   "metadata": {},
   "outputs": [
    {
     "name": "stdout",
     "output_type": "stream",
     "text": [
      "телефон\t4\t12500\n",
      "бургер\t1\t500\n",
      "курс\t1\t1400\n",
      "подписка\t40\t9500\n",
      "наушники\t2\t22450\n",
      "телефон\t2\t2500\n",
      "ноутбук\t5\t155000\n",
      "диван\t100\t300\n",
      "\n"
     ]
    }
   ],
   "source": [
    "# Вам доступен текстовый файл prices.txt с информацией о заказе из интернет магазина. В нем каждая строка с помощью символа табуляции (\\t) разделена на три колонки:\n",
    "# наименование товара;\n",
    "# количество товара (целое число);\n",
    "# цена (в рублях) товара за 1 шт (целое число).\n",
    "# Напишите программу, выводящую на экран общую стоимость заказа.\n",
    "\n",
    "file= open('/Users/tony_builder/Downloads/prices.txt')\n",
    "# print(sum([int(line.strip()) for line in file.readlines() if line.strip().isdigit()])) \n",
    "print(file.read())\n",
    "file.close()\n"
   ]
  },
  {
   "cell_type": "code",
   "execution_count": 33,
   "metadata": {},
   "outputs": [
    {
     "name": "stdout",
     "output_type": "stream",
     "text": [
      "[50000, 500, 1400, 380000, 44900, 5000, 775000, 30000]\n",
      "1286800\n"
     ]
    }
   ],
   "source": [
    "file= open('/Users/tony_builder/Downloads/prices.txt')\n",
    "list_goods= [line.strip().split('\\t') for line in file.readlines() ]\n",
    "\n",
    "list_cost = list(map(lambda good: int(good[1])* int(good[2]) , list_goods))\n",
    "\n",
    "print(list_cost)\n",
    "\n",
    "print(sum(list_cost))\n",
    "\n",
    "file.close()"
   ]
  },
  {
   "cell_type": "code",
   "execution_count": null,
   "metadata": {},
   "outputs": [],
   "source": [
    "# позиция в файле\n",
    "\n",
    "# текущая позиция - курсор\n",
    "# Вызов методов read(), readlines(), readline() перемещает текущую позицию туда, где завершилось чтение. \n",
    "# Для методов read() и readlines() это конец файла, для метода readline() – следующая строка после прочитанной.\n",
    "\n",
    "# Для повторного чтения данных из файла, можно:\n",
    "# 1)переоткрыть файл, тогда курсор снова попадёт в начало;\n",
    "# 2) переместить курсор с помощью файлового метода seek().\n",
    "\n",
    "# SEEK(): \n",
    "# Файловый метод seek() задаёт позицию курсора в БАЙТАХ от начала файла. \n",
    "# Чтобы перевести курсор в самое начало файла необходимо вызвать метод seek(), передав ему в качестве аргумента значение 0.\n",
    "\n",
    "# Метод seek() не очень полезен при работе с текстовыми файлами, так как не учитывает разделение текста на строки. \n",
    "# А вот при работе с файлами в двоичном режиме умение работать с позицией и смещениями очень важно!\n",
    "\n",
    "# В самом начале курсор (текущая позиция) равен нулю, после считывания первой строки, \n",
    "# курсор смещается на 8 байт (по байту на каждый из символов 'P', 'y', 't', 'h', 'o', 'n' \n",
    "# и два байта на символ перевода строки '\\n')\n",
    "\n",
    "# метод tell() - скажет, где сейчас курсор"
   ]
  },
  {
   "cell_type": "code",
   "execution_count": 34,
   "metadata": {},
   "outputs": [
    {
     "name": "stdout",
     "output_type": "stream",
     "text": [
      "Repeat after me: pop\n",
      "goes!\n",
      "the!\n",
      "weasel!!\n"
     ]
    }
   ],
   "source": [
    "with open('/Users/tony_builder/Downloads/input.txt', encoding='utf-8') as file:\n",
    "    print('Repeat after me:', file.readline().strip())\n",
    "    for line in file:\n",
    "        print(line.strip() + '!')"
   ]
  },
  {
   "cell_type": "code",
   "execution_count": 35,
   "metadata": {},
   "outputs": [
    {
     "name": "stdout",
     "output_type": "stream",
     "text": [
      ".enil hcae fo rettel tsrif eht tuo tnirp dna txt.egassem_terces daeR\n"
     ]
    }
   ],
   "source": [
    "# вывести строку из файла задом наперед\n",
    "with open('/Users/tony_builder/Downloads/text.txt', encoding='utf-8') as file:\n",
    "    print(file.readline().strip()[::-1])"
   ]
  },
  {
   "cell_type": "code",
   "execution_count": 38,
   "metadata": {},
   "outputs": [
    {
     "name": "stdout",
     "output_type": "stream",
     "text": [
      "Complex is better than complicated.\n",
      "Simple is better than complex.\n",
      "Explicit is better than implicit.\n",
      "Beautiful is better than ugly.\n"
     ]
    }
   ],
   "source": [
    "# вывести все строки файла в обратном порядке\n",
    "with open('/Users/tony_builder/Downloads/data.txt', encoding='utf-8') as file:\n",
    "    print(*[line.strip() for line in file.readlines()][::-1], sep='\\n')"
   ]
  },
  {
   "cell_type": "code",
   "execution_count": 47,
   "metadata": {},
   "outputs": [
    {
     "name": "stdout",
     "output_type": "stream",
     "text": [
      "believe in their..\n",
      "Life is what 12345\n",
      "better than ugly!!\n",
      "Explicit is better\n"
     ]
    }
   ],
   "source": [
    "# вывести только строки максимальной длины\n",
    "with open('/Users/tony_builder/Downloads/lines (1).txt', encoding='utf-8') as file:\n",
    "    lines_list= [line.strip() for line in file.readlines()]\n",
    "    print(*[line for line in lines_list if len(line)== len(max(lines_list , key=lambda elem: len(elem)))], sep='\\n')\n"
   ]
  },
  {
   "cell_type": "code",
   "execution_count": 49,
   "metadata": {},
   "outputs": [
    {
     "name": "stdout",
     "output_type": "stream",
     "text": [
      "256\n",
      "78\n",
      "114\n",
      "15\n",
      "1089\n"
     ]
    }
   ],
   "source": [
    "# вывести сумму чисел каждой строки\n",
    "\n",
    "with open('/Users/tony_builder/Downloads/numbers (1).txt', encoding='utf-8') as file:\n",
    "    print(*[sum([int(elem) for elem in line.strip().split() if elem.isdigit()]) for line in file.readlines()], sep='\\n')\n",
    "\n",
    "# для себя: \n",
    "# 1) создаем список из прочтенных линий \n",
    "# 2) в этом списке каждую линию разбиваем на список по пробелу (получатся некие списки, содержащие числа и пустые пробелы) \n",
    "# 3) убираем все лишние (в нашем случае это пробелы) условием - isdigit() \n",
    "# 4) берем от полученных подсписков сумму (для каждого подсписка) \n",
    "# 5) имеем в итоге список сумм каждой строки - распаковываем его"
   ]
  },
  {
   "cell_type": "code",
   "execution_count": 68,
   "metadata": {},
   "outputs": [
    {
     "name": "stdout",
     "output_type": "stream",
     "text": [
      "124410\n"
     ]
    }
   ],
   "source": [
    "# вывести сумму всего, что является целым неотрицательным числом\n",
    "\n",
    "# воспомогательная функция - убирает все лишнее из строки, оставляя только числа так, \n",
    "# чтобы ПОСЛЕДОВАТЕЛЬНОСТЬ ЧИСЕЛ БЕЗ ПРОБЕЛА тоже считалась цельным числом\n",
    "def except_trash(string):\n",
    "    for elem in string:\n",
    "        new_string= string\n",
    "        if not elem.isdigit(): new_string=string.replace(elem, ' ')\n",
    "        string=new_string\n",
    "    return new_string\n",
    "\n",
    "\n",
    "with open('/Users/tony_builder/Downloads/nums (1).txt', encoding='utf-8') as file:\n",
    "    print(sum([sum([int(i) for i in except_trash(line).split()]) for line in file.readlines()]))"
   ]
  },
  {
   "cell_type": "code",
   "execution_count": 87,
   "metadata": {},
   "outputs": [
    {
     "name": "stdout",
     "output_type": "stream",
     "text": [
      "Input file contains:\n",
      "1069 letters\n",
      "229 words\n",
      "12 lines\n"
     ]
    }
   ],
   "source": [
    "# вывести число букв текста, число слов и число строк\n",
    "\n",
    "with open('/Users/tony_builder/Downloads/file.txt', encoding='utf-8') as file:\n",
    "    list_lines= [line.strip() for line in file.readlines()]\n",
    "    file.seek(0)\n",
    "    num_letters= len([al for al in list(file.read().strip().replace(' ','')) if al.isalpha()])\n",
    "    file.seek(0)\n",
    "    # ниже строка - если нужны ТОЛЬКО слова\n",
    "    #num_words= sum([len([word for word in [elem.strip('.,;:-?!') for elem in line.split()] if word.isalpha()]) for line in list_lines])\n",
    "   \n",
    "# а в эту переменную входят даже цифры - словом считается последовательность непробельных символов   \n",
    "    num_words= sum([len([elem.strip('.,;:-?!') for elem in line.split()]) for line in list_lines])\n",
    "    file.seek(0)\n",
    "    num_lines = len(file.readlines())\n",
    "    print(f'Input file contains:\\n{num_letters} letters\\n{num_words} words\\n{num_lines} lines')"
   ]
  },
  {
   "cell_type": "code",
   "execution_count": 88,
   "metadata": {},
   "outputs": [
    {
     "name": "stdout",
     "output_type": "stream",
     "text": [
      "Dave Roller\n",
      "Fredric Trahan\n",
      "Enoch Swank\n"
     ]
    }
   ],
   "source": [
    "# вывести три пары случайных Имя+фамилия из двух файлов\n",
    "\n",
    "with open('/Users/tony_builder/Downloads/first_names.txt', encoding='utf-8')  as fn, open('/Users/tony_builder/Downloads/last_names.txt', encoding='utf-8') as ln:\n",
    "    names=[line.strip() for line in fn.readlines()]\n",
    "    surnames= [line.strip() for line in ln.readlines()]\n",
    "    from random import choice\n",
    "    print(*[f'{choice(names)} {choice(surnames)}' for _ in range(3)], sep='\\n')\n",
    "\n",
    "\n"
   ]
  },
  {
   "cell_type": "code",
   "execution_count": 96,
   "metadata": {},
   "outputs": [
    {
     "name": "stdout",
     "output_type": "stream",
     "text": [
      "Germany\n",
      "Ghana\n",
      "Guatemala\n",
      "Greece\n",
      "Guinea\n",
      "Georgia\n",
      "Guinea-Bissau\n",
      "Gabon\n",
      "Guyana\n"
     ]
    }
   ],
   "source": [
    "# вывести названия всех стран, чья численность больше 500 000 и название страны начинается на G\n",
    "\n",
    "with open('/Users/tony_builder/Downloads/population.txt', encoding='utf-8') as file:\n",
    "    list_lines= [line.strip() for line in file.readlines()]\n",
    "    print(*[line.split('\\t')[0]  for line in list_lines if int(line.split('\\t')[1])>500000 and line.split('\\t')[0][0]=='G'] , sep='\\n')\n",
    "\n"
   ]
  },
  {
   "cell_type": "code",
   "execution_count": 109,
   "metadata": {},
   "outputs": [],
   "source": [
    "# прочитать csv файл так, чтобы первая строка стала названиями ключей, а все последующие строки - значениями ключей \n",
    "# в итоге на выходе должен быть список словарей \n",
    "# ниже сомтри разложено как это выглядит пошагово\n",
    "\n",
    "def read_csv():\n",
    "    with open('/Users/tony_builder/Downloads/data.csv', encoding='utf-8') as file:\n",
    "        num_lines= len(file.readlines())                        # считаем число строк файла\n",
    "        file.seek(0)                                            # возвращаемся на исходную в файле\n",
    "        keys= file.readline().strip().split(',')                # собираем ключи из первой строки файла\n",
    "        list_dictionaries=[]                                    # создаем пустой список под словари\n",
    "        \n",
    "        for _ in range (num_lines):                             # цикл для всех строк, начиная со второй\n",
    "\n",
    "            one_dict= dict(zip(keys, file.readline().strip().split(',')))   # сшиваем в словарь ключи и значения строк\n",
    "            list_dictionaries.append(one_dict)                              # цепляем его в список\n",
    "            one_dict={}                                                     # обнуляем словарь\n",
    "\n",
    "    return list_dictionaries[:-1]                               # убираем поганый хвост в конце (считает пробел к словарю)"
   ]
  },
  {
   "cell_type": "code",
   "execution_count": 108,
   "metadata": {},
   "outputs": [
    {
     "name": "stdout",
     "output_type": "stream",
     "text": [
      "[{'policyID': '119736', 'statecode': 'FL', 'county': 'CLAY COUNTY', 'eq_site_limit': '498960', 'hu_site_limit': '498960', 'fl_site_limit': '498960', 'fr_site_limit': '498960', 'tiv_2011': '498960', 'tiv_2012': '792148.9', 'eq_site_deductible': '0', 'hu_site_deductible': '9979.2', 'fl_site_deductible': '0', 'fr_site_deductible': '0', 'point_latitude': '30.102261', 'point_longitude': '-81.711777', 'line': 'Residential', 'construction': 'Masonry', 'point_granularity': '1'}, {'policyID': '448094', 'statecode': 'FL', 'county': 'CLAY COUNTY', 'eq_site_limit': '1322376.3', 'hu_site_limit': '1322376.3', 'fl_site_limit': '1322376.3', 'fr_site_limit': '1322376.3', 'tiv_2011': '1322376.3', 'tiv_2012': '1438163.57', 'eq_site_deductible': '0', 'hu_site_deductible': '0', 'fl_site_deductible': '0', 'fr_site_deductible': '0', 'point_latitude': '30.063936', 'point_longitude': '-81.707664', 'line': 'Residential', 'construction': 'Masonry', 'point_granularity': '3'}, {'policyID': '206893', 'statecode': 'FL', 'county': 'CLAY COUNTY', 'eq_site_limit': '190724.4', 'hu_site_limit': '190724.4', 'fl_site_limit': '190724.4', 'fr_site_limit': '190724.4', 'tiv_2011': '190724.4', 'tiv_2012': '192476.78', 'eq_site_deductible': '0', 'hu_site_deductible': '0', 'fl_site_deductible': '0', 'fr_site_deductible': '0', 'point_latitude': '30.089579', 'point_longitude': '-81.700455', 'line': 'Residential', 'construction': 'Wood', 'point_granularity': '1'}, {'policyID': '333743', 'statecode': 'FL', 'county': 'CLAY COUNTY', 'eq_site_limit': '0', 'hu_site_limit': '79520.76', 'fl_site_limit': '0', 'fr_site_limit': '0', 'tiv_2011': '79520.76', 'tiv_2012': '86854.48', 'eq_site_deductible': '0', 'hu_site_deductible': '0', 'fl_site_deductible': '0', 'fr_site_deductible': '0', 'point_latitude': '30.063236', 'point_longitude': '-81.707703', 'line': 'Residential', 'construction': 'Wood', 'point_granularity': '3'}, {'policyID': '172534', 'statecode': 'FL', 'county': 'CLAY COUNTY', 'eq_site_limit': '0', 'hu_site_limit': '254281.5', 'fl_site_limit': '0', 'fr_site_limit': '254281.5', 'tiv_2011': '254281.5', 'tiv_2012': '246144.49', 'eq_site_deductible': '0', 'hu_site_deductible': '0', 'fl_site_deductible': '0', 'fr_site_deductible': '0', 'point_latitude': '30.060614', 'point_longitude': '-81.702675', 'line': 'Residential', 'construction': 'Wood', 'point_granularity': '1'}, {'policyID': '785275', 'statecode': 'FL', 'county': 'CLAY COUNTY', 'eq_site_limit': '0', 'hu_site_limit': '515035.62', 'fl_site_limit': '0', 'fr_site_limit': '0', 'tiv_2011': '515035.62', 'tiv_2012': '884419.17', 'eq_site_deductible': '0', 'hu_site_deductible': '0', 'fl_site_deductible': '0', 'fr_site_deductible': '0', 'point_latitude': '30.063236', 'point_longitude': '-81.707703', 'line': 'Residential', 'construction': 'Masonry', 'point_granularity': '3'}, {'policyID': '995932', 'statecode': 'FL', 'county': 'CLAY COUNTY', 'eq_site_limit': '0', 'hu_site_limit': '19260000', 'fl_site_limit': '0', 'fr_site_limit': '0', 'tiv_2011': '19260000', 'tiv_2012': '20610000', 'eq_site_deductible': '0', 'hu_site_deductible': '0', 'fl_site_deductible': '0', 'fr_site_deductible': '0', 'point_latitude': '30.102226', 'point_longitude': '-81.713882', 'line': 'Commercial', 'construction': 'Reinforced Concrete', 'point_granularity': '1'}, {'policyID': '223488', 'statecode': 'FL', 'county': 'CLAY COUNTY', 'eq_site_limit': '328500', 'hu_site_limit': '328500', 'fl_site_limit': '328500', 'fr_site_limit': '328500', 'tiv_2011': '328500', 'tiv_2012': '348374.25', 'eq_site_deductible': '0', 'hu_site_deductible': '16425', 'fl_site_deductible': '0', 'fr_site_deductible': '0', 'point_latitude': '30.102217', 'point_longitude': '-81.707146', 'line': 'Residential', 'construction': 'Wood', 'point_granularity': '1'}, {'policyID': '433512', 'statecode': 'FL', 'county': 'CLAY COUNTY', 'eq_site_limit': '315000', 'hu_site_limit': '315000', 'fl_site_limit': '315000', 'fr_site_limit': '315000', 'tiv_2011': '315000', 'tiv_2012': '265821.57', 'eq_site_deductible': '0', 'hu_site_deductible': '15750', 'fl_site_deductible': '0', 'fr_site_deductible': '0', 'point_latitude': '30.118774', 'point_longitude': '-81.704613', 'line': 'Residential', 'construction': 'Wood', 'point_granularity': '1'}, {'policyID': '142071', 'statecode': 'FL', 'county': 'CLAY COUNTY', 'eq_site_limit': '705600', 'hu_site_limit': '705600', 'fl_site_limit': '705600', 'fr_site_limit': '705600', 'tiv_2011': '705600', 'tiv_2012': '1010842.56', 'eq_site_deductible': '14112', 'hu_site_deductible': '35280', 'fl_site_deductible': '0', 'fr_site_deductible': '0', 'point_latitude': '30.100628', 'point_longitude': '-81.703751', 'line': 'Residential', 'construction': 'Masonry', 'point_granularity': '1'}]\n"
     ]
    }
   ],
   "source": [
    "with open('/Users/tony_builder/Downloads/data.csv', encoding='utf-8') as file:\n",
    "    num_lines= len(file.readlines())                        # считаем число строк файла\n",
    "    file.seek(0)                                            # возвращаемся на исходную в файле\n",
    "    keys= file.readline().strip().split(',')                # собираем ключи из первой строки файла\n",
    "    list_dictionaries=[]\n",
    "    for _ in range (num_lines): \n",
    "        one_dict= dict(zip(keys, file.readline().strip().split(',')))\n",
    "        list_dictionaries.append(one_dict)\n",
    "        one_dict={}\n",
    "\n",
    "print(list_dictionaries[:-1])"
   ]
  },
  {
   "cell_type": "code",
   "execution_count": 102,
   "metadata": {},
   "outputs": [
    {
     "name": "stdout",
     "output_type": "stream",
     "text": [
      "['policyID', 'statecode', 'county', 'eq_site_limit', 'hu_site_limit', 'fl_site_limit', 'fr_site_limit', 'tiv_2011', 'tiv_2012', 'eq_site_deductible', 'hu_site_deductible', 'fl_site_deductible', 'fr_site_deductible', 'point_latitude', 'point_longitude', 'line', 'construction', 'point_granularity']\n",
      "\n",
      "['119736,FL,CLAY COUNTY,498960,498960,498960,498960,498960,792148.9,0,9979.2,0,0,30.102261,-81.711777,Residential,Masonry,1', '448094,FL,CLAY COUNTY,1322376.3,1322376.3,1322376.3,1322376.3,1322376.3,1438163.57,0,0,0,0,30.063936,-81.707664,Residential,Masonry,3', '206893,FL,CLAY COUNTY,190724.4,190724.4,190724.4,190724.4,190724.4,192476.78,0,0,0,0,30.089579,-81.700455,Residential,Wood,1', '333743,FL,CLAY COUNTY,0,79520.76,0,0,79520.76,86854.48,0,0,0,0,30.063236,-81.707703,Residential,Wood,3', '172534,FL,CLAY COUNTY,0,254281.5,0,254281.5,254281.5,246144.49,0,0,0,0,30.060614,-81.702675,Residential,Wood,1', '785275,FL,CLAY COUNTY,0,515035.62,0,0,515035.62,884419.17,0,0,0,0,30.063236,-81.707703,Residential,Masonry,3', '995932,FL,CLAY COUNTY,0,19260000,0,0,19260000,20610000,0,0,0,0,30.102226,-81.713882,Commercial,Reinforced Concrete,1', '223488,FL,CLAY COUNTY,328500,328500,328500,328500,328500,348374.25,0,16425,0,0,30.102217,-81.707146,Residential,Wood,1', '433512,FL,CLAY COUNTY,315000,315000,315000,315000,315000,265821.57,0,15750,0,0,30.118774,-81.704613,Residential,Wood,1', '142071,FL,CLAY COUNTY,705600,705600,705600,705600,705600,1010842.56,14112,35280,0,0,30.100628,-81.703751,Residential,Masonry,1']\n"
     ]
    }
   ],
   "source": [
    "with open('/Users/tony_builder/Downloads/data.csv', encoding='utf-8') as file:\n",
    "    keys= file.readline().strip().split(',')\n",
    "    values= [line.strip() for line in file.readlines()] \n",
    "print(keys)\n",
    "print()\n",
    "print(values)"
   ]
  },
  {
   "cell_type": "code",
   "execution_count": 99,
   "metadata": {},
   "outputs": [
    {
     "name": "stdout",
     "output_type": "stream",
     "text": [
      "   policyID statecode       county  eq_site_limit  hu_site_limit  \\\n",
      "0    119736        FL  CLAY COUNTY       498960.0      498960.00   \n",
      "1    448094        FL  CLAY COUNTY      1322376.3     1322376.30   \n",
      "2    206893        FL  CLAY COUNTY       190724.4      190724.40   \n",
      "3    333743        FL  CLAY COUNTY            0.0       79520.76   \n",
      "4    172534        FL  CLAY COUNTY            0.0      254281.50   \n",
      "5    785275        FL  CLAY COUNTY            0.0      515035.62   \n",
      "6    995932        FL  CLAY COUNTY            0.0    19260000.00   \n",
      "7    223488        FL  CLAY COUNTY       328500.0      328500.00   \n",
      "8    433512        FL  CLAY COUNTY       315000.0      315000.00   \n",
      "9    142071        FL  CLAY COUNTY       705600.0      705600.00   \n",
      "\n",
      "   fl_site_limit  fr_site_limit     tiv_2011     tiv_2012  eq_site_deductible  \\\n",
      "0       498960.0       498960.0    498960.00    792148.90                   0   \n",
      "1      1322376.3      1322376.3   1322376.30   1438163.57                   0   \n",
      "2       190724.4       190724.4    190724.40    192476.78                   0   \n",
      "3            0.0            0.0     79520.76     86854.48                   0   \n",
      "4            0.0       254281.5    254281.50    246144.49                   0   \n",
      "5            0.0            0.0    515035.62    884419.17                   0   \n",
      "6            0.0            0.0  19260000.00  20610000.00                   0   \n",
      "7       328500.0       328500.0    328500.00    348374.25                   0   \n",
      "8       315000.0       315000.0    315000.00    265821.57                   0   \n",
      "9       705600.0       705600.0    705600.00   1010842.56               14112   \n",
      "\n",
      "   hu_site_deductible  fl_site_deductible  fr_site_deductible  point_latitude  \\\n",
      "0              9979.2                   0                   0       30.102261   \n",
      "1                 0.0                   0                   0       30.063936   \n",
      "2                 0.0                   0                   0       30.089579   \n",
      "3                 0.0                   0                   0       30.063236   \n",
      "4                 0.0                   0                   0       30.060614   \n",
      "5                 0.0                   0                   0       30.063236   \n",
      "6                 0.0                   0                   0       30.102226   \n",
      "7             16425.0                   0                   0       30.102217   \n",
      "8             15750.0                   0                   0       30.118774   \n",
      "9             35280.0                   0                   0       30.100628   \n",
      "\n",
      "   point_longitude         line         construction  point_granularity  \n",
      "0       -81.711777  Residential              Masonry                  1  \n",
      "1       -81.707664  Residential              Masonry                  3  \n",
      "2       -81.700455  Residential                 Wood                  1  \n",
      "3       -81.707703  Residential                 Wood                  3  \n",
      "4       -81.702675  Residential                 Wood                  1  \n",
      "5       -81.707703  Residential              Masonry                  3  \n",
      "6       -81.713882   Commercial  Reinforced Concrete                  1  \n",
      "7       -81.707146  Residential                 Wood                  1  \n",
      "8       -81.704613  Residential                 Wood                  1  \n",
      "9       -81.703751  Residential              Masonry                  1  \n"
     ]
    }
   ],
   "source": [
    "# прочитал вложенный файл, чтобы понять что там внутри, как структурировано\n",
    "\n",
    "import pandas as pd\n",
    "print(pd.read_csv('https://stepik.org/media/attachments/lesson/530408/data.csv'))"
   ]
  },
  {
   "cell_type": "code",
   "execution_count": null,
   "metadata": {},
   "outputs": [],
   "source": [
    "# ЗАПИСЬ в ФАЙЛ\n",
    "\n",
    "# 'w' - Открыть файл для записи. Если файл уже существует, то стереть его содержимое. Если файл не существует, он будет создан.\n",
    "# 'a' - Открыть файл для записи. Все записываемые в файл данные будут добавлены в его конец. Если файл не существует, то он будет создан.\n",
    "# 'r+' - Открыть файл для чтения и записи. В этом режиме происходит частичная перезапись содержимого файла с самого начала.\n",
    "# 'x' -\tСоздать новый файл. Если файл уже существует, произойдет ошибка.  \n",
    "\n",
    "# короче говоря, важно, КАК ты открыл файл - см ниже"
   ]
  },
  {
   "cell_type": "code",
   "execution_count": 113,
   "metadata": {},
   "outputs": [
    {
     "name": "stdout",
     "output_type": "stream",
     "text": [
      "First line of the file.\n",
      "Second line of the file.\n",
      "Third line of the file.\n"
     ]
    }
   ],
   "source": [
    "# исходный текст файла\n",
    "with open('/Users/tony_builder/Downloads/myfile_исходный.txt', 'r', encoding='utf-8') as file:\n",
    "    print(*[line.strip() for line in file.readlines()] , sep='\\n')"
   ]
  },
  {
   "attachments": {},
   "cell_type": "markdown",
   "metadata": {},
   "source": [
    "Яндекс тестовое задание"
   ]
  },
  {
   "cell_type": "code",
   "execution_count": 14,
   "metadata": {},
   "outputs": [
    {
     "name": "stdout",
     "output_type": "stream",
     "text": [
      "8\n"
     ]
    }
   ],
   "source": [
    "with open('input.txt', 'r') as input_file:\n",
    "\tfor line in input_file:\n",
    "\t\ta,b = line.split()\n",
    "\n",
    "with open('output1.txt', 'w') as output_file:\n",
    "\toutput_file.write(str(int(a)+int(b)))\n",
    "print(str(int(a)+int(b)))\n"
   ]
  },
  {
   "cell_type": "code",
   "execution_count": 110,
   "metadata": {},
   "outputs": [
    {
     "name": "stdout",
     "output_type": "stream",
     "text": [
      "Python and beegeek forever\n",
      "We love stepik <3\n"
     ]
    }
   ],
   "source": [
    "# это перезапишет файл (сотрет содержимое, запишет новое)\n",
    "with open('/Users/tony_builder/Downloads/myfile.txt', 'w', encoding='utf-8') as file:\n",
    "    file.write('Python and beegeek forever\\n')\n",
    "    file.write('We love stepik <3')\n",
    "\n",
    "with open('/Users/tony_builder/Downloads/myfile.txt', 'r', encoding='utf-8') as file:\n",
    "    print(*[line.strip() for line in file.readlines()] , sep='\\n')"
   ]
  },
  {
   "cell_type": "code",
   "execution_count": 111,
   "metadata": {},
   "outputs": [
    {
     "name": "stdout",
     "output_type": "stream",
     "text": [
      "First line of the file.\n",
      "Second line of the file.\n",
      "Third line of the file.Python and beegeek forever\n",
      "We love stepik <3\n"
     ]
    }
   ],
   "source": [
    "# это добавит строки в конец файла и перезапишет его\n",
    "with open('/Users/tony_builder/Downloads/myfile.txt', 'a', encoding='utf-8') as file:\n",
    "    file.write('Python and beegeek forever\\n')\n",
    "    file.write('We love stepik <3')\n",
    "\n",
    "with open('/Users/tony_builder/Downloads/myfile.txt', 'r', encoding='utf-8') as file:\n",
    "    print(*[line.strip() for line in file.readlines()] , sep='\\n')"
   ]
  },
  {
   "cell_type": "code",
   "execution_count": 112,
   "metadata": {},
   "outputs": [
    {
     "name": "stdout",
     "output_type": "stream",
     "text": [
      "Python and beegeek forever\n",
      "We love stepik <3ile.\n",
      "Third line of the file.\n"
     ]
    }
   ],
   "source": [
    "# это частично перезапишет файл (интересно)\n",
    "with open('/Users/tony_builder/Downloads/myfile.txt', 'r+', encoding='utf-8') as file:\n",
    "    file.write('Python and beegeek forever\\n')\n",
    "    file.write('We love stepik <3')\n",
    "\n",
    "with open('/Users/tony_builder/Downloads/myfile.txt', 'r', encoding='utf-8') as file:\n",
    "    print(*[line.strip() for line in file.readlines()] , sep='\\n')"
   ]
  },
  {
   "cell_type": "code",
   "execution_count": 1,
   "metadata": {},
   "outputs": [],
   "source": [
    "# Работа с writelines()\n",
    "\n",
    "\n",
    "# этот код создаст файл в корневую папку питона и запишет в него строки из списка\n",
    "philosophers = ['Джoн Локк\\n', 'Дэвид Хьюм\\n', 'Эдмyнд Берк\\n']\n",
    "\n",
    "with open('philosophers.txt', 'w', encoding='utf-8') as file:\n",
    "    file.writelines(philosophers)"
   ]
  },
  {
   "cell_type": "code",
   "execution_count": 4,
   "metadata": {},
   "outputs": [
    {
     "name": "stdout",
     "output_type": "stream",
     "text": [
      "Джoн Локк\n",
      "Дэвид Хьюм\n",
      "Эдмyнд Берк\n"
     ]
    }
   ],
   "source": [
    "# запись через print(чтозаписываем, file=output) - передаем аргумент file, получаем запись в файл\n",
    "\n",
    "with open('philosophers_2.txt', 'w', encoding='utf-8') as output:\n",
    "    print('Джoн Локк', file=output)\n",
    "    print('Дэвид Хьюм', file=output)\n",
    "    print('Эдмyнд Берк', file=output)\n",
    "\n",
    "# обрати внимание, что print уже содержит перенос на новую строку по умолчанию\n",
    "\n",
    "with open('philosophers_2.txt', 'r', encoding='utf-8') as output:\n",
    "    print(*[line.strip() for line in output.readlines()] , sep='\\n')"
   ]
  },
  {
   "cell_type": "code",
   "execution_count": 6,
   "metadata": {},
   "outputs": [],
   "source": [
    "# практикуемся - записать в файл 25 разных чисел\n",
    "\n",
    "with open('random.txt', 'w') as file:\n",
    "    from random import randint\n",
    "    file.writelines([f'{str(randint(111,777))}\\n' for _ in range(25)])"
   ]
  },
  {
   "cell_type": "code",
   "execution_count": 18,
   "metadata": {},
   "outputs": [],
   "source": [
    "# взять существуюшщий файл input и из него создать файл output - такой, что все строчки будут пронумерованы\n",
    "\n",
    "with open('/Users/tony_builder/Downloads/input (1).txt', 'r') as start, open('output.txt', 'w') as res:\n",
    "    list_lines= [line.strip() for line in start.readlines()]\n",
    "    new_list= [f'{elem[0]}) {elem[1]}' for elem in list(enumerate(list_lines, 1))]\n",
    "    # что сделали? создали новый список, в котором каждая строка превратилась в кортеж вида [(1, строка1), (2, строка2)...]\n",
    "    # потом мы сразу перезаписали этот список в вид \"первый элемент кортежа(номер) + скобка + второй элемент кортежа(строка)\"\n",
    "    \n",
    "    res.writelines([f'{string}\\n' for string in new_list])  # не забываем записать строку с переводом на след строку\n",
    "    \n"
   ]
  },
  {
   "cell_type": "code",
   "execution_count": 3,
   "metadata": {},
   "outputs": [
    {
     "name": "stdout",
     "output_type": "stream",
     "text": [
      "Гуев 100\n",
      "Маргиев 99\n",
      "Чаниев 95\n",
      "Тепсикоев 94\n",
      "Левитский 80\n",
      "Габолаев 0\n",
      "Хлюстова 10\n",
      "Гергиева 85\n"
     ]
    }
   ],
   "source": [
    "# взять существующий файл с оценками и переписать его в новый, прибавив к каждой оценке от 0 до 5 баллов \n",
    "# чтобы максимум было 100 баллов\n",
    "\n",
    "with open('/Users/tony_builder/Downloads/class_scores.txt', 'r') as first, open('new_scores.txt', 'w') as result:\n",
    "    # cоздаем список списков строк по типу [[ученик, оценка], ...]\n",
    "    list_lines= [line.strip().split() for line in first.readlines()]  \n",
    "\n",
    "    # записываем новые строки так, что увеличиваем на 5 ТОЛЬКО те оценки, которые меньше 95 \n",
    "    # - для это используем стандартный кортеж вида (a, b)[False/ True] с индексами выбора 0/1 \n",
    "    new_lines = [f'{elem[0]} {(str(int(elem[1])+5),str(100))[int(elem[1])>95]}\\n' for elem in list_lines]\n",
    "\n",
    "\n",
    "    # убираем из последней строки перевод на новую строку\n",
    "    new_lines[-1] = new_lines[-1][:-1] \n",
    "    result.writelines(new_lines) \n",
    "\n",
    "# логика в общем вся та же, что в задаче выше\n",
    "\n",
    "with open('/Users/tony_builder/Downloads/class_scores.txt', 'r', encoding='utf-8') as one :\n",
    "    print(*[line.strip() for line in one.readlines()] , sep='\\n')"
   ]
  },
  {
   "cell_type": "code",
   "execution_count": 12,
   "metadata": {},
   "outputs": [],
   "source": [
    "# задача Жака Фреско \n",
    "# \"Были разноцветные козлы. Сколько?\"\n",
    "# \"Сколько чего?\"\n",
    "# \"Сколько из них составляет более 7% от общего количества козлов?\"\n",
    "\n",
    "# или: записать в файл (лексикограф порядок) только тех козлов, число которых больше, чем 7% от всех козлов в списке \n",
    "\n",
    "\n",
    "with open('/Users/tony_builder/Downloads/goats.txt', 'r') as all_goats, open('answer.txt', 'w') as res_goats:\n",
    "    # собираем названия козлов разных цветов из верхней части списка\n",
    "    all_goats.readline()\n",
    "    goats_specifies= []\n",
    "    line= all_goats.readline()\n",
    "    while line.strip()!= 'GOATS':\n",
    "        goats_specifies.append(line.strip())\n",
    "        line= all_goats.readline()\n",
    "    \n",
    "    # все остальные козлы, которых нам предстоит считать\n",
    "    mass_goats = [line.strip() for line in all_goats.readlines()]\n",
    "\n",
    "    # считаем всех козлов и записываем их в словарь, где ключи - цвета козлов, а значения - их количество\n",
    "    num_goats = {}\n",
    "    for goat in mass_goats:\n",
    "        num_goats[goat] = num_goats.get(goat, 0) + 1\n",
    "\n",
    "    # собираем в список тех козлов, количество которых больше 7% от общего числа\n",
    "    only_true_goats=[]\n",
    "    for item in num_goats.items():                          # запускаем цикл по кортежам вида (ключ, значение)\n",
    "        if item[1]> 0.07* sum(list(num_goats.values())):    # если количество больше, чем 7% от общего числа - записываем его\n",
    "            only_true_goats.append(item[0])\n",
    "\n",
    "\n",
    "    # записываем отсортированный список козлов-победителей))\n",
    "    res_goats.writelines([f'{elem}\\n' for elem in sorted(only_true_goats)])\n",
    "\n",
    "\n",
    "\n",
    "\n",
    "    "
   ]
  },
  {
   "cell_type": "code",
   "execution_count": 10,
   "metadata": {},
   "outputs": [],
   "source": [
    "# конкатенация файлов:\n",
    "# нужно собрать содержимое текстовых файлов в новый файл output.txt \n",
    "# файлы лежат в той же папке, их имена подаются с клавиатуры N-раз (каждое на новой строке)\n",
    "\n",
    "file_names = [input() for _ in range(int(input()))]     # все имена файлов\n",
    "\n",
    "with open('output.txt', 'w') as conc_f:\n",
    "    new_lines=[]\n",
    "    for name in file_names:\n",
    "        with open(name, 'r') as temp:\n",
    "            # conc_f.write(f'{name}\\n')\n",
    "            new_lines.extend([f'{line.strip()}\\n' for line in temp.readlines()])\n",
    "    \n",
    "    new_lines[-1] = new_lines[-1][:-1] \n",
    "    conc_f.writelines(new_lines)\n",
    "\n",
    "# это решение отличное! выводит все содержимое файлов , переходя со строчки на строчку через \\n \n",
    "# но задача требует другое решение - просто дозапись. и это отвратительно выглядит - см решение ниже"
   ]
  },
  {
   "cell_type": "code",
   "execution_count": 12,
   "metadata": {},
   "outputs": [],
   "source": [
    "file_names = [input() for _ in range(int(input()))]     # все имена файлов\n",
    "\n",
    "with open('output.txt', 'w') as conc_f:\n",
    "    new_lines=[]\n",
    "    for name in file_names:\n",
    "        with open(name, 'r') as temp:\n",
    "            # conc_f.write(f'{name}\\n')\n",
    "            new_lines.extend(temp.readlines())\n",
    "    conc_f.writelines(new_lines)"
   ]
  },
  {
   "cell_type": "code",
   "execution_count": 13,
   "metadata": {},
   "outputs": [],
   "source": [
    "# лог файл - есть файл с именами пользователей и временем их входа и выхода с сайта \n",
    "# нужно собрать в отдельный файл тех, кто был в сети не менее часа \n",
    "\n",
    "# вспомогательная функция разбиения строчки со временем входа и выхода + вычисления разницы во времени\n",
    "def timing(string):\n",
    "    time_in= [int(i) for i in string.split(',')[1].split(':')]    # вернет время входа в формате [hour, minute]\n",
    "    time_out= [int(i) for i in string.split(',')[2].split(':')]   # вернет время входа в формате [hour, minute]\n",
    "    # два случая для времени входа и выхода: \n",
    "    # 1) когда в одни сутки вход и выход \n",
    "    # 2) когда вошел в одни сутки, а вышел в следующие\n",
    "    if time_out[0]>= time_in[0]: res_time= (time_out[0]- time_in[0])*60 + (time_out[1]- time_in[1])\n",
    "    else: res_time= (time_out[0]+24 - time_in[0])*60 + (time_out[1]- time_in[1])\n",
    "    return res_time                                                                 # вернет время нахождения\n",
    "\n",
    "with open('/Users/tony_builder/Downloads/logfile.txt', 'r') as log, open('output.txt', 'w') as res_users:\n",
    "    all_users=[line.strip() for line in log.readlines()]\n",
    "    only_more_hour_users= [user.split(',')[0] for user in all_users if timing(user)>=60]  # берем только тех, у кого больше 60 минут\n",
    "    \n",
    "    res_users.writelines([f'{user}\\n' for user in only_more_hour_users])"
   ]
  },
  {
   "cell_type": "code",
   "execution_count": null,
   "metadata": {},
   "outputs": [],
   "source": [
    "# чтобы осталось в памяти \n",
    "# есть список студентов, нужно вывести число тех, кто набрал нужное число баллов по каждому предмету\n",
    "# https://stepik.org/lesson/448983/step/3?unit=511577  - тут можно скачать файл и прочитать задание\n",
    "\n",
    "with open('grades.txt', 'r') as file:\n",
    "    all_students=[line.strip().split() for line in file.readlines()]\n",
    "    only_good_students =[student[0] for student in all_students if all(map(lambda x:int(x)>=65, student[1:]))]\n",
    "    print(len(only_good_students))"
   ]
  },
  {
   "cell_type": "code",
   "execution_count": null,
   "metadata": {},
   "outputs": [],
   "source": [
    "# найти самые длинные слова в текстовом файле, даже если они содержат знаки препинания или цифры (отстой, но что делать)\n",
    "\n",
    "with open('words.txt', 'r') as file:\n",
    "    list_words= file.read().strip().split()\n",
    "    print(*[word for word in list_words if len(word)== max(map(lambda x:len(x), list_words))], sep='\\n')\n"
   ]
  },
  {
   "cell_type": "code",
   "execution_count": 15,
   "metadata": {},
   "outputs": [
    {
     "name": "stdout",
     "output_type": "stream",
     "text": [
      "['Тимур', 'Гуев', 'Роман', 'Гацалов', 'Габолаев', 'Георгий', 'Гергиева', 'Светлана', 'Гуева', 'Лариса', 'Засеев', 'Ирбек', 'Гуева', 'Лиза', 'Харисов', 'Артур', 'Янченко', 'Роман']\n"
     ]
    }
   ],
   "source": [
    "# вспомогательный код - чтобы не забывать, как собрать все слова из текстового файла в список\n",
    "#  (но не убирая ни знаки препинания, ни цифры - они прижмутся к своим словам)\n",
    "with open('output.txt', 'r') as file:\n",
    "    list_words= file.read().strip().split()\n",
    "\n",
    "    print(list_words)\n",
    "    "
   ]
  },
  {
   "cell_type": "code",
   "execution_count": null,
   "metadata": {},
   "outputs": [],
   "source": [
    "# вывести на экран последние 10 строк файла (каждую с новой строки) \n",
    "# + на подумать - как вывести их, не считывая ВЕСЬ файл в оперативку компьютера\n",
    "\n",
    "# решение со считыванием файла в кубышку\n",
    "with open(input(), 'r') as file:\n",
    "    list_str=[line.strip() for line in file.readlines()]\n",
    "    print(('\\n'.join(list_str), '\\n'.join(list_str[-10:]))[len(list_str)>10])\n"
   ]
  },
  {
   "cell_type": "code",
   "execution_count": 22,
   "metadata": {},
   "outputs": [
    {
     "name": "stdout",
     "output_type": "stream",
     "text": [
      "a\n",
      "a\n",
      "a\n",
      "a\n",
      "a\n",
      "a\n",
      "a\n",
      "a\n",
      "a\n"
     ]
    }
   ],
   "source": [
    "# вспомогательный код \n",
    "\n",
    "list_str=['a','a','a','a','a','a','a','a','a']#, 'b','b','b','b']\n",
    "\n",
    "print(('\\n'.join(list_str), '\\n'.join(list_str[-10:]))[len(list_str)>10])"
   ]
  },
  {
   "cell_type": "code",
   "execution_count": null,
   "metadata": {},
   "outputs": [],
   "source": [
    "# уже интереснее - заменить ВСЕ запрещенные слова в любом виде (строчные, заглавные, смешанные, встречаются внутри другого слова)\n",
    "# чем заменить? - звездочками (их количество = количеству букв в запрещенном слове)\n",
    "# итак, имя файла для замены подается с клавиатуры (пусть будет file_ch) - нужно вывести его содержимое уже с заменой непотребства\n",
    "\n",
    "with open('/Users/tony_builder/Downloads/forbidden_words.txt', 'r') as forb, open('/Users/tony_builder/Downloads/data (1).txt', 'r') as file_ch: \n",
    "    stop_words= forb.read().strip().split()     # здесь храним все слова, которые нужно заменить\n",
    "    my_file_words = [line.strip().split() for line in file_ch.readlines()]      \n",
    "    # собрали список списков слов из файла, где каждый подсписок - бывшая строка\n",
    "\n",
    "    for bad_word in stop_words:                 # для каждого запрещенного слова \n",
    "        for string_list in my_file_words:           # для каждой строки в файле\n",
    "            for i in range(len(string_list)):           # для каждого слова в строке делаем проверку:\n",
    "                if bad_word.lower() in string_list[i].lower():    # если плохое слово содержится в проверяемом слове\n",
    "                    bad_index= string_list[i].lower().find(bad_word)\n",
    "                    string_list[i] = string_list[i][:bad_index] + '*'* len(bad_word) + string_list[i][bad_index+len(bad_word):]\n",
    "                #string_list[i] =  string_list[i].replace(bad_word.lower(), '*'*len(bad_word)) \n",
    "    \n",
    "    print(*[' '.join(elem) for elem in my_file_words], sep='\\n')\n",
    "\n",
    "\n",
    "# ДОРЕШАТЬ!!!!! прошла только один тест \n",
    "# https://stepik.org/lesson/448983/step/6?unit=511577"
   ]
  },
  {
   "cell_type": "code",
   "execution_count": 34,
   "metadata": {},
   "outputs": [],
   "source": [
    "# взять текст в одном файле, записать его транслитерацией в другой файл\n",
    "\n",
    "# словарь транслитерации\n",
    "d = {\n",
    "    'а': 'a', 'к': 'k', 'х': 'h', 'б': 'b', 'л': 'l', 'ц': 'c', 'в': 'v', 'м': 'm', 'ч': 'ch',\n",
    "    'г': 'g', 'н': 'n', 'ш': 'sh', 'д': 'd', 'о': 'o', 'щ': 'shh', 'е': 'e', 'п': 'p', 'ъ': '*',\n",
    "    'ё': 'jo', 'р': 'r', 'ы': 'y', 'ж': 'zh', 'с': 's', 'ь': \"'\", 'з': 'z', 'т': 't', 'э': 'je',\n",
    "    'и': 'i', 'у': 'u', 'ю': 'ju', 'й': 'j', 'ф': 'f', 'я': 'ya'\n",
    "    }\n",
    "\n",
    "with open('cyrillic.txt', 'r', encoding='utf-8') as rus_text, open('transliteration.txt', 'w') as res_text:\n",
    "    words = rus_text.read()\n",
    "    new_words=[]\n",
    "    for letter in list(words):\n",
    "        if letter.lower() in d.keys(): \n",
    "            if letter.islower() : new_letter = d[letter]\n",
    "            elif letter.isupper(): new_letter = d[letter.lower()].title()\n",
    "        else: new_letter= letter\n",
    "        new_words.append(new_letter)\n",
    "    \n",
    "    res_text.writelines(new_words)\n"
   ]
  },
  {
   "cell_type": "code",
   "execution_count": null,
   "metadata": {},
   "outputs": [],
   "source": [
    "# найти в предложенном файле те функции ,к которым нет комментария о ее названии \n",
    "# здесь это означает, что строка ПЕРЕД строкой с объявлением функции не начинается с #\n",
    "\n",
    "with open(input(), 'r') as file:\n",
    "    all_lines=[line.strip() for line in file.readlines()]\n",
    "    lines_with_func = [line for line in all_lines if line.startswith('def') ]\n",
    "    #file.seek(0)\n",
    "    good_func= []\n",
    "    for i in range(len(all_lines)):\n",
    "        if all_lines[i].startswith('#'): good_func.extend(all_lines[i+1])\n",
    "    \n",
    "    bad_func=[]\n",
    "    for line in lines_with_func:\n",
    "        if line not in good_func: bad_func.append(line.split()[1].split('(')[0])\n",
    "    \n",
    "    print(('\\n'.join(bad_func), 'Best Programming Team')[len(bad_func)==0])\n",
    "\n"
   ]
  },
  {
   "cell_type": "code",
   "execution_count": 37,
   "metadata": {},
   "outputs": [
    {
     "name": "stdout",
     "output_type": "stream",
     "text": [
      "Президент США Дональд Трамп продолжил обмен выпадами с руководством КНДР. В своем Twitter, комментируя выступление главы северокорейского МИДа Ли Ён Хо, американский лидер заявил, что если министр говорил от имени своего государства, то это означает, что КНДР долго не просуществует.\n",
      "\n"
     ]
    }
   ],
   "source": [
    "with open('cyrillic.txt', 'r', encoding='utf-8') as file:\n",
    "\n",
    "    print(file.readline())"
   ]
  },
  {
   "cell_type": "code",
   "execution_count": 41,
   "metadata": {},
   "outputs": [
    {
     "name": "stdout",
     "output_type": "stream",
     "text": [
      "powers\n",
      "matrix\n",
      "mean\n",
      "greet\n"
     ]
    }
   ],
   "source": [
    "\n",
    "\n",
    "with open(input(), 'r') as file:\n",
    "    all_lines=[line.strip() for line in file.readlines()]\n",
    "    lines_with_func = [line for line in all_lines if line.startswith('def') ]\n",
    "    #file.seek(0)\n",
    "    good_func= []\n",
    "    for i in range(len(all_lines)):\n",
    "        if all_lines[i].startswith('#'): good_func.append(all_lines[i+1])\n",
    "    \n",
    "    bad_func=[]\n",
    "    for line in lines_with_func:\n",
    "        if line not in good_func: bad_func.append(line.split()[1].split('(')[0])\n",
    "    \n",
    "    print('\\n'.join(bad_func))"
   ]
  },
  {
   "cell_type": "code",
   "execution_count": null,
   "metadata": {},
   "outputs": [],
   "source": []
  }
 ],
 "metadata": {
  "kernelspec": {
   "display_name": "Python 3",
   "language": "python",
   "name": "python3"
  },
  "language_info": {
   "codemirror_mode": {
    "name": "ipython",
    "version": 3
   },
   "file_extension": ".py",
   "mimetype": "text/x-python",
   "name": "python",
   "nbconvert_exporter": "python",
   "pygments_lexer": "ipython3",
   "version": "3.10.7"
  },
  "orig_nbformat": 4,
  "vscode": {
   "interpreter": {
    "hash": "aee8b7b246df8f9039afb4144a1f6fd8d2ca17a180786b69acc140d282b71a49"
   }
  }
 },
 "nbformat": 4,
 "nbformat_minor": 2
}
