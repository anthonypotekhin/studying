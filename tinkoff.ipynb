{
 "cells": [
  {
   "cell_type": "markdown",
   "metadata": {},
   "source": [
    "        Виталик копит на дорогостоящую покупку стоимостью ﻿\n",
    "        �\n",
    "        c﻿ рублей. Каждый месяц Виталик получает зарплату на свою карточку в размере ﻿\n",
    "        �\n",
    "        x﻿ рублей. Также Виталик оценил, что в среднем в месяц он тратит на личные нужды ﻿\n",
    "        �\n",
    "        y﻿ рублей.\n",
    "\n",
    "        Виталик решил, что сделает покупку ровно в тот момент, когда на его счете окажется достаточное количество денег для покупки. Также он понимает, что это не последняя его дорогостоящая покупка, поэтому ему хотелось бы иметь под рукой формулу, которая бы по известным ﻿\n",
    "        �\n",
    "        c﻿, ﻿\n",
    "        �\n",
    "        x﻿ и ﻿\n",
    "        �\n",
    "        y﻿ давала номер месяца, в котором Виталик сможет сделать покупку.\n",
    "\n",
    "        Виталик стартует с нулевого баланса и получает зарплату в первый день каждого месяца. Нумерация месяцев начинается с 1 (с момента начисления первой зарплаты). Кэшбеком и процентами на остаток пренебречь."
   ]
  },
  {
   "cell_type": "code",
   "execution_count": 3,
   "metadata": {},
   "outputs": [
    {
     "name": "stdout",
     "output_type": "stream",
     "text": [
      "5\n"
     ]
    }
   ],
   "source": [
    "c,x,y = int(input()),int(input()),int(input())\n",
    "\n",
    "month=0\n",
    "cash = (x-y)*month + x\n",
    "\n",
    "while cash < c:\n",
    "    cash = (x-y)*month + x\n",
    "    month +=1\n",
    "\n",
    "print(month)"
   ]
  },
  {
   "cell_type": "code",
   "execution_count": 12,
   "metadata": {},
   "outputs": [
    {
     "data": {
      "text/plain": [
       "8"
      ]
     },
     "execution_count": 12,
     "metadata": {},
     "output_type": "execute_result"
    }
   ],
   "source": [
    "#c,x,y = int(input()),int(input()),int(input())\n",
    "\n",
    "c,x,y = 200, 60,40\n",
    "\n",
    "from math import ceil\n",
    "month = int(ceil((c-x)/(x-y)+1))\n",
    "month"
   ]
  },
  {
   "cell_type": "markdown",
   "metadata": {},
   "source": [
    "        Известно, что даже небольшие ошибки в коде имеют свойство расползаться по всей кодовой базе и приводить к новым (возможно более сложным) ошибкам.\n",
    "\n",
    "        Эта участь, к сожалению, не обошла стороной команду разработчиков из компании N. При очередном тестировании было обнаружено, что в первых двух созданных файлах проекта было допущено х и у багов соответственно. По опыту главного разработчика число багов с каждым новым файлом увеличивается экспоненциально, а именно, общее количество багов после добавления файла t равно сумме двух величин:\n",
    "\n",
    "        общее количество багов в системе после добавления файла t−2\n",
    "        общее количество багов в системе после добавления файла t−1\n",
    "        \n",
    "        Теперь команде необходимо оценить примерный масштаб бедствия и вычислить общее количество багов в проекте, который уже насчитывает n файлов.\n",
    "\n",
    "        Формат входных данных\n",
    "        На вход подаются целые неотрицательные числа x,y,n.\n",
    "\n",
    "        Формат выходных данных\n",
    "        Программа должна вывести одно целое число - количество багов в проекте."
   ]
  },
  {
   "cell_type": "code",
   "execution_count": 13,
   "metadata": {},
   "outputs": [
    {
     "name": "stdout",
     "output_type": "stream",
     "text": [
      "11\n"
     ]
    }
   ],
   "source": [
    "from functools import lru_cache\n",
    "\n",
    "@lru_cache()\n",
    "def find_bugs(x,y,n):\n",
    "    first = x\n",
    "    second = x+y\n",
    "    if n == 1:\n",
    "        return first\n",
    "    elif n == 2:\n",
    "        return second\n",
    "\n",
    "    for _ in range(3, n+1):\n",
    "        first, second = second, first+second\n",
    "\n",
    "    return second\n",
    "\n",
    "print(find_bugs(1,2,5))"
   ]
  },
  {
   "cell_type": "code",
   "execution_count": 14,
   "metadata": {},
   "outputs": [
    {
     "name": "stdout",
     "output_type": "stream",
     "text": [
      "11\n"
     ]
    }
   ],
   "source": [
    "from functools import lru_cache\n",
    "\n",
    "@lru_cache()\n",
    "def find_bugs(x,y,n):\n",
    "    first = x\n",
    "    second = x+y\n",
    "    if n == 1:\n",
    "        return first\n",
    "    elif n == 2:\n",
    "        return second\n",
    "\n",
    "    for _ in range(3, n+1):\n",
    "        first, second = second, first+second\n",
    "\n",
    "    return second\n",
    "\n",
    "x,y,n = int(input()),int(input()),int(input())\n",
    "print(find_bugs(x,y,n))"
   ]
  },
  {
   "cell_type": "markdown",
   "metadata": {},
   "source": [
    "        Одним из подходов к подбору наиболее релевантных и выгодных предложений является анализ схожести различных клиентов. В частности, если два клиента пользуются одинаковыми продуктами компании, совершают похожие действия, то с большой вероятностью они заинтересуются одними и теми же акциями и предложениями.\n",
    "\n",
    "        Таким образом перед нами возникает задача определения набора общих операций, которые совершают ﻿\n",
    "        2\n",
    "        2﻿ выбранных клиента.\n",
    "\n",
    "        Пусть каждый тип операции, совершаемый пользователем, представляется в виде некоторого уникального кода — специального числового значения. Причем можно считать, что список действий пользователя за некоторый промежуток времени упорядочен по возрастанию кода операции. Вам необходимо по двум последовательностям операций сформировать третью, которая будет состоять из полного набора общих операций клиентов.\n",
    "\n",
    "        Формат входных данных\n",
    "        В первой строке дано число ﻿\n",
    "        �\n",
    "        n﻿ — количество операций, совершенных первым клиентом.\n",
    "\n",
    "        В следующей строке идет последовательность из ﻿\n",
    "        �\n",
    "        n﻿ натуральных чисел, кодов совершенных первым клиентом операций, в неубывающем порядке.\n",
    "\n",
    "        В третьей строке дано число ﻿\n",
    "        �\n",
    "        m﻿ — количество операций, совершенных вторым клиентом.\n",
    "\n",
    "        В следующей строке идет последовательность из ﻿\n",
    "        �\n",
    "        m﻿ натуральных чисел, кодов совершенных вторым клиентом операций, в неубывающем порядке.\n",
    "\n",
    "        Операции в последовательностях могут повторяться."
   ]
  },
  {
   "cell_type": "code",
   "execution_count": 15,
   "metadata": {},
   "outputs": [
    {
     "name": "stdout",
     "output_type": "stream",
     "text": [
      "[1, 2, 2, 4, 9]\n",
      "[2, 2, 2, 5, 7, 9]\n"
     ]
    }
   ],
   "source": [
    "n= int(input())\n",
    "first_oper = list(map(int, input().split()))\n",
    "m=  int(input())\n",
    "second_oper = list(map(int, input().split()))\n",
    "\n",
    "print(first_oper)\n",
    "print(second_oper)\n",
    "\n",
    "first_oper= [1, 2, 2, 4, 9]\n",
    "second_oper= [2, 2, 2, 5, 7, 9]\n",
    "\n",
    "container =[]\n",
    "for oper1 in first_oper:\n",
    "    if oper1 in second_oper:\n",
    "        container.append(oper1)\n",
    "        second_oper.drop(oper1)\n",
    "\n",
    "print(''.join(map(str, container)))\n"
   ]
  },
  {
   "cell_type": "code",
   "execution_count": 21,
   "metadata": {},
   "outputs": [
    {
     "name": "stdout",
     "output_type": "stream",
     "text": [
      "2 2 7 9\n"
     ]
    }
   ],
   "source": [
    "first_oper= [1, 2, 2, 4, 7,  9]\n",
    "second_oper= [2, 2, 2, 5, 7, 9]\n",
    "\n",
    "container =[]\n",
    "for oper1 in first_oper:\n",
    "    if oper1 in second_oper:\n",
    "        container.append(oper1)\n",
    "        second_oper.remove(oper1)\n",
    "\n",
    "print(' '.join(map(str, container)))"
   ]
  },
  {
   "cell_type": "markdown",
   "metadata": {},
   "source": [
    "        Дима конструирует дизайн нового мобильного приложения Тинькофф Банка.\n",
    "\n",
    "        В мобильном приложении банка показываются n кнопок в один ряд, причем кнопки бывают двух цветов: белые и оранжевые. Дмитрий делает удобный интерфейс, поэтому его задача — сделать так, чтобы цвета кнопок чередовались.\n",
    "\n",
    "        Для этой цели он может сделать два действия: поменять местами две любые кнопки или перекрасить кнопку в другой цвет.\n",
    "\n",
    "        Вам даны текущие цвета кнопок. Определите минимальное число действий, которое нужно совершить, чтобы цвета кнопок в приложении чередовались.\n",
    "\n",
    "        Формат входных данных\n",
    "        В первой и единственной строке входных данных дана строка \n",
    "        s, которая состоит только из символов O and W\n",
    "\n",
    "        Формат выходных данных\n",
    "        В выходных данных выведите одно число — минимальное количество действий с кнопками, которое необходимо совершить, чтобы их цвета чередовались."
   ]
  },
  {
   "cell_type": "code",
   "execution_count": 73,
   "metadata": {},
   "outputs": [],
   "source": [
    "\n",
    "string= 'OOWWO'\n",
    "\n"
   ]
  },
  {
   "cell_type": "code",
   "execution_count": 40,
   "metadata": {},
   "outputs": [
    {
     "data": {
      "text/plain": [
       "False"
      ]
     },
     "execution_count": 40,
     "metadata": {},
     "output_type": "execute_result"
    }
   ],
   "source": [
    "# функция проверки необходимости замены букв\n",
    "def is_need_change(string):\n",
    "    from math import ceil, floor\n",
    "    from collections import Counter\n",
    "    num_counter = Counter(string)\n",
    "    num_o , num_w = num_counter['O'], num_counter['W']\n",
    "    \n",
    "    if len(string)%2==0 and num_o != num_w: return True\n",
    "    elif len(string)%2==1 and abs(num_o-num_w)>1: return True\n",
    "    else: return False\n",
    "\n",
    "is_need_change(string)"
   ]
  },
  {
   "cell_type": "code",
   "execution_count": 83,
   "metadata": {},
   "outputs": [],
   "source": [
    "string = 'WWOWWWWOOOOOOO'"
   ]
  },
  {
   "cell_type": "code",
   "execution_count": 89,
   "metadata": {},
   "outputs": [],
   "source": [
    "string = 'OWOWWOO'"
   ]
  },
  {
   "cell_type": "code",
   "execution_count": 92,
   "metadata": {},
   "outputs": [
    {
     "name": "stdout",
     "output_type": "stream",
     "text": [
      "['O', 'W', 'O', 'W', 'O', 'W', 'O']\n",
      "1 0\n"
     ]
    }
   ],
   "source": [
    "l = list(string)\n",
    "flag = l[0] == 'O'\n",
    "\n",
    "count1, count2 =0,0\n",
    "for i in range(1, len(string)-1):\n",
    "    if l[i] == l[i-1] and l[i]!=l[i+1]: \n",
    "        l[i],l[i+1] = l[i+1],l[i]\n",
    "        count1+=1\n",
    "    elif l[i]==l[i-1]==l[i+1]:\n",
    "        l[i]= ('O', 'W')[flag]\n",
    "        count2+=1\n",
    "\n",
    "print(l)\n",
    "print(count1, count2)"
   ]
  },
  {
   "cell_type": "code",
   "execution_count": 88,
   "metadata": {},
   "outputs": [
    {
     "data": {
      "text/plain": [
       "'OWOWOWO'"
      ]
     },
     "execution_count": 88,
     "metadata": {},
     "output_type": "execute_result"
    }
   ],
   "source": [
    "def try_shuf(string):\n",
    "    from collections import Counter\n",
    "    from itertools import zip_longest\n",
    "    num_counter = Counter(string)\n",
    "    num_o , num_w = num_counter['O'], num_counter['W']\n",
    "    o_lst = ['O']*num_o\n",
    "    w_lst = ['W']* num_w\n",
    "    order_flag = num_o>=num_w\n",
    "    temp_res= zip_longest((o_lst,w_lst)[not order_flag], (o_lst,w_lst)[order_flag]) # здесь определяем порядок перемешивания\n",
    "                                                                                    # если число О больше, чем W - начинаем с О\n",
    "                                                                                    # если W больше - начинаем с W\n",
    "    return (i for j in temp_res for i in j if i is not None)\n",
    "\n",
    "''.join(try_shuf(string))"
   ]
  },
  {
   "cell_type": "code",
   "execution_count": null,
   "metadata": {},
   "outputs": [],
   "source": [
    "string= 'OOWWO'\n",
    "if not is_need_change(string):\n",
    "    true_string = ''.join(try_shuf(string))\n",
    "\n",
    "for i in range(len(string)):\n",
    "    \n"
   ]
  },
  {
   "cell_type": "code",
   "execution_count": null,
   "metadata": {},
   "outputs": [],
   "source": []
  },
  {
   "cell_type": "markdown",
   "metadata": {},
   "source": [
    "след задача"
   ]
  },
  {
   "cell_type": "markdown",
   "metadata": {},
   "source": []
  },
  {
   "cell_type": "code",
   "execution_count": null,
   "metadata": {},
   "outputs": [],
   "source": []
  },
  {
   "cell_type": "code",
   "execution_count": 78,
   "metadata": {},
   "outputs": [
    {
     "name": "stdout",
     "output_type": "stream",
     "text": [
      "users order\n",
      "users operations\n",
      "users market\n",
      "users regions\n",
      "instruments regions\n"
     ]
    }
   ],
   "source": [
    "n = int(input())\n",
    "initial_tools = input().split()\n",
    "tested_tools = input().split()\n",
    "selected_tools = input().split()\n",
    "\n",
    "current_tools = initial_tools\n",
    "\n",
    "for i in range(n):\n",
    "    print(current_tools[0], current_tools[1])\n",
    "    \n",
    "    if i < len(tested_tools):\n",
    "        if tested_tools[i] == current_tools[0]:\n",
    "            current_tools[0] = selected_tools[i]\n",
    "        else:\n",
    "            current_tools[1] = selected_tools[i]\n"
   ]
  },
  {
   "cell_type": "code",
   "execution_count": 82,
   "metadata": {},
   "outputs": [
    {
     "name": "stdout",
     "output_type": "stream",
     "text": [
      "users order\n",
      "users operations\n",
      "users market\n",
      "users regions\n",
      "instruments regions\n"
     ]
    }
   ],
   "source": [
    "n = int(input())\n",
    "initial_tools = input().split()\n",
    "tested_tools = input().split()\n",
    "selected_tools = input().split()\n",
    "\n",
    "current_tools = initial_tools\n",
    "\n",
    "for i in range(n):\n",
    "    print(current_tools[0], current_tools[1])\n",
    "    \n",
    "    if i < len(tested_tools):\n",
    "        if tested_tools[i] == initial_tools[0]:\n",
    "            current_tools[0], current_tools[1] = selected_tools[i], current_tools[1]\n",
    "        else:\n",
    "            current_tools[0], current_tools[1] = current_tools[0], selected_tools[i]\n",
    "    else:\n",
    "        current_tools[0], current_tools[1] = current_tools[1], selected_tools[i - len(tested_tools)]\n"
   ]
  },
  {
   "cell_type": "code",
   "execution_count": null,
   "metadata": {},
   "outputs": [],
   "source": []
  }
 ],
 "metadata": {
  "kernelspec": {
   "display_name": "Python 3",
   "language": "python",
   "name": "python3"
  },
  "language_info": {
   "codemirror_mode": {
    "name": "ipython",
    "version": 3
   },
   "file_extension": ".py",
   "mimetype": "text/x-python",
   "name": "python",
   "nbconvert_exporter": "python",
   "pygments_lexer": "ipython3",
   "version": "3.10.7"
  },
  "orig_nbformat": 4
 },
 "nbformat": 4,
 "nbformat_minor": 2
}
