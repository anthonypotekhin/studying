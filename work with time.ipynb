{
 "cells": [
  {
   "attachments": {},
   "cell_type": "markdown",
   "metadata": {},
   "source": [
    "### работаем со временем \n",
    "\n",
    "\n",
    "полезные ссылки:\n",
    "1) работа со временем в pandas https://medium.datadriveninvestor.com/how-to-work-with-dates-in-pandas-like-a-pro-a84055a4819d\n",
    "2) примеры работы со временем в pandas: https://www.geeksforgeeks.org/python-working-with-date-and-time-using-pandas/\n",
    "3) работа с модулем datetime https://python-scripts.com/datetime-time-python\n",
    "\n",
    "4) полезный сайт для работы со временем https://www.timeanddate.com/\n",
    "\n",
    "5) возможно полезная инфа: https://stepik.org/lesson/745789/step/1?unit=747565"
   ]
  },
  {
   "attachments": {},
   "cell_type": "markdown",
   "metadata": {},
   "source": [
    "### ТАблица работы для stftime - выбор формата вывода даты\n",
    "https://stepik.org/lesson/570048/step/1?unit=564591"
   ]
  },
  {
   "cell_type": "code",
   "execution_count": 58,
   "metadata": {},
   "outputs": [
    {
     "data": {
      "text/html": [
       "<div>\n",
       "<style scoped>\n",
       "    .dataframe tbody tr th:only-of-type {\n",
       "        vertical-align: middle;\n",
       "    }\n",
       "\n",
       "    .dataframe tbody tr th {\n",
       "        vertical-align: top;\n",
       "    }\n",
       "\n",
       "    .dataframe thead th {\n",
       "        text-align: right;\n",
       "    }\n",
       "</style>\n",
       "<table border=\"1\" class=\"dataframe\">\n",
       "  <thead>\n",
       "    <tr style=\"text-align: right;\">\n",
       "      <th></th>\n",
       "      <th>City</th>\n",
       "      <th>Colors Reported</th>\n",
       "      <th>Shape Reported</th>\n",
       "      <th>State</th>\n",
       "      <th>Time</th>\n",
       "    </tr>\n",
       "  </thead>\n",
       "  <tbody>\n",
       "    <tr>\n",
       "      <th>0</th>\n",
       "      <td>Ithaca</td>\n",
       "      <td>NaN</td>\n",
       "      <td>TRIANGLE</td>\n",
       "      <td>NY</td>\n",
       "      <td>6/1/1930 22:00</td>\n",
       "    </tr>\n",
       "    <tr>\n",
       "      <th>1</th>\n",
       "      <td>Willingboro</td>\n",
       "      <td>NaN</td>\n",
       "      <td>OTHER</td>\n",
       "      <td>NJ</td>\n",
       "      <td>6/30/1930 20:00</td>\n",
       "    </tr>\n",
       "    <tr>\n",
       "      <th>2</th>\n",
       "      <td>Holyoke</td>\n",
       "      <td>NaN</td>\n",
       "      <td>OVAL</td>\n",
       "      <td>CO</td>\n",
       "      <td>2/15/1931 14:00</td>\n",
       "    </tr>\n",
       "    <tr>\n",
       "      <th>3</th>\n",
       "      <td>Abilene</td>\n",
       "      <td>NaN</td>\n",
       "      <td>DISK</td>\n",
       "      <td>KS</td>\n",
       "      <td>6/1/1931 13:00</td>\n",
       "    </tr>\n",
       "    <tr>\n",
       "      <th>4</th>\n",
       "      <td>New York Worlds Fair</td>\n",
       "      <td>NaN</td>\n",
       "      <td>LIGHT</td>\n",
       "      <td>NY</td>\n",
       "      <td>4/18/1933 19:00</td>\n",
       "    </tr>\n",
       "  </tbody>\n",
       "</table>\n",
       "</div>"
      ],
      "text/plain": [
       "                   City Colors Reported Shape Reported State             Time\n",
       "0                Ithaca             NaN       TRIANGLE    NY   6/1/1930 22:00\n",
       "1           Willingboro             NaN          OTHER    NJ  6/30/1930 20:00\n",
       "2               Holyoke             NaN           OVAL    CO  2/15/1931 14:00\n",
       "3               Abilene             NaN           DISK    KS   6/1/1931 13:00\n",
       "4  New York Worlds Fair             NaN          LIGHT    NY  4/18/1933 19:00"
      ]
     },
     "execution_count": 58,
     "metadata": {},
     "output_type": "execute_result"
    }
   ],
   "source": [
    "import pandas as pd\n",
    " \n",
    "url = 'http://bit.ly/uforeports'\n",
    " \n",
    "# read csv file\n",
    "df = pd.read_csv(url)          \n",
    "df.head()"
   ]
  },
  {
   "attachments": {},
   "cell_type": "markdown",
   "metadata": {},
   "source": [
    "конвертируем время в формат год - месяц - день - час - минута - секунда"
   ]
  },
  {
   "cell_type": "code",
   "execution_count": 59,
   "metadata": {},
   "outputs": [
    {
     "data": {
      "text/html": [
       "<div>\n",
       "<style scoped>\n",
       "    .dataframe tbody tr th:only-of-type {\n",
       "        vertical-align: middle;\n",
       "    }\n",
       "\n",
       "    .dataframe tbody tr th {\n",
       "        vertical-align: top;\n",
       "    }\n",
       "\n",
       "    .dataframe thead th {\n",
       "        text-align: right;\n",
       "    }\n",
       "</style>\n",
       "<table border=\"1\" class=\"dataframe\">\n",
       "  <thead>\n",
       "    <tr style=\"text-align: right;\">\n",
       "      <th></th>\n",
       "      <th>City</th>\n",
       "      <th>Colors Reported</th>\n",
       "      <th>Shape Reported</th>\n",
       "      <th>State</th>\n",
       "      <th>Time</th>\n",
       "    </tr>\n",
       "  </thead>\n",
       "  <tbody>\n",
       "    <tr>\n",
       "      <th>0</th>\n",
       "      <td>Ithaca</td>\n",
       "      <td>NaN</td>\n",
       "      <td>TRIANGLE</td>\n",
       "      <td>NY</td>\n",
       "      <td>1930-06-01 22:00:00</td>\n",
       "    </tr>\n",
       "    <tr>\n",
       "      <th>1</th>\n",
       "      <td>Willingboro</td>\n",
       "      <td>NaN</td>\n",
       "      <td>OTHER</td>\n",
       "      <td>NJ</td>\n",
       "      <td>1930-06-30 20:00:00</td>\n",
       "    </tr>\n",
       "    <tr>\n",
       "      <th>2</th>\n",
       "      <td>Holyoke</td>\n",
       "      <td>NaN</td>\n",
       "      <td>OVAL</td>\n",
       "      <td>CO</td>\n",
       "      <td>1931-02-15 14:00:00</td>\n",
       "    </tr>\n",
       "    <tr>\n",
       "      <th>3</th>\n",
       "      <td>Abilene</td>\n",
       "      <td>NaN</td>\n",
       "      <td>DISK</td>\n",
       "      <td>KS</td>\n",
       "      <td>1931-06-01 13:00:00</td>\n",
       "    </tr>\n",
       "    <tr>\n",
       "      <th>4</th>\n",
       "      <td>New York Worlds Fair</td>\n",
       "      <td>NaN</td>\n",
       "      <td>LIGHT</td>\n",
       "      <td>NY</td>\n",
       "      <td>1933-04-18 19:00:00</td>\n",
       "    </tr>\n",
       "  </tbody>\n",
       "</table>\n",
       "</div>"
      ],
      "text/plain": [
       "                   City Colors Reported Shape Reported State  \\\n",
       "0                Ithaca             NaN       TRIANGLE    NY   \n",
       "1           Willingboro             NaN          OTHER    NJ   \n",
       "2               Holyoke             NaN           OVAL    CO   \n",
       "3               Abilene             NaN           DISK    KS   \n",
       "4  New York Worlds Fair             NaN          LIGHT    NY   \n",
       "\n",
       "                 Time  \n",
       "0 1930-06-01 22:00:00  \n",
       "1 1930-06-30 20:00:00  \n",
       "2 1931-02-15 14:00:00  \n",
       "3 1931-06-01 13:00:00  \n",
       "4 1933-04-18 19:00:00  "
      ]
     },
     "execution_count": 59,
     "metadata": {},
     "output_type": "execute_result"
    }
   ],
   "source": [
    "# Convert the Time column to datetime format\n",
    "df['Time'] = pd.to_datetime(df.Time)\n",
    " \n",
    "df.head()"
   ]
  },
  {
   "attachments": {},
   "cell_type": "markdown",
   "metadata": {},
   "source": [
    "получаем информацию о часах"
   ]
  },
  {
   "cell_type": "code",
   "execution_count": 3,
   "metadata": {},
   "outputs": [
    {
     "data": {
      "text/plain": [
       "0    22\n",
       "1    20\n",
       "2    14\n",
       "3    13\n",
       "4    19\n",
       "Name: Time, dtype: int64"
      ]
     },
     "execution_count": 3,
     "metadata": {},
     "output_type": "execute_result"
    }
   ],
   "source": [
    "# Get hour detail from time data\n",
    "df.Time.dt.hour.head()"
   ]
  },
  {
   "attachments": {},
   "cell_type": "markdown",
   "metadata": {},
   "source": [
    "получаем информацию об именах дней недели"
   ]
  },
  {
   "cell_type": "code",
   "execution_count": 61,
   "metadata": {},
   "outputs": [
    {
     "data": {
      "text/plain": [
       "0    6\n",
       "1    0\n",
       "2    6\n",
       "3    0\n",
       "4    1\n",
       "Name: Time, dtype: int64"
      ]
     },
     "execution_count": 61,
     "metadata": {},
     "output_type": "execute_result"
    }
   ],
   "source": [
    "\n",
    "# Get name of each date\n",
    "df.Time.dt.weekday.head()"
   ]
  },
  {
   "attachments": {},
   "cell_type": "markdown",
   "metadata": {},
   "source": [
    "получаем порядковый номер дня в году"
   ]
  },
  {
   "cell_type": "code",
   "execution_count": 62,
   "metadata": {},
   "outputs": [
    {
     "data": {
      "text/plain": [
       "0    152\n",
       "1    181\n",
       "2     46\n",
       "3    152\n",
       "4    108\n",
       "Name: Time, dtype: int64"
      ]
     },
     "execution_count": 62,
     "metadata": {},
     "output_type": "execute_result"
    }
   ],
   "source": [
    "# Get ordinal day of the year\n",
    "df.Time.dt.dayofyear.head()"
   ]
  },
  {
   "attachments": {},
   "cell_type": "markdown",
   "metadata": {},
   "source": [
    "#### Узнать текущую дату и поработать с ней"
   ]
  },
  {
   "cell_type": "code",
   "execution_count": 63,
   "metadata": {},
   "outputs": [
    {
     "data": {
      "text/plain": [
       "datetime.datetime(2023, 3, 6, 19, 20, 45, 699205)"
      ]
     },
     "metadata": {},
     "output_type": "display_data"
    },
    {
     "name": "stdout",
     "output_type": "stream",
     "text": [
      "2023-03-06 19:20:45.699205\n",
      "2023 3 6 19 20 45\n"
     ]
    }
   ],
   "source": [
    "# узнать текущую дату - код выведет кортеж (год, месяц, день, час, минут, секунд...)\n",
    "import datetime                 # нужно импортировать модуль datetime\n",
    "now = datetime.datetime.now()\n",
    "display(now)\n",
    "print(now)\n",
    "\n",
    "# но объект не итерируемый! код ниже выдаст ошибку\n",
    "# print(tuple(now)[0]) \n",
    "\n",
    "# а значит нужно пользоваться встроенными методами:\n",
    "print(now.year, now.month, now.day, now.hour, now.minute, now.second)   # выведет значение типа int, с которым уже можно работать\n",
    "\n"
   ]
  },
  {
   "attachments": {},
   "cell_type": "markdown",
   "metadata": {},
   "source": [
    "поработать со столбцом времени в pandas dataframe и получить долпольнительные столбцы разбивки поэлементно"
   ]
  },
  {
   "cell_type": "code",
   "execution_count": 8,
   "metadata": {},
   "outputs": [
    {
     "data": {
      "text/html": [
       "<div>\n",
       "<style scoped>\n",
       "    .dataframe tbody tr th:only-of-type {\n",
       "        vertical-align: middle;\n",
       "    }\n",
       "\n",
       "    .dataframe tbody tr th {\n",
       "        vertical-align: top;\n",
       "    }\n",
       "\n",
       "    .dataframe thead th {\n",
       "        text-align: right;\n",
       "    }\n",
       "</style>\n",
       "<table border=\"1\" class=\"dataframe\">\n",
       "  <thead>\n",
       "    <tr style=\"text-align: right;\">\n",
       "      <th></th>\n",
       "      <th>date</th>\n",
       "      <th>year</th>\n",
       "      <th>month</th>\n",
       "      <th>day</th>\n",
       "      <th>hour</th>\n",
       "      <th>minute</th>\n",
       "    </tr>\n",
       "  </thead>\n",
       "  <tbody>\n",
       "    <tr>\n",
       "      <th>0</th>\n",
       "      <td>2011-01-01 00:00:00</td>\n",
       "      <td>2011</td>\n",
       "      <td>1</td>\n",
       "      <td>1</td>\n",
       "      <td>0</td>\n",
       "      <td>0</td>\n",
       "    </tr>\n",
       "    <tr>\n",
       "      <th>1</th>\n",
       "      <td>2011-01-01 01:00:00</td>\n",
       "      <td>2011</td>\n",
       "      <td>1</td>\n",
       "      <td>1</td>\n",
       "      <td>1</td>\n",
       "      <td>0</td>\n",
       "    </tr>\n",
       "    <tr>\n",
       "      <th>2</th>\n",
       "      <td>2011-01-01 02:00:00</td>\n",
       "      <td>2011</td>\n",
       "      <td>1</td>\n",
       "      <td>1</td>\n",
       "      <td>2</td>\n",
       "      <td>0</td>\n",
       "    </tr>\n",
       "    <tr>\n",
       "      <th>3</th>\n",
       "      <td>2011-01-01 03:00:00</td>\n",
       "      <td>2011</td>\n",
       "      <td>1</td>\n",
       "      <td>1</td>\n",
       "      <td>3</td>\n",
       "      <td>0</td>\n",
       "    </tr>\n",
       "    <tr>\n",
       "      <th>4</th>\n",
       "      <td>2011-01-01 04:00:00</td>\n",
       "      <td>2011</td>\n",
       "      <td>1</td>\n",
       "      <td>1</td>\n",
       "      <td>4</td>\n",
       "      <td>0</td>\n",
       "    </tr>\n",
       "    <tr>\n",
       "      <th>...</th>\n",
       "      <td>...</td>\n",
       "      <td>...</td>\n",
       "      <td>...</td>\n",
       "      <td>...</td>\n",
       "      <td>...</td>\n",
       "      <td>...</td>\n",
       "    </tr>\n",
       "    <tr>\n",
       "      <th>67</th>\n",
       "      <td>2011-01-03 19:00:00</td>\n",
       "      <td>2011</td>\n",
       "      <td>1</td>\n",
       "      <td>3</td>\n",
       "      <td>19</td>\n",
       "      <td>0</td>\n",
       "    </tr>\n",
       "    <tr>\n",
       "      <th>68</th>\n",
       "      <td>2011-01-03 20:00:00</td>\n",
       "      <td>2011</td>\n",
       "      <td>1</td>\n",
       "      <td>3</td>\n",
       "      <td>20</td>\n",
       "      <td>0</td>\n",
       "    </tr>\n",
       "    <tr>\n",
       "      <th>69</th>\n",
       "      <td>2011-01-03 21:00:00</td>\n",
       "      <td>2011</td>\n",
       "      <td>1</td>\n",
       "      <td>3</td>\n",
       "      <td>21</td>\n",
       "      <td>0</td>\n",
       "    </tr>\n",
       "    <tr>\n",
       "      <th>70</th>\n",
       "      <td>2011-01-03 22:00:00</td>\n",
       "      <td>2011</td>\n",
       "      <td>1</td>\n",
       "      <td>3</td>\n",
       "      <td>22</td>\n",
       "      <td>0</td>\n",
       "    </tr>\n",
       "    <tr>\n",
       "      <th>71</th>\n",
       "      <td>2011-01-03 23:00:00</td>\n",
       "      <td>2011</td>\n",
       "      <td>1</td>\n",
       "      <td>3</td>\n",
       "      <td>23</td>\n",
       "      <td>0</td>\n",
       "    </tr>\n",
       "  </tbody>\n",
       "</table>\n",
       "<p>72 rows × 6 columns</p>\n",
       "</div>"
      ],
      "text/plain": [
       "                  date  year  month  day  hour  minute\n",
       "0  2011-01-01 00:00:00  2011      1    1     0       0\n",
       "1  2011-01-01 01:00:00  2011      1    1     1       0\n",
       "2  2011-01-01 02:00:00  2011      1    1     2       0\n",
       "3  2011-01-01 03:00:00  2011      1    1     3       0\n",
       "4  2011-01-01 04:00:00  2011      1    1     4       0\n",
       "..                 ...   ...    ...  ...   ...     ...\n",
       "67 2011-01-03 19:00:00  2011      1    3    19       0\n",
       "68 2011-01-03 20:00:00  2011      1    3    20       0\n",
       "69 2011-01-03 21:00:00  2011      1    3    21       0\n",
       "70 2011-01-03 22:00:00  2011      1    3    22       0\n",
       "71 2011-01-03 23:00:00  2011      1    3    23       0\n",
       "\n",
       "[72 rows x 6 columns]"
      ]
     },
     "execution_count": 8,
     "metadata": {},
     "output_type": "execute_result"
    }
   ],
   "source": [
    "# разбить дату на отдельные элементы можно так:\n",
    "\n",
    "rng = pd.DataFrame()\n",
    "rng['date'] = pd.date_range('1/1/2011', periods = 72, freq ='H')\n",
    " \n",
    "# Print the dates in dd-mm-yy format\n",
    "rng[:5]\n",
    "\n",
    "# заодно напомню себе, как можно легко экранировать исключить убрать целый блок кода из выполнения \n",
    "\"\"\"\n",
    "# Create features for year, month, day, hour, and minute\n",
    "rng['year'] = rng['date'].dt.year\n",
    "rng['month'] = rng['date'].dt.month\n",
    "rng['day'] = rng['date'].dt.day\n",
    "rng['hour'] = rng['date'].dt.hour\n",
    "rng['minute'] = rng['date'].dt.minute  \n",
    "\"\"\"\n",
    "rng['year'] = rng['date'].dt.year\n",
    "rng['month'] = rng['date'].dt.month\n",
    "rng['day'] = rng['date'].dt.day\n",
    "rng['hour'] = rng['date'].dt.hour\n",
    "rng['minute'] = rng['date'].dt.minute  \n",
    "\n",
    "rng"
   ]
  },
  {
   "attachments": {},
   "cell_type": "markdown",
   "metadata": {},
   "source": [
    "#### форматирование даты с помощью метода strftime()\n",
    "\n",
    "позволяет переписать считанное время в формат, какой ты захочешь: разбивка по значениям данных будет с удобным тебе разделителем\n",
    "\n",
    "в итоге вернется строка\n",
    "\n",
    "строго говоря, метод позволяет переводить время в f-строку со всем вытекающим синтаксисом\n",
    "\n",
    "удобно посмотреть таблицу форматирования здесь: https://stepik.org/lesson/570048/step/1?unit=564591"
   ]
  },
  {
   "cell_type": "code",
   "execution_count": 4,
   "metadata": {},
   "outputs": [
    {
     "name": "stdout",
     "output_type": "stream",
     "text": [
      "20230217\n",
      "02/17/2023\n",
      "2023-02-17-12.47.20\n",
      "23-02-17 \n",
      "12:47:20\n"
     ]
    }
   ],
   "source": [
    "import datetime\n",
    " \n",
    "a = datetime.datetime.today().strftime(\"%Y%m%d\")\n",
    "print(a) # '20170405'\n",
    " \n",
    "today = datetime.datetime.today()\n",
    "print( today.strftime(\"%m/%d/%Y\") ) # '04/05/2017'\n",
    " \n",
    "print( today.strftime(\"%Y-%m-%d-%H.%M.%S\") ) # 2017-04-05-00.18.00\n",
    "\n",
    "print(today.strftime(\"%y-%m-%d \\n%H:%M:%S\"))      # Если вам нужно указать год как двухзначный (“YY”), вы можете заменить %Y на %y."
   ]
  },
  {
   "attachments": {},
   "cell_type": "markdown",
   "metadata": {},
   "source": [
    "Локализация (перевод формата времени на русский язык)"
   ]
  },
  {
   "cell_type": "code",
   "execution_count": 4,
   "metadata": {},
   "outputs": [
    {
     "name": "stdout",
     "output_type": "stream",
     "text": [
      "пятница 10 марта 2023\n"
     ]
    },
    {
     "data": {
      "text/plain": [
       "datetime.date(2023, 3, 10)"
      ]
     },
     "execution_count": 4,
     "metadata": {},
     "output_type": "execute_result"
    }
   ],
   "source": [
    "from datetime import date\n",
    "import locale\n",
    "\n",
    "locale.setlocale(locale.LC_ALL, 'ru_RU.UTF-8')\n",
    "\n",
    "# locale.setlocale(locale.LC_ALL, 'en_EN.UTF-8') для английского\n",
    "\n",
    "my_date = date.today()\n",
    "print(my_date.strftime(\"%A %d %B %Y\")) \n",
    "\n",
    "my_date\n"
   ]
  },
  {
   "attachments": {},
   "cell_type": "markdown",
   "metadata": {},
   "source": [
    "#### работа с разницей между двумя событиями во времени\n",
    "при вычитании одной временной метки из другой мы получаем объект timedelta"
   ]
  },
  {
   "cell_type": "code",
   "execution_count": 64,
   "metadata": {},
   "outputs": [
    {
     "name": "stdout",
     "output_type": "stream",
     "text": [
      "2199\n",
      "69709\n"
     ]
    }
   ],
   "source": [
    "import datetime\n",
    " \n",
    "# текущее время\n",
    "now = datetime.datetime.now()\n",
    " \n",
    "then = datetime.datetime(2017, 2, 26)\n",
    " \n",
    "# Кол-во времени между датами.\n",
    "delta = now - then\n",
    " \n",
    "print(delta.days) # выведет число дней, между текущей датой и временем , сохраненным в переменной then\n",
    "print(delta.seconds) # аналогично секунд"
   ]
  },
  {
   "cell_type": "code",
   "execution_count": 10,
   "metadata": {},
   "outputs": [
    {
     "name": "stdout",
     "output_type": "stream",
     "text": [
      "52380.0\n",
      "54.0\n"
     ]
    }
   ],
   "source": [
    "seconds = delta.total_seconds()\n",
    "hours = seconds // 3600\n",
    " \n",
    "print(hours) # выведет точное количество часов разницы\n",
    " \n",
    "minutes = (seconds % 3600) // 60\n",
    "print(minutes) # выведет точное количество минут разницы"
   ]
  },
  {
   "attachments": {},
   "cell_type": "markdown",
   "metadata": {},
   "source": [
    "#### Модуль time\n",
    "Модуль time открывает разработчику Python доступ к нескольким связанным со временем функциям. \n",
    "\n",
    "Модуль основан на «эпохе», точке, с которой начинается время. \n",
    "\n",
    "Дополнительно для повторения: https://stepik.org/lesson/570055/step/1?unit=564599\n",
    "\n",
    "https://proglib.io/p/nazad-v-budushchee-prakticheskoe-rukovodstvo-po-puteshestviyu-vo-vremeni-s-python-2019-12-01\n",
    "\n",
    "Для систем Unix, эпоха началась в 1970 году. Чтобы узнать, какая эпоха в вашей системе, попробуйте запустить следующий код:"
   ]
  },
  {
   "cell_type": "code",
   "execution_count": 11,
   "metadata": {},
   "outputs": [
    {
     "name": "stdout",
     "output_type": "stream",
     "text": [
      "time.struct_time(tm_year=1970, tm_mon=1, tm_mday=1, tm_hour=0, tm_min=0, tm_sec=0, tm_wday=3, tm_yday=1, tm_isdst=0)\n"
     ]
    }
   ],
   "source": [
    "import time\n",
    "print(time.gmtime(0))"
   ]
  },
  {
   "attachments": {},
   "cell_type": "markdown",
   "metadata": {},
   "source": [
    "#### time.ctime\n",
    "Функция time.ctime конвертирует время в секунды, начиная с эпохи, в строку, показывающую местное время. Если вы ничего не передадите данной функции, то настоящее время вернется обратно"
   ]
  },
  {
   "cell_type": "code",
   "execution_count": 12,
   "metadata": {},
   "outputs": [
    {
     "name": "stdout",
     "output_type": "stream",
     "text": [
      "Fri Feb 17 12:57:15 2023\n",
      "Sun Nov 10 21:43:59 2013\n"
     ]
    }
   ],
   "source": [
    "import time\n",
    "print(time.ctime()) #  вернет текущее время\n",
    " \n",
    "print(time.ctime(1384112639)) # 'Sun Nov 10 13:43:59 2013'"
   ]
  },
  {
   "attachments": {},
   "cell_type": "markdown",
   "metadata": {},
   "source": [
    "#### time.sleep\n",
    "Функция time.sleep дает разработчику возможность приостановить выполнение его скрипта на определенное количество секунд. Это можно сравнить с добавлением функции «Пауза» в вашу программу. Я нашел этот класс особенно полезным, когда мне нужно было подождать несколько секунд, пока закроется файл, или база данных закончит выполнять свою задачу.\n",
    "\n",
    "\n",
    "при запуске кода вы увидите фразу «Slept for 2 seconds» пять раз, с интервалом в 2 секунды между каждым сообщением"
   ]
  },
  {
   "cell_type": "code",
   "execution_count": 69,
   "metadata": {},
   "outputs": [
    {
     "name": "stdout",
     "output_type": "stream",
     "text": [
      "Slept for 2 seconds\n",
      "Slept for 2 seconds\n",
      "Slept for 2 seconds\n",
      "Slept for 2 seconds\n",
      "Slept for 2 seconds\n"
     ]
    }
   ],
   "source": [
    "import time\n",
    " \n",
    "for x in range(5):\n",
    "    time.sleep(2)\n",
    "    print(\"Slept for 2 seconds\")"
   ]
  },
  {
   "attachments": {},
   "cell_type": "markdown",
   "metadata": {},
   "source": [
    "#### time.time\n",
    "Функция time.time отображает время в секундах, начиная с эпохи, как число с плавающей запятой. \n",
    "\n",
    "использовать данную функцию удобно, когда вам нужно сохранить настоящее время в базу данных, но вам не нужно конвертировать его в метод datetime вашей базы данных"
   ]
  },
  {
   "cell_type": "code",
   "execution_count": 15,
   "metadata": {},
   "outputs": [
    {
     "name": "stdout",
     "output_type": "stream",
     "text": [
      "1676628387.7934551\n"
     ]
    }
   ],
   "source": [
    "import time\n",
    " \n",
    "x = time.time()\n",
    "print(x)"
   ]
  },
  {
   "attachments": {},
   "cell_type": "markdown",
   "metadata": {},
   "source": [
    "возможно удобная плюшка:\n",
    "\n",
    " метод ctime принимает время в секундах, так что мы можем использовать time.time для получения количества секунд для передачи их ctime,"
   ]
  },
  {
   "cell_type": "code",
   "execution_count": 16,
   "metadata": {},
   "outputs": [
    {
     "name": "stdout",
     "output_type": "stream",
     "text": [
      "Fri Feb 17 13:07:46 2023\n"
     ]
    }
   ],
   "source": [
    "import time\n",
    " \n",
    "a = time.ctime(time.time())\n",
    "print(a)"
   ]
  },
  {
   "attachments": {},
   "cell_type": "markdown",
   "metadata": {},
   "source": [
    "### Работаем со временем (курс от beegeek python_for_pro )\n",
    "\n",
    "https://stepik.org/lesson/609341/step/1?unit=604560"
   ]
  },
  {
   "attachments": {},
   "cell_type": "markdown",
   "metadata": {},
   "source": [
    "Создание даты:\n",
    "\n",
    "Конструктор типа date сначала принимает год, затем месяц, а уже потом число. Мы также можем использовать именованные аргументы, нарушая указанный порядок date(day=6, month=10, year=1992)."
   ]
  },
  {
   "cell_type": "code",
   "execution_count": 3,
   "metadata": {},
   "outputs": [
    {
     "name": "stdout",
     "output_type": "stream",
     "text": [
      "Год = 1992\n",
      "Месяц = 10\n",
      "День = 6\n"
     ]
    }
   ],
   "source": [
    "from datetime import date\n",
    "\n",
    "my_date = date(day=6, month=10, year=1992)\n",
    "\n",
    "# выдернуть конкретные показатели времени можно так\n",
    "\n",
    "print('Год =', my_date.year)\n",
    "print('Месяц =', my_date.month)\n",
    "print('День =', my_date.day)"
   ]
  },
  {
   "attachments": {},
   "cell_type": "markdown",
   "metadata": {},
   "source": [
    "Текущая дата"
   ]
  },
  {
   "cell_type": "code",
   "execution_count": 4,
   "metadata": {},
   "outputs": [
    {
     "data": {
      "text/plain": [
       "datetime.date(2023, 3, 6)"
      ]
     },
     "execution_count": 4,
     "metadata": {},
     "output_type": "execute_result"
    }
   ],
   "source": [
    "from datetime import date\n",
    "\n",
    "creation_date = date.today()\n",
    "creation_date"
   ]
  },
  {
   "attachments": {},
   "cell_type": "markdown",
   "metadata": {},
   "source": [
    "        Взять название дня недели из даты:\n",
    "\n",
    "        0 = понедельник\n",
    "        1\n",
    "        1 = вторник\n",
    "        2\n",
    "        2 = среда\n",
    "        3\n",
    "        3 = четверг\n",
    "        4\n",
    "        4 = пятница\n",
    "        5\n",
    "        5 = суббота\n",
    "        6\n",
    "        6 = воскресенье"
   ]
  },
  {
   "cell_type": "code",
   "execution_count": 6,
   "metadata": {},
   "outputs": [
    {
     "data": {
      "text/plain": [
       "1"
      ]
     },
     "execution_count": 6,
     "metadata": {},
     "output_type": "execute_result"
    }
   ],
   "source": [
    "my_date.weekday()"
   ]
  },
  {
   "attachments": {},
   "cell_type": "markdown",
   "metadata": {},
   "source": [
    "Если требуется определить день недели с нумерацией, начиная с \n",
    "1\n",
    "1, то используется метод isoweekday()."
   ]
  },
  {
   "cell_type": "code",
   "execution_count": 7,
   "metadata": {},
   "outputs": [
    {
     "data": {
      "text/plain": [
       "1"
      ]
     },
     "execution_count": 7,
     "metadata": {},
     "output_type": "execute_result"
    }
   ],
   "source": [
    "creation_date.isoweekday()      # нумерация недели начинается с 1"
   ]
  },
  {
   "attachments": {},
   "cell_type": "markdown",
   "metadata": {},
   "source": [
    "Получить номер дня, соответствующий дате или получить дату, соответствующую номеру дня\n"
   ]
  },
  {
   "cell_type": "code",
   "execution_count": 8,
   "metadata": {},
   "outputs": [
    {
     "name": "stdout",
     "output_type": "stream",
     "text": [
      "0001-12-31\n",
      "730114\n"
     ]
    }
   ],
   "source": [
    "from datetime import date\n",
    "\n",
    "date1 = date.fromordinal(365)     # дата, соответствуюшая номеру дня 365\n",
    "date2 = date(1999, 12, 26)\n",
    "\n",
    "print(date1)\n",
    "print(date2.toordinal())          # номер дня, соответствующий дате 1999-12-26"
   ]
  },
  {
   "attachments": {},
   "cell_type": "markdown",
   "metadata": {},
   "source": [
    "#### Тип данных time\n",
    "\n",
    "При создании времени (тип данных time) нужно указать часы, минуты, секунды и микросекунды."
   ]
  },
  {
   "cell_type": "code",
   "execution_count": 11,
   "metadata": {},
   "outputs": [
    {
     "name": "stdout",
     "output_type": "stream",
     "text": [
      "12:59:33.001234\n"
     ]
    }
   ],
   "source": [
    "from datetime import time\n",
    "my_time = time(12, 59, 33, 1234)\n",
    "\n",
    "print(my_time)"
   ]
  },
  {
   "attachments": {},
   "cell_type": "markdown",
   "metadata": {},
   "source": [
    "обратиться к конкретному времени можно:"
   ]
  },
  {
   "cell_type": "code",
   "execution_count": 13,
   "metadata": {},
   "outputs": [
    {
     "name": "stdout",
     "output_type": "stream",
     "text": [
      "Часы = 12\n",
      "Минуты = 59\n",
      "Секунды = 33\n",
      "Микросекунды = 1234\n"
     ]
    }
   ],
   "source": [
    "print('Часы =', my_time.hour)\n",
    "print('Минуты =', my_time.minute)\n",
    "print('Секунды =', my_time.second)\n",
    "print('Микросекунды =', my_time.microsecond)"
   ]
  },
  {
   "attachments": {},
   "cell_type": "markdown",
   "metadata": {},
   "source": [
    "Для создания новой даты на основании уже существующей можно использовать встроенный метод replace(). Он возвращает новую дату с переданными измененными значениями свойств year, month, day."
   ]
  },
  {
   "cell_type": "code",
   "execution_count": 14,
   "metadata": {},
   "outputs": [
    {
     "name": "stdout",
     "output_type": "stream",
     "text": [
      "1992-10-06\n",
      "1995-10-06\n",
      "1992-12-17\n"
     ]
    }
   ],
   "source": [
    "date1 = date(1992, 10, 6)\n",
    "date2 = date1.replace(year=1995)            # заменяем год           \n",
    "date3 = date1.replace(month=12, day=17)     # заменяем месяц и число\n",
    "\n",
    "print(date1)\n",
    "print(date2)\n",
    "print(date3)"
   ]
  },
  {
   "attachments": {},
   "cell_type": "markdown",
   "metadata": {},
   "source": [
    "### ЗАДАЧИ"
   ]
  },
  {
   "attachments": {},
   "cell_type": "markdown",
   "metadata": {},
   "source": [
    "Вам доступен список dates, содержащий даты. Дополните приведенный ниже код, чтобы он вывел год и номер квартала каждой даты из данного списка. Компоненты дат должны быть расположены в исходном порядке, каждые на отдельной строке, в следующем формате:\n",
    "\n",
    "<год>-Q<номер квартала>"
   ]
  },
  {
   "cell_type": "code",
   "execution_count": 16,
   "metadata": {},
   "outputs": [
    {
     "name": "stdout",
     "output_type": "stream",
     "text": [
      "2010-Q3\n",
      "2017-Q1\n",
      "2009-Q4\n",
      "2010-Q1\n",
      "2021-Q4\n",
      "2020-Q1\n",
      "2000-Q3\n",
      "1999-Q2\n",
      "1789-Q4\n",
      "2013-Q3\n",
      "1666-Q2\n",
      "1968-Q2\n"
     ]
    }
   ],
   "source": [
    "from datetime import date\n",
    "\n",
    "dates = [date(2010, 9, 28), date(2017, 1, 13), date(2009, 12, 25), date(2010, 2, 27), date(2021, 10, 11), date(2020, 3, 13), date(2000, 7, 7), date(1999, 4, 14), date(1789, 11, 19), date(2013, 8, 21), date(1666, 6, 6), date(1968, 5, 26)]\n",
    "\n",
    "dic_quater = {range(1,4):'1', range(4,7):'2', range(7,10):'3', range(10,13):'4'}\n",
    "\n",
    "for dat in dates:\n",
    "    for key in dic_quater:\n",
    "        if dat.month in key: print(f'{dat.year}-Q{dic_quater[key]}')"
   ]
  },
  {
   "attachments": {},
   "cell_type": "markdown",
   "metadata": {},
   "source": [
    "\n",
    "Реализуйте функцию get_date_range(), которая принимает два аргумента в следующем порядке:\n",
    "\n",
    "start — начальная дата, тип date\n",
    "end — конечная дата, тип date\n",
    "Функция get_date_range() должна возвращать список, состоящий из дат (тип date) от start до end включительно. Если start > end, функция должна вернуть пустой список."
   ]
  },
  {
   "cell_type": "code",
   "execution_count": 21,
   "metadata": {},
   "outputs": [
    {
     "name": "stdout",
     "output_type": "stream",
     "text": [
      "2021-10-01\n",
      "2021-10-02\n",
      "2021-10-03\n",
      "2021-10-04\n",
      "2021-10-05\n"
     ]
    }
   ],
   "source": [
    "def get_date_range(start, end):\n",
    "    from datetime import date\n",
    "    dates_lst = list(range(start.toordinal(), end.toordinal()+1, 1))\n",
    "    return list(map(lambda x: date.fromordinal(x), dates_lst))\n",
    "\n",
    "\n",
    "date1 = date(2021, 10, 1)\n",
    "date2 = date(2021, 10, 5)\n",
    "\n",
    "print(*get_date_range(date1, date2), sep='\\n')"
   ]
  },
  {
   "attachments": {},
   "cell_type": "markdown",
   "metadata": {},
   "source": [
    "Реализуйте функцию saturdays_between_two_dates(), которая принимает два аргумента в следующем порядке:\n",
    "\n",
    "start — начальная дата, тип date\n",
    "\n",
    "end — конечная дата, тип date\n",
    "\n",
    "Функция должна возвращать количество суббот между датами start и end включительно."
   ]
  },
  {
   "cell_type": "code",
   "execution_count": 57,
   "metadata": {},
   "outputs": [
    {
     "name": "stdout",
     "output_type": "stream",
     "text": [
      "4\n"
     ]
    }
   ],
   "source": [
    "from datetime import timedelta, date\n",
    "\n",
    "def saturdays_between_two_dates(start, end):\n",
    "    if end < start:\n",
    "        start, end = end, start # если end раньше start, меняем местами переменные\n",
    "    days_between = (end - start).days + 1\n",
    "\n",
    "    # прикольный счетчик значений: собираем кортеж из единичек для каждой итерации цикла по дням, если этот день - суббота\n",
    "    # b считаем сумму этого кортежа\n",
    "    saturday_count = sum(1 for i in range(days_between) if (start + timedelta(i)).weekday() == 5)\n",
    "    return saturday_count\n",
    "\n",
    "date1 = date(2020, 7, 26)\n",
    "date2 = date(2020, 7, 2)\n",
    "\n",
    "print(saturdays_between_two_dates(date1, date2))"
   ]
  },
  {
   "attachments": {},
   "cell_type": "markdown",
   "metadata": {},
   "source": [
    "Конструкция try - except\n",
    "\n",
    "как считывать время с клавиатуры бесконечно раз, пока не будет все введено верно?"
   ]
  },
  {
   "cell_type": "code",
   "execution_count": 1,
   "metadata": {},
   "outputs": [
    {
     "name": "stdout",
     "output_type": "stream",
     "text": [
      "Введенная дата не является корректной, попробуйте еще раз\n",
      "Введенная дата не является корректной, попробуйте еще раз\n",
      "Введенная дата не является корректной, попробуйте еще раз\n",
      "Введена корректная дата: 3000-12-31\n"
     ]
    }
   ],
   "source": [
    "from datetime import date, time\n",
    "\n",
    "while True:\n",
    "    try:\n",
    "        day, month, year = input('Введите дату в формате ДД.ММ.ГГГГ').split('.')\n",
    "\n",
    "        my_date = date(int(year), int(month), int(day))\n",
    "\n",
    "        print('Введена корректная дата:', my_date)\n",
    "        break\n",
    "    except:      # перехватываем любую ошибку\n",
    "        print('Введенная дата не является корректной, попробуйте еще раз')"
   ]
  },
  {
   "attachments": {},
   "cell_type": "markdown",
   "metadata": {},
   "source": [
    "Ураган Эндрю, который обрушился на Флориду \n",
    "24\n",
    "24 августа \n",
    "1992\n",
    "1992 года, был одним из самых дорогостоящих и смертоносных ураганов в истории США. Дополните приведенный ниже код, чтобы он вывел дату \n",
    "24\n",
    "24 августа \n",
    "1992\n",
    "1992 года в трех различных форматах:\n",
    "\n",
    "в формате YYYY-MM\n",
    "\n",
    "в формате month_name (YYYY), где month_name – полное название месяца на английском\n",
    "\n",
    "в формате YYYY-day_number, где day_number – день года"
   ]
  },
  {
   "cell_type": "code",
   "execution_count": 2,
   "metadata": {},
   "outputs": [
    {
     "name": "stdout",
     "output_type": "stream",
     "text": [
      "1992-08\n",
      "August (1992)\n",
      "1992-237\n"
     ]
    }
   ],
   "source": [
    "from datetime import date\n",
    "\n",
    "andrew = date(1992, 8, 24)\n",
    "\n",
    "print(andrew.strftime('%Y-%m'))   # выводим дату в формате YYYY-MM\n",
    "print(andrew.strftime('%B (%Y)'))   # выводим дату в формате month_name (YYYY)\n",
    "print(andrew.strftime('%Y-%j'))   # выводим дату в формате YYYY-day_number"
   ]
  },
  {
   "attachments": {},
   "cell_type": "markdown",
   "metadata": {},
   "source": [
    "        Вывести наименьшую дату из двух введенных в формате ISO - причем в виде DD-MM (YYYY)"
   ]
  },
  {
   "cell_type": "code",
   "execution_count": null,
   "metadata": {},
   "outputs": [],
   "source": [
    "one, two = input(), input()\n",
    "\n",
    "from datetime import date\n",
    "\n",
    "def to_time(string):\n",
    "    return date.fromisoformat(string)\n",
    "\n",
    "print(min(map(to_time, [one,two])).strftime('%d-%m (%Y)'))\n"
   ]
  },
  {
   "attachments": {},
   "cell_type": "markdown",
   "metadata": {},
   "source": [
    "        Отсортированные даты: принимает на вход последовательность дат и выводит их в порядке неубывания."
   ]
  },
  {
   "cell_type": "code",
   "execution_count": null,
   "metadata": {},
   "outputs": [],
   "source": [
    "dates = [input() for _ in range(int(input()))]\n",
    "\n",
    "from datetime import date\n",
    "\n",
    "form_dates = sorted(map(lambda x: date.fromisoformat(x), dates))\n",
    "\n",
    "print(*[date_el.strftime('%d/%m/%Y') for date_el in form_dates])"
   ]
  },
  {
   "attachments": {},
   "cell_type": "markdown",
   "metadata": {},
   "source": [
    "        Функция print_good_dates()\n",
    "\n",
    "        Тимур считает дату «интересной», если её год совпадает с годом его рождения, а сумма номера месяца и номера дня равна его возрасту. Год рождения Тимура — 1992, возраст — 29 лет.\n",
    "\n",
    "        Функция должна выводить «интересные» даты в порядке возрастания, каждую на отдельной строке, в формате  month_name DD, YYYY, где month_name — полное название месяца на английском. \n",
    "\n",
    "        Примечание 1. Если в функцию передается пустой список или список без интересных дат, функция ничего не должна выводить"
   ]
  },
  {
   "cell_type": "code",
   "execution_count": 19,
   "metadata": {},
   "outputs": [
    {
     "name": "stdout",
     "output_type": "stream",
     "text": [
      "September 20, 1992\n",
      "October 19, 1992\n"
     ]
    }
   ],
   "source": [
    "def print_good_dates(dates):\n",
    "    from datetime import date\n",
    "    temp_lst = [somedate for somedate in dates if somedate.year ==1992 \\\n",
    "                  and somedate.month + somedate.day == 29]\n",
    "    good_dates = map(lambda x: x.strftime(\"%B %d, %Y\"),sorted(temp_lst))\n",
    "    return print(*good_dates, sep='\\n')\n",
    "\n",
    "dates = [date(1992, 10, 19), date(1991, 12, 6), date(1992, 9, 20)]\n",
    "\n",
    "print_good_dates(dates)"
   ]
  },
  {
   "cell_type": "code",
   "execution_count": 4,
   "metadata": {},
   "outputs": [
    {
     "data": {
      "text/plain": [
       "15"
      ]
     },
     "execution_count": 4,
     "metadata": {},
     "output_type": "execute_result"
    }
   ],
   "source": [
    "from datetime import date\n",
    "sd = date(1993, 9, 15)\n",
    "sd.day"
   ]
  },
  {
   "attachments": {},
   "cell_type": "markdown",
   "metadata": {},
   "source": [
    "        Функция вернет булево значение - проверка на корректность вводимой даты"
   ]
  },
  {
   "cell_type": "code",
   "execution_count": 24,
   "metadata": {},
   "outputs": [
    {
     "name": "stdout",
     "output_type": "stream",
     "text": [
      "False\n"
     ]
    }
   ],
   "source": [
    "def is_correct(day, month, year):\n",
    "    from datetime import date\n",
    "    try:\n",
    "        date(year,month,day)\n",
    "        return True\n",
    "\n",
    "    except:\n",
    "        return False\n",
    "\n",
    "print(is_correct(31, 13, 2021))"
   ]
  },
  {
   "attachments": {},
   "cell_type": "markdown",
   "metadata": {},
   "source": [
    "        Корректные даты\n",
    "        Напишите программу, которая принимает на вход последовательность дат и проверяет каждую из них на корректность.\n",
    "\n",
    "        Формат входных данных\n",
    "        На вход программе подается последовательность дат в формате DD.MM.YYYY, каждая на отдельной строке. Концом последовательности является слово end.\n",
    "\n",
    "        Формат выходных данных\n",
    "        Программа должна для каждой введенной даты вывести текст Корректная или Некорректная в зависимости от того, является ли дата корректной, а затем вывести количество корректных дат."
   ]
  },
  {
   "cell_type": "code",
   "execution_count": null,
   "metadata": {},
   "outputs": [],
   "source": [
    "dates = [input()]\n",
    "while input()!= 'end':\n",
    "    dates.append(input())\n",
    "verified_dates = "
   ]
  },
  {
   "cell_type": "code",
   "execution_count": 6,
   "metadata": {},
   "outputs": [
    {
     "name": "stdout",
     "output_type": "stream",
     "text": [
      "Корректная\n",
      "Некорректная\n",
      "Корректная\n",
      "Корректная\n",
      "Некорректная\n",
      "3\n"
     ]
    }
   ],
   "source": [
    "dates_temp = []\n",
    "\n",
    "from datetime import date\n",
    "while 'end' not in dates_temp:\n",
    "    dates_temp.append(input())\n",
    "\n",
    "\n",
    "dates = [map(int, el.split('.')[::-1]) for el in dates_temp[:-1]]\n",
    "\n",
    "def is_correct(some_date):\n",
    "    from datetime import date\n",
    "    year,month,day = some_date\n",
    "    try:\n",
    "        date(year,month,day)\n",
    "        return 'Корректная'\n",
    "\n",
    "    except:\n",
    "        return 'Некорректная'\n",
    "\n",
    "res_lst = list(map(is_correct, dates))\n",
    "\n",
    "print(*res_lst, sep = '\\n')\n",
    "print(len([elem for elem in res_lst if elem == 'Корректная']))\n",
    "\n"
   ]
  },
  {
   "attachments": {},
   "cell_type": "markdown",
   "metadata": {},
   "source": [
    "Комбинирование datetime отдлельно из даты и времени - метод combine"
   ]
  },
  {
   "cell_type": "code",
   "execution_count": 8,
   "metadata": {},
   "outputs": [
    {
     "name": "stdout",
     "output_type": "stream",
     "text": [
      "1992-10-06 10:45:17\n"
     ]
    }
   ],
   "source": [
    "from datetime import date, time, datetime\n",
    "\n",
    "my_date = date(1992, 10, 6)\n",
    "my_time = time(10, 45, 17)\n",
    "my_datetime = datetime.combine(my_date, my_time)\n",
    "\n",
    "print(my_datetime)"
   ]
  },
  {
   "attachments": {},
   "cell_type": "markdown",
   "metadata": {},
   "source": [
    "        Всемирное координированное время (Coordinated Universal Time, UTC) — стандарт, по которому общество регулирует часы и время. Московское время соответствует UTC+3."
   ]
  },
  {
   "cell_type": "code",
   "execution_count": 9,
   "metadata": {},
   "outputs": [
    {
     "name": "stdout",
     "output_type": "stream",
     "text": [
      "2023-03-13 08:17:17.244494\n",
      "2023-03-13 05:17:17.247980\n"
     ]
    }
   ],
   "source": [
    "print(datetime.now())           # текущее локальное время (московское) на момент запуска программы\n",
    "print(datetime.utcnow())        # текущее UTC время на момент запуска программы"
   ]
  },
  {
   "attachments": {},
   "cell_type": "markdown",
   "metadata": {},
   "source": [
    "### Перевести строку в объект datetime - метод strptime "
   ]
  },
  {
   "cell_type": "code",
   "execution_count": 408,
   "metadata": {},
   "outputs": [
    {
     "name": "stdout",
     "output_type": "stream",
     "text": [
      "2034-08-10 13:55:59\n",
      "2021-08-10 00:00:00\n",
      "2021-08-10 00:00:00\n",
      "1900-01-01 18:20:34\n",
      "2021-08-10 00:00:00\n",
      "2021-08-10 00:00:00\n",
      "2021-08-10 18:00:00\n"
     ]
    }
   ],
   "source": [
    "from datetime import datetime\n",
    "\n",
    "datetime0 = datetime.strptime('10.08.2034 13:55:59', '%d.%m.%Y %H:%M:%S')\n",
    "datetime1 = datetime.strptime('10/08/21', '%d/%m/%y')\n",
    "datetime2 = datetime.strptime('Tuesday 10, August 2021', '%A %d, %B %Y')\n",
    "datetime3 = datetime.strptime('18.20.34', '%H.%M.%S')\n",
    "datetime4 = datetime.strptime('2021/08/10', '%Y/%m/%d')\n",
    "datetime5 = datetime.strptime('10.08.2021 (Tuesday, August)', '%d.%m.%Y (%A, %B)')\n",
    "datetime6 = datetime.strptime('Year: 2021, Month: 08, Day: 10, Hour: 18.', 'Year: %Y, Month: %m, Day: %d, Hour: %H.')\n",
    "\n",
    "print(datetime0, datetime1, datetime2, datetime3, datetime4, datetime5, datetime6, sep='\\n')"
   ]
  },
  {
   "attachments": {},
   "cell_type": "markdown",
   "metadata": {},
   "source": [
    "Для создания новой даты-времени на основании уже существующей можно использовать метод replace(). Он возвращает новый объект datetime с переданными измененными значениями атрибутов."
   ]
  },
  {
   "cell_type": "code",
   "execution_count": 11,
   "metadata": {},
   "outputs": [
    {
     "name": "stdout",
     "output_type": "stream",
     "text": [
      "1992-10-06 10:12:45\n",
      "1995-12-06 10:12:45\n",
      "1992-10-17 14:37:45\n"
     ]
    }
   ],
   "source": [
    "datetime1 = datetime(1992, 10, 6, 10, 12, 45)\n",
    "datetime2 = datetime1.replace(year=1995, month=12)         \n",
    "datetime3 = datetime1.replace(day=17, hour=14, minute=37)\n",
    "\n",
    "print(datetime1)\n",
    "print(datetime2)\n",
    "print(datetime3)"
   ]
  },
  {
   "attachments": {},
   "cell_type": "markdown",
   "metadata": {},
   "source": [
    "Удобство работы с методом strftime и с strptime в том, что методы полноценно работают именно как f-строки:\n",
    "- можно вводить и использовать текст целиком, чтобы взять оттуда дату"
   ]
  },
  {
   "cell_type": "code",
   "execution_count": 12,
   "metadata": {},
   "outputs": [
    {
     "name": "stdout",
     "output_type": "stream",
     "text": [
      "2021-02-11 18:09:00\n"
     ]
    }
   ],
   "source": [
    "from datetime import datetime\n",
    "\n",
    "text = 'Дорогой дневник, 11.02.2021 произошло нечто невероятное. На часах было 18:09..'\n",
    "pattern = 'Дорогой дневник, %d.%m.%Y произошло нечто невероятное. На часах было %H:%M..'\n",
    "\n",
    "dt = datetime.strptime(text, pattern)\n",
    "\n",
    "print(dt)   # вернет дату, считанную из strf-строки "
   ]
  },
  {
   "attachments": {},
   "cell_type": "markdown",
   "metadata": {},
   "source": [
    "Преобразовать секунды seconds (прошедшие от начала эпохи) в объект datetime и, наоборот, объект datetime в секунды (прошедшие от начала эпохи)."
   ]
  },
  {
   "cell_type": "code",
   "execution_count": 13,
   "metadata": {},
   "outputs": [
    {
     "name": "stdout",
     "output_type": "stream",
     "text": [
      "2048-09-09 04:46:40\n",
      "1320357600.0\n"
     ]
    }
   ],
   "source": [
    "from datetime import datetime\n",
    "\n",
    "seconds = 2483228800\n",
    "dt = datetime(2011, 11, 4)\n",
    "\n",
    "print(datetime.fromtimestamp(seconds))\n",
    "print(dt.timestamp())"
   ]
  },
  {
   "attachments": {},
   "cell_type": "markdown",
   "metadata": {},
   "source": [
    "### Задачи"
   ]
  },
  {
   "attachments": {},
   "cell_type": "markdown",
   "metadata": {},
   "source": [
    "Вам доступен список times_of_purchases, содержащий даты (тип datetime), в которые были совершены покупки в некотором интернет-магазине. Дополните приведенный ниже код, чтобы он вывел текст До полудня, если большее число покупок было совершено до полудня, или текст После полудня в противном случае."
   ]
  },
  {
   "cell_type": "code",
   "execution_count": 37,
   "metadata": {},
   "outputs": [
    {
     "name": "stdout",
     "output_type": "stream",
     "text": [
      "После полудня\n"
     ]
    }
   ],
   "source": [
    "from datetime import datetime\n",
    "\n",
    "times_of_purchases = [datetime(2017, 10, 1, 12, 23, 25), datetime(2017, 10, 1, 15, 26, 26), \n",
    "                      datetime(2017, 10, 1, 15, 42, 57), datetime(2017, 10, 1, 17, 49, 59), \n",
    "                      datetime(2017, 10, 2, 6, 37, 10), datetime(2017, 10, 2, 6, 42, 53), \n",
    "                      datetime(2017, 10, 2, 8, 56, 45), datetime(2017, 10, 2, 9, 18, 3), \n",
    "                      datetime(2017, 10, 2, 12, 23, 48), datetime(2017, 10, 2, 12, 45, 5), \n",
    "                      datetime(2017, 10, 2, 12, 48, 8), datetime(2017, 10, 2, 12, 10, 54), \n",
    "                      datetime(2017, 10, 2, 19, 18, 10), datetime(2017, 10, 2, 12, 31, 45), \n",
    "                      datetime(2017, 10, 3, 20, 57, 10), datetime(2017, 10, 4, 7, 4, 57), \n",
    "                      datetime(2017, 10, 4, 7, 13, 31), datetime(2017, 10, 4, 7, 13, 42), \n",
    "                      datetime(2017, 10, 4, 7, 21, 54), datetime(2017, 10, 4, 14, 22, 12), \n",
    "                      datetime(2017, 10, 4, 14, 50), datetime(2017, 10, 4, 15, 7, 27), \n",
    "                      datetime(2017, 10, 4, 12, 44, 49), datetime(2017, 10, 4, 12, 46, 41), \n",
    "                      datetime(2017, 10, 4, 16, 32, 33), datetime(2017, 10, 4, 16, 34, 44), \n",
    "                      datetime(2017, 10, 4, 16, 46, 59), datetime(2017, 10, 4, 12, 26, 6)]\n",
    "\n",
    "bool_dates =list(map(lambda x: x.hour>=12, times_of_purchases))\n",
    "\n",
    "print(('До полудня', \"После полудня\")\\\n",
    "      [bool_dates.count(True) >  \\\n",
    "       bool_dates.count(False)])\n"
   ]
  },
  {
   "attachments": {},
   "cell_type": "markdown",
   "metadata": {},
   "source": [
    "Вам доступны список dates, содержащий даты, и список times, содержащий времена. Количество элементов в этих списках одинаковое. Дополните приведенный ниже код, чтобы он вывел datetime объекты, полученные путем объединения элементов списков dates и times, находящихся на одинаковых позициях. Полученные объекты должны быть расположены в порядке возрастания секунд, каждый на отдельной строке."
   ]
  },
  {
   "cell_type": "code",
   "execution_count": 40,
   "metadata": {},
   "outputs": [
    {
     "name": "stdout",
     "output_type": "stream",
     "text": [
      "1239-02-05 11:47:01\n",
      "0229-01-24 09:40:02\n",
      "0167-04-16 17:47:09\n",
      "0479-09-06 09:14:09\n",
      "1410-03-11 21:02:10\n",
      "1957-07-14 17:27:10\n",
      "1793-08-23 07:33:27\n",
      "0197-08-24 17:55:40\n",
      "0804-11-12 17:20:47\n",
      "0295-01-23 12:42:56\n",
      "0327-08-24 15:09:57\n",
      "0632-06-04 20:08:59\n"
     ]
    }
   ],
   "source": [
    "from datetime import date, time, datetime\n",
    "\n",
    "dates = [date(1793, 8, 23), date(1410, 3, 11), date(804, 11, 12), date(632, 6, 4),\n",
    "         date(295, 1, 23), date(327, 8, 24), date(167, 4, 16), date(229, 1, 24), \n",
    "         date(1239, 2, 5), date(1957, 7, 14), date(197, 8, 24), date(479, 9, 6)]\n",
    "\n",
    "times = [time(7, 33, 27), time(21, 2, 10), time(17, 20, 47), time(20, 8, 59), \n",
    "         time(12, 42, 56), time(15, 9, 57), time(17, 47, 9), time(9, 40, 2), \n",
    "         time(11, 47, 1), time(17, 27, 10), time(17, 55, 40), time(9, 14, 9)]\n",
    "\n",
    "print(*sorted([datetime.combine(dates[i], times[i]) for i in range(len(dates))],\n",
    "               key=lambda x:x.second), sep = '\\n')"
   ]
  },
  {
   "attachments": {},
   "cell_type": "markdown",
   "metadata": {},
   "source": [
    "Ученики онлайн-школы BEEGEEK решили выяснить, кто из них быстрее всех решит домашнее задание по математике. Для этого каждый ученик зафиксировал время начала и окончания решения своей домашней работы.\n",
    "\n",
    "Вам доступен словарь data, содержащий результаты учеников. Ключом в словаре является имя ученика, а значением — кортеж, первый элемент которого — время начала решения, второй элемент — время окончания решения. Дополните приведенный ниже код, чтобы он вывел имя ученика, который затратил на решение домашнего задания меньше всего времени."
   ]
  },
  {
   "cell_type": "code",
   "execution_count": 57,
   "metadata": {},
   "outputs": [
    {
     "name": "stdout",
     "output_type": "stream",
     "text": [
      "Егор\n"
     ]
    }
   ],
   "source": [
    "from datetime import datetime\n",
    "\n",
    "data = {'Дима': ('03.11.2021 09:31:18', '03.11.2021 11:41:28'), \n",
    "        'Геор': ('01.11.2021 09:03:04', '01.11.2021 12:40:35'), \n",
    "        'Анна': ('02.11.2021 04:41:54', '02.11.2021 05:39:40'), \n",
    "        'Илина': ('02.11.2021 01:36:40', '02.11.2021 04:48:27'), \n",
    "        'Герман': ('04.11.2021 07:51:19', '04.11.2021 09:53:53'), \n",
    "        'Руслан': ('01.11.2021 11:26:06', '01.11.2021 12:56:24'), \n",
    "        'Лера': ('03.11.2021 11:09:41', '03.11.2021 14:37:41'), \n",
    "        'Егор': ('03.11.2021 05:29:38', '03.11.2021 06:01:59'), \n",
    "        'Максим': ('05.11.2021 13:05:03', '05.11.2021 14:27:41'), \n",
    "        'Саша': ('03.11.2021 04:14:26', '03.11.2021 05:10:58'), \n",
    "        'Марина': ('05.11.2021 15:21:06', '05.11.2021 18:33:46')}\n",
    "\n",
    "import numpy as np\n",
    "\n",
    "dic_timestamps_delta = {key: abs(np.diff(list(map(lambda x: (datetime.timestamp(datetime.strptime(x,'%d.%m.%Y %H:%M:%S')))\n",
    "                                                    ,list(data[key])))))[0] \\\n",
    "                  for key in data}\n",
    "\n",
    "for key in dic_timestamps_delta:\n",
    "    if dic_timestamps_delta[key] == min(dic_timestamps_delta.values()):\n",
    "        print(key)"
   ]
  },
  {
   "attachments": {},
   "cell_type": "markdown",
   "metadata": {},
   "source": [
    "Дневник космонавта 🌶️\n",
    "\n",
    "Вам доступен текстовый файл diary.txt, в который космонавт записывал небольшие отчёты за день. Каждый новый отчёт он мог записать либо в начало файла, либо в середину, либо в конец. Все отчеты разделены между собой пустой строкой. Каждый новый отчёт начинается со строки с датой и временем в формате DD.MM.YYYY; HH:MM, после которой следуют события, произошедшие за указанный день:\n",
    "\n",
    "Напишите программу, которая расставляет все записи космонавта в хронологическом порядке и выводит полученный результат.\n",
    "\n",
    "\n"
   ]
  },
  {
   "attachments": {},
   "cell_type": "markdown",
   "metadata": {},
   "source": [
    "Дикий кайф:\n",
    "\n",
    "- читаем файл ЦЕЛИКОМ! непострочно\n",
    "- бьем файл в список по строкам, разделенным ДВУМЯ переходами на новую строку\n",
    "- сортируем список с ключом = дата (а дату переводим в тип datetime)\n",
    "- печатаем с переходом на новую строку\n",
    "\n"
   ]
  },
  {
   "cell_type": "code",
   "execution_count": 169,
   "metadata": {},
   "outputs": [
    {
     "name": "stdout",
     "output_type": "stream",
     "text": [
      "26.02.2008; 18:55\n",
      "I can't believe I've been up here for 3 weeks already. It's been overwhelming in so many ways.\n",
      "\n",
      "27.02.2008; 19:51\n",
      "The past three weeks have been a blur of new sensations, out-of-this-world experiences, and hard work.\n",
      "\n",
      "01.03.2008; 18:01\n",
      "The launch was amazing - very smooth - it could have been a ride at an amusement park.\n",
      "For those of us on the middeck (without windows), it was just a little shaking and rumbling, surprisingly benign.\n",
      "Of course, the G's picked up, dropped off as we pass through the maximum dynamic pressure phase (for those who know what I'm talking about), and then ramped back up again to 3 G's.\n",
      "Having recently spent some time in the Russian centrifuge to practice emergency Soyuz descents, which can hit 8 G's for up to around 40 seconds, 3 G's is easy.\n",
      "The fact that it is sustained for a few minutes makes it a little uncomfortable, but it was little more than confirmation that we're getting somewhere.\n",
      "\n",
      "02.03.2008; 17:43\n",
      "It was a great ride up. I couldn't believe that a lifetime of wishing for this was suddenly happening all in that moment.\n",
      "It was an unforgettable 8 1/2 minutes.\n",
      "\n",
      "04.03.2008; 21:59\n",
      "Adapting to zero-G has been a lot of fun.\n",
      "We had many hours of busy work to do immediately 'post insertion,' as we call it.\n",
      "Of course, as soon as I possibly could I went up to the flight deck to see the view, and wow, it was incredible.\n",
      "The first sensation of looking out the window was very disorienting. Everything seemed to be floating - me, the shuttle, and the Earth, and all in different orientations.\n",
      "\n",
      "08.03.2008; 22:03\n",
      "That next day was very busy getting the shuttle ready for the work we were going to do on the station - preparing equipment and supplies for transfer, checking out the EVA suits, maneuvering the shuttle, and learning how to do everything in zero-G.\n",
      "The best part of the initial flight was approaching the space station.\n",
      "When we first caught sight of it, the view was straight out of a science fiction movie, it was awesome.\n",
      "Usually the shuttle flies sort-of upside down and backwards - this is best for thermal radiation, communication, and micrometeoroid protection. So normally, looking up out of the overhead windows is looking straight down at the Earth, and the front windows point in the direction you just came from. For approaching the station, though, we were in a 'normal' airplane-type attitude - so wings level, Earth below, facing forward.\n",
      "The view from the cockpit of the shuttle was just staggering. You could see more than 180 degrees from the left to right side of the cockpit, and the sense of flying over the Earth in a spaceship was just incredible.\n",
      "It was at this moment that I realized what is so special about the view from up here, and it is not what I anticipated.\n",
      "\n",
      "11.03.2008; 16:13\n",
      "In an airplane, during the day, the sky is, of course, still blue, no matter how high you go.\n",
      "If you fly higher you see further, so that is not unexpected.\n",
      "But the first thing that hit me with this view was that it was daylight, we were flying over the sunlit side of the Earth, yet most of what we saw out the window was the pitch blackness of empty space.\n",
      "It didn't matter that I've seen it this way on Star Trek or any other science fiction movie a thousand times.\n",
      "Seeing so much blackness, while seeing the Earth so brightly lit, was a contrast that surprised me more than expected.\n",
      "Although we are not so far away from the Earth in this orbit, different from being in an aircraft, the sensation was of two objects, our ship and the Earth, both floating in a dark void.\n",
      "And then there was another feeling. It wasn't that the Earth looked small, in fact it looks huge - the biggest thing you've ever seen - but from here you can see its shape, its size, and you get a gut feeling of being able to measure it with your own eyes.\n",
      "It's not the view, but this feeling that goes with it, of being able to measure it, that really washed over me as we began our approach to the station.\n",
      "\n",
      "14.03.2008; 17:14\n",
      "The first sight of the station was so cool.\n",
      "If you've ever flown at night, you know how you can easily spot other aircraft.\n",
      "There are all the lights on the ground, and then if you scan the above horizon you see the lights of other aircraft.\n",
      "They are so easy to pick out because somehow you have a viewpoint that enables you to see other aircraft at your altitude (or above).\n",
      "With the Earth below and darkness above, the space station first appeared as a bright dot - clearly, or seemingly, the only other spaceship above the planet.\n",
      "It didn't take long before it started taking shape, and then it grew more and more beautiful as its details came into focus.\n",
      "Having seen all the various parts of the station in training in various countries, it was still an unbelievable image to see this massive structure cruising along at 17,500 miles per hour high above the Earth.\n",
      "It's as large as two football fields side-by-side, and seeing all the pieces together forming one coherent spaceship was very impressive.\n",
      "\n",
      "15.03.2008; 20:32\n",
      "The space station is a huge and very impressive facility that we humans have somehow managed to build.\n",
      "There's no doubt that building this space station is one of humanitys greatest achievements.\n",
      "Despite working on it for 15 years, and knowing what every part of it looks like in great detail, I felt like I was seeing it for the very first time.\n",
      "It was the real thing - not a mock-up, not a simulation, not a picture, but another spaceship, a huge one, flying in formation with us in space.\n",
      "How cool is that? Wow! Incredible. It felt like we were in a movie. What could be more cool than this?\n",
      "Well, opening the hatches and being greeted, not by space aliens, but by some of your best friends.\n",
      "\n",
      "17.03.2008; 19:09\n",
      "Just before docking, Garrett called on the radio and said, You guys have no idea how happy we are to see you.\n",
      "Arriving at my new home for the next 6 months, I felt exactly the same. How wonderful it was to meet our friends and colleagues who we have trained and traveled with for years, in this amazing place.\n",
      "Every one of the 10 of us, who spent the next 10 days on the station together, have been astronauts or cosmonauts for about 10 years (a few 8, a few others 12).\n",
      "Eight of us were still rookies prior to this mission.\n",
      "The first time I met Sergei, our commander on the station, we did a water survival course together in the Black Sea - that was 7 years ago.\n",
      "Mike Fossum, Garrett Reisman, and Ken Ham were all in my class - the 17th group selected in 1998.\n",
      "We've done everything from wilderness survival to T-38 training to field geology trips together.\n",
      "Karen Nyberg and I supported the Expedition 6 crew on the space station together - that was 3 years of traveling to/from Russia during their training, working in Mission Control as CapCom during their mission, and supporting their families, especially when the Columbia accident occurred and they were the crew who was still onboard the station. Sergei, Oleg, and I have been training together for the better part of a year, but all three of us have been training specifically for a long-duration space station mission for much longer - many years.\n",
      "Anyway, one of the really neat things about this whole adventure is that by the time you're doing it, everyone you're doing it with is a long-time friend.\n",
      "This even holds true for the folks on the ground. Every voice I've heard on the radio so far has been someone that I know.\n",
      "\n",
      "22.03.2008; 13:37\n",
      "The next 10 days were just a blur of activity.\n",
      "My role was divided mainly between robotics and EVA preparation.\n",
      "The mission was otherwise non-stop robotics using 3 different robotic arms. As you know, it all went incredibly well - exactly as planned.\n",
      "The simulations on the ground are so perfect, that it was difficult to keep in mind that something huge was actually moving out there.\n",
      "We just went through the procedures and a myriad of checks and double-checks as we always did in training. Grappling, moving and connecting large space modules were amazingly straight forward given the incredible tools we have and the army of experts on the ground who built them and know what they're doing.\n",
      "\n",
      "23.03.2008; 19:16\n",
      "The robotics was a lot of fun, and opening the Kibo (JEM - Japanese Experiment Module) and flying in there for the first time was really something.\n",
      "At first it did not have any panels or racks installed, and so we had most of the cylindrical volume open.\n",
      "It was, and still is, by far, the largest and most open volume within the station.\n",
      "For a few wild and crazy minutes we had 10 people flying around in all directions.\n",
      "Then back to work, and the next several days involved installing system and science racks, hooking everything up to cooling, power, data, air-flow, etc.\n",
      "\n",
      "25.03.2008; 23:31\n",
      "At the far end of the JEM, there are two very large, port-facing windows, which are awesome.\n",
      "Most other windows on the station point down, which is great for Earth observations and photography, but you can't get a big picture perspective from that view.\n",
      "The JEM windows face the horizon, and the views are incredible.\n",
      "No doubt I'll be spending much of my free time gazing out of those windows, looking over the Earth, and just wondering what it all means.\n",
      "\n",
      "26.03.2008; 19:17\n",
      "I'm sealed inside the descent capsule of the Soyuz vehicle, while my crew-mates perform their first Russian spacewalk (EVA).\n",
      "At this moment Sergei and Oleg are in their spacesuits and going through their checkouts before opening the hatch.\n",
      "\n",
      "02.04.2008; 17:52\n",
      "Why am I in the Soyuz? Well, the Soyuz is docked to the Russian docking compartment, and this is the module from which they need to depress and repress for the EVA.\n",
      "Since the Soyuz is our rescue vehicle, I need to be able to reach it in case of an emergency.\n",
      "During the EVA the docking compartment will be at vacuum, so if I stayed on the station, there would be a vacuum between me and the rescue vehicle.\n",
      "So the result is that I had to move from the voluminous and comfortable space station to the incredibly compact descent capsule.\n",
      "\n",
      "03.04.2008; 18:22\n",
      "So it is me plus three spacesuits (of the re-entry type, not spacewalking type) and a ton of other stuff that they wanted us to have with us in case of an emergency.\n",
      "Should there be some kind of serious problem during the EVA, such as not being able to repressurize the docking compartment, the idea is that they would enter the Soyuz upper compartment, and they would repressurize within the Soyuz.\n",
      "In that case we would still be all together and could leave the Space station, re-dock to another docking port, and/or return to Earth if the situation called for that.\n",
      "So to prepare for this remote possibility, we just finished closing all the hatches within the station, isolating all the modules from each other, and otherwise did a long list of tasks that give the ground the greatest flexibility in managing the station in the case that there is no crew onboard for a while.\n",
      "My greatest concern right now is just that the EVA goes smoothly and safely, and that we can get back into the station when it's all over.\n",
      "\n",
      "04.04.2008; 18:55\n",
      "With all the extra stuff in the Soyuz descent module, I have just enough room to be wedged between the control panel and the seats.\n",
      "Lying across the 3 seats, I still cant straighten my legs (but almost).\n",
      "I have the 3 suits in the 3 seats, plus I have a huge extra bag of supplies and equipment.\n",
      "\n",
      "05.04.2008; 16:17\n",
      "Obviously, Ive got a laptop computer.\n",
      "I also have some extra batteries, some food and water, extra clothes because it gets cold in here, a camera, a book, and, most importantly, Ive got several episodes of Star Trek and StarGate I on my computer to watch.\n",
      "So this is my plan... I'm going to watch the world go by out the window and watch Star Trek on my laptop.\n",
      "That way, I can marvel at our planet and our existence, while dreaming of the future. What could be better than that!?\n",
      "\n",
      "07.04.2008; 20:20\n",
      "OK, 4 hours later now, and on my 3rd of 5 laptop batteries.\n",
      "Ive got a great setup here. I need to keep the headset on to talk to Mission Control in Moscow if needed (and to answer their calls).\n",
      "But Ive got my ear-buds under the headset and hooked up to my portable media player.\n",
      "So at the moment I'm listening to some great jazz music.\n",
      "What a great feeling it is to be here! I was going to say that it seems like Gods view of everything we know, but actually, the grandeur of this view might be attributed more to its simplicity or purity.\n",
      "\n",
      "09.04.2008; 17:31\n",
      "The sky is pitch black, as black as black can get, and this is immediately adjacent to the sunlit Earth, which is so bright you can hardly look at it.\n",
      "The ocean is a rich and bright blue. The clouds form bright white and artistic patterns on a continental scale.\n",
      "The shorelines seem like theyve been drawn freehand and are everywhere, very sharp boundaries between brown and blue.\n",
      "The scale of everything and the clarity are just overwhelming and so beautiful.\n",
      "On the other hand, there is so much beauty and complexity that you cannot see from here.\n",
      "The contrast between the view and the detail is striking.\n",
      "There is this immense wonder of nature below me, but hidden within it is the complexity of the civilization that it must host in order to create my current situation.\n",
      "The history and culture and knowledge and infrastructure and technology that is required to somehow put me here at this particular window listening to great jazz – there is no way to even begin to appreciate the richness and complexity we have down there without swooping all the way down and being equally overwhelmed by the variety of life, culture, cities, arts, science and machinery that we humans somehow developed from the pure Earth, air, water, and fire (the sun) seen from here.\n",
      "\n",
      "11.04.2008; 22:46\n",
      "The Soyuz vehicle is shaking back and forth and I see some sunlit particles flying off into space.\n",
      "It must be Sergei and Oleg climbing around on the outside.\n",
      "They are cutting away a part of the micrometeoroid and thermal protection blanket to access one of the pyro bolts that may have been the source of the problem with the last Soyuz re-entry.\n",
      "One of their tasks is to remove one of these bolts and bring it inside.\n",
      "Their work today may help the Control Center in Moscow understand what is going on with these pyro bolts, and it may also hopefully prevent a similar incident with this Soyuz when they ride it home in October.\n",
      "Its cool to see these small pieces float away, but on the other hand, I know that these are new pieces of debris that are moving at 28,000 km/hr, and unless they happen to be in exactly your orbit, they can hit you with a good fraction of that velocity.\n",
      "\n",
      "12.04.2008; 21:38\n",
      "My 3rd battery is about to quit.\n",
      "Its actually a really cool feeling to be isolated in this capable little spacecraft, looking out over the Earth, while typing this journal.\n",
      "I wish my office had a view like this (although it does have the advantage of a bathroom down the hall!).\n",
      "\n",
      "13.04.2008; 22:15\n",
      "All is peaceful and quiet on the Station and seemingly on Earth.\n",
      "There's a continuous humming sound onboard, which is only really noticeable at a time like this.\n",
      "It's reassuring somehow. It feels like the hum of an engine running and I always have to fight the sensation that this background noise is something that keeps us speeding along through space.\n",
      "Actually, it is just the sound of fans that are continuously circulating the air.\n",
      "We're so accustomed to the idea that an engine must be running to keep a vehicle going, that the explanation for the sound is practically a subconscious response.\n",
      "I found out how deeply I'm connected to this sound when the other night I woke up because it stopped.\n",
      "I would have never thought it possible to wake me up by turning off a noise. That was yesterday and it was a very difficult day for us.\n",
      "On the very last operational day of Expedition 17 we found ourselves on a Space Station in survival mode.\n",
      "\n",
      "15.04.2008; 15:53\n",
      "I guess it was Murphy's Law's way of making sure we got to see it all during our mission. Two days ago we lost the liquid separator pump for our toilet.\n",
      "At first, it didn't seem to be a similar problem to what had happened before I arrived over 4 months ago.\n",
      "My colleagues configured the Soyuz vehicle facilities to support us in the meantime, but there's a maximum of a two-day capacity there.\n",
      "That same night one of the relay channels failed on the Russian segment, which resulted in a cascade of failures that I believe explains why some faulty smoke detector signals went off, thus shutting down all the air circulation, oxygen generation, CO2 scrubbing, and impurity removal.\n",
      "This is an automatic response to prevent a fire from spreading.\n",
      "At the same time, some aspect of the original failure caused a loss of other systems that resulted in the transition to survival mode.\n",
      "We're actually still waiting to hear details about what happened. Fortunately, it isn't that big of a deal to be in survival mode.\n",
      "We can operate onboard for quite some time in this mode, and it doesn't necessarily imply a potential evacuation. However, that depends on what the problem is.\n",
      "We heard a lot of sirens and alarms for many hours. Houston and Moscow were extremely busy all day recovering.\n",
      "The whole situation started in the very early morning but everything was back to normal by the end of the day, including the bathroom facilities (after putting in a new separator).\n",
      "All in a day's work for the Control Centers.\n",
      "\n",
      "17.04.2008; 23:11\n",
      "We celebrated the end of Expedition 17 that night by hosting a party for the whole Houston team.\n",
      "This was in the planning for a while and it was great to be able to thank and congratulate the team on all their great work for the past 6 months.\n",
      "It's been a very successful mission and has gone very smoothly.\n",
      "The installation of the new Japanese module, and the subsequent work to get the laboratory completely out-fitted and operational for science, was a huge accomplishment for the team (and for Japan).\n",
      "Being part of this team and this crew has been an amazing and rewarding experience.\n",
      "I'm going to miss my crewmates and the ground team that I've gotten to know so well, once we hand-over to the Expedition 18 team.\n",
      "\n",
      "20.04.2008; 17:08\n",
      "It's a few days later now and three new guys should be docking with us on the Station in 9 hours.\n",
      "This weekend has been a whirlwind of activity trying to prepare the Station and ourselves for the 10 days ahead.\n",
      "The Station is about as clean as it's going to get. It's been chaos recently because we've been relocating racks from one module to another for a few weeks.\n",
      "Each of these moves involved relocating a ton of temporarily stowed or configured things like laptops, handrails, hoses, wires, and a hundred other devices and tools and notes that were there (usually) for a reason.\n",
      "The goal was to prepare the Station for the arrival of some new racks with the Space Shuttle in about a month. Water recycling equipment, new crew quarters, a galley and a hygiene station are among the new racks that are coming up. With the new equipment, the Station will be able to support a long duration crew of 6 beginning in the Spring of 2009.\n",
      "In the meantime we have a few new large gaps of open space, which means there's suddenly an opportunity to do some advanced acrobatics. Our celebration of the last night (with just the three of us) was to take some video of us enjoying this new empty space as we performed daring stunts of acrobatic flying, while trying not to break anything (including our heads).\n",
      "If you've ever seen that footage of the SkyLab astronauts trying to run in a circle around the inner circumference of their module, then you get the idea.\n",
      "We only had two sides open, so it was more like jumping between two trampolines that faced each other, but it was a lot of fun.\n",
      "\n",
      "21.04.2008; 16:17\n",
      "The next 10 days will undoubtedly be extremely busy, fun, and exhausting. We'll basically skip next weekend and rest again after my current roommates depart.\n",
      "I asked them today if they are ready to go home, and the answer was a resounding YES.\n",
      "They are very excited that their mission was very successful and is coming to its conclusion.\n",
      "They both have kids at home and are really looking forward to being with their families. But they are also holding their breath to some extent.\n",
      "First we need a successful docking of the new guys.\n",
      "Once they're onboard, I think that Sergei and Oleg will have confidence that they will, in fact, be leaving soon.\n",
      "It will be the same for me when the Space Shuttle launches in about a month's time. Until it actually gets off the ground, arrives here, and performs a successful docking, you just never know.\n",
      "\n",
      "24.04.2008; 15:17\n",
      "I've had mixed feelings about the change that is about to happen onboard.\n",
      "Despite the fact that our view out the window is so grand, our entire living universe is limited to the inside volume of the Station.\n",
      "Things have gone really well here for 135 days, and the friendship I have with Sergei and Oleg is the bond of a lifetime.\n",
      "Things are comfortable as they are; I know where everything is; and by now I have a good sense of how to get things done a certain way.\n",
      "It feels late in my mission to start again with a new crew and a new team. But that's just the way it works.\n",
      "In one way I think I'm very lucky about the timing of this. Historically, the 3rd quarter of previous expeditions of all kinds has tended to be the most difficult to endure.\n",
      "For me, this time is rich with major events and activity, not to mention the energy and enthusiasm that the new guys will have when they get here.\n",
      "By the time I might start feeling weary, the Space Shuttle mission will be upon us.\n",
      "So as I go to bed tonight, I'm really looking forward to an exciting day tomorrow.\n",
      "We'll be two very happy crews for us, the pleasure of welcoming our friends and colleagues onboard (the first other people we will have seen in 4 months), and for them the excitement of blasting into space, docking with an incredible Space Station, only to be greeted at the door by their friends.\n",
      "One of the most amazing things about being here is that by the time you arrive, the people you are sharing the experience with are close friends.\n",
      "After all the training we've all been through over the years, and including our space flight participant Richard Garriott, the six of us all know each other well, and it will be a great reunion.\n"
     ]
    }
   ],
   "source": [
    "with open('/Users/tony_builder/Documents/GitHub/studying/Python_stepic_beegeek/python for professional/diary.txt', \n",
    "          'r', encoding='utf-8') as file: \n",
    "    diary_entries = file.read().split(\"\\n\\n\")\n",
    "\n",
    "\n",
    "print(*sorted(diary_entries, key= lambda x:datetime.strptime(x[:17], '%d.%m.%Y; %H:%M')), sep='\\n\\n')"
   ]
  },
  {
   "attachments": {},
   "cell_type": "markdown",
   "metadata": {},
   "source": [
    "Функция is_available_date() 🌶️\n",
    "\n",
    "Во время визита очередного гостя сотрудникам отеля приходится проверять, доступна ли та или иная дата для бронирования номера.\n",
    "\n",
    "Реализуйте функцию is_available_date(), которая принимает два аргумента в следующем порядке:\n",
    "\n",
    "- booked_dates — список строковых дат, недоступных для бронирования. Элементом списка является либо одиночная дата, либо период (две даты через дефис) \n",
    "ex: ['04.11.2021', '05.11.2021-09.11.2021']\n",
    "\n",
    "- date_for_booking — одиночная строковая дата или период (две даты через дефис), на которую гость желает забронировать номер \n",
    "ex: '01.11.2021' или '01.11.2021-04.11.2021'\n",
    "\n",
    "Функция is_available_date() должна возвращать True, если дата или период date_for_booking полностью доступна для бронирования. В противном случае функция должна возвращать False."
   ]
  },
  {
   "cell_type": "code",
   "execution_count": 204,
   "metadata": {},
   "outputs": [
    {
     "data": {
      "text/plain": [
       "[datetime.date(1992, 10, 12),\n",
       " datetime.date(1992, 10, 13),\n",
       " datetime.date(1992, 10, 14),\n",
       " datetime.date(1992, 10, 15)]"
      ]
     },
     "execution_count": 204,
     "metadata": {},
     "output_type": "execute_result"
    }
   ],
   "source": [
    "# вспомогательный код - вернуть range for dates  - последовательность дат с заданными началом и концом (обе границы включены)\n",
    "\n",
    "import pandas as pd\n",
    "list(map(lambda x: x.date(),list(pd.date_range(date(1992,10,12), date(1992,10,15)))))"
   ]
  },
  {
   "cell_type": "code",
   "execution_count": 238,
   "metadata": {},
   "outputs": [
    {
     "name": "stdout",
     "output_type": "stream",
     "text": [
      "False\n"
     ]
    }
   ],
   "source": [
    "from datetime import datetime\n",
    "\n",
    "# вспомогательная функция записи и  перевода всех занятых дат в список (полная последовательность)\n",
    "# например: ['04.11.2021', '05.11.2021-09.11.2021'] = [datetime.date(2021, 11, 4),datetime.date(2021, 11, 5),datetime.date(2021, 11, 6),datetime.date(2021, 11, 7),datetime.date(2021, 11, 8),datetime.date(2021, 11, 9)]\n",
    "\n",
    "def all_booked_dates(booked_dates):\n",
    "    # сначала перезапишем список всех занятых дат в единый список\n",
    "    transf_dates1 = []\n",
    "    transf_dates2 = []\n",
    "    for dates in booked_dates:\n",
    "        if dates.__contains__('-'):\n",
    "            dates_list = dates.split('-')\n",
    "            dates_list = list(map(lambda x: datetime.strptime(x, '%d.%m.%Y'), dates_list))\n",
    "            date_start, date_end = dates_list\n",
    "            import pandas as pd\n",
    "            ranged_dates = list(map(lambda x: x.date(),list(pd.date_range(date_start, date_end))))\n",
    "            transf_dates2.extend(ranged_dates)\n",
    "            \n",
    "        else: \n",
    "            transf_date = datetime.strptime(dates, '%d.%m.%Y').date()\n",
    "            transf_dates1.append(transf_date)\n",
    "    \n",
    "    return {*transf_dates1, *transf_dates2}\n",
    "\n",
    "# вспомогательная функция перевода и желаемой даты (или последовательности дат) в список\n",
    "\n",
    "def all_dates_for_booking(some_date):\n",
    "    if some_date.__contains__('-'):\n",
    "        dates_for_booking = some_date.split('-')\n",
    "        dates_for_booking = list(map(lambda x: datetime.strptime(x, '%d.%m.%Y'), dates_for_booking))\n",
    "        date_start, date_end = dates_for_booking\n",
    "        import pandas as pd\n",
    "        dates_for_booking = list(map(lambda x: x.date(),list(pd.date_range(date_start, date_end))))\n",
    "        \n",
    "    else: dates_for_booking = [datetime.strptime(some_date, '%d.%m.%Y').date()]\n",
    "    return set(dates_for_booking)\n",
    "        \n",
    "\n",
    "def is_available_date(booked_dates, date_for_booking):\n",
    "    \n",
    "    # теперь скажем функции вернуть булево значение от пересечения двух множеств: \n",
    "    # - множество забронированных дат \n",
    "    # - множество желаемых дат \n",
    "    # Если результат непустой - то вернуть False (значит даты пересекаются, нельзя забронировать) \n",
    "    # Если результат пустой - то вернуть True (значит даты не пересекаются, можно бронить)\n",
    "    return len(all_booked_dates(booked_dates) & all_dates_for_booking(date_for_booking)) == 0\n",
    "\n",
    "dates = ['01.11.2021', '05.11.2021-09.11.2021', '12.11.2021', '15.11.2021-21.11.2021']\n",
    "some_date = '09.11.2021'\n",
    "print(is_available_date(dates, some_date))\n",
    "\n",
    " \n",
    "    "
   ]
  },
  {
   "attachments": {},
   "cell_type": "markdown",
   "metadata": {},
   "source": [
    "### Timedelta\n",
    "https://stepik.org/lesson/570050/step/1?unit=564593"
   ]
  },
  {
   "attachments": {},
   "cell_type": "markdown",
   "metadata": {},
   "source": [
    "тип timedelta внутренне хранит только сочетание days, seconds, microseconds, которые можно получить с помощью одноименных атрибутов."
   ]
  },
  {
   "cell_type": "code",
   "execution_count": 1,
   "metadata": {},
   "outputs": [
    {
     "name": "stdout",
     "output_type": "stream",
     "text": [
      "-1 day, 23:20:00\n",
      "-15 days, 23:59:50\n"
     ]
    }
   ],
   "source": [
    "from datetime import timedelta\n",
    "\n",
    "delta1 = timedelta(minutes=-40)\n",
    "delta2 = timedelta(seconds=-10, weeks=-2)\n",
    "\n",
    "print(delta1)\n",
    "print(delta2)"
   ]
  },
  {
   "attachments": {},
   "cell_type": "markdown",
   "metadata": {},
   "source": [
    "Метод total_seconds() возвращает общее количество секунд, содержащееся во временном интервале timedelta.\n",
    "\n",
    "у типа timedelta нет атрибутов hours и minutes, позволяющих получить количество часов и минут соответственно. Достать часы и минуты можно так:"
   ]
  },
  {
   "cell_type": "code",
   "execution_count": 2,
   "metadata": {},
   "outputs": [
    {
     "name": "stdout",
     "output_type": "stream",
     "text": [
      "21 days, 8:12:05\n",
      "8\n",
      "12\n"
     ]
    }
   ],
   "source": [
    "from datetime import timedelta\n",
    "\n",
    "def hours_minutes(td):\n",
    "    return td.seconds // 3600, (td.seconds // 60) % 60\n",
    "\n",
    "delta = timedelta(days=7, seconds=125, minutes=10, hours=8, weeks=2)\n",
    "\n",
    "hours, minutes = hours_minutes(delta)\n",
    "\n",
    "print(delta)\n",
    "print(hours)\n",
    "print(minutes)"
   ]
  },
  {
   "attachments": {},
   "cell_type": "markdown",
   "metadata": {},
   "source": [
    "Рассмотрим следующую задачу: рабочая смена длится \n",
    "7 часов 30 минут, \n",
    "\n",
    "сколько полных смен в 3-х сутках?"
   ]
  },
  {
   "attachments": {},
   "cell_type": "markdown",
   "metadata": {},
   "source": [
    "Таким образом, в \n",
    "3-х сутках помещается \n",
    "9 полных смен и еще останется \n",
    "4 часа \n",
    "30 минут."
   ]
  },
  {
   "cell_type": "code",
   "execution_count": 3,
   "metadata": {},
   "outputs": [
    {
     "name": "stdout",
     "output_type": "stream",
     "text": [
      "9\n",
      "4:30:00\n"
     ]
    }
   ],
   "source": [
    "from datetime import timedelta\n",
    "\n",
    "all_time = timedelta(days=3)\n",
    "smena = timedelta(hours=7, minutes=30)\n",
    "\n",
    "print(all_time // smena)\n",
    "print(all_time % smena)"
   ]
  },
  {
   "attachments": {},
   "cell_type": "markdown",
   "metadata": {},
   "source": [
    "ПРибавление временных интервалов"
   ]
  },
  {
   "cell_type": "code",
   "execution_count": 4,
   "metadata": {},
   "outputs": [
    {
     "name": "stdout",
     "output_type": "stream",
     "text": [
      "2021-01-09 13:15:20\n",
      "2020-12-24 11:15:20\n",
      "2021-01-03\n",
      "2020-12-30\n"
     ]
    }
   ],
   "source": [
    "from datetime import datetime, date, timedelta\n",
    "\n",
    "my_datetime1 = datetime(2021, 1, 1, 12, 15, 20) + timedelta(weeks=1, hours=25)\n",
    "my_datetime2 = datetime(2021, 1, 1, 12, 15, 20) - timedelta(weeks=1, hours=25)\n",
    "\n",
    "my_date1 = date(2021, 1, 1) + timedelta(hours=49)\n",
    "my_date2 = date(2021, 1, 1) - timedelta(hours=49)\n",
    "\n",
    "print(my_datetime1, my_datetime2, my_date1, my_date2, sep='\\n')"
   ]
  },
  {
   "attachments": {},
   "cell_type": "markdown",
   "metadata": {},
   "source": [
    "### Задачи"
   ]
  },
  {
   "cell_type": "code",
   "execution_count": 6,
   "metadata": {},
   "outputs": [
    {
     "name": "stdout",
     "output_type": "stream",
     "text": [
      "12.11.2021 01:06:00\n"
     ]
    }
   ],
   "source": [
    "from datetime import datetime, timedelta\n",
    "\n",
    "dt = datetime(2021, 11, 4, 13, 6) + timedelta(weeks=1, hours=12)\n",
    "\n",
    "print(dt.strftime('%d.%m.%Y %H:%M:%S'))"
   ]
  },
  {
   "attachments": {},
   "cell_type": "markdown",
   "metadata": {},
   "source": [
    "        Предыдущая и следующая даты\n",
    "        Напишите программу, которая принимает на вход дату и выводит предыдущую и следующую даты.\n",
    "\n",
    "        Формат входных данных\n",
    "        На вход программе подается дата в формате DD.MM.YYYY.\n",
    "\n",
    "        Формат выходных данных\n",
    "        Программа должна вывести предыдущую и следующую даты относительно введенной даты, каждую на отдельной строке, в формате DD.MM.YYYY."
   ]
  },
  {
   "cell_type": "code",
   "execution_count": 7,
   "metadata": {},
   "outputs": [
    {
     "name": "stdout",
     "output_type": "stream",
     "text": [
      "03.11.2021\n",
      "05.11.2021\n"
     ]
    }
   ],
   "source": [
    "def prev_next_dates(some_date):\n",
    "    from datetime import datetime, timedelta\n",
    "    some_date = datetime.strptime(some_date, '%d.%m.%Y')\n",
    "    return print((some_date - timedelta(days=1)).strftime('%d.%m.%Y'),\n",
    "                 (some_date + timedelta(days=1)).strftime('%d.%m.%Y'),\n",
    "                 sep = '\\n')\n",
    "\n",
    "prev_next_dates(input())"
   ]
  },
  {
   "attachments": {},
   "cell_type": "markdown",
   "metadata": {},
   "source": [
    "        Количество секунд\n",
    "        Напишите программу, которая принимает на вход время и выводит целое количество секунд, прошедшее с начала суток.\n",
    "\n",
    "        Формат входных данных\n",
    "        На вход программе подается время в формате HH:MM:SS.\n",
    "\n",
    "        Формат выходных данных\n",
    "        Программа должна вывести целое количество секунд, прошедшее с начала суток."
   ]
  },
  {
   "cell_type": "code",
   "execution_count": 26,
   "metadata": {},
   "outputs": [
    {
     "name": "stdout",
     "output_type": "stream",
     "text": [
      "61\n"
     ]
    }
   ],
   "source": [
    "def num_sec(some_time):\n",
    "    from datetime import datetime , time, timedelta\n",
    "    some_time = datetime.strptime(some_time, '%H:%M:%S')\n",
    "    return print((some_time - datetime(1900,1,1)).seconds)\n",
    "\n",
    "num_sec(input())"
   ]
  },
  {
   "attachments": {},
   "cell_type": "markdown",
   "metadata": {},
   "source": [
    "Это решение на поиск секунд с начала суток нравится больше"
   ]
  },
  {
   "cell_type": "code",
   "execution_count": 28,
   "metadata": {},
   "outputs": [
    {
     "name": "stdout",
     "output_type": "stream",
     "text": [
      "43932\n"
     ]
    }
   ],
   "source": [
    "def num_sec(some_time):\n",
    "    from datetime import datetime , time, timedelta\n",
    "    some_time = datetime.strptime(some_time, '%H:%M:%S')\n",
    "    return print((some_time - datetime.strptime('00:00:00', '%H:%M:%S'))\\\n",
    "                 .seconds)\n",
    "\n",
    "num_sec(input())\n"
   ]
  },
  {
   "attachments": {},
   "cell_type": "markdown",
   "metadata": {},
   "source": [
    "        Таймер\n",
    "        Часы показывают время в формате HH:MM:SS. На этих часах запустили таймер, который прозвенит через \n",
    "        �\n",
    "        n секунд. Напишите программу, которое определит, какое время будет на часах, когда прозвенит таймер.\n",
    "\n",
    "        Формат входных данных\n",
    "        На вход программе в первой строке подается текущее время на часах в формате HH:MM:SS. В следующей строке вводится целое неотрицательное число \n",
    "        �\n",
    "        n — количество секунд, через которое должен прозвенеть таймер.\n",
    "\n",
    "        Формат выходных данных\n",
    "        Программа должна вывести время в формате HH:MM:SS, которое будет на часах, когда прозвенит таймер."
   ]
  },
  {
   "cell_type": "code",
   "execution_count": 32,
   "metadata": {},
   "outputs": [
    {
     "name": "stdout",
     "output_type": "stream",
     "text": [
      "09:01:30\n"
     ]
    }
   ],
   "source": [
    "def time_timer(some_time, num_seconds):\n",
    "    from datetime import datetime , time, timedelta\n",
    "    some_time = datetime.strptime(some_time, '%H:%M:%S')\n",
    "    return print((some_time + timedelta(seconds= num_seconds))\\\n",
    "                 .strftime('%H:%M:%S'))\n",
    "\n",
    "time_timer(input(), int(input()))"
   ]
  },
  {
   "attachments": {},
   "cell_type": "markdown",
   "metadata": {},
   "source": [
    "        Функция num_of_sundays()\n",
    "        Реализуйте функцию num_of_sundays(), которая принимает на вход один аргумент:\n",
    "\n",
    "        year — натуральное число, год\n",
    "        Функция должна возвращать количество воскресений в году year.\n"
   ]
  },
  {
   "cell_type": "code",
   "execution_count": 55,
   "metadata": {},
   "outputs": [
    {
     "name": "stdout",
     "output_type": "stream",
     "text": [
      "52\n"
     ]
    }
   ],
   "source": [
    "# решение через цикл + определить високосный год \n",
    "\n",
    "def num_of_sundays(year):\n",
    "    from datetime import datetime , time, timedelta\n",
    "    count = 0\n",
    "    every_day = datetime(year,1,1)\n",
    "    if every_day.weekday() == 6: count+=1\n",
    "    num_days = (365,366)[(year%4==0 and str(year)[-2:]!='00') or (year%4==0 and year%400 == 0)]\n",
    "    for i in range(1,num_days):\n",
    "        every_day += timedelta(days=1)\n",
    "        if every_day.weekday() == 6: count+=1\n",
    "    return print(count)\n",
    "\n",
    "num_of_sundays(int(input()))"
   ]
  },
  {
   "attachments": {},
   "cell_type": "markdown",
   "metadata": {},
   "source": [
    "красивое ршение - через выяснение числа недель в году:\n",
    "\n",
    "%U\t- Номер недели в году (неделя начинается с воскр.).Неделя, предшествующая первому воскресенью, является нулевой. \n",
    "\n",
    "[00, …, 53]\n"
   ]
  },
  {
   "cell_type": "code",
   "execution_count": null,
   "metadata": {},
   "outputs": [],
   "source": [
    "def num_of_sundays(year):\n",
    "    return datetime(year,12,31).strftime('%U')\n",
    "\n",
    "print(num_of_sundays(int(input())))"
   ]
  },
  {
   "attachments": {},
   "cell_type": "markdown",
   "metadata": {},
   "source": [
    "        Продуктивность\n",
    "        Артуру нужно подготовить 10 задач для нового курса \"ООП на Python\". Чтобы занятие не оказалось утомительным, он придумал правило:\n",
    "\n",
    "        если сегодня он подготовил первую задачу, то вторую он должен подготовить через один день\n",
    "        если сегодня он подготовил вторую задачу, то третью он должен подготовить через два дня\n",
    "        если сегодня он подготовил третью задачу, то четвертую он должен подготовить через три дня\n",
    "        и так далее\n",
    "        Напишите программу, которая определяет даты, в которые Артуру нужно подготовить задачи.\n",
    "\n",
    "        Формат входных данных\n",
    "        На вход программе подается дата подготовки первой задачи в формате DD.MM.YYYY."
   ]
  },
  {
   "cell_type": "code",
   "execution_count": 64,
   "metadata": {},
   "outputs": [
    {
     "name": "stdout",
     "output_type": "stream",
     "text": [
      "20.12.2021\n",
      "22.12.2021\n",
      "25.12.2021\n",
      "29.12.2021\n",
      "03.01.2022\n",
      "09.01.2022\n",
      "16.01.2022\n",
      "24.01.2022\n",
      "02.02.2022\n",
      "12.02.2022\n"
     ]
    }
   ],
   "source": [
    "def productivity_tasks(some_date):\n",
    "    from datetime import datetime , time, timedelta\n",
    "    some_date = datetime.strptime(some_date, '%d.%m.%Y')\n",
    "    tasks_days=[some_date]\n",
    "    for i in range(2,11):\n",
    "        some_date += timedelta(days= i )\n",
    "        tasks_days.append(some_date)\n",
    "    return print(*list(map(lambda x: x.strftime('%d.%m.%Y'), tasks_days)), sep ='\\n')\n",
    "\n",
    "\n",
    "productivity_tasks('20.12.2021')"
   ]
  },
  {
   "attachments": {},
   "cell_type": "markdown",
   "metadata": {},
   "source": [
    "        Соседние даты\n",
    "        Дана последовательность дат. Напишите программу, которая создает и выводит список, элементами которого являются неотрицательные целые числа — количество дней между двумя соседними датами последовательности.\n",
    "\n",
    "        Формат входных данных\n",
    "        На вход программе подается последовательность дат, разделенных пробелом, в формате DD.MM.YYYY"
   ]
  },
  {
   "cell_type": "code",
   "execution_count": 77,
   "metadata": {},
   "outputs": [
    {
     "name": "stdout",
     "output_type": "stream",
     "text": [
      "[1, 1, 1, 1]\n"
     ]
    }
   ],
   "source": [
    "def nearby_dates(dates_list):\n",
    "    import numpy as np\n",
    "    from datetime import datetime , time, timedelta\n",
    "    dates_list = list(map(lambda x: datetime.strptime(x, '%d.%m.%Y'), dates_list))\n",
    "    dates_diff_list = [np.diff([dates_list[i],dates_list[i+1] ])[0].days \\\n",
    "                       for i in range(len(dates_list)-1)]\n",
    "    return print(list(map(abs,dates_diff_list)))\n",
    "\n",
    "dates_list = input().split()\n",
    "nearby_dates(dates_list)"
   ]
  },
  {
   "attachments": {},
   "cell_type": "markdown",
   "metadata": {},
   "source": [
    "        Функция fill_up_missing_dates()\n",
    "        Реализуйте функцию fill_up_missing_dates(), которая принимает на вход один аргумент:\n",
    "\n",
    "        dates — список строковых дат в формате DD.MM.YYYY\n",
    "        Функция должна возвращать список, в котором содержатся все даты из списка dates, расположенные в порядке возрастания, а также все недостающие промежуточные даты."
   ]
  },
  {
   "cell_type": "code",
   "execution_count": 100,
   "metadata": {},
   "outputs": [
    {
     "name": "stdout",
     "output_type": "stream",
     "text": [
      "['15.11.2021', '16.11.2021', '17.11.2021', '18.11.2021', '19.11.2021', '20.11.2021']\n"
     ]
    }
   ],
   "source": [
    "def fill_up_missing_dates(dates):\n",
    "    import numpy as np\n",
    "    import pandas as pd\n",
    "    from datetime import datetime , time, timedelta\n",
    "    dates_list = sorted(map(lambda x: datetime.strptime(x, '%d.%m.%Y'), dates))\n",
    "    min_date, max_date = dates_list[0], dates_list[-1]\n",
    "\n",
    "    return list(map(lambda x: x.strftime('%d.%m.%Y'), list(pd.date_range(min_date, max_date))))\n",
    "\n",
    "dates = ['15.11.2021', '16.11.2021', '17.11.2021', '18.11.2021', '19.11.2021', '20.11.2021']\n",
    "print(fill_up_missing_dates(dates))"
   ]
  },
  {
   "attachments": {},
   "cell_type": "markdown",
   "metadata": {},
   "source": [
    "        Реп по матеше\n",
    "        Репетитор по математике проводит занятия по 45 минут с перерывами по 10 минут. Репетитор обозначает время начала рабочего дня и время окончания рабочего дня. \n",
    "        Напишите программу, которая генерирует и выводит расписание занятий.\n",
    "\n",
    "        Формат входных данных\n",
    "        На вход программе в первой строке подается время начала рабочего дня в формате HH:MM. В следующей строке вводится время окончания рабочего дня в том же формате.\n",
    "\n",
    "        Формат выходных данных\n",
    "        Программа должна сгенерировать и вывести расписание занятий. На первой строке выводится время начала и окончания первого занятия в формате HH:MM - HH:MM, на второй строке — время начала и окончания второго занятия в том же формате, и так далее."
   ]
  },
  {
   "cell_type": "code",
   "execution_count": 106,
   "metadata": {},
   "outputs": [
    {
     "name": "stdout",
     "output_type": "stream",
     "text": [
      "11:00 - 11:45\n",
      "11:55 - 12:40\n",
      "12:50 - 13:35\n",
      "13:45 - 14:30\n",
      "14:40 - 15:25\n"
     ]
    }
   ],
   "source": [
    "def str_to_time(some_time):\n",
    "    from datetime import datetime , time, timedelta\n",
    "    return datetime.strptime(some_time, '%H:%M')\n",
    "\n",
    "def time_to_str(some_time):\n",
    "    from datetime import datetime , time, timedelta\n",
    "    return some_time.strftime('%H:%M')\n",
    "\n",
    "def lessons_shedule(day_start, day_end):\n",
    "    day_start, day_end = list(map(str_to_time, [day_start,day_end]))\n",
    "    lesson_duration = day_start + timedelta(minutes=45)\n",
    "    while lesson_duration <= day_end:\n",
    "        print(f'{time_to_str(day_start)} - {time_to_str(lesson_duration)}')\n",
    "        day_start = lesson_duration + timedelta(minutes=10)\n",
    "        lesson_duration = day_start + timedelta(minutes=45)\n",
    "\n",
    "lessons_shedule('11:00', '15:30')\n",
    "\n",
    "\n"
   ]
  },
  {
   "attachments": {},
   "cell_type": "markdown",
   "metadata": {},
   "source": [
    "        Узнать сколько минут в целом зашито в интервалах списка "
   ]
  },
  {
   "cell_type": "code",
   "execution_count": 6,
   "metadata": {},
   "outputs": [
    {
     "name": "stdout",
     "output_type": "stream",
     "text": [
      "545\n"
     ]
    }
   ],
   "source": [
    "from datetime import date, time, datetime, timedelta\n",
    "\n",
    "data = [('07:14', '08:46'),\n",
    "        ('09:01', '09:37'),\n",
    "        ('10:00', '11:43'),\n",
    "        ('12:13', '13:49'),\n",
    "        ('15:00', '15:19'),\n",
    "        ('15:58', '17:24'),\n",
    "        ('17:57', '19:21'),\n",
    "        ('19:30', '19:59')]\n",
    "\n",
    "def str_to_time(some_time):\n",
    "    from datetime import datetime , time, timedelta\n",
    "    return datetime.strptime(some_time, '%H:%M')\n",
    "\n",
    "\n",
    "import numpy as np\n",
    "\n",
    "data_transf = [np.diff([str_to_time(time_interval[0]),\n",
    "                       str_to_time(time_interval[1])])\\\n",
    "                        [0].seconds for time_interval in data]\n",
    "\n",
    "print(sum(data_transf)//60)"
   ]
  },
  {
   "attachments": {},
   "cell_type": "markdown",
   "metadata": {},
   "source": [
    "        Пятница 13-е\n",
    "        Докажите, что 13-е число месяца чаще всего приходится на пятницу. Напишите программу, которая вычисляет, сколько тринадцатых чисел приходится на каждый день недели в период с 01.01.0001 по 31.12.9999.\n",
    "\n",
    "        Формат входных данных\n",
    "        На вход программе ничего не подается.\n",
    "\n",
    "        Формат выходных данных\n",
    "        Программа должна вывести 7 чисел — количество тринадцатых чисел, которые приходятся на понедельник, вторник, среду, четверг, пятницу, субботу и воскресенье в период с 01.01.0001 по 31.12.9999. Числа должны быть расположены каждое на отдельной строке."
   ]
  },
  {
   "cell_type": "code",
   "execution_count": 133,
   "metadata": {},
   "outputs": [],
   "source": [
    "# функция вывода имени дня (понедельник, вторник...) для любого дня в году\n",
    "def date_to_nameday(some_date):\n",
    "    return some_date.strftime('%A')\n",
    "\n",
    "# функция проверка на високосный год\n",
    "def is_leap_year(year):\n",
    "    return (year%4==0 and str(year)[-2:]!='00') or (year%4==0 and year%400 == 0)\n",
    "\n",
    "\n",
    "# функция подсчета 13 чисел для каждого дня недели\n",
    "def num_weekdays_13(year):\n",
    "    weekdays_dic = {}\n",
    "    num_days = (365,366)[is_leap_year(year)]\n",
    "\n",
    "    for i in range(0,num_days+1):\n",
    "        day = datetime(year,1,1) + timedelta(days=i)\n",
    "        if day.day ==13 : \n",
    "            weekdays_dic[date_to_nameday(day)] = weekdays_dic.get(date_to_nameday(day), 0) + 1\n",
    " \n",
    "        else: continue\n",
    "    return weekdays_dic\n",
    "\n",
    "# функция, которая складывает значения словарей, если ключи совпадают \n",
    "# Если не совпадают - добавляет ключ со значением из текущего словаря\n",
    "def concate_dics(dic1,dic2):\n",
    "    dic3 = dic2.copy()\n",
    "    for key in dic1:\n",
    "        dic3[key] = dic2.get(key, 0) + dic1[key]\n",
    "    return dic3\n",
    "\n",
    "# функция подсчета дней недели(если они являются 13 числом) за период лет\n",
    "# начиная со стартового значения года - заканчивая последним годом\n",
    "\n",
    "def count_weekdays_13(year_start, year_end):\n",
    "    weekdays_13 =  num_weekdays_13(year_start)\n",
    "    for i in range(1,year_end):\n",
    "        current_dic = weekdays_13\n",
    "        next_dic = num_weekdays_13(i+1)\n",
    "        weekdays_13 = concate_dics(current_dic, next_dic)\n",
    "\n",
    "    return weekdays_13\n",
    "\n",
    "result_weekdays_13 = concate_dics(count_weekdays_13(1,9998), num_weekdays_13(9993))      \n",
    "# тут применяем хитрость - год 9999 предвисокосный, поэтому он аналогичен 9993 году, \n",
    "# для него считаем сколько каждого дня недели приходится на 13 число в году\n",
    "\n",
    "        "
   ]
  },
  {
   "cell_type": "code",
   "execution_count": 134,
   "metadata": {},
   "outputs": [
    {
     "data": {
      "text/plain": [
       "{'Wednesday': 17173,\n",
       " 'Saturday': 17099,\n",
       " 'Tuesday': 17124,\n",
       " 'Thursday': 17097,\n",
       " 'Sunday': 17173,\n",
       " 'Friday': 17199,\n",
       " 'Monday': 17123}"
      ]
     },
     "execution_count": 134,
     "metadata": {},
     "output_type": "execute_result"
    }
   ],
   "source": [
    "result_weekdays_13"
   ]
  },
  {
   "attachments": {},
   "cell_type": "markdown",
   "metadata": {},
   "source": [
    "Загоним все 13-е числа для каждого дня недели в dataframe"
   ]
  },
  {
   "cell_type": "code",
   "execution_count": 152,
   "metadata": {},
   "outputs": [
    {
     "data": {
      "text/html": [
       "<div>\n",
       "<style scoped>\n",
       "    .dataframe tbody tr th:only-of-type {\n",
       "        vertical-align: middle;\n",
       "    }\n",
       "\n",
       "    .dataframe tbody tr th {\n",
       "        vertical-align: top;\n",
       "    }\n",
       "\n",
       "    .dataframe thead th {\n",
       "        text-align: right;\n",
       "    }\n",
       "</style>\n",
       "<table border=\"1\" class=\"dataframe\">\n",
       "  <thead>\n",
       "    <tr style=\"text-align: right;\">\n",
       "      <th></th>\n",
       "      <th>weekday_names</th>\n",
       "      <th>number_days_in_[01.01.0001 -31.12.9999]</th>\n",
       "    </tr>\n",
       "  </thead>\n",
       "  <tbody>\n",
       "    <tr>\n",
       "      <th>6</th>\n",
       "      <td>Monday</td>\n",
       "      <td>17123</td>\n",
       "    </tr>\n",
       "    <tr>\n",
       "      <th>2</th>\n",
       "      <td>Tuesday</td>\n",
       "      <td>17124</td>\n",
       "    </tr>\n",
       "    <tr>\n",
       "      <th>0</th>\n",
       "      <td>Wednesday</td>\n",
       "      <td>17173</td>\n",
       "    </tr>\n",
       "    <tr>\n",
       "      <th>3</th>\n",
       "      <td>Thursday</td>\n",
       "      <td>17097</td>\n",
       "    </tr>\n",
       "    <tr>\n",
       "      <th>5</th>\n",
       "      <td>Friday</td>\n",
       "      <td>17199</td>\n",
       "    </tr>\n",
       "    <tr>\n",
       "      <th>1</th>\n",
       "      <td>Saturday</td>\n",
       "      <td>17099</td>\n",
       "    </tr>\n",
       "    <tr>\n",
       "      <th>4</th>\n",
       "      <td>Sunday</td>\n",
       "      <td>17173</td>\n",
       "    </tr>\n",
       "  </tbody>\n",
       "</table>\n",
       "</div>"
      ],
      "text/plain": [
       "  weekday_names  number_days_in_[01.01.0001 -31.12.9999]\n",
       "6        Monday                                    17123\n",
       "2       Tuesday                                    17124\n",
       "0     Wednesday                                    17173\n",
       "3      Thursday                                    17097\n",
       "5        Friday                                    17199\n",
       "1      Saturday                                    17099\n",
       "4        Sunday                                    17173"
      ]
     },
     "execution_count": 152,
     "metadata": {},
     "output_type": "execute_result"
    }
   ],
   "source": [
    "# составим список дней недели\n",
    "import pandas as pd\n",
    "from datetime import datetime , time, timedelta\n",
    "weekdays = list(map(lambda x : x.strftime('%A'), \n",
    "                    pd.date_range(datetime.strptime('2000-01-03', '%Y-%m-%d'), \n",
    "                                  datetime.strptime('2000-01-09', '%Y-%m-%d'))))\n",
    "\n",
    "# организуем датасэт дней недели, в котором будем считать количество каждого из дней\n",
    "weekdays_df = pd.DataFrame({'weekday_names': result_weekdays_13.keys(), \n",
    "                            'number_days_in_[01.01.0001 -31.12.9999]': result_weekdays_13.values()})\n",
    "\n",
    "# отсортируем столбец по дня недели, используя pd.Categorical\n",
    "cats = ['Monday', 'Tuesday', 'Wednesday', 'Thursday', 'Friday', 'Saturday', 'Sunday']\n",
    "weekdays_df['weekday_names']=  pd.Categorical(weekdays_df['weekday_names'], \n",
    "                                              categories= cats,  \n",
    "                                              ordered=True)\n",
    "weekdays_df = weekdays_df.sort_values('weekday_names')\n",
    "\n",
    "weekdays_df"
   ]
  },
  {
   "attachments": {},
   "cell_type": "markdown",
   "metadata": {},
   "source": [
    "### ЧИСЛО всех дней недели\n",
    "Научимся считать ВСЕ дни недели в огромном промежутке дат: сколько всего понедельников, вторников и так далее в промежутке от 0001 года до 9999 года включительно?"
   ]
  },
  {
   "attachments": {},
   "cell_type": "markdown",
   "metadata": {},
   "source": [
    "Итак, стратегия:\n",
    "1) научиться считать количество дней недели в году (понедельников, вторников... восксресений):\n",
    "- отдельно воскресений и понедельников (через удобный оператор %U и %W)\n",
    "- отдельно для оставшихся дней недели (через метод get для словарей)\n",
    "\n",
    "2) завести функцию, которая будет складывать за нас значения словарей для каждого года\n",
    "\n",
    "3) ВАЖНОЕ: полная цикличность календаря занимает 28 лет, поэтому нужен цикл для каждого года в промежутке 28 лет - итоговый результат достаточно будет умножить на количество таких периодов в промежутке от года 0001 до года 9999 включительно - составляет 9999 лет / 28 = **357 периодов** + 3 года (9997, 9998, 9999 годы)\n",
    "\n",
    "4) оставшиеся годы можно просто прогнать через функцию подсчета дней и добавить к результату"
   ]
  },
  {
   "cell_type": "code",
   "execution_count": 126,
   "metadata": {},
   "outputs": [
    {
     "data": {
      "text/plain": [
       "{'Monday': 521733,\n",
       " 'Sunday': 521733,\n",
       " 'Saturday': 523162,\n",
       " 'Tuesday': 523161,\n",
       " 'Wednesday': 523162,\n",
       " 'Thursday': 523163,\n",
       " 'Friday': 523163}"
      ]
     },
     "execution_count": 126,
     "metadata": {},
     "output_type": "execute_result"
    }
   ],
   "source": [
    "# функция вывода имени дня (понедельник, вторник...) для любого дня в году\n",
    "def date_to_nameday(some_date):\n",
    "    return some_date.strftime('%A')\n",
    "\n",
    "# число воскресений в году\n",
    "def num_of_sundays(year):\n",
    "    return datetime(year,12,31).strftime('%U')\n",
    "\n",
    "# число понедельников в году\n",
    "def num_of_mondays(year):\n",
    "    return datetime(year,12,31).strftime('%W')\n",
    "\n",
    "# функция проверка на високосный год\n",
    "def is_leap_year(year):\n",
    "    return (year%4==0 and str(year)[-2:]!='00') or (year%4==0 and year%400 == 0)\n",
    "\n",
    "# год, который предшествует високосному\n",
    "def is_prev_leap(year):\n",
    "    return is_leap_year(year+1)\n",
    "\n",
    "#год, кооторый идет следом за високосным\n",
    "def is_after_leap(year):\n",
    "    return is_leap_year(year-1)\n",
    "\n",
    "# функция подсчета числа каждого дня недели в году\n",
    "def num_weekdays(year):\n",
    "    weekdays_dic = {'Monday':int(num_of_mondays(year)), 'Sunday':int(num_of_sundays(year))}\n",
    "    num_days = (365,366)[is_leap_year(year)]\n",
    "\n",
    "    for i in range(0,num_days+1):\n",
    "        day = datetime(year,1,1) + timedelta(days=i)\n",
    "        if not day.weekday() in (0,6): \n",
    "            weekdays_dic[date_to_nameday(day)] = weekdays_dic.get(date_to_nameday(day), 0) + 1\n",
    " \n",
    "        else: continue\n",
    "    return weekdays_dic\n",
    "\n",
    "# функция, которая складывает значения словарей, если ключи совпадают \n",
    "# Если не совпадают - добавляет ключ со значением из текущего словаря\n",
    "def concate_dics(dic1,dic2):\n",
    "    dic3 = dic2.copy()\n",
    "    for key in dic1:\n",
    "        dic3[key] = dic2.get(key, 0) + dic1[key]\n",
    "    return dic3\n",
    "\n",
    "# функция подсчета дней недели за 28 лет, начиная со стартового значения года\n",
    "def count_weekdays_for_28_years(year_start):\n",
    "    weekdays_for_28_years= num_weekdays(year_start)\n",
    "    for i in range(1,28):\n",
    "        current_dic = weekdays_for_28_years\n",
    "        next_dic = num_weekdays(i+1)\n",
    "        weekdays_for_28_years = concate_dics(current_dic, next_dic)\n",
    "\n",
    "    return weekdays_for_28_years\n",
    "\n",
    "# временный результат за 28 * 357 лет\n",
    "temp_dic = {key: count_weekdays_for_28_years(year_start=1)[key] * 357 \\\n",
    "            for key in count_weekdays_for_28_years(year_start=1)}\n",
    "\n",
    "# ну и все, берем оставшиеся три года, считаем в них количество для каждого дня недели и складываем\n",
    "# тут используем хитрость - 9999 это предвисокосный год, поэтому для него аналогичный календарь - 9993 год\n",
    "result_count_weekdays_names_for_9999_years = \\\n",
    "concate_dics(\\\n",
    "    concate_dics(\\\n",
    "    concate_dics(num_weekdays(9997),num_weekdays(9998)),\n",
    "                                       num_weekdays(9993)),\n",
    "                                       temp_dic)\n",
    "\n",
    "result_count_weekdays_names_for_9999_years\n",
    "\n",
    "\n",
    "        "
   ]
  },
  {
   "cell_type": "code",
   "execution_count": 111,
   "metadata": {},
   "outputs": [
    {
     "data": {
      "text/plain": [
       "{'tuesday': 8, 'monday': 15, 'friday': 10}"
      ]
     },
     "execution_count": 111,
     "metadata": {},
     "output_type": "execute_result"
    }
   ],
   "source": [
    "# функция, которая складывает значения словарей, если ключи совпадают \n",
    "# Если не совпадают - добавляет ключ со значением из текущего словаря\n",
    "# конкатенация словарей\n",
    "\n",
    "def concate_dics(dic1,dic2):\n",
    "    dic3 = dic2.copy()\n",
    "    for key in dic1:\n",
    "        dic3[key] = dic2.get(key, 0) + dic1[key]\n",
    "    return dic3\n",
    "\n",
    "dic1 = {'monday':12, 'friday':10}\n",
    "dic2 = {'tuesday':8, 'monday':3}\n",
    "\n",
    "concate_dics(dic1,dic2)"
   ]
  },
  {
   "attachments": {},
   "cell_type": "markdown",
   "metadata": {},
   "source": [
    "### может пригодиться когда-то: какой логике подчиняются предвисокосный, регулярный, послевисокосный годы"
   ]
  },
  {
   "attachments": {},
   "cell_type": "markdown",
   "metadata": {},
   "source": [
    "1999    предвисокосный      +11\n",
    "2010    регуляр             +11\n",
    "2021    послевисокосный     +6\n",
    "2027    предвисокносный     +11\n",
    "2038    регуляр             +11\n",
    "2049    послевисокосный     +6\n",
    "2055    предвисокосный      +11\n"
   ]
  },
  {
   "attachments": {},
   "cell_type": "markdown",
   "metadata": {},
   "source": [
    "3   пред    +11\n",
    "14  регул   +11\n",
    "25  после   +6\n",
    "31  пред    +11\n",
    "42  регул"
   ]
  },
  {
   "attachments": {},
   "cell_type": "markdown",
   "metadata": {},
   "source": [
    "5   после   +6\n",
    "11  пред    +11\n",
    "22  регул   +11\n",
    "33  после   +6\n",
    "39  пред    +11\n",
    "50  регул   +11\n",
    "61  после   +6"
   ]
  },
  {
   "attachments": {},
   "cell_type": "markdown",
   "metadata": {},
   "source": [
    "2   регул   +11\n",
    "13  после   +6\n",
    "19  пред    +11\n",
    "30  регул   +11\n",
    "41  после   +6\n"
   ]
  },
  {
   "attachments": {},
   "cell_type": "markdown",
   "metadata": {},
   "source": [
    "###"
   ]
  },
  {
   "attachments": {},
   "cell_type": "markdown",
   "metadata": {},
   "source": [
    "Программа определяет количество минут до закрытия магазина (пн-пт с 9 до 21б сб-вск с 10 до 18)"
   ]
  },
  {
   "cell_type": "code",
   "execution_count": 165,
   "metadata": {},
   "outputs": [
    {
     "name": "stdout",
     "output_type": "stream",
     "text": [
      "15\n"
     ]
    }
   ],
   "source": [
    "def store_working_time(some_time):\n",
    "    from datetime import datetime, timedelta, time\n",
    "    some_time = datetime.strptime(some_time, '%d.%m.%Y %H:%M')\n",
    "    current_year, current_month, current_day = some_time.year, some_time.month, some_time.day\n",
    "    if some_time.weekday() in range(5):\n",
    "        store_closed= datetime(current_year,current_month, current_day,21,0)\n",
    "        time_left =  store_closed - some_time\n",
    "        return print(('Магазин не работает', int(time_left.seconds/60))\\\n",
    "            [some_time.hour in range(9,21)])\n",
    "    \n",
    "    else: \n",
    "        store_closed= datetime(current_year,current_month, current_day,18,0)\n",
    "        time_left =  store_closed - some_time\n",
    "        return print(('Магазин не работает', int(time_left.seconds/60))\\\n",
    "            [some_time.hour in range(10,18)])\n",
    "    \n",
    "\n",
    "store_working_time(input())\n",
    "\n"
   ]
  },
  {
   "attachments": {},
   "cell_type": "markdown",
   "metadata": {},
   "source": [
    "        Самое понятное условие\n",
    "        Даны две даты — левая и правая границы диапазона соответственно. Напишите программу, которая из этого диапазона, включая границы, выводит, начиная с даты, у которой сумма дня и месяца нечетная, каждую третью дату, только если она не понедельник и не четверг.\n",
    "\n",
    "        Формат входных данных\n",
    "        На вход программе подаются две даты в формате DD.MM.YYYY — левая и правая границы диапазона соответственно, каждая на отдельной строке. Гарантируется, что первая дата не больше второй.\n",
    "\n",
    "        Формат выходных данных\n",
    "        Программа должна из указанного диапазона, включая концы, вывести, начиная с даты, у которой сумма дня и месяца нечетная, каждую третью дату, толь"
   ]
  },
  {
   "cell_type": "code",
   "execution_count": 186,
   "metadata": {},
   "outputs": [
    {
     "name": "stdout",
     "output_type": "stream",
     "text": [
      "02.11.2021\n",
      "05.11.2021\n"
     ]
    }
   ],
   "source": [
    "def every_third_date(date1, date2):\n",
    "    import pandas as pd\n",
    "    from datetime import datetime, timedelta, time\n",
    "    date1,date2 = list(map(lambda x: datetime.strptime(x, '%d.%m.%Y'), [date1,date2]))\n",
    "    \n",
    "    date_start = date1\n",
    "    day_month_sum = date_start.day + date_start.month\n",
    "    while day_month_sum %2 ==0:\n",
    "        date_start +=timedelta(days=1)\n",
    "        day_month_sum = date_start.day + date_start.month\n",
    "\n",
    "    pre_result_date_range = [some_date for some_date in list(map(lambda x: x.date(), \n",
    "                                               list(pd.date_range(date_start, date2))))]\n",
    "    \n",
    "    result = [pre_result_date_range[i] \\\n",
    "                   for i in range(0, len(pre_result_date_range),3)]\n",
    "\n",
    "    return print(*[elem.strftime('%d.%m.%Y') for elem in result\\\n",
    "                    if elem.weekday() not in (0,3)]\n",
    "                    , sep= '\\n')\n",
    "\n",
    "every_third_date('01.11.2021', '10.11.2021')"
   ]
  },
  {
   "attachments": {},
   "cell_type": "markdown",
   "metadata": {},
   "source": [
    "        Сотрудники организации 😄\n",
    "        Дан список сотрудников организации, в котором указаны их фамилии, имена и даты рождения. Напишите программу, которая определяет самого старшего сотрудника из данного списка.\n",
    "\n",
    "        Формат входных данных\n",
    "        На вход программе в первой строке подается натуральное число \n",
    "        �\n",
    "        n — количество сотрудников, работающих в организации. В последующих \n",
    "        �\n",
    "        n строках вводятся данные о каждом сотруднике: имя, фамилия и дата рождения, разделённые пробелом. Дата рождения указывается в формате DD.MM.YYYY.\n",
    "\n",
    "        Формат выходных данных\n",
    "        Программа должна определить самого старшего сотрудника и вывести его дату рождения, имя и фамилию, разделив пробелом. Если таких сотрудников несколько, программа должна вывести их дату рождения, а также их количество, разделив пробелом."
   ]
  },
  {
   "cell_type": "code",
   "execution_count": null,
   "metadata": {},
   "outputs": [],
   "source": [
    "from datetime import datetime, timedelta, time\n",
    "staff_lst = [input() for _ in range(int(input()))]      # собраем сотрудников в список\n",
    "# находим самую раннюю дату рождения\n",
    "staff_earlier_bd = min(list(map(lambda x: datetime.strptime(x.split()[2],\n",
    "                                                             '%d.%m.%Y'),\n",
    "                                                             staff_lst)))\n",
    "# собираем всех сотрудников, имеющих эту дату\n",
    "staff_older_emp = [employee for employee in staff_lst \\\n",
    "                   if datetime.strptime(employee.split()[2],'%d.%m.%Y') == staff_earlier_bd]\n",
    "if len(staff_older_emp)>1:\n",
    "    print(f'{staff_older_emp[0].split()[2]} {len(staff_older_emp)}')\n",
    "\n",
    "else:\n",
    "    print(f'{staff_older_emp[0].split()[2]} {staff_older_emp[0].split()[0]} {staff_older_emp[0].split()[1]}')\n"
   ]
  },
  {
   "cell_type": "code",
   "execution_count": 205,
   "metadata": {},
   "outputs": [
    {
     "name": "stdout",
     "output_type": "stream",
     "text": [
      "29.04.1995 2\n"
     ]
    }
   ],
   "source": [
    "import pandas as pd\n",
    "from datetime import datetime, timedelta, time\n",
    "staff_lst = [input().split() for _ in range(int(input()))]\n",
    "\n",
    "staff_df = pd.DataFrame({'name': [staff_lst[i][0] for i in range(len(staff_lst))],\n",
    "                         'surname': [staff_lst[i][1] for i in range(len(staff_lst))],\n",
    "                          'birthday': [staff_lst[i][2] for i in range(len(staff_lst))]})\n",
    "                         \n",
    "staff_df['bd_in_dt'] = pd.to_datetime(staff_df.birthday, dayfirst=True)\n",
    "\n",
    "older_staff = staff_df[staff_df.bd_in_dt ==  staff_df.bd_in_dt.min()]\n",
    "\n",
    "def print_result(df):\n",
    "    if len(df)==1:\n",
    "        print(f'{df.birthday.values[0]} {df.name.values[0]} {df.surname.values[0]}')\n",
    "    \n",
    "    else:\n",
    "        print(f'{df.birthday.values[0]} {len(df)}')\n",
    "\n",
    "print_result(older_staff)"
   ]
  },
  {
   "attachments": {},
   "cell_type": "markdown",
   "metadata": {},
   "source": [
    "        Продолжение : Дан список сотрудников организации, в котором указаны их фамилии, имена и даты рождения. Напишите программу, которая определяет, в какую из дат родилось больше всего сотрудников.\n",
    "\n",
    "Программа должна вывести дату, в которую наибольшее количество сотрудников отмечает день рождения, в формате DD.MM.YYYY. Если таких дат несколько, программа должна вывести их все в порядке возрастания, каждую на отдельной строке, в том же формате."
   ]
  },
  {
   "cell_type": "code",
   "execution_count": 229,
   "metadata": {},
   "outputs": [
    {
     "name": "stdout",
     "output_type": "stream",
     "text": [
      "01.05.1995\n",
      "01.01.1996\n"
     ]
    }
   ],
   "source": [
    "import pandas as pd\n",
    "from datetime import datetime, timedelta, time\n",
    "#staff_lst = [input().split() for _ in range(int(input()))]\n",
    "\n",
    "staff_lst = list(map(lambda x: x.split(), \n",
    "                     ['Иван Петров 01.05.1995',\n",
    "'Петр Сергеев 29.04.1995',\n",
    "'Сергей Романов 01.01.1996',\n",
    "'Роман Григорьев 01.01.1996',\n",
    "'Григорий Иванов 01.05.1995']))\n",
    "\n",
    "staff_df = pd.DataFrame({'name': [staff_lst[i][0] for i in range(len(staff_lst))],\n",
    "                         'surname': [staff_lst[i][1] for i in range(len(staff_lst))],\n",
    "                          'birthday': [staff_lst[i][2] for i in range(len(staff_lst))]})\n",
    "                         \n",
    "staff_df['bd_in_dt'] = pd.to_datetime(staff_df.birthday, dayfirst=True)\n",
    "\n",
    "res_df = staff_df.groupby(['bd_in_dt', 'birthday'], as_index=False).\\\n",
    "        agg({'name':'count'}).\\\n",
    "        rename(columns= {'name': 'num_dates'})\n",
    "\n",
    "result = res_df[res_df.num_dates == res_df.num_dates.max() ].\\\n",
    "    sort_values('bd_in_dt').\\\n",
    "    birthday.values\n",
    "\n",
    "print(*list(result), sep='\\n')"
   ]
  },
  {
   "attachments": {},
   "cell_type": "markdown",
   "metadata": {},
   "source": [
    "        Продолжение: определить самого молодого сотрудника, празднующего свой день рождения в течение ближайших семи дней от текущей даты\n",
    "\n",
    "На вход подается текущая дата в формате DD.MM.YYYY\n",
    "\n",
    "вывести его имя и фамилию, разделив пробелом. Если таких сотрудников нет, программа должна вывести текст:\n",
    "\n",
    "Дни рождения не планируются"
   ]
  },
  {
   "cell_type": "code",
   "execution_count": 286,
   "metadata": {},
   "outputs": [
    {
     "data": {
      "text/html": [
       "<div>\n",
       "<style scoped>\n",
       "    .dataframe tbody tr th:only-of-type {\n",
       "        vertical-align: middle;\n",
       "    }\n",
       "\n",
       "    .dataframe tbody tr th {\n",
       "        vertical-align: top;\n",
       "    }\n",
       "\n",
       "    .dataframe thead th {\n",
       "        text-align: right;\n",
       "    }\n",
       "</style>\n",
       "<table border=\"1\" class=\"dataframe\">\n",
       "  <thead>\n",
       "    <tr style=\"text-align: right;\">\n",
       "      <th></th>\n",
       "      <th>name</th>\n",
       "      <th>surname</th>\n",
       "      <th>birthday</th>\n",
       "      <th>bd_in_dt</th>\n",
       "      <th>nearest_bd</th>\n",
       "    </tr>\n",
       "  </thead>\n",
       "  <tbody>\n",
       "    <tr>\n",
       "      <th>0</th>\n",
       "      <td>Иван</td>\n",
       "      <td>Петров</td>\n",
       "      <td>30.12.1995</td>\n",
       "      <td>1995-12-30</td>\n",
       "      <td>2021-12-30</td>\n",
       "    </tr>\n",
       "    <tr>\n",
       "      <th>1</th>\n",
       "      <td>Петр</td>\n",
       "      <td>Сергеев</td>\n",
       "      <td>04.01.1997</td>\n",
       "      <td>1997-01-04</td>\n",
       "      <td>2022-01-04</td>\n",
       "    </tr>\n",
       "    <tr>\n",
       "      <th>2</th>\n",
       "      <td>Сергей</td>\n",
       "      <td>Романов</td>\n",
       "      <td>03.01.1994</td>\n",
       "      <td>1994-01-03</td>\n",
       "      <td>2022-01-03</td>\n",
       "    </tr>\n",
       "    <tr>\n",
       "      <th>3</th>\n",
       "      <td>Маша</td>\n",
       "      <td>Иванова</td>\n",
       "      <td>31.12.1996</td>\n",
       "      <td>1996-12-31</td>\n",
       "      <td>2021-12-31</td>\n",
       "    </tr>\n",
       "  </tbody>\n",
       "</table>\n",
       "</div>"
      ],
      "text/plain": [
       "     name  surname    birthday   bd_in_dt nearest_bd\n",
       "0    Иван   Петров  30.12.1995 1995-12-30 2021-12-30\n",
       "1    Петр  Сергеев  04.01.1997 1997-01-04 2022-01-04\n",
       "2  Сергей  Романов  03.01.1994 1994-01-03 2022-01-03\n",
       "3    Маша  Иванова  31.12.1996 1996-12-31 2021-12-31"
      ]
     },
     "metadata": {},
     "output_type": "display_data"
    },
    {
     "name": "stdout",
     "output_type": "stream",
     "text": [
      "Петр Сергеев\n"
     ]
    }
   ],
   "source": [
    "import pandas as pd\n",
    "from datetime import datetime, timedelta, time\n",
    "\n",
    "current_date = datetime.strptime('29.12.2021', '%d.%m.%Y')\n",
    "current_year = current_date.year\n",
    "\n",
    "#staff_lst = [input().split() for _ in range(int(input()))]\n",
    "\n",
    "staff_lst = list(map(lambda x: x.split(), \n",
    "                     ['Иван Петров 30.12.1995',\n",
    "'Петр Сергеев 04.01.1997',\n",
    "'Сергей Романов 03.01.1994',\n",
    "'Маша Иванова 31.12.1996']))\n",
    "\n",
    "# создаем датасэт на основе списка сотрудников\n",
    "staff_df = pd.DataFrame({'name': [staff_lst[i][0] for i in range(len(staff_lst))],\n",
    "                         'surname': [staff_lst[i][1] for i in range(len(staff_lst))],\n",
    "                          'birthday': [staff_lst[i][2] for i in range(len(staff_lst))]})\n",
    "\n",
    "# создаем столбец дня рождения в формате datetime и меняем в столбце значение года на текущий год (map)\n",
    "staff_df['bd_in_dt'] = pd.to_datetime(staff_df.birthday, dayfirst=True)\n",
    "\n",
    "# создаем функцию поиска ближайшего дня рождения сотрудника относительно текущей даты\n",
    "def nearby_birthday(some_date):\n",
    "    res_date = datetime(year= current_year, \n",
    "                                              month= some_date.month,\n",
    "                                              day= some_date.day)\n",
    "    if res_date <= current_date:\n",
    "        res_date = datetime(year= current_year+1, \n",
    "                                              month= some_date.month,\n",
    "                                              day= some_date.day)\n",
    "    else: res_date =res_date\n",
    "    return res_date\n",
    "\n",
    "staff_df['nearest_bd'] =  staff_df.bd_in_dt.map(nearby_birthday)\n",
    "\n",
    "display(staff_df)\n",
    "\n",
    "# фильтруем датасэт по значению ближайшей даты рождения (она должна быть в промежутке от текущей даты до текущей даты +7 дней)\n",
    "res_df = staff_df[(staff_df.nearest_bd > current_date) &\\\n",
    "          (staff_df.nearest_bd <= current_date + timedelta(days=7))]\n",
    "\n",
    "if len(res_df)== 0: print('Дни рождения не планируются')\n",
    "else:           \n",
    "    print(res_df[res_df.bd_in_dt == res_df.bd_in_dt.max()].name.values[0] +' ' +\\\n",
    "      res_df[res_df.bd_in_dt == res_df.bd_in_dt.max()].surname.values[0])\n"
   ]
  },
  {
   "attachments": {},
   "cell_type": "markdown",
   "metadata": {},
   "source": [
    "для запоминания: поменять значения в столбце через функцию удобнее всего, используя map"
   ]
  },
  {
   "attachments": {},
   "cell_type": "markdown",
   "metadata": {},
   "source": [
    "        FAKE NEWS 🌶️\n",
    "        Команда BEEGEEK планирует выпустить свой новый курс 08.11.2022 ровно в 12:00. Напишите программу, которая принимает на вход текущие дату и время и определяет, сколько времени осталось до выхода курса.\n",
    "\n",
    "        Формат входных данных\n",
    "        На вход программе подаются текущие дата и время в формате DD.MM.YYYY HH:MM.\n",
    "\n",
    "        Формат выходных данных\n",
    "        Программа должна вывести текст с указанием количества дней и часов, оставшихся до выхода курса, в следующем формате:\n",
    "\n",
    "        До выхода курса осталось: <кол-во дней> дней и <кол-во часов> часов\n",
    "        Если в данном случае количество часов равно нулю, то вывести нужно только дни.\n",
    "\n",
    "        Если количество дней равно нулю, то вывести нужно только часы и минуты в следующем формате:\n",
    "\n",
    "        До выхода курса осталось: <кол-во часов> часов и <кол-во минут> минут\n",
    "        Если в данном случае количество минут равно нулю, то вывести нужно только часы. Аналогично, если количество часов равно нулю, то вывести нужно только минуты.\n",
    "\n",
    "        Если введенные дата и время больше либо равны 08.11.2022 12:00, программа должна вывести текст: \n",
    "\n",
    "        Курс уже вышел!"
   ]
  },
  {
   "cell_type": "code",
   "execution_count": 314,
   "metadata": {},
   "outputs": [
    {
     "name": "stdout",
     "output_type": "stream",
     "text": [
      "До выхода курса осталось: 357 дней и 5 часов\n",
      "До выхода курса осталось: 2 дня\n",
      "До выхода курса осталось: 1 час и 30 минут\n",
      "До выхода курса осталось: 3 часа\n",
      "До выхода курса осталось: 20 минут\n",
      "Курс уже вышел!\n"
     ]
    }
   ],
   "source": [
    "# вспомогательная функция: выбирает правильное склонение слова из кортежа вариантов слонения для разного количества\n",
    "def choose_plural(amount, declensions):\n",
    "    dic_ends_long = {'1': 0, '234': 1, '056789': 2}\n",
    "    dic_ends_sh = {('11','12','13','14'): 2}\n",
    "\n",
    "    if str(amount)[-2:] in (list(dic_ends_sh.keys())[0]): tr_index = 2\n",
    "    else: \n",
    "        for key in dic_ends_long:\n",
    "            if str(amount)[-1] in key:\n",
    "                tr_index = (dic_ends_long[key])\n",
    "                break \n",
    "    return f'{amount} {declensions[tr_index]}'\n",
    "\n",
    "def time_to_start_course(current_day):\n",
    "    from datetime import datetime, timedelta, time\n",
    "    current_day = datetime.strptime(current_day, '%d.%m.%Y %H:%M')\n",
    "    deadline = datetime.strptime('08.11.2022 12:00', '%d.%m.%Y %H:%M')\n",
    "    time_left = deadline- current_day\n",
    "\n",
    "    # виды спряжений для дней, часов, минут\n",
    "    day_decs = ('день','дня', \"дней\")\n",
    "    hours_decs = ('час','часа','часов')\n",
    "    minutes_decs = ('минута','минуты','минут')\n",
    "\n",
    "    if time_left <= timedelta(0): result = 'Курс уже вышел!'        # если текущая дата равна или больше даты выпуска\n",
    "    else:\n",
    "        days_left, hours_left = time_left.days, time_left.seconds//3600\n",
    "        minutes_left = time_left.seconds//60 - hours_left*60\n",
    "\n",
    "        if days_left ==0: \n",
    "            if hours_left == 0: dleft, d_h, hleft, h_m, mleft = '', '', '', '', choose_plural(minutes_left, minutes_decs)\n",
    "            else: \n",
    "                dleft, d_h, hleft  = '','', choose_plural(hours_left, hours_decs)\n",
    "                if minutes_left ==0 : h_m, mleft = '',''\n",
    "                else: h_m, mleft = ' и ', choose_plural(minutes_left, minutes_decs)\n",
    "            \n",
    "        else: \n",
    "            dleft = choose_plural(days_left,day_decs )\n",
    "            if hours_left == 0: d_h, hleft, h_m, mleft = '', '', '', ''\n",
    "            else: d_h, hleft, h_m, mleft = ' и ', choose_plural(hours_left, hours_decs), '', ''\n",
    "        \n",
    "        result = f'До выхода курса осталось: {dleft}{d_h}{hleft}{h_m}{mleft}'\n",
    "\n",
    "    return print(result)\n",
    "\n",
    "\n",
    "time_to_start_course('16.11.2021 06:30')\n",
    "time_to_start_course('6.11.2022 12:00')\n",
    "time_to_start_course('08.11.2022 10:30')\n",
    "time_to_start_course('08.11.2022 09:00')\n",
    "time_to_start_course('08.11.2022 11:40')\n",
    "time_to_start_course('08.11.2022 12:15')\n",
    "\n"
   ]
  },
  {
   "cell_type": "code",
   "execution_count": 304,
   "metadata": {},
   "outputs": [
    {
     "data": {
      "text/plain": [
       "1"
      ]
     },
     "execution_count": 304,
     "metadata": {},
     "output_type": "execute_result"
    }
   ],
   "source": [
    "int(12>10)"
   ]
  },
  {
   "cell_type": "code",
   "execution_count": 302,
   "metadata": {},
   "outputs": [
    {
     "name": "stdout",
     "output_type": "stream",
     "text": [
      "7380\n",
      "3\n",
      "2\n",
      "2\n"
     ]
    }
   ],
   "source": [
    "delta = (timedelta (days=2, minutes=3, hours=2) - timedelta(0))\n",
    "\n",
    "print(delta.seconds)                                # всего секунд\n",
    "print(delta.seconds//3600)                          # всего часов\n",
    "print(delta.seconds//60 - delta.seconds//3600 *60)  # всего целых \n",
    "\n",
    "print(delta.days)"
   ]
  },
  {
   "attachments": {},
   "cell_type": "markdown",
   "metadata": {},
   "source": [
    "### Теория: снова работа с модулем time (time.time)"
   ]
  },
  {
   "attachments": {},
   "cell_type": "markdown",
   "metadata": {},
   "source": [
    "            Функция monotonic()\n",
    "\n",
    "Для измерения времени выполнения программы идеально подходит функция monotonic(), доступная на всех ОС (начиная с Python 3.5), так как ее результат не зависит от корректировки системных часов.\n",
    "\n",
    "Функция monotonic_ns() похожа на monotonic(), но возвращает время в наносекундах. Работает не на всех операционных системах.\n",
    "\n",
    "Используемый таймер в функции monotonic() никогда не вернет при повторном вызове значение, которое будет меньше значения, полученного при предыдущем вызове. Это позволяет избежать многих ошибок, а также неожиданного поведения.\n",
    "\n",
    "В следующем примере демонстрируется применение функции monotonic() для получения текущего времени, чтобы в итоге выявить, как долго работал блок кода."
   ]
  },
  {
   "attachments": {},
   "cell_type": "markdown",
   "metadata": {},
   "source": [
    "        Функция perf_counter()\n",
    "        \n",
    "Для самого точного измерения времени выполнения программы следует использовать функцию perf_counter(). Данная функция использует таймер с наибольшим доступным разрешением, что делает эту функцию отличным инструментом для измерения времени выполнения кода на коротких интервалах.\n",
    "\n",
    "В следующем примере демонстрируется применение функции perf_counter() для получения текущего времени, чтобы в итоге выявить, как долго работал блок кода."
   ]
  },
  {
   "cell_type": "code",
   "execution_count": 317,
   "metadata": {},
   "outputs": [
    {
     "name": "stdout",
     "output_type": "stream",
     "text": [
      "0\n",
      "1\n",
      "2\n",
      "3\n",
      "4\n",
      "Время работы программы = 5.018258968950249\n"
     ]
    }
   ],
   "source": [
    "import time\n",
    "\n",
    "start_time = time.perf_counter()\n",
    "\n",
    "for i in range(5): \n",
    "    print(i)\n",
    "    time.sleep(1)\n",
    "\n",
    "end_time = time.perf_counter()\n",
    "\n",
    "elapsed_time = end_time - start_time\n",
    "print(f'Время работы программы = {elapsed_time}')"
   ]
  },
  {
   "attachments": {},
   "cell_type": "markdown",
   "metadata": {},
   "source": [
    "### Задачи на модуль time"
   ]
  },
  {
   "attachments": {},
   "cell_type": "markdown",
   "metadata": {},
   "source": [
    "        Функция calculate_it()\n",
    "        Реализуйте функцию calculate_it(), которая принимает один или более аргументов в следующем порядке:\n",
    "\n",
    "        func — произвольная функция\n",
    "        *args — переменное количество позиционных аргументов, каждый из которых является произвольным объектом\n",
    "        Функция должна возвращать кортеж, первым элементом которого является возвращаемое значение функции func при вызове с аргументами *args, а вторым — примерное время (в секундах), затраченное на вычисление этого значения."
   ]
  },
  {
   "cell_type": "code",
   "execution_count": 318,
   "metadata": {},
   "outputs": [
    {
     "data": {
      "text/plain": [
       "(6, 3.001417319988832)"
      ]
     },
     "execution_count": 318,
     "metadata": {},
     "output_type": "execute_result"
    }
   ],
   "source": [
    "def calculate_it(func, *args):\n",
    "    import time\n",
    "    start_time = time.perf_counter()\n",
    "\n",
    "    func_res = func(*args)\n",
    "\n",
    "    end_time = time.perf_counter()\n",
    "    elapsed_time = end_time - start_time\n",
    "\n",
    "    return (func_res, elapsed_time)\n",
    "\n",
    "def add(a, b, c):\n",
    "    time.sleep(3)\n",
    "    return a + b + c\n",
    "\n",
    "calculate_it(add, 1, 2, 3)"
   ]
  },
  {
   "attachments": {},
   "cell_type": "markdown",
   "metadata": {},
   "source": [
    "        Функция get_the_fastest_func()\n",
    "        Реализуйте функцию get_the_fastest_func(), которая принимает два аргумента в следующем порядке:\n",
    "\n",
    "        funcs — список произвольных функций\n",
    "        arg — произвольный объект\n",
    "        Функция get_the_fastest_func() должна возвращать функцию из списка funcs, которая затратила на вычисление значения при вызове с аргументом arg наименьшее количество времени."
   ]
  },
  {
   "cell_type": "code",
   "execution_count": 321,
   "metadata": {},
   "outputs": [],
   "source": [
    "def calculate_time(func, arg):\n",
    "    import time\n",
    "    start_time = time.perf_counter()\n",
    "    func_res = func(arg)\n",
    "    end_time = time.perf_counter()\n",
    "    elapsed_time = end_time - start_time\n",
    "\n",
    "    return elapsed_time\n",
    "\n",
    "def get_the_fastest_func(funcs, arg):\n",
    "    return min(funcs, key= lambda x: calculate_time(x, arg))\n"
   ]
  },
  {
   "attachments": {},
   "cell_type": "markdown",
   "metadata": {},
   "source": [
    "Рекурсивный метод вычисления факториала \n",
    "\n",
    "функция обращается сама к себе"
   ]
  },
  {
   "cell_type": "code",
   "execution_count": 319,
   "metadata": {},
   "outputs": [
    {
     "data": {
      "text/plain": [
       "120"
      ]
     },
     "execution_count": 319,
     "metadata": {},
     "output_type": "execute_result"
    }
   ],
   "source": [
    "\n",
    "def factorial_recurrent(n):                  # рекурсивная функция\n",
    "    if n == 0:\n",
    "        return 1\n",
    "    return n * factorial_recurrent(n - 1)    \n",
    "\n",
    "factorial_recurrent(5)"
   ]
  },
  {
   "attachments": {},
   "cell_type": "markdown",
   "metadata": {},
   "source": [
    "Какая из функций посчитает факториал быстрее всего?"
   ]
  },
  {
   "cell_type": "code",
   "execution_count": 331,
   "metadata": {},
   "outputs": [
    {
     "data": {
      "text/plain": [
       "'factorial'"
      ]
     },
     "execution_count": 331,
     "metadata": {},
     "output_type": "execute_result"
    }
   ],
   "source": [
    "from math import factorial                   # функция из модуля math     \n",
    "\n",
    "\n",
    "def factorial_recurrent(arg):                  # рекурсивная функция\n",
    "    if arg == 0:\n",
    "        return 1\n",
    "    return arg * factorial_recurrent(arg - 1)    \n",
    "\n",
    "\n",
    "def factorial_classic(arg):                    # итеративная функция\n",
    "    f = 1\n",
    "    for i in range(2, arg + 1):\n",
    "        f *= i\n",
    "    return f\n",
    "\n",
    "get_the_fastest_func([factorial, factorial_recurrent, factorial_classic], 5)\\\n",
    ".__name__       # удобный синтаксис для вывода ТОЛЬКО имени функции\n",
    "\n"
   ]
  },
  {
   "attachments": {},
   "cell_type": "markdown",
   "metadata": {},
   "source": [
    "Посмотрим на время, которое затратила каждая функция на вычисления"
   ]
  },
  {
   "cell_type": "code",
   "execution_count": 336,
   "metadata": {},
   "outputs": [
    {
     "data": {
      "text/plain": [
       "[('factorial', 1.5890691429376602e-06),\n",
       " ('factorial_recurrent', 4.632980562746525e-06),\n",
       " ('factorial_classic', 4.3940963223576546e-06)]"
      ]
     },
     "execution_count": 336,
     "metadata": {},
     "output_type": "execute_result"
    }
   ],
   "source": [
    "def count_func_speed(funcs, arg):\n",
    "    return list(map(lambda x: (x.__name__, \n",
    "                               (calculate_time(x, arg))), funcs))\n",
    "\n",
    "count_func_speed([factorial, factorial_recurrent, factorial_classic], 5)"
   ]
  },
  {
   "attachments": {},
   "cell_type": "markdown",
   "metadata": {},
   "source": [
    "        Какая из двух функций быстрее всего сгенерирует список чисел от 1 до 10 млн?"
   ]
  },
  {
   "cell_type": "code",
   "execution_count": 337,
   "metadata": {},
   "outputs": [
    {
     "data": {
      "text/plain": [
       "[('for_and_append', 1.6605910770595074),\n",
       " ('list_comprehension', 1.0469989809207618),\n",
       " ('range_list', 0.3962947179097682)]"
      ]
     },
     "execution_count": 337,
     "metadata": {},
     "output_type": "execute_result"
    }
   ],
   "source": [
    "def for_and_append(arg):                            # с использованием цикла for и метода append()\n",
    "    iterations = 10_000_000\n",
    "    result = []\n",
    "    for i in range(iterations):\n",
    "        result.append(i + 1)\n",
    "    return result\n",
    "        \n",
    "\n",
    "def list_comprehension(arg):                        # с использованием списочного выражения\n",
    "    iterations = 10_000_000\n",
    "    return [i + 1 for i in range(iterations)]   \n",
    "\n",
    "def range_list(arg):\n",
    "    iterations = 10_000_000\n",
    "    return list(range(1,iterations+1))\n",
    "\n",
    "count_func_speed([for_and_append, list_comprehension, range_list], arg=0)"
   ]
  },
  {
   "attachments": {},
   "cell_type": "markdown",
   "metadata": {},
   "source": [
    "### Модуль Тип данных struct_time\n",
    "для чего:  получить именованный кортеж, представляющий информацию о времени\n",
    "\n",
    "ссылка на атрибуты модуля: https://stepik.org/lesson/570055/step/15?unit=564599\n",
    "\n",
    "в них можно найти диапазоны всех имен времени (годов, месяцев, дней, ...)"
   ]
  },
  {
   "attachments": {},
   "cell_type": "markdown",
   "metadata": {},
   "source": [
    "localtime() - удобно применить, когда нужно перевести временную метку (секунды с начала эпохи 1.1.1970) в удобоваримую дату"
   ]
  },
  {
   "cell_type": "code",
   "execution_count": 357,
   "metadata": {},
   "outputs": [
    {
     "name": "stdout",
     "output_type": "stream",
     "text": [
      "Результат: time.struct_time(tm_year=2021, tm_mon=8, tm_mday=31, tm_hour=8, tm_min=31, tm_sec=58, tm_wday=1, tm_yday=243, tm_isdst=0)\n",
      "Год: 2021\n",
      "Месяц: 8\n",
      "День: 31\n",
      "Час: 8\n"
     ]
    }
   ],
   "source": [
    "import time\n",
    "\n",
    "result = time.localtime(1630387918)\n",
    "print('Результат:', result)\n",
    "print('Год:', result.tm_year)\n",
    "print('Месяц:', result.tm_mon)\n",
    "print('День:', result.tm_mday)\n",
    "print('Час:', result.tm_hour)"
   ]
  },
  {
   "attachments": {},
   "cell_type": "markdown",
   "metadata": {},
   "source": [
    "Узнать число секунд, прошедших с начала эпохи (1 января 1970) \n",
    "1) timestamp \n",
    "\n",
    "2) Функция mktime()"
   ]
  },
  {
   "cell_type": "code",
   "execution_count": 355,
   "metadata": {},
   "outputs": [
    {
     "data": {
      "text/plain": [
       "1679067702.566302"
      ]
     },
     "execution_count": 355,
     "metadata": {},
     "output_type": "execute_result"
    }
   ],
   "source": [
    "datetime.now().timestamp()"
   ]
  },
  {
   "cell_type": "code",
   "execution_count": 365,
   "metadata": {},
   "outputs": [
    {
     "name": "stdout",
     "output_type": "stream",
     "text": [
      "Локальное время в секундах: 1630377118.0\n"
     ]
    }
   ],
   "source": [
    "import time\n",
    "\n",
    "time_tuple = (2021, 8, 31, 5, 31, 58, 1, 243, 0)\n",
    "time_obj = time.mktime(time_tuple)\n",
    "print('Локальное время в секундах:', time_obj)"
   ]
  },
  {
   "cell_type": "code",
   "execution_count": 356,
   "metadata": {},
   "outputs": [
    {
     "name": "stdout",
     "output_type": "stream",
     "text": [
      "Результат: time.struct_time(tm_year=2023, tm_mon=3, tm_mday=17, tm_hour=18, tm_min=41, tm_sec=44, tm_wday=4, tm_yday=76, tm_isdst=0)\n",
      "Год: 2023\n",
      "Месяц: 3\n",
      "День: 17\n",
      "Час: 18\n"
     ]
    }
   ],
   "source": [
    "result = time.localtime(datetime.now().timestamp())\n",
    "print('Результат:', result)\n",
    "print('Год:', result.tm_year)\n",
    "print('Месяц:', result.tm_mon)\n",
    "print('День:', result.tm_mday)\n",
    "print('Час:', result.tm_hour)"
   ]
  },
  {
   "attachments": {},
   "cell_type": "markdown",
   "metadata": {},
   "source": [
    "### Модуль calendar\n"
   ]
  },
  {
   "cell_type": "code",
   "execution_count": 366,
   "metadata": {},
   "outputs": [
    {
     "name": "stdout",
     "output_type": "stream",
     "text": [
      "Monday\n",
      "Tuesday\n",
      "Wednesday\n",
      "Thursday\n",
      "Friday\n",
      "Saturday\n",
      "Sunday\n"
     ]
    }
   ],
   "source": [
    "# хороший способ сгенерировать имена всех дней недели\n",
    "\n",
    "import calendar\n",
    "day_names = [day_name for day_name in calendar.day_name]\n",
    "\n",
    "print(*day_names , sep='\\n')"
   ]
  },
  {
   "cell_type": "code",
   "execution_count": 369,
   "metadata": {},
   "outputs": [
    {
     "data": {
      "text/plain": [
       "['Monday', 'Tuesday', 'Wednesday', 'Thursday', 'Friday', 'Saturday', 'Sunday']"
      ]
     },
     "execution_count": 369,
     "metadata": {},
     "output_type": "execute_result"
    }
   ],
   "source": [
    "list(calendar.day_name)"
   ]
  },
  {
   "cell_type": "code",
   "execution_count": 375,
   "metadata": {},
   "outputs": [
    {
     "name": "stdout",
     "output_type": "stream",
     "text": [
      "['понедельник', 'вторник', 'среда', 'четверг', 'пятница', 'суббота', 'воскресенье']\n",
      "\n",
      "['Monday', 'Tuesday', 'Wednesday', 'Thursday', 'Friday', 'Saturday', 'Sunday']\n"
     ]
    }
   ],
   "source": [
    "# вывести имена всех дней недели на русском и английском\n",
    "import calendar, locale\n",
    "\n",
    "locale.setlocale(locale.LC_ALL, 'ru_RU.UTF-8')\n",
    "print(list(calendar.day_name))\n",
    "print()\n",
    "locale.setlocale(locale.LC_ALL, 'en_US.UTF-8')\n",
    "print(list(calendar.day_name))"
   ]
  },
  {
   "cell_type": "code",
   "execution_count": 374,
   "metadata": {},
   "outputs": [
    {
     "name": "stdout",
     "output_type": "stream",
     "text": [
      "['', 'января', 'февраля', 'марта', 'апреля', 'мая', 'июня', 'июля', 'августа', 'сентября', 'октября', 'ноября', 'декабря']\n",
      "\n",
      "['', 'January', 'February', 'March', 'April', 'May', 'June', 'July', 'August', 'September', 'October', 'November', 'December']\n"
     ]
    }
   ],
   "source": [
    "# вывести названия всех месяцев на русском и английском\n",
    "\n",
    "import calendar, locale\n",
    "\n",
    "locale.setlocale(locale.LC_ALL, 'ru_RU.UTF-8')\n",
    "print(list(calendar.month_name))\n",
    "print()\n",
    "\n",
    "locale.setlocale(locale.LC_ALL, 'en_US.UTF-8')\n",
    "print(list(calendar.month_name))"
   ]
  },
  {
   "attachments": {},
   "cell_type": "markdown",
   "metadata": {},
   "source": [
    "Функция leapdays()\n",
    "\n",
    "Функция leapdays(y1, y2) возвращает количество високосных лет в диапазоне от y1 до y2 (исключая), где y1 и y2 – годы.\n"
   ]
  },
  {
   "cell_type": "code",
   "execution_count": 376,
   "metadata": {},
   "outputs": [
    {
     "name": "stdout",
     "output_type": "stream",
     "text": [
      "2\n"
     ]
    }
   ],
   "source": [
    "import calendar\n",
    "\n",
    "print(calendar.leapdays(2020, 2025))"
   ]
  },
  {
   "attachments": {},
   "cell_type": "markdown",
   "metadata": {},
   "source": [
    "Функция monthrange()\n",
    "\n",
    "Функция monthrange(year, month) возвращает день недели первого дня месяца и количество дней в месяце в виде кортежа для указанного года year и месяца month."
   ]
  },
  {
   "cell_type": "code",
   "execution_count": 377,
   "metadata": {},
   "outputs": [
    {
     "name": "stdout",
     "output_type": "stream",
     "text": [
      "(5, 31)\n",
      "(2, 30)\n"
     ]
    }
   ],
   "source": [
    "import calendar\n",
    "\n",
    "print(calendar.monthrange(2022, 1))     # январь 2022 года\n",
    "print(calendar.monthrange(2021, 9))     # сентябрь 2021 года"
   ]
  },
  {
   "attachments": {},
   "cell_type": "markdown",
   "metadata": {},
   "source": [
    "Функция monthcalendar()\n",
    "\n",
    "Функция monthcalendar(year, month) возвращает матрицу, представляющую календарь на месяц. Каждая строка матрицы представляет неделю."
   ]
  },
  {
   "cell_type": "code",
   "execution_count": 380,
   "metadata": {},
   "outputs": [
    {
     "name": "stdout",
     "output_type": "stream",
     "text": [
      "0   0   1   2   3   4   5   \n",
      "6   7   8   9   10  11  12  \n",
      "13  14  15  16  17  18  19  \n",
      "20  21  22  23  24  25  26  \n",
      "27  28  29  30  0   0   0   \n",
      "\n",
      "0   0   1   2   3   4   5   \n",
      "6   7   8   9   10  11  12  \n",
      "13  14  15  16  17  18  19  \n",
      "20  21  22  23  24  25  26  \n",
      "27  28  29  30  31  0   0   \n"
     ]
    }
   ],
   "source": [
    "def print_matrix(matrix, width):\n",
    "    n=len(matrix)\n",
    "    m=len(matrix[0])\n",
    "    for r in range(n):\n",
    "        for c in range(m):\n",
    "            print(str(matrix[r][c]).ljust(width), end=' ')\n",
    "        print()\n",
    "\n",
    "import calendar\n",
    "\n",
    "print_matrix(calendar.monthcalendar(2021, 9), 3)    # сентябрь 2021\n",
    "\n",
    "print()\n",
    "\n",
    "print_matrix(calendar.monthcalendar(2023, 3), 3)    # март 2023"
   ]
  },
  {
   "attachments": {},
   "cell_type": "markdown",
   "metadata": {},
   "source": [
    "            Функция вывода на печать ЛЮБОГО календаря для любого года и месяца"
   ]
  },
  {
   "cell_type": "code",
   "execution_count": 395,
   "metadata": {},
   "outputs": [
    {
     "data": {
      "text/html": [
       "<div>\n",
       "<style scoped>\n",
       "    .dataframe tbody tr th:only-of-type {\n",
       "        vertical-align: middle;\n",
       "    }\n",
       "\n",
       "    .dataframe tbody tr th {\n",
       "        vertical-align: top;\n",
       "    }\n",
       "\n",
       "    .dataframe thead th {\n",
       "        text-align: right;\n",
       "    }\n",
       "</style>\n",
       "<table border=\"1\" class=\"dataframe\">\n",
       "  <thead>\n",
       "    <tr style=\"text-align: right;\">\n",
       "      <th></th>\n",
       "      <th>пн</th>\n",
       "      <th>вт</th>\n",
       "      <th>ср</th>\n",
       "      <th>чт</th>\n",
       "      <th>пт</th>\n",
       "      <th>сб</th>\n",
       "      <th>вс</th>\n",
       "    </tr>\n",
       "  </thead>\n",
       "  <tbody>\n",
       "    <tr>\n",
       "      <th>0</th>\n",
       "      <td></td>\n",
       "      <td></td>\n",
       "      <td>1</td>\n",
       "      <td>2</td>\n",
       "      <td>3</td>\n",
       "      <td>4</td>\n",
       "      <td>5</td>\n",
       "    </tr>\n",
       "    <tr>\n",
       "      <th>1</th>\n",
       "      <td>6</td>\n",
       "      <td>7</td>\n",
       "      <td>8</td>\n",
       "      <td>9</td>\n",
       "      <td>10</td>\n",
       "      <td>11</td>\n",
       "      <td>12</td>\n",
       "    </tr>\n",
       "    <tr>\n",
       "      <th>2</th>\n",
       "      <td>13</td>\n",
       "      <td>14</td>\n",
       "      <td>15</td>\n",
       "      <td>16</td>\n",
       "      <td>17</td>\n",
       "      <td>18</td>\n",
       "      <td>19</td>\n",
       "    </tr>\n",
       "    <tr>\n",
       "      <th>3</th>\n",
       "      <td>20</td>\n",
       "      <td>21</td>\n",
       "      <td>22</td>\n",
       "      <td>23</td>\n",
       "      <td>24</td>\n",
       "      <td>25</td>\n",
       "      <td>26</td>\n",
       "    </tr>\n",
       "    <tr>\n",
       "      <th>4</th>\n",
       "      <td>27</td>\n",
       "      <td>28</td>\n",
       "      <td>29</td>\n",
       "      <td>30</td>\n",
       "      <td>31</td>\n",
       "      <td></td>\n",
       "      <td></td>\n",
       "    </tr>\n",
       "  </tbody>\n",
       "</table>\n",
       "</div>"
      ],
      "text/plain": [
       "   пн  вт  ср  чт  пт  сб  вс\n",
       "0           1   2   3   4   5\n",
       "1   6   7   8   9  10  11  12\n",
       "2  13  14  15  16  17  18  19\n",
       "3  20  21  22  23  24  25  26\n",
       "4  27  28  29  30  31        "
      ]
     },
     "metadata": {},
     "output_type": "display_data"
    }
   ],
   "source": [
    "# любой календарь для любого месяца и года\n",
    "\n",
    "def calendar_any_date(year, month):\n",
    "    import calendar, locale\n",
    "    locale.setlocale(locale.LC_ALL, 'ru_RU.UTF-8')\n",
    "    day_names = list(calendar.day_abbr)\n",
    "    df = pd.DataFrame(data= calendar.monthcalendar(year, month), columns=day_names).\\\n",
    "                        replace({0: ' '})\n",
    "    return display(df)\n",
    "\n",
    "calendar_any_date(2023,3)"
   ]
  },
  {
   "attachments": {},
   "cell_type": "markdown",
   "metadata": {},
   "source": [
    "Функция month()\n",
    "\n",
    "Функция month(year, month, w=0, l=0) возвращает календарь на месяц в многострочной строке. Аргументами функции являются: year (год), month (месяц), w (ширина столбца даты) и l (количество строк, отводимые на неделю).\n",
    "\n",
    "   Аргументы w и l имеют значения по умолчанию, поэтому их можно не передавать явно при вызове функции."
   ]
  },
  {
   "cell_type": "code",
   "execution_count": 393,
   "metadata": {},
   "outputs": [
    {
     "name": "stdout",
     "output_type": "stream",
     "text": [
      "   September 2021\n",
      "Mo Tu We Th Fr Sa Su\n",
      "       1  2  3  4  5\n",
      " 6  7  8  9 10 11 12\n",
      "13 14 15 16 17 18 19\n",
      "20 21 22 23 24 25 26\n",
      "27 28 29 30\n",
      "\n",
      "    October 2022\n",
      "Mo Tu We Th Fr Sa Su\n",
      "                1  2\n",
      " 3  4  5  6  7  8  9\n",
      "10 11 12 13 14 15 16\n",
      "17 18 19 20 21 22 23\n",
      "24 25 26 27 28 29 30\n",
      "31\n",
      "\n",
      "         March 2023\n",
      "Mon Tue Wed Thu Fri Sat Sun\n",
      "          1   2   3   4   5\n",
      "  6   7   8   9  10  11  12\n",
      " 13  14  15  16  17  18  19\n",
      " 20  21  22  23  24  25  26\n",
      " 27  28  29  30  31\n",
      "\n",
      "     June 2021\n",
      "\n",
      "Mo Tu We Th Fr Sa Su\n",
      "\n",
      "    1  2  3  4  5  6\n",
      "\n",
      " 7  8  9 10 11 12 13\n",
      "\n",
      "14 15 16 17 18 19 20\n",
      "\n",
      "21 22 23 24 25 26 27\n",
      "\n",
      "28 29 30\n",
      "\n",
      "\n",
      "              December 2021\n",
      "\n",
      " Mon   Tue   Wed   Thu   Fri   Sat   Sun\n",
      "\n",
      "               1     2     3     4     5\n",
      "\n",
      "   6     7     8     9    10    11    12\n",
      "\n",
      "  13    14    15    16    17    18    19\n",
      "\n",
      "  20    21    22    23    24    25    26\n",
      "\n",
      "  27    28    29    30    31\n",
      "\n",
      "\n"
     ]
    }
   ],
   "source": [
    "import calendar\n",
    "\n",
    "locale.setlocale(locale.LC_ALL, 'en_US.UTF-8')\n",
    "\n",
    "print(calendar.month(2021, 9))\n",
    "print(calendar.month(2022, 10))\n",
    "print(calendar.month(2023, 3, w=3))\n",
    "print(calendar.month(2021, 6, l=2))\n",
    "print(calendar.month(2021, 12, w=5, l=2))"
   ]
  },
  {
   "attachments": {},
   "cell_type": "markdown",
   "metadata": {},
   "source": [
    "Функция calendar()\n",
    "\n",
    "Функция calendar(year, w=2, l=1, c=6, m=3) возвращает календарь на весь год в виде многострочной строки. Аргументами функции являются: year (год),  w (ширина столбца даты) и l (количество строк, отводимые на неделю), c (количество пробелов между столбцом месяца),  m (количество столбцов)."
   ]
  },
  {
   "cell_type": "code",
   "execution_count": 394,
   "metadata": {},
   "outputs": [
    {
     "name": "stdout",
     "output_type": "stream",
     "text": [
      "                                  2023\n",
      "\n",
      "      January                   February                   March\n",
      "Mo Tu We Th Fr Sa Su      Mo Tu We Th Fr Sa Su      Mo Tu We Th Fr Sa Su\n",
      "                   1             1  2  3  4  5             1  2  3  4  5\n",
      " 2  3  4  5  6  7  8       6  7  8  9 10 11 12       6  7  8  9 10 11 12\n",
      " 9 10 11 12 13 14 15      13 14 15 16 17 18 19      13 14 15 16 17 18 19\n",
      "16 17 18 19 20 21 22      20 21 22 23 24 25 26      20 21 22 23 24 25 26\n",
      "23 24 25 26 27 28 29      27 28                     27 28 29 30 31\n",
      "30 31\n",
      "\n",
      "       April                      May                       June\n",
      "Mo Tu We Th Fr Sa Su      Mo Tu We Th Fr Sa Su      Mo Tu We Th Fr Sa Su\n",
      "                1  2       1  2  3  4  5  6  7                1  2  3  4\n",
      " 3  4  5  6  7  8  9       8  9 10 11 12 13 14       5  6  7  8  9 10 11\n",
      "10 11 12 13 14 15 16      15 16 17 18 19 20 21      12 13 14 15 16 17 18\n",
      "17 18 19 20 21 22 23      22 23 24 25 26 27 28      19 20 21 22 23 24 25\n",
      "24 25 26 27 28 29 30      29 30 31                  26 27 28 29 30\n",
      "\n",
      "        July                     August                  September\n",
      "Mo Tu We Th Fr Sa Su      Mo Tu We Th Fr Sa Su      Mo Tu We Th Fr Sa Su\n",
      "                1  2          1  2  3  4  5  6                   1  2  3\n",
      " 3  4  5  6  7  8  9       7  8  9 10 11 12 13       4  5  6  7  8  9 10\n",
      "10 11 12 13 14 15 16      14 15 16 17 18 19 20      11 12 13 14 15 16 17\n",
      "17 18 19 20 21 22 23      21 22 23 24 25 26 27      18 19 20 21 22 23 24\n",
      "24 25 26 27 28 29 30      28 29 30 31               25 26 27 28 29 30\n",
      "31\n",
      "\n",
      "      October                   November                  December\n",
      "Mo Tu We Th Fr Sa Su      Mo Tu We Th Fr Sa Su      Mo Tu We Th Fr Sa Su\n",
      "                   1             1  2  3  4  5                   1  2  3\n",
      " 2  3  4  5  6  7  8       6  7  8  9 10 11 12       4  5  6  7  8  9 10\n",
      " 9 10 11 12 13 14 15      13 14 15 16 17 18 19      11 12 13 14 15 16 17\n",
      "16 17 18 19 20 21 22      20 21 22 23 24 25 26      18 19 20 21 22 23 24\n",
      "23 24 25 26 27 28 29      27 28 29 30               25 26 27 28 29 30 31\n",
      "30 31\n",
      "\n"
     ]
    }
   ],
   "source": [
    "import calendar\n",
    "\n",
    "print(calendar.calendar(2023))"
   ]
  },
  {
   "cell_type": "code",
   "execution_count": 396,
   "metadata": {},
   "outputs": [
    {
     "name": "stdout",
     "output_type": "stream",
     "text": [
      "   сентября 2021\n",
      "пн вт ср чт пт сб вс\n",
      "       1  2  3  4  5\n",
      " 6  7  8  9 10 11 12\n",
      "13 14 15 16 17 18 19\n",
      "20 21 22 23 24 25 26\n",
      "27 28 29 30\n",
      "                                  2021\n",
      "\n",
      "       января                   февраля                    марта\n",
      "пн вт ср чт пт сб вс      пн вт ср чт пт сб вс      пн вт ср чт пт сб вс\n",
      "             1  2  3       1  2  3  4  5  6  7       1  2  3  4  5  6  7\n",
      " 4  5  6  7  8  9 10       8  9 10 11 12 13 14       8  9 10 11 12 13 14\n",
      "11 12 13 14 15 16 17      15 16 17 18 19 20 21      15 16 17 18 19 20 21\n",
      "18 19 20 21 22 23 24      22 23 24 25 26 27 28      22 23 24 25 26 27 28\n",
      "25 26 27 28 29 30 31                                29 30 31\n",
      "\n",
      "       апреля                     мая                       июня\n",
      "пн вт ср чт пт сб вс      пн вт ср чт пт сб вс      пн вт ср чт пт сб вс\n",
      "          1  2  3  4                      1  2          1  2  3  4  5  6\n",
      " 5  6  7  8  9 10 11       3  4  5  6  7  8  9       7  8  9 10 11 12 13\n",
      "12 13 14 15 16 17 18      10 11 12 13 14 15 16      14 15 16 17 18 19 20\n",
      "19 20 21 22 23 24 25      17 18 19 20 21 22 23      21 22 23 24 25 26 27\n",
      "26 27 28 29 30            24 25 26 27 28 29 30      28 29 30\n",
      "                          31\n",
      "\n",
      "        июля                    августа                   сентября\n",
      "пн вт ср чт пт сб вс      пн вт ср чт пт сб вс      пн вт ср чт пт сб вс\n",
      "          1  2  3  4                         1             1  2  3  4  5\n",
      " 5  6  7  8  9 10 11       2  3  4  5  6  7  8       6  7  8  9 10 11 12\n",
      "12 13 14 15 16 17 18       9 10 11 12 13 14 15      13 14 15 16 17 18 19\n",
      "19 20 21 22 23 24 25      16 17 18 19 20 21 22      20 21 22 23 24 25 26\n",
      "26 27 28 29 30 31         23 24 25 26 27 28 29      27 28 29 30\n",
      "                          30 31\n",
      "\n",
      "      октября                    ноября                   декабря\n",
      "пн вт ср чт пт сб вс      пн вт ср чт пт сб вс      пн вт ср чт пт сб вс\n",
      "             1  2  3       1  2  3  4  5  6  7             1  2  3  4  5\n",
      " 4  5  6  7  8  9 10       8  9 10 11 12 13 14       6  7  8  9 10 11 12\n",
      "11 12 13 14 15 16 17      15 16 17 18 19 20 21      13 14 15 16 17 18 19\n",
      "18 19 20 21 22 23 24      22 23 24 25 26 27 28      20 21 22 23 24 25 26\n",
      "25 26 27 28 29 30 31      29 30                     27 28 29 30 31\n"
     ]
    }
   ],
   "source": [
    "import calendar\n",
    "\n",
    "calendar.prmonth(2021, 9)\n",
    "calendar.prcal(2021)"
   ]
  },
  {
   "attachments": {},
   "cell_type": "markdown",
   "metadata": {},
   "source": [
    "### Задачи"
   ]
  },
  {
   "attachments": {},
   "cell_type": "markdown",
   "metadata": {},
   "source": [
    "        проверить все года в списке на високосность"
   ]
  },
  {
   "cell_type": "code",
   "execution_count": 400,
   "metadata": {},
   "outputs": [
    {
     "name": "stdout",
     "output_type": "stream",
     "text": [
      "True\n",
      "False\n",
      "False\n"
     ]
    }
   ],
   "source": [
    "years = [int(input()) for _ in range(int(input()))]\n",
    "import calendar\n",
    "print(*list(map(calendar.isleap, years)),\n",
    "    sep= '\\n')\n"
   ]
  },
  {
   "attachments": {},
   "cell_type": "markdown",
   "metadata": {},
   "source": [
    "        Календарь на месяц\n",
    "        Напишите программу, которая выводит календарь на заданные год и месяц.\n",
    "\n",
    "        Формат входных данных\n",
    "        На вход программе подаются год и сокращенное название месяца на английском, разделенные пробелом.\n",
    "\n",
    "        Формат выходных данных\n",
    "        Программа должна вывести календарь на введенные год и месяц.    "
   ]
  },
  {
   "cell_type": "code",
   "execution_count": 404,
   "metadata": {},
   "outputs": [
    {
     "name": "stdout",
     "output_type": "stream",
     "text": [
      "   December 2021\n",
      "Mo Tu We Th Fr Sa Su\n",
      "       1  2  3  4  5\n",
      " 6  7  8  9 10 11 12\n",
      "13 14 15 16 17 18 19\n",
      "20 21 22 23 24 25 26\n",
      "27 28 29 30 31\n"
     ]
    }
   ],
   "source": [
    "import calendar, datetime, locale\n",
    "locale.setlocale(locale.LC_ALL, 'en_US.UTF-8')\n",
    "year,month = input().split()\n",
    "# номер месяца находим как индекс месяца в списке имен месяцев\n",
    "calendar.prmonth(int(year), list(calendar.month_abbr).index(month))     "
   ]
  },
  {
   "attachments": {},
   "cell_type": "markdown",
   "metadata": {},
   "source": [
    "        День недели\n",
    "        Напишите программу, которая определяет день недели, соответствующий заданной дате.\n",
    "\n",
    "        Формат входных данных\n",
    "        На вход программе подается дата в формате YYYY-MM-DD.\n",
    "\n",
    "        Формат выходных данных\n",
    "        Программа должна вывести полное название дня недели на английском, который соответствует введенной дате."
   ]
  },
  {
   "cell_type": "code",
   "execution_count": 411,
   "metadata": {},
   "outputs": [
    {
     "name": "stdout",
     "output_type": "stream",
     "text": [
      "Friday\n"
     ]
    }
   ],
   "source": [
    "import calendar\n",
    "from datetime import datetime\n",
    "print(calendar.day_name[datetime.strptime(input(), '%Y-%m-%d').weekday()])"
   ]
  },
  {
   "attachments": {},
   "cell_type": "markdown",
   "metadata": {},
   "source": [
    "        Количество дней 😉\n",
    "        Напишите программу, которая определяет количество дней в заданном месяце.\n",
    "\n",
    "        Формат входных данных\n",
    "        На вход программе подаются год и порядковый номер месяца (начиная с \n",
    "        1\n",
    "        1), разделенные пробелом.\n",
    "\n",
    "        Формат выходных данных\n",
    "        Программа должна вывести единственное число — количество дней в введенном месяце."
   ]
  },
  {
   "cell_type": "code",
   "execution_count": 413,
   "metadata": {},
   "outputs": [
    {
     "name": "stdout",
     "output_type": "stream",
     "text": [
      "31\n"
     ]
    }
   ],
   "source": [
    "import calendar\n",
    "year, month = input().split()\n",
    "print(calendar.monthrange(int(year), int(month))[1])"
   ]
  },
  {
   "attachments": {},
   "cell_type": "markdown",
   "metadata": {},
   "source": [
    "        Функция get_days_in_month()   \n",
    "        Реализуйте функцию get_days_in_month(), которая принимает два аргумента в следующем порядке:\n",
    "\n",
    "        year — натуральное число\n",
    "        month — полное название месяца на английском\n",
    "        Функция должна возвращать отсортированный по возрастанию список всех дат (тип date) месяца month и года year."
   ]
  },
  {
   "cell_type": "code",
   "execution_count": 416,
   "metadata": {},
   "outputs": [
    {
     "data": {
      "text/plain": [
       "[datetime.date(2021, 12, 1),\n",
       " datetime.date(2021, 12, 2),\n",
       " datetime.date(2021, 12, 3),\n",
       " datetime.date(2021, 12, 4),\n",
       " datetime.date(2021, 12, 5),\n",
       " datetime.date(2021, 12, 6),\n",
       " datetime.date(2021, 12, 7),\n",
       " datetime.date(2021, 12, 8),\n",
       " datetime.date(2021, 12, 9),\n",
       " datetime.date(2021, 12, 10),\n",
       " datetime.date(2021, 12, 11),\n",
       " datetime.date(2021, 12, 12),\n",
       " datetime.date(2021, 12, 13),\n",
       " datetime.date(2021, 12, 14),\n",
       " datetime.date(2021, 12, 15),\n",
       " datetime.date(2021, 12, 16),\n",
       " datetime.date(2021, 12, 17),\n",
       " datetime.date(2021, 12, 18),\n",
       " datetime.date(2021, 12, 19),\n",
       " datetime.date(2021, 12, 20),\n",
       " datetime.date(2021, 12, 21),\n",
       " datetime.date(2021, 12, 22),\n",
       " datetime.date(2021, 12, 23),\n",
       " datetime.date(2021, 12, 24),\n",
       " datetime.date(2021, 12, 25),\n",
       " datetime.date(2021, 12, 26),\n",
       " datetime.date(2021, 12, 27),\n",
       " datetime.date(2021, 12, 28),\n",
       " datetime.date(2021, 12, 29),\n",
       " datetime.date(2021, 12, 30),\n",
       " datetime.date(2021, 12, 31)]"
      ]
     },
     "execution_count": 416,
     "metadata": {},
     "output_type": "execute_result"
    }
   ],
   "source": [
    "def get_days_in_month(year, month):\n",
    "    import calendar,  locale\n",
    "    from datetime import datetime\n",
    "    import pandas as pd\n",
    "    \n",
    "    locale.setlocale(locale.LC_ALL, 'en_US.UTF-8')\n",
    "    month = list(calendar.month_name).index(month)\n",
    "    start = datetime(year, month,1)\n",
    "    end = datetime(year, month, calendar.monthrange(int(year), int(month))[1])\n",
    "    return sorted(map(lambda x: x.date(), pd.date_range(start,end)))\n",
    "\n",
    "get_days_in_month(2021, 'December')"
   ]
  },
  {
   "attachments": {},
   "cell_type": "markdown",
   "metadata": {},
   "source": [
    "        Функция get_all_mondays()\n",
    "        Реализуйте функцию get_all_mondays(), которая принимает один аргумент:\n",
    "\n",
    "        year — натуральное число\n",
    "        Функция должна возвращать отсортированный по возрастанию список всех дат (тип date) года year, выпадающих на понедельник."
   ]
  },
  {
   "cell_type": "code",
   "execution_count": 417,
   "metadata": {},
   "outputs": [],
   "source": [
    "def get_days_in_month(year, month):\n",
    "    month = list(calendar.month_name).index(month)\n",
    "    return [date(year, month, day) for day in range(1, calendar.monthrange(year, month)[1] + 1)]"
   ]
  },
  {
   "cell_type": "code",
   "execution_count": 418,
   "metadata": {},
   "outputs": [
    {
     "data": {
      "text/plain": [
       "[datetime.date(2021, 1, 4),\n",
       " datetime.date(2021, 1, 11),\n",
       " datetime.date(2021, 1, 18),\n",
       " datetime.date(2021, 1, 25),\n",
       " datetime.date(2021, 2, 1),\n",
       " datetime.date(2021, 2, 8),\n",
       " datetime.date(2021, 2, 15),\n",
       " datetime.date(2021, 2, 22),\n",
       " datetime.date(2021, 3, 1),\n",
       " datetime.date(2021, 3, 8),\n",
       " datetime.date(2021, 3, 15),\n",
       " datetime.date(2021, 3, 22),\n",
       " datetime.date(2021, 3, 29),\n",
       " datetime.date(2021, 4, 5),\n",
       " datetime.date(2021, 4, 12),\n",
       " datetime.date(2021, 4, 19),\n",
       " datetime.date(2021, 4, 26),\n",
       " datetime.date(2021, 5, 3),\n",
       " datetime.date(2021, 5, 10),\n",
       " datetime.date(2021, 5, 17),\n",
       " datetime.date(2021, 5, 24),\n",
       " datetime.date(2021, 5, 31),\n",
       " datetime.date(2021, 6, 7),\n",
       " datetime.date(2021, 6, 14),\n",
       " datetime.date(2021, 6, 21),\n",
       " datetime.date(2021, 6, 28),\n",
       " datetime.date(2021, 7, 5),\n",
       " datetime.date(2021, 7, 12),\n",
       " datetime.date(2021, 7, 19),\n",
       " datetime.date(2021, 7, 26),\n",
       " datetime.date(2021, 8, 2),\n",
       " datetime.date(2021, 8, 9),\n",
       " datetime.date(2021, 8, 16),\n",
       " datetime.date(2021, 8, 23),\n",
       " datetime.date(2021, 8, 30),\n",
       " datetime.date(2021, 9, 6),\n",
       " datetime.date(2021, 9, 13),\n",
       " datetime.date(2021, 9, 20),\n",
       " datetime.date(2021, 9, 27),\n",
       " datetime.date(2021, 10, 4),\n",
       " datetime.date(2021, 10, 11),\n",
       " datetime.date(2021, 10, 18),\n",
       " datetime.date(2021, 10, 25),\n",
       " datetime.date(2021, 11, 1),\n",
       " datetime.date(2021, 11, 8),\n",
       " datetime.date(2021, 11, 15),\n",
       " datetime.date(2021, 11, 22),\n",
       " datetime.date(2021, 11, 29),\n",
       " datetime.date(2021, 12, 6),\n",
       " datetime.date(2021, 12, 13),\n",
       " datetime.date(2021, 12, 20),\n",
       " datetime.date(2021, 12, 27)]"
      ]
     },
     "execution_count": 418,
     "metadata": {},
     "output_type": "execute_result"
    }
   ],
   "source": [
    "def get_all_mondays(year):\n",
    "    import calendar\n",
    "    from datetime import date\n",
    "    return [date(year, month, day) for month in range(1,13) \\\n",
    "            for day in range(1, calendar.monthrange(year, month)[1] + 1)\\\n",
    "                if date(year, month, day).weekday() == 0]\n",
    "\n",
    "get_all_mondays(2021)"
   ]
  },
  {
   "attachments": {},
   "cell_type": "markdown",
   "metadata": {},
   "source": [
    "        Во многих музеях существует один день месяца, когда посещение музея для всех лиц или отдельных категорий граждан происходит без взимания платы. Например, в Эрмитаже это третий четверг месяца.\n",
    "        программа, которая определяет даты бесплатных дней посещения Эрмитажа в заданном году."
   ]
  },
  {
   "cell_type": "code",
   "execution_count": 420,
   "metadata": {},
   "outputs": [
    {
     "name": "stdout",
     "output_type": "stream",
     "text": [
      "16.01.2020\n",
      "20.02.2020\n",
      "19.03.2020\n",
      "16.04.2020\n",
      "21.05.2020\n",
      "18.06.2020\n",
      "16.07.2020\n",
      "20.08.2020\n",
      "17.09.2020\n",
      "15.10.2020\n",
      "19.11.2020\n",
      "17.12.2020\n"
     ]
    }
   ],
   "source": [
    "def third_thursday(year):\n",
    "    import calendar\n",
    "    from datetime import date\n",
    "    third_thur_list = [date(year, month, day) for month in range(1,13) \\\n",
    "            for day in range(15, 22)\\\n",
    "                if date(year, month, day).weekday() == 3]\n",
    "    \n",
    "    return print(*list(map(lambda x: x.strftime('%d.%m.%Y'), third_thur_list )), \n",
    "                 sep= '\\n')\n",
    "\n",
    "third_thursday(2020)"
   ]
  },
  {
   "attachments": {},
   "cell_type": "markdown",
   "metadata": {},
   "source": [
    "### Модуль arrow \n",
    "\n",
    "https://pythonim.ru/moduli/arrow-python"
   ]
  },
  {
   "cell_type": "code",
   "execution_count": 439,
   "metadata": {},
   "outputs": [
    {
     "data": {
      "text/plain": [
       "<Arrow [2023-03-19T13:35:34.639073+05:00]>"
      ]
     },
     "execution_count": 439,
     "metadata": {},
     "output_type": "execute_result"
    }
   ],
   "source": [
    "import arrow\n",
    "\n",
    "arrow.now('Asia/Yekaterinburg')"
   ]
  },
  {
   "cell_type": "code",
   "execution_count": null,
   "metadata": {},
   "outputs": [],
   "source": []
  }
 ],
 "metadata": {
  "kernelspec": {
   "display_name": "Python 3",
   "language": "python",
   "name": "python3"
  },
  "language_info": {
   "codemirror_mode": {
    "name": "ipython",
    "version": 3
   },
   "file_extension": ".py",
   "mimetype": "text/x-python",
   "name": "python",
   "nbconvert_exporter": "python",
   "pygments_lexer": "ipython3",
   "version": "3.10.7"
  },
  "orig_nbformat": 4,
  "vscode": {
   "interpreter": {
    "hash": "aee8b7b246df8f9039afb4144a1f6fd8d2ca17a180786b69acc140d282b71a49"
   }
  }
 },
 "nbformat": 4,
 "nbformat_minor": 2
}
